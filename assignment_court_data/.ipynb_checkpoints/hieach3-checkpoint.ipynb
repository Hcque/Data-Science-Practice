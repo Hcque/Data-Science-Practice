{
 "cells": [
  {
   "cell_type": "code",
   "execution_count": 1,
   "metadata": {},
   "outputs": [],
   "source": [
    "import requests\n",
    "import json\n",
    "import time\n",
    "from bs4 import BeautifulSoup, Comment\n",
    "import IPython.display as display\n",
    "import pickle\n",
    "import pandas as pd\n",
    "import re"
   ]
  },
  {
   "cell_type": "markdown",
   "metadata": {},
   "source": [
    "## Roadmap"
   ]
  },
  {
   "cell_type": "code",
   "execution_count": 182,
   "metadata": {},
   "outputs": [
    {
     "name": "stdout",
     "output_type": "stream",
     "text": [
      "200\n"
     ]
    }
   ],
   "source": [
    "def url_to_root(url):\n",
    "    headers = {'Accept-Encoding': 'identity',\n",
    "               'User-Agent': 'Mozilla/5.0 (Macintosh; Intel Mac OS X 10_10_3) AppleWebKit/537.36 (KHTML, like Gecko) Chrome/54.0.2840.71 Safari/537.36'\n",
    "                }\n",
    "    response = requests.get(url, headers=headers)\n",
    "    print(response.status_code)\n",
    "    \n",
    "    root = BeautifulSoup(response.text, 'html5lib')\n",
    "    return root\n",
    "\n",
    "original_url = 'https://legalref.judiciary.hk/lrs/common/ju/judgment.jsp'\n",
    "root = url_to_root(original_url)"
   ]
  },
  {
   "cell_type": "markdown",
   "metadata": {},
   "source": [
    "## Hieachy 1: parent court categories"
   ]
  },
  {
   "cell_type": "code",
   "execution_count": 261,
   "metadata": {},
   "outputs": [
    {
     "data": {
      "text/plain": [
       "{'Court of Final Appeal': 'https://legalref.judiciary.hk/lrs/common/ju/judgment.jsp?L1=FA#H1',\n",
       " 'Court of Appeal of the High Court': 'https://legalref.judiciary.hk/lrs/common/ju/judgment.jsp?L1=CA#H2',\n",
       " 'High Court': 'https://legalref.judiciary.hk/lrs/common/ju/judgment.jsp?L1=HC#H3',\n",
       " 'Competition Tribunal': 'https://legalref.judiciary.hk/lrs/common/ju/judgment.jsp?L1=CT#H4',\n",
       " 'District Court': 'https://legalref.judiciary.hk/lrs/common/ju/judgment.jsp?L1=DC#H5',\n",
       " 'Family Court': 'https://legalref.judiciary.hk/lrs/common/ju/judgment.jsp?L1=FC#H6',\n",
       " 'Lands Tribunal': 'https://legalref.judiciary.hk/lrs/common/ju/judgment.jsp?L1=LD#H7',\n",
       " 'Miscellaneous': 'https://legalref.judiciary.hk/lrs/common/ju/judgment.jsp?L1=OT#H8'}"
      ]
     },
     "execution_count": 261,
     "metadata": {},
     "output_type": "execute_result"
    }
   ],
   "source": [
    "def parse_courts(root):\n",
    "    \"\"\"Parse the info of parent courts.\n",
    "    Args:\n",
    "        root : BeautifulSoup Object\n",
    "    Return:\n",
    "        courts_dict (dict): court -> url\n",
    "    \"\"\"\n",
    "    # get all raw infomation about courts (looks urgly)\n",
    "    info_list = root.find('script', string=re.compile(\"var myMenu\")).text.split(\"'\")\n",
    "    # find the parent courts' name inside 'span' tag\n",
    "    courts_list = [BeautifulSoup(i).find('span').text.strip(\" \") for i in info_list if i[1:5]=='span']\n",
    "    # find corresponding urls of parents courts(order matters here)\n",
    "    courts_urls = [j for j in info_list if j[:5]=='https']\n",
    "    # store to dict\n",
    "    courts_dict = {i:j for i, j in zip(courts_list, courts_urls)}\n",
    "    return courts_dict\n",
    "\n",
    "courts = parse_courts(root)\n",
    "courts"
   ]
  },
  {
   "cell_type": "code",
   "execution_count": 262,
   "metadata": {},
   "outputs": [
    {
     "data": {
      "text/html": [
       "<div>\n",
       "<style scoped>\n",
       "    .dataframe tbody tr th:only-of-type {\n",
       "        vertical-align: middle;\n",
       "    }\n",
       "\n",
       "    .dataframe tbody tr th {\n",
       "        vertical-align: top;\n",
       "    }\n",
       "\n",
       "    .dataframe thead th {\n",
       "        text-align: right;\n",
       "    }\n",
       "</style>\n",
       "<table border=\"1\" class=\"dataframe\">\n",
       "  <thead>\n",
       "    <tr style=\"text-align: right;\">\n",
       "      <th></th>\n",
       "      <th>parent_court</th>\n",
       "      <th>parent_court_url</th>\n",
       "    </tr>\n",
       "  </thead>\n",
       "  <tbody>\n",
       "    <tr>\n",
       "      <th>0</th>\n",
       "      <td>Court of Final Appeal</td>\n",
       "      <td>https://legalref.judiciary.hk/lrs/common/ju/ju...</td>\n",
       "    </tr>\n",
       "    <tr>\n",
       "      <th>1</th>\n",
       "      <td>Court of Appeal of the High Court</td>\n",
       "      <td>https://legalref.judiciary.hk/lrs/common/ju/ju...</td>\n",
       "    </tr>\n",
       "    <tr>\n",
       "      <th>2</th>\n",
       "      <td>High Court</td>\n",
       "      <td>https://legalref.judiciary.hk/lrs/common/ju/ju...</td>\n",
       "    </tr>\n",
       "    <tr>\n",
       "      <th>3</th>\n",
       "      <td>Competition Tribunal</td>\n",
       "      <td>https://legalref.judiciary.hk/lrs/common/ju/ju...</td>\n",
       "    </tr>\n",
       "    <tr>\n",
       "      <th>4</th>\n",
       "      <td>District Court</td>\n",
       "      <td>https://legalref.judiciary.hk/lrs/common/ju/ju...</td>\n",
       "    </tr>\n",
       "    <tr>\n",
       "      <th>5</th>\n",
       "      <td>Family Court</td>\n",
       "      <td>https://legalref.judiciary.hk/lrs/common/ju/ju...</td>\n",
       "    </tr>\n",
       "    <tr>\n",
       "      <th>6</th>\n",
       "      <td>Lands Tribunal</td>\n",
       "      <td>https://legalref.judiciary.hk/lrs/common/ju/ju...</td>\n",
       "    </tr>\n",
       "    <tr>\n",
       "      <th>7</th>\n",
       "      <td>Miscellaneous</td>\n",
       "      <td>https://legalref.judiciary.hk/lrs/common/ju/ju...</td>\n",
       "    </tr>\n",
       "  </tbody>\n",
       "</table>\n",
       "</div>"
      ],
      "text/plain": [
       "                        parent_court  \\\n",
       "0              Court of Final Appeal   \n",
       "1  Court of Appeal of the High Court   \n",
       "2                         High Court   \n",
       "3               Competition Tribunal   \n",
       "4                     District Court   \n",
       "5                       Family Court   \n",
       "6                     Lands Tribunal   \n",
       "7                      Miscellaneous   \n",
       "\n",
       "                                    parent_court_url  \n",
       "0  https://legalref.judiciary.hk/lrs/common/ju/ju...  \n",
       "1  https://legalref.judiciary.hk/lrs/common/ju/ju...  \n",
       "2  https://legalref.judiciary.hk/lrs/common/ju/ju...  \n",
       "3  https://legalref.judiciary.hk/lrs/common/ju/ju...  \n",
       "4  https://legalref.judiciary.hk/lrs/common/ju/ju...  \n",
       "5  https://legalref.judiciary.hk/lrs/common/ju/ju...  \n",
       "6  https://legalref.judiciary.hk/lrs/common/ju/ju...  \n",
       "7  https://legalref.judiciary.hk/lrs/common/ju/ju...  "
      ]
     },
     "execution_count": 262,
     "metadata": {},
     "output_type": "execute_result"
    }
   ],
   "source": [
    "df_courts = pd.DataFrame([(k,v) for k,v in courts.items()], columns=['parent_court', 'parent_court_url'])\n",
    "df_courts"
   ]
  },
  {
   "cell_type": "markdown",
   "metadata": {},
   "source": [
    "## Hieachy 2: sub courts"
   ]
  },
  {
   "cell_type": "code",
   "execution_count": 273,
   "metadata": {},
   "outputs": [
    {
     "name": "stdout",
     "output_type": "stream",
     "text": [
      "200\n"
     ]
    }
   ],
   "source": [
    "url =  'https://legalref.judiciary.hk/lrs/common/ju/judgment.jsp?L1=FA#H1'\n",
    "root = url_to_root(url)\n",
    "        \n",
    "# get sub courts names\n",
    "# get raw infomation\n",
    "info_list = root.find('script', string=re.compile(\"var myMenu\")).text.split(\",\")\n"
   ]
  },
  {
   "cell_type": "code",
   "execution_count": 276,
   "metadata": {},
   "outputs": [
    {
     "data": {
      "text/plain": [
       "{'Competition Tribunal',\n",
       " 'Court of Appeal of the High Court',\n",
       " 'Court of Final Appeal',\n",
       " 'District Court',\n",
       " 'Family Court',\n",
       " 'High Court',\n",
       " 'Lands Tribunal',\n",
       " 'Miscellaneous'}"
      ]
     },
     "execution_count": 276,
     "metadata": {},
     "output_type": "execute_result"
    }
   ],
   "source": [
    "parent_courts_set = set(df_courts['parent_court'])\n",
    "parent_courts_set"
   ]
  },
  {
   "cell_type": "code",
   "execution_count": 277,
   "metadata": {},
   "outputs": [
    {
     "data": {
      "text/plain": [
       "{'Final Appeal (Civil)',\n",
       " 'Final Appeal (Criminal)',\n",
       " 'Miscellaneous Proceedings',\n",
       " 'Miscellaneous Proceedings (Civil)',\n",
       " 'Miscellaneous Proceedings (Criminal)'}"
      ]
     },
     "execution_count": 277,
     "metadata": {},
     "output_type": "execute_result"
    }
   ],
   "source": [
    "parent_courts_set = set(df_courts['parent_court'])\n",
    "now = set([BeautifulSoup(i.strip(\"' \")).text.strip(\" \") for i in info_list if len(re.findall('<a name=', i))!=0])\n",
    "sub_courts = list(now - parent_courts_set)\n"
   ]
  },
  {
   "cell_type": "code",
   "execution_count": 278,
   "metadata": {},
   "outputs": [
    {
     "name": "stdout",
     "output_type": "stream",
     "text": [
      "200\n",
      "subcourts: 5\n",
      "urls 5\n",
      "dict length:  5\n",
      "200\n",
      "subcourts: 6\n",
      "urls 6\n",
      "dict length:  6\n",
      "200\n",
      "subcourts: 31\n",
      "urls 31\n",
      "dict length:  31\n",
      "200\n",
      "subcourts: 2\n",
      "urls 2\n",
      "dict length:  2\n",
      "200\n",
      "subcourts: 11\n",
      "urls 11\n",
      "dict length:  11\n",
      "200\n",
      "subcourts: 3\n",
      "urls 3\n",
      "dict length:  3\n",
      "200\n",
      "subcourts: 19\n",
      "urls 19\n",
      "dict length:  19\n",
      "200\n",
      "subcourts: 11\n",
      "urls 11\n",
      "dict length:  11\n"
     ]
    },
    {
     "data": {
      "text/plain": [
       "{'Court of Final Appeal': {'Miscellaneous Proceedings': 'https://legalref.judiciary.hk/lrs/common/ju/judgment.jsp?L1=FA&L2=CV&AR=1#A1',\n",
       "  'Final Appeal (Civil)': 'https://legalref.judiciary.hk/lrs/common/ju/judgment.jsp?L1=FA&L2=CC&AR=2#A2',\n",
       "  'Miscellaneous Proceedings (Civil)': 'https://legalref.judiciary.hk/lrs/common/ju/judgment.jsp?L1=FA&L2=MP&AR=3#A3',\n",
       "  'Miscellaneous Proceedings (Criminal)': 'https://legalref.judiciary.hk/lrs/common/ju/judgment.jsp?L1=FA&L2=MV&AR=4#A4',\n",
       "  'Final Appeal (Criminal)': 'https://legalref.judiciary.hk/lrs/common/ju/judgment.jsp?L1=FA&L2=MC&AR=5#A5'},\n",
       " 'Court of Appeal of the High Court': {'Criminal Appeal': 'https://legalref.judiciary.hk/lrs/common/ju/judgment.jsp?L1=CA&L2=AR&AR=1#A1',\n",
       "  'Civil Appeal': 'https://legalref.judiciary.hk/lrs/common/ju/judgment.jsp?L1=CA&L2=AG&AR=2#A2',\n",
       "  'Miscellaneous Proceedings': 'https://legalref.judiciary.hk/lrs/common/ju/judgment.jsp?L1=CA&L2=CV&AR=3#A3',\n",
       "  'Application for Review': 'https://legalref.judiciary.hk/lrs/common/ju/judgment.jsp?L1=CA&L2=CC&AR=4#A4',\n",
       "  'Reservation of Question of Law': 'https://legalref.judiciary.hk/lrs/common/ju/judgment.jsp?L1=CA&L2=MP&AR=5#A5',\n",
       "  \"Attorney General\\\\'s Reference\": 'https://legalref.judiciary.hk/lrs/common/ju/judgment.jsp?L1=CA&L2=QL&AR=6#A6'},\n",
       " 'High Court': {'Commercial Action': 'https://legalref.judiciary.hk/lrs/common/ju/judgment.jsp?L1=HC&L2=AJ&AR=1#A1',\n",
       "  'Matrimonial Causes': 'https://legalref.judiciary.hk/lrs/common/ju/judgment.jsp?L1=HC&L2=AD&AR=2#A2',\n",
       "  'Personal Injuries Action': 'https://legalref.judiciary.hk/lrs/common/ju/judgment.jsp?L1=HC&L2=AG&AR=3#A3',\n",
       "  'Citation Application': 'https://legalref.judiciary.hk/lrs/common/ju/judgment.jsp?L1=HC&L2=SD&AR=4#A4',\n",
       "  'Minor Employment Claims Appeal': 'https://legalref.judiciary.hk/lrs/common/ju/judgment.jsp?L1=HC&L2=MH&AR=5#A5',\n",
       "  'Magistracy Appeal': 'https://legalref.judiciary.hk/lrs/common/ju/judgment.jsp?L1=HC&L2=B&AR=6#A6',\n",
       "  'Companies Winding-up Proceedings': 'https://legalref.judiciary.hk/lrs/common/ju/judgment.jsp?L1=HC&L2=CA&AR=7#A7',\n",
       "  'Miscellaneous Proceedings': 'https://legalref.judiciary.hk/lrs/common/ju/judgment.jsp?L1=HC&L2=CI&AR=8#A8',\n",
       "  'Obscene Articles Tribunal Appeal': 'https://legalref.judiciary.hk/lrs/common/ju/judgment.jsp?L1=HC&L2=A&AR=9#A9',\n",
       "  'Admiralty Action': 'https://legalref.judiciary.hk/lrs/common/ju/judgment.jsp?L1=HC&L2=CL&AR=10#A10',\n",
       "  'High Court Bankruptcy Interim Order': 'https://legalref.judiciary.hk/lrs/common/ju/judgment.jsp?L1=HC&L2=CW&AR=11#A11',\n",
       "  'Miscellaneous Proceedings (Criminal)': 'https://legalref.judiciary.hk/lrs/common/ju/judgment.jsp?L1=HC&L2=CM&AR=12#A12',\n",
       "  'Small Claims Tribunal Appeal': 'https://legalref.judiciary.hk/lrs/common/ju/judgment.jsp?L1=HC&L2=AL&AR=13#A13',\n",
       "  'Inland Revenue Appeal': 'https://legalref.judiciary.hk/lrs/common/ju/judgment.jsp?L1=HC&L2=CT&AR=14#A14',\n",
       "  'Construction and Arbitration Proceedings': 'https://legalref.judiciary.hk/lrs/common/ju/judgment.jsp?L1=HC&L2=CC&AR=15#A15',\n",
       "  'Estate Duty Appeal': 'https://legalref.judiciary.hk/lrs/common/ju/judgment.jsp?L1=HC&L2=ED&AR=16#A16',\n",
       "  'Probate Action': 'https://legalref.judiciary.hk/lrs/common/ju/judgment.jsp?L1=HC&L2=EA&AR=17#A17',\n",
       "  'Applications under the Mental Health Ordinance': 'https://legalref.judiciary.hk/lrs/common/ju/judgment.jsp?L1=HC&L2=BI&AR=18#A18',\n",
       "  'Labour Tribunal Appeal': 'https://legalref.judiciary.hk/lrs/common/ju/judgment.jsp?L1=HC&L2=IA&AR=19#A19',\n",
       "  'Caveat': 'https://legalref.judiciary.hk/lrs/common/ju/judgment.jsp?L1=HC&L2=ZZ&AR=20#A20',\n",
       "  'Application for Grant': 'https://legalref.judiciary.hk/lrs/common/ju/judgment.jsp?L1=HC&L2=LA&AR=21#A21',\n",
       "  'Intended Action': 'https://legalref.judiciary.hk/lrs/common/ju/judgment.jsp?L1=HC&L2=AA&AR=22#A22',\n",
       "  'Civil Action': 'https://legalref.judiciary.hk/lrs/common/ju/judgment.jsp?L1=HC&L2=MA&AR=23#A23',\n",
       "  'Confidential Miscellaneous Proceedings': 'https://legalref.judiciary.hk/lrs/common/ju/judgment.jsp?L1=HC&L2=MC&AR=24#A24',\n",
       "  'Criminal Case': 'https://legalref.judiciary.hk/lrs/common/ju/judgment.jsp?L1=HC&L2=ME&AR=25#A25',\n",
       "  'Legal Aid Appeal': 'https://legalref.judiciary.hk/lrs/common/ju/judgment.jsp?L1=HC&L2=MP&AR=26#A26',\n",
       "  'Bankruptcy Proceedings': 'https://legalref.judiciary.hk/lrs/common/ju/judgment.jsp?L1=HC&L2=CP&AR=27#A27',\n",
       "  'Constitutional and Administrative Law Proceedings': 'https://legalref.judiciary.hk/lrs/common/ju/judgment.jsp?L1=HC&L2=OA&AR=28#A28',\n",
       "  'Application to set aside a Statutory Demand (under Bankruptcy Ordinance)': 'https://legalref.judiciary.hk/lrs/common/ju/judgment.jsp?L1=HC&L2=PI&AR=29#A29',\n",
       "  'Adoption Application': 'https://legalref.judiciary.hk/lrs/common/ju/judgment.jsp?L1=HC&L2=AP&AR=30#A30',\n",
       "  'Ex-parte Application': 'https://legalref.judiciary.hk/lrs/common/ju/judgment.jsp?L1=HC&L2=SA&AR=31#A31'},\n",
       " 'Competition Tribunal': {'Competition Tribunal Action': 'https://legalref.judiciary.hk/lrs/common/ju/judgment.jsp?L1=CT&L2=A&AR=1#A1',\n",
       "  'Competition Tribunal Enforcement Action': 'https://legalref.judiciary.hk/lrs/common/ju/judgment.jsp?L1=CT&L2=EA&AR=2#A2'},\n",
       " 'District Court': {'Equal Opportunities Action': 'https://legalref.judiciary.hk/lrs/common/ju/judgment.jsp?L1=DC&L2=CJ&AR=1#A1',\n",
       "  \"Employee\\\\'s Compensation Case\": 'https://legalref.judiciary.hk/lrs/common/ju/judgment.jsp?L1=DC&L2=CC&AR=2#A2',\n",
       "  'Miscellaneous Proceedings': 'https://legalref.judiciary.hk/lrs/common/ju/judgment.jsp?L1=DC&L2=DT&AR=3#A3',\n",
       "  'Distraint Case': 'https://legalref.judiciary.hk/lrs/common/ju/judgment.jsp?L1=DC&L2=TC&AR=4#A4',\n",
       "  'Criminal Case': 'https://legalref.judiciary.hk/lrs/common/ju/judgment.jsp?L1=DC&L2=EC&AR=5#A5',\n",
       "  'Personal Injuries Action': 'https://legalref.judiciary.hk/lrs/common/ju/judgment.jsp?L1=DC&L2=EO&AR=6#A6',\n",
       "  'Stamp Duty Appeal': 'https://legalref.judiciary.hk/lrs/common/ju/judgment.jsp?L1=DC&L2=ZZ&AR=7#A7',\n",
       "  'District Court Tax Claim': 'https://legalref.judiciary.hk/lrs/common/ju/judgment.jsp?L1=DC&L2=MP&AR=8#A8',\n",
       "  'Intended Action': 'https://legalref.judiciary.hk/lrs/common/ju/judgment.jsp?L1=DC&L2=OA&AR=9#A9',\n",
       "  'Occupational Deafness (Compensation) Appeal': 'https://legalref.judiciary.hk/lrs/common/ju/judgment.jsp?L1=DC&L2=PI&AR=10#A10',\n",
       "  'Civil Action': 'https://legalref.judiciary.hk/lrs/common/ju/judgment.jsp?L1=DC&L2=SA&AR=11#A11'},\n",
       " 'Family Court': {'Matrimonial Causes': 'https://legalref.judiciary.hk/lrs/common/ju/judgment.jsp?L1=FC&L2=JA&AR=1#A1',\n",
       "  'Miscellaneous Proceedings': 'https://legalref.judiciary.hk/lrs/common/ju/judgment.jsp?L1=FC&L2=MC&AR=2#A2',\n",
       "  'Joint application': 'https://legalref.judiciary.hk/lrs/common/ju/judgment.jsp?L1=FC&L2=MP&AR=3#A3'},\n",
       " 'Lands Tribunal': {'New Tenancy Application': 'https://legalref.judiciary.hk/lrs/common/ju/judgment.jsp?L1=LD&L2=BM&AR=1#A1',\n",
       "  'Miscellaneous Proceedings Application': 'https://legalref.judiciary.hk/lrs/common/ju/judgment.jsp?L1=LD&L2=BG&AR=2#A2',\n",
       "  'Land Resumption Application': 'https://legalref.judiciary.hk/lrs/common/ju/judgment.jsp?L1=LD&L2=DA&AR=3#A3',\n",
       "  'Buildings Ordinance Application': 'https://legalref.judiciary.hk/lrs/common/ju/judgment.jsp?L1=LD&L2=DB&AR=4#A4',\n",
       "  'Demolished Buildings Appeal': 'https://legalref.judiciary.hk/lrs/common/ju/judgment.jsp?L1=LD&L2=GA&AR=5#A5',\n",
       "  'Part II Possession Application': 'https://legalref.judiciary.hk/lrs/common/ju/judgment.jsp?L1=LD&L2=HA&AR=6#A6',\n",
       "  'Part V Possession Application': 'https://legalref.judiciary.hk/lrs/common/ju/judgment.jsp?L1=LD&L2=CS&AR=7#A7',\n",
       "  'MTR Ordinance Application': 'https://legalref.judiciary.hk/lrs/common/ju/judgment.jsp?L1=LD&L2=LR&AR=8#A8',\n",
       "  'Miscellaneous References Application': 'https://legalref.judiciary.hk/lrs/common/ju/judgment.jsp?L1=LD&L2=LA&AR=9#A9',\n",
       "  'Housing Ordinance Appeal': 'https://legalref.judiciary.hk/lrs/common/ju/judgment.jsp?L1=LD&L2=MT&AR=10#A10',\n",
       "  'Part IV Possession Application': 'https://legalref.judiciary.hk/lrs/common/ju/judgment.jsp?L1=LD&L2=MP&AR=11#A11',\n",
       "  'Landlord  Appeal': 'https://legalref.judiciary.hk/lrs/common/ju/judgment.jsp?L1=LD&L2=MR&AR=12#A12',\n",
       "  'Building Management Application': 'https://legalref.judiciary.hk/lrs/common/ju/judgment.jsp?L1=LD&L2=NT&AR=13#A13',\n",
       "  'Rating Appeal': 'https://legalref.judiciary.hk/lrs/common/ju/judgment.jsp?L1=LD&L2=PA&AR=14#A14',\n",
       "  'Demolished Buildings Application': 'https://legalref.judiciary.hk/lrs/common/ju/judgment.jsp?L1=LD&L2=PB&AR=15#A15',\n",
       "  'Government Rent Appeal': 'https://legalref.judiciary.hk/lrs/common/ju/judgment.jsp?L1=LD&L2=PD&AR=16#A16',\n",
       "  'Railways Ordinance Application': 'https://legalref.judiciary.hk/lrs/common/ju/judgment.jsp?L1=LD&L2=PE&AR=17#A17',\n",
       "  'Part I Possession Application': 'https://legalref.judiciary.hk/lrs/common/ju/judgment.jsp?L1=LD&L2=RW&AR=18#A18',\n",
       "  'Land Compulsory Sale Application': 'https://legalref.judiciary.hk/lrs/common/ju/judgment.jsp?L1=LD&L2=RA&AR=19#A19'},\n",
       " 'Miscellaneous': {\"Shatin Magistrates\\\\' Court Charge Case\": 'https://legalref.judiciary.hk/lrs/common/ju/judgment.jsp?L1=CC&L2=DI&AR=1#A1',\n",
       "  \"Eastern Magistrates\\\\' Court Charge Case\": 'https://legalref.judiciary.hk/lrs/common/ju/judgment.jsp?L1=ES&L2=CC&AR=2#A2',\n",
       "  \"Coroner\\\\'s Court Death Inquest\": 'https://legalref.judiciary.hk/lrs/common/ju/judgment.jsp?L1=ES&L2=S&AR=3#A3',\n",
       "  'Kowloon City Magistrates’ Court Summons Case': 'https://legalref.judiciary.hk/lrs/common/ju/judgment.jsp?L1=KC&L2=CC&AR=4#A4',\n",
       "  \"Eastern Magistrates\\\\' Court Summons Case\": 'https://legalref.judiciary.hk/lrs/common/ju/judgment.jsp?L1=KC&L2=S&AR=5#A5',\n",
       "  'Obscene Articles Tribunal Case': 'https://legalref.judiciary.hk/lrs/common/ju/judgment.jsp?L1=LB&L2=TC&AR=6#A6',\n",
       "  \"West Kowloon Magistrates\\\\' Court Charge Case\": 'https://legalref.judiciary.hk/lrs/common/ju/judgment.jsp?L1=OA&L2=TD&AR=7#A7',\n",
       "  \"Tuen Mun Magistrates\\\\' Court Charge Case\": 'https://legalref.judiciary.hk/lrs/common/ju/judgment.jsp?L1=ST&L2=CC&AR=8#A8',\n",
       "  'Labour Tribunal Claim': 'https://legalref.judiciary.hk/lrs/common/ju/judgment.jsp?L1=SC&L2=TC&AR=9#A9',\n",
       "  'Small Claims Tribunal Claim': 'https://legalref.judiciary.hk/lrs/common/ju/judgment.jsp?L1=TM&L2=CC&AR=10#A10',\n",
       "  \"Kowloon City Magistrates\\\\' Court Charge Case\": 'https://legalref.judiciary.hk/lrs/common/ju/judgment.jsp?L1=WK&L2=CC&AR=11#A11'}}"
      ]
     },
     "execution_count": 278,
     "metadata": {},
     "output_type": "execute_result"
    }
   ],
   "source": [
    "def parse_sub_courts(courts):\n",
    "    \"\"\"Parse sub-courts information.\n",
    "    Args:\n",
    "        courts (dict) : parent_courts -> url\n",
    "    Return:\n",
    "        sub_dict (dict) : parent_courts -> dictionary(sub_courts -> url) \n",
    "    \n",
    "    \"\"\"\n",
    "    sub_dict = {} # initialize\n",
    "    parent_courts_set = set(df_courts['parent_court'])\n",
    "    \n",
    "    for c, url in courts.items():\n",
    "        time.sleep(1) # request web slowly for benevolence\n",
    "        root = url_to_root(url)\n",
    "        \n",
    "        # get sub courts names\n",
    "        # get raw infomation\n",
    "        info_list = root.find('script', string=re.compile(\"var myMenu\")).text.split(\",\")\n",
    "        # create bs4 object list for strings has tag \"a\" and attr name\n",
    "        now = set([BeautifulSoup(i.strip(\"' \")).text.strip(\" \") for i in info_list if len(re.findall('<a name=', i))!=0])\n",
    "        sub_courts = list(now - parent_courts_set)\n",
    "\n",
    "#         # alternative way for sepcial case\n",
    "#         if c == 'Miscellaneous':\n",
    "#             # get raw infomation\n",
    "#             info_list = root.find('script', string=re.compile(\"var myMenu\")).text.split(\",\") # notice split by comma\n",
    "#             # get text of bs4 object which has tag \"a\" and attr name and cut first eight\n",
    "#             sub_courts = [BeautifulSoup(i[2:-1]).text for i in info_list if len(re.findall('<a name=', i))!=0][8:]\n",
    "        print('subcourts:',len(sub_courts))\n",
    "        \n",
    "        # get sub courts urls\n",
    "        # re-get raw infomation\n",
    "        info_list = root.find('script', string=re.compile(\"var myMenu\")).text.split(\"'\") # notice split by up-comma\n",
    "        # observe sub-courts' urls are longer than parents', so find sub-courts' urls' length\n",
    "        http_min_len = min(set([len(i) for i in info_list if i[:5]=='https']))\n",
    "        # get sub-courts' urls\n",
    "        sub_courts_urls = [i for i in info_list if i[:5]=='https' if len(i)>http_min_len]\n",
    "        print('urls', len(sub_courts_urls))\n",
    "        # store in dict\n",
    "        subs = {sc.strip(\" \"):url for sc, url in zip(sub_courts, sub_courts_urls)}\n",
    "        # assign to parent courts\n",
    "        print('dict length: ',len(subs))\n",
    "        sub_dict[c] = subs\n",
    "    return sub_dict\n",
    "\n",
    "sub_dict = parse_sub_courts(courts)\n",
    "sub_dict"
   ]
  },
  {
   "cell_type": "code",
   "execution_count": 279,
   "metadata": {},
   "outputs": [
    {
     "data": {
      "text/html": [
       "<div>\n",
       "<style scoped>\n",
       "    .dataframe tbody tr th:only-of-type {\n",
       "        vertical-align: middle;\n",
       "    }\n",
       "\n",
       "    .dataframe tbody tr th {\n",
       "        vertical-align: top;\n",
       "    }\n",
       "\n",
       "    .dataframe thead th {\n",
       "        text-align: right;\n",
       "    }\n",
       "</style>\n",
       "<table border=\"1\" class=\"dataframe\">\n",
       "  <thead>\n",
       "    <tr style=\"text-align: right;\">\n",
       "      <th></th>\n",
       "      <th>sub_court</th>\n",
       "      <th>sub_court_url</th>\n",
       "      <th>parent_court</th>\n",
       "      <th>parent_court_url</th>\n",
       "    </tr>\n",
       "  </thead>\n",
       "  <tbody>\n",
       "    <tr>\n",
       "      <th>0</th>\n",
       "      <td>Miscellaneous Proceedings</td>\n",
       "      <td>https://legalref.judiciary.hk/lrs/common/ju/ju...</td>\n",
       "      <td>Court of Final Appeal</td>\n",
       "      <td>https://legalref.judiciary.hk/lrs/common/ju/ju...</td>\n",
       "    </tr>\n",
       "    <tr>\n",
       "      <th>1</th>\n",
       "      <td>Final Appeal (Civil)</td>\n",
       "      <td>https://legalref.judiciary.hk/lrs/common/ju/ju...</td>\n",
       "      <td>Court of Final Appeal</td>\n",
       "      <td>https://legalref.judiciary.hk/lrs/common/ju/ju...</td>\n",
       "    </tr>\n",
       "    <tr>\n",
       "      <th>2</th>\n",
       "      <td>Miscellaneous Proceedings (Civil)</td>\n",
       "      <td>https://legalref.judiciary.hk/lrs/common/ju/ju...</td>\n",
       "      <td>Court of Final Appeal</td>\n",
       "      <td>https://legalref.judiciary.hk/lrs/common/ju/ju...</td>\n",
       "    </tr>\n",
       "    <tr>\n",
       "      <th>3</th>\n",
       "      <td>Miscellaneous Proceedings (Criminal)</td>\n",
       "      <td>https://legalref.judiciary.hk/lrs/common/ju/ju...</td>\n",
       "      <td>Court of Final Appeal</td>\n",
       "      <td>https://legalref.judiciary.hk/lrs/common/ju/ju...</td>\n",
       "    </tr>\n",
       "    <tr>\n",
       "      <th>4</th>\n",
       "      <td>Final Appeal (Criminal)</td>\n",
       "      <td>https://legalref.judiciary.hk/lrs/common/ju/ju...</td>\n",
       "      <td>Court of Final Appeal</td>\n",
       "      <td>https://legalref.judiciary.hk/lrs/common/ju/ju...</td>\n",
       "    </tr>\n",
       "  </tbody>\n",
       "</table>\n",
       "</div>"
      ],
      "text/plain": [
       "                              sub_court  \\\n",
       "0             Miscellaneous Proceedings   \n",
       "1                  Final Appeal (Civil)   \n",
       "2     Miscellaneous Proceedings (Civil)   \n",
       "3  Miscellaneous Proceedings (Criminal)   \n",
       "4               Final Appeal (Criminal)   \n",
       "\n",
       "                                       sub_court_url           parent_court  \\\n",
       "0  https://legalref.judiciary.hk/lrs/common/ju/ju...  Court of Final Appeal   \n",
       "1  https://legalref.judiciary.hk/lrs/common/ju/ju...  Court of Final Appeal   \n",
       "2  https://legalref.judiciary.hk/lrs/common/ju/ju...  Court of Final Appeal   \n",
       "3  https://legalref.judiciary.hk/lrs/common/ju/ju...  Court of Final Appeal   \n",
       "4  https://legalref.judiciary.hk/lrs/common/ju/ju...  Court of Final Appeal   \n",
       "\n",
       "                                    parent_court_url  \n",
       "0  https://legalref.judiciary.hk/lrs/common/ju/ju...  \n",
       "1  https://legalref.judiciary.hk/lrs/common/ju/ju...  \n",
       "2  https://legalref.judiciary.hk/lrs/common/ju/ju...  \n",
       "3  https://legalref.judiciary.hk/lrs/common/ju/ju...  \n",
       "4  https://legalref.judiciary.hk/lrs/common/ju/ju...  "
      ]
     },
     "execution_count": 279,
     "metadata": {},
     "output_type": "execute_result"
    }
   ],
   "source": [
    "def df_for_sub(sub_dict):\n",
    "    return pd.DataFrame([(k,v) for k,v in sub_dict.items()], columns=['sub_court', 'sub_court_url'])\n",
    "\n",
    "dfs = []\n",
    "for p_court, s_dict in sub_dict.items():\n",
    "    sub_df = df_for_sub(s_dict)\n",
    "    sub_df['parent_court'] = p_court\n",
    "    dfs.append(sub_df)\n",
    "#     print(sub_df)\n",
    "df_all = pd.concat(dfs, axis=0)\n",
    "df_all.index = range(len(df_all))\n",
    "df_all = pd.merge(df_all, df_courts, how='left', on='parent_court')\n",
    "df_all.head()"
   ]
  },
  {
   "cell_type": "markdown",
   "metadata": {},
   "source": [
    "## Hiearchy 3: years"
   ]
  },
  {
   "cell_type": "code",
   "execution_count": 313,
   "metadata": {},
   "outputs": [],
   "source": [
    "sub_court = 'Final Appeal (Civil)'"
   ]
  },
  {
   "cell_type": "code",
   "execution_count": 328,
   "metadata": {},
   "outputs": [
    {
     "data": {
      "text/plain": [
       "'https://legalref.judiciary.hk/lrs/common/ju/judgment.jsp?L1=FA&L2=CC&AR=2#A2'"
      ]
     },
     "execution_count": 328,
     "metadata": {},
     "output_type": "execute_result"
    }
   ],
   "source": [
    "list(df_all[df_all['sub_court']==sub_court]['sub_court_url'])[0]"
   ]
  },
  {
   "cell_type": "code",
   "execution_count": 394,
   "metadata": {},
   "outputs": [
    {
     "name": "stdout",
     "output_type": "stream",
     "text": [
      "200\n"
     ]
    },
    {
     "data": {
      "text/plain": [
       "['2017', '2015', '2018', '2016', 'Pre2013', '2013', '2014']"
      ]
     },
     "execution_count": 394,
     "metadata": {},
     "output_type": "execute_result"
    }
   ],
   "source": [
    "def subCourt_get_years(sub_court, df_all, all_courts):\n",
    "    url = list(df_all[df_all['sub_court']==sub_court]['sub_court_url'])[0]\n",
    "#     print(url)\n",
    "    root = url_to_root(url)\n",
    "    info_list = root.find('script', string=re.compile(\"var myMenu\")).text.split(\",\")\n",
    "    \n",
    "    now_set = set([BeautifulSoup(i.strip(\"' \")).text.strip(\" \") for i in info_list if len(re.findall('<a name=', i))!=0])\n",
    "    years = now_set - all_courts\n",
    "    return list(years)\n",
    "\n",
    "courts_set = set(df_all['parent_court']) | set(df_all['sub_court'])\n",
    "years = subCourt_get_years(sub_court, df_all, courts_set)\n",
    "years"
   ]
  },
  {
   "cell_type": "code",
   "execution_count": 395,
   "metadata": {},
   "outputs": [
    {
     "name": "stdout",
     "output_type": "stream",
     "text": [
      "200\n"
     ]
    },
    {
     "data": {
      "text/plain": [
       "['https://legalref.judiciary.hk/lrs/common/ju/judgment.jsp?EX=&L1=FA&L2=CC&L3=2017&AR=2_2#A2_2',\n",
       " 'https://legalref.judiciary.hk/lrs/common/ju/judgment.jsp?EX=&L1=FA&L2=CC&L3=2014&AR=2_5#A2_5',\n",
       " 'https://legalref.judiciary.hk/lrs/common/ju/judgment.jsp?EX=&L1=FA&L2=CC&L3=2016&AR=2_3#A2_3',\n",
       " 'https://legalref.judiciary.hk/lrs/common/ju/judgment.jsp?EX=&L1=FA&L2=CC&L3=2018&AR=2_1#A2_1',\n",
       " 'https://legalref.judiciary.hk/lrs/common/ju/judgment.jsp?EX=&L1=FA&L2=CC&L3=2013&AR=2_6#A2_6',\n",
       " 'https://legalref.judiciary.hk/lrs/common/ju/judgment.jsp?EX=T&L1=FA&L2=CC&AR=2#A2',\n",
       " 'https://legalref.judiciary.hk/lrs/common/ju/judgment.jsp?EX=&L1=FA&L2=CC&L3=2015&AR=2_4#A2_4']"
      ]
     },
     "execution_count": 395,
     "metadata": {},
     "output_type": "execute_result"
    }
   ],
   "source": [
    "def subCourt_get_urls(sub_court, df_all, urls_set):\n",
    "    url = list(df_all[df_all['sub_court']==sub_court]['sub_court_url'])[0]\n",
    "    root = url_to_root(url)\n",
    "    info_list = root.find('script', string=re.compile(\"var myMenu\")).text.split(\",\")\n",
    "    \n",
    "    potential_urls = set([i.strip(\"' \") for i in info_list if i.strip(\"' \")[:5]=='https'])\n",
    "    urls = potential_urls - urls_set\n",
    "    return list(urls)\n",
    "\n",
    "urls_set = set(df_all['sub_court_url']) | set(df_all['parent_court_url'])\n",
    "urls = subCourt_get_urls(sub_court, df_all, urls_set)  \n",
    "urls"
   ]
  },
  {
   "cell_type": "code",
   "execution_count": 396,
   "metadata": {},
   "outputs": [],
   "source": [
    "def match_nomals(years, urls, match_dict):\n",
    "    url_pairs = [(re.findall('L3=....', i)[0][-4:], i) for i in urls]\n",
    "    for y in years:\n",
    "        for y_url, url in url_pairs:\n",
    "            if y == y_url:\n",
    "                match_dict[y] = url\n",
    "    return match_dict\n"
   ]
  },
  {
   "cell_type": "code",
   "execution_count": 407,
   "metadata": {},
   "outputs": [
    {
     "name": "stdout",
     "output_type": "stream",
     "text": [
      "['Pre2013']\n",
      "['2017', '2015', '2018', '2016', '2013', '2014']\n"
     ]
    },
    {
     "data": {
      "text/plain": [
       "{'2017': 'https://legalref.judiciary.hk/lrs/common/ju/judgment.jsp?EX=&L1=FA&L2=CC&L3=2017&AR=2_2#A2_2',\n",
       " '2015': 'https://legalref.judiciary.hk/lrs/common/ju/judgment.jsp?EX=&L1=FA&L2=CC&L3=2015&AR=2_4#A2_4',\n",
       " '2018': 'https://legalref.judiciary.hk/lrs/common/ju/judgment.jsp?EX=&L1=FA&L2=CC&L3=2018&AR=2_1#A2_1',\n",
       " '2016': 'https://legalref.judiciary.hk/lrs/common/ju/judgment.jsp?EX=&L1=FA&L2=CC&L3=2016&AR=2_3#A2_3',\n",
       " '2013': 'https://legalref.judiciary.hk/lrs/common/ju/judgment.jsp?EX=&L1=FA&L2=CC&L3=2013&AR=2_6#A2_6',\n",
       " '2014': 'https://legalref.judiciary.hk/lrs/common/ju/judgment.jsp?EX=&L1=FA&L2=CC&L3=2014&AR=2_5#A2_5',\n",
       " 'Pre2013': 'https://legalref.judiciary.hk/lrs/common/ju/judgment.jsp?EX=T&L1=FA&L2=CC&AR=2#A2'}"
      ]
     },
     "execution_count": 407,
     "metadata": {},
     "output_type": "execute_result"
    }
   ],
   "source": [
    "def match_year_urls(years, urls):\n",
    "    match_dict = {} # initialize\n",
    "    # check if has special('Pre****')\n",
    "    special_ = [years[idx] for idx, y in enumerate(years) if len(re.findall('Pre', y))!=0]\n",
    "#     print(special_)\n",
    "    if len(special_) != 0:\n",
    "        has_special = True\n",
    "        # kick out special ones\n",
    "        special_year = special_[0]\n",
    "        normal_years = [y for y in years if len(re.findall('Pre', y))==0]\n",
    "        normal_urls = [u for idx, u in enumerate(urls) if len(re.findall('L3=....', u))!=0]\n",
    "        special_url = [u for idx, u in enumerate(urls) if len(re.findall('L3=....', u))==0][0]\n",
    "    # normal case\n",
    "    else: \n",
    "        has_special = False\n",
    "        normal_years = years\n",
    "        normal_urls = urls\n",
    "\n",
    "    # match normals\n",
    "    match_dict = match_nomals(normal_years, normal_urls, match_dict)\n",
    "    \n",
    "    # add special case\n",
    "    if has_special:\n",
    "        match_dict[special_year] = special_url\n",
    "    return match_dict     \n",
    "    \n",
    "match_year_urls(years, urls)"
   ]
  },
  {
   "cell_type": "code",
   "execution_count": null,
   "metadata": {},
   "outputs": [],
   "source": [
    "def get_year_urls(sub_court, df_all, urls_set, ):\n",
    "    \n",
    "    urls = subCourt_get_years(sub_court, df_all, urls_set)\n",
    "    \n",
    "    df = pd.DataFrame()\n",
    "\n",
    "    \n",
    "urls_set = set(df_all['sub_court_url']) | set(df_all['parent_court_url'])"
   ]
  },
  {
   "cell_type": "code",
   "execution_count": null,
   "metadata": {},
   "outputs": [],
   "source": []
  },
  {
   "cell_type": "code",
   "execution_count": null,
   "metadata": {},
   "outputs": [],
   "source": []
  },
  {
   "cell_type": "code",
   "execution_count": null,
   "metadata": {},
   "outputs": [],
   "source": []
  },
  {
   "cell_type": "code",
   "execution_count": null,
   "metadata": {},
   "outputs": [],
   "source": []
  },
  {
   "cell_type": "code",
   "execution_count": 284,
   "metadata": {},
   "outputs": [],
   "source": [
    "all_courts = set(df_all['parent_court']) | set(df_all['sub_court'])"
   ]
  },
  {
   "cell_type": "code",
   "execution_count": 288,
   "metadata": {},
   "outputs": [
    {
     "name": "stdout",
     "output_type": "stream",
     "text": [
      "200\n"
     ]
    }
   ],
   "source": [
    "url = df_all.loc[0]['sub_court_url']\n",
    "root = url_to_root(url)\n",
    "info_list = root.find('script', string=re.compile(\"var myMenu\")).text.split(\",\")\n"
   ]
  },
  {
   "cell_type": "code",
   "execution_count": null,
   "metadata": {},
   "outputs": [],
   "source": [
    "urls_set = set(df_all['sub_court_url']) | set(df_all['parent_court_url'])\n",
    "urls_set"
   ]
  },
  {
   "cell_type": "code",
   "execution_count": 309,
   "metadata": {},
   "outputs": [
    {
     "data": {
      "text/plain": [
       "{'https://legalref.judiciary.hk/lrs/common/ju/judgment.jsp?EX=&L1=FA&L2=CV&L3=2013&AR=1_6#A1_6',\n",
       " 'https://legalref.judiciary.hk/lrs/common/ju/judgment.jsp?EX=&L1=FA&L2=CV&L3=2014&AR=1_5#A1_5',\n",
       " 'https://legalref.judiciary.hk/lrs/common/ju/judgment.jsp?EX=&L1=FA&L2=CV&L3=2015&AR=1_4#A1_4',\n",
       " 'https://legalref.judiciary.hk/lrs/common/ju/judgment.jsp?EX=&L1=FA&L2=CV&L3=2016&AR=1_3#A1_3',\n",
       " 'https://legalref.judiciary.hk/lrs/common/ju/judgment.jsp?EX=&L1=FA&L2=CV&L3=2017&AR=1_2#A1_2',\n",
       " 'https://legalref.judiciary.hk/lrs/common/ju/judgment.jsp?EX=&L1=FA&L2=CV&L3=2018&AR=1_1#A1_1',\n",
       " 'https://legalref.judiciary.hk/lrs/common/ju/judgment.jsp?EX=T&L1=FA&L2=CV&AR=1#A1'}"
      ]
     },
     "execution_count": 309,
     "metadata": {},
     "output_type": "execute_result"
    }
   ],
   "source": [
    "set(potential_urls) - urls_set"
   ]
  },
  {
   "cell_type": "code",
   "execution_count": 306,
   "metadata": {},
   "outputs": [
    {
     "data": {
      "text/plain": [
       "[65,\n",
       " 76,\n",
       " 92,\n",
       " 92,\n",
       " 92,\n",
       " 92,\n",
       " 92,\n",
       " 92,\n",
       " 81,\n",
       " 76,\n",
       " 76,\n",
       " 76,\n",
       " 76,\n",
       " 65,\n",
       " 65,\n",
       " 65,\n",
       " 65,\n",
       " 65,\n",
       " 65,\n",
       " 65]"
      ]
     },
     "execution_count": 306,
     "metadata": {},
     "output_type": "execute_result"
    }
   ],
   "source": [
    "potential_urls = [i.strip(\"' \") for i in info_list if i.strip(\"' \")[:5]=='https']\n",
    "[len(i) for i in potential_urls]"
   ]
  },
  {
   "cell_type": "code",
   "execution_count": 289,
   "metadata": {},
   "outputs": [],
   "source": [
    "c = set([BeautifulSoup(i.strip(\"' \")).text.strip(\" \") for i in info_list if len(re.findall('<a name=', i))!=0])"
   ]
  },
  {
   "cell_type": "code",
   "execution_count": 290,
   "metadata": {},
   "outputs": [
    {
     "data": {
      "text/plain": [
       "{'2013', '2014', '2015', '2016', '2017', '2018', 'Pre2013'}"
      ]
     },
     "execution_count": 290,
     "metadata": {},
     "output_type": "execute_result"
    }
   ],
   "source": [
    "c - all_courts"
   ]
  },
  {
   "cell_type": "code",
   "execution_count": null,
   "metadata": {},
   "outputs": [],
   "source": []
  },
  {
   "cell_type": "code",
   "execution_count": null,
   "metadata": {},
   "outputs": [],
   "source": []
  },
  {
   "cell_type": "code",
   "execution_count": null,
   "metadata": {},
   "outputs": [],
   "source": []
  },
  {
   "cell_type": "code",
   "execution_count": 263,
   "metadata": {},
   "outputs": [],
   "source": [
    "B = BeautifulSoup(root.find('script', string=re.compile(\"var myMenu\")).text.split('],[')[6])"
   ]
  },
  {
   "cell_type": "code",
   "execution_count": 295,
   "metadata": {},
   "outputs": [
    {
     "data": {
      "text/plain": [
       "<td> <table bgcolor=\"#F7F5F0\" border=\"\\'1\\'\" bordercolor=\"\\'#CAB484\\'\" cellpadding=\"\\'2\\'\" cellspacing=\"\\'0\\'\" width=\"\\'100%\\'\"> <tr> <td valign=\"top\" width=\"5%\"><img alt=\"\\'Judgment\" chinese=\"\" english=\"\" in=\"\" src=\"\\'https://legalref.judiciary.hk/lrs/images/ThemeXP/CTpage.gif\\'\" traditional=\"\" translation=\"\" with=\"\"/></td> <td valign=\"top\" width=\"40%\"> <a class=\"ThemeXPRowAnchor\" href=\"javascript:matchpop(\\'https://legalref.judiciary.hk/lrs/common/ju/ju_frame.jsp?DIS=93798\\',\\'matchpage\\');\">CAAR2/2014</a><br/><font color=\"#006633\">(07/07/2014)</font><br/><img height=\"1\" src=\"\\'https://legalref.judiciary.hk/lrs/images/spacer.gif\\'\" width=\"142\"/></td> <td class=\"\\'chinesefont\\'\" valign=\"top\" width=\"55%\">律政司司長 訴 林裕偉 <img src=\"\\'/lrs/images/ThemeXP/star.gif\\'\"/>  Reported in :<font color=\"#8C029B\">[2015] 1 HKLRD 393</font><br/><img height=\"2\" src=\"\\'https://legalref.judiciary.hk/lrs/images/spacer.gif\\'\" width=\"348\"/></td> </tr></table></td>"
      ]
     },
     "execution_count": 295,
     "metadata": {},
     "output_type": "execute_result"
    }
   ],
   "source": [
    "B.find('td')"
   ]
  },
  {
   "cell_type": "code",
   "execution_count": 306,
   "metadata": {},
   "outputs": [
    {
     "data": {
      "text/plain": [
       "\"\\\\'https://legalref.judiciary.hk/lrs/images/ThemeXP/CTpage.gif\\\\'\""
      ]
     },
     "execution_count": 306,
     "metadata": {},
     "output_type": "execute_result"
    }
   ],
   "source": [
    "B.find('td').find('img')['src']"
   ]
  },
  {
   "cell_type": "code",
   "execution_count": 291,
   "metadata": {},
   "outputs": [
    {
     "data": {
      "text/plain": [
       "'CAAR2/2014'"
      ]
     },
     "execution_count": 291,
     "metadata": {},
     "output_type": "execute_result"
    }
   ],
   "source": [
    "B.find('td').find('a').text"
   ]
  },
  {
   "cell_type": "code",
   "execution_count": 284,
   "metadata": {},
   "outputs": [
    {
     "data": {
      "text/plain": [
       "<font color=\"#006633\">(07/07/2014)</font>"
      ]
     },
     "execution_count": 284,
     "metadata": {},
     "output_type": "execute_result"
    }
   ],
   "source": [
    "B.find('td').find('font')"
   ]
  },
  {
   "cell_type": "code",
   "execution_count": 290,
   "metadata": {},
   "outputs": [
    {
     "data": {
      "text/plain": [
       "'律政司司長 訴 林裕偉  \\xa0Reported in :[2015] 1 HKLRD 393'"
      ]
     },
     "execution_count": 290,
     "metadata": {},
     "output_type": "execute_result"
    }
   ],
   "source": [
    "B.find('td').find('font').find_next('td').text"
   ]
  },
  {
   "cell_type": "code",
   "execution_count": 285,
   "metadata": {},
   "outputs": [
    {
     "data": {
      "text/plain": [
       "<td> <table bgcolor=\"#F7F5F0\" border=\"\\'1\\'\" bordercolor=\"\\'#CAB484\\'\" cellpadding=\"\\'2\\'\" cellspacing=\"\\'0\\'\" width=\"\\'100%\\'\"> <tr> <td valign=\"top\" width=\"5%\"><img alt=\"\\'Judgment\" chinese=\"\" english=\"\" in=\"\" src=\"\\'https://legalref.judiciary.hk/lrs/images/ThemeXP/CTpage.gif\\'\" traditional=\"\" translation=\"\" with=\"\"/></td> <td valign=\"top\" width=\"40%\"> <a class=\"ThemeXPRowAnchor\" href=\"javascript:matchpop(\\'https://legalref.judiciary.hk/lrs/common/ju/ju_frame.jsp?DIS=93798\\',\\'matchpage\\');\">CAAR2/2014</a><br/><font color=\"#006633\">(07/07/2014)</font><br/><img height=\"1\" src=\"\\'https://legalref.judiciary.hk/lrs/images/spacer.gif\\'\" width=\"142\"/></td> <td class=\"\\'chinesefont\\'\" valign=\"top\" width=\"55%\">律政司司長 訴 林裕偉 <img src=\"\\'/lrs/images/ThemeXP/star.gif\\'\"/>  Reported in :<font color=\"#8C029B\">[2015] 1 HKLRD 393</font><br/><img height=\"2\" src=\"\\'https://legalref.judiciary.hk/lrs/images/spacer.gif\\'\" width=\"348\"/></td> </tr></table></td>"
      ]
     },
     "execution_count": 285,
     "metadata": {},
     "output_type": "execute_result"
    }
   ],
   "source": [
    "B.find('td')"
   ]
  }
 ],
 "metadata": {
  "kernelspec": {
   "display_name": "Python 3",
   "language": "python",
   "name": "python3"
  },
  "language_info": {
   "codemirror_mode": {
    "name": "ipython",
    "version": 3
   },
   "file_extension": ".py",
   "mimetype": "text/x-python",
   "name": "python",
   "nbconvert_exporter": "python",
   "pygments_lexer": "ipython3",
   "version": "3.7.1"
  }
 },
 "nbformat": 4,
 "nbformat_minor": 2
}
