{
 "cells": [
  {
   "cell_type": "code",
   "execution_count": 1,
   "metadata": {},
   "outputs": [],
   "source": [
    "import requests\n",
    "import json\n",
    "import time\n",
    "from bs4 import BeautifulSoup, Comment\n",
    "import IPython.display as display\n",
    "import pickle\n",
    "import pandas as pd\n",
    "pd.set_option('max_colwidth',1000)\n",
    "import re\n",
    "from tqdm import tqdm"
   ]
  },
  {
   "cell_type": "markdown",
   "metadata": {},
   "source": [
    "## Start with original url"
   ]
  },
  {
   "cell_type": "code",
   "execution_count": 3,
   "metadata": {},
   "outputs": [],
   "source": [
    "def url_to_root(url):\n",
    "    headers = {'Accept-Encoding': 'identity',\n",
    "               'User-Agent': \n",
    "'Mozilla/5.0 (Macintosh; Intel Mac OS X 10_9_3) AppleWebKit/537.36 (KHTML, like Gecko) Chrome/35.0.1916.47 Safari/537.36'\n",
    "\n",
    "                }\n",
    "    response = requests.get(url, headers=headers, timeout=5)\n",
    "#     print(response.status_code)\n",
    "    \n",
    "    root = BeautifulSoup(response.text, 'html5lib')\n",
    "    return root\n",
    "\n",
    "original_url = 'https://legalref.judiciary.hk/lrs/common/ju/judgment.jsp'\n",
    "root = url_to_root(original_url)"
   ]
  },
  {
   "cell_type": "markdown",
   "metadata": {},
   "source": [
    "## Hieachy 1: parent court categories"
   ]
  },
  {
   "cell_type": "code",
   "execution_count": 3,
   "metadata": {},
   "outputs": [
    {
     "data": {
      "text/plain": [
       "{'Court of Final Appeal': 'https://legalref.judiciary.hk/lrs/common/ju/judgment.jsp?L1=FA#H1',\n",
       " 'Court of Appeal of the High Court': 'https://legalref.judiciary.hk/lrs/common/ju/judgment.jsp?L1=CA#H2',\n",
       " 'High Court': 'https://legalref.judiciary.hk/lrs/common/ju/judgment.jsp?L1=HC#H3',\n",
       " 'Competition Tribunal': 'https://legalref.judiciary.hk/lrs/common/ju/judgment.jsp?L1=CT#H4',\n",
       " 'District Court': 'https://legalref.judiciary.hk/lrs/common/ju/judgment.jsp?L1=DC#H5',\n",
       " 'Family Court': 'https://legalref.judiciary.hk/lrs/common/ju/judgment.jsp?L1=FC#H6',\n",
       " 'Lands Tribunal': 'https://legalref.judiciary.hk/lrs/common/ju/judgment.jsp?L1=LD#H7',\n",
       " 'Miscellaneous': 'https://legalref.judiciary.hk/lrs/common/ju/judgment.jsp?L1=OT#H8'}"
      ]
     },
     "execution_count": 3,
     "metadata": {},
     "output_type": "execute_result"
    }
   ],
   "source": [
    "def parse_courts(root):\n",
    "    \"\"\"Parse the info of parent courts.\n",
    "    Args:\n",
    "        root : BeautifulSoup Object\n",
    "    Return:\n",
    "        courts_dict (dict): court -> url\n",
    "    \"\"\"\n",
    "    # get all raw infomation about courts (looks urgly)\n",
    "    info_list = root.find('script', string=re.compile(\"var myMenu\")).text.split(\"'\")\n",
    "    # find the parent courts' name inside 'span' tag\n",
    "    courts_list = [BeautifulSoup(i).find('span').text.strip(\" \") for i in info_list if i[1:5]=='span']\n",
    "    # find corresponding urls of parents courts(order matters here)\n",
    "    courts_urls = [j for j in info_list if j[:5]=='https']\n",
    "    # store to dict\n",
    "    courts_dict = {i:j for i, j in zip(courts_list, courts_urls)}\n",
    "    return courts_dict\n",
    "\n",
    "courts = parse_courts(root)\n",
    "courts"
   ]
  },
  {
   "cell_type": "code",
   "execution_count": 4,
   "metadata": {},
   "outputs": [
    {
     "data": {
      "text/html": [
       "<div>\n",
       "<style scoped>\n",
       "    .dataframe tbody tr th:only-of-type {\n",
       "        vertical-align: middle;\n",
       "    }\n",
       "\n",
       "    .dataframe tbody tr th {\n",
       "        vertical-align: top;\n",
       "    }\n",
       "\n",
       "    .dataframe thead th {\n",
       "        text-align: right;\n",
       "    }\n",
       "</style>\n",
       "<table border=\"1\" class=\"dataframe\">\n",
       "  <thead>\n",
       "    <tr style=\"text-align: right;\">\n",
       "      <th></th>\n",
       "      <th>parent_court</th>\n",
       "      <th>parent_court_url</th>\n",
       "    </tr>\n",
       "  </thead>\n",
       "  <tbody>\n",
       "    <tr>\n",
       "      <th>0</th>\n",
       "      <td>Court of Final Appeal</td>\n",
       "      <td>https://legalref.judiciary.hk/lrs/common/ju/ju...</td>\n",
       "    </tr>\n",
       "    <tr>\n",
       "      <th>1</th>\n",
       "      <td>Court of Appeal of the High Court</td>\n",
       "      <td>https://legalref.judiciary.hk/lrs/common/ju/ju...</td>\n",
       "    </tr>\n",
       "    <tr>\n",
       "      <th>2</th>\n",
       "      <td>High Court</td>\n",
       "      <td>https://legalref.judiciary.hk/lrs/common/ju/ju...</td>\n",
       "    </tr>\n",
       "    <tr>\n",
       "      <th>3</th>\n",
       "      <td>Competition Tribunal</td>\n",
       "      <td>https://legalref.judiciary.hk/lrs/common/ju/ju...</td>\n",
       "    </tr>\n",
       "    <tr>\n",
       "      <th>4</th>\n",
       "      <td>District Court</td>\n",
       "      <td>https://legalref.judiciary.hk/lrs/common/ju/ju...</td>\n",
       "    </tr>\n",
       "    <tr>\n",
       "      <th>5</th>\n",
       "      <td>Family Court</td>\n",
       "      <td>https://legalref.judiciary.hk/lrs/common/ju/ju...</td>\n",
       "    </tr>\n",
       "    <tr>\n",
       "      <th>6</th>\n",
       "      <td>Lands Tribunal</td>\n",
       "      <td>https://legalref.judiciary.hk/lrs/common/ju/ju...</td>\n",
       "    </tr>\n",
       "    <tr>\n",
       "      <th>7</th>\n",
       "      <td>Miscellaneous</td>\n",
       "      <td>https://legalref.judiciary.hk/lrs/common/ju/ju...</td>\n",
       "    </tr>\n",
       "  </tbody>\n",
       "</table>\n",
       "</div>"
      ],
      "text/plain": [
       "                        parent_court  \\\n",
       "0              Court of Final Appeal   \n",
       "1  Court of Appeal of the High Court   \n",
       "2                         High Court   \n",
       "3               Competition Tribunal   \n",
       "4                     District Court   \n",
       "5                       Family Court   \n",
       "6                     Lands Tribunal   \n",
       "7                      Miscellaneous   \n",
       "\n",
       "                                    parent_court_url  \n",
       "0  https://legalref.judiciary.hk/lrs/common/ju/ju...  \n",
       "1  https://legalref.judiciary.hk/lrs/common/ju/ju...  \n",
       "2  https://legalref.judiciary.hk/lrs/common/ju/ju...  \n",
       "3  https://legalref.judiciary.hk/lrs/common/ju/ju...  \n",
       "4  https://legalref.judiciary.hk/lrs/common/ju/ju...  \n",
       "5  https://legalref.judiciary.hk/lrs/common/ju/ju...  \n",
       "6  https://legalref.judiciary.hk/lrs/common/ju/ju...  \n",
       "7  https://legalref.judiciary.hk/lrs/common/ju/ju...  "
      ]
     },
     "execution_count": 4,
     "metadata": {},
     "output_type": "execute_result"
    }
   ],
   "source": [
    "df_courts = pd.DataFrame([(k,v) for k,v in courts.items()], columns=['parent_court', 'parent_court_url'])\n",
    "df_courts"
   ]
  },
  {
   "cell_type": "markdown",
   "metadata": {},
   "source": [
    "## Hieachy 2: sub courts"
   ]
  },
  {
   "cell_type": "code",
   "execution_count": 5,
   "metadata": {},
   "outputs": [
    {
     "name": "stdout",
     "output_type": "stream",
     "text": [
      "200\n"
     ]
    }
   ],
   "source": [
    "# test case\n",
    "url = 'https://legalref.judiciary.hk/lrs/common/ju/judgment.jsp?L1=DC#H5'\n",
    "root = url_to_root(url)\n",
    "        \n",
    "# get raw infomation\n",
    "info_list = root.find('script', string=re.compile(\"var myMenu\")).text.split(\",\")"
   ]
  },
  {
   "cell_type": "code",
   "execution_count": 6,
   "metadata": {},
   "outputs": [
    {
     "data": {
      "text/plain": [
       "{'Competition Tribunal',\n",
       " 'Court of Appeal of the High Court',\n",
       " 'Court of Final Appeal',\n",
       " 'District Court',\n",
       " 'Family Court',\n",
       " 'High Court',\n",
       " 'Lands Tribunal',\n",
       " 'Miscellaneous'}"
      ]
     },
     "execution_count": 6,
     "metadata": {},
     "output_type": "execute_result"
    }
   ],
   "source": [
    "parent_courts_set = set(df_courts['parent_court'])\n",
    "parent_courts_set"
   ]
  },
  {
   "cell_type": "code",
   "execution_count": 7,
   "metadata": {},
   "outputs": [
    {
     "data": {
      "text/plain": [
       "['Civil Action',\n",
       " 'Criminal Case',\n",
       " 'Distraint Case',\n",
       " 'District Court Tax Claim',\n",
       " 'Employee Compensation Case',\n",
       " 'Equal Opportunitie Action',\n",
       " 'Intended Action',\n",
       " 'Miscellaneou Proceeding',\n",
       " 'Occupational Deafne (Compensation) Appeal',\n",
       " 'Personal Injurie Action',\n",
       " 'Stamp Duty Appeal']"
      ]
     },
     "execution_count": 7,
     "metadata": {},
     "output_type": "execute_result"
    }
   ],
   "source": [
    "def clear_name(a):\n",
    "    ans = ' '.join([i.strip(\"\\\\s'\")for i in a.split(\" \")])\n",
    "    return ans\n",
    "\n",
    "parent_courts_set = set(df_courts['parent_court'])\n",
    "now = set([BeautifulSoup(i.strip(\"' \")).text.strip(\" \") for i in info_list if len(re.findall('<a name=', i))!=0])\n",
    "sub_courts = sorted(list(now - parent_courts_set))\n",
    "sub_courts = [clear_name(s) for s in sub_courts]\n",
    "sub_courts"
   ]
  },
  {
   "cell_type": "code",
   "execution_count": 8,
   "metadata": {},
   "outputs": [
    {
     "name": "stdout",
     "output_type": "stream",
     "text": [
      "200\n",
      "subcourts: 5\n",
      "urls: 5\n",
      "dict length:  5\n",
      "200\n",
      "subcourts: 6\n",
      "urls: 6\n",
      "dict length:  6\n",
      "200\n",
      "subcourts: 31\n",
      "urls: 31\n",
      "dict length:  31\n",
      "200\n",
      "subcourts: 2\n",
      "urls: 2\n",
      "dict length:  2\n",
      "200\n",
      "subcourts: 11\n",
      "urls: 11\n",
      "dict length:  11\n",
      "200\n",
      "subcourts: 3\n",
      "urls: 3\n",
      "dict length:  3\n",
      "200\n",
      "subcourts: 19\n",
      "urls: 19\n",
      "dict length:  19\n",
      "200\n",
      "subcourts: 11\n",
      "urls: 11\n",
      "dict length:  11\n"
     ]
    },
    {
     "data": {
      "text/plain": [
       "{'Court of Final Appeal': {'Final Appeal (Civil)': ('Final Appeal (Civil)',\n",
       "   'https://legalref.judiciary.hk/lrs/common/ju/judgment.jsp?L1=FA&L2=CV&AR=1#A1'),\n",
       "  'Final Appeal (Criminal)': ('Final Appeal (Criminal)',\n",
       "   'https://legalref.judiciary.hk/lrs/common/ju/judgment.jsp?L1=FA&L2=CC&AR=2#A2'),\n",
       "  'Miscellaneous Proceedings': ('Miscellaneou Proceeding',\n",
       "   'https://legalref.judiciary.hk/lrs/common/ju/judgment.jsp?L1=FA&L2=MP&AR=3#A3'),\n",
       "  'Miscellaneous Proceedings (Civil)': ('Miscellaneou Proceeding (Civil)',\n",
       "   'https://legalref.judiciary.hk/lrs/common/ju/judgment.jsp?L1=FA&L2=MV&AR=4#A4'),\n",
       "  'Miscellaneous Proceedings (Criminal)': ('Miscellaneou Proceeding (Criminal)',\n",
       "   'https://legalref.judiciary.hk/lrs/common/ju/judgment.jsp?L1=FA&L2=MC&AR=5#A5')},\n",
       " 'Court of Appeal of the High Court': {'Application for Review': ('Application for Review',\n",
       "   'https://legalref.judiciary.hk/lrs/common/ju/judgment.jsp?L1=CA&L2=AR&AR=1#A1'),\n",
       "  \"Attorney General\\\\'s Reference\": ('Attorney General Reference',\n",
       "   'https://legalref.judiciary.hk/lrs/common/ju/judgment.jsp?L1=CA&L2=AG&AR=2#A2'),\n",
       "  'Civil Appeal': ('Civil Appeal',\n",
       "   'https://legalref.judiciary.hk/lrs/common/ju/judgment.jsp?L1=CA&L2=CV&AR=3#A3'),\n",
       "  'Criminal Appeal': ('Criminal Appeal',\n",
       "   'https://legalref.judiciary.hk/lrs/common/ju/judgment.jsp?L1=CA&L2=CC&AR=4#A4'),\n",
       "  'Miscellaneous Proceedings': ('Miscellaneou Proceeding',\n",
       "   'https://legalref.judiciary.hk/lrs/common/ju/judgment.jsp?L1=CA&L2=MP&AR=5#A5'),\n",
       "  'Reservation of Question of Law': ('Reservation of Question of Law',\n",
       "   'https://legalref.judiciary.hk/lrs/common/ju/judgment.jsp?L1=CA&L2=QL&AR=6#A6')},\n",
       " 'High Court': {'Admiralty Action': ('Admiralty Action',\n",
       "   'https://legalref.judiciary.hk/lrs/common/ju/judgment.jsp?L1=HC&L2=AJ&AR=1#A1'),\n",
       "  'Adoption Application': ('Adoption Application',\n",
       "   'https://legalref.judiciary.hk/lrs/common/ju/judgment.jsp?L1=HC&L2=AD&AR=2#A2'),\n",
       "  'Application for Grant': ('Application for Grant',\n",
       "   'https://legalref.judiciary.hk/lrs/common/ju/judgment.jsp?L1=HC&L2=AG&AR=3#A3'),\n",
       "  'Application to set aside a Statutory Demand (under Bankruptcy Ordinance)': ('Application to et aside a Statutory Demand (under Bankruptcy Ordinance)',\n",
       "   'https://legalref.judiciary.hk/lrs/common/ju/judgment.jsp?L1=HC&L2=SD&AR=4#A4'),\n",
       "  'Applications under the Mental Health Ordinance': ('Application under the Mental Health Ordinance',\n",
       "   'https://legalref.judiciary.hk/lrs/common/ju/judgment.jsp?L1=HC&L2=MH&AR=5#A5'),\n",
       "  'Bankruptcy Proceedings': ('Bankruptcy Proceeding',\n",
       "   'https://legalref.judiciary.hk/lrs/common/ju/judgment.jsp?L1=HC&L2=B&AR=6#A6'),\n",
       "  'Caveat': ('Caveat',\n",
       "   'https://legalref.judiciary.hk/lrs/common/ju/judgment.jsp?L1=HC&L2=CA&AR=7#A7'),\n",
       "  'Citation Application': ('Citation Application',\n",
       "   'https://legalref.judiciary.hk/lrs/common/ju/judgment.jsp?L1=HC&L2=CI&AR=8#A8'),\n",
       "  'Civil Action': ('Civil Action',\n",
       "   'https://legalref.judiciary.hk/lrs/common/ju/judgment.jsp?L1=HC&L2=A&AR=9#A9'),\n",
       "  'Commercial Action': ('Commercial Action',\n",
       "   'https://legalref.judiciary.hk/lrs/common/ju/judgment.jsp?L1=HC&L2=CL&AR=10#A10'),\n",
       "  'Companies Winding-up Proceedings': ('Companie Winding-up Proceeding',\n",
       "   'https://legalref.judiciary.hk/lrs/common/ju/judgment.jsp?L1=HC&L2=CW&AR=11#A11'),\n",
       "  'Confidential Miscellaneous Proceedings': ('Confidential Miscellaneou Proceeding',\n",
       "   'https://legalref.judiciary.hk/lrs/common/ju/judgment.jsp?L1=HC&L2=CM&AR=12#A12'),\n",
       "  'Constitutional and Administrative Law Proceedings': ('Constitutional and Administrative Law Proceeding',\n",
       "   'https://legalref.judiciary.hk/lrs/common/ju/judgment.jsp?L1=HC&L2=AL&AR=13#A13'),\n",
       "  'Construction and Arbitration Proceedings': ('Construction and Arbitration Proceeding',\n",
       "   'https://legalref.judiciary.hk/lrs/common/ju/judgment.jsp?L1=HC&L2=CT&AR=14#A14'),\n",
       "  'Criminal Case': ('Criminal Case',\n",
       "   'https://legalref.judiciary.hk/lrs/common/ju/judgment.jsp?L1=HC&L2=CC&AR=15#A15'),\n",
       "  'Estate Duty Appeal': ('Estate Duty Appeal',\n",
       "   'https://legalref.judiciary.hk/lrs/common/ju/judgment.jsp?L1=HC&L2=ED&AR=16#A16'),\n",
       "  'Ex-parte Application': ('Ex-parte Application',\n",
       "   'https://legalref.judiciary.hk/lrs/common/ju/judgment.jsp?L1=HC&L2=EA&AR=17#A17'),\n",
       "  'High Court Bankruptcy Interim Order': ('High Court Bankruptcy Interim Order',\n",
       "   'https://legalref.judiciary.hk/lrs/common/ju/judgment.jsp?L1=HC&L2=BI&AR=18#A18'),\n",
       "  'Inland Revenue Appeal': ('Inland Revenue Appeal',\n",
       "   'https://legalref.judiciary.hk/lrs/common/ju/judgment.jsp?L1=HC&L2=IA&AR=19#A19'),\n",
       "  'Intended Action': ('Intended Action',\n",
       "   'https://legalref.judiciary.hk/lrs/common/ju/judgment.jsp?L1=HC&L2=ZZ&AR=20#A20'),\n",
       "  'Labour Tribunal Appeal': ('Labour Tribunal Appeal',\n",
       "   'https://legalref.judiciary.hk/lrs/common/ju/judgment.jsp?L1=HC&L2=LA&AR=21#A21'),\n",
       "  'Legal Aid Appeal': ('Legal Aid Appeal',\n",
       "   'https://legalref.judiciary.hk/lrs/common/ju/judgment.jsp?L1=HC&L2=AA&AR=22#A22'),\n",
       "  'Magistracy Appeal': ('Magistracy Appeal',\n",
       "   'https://legalref.judiciary.hk/lrs/common/ju/judgment.jsp?L1=HC&L2=MA&AR=23#A23'),\n",
       "  'Matrimonial Causes': ('Matrimonial Cause',\n",
       "   'https://legalref.judiciary.hk/lrs/common/ju/judgment.jsp?L1=HC&L2=MC&AR=24#A24'),\n",
       "  'Minor Employment Claims Appeal': ('Minor Employment Claim Appeal',\n",
       "   'https://legalref.judiciary.hk/lrs/common/ju/judgment.jsp?L1=HC&L2=ME&AR=25#A25'),\n",
       "  'Miscellaneous Proceedings': ('Miscellaneou Proceeding',\n",
       "   'https://legalref.judiciary.hk/lrs/common/ju/judgment.jsp?L1=HC&L2=MP&AR=26#A26'),\n",
       "  'Miscellaneous Proceedings (Criminal)': ('Miscellaneou Proceeding (Criminal)',\n",
       "   'https://legalref.judiciary.hk/lrs/common/ju/judgment.jsp?L1=HC&L2=CP&AR=27#A27'),\n",
       "  'Obscene Articles Tribunal Appeal': ('Obscene Article Tribunal Appeal',\n",
       "   'https://legalref.judiciary.hk/lrs/common/ju/judgment.jsp?L1=HC&L2=OA&AR=28#A28'),\n",
       "  'Personal Injuries Action': ('Personal Injurie Action',\n",
       "   'https://legalref.judiciary.hk/lrs/common/ju/judgment.jsp?L1=HC&L2=PI&AR=29#A29'),\n",
       "  'Probate Action': ('Probate Action',\n",
       "   'https://legalref.judiciary.hk/lrs/common/ju/judgment.jsp?L1=HC&L2=AP&AR=30#A30'),\n",
       "  'Small Claims Tribunal Appeal': ('Small Claim Tribunal Appeal',\n",
       "   'https://legalref.judiciary.hk/lrs/common/ju/judgment.jsp?L1=HC&L2=SA&AR=31#A31')},\n",
       " 'Competition Tribunal': {'Competition Tribunal Action': ('Competition Tribunal Action',\n",
       "   'https://legalref.judiciary.hk/lrs/common/ju/judgment.jsp?L1=CT&L2=A&AR=1#A1'),\n",
       "  'Competition Tribunal Enforcement Action': ('Competition Tribunal Enforcement Action',\n",
       "   'https://legalref.judiciary.hk/lrs/common/ju/judgment.jsp?L1=CT&L2=EA&AR=2#A2')},\n",
       " 'District Court': {'Civil Action': ('Civil Action',\n",
       "   'https://legalref.judiciary.hk/lrs/common/ju/judgment.jsp?L1=DC&L2=CJ&AR=1#A1'),\n",
       "  'Criminal Case': ('Criminal Case',\n",
       "   'https://legalref.judiciary.hk/lrs/common/ju/judgment.jsp?L1=DC&L2=CC&AR=2#A2'),\n",
       "  'Distraint Case': ('Distraint Case',\n",
       "   'https://legalref.judiciary.hk/lrs/common/ju/judgment.jsp?L1=DC&L2=DT&AR=3#A3'),\n",
       "  'District Court Tax Claim': ('District Court Tax Claim',\n",
       "   'https://legalref.judiciary.hk/lrs/common/ju/judgment.jsp?L1=DC&L2=TC&AR=4#A4'),\n",
       "  \"Employee\\\\'s Compensation Case\": ('Employee Compensation Case',\n",
       "   'https://legalref.judiciary.hk/lrs/common/ju/judgment.jsp?L1=DC&L2=EC&AR=5#A5'),\n",
       "  'Equal Opportunities Action': ('Equal Opportunitie Action',\n",
       "   'https://legalref.judiciary.hk/lrs/common/ju/judgment.jsp?L1=DC&L2=EO&AR=6#A6'),\n",
       "  'Intended Action': ('Intended Action',\n",
       "   'https://legalref.judiciary.hk/lrs/common/ju/judgment.jsp?L1=DC&L2=ZZ&AR=7#A7'),\n",
       "  'Miscellaneous Proceedings': ('Miscellaneou Proceeding',\n",
       "   'https://legalref.judiciary.hk/lrs/common/ju/judgment.jsp?L1=DC&L2=MP&AR=8#A8'),\n",
       "  'Occupational Deafness (Compensation) Appeal': ('Occupational Deafne (Compensation) Appeal',\n",
       "   'https://legalref.judiciary.hk/lrs/common/ju/judgment.jsp?L1=DC&L2=OA&AR=9#A9'),\n",
       "  'Personal Injuries Action': ('Personal Injurie Action',\n",
       "   'https://legalref.judiciary.hk/lrs/common/ju/judgment.jsp?L1=DC&L2=PI&AR=10#A10'),\n",
       "  'Stamp Duty Appeal': ('Stamp Duty Appeal',\n",
       "   'https://legalref.judiciary.hk/lrs/common/ju/judgment.jsp?L1=DC&L2=SA&AR=11#A11')},\n",
       " 'Family Court': {'Joint application': ('Joint application',\n",
       "   'https://legalref.judiciary.hk/lrs/common/ju/judgment.jsp?L1=FC&L2=JA&AR=1#A1'),\n",
       "  'Matrimonial Causes': ('Matrimonial Cause',\n",
       "   'https://legalref.judiciary.hk/lrs/common/ju/judgment.jsp?L1=FC&L2=MC&AR=2#A2'),\n",
       "  'Miscellaneous Proceedings': ('Miscellaneou Proceeding',\n",
       "   'https://legalref.judiciary.hk/lrs/common/ju/judgment.jsp?L1=FC&L2=MP&AR=3#A3')},\n",
       " 'Lands Tribunal': {'Building Management Application': ('Building Management Application',\n",
       "   'https://legalref.judiciary.hk/lrs/common/ju/judgment.jsp?L1=LD&L2=BM&AR=1#A1'),\n",
       "  'Buildings Ordinance Application': ('Building Ordinance Application',\n",
       "   'https://legalref.judiciary.hk/lrs/common/ju/judgment.jsp?L1=LD&L2=BG&AR=2#A2'),\n",
       "  'Demolished Buildings Appeal': ('Demolished Building Appeal',\n",
       "   'https://legalref.judiciary.hk/lrs/common/ju/judgment.jsp?L1=LD&L2=DA&AR=3#A3'),\n",
       "  'Demolished Buildings Application': ('Demolished Building Application',\n",
       "   'https://legalref.judiciary.hk/lrs/common/ju/judgment.jsp?L1=LD&L2=DB&AR=4#A4'),\n",
       "  'Government Rent Appeal': ('Government Rent Appeal',\n",
       "   'https://legalref.judiciary.hk/lrs/common/ju/judgment.jsp?L1=LD&L2=GA&AR=5#A5'),\n",
       "  'Housing Ordinance Appeal': ('Housing Ordinance Appeal',\n",
       "   'https://legalref.judiciary.hk/lrs/common/ju/judgment.jsp?L1=LD&L2=HA&AR=6#A6'),\n",
       "  'Land Compulsory Sale Application': ('Land Compulsory Sale Application',\n",
       "   'https://legalref.judiciary.hk/lrs/common/ju/judgment.jsp?L1=LD&L2=CS&AR=7#A7'),\n",
       "  'Land Resumption Application': ('Land Resumption Application',\n",
       "   'https://legalref.judiciary.hk/lrs/common/ju/judgment.jsp?L1=LD&L2=LR&AR=8#A8'),\n",
       "  'Landlord  Appeal': ('Landlord  Appeal',\n",
       "   'https://legalref.judiciary.hk/lrs/common/ju/judgment.jsp?L1=LD&L2=LA&AR=9#A9'),\n",
       "  'MTR Ordinance Application': ('MTR Ordinance Application',\n",
       "   'https://legalref.judiciary.hk/lrs/common/ju/judgment.jsp?L1=LD&L2=MT&AR=10#A10'),\n",
       "  'Miscellaneous Proceedings Application': ('Miscellaneou Proceeding Application',\n",
       "   'https://legalref.judiciary.hk/lrs/common/ju/judgment.jsp?L1=LD&L2=MP&AR=11#A11'),\n",
       "  'Miscellaneous References Application': ('Miscellaneou Reference Application',\n",
       "   'https://legalref.judiciary.hk/lrs/common/ju/judgment.jsp?L1=LD&L2=MR&AR=12#A12'),\n",
       "  'New Tenancy Application': ('New Tenancy Application',\n",
       "   'https://legalref.judiciary.hk/lrs/common/ju/judgment.jsp?L1=LD&L2=NT&AR=13#A13'),\n",
       "  'Part I Possession Application': ('Part I Possession Application',\n",
       "   'https://legalref.judiciary.hk/lrs/common/ju/judgment.jsp?L1=LD&L2=PA&AR=14#A14'),\n",
       "  'Part II Possession Application': ('Part II Possession Application',\n",
       "   'https://legalref.judiciary.hk/lrs/common/ju/judgment.jsp?L1=LD&L2=PB&AR=15#A15'),\n",
       "  'Part IV Possession Application': ('Part IV Possession Application',\n",
       "   'https://legalref.judiciary.hk/lrs/common/ju/judgment.jsp?L1=LD&L2=PD&AR=16#A16'),\n",
       "  'Part V Possession Application': ('Part V Possession Application',\n",
       "   'https://legalref.judiciary.hk/lrs/common/ju/judgment.jsp?L1=LD&L2=PE&AR=17#A17'),\n",
       "  'Railways Ordinance Application': ('Railway Ordinance Application',\n",
       "   'https://legalref.judiciary.hk/lrs/common/ju/judgment.jsp?L1=LD&L2=RW&AR=18#A18'),\n",
       "  'Rating Appeal': ('Rating Appeal',\n",
       "   'https://legalref.judiciary.hk/lrs/common/ju/judgment.jsp?L1=LD&L2=RA&AR=19#A19')},\n",
       " 'Miscellaneous': {\"Coroner\\\\'s Court Death Inquest\": ('Coroner Court Death Inquest',\n",
       "   'https://legalref.judiciary.hk/lrs/common/ju/judgment.jsp?L1=CC&L2=DI&AR=1#A1'),\n",
       "  \"Eastern Magistrates\\\\' Court Charge Case\": ('Eastern Magistrate Court Charge Case',\n",
       "   'https://legalref.judiciary.hk/lrs/common/ju/judgment.jsp?L1=ES&L2=CC&AR=2#A2'),\n",
       "  \"Eastern Magistrates\\\\' Court Summons Case\": ('Eastern Magistrate Court Summon Case',\n",
       "   'https://legalref.judiciary.hk/lrs/common/ju/judgment.jsp?L1=ES&L2=S&AR=3#A3'),\n",
       "  \"Kowloon City Magistrates\\\\' Court Charge Case\": ('Kowloon City Magistrate Court Charge Case',\n",
       "   'https://legalref.judiciary.hk/lrs/common/ju/judgment.jsp?L1=KC&L2=CC&AR=4#A4'),\n",
       "  'Kowloon City Magistrates’ Court Summons Case': ('Kowloon City Magistrates’ Court Summon Case',\n",
       "   'https://legalref.judiciary.hk/lrs/common/ju/judgment.jsp?L1=KC&L2=S&AR=5#A5'),\n",
       "  'Labour Tribunal Claim': ('Labour Tribunal Claim',\n",
       "   'https://legalref.judiciary.hk/lrs/common/ju/judgment.jsp?L1=LB&L2=TC&AR=6#A6'),\n",
       "  'Obscene Articles Tribunal Case': ('Obscene Article Tribunal Case',\n",
       "   'https://legalref.judiciary.hk/lrs/common/ju/judgment.jsp?L1=OA&L2=TD&AR=7#A7'),\n",
       "  \"Shatin Magistrates\\\\' Court Charge Case\": ('Shatin Magistrate Court Charge Case',\n",
       "   'https://legalref.judiciary.hk/lrs/common/ju/judgment.jsp?L1=ST&L2=CC&AR=8#A8'),\n",
       "  'Small Claims Tribunal Claim': ('Small Claim Tribunal Claim',\n",
       "   'https://legalref.judiciary.hk/lrs/common/ju/judgment.jsp?L1=SC&L2=TC&AR=9#A9'),\n",
       "  \"Tuen Mun Magistrates\\\\' Court Charge Case\": ('Tuen Mun Magistrate Court Charge Case',\n",
       "   'https://legalref.judiciary.hk/lrs/common/ju/judgment.jsp?L1=TM&L2=CC&AR=10#A10'),\n",
       "  \"West Kowloon Magistrates\\\\' Court Charge Case\": ('West Kowloon Magistrate Court Charge Case',\n",
       "   'https://legalref.judiciary.hk/lrs/common/ju/judgment.jsp?L1=WK&L2=CC&AR=11#A11')}}"
      ]
     },
     "execution_count": 8,
     "metadata": {},
     "output_type": "execute_result"
    }
   ],
   "source": [
    "def parse_sub_courts(courts, parent_courts_set):\n",
    "    \"\"\"Parse sub-courts information.\n",
    "    Args:\n",
    "        courts (dict) : parent_courts -> url\n",
    "        parent_courts_set \n",
    "    Return:\n",
    "        sub_dict (dict) : parent_courts -> dictionary(sub_courts -> url) \n",
    "    \n",
    "    \"\"\"\n",
    "    sub_dict = {} # initialize\n",
    "\n",
    "    for c, url in courts.items():\n",
    "        time.sleep(1) # request web slowly for benevolence\n",
    "        root = url_to_root(url)\n",
    "        \n",
    "        # get sub courts names\n",
    "        # get raw infomation\n",
    "        info_list = root.find('script', string=re.compile(\"var myMenu\")).text.split(\",\")\n",
    "        # create bs4 object list for strings has tag \"a\" and attr name\n",
    "        now = set([BeautifulSoup(i.strip(\"' \")).text.strip(\" \") for i in info_list if len(re.findall('<a name=', i))!=0])\n",
    "        sub_courts = sorted(list(now - parent_courts_set)) # notice order in alphbets\n",
    "        sub_courts_cleared = [clear_name(s) for s in sub_courts] # clear names\n",
    "        print('subcourts:',len(sub_courts))\n",
    "        \n",
    "        # get sub courts urls\n",
    "        # re-get raw infomation\n",
    "        info_list = root.find('script', string=re.compile(\"var myMenu\")).text.split(\"'\") # notice split by up-comma\n",
    "        # observe sub-courts' urls are longer than parents', so find sub-courts' urls' length\n",
    "        http_min_len = min(set([len(i) for i in info_list if i[:5]=='https']))\n",
    "        # get sub-courts' urls\n",
    "        sub_courts_urls = [i for i in info_list if i[:5]=='https' if len(i)>http_min_len]\n",
    "        print('urls:', len(sub_courts_urls))\n",
    "        # store in dict\n",
    "        subs = {sc.strip(\" \"):(sc_, url) for sc, sc_, url in zip(sub_courts, sub_courts_cleared, sub_courts_urls)}\n",
    "        # assign to parent courts\n",
    "        print('dict length: ',len(subs))\n",
    "        sub_dict[c] = subs\n",
    "    return sub_dict\n",
    "\n",
    "parent_courts_set = set(df_courts['parent_court'])\n",
    "sub_dict = parse_sub_courts(courts, parent_courts_set)\n",
    "sub_dict"
   ]
  },
  {
   "cell_type": "code",
   "execution_count": 9,
   "metadata": {},
   "outputs": [
    {
     "data": {
      "text/html": [
       "<div>\n",
       "<style scoped>\n",
       "    .dataframe tbody tr th:only-of-type {\n",
       "        vertical-align: middle;\n",
       "    }\n",
       "\n",
       "    .dataframe tbody tr th {\n",
       "        vertical-align: top;\n",
       "    }\n",
       "\n",
       "    .dataframe thead th {\n",
       "        text-align: right;\n",
       "    }\n",
       "</style>\n",
       "<table border=\"1\" class=\"dataframe\">\n",
       "  <thead>\n",
       "    <tr style=\"text-align: right;\">\n",
       "      <th></th>\n",
       "      <th>sub_court</th>\n",
       "      <th>sub_court_cleared</th>\n",
       "      <th>sub_court_url</th>\n",
       "      <th>parent_court</th>\n",
       "      <th>parent_court_url</th>\n",
       "    </tr>\n",
       "  </thead>\n",
       "  <tbody>\n",
       "    <tr>\n",
       "      <th>0</th>\n",
       "      <td>Final Appeal (Civil)</td>\n",
       "      <td>Final Appeal (Civil)</td>\n",
       "      <td>https://legalref.judiciary.hk/lrs/common/ju/ju...</td>\n",
       "      <td>Court of Final Appeal</td>\n",
       "      <td>https://legalref.judiciary.hk/lrs/common/ju/ju...</td>\n",
       "    </tr>\n",
       "    <tr>\n",
       "      <th>1</th>\n",
       "      <td>Final Appeal (Criminal)</td>\n",
       "      <td>Final Appeal (Criminal)</td>\n",
       "      <td>https://legalref.judiciary.hk/lrs/common/ju/ju...</td>\n",
       "      <td>Court of Final Appeal</td>\n",
       "      <td>https://legalref.judiciary.hk/lrs/common/ju/ju...</td>\n",
       "    </tr>\n",
       "    <tr>\n",
       "      <th>2</th>\n",
       "      <td>Miscellaneous Proceedings</td>\n",
       "      <td>Miscellaneou Proceeding</td>\n",
       "      <td>https://legalref.judiciary.hk/lrs/common/ju/ju...</td>\n",
       "      <td>Court of Final Appeal</td>\n",
       "      <td>https://legalref.judiciary.hk/lrs/common/ju/ju...</td>\n",
       "    </tr>\n",
       "    <tr>\n",
       "      <th>3</th>\n",
       "      <td>Miscellaneous Proceedings (Civil)</td>\n",
       "      <td>Miscellaneou Proceeding (Civil)</td>\n",
       "      <td>https://legalref.judiciary.hk/lrs/common/ju/ju...</td>\n",
       "      <td>Court of Final Appeal</td>\n",
       "      <td>https://legalref.judiciary.hk/lrs/common/ju/ju...</td>\n",
       "    </tr>\n",
       "    <tr>\n",
       "      <th>4</th>\n",
       "      <td>Miscellaneous Proceedings (Criminal)</td>\n",
       "      <td>Miscellaneou Proceeding (Criminal)</td>\n",
       "      <td>https://legalref.judiciary.hk/lrs/common/ju/ju...</td>\n",
       "      <td>Court of Final Appeal</td>\n",
       "      <td>https://legalref.judiciary.hk/lrs/common/ju/ju...</td>\n",
       "    </tr>\n",
       "  </tbody>\n",
       "</table>\n",
       "</div>"
      ],
      "text/plain": [
       "                              sub_court                   sub_court_cleared  \\\n",
       "0                  Final Appeal (Civil)                Final Appeal (Civil)   \n",
       "1               Final Appeal (Criminal)             Final Appeal (Criminal)   \n",
       "2             Miscellaneous Proceedings             Miscellaneou Proceeding   \n",
       "3     Miscellaneous Proceedings (Civil)     Miscellaneou Proceeding (Civil)   \n",
       "4  Miscellaneous Proceedings (Criminal)  Miscellaneou Proceeding (Criminal)   \n",
       "\n",
       "                                       sub_court_url           parent_court  \\\n",
       "0  https://legalref.judiciary.hk/lrs/common/ju/ju...  Court of Final Appeal   \n",
       "1  https://legalref.judiciary.hk/lrs/common/ju/ju...  Court of Final Appeal   \n",
       "2  https://legalref.judiciary.hk/lrs/common/ju/ju...  Court of Final Appeal   \n",
       "3  https://legalref.judiciary.hk/lrs/common/ju/ju...  Court of Final Appeal   \n",
       "4  https://legalref.judiciary.hk/lrs/common/ju/ju...  Court of Final Appeal   \n",
       "\n",
       "                                    parent_court_url  \n",
       "0  https://legalref.judiciary.hk/lrs/common/ju/ju...  \n",
       "1  https://legalref.judiciary.hk/lrs/common/ju/ju...  \n",
       "2  https://legalref.judiciary.hk/lrs/common/ju/ju...  \n",
       "3  https://legalref.judiciary.hk/lrs/common/ju/ju...  \n",
       "4  https://legalref.judiciary.hk/lrs/common/ju/ju...  "
      ]
     },
     "execution_count": 9,
     "metadata": {},
     "output_type": "execute_result"
    }
   ],
   "source": [
    "def df_for_sub(sub_dict):\n",
    "    return pd.DataFrame([(k,v[0],v[1]) for k,v in sub_dict.items()], columns=['sub_court', 'sub_court_cleared', 'sub_court_url'])\n",
    "\n",
    "dfs = []\n",
    "for p_court, s_dict in sub_dict.items():\n",
    "    sub_df = df_for_sub(s_dict)\n",
    "    sub_df['parent_court'] = p_court\n",
    "    dfs.append(sub_df)\n",
    "    \n",
    "df_all = pd.concat(dfs, axis=0)\n",
    "df_all.index = range(len(df_all))\n",
    "df_all = pd.merge(df_all, df_courts, how='left', on='parent_court')\n",
    "df_all.head()"
   ]
  },
  {
   "cell_type": "code",
   "execution_count": 10,
   "metadata": {},
   "outputs": [
    {
     "data": {
      "text/plain": [
       "0                                  Final Appeal (Civil)\n",
       "1                               Final Appeal (Criminal)\n",
       "2                               Miscellaneou Proceeding\n",
       "3                       Miscellaneou Proceeding (Civil)\n",
       "4                    Miscellaneou Proceeding (Criminal)\n",
       "5                                Application for Review\n",
       "6                            Attorney General Reference\n",
       "7                                          Civil Appeal\n",
       "8                                       Criminal Appeal\n",
       "9                               Miscellaneou Proceeding\n",
       "10                       Reservation of Question of Law\n",
       "11                                     Admiralty Action\n",
       "12                                 Adoption Application\n",
       "13                                Application for Grant\n",
       "14    Application to et aside a Statutory Demand (un...\n",
       "15        Application under the Mental Health Ordinance\n",
       "16                                Bankruptcy Proceeding\n",
       "17                                               Caveat\n",
       "18                                 Citation Application\n",
       "19                                         Civil Action\n",
       "20                                    Commercial Action\n",
       "21                       Companie Winding-up Proceeding\n",
       "22                 Confidential Miscellaneou Proceeding\n",
       "23     Constitutional and Administrative Law Proceeding\n",
       "24              Construction and Arbitration Proceeding\n",
       "25                                        Criminal Case\n",
       "26                                   Estate Duty Appeal\n",
       "27                                 Ex-parte Application\n",
       "28                  High Court Bankruptcy Interim Order\n",
       "29                                Inland Revenue Appeal\n",
       "                            ...                        \n",
       "58                      Building Management Application\n",
       "59                       Building Ordinance Application\n",
       "60                           Demolished Building Appeal\n",
       "61                      Demolished Building Application\n",
       "62                               Government Rent Appeal\n",
       "63                             Housing Ordinance Appeal\n",
       "64                     Land Compulsory Sale Application\n",
       "65                          Land Resumption Application\n",
       "66                                     Landlord  Appeal\n",
       "67                            MTR Ordinance Application\n",
       "68                  Miscellaneou Proceeding Application\n",
       "69                   Miscellaneou Reference Application\n",
       "70                              New Tenancy Application\n",
       "71                        Part I Possession Application\n",
       "72                       Part II Possession Application\n",
       "73                       Part IV Possession Application\n",
       "74                        Part V Possession Application\n",
       "75                        Railway Ordinance Application\n",
       "76                                        Rating Appeal\n",
       "77                          Coroner Court Death Inquest\n",
       "78                 Eastern Magistrate Court Charge Case\n",
       "79                 Eastern Magistrate Court Summon Case\n",
       "80            Kowloon City Magistrate Court Charge Case\n",
       "81          Kowloon City Magistrates’ Court Summon Case\n",
       "82                                Labour Tribunal Claim\n",
       "83                        Obscene Article Tribunal Case\n",
       "84                  Shatin Magistrate Court Charge Case\n",
       "85                           Small Claim Tribunal Claim\n",
       "86                Tuen Mun Magistrate Court Charge Case\n",
       "87            West Kowloon Magistrate Court Charge Case\n",
       "Name: sub_court_cleared, Length: 88, dtype: object"
      ]
     },
     "execution_count": 10,
     "metadata": {},
     "output_type": "execute_result"
    }
   ],
   "source": [
    "df_all.sub_court_cleared"
   ]
  },
  {
   "cell_type": "markdown",
   "metadata": {},
   "source": [
    "## Hiearchy 3: years"
   ]
  },
  {
   "cell_type": "code",
   "execution_count": 11,
   "metadata": {},
   "outputs": [],
   "source": [
    "# for test case\n",
    "sub_ = \"West Kowloon Magistrate Court Charge Case\""
   ]
  },
  {
   "cell_type": "code",
   "execution_count": 12,
   "metadata": {},
   "outputs": [
    {
     "data": {
      "text/plain": [
       "['https://legalref.judiciary.hk/lrs/common/ju/judgment.jsp?L1=WK&L2=CC&AR=11#A11']"
      ]
     },
     "execution_count": 12,
     "metadata": {},
     "output_type": "execute_result"
    }
   ],
   "source": [
    "list(df_all[df_all['sub_court_cleared']==sub_]['sub_court_url'])"
   ]
  },
  {
   "cell_type": "code",
   "execution_count": 206,
   "metadata": {},
   "outputs": [
    {
     "name": "stderr",
     "output_type": "stream",
     "text": [
      "\r",
      "  0%|                                                   | 0/88 [00:00<?, ?it/s]"
     ]
    },
    {
     "name": "stdout",
     "output_type": "stream",
     "text": [
      "200\n",
      "200\n",
      "['Pre2013', '2015', '2013', '2016', '2018', '2017', '2014']\n"
     ]
    },
    {
     "name": "stderr",
     "output_type": "stream",
     "text": [
      "\r",
      "  1%|▍                                          | 1/88 [00:04<07:01,  4.85s/it]"
     ]
    },
    {
     "name": "stdout",
     "output_type": "stream",
     "text": [
      "200\n",
      "200\n",
      "['Pre2013', '2015', '2013', '2016', '2018', '2017', '2014']\n"
     ]
    },
    {
     "name": "stderr",
     "output_type": "stream",
     "text": [
      "\r",
      "  2%|▉                                          | 2/88 [00:10<07:08,  4.98s/it]"
     ]
    },
    {
     "name": "stdout",
     "output_type": "stream",
     "text": [
      "200\n",
      "200\n",
      "['2009', '2004', '2013', '2010', '2003', '2014']\n"
     ]
    },
    {
     "name": "stderr",
     "output_type": "stream",
     "text": [
      "\r",
      "  3%|█▍                                         | 3/88 [00:14<06:47,  4.79s/it]"
     ]
    },
    {
     "name": "stdout",
     "output_type": "stream",
     "text": [
      "200\n",
      "200\n",
      "['2015', '2019', 'Pre2014', '2016', '2017', '2018', '2014']\n"
     ]
    },
    {
     "name": "stderr",
     "output_type": "stream",
     "text": [
      "\r",
      "  5%|█▉                                         | 4/88 [00:19<06:45,  4.82s/it]"
     ]
    },
    {
     "name": "stdout",
     "output_type": "stream",
     "text": [
      "200\n",
      "200\n",
      "['2015', '2019', 'Pre2014', '2016', '2017', '2018', '2014']\n"
     ]
    },
    {
     "name": "stderr",
     "output_type": "stream",
     "text": [
      "\r",
      "  6%|██▍                                        | 5/88 [00:25<07:00,  5.07s/it]"
     ]
    },
    {
     "name": "stdout",
     "output_type": "stream",
     "text": [
      "200\n",
      "200\n",
      "['Pre2013', '2015', '2013', '2016', '2017', '2018', '2014']\n"
     ]
    },
    {
     "name": "stderr",
     "output_type": "stream",
     "text": [
      "\r",
      "  7%|██▉                                        | 6/88 [00:29<06:48,  4.99s/it]"
     ]
    },
    {
     "name": "stdout",
     "output_type": "stream",
     "text": [
      "200\n",
      "200\n",
      "['1986', '1994']\n"
     ]
    },
    {
     "name": "stderr",
     "output_type": "stream",
     "text": [
      "\r",
      "  8%|███▍                                       | 7/88 [00:33<06:14,  4.63s/it]"
     ]
    },
    {
     "name": "stdout",
     "output_type": "stream",
     "text": [
      "200\n",
      "200\n",
      "['2015', '2019', 'Pre2014', '2016', '2017', '2018', '2014']\n"
     ]
    },
    {
     "name": "stderr",
     "output_type": "stream",
     "text": [
      "\r",
      "  9%|███▉                                       | 8/88 [00:50<11:06,  8.33s/it]"
     ]
    },
    {
     "name": "stdout",
     "output_type": "stream",
     "text": [
      "200\n",
      "200\n",
      "['2015', '2019', 'Pre2014', '2016', '2017', '2018', '2014']\n"
     ]
    },
    {
     "name": "stderr",
     "output_type": "stream",
     "text": [
      "\r",
      " 10%|████▍                                      | 9/88 [00:58<10:40,  8.11s/it]"
     ]
    },
    {
     "name": "stdout",
     "output_type": "stream",
     "text": [
      "200\n",
      "200\n",
      "['2009', '2004', '2013', '2010', '2003', '2014']\n"
     ]
    },
    {
     "name": "stderr",
     "output_type": "stream",
     "text": [
      "\r",
      " 11%|████▊                                     | 10/88 [01:11<12:40,  9.75s/it]"
     ]
    },
    {
     "name": "stdout",
     "output_type": "stream",
     "text": [
      "200\n",
      "200\n",
      "['2018', '1997', '1994']\n"
     ]
    },
    {
     "name": "stderr",
     "output_type": "stream",
     "text": [
      "\r",
      " 12%|█████▎                                    | 11/88 [01:15<10:10,  7.93s/it]"
     ]
    },
    {
     "name": "stdout",
     "output_type": "stream",
     "text": [
      "200\n",
      "200\n",
      "['Pre2013', '2015', '2013', '2016', '2018', '2017', '2014']\n"
     ]
    },
    {
     "name": "stderr",
     "output_type": "stream",
     "text": [
      "\r",
      " 14%|█████▋                                    | 12/88 [01:19<08:27,  6.68s/it]"
     ]
    },
    {
     "name": "stdout",
     "output_type": "stream",
     "text": [
      "200\n",
      "200\n",
      "['1970', '1973', '1985', '1978', '1992', '1971', '1988']\n"
     ]
    },
    {
     "name": "stderr",
     "output_type": "stream",
     "text": [
      "\r",
      " 15%|██████▏                                   | 13/88 [01:23<07:21,  5.89s/it]"
     ]
    },
    {
     "name": "stdout",
     "output_type": "stream",
     "text": [
      "200\n",
      "200\n",
      "['2011', '2015', '2012', '2009', '2010', 'Pre2009', '2014']\n"
     ]
    },
    {
     "name": "stderr",
     "output_type": "stream",
     "text": [
      "\r",
      " 16%|██████▋                                   | 14/88 [01:27<06:35,  5.35s/it]"
     ]
    },
    {
     "name": "stdout",
     "output_type": "stream",
     "text": [
      "200\n",
      "200\n",
      "['2011', '2012', '2013', '2016', '2010', 'Pre2010', '2014']\n"
     ]
    },
    {
     "name": "stderr",
     "output_type": "stream",
     "text": [
      "\r",
      " 17%|███████▏                                  | 15/88 [01:43<10:36,  8.72s/it]"
     ]
    },
    {
     "name": "stdout",
     "output_type": "stream",
     "text": [
      "200\n",
      "200\n",
      "['2008', '2011', '2015', '2012', '2016', '2010', '2014']\n"
     ]
    },
    {
     "name": "stderr",
     "output_type": "stream",
     "text": [
      "\r",
      " 18%|███████▋                                  | 16/88 [01:47<08:39,  7.22s/it]"
     ]
    },
    {
     "name": "stdout",
     "output_type": "stream",
     "text": [
      "200\n",
      "200\n",
      "['Pre2013', '2015', '2013', '2016', '2018', '2017', '2014']\n"
     ]
    },
    {
     "name": "stderr",
     "output_type": "stream",
     "text": [
      "\r",
      " 19%|████████                                  | 17/88 [01:51<07:21,  6.22s/it]"
     ]
    },
    {
     "name": "stdout",
     "output_type": "stream",
     "text": [
      "200\n",
      "200\n",
      "['Pre2012', '2015', '2012', '2013', '2016', '2017', '2014']\n"
     ]
    },
    {
     "name": "stderr",
     "output_type": "stream",
     "text": [
      "\r",
      " 20%|████████▌                                 | 18/88 [01:55<06:23,  5.47s/it]"
     ]
    },
    {
     "name": "stdout",
     "output_type": "stream",
     "text": [
      "200\n",
      "200\n",
      "['2012', '2008']\n"
     ]
    },
    {
     "name": "stderr",
     "output_type": "stream",
     "text": [
      "\r",
      " 22%|█████████                                 | 19/88 [01:58<05:40,  4.94s/it]"
     ]
    },
    {
     "name": "stdout",
     "output_type": "stream",
     "text": [
      "200\n",
      "200\n",
      "['2015', '2019', 'Pre2014', '2016', '2017', '2018', '2014']\n"
     ]
    },
    {
     "name": "stderr",
     "output_type": "stream",
     "text": [
      "\r",
      " 23%|█████████▌                                | 20/88 [02:02<05:11,  4.58s/it]"
     ]
    },
    {
     "name": "stdout",
     "output_type": "stream",
     "text": [
      "200\n",
      "200\n",
      "['Pre2012', '2015', '2012', '2013', '2016', '2017', '2014']\n"
     ]
    },
    {
     "name": "stderr",
     "output_type": "stream",
     "text": [
      "\r",
      " 24%|██████████                                | 21/88 [02:06<04:58,  4.46s/it]"
     ]
    },
    {
     "name": "stdout",
     "output_type": "stream",
     "text": [
      "200\n",
      "200\n",
      "['2015', '2019', 'Pre2014', '2016', '2017', '2018', '2014']\n"
     ]
    },
    {
     "name": "stderr",
     "output_type": "stream",
     "text": [
      "\r",
      " 25%|██████████▌                               | 22/88 [02:14<05:57,  5.42s/it]"
     ]
    },
    {
     "name": "stdout",
     "output_type": "stream",
     "text": [
      "200\n",
      "200\n",
      "['2018', '2009', '2003']\n"
     ]
    },
    {
     "name": "stderr",
     "output_type": "stream",
     "text": [
      "\r",
      " 26%|██████████▉                               | 23/88 [02:36<11:11, 10.33s/it]"
     ]
    },
    {
     "name": "stdout",
     "output_type": "stream",
     "text": [
      "200\n",
      "200\n",
      "['2015', '2019', 'Pre2014', '2016', '2017', '2018', '2014']\n"
     ]
    },
    {
     "name": "stderr",
     "output_type": "stream",
     "text": [
      "\r",
      " 27%|███████████▍                              | 24/88 [02:40<09:01,  8.47s/it]"
     ]
    },
    {
     "name": "stdout",
     "output_type": "stream",
     "text": [
      "200\n",
      "200\n",
      "['Pre2013', '2015', '2013', '2016', '2018', '2017', '2014']\n"
     ]
    },
    {
     "name": "stderr",
     "output_type": "stream",
     "text": [
      "\r",
      " 28%|███████████▉                              | 25/88 [02:48<08:36,  8.20s/it]"
     ]
    },
    {
     "name": "stdout",
     "output_type": "stream",
     "text": [
      "200\n",
      "200\n",
      "['Pre2013', '2015', '2013', '2016', '2018', '2017', '2014']\n"
     ]
    },
    {
     "name": "stderr",
     "output_type": "stream",
     "text": [
      "\r",
      " 30%|████████████▍                             | 26/88 [02:53<07:40,  7.43s/it]"
     ]
    },
    {
     "name": "stdout",
     "output_type": "stream",
     "text": [
      "200\n",
      "200\n",
      "['2011', '1974', '2013', '2007', '2005']\n"
     ]
    },
    {
     "name": "stderr",
     "output_type": "stream",
     "text": [
      "\r",
      " 31%|████████████▉                             | 27/88 [02:57<06:28,  6.36s/it]"
     ]
    },
    {
     "name": "stdout",
     "output_type": "stream",
     "text": [
      "200\n",
      "200\n",
      "['2008', '2009', '2004', '2013', '2010', '2005']\n"
     ]
    },
    {
     "name": "stderr",
     "output_type": "stream",
     "text": [
      "\r",
      " 32%|█████████████▎                            | 28/88 [03:01<05:46,  5.77s/it]"
     ]
    },
    {
     "name": "stdout",
     "output_type": "stream",
     "text": [
      "200\n",
      "200\n",
      "['2002', '2008', '2012', '2009', '2004', '2001', '2003', '2006']\n"
     ]
    },
    {
     "name": "stderr",
     "output_type": "stream",
     "text": [
      "\r",
      " 33%|█████████████▊                            | 29/88 [03:11<06:40,  6.79s/it]"
     ]
    },
    {
     "name": "stdout",
     "output_type": "stream",
     "text": [
      "200\n",
      "200\n",
      "['2015', '2009', '2016', '2018', '2017', '2010', 'Pre2009']\n"
     ]
    },
    {
     "name": "stderr",
     "output_type": "stream",
     "text": [
      "\r",
      " 34%|██████████████▎                           | 30/88 [03:14<05:42,  5.90s/it]"
     ]
    },
    {
     "name": "stdout",
     "output_type": "stream",
     "text": [
      "200\n",
      "200\n",
      "['1986', '2000', '2012', '2015', '2009', '2017']\n"
     ]
    },
    {
     "name": "stderr",
     "output_type": "stream",
     "text": [
      "\r",
      " 35%|██████████████▊                           | 31/88 [03:18<04:55,  5.19s/it]"
     ]
    },
    {
     "name": "stdout",
     "output_type": "stream",
     "text": [
      "200\n",
      "200\n",
      "['2015', '2019', 'Pre2014', '2016', '2017', '2018', '2014']\n"
     ]
    },
    {
     "name": "stderr",
     "output_type": "stream",
     "text": [
      "\r",
      " 36%|███████████████▎                          | 32/88 [03:22<04:25,  4.74s/it]"
     ]
    },
    {
     "name": "stdout",
     "output_type": "stream",
     "text": [
      "200\n",
      "200\n",
      "['2017', '1999', '2013']\n"
     ]
    },
    {
     "name": "stderr",
     "output_type": "stream",
     "text": [
      "\r",
      " 38%|███████████████▊                          | 33/88 [03:30<05:14,  5.72s/it]"
     ]
    },
    {
     "name": "stdout",
     "output_type": "stream",
     "text": [
      "200\n",
      "200\n",
      "['2015', '2019', 'Pre2014', '2016', '2017', '2018', '2014']\n"
     ]
    },
    {
     "name": "stderr",
     "output_type": "stream",
     "text": [
      "\r",
      " 39%|████████████████▏                         | 34/88 [03:36<05:15,  5.84s/it]"
     ]
    },
    {
     "name": "stdout",
     "output_type": "stream",
     "text": [
      "200\n",
      "200\n",
      "['2011', '2012', '2009', '2016', '2018', '2010', 'Pre2009']\n"
     ]
    },
    {
     "name": "stderr",
     "output_type": "stream",
     "text": [
      "\r",
      " 40%|████████████████▋                         | 35/88 [03:40<04:37,  5.24s/it]"
     ]
    },
    {
     "name": "stdout",
     "output_type": "stream",
     "text": [
      "200\n",
      "200\n",
      "['2015', '2019', 'Pre2014', '2016', '2017', '2018', '2014']\n"
     ]
    },
    {
     "name": "stderr",
     "output_type": "stream",
     "text": [
      "\r",
      " 41%|█████████████████▏                        | 36/88 [03:46<04:53,  5.64s/it]"
     ]
    },
    {
     "name": "stdout",
     "output_type": "stream",
     "text": [
      "200\n",
      "200\n",
      "['2009', '2004', '2013', '2010', '2003', '2014']\n"
     ]
    },
    {
     "name": "stderr",
     "output_type": "stream",
     "text": [
      "\r",
      " 42%|█████████████████▋                        | 37/88 [03:56<05:50,  6.87s/it]"
     ]
    },
    {
     "name": "stdout",
     "output_type": "stream",
     "text": [
      "200\n",
      "200\n",
      "['2015', '2019', 'Pre2014', '2016', '2017', '2018', '2014']\n"
     ]
    },
    {
     "name": "stderr",
     "output_type": "stream",
     "text": [
      "\r",
      " 43%|██████████████████▏                       | 38/88 [04:00<04:58,  5.98s/it]"
     ]
    },
    {
     "name": "stdout",
     "output_type": "stream",
     "text": [
      "200\n",
      "200\n",
      "['1997', '1996', '1994', '1993', '1995', '1991']\n"
     ]
    },
    {
     "name": "stderr",
     "output_type": "stream",
     "text": [
      "\r",
      " 44%|██████████████████▌                       | 39/88 [04:04<04:26,  5.43s/it]"
     ]
    },
    {
     "name": "stdout",
     "output_type": "stream",
     "text": [
      "200\n",
      "200\n",
      "['Pre2013', '2015', '2013', '2016', '2018', '2017', '2014']\n"
     ]
    },
    {
     "name": "stderr",
     "output_type": "stream",
     "text": [
      "\r",
      " 45%|███████████████████                       | 40/88 [04:08<04:05,  5.11s/it]"
     ]
    },
    {
     "name": "stdout",
     "output_type": "stream",
     "text": [
      "200\n",
      "200\n",
      "['Pre2013', '2015', '2013', '2016', '2018', '2017', '2014']\n"
     ]
    },
    {
     "name": "stderr",
     "output_type": "stream",
     "text": [
      "\r",
      " 47%|███████████████████▌                      | 41/88 [04:13<03:49,  4.89s/it]"
     ]
    },
    {
     "name": "stdout",
     "output_type": "stream",
     "text": [
      "200\n",
      "200\n",
      "['2015', '2019', 'Pre2014', '2016', '2017', '2018', '2014']\n"
     ]
    },
    {
     "name": "stderr",
     "output_type": "stream",
     "text": [
      "\r",
      " 48%|████████████████████                      | 42/88 [04:22<04:49,  6.29s/it]"
     ]
    },
    {
     "name": "stdout",
     "output_type": "stream",
     "text": [
      "200\n",
      "200\n",
      "['2018']\n"
     ]
    },
    {
     "name": "stderr",
     "output_type": "stream",
     "text": [
      "\r",
      " 49%|████████████████████▌                     | 43/88 [04:30<05:02,  6.71s/it]"
     ]
    },
    {
     "name": "stdout",
     "output_type": "stream",
     "text": [
      "200\n",
      "200\n",
      "['2017']\n"
     ]
    },
    {
     "name": "stderr",
     "output_type": "stream",
     "text": [
      "\r",
      " 50%|█████████████████████                     | 44/88 [04:39<05:27,  7.45s/it]"
     ]
    },
    {
     "name": "stdout",
     "output_type": "stream",
     "text": [
      "200\n",
      "200\n",
      "['2015', '2019', 'Pre2014', '2016', '2017', '2018', '2014']\n"
     ]
    },
    {
     "name": "stderr",
     "output_type": "stream",
     "text": [
      "\r",
      " 51%|█████████████████████▍                    | 45/88 [04:43<04:34,  6.37s/it]"
     ]
    },
    {
     "name": "stdout",
     "output_type": "stream",
     "text": [
      "200\n",
      "200\n",
      "['Pre2013', '2015', '2013', '2016', '2018', '2017', '2014']\n"
     ]
    },
    {
     "name": "stderr",
     "output_type": "stream",
     "text": [
      "\r",
      " 52%|█████████████████████▉                    | 46/88 [04:48<04:15,  6.08s/it]"
     ]
    },
    {
     "name": "stdout",
     "output_type": "stream",
     "text": [
      "200\n",
      "200\n",
      "['2015', '2019', 'Pre2014', '2016', '2017', '2018', '2014']\n"
     ]
    },
    {
     "name": "stderr",
     "output_type": "stream",
     "text": [
      "\r",
      " 53%|██████████████████████▍                   | 47/88 [04:56<04:28,  6.54s/it]"
     ]
    },
    {
     "name": "stdout",
     "output_type": "stream",
     "text": [
      "200\n",
      "200\n",
      "['2011', '2015', '2012', 'Pre2011', '2013', '2016', '2017']\n"
     ]
    },
    {
     "name": "stderr",
     "output_type": "stream",
     "text": [
      "\r",
      " 55%|██████████████████████▉                   | 48/88 [05:06<04:59,  7.48s/it]"
     ]
    },
    {
     "name": "stdout",
     "output_type": "stream",
     "text": [
      "200\n",
      "200\n",
      "['Pre2013', '2015', '2013', '2016', '2018', '2017', '2014']\n"
     ]
    },
    {
     "name": "stderr",
     "output_type": "stream",
     "text": [
      "\r",
      " 56%|███████████████████████▍                  | 49/88 [05:55<12:56, 19.91s/it]"
     ]
    },
    {
     "name": "stdout",
     "output_type": "stream",
     "text": [
      "200\n",
      "200\n",
      "['Pre2013', '2015', '2013', '2016', '2018', '2017', '2014']\n"
     ]
    },
    {
     "name": "stderr",
     "output_type": "stream",
     "text": [
      "\r",
      " 57%|███████████████████████▊                  | 50/88 [06:13<12:22, 19.55s/it]"
     ]
    },
    {
     "name": "stdout",
     "output_type": "stream",
     "text": [
      "200\n",
      "200\n",
      "['1986', '2000', '2012', '2015', '2009', '2017']\n"
     ]
    },
    {
     "name": "stderr",
     "output_type": "stream",
     "text": [
      "\r",
      " 58%|████████████████████████▎                 | 51/88 [06:19<09:31, 15.44s/it]"
     ]
    },
    {
     "name": "stdout",
     "output_type": "stream",
     "text": [
      "200\n",
      "200\n",
      "['2009', '2004', '2013', '2010', '2003', '2014']\n"
     ]
    },
    {
     "name": "stderr",
     "output_type": "stream",
     "text": [
      "\r",
      " 59%|████████████████████████▊                 | 52/88 [06:23<07:16, 12.11s/it]"
     ]
    },
    {
     "name": "stdout",
     "output_type": "stream",
     "text": [
      "200\n",
      "200\n",
      "['2005']\n"
     ]
    },
    {
     "name": "stderr",
     "output_type": "stream",
     "text": [
      "\r",
      " 60%|█████████████████████████▎                | 53/88 [06:27<05:39,  9.69s/it]"
     ]
    },
    {
     "name": "stdout",
     "output_type": "stream",
     "text": [
      "200\n",
      "200\n",
      "['Pre2013', '2015', '2013', '2016', '2018', '2017', '2014']\n"
     ]
    },
    {
     "name": "stderr",
     "output_type": "stream",
     "text": [
      "\r",
      " 61%|█████████████████████████▊                | 54/88 [06:31<04:28,  7.91s/it]"
     ]
    },
    {
     "name": "stdout",
     "output_type": "stream",
     "text": [
      "200\n",
      "200\n",
      "['Pre2012', '2015', '2012', '2016', '2018', '2017', '2014']\n"
     ]
    },
    {
     "name": "stderr",
     "output_type": "stream",
     "text": [
      "\r",
      " 62%|██████████████████████████▎               | 55/88 [06:43<04:58,  9.04s/it]"
     ]
    },
    {
     "name": "stdout",
     "output_type": "stream",
     "text": [
      "200\n",
      "200\n",
      "['Pre2012', '2015', '2012', '2013', '2016', '2017', '2014']\n"
     ]
    },
    {
     "name": "stderr",
     "output_type": "stream",
     "text": [
      "\r",
      " 64%|██████████████████████████▋               | 56/88 [06:47<03:57,  7.43s/it]"
     ]
    },
    {
     "name": "stdout",
     "output_type": "stream",
     "text": [
      "200\n",
      "200\n",
      "['2011', '2012', '2009', '2016', '2018', '2010', 'Pre2009']\n"
     ]
    },
    {
     "name": "stderr",
     "output_type": "stream",
     "text": [
      "\r",
      " 65%|███████████████████████████▏              | 57/88 [06:55<03:55,  7.58s/it]"
     ]
    },
    {
     "name": "stdout",
     "output_type": "stream",
     "text": [
      "200\n",
      "200\n",
      "['2009', '2004', '2013', '2010', '2003', '2014']\n"
     ]
    },
    {
     "name": "stderr",
     "output_type": "stream",
     "text": [
      "\r",
      " 66%|███████████████████████████▋              | 58/88 [07:10<04:58,  9.95s/it]"
     ]
    },
    {
     "name": "stdout",
     "output_type": "stream",
     "text": [
      "200\n",
      "200\n",
      "['Pre2013', '2015', '2013', '2016', '2018', '2017', '2014']\n"
     ]
    },
    {
     "name": "stderr",
     "output_type": "stream",
     "text": [
      "\r",
      " 67%|████████████████████████████▏             | 59/88 [07:17<04:21,  9.01s/it]"
     ]
    },
    {
     "name": "stdout",
     "output_type": "stream",
     "text": [
      "200\n",
      "200\n",
      "['1981', '1982']\n"
     ]
    },
    {
     "name": "stderr",
     "output_type": "stream",
     "text": [
      "\r",
      " 68%|████████████████████████████▋             | 60/88 [07:21<03:29,  7.47s/it]"
     ]
    },
    {
     "name": "stdout",
     "output_type": "stream",
     "text": [
      "200\n",
      "200\n",
      "['1985']\n"
     ]
    },
    {
     "name": "stderr",
     "output_type": "stream",
     "text": [
      "\r",
      " 69%|█████████████████████████████             | 61/88 [07:31<03:42,  8.24s/it]"
     ]
    },
    {
     "name": "stdout",
     "output_type": "stream",
     "text": [
      "200\n",
      "200\n",
      "['1989', '1992']\n"
     ]
    },
    {
     "name": "stderr",
     "output_type": "stream",
     "text": [
      "\r",
      " 70%|█████████████████████████████▌            | 62/88 [07:35<02:59,  6.91s/it]"
     ]
    },
    {
     "name": "stdout",
     "output_type": "stream",
     "text": [
      "200\n",
      "200\n",
      "['2012', '2013', '2007', '2006', '2005', '2014', 'Pre2005']\n"
     ]
    },
    {
     "name": "stderr",
     "output_type": "stream",
     "text": [
      "\r",
      " 72%|██████████████████████████████            | 63/88 [07:39<02:30,  6.02s/it]"
     ]
    },
    {
     "name": "stdout",
     "output_type": "stream",
     "text": [
      "200\n",
      "200\n",
      "['1983', '2002', '2000', '2012', '2004', '2001', '2010', '2003']\n"
     ]
    },
    {
     "name": "stderr",
     "output_type": "stream",
     "text": [
      "\r",
      " 73%|██████████████████████████████▌           | 64/88 [07:51<03:10,  7.95s/it]"
     ]
    },
    {
     "name": "stdout",
     "output_type": "stream",
     "text": [
      "200\n",
      "200\n",
      "['Pre2013', '2015', '2013', '2016', '2018', '2017', '2014']\n"
     ]
    },
    {
     "name": "stderr",
     "output_type": "stream",
     "text": [
      "\r",
      " 74%|███████████████████████████████           | 65/88 [07:55<02:33,  6.66s/it]"
     ]
    },
    {
     "name": "stdout",
     "output_type": "stream",
     "text": [
      "200\n",
      "200\n",
      "['2011', '2015', '2012', 'Pre2011', '2013', '2016', '2014']\n"
     ]
    },
    {
     "name": "stderr",
     "output_type": "stream",
     "text": [
      "\r",
      " 75%|███████████████████████████████▌          | 66/88 [07:58<02:07,  5.78s/it]"
     ]
    },
    {
     "name": "stdout",
     "output_type": "stream",
     "text": [
      "200\n",
      "200\n",
      "['1997', 'Pre1987', '1987', '1995', '1988', '1989', '1991']\n"
     ]
    },
    {
     "name": "stderr",
     "output_type": "stream",
     "text": [
      "\r",
      " 76%|███████████████████████████████▉          | 67/88 [08:07<02:19,  6.64s/it]"
     ]
    },
    {
     "name": "stdout",
     "output_type": "stream",
     "text": [
      "200\n",
      "200\n",
      "['1984', '1983', '1981', '2004', '2001', '1988', '1982']\n"
     ]
    },
    {
     "name": "stderr",
     "output_type": "stream",
     "text": [
      "\r",
      " 77%|████████████████████████████████▍         | 68/88 [08:27<03:31, 10.58s/it]"
     ]
    },
    {
     "name": "stdout",
     "output_type": "stream",
     "text": [
      "200\n",
      "200\n",
      "['2009', '2016', '2018', '2017', '2010', '2003', 'Pre2003']\n"
     ]
    },
    {
     "name": "stderr",
     "output_type": "stream",
     "text": [
      "\r",
      " 78%|████████████████████████████████▉         | 69/88 [08:31<02:42,  8.56s/it]"
     ]
    },
    {
     "name": "stdout",
     "output_type": "stream",
     "text": [
      "200\n",
      "200\n",
      "['2002', '2012', 'Pre2002', '2004', '2003', '2006', '2005']\n"
     ]
    },
    {
     "name": "stderr",
     "output_type": "stream",
     "text": [
      "\r",
      " 80%|█████████████████████████████████▍        | 70/88 [08:36<02:18,  7.70s/it]"
     ]
    },
    {
     "name": "stdout",
     "output_type": "stream",
     "text": [
      "200\n",
      "200\n",
      "['2002', '2000', '1999', 'Pre1999', '2004', '2001', '2003']\n"
     ]
    },
    {
     "name": "stderr",
     "output_type": "stream",
     "text": [
      "\r",
      " 81%|█████████████████████████████████▉        | 71/88 [08:41<01:53,  6.66s/it]"
     ]
    },
    {
     "name": "stdout",
     "output_type": "stream",
     "text": [
      "200\n",
      "200\n",
      "['1986', '1983', '1981', '1985', '1995', '1982']\n"
     ]
    },
    {
     "name": "stderr",
     "output_type": "stream",
     "text": [
      "\r",
      " 82%|██████████████████████████████████▎       | 72/88 [08:52<02:08,  8.05s/it]"
     ]
    },
    {
     "name": "stdout",
     "output_type": "stream",
     "text": [
      "200\n",
      "200\n",
      "['1997', '1998', '2000', '1994', '1995']\n"
     ]
    },
    {
     "name": "stderr",
     "output_type": "stream",
     "text": [
      "\r",
      " 83%|██████████████████████████████████▊       | 73/88 [08:56<01:42,  6.83s/it]"
     ]
    },
    {
     "name": "stdout",
     "output_type": "stream",
     "text": [
      "200\n",
      "200\n",
      "['2015', '2019', 'Pre2014', '2016', '2017', '2018', '2014']\n"
     ]
    },
    {
     "name": "stderr",
     "output_type": "stream",
     "text": [
      "\r",
      " 84%|███████████████████████████████████▎      | 74/88 [08:59<01:22,  5.89s/it]"
     ]
    },
    {
     "name": "stdout",
     "output_type": "stream",
     "text": [
      "200\n",
      "200\n",
      "['2015', '2019', 'Pre2014', '2016', '2017', '2018', '2014']\n"
     ]
    },
    {
     "name": "stderr",
     "output_type": "stream",
     "text": [
      "\r",
      " 85%|███████████████████████████████████▊      | 75/88 [09:05<01:13,  5.68s/it]"
     ]
    },
    {
     "name": "stdout",
     "output_type": "stream",
     "text": [
      "200\n",
      "200\n",
      "['2015', '2004', '2001', '2003', '2005']\n"
     ]
    },
    {
     "name": "stderr",
     "output_type": "stream",
     "text": [
      "\r",
      " 86%|████████████████████████████████████▎     | 76/88 [09:08<01:00,  5.06s/it]"
     ]
    },
    {
     "name": "stdout",
     "output_type": "stream",
     "text": [
      "200\n",
      "200\n",
      "['2015', '2009', '2007', '2006', '2005', '2014', 'Pre2005']\n"
     ]
    },
    {
     "name": "stderr",
     "output_type": "stream",
     "text": [
      "\r",
      " 88%|████████████████████████████████████▊     | 77/88 [09:17<01:06,  6.06s/it]"
     ]
    },
    {
     "name": "stdout",
     "output_type": "stream",
     "text": [
      "200\n",
      "200\n",
      "['2013']\n"
     ]
    },
    {
     "name": "stderr",
     "output_type": "stream",
     "text": [
      "\r",
      " 89%|█████████████████████████████████████▏    | 78/88 [09:21<00:54,  5.44s/it]"
     ]
    },
    {
     "name": "stdout",
     "output_type": "stream",
     "text": [
      "200\n",
      "200\n",
      "['2018', '2015', '2011', '2016']\n"
     ]
    },
    {
     "name": "stderr",
     "output_type": "stream",
     "text": [
      "\r",
      " 90%|█████████████████████████████████████▋    | 79/88 [09:25<00:44,  4.97s/it]"
     ]
    },
    {
     "name": "stdout",
     "output_type": "stream",
     "text": [
      "200\n",
      "200\n",
      "['2013', '2016']\n"
     ]
    },
    {
     "name": "stderr",
     "output_type": "stream",
     "text": [
      "\r",
      " 91%|██████████████████████████████████████▏   | 80/88 [09:29<00:39,  4.92s/it]"
     ]
    },
    {
     "name": "stdout",
     "output_type": "stream",
     "text": [
      "200\n",
      "200\n",
      "['2017', '2018', '2002', '2016']\n"
     ]
    },
    {
     "name": "stderr",
     "output_type": "stream",
     "text": [
      "\r",
      " 92%|██████████████████████████████████████▋   | 81/88 [09:33<00:32,  4.58s/it]"
     ]
    },
    {
     "name": "stdout",
     "output_type": "stream",
     "text": [
      "200\n",
      "200\n",
      "['2013']\n"
     ]
    },
    {
     "name": "stderr",
     "output_type": "stream",
     "text": [
      "\r",
      " 93%|███████████████████████████████████████▏  | 82/88 [09:37<00:25,  4.25s/it]"
     ]
    },
    {
     "name": "stdout",
     "output_type": "stream",
     "text": [
      "200\n",
      "200\n",
      "['2012', '2008']\n"
     ]
    },
    {
     "name": "stderr",
     "output_type": "stream",
     "text": [
      "\r",
      " 94%|███████████████████████████████████████▌  | 83/88 [09:41<00:22,  4.43s/it]"
     ]
    },
    {
     "name": "stdout",
     "output_type": "stream",
     "text": [
      "200\n",
      "200\n",
      "['2006']\n"
     ]
    },
    {
     "name": "stderr",
     "output_type": "stream",
     "text": [
      "\r",
      " 95%|████████████████████████████████████████  | 84/88 [09:45<00:16,  4.22s/it]"
     ]
    },
    {
     "name": "stdout",
     "output_type": "stream",
     "text": [
      "200\n",
      "200\n",
      "['2016']\n"
     ]
    },
    {
     "name": "stderr",
     "output_type": "stream",
     "text": [
      "\r",
      " 97%|████████████████████████████████████████▌ | 85/88 [09:49<00:12,  4.07s/it]"
     ]
    },
    {
     "name": "stdout",
     "output_type": "stream",
     "text": [
      "200\n",
      "200\n",
      "['2012', '2015', '2001']\n"
     ]
    },
    {
     "name": "stderr",
     "output_type": "stream",
     "text": [
      "\r",
      " 98%|█████████████████████████████████████████ | 86/88 [09:53<00:07,  3.96s/it]"
     ]
    },
    {
     "name": "stdout",
     "output_type": "stream",
     "text": [
      "200\n",
      "200\n",
      "['2005']\n"
     ]
    },
    {
     "name": "stderr",
     "output_type": "stream",
     "text": [
      "\r",
      " 99%|█████████████████████████████████████████▌| 87/88 [09:57<00:04,  4.18s/it]"
     ]
    },
    {
     "name": "stdout",
     "output_type": "stream",
     "text": [
      "200\n",
      "200\n",
      "['2017']\n"
     ]
    },
    {
     "name": "stderr",
     "output_type": "stream",
     "text": [
      "100%|██████████████████████████████████████████| 88/88 [10:05<00:00,  5.31s/it]\n"
     ]
    },
    {
     "data": {
      "text/plain": [
       "{'Final Appeal (Civil)': 'https://legalref.judiciary.hk/lrs/common/ju/judgment.jsp?EX=T&L1=FA&L2=CV&AR=1#A1',\n",
       " 'Final Appeal (Criminal)': 'https://legalref.judiciary.hk/lrs/common/ju/judgment.jsp?EX=T&L1=FA&L2=CC&AR=2#A2',\n",
       " 'Miscellaneou Proceeding (Civil)': 'https://legalref.judiciary.hk/lrs/common/ju/judgment.jsp?EX=T&L1=FA&L2=MV&AR=4#A4',\n",
       " 'Miscellaneou Proceeding (Criminal)': 'https://legalref.judiciary.hk/lrs/common/ju/judgment.jsp?EX=T&L1=FA&L2=MC&AR=5#A5',\n",
       " 'Application for Review': 'https://legalref.judiciary.hk/lrs/common/ju/judgment.jsp?EX=T&L1=CA&L2=AR&AR=1#A1',\n",
       " 'Civil Appeal': 'https://legalref.judiciary.hk/lrs/common/ju/judgment.jsp?EX=T&L1=CA&L2=CV&AR=3#A3',\n",
       " 'Criminal Appeal': 'https://legalref.judiciary.hk/lrs/common/ju/judgment.jsp?EX=T&L1=CA&L2=CC&AR=4#A4',\n",
       " 'Admiralty Action': 'https://legalref.judiciary.hk/lrs/common/ju/judgment.jsp?EX=T&L1=HC&L2=AJ&AR=1#A1',\n",
       " 'Application for Grant': 'https://legalref.judiciary.hk/lrs/common/ju/judgment.jsp?EX=T&L1=HC&L2=AG&AR=3#A3',\n",
       " 'Application to et aside a Statutory Demand (under Bankruptcy Ordinance)': 'https://legalref.judiciary.hk/lrs/common/ju/judgment.jsp?EX=T&L1=HC&L2=SD&AR=4#A4',\n",
       " 'Bankruptcy Proceeding': 'https://legalref.judiciary.hk/lrs/common/ju/judgment.jsp?EX=T&L1=HC&L2=B&AR=6#A6',\n",
       " 'Caveat': 'https://legalref.judiciary.hk/lrs/common/ju/judgment.jsp?EX=T&L1=HC&L2=CA&AR=7#A7',\n",
       " 'Civil Action': 'https://legalref.judiciary.hk/lrs/common/ju/judgment.jsp?EX=T&L1=HC&L2=A&AR=9#A9',\n",
       " 'Commercial Action': 'https://legalref.judiciary.hk/lrs/common/ju/judgment.jsp?EX=T&L1=HC&L2=CL&AR=10#A10',\n",
       " 'Companie Winding-up Proceeding': 'https://legalref.judiciary.hk/lrs/common/ju/judgment.jsp?EX=T&L1=HC&L2=CW&AR=11#A11',\n",
       " 'Constitutional and Administrative Law Proceeding': 'https://legalref.judiciary.hk/lrs/common/ju/judgment.jsp?EX=T&L1=HC&L2=AL&AR=13#A13',\n",
       " 'Construction and Arbitration Proceeding': 'https://legalref.judiciary.hk/lrs/common/ju/judgment.jsp?EX=T&L1=HC&L2=CT&AR=14#A14',\n",
       " 'Criminal Case': 'https://legalref.judiciary.hk/lrs/common/ju/judgment.jsp?EX=T&L1=HC&L2=CC&AR=15#A15',\n",
       " 'Inland Revenue Appeal': 'https://legalref.judiciary.hk/lrs/common/ju/judgment.jsp?EX=T&L1=HC&L2=IA&AR=19#A19',\n",
       " 'Labour Tribunal Appeal': 'https://legalref.judiciary.hk/lrs/common/ju/judgment.jsp?EX=T&L1=HC&L2=LA&AR=21#A21',\n",
       " 'Magistracy Appeal': 'https://legalref.judiciary.hk/lrs/common/ju/judgment.jsp?EX=T&L1=HC&L2=MA&AR=23#A23',\n",
       " 'Matrimonial Cause': 'https://legalref.judiciary.hk/lrs/common/ju/judgment.jsp?EX=T&L1=HC&L2=MC&AR=24#A24',\n",
       " 'Minor Employment Claim Appeal': 'https://legalref.judiciary.hk/lrs/common/ju/judgment.jsp?EX=T&L1=HC&L2=ME&AR=25#A25',\n",
       " 'Personal Injurie Action': 'https://legalref.judiciary.hk/lrs/common/ju/judgment.jsp?EX=T&L1=HC&L2=PI&AR=29#A29',\n",
       " 'Probate Action': 'https://legalref.judiciary.hk/lrs/common/ju/judgment.jsp?EX=T&L1=HC&L2=AP&AR=30#A30',\n",
       " 'Small Claim Tribunal Appeal': 'https://legalref.judiciary.hk/lrs/common/ju/judgment.jsp?EX=T&L1=HC&L2=SA&AR=31#A31',\n",
       " 'Distraint Case': 'https://legalref.judiciary.hk/lrs/common/ju/judgment.jsp?EX=T&L1=DC&L2=DT&AR=3#A3',\n",
       " 'District Court Tax Claim': 'https://legalref.judiciary.hk/lrs/common/ju/judgment.jsp?EX=T&L1=DC&L2=TC&AR=4#A4',\n",
       " 'Employee Compensation Case': 'https://legalref.judiciary.hk/lrs/common/ju/judgment.jsp?EX=T&L1=DC&L2=EC&AR=5#A5',\n",
       " 'Equal Opportunitie Action': 'https://legalref.judiciary.hk/lrs/common/ju/judgment.jsp?EX=T&L1=DC&L2=EO&AR=6#A6',\n",
       " 'Stamp Duty Appeal': 'https://legalref.judiciary.hk/lrs/common/ju/judgment.jsp?EX=T&L1=DC&L2=SA&AR=11#A11',\n",
       " 'Joint application': 'https://legalref.judiciary.hk/lrs/common/ju/judgment.jsp?EX=T&L1=FC&L2=JA&AR=1#A1',\n",
       " 'Building Management Application': 'https://legalref.judiciary.hk/lrs/common/ju/judgment.jsp?EX=T&L1=LD&L2=BM&AR=1#A1',\n",
       " 'Government Rent Appeal': 'https://legalref.judiciary.hk/lrs/common/ju/judgment.jsp?EX=T&L1=LD&L2=GA&AR=5#A5',\n",
       " 'Land Compulsory Sale Application': 'https://legalref.judiciary.hk/lrs/common/ju/judgment.jsp?EX=T&L1=LD&L2=CS&AR=7#A7',\n",
       " 'Land Resumption Application': 'https://legalref.judiciary.hk/lrs/common/ju/judgment.jsp?EX=T&L1=LD&L2=LR&AR=8#A8',\n",
       " 'Landlord  Appeal': 'https://legalref.judiciary.hk/lrs/common/ju/judgment.jsp?EX=T&L1=LD&L2=LA&AR=9#A9',\n",
       " 'Miscellaneou Proceeding Application': 'https://legalref.judiciary.hk/lrs/common/ju/judgment.jsp?EX=T&L1=LD&L2=MP&AR=11#A11',\n",
       " 'Miscellaneou Reference Application': 'https://legalref.judiciary.hk/lrs/common/ju/judgment.jsp?EX=T&L1=LD&L2=MR&AR=12#A12',\n",
       " 'New Tenancy Application': 'https://legalref.judiciary.hk/lrs/common/ju/judgment.jsp?EX=T&L1=LD&L2=NT&AR=13#A13',\n",
       " 'Part IV Possession Application': 'https://legalref.judiciary.hk/lrs/common/ju/judgment.jsp?EX=T&L1=LD&L2=PD&AR=16#A16',\n",
       " 'Part V Possession Application': 'https://legalref.judiciary.hk/lrs/common/ju/judgment.jsp?EX=T&L1=LD&L2=PE&AR=17#A17',\n",
       " 'Rating Appeal': 'https://legalref.judiciary.hk/lrs/common/ju/judgment.jsp?EX=T&L1=LD&L2=RA&AR=19#A19'}"
      ]
     },
     "execution_count": 206,
     "metadata": {},
     "output_type": "execute_result"
    }
   ],
   "source": [
    "def check_special(sc_cleared, df_all, courts_set, urls_set):\n",
    "    \"\"\"Check if sub-court has Pre****\"\"\"\n",
    "    years = subCourt_get_years(sc_cleared, df_all, courts_set)\n",
    "    urls = subCourt_get_urls(sc_cleared, df_all, urls_set) \n",
    "    print(years)\n",
    "    special_ = [years[idx] for idx, y in enumerate(years) if len(re.findall('Pre', y))!=0]\n",
    "    if len(special_) != 0:\n",
    "        has_special = True\n",
    "        special_year = special_[0]\n",
    "        special_url = [u for idx, u in enumerate(urls) if len(re.findall('L3=....', u))==0][0]\n",
    "    else: \n",
    "        has_special = False\n",
    "        special_year = None\n",
    "        special_url = None\n",
    "    return has_special, special_year, special_url\n",
    "\n",
    "        \n",
    "courts_set = set(df_all['parent_court']) | set(df_all['sub_court'])\n",
    "urls_set = set(df_all['sub_court_url']) | set(df_all['parent_court_url'])\n",
    "\n",
    "special_courts = {}\n",
    "for sc_ in tqdm(df_all['sub_court_cleared']):\n",
    "    has_special, special_year, special_url = check_special(sc_, df_all, courts_set, urls_set)\n",
    "    if has_special:\n",
    "        special_courts[sc_] = special_url\n",
    "special_courts\n"
   ]
  },
  {
   "cell_type": "code",
   "execution_count": 209,
   "metadata": {},
   "outputs": [
    {
     "name": "stdout",
     "output_type": "stream",
     "text": [
      "200\n"
     ]
    },
    {
     "data": {
      "text/plain": [
       "['2017']"
      ]
     },
     "execution_count": 209,
     "metadata": {},
     "output_type": "execute_result"
    }
   ],
   "source": [
    "def subCourt_get_years(sc_cleared, url, df_all, all_courts):\n",
    "    time.sleep(1)\n",
    "    root = url_to_root(url)\n",
    "    info_list = root.find('script', string=re.compile(\"var myMenu\")).text.split(\",\")\n",
    "    \n",
    "    now_set = set([BeautifulSoup(i.strip(\"' \")).text.strip(\" \") for i in info_list if len(re.findall('<a name=', i))!=0])\n",
    "    years = now_set - all_courts\n",
    "    return list(years)\n",
    "\n",
    "courts_set = set(df_all['parent_court']) | set(df_all['sub_court'])\n",
    "url = list(df_all[df_all['sub_court_cleared']==sub_]['sub_court_url'])[0]\n",
    "years = subCourt_get_years(sub_, url, df_all, courts_set)\n",
    "years"
   ]
  },
  {
   "cell_type": "code",
   "execution_count": 210,
   "metadata": {},
   "outputs": [
    {
     "name": "stdout",
     "output_type": "stream",
     "text": [
      "200\n"
     ]
    },
    {
     "data": {
      "text/plain": [
       "['https://legalref.judiciary.hk/lrs/common/ju/judgment.jsp?EX=T&L1=WK&L2=CC&L3=2017&AR=11_1#A11_1']"
      ]
     },
     "execution_count": 210,
     "metadata": {},
     "output_type": "execute_result"
    }
   ],
   "source": [
    "def subCourt_get_urls(sub_court, url, df_all, urls_set):\n",
    "    \n",
    "    time.sleep(1)\n",
    "    root = url_to_root(url)\n",
    "    info_list = root.find('script', string=re.compile(\"var myMenu\")).text.split(\",\")\n",
    "    \n",
    "    potential_urls = set([i.strip(\"' \") for i in info_list if i.strip(\"' \")[:5]=='https'])\n",
    "    urls = potential_urls - urls_set\n",
    "    return list(urls)\n",
    "\n",
    "urls_set = set(df_all['sub_court_url']) | set(df_all['parent_court_url'])\n",
    "url = list(df_all[df_all['sub_court_cleared']==sub_]['sub_court_url'])[0]\n",
    "urls = subCourt_get_urls(sub_, url, df_all, urls_set)  \n",
    "urls"
   ]
  },
  {
   "cell_type": "code",
   "execution_count": 211,
   "metadata": {},
   "outputs": [
    {
     "data": {
      "text/plain": [
       "{'2017': 'https://legalref.judiciary.hk/lrs/common/ju/judgment.jsp?EX=T&L1=WK&L2=CC&L3=2017&AR=11_1#A11_1'}"
      ]
     },
     "execution_count": 211,
     "metadata": {},
     "output_type": "execute_result"
    }
   ],
   "source": [
    "def match_year_urls(years, urls):\n",
    "    match_dict = {}\n",
    "    url_pairs = [(re.findall('L3=....', i)[0][-4:], i) for i in urls]\n",
    "    for y in years:\n",
    "        for y_url, url in url_pairs:\n",
    "            if y == y_url:\n",
    "                match_dict[y] = url\n",
    "    return match_dict\n",
    "\n",
    "match_year_urls(years, urls)"
   ]
  },
  {
   "cell_type": "code",
   "execution_count": 213,
   "metadata": {},
   "outputs": [
    {
     "name": "stdout",
     "output_type": "stream",
     "text": [
      "200\n",
      "200\n"
     ]
    },
    {
     "data": {
      "text/html": [
       "<div>\n",
       "<style scoped>\n",
       "    .dataframe tbody tr th:only-of-type {\n",
       "        vertical-align: middle;\n",
       "    }\n",
       "\n",
       "    .dataframe tbody tr th {\n",
       "        vertical-align: top;\n",
       "    }\n",
       "\n",
       "    .dataframe thead th {\n",
       "        text-align: right;\n",
       "    }\n",
       "</style>\n",
       "<table border=\"1\" class=\"dataframe\">\n",
       "  <thead>\n",
       "    <tr style=\"text-align: right;\">\n",
       "      <th></th>\n",
       "      <th>year</th>\n",
       "      <th>year_url</th>\n",
       "      <th>sub_court_cleared</th>\n",
       "    </tr>\n",
       "  </thead>\n",
       "  <tbody>\n",
       "    <tr>\n",
       "      <th>0</th>\n",
       "      <td>2017</td>\n",
       "      <td>https://legalref.judiciary.hk/lrs/common/ju/judgment.jsp?EX=T&amp;L1=WK&amp;L2=CC&amp;L3=2017&amp;AR=11_1#A11_1</td>\n",
       "      <td>West Kowloon Magistrate Court Charge Case</td>\n",
       "    </tr>\n",
       "  </tbody>\n",
       "</table>\n",
       "</div>"
      ],
      "text/plain": [
       "   year  \\\n",
       "0  2017   \n",
       "\n",
       "                                                                                          year_url  \\\n",
       "0  https://legalref.judiciary.hk/lrs/common/ju/judgment.jsp?EX=T&L1=WK&L2=CC&L3=2017&AR=11_1#A11_1   \n",
       "\n",
       "                           sub_court_cleared  \n",
       "0  West Kowloon Magistrate Court Charge Case  "
      ]
     },
     "execution_count": 213,
     "metadata": {},
     "output_type": "execute_result"
    }
   ],
   "source": [
    "def get_year_urls(sub_court, url, df_all, courts_set, urls_set):\n",
    "    # get years\n",
    "    years = subCourt_get_years(sub_court, url, df_all, courts_set)\n",
    "    # get urls\n",
    "    urls = subCourt_get_urls(sub_court, url, df_all, urls_set)  \n",
    "    # match them\n",
    "    match_dict = match_year_urls(years, urls)\n",
    "    # convert to DataFrame\n",
    "    data = [(k,v) for k, v in match_dict.items()]\n",
    "    match = pd.DataFrame(data, columns=['year', 'year_url'])\n",
    "    match['sub_court_cleared'] = sub_court\n",
    "    return match\n",
    "\n",
    "# test case 1\n",
    "courts_set = set(df_all['parent_court']) | set(df_all['sub_court'])\n",
    "urls_set = set(df_all['sub_court_url']) | set(df_all['parent_court_url'])\n",
    "url = list(df_all[df_all['sub_court_cleared']==sub_]['sub_court_url'])[0]\n",
    "df_test = get_year_urls(sub_, url, df_all, courts_set, urls_set)\n",
    "df_test"
   ]
  },
  {
   "cell_type": "code",
   "execution_count": 217,
   "metadata": {},
   "outputs": [
    {
     "name": "stdout",
     "output_type": "stream",
     "text": [
      "https://legalref.judiciary.hk/lrs/common/ju/judgment.jsp?EX=T&L1=HC&L2=MA&AR=23#A23\n",
      "200\n",
      "200\n"
     ]
    },
    {
     "data": {
      "text/html": [
       "<div>\n",
       "<style scoped>\n",
       "    .dataframe tbody tr th:only-of-type {\n",
       "        vertical-align: middle;\n",
       "    }\n",
       "\n",
       "    .dataframe tbody tr th {\n",
       "        vertical-align: top;\n",
       "    }\n",
       "\n",
       "    .dataframe thead th {\n",
       "        text-align: right;\n",
       "    }\n",
       "</style>\n",
       "<table border=\"1\" class=\"dataframe\">\n",
       "  <thead>\n",
       "    <tr style=\"text-align: right;\">\n",
       "      <th></th>\n",
       "      <th>year</th>\n",
       "      <th>year_url</th>\n",
       "      <th>sub_court_cleared</th>\n",
       "    </tr>\n",
       "  </thead>\n",
       "  <tbody>\n",
       "    <tr>\n",
       "      <th>0</th>\n",
       "      <td>1986</td>\n",
       "      <td>https://legalref.judiciary.hk/lrs/common/ju/judgment.jsp?EX=T&amp;L1=HC&amp;L2=MA&amp;L3=1986&amp;AR=23_34#A23_34</td>\n",
       "      <td>Magistracy Appeal</td>\n",
       "    </tr>\n",
       "    <tr>\n",
       "      <th>1</th>\n",
       "      <td>1984</td>\n",
       "      <td>https://legalref.judiciary.hk/lrs/common/ju/judgment.jsp?EX=T&amp;L1=HC&amp;L2=MA&amp;L3=1984&amp;AR=23_36#A23_36</td>\n",
       "      <td>Magistracy Appeal</td>\n",
       "    </tr>\n",
       "    <tr>\n",
       "      <th>2</th>\n",
       "      <td>1983</td>\n",
       "      <td>https://legalref.judiciary.hk/lrs/common/ju/judgment.jsp?EX=T&amp;L1=HC&amp;L2=MA&amp;L3=1983&amp;AR=23_37#A23_37</td>\n",
       "      <td>Magistracy Appeal</td>\n",
       "    </tr>\n",
       "    <tr>\n",
       "      <th>3</th>\n",
       "      <td>2011</td>\n",
       "      <td>https://legalref.judiciary.hk/lrs/common/ju/judgment.jsp?EX=T&amp;L1=HC&amp;L2=MA&amp;L3=2011&amp;AR=23_9#A23_9</td>\n",
       "      <td>Magistracy Appeal</td>\n",
       "    </tr>\n",
       "    <tr>\n",
       "      <th>4</th>\n",
       "      <td>2000</td>\n",
       "      <td>https://legalref.judiciary.hk/lrs/common/ju/judgment.jsp?EX=T&amp;L1=HC&amp;L2=MA&amp;L3=2000&amp;AR=23_20#A23_20</td>\n",
       "      <td>Magistracy Appeal</td>\n",
       "    </tr>\n",
       "    <tr>\n",
       "      <th>5</th>\n",
       "      <td>2012</td>\n",
       "      <td>https://legalref.judiciary.hk/lrs/common/ju/judgment.jsp?EX=T&amp;L1=HC&amp;L2=MA&amp;L3=2012&amp;AR=23_8#A23_8</td>\n",
       "      <td>Magistracy Appeal</td>\n",
       "    </tr>\n",
       "    <tr>\n",
       "      <th>6</th>\n",
       "      <td>1998</td>\n",
       "      <td>https://legalref.judiciary.hk/lrs/common/ju/judgment.jsp?EX=T&amp;L1=HC&amp;L2=MA&amp;L3=1998&amp;AR=23_22#A23_22</td>\n",
       "      <td>Magistracy Appeal</td>\n",
       "    </tr>\n",
       "    <tr>\n",
       "      <th>7</th>\n",
       "      <td>1992</td>\n",
       "      <td>https://legalref.judiciary.hk/lrs/common/ju/judgment.jsp?EX=T&amp;L1=HC&amp;L2=MA&amp;L3=1992&amp;AR=23_28#A23_28</td>\n",
       "      <td>Magistracy Appeal</td>\n",
       "    </tr>\n",
       "    <tr>\n",
       "      <th>8</th>\n",
       "      <td>2001</td>\n",
       "      <td>https://legalref.judiciary.hk/lrs/common/ju/judgment.jsp?EX=T&amp;L1=HC&amp;L2=MA&amp;L3=2001&amp;AR=23_19#A23_19</td>\n",
       "      <td>Magistracy Appeal</td>\n",
       "    </tr>\n",
       "    <tr>\n",
       "      <th>9</th>\n",
       "      <td>2007</td>\n",
       "      <td>https://legalref.judiciary.hk/lrs/common/ju/judgment.jsp?EX=T&amp;L1=HC&amp;L2=MA&amp;L3=2007&amp;AR=23_13#A23_13</td>\n",
       "      <td>Magistracy Appeal</td>\n",
       "    </tr>\n",
       "    <tr>\n",
       "      <th>10</th>\n",
       "      <td>1993</td>\n",
       "      <td>https://legalref.judiciary.hk/lrs/common/ju/judgment.jsp?EX=T&amp;L1=HC&amp;L2=MA&amp;L3=1993&amp;AR=23_27#A23_27</td>\n",
       "      <td>Magistracy Appeal</td>\n",
       "    </tr>\n",
       "    <tr>\n",
       "      <th>11</th>\n",
       "      <td>1989</td>\n",
       "      <td>https://legalref.judiciary.hk/lrs/common/ju/judgment.jsp?EX=T&amp;L1=HC&amp;L2=MA&amp;L3=1989&amp;AR=23_31#A23_31</td>\n",
       "      <td>Magistracy Appeal</td>\n",
       "    </tr>\n",
       "    <tr>\n",
       "      <th>12</th>\n",
       "      <td>2006</td>\n",
       "      <td>https://legalref.judiciary.hk/lrs/common/ju/judgment.jsp?EX=T&amp;L1=HC&amp;L2=MA&amp;L3=2006&amp;AR=23_14#A23_14</td>\n",
       "      <td>Magistracy Appeal</td>\n",
       "    </tr>\n",
       "    <tr>\n",
       "      <th>13</th>\n",
       "      <td>2005</td>\n",
       "      <td>https://legalref.judiciary.hk/lrs/common/ju/judgment.jsp?EX=T&amp;L1=HC&amp;L2=MA&amp;L3=2005&amp;AR=23_15#A23_15</td>\n",
       "      <td>Magistracy Appeal</td>\n",
       "    </tr>\n",
       "    <tr>\n",
       "      <th>14</th>\n",
       "      <td>2014</td>\n",
       "      <td>https://legalref.judiciary.hk/lrs/common/ju/judgment.jsp?EX=T&amp;L1=HC&amp;L2=MA&amp;L3=2014&amp;AR=23_6#A23_6</td>\n",
       "      <td>Magistracy Appeal</td>\n",
       "    </tr>\n",
       "    <tr>\n",
       "      <th>15</th>\n",
       "      <td>2008</td>\n",
       "      <td>https://legalref.judiciary.hk/lrs/common/ju/judgment.jsp?EX=T&amp;L1=HC&amp;L2=MA&amp;L3=2008&amp;AR=23_12#A23_12</td>\n",
       "      <td>Magistracy Appeal</td>\n",
       "    </tr>\n",
       "    <tr>\n",
       "      <th>16</th>\n",
       "      <td>2002</td>\n",
       "      <td>https://legalref.judiciary.hk/lrs/common/ju/judgment.jsp?EX=T&amp;L1=HC&amp;L2=MA&amp;L3=2002&amp;AR=23_18#A23_18</td>\n",
       "      <td>Magistracy Appeal</td>\n",
       "    </tr>\n",
       "    <tr>\n",
       "      <th>17</th>\n",
       "      <td>1996</td>\n",
       "      <td>https://legalref.judiciary.hk/lrs/common/ju/judgment.jsp?EX=T&amp;L1=HC&amp;L2=MA&amp;L3=1996&amp;AR=23_24#A23_24</td>\n",
       "      <td>Magistracy Appeal</td>\n",
       "    </tr>\n",
       "    <tr>\n",
       "      <th>18</th>\n",
       "      <td>1994</td>\n",
       "      <td>https://legalref.judiciary.hk/lrs/common/ju/judgment.jsp?EX=T&amp;L1=HC&amp;L2=MA&amp;L3=1994&amp;AR=23_26#A23_26</td>\n",
       "      <td>Magistracy Appeal</td>\n",
       "    </tr>\n",
       "    <tr>\n",
       "      <th>19</th>\n",
       "      <td>2019</td>\n",
       "      <td>https://legalref.judiciary.hk/lrs/common/ju/judgment.jsp?EX=T&amp;L1=HC&amp;L2=MA&amp;L3=2019&amp;AR=23_1#A23_1</td>\n",
       "      <td>Magistracy Appeal</td>\n",
       "    </tr>\n",
       "    <tr>\n",
       "      <th>20</th>\n",
       "      <td>2009</td>\n",
       "      <td>https://legalref.judiciary.hk/lrs/common/ju/judgment.jsp?EX=T&amp;L1=HC&amp;L2=MA&amp;L3=2009&amp;AR=23_11#A23_11</td>\n",
       "      <td>Magistracy Appeal</td>\n",
       "    </tr>\n",
       "    <tr>\n",
       "      <th>21</th>\n",
       "      <td>2013</td>\n",
       "      <td>https://legalref.judiciary.hk/lrs/common/ju/judgment.jsp?EX=T&amp;L1=HC&amp;L2=MA&amp;L3=2013&amp;AR=23_7#A23_7</td>\n",
       "      <td>Magistracy Appeal</td>\n",
       "    </tr>\n",
       "    <tr>\n",
       "      <th>22</th>\n",
       "      <td>2016</td>\n",
       "      <td>https://legalref.judiciary.hk/lrs/common/ju/judgment.jsp?EX=T&amp;L1=HC&amp;L2=MA&amp;L3=2016&amp;AR=23_4#A23_4</td>\n",
       "      <td>Magistracy Appeal</td>\n",
       "    </tr>\n",
       "    <tr>\n",
       "      <th>23</th>\n",
       "      <td>2004</td>\n",
       "      <td>https://legalref.judiciary.hk/lrs/common/ju/judgment.jsp?EX=T&amp;L1=HC&amp;L2=MA&amp;L3=2004&amp;AR=23_16#A23_16</td>\n",
       "      <td>Magistracy Appeal</td>\n",
       "    </tr>\n",
       "    <tr>\n",
       "      <th>24</th>\n",
       "      <td>1987</td>\n",
       "      <td>https://legalref.judiciary.hk/lrs/common/ju/judgment.jsp?EX=T&amp;L1=HC&amp;L2=MA&amp;L3=1987&amp;AR=23_33#A23_33</td>\n",
       "      <td>Magistracy Appeal</td>\n",
       "    </tr>\n",
       "    <tr>\n",
       "      <th>25</th>\n",
       "      <td>1995</td>\n",
       "      <td>https://legalref.judiciary.hk/lrs/common/ju/judgment.jsp?EX=T&amp;L1=HC&amp;L2=MA&amp;L3=1995&amp;AR=23_25#A23_25</td>\n",
       "      <td>Magistracy Appeal</td>\n",
       "    </tr>\n",
       "    <tr>\n",
       "      <th>26</th>\n",
       "      <td>2003</td>\n",
       "      <td>https://legalref.judiciary.hk/lrs/common/ju/judgment.jsp?EX=T&amp;L1=HC&amp;L2=MA&amp;L3=2003&amp;AR=23_17#A23_17</td>\n",
       "      <td>Magistracy Appeal</td>\n",
       "    </tr>\n",
       "    <tr>\n",
       "      <th>27</th>\n",
       "      <td>1988</td>\n",
       "      <td>https://legalref.judiciary.hk/lrs/common/ju/judgment.jsp?EX=T&amp;L1=HC&amp;L2=MA&amp;L3=1988&amp;AR=23_32#A23_32</td>\n",
       "      <td>Magistracy Appeal</td>\n",
       "    </tr>\n",
       "    <tr>\n",
       "      <th>28</th>\n",
       "      <td>1990</td>\n",
       "      <td>https://legalref.judiciary.hk/lrs/common/ju/judgment.jsp?EX=T&amp;L1=HC&amp;L2=MA&amp;L3=1990&amp;AR=23_30#A23_30</td>\n",
       "      <td>Magistracy Appeal</td>\n",
       "    </tr>\n",
       "    <tr>\n",
       "      <th>29</th>\n",
       "      <td>1999</td>\n",
       "      <td>https://legalref.judiciary.hk/lrs/common/ju/judgment.jsp?EX=T&amp;L1=HC&amp;L2=MA&amp;L3=1999&amp;AR=23_21#A23_21</td>\n",
       "      <td>Magistracy Appeal</td>\n",
       "    </tr>\n",
       "    <tr>\n",
       "      <th>30</th>\n",
       "      <td>2018</td>\n",
       "      <td>https://legalref.judiciary.hk/lrs/common/ju/judgment.jsp?EX=T&amp;L1=HC&amp;L2=MA&amp;L3=2018&amp;AR=23_2#A23_2</td>\n",
       "      <td>Magistracy Appeal</td>\n",
       "    </tr>\n",
       "    <tr>\n",
       "      <th>31</th>\n",
       "      <td>2017</td>\n",
       "      <td>https://legalref.judiciary.hk/lrs/common/ju/judgment.jsp?EX=T&amp;L1=HC&amp;L2=MA&amp;L3=2017&amp;AR=23_3#A23_3</td>\n",
       "      <td>Magistracy Appeal</td>\n",
       "    </tr>\n",
       "    <tr>\n",
       "      <th>32</th>\n",
       "      <td>1997</td>\n",
       "      <td>https://legalref.judiciary.hk/lrs/common/ju/judgment.jsp?EX=T&amp;L1=HC&amp;L2=MA&amp;L3=1997&amp;AR=23_23#A23_23</td>\n",
       "      <td>Magistracy Appeal</td>\n",
       "    </tr>\n",
       "    <tr>\n",
       "      <th>33</th>\n",
       "      <td>2015</td>\n",
       "      <td>https://legalref.judiciary.hk/lrs/common/ju/judgment.jsp?EX=T&amp;L1=HC&amp;L2=MA&amp;L3=2015&amp;AR=23_5#A23_5</td>\n",
       "      <td>Magistracy Appeal</td>\n",
       "    </tr>\n",
       "    <tr>\n",
       "      <th>34</th>\n",
       "      <td>1985</td>\n",
       "      <td>https://legalref.judiciary.hk/lrs/common/ju/judgment.jsp?EX=T&amp;L1=HC&amp;L2=MA&amp;L3=1985&amp;AR=23_35#A23_35</td>\n",
       "      <td>Magistracy Appeal</td>\n",
       "    </tr>\n",
       "    <tr>\n",
       "      <th>35</th>\n",
       "      <td>2010</td>\n",
       "      <td>https://legalref.judiciary.hk/lrs/common/ju/judgment.jsp?EX=T&amp;L1=HC&amp;L2=MA&amp;L3=2010&amp;AR=23_10#A23_10</td>\n",
       "      <td>Magistracy Appeal</td>\n",
       "    </tr>\n",
       "    <tr>\n",
       "      <th>36</th>\n",
       "      <td>1991</td>\n",
       "      <td>https://legalref.judiciary.hk/lrs/common/ju/judgment.jsp?EX=T&amp;L1=HC&amp;L2=MA&amp;L3=1991&amp;AR=23_29#A23_29</td>\n",
       "      <td>Magistracy Appeal</td>\n",
       "    </tr>\n",
       "  </tbody>\n",
       "</table>\n",
       "</div>"
      ],
      "text/plain": [
       "    year  \\\n",
       "0   1986   \n",
       "1   1984   \n",
       "2   1983   \n",
       "3   2011   \n",
       "4   2000   \n",
       "5   2012   \n",
       "6   1998   \n",
       "7   1992   \n",
       "8   2001   \n",
       "9   2007   \n",
       "10  1993   \n",
       "11  1989   \n",
       "12  2006   \n",
       "13  2005   \n",
       "14  2014   \n",
       "15  2008   \n",
       "16  2002   \n",
       "17  1996   \n",
       "18  1994   \n",
       "19  2019   \n",
       "20  2009   \n",
       "21  2013   \n",
       "22  2016   \n",
       "23  2004   \n",
       "24  1987   \n",
       "25  1995   \n",
       "26  2003   \n",
       "27  1988   \n",
       "28  1990   \n",
       "29  1999   \n",
       "30  2018   \n",
       "31  2017   \n",
       "32  1997   \n",
       "33  2015   \n",
       "34  1985   \n",
       "35  2010   \n",
       "36  1991   \n",
       "\n",
       "                                                                                             year_url  \\\n",
       "0   https://legalref.judiciary.hk/lrs/common/ju/judgment.jsp?EX=T&L1=HC&L2=MA&L3=1986&AR=23_34#A23_34   \n",
       "1   https://legalref.judiciary.hk/lrs/common/ju/judgment.jsp?EX=T&L1=HC&L2=MA&L3=1984&AR=23_36#A23_36   \n",
       "2   https://legalref.judiciary.hk/lrs/common/ju/judgment.jsp?EX=T&L1=HC&L2=MA&L3=1983&AR=23_37#A23_37   \n",
       "3     https://legalref.judiciary.hk/lrs/common/ju/judgment.jsp?EX=T&L1=HC&L2=MA&L3=2011&AR=23_9#A23_9   \n",
       "4   https://legalref.judiciary.hk/lrs/common/ju/judgment.jsp?EX=T&L1=HC&L2=MA&L3=2000&AR=23_20#A23_20   \n",
       "5     https://legalref.judiciary.hk/lrs/common/ju/judgment.jsp?EX=T&L1=HC&L2=MA&L3=2012&AR=23_8#A23_8   \n",
       "6   https://legalref.judiciary.hk/lrs/common/ju/judgment.jsp?EX=T&L1=HC&L2=MA&L3=1998&AR=23_22#A23_22   \n",
       "7   https://legalref.judiciary.hk/lrs/common/ju/judgment.jsp?EX=T&L1=HC&L2=MA&L3=1992&AR=23_28#A23_28   \n",
       "8   https://legalref.judiciary.hk/lrs/common/ju/judgment.jsp?EX=T&L1=HC&L2=MA&L3=2001&AR=23_19#A23_19   \n",
       "9   https://legalref.judiciary.hk/lrs/common/ju/judgment.jsp?EX=T&L1=HC&L2=MA&L3=2007&AR=23_13#A23_13   \n",
       "10  https://legalref.judiciary.hk/lrs/common/ju/judgment.jsp?EX=T&L1=HC&L2=MA&L3=1993&AR=23_27#A23_27   \n",
       "11  https://legalref.judiciary.hk/lrs/common/ju/judgment.jsp?EX=T&L1=HC&L2=MA&L3=1989&AR=23_31#A23_31   \n",
       "12  https://legalref.judiciary.hk/lrs/common/ju/judgment.jsp?EX=T&L1=HC&L2=MA&L3=2006&AR=23_14#A23_14   \n",
       "13  https://legalref.judiciary.hk/lrs/common/ju/judgment.jsp?EX=T&L1=HC&L2=MA&L3=2005&AR=23_15#A23_15   \n",
       "14    https://legalref.judiciary.hk/lrs/common/ju/judgment.jsp?EX=T&L1=HC&L2=MA&L3=2014&AR=23_6#A23_6   \n",
       "15  https://legalref.judiciary.hk/lrs/common/ju/judgment.jsp?EX=T&L1=HC&L2=MA&L3=2008&AR=23_12#A23_12   \n",
       "16  https://legalref.judiciary.hk/lrs/common/ju/judgment.jsp?EX=T&L1=HC&L2=MA&L3=2002&AR=23_18#A23_18   \n",
       "17  https://legalref.judiciary.hk/lrs/common/ju/judgment.jsp?EX=T&L1=HC&L2=MA&L3=1996&AR=23_24#A23_24   \n",
       "18  https://legalref.judiciary.hk/lrs/common/ju/judgment.jsp?EX=T&L1=HC&L2=MA&L3=1994&AR=23_26#A23_26   \n",
       "19    https://legalref.judiciary.hk/lrs/common/ju/judgment.jsp?EX=T&L1=HC&L2=MA&L3=2019&AR=23_1#A23_1   \n",
       "20  https://legalref.judiciary.hk/lrs/common/ju/judgment.jsp?EX=T&L1=HC&L2=MA&L3=2009&AR=23_11#A23_11   \n",
       "21    https://legalref.judiciary.hk/lrs/common/ju/judgment.jsp?EX=T&L1=HC&L2=MA&L3=2013&AR=23_7#A23_7   \n",
       "22    https://legalref.judiciary.hk/lrs/common/ju/judgment.jsp?EX=T&L1=HC&L2=MA&L3=2016&AR=23_4#A23_4   \n",
       "23  https://legalref.judiciary.hk/lrs/common/ju/judgment.jsp?EX=T&L1=HC&L2=MA&L3=2004&AR=23_16#A23_16   \n",
       "24  https://legalref.judiciary.hk/lrs/common/ju/judgment.jsp?EX=T&L1=HC&L2=MA&L3=1987&AR=23_33#A23_33   \n",
       "25  https://legalref.judiciary.hk/lrs/common/ju/judgment.jsp?EX=T&L1=HC&L2=MA&L3=1995&AR=23_25#A23_25   \n",
       "26  https://legalref.judiciary.hk/lrs/common/ju/judgment.jsp?EX=T&L1=HC&L2=MA&L3=2003&AR=23_17#A23_17   \n",
       "27  https://legalref.judiciary.hk/lrs/common/ju/judgment.jsp?EX=T&L1=HC&L2=MA&L3=1988&AR=23_32#A23_32   \n",
       "28  https://legalref.judiciary.hk/lrs/common/ju/judgment.jsp?EX=T&L1=HC&L2=MA&L3=1990&AR=23_30#A23_30   \n",
       "29  https://legalref.judiciary.hk/lrs/common/ju/judgment.jsp?EX=T&L1=HC&L2=MA&L3=1999&AR=23_21#A23_21   \n",
       "30    https://legalref.judiciary.hk/lrs/common/ju/judgment.jsp?EX=T&L1=HC&L2=MA&L3=2018&AR=23_2#A23_2   \n",
       "31    https://legalref.judiciary.hk/lrs/common/ju/judgment.jsp?EX=T&L1=HC&L2=MA&L3=2017&AR=23_3#A23_3   \n",
       "32  https://legalref.judiciary.hk/lrs/common/ju/judgment.jsp?EX=T&L1=HC&L2=MA&L3=1997&AR=23_23#A23_23   \n",
       "33    https://legalref.judiciary.hk/lrs/common/ju/judgment.jsp?EX=T&L1=HC&L2=MA&L3=2015&AR=23_5#A23_5   \n",
       "34  https://legalref.judiciary.hk/lrs/common/ju/judgment.jsp?EX=T&L1=HC&L2=MA&L3=1985&AR=23_35#A23_35   \n",
       "35  https://legalref.judiciary.hk/lrs/common/ju/judgment.jsp?EX=T&L1=HC&L2=MA&L3=2010&AR=23_10#A23_10   \n",
       "36  https://legalref.judiciary.hk/lrs/common/ju/judgment.jsp?EX=T&L1=HC&L2=MA&L3=1991&AR=23_29#A23_29   \n",
       "\n",
       "    sub_court_cleared  \n",
       "0   Magistracy Appeal  \n",
       "1   Magistracy Appeal  \n",
       "2   Magistracy Appeal  \n",
       "3   Magistracy Appeal  \n",
       "4   Magistracy Appeal  \n",
       "5   Magistracy Appeal  \n",
       "6   Magistracy Appeal  \n",
       "7   Magistracy Appeal  \n",
       "8   Magistracy Appeal  \n",
       "9   Magistracy Appeal  \n",
       "10  Magistracy Appeal  \n",
       "11  Magistracy Appeal  \n",
       "12  Magistracy Appeal  \n",
       "13  Magistracy Appeal  \n",
       "14  Magistracy Appeal  \n",
       "15  Magistracy Appeal  \n",
       "16  Magistracy Appeal  \n",
       "17  Magistracy Appeal  \n",
       "18  Magistracy Appeal  \n",
       "19  Magistracy Appeal  \n",
       "20  Magistracy Appeal  \n",
       "21  Magistracy Appeal  \n",
       "22  Magistracy Appeal  \n",
       "23  Magistracy Appeal  \n",
       "24  Magistracy Appeal  \n",
       "25  Magistracy Appeal  \n",
       "26  Magistracy Appeal  \n",
       "27  Magistracy Appeal  \n",
       "28  Magistracy Appeal  \n",
       "29  Magistracy Appeal  \n",
       "30  Magistracy Appeal  \n",
       "31  Magistracy Appeal  \n",
       "32  Magistracy Appeal  \n",
       "33  Magistracy Appeal  \n",
       "34  Magistracy Appeal  \n",
       "35  Magistracy Appeal  \n",
       "36  Magistracy Appeal  "
      ]
     },
     "execution_count": 217,
     "metadata": {},
     "output_type": "execute_result"
    }
   ],
   "source": [
    "# test case2\n",
    "sub_ = 'Magistracy Appeal'\n",
    "url = special_courts[sub_]\n",
    "print(url)\n",
    "df_test = get_year_urls(sub_, url, df_all, courts_set, urls_set)\n",
    "df_test"
   ]
  },
  {
   "cell_type": "code",
   "execution_count": 218,
   "metadata": {
    "scrolled": true
   },
   "outputs": [
    {
     "name": "stderr",
     "output_type": "stream",
     "text": [
      "\n",
      "  0%|                                                   | 0/88 [00:00<?, ?it/s]"
     ]
    },
    {
     "name": "stdout",
     "output_type": "stream",
     "text": [
      "for sub_court:  Final Appeal (Civil)\n",
      "200\n",
      "200\n"
     ]
    },
    {
     "name": "stderr",
     "output_type": "stream",
     "text": [
      "\n",
      "  1%|▍                                          | 1/88 [00:07<10:35,  7.30s/it]"
     ]
    },
    {
     "name": "stdout",
     "output_type": "stream",
     "text": [
      "for sub_court:  Final Appeal (Criminal)\n",
      "200\n",
      "200\n"
     ]
    },
    {
     "name": "stderr",
     "output_type": "stream",
     "text": [
      "\n",
      "  2%|▉                                          | 2/88 [00:20<13:04,  9.13s/it]"
     ]
    },
    {
     "name": "stdout",
     "output_type": "stream",
     "text": [
      "for sub_court:  Miscellaneou Proceeding\n",
      "200\n",
      "200\n"
     ]
    },
    {
     "name": "stderr",
     "output_type": "stream",
     "text": [
      "\n",
      "  3%|█▍                                         | 3/88 [00:34<14:46, 10.42s/it]"
     ]
    },
    {
     "name": "stdout",
     "output_type": "stream",
     "text": [
      "for sub_court:  Miscellaneou Proceeding (Civil)\n",
      "200\n",
      "200\n"
     ]
    },
    {
     "name": "stderr",
     "output_type": "stream",
     "text": [
      "\n",
      "  5%|█▉                                         | 4/88 [00:39<12:23,  8.85s/it]"
     ]
    },
    {
     "name": "stdout",
     "output_type": "stream",
     "text": [
      "for sub_court:  Miscellaneou Proceeding (Criminal)\n",
      "200\n",
      "200\n"
     ]
    },
    {
     "name": "stderr",
     "output_type": "stream",
     "text": [
      "\n",
      "  6%|██▍                                        | 5/88 [00:44<10:37,  7.68s/it]"
     ]
    },
    {
     "name": "stdout",
     "output_type": "stream",
     "text": [
      "for sub_court:  Application for Review\n",
      "200\n",
      "200\n"
     ]
    },
    {
     "name": "stderr",
     "output_type": "stream",
     "text": [
      "\n",
      "  7%|██▉                                        | 6/88 [00:48<08:58,  6.57s/it]"
     ]
    },
    {
     "name": "stdout",
     "output_type": "stream",
     "text": [
      "for sub_court:  Attorney General Reference\n",
      "200\n",
      "200\n"
     ]
    },
    {
     "name": "stderr",
     "output_type": "stream",
     "text": [
      "\n",
      "  8%|███▍                                       | 7/88 [00:51<07:36,  5.64s/it]"
     ]
    },
    {
     "name": "stdout",
     "output_type": "stream",
     "text": [
      "for sub_court:  Civil Appeal\n",
      "200\n",
      "200\n"
     ]
    },
    {
     "name": "stderr",
     "output_type": "stream",
     "text": [
      "\n",
      "  9%|███▉                                       | 8/88 [01:14<14:30, 10.88s/it]"
     ]
    },
    {
     "name": "stdout",
     "output_type": "stream",
     "text": [
      "for sub_court:  Criminal Appeal\n",
      "200\n",
      "200\n"
     ]
    },
    {
     "name": "stderr",
     "output_type": "stream",
     "text": [
      "\n",
      " 10%|████▍                                      | 9/88 [01:18<11:38,  8.84s/it]"
     ]
    },
    {
     "name": "stdout",
     "output_type": "stream",
     "text": [
      "for sub_court:  Miscellaneou Proceeding\n",
      "200\n",
      "200\n"
     ]
    },
    {
     "name": "stderr",
     "output_type": "stream",
     "text": [
      "\n",
      " 11%|████▊                                     | 10/88 [01:22<09:33,  7.35s/it]"
     ]
    },
    {
     "name": "stdout",
     "output_type": "stream",
     "text": [
      "for sub_court:  Reservation of Question of Law\n",
      "200\n",
      "200\n"
     ]
    },
    {
     "name": "stderr",
     "output_type": "stream",
     "text": [
      "\n",
      " 12%|█████▎                                    | 11/88 [01:27<08:33,  6.66s/it]"
     ]
    },
    {
     "name": "stdout",
     "output_type": "stream",
     "text": [
      "for sub_court:  Admiralty Action\n",
      "200\n",
      "200\n"
     ]
    },
    {
     "name": "stderr",
     "output_type": "stream",
     "text": [
      "\n",
      " 14%|█████▋                                    | 12/88 [01:31<07:20,  5.79s/it]"
     ]
    },
    {
     "name": "stdout",
     "output_type": "stream",
     "text": [
      "for sub_court:  Adoption Application\n",
      "200\n",
      "200\n"
     ]
    },
    {
     "name": "stderr",
     "output_type": "stream",
     "text": [
      "\n",
      " 15%|██████▏                                   | 13/88 [01:35<06:24,  5.12s/it]"
     ]
    },
    {
     "name": "stdout",
     "output_type": "stream",
     "text": [
      "for sub_court:  Application for Grant\n",
      "200\n",
      "200\n"
     ]
    },
    {
     "name": "stderr",
     "output_type": "stream",
     "text": [
      "\n",
      " 16%|██████▋                                   | 14/88 [01:42<06:58,  5.65s/it]"
     ]
    },
    {
     "name": "stdout",
     "output_type": "stream",
     "text": [
      "for sub_court:  Application to et aside a Statutory Demand (under Bankruptcy Ordinance)\n",
      "200\n",
      "200\n"
     ]
    },
    {
     "name": "stderr",
     "output_type": "stream",
     "text": [
      "\n",
      " 17%|███████▏                                  | 15/88 [01:46<06:29,  5.34s/it]"
     ]
    },
    {
     "name": "stdout",
     "output_type": "stream",
     "text": [
      "for sub_court:  Application under the Mental Health Ordinance\n",
      "200\n",
      "200\n"
     ]
    },
    {
     "name": "stderr",
     "output_type": "stream",
     "text": [
      "\n",
      " 18%|███████▋                                  | 16/88 [01:50<05:53,  4.90s/it]"
     ]
    },
    {
     "name": "stdout",
     "output_type": "stream",
     "text": [
      "for sub_court:  Bankruptcy Proceeding\n",
      "200\n",
      "200\n"
     ]
    },
    {
     "name": "stderr",
     "output_type": "stream",
     "text": [
      "\n",
      " 19%|████████                                  | 17/88 [01:55<05:40,  4.80s/it]"
     ]
    },
    {
     "name": "stdout",
     "output_type": "stream",
     "text": [
      "for sub_court:  Caveat\n",
      "200\n",
      "200\n"
     ]
    },
    {
     "name": "stderr",
     "output_type": "stream",
     "text": [
      "\n",
      " 20%|████████▌                                 | 18/88 [02:10<09:14,  7.92s/it]"
     ]
    },
    {
     "name": "stdout",
     "output_type": "stream",
     "text": [
      "for sub_court:  Citation Application\n",
      "200\n",
      "200\n"
     ]
    },
    {
     "name": "stderr",
     "output_type": "stream",
     "text": [
      "\n",
      " 22%|█████████                                 | 19/88 [02:13<07:38,  6.64s/it]"
     ]
    },
    {
     "name": "stdout",
     "output_type": "stream",
     "text": [
      "for sub_court:  Civil Action\n",
      "200\n",
      "200\n"
     ]
    },
    {
     "name": "stderr",
     "output_type": "stream",
     "text": [
      "\n",
      " 23%|█████████▌                                | 20/88 [02:18<06:39,  5.88s/it]"
     ]
    },
    {
     "name": "stdout",
     "output_type": "stream",
     "text": [
      "for sub_court:  Commercial Action\n",
      "200\n",
      "200\n"
     ]
    },
    {
     "name": "stderr",
     "output_type": "stream",
     "text": [
      "\n",
      " 24%|██████████                                | 21/88 [02:25<06:58,  6.25s/it]"
     ]
    },
    {
     "name": "stdout",
     "output_type": "stream",
     "text": [
      "for sub_court:  Companie Winding-up Proceeding\n",
      "200\n",
      "200\n"
     ]
    },
    {
     "name": "stderr",
     "output_type": "stream",
     "text": [
      "\n",
      " 25%|██████████▌                               | 22/88 [02:31<06:49,  6.20s/it]"
     ]
    },
    {
     "name": "stdout",
     "output_type": "stream",
     "text": [
      "for sub_court:  Confidential Miscellaneou Proceeding\n",
      "200\n",
      "200\n"
     ]
    },
    {
     "name": "stderr",
     "output_type": "stream",
     "text": [
      "\n",
      " 26%|██████████▉                               | 23/88 [02:35<05:55,  5.47s/it]"
     ]
    },
    {
     "name": "stdout",
     "output_type": "stream",
     "text": [
      "for sub_court:  Constitutional and Administrative Law Proceeding\n",
      "200\n",
      "200\n"
     ]
    },
    {
     "name": "stderr",
     "output_type": "stream",
     "text": [
      "\n",
      " 27%|███████████▍                              | 24/88 [02:41<06:17,  5.89s/it]"
     ]
    },
    {
     "name": "stdout",
     "output_type": "stream",
     "text": [
      "for sub_court:  Construction and Arbitration Proceeding\n",
      "200\n",
      "200\n"
     ]
    },
    {
     "name": "stderr",
     "output_type": "stream",
     "text": [
      "\n",
      " 28%|███████████▉                              | 25/88 [02:45<05:35,  5.32s/it]"
     ]
    },
    {
     "name": "stdout",
     "output_type": "stream",
     "text": [
      "for sub_court:  Criminal Case\n",
      "200\n",
      "200\n"
     ]
    },
    {
     "name": "stderr",
     "output_type": "stream",
     "text": [
      "\n",
      " 30%|████████████▍                             | 26/88 [03:01<08:37,  8.35s/it]"
     ]
    },
    {
     "name": "stdout",
     "output_type": "stream",
     "text": [
      "for sub_court:  Estate Duty Appeal\n",
      "200\n",
      "200\n"
     ]
    },
    {
     "name": "stderr",
     "output_type": "stream",
     "text": [
      "\n",
      " 31%|████████████▉                             | 27/88 [03:07<07:58,  7.84s/it]"
     ]
    },
    {
     "name": "stdout",
     "output_type": "stream",
     "text": [
      "for sub_court:  Ex-parte Application\n",
      "200\n",
      "200\n"
     ]
    },
    {
     "name": "stderr",
     "output_type": "stream",
     "text": [
      "\n",
      " 32%|█████████████▎                            | 28/88 [03:16<08:11,  8.18s/it]"
     ]
    },
    {
     "name": "stdout",
     "output_type": "stream",
     "text": [
      "for sub_court:  High Court Bankruptcy Interim Order\n",
      "200\n",
      "200\n"
     ]
    },
    {
     "name": "stderr",
     "output_type": "stream",
     "text": [
      "\n",
      " 33%|█████████████▊                            | 29/88 [03:21<06:54,  7.02s/it]"
     ]
    },
    {
     "name": "stdout",
     "output_type": "stream",
     "text": [
      "for sub_court:  Inland Revenue Appeal\n",
      "200\n",
      "200\n"
     ]
    },
    {
     "name": "stderr",
     "output_type": "stream",
     "text": [
      "\n",
      " 34%|██████████████▎                           | 30/88 [03:41<10:29, 10.85s/it]"
     ]
    },
    {
     "name": "stdout",
     "output_type": "stream",
     "text": [
      "for sub_court:  Intended Action\n",
      "200\n",
      "200\n"
     ]
    },
    {
     "name": "stderr",
     "output_type": "stream",
     "text": [
      "\n",
      " 35%|██████████████▊                           | 31/88 [03:44<08:15,  8.69s/it]"
     ]
    },
    {
     "name": "stdout",
     "output_type": "stream",
     "text": [
      "for sub_court:  Labour Tribunal Appeal\n",
      "200\n",
      "200\n"
     ]
    },
    {
     "name": "stderr",
     "output_type": "stream",
     "text": [
      "\n",
      " 36%|███████████████▎                          | 32/88 [03:48<06:45,  7.25s/it]"
     ]
    },
    {
     "name": "stdout",
     "output_type": "stream",
     "text": [
      "for sub_court:  Legal Aid Appeal\n",
      "200\n",
      "200\n"
     ]
    },
    {
     "name": "stderr",
     "output_type": "stream",
     "text": [
      "\n",
      " 38%|███████████████▊                          | 33/88 [03:57<07:00,  7.65s/it]"
     ]
    },
    {
     "name": "stdout",
     "output_type": "stream",
     "text": [
      "for sub_court:  Magistracy Appeal\n",
      "200\n",
      "200\n"
     ]
    },
    {
     "name": "stderr",
     "output_type": "stream",
     "text": [
      "\n",
      " 39%|████████████████▏                         | 34/88 [04:01<06:04,  6.75s/it]"
     ]
    },
    {
     "name": "stdout",
     "output_type": "stream",
     "text": [
      "for sub_court:  Matrimonial Cause\n",
      "200\n",
      "200\n"
     ]
    },
    {
     "name": "stderr",
     "output_type": "stream",
     "text": [
      "\n",
      " 40%|████████████████▋                         | 35/88 [04:05<05:13,  5.92s/it]"
     ]
    },
    {
     "name": "stdout",
     "output_type": "stream",
     "text": [
      "for sub_court:  Minor Employment Claim Appeal\n",
      "200\n",
      "200\n"
     ]
    },
    {
     "name": "stderr",
     "output_type": "stream",
     "text": [
      "\n",
      " 41%|█████████████████▏                        | 36/88 [04:21<07:42,  8.90s/it]"
     ]
    },
    {
     "name": "stdout",
     "output_type": "stream",
     "text": [
      "for sub_court:  Miscellaneou Proceeding\n",
      "200\n",
      "200\n"
     ]
    },
    {
     "name": "stderr",
     "output_type": "stream",
     "text": [
      "\n",
      " 42%|█████████████████▋                        | 37/88 [04:29<07:23,  8.69s/it]"
     ]
    },
    {
     "name": "stdout",
     "output_type": "stream",
     "text": [
      "for sub_court:  Miscellaneou Proceeding (Criminal)\n",
      "200\n",
      "200\n"
     ]
    },
    {
     "name": "stderr",
     "output_type": "stream",
     "text": [
      "\n",
      " 43%|██████████████████▏                       | 38/88 [04:33<06:04,  7.30s/it]"
     ]
    },
    {
     "name": "stdout",
     "output_type": "stream",
     "text": [
      "for sub_court:  Obscene Article Tribunal Appeal\n",
      "200\n",
      "200\n"
     ]
    },
    {
     "name": "stderr",
     "output_type": "stream",
     "text": [
      "\n",
      " 44%|██████████████████▌                       | 39/88 [04:37<05:02,  6.18s/it]"
     ]
    },
    {
     "name": "stdout",
     "output_type": "stream",
     "text": [
      "for sub_court:  Personal Injurie Action\n",
      "200\n",
      "200\n"
     ]
    },
    {
     "name": "stderr",
     "output_type": "stream",
     "text": [
      "\n",
      " 45%|███████████████████                       | 40/88 [04:43<04:47,  5.99s/it]"
     ]
    },
    {
     "name": "stdout",
     "output_type": "stream",
     "text": [
      "for sub_court:  Probate Action\n",
      "200\n",
      "200\n"
     ]
    },
    {
     "name": "stderr",
     "output_type": "stream",
     "text": [
      "\n",
      " 47%|███████████████████▌                      | 41/88 [04:46<04:12,  5.38s/it]"
     ]
    },
    {
     "name": "stdout",
     "output_type": "stream",
     "text": [
      "for sub_court:  Small Claim Tribunal Appeal\n",
      "200\n",
      "200\n"
     ]
    },
    {
     "name": "stderr",
     "output_type": "stream",
     "text": [
      "\n",
      " 48%|████████████████████                      | 42/88 [04:55<04:46,  6.22s/it]"
     ]
    },
    {
     "name": "stdout",
     "output_type": "stream",
     "text": [
      "for sub_court:  Competition Tribunal Action\n",
      "200\n",
      "200\n"
     ]
    },
    {
     "name": "stderr",
     "output_type": "stream",
     "text": [
      "\n",
      " 49%|████████████████████▌                     | 43/88 [04:59<04:12,  5.60s/it]"
     ]
    },
    {
     "name": "stdout",
     "output_type": "stream",
     "text": [
      "for sub_court:  Competition Tribunal Enforcement Action\n",
      "200\n",
      "200\n"
     ]
    },
    {
     "name": "stderr",
     "output_type": "stream",
     "text": [
      "\n",
      " 50%|█████████████████████                     | 44/88 [05:03<03:53,  5.31s/it]"
     ]
    },
    {
     "name": "stdout",
     "output_type": "stream",
     "text": [
      "for sub_court:  Civil Action\n",
      "200\n",
      "200\n"
     ]
    },
    {
     "name": "stderr",
     "output_type": "stream",
     "text": [
      "\n",
      " 51%|█████████████████████▍                    | 45/88 [05:13<04:43,  6.60s/it]"
     ]
    },
    {
     "name": "stdout",
     "output_type": "stream",
     "text": [
      "for sub_court:  Criminal Case\n",
      "200\n",
      "200\n"
     ]
    },
    {
     "name": "stderr",
     "output_type": "stream",
     "text": [
      "\n",
      " 52%|█████████████████████▉                    | 46/88 [05:17<04:04,  5.81s/it]"
     ]
    },
    {
     "name": "stdout",
     "output_type": "stream",
     "text": [
      "for sub_court:  Distraint Case\n",
      "200\n",
      "200\n"
     ]
    },
    {
     "name": "stderr",
     "output_type": "stream",
     "text": [
      "\n",
      " 53%|██████████████████████▍                   | 47/88 [05:26<04:35,  6.73s/it]"
     ]
    },
    {
     "name": "stdout",
     "output_type": "stream",
     "text": [
      "for sub_court:  District Court Tax Claim\n",
      "200\n",
      "200\n"
     ]
    },
    {
     "name": "stderr",
     "output_type": "stream",
     "text": [
      "\n",
      " 55%|██████████████████████▉                   | 48/88 [05:33<04:31,  6.80s/it]"
     ]
    },
    {
     "name": "stdout",
     "output_type": "stream",
     "text": [
      "for sub_court:  Employee Compensation Case\n",
      "200\n",
      "200\n"
     ]
    },
    {
     "name": "stderr",
     "output_type": "stream",
     "text": [
      "\n",
      " 56%|███████████████████████▍                  | 49/88 [05:37<03:50,  5.91s/it]"
     ]
    },
    {
     "name": "stdout",
     "output_type": "stream",
     "text": [
      "for sub_court:  Equal Opportunitie Action\n",
      "200\n",
      "200\n"
     ]
    },
    {
     "name": "stderr",
     "output_type": "stream",
     "text": [
      "\n",
      " 57%|███████████████████████▊                  | 50/88 [05:47<04:34,  7.21s/it]"
     ]
    },
    {
     "name": "stdout",
     "output_type": "stream",
     "text": [
      "for sub_court:  Intended Action\n",
      "200\n",
      "200\n"
     ]
    },
    {
     "name": "stderr",
     "output_type": "stream",
     "text": [
      "\n",
      " 58%|████████████████████████▎                 | 51/88 [05:51<03:53,  6.31s/it]"
     ]
    },
    {
     "name": "stdout",
     "output_type": "stream",
     "text": [
      "for sub_court:  Miscellaneou Proceeding\n",
      "200\n",
      "200\n"
     ]
    },
    {
     "name": "stderr",
     "output_type": "stream",
     "text": [
      "\n",
      " 59%|████████████████████████▊                 | 52/88 [05:55<03:19,  5.54s/it]"
     ]
    },
    {
     "name": "stdout",
     "output_type": "stream",
     "text": [
      "for sub_court:  Occupational Deafne (Compensation) Appeal\n",
      "200\n",
      "200\n"
     ]
    },
    {
     "name": "stderr",
     "output_type": "stream",
     "text": [
      "\n",
      " 60%|█████████████████████████▎                | 53/88 [05:59<02:54,  4.98s/it]"
     ]
    },
    {
     "name": "stdout",
     "output_type": "stream",
     "text": [
      "for sub_court:  Personal Injurie Action\n",
      "200\n",
      "200\n"
     ]
    },
    {
     "name": "stderr",
     "output_type": "stream",
     "text": [
      "\n",
      " 61%|█████████████████████████▊                | 54/88 [06:10<03:56,  6.95s/it]"
     ]
    },
    {
     "name": "stdout",
     "output_type": "stream",
     "text": [
      "for sub_court:  Stamp Duty Appeal\n",
      "200\n",
      "200\n"
     ]
    },
    {
     "name": "stderr",
     "output_type": "stream",
     "text": [
      "\n",
      " 62%|██████████████████████████▎               | 55/88 [06:20<04:18,  7.85s/it]"
     ]
    },
    {
     "name": "stdout",
     "output_type": "stream",
     "text": [
      "for sub_court:  Joint application\n",
      "200\n",
      "200\n"
     ]
    },
    {
     "name": "stderr",
     "output_type": "stream",
     "text": [
      "\n",
      " 64%|██████████████████████████▋               | 56/88 [06:28<04:12,  7.89s/it]"
     ]
    },
    {
     "name": "stdout",
     "output_type": "stream",
     "text": [
      "for sub_court:  Matrimonial Cause\n",
      "200\n",
      "200\n"
     ]
    },
    {
     "name": "stderr",
     "output_type": "stream",
     "text": [
      "\n",
      " 65%|███████████████████████████▏              | 57/88 [06:42<04:58,  9.63s/it]"
     ]
    },
    {
     "name": "stdout",
     "output_type": "stream",
     "text": [
      "for sub_court:  Miscellaneou Proceeding\n",
      "200\n",
      "200\n"
     ]
    },
    {
     "name": "stderr",
     "output_type": "stream",
     "text": [
      "\n",
      " 66%|███████████████████████████▋              | 58/88 [06:48<04:20,  8.69s/it]"
     ]
    },
    {
     "name": "stdout",
     "output_type": "stream",
     "text": [
      "for sub_court:  Building Management Application\n",
      "200\n",
      "200\n"
     ]
    },
    {
     "name": "stderr",
     "output_type": "stream",
     "text": [
      "\n",
      " 67%|████████████████████████████▏             | 59/88 [06:55<03:54,  8.08s/it]"
     ]
    },
    {
     "name": "stdout",
     "output_type": "stream",
     "text": [
      "for sub_court:  Building Ordinance Application\n",
      "200\n",
      "200\n"
     ]
    },
    {
     "name": "stderr",
     "output_type": "stream",
     "text": [
      "\n",
      " 68%|████████████████████████████▋             | 60/88 [07:06<04:11,  8.97s/it]"
     ]
    },
    {
     "name": "stdout",
     "output_type": "stream",
     "text": [
      "for sub_court:  Demolished Building Appeal\n",
      "200\n",
      "200\n"
     ]
    },
    {
     "name": "stderr",
     "output_type": "stream",
     "text": [
      "\n",
      " 69%|█████████████████████████████             | 61/88 [07:22<05:00, 11.11s/it]"
     ]
    },
    {
     "name": "stdout",
     "output_type": "stream",
     "text": [
      "for sub_court:  Demolished Building Application\n",
      "200\n",
      "200\n"
     ]
    },
    {
     "name": "stderr",
     "output_type": "stream",
     "text": [
      "\n",
      " 70%|█████████████████████████████▌            | 62/88 [07:27<04:04,  9.40s/it]"
     ]
    },
    {
     "name": "stdout",
     "output_type": "stream",
     "text": [
      "for sub_court:  Government Rent Appeal\n",
      "200\n",
      "200\n"
     ]
    },
    {
     "name": "stderr",
     "output_type": "stream",
     "text": [
      "\n",
      " 72%|██████████████████████████████            | 63/88 [07:37<03:56,  9.46s/it]"
     ]
    },
    {
     "name": "stdout",
     "output_type": "stream",
     "text": [
      "for sub_court:  Housing Ordinance Appeal\n",
      "200\n",
      "200\n"
     ]
    },
    {
     "name": "stderr",
     "output_type": "stream",
     "text": [
      "\n",
      " 73%|██████████████████████████████▌           | 64/88 [07:46<03:40,  9.19s/it]"
     ]
    },
    {
     "name": "stdout",
     "output_type": "stream",
     "text": [
      "for sub_court:  Land Compulsory Sale Application\n",
      "200\n",
      "200\n"
     ]
    },
    {
     "name": "stderr",
     "output_type": "stream",
     "text": [
      "\n",
      " 74%|███████████████████████████████           | 65/88 [07:50<02:55,  7.64s/it]"
     ]
    },
    {
     "name": "stdout",
     "output_type": "stream",
     "text": [
      "for sub_court:  Land Resumption Application\n",
      "200\n",
      "200\n"
     ]
    },
    {
     "name": "stderr",
     "output_type": "stream",
     "text": [
      "\n",
      " 75%|███████████████████████████████▌          | 66/88 [07:56<02:38,  7.23s/it]"
     ]
    },
    {
     "name": "stdout",
     "output_type": "stream",
     "text": [
      "for sub_court:  Landlord  Appeal\n",
      "200\n",
      "200\n"
     ]
    },
    {
     "name": "stderr",
     "output_type": "stream",
     "text": [
      "\n",
      " 76%|███████████████████████████████▉          | 67/88 [08:00<02:11,  6.25s/it]"
     ]
    },
    {
     "name": "stdout",
     "output_type": "stream",
     "text": [
      "for sub_court:  MTR Ordinance Application\n",
      "200\n",
      "200\n"
     ]
    },
    {
     "name": "stderr",
     "output_type": "stream",
     "text": [
      "\n",
      " 77%|████████████████████████████████▍         | 68/88 [08:04<01:50,  5.52s/it]"
     ]
    },
    {
     "name": "stdout",
     "output_type": "stream",
     "text": [
      "for sub_court:  Miscellaneou Proceeding Application\n",
      "200\n",
      "200\n"
     ]
    },
    {
     "name": "stderr",
     "output_type": "stream",
     "text": [
      "\n",
      " 78%|████████████████████████████████▉         | 69/88 [08:08<01:36,  5.10s/it]"
     ]
    },
    {
     "name": "stdout",
     "output_type": "stream",
     "text": [
      "for sub_court:  Miscellaneou Reference Application\n",
      "200\n",
      "200\n"
     ]
    },
    {
     "name": "stderr",
     "output_type": "stream",
     "text": [
      "\n",
      " 80%|█████████████████████████████████▍        | 70/88 [08:13<01:29,  4.99s/it]"
     ]
    },
    {
     "name": "stdout",
     "output_type": "stream",
     "text": [
      "for sub_court:  New Tenancy Application\n",
      "200\n",
      "200\n"
     ]
    },
    {
     "name": "stderr",
     "output_type": "stream",
     "text": [
      "\n",
      " 81%|█████████████████████████████████▉        | 71/88 [08:17<01:22,  4.88s/it]"
     ]
    },
    {
     "name": "stdout",
     "output_type": "stream",
     "text": [
      "for sub_court:  Part I Possession Application\n",
      "200\n",
      "200\n"
     ]
    },
    {
     "name": "stderr",
     "output_type": "stream",
     "text": [
      "\n",
      " 82%|██████████████████████████████████▎       | 72/88 [08:22<01:16,  4.80s/it]"
     ]
    },
    {
     "name": "stdout",
     "output_type": "stream",
     "text": [
      "for sub_court:  Part II Possession Application\n",
      "200\n",
      "200\n"
     ]
    },
    {
     "name": "stderr",
     "output_type": "stream",
     "text": [
      "\n",
      " 83%|██████████████████████████████████▊       | 73/88 [08:26<01:08,  4.55s/it]"
     ]
    },
    {
     "name": "stdout",
     "output_type": "stream",
     "text": [
      "for sub_court:  Part IV Possession Application\n",
      "200\n",
      "200\n"
     ]
    },
    {
     "name": "stderr",
     "output_type": "stream",
     "text": [
      "\n",
      " 84%|███████████████████████████████████▎      | 74/88 [08:35<01:24,  6.04s/it]"
     ]
    },
    {
     "name": "stdout",
     "output_type": "stream",
     "text": [
      "for sub_court:  Part V Possession Application\n",
      "200\n",
      "200\n"
     ]
    },
    {
     "name": "stderr",
     "output_type": "stream",
     "text": [
      "\n",
      " 85%|███████████████████████████████████▊      | 75/88 [08:39<01:11,  5.50s/it]"
     ]
    },
    {
     "name": "stdout",
     "output_type": "stream",
     "text": [
      "for sub_court:  Railway Ordinance Application\n",
      "200\n",
      "200\n"
     ]
    },
    {
     "name": "stderr",
     "output_type": "stream",
     "text": [
      "\n",
      " 86%|████████████████████████████████████▎     | 76/88 [08:49<01:21,  6.81s/it]"
     ]
    },
    {
     "name": "stdout",
     "output_type": "stream",
     "text": [
      "for sub_court:  Rating Appeal\n",
      "200\n",
      "200\n"
     ]
    },
    {
     "name": "stderr",
     "output_type": "stream",
     "text": [
      "\n",
      " 88%|████████████████████████████████████▊     | 77/88 [08:53<01:05,  5.99s/it]"
     ]
    },
    {
     "name": "stdout",
     "output_type": "stream",
     "text": [
      "for sub_court:  Coroner Court Death Inquest\n",
      "200\n",
      "200\n"
     ]
    },
    {
     "name": "stderr",
     "output_type": "stream",
     "text": [
      "\n",
      " 89%|█████████████████████████████████████▏    | 78/88 [08:59<00:57,  5.74s/it]"
     ]
    },
    {
     "name": "stdout",
     "output_type": "stream",
     "text": [
      "for sub_court:  Eastern Magistrate Court Charge Case\n",
      "200\n",
      "200\n"
     ]
    },
    {
     "name": "stderr",
     "output_type": "stream",
     "text": [
      "\n",
      " 90%|█████████████████████████████████████▋    | 79/88 [09:03<00:49,  5.48s/it]"
     ]
    },
    {
     "name": "stdout",
     "output_type": "stream",
     "text": [
      "for sub_court:  Eastern Magistrate Court Summon Case\n",
      "200\n",
      "200\n"
     ]
    },
    {
     "name": "stderr",
     "output_type": "stream",
     "text": [
      "\n",
      " 91%|██████████████████████████████████████▏   | 80/88 [09:08<00:41,  5.20s/it]"
     ]
    },
    {
     "name": "stdout",
     "output_type": "stream",
     "text": [
      "for sub_court:  Kowloon City Magistrate Court Charge Case\n",
      "200\n",
      "200\n"
     ]
    },
    {
     "name": "stderr",
     "output_type": "stream",
     "text": [
      "\n",
      " 92%|██████████████████████████████████████▋   | 81/88 [09:12<00:34,  4.97s/it]"
     ]
    },
    {
     "name": "stdout",
     "output_type": "stream",
     "text": [
      "for sub_court:  Kowloon City Magistrates’ Court Summon Case\n",
      "200\n",
      "200\n"
     ]
    },
    {
     "name": "stderr",
     "output_type": "stream",
     "text": [
      "\n",
      " 93%|███████████████████████████████████████▏  | 82/88 [09:30<00:53,  8.90s/it]"
     ]
    },
    {
     "name": "stdout",
     "output_type": "stream",
     "text": [
      "for sub_court:  Labour Tribunal Claim\n",
      "200\n",
      "200\n"
     ]
    },
    {
     "name": "stderr",
     "output_type": "stream",
     "text": [
      "\n",
      " 94%|███████████████████████████████████████▌  | 83/88 [09:38<00:41,  8.37s/it]"
     ]
    },
    {
     "name": "stdout",
     "output_type": "stream",
     "text": [
      "for sub_court:  Obscene Article Tribunal Case\n",
      "200\n",
      "200\n"
     ]
    },
    {
     "name": "stderr",
     "output_type": "stream",
     "text": [
      "\n",
      " 95%|████████████████████████████████████████  | 84/88 [09:42<00:28,  7.19s/it]"
     ]
    },
    {
     "name": "stdout",
     "output_type": "stream",
     "text": [
      "for sub_court:  Shatin Magistrate Court Charge Case\n",
      "200\n",
      "200\n"
     ]
    },
    {
     "name": "stderr",
     "output_type": "stream",
     "text": [
      "\n",
      " 97%|████████████████████████████████████████▌ | 85/88 [09:47<00:19,  6.54s/it]"
     ]
    },
    {
     "name": "stdout",
     "output_type": "stream",
     "text": [
      "for sub_court:  Small Claim Tribunal Claim\n",
      "200\n",
      "200\n"
     ]
    },
    {
     "name": "stderr",
     "output_type": "stream",
     "text": [
      "\n",
      " 98%|█████████████████████████████████████████ | 86/88 [09:51<00:11,  5.76s/it]"
     ]
    },
    {
     "name": "stdout",
     "output_type": "stream",
     "text": [
      "for sub_court:  Tuen Mun Magistrate Court Charge Case\n",
      "200\n",
      "200\n"
     ]
    },
    {
     "name": "stderr",
     "output_type": "stream",
     "text": [
      "\n",
      " 99%|█████████████████████████████████████████▌| 87/88 [09:55<00:05,  5.20s/it]"
     ]
    },
    {
     "name": "stdout",
     "output_type": "stream",
     "text": [
      "for sub_court:  West Kowloon Magistrate Court Charge Case\n",
      "200\n",
      "200\n"
     ]
    },
    {
     "name": "stderr",
     "output_type": "stream",
     "text": [
      "\n",
      "100%|██████████████████████████████████████████| 88/88 [09:59<00:00,  4.78s/it]\n"
     ]
    },
    {
     "name": "stdout",
     "output_type": "stream",
     "text": [
      "(1641, 3)\n"
     ]
    },
    {
     "data": {
      "text/html": [
       "<div>\n",
       "<style scoped>\n",
       "    .dataframe tbody tr th:only-of-type {\n",
       "        vertical-align: middle;\n",
       "    }\n",
       "\n",
       "    .dataframe tbody tr th {\n",
       "        vertical-align: top;\n",
       "    }\n",
       "\n",
       "    .dataframe thead th {\n",
       "        text-align: right;\n",
       "    }\n",
       "</style>\n",
       "<table border=\"1\" class=\"dataframe\">\n",
       "  <thead>\n",
       "    <tr style=\"text-align: right;\">\n",
       "      <th></th>\n",
       "      <th>year</th>\n",
       "      <th>year_url</th>\n",
       "      <th>sub_court_cleared</th>\n",
       "    </tr>\n",
       "  </thead>\n",
       "  <tbody>\n",
       "    <tr>\n",
       "      <th>0</th>\n",
       "      <td>2011</td>\n",
       "      <td>https://legalref.judiciary.hk/lrs/common/ju/judgment.jsp?EX=T&amp;L1=FA&amp;L2=CV&amp;L3=2011&amp;AR=1_8#A1_8</td>\n",
       "      <td>Final Appeal (Civil)</td>\n",
       "    </tr>\n",
       "    <tr>\n",
       "      <th>1</th>\n",
       "      <td>1998</td>\n",
       "      <td>https://legalref.judiciary.hk/lrs/common/ju/judgment.jsp?EX=T&amp;L1=FA&amp;L2=CV&amp;L3=1998&amp;AR=1_21#A1_21</td>\n",
       "      <td>Final Appeal (Civil)</td>\n",
       "    </tr>\n",
       "    <tr>\n",
       "      <th>2</th>\n",
       "      <td>2012</td>\n",
       "      <td>https://legalref.judiciary.hk/lrs/common/ju/judgment.jsp?EX=T&amp;L1=FA&amp;L2=CV&amp;L3=2012&amp;AR=1_7#A1_7</td>\n",
       "      <td>Final Appeal (Civil)</td>\n",
       "    </tr>\n",
       "    <tr>\n",
       "      <th>3</th>\n",
       "      <td>2000</td>\n",
       "      <td>https://legalref.judiciary.hk/lrs/common/ju/judgment.jsp?EX=T&amp;L1=FA&amp;L2=CV&amp;L3=2000&amp;AR=1_19#A1_19</td>\n",
       "      <td>Final Appeal (Civil)</td>\n",
       "    </tr>\n",
       "    <tr>\n",
       "      <th>4</th>\n",
       "      <td>2001</td>\n",
       "      <td>https://legalref.judiciary.hk/lrs/common/ju/judgment.jsp?EX=T&amp;L1=FA&amp;L2=CV&amp;L3=2001&amp;AR=1_18#A1_18</td>\n",
       "      <td>Final Appeal (Civil)</td>\n",
       "    </tr>\n",
       "    <tr>\n",
       "      <th>5</th>\n",
       "      <td>2007</td>\n",
       "      <td>https://legalref.judiciary.hk/lrs/common/ju/judgment.jsp?EX=T&amp;L1=FA&amp;L2=CV&amp;L3=2007&amp;AR=1_12#A1_12</td>\n",
       "      <td>Final Appeal (Civil)</td>\n",
       "    </tr>\n",
       "    <tr>\n",
       "      <th>6</th>\n",
       "      <td>2006</td>\n",
       "      <td>https://legalref.judiciary.hk/lrs/common/ju/judgment.jsp?EX=T&amp;L1=FA&amp;L2=CV&amp;L3=2006&amp;AR=1_13#A1_13</td>\n",
       "      <td>Final Appeal (Civil)</td>\n",
       "    </tr>\n",
       "    <tr>\n",
       "      <th>7</th>\n",
       "      <td>2005</td>\n",
       "      <td>https://legalref.judiciary.hk/lrs/common/ju/judgment.jsp?EX=T&amp;L1=FA&amp;L2=CV&amp;L3=2005&amp;AR=1_14#A1_14</td>\n",
       "      <td>Final Appeal (Civil)</td>\n",
       "    </tr>\n",
       "    <tr>\n",
       "      <th>8</th>\n",
       "      <td>2014</td>\n",
       "      <td>https://legalref.judiciary.hk/lrs/common/ju/judgment.jsp?EX=T&amp;L1=FA&amp;L2=CV&amp;L3=2014&amp;AR=1_5#A1_5</td>\n",
       "      <td>Final Appeal (Civil)</td>\n",
       "    </tr>\n",
       "    <tr>\n",
       "      <th>9</th>\n",
       "      <td>2008</td>\n",
       "      <td>https://legalref.judiciary.hk/lrs/common/ju/judgment.jsp?EX=T&amp;L1=FA&amp;L2=CV&amp;L3=2008&amp;AR=1_11#A1_11</td>\n",
       "      <td>Final Appeal (Civil)</td>\n",
       "    </tr>\n",
       "    <tr>\n",
       "      <th>10</th>\n",
       "      <td>2002</td>\n",
       "      <td>https://legalref.judiciary.hk/lrs/common/ju/judgment.jsp?EX=T&amp;L1=FA&amp;L2=CV&amp;L3=2002&amp;AR=1_17#A1_17</td>\n",
       "      <td>Final Appeal (Civil)</td>\n",
       "    </tr>\n",
       "    <tr>\n",
       "      <th>11</th>\n",
       "      <td>2009</td>\n",
       "      <td>https://legalref.judiciary.hk/lrs/common/ju/judgment.jsp?EX=T&amp;L1=FA&amp;L2=CV&amp;L3=2009&amp;AR=1_10#A1_10</td>\n",
       "      <td>Final Appeal (Civil)</td>\n",
       "    </tr>\n",
       "    <tr>\n",
       "      <th>12</th>\n",
       "      <td>2013</td>\n",
       "      <td>https://legalref.judiciary.hk/lrs/common/ju/judgment.jsp?EX=T&amp;L1=FA&amp;L2=CV&amp;L3=2013&amp;AR=1_6#A1_6</td>\n",
       "      <td>Final Appeal (Civil)</td>\n",
       "    </tr>\n",
       "    <tr>\n",
       "      <th>13</th>\n",
       "      <td>2016</td>\n",
       "      <td>https://legalref.judiciary.hk/lrs/common/ju/judgment.jsp?EX=T&amp;L1=FA&amp;L2=CV&amp;L3=2016&amp;AR=1_3#A1_3</td>\n",
       "      <td>Final Appeal (Civil)</td>\n",
       "    </tr>\n",
       "    <tr>\n",
       "      <th>14</th>\n",
       "      <td>2004</td>\n",
       "      <td>https://legalref.judiciary.hk/lrs/common/ju/judgment.jsp?EX=T&amp;L1=FA&amp;L2=CV&amp;L3=2004&amp;AR=1_15#A1_15</td>\n",
       "      <td>Final Appeal (Civil)</td>\n",
       "    </tr>\n",
       "    <tr>\n",
       "      <th>15</th>\n",
       "      <td>2003</td>\n",
       "      <td>https://legalref.judiciary.hk/lrs/common/ju/judgment.jsp?EX=T&amp;L1=FA&amp;L2=CV&amp;L3=2003&amp;AR=1_16#A1_16</td>\n",
       "      <td>Final Appeal (Civil)</td>\n",
       "    </tr>\n",
       "    <tr>\n",
       "      <th>16</th>\n",
       "      <td>1999</td>\n",
       "      <td>https://legalref.judiciary.hk/lrs/common/ju/judgment.jsp?EX=T&amp;L1=FA&amp;L2=CV&amp;L3=1999&amp;AR=1_20#A1_20</td>\n",
       "      <td>Final Appeal (Civil)</td>\n",
       "    </tr>\n",
       "    <tr>\n",
       "      <th>17</th>\n",
       "      <td>2018</td>\n",
       "      <td>https://legalref.judiciary.hk/lrs/common/ju/judgment.jsp?EX=T&amp;L1=FA&amp;L2=CV&amp;L3=2018&amp;AR=1_1#A1_1</td>\n",
       "      <td>Final Appeal (Civil)</td>\n",
       "    </tr>\n",
       "    <tr>\n",
       "      <th>18</th>\n",
       "      <td>2017</td>\n",
       "      <td>https://legalref.judiciary.hk/lrs/common/ju/judgment.jsp?EX=T&amp;L1=FA&amp;L2=CV&amp;L3=2017&amp;AR=1_2#A1_2</td>\n",
       "      <td>Final Appeal (Civil)</td>\n",
       "    </tr>\n",
       "    <tr>\n",
       "      <th>19</th>\n",
       "      <td>1997</td>\n",
       "      <td>https://legalref.judiciary.hk/lrs/common/ju/judgment.jsp?EX=T&amp;L1=FA&amp;L2=CV&amp;L3=1997&amp;AR=1_22#A1_22</td>\n",
       "      <td>Final Appeal (Civil)</td>\n",
       "    </tr>\n",
       "    <tr>\n",
       "      <th>20</th>\n",
       "      <td>2015</td>\n",
       "      <td>https://legalref.judiciary.hk/lrs/common/ju/judgment.jsp?EX=T&amp;L1=FA&amp;L2=CV&amp;L3=2015&amp;AR=1_4#A1_4</td>\n",
       "      <td>Final Appeal (Civil)</td>\n",
       "    </tr>\n",
       "    <tr>\n",
       "      <th>21</th>\n",
       "      <td>2010</td>\n",
       "      <td>https://legalref.judiciary.hk/lrs/common/ju/judgment.jsp?EX=T&amp;L1=FA&amp;L2=CV&amp;L3=2010&amp;AR=1_9#A1_9</td>\n",
       "      <td>Final Appeal (Civil)</td>\n",
       "    </tr>\n",
       "    <tr>\n",
       "      <th>22</th>\n",
       "      <td>2011</td>\n",
       "      <td>https://legalref.judiciary.hk/lrs/common/ju/judgment.jsp?EX=T&amp;L1=FA&amp;L2=CC&amp;L3=2011&amp;AR=2_8#A2_8</td>\n",
       "      <td>Final Appeal (Criminal)</td>\n",
       "    </tr>\n",
       "    <tr>\n",
       "      <th>23</th>\n",
       "      <td>1998</td>\n",
       "      <td>https://legalref.judiciary.hk/lrs/common/ju/judgment.jsp?EX=T&amp;L1=FA&amp;L2=CC&amp;L3=1998&amp;AR=2_21#A2_21</td>\n",
       "      <td>Final Appeal (Criminal)</td>\n",
       "    </tr>\n",
       "    <tr>\n",
       "      <th>24</th>\n",
       "      <td>2012</td>\n",
       "      <td>https://legalref.judiciary.hk/lrs/common/ju/judgment.jsp?EX=T&amp;L1=FA&amp;L2=CC&amp;L3=2012&amp;AR=2_7#A2_7</td>\n",
       "      <td>Final Appeal (Criminal)</td>\n",
       "    </tr>\n",
       "    <tr>\n",
       "      <th>25</th>\n",
       "      <td>2000</td>\n",
       "      <td>https://legalref.judiciary.hk/lrs/common/ju/judgment.jsp?EX=T&amp;L1=FA&amp;L2=CC&amp;L3=2000&amp;AR=2_19#A2_19</td>\n",
       "      <td>Final Appeal (Criminal)</td>\n",
       "    </tr>\n",
       "    <tr>\n",
       "      <th>26</th>\n",
       "      <td>2001</td>\n",
       "      <td>https://legalref.judiciary.hk/lrs/common/ju/judgment.jsp?EX=T&amp;L1=FA&amp;L2=CC&amp;L3=2001&amp;AR=2_18#A2_18</td>\n",
       "      <td>Final Appeal (Criminal)</td>\n",
       "    </tr>\n",
       "    <tr>\n",
       "      <th>27</th>\n",
       "      <td>2007</td>\n",
       "      <td>https://legalref.judiciary.hk/lrs/common/ju/judgment.jsp?EX=T&amp;L1=FA&amp;L2=CC&amp;L3=2007&amp;AR=2_12#A2_12</td>\n",
       "      <td>Final Appeal (Criminal)</td>\n",
       "    </tr>\n",
       "    <tr>\n",
       "      <th>28</th>\n",
       "      <td>2006</td>\n",
       "      <td>https://legalref.judiciary.hk/lrs/common/ju/judgment.jsp?EX=T&amp;L1=FA&amp;L2=CC&amp;L3=2006&amp;AR=2_13#A2_13</td>\n",
       "      <td>Final Appeal (Criminal)</td>\n",
       "    </tr>\n",
       "    <tr>\n",
       "      <th>29</th>\n",
       "      <td>2005</td>\n",
       "      <td>https://legalref.judiciary.hk/lrs/common/ju/judgment.jsp?EX=T&amp;L1=FA&amp;L2=CC&amp;L3=2005&amp;AR=2_14#A2_14</td>\n",
       "      <td>Final Appeal (Criminal)</td>\n",
       "    </tr>\n",
       "    <tr>\n",
       "      <th>...</th>\n",
       "      <td>...</td>\n",
       "      <td>...</td>\n",
       "      <td>...</td>\n",
       "    </tr>\n",
       "    <tr>\n",
       "      <th>1611</th>\n",
       "      <td>2001</td>\n",
       "      <td>https://legalref.judiciary.hk/lrs/common/ju/judgment.jsp?EX=T&amp;L1=LD&amp;L2=RA&amp;L3=2001&amp;AR=19_10#A19_10</td>\n",
       "      <td>Rating Appeal</td>\n",
       "    </tr>\n",
       "    <tr>\n",
       "      <th>1612</th>\n",
       "      <td>2007</td>\n",
       "      <td>https://legalref.judiciary.hk/lrs/common/ju/judgment.jsp?EX=T&amp;L1=LD&amp;L2=RA&amp;L3=2007&amp;AR=19_4#A19_4</td>\n",
       "      <td>Rating Appeal</td>\n",
       "    </tr>\n",
       "    <tr>\n",
       "      <th>1613</th>\n",
       "      <td>2003</td>\n",
       "      <td>https://legalref.judiciary.hk/lrs/common/ju/judgment.jsp?EX=T&amp;L1=LD&amp;L2=RA&amp;L3=2003&amp;AR=19_8#A19_8</td>\n",
       "      <td>Rating Appeal</td>\n",
       "    </tr>\n",
       "    <tr>\n",
       "      <th>1614</th>\n",
       "      <td>1988</td>\n",
       "      <td>https://legalref.judiciary.hk/lrs/common/ju/judgment.jsp?EX=T&amp;L1=LD&amp;L2=RA&amp;L3=1988&amp;AR=19_13#A19_13</td>\n",
       "      <td>Rating Appeal</td>\n",
       "    </tr>\n",
       "    <tr>\n",
       "      <th>1615</th>\n",
       "      <td>2006</td>\n",
       "      <td>https://legalref.judiciary.hk/lrs/common/ju/judgment.jsp?EX=T&amp;L1=LD&amp;L2=RA&amp;L3=2006&amp;AR=19_5#A19_5</td>\n",
       "      <td>Rating Appeal</td>\n",
       "    </tr>\n",
       "    <tr>\n",
       "      <th>1616</th>\n",
       "      <td>2005</td>\n",
       "      <td>https://legalref.judiciary.hk/lrs/common/ju/judgment.jsp?EX=T&amp;L1=LD&amp;L2=RA&amp;L3=2005&amp;AR=19_6#A19_6</td>\n",
       "      <td>Rating Appeal</td>\n",
       "    </tr>\n",
       "    <tr>\n",
       "      <th>1617</th>\n",
       "      <td>2014</td>\n",
       "      <td>https://legalref.judiciary.hk/lrs/common/ju/judgment.jsp?EX=T&amp;L1=LD&amp;L2=RA&amp;L3=2014&amp;AR=19_2#A19_2</td>\n",
       "      <td>Rating Appeal</td>\n",
       "    </tr>\n",
       "    <tr>\n",
       "      <th>1618</th>\n",
       "      <td>1980</td>\n",
       "      <td>https://legalref.judiciary.hk/lrs/common/ju/judgment.jsp?EX=T&amp;L1=LD&amp;L2=RA&amp;L3=1980&amp;AR=19_18#A19_18</td>\n",
       "      <td>Rating Appeal</td>\n",
       "    </tr>\n",
       "    <tr>\n",
       "      <th>1619</th>\n",
       "      <td>1982</td>\n",
       "      <td>https://legalref.judiciary.hk/lrs/common/ju/judgment.jsp?EX=T&amp;L1=LD&amp;L2=RA&amp;L3=1982&amp;AR=19_17#A19_17</td>\n",
       "      <td>Rating Appeal</td>\n",
       "    </tr>\n",
       "    <tr>\n",
       "      <th>1620</th>\n",
       "      <td>2013</td>\n",
       "      <td>https://legalref.judiciary.hk/lrs/common/ju/judgment.jsp?EX=T&amp;L1=CC&amp;L2=DI&amp;L3=2013&amp;AR=1_1#A1_1</td>\n",
       "      <td>Coroner Court Death Inquest</td>\n",
       "    </tr>\n",
       "    <tr>\n",
       "      <th>1621</th>\n",
       "      <td>2018</td>\n",
       "      <td>https://legalref.judiciary.hk/lrs/common/ju/judgment.jsp?EX=T&amp;L1=ES&amp;L2=CC&amp;L3=2018&amp;AR=2_1#A2_1</td>\n",
       "      <td>Eastern Magistrate Court Charge Case</td>\n",
       "    </tr>\n",
       "    <tr>\n",
       "      <th>1622</th>\n",
       "      <td>2015</td>\n",
       "      <td>https://legalref.judiciary.hk/lrs/common/ju/judgment.jsp?EX=T&amp;L1=ES&amp;L2=CC&amp;L3=2015&amp;AR=2_3#A2_3</td>\n",
       "      <td>Eastern Magistrate Court Charge Case</td>\n",
       "    </tr>\n",
       "    <tr>\n",
       "      <th>1623</th>\n",
       "      <td>2011</td>\n",
       "      <td>https://legalref.judiciary.hk/lrs/common/ju/judgment.jsp?EX=T&amp;L1=ES&amp;L2=CC&amp;L3=2011&amp;AR=2_4#A2_4</td>\n",
       "      <td>Eastern Magistrate Court Charge Case</td>\n",
       "    </tr>\n",
       "    <tr>\n",
       "      <th>1624</th>\n",
       "      <td>2016</td>\n",
       "      <td>https://legalref.judiciary.hk/lrs/common/ju/judgment.jsp?EX=T&amp;L1=ES&amp;L2=CC&amp;L3=2016&amp;AR=2_2#A2_2</td>\n",
       "      <td>Eastern Magistrate Court Charge Case</td>\n",
       "    </tr>\n",
       "    <tr>\n",
       "      <th>1625</th>\n",
       "      <td>2013</td>\n",
       "      <td>https://legalref.judiciary.hk/lrs/common/ju/judgment.jsp?EX=T&amp;L1=ES&amp;L2=S&amp;L3=2013&amp;AR=3_2#A3_2</td>\n",
       "      <td>Eastern Magistrate Court Summon Case</td>\n",
       "    </tr>\n",
       "    <tr>\n",
       "      <th>1626</th>\n",
       "      <td>2016</td>\n",
       "      <td>https://legalref.judiciary.hk/lrs/common/ju/judgment.jsp?EX=T&amp;L1=ES&amp;L2=S&amp;L3=2016&amp;AR=3_1#A3_1</td>\n",
       "      <td>Eastern Magistrate Court Summon Case</td>\n",
       "    </tr>\n",
       "    <tr>\n",
       "      <th>1627</th>\n",
       "      <td>2017</td>\n",
       "      <td>https://legalref.judiciary.hk/lrs/common/ju/judgment.jsp?EX=T&amp;L1=KC&amp;L2=CC&amp;L3=2017&amp;AR=4_2#A4_2</td>\n",
       "      <td>Kowloon City Magistrate Court Charge Case</td>\n",
       "    </tr>\n",
       "    <tr>\n",
       "      <th>1628</th>\n",
       "      <td>2018</td>\n",
       "      <td>https://legalref.judiciary.hk/lrs/common/ju/judgment.jsp?EX=T&amp;L1=KC&amp;L2=CC&amp;L3=2018&amp;AR=4_1#A4_1</td>\n",
       "      <td>Kowloon City Magistrate Court Charge Case</td>\n",
       "    </tr>\n",
       "    <tr>\n",
       "      <th>1629</th>\n",
       "      <td>2002</td>\n",
       "      <td>https://legalref.judiciary.hk/lrs/common/ju/judgment.jsp?EX=T&amp;L1=KC&amp;L2=CC&amp;L3=2002&amp;AR=4_4#A4_4</td>\n",
       "      <td>Kowloon City Magistrate Court Charge Case</td>\n",
       "    </tr>\n",
       "    <tr>\n",
       "      <th>1630</th>\n",
       "      <td>2016</td>\n",
       "      <td>https://legalref.judiciary.hk/lrs/common/ju/judgment.jsp?EX=T&amp;L1=KC&amp;L2=CC&amp;L3=2016&amp;AR=4_3#A4_3</td>\n",
       "      <td>Kowloon City Magistrate Court Charge Case</td>\n",
       "    </tr>\n",
       "    <tr>\n",
       "      <th>1631</th>\n",
       "      <td>2013</td>\n",
       "      <td>https://legalref.judiciary.hk/lrs/common/ju/judgment.jsp?EX=T&amp;L1=KC&amp;L2=S&amp;L3=2013&amp;AR=5_1#A5_1</td>\n",
       "      <td>Kowloon City Magistrates’ Court Summon Case</td>\n",
       "    </tr>\n",
       "    <tr>\n",
       "      <th>1632</th>\n",
       "      <td>2012</td>\n",
       "      <td>https://legalref.judiciary.hk/lrs/common/ju/judgment.jsp?EX=T&amp;L1=LB&amp;L2=TC&amp;L3=2012&amp;AR=6_1#A6_1</td>\n",
       "      <td>Labour Tribunal Claim</td>\n",
       "    </tr>\n",
       "    <tr>\n",
       "      <th>1633</th>\n",
       "      <td>2008</td>\n",
       "      <td>https://legalref.judiciary.hk/lrs/common/ju/judgment.jsp?EX=T&amp;L1=LB&amp;L2=TC&amp;L3=2008&amp;AR=6_2#A6_2</td>\n",
       "      <td>Labour Tribunal Claim</td>\n",
       "    </tr>\n",
       "    <tr>\n",
       "      <th>1634</th>\n",
       "      <td>2006</td>\n",
       "      <td>https://legalref.judiciary.hk/lrs/common/ju/judgment.jsp?EX=T&amp;L1=OA&amp;L2=TD&amp;L3=2006&amp;AR=7_1#A7_1</td>\n",
       "      <td>Obscene Article Tribunal Case</td>\n",
       "    </tr>\n",
       "    <tr>\n",
       "      <th>1635</th>\n",
       "      <td>2016</td>\n",
       "      <td>https://legalref.judiciary.hk/lrs/common/ju/judgment.jsp?EX=T&amp;L1=ST&amp;L2=CC&amp;L3=2016&amp;AR=8_1#A8_1</td>\n",
       "      <td>Shatin Magistrate Court Charge Case</td>\n",
       "    </tr>\n",
       "    <tr>\n",
       "      <th>1636</th>\n",
       "      <td>2012</td>\n",
       "      <td>https://legalref.judiciary.hk/lrs/common/ju/judgment.jsp?EX=T&amp;L1=SC&amp;L2=TC&amp;L3=2012&amp;AR=9_2#A9_2</td>\n",
       "      <td>Small Claim Tribunal Claim</td>\n",
       "    </tr>\n",
       "    <tr>\n",
       "      <th>1637</th>\n",
       "      <td>2015</td>\n",
       "      <td>https://legalref.judiciary.hk/lrs/common/ju/judgment.jsp?EX=T&amp;L1=SC&amp;L2=TC&amp;L3=2015&amp;AR=9_1#A9_1</td>\n",
       "      <td>Small Claim Tribunal Claim</td>\n",
       "    </tr>\n",
       "    <tr>\n",
       "      <th>1638</th>\n",
       "      <td>2001</td>\n",
       "      <td>https://legalref.judiciary.hk/lrs/common/ju/judgment.jsp?EX=T&amp;L1=SC&amp;L2=TC&amp;L3=2001&amp;AR=9_3#A9_3</td>\n",
       "      <td>Small Claim Tribunal Claim</td>\n",
       "    </tr>\n",
       "    <tr>\n",
       "      <th>1639</th>\n",
       "      <td>2005</td>\n",
       "      <td>https://legalref.judiciary.hk/lrs/common/ju/judgment.jsp?EX=T&amp;L1=TM&amp;L2=CC&amp;L3=2005&amp;AR=10_1#A10_1</td>\n",
       "      <td>Tuen Mun Magistrate Court Charge Case</td>\n",
       "    </tr>\n",
       "    <tr>\n",
       "      <th>1640</th>\n",
       "      <td>2017</td>\n",
       "      <td>https://legalref.judiciary.hk/lrs/common/ju/judgment.jsp?EX=T&amp;L1=WK&amp;L2=CC&amp;L3=2017&amp;AR=11_1#A11_1</td>\n",
       "      <td>West Kowloon Magistrate Court Charge Case</td>\n",
       "    </tr>\n",
       "  </tbody>\n",
       "</table>\n",
       "<p>1641 rows × 3 columns</p>\n",
       "</div>"
      ],
      "text/plain": [
       "      year  \\\n",
       "0     2011   \n",
       "1     1998   \n",
       "2     2012   \n",
       "3     2000   \n",
       "4     2001   \n",
       "5     2007   \n",
       "6     2006   \n",
       "7     2005   \n",
       "8     2014   \n",
       "9     2008   \n",
       "10    2002   \n",
       "11    2009   \n",
       "12    2013   \n",
       "13    2016   \n",
       "14    2004   \n",
       "15    2003   \n",
       "16    1999   \n",
       "17    2018   \n",
       "18    2017   \n",
       "19    1997   \n",
       "20    2015   \n",
       "21    2010   \n",
       "22    2011   \n",
       "23    1998   \n",
       "24    2012   \n",
       "25    2000   \n",
       "26    2001   \n",
       "27    2007   \n",
       "28    2006   \n",
       "29    2005   \n",
       "...    ...   \n",
       "1611  2001   \n",
       "1612  2007   \n",
       "1613  2003   \n",
       "1614  1988   \n",
       "1615  2006   \n",
       "1616  2005   \n",
       "1617  2014   \n",
       "1618  1980   \n",
       "1619  1982   \n",
       "1620  2013   \n",
       "1621  2018   \n",
       "1622  2015   \n",
       "1623  2011   \n",
       "1624  2016   \n",
       "1625  2013   \n",
       "1626  2016   \n",
       "1627  2017   \n",
       "1628  2018   \n",
       "1629  2002   \n",
       "1630  2016   \n",
       "1631  2013   \n",
       "1632  2012   \n",
       "1633  2008   \n",
       "1634  2006   \n",
       "1635  2016   \n",
       "1636  2012   \n",
       "1637  2015   \n",
       "1638  2001   \n",
       "1639  2005   \n",
       "1640  2017   \n",
       "\n",
       "                                                                                               year_url  \\\n",
       "0         https://legalref.judiciary.hk/lrs/common/ju/judgment.jsp?EX=T&L1=FA&L2=CV&L3=2011&AR=1_8#A1_8   \n",
       "1       https://legalref.judiciary.hk/lrs/common/ju/judgment.jsp?EX=T&L1=FA&L2=CV&L3=1998&AR=1_21#A1_21   \n",
       "2         https://legalref.judiciary.hk/lrs/common/ju/judgment.jsp?EX=T&L1=FA&L2=CV&L3=2012&AR=1_7#A1_7   \n",
       "3       https://legalref.judiciary.hk/lrs/common/ju/judgment.jsp?EX=T&L1=FA&L2=CV&L3=2000&AR=1_19#A1_19   \n",
       "4       https://legalref.judiciary.hk/lrs/common/ju/judgment.jsp?EX=T&L1=FA&L2=CV&L3=2001&AR=1_18#A1_18   \n",
       "5       https://legalref.judiciary.hk/lrs/common/ju/judgment.jsp?EX=T&L1=FA&L2=CV&L3=2007&AR=1_12#A1_12   \n",
       "6       https://legalref.judiciary.hk/lrs/common/ju/judgment.jsp?EX=T&L1=FA&L2=CV&L3=2006&AR=1_13#A1_13   \n",
       "7       https://legalref.judiciary.hk/lrs/common/ju/judgment.jsp?EX=T&L1=FA&L2=CV&L3=2005&AR=1_14#A1_14   \n",
       "8         https://legalref.judiciary.hk/lrs/common/ju/judgment.jsp?EX=T&L1=FA&L2=CV&L3=2014&AR=1_5#A1_5   \n",
       "9       https://legalref.judiciary.hk/lrs/common/ju/judgment.jsp?EX=T&L1=FA&L2=CV&L3=2008&AR=1_11#A1_11   \n",
       "10      https://legalref.judiciary.hk/lrs/common/ju/judgment.jsp?EX=T&L1=FA&L2=CV&L3=2002&AR=1_17#A1_17   \n",
       "11      https://legalref.judiciary.hk/lrs/common/ju/judgment.jsp?EX=T&L1=FA&L2=CV&L3=2009&AR=1_10#A1_10   \n",
       "12        https://legalref.judiciary.hk/lrs/common/ju/judgment.jsp?EX=T&L1=FA&L2=CV&L3=2013&AR=1_6#A1_6   \n",
       "13        https://legalref.judiciary.hk/lrs/common/ju/judgment.jsp?EX=T&L1=FA&L2=CV&L3=2016&AR=1_3#A1_3   \n",
       "14      https://legalref.judiciary.hk/lrs/common/ju/judgment.jsp?EX=T&L1=FA&L2=CV&L3=2004&AR=1_15#A1_15   \n",
       "15      https://legalref.judiciary.hk/lrs/common/ju/judgment.jsp?EX=T&L1=FA&L2=CV&L3=2003&AR=1_16#A1_16   \n",
       "16      https://legalref.judiciary.hk/lrs/common/ju/judgment.jsp?EX=T&L1=FA&L2=CV&L3=1999&AR=1_20#A1_20   \n",
       "17        https://legalref.judiciary.hk/lrs/common/ju/judgment.jsp?EX=T&L1=FA&L2=CV&L3=2018&AR=1_1#A1_1   \n",
       "18        https://legalref.judiciary.hk/lrs/common/ju/judgment.jsp?EX=T&L1=FA&L2=CV&L3=2017&AR=1_2#A1_2   \n",
       "19      https://legalref.judiciary.hk/lrs/common/ju/judgment.jsp?EX=T&L1=FA&L2=CV&L3=1997&AR=1_22#A1_22   \n",
       "20        https://legalref.judiciary.hk/lrs/common/ju/judgment.jsp?EX=T&L1=FA&L2=CV&L3=2015&AR=1_4#A1_4   \n",
       "21        https://legalref.judiciary.hk/lrs/common/ju/judgment.jsp?EX=T&L1=FA&L2=CV&L3=2010&AR=1_9#A1_9   \n",
       "22        https://legalref.judiciary.hk/lrs/common/ju/judgment.jsp?EX=T&L1=FA&L2=CC&L3=2011&AR=2_8#A2_8   \n",
       "23      https://legalref.judiciary.hk/lrs/common/ju/judgment.jsp?EX=T&L1=FA&L2=CC&L3=1998&AR=2_21#A2_21   \n",
       "24        https://legalref.judiciary.hk/lrs/common/ju/judgment.jsp?EX=T&L1=FA&L2=CC&L3=2012&AR=2_7#A2_7   \n",
       "25      https://legalref.judiciary.hk/lrs/common/ju/judgment.jsp?EX=T&L1=FA&L2=CC&L3=2000&AR=2_19#A2_19   \n",
       "26      https://legalref.judiciary.hk/lrs/common/ju/judgment.jsp?EX=T&L1=FA&L2=CC&L3=2001&AR=2_18#A2_18   \n",
       "27      https://legalref.judiciary.hk/lrs/common/ju/judgment.jsp?EX=T&L1=FA&L2=CC&L3=2007&AR=2_12#A2_12   \n",
       "28      https://legalref.judiciary.hk/lrs/common/ju/judgment.jsp?EX=T&L1=FA&L2=CC&L3=2006&AR=2_13#A2_13   \n",
       "29      https://legalref.judiciary.hk/lrs/common/ju/judgment.jsp?EX=T&L1=FA&L2=CC&L3=2005&AR=2_14#A2_14   \n",
       "...                                                                                                 ...   \n",
       "1611  https://legalref.judiciary.hk/lrs/common/ju/judgment.jsp?EX=T&L1=LD&L2=RA&L3=2001&AR=19_10#A19_10   \n",
       "1612    https://legalref.judiciary.hk/lrs/common/ju/judgment.jsp?EX=T&L1=LD&L2=RA&L3=2007&AR=19_4#A19_4   \n",
       "1613    https://legalref.judiciary.hk/lrs/common/ju/judgment.jsp?EX=T&L1=LD&L2=RA&L3=2003&AR=19_8#A19_8   \n",
       "1614  https://legalref.judiciary.hk/lrs/common/ju/judgment.jsp?EX=T&L1=LD&L2=RA&L3=1988&AR=19_13#A19_13   \n",
       "1615    https://legalref.judiciary.hk/lrs/common/ju/judgment.jsp?EX=T&L1=LD&L2=RA&L3=2006&AR=19_5#A19_5   \n",
       "1616    https://legalref.judiciary.hk/lrs/common/ju/judgment.jsp?EX=T&L1=LD&L2=RA&L3=2005&AR=19_6#A19_6   \n",
       "1617    https://legalref.judiciary.hk/lrs/common/ju/judgment.jsp?EX=T&L1=LD&L2=RA&L3=2014&AR=19_2#A19_2   \n",
       "1618  https://legalref.judiciary.hk/lrs/common/ju/judgment.jsp?EX=T&L1=LD&L2=RA&L3=1980&AR=19_18#A19_18   \n",
       "1619  https://legalref.judiciary.hk/lrs/common/ju/judgment.jsp?EX=T&L1=LD&L2=RA&L3=1982&AR=19_17#A19_17   \n",
       "1620      https://legalref.judiciary.hk/lrs/common/ju/judgment.jsp?EX=T&L1=CC&L2=DI&L3=2013&AR=1_1#A1_1   \n",
       "1621      https://legalref.judiciary.hk/lrs/common/ju/judgment.jsp?EX=T&L1=ES&L2=CC&L3=2018&AR=2_1#A2_1   \n",
       "1622      https://legalref.judiciary.hk/lrs/common/ju/judgment.jsp?EX=T&L1=ES&L2=CC&L3=2015&AR=2_3#A2_3   \n",
       "1623      https://legalref.judiciary.hk/lrs/common/ju/judgment.jsp?EX=T&L1=ES&L2=CC&L3=2011&AR=2_4#A2_4   \n",
       "1624      https://legalref.judiciary.hk/lrs/common/ju/judgment.jsp?EX=T&L1=ES&L2=CC&L3=2016&AR=2_2#A2_2   \n",
       "1625       https://legalref.judiciary.hk/lrs/common/ju/judgment.jsp?EX=T&L1=ES&L2=S&L3=2013&AR=3_2#A3_2   \n",
       "1626       https://legalref.judiciary.hk/lrs/common/ju/judgment.jsp?EX=T&L1=ES&L2=S&L3=2016&AR=3_1#A3_1   \n",
       "1627      https://legalref.judiciary.hk/lrs/common/ju/judgment.jsp?EX=T&L1=KC&L2=CC&L3=2017&AR=4_2#A4_2   \n",
       "1628      https://legalref.judiciary.hk/lrs/common/ju/judgment.jsp?EX=T&L1=KC&L2=CC&L3=2018&AR=4_1#A4_1   \n",
       "1629      https://legalref.judiciary.hk/lrs/common/ju/judgment.jsp?EX=T&L1=KC&L2=CC&L3=2002&AR=4_4#A4_4   \n",
       "1630      https://legalref.judiciary.hk/lrs/common/ju/judgment.jsp?EX=T&L1=KC&L2=CC&L3=2016&AR=4_3#A4_3   \n",
       "1631       https://legalref.judiciary.hk/lrs/common/ju/judgment.jsp?EX=T&L1=KC&L2=S&L3=2013&AR=5_1#A5_1   \n",
       "1632      https://legalref.judiciary.hk/lrs/common/ju/judgment.jsp?EX=T&L1=LB&L2=TC&L3=2012&AR=6_1#A6_1   \n",
       "1633      https://legalref.judiciary.hk/lrs/common/ju/judgment.jsp?EX=T&L1=LB&L2=TC&L3=2008&AR=6_2#A6_2   \n",
       "1634      https://legalref.judiciary.hk/lrs/common/ju/judgment.jsp?EX=T&L1=OA&L2=TD&L3=2006&AR=7_1#A7_1   \n",
       "1635      https://legalref.judiciary.hk/lrs/common/ju/judgment.jsp?EX=T&L1=ST&L2=CC&L3=2016&AR=8_1#A8_1   \n",
       "1636      https://legalref.judiciary.hk/lrs/common/ju/judgment.jsp?EX=T&L1=SC&L2=TC&L3=2012&AR=9_2#A9_2   \n",
       "1637      https://legalref.judiciary.hk/lrs/common/ju/judgment.jsp?EX=T&L1=SC&L2=TC&L3=2015&AR=9_1#A9_1   \n",
       "1638      https://legalref.judiciary.hk/lrs/common/ju/judgment.jsp?EX=T&L1=SC&L2=TC&L3=2001&AR=9_3#A9_3   \n",
       "1639    https://legalref.judiciary.hk/lrs/common/ju/judgment.jsp?EX=T&L1=TM&L2=CC&L3=2005&AR=10_1#A10_1   \n",
       "1640    https://legalref.judiciary.hk/lrs/common/ju/judgment.jsp?EX=T&L1=WK&L2=CC&L3=2017&AR=11_1#A11_1   \n",
       "\n",
       "                                sub_court_cleared  \n",
       "0                            Final Appeal (Civil)  \n",
       "1                            Final Appeal (Civil)  \n",
       "2                            Final Appeal (Civil)  \n",
       "3                            Final Appeal (Civil)  \n",
       "4                            Final Appeal (Civil)  \n",
       "5                            Final Appeal (Civil)  \n",
       "6                            Final Appeal (Civil)  \n",
       "7                            Final Appeal (Civil)  \n",
       "8                            Final Appeal (Civil)  \n",
       "9                            Final Appeal (Civil)  \n",
       "10                           Final Appeal (Civil)  \n",
       "11                           Final Appeal (Civil)  \n",
       "12                           Final Appeal (Civil)  \n",
       "13                           Final Appeal (Civil)  \n",
       "14                           Final Appeal (Civil)  \n",
       "15                           Final Appeal (Civil)  \n",
       "16                           Final Appeal (Civil)  \n",
       "17                           Final Appeal (Civil)  \n",
       "18                           Final Appeal (Civil)  \n",
       "19                           Final Appeal (Civil)  \n",
       "20                           Final Appeal (Civil)  \n",
       "21                           Final Appeal (Civil)  \n",
       "22                        Final Appeal (Criminal)  \n",
       "23                        Final Appeal (Criminal)  \n",
       "24                        Final Appeal (Criminal)  \n",
       "25                        Final Appeal (Criminal)  \n",
       "26                        Final Appeal (Criminal)  \n",
       "27                        Final Appeal (Criminal)  \n",
       "28                        Final Appeal (Criminal)  \n",
       "29                        Final Appeal (Criminal)  \n",
       "...                                           ...  \n",
       "1611                                Rating Appeal  \n",
       "1612                                Rating Appeal  \n",
       "1613                                Rating Appeal  \n",
       "1614                                Rating Appeal  \n",
       "1615                                Rating Appeal  \n",
       "1616                                Rating Appeal  \n",
       "1617                                Rating Appeal  \n",
       "1618                                Rating Appeal  \n",
       "1619                                Rating Appeal  \n",
       "1620                  Coroner Court Death Inquest  \n",
       "1621         Eastern Magistrate Court Charge Case  \n",
       "1622         Eastern Magistrate Court Charge Case  \n",
       "1623         Eastern Magistrate Court Charge Case  \n",
       "1624         Eastern Magistrate Court Charge Case  \n",
       "1625         Eastern Magistrate Court Summon Case  \n",
       "1626         Eastern Magistrate Court Summon Case  \n",
       "1627    Kowloon City Magistrate Court Charge Case  \n",
       "1628    Kowloon City Magistrate Court Charge Case  \n",
       "1629    Kowloon City Magistrate Court Charge Case  \n",
       "1630    Kowloon City Magistrate Court Charge Case  \n",
       "1631  Kowloon City Magistrates’ Court Summon Case  \n",
       "1632                        Labour Tribunal Claim  \n",
       "1633                        Labour Tribunal Claim  \n",
       "1634                Obscene Article Tribunal Case  \n",
       "1635          Shatin Magistrate Court Charge Case  \n",
       "1636                   Small Claim Tribunal Claim  \n",
       "1637                   Small Claim Tribunal Claim  \n",
       "1638                   Small Claim Tribunal Claim  \n",
       "1639        Tuen Mun Magistrate Court Charge Case  \n",
       "1640    West Kowloon Magistrate Court Charge Case  \n",
       "\n",
       "[1641 rows x 3 columns]"
      ]
     },
     "execution_count": 218,
     "metadata": {},
     "output_type": "execute_result"
    }
   ],
   "source": [
    "dfs = []\n",
    "for sc in tqdm(df_all['sub_court_cleared']):\n",
    "    print('for sub_court: ',sc)\n",
    "    # check if special sc\n",
    "    if sc in special_courts:\n",
    "        url = special_courts[sc]\n",
    "    else:\n",
    "        url = list(df_all[df_all['sub_court_cleared']==sc]['sub_court_url'])[0]\n",
    "    match = get_year_urls(sc, url, df_all, courts_set, urls_set)\n",
    "    dfs.append(match)\n",
    "    \n",
    "df_years = pd.concat(dfs, axis=0)\n",
    "df_years.index = range(len(df_years))\n",
    "print(df_years.shape)\n",
    "df_years"
   ]
  },
  {
   "cell_type": "code",
   "execution_count": 222,
   "metadata": {},
   "outputs": [
    {
     "data": {
      "text/html": [
       "<div>\n",
       "<style scoped>\n",
       "    .dataframe tbody tr th:only-of-type {\n",
       "        vertical-align: middle;\n",
       "    }\n",
       "\n",
       "    .dataframe tbody tr th {\n",
       "        vertical-align: top;\n",
       "    }\n",
       "\n",
       "    .dataframe thead th {\n",
       "        text-align: right;\n",
       "    }\n",
       "</style>\n",
       "<table border=\"1\" class=\"dataframe\">\n",
       "  <thead>\n",
       "    <tr style=\"text-align: right;\">\n",
       "      <th></th>\n",
       "      <th>year</th>\n",
       "      <th>year_url</th>\n",
       "      <th>sub_court_cleared</th>\n",
       "    </tr>\n",
       "  </thead>\n",
       "  <tbody>\n",
       "    <tr>\n",
       "      <th>0</th>\n",
       "      <td>2011</td>\n",
       "      <td>https://legalref.judiciary.hk/lrs/common/ju/judgment.jsp?EX=T&amp;L1=FA&amp;L2=CV&amp;L3=2011&amp;AR=1_8#A1_8</td>\n",
       "      <td>Final Appeal (Civil)</td>\n",
       "    </tr>\n",
       "    <tr>\n",
       "      <th>1</th>\n",
       "      <td>1998</td>\n",
       "      <td>https://legalref.judiciary.hk/lrs/common/ju/judgment.jsp?EX=T&amp;L1=FA&amp;L2=CV&amp;L3=1998&amp;AR=1_21#A1_21</td>\n",
       "      <td>Final Appeal (Civil)</td>\n",
       "    </tr>\n",
       "    <tr>\n",
       "      <th>2</th>\n",
       "      <td>2012</td>\n",
       "      <td>https://legalref.judiciary.hk/lrs/common/ju/judgment.jsp?EX=T&amp;L1=FA&amp;L2=CV&amp;L3=2012&amp;AR=1_7#A1_7</td>\n",
       "      <td>Final Appeal (Civil)</td>\n",
       "    </tr>\n",
       "    <tr>\n",
       "      <th>3</th>\n",
       "      <td>2000</td>\n",
       "      <td>https://legalref.judiciary.hk/lrs/common/ju/judgment.jsp?EX=T&amp;L1=FA&amp;L2=CV&amp;L3=2000&amp;AR=1_19#A1_19</td>\n",
       "      <td>Final Appeal (Civil)</td>\n",
       "    </tr>\n",
       "    <tr>\n",
       "      <th>4</th>\n",
       "      <td>2001</td>\n",
       "      <td>https://legalref.judiciary.hk/lrs/common/ju/judgment.jsp?EX=T&amp;L1=FA&amp;L2=CV&amp;L3=2001&amp;AR=1_18#A1_18</td>\n",
       "      <td>Final Appeal (Civil)</td>\n",
       "    </tr>\n",
       "  </tbody>\n",
       "</table>\n",
       "</div>"
      ],
      "text/plain": [
       "   year  \\\n",
       "0  2011   \n",
       "1  1998   \n",
       "2  2012   \n",
       "3  2000   \n",
       "4  2001   \n",
       "\n",
       "                                                                                          year_url  \\\n",
       "0    https://legalref.judiciary.hk/lrs/common/ju/judgment.jsp?EX=T&L1=FA&L2=CV&L3=2011&AR=1_8#A1_8   \n",
       "1  https://legalref.judiciary.hk/lrs/common/ju/judgment.jsp?EX=T&L1=FA&L2=CV&L3=1998&AR=1_21#A1_21   \n",
       "2    https://legalref.judiciary.hk/lrs/common/ju/judgment.jsp?EX=T&L1=FA&L2=CV&L3=2012&AR=1_7#A1_7   \n",
       "3  https://legalref.judiciary.hk/lrs/common/ju/judgment.jsp?EX=T&L1=FA&L2=CV&L3=2000&AR=1_19#A1_19   \n",
       "4  https://legalref.judiciary.hk/lrs/common/ju/judgment.jsp?EX=T&L1=FA&L2=CV&L3=2001&AR=1_18#A1_18   \n",
       "\n",
       "      sub_court_cleared  \n",
       "0  Final Appeal (Civil)  \n",
       "1  Final Appeal (Civil)  \n",
       "2  Final Appeal (Civil)  \n",
       "3  Final Appeal (Civil)  \n",
       "4  Final Appeal (Civil)  "
      ]
     },
     "execution_count": 222,
     "metadata": {},
     "output_type": "execute_result"
    }
   ],
   "source": [
    "df_years.head()"
   ]
  },
  {
   "cell_type": "code",
   "execution_count": 220,
   "metadata": {},
   "outputs": [],
   "source": [
    "# store data\n",
    "with open('data.pickle', 'wb') as ww:\n",
    "    pickle.dump(df_years, ww)\n"
   ]
  },
  {
   "cell_type": "code",
   "execution_count": 4,
   "metadata": {},
   "outputs": [],
   "source": [
    "f = open('data.pickle', 'rb')\n",
    "df_years = pickle.load(f)"
   ]
  },
  {
   "cell_type": "markdown",
   "metadata": {},
   "source": [
    "## Hiearchy 4: details"
   ]
  },
  {
   "cell_type": "code",
   "execution_count": 5,
   "metadata": {},
   "outputs": [],
   "source": [
    "def get_onePage(url, r):\n",
    "    data_onepage = [] # initialize\n",
    "    root = url_to_root(url)\n",
    "    info = root.find('script', string=re.compile(\"var myMenu\")).text.split(\",[\")\n",
    "    B_s = [BeautifulSoup(i) for i in info]\n",
    "    for B in B_s:\n",
    "        try:\n",
    "            sub_court_cleared = r['sub_court_cleared']\n",
    "            year = r['year']\n",
    "            outcome = B.find('td', valign=\"top\", width=\"5%\").find('img')['src']\n",
    "            name = B.find('a', class_=\"ThemeXPRowAnchor\").text\n",
    "\n",
    "            url = B.find('a', class_=\"ThemeXPRowAnchor\")['href']\n",
    "            url = url.split(',')[0]\n",
    "            detail_url = url[re.search(\"https\", url).span()[0]:-2]\n",
    "            date = B.find('font',color=\"#006633\").text\n",
    "            persons = B.find('td', valign=\"top\", width=\"55%\").text\n",
    "            data_onepage.append((sub_court_cleared, year, outcome, name, detail_url, date, persons))\n",
    "        except AttributeError:\n",
    "            continue\n",
    "    return data_onepage\n"
   ]
  },
  {
   "cell_type": "code",
   "execution_count": 6,
   "metadata": {},
   "outputs": [],
   "source": [
    "def store_onePage(idx, data_onepage):\n",
    "    with open(str(idx)+'.pickle', 'wb') as ww:\n",
    "        pickle.dump(data_onepage, ww)\n",
    "    return \n"
   ]
  },
  {
   "cell_type": "code",
   "execution_count": 7,
   "metadata": {
    "scrolled": true
   },
   "outputs": [
    {
     "name": "stderr",
     "output_type": "stream",
     "text": [
      "\r",
      "  0%|                                                 | 0/1641 [00:00<?, ?it/s]"
     ]
    },
    {
     "name": "stdout",
     "output_type": "stream",
     "text": [
      "now in row:  501\n"
     ]
    },
    {
     "name": "stderr",
     "output_type": "stream",
     "text": [
      "\r",
      " 31%|███████████▌                          | 502/1641 [00:01<00:04, 281.79it/s]"
     ]
    },
    {
     "name": "stdout",
     "output_type": "stream",
     "text": [
      "now in row:  502\n",
      "now in row:  503\n",
      "now in row:  504\n",
      "now in row:  505\n",
      "now in row:  506\n",
      "now in row:  507\n",
      "now in row:  508\n",
      "now in row:  509\n",
      "now in row:  510\n"
     ]
    },
    {
     "name": "stderr",
     "output_type": "stream",
     "text": [
      "\r",
      " 31%|████████████▏                          | 511/1641 [00:14<08:08,  2.31it/s]"
     ]
    },
    {
     "name": "stdout",
     "output_type": "stream",
     "text": [
      "now in row:  511\n"
     ]
    },
    {
     "name": "stderr",
     "output_type": "stream",
     "text": [
      "\r",
      " 31%|████████████▏                          | 512/1641 [00:15<12:11,  1.54it/s]"
     ]
    },
    {
     "name": "stdout",
     "output_type": "stream",
     "text": [
      "now in row:  512\n"
     ]
    },
    {
     "name": "stderr",
     "output_type": "stream",
     "text": [
      "\r",
      " 31%|████████████▏                          | 513/1641 [00:16<14:33,  1.29it/s]"
     ]
    },
    {
     "name": "stdout",
     "output_type": "stream",
     "text": [
      "now in row:  513\n"
     ]
    },
    {
     "name": "stderr",
     "output_type": "stream",
     "text": [
      "\r",
      " 31%|████████████▏                          | 514/1641 [00:18<16:44,  1.12it/s]"
     ]
    },
    {
     "name": "stdout",
     "output_type": "stream",
     "text": [
      "now in row:  514\n"
     ]
    },
    {
     "name": "stderr",
     "output_type": "stream",
     "text": [
      "\r",
      " 31%|████████████▏                          | 515/1641 [00:19<20:05,  1.07s/it]"
     ]
    },
    {
     "name": "stdout",
     "output_type": "stream",
     "text": [
      "now in row:  515\n"
     ]
    },
    {
     "name": "stderr",
     "output_type": "stream",
     "text": [
      "\r",
      " 31%|████████████▎                          | 516/1641 [00:20<19:27,  1.04s/it]"
     ]
    },
    {
     "name": "stdout",
     "output_type": "stream",
     "text": [
      "now in row:  516\n"
     ]
    },
    {
     "name": "stderr",
     "output_type": "stream",
     "text": [
      "\r",
      " 32%|████████████▎                          | 517/1641 [00:21<19:23,  1.03s/it]"
     ]
    },
    {
     "name": "stdout",
     "output_type": "stream",
     "text": [
      "now in row:  517\n"
     ]
    },
    {
     "name": "stderr",
     "output_type": "stream",
     "text": [
      "\r",
      " 32%|████████████▎                          | 518/1641 [00:22<20:58,  1.12s/it]"
     ]
    },
    {
     "name": "stdout",
     "output_type": "stream",
     "text": [
      "now in row:  518\n"
     ]
    },
    {
     "name": "stderr",
     "output_type": "stream",
     "text": [
      "\r",
      " 32%|████████████▎                          | 519/1641 [00:23<21:01,  1.12s/it]"
     ]
    },
    {
     "name": "stdout",
     "output_type": "stream",
     "text": [
      "now in row:  519\n"
     ]
    },
    {
     "name": "stderr",
     "output_type": "stream",
     "text": [
      "\r",
      " 32%|████████████▎                          | 520/1641 [00:24<20:15,  1.08s/it]"
     ]
    },
    {
     "name": "stdout",
     "output_type": "stream",
     "text": [
      "now in row:  520\n"
     ]
    },
    {
     "name": "stderr",
     "output_type": "stream",
     "text": [
      "\r",
      " 32%|████████████▍                          | 521/1641 [00:25<19:05,  1.02s/it]"
     ]
    },
    {
     "name": "stdout",
     "output_type": "stream",
     "text": [
      "now in row:  521\n"
     ]
    },
    {
     "name": "stderr",
     "output_type": "stream",
     "text": [
      "\r",
      " 32%|████████████▍                          | 522/1641 [00:26<19:26,  1.04s/it]"
     ]
    },
    {
     "name": "stdout",
     "output_type": "stream",
     "text": [
      "now in row:  522\n"
     ]
    },
    {
     "name": "stderr",
     "output_type": "stream",
     "text": [
      "\r",
      " 32%|████████████▍                          | 523/1641 [00:28<21:42,  1.16s/it]"
     ]
    },
    {
     "name": "stdout",
     "output_type": "stream",
     "text": [
      "now in row:  523\n"
     ]
    },
    {
     "name": "stderr",
     "output_type": "stream",
     "text": [
      "\r",
      " 32%|████████████▍                          | 524/1641 [00:29<19:48,  1.06s/it]"
     ]
    },
    {
     "name": "stdout",
     "output_type": "stream",
     "text": [
      "now in row:  524\n"
     ]
    },
    {
     "name": "stderr",
     "output_type": "stream",
     "text": [
      "\r",
      " 32%|████████████▍                          | 525/1641 [00:33<35:09,  1.89s/it]"
     ]
    },
    {
     "name": "stdout",
     "output_type": "stream",
     "text": [
      "now in row:  525\n"
     ]
    },
    {
     "name": "stderr",
     "output_type": "stream",
     "text": [
      "\r",
      " 32%|████████████▌                          | 526/1641 [00:34<34:02,  1.83s/it]"
     ]
    },
    {
     "name": "stdout",
     "output_type": "stream",
     "text": [
      "now in row:  526\n"
     ]
    },
    {
     "name": "stderr",
     "output_type": "stream",
     "text": [
      "\r",
      " 32%|████████████▌                          | 527/1641 [00:35<29:06,  1.57s/it]"
     ]
    },
    {
     "name": "stdout",
     "output_type": "stream",
     "text": [
      "now in row:  527\n"
     ]
    },
    {
     "name": "stderr",
     "output_type": "stream",
     "text": [
      "\r",
      " 32%|████████████▌                          | 528/1641 [00:36<25:49,  1.39s/it]"
     ]
    },
    {
     "name": "stdout",
     "output_type": "stream",
     "text": [
      "now in row:  528\n"
     ]
    },
    {
     "name": "stderr",
     "output_type": "stream",
     "text": [
      "\r",
      " 32%|████████████▌                          | 529/1641 [00:37<24:17,  1.31s/it]"
     ]
    },
    {
     "name": "stdout",
     "output_type": "stream",
     "text": [
      "now in row:  529\n"
     ]
    },
    {
     "name": "stderr",
     "output_type": "stream",
     "text": [
      "\r",
      " 32%|████████████▌                          | 530/1641 [00:38<21:43,  1.17s/it]"
     ]
    },
    {
     "name": "stdout",
     "output_type": "stream",
     "text": [
      "now in row:  530\n"
     ]
    },
    {
     "name": "stderr",
     "output_type": "stream",
     "text": [
      "\r",
      " 32%|████████████▌                          | 531/1641 [00:39<20:25,  1.10s/it]"
     ]
    },
    {
     "name": "stdout",
     "output_type": "stream",
     "text": [
      "now in row:  531\n"
     ]
    },
    {
     "name": "stderr",
     "output_type": "stream",
     "text": [
      "\r",
      " 32%|████████████▋                          | 532/1641 [00:40<19:41,  1.06s/it]"
     ]
    },
    {
     "name": "stdout",
     "output_type": "stream",
     "text": [
      "now in row:  532\n"
     ]
    },
    {
     "name": "stderr",
     "output_type": "stream",
     "text": [
      "\r",
      " 32%|████████████▋                          | 533/1641 [00:41<18:48,  1.02s/it]"
     ]
    },
    {
     "name": "stdout",
     "output_type": "stream",
     "text": [
      "now in row:  533\n"
     ]
    },
    {
     "name": "stderr",
     "output_type": "stream",
     "text": [
      "\r",
      " 33%|████████████▋                          | 534/1641 [00:43<24:06,  1.31s/it]"
     ]
    },
    {
     "name": "stdout",
     "output_type": "stream",
     "text": [
      "now in row:  534\n"
     ]
    },
    {
     "name": "stderr",
     "output_type": "stream",
     "text": [
      "\r",
      " 33%|████████████▋                          | 535/1641 [00:44<24:15,  1.32s/it]"
     ]
    },
    {
     "name": "stdout",
     "output_type": "stream",
     "text": [
      "now in row:  535\n"
     ]
    },
    {
     "name": "stderr",
     "output_type": "stream",
     "text": [
      "\r",
      " 33%|████████████▋                          | 536/1641 [00:45<23:18,  1.27s/it]"
     ]
    },
    {
     "name": "stdout",
     "output_type": "stream",
     "text": [
      "now in row:  536\n"
     ]
    },
    {
     "name": "stderr",
     "output_type": "stream",
     "text": [
      "\r",
      " 33%|████████████                         | 537/1641 [00:56<1:14:12,  4.03s/it]"
     ]
    },
    {
     "name": "stdout",
     "output_type": "stream",
     "text": [
      "now in row:  537\n"
     ]
    },
    {
     "name": "stderr",
     "output_type": "stream",
     "text": [
      "\r",
      " 33%|████████████▏                        | 538/1641 [00:58<1:01:15,  3.33s/it]"
     ]
    },
    {
     "name": "stdout",
     "output_type": "stream",
     "text": [
      "now in row:  538\n"
     ]
    },
    {
     "name": "stderr",
     "output_type": "stream",
     "text": [
      "\r",
      " 33%|████████████▊                          | 539/1641 [01:00<54:45,  2.98s/it]"
     ]
    },
    {
     "name": "stdout",
     "output_type": "stream",
     "text": [
      "now in row:  539\n"
     ]
    },
    {
     "name": "stderr",
     "output_type": "stream",
     "text": [
      "\r",
      " 33%|████████████▏                        | 540/1641 [01:07<1:18:30,  4.28s/it]"
     ]
    },
    {
     "name": "stdout",
     "output_type": "stream",
     "text": [
      "now in row:  540\n"
     ]
    },
    {
     "name": "stderr",
     "output_type": "stream",
     "text": [
      "\r",
      " 33%|████████████▏                        | 541/1641 [01:09<1:04:21,  3.51s/it]"
     ]
    },
    {
     "name": "stdout",
     "output_type": "stream",
     "text": [
      "now in row:  541\n"
     ]
    },
    {
     "name": "stderr",
     "output_type": "stream",
     "text": [
      "\r",
      " 33%|████████████▉                          | 542/1641 [01:10<50:12,  2.74s/it]"
     ]
    },
    {
     "name": "stdout",
     "output_type": "stream",
     "text": [
      "now in row:  542\n"
     ]
    },
    {
     "name": "stderr",
     "output_type": "stream",
     "text": [
      "\r",
      " 33%|████████████▉                          | 543/1641 [01:11<43:47,  2.39s/it]"
     ]
    },
    {
     "name": "stdout",
     "output_type": "stream",
     "text": [
      "now in row:  543\n"
     ]
    },
    {
     "name": "stderr",
     "output_type": "stream",
     "text": [
      "\r",
      " 33%|████████████▉                          | 544/1641 [01:13<41:34,  2.27s/it]"
     ]
    },
    {
     "name": "stdout",
     "output_type": "stream",
     "text": [
      "now in row:  544\n"
     ]
    },
    {
     "name": "stderr",
     "output_type": "stream",
     "text": [
      "\r",
      " 33%|████████████▉                          | 545/1641 [01:14<35:05,  1.92s/it]"
     ]
    },
    {
     "name": "stdout",
     "output_type": "stream",
     "text": [
      "now in row:  545\n"
     ]
    },
    {
     "name": "stderr",
     "output_type": "stream",
     "text": [
      "\r",
      " 33%|████████████▉                          | 546/1641 [01:15<29:57,  1.64s/it]"
     ]
    },
    {
     "name": "stdout",
     "output_type": "stream",
     "text": [
      "now in row:  546\n"
     ]
    },
    {
     "name": "stderr",
     "output_type": "stream",
     "text": [
      "\r",
      " 33%|█████████████                          | 547/1641 [01:18<35:20,  1.94s/it]"
     ]
    },
    {
     "name": "stdout",
     "output_type": "stream",
     "text": [
      "now in row:  547\n"
     ]
    },
    {
     "name": "stderr",
     "output_type": "stream",
     "text": [
      "\r",
      " 33%|█████████████                          | 548/1641 [01:20<35:38,  1.96s/it]"
     ]
    },
    {
     "name": "stdout",
     "output_type": "stream",
     "text": [
      "now in row:  548\n"
     ]
    },
    {
     "name": "stderr",
     "output_type": "stream",
     "text": [
      "\r",
      " 33%|█████████████                          | 549/1641 [01:22<34:01,  1.87s/it]"
     ]
    },
    {
     "name": "stdout",
     "output_type": "stream",
     "text": [
      "now in row:  549\n"
     ]
    },
    {
     "name": "stderr",
     "output_type": "stream",
     "text": [
      "\r",
      " 34%|█████████████                          | 550/1641 [01:23<28:15,  1.55s/it]"
     ]
    },
    {
     "name": "stdout",
     "output_type": "stream",
     "text": [
      "now in row:  550\n"
     ]
    },
    {
     "name": "stderr",
     "output_type": "stream",
     "text": [
      "\r",
      " 34%|█████████████                          | 551/1641 [01:23<24:13,  1.33s/it]"
     ]
    },
    {
     "name": "stdout",
     "output_type": "stream",
     "text": [
      "now in row:  551\n"
     ]
    },
    {
     "name": "stderr",
     "output_type": "stream",
     "text": [
      "\r",
      " 34%|█████████████                          | 552/1641 [01:25<26:53,  1.48s/it]"
     ]
    },
    {
     "name": "stdout",
     "output_type": "stream",
     "text": [
      "now in row:  552\n"
     ]
    },
    {
     "name": "stderr",
     "output_type": "stream",
     "text": [
      "\r",
      " 34%|█████████████▏                         | 553/1641 [01:27<28:58,  1.60s/it]"
     ]
    },
    {
     "name": "stdout",
     "output_type": "stream",
     "text": [
      "now in row:  553\n"
     ]
    },
    {
     "name": "stderr",
     "output_type": "stream",
     "text": [
      "\r",
      " 34%|█████████████▏                         | 554/1641 [01:28<24:17,  1.34s/it]"
     ]
    },
    {
     "name": "stdout",
     "output_type": "stream",
     "text": [
      "now in row:  554\n"
     ]
    },
    {
     "name": "stderr",
     "output_type": "stream",
     "text": [
      "\r",
      " 34%|█████████████▏                         | 555/1641 [01:29<21:42,  1.20s/it]"
     ]
    },
    {
     "name": "stdout",
     "output_type": "stream",
     "text": [
      "now in row:  555\n"
     ]
    },
    {
     "name": "stderr",
     "output_type": "stream",
     "text": [
      "\r",
      " 34%|█████████████▏                         | 556/1641 [01:30<24:05,  1.33s/it]"
     ]
    },
    {
     "name": "stdout",
     "output_type": "stream",
     "text": [
      "now in row:  556\n"
     ]
    },
    {
     "name": "stderr",
     "output_type": "stream",
     "text": [
      "\r",
      " 34%|█████████████▏                         | 557/1641 [01:31<23:05,  1.28s/it]"
     ]
    },
    {
     "name": "stdout",
     "output_type": "stream",
     "text": [
      "now in row:  557\n"
     ]
    },
    {
     "name": "stderr",
     "output_type": "stream",
     "text": [
      "\r",
      " 34%|█████████████▎                         | 558/1641 [01:38<50:33,  2.80s/it]"
     ]
    },
    {
     "name": "stdout",
     "output_type": "stream",
     "text": [
      "now in row:  558\n"
     ]
    },
    {
     "name": "stderr",
     "output_type": "stream",
     "text": [
      "\r",
      " 34%|█████████████▎                         | 559/1641 [01:40<45:05,  2.50s/it]"
     ]
    },
    {
     "name": "stdout",
     "output_type": "stream",
     "text": [
      "now in row:  559\n"
     ]
    },
    {
     "name": "stderr",
     "output_type": "stream",
     "text": [
      "\r",
      " 34%|█████████████▎                         | 560/1641 [01:43<50:00,  2.78s/it]"
     ]
    },
    {
     "name": "stdout",
     "output_type": "stream",
     "text": [
      "now in row:  560\n"
     ]
    },
    {
     "name": "stderr",
     "output_type": "stream",
     "text": [
      "\r",
      " 34%|█████████████▎                         | 561/1641 [01:45<45:36,  2.53s/it]"
     ]
    },
    {
     "name": "stdout",
     "output_type": "stream",
     "text": [
      "now in row:  561\n"
     ]
    },
    {
     "name": "stderr",
     "output_type": "stream",
     "text": [
      "\r",
      " 34%|█████████████▎                         | 562/1641 [01:46<39:16,  2.18s/it]"
     ]
    },
    {
     "name": "stdout",
     "output_type": "stream",
     "text": [
      "now in row:  562\n"
     ]
    },
    {
     "name": "stderr",
     "output_type": "stream",
     "text": [
      "\r",
      " 34%|█████████████▍                         | 563/1641 [01:47<32:03,  1.78s/it]"
     ]
    },
    {
     "name": "stdout",
     "output_type": "stream",
     "text": [
      "now in row:  563\n"
     ]
    },
    {
     "name": "stderr",
     "output_type": "stream",
     "text": [
      "\r",
      " 34%|█████████████▍                         | 564/1641 [01:49<29:31,  1.65s/it]"
     ]
    },
    {
     "name": "stdout",
     "output_type": "stream",
     "text": [
      "now in row:  564\n"
     ]
    },
    {
     "name": "stderr",
     "output_type": "stream",
     "text": [
      "\r",
      " 34%|█████████████▍                         | 565/1641 [01:50<30:52,  1.72s/it]"
     ]
    },
    {
     "name": "stdout",
     "output_type": "stream",
     "text": [
      "now in row:  565\n"
     ]
    },
    {
     "name": "stderr",
     "output_type": "stream",
     "text": [
      "\r",
      " 34%|█████████████▍                         | 566/1641 [01:51<26:44,  1.49s/it]"
     ]
    },
    {
     "name": "stdout",
     "output_type": "stream",
     "text": [
      "now in row:  566\n"
     ]
    },
    {
     "name": "stderr",
     "output_type": "stream",
     "text": [
      "\r",
      " 35%|█████████████▍                         | 567/1641 [01:52<23:43,  1.33s/it]"
     ]
    },
    {
     "name": "stdout",
     "output_type": "stream",
     "text": [
      "now in row:  567\n"
     ]
    },
    {
     "name": "stderr",
     "output_type": "stream",
     "text": [
      "\r",
      " 35%|█████████████▍                         | 568/1641 [01:54<22:53,  1.28s/it]"
     ]
    },
    {
     "name": "stdout",
     "output_type": "stream",
     "text": [
      "now in row:  568\n"
     ]
    },
    {
     "name": "stderr",
     "output_type": "stream",
     "text": [
      "\r",
      " 35%|█████████████▌                         | 569/1641 [02:00<52:13,  2.92s/it]"
     ]
    },
    {
     "name": "stdout",
     "output_type": "stream",
     "text": [
      "now in row:  569\n"
     ]
    },
    {
     "name": "stderr",
     "output_type": "stream",
     "text": [
      "\r",
      " 35%|█████████████▌                         | 570/1641 [02:02<43:32,  2.44s/it]"
     ]
    },
    {
     "name": "stdout",
     "output_type": "stream",
     "text": [
      "now in row:  570\n"
     ]
    },
    {
     "name": "stderr",
     "output_type": "stream",
     "text": [
      "\r",
      " 35%|█████████████▌                         | 571/1641 [02:05<48:32,  2.72s/it]"
     ]
    },
    {
     "name": "stdout",
     "output_type": "stream",
     "text": [
      "now in row:  571\n"
     ]
    },
    {
     "name": "stderr",
     "output_type": "stream",
     "text": [
      "\r",
      " 35%|█████████████▌                         | 572/1641 [02:06<38:25,  2.16s/it]"
     ]
    },
    {
     "name": "stdout",
     "output_type": "stream",
     "text": [
      "now in row:  572\n"
     ]
    },
    {
     "name": "stderr",
     "output_type": "stream",
     "text": [
      "\r",
      " 35%|█████████████▌                         | 573/1641 [02:07<31:34,  1.77s/it]"
     ]
    },
    {
     "name": "stdout",
     "output_type": "stream",
     "text": [
      "now in row:  573\n"
     ]
    },
    {
     "name": "stderr",
     "output_type": "stream",
     "text": [
      "\r",
      " 35%|█████████████▋                         | 574/1641 [02:08<26:40,  1.50s/it]"
     ]
    },
    {
     "name": "stdout",
     "output_type": "stream",
     "text": [
      "now in row:  574\n"
     ]
    },
    {
     "name": "stderr",
     "output_type": "stream",
     "text": [
      "\r",
      " 35%|█████████████▋                         | 575/1641 [02:09<25:20,  1.43s/it]"
     ]
    },
    {
     "name": "stdout",
     "output_type": "stream",
     "text": [
      "now in row:  575\n"
     ]
    },
    {
     "name": "stderr",
     "output_type": "stream",
     "text": [
      "\r",
      " 35%|█████████████▋                         | 576/1641 [02:10<24:18,  1.37s/it]"
     ]
    },
    {
     "name": "stdout",
     "output_type": "stream",
     "text": [
      "now in row:  576\n"
     ]
    },
    {
     "name": "stderr",
     "output_type": "stream",
     "text": [
      "\r",
      " 35%|█████████████▋                         | 577/1641 [02:11<23:02,  1.30s/it]"
     ]
    },
    {
     "name": "stdout",
     "output_type": "stream",
     "text": [
      "now in row:  577\n"
     ]
    },
    {
     "name": "stderr",
     "output_type": "stream",
     "text": [
      "\r",
      " 35%|█████████████▋                         | 578/1641 [02:12<22:16,  1.26s/it]"
     ]
    },
    {
     "name": "stdout",
     "output_type": "stream",
     "text": [
      "now in row:  578\n"
     ]
    },
    {
     "name": "stderr",
     "output_type": "stream",
     "text": [
      "\r",
      " 35%|█████████████▊                         | 579/1641 [02:13<20:22,  1.15s/it]"
     ]
    },
    {
     "name": "stdout",
     "output_type": "stream",
     "text": [
      "now in row:  579\n"
     ]
    },
    {
     "name": "stderr",
     "output_type": "stream",
     "text": [
      "\r",
      " 35%|█████████████▊                         | 580/1641 [02:15<23:29,  1.33s/it]"
     ]
    },
    {
     "name": "stdout",
     "output_type": "stream",
     "text": [
      "now in row:  580\n"
     ]
    },
    {
     "name": "stderr",
     "output_type": "stream",
     "text": [
      "\r",
      " 35%|█████████████▊                         | 581/1641 [02:16<20:16,  1.15s/it]"
     ]
    },
    {
     "name": "stdout",
     "output_type": "stream",
     "text": [
      "now in row:  581\n"
     ]
    },
    {
     "name": "stderr",
     "output_type": "stream",
     "text": [
      "\r",
      " 35%|█████████████▊                         | 582/1641 [02:17<22:42,  1.29s/it]"
     ]
    },
    {
     "name": "stdout",
     "output_type": "stream",
     "text": [
      "now in row:  582\n"
     ]
    },
    {
     "name": "stderr",
     "output_type": "stream",
     "text": [
      "\r",
      " 36%|█████████████▊                         | 583/1641 [02:18<20:31,  1.16s/it]"
     ]
    },
    {
     "name": "stdout",
     "output_type": "stream",
     "text": [
      "now in row:  583\n"
     ]
    },
    {
     "name": "stderr",
     "output_type": "stream",
     "text": [
      "\r",
      " 36%|█████████████▉                         | 584/1641 [02:19<19:02,  1.08s/it]"
     ]
    },
    {
     "name": "stdout",
     "output_type": "stream",
     "text": [
      "now in row:  584\n"
     ]
    },
    {
     "name": "stderr",
     "output_type": "stream",
     "text": [
      "\r",
      " 36%|█████████████▉                         | 585/1641 [02:20<17:37,  1.00s/it]"
     ]
    },
    {
     "name": "stdout",
     "output_type": "stream",
     "text": [
      "now in row:  585\n"
     ]
    },
    {
     "name": "stderr",
     "output_type": "stream",
     "text": [
      "\r",
      " 36%|█████████████▉                         | 586/1641 [02:21<16:39,  1.06it/s]"
     ]
    },
    {
     "name": "stdout",
     "output_type": "stream",
     "text": [
      "now in row:  586\n"
     ]
    },
    {
     "name": "stderr",
     "output_type": "stream",
     "text": [
      "\r",
      " 36%|█████████████▉                         | 587/1641 [02:25<36:10,  2.06s/it]"
     ]
    },
    {
     "name": "stdout",
     "output_type": "stream",
     "text": [
      "now in row:  587\n"
     ]
    },
    {
     "name": "stderr",
     "output_type": "stream",
     "text": [
      "\r",
      " 36%|█████████████▉                         | 588/1641 [02:27<35:55,  2.05s/it]"
     ]
    },
    {
     "name": "stdout",
     "output_type": "stream",
     "text": [
      "now in row:  588\n"
     ]
    },
    {
     "name": "stderr",
     "output_type": "stream",
     "text": [
      "\r",
      " 36%|█████████████▉                         | 589/1641 [02:29<34:42,  1.98s/it]"
     ]
    },
    {
     "name": "stdout",
     "output_type": "stream",
     "text": [
      "now in row:  589\n"
     ]
    },
    {
     "name": "stderr",
     "output_type": "stream",
     "text": [
      "\r",
      " 36%|██████████████                         | 590/1641 [02:31<34:17,  1.96s/it]"
     ]
    },
    {
     "name": "stdout",
     "output_type": "stream",
     "text": [
      "now in row:  590\n"
     ]
    },
    {
     "name": "stderr",
     "output_type": "stream",
     "text": [
      "\r",
      " 36%|██████████████                         | 591/1641 [02:34<40:47,  2.33s/it]"
     ]
    },
    {
     "name": "stdout",
     "output_type": "stream",
     "text": [
      "now in row:  591\n"
     ]
    },
    {
     "name": "stderr",
     "output_type": "stream",
     "text": [
      "\r",
      " 36%|██████████████                         | 592/1641 [02:36<37:28,  2.14s/it]"
     ]
    },
    {
     "name": "stdout",
     "output_type": "stream",
     "text": [
      "now in row:  592\n"
     ]
    },
    {
     "name": "stderr",
     "output_type": "stream",
     "text": [
      "\r",
      " 36%|██████████████                         | 593/1641 [02:38<37:05,  2.12s/it]"
     ]
    },
    {
     "name": "stdout",
     "output_type": "stream",
     "text": [
      "now in row:  593\n"
     ]
    },
    {
     "name": "stderr",
     "output_type": "stream",
     "text": [
      "\r",
      " 36%|██████████████                         | 594/1641 [02:40<34:06,  1.95s/it]"
     ]
    },
    {
     "name": "stdout",
     "output_type": "stream",
     "text": [
      "now in row:  594\n"
     ]
    },
    {
     "name": "stderr",
     "output_type": "stream",
     "text": [
      "\r",
      " 36%|██████████████▏                        | 595/1641 [02:41<32:24,  1.86s/it]"
     ]
    },
    {
     "name": "stdout",
     "output_type": "stream",
     "text": [
      "now in row:  595\n"
     ]
    },
    {
     "name": "stderr",
     "output_type": "stream",
     "text": [
      "\r",
      " 36%|██████████████▏                        | 596/1641 [02:43<32:15,  1.85s/it]"
     ]
    },
    {
     "name": "stdout",
     "output_type": "stream",
     "text": [
      "now in row:  596\n"
     ]
    },
    {
     "name": "stderr",
     "output_type": "stream",
     "text": [
      "\r",
      " 36%|██████████████▏                        | 597/1641 [02:45<31:59,  1.84s/it]"
     ]
    },
    {
     "name": "stdout",
     "output_type": "stream",
     "text": [
      "now in row:  597\n"
     ]
    },
    {
     "name": "stderr",
     "output_type": "stream",
     "text": [
      "\r",
      " 36%|██████████████▏                        | 598/1641 [02:46<27:51,  1.60s/it]"
     ]
    },
    {
     "name": "stdout",
     "output_type": "stream",
     "text": [
      "now in row:  598\n"
     ]
    },
    {
     "name": "stderr",
     "output_type": "stream",
     "text": [
      "\r",
      " 37%|██████████████▏                        | 599/1641 [02:49<34:13,  1.97s/it]"
     ]
    },
    {
     "name": "stdout",
     "output_type": "stream",
     "text": [
      "now in row:  599\n"
     ]
    },
    {
     "name": "stderr",
     "output_type": "stream",
     "text": [
      "\r",
      " 37%|██████████████▎                        | 600/1641 [02:51<33:15,  1.92s/it]"
     ]
    },
    {
     "name": "stdout",
     "output_type": "stream",
     "text": [
      "now in row:  600\n"
     ]
    },
    {
     "name": "stderr",
     "output_type": "stream",
     "text": [
      "\r",
      " 37%|██████████████▎                        | 601/1641 [02:52<31:22,  1.81s/it]"
     ]
    },
    {
     "name": "stdout",
     "output_type": "stream",
     "text": [
      "now in row:  601\n"
     ]
    },
    {
     "name": "stderr",
     "output_type": "stream",
     "text": [
      "\r",
      " 37%|█████████████▌                       | 602/1641 [03:00<1:02:00,  3.58s/it]"
     ]
    },
    {
     "name": "stdout",
     "output_type": "stream",
     "text": [
      "now in row:  602\n"
     ]
    },
    {
     "name": "stderr",
     "output_type": "stream",
     "text": [
      "\r",
      " 37%|██████████████▎                        | 603/1641 [03:02<53:43,  3.11s/it]"
     ]
    },
    {
     "name": "stdout",
     "output_type": "stream",
     "text": [
      "now in row:  603\n"
     ]
    },
    {
     "name": "stderr",
     "output_type": "stream",
     "text": [
      "\r",
      " 37%|█████████████▌                       | 604/1641 [03:09<1:16:09,  4.41s/it]"
     ]
    },
    {
     "name": "stdout",
     "output_type": "stream",
     "text": [
      "now in row:  604\n"
     ]
    },
    {
     "name": "stderr",
     "output_type": "stream",
     "text": [
      "\r",
      " 37%|█████████████▋                       | 605/1641 [03:11<1:03:17,  3.67s/it]"
     ]
    },
    {
     "name": "stdout",
     "output_type": "stream",
     "text": [
      "now in row:  605\n"
     ]
    },
    {
     "name": "stderr",
     "output_type": "stream",
     "text": [
      "\r",
      " 37%|█████████████▋                       | 606/1641 [03:14<1:00:16,  3.49s/it]"
     ]
    },
    {
     "name": "stdout",
     "output_type": "stream",
     "text": [
      "now in row:  606\n"
     ]
    },
    {
     "name": "stderr",
     "output_type": "stream",
     "text": [
      "\r",
      " 37%|██████████████▍                        | 607/1641 [03:16<50:56,  2.96s/it]"
     ]
    },
    {
     "name": "stdout",
     "output_type": "stream",
     "text": [
      "now in row:  607\n"
     ]
    },
    {
     "name": "stderr",
     "output_type": "stream",
     "text": [
      "\r",
      " 37%|██████████████▍                        | 608/1641 [03:18<44:49,  2.60s/it]"
     ]
    },
    {
     "name": "stdout",
     "output_type": "stream",
     "text": [
      "now in row:  608\n"
     ]
    },
    {
     "name": "stderr",
     "output_type": "stream",
     "text": [
      "\r",
      " 37%|██████████████▍                        | 609/1641 [03:20<43:28,  2.53s/it]"
     ]
    },
    {
     "name": "stdout",
     "output_type": "stream",
     "text": [
      "now in row:  609\n"
     ]
    },
    {
     "name": "stderr",
     "output_type": "stream",
     "text": [
      "\r",
      " 37%|██████████████▍                        | 610/1641 [03:22<39:08,  2.28s/it]"
     ]
    },
    {
     "name": "stdout",
     "output_type": "stream",
     "text": [
      "now in row:  610\n"
     ]
    },
    {
     "name": "stderr",
     "output_type": "stream",
     "text": [
      "\r",
      " 37%|██████████████▌                        | 611/1641 [03:23<35:02,  2.04s/it]"
     ]
    },
    {
     "name": "stdout",
     "output_type": "stream",
     "text": [
      "now in row:  611\n"
     ]
    },
    {
     "name": "stderr",
     "output_type": "stream",
     "text": [
      "\r",
      " 37%|██████████████▌                        | 612/1641 [03:25<32:45,  1.91s/it]"
     ]
    },
    {
     "name": "stdout",
     "output_type": "stream",
     "text": [
      "now in row:  612\n"
     ]
    },
    {
     "name": "stderr",
     "output_type": "stream",
     "text": [
      "\r",
      " 37%|██████████████▌                        | 613/1641 [03:27<32:16,  1.88s/it]"
     ]
    },
    {
     "name": "stdout",
     "output_type": "stream",
     "text": [
      "now in row:  613\n"
     ]
    },
    {
     "name": "stderr",
     "output_type": "stream",
     "text": [
      "\r",
      " 37%|██████████████▌                        | 614/1641 [03:28<27:29,  1.61s/it]"
     ]
    },
    {
     "name": "stdout",
     "output_type": "stream",
     "text": [
      "now in row:  614\n"
     ]
    },
    {
     "name": "stderr",
     "output_type": "stream",
     "text": [
      "\r",
      " 37%|██████████████▌                        | 615/1641 [03:29<26:23,  1.54s/it]"
     ]
    },
    {
     "name": "stdout",
     "output_type": "stream",
     "text": [
      "now in row:  615\n"
     ]
    },
    {
     "name": "stderr",
     "output_type": "stream",
     "text": [
      "\r",
      " 38%|██████████████▋                        | 616/1641 [03:30<25:06,  1.47s/it]"
     ]
    },
    {
     "name": "stdout",
     "output_type": "stream",
     "text": [
      "now in row:  616\n"
     ]
    },
    {
     "name": "stderr",
     "output_type": "stream",
     "text": [
      "\r",
      " 38%|██████████████▋                        | 617/1641 [03:31<21:44,  1.27s/it]"
     ]
    },
    {
     "name": "stdout",
     "output_type": "stream",
     "text": [
      "now in row:  617\n"
     ]
    },
    {
     "name": "stderr",
     "output_type": "stream",
     "text": [
      "\r",
      " 38%|██████████████▋                        | 618/1641 [03:32<19:33,  1.15s/it]"
     ]
    },
    {
     "name": "stdout",
     "output_type": "stream",
     "text": [
      "now in row:  618\n"
     ]
    },
    {
     "name": "stderr",
     "output_type": "stream",
     "text": [
      "\r",
      " 38%|██████████████▋                        | 619/1641 [03:34<21:43,  1.28s/it]"
     ]
    },
    {
     "name": "stdout",
     "output_type": "stream",
     "text": [
      "now in row:  619\n"
     ]
    },
    {
     "name": "stderr",
     "output_type": "stream",
     "text": [
      "\r",
      " 38%|██████████████▋                        | 620/1641 [03:35<22:15,  1.31s/it]"
     ]
    },
    {
     "name": "stdout",
     "output_type": "stream",
     "text": [
      "now in row:  620\n"
     ]
    },
    {
     "name": "stderr",
     "output_type": "stream",
     "text": [
      "\r",
      " 38%|██████████████▊                        | 621/1641 [03:36<20:37,  1.21s/it]"
     ]
    },
    {
     "name": "stdout",
     "output_type": "stream",
     "text": [
      "now in row:  621\n"
     ]
    },
    {
     "name": "stderr",
     "output_type": "stream",
     "text": [
      "\r",
      " 38%|██████████████▊                        | 622/1641 [03:37<20:52,  1.23s/it]"
     ]
    },
    {
     "name": "stdout",
     "output_type": "stream",
     "text": [
      "now in row:  622\n"
     ]
    },
    {
     "name": "stderr",
     "output_type": "stream",
     "text": [
      "\r",
      " 38%|██████████████▊                        | 623/1641 [03:39<23:37,  1.39s/it]"
     ]
    },
    {
     "name": "stdout",
     "output_type": "stream",
     "text": [
      "now in row:  623\n"
     ]
    },
    {
     "name": "stderr",
     "output_type": "stream",
     "text": [
      "\r",
      " 38%|██████████████▊                        | 624/1641 [03:40<22:35,  1.33s/it]"
     ]
    },
    {
     "name": "stdout",
     "output_type": "stream",
     "text": [
      "now in row:  624\n"
     ]
    },
    {
     "name": "stderr",
     "output_type": "stream",
     "text": [
      "\r",
      " 38%|██████████████▊                        | 625/1641 [03:42<22:53,  1.35s/it]"
     ]
    },
    {
     "name": "stdout",
     "output_type": "stream",
     "text": [
      "now in row:  625\n"
     ]
    },
    {
     "name": "stderr",
     "output_type": "stream",
     "text": [
      "\r",
      " 38%|██████████████▉                        | 626/1641 [03:48<47:08,  2.79s/it]"
     ]
    },
    {
     "name": "stdout",
     "output_type": "stream",
     "text": [
      "now in row:  626\n"
     ]
    },
    {
     "name": "stderr",
     "output_type": "stream",
     "text": [
      "\r",
      " 38%|██████████████▉                        | 627/1641 [03:49<39:36,  2.34s/it]"
     ]
    },
    {
     "name": "stdout",
     "output_type": "stream",
     "text": [
      "now in row:  627\n"
     ]
    },
    {
     "name": "stderr",
     "output_type": "stream",
     "text": [
      "\r",
      " 38%|██████████████▉                        | 628/1641 [03:50<32:51,  1.95s/it]"
     ]
    },
    {
     "name": "stdout",
     "output_type": "stream",
     "text": [
      "now in row:  628\n"
     ]
    },
    {
     "name": "stderr",
     "output_type": "stream",
     "text": [
      "\r",
      " 38%|██████████████▉                        | 629/1641 [03:52<34:44,  2.06s/it]"
     ]
    },
    {
     "name": "stdout",
     "output_type": "stream",
     "text": [
      "now in row:  629\n"
     ]
    },
    {
     "name": "stderr",
     "output_type": "stream",
     "text": [
      "\r",
      " 38%|██████████████▉                        | 630/1641 [03:53<29:11,  1.73s/it]"
     ]
    },
    {
     "name": "stdout",
     "output_type": "stream",
     "text": [
      "now in row:  630\n"
     ]
    },
    {
     "name": "stderr",
     "output_type": "stream",
     "text": [
      "\r",
      " 38%|██████████████▉                        | 631/1641 [03:55<25:44,  1.53s/it]"
     ]
    },
    {
     "name": "stdout",
     "output_type": "stream",
     "text": [
      "now in row:  631\n"
     ]
    },
    {
     "name": "stderr",
     "output_type": "stream",
     "text": [
      "\r",
      " 39%|███████████████                        | 632/1641 [03:56<24:27,  1.45s/it]"
     ]
    },
    {
     "name": "stdout",
     "output_type": "stream",
     "text": [
      "now in row:  632\n"
     ]
    },
    {
     "name": "stderr",
     "output_type": "stream",
     "text": [
      "\r",
      " 39%|███████████████                        | 633/1641 [03:57<21:04,  1.25s/it]"
     ]
    },
    {
     "name": "stdout",
     "output_type": "stream",
     "text": [
      "now in row:  633\n"
     ]
    },
    {
     "name": "stderr",
     "output_type": "stream",
     "text": [
      "\r",
      " 39%|███████████████                        | 634/1641 [03:57<18:47,  1.12s/it]"
     ]
    },
    {
     "name": "stdout",
     "output_type": "stream",
     "text": [
      "now in row:  634\n"
     ]
    },
    {
     "name": "stderr",
     "output_type": "stream",
     "text": [
      "\r",
      " 39%|███████████████                        | 635/1641 [03:59<22:54,  1.37s/it]"
     ]
    },
    {
     "name": "stdout",
     "output_type": "stream",
     "text": [
      "now in row:  635\n"
     ]
    },
    {
     "name": "stderr",
     "output_type": "stream",
     "text": [
      "\r",
      " 39%|███████████████                        | 636/1641 [04:01<22:55,  1.37s/it]"
     ]
    },
    {
     "name": "stdout",
     "output_type": "stream",
     "text": [
      "now in row:  636\n"
     ]
    },
    {
     "name": "stderr",
     "output_type": "stream",
     "text": [
      "\r",
      " 39%|███████████████▏                       | 637/1641 [04:02<22:40,  1.36s/it]"
     ]
    },
    {
     "name": "stdout",
     "output_type": "stream",
     "text": [
      "now in row:  637\n"
     ]
    },
    {
     "name": "stderr",
     "output_type": "stream",
     "text": [
      "\r",
      " 39%|███████████████▏                       | 638/1641 [04:03<22:37,  1.35s/it]"
     ]
    },
    {
     "name": "stdout",
     "output_type": "stream",
     "text": [
      "now in row:  638\n"
     ]
    },
    {
     "name": "stderr",
     "output_type": "stream",
     "text": [
      "\r",
      " 39%|███████████████▏                       | 639/1641 [04:04<20:47,  1.24s/it]"
     ]
    },
    {
     "name": "stdout",
     "output_type": "stream",
     "text": [
      "now in row:  639\n"
     ]
    },
    {
     "name": "stderr",
     "output_type": "stream",
     "text": [
      "\r",
      " 39%|███████████████▏                       | 640/1641 [04:06<22:23,  1.34s/it]"
     ]
    },
    {
     "name": "stdout",
     "output_type": "stream",
     "text": [
      "now in row:  640\n"
     ]
    },
    {
     "name": "stderr",
     "output_type": "stream",
     "text": [
      "\r",
      " 39%|███████████████▏                       | 641/1641 [04:09<31:24,  1.88s/it]"
     ]
    },
    {
     "name": "stdout",
     "output_type": "stream",
     "text": [
      "now in row:  641\n"
     ]
    },
    {
     "name": "stderr",
     "output_type": "stream",
     "text": [
      "\r",
      " 39%|███████████████▎                       | 642/1641 [04:10<26:16,  1.58s/it]"
     ]
    },
    {
     "name": "stdout",
     "output_type": "stream",
     "text": [
      "now in row:  642\n"
     ]
    },
    {
     "name": "stderr",
     "output_type": "stream",
     "text": [
      "\r",
      " 39%|███████████████▎                       | 643/1641 [04:11<22:39,  1.36s/it]"
     ]
    },
    {
     "name": "stdout",
     "output_type": "stream",
     "text": [
      "now in row:  643\n"
     ]
    },
    {
     "name": "stderr",
     "output_type": "stream",
     "text": [
      "\r",
      " 39%|███████████████▎                       | 644/1641 [04:12<19:53,  1.20s/it]"
     ]
    },
    {
     "name": "stdout",
     "output_type": "stream",
     "text": [
      "now in row:  644\n"
     ]
    },
    {
     "name": "stderr",
     "output_type": "stream",
     "text": [
      "\r",
      " 39%|███████████████▎                       | 645/1641 [04:13<18:30,  1.11s/it]"
     ]
    },
    {
     "name": "stdout",
     "output_type": "stream",
     "text": [
      "now in row:  645\n"
     ]
    },
    {
     "name": "stderr",
     "output_type": "stream",
     "text": [
      "\r",
      " 39%|███████████████▎                       | 646/1641 [04:13<17:45,  1.07s/it]"
     ]
    },
    {
     "name": "stdout",
     "output_type": "stream",
     "text": [
      "now in row:  646\n"
     ]
    },
    {
     "name": "stderr",
     "output_type": "stream",
     "text": [
      "\r",
      " 39%|███████████████▍                       | 647/1641 [04:14<16:36,  1.00s/it]"
     ]
    },
    {
     "name": "stdout",
     "output_type": "stream",
     "text": [
      "now in row:  647\n"
     ]
    },
    {
     "name": "stderr",
     "output_type": "stream",
     "text": [
      "\r",
      " 39%|███████████████▍                       | 648/1641 [04:15<16:15,  1.02it/s]"
     ]
    },
    {
     "name": "stdout",
     "output_type": "stream",
     "text": [
      "now in row:  648\n"
     ]
    },
    {
     "name": "stderr",
     "output_type": "stream",
     "text": [
      "\r",
      " 40%|███████████████▍                       | 649/1641 [04:16<15:45,  1.05it/s]"
     ]
    },
    {
     "name": "stdout",
     "output_type": "stream",
     "text": [
      "now in row:  649\n"
     ]
    },
    {
     "name": "stderr",
     "output_type": "stream",
     "text": [
      "\r",
      " 40%|███████████████▍                       | 650/1641 [04:17<15:58,  1.03it/s]"
     ]
    },
    {
     "name": "stdout",
     "output_type": "stream",
     "text": [
      "now in row:  650\n"
     ]
    },
    {
     "name": "stderr",
     "output_type": "stream",
     "text": [
      "\r",
      " 40%|███████████████▍                       | 651/1641 [04:18<15:18,  1.08it/s]"
     ]
    },
    {
     "name": "stdout",
     "output_type": "stream",
     "text": [
      "now in row:  651\n"
     ]
    },
    {
     "name": "stderr",
     "output_type": "stream",
     "text": [
      "\r",
      " 40%|███████████████▍                       | 652/1641 [04:21<25:40,  1.56s/it]"
     ]
    },
    {
     "name": "stdout",
     "output_type": "stream",
     "text": [
      "now in row:  652\n"
     ]
    },
    {
     "name": "stderr",
     "output_type": "stream",
     "text": [
      "\r",
      " 40%|███████████████▌                       | 653/1641 [04:22<21:53,  1.33s/it]"
     ]
    },
    {
     "name": "stdout",
     "output_type": "stream",
     "text": [
      "now in row:  653\n"
     ]
    },
    {
     "name": "stderr",
     "output_type": "stream",
     "text": [
      "\r",
      " 40%|███████████████▌                       | 654/1641 [04:23<19:55,  1.21s/it]"
     ]
    },
    {
     "name": "stdout",
     "output_type": "stream",
     "text": [
      "now in row:  654\n"
     ]
    },
    {
     "name": "stderr",
     "output_type": "stream",
     "text": [
      "\r",
      " 40%|███████████████▌                       | 655/1641 [04:24<19:38,  1.20s/it]"
     ]
    },
    {
     "name": "stdout",
     "output_type": "stream",
     "text": [
      "now in row:  655\n"
     ]
    },
    {
     "name": "stderr",
     "output_type": "stream",
     "text": [
      "\r",
      " 40%|███████████████▌                       | 656/1641 [04:25<17:50,  1.09s/it]"
     ]
    },
    {
     "name": "stdout",
     "output_type": "stream",
     "text": [
      "now in row:  656\n"
     ]
    },
    {
     "name": "stderr",
     "output_type": "stream",
     "text": [
      "\r",
      " 40%|███████████████▌                       | 657/1641 [04:26<19:04,  1.16s/it]"
     ]
    },
    {
     "name": "stdout",
     "output_type": "stream",
     "text": [
      "now in row:  657\n"
     ]
    },
    {
     "name": "stderr",
     "output_type": "stream",
     "text": [
      "\r",
      " 40%|███████████████▋                       | 658/1641 [04:27<18:59,  1.16s/it]"
     ]
    },
    {
     "name": "stdout",
     "output_type": "stream",
     "text": [
      "now in row:  658\n"
     ]
    },
    {
     "name": "stderr",
     "output_type": "stream",
     "text": [
      "\r",
      " 40%|███████████████▋                       | 659/1641 [04:28<17:32,  1.07s/it]"
     ]
    },
    {
     "name": "stdout",
     "output_type": "stream",
     "text": [
      "now in row:  659\n"
     ]
    },
    {
     "name": "stderr",
     "output_type": "stream",
     "text": [
      "\r",
      " 40%|███████████████▋                       | 660/1641 [04:29<17:03,  1.04s/it]"
     ]
    },
    {
     "name": "stdout",
     "output_type": "stream",
     "text": [
      "now in row:  660\n"
     ]
    },
    {
     "name": "stderr",
     "output_type": "stream",
     "text": [
      "\r",
      " 40%|███████████████▋                       | 661/1641 [04:30<16:30,  1.01s/it]"
     ]
    },
    {
     "name": "stdout",
     "output_type": "stream",
     "text": [
      "now in row:  661\n"
     ]
    },
    {
     "name": "stderr",
     "output_type": "stream",
     "text": [
      "\r",
      " 40%|███████████████▋                       | 662/1641 [04:31<16:58,  1.04s/it]"
     ]
    },
    {
     "name": "stdout",
     "output_type": "stream",
     "text": [
      "now in row:  662\n"
     ]
    },
    {
     "name": "stderr",
     "output_type": "stream",
     "text": [
      "\r",
      " 40%|███████████████▊                       | 663/1641 [04:33<22:56,  1.41s/it]"
     ]
    },
    {
     "name": "stdout",
     "output_type": "stream",
     "text": [
      "now in row:  663\n"
     ]
    },
    {
     "name": "stderr",
     "output_type": "stream",
     "text": [
      "\r",
      " 40%|███████████████▊                       | 664/1641 [04:36<29:41,  1.82s/it]"
     ]
    },
    {
     "name": "stdout",
     "output_type": "stream",
     "text": [
      "now in row:  664\n"
     ]
    },
    {
     "name": "stderr",
     "output_type": "stream",
     "text": [
      "\r",
      " 41%|███████████████▊                       | 665/1641 [04:37<26:48,  1.65s/it]"
     ]
    },
    {
     "name": "stdout",
     "output_type": "stream",
     "text": [
      "now in row:  665\n"
     ]
    },
    {
     "name": "stderr",
     "output_type": "stream",
     "text": [
      "\r",
      " 41%|███████████████▊                       | 666/1641 [04:38<23:00,  1.42s/it]"
     ]
    },
    {
     "name": "stdout",
     "output_type": "stream",
     "text": [
      "now in row:  666\n"
     ]
    },
    {
     "name": "stderr",
     "output_type": "stream",
     "text": [
      "\r",
      " 41%|███████████████▊                       | 667/1641 [04:39<20:43,  1.28s/it]"
     ]
    },
    {
     "name": "stdout",
     "output_type": "stream",
     "text": [
      "now in row:  667\n"
     ]
    },
    {
     "name": "stderr",
     "output_type": "stream",
     "text": [
      "\r",
      " 41%|███████████████▉                       | 668/1641 [04:40<19:22,  1.19s/it]"
     ]
    },
    {
     "name": "stdout",
     "output_type": "stream",
     "text": [
      "now in row:  668\n"
     ]
    },
    {
     "name": "stderr",
     "output_type": "stream",
     "text": [
      "\r",
      " 41%|███████████████▉                       | 669/1641 [04:41<17:34,  1.08s/it]"
     ]
    },
    {
     "name": "stdout",
     "output_type": "stream",
     "text": [
      "now in row:  669\n"
     ]
    },
    {
     "name": "stderr",
     "output_type": "stream",
     "text": [
      "\r",
      " 41%|███████████████▉                       | 670/1641 [04:42<17:35,  1.09s/it]"
     ]
    },
    {
     "name": "stdout",
     "output_type": "stream",
     "text": [
      "now in row:  670\n"
     ]
    },
    {
     "name": "stderr",
     "output_type": "stream",
     "text": [
      "\r",
      " 41%|███████████████▉                       | 671/1641 [04:43<16:27,  1.02s/it]"
     ]
    },
    {
     "name": "stdout",
     "output_type": "stream",
     "text": [
      "now in row:  671\n"
     ]
    },
    {
     "name": "stderr",
     "output_type": "stream",
     "text": [
      "\r",
      " 41%|███████████████▉                       | 672/1641 [04:44<17:19,  1.07s/it]"
     ]
    },
    {
     "name": "stdout",
     "output_type": "stream",
     "text": [
      "now in row:  672\n"
     ]
    },
    {
     "name": "stderr",
     "output_type": "stream",
     "text": [
      "\r",
      " 41%|███████████████▉                       | 673/1641 [04:45<16:30,  1.02s/it]"
     ]
    },
    {
     "name": "stdout",
     "output_type": "stream",
     "text": [
      "now in row:  673\n"
     ]
    },
    {
     "name": "stderr",
     "output_type": "stream",
     "text": [
      "\r",
      " 41%|████████████████                       | 674/1641 [04:46<15:30,  1.04it/s]"
     ]
    },
    {
     "name": "stdout",
     "output_type": "stream",
     "text": [
      "now in row:  674\n"
     ]
    },
    {
     "name": "stderr",
     "output_type": "stream",
     "text": [
      "\r",
      " 41%|████████████████                       | 675/1641 [04:47<14:50,  1.08it/s]"
     ]
    },
    {
     "name": "stdout",
     "output_type": "stream",
     "text": [
      "now in row:  675\n"
     ]
    },
    {
     "name": "stderr",
     "output_type": "stream",
     "text": [
      "\r",
      " 41%|████████████████                       | 676/1641 [04:48<17:37,  1.10s/it]"
     ]
    },
    {
     "name": "stdout",
     "output_type": "stream",
     "text": [
      "now in row:  676\n"
     ]
    },
    {
     "name": "stderr",
     "output_type": "stream",
     "text": [
      "\r",
      " 41%|████████████████                       | 677/1641 [04:49<17:26,  1.09s/it]"
     ]
    },
    {
     "name": "stdout",
     "output_type": "stream",
     "text": [
      "now in row:  677\n"
     ]
    },
    {
     "name": "stderr",
     "output_type": "stream",
     "text": [
      "\r",
      " 41%|████████████████                       | 678/1641 [04:50<16:38,  1.04s/it]"
     ]
    },
    {
     "name": "stdout",
     "output_type": "stream",
     "text": [
      "now in row:  678\n"
     ]
    },
    {
     "name": "stderr",
     "output_type": "stream",
     "text": [
      "\r",
      " 41%|████████████████▏                      | 679/1641 [04:51<15:57,  1.00it/s]"
     ]
    },
    {
     "name": "stdout",
     "output_type": "stream",
     "text": [
      "now in row:  679\n"
     ]
    },
    {
     "name": "stderr",
     "output_type": "stream",
     "text": [
      "\r",
      " 41%|████████████████▏                      | 680/1641 [04:52<16:01,  1.00s/it]"
     ]
    },
    {
     "name": "stdout",
     "output_type": "stream",
     "text": [
      "now in row:  680\n"
     ]
    },
    {
     "name": "stderr",
     "output_type": "stream",
     "text": [
      "\r",
      " 41%|████████████████▏                      | 681/1641 [04:53<14:42,  1.09it/s]"
     ]
    },
    {
     "name": "stdout",
     "output_type": "stream",
     "text": [
      "now in row:  681\n"
     ]
    },
    {
     "name": "stderr",
     "output_type": "stream",
     "text": [
      "\r",
      " 42%|████████████████▏                      | 682/1641 [04:54<13:48,  1.16it/s]"
     ]
    },
    {
     "name": "stdout",
     "output_type": "stream",
     "text": [
      "now in row:  682\n"
     ]
    },
    {
     "name": "stderr",
     "output_type": "stream",
     "text": [
      "\r",
      " 42%|████████████████▏                      | 683/1641 [04:54<13:09,  1.21it/s]"
     ]
    },
    {
     "name": "stdout",
     "output_type": "stream",
     "text": [
      "now in row:  683\n"
     ]
    },
    {
     "name": "stderr",
     "output_type": "stream",
     "text": [
      "\r",
      " 42%|████████████████▎                      | 684/1641 [04:55<12:58,  1.23it/s]"
     ]
    },
    {
     "name": "stdout",
     "output_type": "stream",
     "text": [
      "now in row:  684\n"
     ]
    },
    {
     "name": "stderr",
     "output_type": "stream",
     "text": [
      "\r",
      " 42%|████████████████▎                      | 685/1641 [04:56<12:42,  1.25it/s]"
     ]
    },
    {
     "name": "stdout",
     "output_type": "stream",
     "text": [
      "now in row:  685\n"
     ]
    },
    {
     "name": "stderr",
     "output_type": "stream",
     "text": [
      "\r",
      " 42%|████████████████▎                      | 686/1641 [04:57<12:28,  1.28it/s]"
     ]
    },
    {
     "name": "stdout",
     "output_type": "stream",
     "text": [
      "now in row:  686\n"
     ]
    },
    {
     "name": "stderr",
     "output_type": "stream",
     "text": [
      "\r",
      " 42%|████████████████▎                      | 687/1641 [04:57<12:12,  1.30it/s]"
     ]
    },
    {
     "name": "stdout",
     "output_type": "stream",
     "text": [
      "now in row:  687\n"
     ]
    },
    {
     "name": "stderr",
     "output_type": "stream",
     "text": [
      "\r",
      " 42%|████████████████▎                      | 688/1641 [04:58<12:33,  1.27it/s]"
     ]
    },
    {
     "name": "stdout",
     "output_type": "stream",
     "text": [
      "now in row:  688\n"
     ]
    },
    {
     "name": "stderr",
     "output_type": "stream",
     "text": [
      "\r",
      " 42%|████████████████▎                      | 689/1641 [04:59<12:43,  1.25it/s]"
     ]
    },
    {
     "name": "stdout",
     "output_type": "stream",
     "text": [
      "now in row:  689\n"
     ]
    },
    {
     "name": "stderr",
     "output_type": "stream",
     "text": [
      "\r",
      " 42%|████████████████▍                      | 690/1641 [05:00<12:35,  1.26it/s]"
     ]
    },
    {
     "name": "stdout",
     "output_type": "stream",
     "text": [
      "now in row:  690\n"
     ]
    },
    {
     "name": "stderr",
     "output_type": "stream",
     "text": [
      "\r",
      " 42%|████████████████▍                      | 691/1641 [05:01<13:08,  1.21it/s]"
     ]
    },
    {
     "name": "stdout",
     "output_type": "stream",
     "text": [
      "now in row:  691\n"
     ]
    },
    {
     "name": "stderr",
     "output_type": "stream",
     "text": [
      "\r",
      " 42%|████████████████▍                      | 692/1641 [05:02<13:02,  1.21it/s]"
     ]
    },
    {
     "name": "stdout",
     "output_type": "stream",
     "text": [
      "now in row:  692\n"
     ]
    },
    {
     "name": "stderr",
     "output_type": "stream",
     "text": [
      "\r",
      " 42%|████████████████▍                      | 693/1641 [05:02<12:36,  1.25it/s]"
     ]
    },
    {
     "name": "stdout",
     "output_type": "stream",
     "text": [
      "now in row:  693\n"
     ]
    },
    {
     "name": "stderr",
     "output_type": "stream",
     "text": [
      "\r",
      " 42%|████████████████▍                      | 694/1641 [05:03<12:13,  1.29it/s]"
     ]
    },
    {
     "name": "stdout",
     "output_type": "stream",
     "text": [
      "now in row:  694\n"
     ]
    },
    {
     "name": "stderr",
     "output_type": "stream",
     "text": [
      "\r",
      " 42%|████████████████▌                      | 695/1641 [05:07<28:34,  1.81s/it]"
     ]
    },
    {
     "name": "stdout",
     "output_type": "stream",
     "text": [
      "now in row:  695\n"
     ]
    },
    {
     "name": "stderr",
     "output_type": "stream",
     "text": [
      "\r",
      " 42%|████████████████▌                      | 696/1641 [05:08<25:22,  1.61s/it]"
     ]
    },
    {
     "name": "stdout",
     "output_type": "stream",
     "text": [
      "now in row:  696\n"
     ]
    },
    {
     "name": "stderr",
     "output_type": "stream",
     "text": [
      "\r",
      " 42%|████████████████▌                      | 697/1641 [05:10<23:07,  1.47s/it]"
     ]
    },
    {
     "name": "stdout",
     "output_type": "stream",
     "text": [
      "now in row:  697\n"
     ]
    },
    {
     "name": "stderr",
     "output_type": "stream",
     "text": [
      "\r",
      " 43%|████████████████▌                      | 698/1641 [05:10<20:00,  1.27s/it]"
     ]
    },
    {
     "name": "stdout",
     "output_type": "stream",
     "text": [
      "now in row:  698\n"
     ]
    },
    {
     "name": "stderr",
     "output_type": "stream",
     "text": [
      "\r",
      " 43%|████████████████▌                      | 699/1641 [05:12<19:27,  1.24s/it]"
     ]
    },
    {
     "name": "stdout",
     "output_type": "stream",
     "text": [
      "now in row:  699\n"
     ]
    },
    {
     "name": "stderr",
     "output_type": "stream",
     "text": [
      "\r",
      " 43%|████████████████▋                      | 700/1641 [05:12<17:30,  1.12s/it]"
     ]
    },
    {
     "name": "stdout",
     "output_type": "stream",
     "text": [
      "now in row:  700\n"
     ]
    },
    {
     "name": "stderr",
     "output_type": "stream",
     "text": [
      "\r",
      " 43%|████████████████▋                      | 701/1641 [05:13<16:38,  1.06s/it]"
     ]
    },
    {
     "name": "stdout",
     "output_type": "stream",
     "text": [
      "now in row:  701\n"
     ]
    },
    {
     "name": "stderr",
     "output_type": "stream",
     "text": [
      "\r",
      " 43%|████████████████▋                      | 702/1641 [05:14<15:48,  1.01s/it]"
     ]
    },
    {
     "name": "stdout",
     "output_type": "stream",
     "text": [
      "now in row:  702\n"
     ]
    },
    {
     "name": "stderr",
     "output_type": "stream",
     "text": [
      "\r",
      " 43%|████████████████▋                      | 703/1641 [05:15<15:00,  1.04it/s]"
     ]
    },
    {
     "name": "stdout",
     "output_type": "stream",
     "text": [
      "now in row:  703\n"
     ]
    },
    {
     "name": "stderr",
     "output_type": "stream",
     "text": [
      "\r",
      " 43%|████████████████▋                      | 704/1641 [05:16<15:19,  1.02it/s]"
     ]
    },
    {
     "name": "stdout",
     "output_type": "stream",
     "text": [
      "now in row:  704\n"
     ]
    },
    {
     "name": "stderr",
     "output_type": "stream",
     "text": [
      "\r",
      " 43%|████████████████▊                      | 705/1641 [05:17<15:10,  1.03it/s]"
     ]
    },
    {
     "name": "stdout",
     "output_type": "stream",
     "text": [
      "now in row:  705\n"
     ]
    },
    {
     "name": "stderr",
     "output_type": "stream",
     "text": [
      "\r",
      " 43%|████████████████▊                      | 706/1641 [05:18<14:54,  1.05it/s]"
     ]
    },
    {
     "name": "stdout",
     "output_type": "stream",
     "text": [
      "now in row:  706\n"
     ]
    },
    {
     "name": "stderr",
     "output_type": "stream",
     "text": [
      "\r",
      " 43%|████████████████▊                      | 707/1641 [05:19<15:02,  1.04it/s]"
     ]
    },
    {
     "name": "stdout",
     "output_type": "stream",
     "text": [
      "now in row:  707\n"
     ]
    },
    {
     "name": "stderr",
     "output_type": "stream",
     "text": [
      "\r",
      " 43%|████████████████▊                      | 708/1641 [05:20<14:22,  1.08it/s]"
     ]
    },
    {
     "name": "stdout",
     "output_type": "stream",
     "text": [
      "now in row:  708\n"
     ]
    },
    {
     "name": "stderr",
     "output_type": "stream",
     "text": [
      "\r",
      " 43%|████████████████▊                      | 709/1641 [05:21<14:51,  1.05it/s]"
     ]
    },
    {
     "name": "stdout",
     "output_type": "stream",
     "text": [
      "now in row:  709\n"
     ]
    },
    {
     "name": "stderr",
     "output_type": "stream",
     "text": [
      "\r",
      " 43%|████████████████▊                      | 710/1641 [05:22<13:57,  1.11it/s]"
     ]
    },
    {
     "name": "stdout",
     "output_type": "stream",
     "text": [
      "now in row:  710\n"
     ]
    },
    {
     "name": "stderr",
     "output_type": "stream",
     "text": [
      "\r",
      " 43%|████████████████▉                      | 711/1641 [05:22<13:27,  1.15it/s]"
     ]
    },
    {
     "name": "stdout",
     "output_type": "stream",
     "text": [
      "now in row:  711\n"
     ]
    },
    {
     "name": "stderr",
     "output_type": "stream",
     "text": [
      "\r",
      " 43%|████████████████▉                      | 712/1641 [05:23<13:36,  1.14it/s]"
     ]
    },
    {
     "name": "stdout",
     "output_type": "stream",
     "text": [
      "now in row:  712\n"
     ]
    },
    {
     "name": "stderr",
     "output_type": "stream",
     "text": [
      "\r",
      " 43%|████████████████▉                      | 713/1641 [05:24<13:38,  1.13it/s]"
     ]
    },
    {
     "name": "stdout",
     "output_type": "stream",
     "text": [
      "now in row:  713\n"
     ]
    },
    {
     "name": "stderr",
     "output_type": "stream",
     "text": [
      "\r",
      " 44%|████████████████▉                      | 714/1641 [05:25<13:24,  1.15it/s]"
     ]
    },
    {
     "name": "stdout",
     "output_type": "stream",
     "text": [
      "now in row:  714\n"
     ]
    },
    {
     "name": "stderr",
     "output_type": "stream",
     "text": [
      "\r",
      " 44%|████████████████▉                      | 715/1641 [05:26<13:07,  1.18it/s]"
     ]
    },
    {
     "name": "stdout",
     "output_type": "stream",
     "text": [
      "now in row:  715\n"
     ]
    },
    {
     "name": "stderr",
     "output_type": "stream",
     "text": [
      "\r",
      " 44%|█████████████████                      | 716/1641 [05:27<17:03,  1.11s/it]"
     ]
    },
    {
     "name": "stdout",
     "output_type": "stream",
     "text": [
      "now in row:  716\n"
     ]
    },
    {
     "name": "stderr",
     "output_type": "stream",
     "text": [
      "\r",
      " 44%|█████████████████                      | 717/1641 [05:29<21:13,  1.38s/it]"
     ]
    },
    {
     "name": "stdout",
     "output_type": "stream",
     "text": [
      "now in row:  717\n"
     ]
    },
    {
     "name": "stderr",
     "output_type": "stream",
     "text": [
      "\r",
      " 44%|█████████████████                      | 718/1641 [05:31<20:19,  1.32s/it]"
     ]
    },
    {
     "name": "stdout",
     "output_type": "stream",
     "text": [
      "now in row:  718\n"
     ]
    },
    {
     "name": "stderr",
     "output_type": "stream",
     "text": [
      "\r",
      " 44%|█████████████████                      | 719/1641 [05:32<18:44,  1.22s/it]"
     ]
    },
    {
     "name": "stdout",
     "output_type": "stream",
     "text": [
      "now in row:  719\n"
     ]
    },
    {
     "name": "stderr",
     "output_type": "stream",
     "text": [
      "\r",
      " 44%|█████████████████                      | 720/1641 [05:33<17:12,  1.12s/it]"
     ]
    },
    {
     "name": "stdout",
     "output_type": "stream",
     "text": [
      "now in row:  720\n"
     ]
    },
    {
     "name": "stderr",
     "output_type": "stream",
     "text": [
      "\r",
      " 44%|█████████████████▏                     | 721/1641 [05:33<16:20,  1.07s/it]"
     ]
    },
    {
     "name": "stdout",
     "output_type": "stream",
     "text": [
      "now in row:  721\n"
     ]
    },
    {
     "name": "stderr",
     "output_type": "stream",
     "text": [
      "\r",
      " 44%|█████████████████▏                     | 722/1641 [05:35<17:14,  1.13s/it]"
     ]
    },
    {
     "name": "stdout",
     "output_type": "stream",
     "text": [
      "now in row:  722\n"
     ]
    },
    {
     "name": "stderr",
     "output_type": "stream",
     "text": [
      "\r",
      " 44%|█████████████████▏                     | 723/1641 [05:36<16:17,  1.06s/it]"
     ]
    },
    {
     "name": "stdout",
     "output_type": "stream",
     "text": [
      "now in row:  723\n"
     ]
    },
    {
     "name": "stderr",
     "output_type": "stream",
     "text": [
      "\r",
      " 44%|█████████████████▏                     | 724/1641 [05:37<15:10,  1.01it/s]"
     ]
    },
    {
     "name": "stdout",
     "output_type": "stream",
     "text": [
      "now in row:  724\n"
     ]
    },
    {
     "name": "stderr",
     "output_type": "stream",
     "text": [
      "\r",
      " 44%|█████████████████▏                     | 725/1641 [05:37<14:33,  1.05it/s]"
     ]
    },
    {
     "name": "stdout",
     "output_type": "stream",
     "text": [
      "now in row:  725\n"
     ]
    },
    {
     "name": "stderr",
     "output_type": "stream",
     "text": [
      "\r",
      " 44%|█████████████████▎                     | 726/1641 [05:38<14:10,  1.08it/s]"
     ]
    },
    {
     "name": "stdout",
     "output_type": "stream",
     "text": [
      "now in row:  726\n"
     ]
    },
    {
     "name": "stderr",
     "output_type": "stream",
     "text": [
      "\r",
      " 44%|█████████████████▎                     | 727/1641 [05:39<13:54,  1.10it/s]"
     ]
    },
    {
     "name": "stdout",
     "output_type": "stream",
     "text": [
      "now in row:  727\n"
     ]
    },
    {
     "name": "stderr",
     "output_type": "stream",
     "text": [
      "\r",
      " 44%|█████████████████▎                     | 728/1641 [05:40<13:37,  1.12it/s]"
     ]
    },
    {
     "name": "stdout",
     "output_type": "stream",
     "text": [
      "now in row:  728\n"
     ]
    },
    {
     "name": "stderr",
     "output_type": "stream",
     "text": [
      "\r",
      " 44%|█████████████████▎                     | 729/1641 [05:41<13:19,  1.14it/s]"
     ]
    },
    {
     "name": "stdout",
     "output_type": "stream",
     "text": [
      "now in row:  729\n"
     ]
    },
    {
     "name": "stderr",
     "output_type": "stream",
     "text": [
      "\r",
      " 44%|█████████████████▎                     | 730/1641 [05:42<14:30,  1.05it/s]"
     ]
    },
    {
     "name": "stdout",
     "output_type": "stream",
     "text": [
      "now in row:  730\n"
     ]
    },
    {
     "name": "stderr",
     "output_type": "stream",
     "text": [
      "\r",
      " 45%|█████████████████▎                     | 731/1641 [05:43<14:25,  1.05it/s]"
     ]
    },
    {
     "name": "stdout",
     "output_type": "stream",
     "text": [
      "now in row:  731\n"
     ]
    },
    {
     "name": "stderr",
     "output_type": "stream",
     "text": [
      "\r",
      " 45%|█████████████████▍                     | 732/1641 [05:44<14:12,  1.07it/s]"
     ]
    },
    {
     "name": "stdout",
     "output_type": "stream",
     "text": [
      "now in row:  732\n"
     ]
    },
    {
     "name": "stderr",
     "output_type": "stream",
     "text": [
      "\r",
      " 45%|█████████████████▍                     | 733/1641 [05:49<31:30,  2.08s/it]"
     ]
    },
    {
     "name": "stdout",
     "output_type": "stream",
     "text": [
      "now in row:  733\n"
     ]
    },
    {
     "name": "stderr",
     "output_type": "stream",
     "text": [
      "\r",
      " 45%|█████████████████▍                     | 734/1641 [05:50<29:21,  1.94s/it]"
     ]
    },
    {
     "name": "stdout",
     "output_type": "stream",
     "text": [
      "now in row:  734\n"
     ]
    },
    {
     "name": "stderr",
     "output_type": "stream",
     "text": [
      "\r",
      " 45%|█████████████████▍                     | 735/1641 [05:51<24:21,  1.61s/it]"
     ]
    },
    {
     "name": "stdout",
     "output_type": "stream",
     "text": [
      "now in row:  735\n"
     ]
    },
    {
     "name": "stderr",
     "output_type": "stream",
     "text": [
      "\r",
      " 45%|█████████████████▍                     | 736/1641 [05:52<21:43,  1.44s/it]"
     ]
    },
    {
     "name": "stdout",
     "output_type": "stream",
     "text": [
      "now in row:  736\n"
     ]
    },
    {
     "name": "stderr",
     "output_type": "stream",
     "text": [
      "\r",
      " 45%|█████████████████▌                     | 737/1641 [05:53<18:56,  1.26s/it]"
     ]
    },
    {
     "name": "stdout",
     "output_type": "stream",
     "text": [
      "now in row:  737\n"
     ]
    },
    {
     "name": "stderr",
     "output_type": "stream",
     "text": [
      "\r",
      " 45%|█████████████████▌                     | 738/1641 [05:54<17:14,  1.15s/it]"
     ]
    },
    {
     "name": "stdout",
     "output_type": "stream",
     "text": [
      "now in row:  738\n"
     ]
    },
    {
     "name": "stderr",
     "output_type": "stream",
     "text": [
      "\r",
      " 45%|█████████████████▌                     | 739/1641 [05:55<15:43,  1.05s/it]"
     ]
    },
    {
     "name": "stdout",
     "output_type": "stream",
     "text": [
      "now in row:  739\n"
     ]
    },
    {
     "name": "stderr",
     "output_type": "stream",
     "text": [
      "\r",
      " 45%|█████████████████▌                     | 740/1641 [05:55<14:30,  1.03it/s]"
     ]
    },
    {
     "name": "stdout",
     "output_type": "stream",
     "text": [
      "now in row:  740\n"
     ]
    },
    {
     "name": "stderr",
     "output_type": "stream",
     "text": [
      "\r",
      " 45%|█████████████████▌                     | 741/1641 [05:56<13:43,  1.09it/s]"
     ]
    },
    {
     "name": "stdout",
     "output_type": "stream",
     "text": [
      "now in row:  741\n"
     ]
    },
    {
     "name": "stderr",
     "output_type": "stream",
     "text": [
      "\r",
      " 45%|█████████████████▋                     | 742/1641 [05:57<13:17,  1.13it/s]"
     ]
    },
    {
     "name": "stdout",
     "output_type": "stream",
     "text": [
      "now in row:  742\n"
     ]
    },
    {
     "name": "stderr",
     "output_type": "stream",
     "text": [
      "\r",
      " 45%|█████████████████▋                     | 743/1641 [05:58<12:59,  1.15it/s]"
     ]
    },
    {
     "name": "stdout",
     "output_type": "stream",
     "text": [
      "now in row:  743\n"
     ]
    },
    {
     "name": "stderr",
     "output_type": "stream",
     "text": [
      "\r",
      " 45%|█████████████████▋                     | 744/1641 [05:59<13:22,  1.12it/s]"
     ]
    },
    {
     "name": "stdout",
     "output_type": "stream",
     "text": [
      "now in row:  744\n"
     ]
    },
    {
     "name": "stderr",
     "output_type": "stream",
     "text": [
      "\r",
      " 45%|█████████████████▋                     | 745/1641 [06:00<12:57,  1.15it/s]"
     ]
    },
    {
     "name": "stdout",
     "output_type": "stream",
     "text": [
      "now in row:  745\n"
     ]
    },
    {
     "name": "stderr",
     "output_type": "stream",
     "text": [
      "\r",
      " 45%|█████████████████▋                     | 746/1641 [06:00<12:20,  1.21it/s]"
     ]
    },
    {
     "name": "stdout",
     "output_type": "stream",
     "text": [
      "now in row:  746\n"
     ]
    },
    {
     "name": "stderr",
     "output_type": "stream",
     "text": [
      "\r",
      " 46%|█████████████████▊                     | 747/1641 [06:01<11:53,  1.25it/s]"
     ]
    },
    {
     "name": "stdout",
     "output_type": "stream",
     "text": [
      "now in row:  747\n"
     ]
    },
    {
     "name": "stderr",
     "output_type": "stream",
     "text": [
      "\r",
      " 46%|█████████████████▊                     | 748/1641 [06:02<12:00,  1.24it/s]"
     ]
    },
    {
     "name": "stdout",
     "output_type": "stream",
     "text": [
      "now in row:  748\n"
     ]
    },
    {
     "name": "stderr",
     "output_type": "stream",
     "text": [
      "\r",
      " 46%|█████████████████▊                     | 749/1641 [06:03<13:10,  1.13it/s]"
     ]
    },
    {
     "name": "stdout",
     "output_type": "stream",
     "text": [
      "now in row:  749\n"
     ]
    },
    {
     "name": "stderr",
     "output_type": "stream",
     "text": [
      "\r",
      " 46%|█████████████████▊                     | 750/1641 [06:04<13:35,  1.09it/s]"
     ]
    },
    {
     "name": "stdout",
     "output_type": "stream",
     "text": [
      "now in row:  750\n"
     ]
    },
    {
     "name": "stderr",
     "output_type": "stream",
     "text": [
      "\r",
      " 46%|█████████████████▊                     | 751/1641 [06:05<13:45,  1.08it/s]"
     ]
    },
    {
     "name": "stdout",
     "output_type": "stream",
     "text": [
      "now in row:  751\n"
     ]
    },
    {
     "name": "stderr",
     "output_type": "stream",
     "text": [
      "\r",
      " 46%|█████████████████▊                     | 752/1641 [06:06<15:10,  1.02s/it]"
     ]
    },
    {
     "name": "stdout",
     "output_type": "stream",
     "text": [
      "now in row:  752\n"
     ]
    },
    {
     "name": "stderr",
     "output_type": "stream",
     "text": [
      "\r",
      " 46%|█████████████████▉                     | 753/1641 [06:07<15:02,  1.02s/it]"
     ]
    },
    {
     "name": "stdout",
     "output_type": "stream",
     "text": [
      "now in row:  753\n"
     ]
    },
    {
     "name": "stderr",
     "output_type": "stream",
     "text": [
      "\r",
      " 46%|█████████████████▉                     | 754/1641 [06:09<18:42,  1.27s/it]"
     ]
    },
    {
     "name": "stdout",
     "output_type": "stream",
     "text": [
      "now in row:  754\n"
     ]
    },
    {
     "name": "stderr",
     "output_type": "stream",
     "text": [
      "\r",
      " 46%|█████████████████▉                     | 755/1641 [06:10<18:19,  1.24s/it]"
     ]
    },
    {
     "name": "stdout",
     "output_type": "stream",
     "text": [
      "now in row:  755\n"
     ]
    },
    {
     "name": "stderr",
     "output_type": "stream",
     "text": [
      "\r",
      " 46%|█████████████████▉                     | 756/1641 [06:11<16:43,  1.13s/it]"
     ]
    },
    {
     "name": "stdout",
     "output_type": "stream",
     "text": [
      "now in row:  756\n"
     ]
    },
    {
     "name": "stderr",
     "output_type": "stream",
     "text": [
      "\r",
      " 46%|█████████████████▉                     | 757/1641 [06:12<17:57,  1.22s/it]"
     ]
    },
    {
     "name": "stdout",
     "output_type": "stream",
     "text": [
      "now in row:  757\n"
     ]
    },
    {
     "name": "stderr",
     "output_type": "stream",
     "text": [
      "\r",
      " 46%|██████████████████                     | 758/1641 [06:14<17:52,  1.21s/it]"
     ]
    },
    {
     "name": "stdout",
     "output_type": "stream",
     "text": [
      "now in row:  758\n"
     ]
    },
    {
     "name": "stderr",
     "output_type": "stream",
     "text": [
      "\r",
      " 46%|██████████████████                     | 759/1641 [06:15<17:51,  1.22s/it]"
     ]
    },
    {
     "name": "stdout",
     "output_type": "stream",
     "text": [
      "now in row:  759\n"
     ]
    },
    {
     "name": "stderr",
     "output_type": "stream",
     "text": [
      "\r",
      " 46%|██████████████████                     | 760/1641 [06:16<16:35,  1.13s/it]"
     ]
    },
    {
     "name": "stdout",
     "output_type": "stream",
     "text": [
      "now in row:  760\n"
     ]
    },
    {
     "name": "stderr",
     "output_type": "stream",
     "text": [
      "\r",
      " 46%|██████████████████                     | 761/1641 [06:17<18:10,  1.24s/it]"
     ]
    },
    {
     "name": "stdout",
     "output_type": "stream",
     "text": [
      "now in row:  761\n"
     ]
    },
    {
     "name": "stderr",
     "output_type": "stream",
     "text": [
      "\r",
      " 46%|██████████████████                     | 762/1641 [06:19<18:40,  1.28s/it]"
     ]
    },
    {
     "name": "stdout",
     "output_type": "stream",
     "text": [
      "now in row:  762\n"
     ]
    },
    {
     "name": "stderr",
     "output_type": "stream",
     "text": [
      "\r",
      " 46%|██████████████████▏                    | 763/1641 [06:20<18:54,  1.29s/it]"
     ]
    },
    {
     "name": "stdout",
     "output_type": "stream",
     "text": [
      "now in row:  763\n"
     ]
    },
    {
     "name": "stderr",
     "output_type": "stream",
     "text": [
      "\r",
      " 47%|██████████████████▏                    | 764/1641 [06:22<21:20,  1.46s/it]"
     ]
    },
    {
     "name": "stdout",
     "output_type": "stream",
     "text": [
      "now in row:  764\n"
     ]
    },
    {
     "name": "stderr",
     "output_type": "stream",
     "text": [
      "\r",
      " 47%|██████████████████▏                    | 765/1641 [06:23<21:32,  1.48s/it]"
     ]
    },
    {
     "name": "stdout",
     "output_type": "stream",
     "text": [
      "now in row:  765\n"
     ]
    },
    {
     "name": "stderr",
     "output_type": "stream",
     "text": [
      "\r",
      " 47%|██████████████████▏                    | 766/1641 [06:25<21:34,  1.48s/it]"
     ]
    },
    {
     "name": "stdout",
     "output_type": "stream",
     "text": [
      "now in row:  766\n"
     ]
    },
    {
     "name": "stderr",
     "output_type": "stream",
     "text": [
      "\r",
      " 47%|██████████████████▏                    | 767/1641 [06:26<20:04,  1.38s/it]"
     ]
    },
    {
     "name": "stdout",
     "output_type": "stream",
     "text": [
      "now in row:  767\n"
     ]
    },
    {
     "name": "stderr",
     "output_type": "stream",
     "text": [
      "\r",
      " 47%|██████████████████▎                    | 768/1641 [06:27<17:36,  1.21s/it]"
     ]
    },
    {
     "name": "stdout",
     "output_type": "stream",
     "text": [
      "now in row:  768\n"
     ]
    },
    {
     "name": "stderr",
     "output_type": "stream",
     "text": [
      "\r",
      " 47%|██████████████████▎                    | 769/1641 [06:28<17:55,  1.23s/it]"
     ]
    },
    {
     "name": "stdout",
     "output_type": "stream",
     "text": [
      "now in row:  769\n"
     ]
    },
    {
     "name": "stderr",
     "output_type": "stream",
     "text": [
      "\r",
      " 47%|██████████████████▎                    | 770/1641 [06:29<18:23,  1.27s/it]"
     ]
    },
    {
     "name": "stdout",
     "output_type": "stream",
     "text": [
      "now in row:  770\n"
     ]
    },
    {
     "name": "stderr",
     "output_type": "stream",
     "text": [
      "\r",
      " 47%|██████████████████▎                    | 771/1641 [06:31<20:21,  1.40s/it]"
     ]
    },
    {
     "name": "stdout",
     "output_type": "stream",
     "text": [
      "now in row:  771\n"
     ]
    },
    {
     "name": "stderr",
     "output_type": "stream",
     "text": [
      "\r",
      " 47%|██████████████████▎                    | 772/1641 [06:33<20:10,  1.39s/it]"
     ]
    },
    {
     "name": "stdout",
     "output_type": "stream",
     "text": [
      "now in row:  772\n"
     ]
    },
    {
     "name": "stderr",
     "output_type": "stream",
     "text": [
      "\r",
      " 47%|██████████████████▎                    | 773/1641 [06:34<18:49,  1.30s/it]"
     ]
    },
    {
     "name": "stdout",
     "output_type": "stream",
     "text": [
      "now in row:  773\n"
     ]
    },
    {
     "name": "stderr",
     "output_type": "stream",
     "text": [
      "\r",
      " 47%|██████████████████▍                    | 774/1641 [06:35<19:31,  1.35s/it]"
     ]
    },
    {
     "name": "stdout",
     "output_type": "stream",
     "text": [
      "now in row:  774\n"
     ]
    },
    {
     "name": "stderr",
     "output_type": "stream",
     "text": [
      "\r",
      " 47%|██████████████████▍                    | 775/1641 [06:37<21:40,  1.50s/it]"
     ]
    },
    {
     "name": "stdout",
     "output_type": "stream",
     "text": [
      "now in row:  775\n"
     ]
    },
    {
     "name": "stderr",
     "output_type": "stream",
     "text": [
      "\r",
      " 47%|██████████████████▍                    | 776/1641 [06:39<25:56,  1.80s/it]"
     ]
    },
    {
     "name": "stdout",
     "output_type": "stream",
     "text": [
      "now in row:  776\n"
     ]
    },
    {
     "name": "stderr",
     "output_type": "stream",
     "text": [
      "\r",
      " 47%|██████████████████▍                    | 777/1641 [06:41<25:53,  1.80s/it]"
     ]
    },
    {
     "name": "stdout",
     "output_type": "stream",
     "text": [
      "now in row:  777\n"
     ]
    },
    {
     "name": "stderr",
     "output_type": "stream",
     "text": [
      "\r",
      " 47%|██████████████████▍                    | 778/1641 [06:42<22:57,  1.60s/it]"
     ]
    },
    {
     "name": "stdout",
     "output_type": "stream",
     "text": [
      "now in row:  778\n"
     ]
    },
    {
     "name": "stderr",
     "output_type": "stream",
     "text": [
      "\r",
      " 47%|██████████████████▌                    | 779/1641 [06:44<25:01,  1.74s/it]"
     ]
    },
    {
     "name": "stdout",
     "output_type": "stream",
     "text": [
      "now in row:  779\n"
     ]
    },
    {
     "name": "stderr",
     "output_type": "stream",
     "text": [
      "\r",
      " 48%|██████████████████▌                    | 780/1641 [06:46<22:59,  1.60s/it]"
     ]
    },
    {
     "name": "stdout",
     "output_type": "stream",
     "text": [
      "now in row:  780\n"
     ]
    },
    {
     "name": "stderr",
     "output_type": "stream",
     "text": [
      "\r",
      " 48%|██████████████████▌                    | 781/1641 [06:47<22:49,  1.59s/it]"
     ]
    },
    {
     "name": "stdout",
     "output_type": "stream",
     "text": [
      "now in row:  781\n"
     ]
    },
    {
     "name": "stderr",
     "output_type": "stream",
     "text": [
      "\r",
      " 48%|██████████████████▌                    | 782/1641 [06:49<22:27,  1.57s/it]"
     ]
    },
    {
     "name": "stdout",
     "output_type": "stream",
     "text": [
      "now in row:  782\n"
     ]
    },
    {
     "name": "stderr",
     "output_type": "stream",
     "text": [
      "\r",
      " 48%|██████████████████▌                    | 783/1641 [06:50<22:09,  1.55s/it]"
     ]
    },
    {
     "name": "stdout",
     "output_type": "stream",
     "text": [
      "now in row:  783\n"
     ]
    },
    {
     "name": "stderr",
     "output_type": "stream",
     "text": [
      "\r",
      " 48%|██████████████████▋                    | 784/1641 [06:51<19:20,  1.35s/it]"
     ]
    },
    {
     "name": "stdout",
     "output_type": "stream",
     "text": [
      "now in row:  784\n"
     ]
    },
    {
     "name": "stderr",
     "output_type": "stream",
     "text": [
      "\r",
      " 48%|██████████████████▋                    | 785/1641 [06:52<18:03,  1.27s/it]"
     ]
    },
    {
     "name": "stdout",
     "output_type": "stream",
     "text": [
      "now in row:  785\n"
     ]
    },
    {
     "name": "stderr",
     "output_type": "stream",
     "text": [
      "\r",
      " 48%|██████████████████▋                    | 786/1641 [06:53<16:16,  1.14s/it]"
     ]
    },
    {
     "name": "stdout",
     "output_type": "stream",
     "text": [
      "now in row:  786\n"
     ]
    },
    {
     "name": "stderr",
     "output_type": "stream",
     "text": [
      "\r",
      " 48%|██████████████████▋                    | 787/1641 [06:54<14:16,  1.00s/it]"
     ]
    },
    {
     "name": "stdout",
     "output_type": "stream",
     "text": [
      "now in row:  787\n"
     ]
    },
    {
     "name": "stderr",
     "output_type": "stream",
     "text": [
      "\r",
      " 48%|██████████████████▋                    | 788/1641 [06:55<13:55,  1.02it/s]"
     ]
    },
    {
     "name": "stdout",
     "output_type": "stream",
     "text": [
      "now in row:  788\n"
     ]
    },
    {
     "name": "stderr",
     "output_type": "stream",
     "text": [
      "\r",
      " 48%|██████████████████▊                    | 789/1641 [06:55<12:35,  1.13it/s]"
     ]
    },
    {
     "name": "stdout",
     "output_type": "stream",
     "text": [
      "now in row:  789\n"
     ]
    },
    {
     "name": "stderr",
     "output_type": "stream",
     "text": [
      "\r",
      " 48%|██████████████████▊                    | 790/1641 [06:57<16:00,  1.13s/it]"
     ]
    },
    {
     "name": "stdout",
     "output_type": "stream",
     "text": [
      "now in row:  790\n"
     ]
    },
    {
     "name": "stderr",
     "output_type": "stream",
     "text": [
      "\r",
      " 48%|██████████████████▊                    | 791/1641 [06:59<20:29,  1.45s/it]"
     ]
    },
    {
     "name": "stdout",
     "output_type": "stream",
     "text": [
      "now in row:  791\n"
     ]
    },
    {
     "name": "stderr",
     "output_type": "stream",
     "text": [
      "\r",
      " 48%|██████████████████▊                    | 792/1641 [07:01<19:42,  1.39s/it]"
     ]
    },
    {
     "name": "stdout",
     "output_type": "stream",
     "text": [
      "now in row:  792\n"
     ]
    },
    {
     "name": "stderr",
     "output_type": "stream",
     "text": [
      "\r",
      " 48%|██████████████████▊                    | 793/1641 [07:02<21:37,  1.53s/it]"
     ]
    },
    {
     "name": "stdout",
     "output_type": "stream",
     "text": [
      "now in row:  793\n"
     ]
    },
    {
     "name": "stderr",
     "output_type": "stream",
     "text": [
      "\r",
      " 48%|██████████████████▊                    | 794/1641 [07:04<23:14,  1.65s/it]"
     ]
    },
    {
     "name": "stdout",
     "output_type": "stream",
     "text": [
      "now in row:  794\n"
     ]
    },
    {
     "name": "stderr",
     "output_type": "stream",
     "text": [
      "\r",
      " 48%|██████████████████▉                    | 795/1641 [07:07<26:15,  1.86s/it]"
     ]
    },
    {
     "name": "stdout",
     "output_type": "stream",
     "text": [
      "now in row:  795\n"
     ]
    },
    {
     "name": "stderr",
     "output_type": "stream",
     "text": [
      "\r",
      " 49%|██████████████████▉                    | 796/1641 [07:08<25:46,  1.83s/it]"
     ]
    },
    {
     "name": "stdout",
     "output_type": "stream",
     "text": [
      "now in row:  796\n"
     ]
    },
    {
     "name": "stderr",
     "output_type": "stream",
     "text": [
      "\r",
      " 49%|██████████████████▉                    | 797/1641 [07:11<27:14,  1.94s/it]"
     ]
    },
    {
     "name": "stdout",
     "output_type": "stream",
     "text": [
      "now in row:  797\n"
     ]
    },
    {
     "name": "stderr",
     "output_type": "stream",
     "text": [
      "\r",
      " 49%|██████████████████▉                    | 798/1641 [07:12<26:55,  1.92s/it]"
     ]
    },
    {
     "name": "stdout",
     "output_type": "stream",
     "text": [
      "now in row:  798\n"
     ]
    },
    {
     "name": "stderr",
     "output_type": "stream",
     "text": [
      "\r",
      " 49%|██████████████████▉                    | 799/1641 [07:14<26:35,  1.90s/it]"
     ]
    },
    {
     "name": "stdout",
     "output_type": "stream",
     "text": [
      "now in row:  799\n"
     ]
    },
    {
     "name": "stderr",
     "output_type": "stream",
     "text": [
      "\r",
      " 49%|███████████████████                    | 800/1641 [07:16<27:49,  1.99s/it]"
     ]
    },
    {
     "name": "stdout",
     "output_type": "stream",
     "text": [
      "now in row:  800\n"
     ]
    },
    {
     "name": "stderr",
     "output_type": "stream",
     "text": [
      "\r",
      " 49%|███████████████████                    | 801/1641 [07:18<26:52,  1.92s/it]"
     ]
    },
    {
     "name": "stdout",
     "output_type": "stream",
     "text": [
      "now in row:  801\n"
     ]
    },
    {
     "name": "stderr",
     "output_type": "stream",
     "text": [
      "\r",
      " 49%|███████████████████                    | 802/1641 [07:20<27:06,  1.94s/it]"
     ]
    },
    {
     "name": "stdout",
     "output_type": "stream",
     "text": [
      "now in row:  802\n"
     ]
    },
    {
     "name": "stderr",
     "output_type": "stream",
     "text": [
      "\r",
      " 49%|███████████████████                    | 803/1641 [07:22<26:56,  1.93s/it]"
     ]
    },
    {
     "name": "stdout",
     "output_type": "stream",
     "text": [
      "now in row:  803\n"
     ]
    },
    {
     "name": "stderr",
     "output_type": "stream",
     "text": [
      "\r",
      " 49%|███████████████████                    | 804/1641 [07:24<27:39,  1.98s/it]"
     ]
    },
    {
     "name": "stdout",
     "output_type": "stream",
     "text": [
      "now in row:  804\n"
     ]
    },
    {
     "name": "stderr",
     "output_type": "stream",
     "text": [
      "\r",
      " 49%|███████████████████▏                   | 805/1641 [07:27<29:16,  2.10s/it]"
     ]
    },
    {
     "name": "stdout",
     "output_type": "stream",
     "text": [
      "now in row:  805\n"
     ]
    },
    {
     "name": "stderr",
     "output_type": "stream",
     "text": [
      "\r",
      " 49%|███████████████████▏                   | 806/1641 [07:28<28:16,  2.03s/it]"
     ]
    },
    {
     "name": "stdout",
     "output_type": "stream",
     "text": [
      "now in row:  806\n"
     ]
    },
    {
     "name": "stderr",
     "output_type": "stream",
     "text": [
      "\r",
      " 49%|███████████████████▏                   | 807/1641 [07:30<27:46,  2.00s/it]"
     ]
    },
    {
     "name": "stdout",
     "output_type": "stream",
     "text": [
      "now in row:  807\n"
     ]
    },
    {
     "name": "stderr",
     "output_type": "stream",
     "text": [
      "\r",
      " 49%|███████████████████▏                   | 808/1641 [07:32<27:21,  1.97s/it]"
     ]
    },
    {
     "name": "stdout",
     "output_type": "stream",
     "text": [
      "now in row:  808\n"
     ]
    },
    {
     "name": "stderr",
     "output_type": "stream",
     "text": [
      "\r",
      " 49%|███████████████████▏                   | 809/1641 [07:34<24:38,  1.78s/it]"
     ]
    },
    {
     "name": "stdout",
     "output_type": "stream",
     "text": [
      "now in row:  809\n"
     ]
    },
    {
     "name": "stderr",
     "output_type": "stream",
     "text": [
      "\r",
      " 49%|███████████████████▎                   | 810/1641 [07:35<24:19,  1.76s/it]"
     ]
    },
    {
     "name": "stdout",
     "output_type": "stream",
     "text": [
      "now in row:  810\n"
     ]
    },
    {
     "name": "stderr",
     "output_type": "stream",
     "text": [
      "\r",
      " 49%|███████████████████▎                   | 811/1641 [07:38<27:45,  2.01s/it]"
     ]
    },
    {
     "name": "stdout",
     "output_type": "stream",
     "text": [
      "now in row:  811\n"
     ]
    },
    {
     "name": "stderr",
     "output_type": "stream",
     "text": [
      "\r",
      " 49%|███████████████████▎                   | 812/1641 [07:40<27:39,  2.00s/it]"
     ]
    },
    {
     "name": "stdout",
     "output_type": "stream",
     "text": [
      "now in row:  812\n"
     ]
    },
    {
     "name": "stderr",
     "output_type": "stream",
     "text": [
      "\r",
      " 50%|███████████████████▎                   | 813/1641 [07:42<26:30,  1.92s/it]"
     ]
    },
    {
     "name": "stdout",
     "output_type": "stream",
     "text": [
      "now in row:  813\n"
     ]
    },
    {
     "name": "stderr",
     "output_type": "stream",
     "text": [
      "\r",
      " 50%|███████████████████▎                   | 814/1641 [07:44<26:52,  1.95s/it]"
     ]
    },
    {
     "name": "stdout",
     "output_type": "stream",
     "text": [
      "now in row:  814\n"
     ]
    },
    {
     "name": "stderr",
     "output_type": "stream",
     "text": [
      "\r",
      " 50%|███████████████████▎                   | 815/1641 [07:45<26:01,  1.89s/it]"
     ]
    },
    {
     "name": "stdout",
     "output_type": "stream",
     "text": [
      "now in row:  815\n"
     ]
    },
    {
     "name": "stderr",
     "output_type": "stream",
     "text": [
      "\r",
      " 50%|███████████████████▍                   | 816/1641 [07:48<30:38,  2.23s/it]"
     ]
    },
    {
     "name": "stdout",
     "output_type": "stream",
     "text": [
      "now in row:  816\n"
     ]
    },
    {
     "name": "stderr",
     "output_type": "stream",
     "text": [
      "\r",
      " 50%|███████████████████▍                   | 817/1641 [07:50<28:47,  2.10s/it]"
     ]
    },
    {
     "name": "stdout",
     "output_type": "stream",
     "text": [
      "now in row:  817\n"
     ]
    },
    {
     "name": "stderr",
     "output_type": "stream",
     "text": [
      "\r",
      " 50%|███████████████████▍                   | 818/1641 [07:52<27:21,  1.99s/it]"
     ]
    },
    {
     "name": "stdout",
     "output_type": "stream",
     "text": [
      "now in row:  818\n"
     ]
    },
    {
     "name": "stderr",
     "output_type": "stream",
     "text": [
      "\r",
      " 50%|███████████████████▍                   | 819/1641 [07:54<27:04,  1.98s/it]"
     ]
    },
    {
     "name": "stdout",
     "output_type": "stream",
     "text": [
      "now in row:  819\n"
     ]
    },
    {
     "name": "stderr",
     "output_type": "stream",
     "text": [
      "\r",
      " 50%|███████████████████▍                   | 820/1641 [07:56<26:45,  1.96s/it]"
     ]
    },
    {
     "name": "stdout",
     "output_type": "stream",
     "text": [
      "now in row:  820\n"
     ]
    },
    {
     "name": "stderr",
     "output_type": "stream",
     "text": [
      "\r",
      " 50%|███████████████████▌                   | 821/1641 [07:58<26:49,  1.96s/it]"
     ]
    },
    {
     "name": "stdout",
     "output_type": "stream",
     "text": [
      "now in row:  821\n"
     ]
    },
    {
     "name": "stderr",
     "output_type": "stream",
     "text": [
      "\r",
      " 50%|███████████████████▌                   | 822/1641 [08:00<25:59,  1.90s/it]"
     ]
    },
    {
     "name": "stdout",
     "output_type": "stream",
     "text": [
      "now in row:  822\n"
     ]
    },
    {
     "name": "stderr",
     "output_type": "stream",
     "text": [
      "\r",
      " 50%|██████████████████▌                  | 823/1641 [08:11<1:04:30,  4.73s/it]"
     ]
    },
    {
     "name": "stdout",
     "output_type": "stream",
     "text": [
      "now in row:  823\n"
     ]
    },
    {
     "name": "stderr",
     "output_type": "stream",
     "text": [
      "\r",
      " 50%|██████████████████▌                  | 824/1641 [08:25<1:41:12,  7.43s/it]"
     ]
    },
    {
     "name": "stdout",
     "output_type": "stream",
     "text": [
      "now in row:  824\n"
     ]
    },
    {
     "name": "stderr",
     "output_type": "stream",
     "text": [
      "\r",
      " 50%|██████████████████▌                  | 825/1641 [08:27<1:21:16,  5.98s/it]"
     ]
    },
    {
     "name": "stdout",
     "output_type": "stream",
     "text": [
      "now in row:  825\n"
     ]
    },
    {
     "name": "stderr",
     "output_type": "stream",
     "text": [
      "\r",
      " 50%|██████████████████▌                  | 826/1641 [08:29<1:03:13,  4.65s/it]"
     ]
    },
    {
     "name": "stdout",
     "output_type": "stream",
     "text": [
      "now in row:  826\n"
     ]
    },
    {
     "name": "stderr",
     "output_type": "stream",
     "text": [
      "\r",
      " 50%|███████████████████▋                   | 827/1641 [08:30<47:27,  3.50s/it]"
     ]
    },
    {
     "name": "stdout",
     "output_type": "stream",
     "text": [
      "now in row:  827\n"
     ]
    },
    {
     "name": "stderr",
     "output_type": "stream",
     "text": [
      "\r",
      " 50%|███████████████████▋                   | 828/1641 [08:31<37:48,  2.79s/it]"
     ]
    },
    {
     "name": "stdout",
     "output_type": "stream",
     "text": [
      "now in row:  828\n"
     ]
    },
    {
     "name": "stderr",
     "output_type": "stream",
     "text": [
      "\r",
      " 51%|███████████████████▋                   | 829/1641 [08:32<29:46,  2.20s/it]"
     ]
    },
    {
     "name": "stdout",
     "output_type": "stream",
     "text": [
      "now in row:  829\n"
     ]
    },
    {
     "name": "stderr",
     "output_type": "stream",
     "text": [
      "\r",
      " 51%|███████████████████▋                   | 830/1641 [08:32<24:18,  1.80s/it]"
     ]
    },
    {
     "name": "stdout",
     "output_type": "stream",
     "text": [
      "now in row:  830\n"
     ]
    },
    {
     "name": "stderr",
     "output_type": "stream",
     "text": [
      "\r",
      " 51%|███████████████████▋                   | 831/1641 [08:34<21:48,  1.62s/it]"
     ]
    },
    {
     "name": "stdout",
     "output_type": "stream",
     "text": [
      "now in row:  831\n"
     ]
    },
    {
     "name": "stderr",
     "output_type": "stream",
     "text": [
      "\r",
      " 51%|███████████████████▊                   | 832/1641 [08:35<18:57,  1.41s/it]"
     ]
    },
    {
     "name": "stdout",
     "output_type": "stream",
     "text": [
      "now in row:  832\n"
     ]
    },
    {
     "name": "stderr",
     "output_type": "stream",
     "text": [
      "\r",
      " 51%|███████████████████▊                   | 833/1641 [08:35<16:51,  1.25s/it]"
     ]
    },
    {
     "name": "stdout",
     "output_type": "stream",
     "text": [
      "now in row:  833\n"
     ]
    },
    {
     "name": "stderr",
     "output_type": "stream",
     "text": [
      "\r",
      " 51%|███████████████████▊                   | 834/1641 [08:36<15:11,  1.13s/it]"
     ]
    },
    {
     "name": "stdout",
     "output_type": "stream",
     "text": [
      "now in row:  834\n"
     ]
    },
    {
     "name": "stderr",
     "output_type": "stream",
     "text": [
      "\r",
      " 51%|███████████████████▊                   | 835/1641 [08:37<14:26,  1.07s/it]"
     ]
    },
    {
     "name": "stdout",
     "output_type": "stream",
     "text": [
      "now in row:  835\n"
     ]
    },
    {
     "name": "stderr",
     "output_type": "stream",
     "text": [
      "\r",
      " 51%|███████████████████▊                   | 836/1641 [08:38<13:20,  1.01it/s]"
     ]
    },
    {
     "name": "stdout",
     "output_type": "stream",
     "text": [
      "now in row:  836\n"
     ]
    },
    {
     "name": "stderr",
     "output_type": "stream",
     "text": [
      "\r",
      " 51%|███████████████████▉                   | 837/1641 [08:39<13:13,  1.01it/s]"
     ]
    },
    {
     "name": "stdout",
     "output_type": "stream",
     "text": [
      "now in row:  837\n"
     ]
    },
    {
     "name": "stderr",
     "output_type": "stream",
     "text": [
      "\r",
      " 51%|███████████████████▉                   | 838/1641 [08:40<12:26,  1.08it/s]"
     ]
    },
    {
     "name": "stdout",
     "output_type": "stream",
     "text": [
      "now in row:  838\n"
     ]
    },
    {
     "name": "stderr",
     "output_type": "stream",
     "text": [
      "\r",
      " 51%|███████████████████▉                   | 839/1641 [08:41<12:11,  1.10it/s]"
     ]
    },
    {
     "name": "stdout",
     "output_type": "stream",
     "text": [
      "now in row:  839\n"
     ]
    },
    {
     "name": "stderr",
     "output_type": "stream",
     "text": [
      "\r",
      " 51%|███████████████████▉                   | 840/1641 [08:42<15:21,  1.15s/it]"
     ]
    },
    {
     "name": "stdout",
     "output_type": "stream",
     "text": [
      "now in row:  840\n"
     ]
    },
    {
     "name": "stderr",
     "output_type": "stream",
     "text": [
      "\r",
      " 51%|███████████████████▉                   | 841/1641 [08:43<14:06,  1.06s/it]"
     ]
    },
    {
     "name": "stdout",
     "output_type": "stream",
     "text": [
      "now in row:  841\n"
     ]
    },
    {
     "name": "stderr",
     "output_type": "stream",
     "text": [
      "\r",
      " 51%|████████████████████                   | 842/1641 [08:44<14:55,  1.12s/it]"
     ]
    },
    {
     "name": "stdout",
     "output_type": "stream",
     "text": [
      "now in row:  842\n"
     ]
    },
    {
     "name": "stderr",
     "output_type": "stream",
     "text": [
      "\r",
      " 51%|████████████████████                   | 843/1641 [08:45<14:09,  1.06s/it]"
     ]
    },
    {
     "name": "stdout",
     "output_type": "stream",
     "text": [
      "now in row:  843\n"
     ]
    },
    {
     "name": "stderr",
     "output_type": "stream",
     "text": [
      "\r",
      " 51%|████████████████████                   | 844/1641 [08:46<12:56,  1.03it/s]"
     ]
    },
    {
     "name": "stdout",
     "output_type": "stream",
     "text": [
      "now in row:  844\n"
     ]
    },
    {
     "name": "stderr",
     "output_type": "stream",
     "text": [
      "\r",
      " 51%|████████████████████                   | 845/1641 [08:47<12:12,  1.09it/s]"
     ]
    },
    {
     "name": "stdout",
     "output_type": "stream",
     "text": [
      "now in row:  845\n"
     ]
    },
    {
     "name": "stderr",
     "output_type": "stream",
     "text": [
      "\r",
      " 52%|████████████████████                   | 846/1641 [08:54<38:19,  2.89s/it]"
     ]
    },
    {
     "name": "stdout",
     "output_type": "stream",
     "text": [
      "now in row:  846\n"
     ]
    },
    {
     "name": "stderr",
     "output_type": "stream",
     "text": [
      "\r",
      " 52%|████████████████████▏                  | 847/1641 [08:55<30:19,  2.29s/it]"
     ]
    },
    {
     "name": "stdout",
     "output_type": "stream",
     "text": [
      "now in row:  847\n"
     ]
    },
    {
     "name": "stderr",
     "output_type": "stream",
     "text": [
      "\r",
      " 52%|████████████████████▏                  | 848/1641 [08:56<24:58,  1.89s/it]"
     ]
    },
    {
     "name": "stdout",
     "output_type": "stream",
     "text": [
      "now in row:  848\n"
     ]
    },
    {
     "name": "stderr",
     "output_type": "stream",
     "text": [
      "\r",
      " 52%|████████████████████▏                  | 849/1641 [08:57<20:59,  1.59s/it]"
     ]
    },
    {
     "name": "stdout",
     "output_type": "stream",
     "text": [
      "now in row:  849\n"
     ]
    },
    {
     "name": "stderr",
     "output_type": "stream",
     "text": [
      "\r",
      " 52%|████████████████████▏                  | 850/1641 [08:58<18:47,  1.43s/it]"
     ]
    },
    {
     "name": "stdout",
     "output_type": "stream",
     "text": [
      "now in row:  850\n"
     ]
    },
    {
     "name": "stderr",
     "output_type": "stream",
     "text": [
      "\r",
      " 52%|████████████████████▏                  | 851/1641 [09:00<19:01,  1.45s/it]"
     ]
    },
    {
     "name": "stdout",
     "output_type": "stream",
     "text": [
      "now in row:  851\n"
     ]
    },
    {
     "name": "stderr",
     "output_type": "stream",
     "text": [
      "\r",
      " 52%|████████████████████▏                  | 852/1641 [09:01<16:52,  1.28s/it]"
     ]
    },
    {
     "name": "stdout",
     "output_type": "stream",
     "text": [
      "now in row:  852\n"
     ]
    },
    {
     "name": "stderr",
     "output_type": "stream",
     "text": [
      "\r",
      " 52%|████████████████████▎                  | 853/1641 [09:02<15:53,  1.21s/it]"
     ]
    },
    {
     "name": "stdout",
     "output_type": "stream",
     "text": [
      "now in row:  853\n"
     ]
    },
    {
     "name": "stderr",
     "output_type": "stream",
     "text": [
      "\r",
      " 52%|████████████████████▎                  | 854/1641 [09:03<14:22,  1.10s/it]"
     ]
    },
    {
     "name": "stdout",
     "output_type": "stream",
     "text": [
      "now in row:  854\n"
     ]
    },
    {
     "name": "stderr",
     "output_type": "stream",
     "text": [
      "\r",
      " 52%|████████████████████▎                  | 855/1641 [09:04<14:20,  1.10s/it]"
     ]
    },
    {
     "name": "stdout",
     "output_type": "stream",
     "text": [
      "now in row:  855\n"
     ]
    },
    {
     "name": "stderr",
     "output_type": "stream",
     "text": [
      "\r",
      " 52%|████████████████████▎                  | 856/1641 [09:04<13:20,  1.02s/it]"
     ]
    },
    {
     "name": "stdout",
     "output_type": "stream",
     "text": [
      "now in row:  856\n"
     ]
    },
    {
     "name": "stderr",
     "output_type": "stream",
     "text": [
      "\r",
      " 52%|████████████████████▎                  | 857/1641 [09:05<12:31,  1.04it/s]"
     ]
    },
    {
     "name": "stdout",
     "output_type": "stream",
     "text": [
      "now in row:  857\n"
     ]
    },
    {
     "name": "stderr",
     "output_type": "stream",
     "text": [
      "\r",
      " 52%|████████████████████▍                  | 858/1641 [09:06<12:34,  1.04it/s]"
     ]
    },
    {
     "name": "stdout",
     "output_type": "stream",
     "text": [
      "now in row:  858\n"
     ]
    },
    {
     "name": "stderr",
     "output_type": "stream",
     "text": [
      "\r",
      " 52%|████████████████████▍                  | 859/1641 [09:07<12:05,  1.08it/s]"
     ]
    },
    {
     "name": "stdout",
     "output_type": "stream",
     "text": [
      "now in row:  859\n"
     ]
    },
    {
     "name": "stderr",
     "output_type": "stream",
     "text": [
      "\r",
      " 52%|████████████████████▍                  | 860/1641 [09:08<11:41,  1.11it/s]"
     ]
    },
    {
     "name": "stdout",
     "output_type": "stream",
     "text": [
      "now in row:  860\n"
     ]
    },
    {
     "name": "stderr",
     "output_type": "stream",
     "text": [
      "\r",
      " 52%|████████████████████▍                  | 861/1641 [09:09<11:40,  1.11it/s]"
     ]
    },
    {
     "name": "stdout",
     "output_type": "stream",
     "text": [
      "now in row:  861\n"
     ]
    },
    {
     "name": "stderr",
     "output_type": "stream",
     "text": [
      "\r",
      " 53%|████████████████████▍                  | 862/1641 [09:10<14:25,  1.11s/it]"
     ]
    },
    {
     "name": "stdout",
     "output_type": "stream",
     "text": [
      "now in row:  862\n"
     ]
    },
    {
     "name": "stderr",
     "output_type": "stream",
     "text": [
      "\r",
      " 53%|████████████████████▌                  | 863/1641 [09:12<14:32,  1.12s/it]"
     ]
    },
    {
     "name": "stdout",
     "output_type": "stream",
     "text": [
      "now in row:  863\n"
     ]
    },
    {
     "name": "stderr",
     "output_type": "stream",
     "text": [
      "\r",
      " 53%|████████████████████▌                  | 864/1641 [09:18<33:22,  2.58s/it]"
     ]
    },
    {
     "name": "stdout",
     "output_type": "stream",
     "text": [
      "now in row:  864\n"
     ]
    },
    {
     "name": "stderr",
     "output_type": "stream",
     "text": [
      "\r",
      " 53%|████████████████████▌                  | 865/1641 [09:18<26:39,  2.06s/it]"
     ]
    },
    {
     "name": "stdout",
     "output_type": "stream",
     "text": [
      "now in row:  865\n"
     ]
    },
    {
     "name": "stderr",
     "output_type": "stream",
     "text": [
      "\r",
      " 53%|████████████████████▌                  | 866/1641 [09:19<21:56,  1.70s/it]"
     ]
    },
    {
     "name": "stdout",
     "output_type": "stream",
     "text": [
      "now in row:  866\n"
     ]
    },
    {
     "name": "stderr",
     "output_type": "stream",
     "text": [
      "\r",
      " 53%|████████████████████▌                  | 867/1641 [09:20<18:34,  1.44s/it]"
     ]
    },
    {
     "name": "stdout",
     "output_type": "stream",
     "text": [
      "now in row:  867\n"
     ]
    },
    {
     "name": "stderr",
     "output_type": "stream",
     "text": [
      "\r",
      " 53%|████████████████████▋                  | 868/1641 [09:21<16:17,  1.26s/it]"
     ]
    },
    {
     "name": "stdout",
     "output_type": "stream",
     "text": [
      "now in row:  868\n"
     ]
    },
    {
     "name": "stderr",
     "output_type": "stream",
     "text": [
      "\r",
      " 53%|████████████████████▋                  | 869/1641 [09:22<14:50,  1.15s/it]"
     ]
    },
    {
     "name": "stdout",
     "output_type": "stream",
     "text": [
      "now in row:  869\n"
     ]
    },
    {
     "name": "stderr",
     "output_type": "stream",
     "text": [
      "\r",
      " 53%|████████████████████▋                  | 870/1641 [09:23<13:37,  1.06s/it]"
     ]
    },
    {
     "name": "stdout",
     "output_type": "stream",
     "text": [
      "now in row:  870\n"
     ]
    },
    {
     "name": "stderr",
     "output_type": "stream",
     "text": [
      "\r",
      " 53%|████████████████████▋                  | 871/1641 [09:24<12:53,  1.00s/it]"
     ]
    },
    {
     "name": "stdout",
     "output_type": "stream",
     "text": [
      "now in row:  871\n"
     ]
    },
    {
     "name": "stderr",
     "output_type": "stream",
     "text": [
      "\r",
      " 53%|████████████████████▋                  | 872/1641 [09:24<12:20,  1.04it/s]"
     ]
    },
    {
     "name": "stdout",
     "output_type": "stream",
     "text": [
      "now in row:  872\n"
     ]
    },
    {
     "name": "stderr",
     "output_type": "stream",
     "text": [
      "\r",
      " 53%|████████████████████▋                  | 873/1641 [09:25<11:56,  1.07it/s]"
     ]
    },
    {
     "name": "stdout",
     "output_type": "stream",
     "text": [
      "now in row:  873\n"
     ]
    },
    {
     "name": "stderr",
     "output_type": "stream",
     "text": [
      "\r",
      " 53%|████████████████████▊                  | 874/1641 [09:26<12:34,  1.02it/s]"
     ]
    },
    {
     "name": "stdout",
     "output_type": "stream",
     "text": [
      "now in row:  874\n"
     ]
    },
    {
     "name": "stderr",
     "output_type": "stream",
     "text": [
      "\r",
      " 53%|████████████████████▊                  | 875/1641 [09:27<12:04,  1.06it/s]"
     ]
    },
    {
     "name": "stdout",
     "output_type": "stream",
     "text": [
      "now in row:  875\n"
     ]
    },
    {
     "name": "stderr",
     "output_type": "stream",
     "text": [
      "\r",
      " 53%|████████████████████▊                  | 876/1641 [09:28<11:46,  1.08it/s]"
     ]
    },
    {
     "name": "stdout",
     "output_type": "stream",
     "text": [
      "now in row:  876\n"
     ]
    },
    {
     "name": "stderr",
     "output_type": "stream",
     "text": [
      "\r",
      " 53%|████████████████████▊                  | 877/1641 [09:30<15:54,  1.25s/it]"
     ]
    },
    {
     "name": "stdout",
     "output_type": "stream",
     "text": [
      "now in row:  877\n"
     ]
    },
    {
     "name": "stderr",
     "output_type": "stream",
     "text": [
      "\r",
      " 54%|████████████████████▊                  | 878/1641 [09:31<14:27,  1.14s/it]"
     ]
    },
    {
     "name": "stdout",
     "output_type": "stream",
     "text": [
      "now in row:  878\n"
     ]
    },
    {
     "name": "stderr",
     "output_type": "stream",
     "text": [
      "\r",
      " 54%|████████████████████▉                  | 879/1641 [09:32<13:55,  1.10s/it]"
     ]
    },
    {
     "name": "stdout",
     "output_type": "stream",
     "text": [
      "now in row:  879\n"
     ]
    },
    {
     "name": "stderr",
     "output_type": "stream",
     "text": [
      "\r",
      " 54%|████████████████████▉                  | 880/1641 [09:33<13:11,  1.04s/it]"
     ]
    },
    {
     "name": "stdout",
     "output_type": "stream",
     "text": [
      "now in row:  880\n"
     ]
    },
    {
     "name": "stderr",
     "output_type": "stream",
     "text": [
      "\r",
      " 54%|████████████████████▉                  | 881/1641 [09:34<12:16,  1.03it/s]"
     ]
    },
    {
     "name": "stdout",
     "output_type": "stream",
     "text": [
      "now in row:  881\n"
     ]
    },
    {
     "name": "stderr",
     "output_type": "stream",
     "text": [
      "\r",
      " 54%|████████████████████▉                  | 882/1641 [09:35<11:43,  1.08it/s]"
     ]
    },
    {
     "name": "stdout",
     "output_type": "stream",
     "text": [
      "now in row:  882\n"
     ]
    },
    {
     "name": "stderr",
     "output_type": "stream",
     "text": [
      "\r",
      " 54%|████████████████████▉                  | 883/1641 [09:35<11:41,  1.08it/s]"
     ]
    },
    {
     "name": "stdout",
     "output_type": "stream",
     "text": [
      "now in row:  883\n"
     ]
    },
    {
     "name": "stderr",
     "output_type": "stream",
     "text": [
      "\r",
      " 54%|█████████████████████                  | 884/1641 [09:36<11:36,  1.09it/s]"
     ]
    },
    {
     "name": "stdout",
     "output_type": "stream",
     "text": [
      "now in row:  884\n"
     ]
    },
    {
     "name": "stderr",
     "output_type": "stream",
     "text": [
      "\r",
      " 54%|█████████████████████                  | 885/1641 [09:37<12:13,  1.03it/s]"
     ]
    },
    {
     "name": "stdout",
     "output_type": "stream",
     "text": [
      "now in row:  885\n"
     ]
    },
    {
     "name": "stderr",
     "output_type": "stream",
     "text": [
      "\r",
      " 54%|█████████████████████                  | 886/1641 [09:38<11:28,  1.10it/s]"
     ]
    },
    {
     "name": "stdout",
     "output_type": "stream",
     "text": [
      "now in row:  886\n"
     ]
    },
    {
     "name": "stderr",
     "output_type": "stream",
     "text": [
      "\r",
      " 54%|█████████████████████                  | 887/1641 [09:39<11:14,  1.12it/s]"
     ]
    },
    {
     "name": "stdout",
     "output_type": "stream",
     "text": [
      "now in row:  887\n"
     ]
    },
    {
     "name": "stderr",
     "output_type": "stream",
     "text": [
      "\r",
      " 54%|█████████████████████                  | 888/1641 [09:40<11:05,  1.13it/s]"
     ]
    },
    {
     "name": "stdout",
     "output_type": "stream",
     "text": [
      "now in row:  888\n"
     ]
    },
    {
     "name": "stderr",
     "output_type": "stream",
     "text": [
      "\r",
      " 54%|█████████████████████▏                 | 889/1641 [09:41<11:38,  1.08it/s]"
     ]
    },
    {
     "name": "stdout",
     "output_type": "stream",
     "text": [
      "now in row:  889\n"
     ]
    },
    {
     "name": "stderr",
     "output_type": "stream",
     "text": [
      "\r",
      " 54%|█████████████████████▏                 | 890/1641 [09:42<11:12,  1.12it/s]"
     ]
    },
    {
     "name": "stdout",
     "output_type": "stream",
     "text": [
      "now in row:  890\n"
     ]
    },
    {
     "name": "stderr",
     "output_type": "stream",
     "text": [
      "\r",
      " 54%|█████████████████████▏                 | 891/1641 [09:43<12:00,  1.04it/s]"
     ]
    },
    {
     "name": "stdout",
     "output_type": "stream",
     "text": [
      "now in row:  891\n"
     ]
    },
    {
     "name": "stderr",
     "output_type": "stream",
     "text": [
      "\r",
      " 54%|█████████████████████▏                 | 892/1641 [09:44<10:59,  1.14it/s]"
     ]
    },
    {
     "name": "stdout",
     "output_type": "stream",
     "text": [
      "now in row:  892\n"
     ]
    },
    {
     "name": "stderr",
     "output_type": "stream",
     "text": [
      "\r",
      " 54%|█████████████████████▏                 | 893/1641 [09:44<10:21,  1.20it/s]"
     ]
    },
    {
     "name": "stdout",
     "output_type": "stream",
     "text": [
      "now in row:  893\n"
     ]
    },
    {
     "name": "stderr",
     "output_type": "stream",
     "text": [
      "\r",
      " 54%|█████████████████████▏                 | 894/1641 [09:45<10:07,  1.23it/s]"
     ]
    },
    {
     "name": "stdout",
     "output_type": "stream",
     "text": [
      "now in row:  894\n"
     ]
    },
    {
     "name": "stderr",
     "output_type": "stream",
     "text": [
      "\r",
      " 55%|█████████████████████▎                 | 895/1641 [09:46<10:32,  1.18it/s]"
     ]
    },
    {
     "name": "stdout",
     "output_type": "stream",
     "text": [
      "now in row:  895\n"
     ]
    },
    {
     "name": "stderr",
     "output_type": "stream",
     "text": [
      "\r",
      " 55%|█████████████████████▎                 | 896/1641 [09:48<16:32,  1.33s/it]"
     ]
    },
    {
     "name": "stdout",
     "output_type": "stream",
     "text": [
      "now in row:  896\n"
     ]
    },
    {
     "name": "stderr",
     "output_type": "stream",
     "text": [
      "\r",
      " 55%|█████████████████████▎                 | 897/1641 [09:49<14:19,  1.15s/it]"
     ]
    },
    {
     "name": "stdout",
     "output_type": "stream",
     "text": [
      "now in row:  897\n"
     ]
    },
    {
     "name": "stderr",
     "output_type": "stream",
     "text": [
      "\r",
      " 55%|█████████████████████▎                 | 898/1641 [09:50<14:00,  1.13s/it]"
     ]
    },
    {
     "name": "stdout",
     "output_type": "stream",
     "text": [
      "now in row:  898\n"
     ]
    },
    {
     "name": "stderr",
     "output_type": "stream",
     "text": [
      "\r",
      " 55%|█████████████████████▎                 | 899/1641 [09:51<13:40,  1.11s/it]"
     ]
    },
    {
     "name": "stdout",
     "output_type": "stream",
     "text": [
      "now in row:  899\n"
     ]
    },
    {
     "name": "stderr",
     "output_type": "stream",
     "text": [
      "\r",
      " 55%|█████████████████████▍                 | 900/1641 [09:52<13:50,  1.12s/it]"
     ]
    },
    {
     "name": "stdout",
     "output_type": "stream",
     "text": [
      "now in row:  900\n"
     ]
    },
    {
     "name": "stderr",
     "output_type": "stream",
     "text": [
      "\r",
      " 55%|█████████████████████▍                 | 901/1641 [09:53<13:17,  1.08s/it]"
     ]
    },
    {
     "name": "stdout",
     "output_type": "stream",
     "text": [
      "now in row:  901\n"
     ]
    },
    {
     "name": "stderr",
     "output_type": "stream",
     "text": [
      "\r",
      " 55%|█████████████████████▍                 | 902/1641 [09:54<13:03,  1.06s/it]"
     ]
    },
    {
     "name": "stdout",
     "output_type": "stream",
     "text": [
      "now in row:  902\n"
     ]
    },
    {
     "name": "stderr",
     "output_type": "stream",
     "text": [
      "\r",
      " 55%|█████████████████████▍                 | 903/1641 [09:56<13:29,  1.10s/it]"
     ]
    },
    {
     "name": "stdout",
     "output_type": "stream",
     "text": [
      "now in row:  903\n"
     ]
    },
    {
     "name": "stderr",
     "output_type": "stream",
     "text": [
      "\r",
      " 55%|█████████████████████▍                 | 904/1641 [09:57<14:49,  1.21s/it]"
     ]
    },
    {
     "name": "stdout",
     "output_type": "stream",
     "text": [
      "now in row:  904\n"
     ]
    },
    {
     "name": "stderr",
     "output_type": "stream",
     "text": [
      "\r",
      " 55%|█████████████████████▌                 | 905/1641 [09:59<15:57,  1.30s/it]"
     ]
    },
    {
     "name": "stdout",
     "output_type": "stream",
     "text": [
      "now in row:  905\n"
     ]
    },
    {
     "name": "stderr",
     "output_type": "stream",
     "text": [
      "\r",
      " 55%|█████████████████████▌                 | 906/1641 [10:00<15:19,  1.25s/it]"
     ]
    },
    {
     "name": "stdout",
     "output_type": "stream",
     "text": [
      "now in row:  906\n"
     ]
    },
    {
     "name": "stderr",
     "output_type": "stream",
     "text": [
      "\r",
      " 55%|█████████████████████▌                 | 907/1641 [10:01<15:20,  1.25s/it]"
     ]
    },
    {
     "name": "stdout",
     "output_type": "stream",
     "text": [
      "now in row:  907\n"
     ]
    },
    {
     "name": "stderr",
     "output_type": "stream",
     "text": [
      "\r",
      " 55%|█████████████████████▌                 | 908/1641 [10:05<25:45,  2.11s/it]"
     ]
    },
    {
     "name": "stdout",
     "output_type": "stream",
     "text": [
      "now in row:  908\n"
     ]
    },
    {
     "name": "stderr",
     "output_type": "stream",
     "text": [
      "\r",
      " 55%|█████████████████████▌                 | 909/1641 [10:06<20:41,  1.70s/it]"
     ]
    },
    {
     "name": "stdout",
     "output_type": "stream",
     "text": [
      "now in row:  909\n"
     ]
    },
    {
     "name": "stderr",
     "output_type": "stream",
     "text": [
      "\r",
      " 55%|█████████████████████▋                 | 910/1641 [10:07<18:24,  1.51s/it]"
     ]
    },
    {
     "name": "stdout",
     "output_type": "stream",
     "text": [
      "now in row:  910\n"
     ]
    },
    {
     "name": "stderr",
     "output_type": "stream",
     "text": [
      "\r",
      " 56%|█████████████████████▋                 | 911/1641 [10:08<16:38,  1.37s/it]"
     ]
    },
    {
     "name": "stdout",
     "output_type": "stream",
     "text": [
      "now in row:  911\n"
     ]
    },
    {
     "name": "stderr",
     "output_type": "stream",
     "text": [
      "\r",
      " 56%|█████████████████████▋                 | 912/1641 [10:09<15:44,  1.30s/it]"
     ]
    },
    {
     "name": "stdout",
     "output_type": "stream",
     "text": [
      "now in row:  912\n"
     ]
    },
    {
     "name": "stderr",
     "output_type": "stream",
     "text": [
      "\r",
      " 56%|█████████████████████▋                 | 913/1641 [10:11<16:52,  1.39s/it]"
     ]
    },
    {
     "name": "stdout",
     "output_type": "stream",
     "text": [
      "now in row:  913\n"
     ]
    },
    {
     "name": "stderr",
     "output_type": "stream",
     "text": [
      "\r",
      " 56%|█████████████████████▋                 | 914/1641 [10:12<15:36,  1.29s/it]"
     ]
    },
    {
     "name": "stdout",
     "output_type": "stream",
     "text": [
      "now in row:  914\n"
     ]
    },
    {
     "name": "stderr",
     "output_type": "stream",
     "text": [
      "\r",
      " 56%|█████████████████████▋                 | 915/1641 [10:13<16:02,  1.33s/it]"
     ]
    },
    {
     "name": "stdout",
     "output_type": "stream",
     "text": [
      "now in row:  915\n"
     ]
    },
    {
     "name": "stderr",
     "output_type": "stream",
     "text": [
      "\r",
      " 56%|█████████████████████▊                 | 916/1641 [10:15<16:18,  1.35s/it]"
     ]
    },
    {
     "name": "stdout",
     "output_type": "stream",
     "text": [
      "now in row:  916\n"
     ]
    },
    {
     "name": "stderr",
     "output_type": "stream",
     "text": [
      "\r",
      " 56%|█████████████████████▊                 | 917/1641 [10:16<17:33,  1.46s/it]"
     ]
    },
    {
     "name": "stdout",
     "output_type": "stream",
     "text": [
      "now in row:  917\n"
     ]
    },
    {
     "name": "stderr",
     "output_type": "stream",
     "text": [
      "\r",
      " 56%|█████████████████████▊                 | 918/1641 [10:17<15:44,  1.31s/it]"
     ]
    },
    {
     "name": "stdout",
     "output_type": "stream",
     "text": [
      "now in row:  918\n"
     ]
    },
    {
     "name": "stderr",
     "output_type": "stream",
     "text": [
      "\r",
      " 56%|█████████████████████▊                 | 919/1641 [10:18<15:21,  1.28s/it]"
     ]
    },
    {
     "name": "stdout",
     "output_type": "stream",
     "text": [
      "now in row:  919\n"
     ]
    },
    {
     "name": "stderr",
     "output_type": "stream",
     "text": [
      "\r",
      " 56%|█████████████████████▊                 | 920/1641 [10:20<17:42,  1.47s/it]"
     ]
    },
    {
     "name": "stdout",
     "output_type": "stream",
     "text": [
      "now in row:  920\n"
     ]
    },
    {
     "name": "stderr",
     "output_type": "stream",
     "text": [
      "\r",
      " 56%|█████████████████████▉                 | 921/1641 [10:21<15:02,  1.25s/it]"
     ]
    },
    {
     "name": "stdout",
     "output_type": "stream",
     "text": [
      "now in row:  921\n"
     ]
    },
    {
     "name": "stderr",
     "output_type": "stream",
     "text": [
      "\r",
      " 56%|█████████████████████▉                 | 922/1641 [10:22<13:52,  1.16s/it]"
     ]
    },
    {
     "name": "stdout",
     "output_type": "stream",
     "text": [
      "now in row:  922\n"
     ]
    },
    {
     "name": "stderr",
     "output_type": "stream",
     "text": [
      "\r",
      " 56%|█████████████████████▉                 | 923/1641 [10:23<12:22,  1.03s/it]"
     ]
    },
    {
     "name": "stdout",
     "output_type": "stream",
     "text": [
      "now in row:  923\n"
     ]
    },
    {
     "name": "stderr",
     "output_type": "stream",
     "text": [
      "\r",
      " 56%|█████████████████████▉                 | 924/1641 [10:24<11:29,  1.04it/s]"
     ]
    },
    {
     "name": "stdout",
     "output_type": "stream",
     "text": [
      "now in row:  924\n"
     ]
    },
    {
     "name": "stderr",
     "output_type": "stream",
     "text": [
      "\r",
      " 56%|█████████████████████▉                 | 925/1641 [10:24<11:09,  1.07it/s]"
     ]
    },
    {
     "name": "stdout",
     "output_type": "stream",
     "text": [
      "now in row:  925\n"
     ]
    },
    {
     "name": "stderr",
     "output_type": "stream",
     "text": [
      "\r",
      " 56%|██████████████████████                 | 926/1641 [10:25<10:31,  1.13it/s]"
     ]
    },
    {
     "name": "stdout",
     "output_type": "stream",
     "text": [
      "now in row:  926\n"
     ]
    },
    {
     "name": "stderr",
     "output_type": "stream",
     "text": [
      "\r",
      " 56%|██████████████████████                 | 927/1641 [10:27<13:06,  1.10s/it]"
     ]
    },
    {
     "name": "stdout",
     "output_type": "stream",
     "text": [
      "now in row:  927\n"
     ]
    },
    {
     "name": "stderr",
     "output_type": "stream",
     "text": [
      "\r",
      " 57%|██████████████████████                 | 928/1641 [10:29<16:22,  1.38s/it]"
     ]
    },
    {
     "name": "stdout",
     "output_type": "stream",
     "text": [
      "now in row:  928\n"
     ]
    },
    {
     "name": "stderr",
     "output_type": "stream",
     "text": [
      "\r",
      " 57%|██████████████████████                 | 929/1641 [10:31<17:37,  1.49s/it]"
     ]
    },
    {
     "name": "stdout",
     "output_type": "stream",
     "text": [
      "now in row:  929\n"
     ]
    },
    {
     "name": "stderr",
     "output_type": "stream",
     "text": [
      "\r",
      " 57%|██████████████████████                 | 930/1641 [10:31<14:59,  1.26s/it]"
     ]
    },
    {
     "name": "stdout",
     "output_type": "stream",
     "text": [
      "now in row:  930\n"
     ]
    },
    {
     "name": "stderr",
     "output_type": "stream",
     "text": [
      "\r",
      " 57%|██████████████████████▏                | 931/1641 [10:33<16:49,  1.42s/it]"
     ]
    },
    {
     "name": "stdout",
     "output_type": "stream",
     "text": [
      "now in row:  931\n"
     ]
    },
    {
     "name": "stderr",
     "output_type": "stream",
     "text": [
      "\r",
      " 57%|██████████████████████▏                | 932/1641 [10:35<18:12,  1.54s/it]"
     ]
    },
    {
     "name": "stdout",
     "output_type": "stream",
     "text": [
      "now in row:  932\n"
     ]
    },
    {
     "name": "stderr",
     "output_type": "stream",
     "text": [
      "\r",
      " 57%|██████████████████████▏                | 933/1641 [10:37<19:04,  1.62s/it]"
     ]
    },
    {
     "name": "stdout",
     "output_type": "stream",
     "text": [
      "now in row:  933\n"
     ]
    },
    {
     "name": "stderr",
     "output_type": "stream",
     "text": [
      "\r",
      " 57%|██████████████████████▏                | 934/1641 [10:40<24:17,  2.06s/it]"
     ]
    },
    {
     "name": "stdout",
     "output_type": "stream",
     "text": [
      "now in row:  934\n"
     ]
    },
    {
     "name": "stderr",
     "output_type": "stream",
     "text": [
      "\r",
      " 57%|██████████████████████▏                | 935/1641 [10:42<23:28,  1.99s/it]"
     ]
    },
    {
     "name": "stdout",
     "output_type": "stream",
     "text": [
      "now in row:  935\n"
     ]
    },
    {
     "name": "stderr",
     "output_type": "stream",
     "text": [
      "\r",
      " 57%|██████████████████████▏                | 936/1641 [10:44<23:47,  2.02s/it]"
     ]
    },
    {
     "name": "stdout",
     "output_type": "stream",
     "text": [
      "now in row:  936\n"
     ]
    },
    {
     "name": "stderr",
     "output_type": "stream",
     "text": [
      "\r",
      " 57%|██████████████████████▎                | 937/1641 [10:50<36:54,  3.15s/it]"
     ]
    },
    {
     "name": "stdout",
     "output_type": "stream",
     "text": [
      "now in row:  937\n"
     ]
    },
    {
     "name": "stderr",
     "output_type": "stream",
     "text": [
      "\r",
      " 57%|██████████████████████▎                | 938/1641 [10:50<28:41,  2.45s/it]"
     ]
    },
    {
     "name": "stdout",
     "output_type": "stream",
     "text": [
      "now in row:  938\n"
     ]
    },
    {
     "name": "stderr",
     "output_type": "stream",
     "text": [
      "\r",
      " 57%|██████████████████████▎                | 939/1641 [10:56<39:48,  3.40s/it]"
     ]
    },
    {
     "name": "stdout",
     "output_type": "stream",
     "text": [
      "now in row:  939\n"
     ]
    },
    {
     "name": "stderr",
     "output_type": "stream",
     "text": [
      "\r",
      " 57%|██████████████████████▎                | 940/1641 [11:00<41:05,  3.52s/it]"
     ]
    },
    {
     "name": "stdout",
     "output_type": "stream",
     "text": [
      "now in row:  940\n"
     ]
    },
    {
     "name": "stderr",
     "output_type": "stream",
     "text": [
      "\r",
      " 57%|██████████████████████▎                | 941/1641 [11:02<35:45,  3.06s/it]"
     ]
    },
    {
     "name": "stdout",
     "output_type": "stream",
     "text": [
      "now in row:  941\n"
     ]
    },
    {
     "name": "stderr",
     "output_type": "stream",
     "text": [
      "\r",
      " 57%|██████████████████████▍                | 942/1641 [11:03<28:03,  2.41s/it]"
     ]
    },
    {
     "name": "stdout",
     "output_type": "stream",
     "text": [
      "now in row:  942\n"
     ]
    },
    {
     "name": "stderr",
     "output_type": "stream",
     "text": [
      "\r",
      " 57%|██████████████████████▍                | 943/1641 [11:04<22:42,  1.95s/it]"
     ]
    },
    {
     "name": "stdout",
     "output_type": "stream",
     "text": [
      "now in row:  943\n"
     ]
    },
    {
     "name": "stderr",
     "output_type": "stream",
     "text": [
      "\r",
      " 58%|██████████████████████▍                | 944/1641 [11:05<21:25,  1.84s/it]"
     ]
    },
    {
     "name": "stdout",
     "output_type": "stream",
     "text": [
      "now in row:  944\n"
     ]
    },
    {
     "name": "stderr",
     "output_type": "stream",
     "text": [
      "\r",
      " 58%|██████████████████████▍                | 945/1641 [11:07<20:44,  1.79s/it]"
     ]
    },
    {
     "name": "stdout",
     "output_type": "stream",
     "text": [
      "now in row:  945\n"
     ]
    },
    {
     "name": "stderr",
     "output_type": "stream",
     "text": [
      "\r",
      " 58%|██████████████████████▍                | 946/1641 [11:08<20:14,  1.75s/it]"
     ]
    },
    {
     "name": "stdout",
     "output_type": "stream",
     "text": [
      "now in row:  946\n"
     ]
    },
    {
     "name": "stderr",
     "output_type": "stream",
     "text": [
      "\r",
      " 58%|██████████████████████▌                | 947/1641 [11:10<19:44,  1.71s/it]"
     ]
    },
    {
     "name": "stdout",
     "output_type": "stream",
     "text": [
      "now in row:  947\n"
     ]
    },
    {
     "name": "stderr",
     "output_type": "stream",
     "text": [
      "\r",
      " 58%|██████████████████████▌                | 948/1641 [11:12<19:47,  1.71s/it]"
     ]
    },
    {
     "name": "stdout",
     "output_type": "stream",
     "text": [
      "now in row:  948\n"
     ]
    },
    {
     "name": "stderr",
     "output_type": "stream",
     "text": [
      "\r",
      " 58%|██████████████████████▌                | 949/1641 [11:14<20:22,  1.77s/it]"
     ]
    },
    {
     "name": "stdout",
     "output_type": "stream",
     "text": [
      "now in row:  949\n"
     ]
    },
    {
     "name": "stderr",
     "output_type": "stream",
     "text": [
      "\r",
      " 58%|██████████████████████▌                | 950/1641 [11:14<16:53,  1.47s/it]"
     ]
    },
    {
     "name": "stdout",
     "output_type": "stream",
     "text": [
      "now in row:  950\n"
     ]
    },
    {
     "name": "stderr",
     "output_type": "stream",
     "text": [
      "\r",
      " 58%|██████████████████████▌                | 951/1641 [11:15<14:25,  1.25s/it]"
     ]
    },
    {
     "name": "stdout",
     "output_type": "stream",
     "text": [
      "now in row:  951\n"
     ]
    },
    {
     "name": "stderr",
     "output_type": "stream",
     "text": [
      "\r",
      " 58%|██████████████████████▋                | 952/1641 [11:17<16:25,  1.43s/it]"
     ]
    },
    {
     "name": "stdout",
     "output_type": "stream",
     "text": [
      "now in row:  952\n"
     ]
    },
    {
     "name": "stderr",
     "output_type": "stream",
     "text": [
      "\r",
      " 58%|██████████████████████▋                | 953/1641 [11:18<14:23,  1.26s/it]"
     ]
    },
    {
     "name": "stdout",
     "output_type": "stream",
     "text": [
      "now in row:  953\n"
     ]
    },
    {
     "name": "stderr",
     "output_type": "stream",
     "text": [
      "\r",
      " 58%|██████████████████████▋                | 954/1641 [11:19<13:30,  1.18s/it]"
     ]
    },
    {
     "name": "stdout",
     "output_type": "stream",
     "text": [
      "now in row:  954\n"
     ]
    },
    {
     "name": "stderr",
     "output_type": "stream",
     "text": [
      "\r",
      " 58%|██████████████████████▋                | 955/1641 [11:20<12:39,  1.11s/it]"
     ]
    },
    {
     "name": "stdout",
     "output_type": "stream",
     "text": [
      "now in row:  955\n"
     ]
    },
    {
     "name": "stderr",
     "output_type": "stream",
     "text": [
      "\r",
      " 58%|██████████████████████▋                | 956/1641 [11:26<30:15,  2.65s/it]"
     ]
    },
    {
     "name": "stdout",
     "output_type": "stream",
     "text": [
      "now in row:  956\n"
     ]
    },
    {
     "name": "stderr",
     "output_type": "stream",
     "text": [
      "\r",
      " 58%|██████████████████████▋                | 957/1641 [11:28<28:01,  2.46s/it]"
     ]
    },
    {
     "name": "stdout",
     "output_type": "stream",
     "text": [
      "now in row:  957\n"
     ]
    },
    {
     "name": "stderr",
     "output_type": "stream",
     "text": [
      "\r",
      " 58%|██████████████████████▊                | 958/1641 [11:35<43:14,  3.80s/it]"
     ]
    },
    {
     "name": "stdout",
     "output_type": "stream",
     "text": [
      "now in row:  958\n"
     ]
    },
    {
     "name": "stderr",
     "output_type": "stream",
     "text": [
      "\r",
      " 58%|██████████████████████▊                | 959/1641 [11:37<36:26,  3.21s/it]"
     ]
    },
    {
     "name": "stdout",
     "output_type": "stream",
     "text": [
      "now in row:  959\n"
     ]
    },
    {
     "name": "stderr",
     "output_type": "stream",
     "text": [
      "\r",
      " 59%|██████████████████████▊                | 960/1641 [11:38<28:42,  2.53s/it]"
     ]
    },
    {
     "name": "stdout",
     "output_type": "stream",
     "text": [
      "now in row:  960\n"
     ]
    },
    {
     "name": "stderr",
     "output_type": "stream",
     "text": [
      "\r",
      " 59%|██████████████████████▊                | 961/1641 [11:39<22:46,  2.01s/it]"
     ]
    },
    {
     "name": "stdout",
     "output_type": "stream",
     "text": [
      "now in row:  961\n"
     ]
    },
    {
     "name": "stderr",
     "output_type": "stream",
     "text": [
      "\r",
      " 59%|██████████████████████▊                | 962/1641 [11:39<18:42,  1.65s/it]"
     ]
    },
    {
     "name": "stdout",
     "output_type": "stream",
     "text": [
      "now in row:  962\n"
     ]
    },
    {
     "name": "stderr",
     "output_type": "stream",
     "text": [
      "\r",
      " 59%|██████████████████████▉                | 963/1641 [11:41<17:40,  1.56s/it]"
     ]
    },
    {
     "name": "stdout",
     "output_type": "stream",
     "text": [
      "now in row:  963\n"
     ]
    },
    {
     "name": "stderr",
     "output_type": "stream",
     "text": [
      "\r",
      " 59%|██████████████████████▉                | 964/1641 [11:42<17:54,  1.59s/it]"
     ]
    },
    {
     "name": "stdout",
     "output_type": "stream",
     "text": [
      "now in row:  964\n"
     ]
    },
    {
     "name": "stderr",
     "output_type": "stream",
     "text": [
      "\r",
      " 59%|██████████████████████▉                | 965/1641 [11:43<15:16,  1.36s/it]"
     ]
    },
    {
     "name": "stdout",
     "output_type": "stream",
     "text": [
      "now in row:  965\n"
     ]
    },
    {
     "name": "stderr",
     "output_type": "stream",
     "text": [
      "\r",
      " 59%|██████████████████████▉                | 966/1641 [11:44<14:04,  1.25s/it]"
     ]
    },
    {
     "name": "stdout",
     "output_type": "stream",
     "text": [
      "now in row:  966\n"
     ]
    },
    {
     "name": "stderr",
     "output_type": "stream",
     "text": [
      "\r",
      " 59%|██████████████████████▉                | 967/1641 [11:45<12:40,  1.13s/it]"
     ]
    },
    {
     "name": "stdout",
     "output_type": "stream",
     "text": [
      "now in row:  967\n"
     ]
    },
    {
     "name": "stderr",
     "output_type": "stream",
     "text": [
      "\r",
      " 59%|███████████████████████                | 968/1641 [11:46<13:14,  1.18s/it]"
     ]
    },
    {
     "name": "stdout",
     "output_type": "stream",
     "text": [
      "now in row:  968\n"
     ]
    },
    {
     "name": "stderr",
     "output_type": "stream",
     "text": [
      "\r",
      " 59%|███████████████████████                | 969/1641 [11:51<24:02,  2.15s/it]"
     ]
    },
    {
     "name": "stdout",
     "output_type": "stream",
     "text": [
      "now in row:  969\n"
     ]
    },
    {
     "name": "stderr",
     "output_type": "stream",
     "text": [
      "\r",
      " 59%|███████████████████████                | 970/1641 [11:52<20:37,  1.84s/it]"
     ]
    },
    {
     "name": "stdout",
     "output_type": "stream",
     "text": [
      "now in row:  970\n"
     ]
    },
    {
     "name": "stderr",
     "output_type": "stream",
     "text": [
      "\r",
      " 59%|███████████████████████                | 971/1641 [11:53<17:36,  1.58s/it]"
     ]
    },
    {
     "name": "stdout",
     "output_type": "stream",
     "text": [
      "now in row:  971\n"
     ]
    },
    {
     "name": "stderr",
     "output_type": "stream",
     "text": [
      "\r",
      " 59%|███████████████████████                | 972/1641 [11:55<19:39,  1.76s/it]"
     ]
    },
    {
     "name": "stdout",
     "output_type": "stream",
     "text": [
      "now in row:  972\n"
     ]
    },
    {
     "name": "stderr",
     "output_type": "stream",
     "text": [
      "\r",
      " 59%|███████████████████████                | 973/1641 [11:56<17:21,  1.56s/it]"
     ]
    },
    {
     "name": "stdout",
     "output_type": "stream",
     "text": [
      "now in row:  973\n"
     ]
    },
    {
     "name": "stderr",
     "output_type": "stream",
     "text": [
      "\r",
      " 59%|███████████████████████▏               | 974/1641 [11:57<15:09,  1.36s/it]"
     ]
    },
    {
     "name": "stdout",
     "output_type": "stream",
     "text": [
      "now in row:  974\n"
     ]
    },
    {
     "name": "stderr",
     "output_type": "stream",
     "text": [
      "\r",
      " 59%|███████████████████████▏               | 975/1641 [11:58<13:13,  1.19s/it]"
     ]
    },
    {
     "name": "stdout",
     "output_type": "stream",
     "text": [
      "now in row:  975\n"
     ]
    },
    {
     "name": "stderr",
     "output_type": "stream",
     "text": [
      "\r",
      " 59%|███████████████████████▏               | 976/1641 [11:59<13:24,  1.21s/it]"
     ]
    },
    {
     "name": "stdout",
     "output_type": "stream",
     "text": [
      "now in row:  976\n"
     ]
    },
    {
     "name": "stderr",
     "output_type": "stream",
     "text": [
      "\r",
      " 60%|███████████████████████▏               | 977/1641 [12:00<12:10,  1.10s/it]"
     ]
    },
    {
     "name": "stdout",
     "output_type": "stream",
     "text": [
      "now in row:  977\n"
     ]
    },
    {
     "name": "stderr",
     "output_type": "stream",
     "text": [
      "\r",
      " 60%|███████████████████████▏               | 978/1641 [12:01<12:12,  1.10s/it]"
     ]
    },
    {
     "name": "stdout",
     "output_type": "stream",
     "text": [
      "now in row:  978\n"
     ]
    },
    {
     "name": "stderr",
     "output_type": "stream",
     "text": [
      "\r",
      " 60%|███████████████████████▎               | 979/1641 [12:02<11:15,  1.02s/it]"
     ]
    },
    {
     "name": "stdout",
     "output_type": "stream",
     "text": [
      "now in row:  979\n"
     ]
    },
    {
     "name": "stderr",
     "output_type": "stream",
     "text": [
      "\r",
      " 60%|███████████████████████▎               | 980/1641 [12:03<11:29,  1.04s/it]"
     ]
    },
    {
     "name": "stdout",
     "output_type": "stream",
     "text": [
      "now in row:  980\n"
     ]
    },
    {
     "name": "stderr",
     "output_type": "stream",
     "text": [
      "\r",
      " 60%|███████████████████████▎               | 981/1641 [12:04<11:09,  1.01s/it]"
     ]
    },
    {
     "name": "stdout",
     "output_type": "stream",
     "text": [
      "now in row:  981\n"
     ]
    },
    {
     "name": "stderr",
     "output_type": "stream",
     "text": [
      "\r",
      " 60%|███████████████████████▎               | 982/1641 [12:05<11:12,  1.02s/it]"
     ]
    },
    {
     "name": "stdout",
     "output_type": "stream",
     "text": [
      "now in row:  982\n"
     ]
    },
    {
     "name": "stderr",
     "output_type": "stream",
     "text": [
      "\r",
      " 60%|███████████████████████▎               | 983/1641 [12:06<12:08,  1.11s/it]"
     ]
    },
    {
     "name": "stdout",
     "output_type": "stream",
     "text": [
      "now in row:  983\n"
     ]
    },
    {
     "name": "stderr",
     "output_type": "stream",
     "text": [
      "\r",
      " 60%|███████████████████████▍               | 984/1641 [12:07<11:11,  1.02s/it]"
     ]
    },
    {
     "name": "stdout",
     "output_type": "stream",
     "text": [
      "now in row:  984\n"
     ]
    },
    {
     "name": "stderr",
     "output_type": "stream",
     "text": [
      "\r",
      " 60%|███████████████████████▍               | 985/1641 [12:08<10:39,  1.03it/s]"
     ]
    },
    {
     "name": "stdout",
     "output_type": "stream",
     "text": [
      "now in row:  985\n"
     ]
    },
    {
     "name": "stderr",
     "output_type": "stream",
     "text": [
      "\r",
      " 60%|███████████████████████▍               | 986/1641 [12:09<10:43,  1.02it/s]"
     ]
    },
    {
     "name": "stdout",
     "output_type": "stream",
     "text": [
      "now in row:  986\n"
     ]
    },
    {
     "name": "stderr",
     "output_type": "stream",
     "text": [
      "\r",
      " 60%|███████████████████████▍               | 987/1641 [12:10<11:13,  1.03s/it]"
     ]
    },
    {
     "name": "stdout",
     "output_type": "stream",
     "text": [
      "now in row:  987\n"
     ]
    },
    {
     "name": "stderr",
     "output_type": "stream",
     "text": [
      "\r",
      " 60%|███████████████████████▍               | 988/1641 [12:11<11:17,  1.04s/it]"
     ]
    },
    {
     "name": "stdout",
     "output_type": "stream",
     "text": [
      "now in row:  988\n"
     ]
    },
    {
     "name": "stderr",
     "output_type": "stream",
     "text": [
      "\r",
      " 60%|███████████████████████▌               | 989/1641 [12:12<11:05,  1.02s/it]"
     ]
    },
    {
     "name": "stdout",
     "output_type": "stream",
     "text": [
      "now in row:  989\n"
     ]
    },
    {
     "name": "stderr",
     "output_type": "stream",
     "text": [
      "\r",
      " 60%|███████████████████████▌               | 990/1641 [12:13<10:29,  1.03it/s]"
     ]
    },
    {
     "name": "stdout",
     "output_type": "stream",
     "text": [
      "now in row:  990\n"
     ]
    },
    {
     "name": "stderr",
     "output_type": "stream",
     "text": [
      "\r",
      " 60%|███████████████████████▌               | 991/1641 [12:14<09:56,  1.09it/s]"
     ]
    },
    {
     "name": "stdout",
     "output_type": "stream",
     "text": [
      "now in row:  991\n"
     ]
    },
    {
     "name": "stderr",
     "output_type": "stream",
     "text": [
      "\r",
      " 60%|███████████████████████▌               | 992/1641 [12:16<12:47,  1.18s/it]"
     ]
    },
    {
     "name": "stdout",
     "output_type": "stream",
     "text": [
      "now in row:  992\n"
     ]
    },
    {
     "name": "stderr",
     "output_type": "stream",
     "text": [
      "\r",
      " 61%|███████████████████████▌               | 993/1641 [12:17<12:30,  1.16s/it]"
     ]
    },
    {
     "name": "stdout",
     "output_type": "stream",
     "text": [
      "now in row:  993\n"
     ]
    },
    {
     "name": "stderr",
     "output_type": "stream",
     "text": [
      "\r",
      " 61%|███████████████████████▌               | 994/1641 [12:18<12:33,  1.16s/it]"
     ]
    },
    {
     "name": "stdout",
     "output_type": "stream",
     "text": [
      "now in row:  994\n"
     ]
    },
    {
     "name": "stderr",
     "output_type": "stream",
     "text": [
      "\r",
      " 61%|███████████████████████▋               | 995/1641 [12:19<12:16,  1.14s/it]"
     ]
    },
    {
     "name": "stdout",
     "output_type": "stream",
     "text": [
      "now in row:  995\n"
     ]
    },
    {
     "name": "stderr",
     "output_type": "stream",
     "text": [
      "\r",
      " 61%|███████████████████████▋               | 996/1641 [12:20<12:17,  1.14s/it]"
     ]
    },
    {
     "name": "stdout",
     "output_type": "stream",
     "text": [
      "now in row:  996\n"
     ]
    },
    {
     "name": "stderr",
     "output_type": "stream",
     "text": [
      "\r",
      " 61%|███████████████████████▋               | 997/1641 [12:21<11:09,  1.04s/it]"
     ]
    },
    {
     "name": "stdout",
     "output_type": "stream",
     "text": [
      "now in row:  997\n"
     ]
    },
    {
     "name": "stderr",
     "output_type": "stream",
     "text": [
      "\r",
      " 61%|███████████████████████▋               | 998/1641 [12:22<12:10,  1.14s/it]"
     ]
    },
    {
     "name": "stdout",
     "output_type": "stream",
     "text": [
      "now in row:  998\n"
     ]
    },
    {
     "name": "stderr",
     "output_type": "stream",
     "text": [
      "\r",
      " 61%|███████████████████████▋               | 999/1641 [12:23<11:21,  1.06s/it]"
     ]
    },
    {
     "name": "stdout",
     "output_type": "stream",
     "text": [
      "now in row:  999\n"
     ]
    },
    {
     "name": "stderr",
     "output_type": "stream",
     "text": [
      "\r",
      " 61%|███████████████████████▏              | 1000/1641 [12:25<12:29,  1.17s/it]"
     ]
    },
    {
     "name": "stdout",
     "output_type": "stream",
     "text": [
      "now in row:  1000\n"
     ]
    }
   ],
   "source": [
    "def get_detail(df, x, y):\n",
    "    for (idx, r) in tqdm(df.iterrows(), total=len(df)):      \n",
    "        if idx >= x:\n",
    "            url = r['year_url'] \n",
    "            print('now in row: ', idx)\n",
    "            data_onepage = get_onePage(url, r)\n",
    "            _ = store_onePage(idx, data_onepage)\n",
    "            if idx >=y:\n",
    "                break\n",
    "    return      \n",
    "        \n",
    "df_detail = get_detail(df_years, 501, 1000)      "
   ]
  },
  {
   "cell_type": "code",
   "execution_count": 21,
   "metadata": {},
   "outputs": [
    {
     "data": {
      "text/plain": [
       "[('Final Appeal (Civil)',\n",
       "  '2011',\n",
       "  \"\\\\'https://legalref.judiciary.hk/lrs/images/ThemeXP/Epage.gif\\\\'\",\n",
       "  'FACV1/2011',\n",
       "  'https://legalref.judiciary.hk/lrs/common/ju/ju_frame.jsp?DIS=79800',\n",
       "  '(06/01/2012)',\n",
       "  'THE CATHOLIC DIOCESE OF HONG KONG ALSO KNOWN AS THE BISHOP OF THE ROMAN CATHOLIC CHURCH IN HONG KONG INCORPORATION  v. SECRETARY FOR JUSTICE \\xa0'),\n",
       " ('Final Appeal (Civil)',\n",
       "  '2011',\n",
       "  \"\\\\'https://legalref.judiciary.hk/lrs/images/ThemeXP/Epage.gif\\\\'\",\n",
       "  'FACV1/2011',\n",
       "  'https://legalref.judiciary.hk/lrs/common/ju/ju_frame.jsp?DIS=78563',\n",
       "  '(13/10/2011)',\n",
       "  'THE CATHOLIC DIOCESE OF HONG KONG ALSO KNOWN AS THE BISHOP OF THE ROMAN CATHOLIC CHURCH IN HONG KONG INCORPORATION v. SECRETARY FOR JUSTICE \\xa0Reported in :(2011) 14 HKCFAR 754'),\n",
       " ('Final Appeal (Civil)',\n",
       "  '2011',\n",
       "  \"\\\\'https://legalref.judiciary.hk/lrs/images/ThemeXP/ETpage.gif\\\\'\",\n",
       "  'FACV2/2011',\n",
       "  'https://legalref.judiciary.hk/lrs/common/ju/ju_frame.jsp?DIS=79162',\n",
       "  '(23/11/2011)',\n",
       "  'WEALTH DUKE LTD AND OTHERS v. BANK OF CHINA (HONG KONG) LTD \\xa0Reported in :(2011) 14 HKCFAR 863'),\n",
       " ('Final Appeal (Civil)',\n",
       "  '2011',\n",
       "  \"\\\\'https://legalref.judiciary.hk/lrs/images/ThemeXP/Epage.gif\\\\'\",\n",
       "  'FACV3/2011',\n",
       "  'https://legalref.judiciary.hk/lrs/common/ju/ju_frame.jsp?DIS=81811',\n",
       "  '(24/05/2012)',\n",
       "  'THE LIQUIDATOR OF WING FAI CONSTRUCTION CO LTD (IN COMPULSORY LIQUIDATION) v. YIP KWONG ROBERT \\xa0Reported in :(2012) 15 HKCFAR 454'),\n",
       " ('Final Appeal (Civil)',\n",
       "  '2011',\n",
       "  \"\\\\'https://legalref.judiciary.hk/lrs/images/ThemeXP/Epage.gif\\\\'\",\n",
       "  'FACV3/2011',\n",
       "  'https://legalref.judiciary.hk/lrs/common/ju/ju_frame.jsp?DIS=79403',\n",
       "  '(08/12/2011)',\n",
       "  'THE LIQUIDATOR OF WING FAI CONSTRUCTION CO LTD  (IN COMPULSORY LIQUIDATION) v. YIP KWONG ROBERT AND OTHERS \\xa0Reported in :[2012] 1 HKLRD 589; (2011) 14 HKCFAR 935'),\n",
       " ('Final Appeal (Civil)',\n",
       "  '2011',\n",
       "  \"\\\\'https://legalref.judiciary.hk/lrs/images/ThemeXP/ETpage.gif\\\\'\",\n",
       "  'FACV4/2011',\n",
       "  'https://legalref.judiciary.hk/lrs/common/ju/ju_frame.jsp?DIS=79286',\n",
       "  '(01/12/2011)',\n",
       "  'CHONG WAI LEE, CHARLES AND ANOTHER v. INSIDER DEALING TRIBUNAL AND ANOTHER \\xa0Reported in :(2011) 14 HKCFAR 875'),\n",
       " ('Final Appeal (Civil)',\n",
       "  '2011',\n",
       "  \"\\\\'https://legalref.judiciary.hk/lrs/images/ThemeXP/Epage.gif\\\\'\",\n",
       "  'FACV5/2011',\n",
       "  'https://legalref.judiciary.hk/lrs/common/ju/ju_frame.jsp?DIS=79404',\n",
       "  '(08/12/2011)',\n",
       "  'SECRETARY FOR JUSTICE v. CHAU KA CHIK TSO AND OTHERS \\xa0Reported in :(2011) 14 HKCFAR 889'),\n",
       " ('Final Appeal (Civil)',\n",
       "  '2011',\n",
       "  \"\\\\'https://legalref.judiciary.hk/lrs/images/ThemeXP/Epage.gif\\\\'\",\n",
       "  'FACV6/2011',\n",
       "  'https://legalref.judiciary.hk/lrs/common/ju/ju_frame.jsp?DIS=82526',\n",
       "  '(06/07/2012)',\n",
       "  'FIRST LASER LTD v. FUJIAN ENTERPRISES (HOLDINGS) CO LTD AND ANOTHER \\xa0Reported in :(2012) 15 HKCFAR 569'),\n",
       " ('Final Appeal (Civil)',\n",
       "  '2011',\n",
       "  \"\\\\'https://legalref.judiciary.hk/lrs/images/ThemeXP/Epage.gif\\\\'\",\n",
       "  'FACV7/2011',\n",
       "  'https://legalref.judiciary.hk/lrs/common/ju/ju_frame.jsp?DIS=82684',\n",
       "  '(18/07/2012)',\n",
       "  'CHAU CHEUK YIU v. POON KIT SANG AND OTHERS \\xa0'),\n",
       " ('Final Appeal (Civil)',\n",
       "  '2011',\n",
       "  \"\\\\'https://legalref.judiciary.hk/lrs/images/ThemeXP/Epage.gif\\\\'\",\n",
       "  'FACV7/2011',\n",
       "  'https://legalref.judiciary.hk/lrs/common/ju/ju_frame.jsp?DIS=81812',\n",
       "  '(24/05/2012)',\n",
       "  'CHAU CHEUK YIU  v. POON KIT SANG AND OTHERS \\xa0Reported in :(2012) 15 HKCFAR 460'),\n",
       " ('Final Appeal (Civil)',\n",
       "  '2011',\n",
       "  \"\\\\'https://legalref.judiciary.hk/lrs/images/ThemeXP/Epage.gif\\\\'\",\n",
       "  'FACV8/2011',\n",
       "  'https://legalref.judiciary.hk/lrs/common/ju/ju_frame.jsp?DIS=80457',\n",
       "  '(23/02/2012)',\n",
       "  'KO HON YUE v. CHIU PIK YUK, the wife and intended adminstratrix of LIU CHING LEUNG, deceased AND OTHERS \\xa0Reported in :(2012) 15 HKCFAR 72'),\n",
       " ('Final Appeal (Civil)',\n",
       "  '2011',\n",
       "  \"\\\\'https://legalref.judiciary.hk/lrs/images/ThemeXP/ETpage.gif\\\\'\",\n",
       "  'FACV9/2011',\n",
       "  'https://legalref.judiciary.hk/lrs/common/ju/ju_frame.jsp?DIS=89647',\n",
       "  '(15/10/2013)',\n",
       "  'CHEUK SHU YIN v. YIP SO WAN AND OTHERS \\xa0'),\n",
       " ('Final Appeal (Civil)',\n",
       "  '2011',\n",
       "  \"\\\\'https://legalref.judiciary.hk/lrs/images/ThemeXP/Epage.gif\\\\'\",\n",
       "  'FACV9/2011',\n",
       "  'https://legalref.judiciary.hk/lrs/common/ju/ju_frame.jsp?DIS=84328',\n",
       "  '(13/11/2012)',\n",
       "  'CHEUK SHU YIN v. YIP SO WAN AND ANOTHER \\xa0Reported in :[2013] 1 HKLRD 656; (2012) 15 HKCFAR 344'),\n",
       " ('Final Appeal (Civil)',\n",
       "  '2011',\n",
       "  \"\\\\'https://legalref.judiciary.hk/lrs/images/ThemeXP/Epage.gif\\\\'\",\n",
       "  'FACV10/2011',\n",
       "  'https://legalref.judiciary.hk/lrs/common/ju/ju_frame.jsp?DIS=81080',\n",
       "  '(02/04/2012)',\n",
       "  'FOK CHUN WA AND ANOTHER v. THE HOSPITAL AUTHORITY AND ANOTHER \\xa0Reported in :(2012) 15 HKCFAR 409'),\n",
       " ('Final Appeal (Civil)',\n",
       "  '2011',\n",
       "  \"\\\\'https://legalref.judiciary.hk/lrs/images/ThemeXP/Epage.gif\\\\'\",\n",
       "  'FACV11/2011',\n",
       "  'https://legalref.judiciary.hk/lrs/common/ju/ju_frame.jsp?DIS=87396',\n",
       "  '(31/05/2013)',\n",
       "  'LING WING FAI BILLY AND OTHERS v. LING SHUI FAI AND OTHERS \\xa0'),\n",
       " ('Final Appeal (Civil)',\n",
       "  '2011',\n",
       "  \"\\\\'https://legalref.judiciary.hk/lrs/images/ThemeXP/Epage.gif\\\\'\",\n",
       "  'FACV11/2011',\n",
       "  'https://legalref.judiciary.hk/lrs/common/ju/ju_frame.jsp?DIS=84338',\n",
       "  '(13/11/2012)',\n",
       "  'LING WING FAI BILLY AND OTHERS v. LING SHUI FAI AND OTHERS \\xa0Reported in :[2013] 1 HKLRD 656; (2012) 15 HKCFAR 344'),\n",
       " ('Final Appeal (Civil)',\n",
       "  '2011',\n",
       "  \"\\\\'https://legalref.judiciary.hk/lrs/images/ThemeXP/Epage.gif\\\\'\",\n",
       "  'FACV12/2011',\n",
       "  'https://legalref.judiciary.hk/lrs/common/ju/ju_frame.jsp?DIS=80456',\n",
       "  '(23/02/2012)',\n",
       "  'NEW WORLD HARBOURVIEW HOTEL CO LTD AND OTHERS v. ACE INSURANCE LTD AND OTHERS \\xa0Reported in :(2012) 15 HKCFAR 120'),\n",
       " ('Final Appeal (Civil)',\n",
       "  '2011',\n",
       "  \"\\\\'https://legalref.judiciary.hk/lrs/images/ThemeXP/Epage.gif\\\\'\",\n",
       "  'FACV13/2011',\n",
       "  'https://legalref.judiciary.hk/lrs/common/ju/ju_frame.jsp?DIS=87196',\n",
       "  '(16/05/2013)',\n",
       "  'CAMPBELL RICHARD BLAKENEY-WILLIAMS AND OTHERS v. CATHAY PACIFIC AIRWAYS LTD AND OTHERS \\xa0Reported in :(2013) 16 HKCFAR 514'),\n",
       " ('Final Appeal (Civil)',\n",
       "  '2011',\n",
       "  \"\\\\'https://legalref.judiciary.hk/lrs/images/ThemeXP/ETpage.gif\\\\'\",\n",
       "  'FACV13/2011',\n",
       "  'https://legalref.judiciary.hk/lrs/common/ju/ju_frame.jsp?DIS=83622',\n",
       "  '(26/09/2012)',\n",
       "  'CAMPBELL RICHARD BLAKENEY-WILLIAMS AND OTHERS v. CATHAY PACIFIC AIRWAYS LTD AND OTHERS \\xa0Reported in :(2012) 15 HKCFAR 261'),\n",
       " ('Final Appeal (Civil)',\n",
       "  '2011',\n",
       "  \"\\\\'https://legalref.judiciary.hk/lrs/images/ThemeXP/Epage.gif\\\\'\",\n",
       "  'FACV14/2011',\n",
       "  'https://legalref.judiciary.hk/lrs/common/ju/ju_frame.jsp?DIS=87202',\n",
       "  '(16/05/2013)',\n",
       "  'CATHAY PACIFIC AIRWAYS LTD AND OTHERS v. CAMPBELL RICHARD BLAKENEY-WILLIAMS AND OTHERS \\xa0Reported in :(2013) 16 HKCFAR 514'),\n",
       " ('Final Appeal (Civil)',\n",
       "  '2011',\n",
       "  \"\\\\'https://legalref.judiciary.hk/lrs/images/ThemeXP/ETpage.gif\\\\'\",\n",
       "  'FACV14/2011',\n",
       "  'https://legalref.judiciary.hk/lrs/common/ju/ju_frame.jsp?DIS=98476',\n",
       "  '(26/09/2012)',\n",
       "  'CATHAY PACIFIC AIRWAYS LTD AND OTHERS v. CAMPBELL RICHARD BLAKENEY-WILLIAMS AND OTHERS \\xa0Reported in :(2012) 15 HKCFAR 261'),\n",
       " ('Final Appeal (Civil)',\n",
       "  '2011',\n",
       "  \"\\\\'https://legalref.judiciary.hk/lrs/images/ThemeXP/Epage.gif\\\\'\",\n",
       "  'FACV15/2011',\n",
       "  'https://legalref.judiciary.hk/lrs/common/ju/ju_frame.jsp?DIS=88108',\n",
       "  '(17/07/2013)',\n",
       "  'UBAMAKA EDWARD WILSON v. DIRECTOR OF IMMIGRATION AND ANOTHER \\xa0'),\n",
       " ('Final Appeal (Civil)',\n",
       "  '2011',\n",
       "  \"\\\\'https://legalref.judiciary.hk/lrs/images/ThemeXP/Epage.gif\\\\'\",\n",
       "  'FACV15/2011',\n",
       "  'https://legalref.judiciary.hk/lrs/common/ju/ju_frame.jsp?DIS=84948',\n",
       "  '(21/12/2012)',\n",
       "  'UBAMAKA EDWARD WILSON v. SECRETARY FOR SECURITY AND ANOTHER \\xa0Reported in :(2012) 15 HKCFAR 743'),\n",
       " ('Final Appeal (Civil)',\n",
       "  '2011',\n",
       "  \"\\\\'https://legalref.judiciary.hk/lrs/images/ThemeXP/Epage.gif\\\\'\",\n",
       "  'FACV16/2011',\n",
       "  'https://legalref.judiciary.hk/lrs/common/ju/ju_frame.jsp?DIS=84949',\n",
       "  '(21/12/2012)',\n",
       "  'LUI FAI YEUNG v. CHUI KIN MAN \\xa0Reported in :(2012) 15 HKCFAR 803'),\n",
       " ('Final Appeal (Civil)',\n",
       "  '2011',\n",
       "  \"\\\\'https://legalref.judiciary.hk/lrs/images/ThemeXP/Epage.gif\\\\'\",\n",
       "  'FACV17/2011',\n",
       "  'https://legalref.judiciary.hk/lrs/common/ju/ju_frame.jsp?DIS=86310',\n",
       "  '(25/03/2013)',\n",
       "  'ASIF ALI v. DIRECTOR OF IMMIGRATION AND ANOTHER \\xa0Reported in :(2013) 16 HKCFAR 91'),\n",
       " ('Final Appeal (Civil)',\n",
       "  '2011',\n",
       "  \"\\\\'https://legalref.judiciary.hk/lrs/images/ThemeXP/Epage.gif\\\\'\",\n",
       "  'FACV18/2011',\n",
       "  'https://legalref.judiciary.hk/lrs/common/ju/ju_frame.jsp?DIS=86311',\n",
       "  '(25/03/2013)',\n",
       "  'C AND OTHERS v. DIRECTOR OF IMMIGRATION AND ANOTHER \\xa0Reported in :(2013) 16 HKCFAR 280'),\n",
       " ('Final Appeal (Civil)',\n",
       "  '2011',\n",
       "  \"\\\\'https://legalref.judiciary.hk/lrs/images/ThemeXP/Epage.gif\\\\'\",\n",
       "  'FACV19/2011',\n",
       "  'https://legalref.judiciary.hk/lrs/common/ju/ju_frame.jsp?DIS=86313',\n",
       "  '(25/03/2013)',\n",
       "  'C AND OTHERS v. DIRECTOR OF IMMIGRATION AND ANOTHER \\xa0Reported in :(2013) 16 HKCFAR 280'),\n",
       " ('Final Appeal (Civil)',\n",
       "  '2011',\n",
       "  \"\\\\'https://legalref.judiciary.hk/lrs/images/ThemeXP/Epage.gif\\\\'\",\n",
       "  'FACV20/2011',\n",
       "  'https://legalref.judiciary.hk/lrs/common/ju/ju_frame.jsp?DIS=86314',\n",
       "  '(25/03/2013)',\n",
       "  'C AND OTHERS v. DIRECTOR OF IMMIGRATION AND ANOTHER \\xa0Reported in :(2013) 16 HKCFAR 280'),\n",
       " ('Final Appeal (Civil)',\n",
       "  '2011',\n",
       "  \"\\\\'https://legalref.judiciary.hk/lrs/images/ThemeXP/Epage.gif\\\\'\",\n",
       "  'FACV21/2011',\n",
       "  'https://legalref.judiciary.hk/lrs/common/ju/ju_frame.jsp?DIS=84950',\n",
       "  '(21/12/2012)',\n",
       "  'BEST ORIGIN LTD v. COMMISSIONER OF RATING AND VALUATION \\xa0Reported in :(2012) 15 HKCFAR 816'),\n",
       " ('Final Appeal (Civil)',\n",
       "  '1998',\n",
       "  \"\\\\'https://legalref.judiciary.hk/lrs/images/ThemeXP/ETpage.gif\\\\'\",\n",
       "  'FACV2/1998',\n",
       "  'https://legalref.judiciary.hk/lrs/common/ju/ju_frame.jsp?DIS=18223',\n",
       "  '(23/07/1998)',\n",
       "  'THANG THIEU QUYEN AND OTHERS v. THE DIRECTOR OF IMMIGRATION AND ANOTHER \\xa0Reported in :(1997-1998) 1 HKCFAR 167; [1998] 2 HKLRD 179'),\n",
       " ('Final Appeal (Civil)',\n",
       "  '1998',\n",
       "  \"\\\\'https://legalref.judiciary.hk/lrs/images/ThemeXP/Epage.gif\\\\'\",\n",
       "  'FACV3/1998',\n",
       "  'https://legalref.judiciary.hk/lrs/common/ju/ju_frame.jsp?DIS=33537',\n",
       "  '(28/09/1998)',\n",
       "  'INTERGULF EXPRESS H.K. LTD. AND ANOTHER v. DELTA ASIA CREDIT LTD. \\xa0Reported in :(1997-1998) 1 HKCFAR 240; [1998] 2 HKLRD 928'),\n",
       " ('Final Appeal (Civil)',\n",
       "  '1998',\n",
       "  \"\\\\'https://legalref.judiciary.hk/lrs/images/ThemeXP/ETpage.gif\\\\'\",\n",
       "  'FACV4/1998',\n",
       "  'https://legalref.judiciary.hk/lrs/common/ju/ju_frame.jsp?DIS=18326',\n",
       "  '(05/11/1998)',\n",
       "  'LEUNG TONG FUK v. CHAN YUK KWAN \\xa0Reported in :[1998] 2 HKLRD 772'),\n",
       " ('Final Appeal (Civil)',\n",
       "  '1998',\n",
       "  \"\\\\'https://legalref.judiciary.hk/lrs/images/ThemeXP/Epage.gif\\\\'\",\n",
       "  'FACV5/1998',\n",
       "  'https://legalref.judiciary.hk/lrs/common/ju/ju_frame.jsp?DIS=19412',\n",
       "  '(29/01/1999)',\n",
       "  'LEUNG SAI LUN ROBERT AND OTHERS v. LEUNG MAY LING AND OTHERS \\xa0Reported in :[1999] 1 HKLRD 649; (1999) 2 HKCFAR 94'),\n",
       " ('Final Appeal (Civil)',\n",
       "  '1998',\n",
       "  \"\\\\'https://legalref.judiciary.hk/lrs/images/ThemeXP/Epage.gif\\\\'\",\n",
       "  'FACV6/1998',\n",
       "  'https://legalref.judiciary.hk/lrs/common/ju/ju_frame.jsp?DIS=18285',\n",
       "  '(28/09/1998)',\n",
       "  'ORIENTAL PRESS GROUP LTD v. APPLE DAILY LTD \\xa0Reported in :(1997-1998) 1 HKCFAR 208; [1998] 2 HKLRD 976'),\n",
       " ('Final Appeal (Civil)',\n",
       "  '1998',\n",
       "  \"\\\\'https://legalref.judiciary.hk/lrs/images/ThemeXP/Epage.gif\\\\'\",\n",
       "  'FACV8/1998',\n",
       "  'https://legalref.judiciary.hk/lrs/common/ju/ju_frame.jsp?DIS=18243',\n",
       "  '(21/01/1999)',\n",
       "  'ARCHER, HAROLD DEAN v. THE HONG KONG CHANNEL LTD. \\xa0'),\n",
       " ('Final Appeal (Civil)',\n",
       "  '1998',\n",
       "  \"\\\\'https://legalref.judiciary.hk/lrs/images/ThemeXP/Epage.gif\\\\'\",\n",
       "  'FACV8/1998',\n",
       "  'https://legalref.judiciary.hk/lrs/common/ju/ju_frame.jsp?DIS=18441',\n",
       "  '(27/11/1998)',\n",
       "  'ARCHER, HAROLD DEAN v. THE HONG KONG CHANNEL LTD \\xa0Reported in :(1997-1998) 1 HKCFAR 298; [1998] 2 HKLRD 968'),\n",
       " ('Final Appeal (Civil)',\n",
       "  '1998',\n",
       "  \"\\\\'https://legalref.judiciary.hk/lrs/images/ThemeXP/Epage.gif\\\\'\",\n",
       "  'FACV9/1998',\n",
       "  'https://legalref.judiciary.hk/lrs/common/ju/ju_frame.jsp?DIS=18357',\n",
       "  '(14/12/1998)',\n",
       "  'SKY HEART LTD. v. LEE HYSAN ESTATE CO. LTD. \\xa0Reported in :[1999] 1 HKLRD 100;(1997-1998) 1 HKCFAR 318'),\n",
       " ('Final Appeal (Civil)',\n",
       "  '1998',\n",
       "  \"\\\\'https://legalref.judiciary.hk/lrs/images/ThemeXP/Epage.gif\\\\'\",\n",
       "  'FACV10/1998',\n",
       "  'https://legalref.judiciary.hk/lrs/common/ju/ju_frame.jsp?DIS=21687',\n",
       "  '(09/02/1999)',\n",
       "  'HEBEI IMPORT & EXPORT CORPORATION v. POLYTEK ENGINEERING CO. LTD. \\xa0Reported in :[1999] 1 HKLRD 665; (1999) 2 HKCFAR 111'),\n",
       " ('Final Appeal (Civil)',\n",
       "  '1998',\n",
       "  \"\\\\'https://legalref.judiciary.hk/lrs/images/ThemeXP/Epage.gif\\\\'\",\n",
       "  'FACV11/1998',\n",
       "  'https://legalref.judiciary.hk/lrs/common/ju/ju_frame.jsp?DIS=33931',\n",
       "  '(21/12/1998)',\n",
       "  'PAUL CHEN AND ANOTHER v. LORD ENERGY LTD. \\xa0Reported in :(1997-1998) 1 HKCFAR 365; [1999] 1 HKLRD 205'),\n",
       " ('Final Appeal (Civil)',\n",
       "  '1998',\n",
       "  \"\\\\'https://legalref.judiciary.hk/lrs/images/ThemeXP/Epage.gif\\\\'\",\n",
       "  'FACV12/1998',\n",
       "  'https://legalref.judiciary.hk/lrs/common/ju/ju_frame.jsp?DIS=21705',\n",
       "  '(01/03/1999)',\n",
       "  'WAH YICK ENTERPRISES CO LTD v. BUILDING AUTHORITY \\xa0Reported in :[1999] 1 HKLRD 840; (1999) 2 HKCFAR 170'),\n",
       " ('Final Appeal (Civil)',\n",
       "  '1998',\n",
       "  \"\\\\'https://legalref.judiciary.hk/lrs/images/ThemeXP/ETpage.gif\\\\'\",\n",
       "  'FACV13/1998',\n",
       "  'https://legalref.judiciary.hk/lrs/common/ju/ju_frame.jsp?DIS=19413',\n",
       "  '(29/01/1999)',\n",
       "  'CHAN KAM NGA v. DIRECTOR OF IMMIGRATION \\xa0Reported in :[1999] 1 HKLRD 304; (1999) 2 HKCFAR 82'),\n",
       " ('Final Appeal (Civil)',\n",
       "  '1998',\n",
       "  \"\\\\'https://legalref.judiciary.hk/lrs/images/ThemeXP/ETpage.gif\\\\'\",\n",
       "  'FACV14/1998',\n",
       "  'https://legalref.judiciary.hk/lrs/common/ju/ju_frame.jsp?DIS=34248',\n",
       "  '(26/02/1999)',\n",
       "  'NG KA LING AND ANOTHER v. THE DIRECTOR OF IMMIGRATION \\xa0Reported in :[1999] 1 HKLRD 577; (1999) 2 HKCFAR 141'),\n",
       " ('Final Appeal (Civil)',\n",
       "  '1998',\n",
       "  \"\\\\'https://legalref.judiciary.hk/lrs/images/ThemeXP/ETpage.gif\\\\'\",\n",
       "  'FACV14/1998',\n",
       "  'https://legalref.judiciary.hk/lrs/common/ju/ju_frame.jsp?DIS=34052',\n",
       "  '(29/01/1999)',\n",
       "  'NG KA LING AND ANOTHER v. THE DIRECTOR OF IMMIGRATION \\xa0Reported in :[1999] 1 HKLRD 315; (1999) 2 HKCFAR 4'),\n",
       " ('Final Appeal (Civil)',\n",
       "  '1998',\n",
       "  \"\\\\'https://legalref.judiciary.hk/lrs/images/ThemeXP/ETpage.gif\\\\'\",\n",
       "  'FACV15/1998',\n",
       "  'https://legalref.judiciary.hk/lrs/common/ju/ju_frame.jsp?DIS=19425',\n",
       "  '(26/02/1999)',\n",
       "  'TSUI KUEN NANG v. THE DIRECTOR OF IMMIGRATION \\xa0Reported in :[1999] 1 HKLRD 577; (1999) 2 HKCFAR 141'),\n",
       " ('Final Appeal (Civil)',\n",
       "  '1998',\n",
       "  \"\\\\'https://legalref.judiciary.hk/lrs/images/ThemeXP/ETpage.gif\\\\'\",\n",
       "  'FACV15/1998',\n",
       "  'https://legalref.judiciary.hk/lrs/common/ju/ju_frame.jsp?DIS=34053',\n",
       "  '(29/01/1999)',\n",
       "  'TSUI KUEN NANG v. THE DIRECTOR OF IMMIGRATION \\xa0Reported in :[1999] 1 HKLRD 315; (1999) 2 HKCFAR 4'),\n",
       " ('Final Appeal (Civil)',\n",
       "  '1998',\n",
       "  \"\\\\'https://legalref.judiciary.hk/lrs/images/ThemeXP/ETpage.gif\\\\'\",\n",
       "  'FACV16/1998',\n",
       "  'https://legalref.judiciary.hk/lrs/common/ju/ju_frame.jsp?DIS=19426',\n",
       "  '(26/02/1999)',\n",
       "  'THE DIRECTOR OF IMMIGRATION v. CHEUNG LAI WAH \\xa0Reported in :[1999] 1 HKLRD 577; (1999) 2 HKCFAR 141'),\n",
       " ('Final Appeal (Civil)',\n",
       "  '1998',\n",
       "  \"\\\\'https://legalref.judiciary.hk/lrs/images/ThemeXP/ETpage.gif\\\\'\",\n",
       "  'FACV16/1998',\n",
       "  'https://legalref.judiciary.hk/lrs/common/ju/ju_frame.jsp?DIS=19414',\n",
       "  '(29/01/1999)',\n",
       "  'THE DIRECTOR OF IMMIGRATION v. CHEUNG LAI WAH \\xa0Reported in :[1999] 1 HKLRD 315; (1999) 2 HKCFAR 4'),\n",
       " ('Final Appeal (Civil)',\n",
       "  '1998',\n",
       "  \"\\\\'https://legalref.judiciary.hk/lrs/images/ThemeXP/Epage.gif\\\\'\",\n",
       "  'FACV18/1998',\n",
       "  'https://legalref.judiciary.hk/lrs/common/ju/ju_frame.jsp?DIS=33932',\n",
       "  '(21/12/1998)',\n",
       "  'JI SHAN INTERNATIONAL INVESTMENT LTD. v. RESOURCES MAIN ENTERPRISES LTD. AND ANOTHER \\xa0Reported in :(1997-1998) 1 HKCFAR 377; [1999] 1 HKLRD 456'),\n",
       " ('Final Appeal (Civil)',\n",
       "  '1998',\n",
       "  \"\\\\'https://legalref.judiciary.hk/lrs/images/ThemeXP/Epage.gif\\\\'\",\n",
       "  'FACV19/1998',\n",
       "  'https://legalref.judiciary.hk/lrs/common/ju/ju_frame.jsp?DIS=18457',\n",
       "  '(21/12/1998)',\n",
       "  'KWAN SIU MAN JOSHUA v. YAACOV OZER \\xa0Reported in :(1997-1998) 1 HKCFAR 343; [1999] 1 HKLRD 216'),\n",
       " ('Final Appeal (Civil)',\n",
       "  '1998',\n",
       "  \"\\\\'https://legalref.judiciary.hk/lrs/images/ThemeXP/Epage.gif\\\\'\",\n",
       "  'FACV20/1998',\n",
       "  'https://legalref.judiciary.hk/lrs/common/ju/ju_frame.jsp?DIS=18286',\n",
       "  '(28/09/1998)',\n",
       "  'THE LAW SOCIETY OF HONG KONG v. ROBERT JAMES BROOK \\xa0Reported in :(1997-1998) 1 HKCFAR 228; [1998] 2 HKLRD 761'),\n",
       " ('Final Appeal (Civil)',\n",
       "  '1998',\n",
       "  \"\\\\'https://legalref.judiciary.hk/lrs/images/ThemeXP/ETpage.gif\\\\'\",\n",
       "  'FACV21/1998',\n",
       "  'https://legalref.judiciary.hk/lrs/common/ju/ju_frame.jsp?DIS=18933',\n",
       "  '(10/12/1999)',\n",
       "  'THE BANK OF EAST ASIA, LTD. v. TSIEN WUI MARBLE FACTORY LTD. AND OTHERS and REMO RIVA AND OTHERS (Third Parties) \\xa0Reported in :(1999) 2 HKCFAR 349; [2000] 1 HKLRD 268'),\n",
       " ('Final Appeal (Civil)',\n",
       "  '1998',\n",
       "  \"\\\\'https://legalref.judiciary.hk/lrs/images/ThemeXP/Epage.gif\\\\'\",\n",
       "  'FACV22/1998',\n",
       "  'https://legalref.judiciary.hk/lrs/common/ju/ju_frame.jsp?DIS=33323',\n",
       "  '(11/06/1999)',\n",
       "  'COMMON LUCK INVESTMENT LTD. v. CHEUNG KAM CHUEN \\xa0Reported in :[1999] 2 HKLRD 417; (1999) 2 HKCFAR 229'),\n",
       " ('Final Appeal (Civil)',\n",
       "  '1998',\n",
       "  \"\\\\'https://legalref.judiciary.hk/lrs/images/ThemeXP/Epage.gif\\\\'\",\n",
       "  'FACV23/1998',\n",
       "  'https://legalref.judiciary.hk/lrs/common/ju/ju_frame.jsp?DIS=21835',\n",
       "  '(16/03/1999)',\n",
       "  'THE INSIDER DEALING TRIBUNAL v. SHEK MEI LING \\xa0Reported in :[1999] 1 HKLRD 879; (1999) 2 HKCFAR 205'),\n",
       " ('Final Appeal (Civil)',\n",
       "  '1998',\n",
       "  \"\\\\'https://legalref.judiciary.hk/lrs/images/ThemeXP/Epage.gif\\\\'\",\n",
       "  'FACV24/1998',\n",
       "  'https://legalref.judiciary.hk/lrs/common/ju/ju_frame.jsp?DIS=20135',\n",
       "  '(11/06/1999)',\n",
       "  'KOON TUNG YING v. LAU CHUP HEI \\xa0'),\n",
       " ('Final Appeal (Civil)',\n",
       "  '1998',\n",
       "  \"\\\\'https://legalref.judiciary.hk/lrs/images/ThemeXP/Epage.gif\\\\'\",\n",
       "  'FACV25/1998',\n",
       "  'https://legalref.judiciary.hk/lrs/common/ju/ju_frame.jsp?DIS=21615',\n",
       "  '(09/03/2000)',\n",
       "  'AKTIESELSKABET DANSK SKIBSFINANSIERING (body corporate) v. ROBERT JOHN FRANCIS BROTHERS \\xa0Reported in :[2000] 1 HKLRD 568;(2000) 3 HKCFAR 70'),\n",
       " ('Final Appeal (Civil)',\n",
       "  '1998',\n",
       "  \"\\\\'https://legalref.judiciary.hk/lrs/images/ThemeXP/Epage.gif\\\\'\",\n",
       "  'FACV25/1998',\n",
       "  'https://legalref.judiciary.hk/lrs/common/ju/ju_frame.jsp?DIS=20720',\n",
       "  '(16/09/1999)',\n",
       "  'AKTIESELSKABET DANSK SKIBFINANSIERING (body corporate) v. ROBERT JOHN FRANCIS BROTHERS \\xa0'),\n",
       " ('Final Appeal (Civil)',\n",
       "  '1998',\n",
       "  \"\\\\'https://legalref.judiciary.hk/lrs/images/ThemeXP/Epage.gif\\\\'\",\n",
       "  'FACV26/1998',\n",
       "  'https://legalref.judiciary.hk/lrs/common/ju/ju_frame.jsp?DIS=21616',\n",
       "  '(09/03/2000)',\n",
       "  'AKTIESELSKABET DANSK SKIBSFINANSIERING (body corporate) v. WHEELOCK MARDEN & COMPANY LIMITED \\xa0Reported in :(2000) 3 HKCFAR 70; [2000] 1 HKLRD 568'),\n",
       " ('Final Appeal (Civil)',\n",
       "  '1998',\n",
       "  \"\\\\'https://legalref.judiciary.hk/lrs/images/ThemeXP/Epage.gif\\\\'\",\n",
       "  'FACV26/1998',\n",
       "  'https://legalref.judiciary.hk/lrs/common/ju/ju_frame.jsp?DIS=20721',\n",
       "  '(16/09/1999)',\n",
       "  'AKTIESELSKABET DANSK SKIBFINANSIERING (body corporate) v. WHEELOCK MARDEN & CO. LTD. \\xa0'),\n",
       " ('Final Appeal (Civil)',\n",
       "  '1998',\n",
       "  \"\\\\'https://legalref.judiciary.hk/lrs/images/ThemeXP/Epage.gif\\\\'\",\n",
       "  'FACV27/1998',\n",
       "  'https://legalref.judiciary.hk/lrs/common/ju/ju_frame.jsp?DIS=21617',\n",
       "  '(09/03/2000)',\n",
       "  'AKTIESELSKABET DANSK SKIBSFINANSIERING (body corporate) v. WHEELOCK MARDEN AND COMPANY LIMITED AND OTHERS \\xa0Reported in :(2000) 3 HKCFAR 70; [2000] 1 HKLRD 568'),\n",
       " ('Final Appeal (Civil)',\n",
       "  '1998',\n",
       "  \"\\\\'https://legalref.judiciary.hk/lrs/images/ThemeXP/Epage.gif\\\\'\",\n",
       "  'FACV27/1998',\n",
       "  'https://legalref.judiciary.hk/lrs/common/ju/ju_frame.jsp?DIS=33776',\n",
       "  '(16/09/1999)',\n",
       "  'AKTIESELSKABET DANSK SKIBFINANSIERING (body corporate) v. WHEELOCK MARDEN & CO. LTD. AND OTHERS \\xa0'),\n",
       " ('Final Appeal (Civil)',\n",
       "  '2012',\n",
       "  \"\\\\'https://legalref.judiciary.hk/lrs/images/ThemeXP/ETpage.gif\\\\'\",\n",
       "  'FACV1/2012',\n",
       "  'https://legalref.judiciary.hk/lrs/common/ju/ju_frame.jsp?DIS=83620',\n",
       "  '(26/09/2012)',\n",
       "  'ORIENTAL DAILY PUBLISHER LTD AND ANOTHER v. MING PAO HOLDINGS LTD AND OTHERS \\xa0Reported in :(2012) 15 HKCFAR 299'),\n",
       " ('Final Appeal (Civil)',\n",
       "  '2012',\n",
       "  \"\\\\'https://legalref.judiciary.hk/lrs/images/ThemeXP/Epage.gif\\\\'\",\n",
       "  'FACV2/2012',\n",
       "  'https://legalref.judiciary.hk/lrs/common/ju/ju_frame.jsp?DIS=81810',\n",
       "  '(24/05/2012)',\n",
       "  'MOK CHARLES PETER v. TAM WAI HO AND ANOTHER \\xa0Reported in :(2012) 15 HKCFAR 489'),\n",
       " ('Final Appeal (Civil)',\n",
       "  '2012',\n",
       "  \"\\\\'https://legalref.judiciary.hk/lrs/images/ThemeXP/Epage.gif\\\\'\",\n",
       "  'FACV3/2012',\n",
       "  'https://legalref.judiciary.hk/lrs/common/ju/ju_frame.jsp?DIS=87081',\n",
       "  '(10/05/2013)',\n",
       "  'SIT WING YI SIBLY v. BERTON INDUSTRIAL LTD \\xa0Reported in :[2013] 5 HKLRD 225; (2013) 16 HKCFAR 104'),\n",
       " ('Final Appeal (Civil)',\n",
       "  '2012',\n",
       "  \"\\\\'https://legalref.judiciary.hk/lrs/images/ThemeXP/Epage.gif\\\\'\",\n",
       "  'FACV4/2012',\n",
       "  'https://legalref.judiciary.hk/lrs/common/ju/ju_frame.jsp?DIS=88072',\n",
       "  '(16/07/2013)',\n",
       "  'W v. THE REGISTRAR OF MARRIAGES \\xa0'),\n",
       " ('Final Appeal (Civil)',\n",
       "  '2012',\n",
       "  \"\\\\'https://legalref.judiciary.hk/lrs/images/ThemeXP/Epage.gif\\\\'\",\n",
       "  'FACV4/2012',\n",
       "  'https://legalref.judiciary.hk/lrs/common/ju/ju_frame.jsp?DIS=87115',\n",
       "  '(13/05/2013)',\n",
       "  'W v. THE REGISTRAR OF MARRIAGES \\xa0Reported in :[2013] 3 HKLRD 90; (2013) 16 HKCFAR 112'),\n",
       " ('Final Appeal (Civil)',\n",
       "  '2012',\n",
       "  \"\\\\'https://legalref.judiciary.hk/lrs/images/ThemeXP/Epage.gif\\\\'\",\n",
       "  'FACV5/2012',\n",
       "  'https://legalref.judiciary.hk/lrs/common/ju/ju_frame.jsp?DIS=88272',\n",
       "  '(26/07/2013)',\n",
       "  'CATHAY PACIFIC AIRWAYS LTD v. KWAN SIU WA BECKY AND OTHERS \\xa0'),\n",
       " ('Final Appeal (Civil)',\n",
       "  '2012',\n",
       "  \"\\\\'https://legalref.judiciary.hk/lrs/images/ThemeXP/Epage.gif\\\\'\",\n",
       "  'FACV5/2012',\n",
       "  'https://legalref.judiciary.hk/lrs/common/ju/ju_frame.jsp?DIS=83621',\n",
       "  '(26/09/2012)',\n",
       "  'CATHAY PACIFIC AIRWAYS LTD v. KWAN SIU WA BECKY AND OTHERS \\xa0Reported in :(2012) 15 HKCFAR 615'),\n",
       " ('Final Appeal (Civil)',\n",
       "  '2012',\n",
       "  \"\\\\'https://legalref.judiciary.hk/lrs/images/ThemeXP/Epage.gif\\\\'\",\n",
       "  'FACV6/2012',\n",
       "  'https://legalref.judiciary.hk/lrs/common/ju/ju_frame.jsp?DIS=88273',\n",
       "  '(26/07/2013)',\n",
       "  'DE MONSA INVESTMENTS LTD v. WHOLE WIN MANAGEMENT FUND LTD \\xa0Reported in :(2013) 16 HKCFAR 419'),\n",
       " ('Final Appeal (Civil)',\n",
       "  '2012',\n",
       "  \"\\\\'https://legalref.judiciary.hk/lrs/images/ThemeXP/Epage.gif\\\\'\",\n",
       "  'FACV7/2012',\n",
       "  'https://legalref.judiciary.hk/lrs/common/ju/ju_frame.jsp?DIS=93313',\n",
       "  '(03/06/2014)',\n",
       "  'CHUNG YUEN YEE v. SAM WOO BORE PILE FOUNDATION LTD AND OTHERS \\xa0'),\n",
       " ('Final Appeal (Civil)',\n",
       "  '2012',\n",
       "  \"\\\\'https://legalref.judiciary.hk/lrs/images/ThemeXP/Epage.gif\\\\'\",\n",
       "  'FACV7/2012',\n",
       "  'https://legalref.judiciary.hk/lrs/common/ju/ju_frame.jsp?DIS=87082',\n",
       "  '(10/05/2013)',\n",
       "  'CHUNG YUEN YEE v. SAM WOO BORE PILE FOUNDATION LTD AND OTHERS \\xa0Reported in :(2013) 16 HKCFAR 315'),\n",
       " ('Final Appeal (Civil)',\n",
       "  '2012',\n",
       "  \"\\\\'https://legalref.judiciary.hk/lrs/images/ThemeXP/Epage.gif\\\\'\",\n",
       "  'FACV8/2012',\n",
       "  'https://legalref.judiciary.hk/lrs/common/ju/ju_frame.jsp?DIS=88274',\n",
       "  '(26/07/2013)',\n",
       "  'MESSRS HLB HODGSON IMPEY CHENG (a firm) AND OTHERS v. THE HONG KONG INSTITUTE OF CERTIFIED PUBLIC ACCOUNTANTS \\xa0Reported in :(2013) 16 HKCFAR 460'),\n",
       " ('Final Appeal (Civil)',\n",
       "  '2012',\n",
       "  \"\\\\'https://legalref.judiciary.hk/lrs/images/ThemeXP/Epage.gif\\\\'\",\n",
       "  'FACV9/2012',\n",
       "  'https://legalref.judiciary.hk/lrs/common/ju/ju_frame.jsp?DIS=89362',\n",
       "  '(30/09/2013)',\n",
       "  'KWOK CHIN WING v. 21 HOLDINGS LTD AND ANOTHER \\xa0Reported in :(2013) 16 HKCFAR 663'),\n",
       " ('Final Appeal (Civil)',\n",
       "  '2012',\n",
       "  \"\\\\'https://legalref.judiciary.hk/lrs/images/ThemeXP/ETpage.gif\\\\'\",\n",
       "  'FACV10/2012',\n",
       "  'https://legalref.judiciary.hk/lrs/common/ju/ju_frame.jsp?DIS=87083',\n",
       "  '(10/05/2013)',\n",
       "  'SECURITIES AND FUTURES COMMISSION v. WILLIAM TOMITA \\xa0Reported in :(2013) 16 HKCFAR 324'),\n",
       " ('Final Appeal (Civil)',\n",
       "  '2012',\n",
       "  \"\\\\'https://legalref.judiciary.hk/lrs/images/ThemeXP/ETpage.gif\\\\'\",\n",
       "  'FACV11/2012',\n",
       "  'https://legalref.judiciary.hk/lrs/common/ju/ju_frame.jsp?DIS=87091',\n",
       "  '(10/05/2013)',\n",
       "  'SECURITIES AND FUTURES COMMISSION v. SUNG KOOK HWANG BILL \\xa0Reported in :(2013) 16 HKCFAR 324'),\n",
       " ('Final Appeal (Civil)',\n",
       "  '2012',\n",
       "  \"\\\\'https://legalref.judiciary.hk/lrs/images/ThemeXP/ETpage.gif\\\\'\",\n",
       "  'FACV12/2012',\n",
       "  'https://legalref.judiciary.hk/lrs/common/ju/ju_frame.jsp?DIS=87092',\n",
       "  '(10/05/2013)',\n",
       "  'SECURITIES AND FUTURES COMMISSION v. RAYMOND PARK \\xa0Reported in :(2013) 16 HKCFAR 324'),\n",
       " ('Final Appeal (Civil)',\n",
       "  '2012',\n",
       "  \"\\\\'https://legalref.judiciary.hk/lrs/images/ThemeXP/ETpage.gif\\\\'\",\n",
       "  'FACV13/2012',\n",
       "  'https://legalref.judiciary.hk/lrs/common/ju/ju_frame.jsp?DIS=87093',\n",
       "  '(10/05/2013)',\n",
       "  'SECURITIES AND FUTURES COMMISSION v. TIGER ASIA MANAGEMENT LLC \\xa0Reported in :(2013) 16 HKCFAR 324'),\n",
       " ('Final Appeal (Civil)',\n",
       "  '2012',\n",
       "  \"\\\\'https://legalref.judiciary.hk/lrs/images/ThemeXP/Epage.gif\\\\'\",\n",
       "  'FACV14/2012',\n",
       "  'https://legalref.judiciary.hk/lrs/common/ju/ju_frame.jsp?DIS=91102',\n",
       "  '(16/01/2014)',\n",
       "  'LIBERTARIAN INVESTMENTS LTD v. THOMAS ALEXEJ HALL \\xa0'),\n",
       " ('Final Appeal (Civil)',\n",
       "  '2012',\n",
       "  \"\\\\'https://legalref.judiciary.hk/lrs/images/ThemeXP/Epage.gif\\\\'\",\n",
       "  'FACV14/2012',\n",
       "  'https://legalref.judiciary.hk/lrs/common/ju/ju_frame.jsp?DIS=91977',\n",
       "  '(11/03/2014)',\n",
       "  'LIBERTARIAN INVESTMENTS LTD v. THOMAS ALEXEJ HALL \\xa0'),\n",
       " ('Final Appeal (Civil)',\n",
       "  '2012',\n",
       "  \"\\\\'https://legalref.judiciary.hk/lrs/images/ThemeXP/Epage.gif\\\\'\",\n",
       "  'FACV14/2012',\n",
       "  'https://legalref.judiciary.hk/lrs/common/ju/ju_frame.jsp?DIS=90003',\n",
       "  '(06/11/2013)',\n",
       "  'LIBERTARIAN INVESTMENTS LTD v. THOMAS ALEXEJ HALL \\xa0Reported in :(2013) 16 HKCFAR 681'),\n",
       " ('Final Appeal (Civil)',\n",
       "  '2012',\n",
       "  \"\\\\'https://legalref.judiciary.hk/lrs/images/ThemeXP/Epage.gif\\\\'\",\n",
       "  'FACV15/2012',\n",
       "  'https://legalref.judiciary.hk/lrs/common/ju/ju_frame.jsp?DIS=87880',\n",
       "  '(04/07/2013)',\n",
       "  'ORIENTAL PRESS GROUP LTD AND ANOTHER v. FEVAWORKS SOLUTIONS LTD \\xa0Reported in :(2013) 16 HKCFAR 366'),\n",
       " ('Final Appeal (Civil)',\n",
       "  '2012',\n",
       "  \"\\\\'https://legalref.judiciary.hk/lrs/images/ThemeXP/Epage.gif\\\\'\",\n",
       "  'FACV16/2012',\n",
       "  'https://legalref.judiciary.hk/lrs/common/ju/ju_frame.jsp?DIS=91189',\n",
       "  '(16/01/2014)',\n",
       "  'THOMAS ALEXEJ HALL v. LIBERTARIAN INVESTMENTS LTD \\xa0'),\n",
       " ('Final Appeal (Civil)',\n",
       "  '2012',\n",
       "  \"\\\\'https://legalref.judiciary.hk/lrs/images/ThemeXP/Epage.gif\\\\'\",\n",
       "  'FACV16/2012',\n",
       "  'https://legalref.judiciary.hk/lrs/common/ju/ju_frame.jsp?DIS=91978',\n",
       "  '(11/03/2014)',\n",
       "  'THOMAS ALEXEJ HALL v. LIBERTARIAN INVESTMENTS LTD \\xa0'),\n",
       " ('Final Appeal (Civil)',\n",
       "  '2012',\n",
       "  \"\\\\'https://legalref.judiciary.hk/lrs/images/ThemeXP/Epage.gif\\\\'\",\n",
       "  'FACV16/2012',\n",
       "  'https://legalref.judiciary.hk/lrs/common/ju/ju_frame.jsp?DIS=90004',\n",
       "  '(06/11/2013)',\n",
       "  'THOMAS ALEXEJ HALL v. LIBERTARIAN INVESTMENTS LTD \\xa0Reported in :(2013) 16 HKCFAR 681'),\n",
       " ('Final Appeal (Civil)',\n",
       "  '2012',\n",
       "  \"\\\\'https://legalref.judiciary.hk/lrs/images/ThemeXP/Epage.gif\\\\'\",\n",
       "  'FACV17/2012',\n",
       "  'https://legalref.judiciary.hk/lrs/common/ju/ju_frame.jsp?DIS=87116',\n",
       "  '(13/05/2013)',\n",
       "  'FULLY PROFIT (ASIA) LTD v.  THE SECRETARY FOR JUSTICE \\xa0Reported in :(2013) 16 HKCFAR 351'),\n",
       " ('Final Appeal (Civil)',\n",
       "  '2012',\n",
       "  \"\\\\'https://legalref.judiciary.hk/lrs/images/ThemeXP/Epage.gif\\\\'\",\n",
       "  'FACV18/2012',\n",
       "  'https://legalref.judiciary.hk/lrs/common/ju/ju_frame.jsp?DIS=85716',\n",
       "  '(15/02/2013)',\n",
       "  'KEWS v. NCHC \\xa0Reported in :[2013] 2 HKLRD 314; (2013) 16 HKCFAR 1'),\n",
       " ('Final Appeal (Civil)',\n",
       "  '2012',\n",
       "  \"\\\\'https://legalref.judiciary.hk/lrs/images/ThemeXP/Epage.gif\\\\'\",\n",
       "  'FACV19/2012',\n",
       "  'https://legalref.judiciary.hk/lrs/common/ju/ju_frame.jsp?DIS=88071',\n",
       "  '(16/07/2013)',\n",
       "  'VALLEJOS EVANGELINE BANAO, ALSO KNOWN AS VALLEJOS EVANGELINE B. v. COMMISSIONER OF REGISTRATION AND ANOTHER \\xa0'),\n",
       " ('Final Appeal (Civil)',\n",
       "  '2012',\n",
       "  \"\\\\'https://legalref.judiciary.hk/lrs/images/ThemeXP/Epage.gif\\\\'\",\n",
       "  'FACV19/2012',\n",
       "  'https://legalref.judiciary.hk/lrs/common/ju/ju_frame.jsp?DIS=86304',\n",
       "  '(25/03/2013)',\n",
       "  'VALLEJOS EVANGELINE BANAO, ALSO KNOWN AS VALLEJOS EVANGELINE B. v. COMMISSIONER OF REGISTRATION AND ANOTHER \\xa0Reported in :[2013] 2 HKLRD 533; (2013) 16 HKCFAR 45'),\n",
       " ('Final Appeal (Civil)',\n",
       "  '2012',\n",
       "  \"\\\\'https://legalref.judiciary.hk/lrs/images/ThemeXP/Epage.gif\\\\'\",\n",
       "  'FACV20/2012',\n",
       "  'https://legalref.judiciary.hk/lrs/common/ju/ju_frame.jsp?DIS=88079',\n",
       "  '(16/07/2013)',\n",
       "  'DOMINGO DANIEL L. v. COMMISSIONER OF REGISTRATION AND ANOTHER \\xa0'),\n",
       " ('Final Appeal (Civil)',\n",
       "  '2012',\n",
       "  \"\\\\'https://legalref.judiciary.hk/lrs/images/ThemeXP/Epage.gif\\\\'\",\n",
       "  'FACV20/2012',\n",
       "  'https://legalref.judiciary.hk/lrs/common/ju/ju_frame.jsp?DIS=86312',\n",
       "  '(25/03/2013)',\n",
       "  'DOMINGO DANIEL L. v. COMMISSIONER OF REGISTRATION AND ANOTHER \\xa0Reported in :[2013] 2 HKLRD 533; (2013) 16 HKCFAR 45'),\n",
       " ('Final Appeal (Civil)',\n",
       "  '2012',\n",
       "  \"\\\\'https://legalref.judiciary.hk/lrs/images/ThemeXP/Epage.gif\\\\'\",\n",
       "  'FACV21/2012',\n",
       "  'https://legalref.judiciary.hk/lrs/common/ju/ju_frame.jsp?DIS=87084',\n",
       "  '(10/05/2013)',\n",
       "  'KOWLOON DEVELOPMENT FINANCE LTD v. PENDEX INDUSTRIES LTD AND OTHERS \\xa0Reported in :(2013) 16 HKCFAR 336'),\n",
       " ('Final Appeal (Civil)',\n",
       "  '2012',\n",
       "  \"\\\\'https://legalref.judiciary.hk/lrs/images/ThemeXP/Epage.gif\\\\'\",\n",
       "  'FACV22/2012',\n",
       "  'https://legalref.judiciary.hk/lrs/common/ju/ju_frame.jsp?DIS=89361',\n",
       "  '(30/09/2013)',\n",
       "  'SINOEARN INTERNATIONAL LIMITED v. HYUNDAI-CCECC JOINT VENTURE (a firm) \\xa0Reported in :(2013) 16 HKCFAR 632'),\n",
       " ('Final Appeal (Civil)',\n",
       "  '2012',\n",
       "  \"\\\\'https://legalref.judiciary.hk/lrs/images/ThemeXP/Epage.gif\\\\'\",\n",
       "  'FACV23/2012',\n",
       "  'https://legalref.judiciary.hk/lrs/common/ju/ju_frame.jsp?DIS=90096',\n",
       "  '(12/11/2013)',\n",
       "  'NICE CHEER INVESTMENT LTD v. COMMISSIONER OF INLAND REVENUE \\xa0Reported in :(2013) 16 HKCFAR 813'),\n",
       " ('Final Appeal (Civil)',\n",
       "  '2012',\n",
       "  \"\\\\'https://legalref.judiciary.hk/lrs/images/ThemeXP/Epage.gif\\\\'\",\n",
       "  'FACV24/2012',\n",
       "  'https://legalref.judiciary.hk/lrs/common/ju/ju_frame.jsp?DIS=88006',\n",
       "  '(11/07/2013)',\n",
       "  'LEUNG CHUN YING v. HO CHUN YAN ALBERT AND ANOTHER \\xa0Reported in :(2013) 16 HKCFAR 735'),\n",
       " ('Final Appeal (Civil)',\n",
       "  '2012',\n",
       "  \"\\\\'https://legalref.judiciary.hk/lrs/images/ThemeXP/Epage.gif\\\\'\",\n",
       "  'FACV25/2012',\n",
       "  'https://legalref.judiciary.hk/lrs/common/ju/ju_frame.jsp?DIS=88007',\n",
       "  '(11/07/2013)',\n",
       "  'LEUNG CHUN YING v. HO CHUN YAN ALBERT AND ANOTHER \\xa0Reported in :(2013) 16 HKCFAR 735'),\n",
       " ('Final Appeal (Civil)',\n",
       "  '2012',\n",
       "  \"\\\\'https://legalref.judiciary.hk/lrs/images/ThemeXP/Epage.gif\\\\'\",\n",
       "  'FACV27/2012',\n",
       "  'https://legalref.judiciary.hk/lrs/common/ju/ju_frame.jsp?DIS=88008',\n",
       "  '(11/07/2013)',\n",
       "  'SECRETARY FOR JUSTICE v. HO CHUN YAN, ALBERT AND OTHERS \\xa0Reported in :(2013) 16 HKCFAR 735'),\n",
       " ('Final Appeal (Civil)',\n",
       "  '2000',\n",
       "  \"\\\\'https://legalref.judiciary.hk/lrs/images/ThemeXP/ETpage.gif\\\\'\",\n",
       "  'FACV1/2000',\n",
       "  'https://legalref.judiciary.hk/lrs/common/ju/ju_frame.jsp?DIS=21753',\n",
       "  '(06/03/2001)',\n",
       "  'COMMISSIONER OF RATING & VALUATION v. AGRILA LTD. AND OTHERS \\xa0Reported in :[2001] 2 HKLRD 36; (2001) 4 HKCFAR 83'),\n",
       " ('Final Appeal (Civil)',\n",
       "  '2000',\n",
       "  \"\\\\'https://legalref.judiciary.hk/lrs/images/ThemeXP/ETpage.gif\\\\'\",\n",
       "  'FACV2/2000',\n",
       "  'https://legalref.judiciary.hk/lrs/common/ju/ju_frame.jsp?DIS=21754',\n",
       "  '(06/03/2001)',\n",
       "  'AGRILA LTD. AND OTHERS v. COMMISSIONER OF RATING & VALUATION \\xa0Reported in :[2001] 2 HKLRD 36; (2001) 4 HKCFAR 83'),\n",
       " ('Final Appeal (Civil)',\n",
       "  '2000',\n",
       "  \"\\\\'https://legalref.judiciary.hk/lrs/images/ThemeXP/Epage.gif\\\\'\",\n",
       "  'FACV3/2000',\n",
       "  'https://legalref.judiciary.hk/lrs/common/ju/ju_frame.jsp?DIS=33994',\n",
       "  '(26/06/2000)',\n",
       "  'THE MEDICAL COUNCIL OF HONG KONG v. DAVID CHOW SIU SHEK \\xa0'),\n",
       " ('Final Appeal (Civil)',\n",
       "  '2000',\n",
       "  \"\\\\'https://legalref.judiciary.hk/lrs/images/ThemeXP/Epage.gif\\\\'\",\n",
       "  'FACV3/2000',\n",
       "  'https://legalref.judiciary.hk/lrs/common/ju/ju_frame.jsp?DIS=21991',\n",
       "  '(01/06/2000)',\n",
       "  'THE MEDICAL COUNCIL OF HONG KONG v. DAVID CHOW SIU SHEK \\xa0Reported in :[2000] 2 HKLRD 674; (2000) 3 HKCFAR 144'),\n",
       " ('Final Appeal (Civil)',\n",
       "  '2000',\n",
       "  \"\\\\'https://legalref.judiciary.hk/lrs/images/ThemeXP/Epage.gif\\\\'\",\n",
       "  'FACV4/2000',\n",
       "  'https://legalref.judiciary.hk/lrs/common/ju/ju_frame.jsp?DIS=33300',\n",
       "  '(02/11/2000)',\n",
       "  'RAIDER LTD. v. SECRETARY FOR JUSTICE \\xa0Reported in :[2000] 3 HKLRD 300; (2000) 3 HKCFAR 309'),\n",
       " ('Final Appeal (Civil)',\n",
       "  '2000',\n",
       "  \"\\\\'https://legalref.judiciary.hk/lrs/images/ThemeXP/Epage.gif\\\\'\",\n",
       "  'FACV5/2000',\n",
       "  'https://legalref.judiciary.hk/lrs/common/ju/ju_frame.jsp?DIS=19773',\n",
       "  '(10/11/2000)',\n",
       "  'CHENG KIN PING AND ANOTHER v. WOO CHO WING JOHN \\xa0Reported in :[2000] 3 HKLRD 743; (2000) 3 HKCFAR 333'),\n",
       " ('Final Appeal (Civil)',\n",
       "  '2000',\n",
       "  \"\\\\'https://legalref.judiciary.hk/lrs/images/ThemeXP/Epage.gif\\\\'\",\n",
       "  'FACV6/2000',\n",
       "  'https://legalref.judiciary.hk/lrs/common/ju/ju_frame.jsp?DIS=20971',\n",
       "  '(28/07/2000)',\n",
       "  'THE TIAN SHENG NO.8 (OWNERS OF THE SHIP) v. OWNERS OF CARGO \\xa0'),\n",
       " ('Final Appeal (Civil)',\n",
       "  '2000',\n",
       "  \"\\\\'https://legalref.judiciary.hk/lrs/images/ThemeXP/Epage.gif\\\\'\",\n",
       "  'FACV6/2000',\n",
       "  'https://legalref.judiciary.hk/lrs/common/ju/ju_frame.jsp?DIS=37367',\n",
       "  '(12/07/2000)',\n",
       "  'THE TIAN SHENG NO.8 (OWNER OF THE SHIP) v. OWNERS OF CARGO \\xa0Reported in :[2000] 3 HKLRD 49; (2000) 3 HKCFAR 187'),\n",
       " ('Final Appeal (Civil)',\n",
       "  '2000',\n",
       "  \"\\\\'https://legalref.judiciary.hk/lrs/images/ThemeXP/Epage.gif\\\\'\",\n",
       "  'FACV7/2000',\n",
       "  'https://legalref.judiciary.hk/lrs/common/ju/ju_frame.jsp?DIS=21406',\n",
       "  '(21/12/2000)',\n",
       "  'NATION GROUP DEVELOPMENT LTD. v. NEW PACIFIC PROPERTIES LTD. \\xa0Reported in :[2001] 1 HKLRD 375; (2000) 3 HKCFAR 427'),\n",
       " ('Final Appeal (Civil)',\n",
       "  '2000',\n",
       "  \"\\\\'https://legalref.judiciary.hk/lrs/images/ThemeXP/ETpage.gif\\\\'\",\n",
       "  'FACV8/2000',\n",
       "  'https://legalref.judiciary.hk/lrs/common/ju/ju_frame.jsp?DIS=33623',\n",
       "  '(22/12/2000)',\n",
       "  'SECRETARY FOR JUSTICE v. TO KAN CHI AND OTHERS \\xa0Reported in :[2000] 3 HKLRD 756; (2000) 3 HKCFAR 481'),\n",
       " ('Final Appeal (Civil)',\n",
       "  '2000',\n",
       "  \"\\\\'https://legalref.judiciary.hk/lrs/images/ThemeXP/Epage.gif\\\\'\",\n",
       "  'FACV8/2000',\n",
       "  'https://legalref.judiciary.hk/lrs/common/ju/ju_frame.jsp?DIS=53524',\n",
       "  '(04/08/2006)',\n",
       "  'SECRETARY FOR JUSTICE v. TO KAN CHI AND OTHERS \\xa0'),\n",
       " ('Final Appeal (Civil)',\n",
       "  '2000',\n",
       "  \"\\\\'https://legalref.judiciary.hk/lrs/images/ThemeXP/Epage.gif\\\\'\",\n",
       "  'FACV8/2000',\n",
       "  'https://legalref.judiciary.hk/lrs/common/ju/ju_frame.jsp?DIS=84382',\n",
       "  '(13/11/2012)',\n",
       "  'TO KAN CHI AND OTHERS v. SECRETARY FOR JUSTICE \\xa0Reported in :(2012) 15 HKCFAR 708'),\n",
       " ('Final Appeal (Civil)',\n",
       "  '2000',\n",
       "  \"\\\\'https://legalref.judiciary.hk/lrs/images/ThemeXP/Epage.gif\\\\'\",\n",
       "  'FACV8/2000',\n",
       "  'https://legalref.judiciary.hk/lrs/common/ju/ju_frame.jsp?DIS=22661',\n",
       "  '(18/07/2000)',\n",
       "  'SECRETARY FOR JUSTICE v. TO KAN CHI AND OTHERS \\xa0Reported in :[2000] 2 HKLRD 499; (2000) 3 HKCFAR 264'),\n",
       " ('Final Appeal (Civil)',\n",
       "  '2000',\n",
       "  \"\\\\'https://legalref.judiciary.hk/lrs/images/ThemeXP/Epage.gif\\\\'\",\n",
       "  'FACV9/2000',\n",
       "  'https://legalref.judiciary.hk/lrs/common/ju/ju_frame.jsp?DIS=19914',\n",
       "  '(08/12/2000)',\n",
       "  'COMMISSIONER OF INLAND REVENUE v. SECAN LTD. AND ANOTHER \\xa0Reported in :[2000] 3 HKLRD 627; (2000) 3 HKCFAR 411'),\n",
       " ('Final Appeal (Civil)',\n",
       "  '2000',\n",
       "  \"\\\\'https://legalref.judiciary.hk/lrs/images/ThemeXP/ETpage.gif\\\\'\",\n",
       "  'FACV11/2000',\n",
       "  'https://legalref.judiciary.hk/lrs/common/ju/ju_frame.jsp?DIS=33624',\n",
       "  '(22/12/2000)',\n",
       "  'SECRETARY FOR JUSTICE OTHERS v. CHAN WAH AND OTHERS \\xa0Reported in :[2000] 3 HKLRD 641; (2000) 3 HKCFAR 459'),\n",
       " ('Final Appeal (Civil)',\n",
       "  '2000',\n",
       "  \"\\\\'https://legalref.judiciary.hk/lrs/images/ThemeXP/Epage.gif\\\\'\",\n",
       "  'FACV11/2000',\n",
       "  'https://legalref.judiciary.hk/lrs/common/ju/ju_frame.jsp?DIS=20230',\n",
       "  '(13/12/2001)',\n",
       "  'SECRETARY FOR JUSTICE AND OTHERS v. CHAN WAH AND OTHERS \\xa0'),\n",
       " ('Final Appeal (Civil)',\n",
       "  '2000',\n",
       "  \"\\\\'https://legalref.judiciary.hk/lrs/images/ThemeXP/Epage.gif\\\\'\",\n",
       "  'FACV11/2000',\n",
       "  'https://legalref.judiciary.hk/lrs/common/ju/ju_frame.jsp?DIS=18950',\n",
       "  '(08/08/2000)',\n",
       "  'SECRETARY FOR JUSTICE AND ANOTHER v. CHAN WAH AND OTHERS \\xa0Reported in :[2000] 2 HKLRD 880; (2000) 3 HKCFAR 293'),\n",
       " ('Final Appeal (Civil)',\n",
       "  '2000',\n",
       "  \"\\\\'https://legalref.judiciary.hk/lrs/images/ThemeXP/Epage.gif\\\\'\",\n",
       "  'FACV12/2000',\n",
       "  'https://legalref.judiciary.hk/lrs/common/ju/ju_frame.jsp?DIS=33714',\n",
       "  '(17/01/2001)',\n",
       "  'ALBERT CHENG AND ANOTHER v. TSE WAI CHUN PAUL \\xa0Reported in :[2001] 1 HKLRD 191; (2001) 4 HKCFAR 26'),\n",
       " ('Final Appeal (Civil)',\n",
       "  '2000',\n",
       "  \"\\\\'https://legalref.judiciary.hk/lrs/images/ThemeXP/ETpage.gif\\\\'\",\n",
       "  'FACV12/2000',\n",
       "  'https://legalref.judiciary.hk/lrs/common/ju/ju_frame.jsp?DIS=21112',\n",
       "  '(13/11/2000)',\n",
       "  'ALBERT CHENG AND ANOTHER v. TSE WAI CHUN PAUL \\xa0Reported in :[2000] 3 HKLRD 418; (2000) 3 HKCFAR 339'),\n",
       " ('Final Appeal (Civil)',\n",
       "  '2000',\n",
       "  \"\\\\'https://legalref.judiciary.hk/lrs/images/ThemeXP/ETpage.gif\\\\'\",\n",
       "  'FACV13/2000',\n",
       "  'https://legalref.judiciary.hk/lrs/common/ju/ju_frame.jsp?DIS=21407',\n",
       "  '(22/12/2000)',\n",
       "  'SECRETARY FOR JUSTICE OTHERS v. CHAN WAH AND OTHERS \\xa0Reported in :[2000] 3 HKLRD 641; (2000) 3 HKCFAR 459'),\n",
       " ('Final Appeal (Civil)',\n",
       "  '2000',\n",
       "  \"\\\\'https://legalref.judiciary.hk/lrs/images/ThemeXP/Epage.gif\\\\'\",\n",
       "  'FACV13/2000',\n",
       "  'https://legalref.judiciary.hk/lrs/common/ju/ju_frame.jsp?DIS=20232',\n",
       "  '(13/12/2001)',\n",
       "  'SECRETARY FOR JUSTICE AND OTHERS v. CHAN WAH AND OTHERS \\xa0'),\n",
       " ('Final Appeal (Civil)',\n",
       "  '2000',\n",
       "  \"\\\\'https://legalref.judiciary.hk/lrs/images/ThemeXP/Epage.gif\\\\'\",\n",
       "  'FACV13/2000',\n",
       "  'https://legalref.judiciary.hk/lrs/common/ju/ju_frame.jsp?DIS=18951',\n",
       "  '(08/08/2000)',\n",
       "  'CHEUNG KAM CHUEN v. CHAN WAH AND OTHERS \\xa0Reported in :[2000] 2 HKLRD 880; (2000) 3 HKCFAR 293'),\n",
       " ('Final Appeal (Civil)',\n",
       "  '2000',\n",
       "  \"\\\\'https://legalref.judiciary.hk/lrs/images/ThemeXP/Epage.gif\\\\'\",\n",
       "  'FACV14/2000',\n",
       "  'https://legalref.judiciary.hk/lrs/common/ju/ju_frame.jsp?DIS=36330',\n",
       "  '(27/02/2001)',\n",
       "  'LEUNG KWAI LIN CINDY v. WU WING KUEN \\xa0Reported in :[2001] 1 HKLRD 212; (2001) 4 HKCFAR 55'),\n",
       " ('Final Appeal (Civil)',\n",
       "  '2000',\n",
       "  \"\\\\'https://legalref.judiciary.hk/lrs/images/ThemeXP/Epage.gif\\\\'\",\n",
       "  'FACV15/2000',\n",
       "  'https://legalref.judiciary.hk/lrs/common/ju/ju_frame.jsp?DIS=21133',\n",
       "  '(22/11/2000)',\n",
       "  'REGAL SUCCESS VENTURE LTD. v. JONLIN LTD. AND ANOTHER \\xa0Reported in :[2000] 3 HKLRD 597; (2000) 3 HKCFAR 364'),\n",
       " ('Final Appeal (Civil)',\n",
       "  '2000',\n",
       "  \"\\\\'https://legalref.judiciary.hk/lrs/images/ThemeXP/Epage.gif\\\\'\",\n",
       "  'FACV16/2000',\n",
       "  'https://legalref.judiciary.hk/lrs/common/ju/ju_frame.jsp?DIS=37348',\n",
       "  '(21/12/2000)',\n",
       "  'GLOBAL TIME INVESTMENTS LTD. v. SUPER KEEN INVESTMENTS LTD. \\xa0Reported in :[2001] 1 HKLRD 387; (2000) 3 HKCFAR 440'),\n",
       " ('Final Appeal (Civil)',\n",
       "  '2000',\n",
       "  \"\\\\'https://legalref.judiciary.hk/lrs/images/ThemeXP/Epage.gif\\\\'\",\n",
       "  'FACV17/2000',\n",
       "  'https://legalref.judiciary.hk/lrs/common/ju/ju_frame.jsp?DIS=21408',\n",
       "  '(21/12/2000)',\n",
       "  'GRAND MILLION DEVELOPMENT LTD. v. GLOBAL TIME INVESTMENTS LTD. \\xa0Reported in :[2001] 1 HKLRD 387; (2000) 3 HKCFAR 440'),\n",
       " ('Final Appeal (Civil)',\n",
       "  '2000',\n",
       "  \"\\\\'https://legalref.judiciary.hk/lrs/images/ThemeXP/Epage.gif\\\\'\",\n",
       "  'FACV18/2000',\n",
       "  'https://legalref.judiciary.hk/lrs/common/ju/ju_frame.jsp?DIS=22522',\n",
       "  '(12/07/2000)',\n",
       "  'TIN TIN YAT PAO (INTERNATIONAL) LTD. (IN LIQUIDATION) v. TIN TIN PUBLICATION DEVELOPMENT LTD. \\xa0Reported in :[2000] 3 HKLRD 111; (2000) 3 HKCFAR 251'),\n",
       " ('Final Appeal (Civil)',\n",
       "  '2000',\n",
       "  \"\\\\'https://legalref.judiciary.hk/lrs/images/ThemeXP/Epage.gif\\\\'\",\n",
       "  'FACV19/2000',\n",
       "  'https://legalref.judiciary.hk/lrs/common/ju/ju_frame.jsp?DIS=20491',\n",
       "  '(16/03/2001)',\n",
       "  'WONG WAN LEUNG AND OTHERS v. SECRETARY FOR TRANSPORT \\xa0'),\n",
       " ('Final Appeal (Civil)',\n",
       "  '2000',\n",
       "  \"\\\\'https://legalref.judiciary.hk/lrs/images/ThemeXP/Epage.gif\\\\'\",\n",
       "  'FACV19/2000',\n",
       "  'https://legalref.judiciary.hk/lrs/common/ju/ju_frame.jsp?DIS=20364',\n",
       "  '(27/02/2001)',\n",
       "  'WONG WAN LEUNG AND OTHERS v. SECRETARY FOR TRANSPORT \\xa0Reported in :[2001] 1 HKLRD 427; (2001) 4 HKCFAR 69'),\n",
       " ('Final Appeal (Civil)',\n",
       "  '2000',\n",
       "  \"\\\\'https://legalref.judiciary.hk/lrs/images/ThemeXP/ETpage.gif\\\\'\",\n",
       "  'FACV20/2000',\n",
       "  'https://legalref.judiciary.hk/lrs/common/ju/ju_frame.jsp?DIS=32922',\n",
       "  '(20/07/2001)',\n",
       "  'TAM NGA YIN AND OTHERS v. THE DIRECTOR OF IMMIGRATION \\xa0Reported in :[2001] 2 HKLRD 644; (2001) 4 HKCFAR 251'),\n",
       " ('Final Appeal (Civil)',\n",
       "  '2000',\n",
       "  \"\\\\'https://legalref.judiciary.hk/lrs/images/ThemeXP/ETpage.gif\\\\'\",\n",
       "  'FACV21/2000',\n",
       "  'https://legalref.judiciary.hk/lrs/common/ju/ju_frame.jsp?DIS=32923',\n",
       "  '(20/07/2001)',\n",
       "  'TAM NGA YIN AND OTHERS v. THE DIRECTOR OF IMMIGRATION \\xa0Reported in :[2001] 2 HKLRD 644; (2001) 4 HKCFAR 251'),\n",
       " ('Final Appeal (Civil)',\n",
       "  '2000',\n",
       "  \"\\\\'https://legalref.judiciary.hk/lrs/images/ThemeXP/ETpage.gif\\\\'\",\n",
       "  'FACV22/2000',\n",
       "  'https://legalref.judiciary.hk/lrs/common/ju/ju_frame.jsp?DIS=20233',\n",
       "  '(21/12/2001)',\n",
       "  'SUEN TOI LEE v. YAU YEE PING \\xa0Reported in :(2001) 4 HKCFAR 474; [2002] 1 HKLRD 197'),\n",
       " ('Final Appeal (Civil)',\n",
       "  '2000',\n",
       "  \"\\\\'https://legalref.judiciary.hk/lrs/images/ThemeXP/Epage.gif\\\\'\",\n",
       "  'FACV23/2000',\n",
       "  'https://legalref.judiciary.hk/lrs/common/ju/ju_frame.jsp?DIS=20365',\n",
       "  '(20/02/2001)',\n",
       "  'LAM PAK CHIU AND ANOTHER v. TSANG MEI YING AND ANOTHER \\xa0Reported in :[2001] 1 HKLRD 193; (2001) 4 HKCFAR 34'),\n",
       " ('Final Appeal (Civil)',\n",
       "  '2000',\n",
       "  \"\\\\'https://legalref.judiciary.hk/lrs/images/ThemeXP/ETpage.gif\\\\'\",\n",
       "  'FACV24/2000',\n",
       "  'https://legalref.judiciary.hk/lrs/common/ju/ju_frame.jsp?DIS=22557',\n",
       "  '(20/07/2001)',\n",
       "  'FATEH MUHAMMAD v. COMMISSIONER OF REGISTRATION \\xa0Reported in :[2001] 2 HKLRD 659; (2001) 4 HKCFAR 278'),\n",
       " ('Final Appeal (Civil)',\n",
       "  '2000',\n",
       "  \"\\\\'https://legalref.judiciary.hk/lrs/images/ThemeXP/ETpage.gif\\\\'\",\n",
       "  'FACV25/2000',\n",
       "  'https://legalref.judiciary.hk/lrs/common/ju/ju_frame.jsp?DIS=33042',\n",
       "  '(05/10/2001)',\n",
       "  'MA BIK YUNG v. KO CHUEN \\xa0Reported in :[2002] 2 HKLRD 1; (2006) 9 HKCFAR 888'),\n",
       " ('Final Appeal (Civil)',\n",
       "  '2000',\n",
       "  \"\\\\'https://legalref.judiciary.hk/lrs/images/ThemeXP/ETpage.gif\\\\'\",\n",
       "  'FACV26/2000',\n",
       "  'https://legalref.judiciary.hk/lrs/common/ju/ju_frame.jsp?DIS=22558',\n",
       "  '(20/07/2001)',\n",
       "  'THE DIRECTOR OF IMMIGRATION v. CHONG FUNG YUEN \\xa0Reported in :[2001] 2 HKLRD 533; (2001) 4 HKCFAR 211'),\n",
       " ('Final Appeal (Civil)',\n",
       "  '2000',\n",
       "  \"\\\\'https://legalref.judiciary.hk/lrs/images/ThemeXP/Epage.gif\\\\'\",\n",
       "  'FACV28/2000',\n",
       "  'https://legalref.judiciary.hk/lrs/common/ju/ju_frame.jsp?DIS=22179',\n",
       "  '(25/04/2002)',\n",
       "  'POLYSET LTD. v. PANHANDAT LTD. \\xa0'),\n",
       " ('Final Appeal (Civil)',\n",
       "  '2000',\n",
       "  \"\\\\'https://legalref.judiciary.hk/lrs/images/ThemeXP/Epage.gif\\\\'\",\n",
       "  'FACV28/2000',\n",
       "  'https://legalref.judiciary.hk/lrs/common/ju/ju_frame.jsp?DIS=21795',\n",
       "  '(25/02/2002)',\n",
       "  'POLYSET LTD. v. PANHANDAT LTD. \\xa0Reported in :[2002] 3 HKLRD 319; (2002) 5 HKCFAR 234'),\n",
       " ('Final Appeal (Civil)',\n",
       "  '2000',\n",
       "  \"\\\\'https://legalref.judiciary.hk/lrs/images/ThemeXP/Epage.gif\\\\'\",\n",
       "  'FACV29/2000',\n",
       "  'https://legalref.judiciary.hk/lrs/common/ju/ju_frame.jsp?DIS=32881',\n",
       "  '(18/06/2001)',\n",
       "  'B + B CONSTRUCTION CO. LTD. v. SUN ALLIANCE AND LONDON INSURANCE plc \\xa0Reported in :[2001] 3 HKLRD 135; (2001) 4 HKCFAR 201'),\n",
       " ('Final Appeal (Civil)',\n",
       "  '2001',\n",
       "  \"\\\\'https://legalref.judiciary.hk/lrs/images/ThemeXP/Epage.gif\\\\'\",\n",
       "  'FACV1/2001',\n",
       "  'https://legalref.judiciary.hk/lrs/common/ju/ju_frame.jsp?DIS=21794',\n",
       "  '(25/02/2002)',\n",
       "  'NG SIU TUNG AND OTHERS v. THE DIRECTOR OF IMMIGRATION \\xa0'),\n",
       " ('Final Appeal (Civil)',\n",
       "  '2001',\n",
       "  \"\\\\'https://legalref.judiciary.hk/lrs/images/ThemeXP/ETpage.gif\\\\'\",\n",
       "  'FACV1/2001',\n",
       "  'https://legalref.judiciary.hk/lrs/common/ju/ju_frame.jsp?DIS=35733',\n",
       "  '(30/07/2002)',\n",
       "  'NG SIU TUNG AND OTHERS v. THE DIRECTOR OF IMMIGRATION \\xa0Reported in :(2002) 5 HKCFAR 499'),\n",
       " ('Final Appeal (Civil)',\n",
       "  '2001',\n",
       "  \"\\\\'https://legalref.judiciary.hk/lrs/images/ThemeXP/Epage.gif\\\\'\",\n",
       "  'FACV1/2001',\n",
       "  'https://legalref.judiciary.hk/lrs/common/ju/ju_frame.jsp?DIS=25822',\n",
       "  '(09/01/2004)',\n",
       "  'NG SIU TUNG AND OTHERS v. THE DIRECTOR OF IMMIGRATION \\xa0Reported in :(2004) 7 HKCFAR 24'),\n",
       " ('Final Appeal (Civil)',\n",
       "  '2001',\n",
       "  \"\\\\'https://legalref.judiciary.hk/lrs/images/ThemeXP/Epage.gif\\\\'\",\n",
       "  'FACV1/2001',\n",
       "  'https://legalref.judiciary.hk/lrs/common/ju/ju_frame.jsp?DIS=23303',\n",
       "  '(26/03/2004)',\n",
       "  'NG SIU TUNG AND OTHERS v. THE DIRECTOR OF IMMIGRATION \\xa0'),\n",
       " ('Final Appeal (Civil)',\n",
       "  '2001',\n",
       "  \"\\\\'https://legalref.judiciary.hk/lrs/images/ThemeXP/Epage.gif\\\\'\",\n",
       "  'FACV1/2001',\n",
       "  'https://legalref.judiciary.hk/lrs/common/ju/ju_frame.jsp?DIS=51146',\n",
       "  '(05/01/2006)',\n",
       "  'NG SIU TUNG AND OTHERS v. THE DIRECTOR OF IMMIGRATION \\xa0Reported in :(2006) 9 HKCFAR 63'),\n",
       " ('Final Appeal (Civil)',\n",
       "  '2001',\n",
       "  \"\\\\'https://legalref.judiciary.hk/lrs/images/ThemeXP/Epage.gif\\\\'\",\n",
       "  'FACV1/2001',\n",
       "  'https://legalref.judiciary.hk/lrs/common/ju/ju_frame.jsp?DIS=51525',\n",
       "  '(13/02/2006)',\n",
       "  'NG SIU TUNG AND OTHERS v. THE DIRECTOR OF IMMIGRATION \\xa0'),\n",
       " ('Final Appeal (Civil)',\n",
       "  '2001',\n",
       "  \"\\\\'https://legalref.judiciary.hk/lrs/images/ThemeXP/ETpage.gif\\\\'\",\n",
       "  'FACV1/2001',\n",
       "  'https://legalref.judiciary.hk/lrs/common/ju/ju_frame.jsp?DIS=55024',\n",
       "  '(13/11/2006)',\n",
       "  'NG SIU TUNG AND OTHERS v. THE DIRECTOR OF IMMIGRATION \\xa0'),\n",
       " ('Final Appeal (Civil)',\n",
       "  '2001',\n",
       "  \"\\\\'https://legalref.judiciary.hk/lrs/images/ThemeXP/Epage.gif\\\\'\",\n",
       "  'FACV1/2001',\n",
       "  'https://legalref.judiciary.hk/lrs/common/ju/ju_frame.jsp?DIS=57873',\n",
       "  '(25/07/2007)',\n",
       "  'NG SIU TUNG AND OTHERS v. THE DIRECTOR OF IMMIGRATION \\xa0'),\n",
       " ('Final Appeal (Civil)',\n",
       "  '2001',\n",
       "  \"\\\\'https://legalref.judiciary.hk/lrs/images/ThemeXP/Epage.gif\\\\'\",\n",
       "  'FACV1/2001',\n",
       "  'https://legalref.judiciary.hk/lrs/common/ju/ju_frame.jsp?DIS=60480',\n",
       "  '(18/03/2008)',\n",
       "  'NG SIU TUNG AND OTHERS v. THE DIRECTOR OF IMMIGRATION \\xa0'),\n",
       " ('Final Appeal (Civil)',\n",
       "  '2001',\n",
       "  \"\\\\'https://legalref.judiciary.hk/lrs/images/ThemeXP/ETpage.gif\\\\'\",\n",
       "  'FACV1/2001',\n",
       "  'https://legalref.judiciary.hk/lrs/common/ju/ju_frame.jsp?DIS=20557',\n",
       "  '(10/01/2002)',\n",
       "  'NG SIU TUNG AND OTHERS v. THE DIRECTOR OF IMMIGRATION \\xa0Reported in :[2002] 1 HKLRD 561; (2002) 5 HKCFAR 1'),\n",
       " ('Final Appeal (Civil)',\n",
       "  '2001',\n",
       "  \"\\\\'https://legalref.judiciary.hk/lrs/images/ThemeXP/ETpage.gif\\\\'\",\n",
       "  'FACV2/2001',\n",
       "  'https://legalref.judiciary.hk/lrs/common/ju/ju_frame.jsp?DIS=20558',\n",
       "  '(10/01/2002)',\n",
       "  'LI SHUK FAN v. THE DIRECTOR OF IMMIGRATION \\xa0Reported in :[2002] 1 HKLRD 561; (2002) 5 HKCFAR 1'),\n",
       " ('Final Appeal (Civil)',\n",
       "  '2001',\n",
       "  \"\\\\'https://legalref.judiciary.hk/lrs/images/ThemeXP/ETpage.gif\\\\'\",\n",
       "  'FACV3/2001',\n",
       "  'https://legalref.judiciary.hk/lrs/common/ju/ju_frame.jsp?DIS=33202',\n",
       "  '(10/01/2002)',\n",
       "  'SIN HOI CHU AND OTHERS v. THE DIRECTOR OF IMMIGRATION \\xa0Reported in :[2002] 1 HKLRD 561; (2002) 5 HKCFAR 1'),\n",
       " ('Final Appeal (Civil)',\n",
       "  '2001',\n",
       "  \"\\\\'https://legalref.judiciary.hk/lrs/images/ThemeXP/Epage.gif\\\\'\",\n",
       "  'FACV4/2001',\n",
       "  'https://legalref.judiciary.hk/lrs/common/ju/ju_frame.jsp?DIS=20117',\n",
       "  '(29/10/2001)',\n",
       "  \"CHAN SIK PAN v. WYLAM\\\\'S SERVICE LTD. & ANOTHER \\xa0\"),\n",
       " ('Final Appeal (Civil)',\n",
       "  '2001',\n",
       "  \"\\\\'https://legalref.judiciary.hk/lrs/images/ThemeXP/Epage.gif\\\\'\",\n",
       "  'FACV4/2001',\n",
       "  'https://legalref.judiciary.hk/lrs/common/ju/ju_frame.jsp?DIS=19816',\n",
       "  '(19/09/2001)',\n",
       "  \"CHAN SIK PAN v. WYLAM\\\\'S SERVICES LTD. AND ANOTHER \\xa0Reported in :[2002] 1 HKLRD 337;  (2001) 4 HKCFAR 308\"),\n",
       " ('Final Appeal (Civil)',\n",
       "  '2001',\n",
       "  \"\\\\'https://legalref.judiciary.hk/lrs/images/ThemeXP/Epage.gif\\\\'\",\n",
       "  'FACV5/2001',\n",
       "  'https://legalref.judiciary.hk/lrs/common/ju/ju_frame.jsp?DIS=20225',\n",
       "  '(29/10/2001)',\n",
       "  'YU CHI KONG v. CHAN SIK PAN & OTHERS \\xa0'),\n",
       " ('Final Appeal (Civil)',\n",
       "  '2001',\n",
       "  \"\\\\'https://legalref.judiciary.hk/lrs/images/ThemeXP/Epage.gif\\\\'\",\n",
       "  'FACV5/2001',\n",
       "  'https://legalref.judiciary.hk/lrs/common/ju/ju_frame.jsp?DIS=19817',\n",
       "  '(19/09/2001)',\n",
       "  'YU CHI KONG v. CHAN SIK PAN AND OTHERS \\xa0Reported in :[2002] 1 HKLRD 337;  (2001) 4 HKCFAR 308'),\n",
       " ('Final Appeal (Civil)',\n",
       "  '2001',\n",
       "  \"\\\\'https://legalref.judiciary.hk/lrs/images/ThemeXP/ETpage.gif\\\\'\",\n",
       "  'FACV6/2001',\n",
       "  'https://legalref.judiciary.hk/lrs/common/ju/ju_frame.jsp?DIS=20226',\n",
       "  '(10/12/2001)',\n",
       "  'THE REGISTRAR OF BIRTHS AND DEATHS v. SYED HAIDER YAHYA HUSSAIN AND ANOTHER \\xa0Reported in :(2001) 4 HKCFAR 429; [2002] 2 HKLRD 205'),\n",
       " ('Final Appeal (Civil)',\n",
       "  '2001',\n",
       "  \"\\\\'https://legalref.judiciary.hk/lrs/images/ThemeXP/Epage.gif\\\\'\",\n",
       "  'FACV7/2001',\n",
       "  'https://legalref.judiciary.hk/lrs/common/ju/ju_frame.jsp?DIS=32378',\n",
       "  '(10/09/2001)',\n",
       "  'WISHING LONG HONG v. WONG KIT CHUN \\xa0Reported in :[2001] 3 HKLRD 100; (2001) 4 HKCFAR 289'),\n",
       " ('Final Appeal (Civil)',\n",
       "  '2001',\n",
       "  \"\\\\'https://legalref.judiciary.hk/lrs/images/ThemeXP/Epage.gif\\\\'\",\n",
       "  'FACV8/2001',\n",
       "  'https://legalref.judiciary.hk/lrs/common/ju/ju_frame.jsp?DIS=22323',\n",
       "  '(27/05/2002)',\n",
       "  'MALCOLM ERNEST GRAY v. DIANE CARY BARBER SERVINO \\xa0'),\n",
       " ('Final Appeal (Civil)',\n",
       "  '2001',\n",
       "  \"\\\\'https://legalref.judiciary.hk/lrs/images/ThemeXP/Epage.gif\\\\'\",\n",
       "  'FACV8/2001',\n",
       "  'https://legalref.judiciary.hk/lrs/common/ju/ju_frame.jsp?DIS=20227',\n",
       "  '(10/12/2001)',\n",
       "  'MALCOLM ERNEST GRAY v. DIANE CARY BARBER SERVINO \\xa0Reported in :[2001] 3 HKLRD 842; (2001) 4 HKCFAR 419'),\n",
       " ('Final Appeal (Civil)',\n",
       "  '2001',\n",
       "  \"\\\\'https://legalref.judiciary.hk/lrs/images/ThemeXP/Epage.gif\\\\'\",\n",
       "  'FACV9/2001',\n",
       "  'https://legalref.judiciary.hk/lrs/common/ju/ju_frame.jsp?DIS=20228',\n",
       "  '(10/12/2001)',\n",
       "  'GREEN PARK PROPERTIES LTD. v. DORKU LTD. \\xa0Reported in :[2001] 3 HKLRD 760; (2001) 4 HKCFAR 448'),\n",
       " ('Final Appeal (Civil)',\n",
       "  '2001',\n",
       "  \"\\\\'https://legalref.judiciary.hk/lrs/images/ThemeXP/Epage.gif\\\\'\",\n",
       "  'FACV10/2001',\n",
       "  'https://legalref.judiciary.hk/lrs/common/ju/ju_frame.jsp?DIS=20689',\n",
       "  '(31/01/2002)',\n",
       "  'KENSLAND REALTY LTD. v. WHALE VIEW INVESTMENT LTD. AND ANOTHER \\xa0'),\n",
       " ('Final Appeal (Civil)',\n",
       "  '2001',\n",
       "  \"\\\\'https://legalref.judiciary.hk/lrs/images/ThemeXP/Epage.gif\\\\'\",\n",
       "  'FACV10/2001',\n",
       "  'https://legalref.judiciary.hk/lrs/common/ju/ju_frame.jsp?DIS=20229',\n",
       "  '(10/12/2001)',\n",
       "  'KENSLAND REALTY LTD. v. WHALE VIEW INVESTMENT LTD. AND ANOTHER \\xa0Reported in :(2001) 4 HKCFAR 381; [2002] 1 HKLRD 87'),\n",
       " ('Final Appeal (Civil)',\n",
       "  '2001',\n",
       "  \"\\\\'https://legalref.judiciary.hk/lrs/images/ThemeXP/ETpage.gif\\\\'\",\n",
       "  'FACV11/2001',\n",
       "  'https://legalref.judiciary.hk/lrs/common/ju/ju_frame.jsp?DIS=20231',\n",
       "  '(03/12/2001)',\n",
       "  'UDL ARGOS ENGINEERING & HEAVY INDUSTRIES CO. LTD. v. LI OI LIN \\xa0Reported in :[2001] 3 HKLRD 634; (2001) 4 HKCFAR 358'),\n",
       " ('Final Appeal (Civil)',\n",
       "  '2001',\n",
       "  \"\\\\'https://legalref.judiciary.hk/lrs/images/ThemeXP/Epage.gif\\\\'\",\n",
       "  'FACV12/2001',\n",
       "  'https://legalref.judiciary.hk/lrs/common/ju/ju_frame.jsp?DIS=21918',\n",
       "  '(14/03/2002)',\n",
       "  'TING KWOK KEUNG v. TAM DICK YUEN t/a TAM DICK YUEN ENGINEERING AND OTHERS \\xa0Reported in :[2002] 3 HKLRD 1; (2002) 5 HKCFAR 336'),\n",
       " ('Final Appeal (Civil)',\n",
       "  '2001',\n",
       "  \"\\\\'https://legalref.judiciary.hk/lrs/images/ThemeXP/Epage.gif\\\\'\",\n",
       "  'FACV13/2001',\n",
       "  'https://legalref.judiciary.hk/lrs/common/ju/ju_frame.jsp?DIS=19084',\n",
       "  '(19/04/2002)',\n",
       "  'THE KA WAH BANK LTD v. BHAGWAN SHANKARDAS MOORJANI \\xa0'),\n",
       " ('Final Appeal (Civil)',\n",
       "  '2001',\n",
       "  \"\\\\'https://legalref.judiciary.hk/lrs/images/ThemeXP/Epage.gif\\\\'\",\n",
       "  'FACV13/2001',\n",
       "  'https://legalref.judiciary.hk/lrs/common/ju/ju_frame.jsp?DIS=19029',\n",
       "  '(08/03/2002)',\n",
       "  'THE KA WAH BANK LTD v. BHAGWAN SHANKARDAS MOORJANI \\xa0Reported in :[2002] 1 HKLRD 719; (2002) 5 HKCFAR 313'),\n",
       " ('Final Appeal (Civil)',\n",
       "  '2001',\n",
       "  \"\\\\'https://legalref.judiciary.hk/lrs/images/ThemeXP/Epage.gif\\\\'\",\n",
       "  'FACV14/2001',\n",
       "  'https://legalref.judiciary.hk/lrs/common/ju/ju_frame.jsp?DIS=20920',\n",
       "  '(04/03/2002)',\n",
       "  'PAUL CHEN AND ANOTHER v. LORD ENERGY LTD. \\xa0Reported in :[2002] 1 HKLRD 495; (2002) 5 HKCFAR 297'),\n",
       " ('Final Appeal (Civil)',\n",
       "  '2001',\n",
       "  \"\\\\'https://legalref.judiciary.hk/lrs/images/ThemeXP/Epage.gif\\\\'\",\n",
       "  'FACV15/2001',\n",
       "  'https://legalref.judiciary.hk/lrs/common/ju/ju_frame.jsp?DIS=22324',\n",
       "  '(07/05/2002)',\n",
       "  'FLYWIN CO. LTD. v. STRONG & ASSOCIATES LTD. \\xa0Reported in :[2002] 2 HKLRD 485; (2002) 5 HKCFAR 356'),\n",
       " ('Final Appeal (Civil)',\n",
       "  '2001',\n",
       "  \"\\\\'https://legalref.judiciary.hk/lrs/images/ThemeXP/Epage.gif\\\\'\",\n",
       "  'FACV16/2001',\n",
       "  'https://legalref.judiciary.hk/lrs/common/ju/ju_frame.jsp?DIS=25407',\n",
       "  '(04/12/2002)',\n",
       "  'BANK OF CHINA (HONG KONG) LTD v. FUNG CHIN KAN AND ANOTHER \\xa0Reported in :[2003] 1 HKLRD 181; (2002) 5 HKCFAR 515'),\n",
       " ('Final Appeal (Civil)',\n",
       "  '2001',\n",
       "  \"\\\\'https://legalref.judiciary.hk/lrs/images/ThemeXP/ETpage.gif\\\\'\",\n",
       "  'FACV17/2001',\n",
       "  'https://legalref.judiciary.hk/lrs/common/ju/ju_frame.jsp?DIS=22741',\n",
       "  '(30/07/2002)',\n",
       "  'GURUNG KESH BAHADUR v. DIRECTOR OF IMMIGRATION \\xa0Reported in :[2002] 2 HKLRD 775; (2002) 5 HKCFAR 480'),\n",
       " ('Final Appeal (Civil)',\n",
       "  '2007',\n",
       "  \"\\\\'https://legalref.judiciary.hk/lrs/images/ThemeXP/Epage.gif\\\\'\",\n",
       "  'FACV1/2007',\n",
       "  'https://legalref.judiciary.hk/lrs/common/ju/ju_frame.jsp?DIS=60673',\n",
       "  '(07/04/2008)',\n",
       "  'NAM TAI ELECTRONICS, INC. v. PRICEWATERHOUSE COOPERS \\xa0'),\n",
       " ('Final Appeal (Civil)',\n",
       "  '2007',\n",
       "  \"\\\\'https://legalref.judiciary.hk/lrs/images/ThemeXP/Epage.gif\\\\'\",\n",
       "  'FACV1/2007',\n",
       "  'https://legalref.judiciary.hk/lrs/common/ju/ju_frame.jsp?DIS=59972',\n",
       "  '(31/01/2005)',\n",
       "  'NAM TAI ELECTRONICS, INC. v. PRICEWATERHOUSE COOPERS \\xa0Reported in :[2008] 1 HKLRD 666; (2008) 11 HKCFAR 62'),\n",
       " ('Final Appeal (Civil)',\n",
       "  '2007',\n",
       "  \"\\\\'https://legalref.judiciary.hk/lrs/images/ThemeXP/Epage.gif\\\\'\",\n",
       "  'FACV2/2007',\n",
       "  'https://legalref.judiciary.hk/lrs/common/ju/ju_frame.jsp?DIS=60403',\n",
       "  '(13/03/2008)',\n",
       "  'COMMISSIONER OF INLAND REVENUE v. TAI HING COTTON MILL (DEVELOPMENT) LTD \\xa0'),\n",
       " ('Final Appeal (Civil)',\n",
       "  '2007',\n",
       "  \"\\\\'https://legalref.judiciary.hk/lrs/images/ThemeXP/Epage.gif\\\\'\",\n",
       "  'FACV2/2007',\n",
       "  'https://legalref.judiciary.hk/lrs/common/ju/ju_frame.jsp?DIS=59347',\n",
       "  '(04/12/2007)',\n",
       "  'COMMISSIONER OF INLAND REVENUE v. TAI HING COTTON MILL (DEVELOPMENT) LTD \\xa0Reported in :[2008] 2 HKLRD 40; (2007) 10 HKCFAR 704'),\n",
       " ('Final Appeal (Civil)',\n",
       "  '2007',\n",
       "  \"\\\\'https://legalref.judiciary.hk/lrs/images/ThemeXP/Epage.gif\\\\'\",\n",
       "  'FACV3/2007',\n",
       "  'https://legalref.judiciary.hk/lrs/common/ju/ju_frame.jsp?DIS=59781',\n",
       "  '(16/01/2008)',\n",
       "  'REAL ESTATE INVESTMENTS (N.T.) LTD v. THE COMMISSIONER OF INLAND REVENUE \\xa0Reported in :(2008) 11 HKCFAR 433'),\n",
       " ('Final Appeal (Civil)',\n",
       "  '2007',\n",
       "  \"\\\\'https://legalref.judiciary.hk/lrs/images/ThemeXP/Epage.gif\\\\'\",\n",
       "  'FACV4/2007',\n",
       "  'https://legalref.judiciary.hk/lrs/common/ju/ju_frame.jsp?DIS=58906',\n",
       "  '(26/10/2007)',\n",
       "  'LEUNG TSANG HUNG AND ANOTHER v. THE INCORPORATED OWNERS OF KWOK WING HOUSE \\xa0Reported in :[2007] 4 HKLRD 654; (2007) 10 HKCFAR 480'),\n",
       " ('Final Appeal (Civil)',\n",
       "  '2007',\n",
       "  \"\\\\'https://legalref.judiciary.hk/lrs/images/ThemeXP/ETpage.gif\\\\'\",\n",
       "  'FACV5/2007',\n",
       "  'https://legalref.judiciary.hk/lrs/common/ju/ju_frame.jsp?DIS=58987',\n",
       "  '(05/11/2007)',\n",
       "  'LAI TAK SHING v. THE SECRETARY FOR HOME AFFAIRS AND ANOTHER \\xa0Reported in :(2007) 10 HKCFAR 655'),\n",
       " ('Final Appeal (Civil)',\n",
       "  '2007',\n",
       "  \"\\\\'https://legalref.judiciary.hk/lrs/images/ThemeXP/Epage.gif\\\\'\",\n",
       "  'FACV8/2007',\n",
       "  'https://legalref.judiciary.hk/lrs/common/ju/ju_frame.jsp?DIS=61102',\n",
       "  '(19/05/2008)',\n",
       "  'COMMISSIONER OF INLAND REVENUE v. HIT FINANCE LTD \\xa0'),\n",
       " ('Final Appeal (Civil)',\n",
       "  '2007',\n",
       "  \"\\\\'https://legalref.judiciary.hk/lrs/images/ThemeXP/Epage.gif\\\\'\",\n",
       "  'FACV8/2007',\n",
       "  'https://legalref.judiciary.hk/lrs/common/ju/ju_frame.jsp?DIS=61543',\n",
       "  '(26/06/2008)',\n",
       "  'COMMISSIONER OF INLAND REVENUE v. HIT FINANCE LTD \\xa0Reported in :[2014] 4 HKLRD 412'),\n",
       " ('Final Appeal (Civil)',\n",
       "  '2007',\n",
       "  \"\\\\'https://legalref.judiciary.hk/lrs/images/ThemeXP/Epage.gif\\\\'\",\n",
       "  'FACV8/2007',\n",
       "  'https://legalref.judiciary.hk/lrs/common/ju/ju_frame.jsp?DIS=59348',\n",
       "  '(04/12/2007)',\n",
       "  'COMMISSIONER OF INLAND REVENUE v. HIT FINANCE LTD \\xa0Reported in :[2008] 2 HKLRD 52; (2007) 10 HKCFAR 717'),\n",
       " ('Final Appeal (Civil)',\n",
       "  '2007',\n",
       "  \"\\\\'https://legalref.judiciary.hk/lrs/images/ThemeXP/Epage.gif\\\\'\",\n",
       "  'FACV9/2007',\n",
       "  'https://legalref.judiciary.hk/lrs/common/ju/ju_frame.jsp?DIS=61104',\n",
       "  '(19/05/2008)',\n",
       "  'COMMISSIONER OF INLAND REVENUE v. HONGKONG INTERNATIONAL TERMINALS  LTD \\xa0'),\n",
       " ('Final Appeal (Civil)',\n",
       "  '2007',\n",
       "  \"\\\\'https://legalref.judiciary.hk/lrs/images/ThemeXP/Epage.gif\\\\'\",\n",
       "  'FACV9/2007',\n",
       "  'https://legalref.judiciary.hk/lrs/common/ju/ju_frame.jsp?DIS=61545',\n",
       "  '(26/06/2008)',\n",
       "  'COMMISSIONER OF INLAND REVENUE v. HONGKONG INTERNATIONAL TERMINALS LTD \\xa0Reported in :[2014] 4 HKLRD 412'),\n",
       " ('Final Appeal (Civil)',\n",
       "  '2007',\n",
       "  \"\\\\'https://legalref.judiciary.hk/lrs/images/ThemeXP/Epage.gif\\\\'\",\n",
       "  'FACV9/2007',\n",
       "  'https://legalref.judiciary.hk/lrs/common/ju/ju_frame.jsp?DIS=59350',\n",
       "  '(04/12/2007)',\n",
       "  'COMMISSIONER OF INLAND REVENUE v. HONGKONG INTERNATIONAL TERMINALS LTD \\xa0Reported in :[2008] 2 HKLRD 52; (2007) 10 HKCFAR 717'),\n",
       " ('Final Appeal (Civil)',\n",
       "  '2007',\n",
       "  \"\\\\'https://legalref.judiciary.hk/lrs/images/ThemeXP/Epage.gif\\\\'\",\n",
       "  'FACV10/2007',\n",
       "  'https://legalref.judiciary.hk/lrs/common/ju/ju_frame.jsp?DIS=59323',\n",
       "  '(30/11/2007)',\n",
       "  'PETER PO FUN CHAN v. WINNIE CW CHEUNG AND ANOTHER \\xa0Reported in :[2008] 1 HKLRD 319; (2007) 10 HKCFAR 676'),\n",
       " ('Final Appeal (Civil)',\n",
       "  '2007',\n",
       "  \"\\\\'https://legalref.judiciary.hk/lrs/images/ThemeXP/ETpage.gif\\\\'\",\n",
       "  'FACV11/2007',\n",
       "  'https://legalref.judiciary.hk/lrs/common/ju/ju_frame.jsp?DIS=60342',\n",
       "  '(07/03/2008)',\n",
       "  'KENSLAND REALTY LTD v. TAI, TANG CHONG \\xa0Reported in :(2008) 11 HKCFAR 237'),\n",
       " ('Final Appeal (Civil)',\n",
       "  '2007',\n",
       "  \"\\\\'https://legalref.judiciary.hk/lrs/images/ThemeXP/Epage.gif\\\\'\",\n",
       "  'FACV12/2007',\n",
       "  'https://legalref.judiciary.hk/lrs/common/ju/ju_frame.jsp?DIS=59973',\n",
       "  '(31/01/2008)',\n",
       "  'MINCHEST LTD v. LAU TSUI KWAI AND OTHERS \\xa0Reported in :(2008) 11 HKCFAR 551'),\n",
       " ('Final Appeal (Civil)',\n",
       "  '2007',\n",
       "  \"\\\\'https://legalref.judiciary.hk/lrs/images/ThemeXP/Epage.gif\\\\'\",\n",
       "  'FACV13/2007',\n",
       "  'https://legalref.judiciary.hk/lrs/common/ju/ju_frame.jsp?DIS=60786',\n",
       "  '(18/04/2008)',\n",
       "  'FONG YAU HEI v. GAMMON CONSTRUCTION LTD AND OTHERS \\xa0Reported in :[2008] 3 HKLRD 604; (2008) 11 HKCFAR 212'),\n",
       " ('Final Appeal (Civil)',\n",
       "  '2007',\n",
       "  \"\\\\'https://legalref.judiciary.hk/lrs/images/ThemeXP/Epage.gif\\\\'\",\n",
       "  'FACV14/2007',\n",
       "  'https://legalref.judiciary.hk/lrs/common/ju/ju_frame.jsp?DIS=59974',\n",
       "  '(31/01/2008)',\n",
       "  'LEE YEE SHING AND ANOTHER v. COMMISSIONER OF INLAND REVENUE \\xa0Reported in :[2008] 3 HKLRD 51; (2008) 11 HKCFAR 6'),\n",
       " ('Final Appeal (Civil)',\n",
       "  '2007',\n",
       "  \"\\\\'https://legalref.judiciary.hk/lrs/images/ThemeXP/Epage.gif\\\\'\",\n",
       "  'FACV15/2007',\n",
       "  'https://legalref.judiciary.hk/lrs/common/ju/ju_frame.jsp?DIS=63241',\n",
       "  '(14/11/2008)',\n",
       "  'WADDINGTON LTD v. CHAN CHUN HOO THOMAS AND OTHERS \\xa0'),\n",
       " ('Final Appeal (Civil)',\n",
       "  '2007',\n",
       "  \"\\\\'https://legalref.judiciary.hk/lrs/images/ThemeXP/Epage.gif\\\\'\",\n",
       "  'FACV15/2007',\n",
       "  'https://legalref.judiciary.hk/lrs/common/ju/ju_frame.jsp?DIS=62499',\n",
       "  '(08/09/2008)',\n",
       "  'WADDINGTON LTD v. CHAN CHUN HOO THOMAS AND OTHERS \\xa0Reported in :(2008) 11 HKCFAR 370'),\n",
       " ('Final Appeal (Civil)',\n",
       "  '2007',\n",
       "  \"\\\\'https://legalref.judiciary.hk/lrs/images/ThemeXP/Epage.gif\\\\'\",\n",
       "  'FACV16/2007',\n",
       "  'https://legalref.judiciary.hk/lrs/common/ju/ju_frame.jsp?DIS=61103',\n",
       "  '(19/05/2008)',\n",
       "  'COMMISSIONER OF INLAND REVENUE v. HIT FINANCE LTD \\xa0'),\n",
       " ('Final Appeal (Civil)',\n",
       "  '2007',\n",
       "  \"\\\\'https://legalref.judiciary.hk/lrs/images/ThemeXP/Epage.gif\\\\'\",\n",
       "  'FACV16/2007',\n",
       "  'https://legalref.judiciary.hk/lrs/common/ju/ju_frame.jsp?DIS=61544',\n",
       "  '(26/06/2008)',\n",
       "  'COMMISSIONER OF INLAND REVENUE v. HIT FINANCE LTD \\xa0Reported in :[2014] 4 HKLRD 412'),\n",
       " ('Final Appeal (Civil)',\n",
       "  '2007',\n",
       "  \"\\\\'https://legalref.judiciary.hk/lrs/images/ThemeXP/Epage.gif\\\\'\",\n",
       "  'FACV16/2007',\n",
       "  'https://legalref.judiciary.hk/lrs/common/ju/ju_frame.jsp?DIS=59349',\n",
       "  '(04/12/2007)',\n",
       "  'COMMISSIONER OF INLAND REVENUE v. HIT FINANCE LTD \\xa0Reported in :[2008] 2 HKLRD 52; (2007) 10 HKCFAR 717'),\n",
       " ('Final Appeal (Civil)',\n",
       "  '2007',\n",
       "  \"\\\\'https://legalref.judiciary.hk/lrs/images/ThemeXP/Epage.gif\\\\'\",\n",
       "  'FACV17/2007',\n",
       "  'https://legalref.judiciary.hk/lrs/common/ju/ju_frame.jsp?DIS=61105',\n",
       "  '(19/05/2008)',\n",
       "  'COMMISSIONER OF INLAND REVENUE v. HONGKONG INTERNATIONAL TERMINALS  LTD \\xa0'),\n",
       " ('Final Appeal (Civil)',\n",
       "  '2007',\n",
       "  \"\\\\'https://legalref.judiciary.hk/lrs/images/ThemeXP/Epage.gif\\\\'\",\n",
       "  'FACV17/2007',\n",
       "  'https://legalref.judiciary.hk/lrs/common/ju/ju_frame.jsp?DIS=61546',\n",
       "  '(26/06/2008)',\n",
       "  'COMMISSIONER OF INLAND REVENUE v. HONGKONG INTERNATIONAL TERMINALS LTD \\xa0Reported in :[2014] 4 HKLRD 412'),\n",
       " ('Final Appeal (Civil)',\n",
       "  '2007',\n",
       "  \"\\\\'https://legalref.judiciary.hk/lrs/images/ThemeXP/Epage.gif\\\\'\",\n",
       "  'FACV17/2007',\n",
       "  'https://legalref.judiciary.hk/lrs/common/ju/ju_frame.jsp?DIS=59351',\n",
       "  '(04/12/2007)',\n",
       "  'COMMISSIONER OF INLAND REVENUE v. HONGKONG INTERNATIONAL TERMINALS LTD \\xa0Reported in :[2008] 2 HKLRD 52; (2007) 10 HKCFAR 717'),\n",
       " ('Final Appeal (Civil)',\n",
       "  '2007',\n",
       "  \"\\\\'https://legalref.judiciary.hk/lrs/images/ThemeXP/Epage.gif\\\\'\",\n",
       "  'FACV18/2007',\n",
       "  'https://legalref.judiciary.hk/lrs/common/ju/ju_frame.jsp?DIS=60787',\n",
       "  '(18/04/2008)',\n",
       "  'GUANGDONG NATIVE PRODUCE CO LTD v. TAM TZE YING t/a SUN YING TRADING CO \\xa0Reported in :(2008) 11 HKCFAR 455'),\n",
       " ('Final Appeal (Civil)',\n",
       "  '2007',\n",
       "  \"\\\\'https://legalref.judiciary.hk/lrs/images/ThemeXP/ETpage.gif\\\\'\",\n",
       "  'FACV19/2007',\n",
       "  'https://legalref.judiciary.hk/lrs/common/ju/ju_frame.jsp?DIS=60481',\n",
       "  '(18/03/2008)',\n",
       "  'KOON WING YEE v. INSIDER DEALING TRIBUNAL AND ANOTHER \\xa0Reported in :[2008] 3 HKLRD 372; (2008) 11 HKCFAR 170'),\n",
       " ('Final Appeal (Civil)',\n",
       "  '2007',\n",
       "  \"\\\\'https://legalref.judiciary.hk/lrs/images/ThemeXP/ETpage.gif\\\\'\",\n",
       "  'FACV20/2007',\n",
       "  'https://legalref.judiciary.hk/lrs/common/ju/ju_frame.jsp?DIS=60494',\n",
       "  '(18/03/2008)',\n",
       "  'CHAN KIN SHING SONNY v. INSIDER DEALING TRIBUNAL AND ANOTHER \\xa0Reported in :[2008] 3 HKLRD 372; (2008) 11 HKCFAR 170'),\n",
       " ('Final Appeal (Civil)',\n",
       "  '2007',\n",
       "  \"\\\\'https://legalref.judiciary.hk/lrs/images/ThemeXP/Epage.gif\\\\'\",\n",
       "  'FACV21/2007',\n",
       "  'https://legalref.judiciary.hk/lrs/common/ju/ju_frame.jsp?DIS=60879',\n",
       "  '(28/04/2008)',\n",
       "  'MARBLE HOLDING LTD v. YATIN DEVELOPMENT LTD \\xa0Reported in :[2008] 4 HKLRD 950; (2008) 11 HKCFAR 222'),\n",
       " ('Final Appeal (Civil)',\n",
       "  '2007',\n",
       "  \"\\\\'https://legalref.judiciary.hk/lrs/images/ThemeXP/ETpage.gif\\\\'\",\n",
       "  'FACV22/2007',\n",
       "  'https://legalref.judiciary.hk/lrs/common/ju/ju_frame.jsp?DIS=61840',\n",
       "  '(25/07/2008)',\n",
       "  'YEUNG CHUNG MING v. COMMISSIONER OF POLICE \\xa0Reported in :(2008) 11 HKCFAR 513'),\n",
       " ('Final Appeal (Civil)',\n",
       "  '2007',\n",
       "  \"\\\\'https://legalref.judiciary.hk/lrs/images/ThemeXP/Epage.gif\\\\'\",\n",
       "  'FACV23/2007',\n",
       "  'https://legalref.judiciary.hk/lrs/common/ju/ju_frame.jsp?DIS=63531',\n",
       "  '(05/12/2008)',\n",
       "  'HEBEI ENTERPRISES LTD AND OTHERS v. LIVASIRI & CO (A FIRM) AND OTHERS \\xa0'),\n",
       " ('Final Appeal (Civil)',\n",
       "  '2007',\n",
       "  \"\\\\'https://legalref.judiciary.hk/lrs/images/ThemeXP/Epage.gif\\\\'\",\n",
       "  'FACV23/2007',\n",
       "  'https://legalref.judiciary.hk/lrs/common/ju/ju_frame.jsp?DIS=61679',\n",
       "  '(15/07/2008)',\n",
       "  'HEBEI ENTERPRISES LTD AND OTHERS v. LIVASIRI & CO (A FIRM) AND OTHERS \\xa0Reported in :[2008] 5 HKLRD 102; (2008) 11 HKCFAR 321'),\n",
       " ('Final Appeal (Civil)',\n",
       "  '2007',\n",
       "  \"\\\\'https://legalref.judiciary.hk/lrs/images/ThemeXP/ETpage.gif\\\\'\",\n",
       "  'FACV24/2007',\n",
       "  'https://legalref.judiciary.hk/lrs/common/ju/ju_frame.jsp?DIS=60404',\n",
       "  '(13/03/2008)',\n",
       "  'A SOLICITOR v. THE LAW SOCIETY OF HONG KONG \\xa0Reported in :[2008] 2 HKLRD 576; (2008) 11 HKCFAR 117'),\n",
       " ('Final Appeal (Civil)',\n",
       "  '2007',\n",
       "  \"\\\\'https://legalref.judiciary.hk/lrs/images/ThemeXP/Epage.gif\\\\'\",\n",
       "  'FACV25/2007',\n",
       "  'https://legalref.judiciary.hk/lrs/common/ju/ju_frame.jsp?DIS=63532',\n",
       "  '(05/12/2008)',\n",
       "  'HEBEI ENTERPRISES LTD AND OTHERS v. LIVASIRI & CO (A FIRM) AND OTHERS \\xa0'),\n",
       " ('Final Appeal (Civil)',\n",
       "  '2007',\n",
       "  \"\\\\'https://legalref.judiciary.hk/lrs/images/ThemeXP/Epage.gif\\\\'\",\n",
       "  'FACV25/2007',\n",
       "  'https://legalref.judiciary.hk/lrs/common/ju/ju_frame.jsp?DIS=61680',\n",
       "  '(15/07/2008)',\n",
       "  'HEBEI ENTERPRISES LTD AND OTHERS v. LIVASIRI & CO (A FIRM) AND OTHERS \\xa0Reported in :[2008] 5 HKLRD 102; (2008) 11 HKCFAR 321'),\n",
       " ('Final Appeal (Civil)',\n",
       "  '2007',\n",
       "  \"\\\\'https://legalref.judiciary.hk/lrs/images/ThemeXP/Epage.gif\\\\'\",\n",
       "  'FACV26/2007',\n",
       "  'https://legalref.judiciary.hk/lrs/common/ju/ju_frame.jsp?DIS=61367',\n",
       "  '(16/06/2008)',\n",
       "  'PAQUITO LIMA BUTON v. RAINBOW JOY SHIPPING LTD INC \\xa0'),\n",
       " ('Final Appeal (Civil)',\n",
       "  '2007',\n",
       "  \"\\\\'https://legalref.judiciary.hk/lrs/images/ThemeXP/Epage.gif\\\\'\",\n",
       "  'FACV26/2007',\n",
       "  'https://legalref.judiciary.hk/lrs/common/ju/ju_frame.jsp?DIS=60880',\n",
       "  '(28/04/2008)',\n",
       "  'PAQUITO LIMA BUTON v. RAINBOW JOY SHIPPING LTD INC \\xa0Reported in :(2008) 11 HKCFAR 464'),\n",
       " ('Final Appeal (Civil)',\n",
       "  '2007',\n",
       "  \"\\\\'https://legalref.judiciary.hk/lrs/images/ThemeXP/Epage.gif\\\\'\",\n",
       "  'FACV27/2007',\n",
       "  'https://legalref.judiciary.hk/lrs/common/ju/ju_frame.jsp?DIS=67552',\n",
       "  '(14/09/2009)',\n",
       "  'DONALD KOO HOI-YAN v. KAO, LEE & YIP (a firm) \\xa0Reported in :(2009) 12 HKCFAR 904'),\n",
       " ('Final Appeal (Civil)',\n",
       "  '2007',\n",
       "  \"\\\\'https://legalref.judiciary.hk/lrs/images/ThemeXP/ETpage.gif\\\\'\",\n",
       "  'FACV27/2007',\n",
       "  'https://legalref.judiciary.hk/lrs/common/ju/ju_frame.jsp?DIS=66356',\n",
       "  '(25/06/2009)',\n",
       "  'KAO, LEE & YIP (a firm) v. DONALD KOO HOI-YAN AND OTHERS \\xa0Reported in :(2009) 12 HKCFAR 830'),\n",
       " ('Final Appeal (Civil)',\n",
       "  '2007',\n",
       "  \"\\\\'https://legalref.judiciary.hk/lrs/images/ThemeXP/Epage.gif\\\\'\",\n",
       "  'FACV28/2007',\n",
       "  'https://legalref.judiciary.hk/lrs/common/ju/ju_frame.jsp?DIS=60881',\n",
       "  '(28/04/2008)',\n",
       "  'CHINA MAP LTD v. THE COMMISSIONER OF INLAND REVEUNE \\xa0Reported in :(2008) 11 HKCFAR 486'),\n",
       " ('Final Appeal (Civil)',\n",
       "  '2007',\n",
       "  \"\\\\'https://legalref.judiciary.hk/lrs/images/ThemeXP/Epage.gif\\\\'\",\n",
       "  'FACV29/2007',\n",
       "  'https://legalref.judiciary.hk/lrs/common/ju/ju_frame.jsp?DIS=60913',\n",
       "  '(28/04/2008)',\n",
       "  'CHINA NAME LTD v. THE COMMISSIONER OF INLAND REVEUNE \\xa0Reported in :(2008) 11 HKCFAR 486'),\n",
       " ('Final Appeal (Civil)',\n",
       "  '2007',\n",
       "  \"\\\\'https://legalref.judiciary.hk/lrs/images/ThemeXP/Epage.gif\\\\'\",\n",
       "  'FACV30/2007',\n",
       "  'https://legalref.judiciary.hk/lrs/common/ju/ju_frame.jsp?DIS=60914',\n",
       "  '(28/04/2008)',\n",
       "  'CHANCE INVESTMENT LTD v. THE COMMISSIONER OF INLAND REVEUNE \\xa0Reported in :(2008) 11 HKCFAR 486'),\n",
       " ('Final Appeal (Civil)',\n",
       "  '2007',\n",
       "  \"\\\\'https://legalref.judiciary.hk/lrs/images/ThemeXP/Epage.gif\\\\'\",\n",
       "  'FACV31/2007',\n",
       "  'https://legalref.judiciary.hk/lrs/common/ju/ju_frame.jsp?DIS=60915',\n",
       "  '(28/04/2008)',\n",
       "  'COMEBRIGHT DEVELOPMENT LTD v. THE COMMISSIONER OF INLAND REVEUNE \\xa0Reported in :(2008) 11 HKCFAR 486'),\n",
       " ('Final Appeal (Civil)',\n",
       "  '2007',\n",
       "  \"\\\\'https://legalref.judiciary.hk/lrs/images/ThemeXP/Epage.gif\\\\'\",\n",
       "  'FACV32/2007',\n",
       "  'https://legalref.judiciary.hk/lrs/common/ju/ju_frame.jsp?DIS=62500',\n",
       "  '(08/09/2008)',\n",
       "  'LUO XING JUAN ANGELA v. THE ESTATE OF HUI SHUI SEE, WILLY, DECEASED AND OTHERS \\xa0'),\n",
       " ('Final Appeal (Civil)',\n",
       "  '2007',\n",
       "  \"\\\\'https://legalref.judiciary.hk/lrs/images/ThemeXP/Epage.gif\\\\'\",\n",
       "  'FACV32/2007',\n",
       "  'https://legalref.judiciary.hk/lrs/common/ju/ju_frame.jsp?DIS=61366',\n",
       "  '(16/06/2008)',\n",
       "  'LUO XING JUAN ANGELA v. THE ESTATE OF HUI SHUI SEE, WILLY DECEASED AND OTHERS \\xa0Reported in :(2009) 12 HKCFAR 1'),\n",
       " ('Final Appeal (Civil)',\n",
       "  '2007',\n",
       "  \"\\\\'https://legalref.judiciary.hk/lrs/images/ThemeXP/Epage.gif\\\\'\",\n",
       "  'FACV33/2007',\n",
       "  'https://legalref.judiciary.hk/lrs/common/ju/ju_frame.jsp?DIS=63056',\n",
       "  '(29/10/2008)',\n",
       "  'KAN KAM CHO AND ANOTHER v. KAN CHIU NAM RAYMOND AND ANOTHER \\xa0Reported in :(2008) 11 HKCFAR 538'),\n",
       " ('Final Appeal (Civil)',\n",
       "  '2007',\n",
       "  \"\\\\'https://legalref.judiciary.hk/lrs/images/ThemeXP/Epage.gif\\\\'\",\n",
       "  'FACV34/2007',\n",
       "  'https://legalref.judiciary.hk/lrs/common/ju/ju_frame.jsp?DIS=65760',\n",
       "  '(14/05/2009)',\n",
       "  'CHEUNG PUI YUEN AND OTHERS v. WORLDCUP INVESTMENTS INC. AND OTHERS \\xa0'),\n",
       " ('Final Appeal (Civil)',\n",
       "  '2007',\n",
       "  \"\\\\'https://legalref.judiciary.hk/lrs/images/ThemeXP/Epage.gif\\\\'\",\n",
       "  'FACV34/2007',\n",
       "  'https://legalref.judiciary.hk/lrs/common/ju/ju_frame.jsp?DIS=63055',\n",
       "  '(29/10/2008)',\n",
       "  'CHEUNG PUI YUEN AND OTHERS v. WORLDCUP INVESTMENTS INC. AND OTHERS \\xa0Reported in :(2009) 12 HKCFAR 31'),\n",
       " ('Final Appeal (Civil)',\n",
       "  '2006',\n",
       "  \"\\\\'https://legalref.judiciary.hk/lrs/images/ThemeXP/Epage.gif\\\\'\",\n",
       "  'FACV1/2006',\n",
       "  'https://legalref.judiciary.hk/lrs/common/ju/ju_frame.jsp?DIS=52514',\n",
       "  '(23/05/2006)',\n",
       "  'CATHAY PACIFIC AIRWAYS LTD v. WONG SAU LAI \\xa0Reported in :[2006] 2 HKLRD 586; (2006) 9 HKCFAR 371'),\n",
       " ('Final Appeal (Civil)',\n",
       "  '2006',\n",
       "  \"\\\\'https://legalref.judiciary.hk/lrs/images/ThemeXP/Epage.gif\\\\'\",\n",
       "  'FACV2/2006',\n",
       "  'https://legalref.judiciary.hk/lrs/common/ju/ju_frame.jsp?DIS=53245',\n",
       "  '(13/07/2006)',\n",
       "  'THE GRANDE PROPERTIES MANAGEMENT LTD v. SUN WAH ORNAMENT MANUFACTORY LTD \\xa0Reported in :[2006] 3 HKLRD 473; (2006) 9 HKCFAR 462'),\n",
       " ('Final Appeal (Civil)',\n",
       "  '2006',\n",
       "  \"\\\\'https://legalref.judiciary.hk/lrs/images/ThemeXP/Epage.gif\\\\'\",\n",
       "  'FACV3/2006',\n",
       "  'https://legalref.judiciary.hk/lrs/common/ju/ju_frame.jsp?DIS=56805',\n",
       "  '(20/04/2007)',\n",
       "  'MARINER INTERNATIONAL HOTELS LTD AND ANOTHER v. ATLAS LTD AND ANOTHER \\xa0Reported in :[2007] 4 HKLRD 194; (2007) 10 HKCFAR 246'),\n",
       " ('Final Appeal (Civil)',\n",
       "  '2006',\n",
       "  \"\\\\'https://legalref.judiciary.hk/lrs/images/ThemeXP/Epage.gif\\\\'\",\n",
       "  'FACV3/2006',\n",
       "  'https://legalref.judiciary.hk/lrs/common/ju/ju_frame.jsp?DIS=62804',\n",
       "  '(09/08/2008)',\n",
       "  'MARINER INTERNATIONAL HOTELS LTD AND ANOTHER v. ATLAS LTD AND ANOTHER \\xa0Reported in :(2008) 11 HKCFAR 563'),\n",
       " ('Final Appeal (Civil)',\n",
       "  '2006',\n",
       "  \"\\\\'https://legalref.judiciary.hk/lrs/images/ThemeXP/Epage.gif\\\\'\",\n",
       "  'FACV3/2006',\n",
       "  'https://legalref.judiciary.hk/lrs/common/ju/ju_frame.jsp?DIS=55945',\n",
       "  '(05/02/2007)',\n",
       "  'MARINER INTERNATIONAL HOTELS LTD AND ANOTHER v. ATLAS LTD AND ANOTHER \\xa0Reported in :[2007] 1 HKLRD 413; (2007) 10 HKCFAR 1'),\n",
       " ('Final Appeal (Civil)',\n",
       "  '2006',\n",
       "  \"\\\\'https://legalref.judiciary.hk/lrs/images/ThemeXP/Epage.gif\\\\'\",\n",
       "  'FACV5/2006',\n",
       "  'https://legalref.judiciary.hk/lrs/common/ju/ju_frame.jsp?DIS=56119',\n",
       "  '(16/02/2007)',\n",
       "  'MAN PING NAM AND ANOTHER v. MAN FONG HANG \\xa0Reported in :[2007] 1 HKLRD 763; (2007) 10 HKCFAR 140'),\n",
       " ('Final Appeal (Civil)',\n",
       "  '2006',\n",
       "  \"\\\\'https://legalref.judiciary.hk/lrs/images/ThemeXP/Epage.gif\\\\'\",\n",
       "  'FACV5/2006',\n",
       "  'https://legalref.judiciary.hk/lrs/common/ju/ju_frame.jsp?DIS=54853',\n",
       "  '(27/10/2006)',\n",
       "  'MAN PING NAM AND ANOTHER v. MAN FONG HANG \\xa0Reported in :[2006] 4 HKLRD 484; (2006) 9 HKCFAR 674'),\n",
       " ('Final Appeal (Civil)',\n",
       "  '2006',\n",
       "  \"\\\\'https://legalref.judiciary.hk/lrs/images/ThemeXP/Epage.gif\\\\'\",\n",
       "  'FACV6/2006',\n",
       "  'https://legalref.judiciary.hk/lrs/common/ju/ju_frame.jsp?DIS=55334',\n",
       "  '(08/12/2006)',\n",
       "  'THE WORLD FOOD FAIR LTD AND ANOTHER v. HONG KONG ISLAND DEVELOPMENT LTD \\xa0Reported in :[2007] 1 HKLRD 498; (2006) 9 HKCFAR 735'),\n",
       " ('Final Appeal (Civil)',\n",
       "  '2006',\n",
       "  \"\\\\'https://legalref.judiciary.hk/lrs/images/ThemeXP/ETpage.gif\\\\'\",\n",
       "  'FACV7/2006',\n",
       "  'https://legalref.judiciary.hk/lrs/common/ju/ju_frame.jsp?DIS=53333',\n",
       "  '(20/07/2006)',\n",
       "  'THE OFFICIAL RECEIVER AND TRUSTEE IN BANKRUPTCY OF CHAN WING HING, a bankrupt v. CHAN WING HING \\xa0Reported in :[2006] 3 HKLRD 687; (2006) 9 HKCFAR 545'),\n",
       " ('Final Appeal (Civil)',\n",
       "  '2006',\n",
       "  \"\\\\'https://legalref.judiciary.hk/lrs/images/ThemeXP/ETpage.gif\\\\'\",\n",
       "  'FACV8/2006',\n",
       "  'https://legalref.judiciary.hk/lrs/common/ju/ju_frame.jsp?DIS=53334',\n",
       "  '(20/07/2006)',\n",
       "  'THE OFFICIAL RECEIVER AND TRUSTEE IN BANKRUPTCY OF LIN HAI SAN, a bankrupt v. LIN HAI SAN \\xa0Reported in :[2006] 3 HKLRD 687; (2006) 9 HKCFAR 545'),\n",
       " ('Final Appeal (Civil)',\n",
       "  '2006',\n",
       "  \"\\\\'https://legalref.judiciary.hk/lrs/images/ThemeXP/Epage.gif\\\\'\",\n",
       "  'FACV9/2006',\n",
       "  'https://legalref.judiciary.hk/lrs/common/ju/ju_frame.jsp?DIS=56272',\n",
       "  '(09/03/2007)',\n",
       "  'SIEGFRIED ADALBERT UNRUH v. HANS-JOERG SEEBERGER AND ANOTHER \\xa0'),\n",
       " ('Final Appeal (Civil)',\n",
       "  '2006',\n",
       "  \"\\\\'https://legalref.judiciary.hk/lrs/images/ThemeXP/ETpage.gif\\\\'\",\n",
       "  'FACV9/2006',\n",
       "  'https://legalref.judiciary.hk/lrs/common/ju/ju_frame.jsp?DIS=56020',\n",
       "  '(09/02/2007)',\n",
       "  'SIEGFRIED ADALBERT UNRUH v. HANS-JOERG SEEBERGER AND ANOTHER \\xa0Reported in :[2007] 2 HKLRD 414; (2007) 10 HKCFAR 31'),\n",
       " ('Final Appeal (Civil)',\n",
       "  '2006',\n",
       "  \"\\\\'https://legalref.judiciary.hk/lrs/images/ThemeXP/Epage.gif\\\\'\",\n",
       "  'FACV10/2006',\n",
       "  'https://legalref.judiciary.hk/lrs/common/ju/ju_frame.jsp?DIS=56273',\n",
       "  '(09/03/2007)',\n",
       "  'SIEGFRIED ADALBERT UNRUH v. HANS-JOERG SEEBERGER AND ANOTHER \\xa0'),\n",
       " ('Final Appeal (Civil)',\n",
       "  '2006',\n",
       "  \"\\\\'https://legalref.judiciary.hk/lrs/images/ThemeXP/ETpage.gif\\\\'\",\n",
       "  'FACV10/2006',\n",
       "  'https://legalref.judiciary.hk/lrs/common/ju/ju_frame.jsp?DIS=56021',\n",
       "  '(09/02/2007)',\n",
       "  'SIEGFRIED ADALBERT UNRUH v. HANS-JOERG SEEBERGER AND ANOTHER \\xa0Reported in :[2007] 2 HKLRD 414; (2007) 10 HKCFAR 31'),\n",
       " ('Final Appeal (Civil)',\n",
       "  '2006',\n",
       "  \"\\\\'https://legalref.judiciary.hk/lrs/images/ThemeXP/Epage.gif\\\\'\",\n",
       "  'FACV11/2006',\n",
       "  'https://legalref.judiciary.hk/lrs/common/ju/ju_frame.jsp?DIS=56531',\n",
       "  '(29/03/2007)',\n",
       "  'KIM ENG SECURITIES (HONG KONG) LTD v. COMMISSIONER OF INLAND REVENUE \\xa0Reported in :[2007] 2 HKLRD 117; (2007) 10 HKCFAR 213'),\n",
       " ('Final Appeal (Civil)',\n",
       "  '2006',\n",
       "  \"\\\\'https://legalref.judiciary.hk/lrs/images/ThemeXP/ETpage.gif\\\\'\",\n",
       "  'FACV12/2006',\n",
       "  'https://legalref.judiciary.hk/lrs/common/ju/ju_frame.jsp?DIS=53214',\n",
       "  '(12/07/2006)',\n",
       "  'KOO SZE YIU AND ANOTHER v. CHIEF EXECUTIVE OF THE HKSAR \\xa0Reported in :[2006] 3 HKLRD 455; (2006) 9 HKCFAR 441'),\n",
       " ('Final Appeal (Civil)',\n",
       "  '2006',\n",
       "  \"\\\\'https://legalref.judiciary.hk/lrs/images/ThemeXP/ETpage.gif\\\\'\",\n",
       "  'FACV13/2006',\n",
       "  'https://legalref.judiciary.hk/lrs/common/ju/ju_frame.jsp?DIS=53215',\n",
       "  '(12/07/2006)',\n",
       "  'KOO SZE YIU AND ANOTHER v. CHIEF EXECUTIVE OF THE HKSAR \\xa0Reported in :[2006] 3 HKLRD 455; (2006) 9 HKCFAR 441'),\n",
       " ('Final Appeal (Civil)',\n",
       "  '2006',\n",
       "  \"\\\\'https://legalref.judiciary.hk/lrs/images/ThemeXP/Epage.gif\\\\'\",\n",
       "  'FACV14/2006',\n",
       "  'https://legalref.judiciary.hk/lrs/common/ju/ju_frame.jsp?DIS=56299',\n",
       "  '(13/03/2007)',\n",
       "  'POON CHAU NAM v. YIM SIU CHEUNG t/a YAT CHEUNG AIRCONDITIONING & ELECTRIC CO \\xa0Reported in :[2007] 1 HKLRD 951; (2007) 10 HKCFAR 156'),\n",
       " ('Final Appeal (Civil)',\n",
       "  '2006',\n",
       "  \"\\\\'https://legalref.judiciary.hk/lrs/images/ThemeXP/Epage.gif\\\\'\",\n",
       "  'FACV15/2006',\n",
       "  'https://legalref.judiciary.hk/lrs/common/ju/ju_frame.jsp?DIS=56532',\n",
       "  '(29/03/2007)',\n",
       "  'ZETA ESTATES LTD v. COMMISSIONER OF INLAND REVENUE \\xa0Reported in :[2007] 2 HKLRD 102; (2007) 10 HKCFAR 196'),\n",
       " ('Final Appeal (Civil)',\n",
       "  '2006',\n",
       "  \"\\\\'https://legalref.judiciary.hk/lrs/images/ThemeXP/Epage.gif\\\\'\",\n",
       "  'FACV16/2006',\n",
       "  'https://legalref.judiciary.hk/lrs/common/ju/ju_frame.jsp?DIS=57232',\n",
       "  '(31/05/2007)',\n",
       "  'THE INCORPORATED OWNERS OF SAN PO KONG MANSION v. SHINE EMPIRE LTD \\xa0Reported in :(2007) 10 HKCFAR 588'),\n",
       " ('Final Appeal (Civil)',\n",
       "  '2006',\n",
       "  \"\\\\'https://legalref.judiciary.hk/lrs/images/ThemeXP/Epage.gif\\\\'\",\n",
       "  'FACV17/2006',\n",
       "  'https://legalref.judiciary.hk/lrs/common/ju/ju_frame.jsp?DIS=55403',\n",
       "  '(15/12/2006)',\n",
       "  'THE JOINT & SEVERAL LIQUIDATORS OF KONG WAH HOLDINGS LTD. v. THE GRANDE HOLDINGS LTD. AND OTHERS \\xa0Reported in :[2007] 1 HKLRD 116; (2006) 9 HKCFAR 766'),\n",
       " ('Final Appeal (Civil)',\n",
       "  '2006',\n",
       "  \"\\\\'https://legalref.judiciary.hk/lrs/images/ThemeXP/Epage.gif\\\\'\",\n",
       "  'FACV18/2006',\n",
       "  'https://legalref.judiciary.hk/lrs/common/ju/ju_frame.jsp?DIS=55405',\n",
       "  '(15/12/2006)',\n",
       "  'THE JOINT & SEVERAL LIQUIDATORS OF AKAI HOLDINGS LTD. v. THE GRANDE HOLDINGS LTD. AND OTHERS \\xa0Reported in :[2007] 1 HKLRD 116; (2006) 9 HKCFAR 766'),\n",
       " ('Final Appeal (Civil)',\n",
       "  '2006',\n",
       "  \"\\\\'https://legalref.judiciary.hk/lrs/images/ThemeXP/Epage.gif\\\\'\",\n",
       "  'FACV19/2006',\n",
       "  'https://legalref.judiciary.hk/lrs/common/ju/ju_frame.jsp?DIS=58711',\n",
       "  '(05/10/2007)',\n",
       "  'ING BARING SECURITIES (HONG KONG) LTD v. THE COMMISSIONER OF INLAND REVENUE \\xa0Reported in :[2008] 1 HKLRD 412; (2007) 10 HKCFAR 417'),\n",
       " ('Final Appeal (Civil)',\n",
       "  '2006',\n",
       "  \"\\\\'https://legalref.judiciary.hk/lrs/images/ThemeXP/Epage.gif\\\\'\",\n",
       "  'FACV20/2006',\n",
       "  'https://legalref.judiciary.hk/lrs/common/ju/ju_frame.jsp?DIS=56559',\n",
       "  '(30/03/2007)',\n",
       "  'MAK KANG HOI v. HO YUK WAH DAVID \\xa0Reported in :(2007) 10 HKCFAR 552'),\n",
       " ('Final Appeal (Civil)',\n",
       "  '2006',\n",
       "  \"\\\\'https://legalref.judiciary.hk/lrs/images/ThemeXP/Epage.gif\\\\'\",\n",
       "  'FACV21/2006',\n",
       "  'https://legalref.judiciary.hk/lrs/common/ju/ju_frame.jsp?DIS=60925',\n",
       "  '(28/04/2008)',\n",
       "  'STRONG OFFER INVESTMENT LTD v. NYEU TING CHUANG \\xa0'),\n",
       " ('Final Appeal (Civil)',\n",
       "  '2006',\n",
       "  \"\\\\'https://legalref.judiciary.hk/lrs/images/ThemeXP/Epage.gif\\\\'\",\n",
       "  'FACV21/2006',\n",
       "  'https://legalref.judiciary.hk/lrs/common/ju/ju_frame.jsp?DIS=63825',\n",
       "  '(06/01/2009)',\n",
       "  'STRONG OFFER INVESTMENT LTD v. NYEU TING CHUANG \\xa0'),\n",
       " ('Final Appeal (Civil)',\n",
       "  '2006',\n",
       "  \"\\\\'https://legalref.judiciary.hk/lrs/images/ThemeXP/Epage.gif\\\\'\",\n",
       "  'FACV21/2006',\n",
       "  'https://legalref.judiciary.hk/lrs/common/ju/ju_frame.jsp?DIS=56558',\n",
       "  '(30/03/2007)',\n",
       "  'STRONG OFFER INVESTMENT LTD (In Liquidation) v. NYEU TING CHUANG \\xa0Reported in :(2007) 10 HKCFAR 529'),\n",
       " ('Final Appeal (Civil)',\n",
       "  '2006',\n",
       "  \"\\\\'https://legalref.judiciary.hk/lrs/images/ThemeXP/Epage.gif\\\\'\",\n",
       "  'FACV22/2006',\n",
       "  'https://legalref.judiciary.hk/lrs/common/ju/ju_frame.jsp?DIS=57074',\n",
       "  '(16/05/2007)',\n",
       "  'WORLD FUEL SERVICES (SINGAPORE) PTE LTD v. FLORENS CONTAINER INC \\xa0Reported in :[2007] 2 HKLRD 507; (2007) 10 HKCFAR 256'),\n",
       " ('Final Appeal (Civil)',\n",
       "  '2006',\n",
       "  \"\\\\'https://legalref.judiciary.hk/lrs/images/ThemeXP/Epage.gif\\\\'\",\n",
       "  'FACV22/2006',\n",
       "  'https://legalref.judiciary.hk/lrs/common/ju/ju_frame.jsp?DIS=56837',\n",
       "  '(24/04/2007)',\n",
       "  'WORLD FUEL SERVICES (SINGAPORE) PTE LTD v. FLORENS CONTAINER INC. \\xa0Reported in :[2007] 2 HKLRD 376; (2007) 10 HKCFAR 252'),\n",
       " ('Final Appeal (Civil)',\n",
       "  '2006',\n",
       "  \"\\\\'https://legalref.judiciary.hk/lrs/images/ThemeXP/Epage.gif\\\\'\",\n",
       "  'FACV23/2006',\n",
       "  'https://legalref.judiciary.hk/lrs/common/ju/ju_frame.jsp?DIS=58907',\n",
       "  '(26/10/2007)',\n",
       "  'JERRY CHEN v. WHIRLPOOL (HONG KONG) LTD \\xa0Reported in :(2007) 10 HKCFAR 619'),\n",
       " ('Final Appeal (Civil)',\n",
       "  '2005',\n",
       "  \"\\\\'https://legalref.judiciary.hk/lrs/images/ThemeXP/Epage.gif\\\\'\",\n",
       "  'FACV1/2005',\n",
       "  'https://legalref.judiciary.hk/lrs/common/ju/ju_frame.jsp?DIS=51145',\n",
       "  '(05/01/2006)',\n",
       "  'HO CHOI WAN v. HONG KONG HOUSING AUTHORITY \\xa0'),\n",
       " ('Final Appeal (Civil)',\n",
       "  '2005',\n",
       "  \"\\\\'https://legalref.judiciary.hk/lrs/images/ThemeXP/ETpage.gif\\\\'\",\n",
       "  'FACV1/2005',\n",
       "  'https://legalref.judiciary.hk/lrs/common/ju/ju_frame.jsp?DIS=47032',\n",
       "  '(21/11/2005)',\n",
       "  'HO CHOI WAN v. HONG KONG HOUSING AUTHORITY \\xa0Reported in :[2005] 4 HKLRD 706; (2005) 8 HKCFAR 628'),\n",
       " ('Final Appeal (Civil)',\n",
       "  '2005',\n",
       "  \"\\\\'https://legalref.judiciary.hk/lrs/images/ThemeXP/Epage.gif\\\\'\",\n",
       "  'FACV2/2005',\n",
       "  'https://legalref.judiciary.hk/lrs/common/ju/ju_frame.jsp?DIS=46811',\n",
       "  '(04/11/2005)',\n",
       "  'THOMAS VINCENT v. SOUTH CHINA MORNING POST PUBLISHERS LTD \\xa0Reported in :[2005] 4 HKLRD 258; (2005) 8 HKCFAR 605'),\n",
       " ('Final Appeal (Civil)',\n",
       "  '2005',\n",
       "  \"\\\\'https://legalref.judiciary.hk/lrs/images/ThemeXP/Epage.gif\\\\'\",\n",
       "  'FACV3/2005',\n",
       "  'https://legalref.judiciary.hk/lrs/common/ju/ju_frame.jsp?DIS=50845',\n",
       "  '(08/12/2005)',\n",
       "  'SINO WOOD INVESTMENT LTD v. WONG KAM YIN \\xa0Reported in :[2006] 1 HKLRD 176; (2005) 8 HKCFAR 715'),\n",
       " ('Final Appeal (Civil)',\n",
       "  '2005',\n",
       "  \"\\\\'https://legalref.judiciary.hk/lrs/images/ThemeXP/Epage.gif\\\\'\",\n",
       "  'FACV4/2005',\n",
       "  'https://legalref.judiciary.hk/lrs/common/ju/ju_frame.jsp?DIS=46770',\n",
       "  '(02/11/2005)',\n",
       "  'CAPITAL WELL LTD v. BOND STAR DEVELOPMENT LTD \\xa0Reported in :[2005] 4 HKLRD 363; (2005) 8 HKCFAR 578'),\n",
       " ('Final Appeal (Civil)',\n",
       "  '2005',\n",
       "  \"\\\\'https://legalref.judiciary.hk/lrs/images/ThemeXP/Epage.gif\\\\'\",\n",
       "  'FACV5/2005',\n",
       "  'https://legalref.judiciary.hk/lrs/common/ju/ju_frame.jsp?DIS=51897',\n",
       "  '(15/03/2006)',\n",
       "  'TRIPOLE TRADING LTD AND OTHERS v. PROSPERFIELD VENTURES LTD \\xa0Reported in :[2006] 2 HKLRD 103; (2006) 9 HKCFAR 172'),\n",
       " ('Final Appeal (Civil)',\n",
       "  '2005',\n",
       "  \"\\\\'https://legalref.judiciary.hk/lrs/images/ThemeXP/Epage.gif\\\\'\",\n",
       "  'FACV5/2005',\n",
       "  'https://legalref.judiciary.hk/lrs/common/ju/ju_frame.jsp?DIS=51147',\n",
       "  '(05/01/2006)',\n",
       "  'TRIPOLE TRADING LTD AND OTHERS v. PROSPERFIELD VENTURES LTD \\xa0Reported in :[2006] 1 HKLRD 200; (2006) 9 HKCFAR 1'),\n",
       " ('Final Appeal (Civil)',\n",
       "  '2005',\n",
       "  \"\\\\'https://legalref.judiciary.hk/lrs/images/ThemeXP/Epage.gif\\\\'\",\n",
       "  'FACV6/2005',\n",
       "  'https://legalref.judiciary.hk/lrs/common/ju/ju_frame.jsp?DIS=51898',\n",
       "  '(15/03/2006)',\n",
       "  'DING PENG AND OTHERS v. PANCO INDUSTRIAL HOLDINGS LTD \\xa0Reported in :[2006] 2 HKLRD 103; (2006) 9 HKCFAR 172'),\n",
       " ('Final Appeal (Civil)',\n",
       "  '2005',\n",
       "  \"\\\\'https://legalref.judiciary.hk/lrs/images/ThemeXP/Epage.gif\\\\'\",\n",
       "  'FACV6/2005',\n",
       "  'https://legalref.judiciary.hk/lrs/common/ju/ju_frame.jsp?DIS=51148',\n",
       "  '(05/01/2006)',\n",
       "  'DING PENG AND OTHERS v. PANCO INDUSTRIAL HOLDINGS LTD \\xa0Reported in :[2006] 1 HKLRD 200; (2006) 9 HKCFAR 1'),\n",
       " ('Final Appeal (Civil)',\n",
       "  '2005',\n",
       "  \"\\\\'https://legalref.judiciary.hk/lrs/images/ThemeXP/Epage.gif\\\\'\",\n",
       "  'FACV7/2005',\n",
       "  'https://legalref.judiciary.hk/lrs/common/ju/ju_frame.jsp?DIS=51149',\n",
       "  '(05/01/2006)',\n",
       "  'CHAN TIN SHI v. LI TIN SUNG AND OTHERS \\xa0Reported in :[2006] 1 HKLRD 185; (2006) 9 HKCFAR 29'),\n",
       " ('Final Appeal (Civil)',\n",
       "  '2005',\n",
       "  \"\\\\'https://legalref.judiciary.hk/lrs/images/ThemeXP/Epage.gif\\\\'\",\n",
       "  'FACV8/2005',\n",
       "  'https://legalref.judiciary.hk/lrs/common/ju/ju_frame.jsp?DIS=52113',\n",
       "  '(06/04/2006)',\n",
       "  'SECRETARY FOR JUSTICE v. MICHAEL REID SCOTT \\xa0Reported in :[2006] 2 HKLRD 515; (2006) 9 HKCFAR 221'),\n",
       " ('Final Appeal (Civil)',\n",
       "  '2005',\n",
       "  \"\\\\'https://legalref.judiciary.hk/lrs/images/ThemeXP/Epage.gif\\\\'\",\n",
       "  'FACV8/2005',\n",
       "  'https://legalref.judiciary.hk/lrs/common/ju/ju_frame.jsp?DIS=52787',\n",
       "  '(12/06/2006)',\n",
       "  'SECRETARY FOR JUSTICE v. MICHAEL REID SCOTT \\xa0'),\n",
       " ('Final Appeal (Civil)',\n",
       "  '2005',\n",
       "  \"\\\\'https://legalref.judiciary.hk/lrs/images/ThemeXP/ETpage.gif\\\\'\",\n",
       "  'FACV8/2005',\n",
       "  'https://legalref.judiciary.hk/lrs/common/ju/ju_frame.jsp?DIS=46108',\n",
       "  '(13/07/2005)',\n",
       "  'SECRETARY FOR JUSTICE v. MICHAEL REID SCOTT \\xa0Reported in :[2005] 3 HKLRD 88; (2005) 8 HKCFAR 304'),\n",
       " ('Final Appeal (Civil)',\n",
       "  '2005',\n",
       "  \"\\\\'https://legalref.judiciary.hk/lrs/images/ThemeXP/Epage.gif\\\\'\",\n",
       "  'FACV9/2005',\n",
       "  'https://legalref.judiciary.hk/lrs/common/ju/ju_frame.jsp?DIS=47049',\n",
       "  '(22/11/2005)',\n",
       "  'WONDERYOUTH INDUSTRIES LTD v. CHINA GREAT WALL FINANCE CO \\xa0Reported in :[2006] 1 HKLRD 335; (2005) 8 HKCFAR 689'),\n",
       " ('Final Appeal (Civil)',\n",
       "  '2005',\n",
       "  \"\\\\'https://legalref.judiciary.hk/lrs/images/ThemeXP/Epage.gif\\\\'\",\n",
       "  'FACV10/2005',\n",
       "  'https://legalref.judiciary.hk/lrs/common/ju/ju_frame.jsp?DIS=46181',\n",
       "  '(29/08/2005)',\n",
       "  'LO SIU LAN v. HONG KONG HOUSING AUTHORITY \\xa0'),\n",
       " ('Final Appeal (Civil)',\n",
       "  '2005',\n",
       "  \"\\\\'https://legalref.judiciary.hk/lrs/images/ThemeXP/Epage.gif\\\\'\",\n",
       "  'FACV10/2005',\n",
       "  'https://legalref.judiciary.hk/lrs/common/ju/ju_frame.jsp?DIS=45794',\n",
       "  '(20/07/2005)',\n",
       "  'LO SIU LAN v. HONG KONG HOUSING AUTHORITY \\xa0Reported in :[2005] 3 HKLRD 257; (2005) 8 HKCFAR 363'),\n",
       " ('Final Appeal (Civil)',\n",
       "  '2005',\n",
       "  \"\\\\'https://legalref.judiciary.hk/lrs/images/ThemeXP/Epage.gif\\\\'\",\n",
       "  'FACV11/2005',\n",
       "  'https://legalref.judiciary.hk/lrs/common/ju/ju_frame.jsp?DIS=51220',\n",
       "  '(12/01/2006)',\n",
       "  'NAM CHUN INVESTMENT CO LTD v. THE DIRECTOR OF LANDS \\xa0'),\n",
       " ('Final Appeal (Civil)',\n",
       "  '2005',\n",
       "  \"\\\\'https://legalref.judiciary.hk/lrs/images/ThemeXP/Epage.gif\\\\'\",\n",
       "  'FACV11/2005',\n",
       "  'https://legalref.judiciary.hk/lrs/common/ju/ju_frame.jsp?DIS=56403',\n",
       "  '(19/03/2007)',\n",
       "  'NAM CHUN INVESTMENT CO LTD v. THE DIRECTOR OF LANDS \\xa0Reported in :(2007) 10 HKCFAR 523'),\n",
       " ('Final Appeal (Civil)',\n",
       "  '2005',\n",
       "  \"\\\\'https://legalref.judiciary.hk/lrs/images/ThemeXP/ETpage.gif\\\\'\",\n",
       "  'FACV11/2005',\n",
       "  'https://legalref.judiciary.hk/lrs/common/ju/ju_frame.jsp?DIS=47034',\n",
       "  '(21/11/2005)',\n",
       "  'NAM CHUN INVESTMENT CO LTD v. THE DIRECTOR OF LANDS \\xa0Reported in :[2005] 4 HKLRD 480; (2005) 8 HKCFAR 668'),\n",
       " ('Final Appeal (Civil)',\n",
       "  '2005',\n",
       "  \"\\\\'https://legalref.judiciary.hk/lrs/images/ThemeXP/Epage.gif\\\\'\",\n",
       "  'FACV12/2005',\n",
       "  'https://legalref.judiciary.hk/lrs/common/ju/ju_frame.jsp?DIS=51150',\n",
       "  '(05/01/2006)',\n",
       "  'MOK YUEN FUN AND ANOTHER v. CHINA OVERSEAS GRAND GAIN PROPERTY DEVELOPMENT LTD \\xa0Reported in :[2006] 1 HKLRD 185; (2006) 9 HKCFAR 29'),\n",
       " ('Final Appeal (Civil)',\n",
       "  '2005',\n",
       "  \"\\\\'https://legalref.judiciary.hk/lrs/images/ThemeXP/Epage.gif\\\\'\",\n",
       "  'FACV13/2005',\n",
       "  'https://legalref.judiciary.hk/lrs/common/ju/ju_frame.jsp?DIS=51151',\n",
       "  '(05/01/2006)',\n",
       "  'CHAN SUK YIN AND ANOTHER v. HARVEST GOOD DEVELOPMENT LTD \\xa0Reported in :[2006] 1 HKLRD 185; (2006) 9 HKCFAR 29'),\n",
       " ('Final Appeal (Civil)',\n",
       "  '2005',\n",
       "  \"\\\\'https://legalref.judiciary.hk/lrs/images/ThemeXP/Epage.gif\\\\'\",\n",
       "  'FACV14/2005',\n",
       "  'https://legalref.judiciary.hk/lrs/common/ju/ju_frame.jsp?DIS=51678',\n",
       "  '(27/02/2006)',\n",
       "  'LKK TRANS LTD v. WONG HOI CHUNG \\xa0Reported in :[2006] 1 HKLRD 980; (2006) 9 HKCFAR 103'),\n",
       " ('Final Appeal (Civil)',\n",
       "  '2005',\n",
       "  \"\\\\'https://legalref.judiciary.hk/lrs/images/ThemeXP/Epage.gif\\\\'\",\n",
       "  'FACV16/2005',\n",
       "  'https://legalref.judiciary.hk/lrs/common/ju/ju_frame.jsp?DIS=51954',\n",
       "  '(20/03/2006)',\n",
       "  'KONG WAI TSANG v. HOSPITAL AUTHORITY \\xa0'),\n",
       " ('Final Appeal (Civil)',\n",
       "  '2005',\n",
       "  \"\\\\'https://legalref.judiciary.hk/lrs/images/ThemeXP/Epage.gif\\\\'\",\n",
       "  'FACV17/2005',\n",
       "  'https://legalref.judiciary.hk/lrs/common/ju/ju_frame.jsp?DIS=51684',\n",
       "  '(28/02/2006)',\n",
       "  'LISBETH ENTERPRISES LTD v. MANDY LUK \\xa0Reported in :[2006] 1 HKLRD 1005; (2006) 9 HKCFAR 131'),\n",
       " ('Final Appeal (Civil)',\n",
       "  '2005',\n",
       "  \"\\\\'https://legalref.judiciary.hk/lrs/images/ThemeXP/Epage.gif\\\\'\",\n",
       "  'FACV18/2005',\n",
       "  'https://legalref.judiciary.hk/lrs/common/ju/ju_frame.jsp?DIS=53196',\n",
       "  '(10/07/2006)',\n",
       "  'NEW WORLD DEVELOPMENT CO LTD AND ANOTHER v. SUN HUNG KAI SECURITIES LTD \\xa0Reported in :[2006] 3 HKLRD 345; (2006) 9 HKCFAR 403'),\n",
       " ('Final Appeal (Civil)',\n",
       "  '2005',\n",
       "  \"\\\\'https://legalref.judiciary.hk/lrs/images/ThemeXP/ETpage.gif\\\\'\",\n",
       "  'FACV19/2005',\n",
       "  'https://legalref.judiciary.hk/lrs/common/ju/ju_frame.jsp?DIS=55298',\n",
       "  '(06/12/2006)',\n",
       "  'THE SECRETARY FOR TRANSPORT v. DELIGHT WORLD LTD \\xa0Reported in :[2007] 1 HKLRD 647; (2006) 9 HKCFAR 720'),\n",
       " ('Final Appeal (Civil)',\n",
       "  '2005',\n",
       "  \"\\\\'https://legalref.judiciary.hk/lrs/images/ThemeXP/Epage.gif\\\\'\",\n",
       "  'FACV20/2005',\n",
       "  'https://legalref.judiciary.hk/lrs/common/ju/ju_frame.jsp?DIS=52114',\n",
       "  '(06/04/2006)',\n",
       "  'FAR EAST DRUG (BVI) CO LTD v. FIRST PACIFIC CO LTD \\xa0Reported in :[2006] 2 HKLRD 157; (2006) 9 HKCFAR 224'),\n",
       " ('Final Appeal (Civil)',\n",
       "  '2005',\n",
       "  \"\\\\'https://legalref.judiciary.hk/lrs/images/ThemeXP/Epage.gif\\\\'\",\n",
       "  'FACV21/2005',\n",
       "  'https://legalref.judiciary.hk/lrs/common/ju/ju_frame.jsp?DIS=51152',\n",
       "  '(05/01/2006)',\n",
       "  'HARVEST GOOD DEVELOPMENT LTD v.  CHAN SUK YIN AND ANOTHER \\xa0Reported in :[2006] 1 HKLRD 185; (2006) 9 HKCFAR 29'),\n",
       " ('Final Appeal (Civil)',\n",
       "  '2005',\n",
       "  \"\\\\'https://legalref.judiciary.hk/lrs/images/ThemeXP/ETpage.gif\\\\'\",\n",
       "  'FACV22/2005',\n",
       "  'https://legalref.judiciary.hk/lrs/common/ju/ju_frame.jsp?DIS=52111',\n",
       "  '(06/04/2006)',\n",
       "  'THE STOCK EXCHANGE OF HONG KONG LTD v. NEW WORLD DEVELOPMENT CO LTD AND OTHERS \\xa0Reported in :[2006] 2 HKLRD 518; (2006) 9 HKCFAR 234'),\n",
       " ('Final Appeal (Civil)',\n",
       "  '2005',\n",
       "  \"\\\\'https://legalref.judiciary.hk/lrs/images/ThemeXP/ETpage.gif\\\\'\",\n",
       "  'FACV23/2005',\n",
       "  'https://legalref.judiciary.hk/lrs/common/ju/ju_frame.jsp?DIS=51977',\n",
       "  '(22/03/2006)',\n",
       "  'A SOLICITOR v. THE LAW SOCIETY OF HONG KONG \\xa0Reported in :[2006] 2 HKLRD 116; (2006) 9 HKCFAR 175'),\n",
       " ('Final Appeal (Civil)',\n",
       "  '2005',\n",
       "  \"\\\\'https://legalref.judiciary.hk/lrs/images/ThemeXP/Epage.gif\\\\'\",\n",
       "  'FACV24/2005',\n",
       "  'https://legalref.judiciary.hk/lrs/common/ju/ju_frame.jsp?DIS=57404',\n",
       "  '(13/06/2007)',\n",
       "  'CHAN WAI SUN AND ANOTHER v. LAW SHIU KAI ANDREW \\xa0Reported in :(2007) 10 HKCFAR 601'),\n",
       " ('Final Appeal (Civil)',\n",
       "  '2005',\n",
       "  \"\\\\'https://legalref.judiciary.hk/lrs/images/ThemeXP/Epage.gif\\\\'\",\n",
       "  'FACV25/2005',\n",
       "  'https://legalref.judiciary.hk/lrs/common/ju/ju_frame.jsp?DIS=53195',\n",
       "  '(10/07/2006)',\n",
       "  'MING SHIU CHUNG AND OTHERS v. MING SHIU SUM AND OTHERS \\xa0'),\n",
       " ('Final Appeal (Civil)',\n",
       "  '2005',\n",
       "  \"\\\\'https://legalref.judiciary.hk/lrs/images/ThemeXP/Epage.gif\\\\'\",\n",
       "  'FACV25/2005',\n",
       "  'https://legalref.judiciary.hk/lrs/common/ju/ju_frame.jsp?DIS=52515',\n",
       "  '(23/05/2006)',\n",
       "  'MING SHIU CHUNG AND OTHERS v. MING SHIU SUM AND OTHERS \\xa0Reported in :[2006] 2 HKLRD 831; (2006) 9 HKCFAR 334'),\n",
       " ('Final Appeal (Civil)',\n",
       "  '2005',\n",
       "  \"\\\\'https://legalref.judiciary.hk/lrs/images/ThemeXP/Epage.gif\\\\'\",\n",
       "  'FACV26/2005',\n",
       "  'https://legalref.judiciary.hk/lrs/common/ju/ju_frame.jsp?DIS=54850',\n",
       "  '(27/10/2006)',\n",
       "  'ACTIVE PROFIT LTD v. NISSHO IWAI HONG KONG CORPORATION LTD AND OTHERS \\xa0Reported in :[2006] 4 HKLRD 467; (2006) 9 HKCFAR 653'),\n",
       " ('Final Appeal (Civil)',\n",
       "  '2005',\n",
       "  \"\\\\'https://legalref.judiciary.hk/lrs/images/ThemeXP/Epage.gif\\\\'\",\n",
       "  'FACV27/2005',\n",
       "  'https://legalref.judiciary.hk/lrs/common/ju/ju_frame.jsp?DIS=55404',\n",
       "  '(15/12/2006)',\n",
       "  'ADVERTASIA STREET FURNITURE LTD v. CHINA OUTDOOR MEDIA INVESTMENT (HONG KONG) CO LTD \\xa0Reported in :(2006) 9 HKCFAR 863'),\n",
       " ('Final Appeal (Civil)',\n",
       "  '2005',\n",
       "  \"\\\\'https://legalref.judiciary.hk/lrs/images/ThemeXP/Epage.gif\\\\'\",\n",
       "  'FACV28/2005',\n",
       "  'https://legalref.judiciary.hk/lrs/common/ju/ju_frame.jsp?DIS=53297',\n",
       "  '(17/07/2006)',\n",
       "  'SHIU WING STEEL LTD v. DIRECTOR OF ENVIRONMENTAL PROTECTION \\xa0Reported in :[2006] 3 HKLRD 487; (2006) 9 HKCFAR 478'),\n",
       " ('Final Appeal (Civil)',\n",
       "  '2005',\n",
       "  \"\\\\'https://legalref.judiciary.hk/lrs/images/ThemeXP/Epage.gif\\\\'\",\n",
       "  'FACV28/2005',\n",
       "  'https://legalref.judiciary.hk/lrs/common/ju/ju_frame.jsp?DIS=52351',\n",
       "  '(03/05/2006)',\n",
       "  'SHIU WING STEEL LTD  v. DIRECTOR OF ENVIRONMENTAL PROTECTION \\xa0Reported in :[2006] 3 HKLRD 33; (2006) 9 HKCFAR 303'),\n",
       " ('Final Appeal (Civil)',\n",
       "  '2005',\n",
       "  \"\\\\'https://legalref.judiciary.hk/lrs/images/ThemeXP/Epage.gif\\\\'\",\n",
       "  'FACV29/2005',\n",
       "  'https://legalref.judiciary.hk/lrs/common/ju/ju_frame.jsp?DIS=53028',\n",
       "  '(30/06/2006)',\n",
       "  'LAM SOON TRADEMARK LTD v. COMMISSIONER OF INLAND REVENUE \\xa0Reported in :[2006] 3 HKLRD 132; (2006) 9 HKCFAR 391'),\n",
       " ('Final Appeal (Civil)',\n",
       "  '2005',\n",
       "  \"\\\\'https://legalref.judiciary.hk/lrs/images/ThemeXP/Epage.gif\\\\'\",\n",
       "  'FACV30/2005',\n",
       "  'https://legalref.judiciary.hk/lrs/common/ju/ju_frame.jsp?DIS=55256',\n",
       "  '(01/12/2006)',\n",
       "  'CHENG HO KEE AND OTHERS v. SECRETARY FOR JUSTICE \\xa0Reported in :[2006] 4 HKLRD 782; (2006) 9 HKCFAR 705'),\n",
       " ('Final Appeal (Civil)',\n",
       "  '2014',\n",
       "  \"\\\\'https://legalref.judiciary.hk/lrs/images/ThemeXP/Epage.gif\\\\'\",\n",
       "  'FACV1/2014',\n",
       "  'https://legalref.judiciary.hk/lrs/common/ju/ju_frame.jsp?DIS=96088',\n",
       "  '(05/12/2014)',\n",
       "  'LEUNG KWOK HUNG v. PRESIDENT OF THE LEGISLATIVE COUNCIL OF THE HONG KONG SPECIAL ADMINISTRATIVE REGION \\xa0Reported in :(2014) 17 HKCFAR 841'),\n",
       " ('Final Appeal (Civil)',\n",
       "  '2014',\n",
       "  \"\\\\'https://legalref.judiciary.hk/lrs/images/ThemeXP/Epage.gif\\\\'\",\n",
       "  'FACV1/2014',\n",
       "  'https://legalref.judiciary.hk/lrs/common/ju/ju_frame.jsp?DIS=95053',\n",
       "  '(29/09/2014)',\n",
       "  'LEUNG KWOK HUNG v. THE PRESIDENT OF THE LEGISLATIVE COUNCIL OF THE HONG KONG SPECIAL ADMINISTRATIVE REGION AND ANOTHER \\xa0Reported in :(2014) 17 HKCFAR 689'),\n",
       " ('Final Appeal (Civil)',\n",
       "  '2014',\n",
       "  \"\\\\'https://legalref.judiciary.hk/lrs/images/ThemeXP/Epage.gif\\\\'\",\n",
       "  'FACV2/2014',\n",
       "  'https://legalref.judiciary.hk/lrs/common/ju/ju_frame.jsp?DIS=94873',\n",
       "  '(18/09/2014)',\n",
       "  'GUTIERREZ JOSEPH JAMES, a minor v. COMMISSIONER OF REGISTRATION AND ANOTHER \\xa0Reported in :(2014) 17 HKCFAR 518'),\n",
       " ('Final Appeal (Civil)',\n",
       "  '2014',\n",
       "  \"\\\\'https://legalref.judiciary.hk/lrs/images/ThemeXP/Epage.gif\\\\'\",\n",
       "  'FACV3/2014',\n",
       "  'https://legalref.judiciary.hk/lrs/common/ju/ju_frame.jsp?DIS=95670',\n",
       "  '(11/11/2014)',\n",
       "  'T v. COMMISSIONER OF POLICE \\xa0'),\n",
       " ('Final Appeal (Civil)',\n",
       "  '2014',\n",
       "  \"\\\\'https://legalref.judiciary.hk/lrs/images/ThemeXP/Epage.gif\\\\'\",\n",
       "  'FACV3/2014',\n",
       "  'https://legalref.judiciary.hk/lrs/common/ju/ju_frame.jsp?DIS=94768',\n",
       "  '(10/09/2014)',\n",
       "  'T v. COMMISSIONER OF POLICE \\xa0Reported in :(2014) 17 HKCFAR 593'),\n",
       " ('Final Appeal (Civil)',\n",
       "  '2014',\n",
       "  \"\\\\'https://legalref.judiciary.hk/lrs/images/ThemeXP/Epage.gif\\\\'\",\n",
       "  'FACV4/2014',\n",
       "  'https://legalref.judiciary.hk/lrs/common/ju/ju_frame.jsp?DIS=96164',\n",
       "  '(10/12/2014)',\n",
       "  'LUCK CONTINENT LTD v. CHENG CHEE TOCK THEODORE AND OTHERS \\xa0Reported in :(2014) 17 HKCFAR 863'),\n",
       " ('Final Appeal (Civil)',\n",
       "  '2014',\n",
       "  \"\\\\'https://legalref.judiciary.hk/lrs/images/ThemeXP/Epage.gif\\\\'\",\n",
       "  'FACV5/2014',\n",
       "  'https://legalref.judiciary.hk/lrs/common/ju/ju_frame.jsp?DIS=95603',\n",
       "  '(06/11/2014)',\n",
       "  'SECRETARY FOR JUSTICE v. FLORENCE TSANG CHIU WING AND OTHERS \\xa0Reported in :(2014) 17 HKCFAR 739'),\n",
       " ('Final Appeal (Civil)',\n",
       "  '2014',\n",
       "  \"\\\\'https://legalref.judiciary.hk/lrs/images/ThemeXP/Epage.gif\\\\'\",\n",
       "  'FACV6/2014',\n",
       "  'https://legalref.judiciary.hk/lrs/common/ju/ju_frame.jsp?DIS=95604',\n",
       "  '(06/11/2014)',\n",
       "  'SECRETARY FOR JUSTICE v. FLORENCE TSANG CHIU WING AND OTHERS \\xa0Reported in :(2014) 17 HKCFAR 739'),\n",
       " ('Final Appeal (Civil)',\n",
       "  '2014',\n",
       "  \"\\\\'https://legalref.judiciary.hk/lrs/images/ThemeXP/Epage.gif\\\\'\",\n",
       "  'FACV7/2014',\n",
       "  'https://legalref.judiciary.hk/lrs/common/ju/ju_frame.jsp?DIS=97481',\n",
       "  '(13/03/2015)',\n",
       "  'CHINA FIELD LIMITED v. BUILDING AUTHORITY \\xa0Reported in :(2015) 18 HKCFAR 317'),\n",
       " ('Final Appeal (Civil)',\n",
       "  '2014',\n",
       "  \"\\\\'https://legalref.judiciary.hk/lrs/images/ThemeXP/Epage.gif\\\\'\",\n",
       "  'FACV8/2014',\n",
       "  'https://legalref.judiciary.hk/lrs/common/ju/ju_frame.jsp?DIS=96962',\n",
       "  '(05/02/2015)',\n",
       "  'SIU KAI MING v. LAU SAI HING \\xa0Reported in :(2015) 18 HKCFAR 38'),\n",
       " ('Final Appeal (Civil)',\n",
       "  '2014',\n",
       "  \"\\\\'https://legalref.judiciary.hk/lrs/images/ThemeXP/Epage.gif\\\\'\",\n",
       "  'FACV9/2014',\n",
       "  'https://legalref.judiciary.hk/lrs/common/ju/ju_frame.jsp?DIS=100060',\n",
       "  '(24/08/2015)',\n",
       "  'CHINACHEM CHARITABLE FOUNDATION LTD v. THE SECRETARY FOR JUSTICE AND OTHERS \\xa0Reported in :(2015) 18 HKCFAR 414'),\n",
       " ('Final Appeal (Civil)',\n",
       "  '2014',\n",
       "  \"\\\\'https://legalref.judiciary.hk/lrs/images/ThemeXP/Epage.gif\\\\'\",\n",
       "  'FACV9/2014',\n",
       "  'https://legalref.judiciary.hk/lrs/common/ju/ju_frame.jsp?DIS=98447',\n",
       "  '(18/05/2015)',\n",
       "  'CHINACHEM CHARITABLE FOUNDATION LTD v. THE SECRETARY FOR JUSTICE & OTHERS \\xa0Reported in :(2015) 18 HKCFAR 169'),\n",
       " ('Final Appeal (Civil)',\n",
       "  '2014',\n",
       "  \"\\\\'https://legalref.judiciary.hk/lrs/images/ThemeXP/Epage.gif\\\\'\",\n",
       "  'FACV10/2014',\n",
       "  'https://legalref.judiciary.hk/lrs/common/ju/ju_frame.jsp?DIS=99307',\n",
       "  '(07/07/2015)',\n",
       "  'MIMI KAR KEE WONG HUNG v. RAYMOND KIN SANG HUNG \\xa0'),\n",
       " ('Final Appeal (Civil)',\n",
       "  '2014',\n",
       "  \"\\\\'https://legalref.judiciary.hk/lrs/images/ThemeXP/Epage.gif\\\\'\",\n",
       "  'FACV10/2014',\n",
       "  'https://legalref.judiciary.hk/lrs/common/ju/ju_frame.jsp?DIS=98449',\n",
       "  '(18/05/2015)',\n",
       "  'RAYMOND KIN SANG HUNG v. MIMI KAR KEE WONG HUNG (also known as MIMI KAR GEE WONG HUNG) \\xa0Reported in :(2015) 18 HKCFAR 210'),\n",
       " ('Final Appeal (Civil)',\n",
       "  '2014',\n",
       "  \"\\\\'https://legalref.judiciary.hk/lrs/images/ThemeXP/Epage.gif\\\\'\",\n",
       "  'FACV11/2014',\n",
       "  'https://legalref.judiciary.hk/lrs/common/ju/ju_frame.jsp?DIS=99317',\n",
       "  '(07/07/2015)',\n",
       "  'MIMI KAR KEE WONG HUNG v. RAYMOND KIN SANG HUNG \\xa0'),\n",
       " ('Final Appeal (Civil)',\n",
       "  '2014',\n",
       "  \"\\\\'https://legalref.judiciary.hk/lrs/images/ThemeXP/Epage.gif\\\\'\",\n",
       "  'FACV11/2014',\n",
       "  'https://legalref.judiciary.hk/lrs/common/ju/ju_frame.jsp?DIS=98450',\n",
       "  '(18/05/2015)',\n",
       "  'MIMI KAR KEE WONG HUNG (also known as MIMI KAR GEE WONG HUNG) v. RAYMOND KIN SANG HUNG \\xa0Reported in :(2015) 18 HKCFAR 210'),\n",
       " ('Final Appeal (Civil)',\n",
       "  '2014',\n",
       "  \"\\\\'https://legalref.judiciary.hk/lrs/images/ThemeXP/Epage.gif\\\\'\",\n",
       "  'FACV12/2014',\n",
       "  'https://legalref.judiciary.hk/lrs/common/ju/ju_frame.jsp?DIS=98448',\n",
       "  '(18/05/2015)',\n",
       "  'DE MONSA INVESTMENTS LTD v. RICHLY BRIGHT INTERNATIONAL LTD, 823 INVESTMENT LTD \\xa0Reported in :(2015) 18 HKCFAR 232'),\n",
       " ('Final Appeal (Civil)',\n",
       "  '2008',\n",
       "  \"\\\\'https://legalref.judiciary.hk/lrs/images/ThemeXP/Epage.gif\\\\'\",\n",
       "  'FACV1/2008',\n",
       "  'https://legalref.judiciary.hk/lrs/common/ju/ju_frame.jsp?DIS=63530',\n",
       "  '(05/12/2008)',\n",
       "  'KUNG MING TAK TONG CO LTD v. PARK SOLID ENTERPRISES LTD AND ANOTHER \\xa0'),\n",
       " ('Final Appeal (Civil)',\n",
       "  '2008',\n",
       "  \"\\\\'https://legalref.judiciary.hk/lrs/images/ThemeXP/Epage.gif\\\\'\",\n",
       "  'FACV1/2008',\n",
       "  'https://legalref.judiciary.hk/lrs/common/ju/ju_frame.jsp?DIS=62498',\n",
       "  '(08/09/2008)',\n",
       "  'KUNG MING TAK TONG CO LTD v. PARK SOLID ENTERPRISES LTD AND ANOTHER \\xa0Reported in :[2008] 5 HKLRD 441; (2008) 11 HKCFAR 403'),\n",
       " ('Final Appeal (Civil)',\n",
       "  '2008',\n",
       "  \"\\\\'https://legalref.judiciary.hk/lrs/images/ThemeXP/Epage.gif\\\\'\",\n",
       "  'FACV3/2008',\n",
       "  'https://legalref.judiciary.hk/lrs/common/ju/ju_frame.jsp?DIS=61266',\n",
       "  '(30/05/2008)',\n",
       "  'KIN YUEN v. THE JOINT & SEVERAL LIQUIDATORS OF KONG WAH HOLDINGS LTD (In Compulsory Liquidation) \\xa0Reported in :(2008) 11 HKCFAR 509'),\n",
       " ('Final Appeal (Civil)',\n",
       "  '2008',\n",
       "  \"\\\\'https://legalref.judiciary.hk/lrs/images/ThemeXP/Epage.gif\\\\'\",\n",
       "  'FACV3/2008',\n",
       "  'https://legalref.judiciary.hk/lrs/common/ju/ju_frame.jsp?DIS=61168',\n",
       "  '(22/05/2008)',\n",
       "  'KIN YUEN  v. THE JOINT & SEVERAL LIQUIDATORS OF KONG WAH HOLDINGS LTD (In Compulsory Liquidation) \\xa0Reported in :(2008) 11 HKCFAR 497'),\n",
       " ('Final Appeal (Civil)',\n",
       "  '2008',\n",
       "  \"\\\\'https://legalref.judiciary.hk/lrs/images/ThemeXP/Epage.gif\\\\'\",\n",
       "  'FACV4/2008',\n",
       "  'https://legalref.judiciary.hk/lrs/common/ju/ju_frame.jsp?DIS=61267',\n",
       "  '(30/05/2008)',\n",
       "  'KIN YUEN v. THE JOINT & SEVERAL LIQUIDATORS OF AKAI HOLDINGS LTD (In Compulsory Liquidation) \\xa0Reported in :(2008) 11 HKCFAR 509'),\n",
       " ('Final Appeal (Civil)',\n",
       "  '2008',\n",
       "  \"\\\\'https://legalref.judiciary.hk/lrs/images/ThemeXP/Epage.gif\\\\'\",\n",
       "  'FACV4/2008',\n",
       "  'https://legalref.judiciary.hk/lrs/common/ju/ju_frame.jsp?DIS=61169',\n",
       "  '(22/05/2008)',\n",
       "  'KIN YUEN v. THE JOINT & SEVERAL LIQUIDATORS OF AKAI HOLDINGS LTD (In Compulsory Liquidation) \\xa0Reported in :(2008) 11 HKCFAR 497'),\n",
       " ('Final Appeal (Civil)',\n",
       "  '2008',\n",
       "  \"\\\\'https://legalref.judiciary.hk/lrs/images/ThemeXP/Epage.gif\\\\'\",\n",
       "  'FACV5/2008',\n",
       "  'https://legalref.judiciary.hk/lrs/common/ju/ju_frame.jsp?DIS=63557',\n",
       "  '(08/12/2008)',\n",
       "  'CHEONG SHING LTD AND ANOTHER v. YU KWAN AND OTHERS \\xa0'),\n",
       " ('Final Appeal (Civil)',\n",
       "  '2008',\n",
       "  \"\\\\'https://legalref.judiciary.hk/lrs/images/ThemeXP/Epage.gif\\\\'\",\n",
       "  'FACV5/2008',\n",
       "  'https://legalref.judiciary.hk/lrs/common/ju/ju_frame.jsp?DIS=63058',\n",
       "  '(29/10/2008)',\n",
       "  'CHEONG SHING LTD AND ANOTHER v. YU KWAN AND OTHERS \\xa0Reported in :(2008) 11 HKCFAR 594'),\n",
       " ('Final Appeal (Civil)',\n",
       "  '2008',\n",
       "  \"\\\\'https://legalref.judiciary.hk/lrs/images/ThemeXP/Epage.gif\\\\'\",\n",
       "  'FACV6/2008',\n",
       "  'https://legalref.judiciary.hk/lrs/common/ju/ju_frame.jsp?DIS=64231',\n",
       "  '(06/02/2009)',\n",
       "  'KARAHA BODAS CO LLC v. PERUSAHAAN PERTAMBANGAN MINYAK DAN GAS BUMI NEGARA \\xa0'),\n",
       " ('Final Appeal (Civil)',\n",
       "  '2008',\n",
       "  \"\\\\'https://legalref.judiciary.hk/lrs/images/ThemeXP/Epage.gif\\\\'\",\n",
       "  'FACV6/2008',\n",
       "  'https://legalref.judiciary.hk/lrs/common/ju/ju_frame.jsp?DIS=63528',\n",
       "  '(05/12/2008)',\n",
       "  'KARAHA BODAS CO LLC v. PERUSAHAAN PERTAMBANGAN MINYAK DAN GAS BUMI NEGARA (otherwise known as PERTAMINA) \\xa0Reported in :(2009) 12 HKCFAR 84'),\n",
       " ('Final Appeal (Civil)',\n",
       "  '2008',\n",
       "  \"\\\\'https://legalref.judiciary.hk/lrs/images/ThemeXP/Epage.gif\\\\'\",\n",
       "  'FACV7/2008',\n",
       "  'https://legalref.judiciary.hk/lrs/common/ju/ju_frame.jsp?DIS=63057',\n",
       "  '(29/10/2008)',\n",
       "  'KAO LEE & YIP (a firm) v. LAU WING AND ANOTHER \\xa0Reported in :(2008) 11 HKCFAR 576'),\n",
       " ('Final Appeal (Civil)',\n",
       "  '2008',\n",
       "  \"\\\\'https://legalref.judiciary.hk/lrs/images/ThemeXP/Epage.gif\\\\'\",\n",
       "  'FACV8/2008',\n",
       "  'https://legalref.judiciary.hk/lrs/common/ju/ju_frame.jsp?DIS=63558',\n",
       "  '(08/12/2008)',\n",
       "  'KONG KAI CHEUNG v. 西安民生集團股份有限公司 AND ANOTHER \\xa0'),\n",
       " ('Final Appeal (Civil)',\n",
       "  '2008',\n",
       "  \"\\\\'https://legalref.judiciary.hk/lrs/images/ThemeXP/Epage.gif\\\\'\",\n",
       "  'FACV8/2008',\n",
       "  'https://legalref.judiciary.hk/lrs/common/ju/ju_frame.jsp?DIS=63059',\n",
       "  '(29/10/2008)',\n",
       "  'KONG KAI CHEUNG v. 西安民生集團股份有限公司 AND ANOTHER \\xa0Reported in :(2008) 11 HKCFAR 594'),\n",
       " ('Final Appeal (Civil)',\n",
       "  '2008',\n",
       "  \"\\\\'https://legalref.judiciary.hk/lrs/images/ThemeXP/ETpage.gif\\\\'\",\n",
       "  'FACV9/2008',\n",
       "  'https://legalref.judiciary.hk/lrs/common/ju/ju_frame.jsp?DIS=65003',\n",
       "  '(26/03/2009)',\n",
       "  'LAM SIU PO v. COMMISSIONER OF POLICE \\xa0Reported in :(2009) 12 HKCFAR 237'),\n",
       " ('Final Appeal (Civil)',\n",
       "  '2008',\n",
       "  \"\\\\'https://legalref.judiciary.hk/lrs/images/ThemeXP/Epage.gif\\\\'\",\n",
       "  'FACV10/2008',\n",
       "  'https://legalref.judiciary.hk/lrs/common/ju/ju_frame.jsp?DIS=67553',\n",
       "  '(14/09/2009)',\n",
       "  'REGENT NATIONAL ENTERPRISES LTD v. GOLDLION PROPERTIES LTD AND OTHERS \\xa0'),\n",
       " ('Final Appeal (Civil)',\n",
       "  '2008',\n",
       "  \"\\\\'https://legalref.judiciary.hk/lrs/images/ThemeXP/Epage.gif\\\\'\",\n",
       "  'FACV10/2008',\n",
       "  'https://legalref.judiciary.hk/lrs/common/ju/ju_frame.jsp?DIS=68167',\n",
       "  '(23/10/2009)',\n",
       "  'GOLDLION PROPERTIES LTD AND OTHERS v. REGENT NATIONAL ENTERPRISES LTD \\xa0'),\n",
       " ('Final Appeal (Civil)',\n",
       "  '2008',\n",
       "  \"\\\\'https://legalref.judiciary.hk/lrs/images/ThemeXP/Epage.gif\\\\'\",\n",
       "  'FACV10/2008',\n",
       "  'https://legalref.judiciary.hk/lrs/common/ju/ju_frame.jsp?DIS=66355',\n",
       "  '(25/06/2009)',\n",
       "  'GOLDLION PROPERTIES LTD AND OTHERS v. REGENT NATIONAL ENTERPRISES LTD \\xa0Reported in :(2009) 12 HKCFAR 512'),\n",
       " ('Final Appeal (Civil)',\n",
       "  '2008',\n",
       "  \"\\\\'https://legalref.judiciary.hk/lrs/images/ThemeXP/Epage.gif\\\\'\",\n",
       "  'FACV11/2008',\n",
       "  'https://legalref.judiciary.hk/lrs/common/ju/ju_frame.jsp?DIS=64578',\n",
       "  '(02/03/2009)',\n",
       "  'FRANK YU YU KAI v. CHAN CHI KEUNG \\xa0Reported in :(2009) 12 HKCFAR 705'),\n",
       " ('Final Appeal (Civil)',\n",
       "  '2008',\n",
       "  \"\\\\'https://legalref.judiciary.hk/lrs/images/ThemeXP/Epage.gif\\\\'\",\n",
       "  'FACV13/2008',\n",
       "  'https://legalref.judiciary.hk/lrs/common/ju/ju_frame.jsp?DIS=65720',\n",
       "  '(12/05/2009)',\n",
       "  'CAREWINS DEVELOPMENT (CHINA) LTD v. BRIGHT FORTUNE SHIPPING LTD \\xa0Reported in :[2009] 3 HKLRD 409; (2009) 12 HKCFAR 185'),\n",
       " ('Final Appeal (Civil)',\n",
       "  '2008',\n",
       "  \"\\\\'https://legalref.judiciary.hk/lrs/images/ThemeXP/Epage.gif\\\\'\",\n",
       "  'FACV14/2008',\n",
       "  'https://legalref.judiciary.hk/lrs/common/ju/ju_frame.jsp?DIS=65723',\n",
       "  '(12/05/2009)',\n",
       "  'CAREWINS DEVELOPMENT (CHINA) LTD v. HECNY SHIPPING LTD \\xa0Reported in :[2009] 3 HKLRD 409; (2009) 12 HKCFAR 185'),\n",
       " ('Final Appeal (Civil)',\n",
       "  '2008',\n",
       "  \"\\\\'https://legalref.judiciary.hk/lrs/images/ThemeXP/ETpage.gif\\\\'\",\n",
       "  'FACV16/2008',\n",
       "  'https://legalref.judiciary.hk/lrs/common/ju/ju_frame.jsp?DIS=73767',\n",
       "  '(12/11/2010)',\n",
       "  'LKW v. DD \\xa0Reported in :(2010) 13 HKCFAR 537'),\n",
       " ('Final Appeal (Civil)',\n",
       "  '2008',\n",
       "  \"\\\\'https://legalref.judiciary.hk/lrs/images/ThemeXP/Epage.gif\\\\'\",\n",
       "  'FACV17/2008',\n",
       "  'https://legalref.judiciary.hk/lrs/common/ju/ju_frame.jsp?DIS=64560',\n",
       "  '(27/02/2009)',\n",
       "  'PECONIC INDUSTRIAL DEVELOPMENT LTD v. LAU KWOK FAI AND OTHERS \\xa0Reported in :[2009] 2 HKLRD 537; (2009) 12 HKCFAR 139'),\n",
       " ('Final Appeal (Civil)',\n",
       "  '2008',\n",
       "  \"\\\\'https://legalref.judiciary.hk/lrs/images/ThemeXP/Epage.gif\\\\'\",\n",
       "  'FACV18/2008',\n",
       "  'https://legalref.judiciary.hk/lrs/common/ju/ju_frame.jsp?DIS=64561',\n",
       "  '(27/02/2009)',\n",
       "  'PECONIC INDUSTRIAL DEVELOPMENT LTD v. LAU KWOK FAI AND OTHERS \\xa0Reported in :[2009] 2 HKLRD 537; (2009) 12 HKCFAR 139'),\n",
       " ('Final Appeal (Civil)',\n",
       "  '2008',\n",
       "  \"\\\\'https://legalref.judiciary.hk/lrs/images/ThemeXP/Epage.gif\\\\'\",\n",
       "  'FACV19/2008',\n",
       "  'https://legalref.judiciary.hk/lrs/common/ju/ju_frame.jsp?DIS=63367',\n",
       "  '(19/11/2008)',\n",
       "  'ANDERSON ASPHALT LTD AND OTHERS v. THE SECRETARY FOR JUSTICE \\xa0'),\n",
       " ('Final Appeal (Civil)',\n",
       "  '2008',\n",
       "  \"\\\\'https://legalref.judiciary.hk/lrs/images/ThemeXP/Epage.gif\\\\'\",\n",
       "  'FACV21/2008',\n",
       "  'https://legalref.judiciary.hk/lrs/common/ju/ju_frame.jsp?DIS=64686',\n",
       "  '(09/03/2009)',\n",
       "  'MING AN INSURANCE CO (HK) LTD v. RITZ-CARLTON LTD (NO. 2) \\xa0Reported in :(2009) 12 HKCFAR 745'),\n",
       " ('Final Appeal (Civil)',\n",
       "  '2008',\n",
       "  \"\\\\'https://legalref.judiciary.hk/lrs/images/ThemeXP/Epage.gif\\\\'\",\n",
       "  'FACV21/2008',\n",
       "  'https://legalref.judiciary.hk/lrs/common/ju/ju_frame.jsp?DIS=63711',\n",
       "  '(19/12/2008)',\n",
       "  'MING AN INSURANCE CO (HK) LTD v. RITZ-CARLTON LTD \\xa0Reported in :(2009) 12 HKCFAR 158'),\n",
       " ('Final Appeal (Civil)',\n",
       "  '2008',\n",
       "  \"\\\\'https://legalref.judiciary.hk/lrs/images/ThemeXP/Epage.gif\\\\'\",\n",
       "  'FACV22/2008',\n",
       "  'https://legalref.judiciary.hk/lrs/common/ju/ju_frame.jsp?DIS=68093',\n",
       "  '(20/10/2009)',\n",
       "  'LEUNG KA LAU AND OTHERS v. THE HOSPITAL AUTHORITY \\xa0Reported in :(2009) 12 HKCFAR 924'),\n",
       " ('Final Appeal (Civil)',\n",
       "  '2008',\n",
       "  \"\\\\'https://legalref.judiciary.hk/lrs/images/ThemeXP/Epage.gif\\\\'\",\n",
       "  'FACV23/2008',\n",
       "  'https://legalref.judiciary.hk/lrs/common/ju/ju_frame.jsp?DIS=68095',\n",
       "  '(20/10/2009)',\n",
       "  'LEUNG KA LAU AND OTHERS v. THE HOSPITAL AUTHORITY \\xa0Reported in :(2009) 12 HKCFAR 924'),\n",
       " ('Final Appeal (Civil)',\n",
       "  '2008',\n",
       "  \"\\\\'https://legalref.judiciary.hk/lrs/images/ThemeXP/Epage.gif\\\\'\",\n",
       "  'FACV24/2008',\n",
       "  'https://legalref.judiciary.hk/lrs/common/ju/ju_frame.jsp?DIS=65721',\n",
       "  '(12/05/2009)',\n",
       "  'ROBERT YIP v. WING FAI CONSTRUCTION CO LTD (IN LIQUIDATION) \\xa0Reported in :(2009) 12 HKCFAR 800'),\n",
       " ('Final Appeal (Civil)',\n",
       "  '2008',\n",
       "  \"\\\\'https://legalref.judiciary.hk/lrs/images/ThemeXP/Epage.gif\\\\'\",\n",
       "  'FACV25/2008',\n",
       "  'https://legalref.judiciary.hk/lrs/common/ju/ju_frame.jsp?DIS=70973',\n",
       "  '(14/05/2010)',\n",
       "  'LAU SUK CHING PEGGY v. MA HING LAM AND OTHERS \\xa0Reported in :[2010] 3 HKLRD 247; (2010) 13 HKCFAR 226'),\n",
       " ('Final Appeal (Civil)',\n",
       "  '2008',\n",
       "  \"\\\\'https://legalref.judiciary.hk/lrs/images/ThemeXP/Epage.gif\\\\'\",\n",
       "  'FACV26/2008',\n",
       "  'https://legalref.judiciary.hk/lrs/common/ju/ju_frame.jsp?DIS=65722',\n",
       "  '(12/05/2009)',\n",
       "  'PING AN SECURITIES LTD v. 中國平安保險(集團)股份有限公司 \\xa0Reported in :(2009) 12 HKCFAR 808'),\n",
       " ('Final Appeal (Civil)',\n",
       "  '2008',\n",
       "  \"\\\\'https://legalref.judiciary.hk/lrs/images/ThemeXP/ETpage.gif\\\\'\",\n",
       "  'FACV27/2008',\n",
       "  'https://legalref.judiciary.hk/lrs/common/ju/ju_frame.jsp?DIS=64317',\n",
       "  '(13/02/2009)',\n",
       "  'PCCW - HKT TELEPHONE LTD AND ANOTHER v. DAVID MATTHEW MCDONALD AITKEN AND ANOTHER \\xa0Reported in :[2009] 2 HKLRD 274; (2009) 12 HKCFAR 114'),\n",
       " ('Final Appeal (Civil)',\n",
       "  '2008',\n",
       "  \"\\\\'https://legalref.judiciary.hk/lrs/images/ThemeXP/ETpage.gif\\\\'\",\n",
       "  'FACV28/2008',\n",
       "  'https://legalref.judiciary.hk/lrs/common/ju/ju_frame.jsp?DIS=64495',\n",
       "  '(24/02/2009)',\n",
       "  'AKAI HOLDINGS LTD (IN COMPULSORY LIQUIDATION) v. ERNST & YOUNG (A HONG KONG FIRM) \\xa0Reported in :(2009) 12 HKCFAR 649'),\n",
       " ('Final Appeal (Civil)',\n",
       "  '2008',\n",
       "  \"\\\\'https://legalref.judiciary.hk/lrs/images/ThemeXP/Epage.gif\\\\'\",\n",
       "  'FACV29/2008',\n",
       "  'https://legalref.judiciary.hk/lrs/common/ju/ju_frame.jsp?DIS=67698',\n",
       "  '(22/09/2009)',\n",
       "  'NGAI LIK ELECTRONICS CO LTD v. THE COMMISSIONER OF INLAND REVENUE \\xa0'),\n",
       " ('Final Appeal (Civil)',\n",
       "  '2008',\n",
       "  \"\\\\'https://legalref.judiciary.hk/lrs/images/ThemeXP/Epage.gif\\\\'\",\n",
       "  'FACV29/2008',\n",
       "  'https://legalref.judiciary.hk/lrs/common/ju/ju_frame.jsp?DIS=66785',\n",
       "  '(24/07/2009)',\n",
       "  'NGAI LIK ELECTRONICS CO LTD v. THE COMMISSIONER OF INLAND REVENUE \\xa0Reported in :[2009] 5 HKLRD 334; (2009) 12 HKCFAR 296'),\n",
       " ('Final Appeal (Civil)',\n",
       "  '2008',\n",
       "  \"\\\\'https://legalref.judiciary.hk/lrs/images/ThemeXP/Epage.gif\\\\'\",\n",
       "  'FACV30/2008',\n",
       "  'https://legalref.judiciary.hk/lrs/common/ju/ju_frame.jsp?DIS=69293',\n",
       "  '(12/01/2010)',\n",
       "  'DAVID JOHN KENNEDY v. KELLY CHENG AND ANOTHER \\xa0'),\n",
       " ('Final Appeal (Civil)',\n",
       "  '2008',\n",
       "  \"\\\\'https://legalref.judiciary.hk/lrs/images/ThemeXP/Epage.gif\\\\'\",\n",
       "  'FACV30/2008',\n",
       "  'https://legalref.judiciary.hk/lrs/common/ju/ju_frame.jsp?DIS=77606',\n",
       "  '(29/07/2011)',\n",
       "  'DAVID JOHN KENNEDY v. KELLY CHENG AND ANOTHER \\xa0Reported in :(2011) 14 HKCFAR 713'),\n",
       " ('Final Appeal (Civil)',\n",
       "  '2008',\n",
       "  \"\\\\'https://legalref.judiciary.hk/lrs/images/ThemeXP/Epage.gif\\\\'\",\n",
       "  'FACV30/2008',\n",
       "  'https://legalref.judiciary.hk/lrs/common/ju/ju_frame.jsp?DIS=83833',\n",
       "  '(12/10/2012)',\n",
       "  'DAVID JOHN KENNEDY v. KELLY CHENG AND ANOTHER \\xa0Reported in :(2012) 15 HKCFAR 657'),\n",
       " ('Final Appeal (Civil)',\n",
       "  '2008',\n",
       "  \"\\\\'https://legalref.judiciary.hk/lrs/images/ThemeXP/Epage.gif\\\\'\",\n",
       "  'FACV30/2008',\n",
       "  'https://legalref.judiciary.hk/lrs/common/ju/ju_frame.jsp?DIS=91593',\n",
       "  '(30/09/2013)',\n",
       "  'DAVID JOHN KENNEDY v. KELLY CHENG AND ANOTHER \\xa0'),\n",
       " ('Final Appeal (Civil)',\n",
       "  '2008',\n",
       "  \"\\\\'https://legalref.judiciary.hk/lrs/images/ThemeXP/ETpage.gif\\\\'\",\n",
       "  'FACV30/2008',\n",
       "  'https://legalref.judiciary.hk/lrs/common/ju/ju_frame.jsp?DIS=68094',\n",
       "  '(20/10/2009)',\n",
       "  'DAVID JOHN KENNEDY v. KELLY CHENG AND ANOTHER \\xa0Reported in :(2009) 12 HKCFAR 601'),\n",
       " ('Final Appeal (Civil)',\n",
       "  '2002',\n",
       "  \"\\\\'https://legalref.judiciary.hk/lrs/images/ThemeXP/Epage.gif\\\\'\",\n",
       "  'FACV1/2002',\n",
       "  'https://legalref.judiciary.hk/lrs/common/ju/ju_frame.jsp?DIS=22740',\n",
       "  '(30/07/2002)',\n",
       "  'COMMON LUCK INVESTMENT LTD. v. DIRECTOR OF LEGAL AID \\xa0Reported in :[2002] 3 HKLRD 81; (2002) 5 HKCFAR 467'),\n",
       " ('Final Appeal (Civil)',\n",
       "  '2002',\n",
       "  \"\\\\'https://legalref.judiciary.hk/lrs/images/ThemeXP/ETpage.gif\\\\'\",\n",
       "  'FACV2/2002',\n",
       "  'https://legalref.judiciary.hk/lrs/common/ju/ju_frame.jsp?DIS=35488',\n",
       "  '(17/01/2003)',\n",
       "  'DIRECTOR OF LANDS v. YIN SHUEN ENTERPRISES LTD. AND ANOTHER \\xa0Reported in :[2003] 2 HKLRD 399; (2003) 6 HKCFAR 1'),\n",
       " ('Final Appeal (Civil)',\n",
       "  '2002',\n",
       "  \"\\\\'https://legalref.judiciary.hk/lrs/images/ThemeXP/ETpage.gif\\\\'\",\n",
       "  'FACV3/2002',\n",
       "  'https://legalref.judiciary.hk/lrs/common/ju/ju_frame.jsp?DIS=35572',\n",
       "  '(17/01/2003)',\n",
       "  'DIRECTOR OF LANDS v. YIN SHUEN ENTERPRISES LTD. AND ANOTHER \\xa0Reported in :[2003] 2 HKLRD 399; (2003) 6 HKCFAR 1'),\n",
       " ('Final Appeal (Civil)',\n",
       "  '2002',\n",
       "  \"\\\\'https://legalref.judiciary.hk/lrs/images/ThemeXP/Epage.gif\\\\'\",\n",
       "  'FACV4/2002',\n",
       "  'https://legalref.judiciary.hk/lrs/common/ju/ju_frame.jsp?DIS=25406',\n",
       "  '(04/12/2002)',\n",
       "  'THE MING AN INSURANCE CO (HK) LTD v. THE RITZ-CARLTON LTD \\xa0Reported in :[2002] 3 HKLRD 844; (2002) 5 HKCFAR 569'),\n",
       " ('Final Appeal (Civil)',\n",
       "  '2002',\n",
       "  \"\\\\'https://legalref.judiciary.hk/lrs/images/ThemeXP/ETpage.gif\\\\'\",\n",
       "  'FACV5/2002',\n",
       "  'https://legalref.judiciary.hk/lrs/common/ju/ju_frame.jsp?DIS=34537',\n",
       "  '(05/03/2003)',\n",
       "  'NEXT MAGAZINE PUBLISHING LTD AND ANOTHER v. MA CHING FAT \\xa0Reported in :[2003] 1 HKLRD 751; (2003) 6 HKCFAR 63'),\n",
       " ('Final Appeal (Civil)',\n",
       "  '2002',\n",
       "  \"\\\\'https://legalref.judiciary.hk/lrs/images/ThemeXP/Epage.gif\\\\'\",\n",
       "  'FACV6/2002',\n",
       "  'https://legalref.judiciary.hk/lrs/common/ju/ju_frame.jsp?DIS=23793',\n",
       "  '(19/12/2002)',\n",
       "  \"CHINA EVERBRIGHT- IHD PACIFIC LTD. v. CH\\\\'NG POH \\xa0Reported in :(2002) 5 HKCFAR 630; [2003] 2 HKLRD 594\"),\n",
       " ('Final Appeal (Civil)',\n",
       "  '2002',\n",
       "  \"\\\\'https://legalref.judiciary.hk/lrs/images/ThemeXP/ETpage.gif\\\\'\",\n",
       "  'FACV7/2002',\n",
       "  'https://legalref.judiciary.hk/lrs/common/ju/ju_frame.jsp?DIS=26022',\n",
       "  '(11/02/2003)',\n",
       "  'PREM SINGH v. DIRECTOR OF IMMIGRATION \\xa0Reported in :(2003) 6 HKCFAR 26; [2003] 1 HKLRD 550'),\n",
       " ('Final Appeal (Civil)',\n",
       "  '2002',\n",
       "  \"\\\\'https://legalref.judiciary.hk/lrs/images/ThemeXP/Epage.gif\\\\'\",\n",
       "  'FACV8/2002',\n",
       "  'https://legalref.judiciary.hk/lrs/common/ju/ju_frame.jsp?DIS=35191',\n",
       "  '(05/12/2002)',\n",
       "  'COMMISSIONER OF CUSTOMS AND EXCISE v. BHAGWAN KANAYALAL CHANDIRAMANI \\xa0Reported in :[2002] 3 HKLRD 825; (2002) 5 HKCFAR 618'),\n",
       " ('Final Appeal (Civil)',\n",
       "  '2002',\n",
       "  \"\\\\'https://legalref.judiciary.hk/lrs/images/ThemeXP/Epage.gif\\\\'\",\n",
       "  'FACV9/2002',\n",
       "  'https://legalref.judiciary.hk/lrs/common/ju/ju_frame.jsp?DIS=40453',\n",
       "  '(15/06/2004)',\n",
       "  'KEEP POINT DEVELOPMENT LTD v. CHAN CHI YIM AND OTHERS \\xa0Reported in :[2005] 1 HKLRD 729; (2004) 7 HKCFAR 246'),\n",
       " ('Final Appeal (Civil)',\n",
       "  '2002',\n",
       "  \"\\\\'https://legalref.judiciary.hk/lrs/images/ThemeXP/Epage.gif\\\\'\",\n",
       "  'FACV9/2002',\n",
       "  'https://legalref.judiciary.hk/lrs/common/ju/ju_frame.jsp?DIS=35195',\n",
       "  '(11/04/2003)',\n",
       "  'KEEP POINT DEVELOPMENT LTD v. CHAN CHI YIM AND OTHERS \\xa0Reported in :[2003] 2 HKLRD 207; (2003) 6 HKCFAR 160'),\n",
       " ('Final Appeal (Civil)',\n",
       "  '2002',\n",
       "  \"\\\\'https://legalref.judiciary.hk/lrs/images/ThemeXP/Epage.gif\\\\'\",\n",
       "  'FACV10/2002',\n",
       "  'https://legalref.judiciary.hk/lrs/common/ju/ju_frame.jsp?DIS=40508',\n",
       "  '(15/06/2004)',\n",
       "  'KEEP POINT DEVELOPMENT LTD v. CHAN CHI YIM AND OTHERS \\xa0Reported in :[2005] 1 HKLRD 729; (2004) 7 HKCFAR 246'),\n",
       " ('Final Appeal (Civil)',\n",
       "  '2002',\n",
       "  \"\\\\'https://legalref.judiciary.hk/lrs/images/ThemeXP/Epage.gif\\\\'\",\n",
       "  'FACV10/2002',\n",
       "  'https://legalref.judiciary.hk/lrs/common/ju/ju_frame.jsp?DIS=37377',\n",
       "  '(11/04/2003)',\n",
       "  'KEEP POINT DEVELOPMENT LTD v. CHAN CHI YIM AND OTHERS \\xa0Reported in :[2003] 2 HKLRD 207; (2003) 6 HKCFAR 160'),\n",
       " ('Final Appeal (Civil)',\n",
       "  '2002',\n",
       "  \"\\\\'https://legalref.judiciary.hk/lrs/images/ThemeXP/Epage.gif\\\\'\",\n",
       "  'FACV11/2002',\n",
       "  'https://legalref.judiciary.hk/lrs/common/ju/ju_frame.jsp?DIS=35192',\n",
       "  '(05/12/2002)',\n",
       "  'MERCK SHARP & DOHME LTD v. THE REGISTRAR OF PATENTS \\xa0Reported in :[2002] 3 HKLRD 812; (2002) 5 HKCFAR 604'),\n",
       " ('Final Appeal (Civil)',\n",
       "  '2002',\n",
       "  \"\\\\'https://legalref.judiciary.hk/lrs/images/ThemeXP/ETpage.gif\\\\'\",\n",
       "  'FACV13/2002',\n",
       "  'https://legalref.judiciary.hk/lrs/common/ju/ju_frame.jsp?DIS=36000',\n",
       "  '(07/07/2003)',\n",
       "  'SWIRE PROPERTIES LTD AND OTHERS v. THE SECRETARY FOR JUSTICE \\xa0Reported in :[2003] 2 HKLRD 986; (2003) 6 HKCFAR 236'),\n",
       " ('Final Appeal (Civil)',\n",
       "  '2002',\n",
       "  \"\\\\'https://legalref.judiciary.hk/lrs/images/ThemeXP/Epage.gif\\\\'\",\n",
       "  'FACV14/2002',\n",
       "  'https://legalref.judiciary.hk/lrs/common/ju/ju_frame.jsp?DIS=24584',\n",
       "  '(05/08/2003)',\n",
       "  'WONG MAN YIN v. RICACORP PROPERTIES LTD AND OTHERS \\xa0Reported in :[2003] 3 HKLRD 75; (2003) 6 HKCFAR 265'),\n",
       " ('Final Appeal (Civil)',\n",
       "  '2002',\n",
       "  \"\\\\'https://legalref.judiciary.hk/lrs/images/ThemeXP/Epage.gif\\\\'\",\n",
       "  'FACV16/2002',\n",
       "  'https://legalref.judiciary.hk/lrs/common/ju/ju_frame.jsp?DIS=35976',\n",
       "  '(27/06/2003)',\n",
       "  'SANFIELD BUILDING CONTRACTORS LTD v. LI KAI CHEONG \\xa0Reported in :[2003] 3 HKLRD 48; (2003) 6 HKCFAR 207')]"
      ]
     },
     "execution_count": 21,
     "metadata": {},
     "output_type": "execute_result"
    }
   ],
   "source": [
    "def collect_data(length):\n",
    "    data_ = []\n",
    "    for i in range(length):\n",
    "        f = open(str(i)+'.pickle', 'rb')\n",
    "        one = pickle.load(f)\n",
    "        data_.extend(one)\n",
    "    return data_\n",
    "\n",
    "length = 11\n",
    "data_ = collect_data(length)\n",
    "data_"
   ]
  },
  {
   "cell_type": "code",
   "execution_count": 22,
   "metadata": {},
   "outputs": [
    {
     "name": "stdout",
     "output_type": "stream",
     "text": [
      "(356, 7)\n"
     ]
    },
    {
     "data": {
      "text/html": [
       "<div>\n",
       "<style scoped>\n",
       "    .dataframe tbody tr th:only-of-type {\n",
       "        vertical-align: middle;\n",
       "    }\n",
       "\n",
       "    .dataframe tbody tr th {\n",
       "        vertical-align: top;\n",
       "    }\n",
       "\n",
       "    .dataframe thead th {\n",
       "        text-align: right;\n",
       "    }\n",
       "</style>\n",
       "<table border=\"1\" class=\"dataframe\">\n",
       "  <thead>\n",
       "    <tr style=\"text-align: right;\">\n",
       "      <th></th>\n",
       "      <th>sub_court_cleared</th>\n",
       "      <th>year</th>\n",
       "      <th>outcome</th>\n",
       "      <th>name</th>\n",
       "      <th>detail_url</th>\n",
       "      <th>date</th>\n",
       "      <th>persons</th>\n",
       "    </tr>\n",
       "  </thead>\n",
       "  <tbody>\n",
       "    <tr>\n",
       "      <th>0</th>\n",
       "      <td>Final Appeal (Civil)</td>\n",
       "      <td>2011</td>\n",
       "      <td>\\'https://legalref.judiciary.hk/lrs/images/ThemeXP/Epage.gif\\'</td>\n",
       "      <td>FACV1/2011</td>\n",
       "      <td>https://legalref.judiciary.hk/lrs/common/ju/ju_frame.jsp?DIS=79800</td>\n",
       "      <td>(06/01/2012)</td>\n",
       "      <td>THE CATHOLIC DIOCESE OF HONG KONG ALSO KNOWN AS THE BISHOP OF THE ROMAN CATHOLIC CHURCH IN HONG KONG INCORPORATION  v. SECRETARY FOR JUSTICE</td>\n",
       "    </tr>\n",
       "    <tr>\n",
       "      <th>1</th>\n",
       "      <td>Final Appeal (Civil)</td>\n",
       "      <td>2011</td>\n",
       "      <td>\\'https://legalref.judiciary.hk/lrs/images/ThemeXP/Epage.gif\\'</td>\n",
       "      <td>FACV1/2011</td>\n",
       "      <td>https://legalref.judiciary.hk/lrs/common/ju/ju_frame.jsp?DIS=78563</td>\n",
       "      <td>(13/10/2011)</td>\n",
       "      <td>THE CATHOLIC DIOCESE OF HONG KONG ALSO KNOWN AS THE BISHOP OF THE ROMAN CATHOLIC CHURCH IN HONG KONG INCORPORATION v. SECRETARY FOR JUSTICE  Reported in :(2011) 14 HKCFAR 754</td>\n",
       "    </tr>\n",
       "    <tr>\n",
       "      <th>2</th>\n",
       "      <td>Final Appeal (Civil)</td>\n",
       "      <td>2011</td>\n",
       "      <td>\\'https://legalref.judiciary.hk/lrs/images/ThemeXP/ETpage.gif\\'</td>\n",
       "      <td>FACV2/2011</td>\n",
       "      <td>https://legalref.judiciary.hk/lrs/common/ju/ju_frame.jsp?DIS=79162</td>\n",
       "      <td>(23/11/2011)</td>\n",
       "      <td>WEALTH DUKE LTD AND OTHERS v. BANK OF CHINA (HONG KONG) LTD  Reported in :(2011) 14 HKCFAR 863</td>\n",
       "    </tr>\n",
       "  </tbody>\n",
       "</table>\n",
       "</div>"
      ],
      "text/plain": [
       "      sub_court_cleared  year  \\\n",
       "0  Final Appeal (Civil)  2011   \n",
       "1  Final Appeal (Civil)  2011   \n",
       "2  Final Appeal (Civil)  2011   \n",
       "\n",
       "                                                           outcome  \\\n",
       "0   \\'https://legalref.judiciary.hk/lrs/images/ThemeXP/Epage.gif\\'   \n",
       "1   \\'https://legalref.judiciary.hk/lrs/images/ThemeXP/Epage.gif\\'   \n",
       "2  \\'https://legalref.judiciary.hk/lrs/images/ThemeXP/ETpage.gif\\'   \n",
       "\n",
       "         name  \\\n",
       "0  FACV1/2011   \n",
       "1  FACV1/2011   \n",
       "2  FACV2/2011   \n",
       "\n",
       "                                                           detail_url  \\\n",
       "0  https://legalref.judiciary.hk/lrs/common/ju/ju_frame.jsp?DIS=79800   \n",
       "1  https://legalref.judiciary.hk/lrs/common/ju/ju_frame.jsp?DIS=78563   \n",
       "2  https://legalref.judiciary.hk/lrs/common/ju/ju_frame.jsp?DIS=79162   \n",
       "\n",
       "           date  \\\n",
       "0  (06/01/2012)   \n",
       "1  (13/10/2011)   \n",
       "2  (23/11/2011)   \n",
       "\n",
       "                                                                                                                                                                          persons  \n",
       "0                                  THE CATHOLIC DIOCESE OF HONG KONG ALSO KNOWN AS THE BISHOP OF THE ROMAN CATHOLIC CHURCH IN HONG KONG INCORPORATION  v. SECRETARY FOR JUSTICE    \n",
       "1  THE CATHOLIC DIOCESE OF HONG KONG ALSO KNOWN AS THE BISHOP OF THE ROMAN CATHOLIC CHURCH IN HONG KONG INCORPORATION v. SECRETARY FOR JUSTICE  Reported in :(2011) 14 HKCFAR 754  \n",
       "2                                                                                  WEALTH DUKE LTD AND OTHERS v. BANK OF CHINA (HONG KONG) LTD  Reported in :(2011) 14 HKCFAR 863  "
      ]
     },
     "execution_count": 22,
     "metadata": {},
     "output_type": "execute_result"
    }
   ],
   "source": [
    "def get_dataframe(data_):\n",
    "    df = pd.DataFrame(data_, columns=['sub_court_cleared', 'year', 'outcome', \\\n",
    "                                      'name', 'detail_url', 'date', 'persons'])\n",
    "    return df\n",
    "df_details = get_dataframe(data_)\n",
    "print(df_details.shape)\n",
    "df_details.head(3)"
   ]
  },
  {
   "cell_type": "code",
   "execution_count": null,
   "metadata": {},
   "outputs": [],
   "source": [
    "with open('detail.pickle', 'wb') as ww:\n",
    "    pickle.dump(df_detail, ww)"
   ]
  }
 ],
 "metadata": {
  "kernelspec": {
   "display_name": "Python 3",
   "language": "python",
   "name": "python3"
  },
  "language_info": {
   "codemirror_mode": {
    "name": "ipython",
    "version": 3
   },
   "file_extension": ".py",
   "mimetype": "text/x-python",
   "name": "python",
   "nbconvert_exporter": "python",
   "pygments_lexer": "ipython3",
   "version": "3.7.1"
  }
 },
 "nbformat": 4,
 "nbformat_minor": 2
}
