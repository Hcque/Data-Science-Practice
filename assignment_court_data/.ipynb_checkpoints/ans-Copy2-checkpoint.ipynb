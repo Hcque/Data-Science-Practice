{
 "cells": [
  {
   "cell_type": "code",
   "execution_count": 1,
   "metadata": {},
   "outputs": [],
   "source": [
    "import requests\n",
    "import json\n",
    "import time\n",
    "from bs4 import BeautifulSoup, Comment\n",
    "import IPython.display as display\n",
    "import pickle\n",
    "import pandas as pd\n",
    "import re"
   ]
  },
  {
   "cell_type": "markdown",
   "metadata": {},
   "source": [
    "## Roadmap"
   ]
  },
  {
   "cell_type": "code",
   "execution_count": 2,
   "metadata": {},
   "outputs": [
    {
     "name": "stdout",
     "output_type": "stream",
     "text": [
      "200\n"
     ]
    }
   ],
   "source": [
    "def url_to_root(url):\n",
    "    headers = {'Accept-Encoding': 'identity',\n",
    "               'User-Agent': 'Mozilla/5.0 (Macintosh; Intel Mac OS X 10_10_3) AppleWebKit/537.36 (KHTML, like Gecko) Chrome/54.0.2840.71 Safari/537.36'\n",
    "                }\n",
    "    response = requests.get(url, headers=headers)\n",
    "    print(response.status_code)\n",
    "    \n",
    "    root = BeautifulSoup(response.text, 'html5lib')\n",
    "    return root\n",
    "\n",
    "original_url = 'https://legalref.judiciary.hk/lrs/common/ju/judgment.jsp'\n",
    "root = url_to_root(original_url)"
   ]
  },
  {
   "cell_type": "markdown",
   "metadata": {},
   "source": [
    "## Hieachy 1: parent court categories"
   ]
  },
  {
   "cell_type": "code",
   "execution_count": 3,
   "metadata": {},
   "outputs": [
    {
     "data": {
      "text/plain": [
       "{'Court of Final Appeal': 'https://legalref.judiciary.hk/lrs/common/ju/judgment.jsp?L1=FA#H1',\n",
       " 'Court of Appeal of the High Court': 'https://legalref.judiciary.hk/lrs/common/ju/judgment.jsp?L1=CA#H2',\n",
       " 'High Court': 'https://legalref.judiciary.hk/lrs/common/ju/judgment.jsp?L1=HC#H3',\n",
       " 'Competition Tribunal': 'https://legalref.judiciary.hk/lrs/common/ju/judgment.jsp?L1=CT#H4',\n",
       " 'District Court': 'https://legalref.judiciary.hk/lrs/common/ju/judgment.jsp?L1=DC#H5',\n",
       " 'Family Court': 'https://legalref.judiciary.hk/lrs/common/ju/judgment.jsp?L1=FC#H6',\n",
       " 'Lands Tribunal': 'https://legalref.judiciary.hk/lrs/common/ju/judgment.jsp?L1=LD#H7',\n",
       " 'Miscellaneous': 'https://legalref.judiciary.hk/lrs/common/ju/judgment.jsp?L1=OT#H8'}"
      ]
     },
     "execution_count": 3,
     "metadata": {},
     "output_type": "execute_result"
    }
   ],
   "source": [
    "def parse_courts(root):\n",
    "    \"\"\"Parse the info of parent courts.\n",
    "    Args:\n",
    "        root : BeautifulSoup Object\n",
    "    Return:\n",
    "        courts_dict (dict): court -> url\n",
    "    \"\"\"\n",
    "    # get all raw infomation about courts (looks urgly)\n",
    "    info_list = root.find('script', string=re.compile(\"var myMenu\")).text.split(\"'\")\n",
    "    # find the parent courts' name inside 'span' tag\n",
    "    courts_list = [BeautifulSoup(i).find('span').text.strip(\" \") for i in info_list if i[1:5]=='span']\n",
    "    # find corresponding urls of parents courts(order matters here)\n",
    "    courts_urls = [j for j in info_list if j[:5]=='https']\n",
    "    # store to dict\n",
    "    courts_dict = {i:j for i, j in zip(courts_list, courts_urls)}\n",
    "    return courts_dict\n",
    "\n",
    "courts = parse_courts(root)\n",
    "courts"
   ]
  },
  {
   "cell_type": "code",
   "execution_count": 4,
   "metadata": {},
   "outputs": [
    {
     "data": {
      "text/html": [
       "<div>\n",
       "<style scoped>\n",
       "    .dataframe tbody tr th:only-of-type {\n",
       "        vertical-align: middle;\n",
       "    }\n",
       "\n",
       "    .dataframe tbody tr th {\n",
       "        vertical-align: top;\n",
       "    }\n",
       "\n",
       "    .dataframe thead th {\n",
       "        text-align: right;\n",
       "    }\n",
       "</style>\n",
       "<table border=\"1\" class=\"dataframe\">\n",
       "  <thead>\n",
       "    <tr style=\"text-align: right;\">\n",
       "      <th></th>\n",
       "      <th>parent_court</th>\n",
       "      <th>parent_court_url</th>\n",
       "    </tr>\n",
       "  </thead>\n",
       "  <tbody>\n",
       "    <tr>\n",
       "      <th>0</th>\n",
       "      <td>Court of Final Appeal</td>\n",
       "      <td>https://legalref.judiciary.hk/lrs/common/ju/ju...</td>\n",
       "    </tr>\n",
       "    <tr>\n",
       "      <th>1</th>\n",
       "      <td>Court of Appeal of the High Court</td>\n",
       "      <td>https://legalref.judiciary.hk/lrs/common/ju/ju...</td>\n",
       "    </tr>\n",
       "    <tr>\n",
       "      <th>2</th>\n",
       "      <td>High Court</td>\n",
       "      <td>https://legalref.judiciary.hk/lrs/common/ju/ju...</td>\n",
       "    </tr>\n",
       "    <tr>\n",
       "      <th>3</th>\n",
       "      <td>Competition Tribunal</td>\n",
       "      <td>https://legalref.judiciary.hk/lrs/common/ju/ju...</td>\n",
       "    </tr>\n",
       "    <tr>\n",
       "      <th>4</th>\n",
       "      <td>District Court</td>\n",
       "      <td>https://legalref.judiciary.hk/lrs/common/ju/ju...</td>\n",
       "    </tr>\n",
       "    <tr>\n",
       "      <th>5</th>\n",
       "      <td>Family Court</td>\n",
       "      <td>https://legalref.judiciary.hk/lrs/common/ju/ju...</td>\n",
       "    </tr>\n",
       "    <tr>\n",
       "      <th>6</th>\n",
       "      <td>Lands Tribunal</td>\n",
       "      <td>https://legalref.judiciary.hk/lrs/common/ju/ju...</td>\n",
       "    </tr>\n",
       "    <tr>\n",
       "      <th>7</th>\n",
       "      <td>Miscellaneous</td>\n",
       "      <td>https://legalref.judiciary.hk/lrs/common/ju/ju...</td>\n",
       "    </tr>\n",
       "  </tbody>\n",
       "</table>\n",
       "</div>"
      ],
      "text/plain": [
       "                        parent_court  \\\n",
       "0              Court of Final Appeal   \n",
       "1  Court of Appeal of the High Court   \n",
       "2                         High Court   \n",
       "3               Competition Tribunal   \n",
       "4                     District Court   \n",
       "5                       Family Court   \n",
       "6                     Lands Tribunal   \n",
       "7                      Miscellaneous   \n",
       "\n",
       "                                    parent_court_url  \n",
       "0  https://legalref.judiciary.hk/lrs/common/ju/ju...  \n",
       "1  https://legalref.judiciary.hk/lrs/common/ju/ju...  \n",
       "2  https://legalref.judiciary.hk/lrs/common/ju/ju...  \n",
       "3  https://legalref.judiciary.hk/lrs/common/ju/ju...  \n",
       "4  https://legalref.judiciary.hk/lrs/common/ju/ju...  \n",
       "5  https://legalref.judiciary.hk/lrs/common/ju/ju...  \n",
       "6  https://legalref.judiciary.hk/lrs/common/ju/ju...  \n",
       "7  https://legalref.judiciary.hk/lrs/common/ju/ju...  "
      ]
     },
     "execution_count": 4,
     "metadata": {},
     "output_type": "execute_result"
    }
   ],
   "source": [
    "df_courts = pd.DataFrame([(k,v) for k,v in courts.items()], columns=['parent_court', 'parent_court_url'])\n",
    "df_courts"
   ]
  },
  {
   "cell_type": "markdown",
   "metadata": {},
   "source": [
    "## Hieachy 2: sub courts"
   ]
  },
  {
   "cell_type": "code",
   "execution_count": 5,
   "metadata": {},
   "outputs": [
    {
     "name": "stdout",
     "output_type": "stream",
     "text": [
      "200\n"
     ]
    }
   ],
   "source": [
    "url = 'https://legalref.judiciary.hk/lrs/common/ju/judgment.jsp?L1=DC#H5'\n",
    "root = url_to_root(url)\n",
    "        \n",
    "# get raw infomation\n",
    "info_list = root.find('script', string=re.compile(\"var myMenu\")).text.split(\",\")"
   ]
  },
  {
   "cell_type": "code",
   "execution_count": 6,
   "metadata": {},
   "outputs": [
    {
     "data": {
      "text/plain": [
       "{'Competition Tribunal',\n",
       " 'Court of Appeal of the High Court',\n",
       " 'Court of Final Appeal',\n",
       " 'District Court',\n",
       " 'Family Court',\n",
       " 'High Court',\n",
       " 'Lands Tribunal',\n",
       " 'Miscellaneous'}"
      ]
     },
     "execution_count": 6,
     "metadata": {},
     "output_type": "execute_result"
    }
   ],
   "source": [
    "parent_courts_set = set(df_courts['parent_court'])\n",
    "parent_courts_set"
   ]
  },
  {
   "cell_type": "code",
   "execution_count": 7,
   "metadata": {},
   "outputs": [
    {
     "data": {
      "text/plain": [
       "['Civil Action',\n",
       " 'Criminal Case',\n",
       " 'Distraint Case',\n",
       " 'District Court Tax Claim',\n",
       " 'Employee Compensation Case',\n",
       " 'Equal Opportunitie Action',\n",
       " 'Intended Action',\n",
       " 'Miscellaneou Proceeding',\n",
       " 'Occupational Deafne (Compensation) Appeal',\n",
       " 'Personal Injurie Action',\n",
       " 'Stamp Duty Appeal']"
      ]
     },
     "execution_count": 7,
     "metadata": {},
     "output_type": "execute_result"
    }
   ],
   "source": [
    "def clear_name(a):\n",
    "    ans = ' '.join([i.strip(\"\\\\s'\")for i in a.split(\" \")])\n",
    "    return ans\n",
    "\n",
    "parent_courts_set = set(df_courts['parent_court'])\n",
    "now = set([BeautifulSoup(i.strip(\"' \")).text.strip(\" \") for i in info_list if len(re.findall('<a name=', i))!=0])\n",
    "sub_courts = sorted(list(now - parent_courts_set))\n",
    "sub_courts = [clear_name(s) for s in sub_courts]\n",
    "sub_courts"
   ]
  },
  {
   "cell_type": "code",
   "execution_count": 8,
   "metadata": {},
   "outputs": [
    {
     "name": "stdout",
     "output_type": "stream",
     "text": [
      "200\n",
      "subcourts: 5\n",
      "urls: 5\n",
      "dict length:  5\n",
      "200\n",
      "subcourts: 6\n",
      "urls: 6\n",
      "dict length:  6\n",
      "200\n",
      "subcourts: 31\n",
      "urls: 31\n",
      "dict length:  31\n",
      "200\n",
      "subcourts: 2\n",
      "urls: 2\n",
      "dict length:  2\n",
      "200\n",
      "subcourts: 11\n",
      "urls: 11\n",
      "dict length:  11\n",
      "200\n",
      "subcourts: 3\n",
      "urls: 3\n",
      "dict length:  3\n",
      "200\n",
      "subcourts: 19\n",
      "urls: 19\n",
      "dict length:  19\n",
      "200\n",
      "subcourts: 11\n",
      "urls: 11\n",
      "dict length:  11\n"
     ]
    },
    {
     "data": {
      "text/plain": [
       "{'Court of Final Appeal': {'Final Appeal (Civil)': ('Final Appeal (Civil)',\n",
       "   'https://legalref.judiciary.hk/lrs/common/ju/judgment.jsp?L1=FA&L2=CV&AR=1#A1'),\n",
       "  'Final Appeal (Criminal)': ('Final Appeal (Criminal)',\n",
       "   'https://legalref.judiciary.hk/lrs/common/ju/judgment.jsp?L1=FA&L2=CC&AR=2#A2'),\n",
       "  'Miscellaneous Proceedings': ('Miscellaneou Proceeding',\n",
       "   'https://legalref.judiciary.hk/lrs/common/ju/judgment.jsp?L1=FA&L2=MP&AR=3#A3'),\n",
       "  'Miscellaneous Proceedings (Civil)': ('Miscellaneou Proceeding (Civil)',\n",
       "   'https://legalref.judiciary.hk/lrs/common/ju/judgment.jsp?L1=FA&L2=MV&AR=4#A4'),\n",
       "  'Miscellaneous Proceedings (Criminal)': ('Miscellaneou Proceeding (Criminal)',\n",
       "   'https://legalref.judiciary.hk/lrs/common/ju/judgment.jsp?L1=FA&L2=MC&AR=5#A5')},\n",
       " 'Court of Appeal of the High Court': {'Application for Review': ('Application for Review',\n",
       "   'https://legalref.judiciary.hk/lrs/common/ju/judgment.jsp?L1=CA&L2=AR&AR=1#A1'),\n",
       "  \"Attorney General\\\\'s Reference\": ('Attorney General Reference',\n",
       "   'https://legalref.judiciary.hk/lrs/common/ju/judgment.jsp?L1=CA&L2=AG&AR=2#A2'),\n",
       "  'Civil Appeal': ('Civil Appeal',\n",
       "   'https://legalref.judiciary.hk/lrs/common/ju/judgment.jsp?L1=CA&L2=CV&AR=3#A3'),\n",
       "  'Criminal Appeal': ('Criminal Appeal',\n",
       "   'https://legalref.judiciary.hk/lrs/common/ju/judgment.jsp?L1=CA&L2=CC&AR=4#A4'),\n",
       "  'Miscellaneous Proceedings': ('Miscellaneou Proceeding',\n",
       "   'https://legalref.judiciary.hk/lrs/common/ju/judgment.jsp?L1=CA&L2=MP&AR=5#A5'),\n",
       "  'Reservation of Question of Law': ('Reservation of Question of Law',\n",
       "   'https://legalref.judiciary.hk/lrs/common/ju/judgment.jsp?L1=CA&L2=QL&AR=6#A6')},\n",
       " 'High Court': {'Admiralty Action': ('Admiralty Action',\n",
       "   'https://legalref.judiciary.hk/lrs/common/ju/judgment.jsp?L1=HC&L2=AJ&AR=1#A1'),\n",
       "  'Adoption Application': ('Adoption Application',\n",
       "   'https://legalref.judiciary.hk/lrs/common/ju/judgment.jsp?L1=HC&L2=AD&AR=2#A2'),\n",
       "  'Application for Grant': ('Application for Grant',\n",
       "   'https://legalref.judiciary.hk/lrs/common/ju/judgment.jsp?L1=HC&L2=AG&AR=3#A3'),\n",
       "  'Application to set aside a Statutory Demand (under Bankruptcy Ordinance)': ('Application to et aside a Statutory Demand (under Bankruptcy Ordinance)',\n",
       "   'https://legalref.judiciary.hk/lrs/common/ju/judgment.jsp?L1=HC&L2=SD&AR=4#A4'),\n",
       "  'Applications under the Mental Health Ordinance': ('Application under the Mental Health Ordinance',\n",
       "   'https://legalref.judiciary.hk/lrs/common/ju/judgment.jsp?L1=HC&L2=MH&AR=5#A5'),\n",
       "  'Bankruptcy Proceedings': ('Bankruptcy Proceeding',\n",
       "   'https://legalref.judiciary.hk/lrs/common/ju/judgment.jsp?L1=HC&L2=B&AR=6#A6'),\n",
       "  'Caveat': ('Caveat',\n",
       "   'https://legalref.judiciary.hk/lrs/common/ju/judgment.jsp?L1=HC&L2=CA&AR=7#A7'),\n",
       "  'Citation Application': ('Citation Application',\n",
       "   'https://legalref.judiciary.hk/lrs/common/ju/judgment.jsp?L1=HC&L2=CI&AR=8#A8'),\n",
       "  'Civil Action': ('Civil Action',\n",
       "   'https://legalref.judiciary.hk/lrs/common/ju/judgment.jsp?L1=HC&L2=A&AR=9#A9'),\n",
       "  'Commercial Action': ('Commercial Action',\n",
       "   'https://legalref.judiciary.hk/lrs/common/ju/judgment.jsp?L1=HC&L2=CL&AR=10#A10'),\n",
       "  'Companies Winding-up Proceedings': ('Companie Winding-up Proceeding',\n",
       "   'https://legalref.judiciary.hk/lrs/common/ju/judgment.jsp?L1=HC&L2=CW&AR=11#A11'),\n",
       "  'Confidential Miscellaneous Proceedings': ('Confidential Miscellaneou Proceeding',\n",
       "   'https://legalref.judiciary.hk/lrs/common/ju/judgment.jsp?L1=HC&L2=CM&AR=12#A12'),\n",
       "  'Constitutional and Administrative Law Proceedings': ('Constitutional and Administrative Law Proceeding',\n",
       "   'https://legalref.judiciary.hk/lrs/common/ju/judgment.jsp?L1=HC&L2=AL&AR=13#A13'),\n",
       "  'Construction and Arbitration Proceedings': ('Construction and Arbitration Proceeding',\n",
       "   'https://legalref.judiciary.hk/lrs/common/ju/judgment.jsp?L1=HC&L2=CT&AR=14#A14'),\n",
       "  'Criminal Case': ('Criminal Case',\n",
       "   'https://legalref.judiciary.hk/lrs/common/ju/judgment.jsp?L1=HC&L2=CC&AR=15#A15'),\n",
       "  'Estate Duty Appeal': ('Estate Duty Appeal',\n",
       "   'https://legalref.judiciary.hk/lrs/common/ju/judgment.jsp?L1=HC&L2=ED&AR=16#A16'),\n",
       "  'Ex-parte Application': ('Ex-parte Application',\n",
       "   'https://legalref.judiciary.hk/lrs/common/ju/judgment.jsp?L1=HC&L2=EA&AR=17#A17'),\n",
       "  'High Court Bankruptcy Interim Order': ('High Court Bankruptcy Interim Order',\n",
       "   'https://legalref.judiciary.hk/lrs/common/ju/judgment.jsp?L1=HC&L2=BI&AR=18#A18'),\n",
       "  'Inland Revenue Appeal': ('Inland Revenue Appeal',\n",
       "   'https://legalref.judiciary.hk/lrs/common/ju/judgment.jsp?L1=HC&L2=IA&AR=19#A19'),\n",
       "  'Intended Action': ('Intended Action',\n",
       "   'https://legalref.judiciary.hk/lrs/common/ju/judgment.jsp?L1=HC&L2=ZZ&AR=20#A20'),\n",
       "  'Labour Tribunal Appeal': ('Labour Tribunal Appeal',\n",
       "   'https://legalref.judiciary.hk/lrs/common/ju/judgment.jsp?L1=HC&L2=LA&AR=21#A21'),\n",
       "  'Legal Aid Appeal': ('Legal Aid Appeal',\n",
       "   'https://legalref.judiciary.hk/lrs/common/ju/judgment.jsp?L1=HC&L2=AA&AR=22#A22'),\n",
       "  'Magistracy Appeal': ('Magistracy Appeal',\n",
       "   'https://legalref.judiciary.hk/lrs/common/ju/judgment.jsp?L1=HC&L2=MA&AR=23#A23'),\n",
       "  'Matrimonial Causes': ('Matrimonial Cause',\n",
       "   'https://legalref.judiciary.hk/lrs/common/ju/judgment.jsp?L1=HC&L2=MC&AR=24#A24'),\n",
       "  'Minor Employment Claims Appeal': ('Minor Employment Claim Appeal',\n",
       "   'https://legalref.judiciary.hk/lrs/common/ju/judgment.jsp?L1=HC&L2=ME&AR=25#A25'),\n",
       "  'Miscellaneous Proceedings': ('Miscellaneou Proceeding',\n",
       "   'https://legalref.judiciary.hk/lrs/common/ju/judgment.jsp?L1=HC&L2=MP&AR=26#A26'),\n",
       "  'Miscellaneous Proceedings (Criminal)': ('Miscellaneou Proceeding (Criminal)',\n",
       "   'https://legalref.judiciary.hk/lrs/common/ju/judgment.jsp?L1=HC&L2=CP&AR=27#A27'),\n",
       "  'Obscene Articles Tribunal Appeal': ('Obscene Article Tribunal Appeal',\n",
       "   'https://legalref.judiciary.hk/lrs/common/ju/judgment.jsp?L1=HC&L2=OA&AR=28#A28'),\n",
       "  'Personal Injuries Action': ('Personal Injurie Action',\n",
       "   'https://legalref.judiciary.hk/lrs/common/ju/judgment.jsp?L1=HC&L2=PI&AR=29#A29'),\n",
       "  'Probate Action': ('Probate Action',\n",
       "   'https://legalref.judiciary.hk/lrs/common/ju/judgment.jsp?L1=HC&L2=AP&AR=30#A30'),\n",
       "  'Small Claims Tribunal Appeal': ('Small Claim Tribunal Appeal',\n",
       "   'https://legalref.judiciary.hk/lrs/common/ju/judgment.jsp?L1=HC&L2=SA&AR=31#A31')},\n",
       " 'Competition Tribunal': {'Competition Tribunal Action': ('Competition Tribunal Action',\n",
       "   'https://legalref.judiciary.hk/lrs/common/ju/judgment.jsp?L1=CT&L2=A&AR=1#A1'),\n",
       "  'Competition Tribunal Enforcement Action': ('Competition Tribunal Enforcement Action',\n",
       "   'https://legalref.judiciary.hk/lrs/common/ju/judgment.jsp?L1=CT&L2=EA&AR=2#A2')},\n",
       " 'District Court': {'Civil Action': ('Civil Action',\n",
       "   'https://legalref.judiciary.hk/lrs/common/ju/judgment.jsp?L1=DC&L2=CJ&AR=1#A1'),\n",
       "  'Criminal Case': ('Criminal Case',\n",
       "   'https://legalref.judiciary.hk/lrs/common/ju/judgment.jsp?L1=DC&L2=CC&AR=2#A2'),\n",
       "  'Distraint Case': ('Distraint Case',\n",
       "   'https://legalref.judiciary.hk/lrs/common/ju/judgment.jsp?L1=DC&L2=DT&AR=3#A3'),\n",
       "  'District Court Tax Claim': ('District Court Tax Claim',\n",
       "   'https://legalref.judiciary.hk/lrs/common/ju/judgment.jsp?L1=DC&L2=TC&AR=4#A4'),\n",
       "  \"Employee\\\\'s Compensation Case\": ('Employee Compensation Case',\n",
       "   'https://legalref.judiciary.hk/lrs/common/ju/judgment.jsp?L1=DC&L2=EC&AR=5#A5'),\n",
       "  'Equal Opportunities Action': ('Equal Opportunitie Action',\n",
       "   'https://legalref.judiciary.hk/lrs/common/ju/judgment.jsp?L1=DC&L2=EO&AR=6#A6'),\n",
       "  'Intended Action': ('Intended Action',\n",
       "   'https://legalref.judiciary.hk/lrs/common/ju/judgment.jsp?L1=DC&L2=ZZ&AR=7#A7'),\n",
       "  'Miscellaneous Proceedings': ('Miscellaneou Proceeding',\n",
       "   'https://legalref.judiciary.hk/lrs/common/ju/judgment.jsp?L1=DC&L2=MP&AR=8#A8'),\n",
       "  'Occupational Deafness (Compensation) Appeal': ('Occupational Deafne (Compensation) Appeal',\n",
       "   'https://legalref.judiciary.hk/lrs/common/ju/judgment.jsp?L1=DC&L2=OA&AR=9#A9'),\n",
       "  'Personal Injuries Action': ('Personal Injurie Action',\n",
       "   'https://legalref.judiciary.hk/lrs/common/ju/judgment.jsp?L1=DC&L2=PI&AR=10#A10'),\n",
       "  'Stamp Duty Appeal': ('Stamp Duty Appeal',\n",
       "   'https://legalref.judiciary.hk/lrs/common/ju/judgment.jsp?L1=DC&L2=SA&AR=11#A11')},\n",
       " 'Family Court': {'Joint application': ('Joint application',\n",
       "   'https://legalref.judiciary.hk/lrs/common/ju/judgment.jsp?L1=FC&L2=JA&AR=1#A1'),\n",
       "  'Matrimonial Causes': ('Matrimonial Cause',\n",
       "   'https://legalref.judiciary.hk/lrs/common/ju/judgment.jsp?L1=FC&L2=MC&AR=2#A2'),\n",
       "  'Miscellaneous Proceedings': ('Miscellaneou Proceeding',\n",
       "   'https://legalref.judiciary.hk/lrs/common/ju/judgment.jsp?L1=FC&L2=MP&AR=3#A3')},\n",
       " 'Lands Tribunal': {'Building Management Application': ('Building Management Application',\n",
       "   'https://legalref.judiciary.hk/lrs/common/ju/judgment.jsp?L1=LD&L2=BM&AR=1#A1'),\n",
       "  'Buildings Ordinance Application': ('Building Ordinance Application',\n",
       "   'https://legalref.judiciary.hk/lrs/common/ju/judgment.jsp?L1=LD&L2=BG&AR=2#A2'),\n",
       "  'Demolished Buildings Appeal': ('Demolished Building Appeal',\n",
       "   'https://legalref.judiciary.hk/lrs/common/ju/judgment.jsp?L1=LD&L2=DA&AR=3#A3'),\n",
       "  'Demolished Buildings Application': ('Demolished Building Application',\n",
       "   'https://legalref.judiciary.hk/lrs/common/ju/judgment.jsp?L1=LD&L2=DB&AR=4#A4'),\n",
       "  'Government Rent Appeal': ('Government Rent Appeal',\n",
       "   'https://legalref.judiciary.hk/lrs/common/ju/judgment.jsp?L1=LD&L2=GA&AR=5#A5'),\n",
       "  'Housing Ordinance Appeal': ('Housing Ordinance Appeal',\n",
       "   'https://legalref.judiciary.hk/lrs/common/ju/judgment.jsp?L1=LD&L2=HA&AR=6#A6'),\n",
       "  'Land Compulsory Sale Application': ('Land Compulsory Sale Application',\n",
       "   'https://legalref.judiciary.hk/lrs/common/ju/judgment.jsp?L1=LD&L2=CS&AR=7#A7'),\n",
       "  'Land Resumption Application': ('Land Resumption Application',\n",
       "   'https://legalref.judiciary.hk/lrs/common/ju/judgment.jsp?L1=LD&L2=LR&AR=8#A8'),\n",
       "  'Landlord  Appeal': ('Landlord  Appeal',\n",
       "   'https://legalref.judiciary.hk/lrs/common/ju/judgment.jsp?L1=LD&L2=LA&AR=9#A9'),\n",
       "  'MTR Ordinance Application': ('MTR Ordinance Application',\n",
       "   'https://legalref.judiciary.hk/lrs/common/ju/judgment.jsp?L1=LD&L2=MT&AR=10#A10'),\n",
       "  'Miscellaneous Proceedings Application': ('Miscellaneou Proceeding Application',\n",
       "   'https://legalref.judiciary.hk/lrs/common/ju/judgment.jsp?L1=LD&L2=MP&AR=11#A11'),\n",
       "  'Miscellaneous References Application': ('Miscellaneou Reference Application',\n",
       "   'https://legalref.judiciary.hk/lrs/common/ju/judgment.jsp?L1=LD&L2=MR&AR=12#A12'),\n",
       "  'New Tenancy Application': ('New Tenancy Application',\n",
       "   'https://legalref.judiciary.hk/lrs/common/ju/judgment.jsp?L1=LD&L2=NT&AR=13#A13'),\n",
       "  'Part I Possession Application': ('Part I Possession Application',\n",
       "   'https://legalref.judiciary.hk/lrs/common/ju/judgment.jsp?L1=LD&L2=PA&AR=14#A14'),\n",
       "  'Part II Possession Application': ('Part II Possession Application',\n",
       "   'https://legalref.judiciary.hk/lrs/common/ju/judgment.jsp?L1=LD&L2=PB&AR=15#A15'),\n",
       "  'Part IV Possession Application': ('Part IV Possession Application',\n",
       "   'https://legalref.judiciary.hk/lrs/common/ju/judgment.jsp?L1=LD&L2=PD&AR=16#A16'),\n",
       "  'Part V Possession Application': ('Part V Possession Application',\n",
       "   'https://legalref.judiciary.hk/lrs/common/ju/judgment.jsp?L1=LD&L2=PE&AR=17#A17'),\n",
       "  'Railways Ordinance Application': ('Railway Ordinance Application',\n",
       "   'https://legalref.judiciary.hk/lrs/common/ju/judgment.jsp?L1=LD&L2=RW&AR=18#A18'),\n",
       "  'Rating Appeal': ('Rating Appeal',\n",
       "   'https://legalref.judiciary.hk/lrs/common/ju/judgment.jsp?L1=LD&L2=RA&AR=19#A19')},\n",
       " 'Miscellaneous': {\"Coroner\\\\'s Court Death Inquest\": ('Coroner Court Death Inquest',\n",
       "   'https://legalref.judiciary.hk/lrs/common/ju/judgment.jsp?L1=CC&L2=DI&AR=1#A1'),\n",
       "  \"Eastern Magistrates\\\\' Court Charge Case\": ('Eastern Magistrate Court Charge Case',\n",
       "   'https://legalref.judiciary.hk/lrs/common/ju/judgment.jsp?L1=ES&L2=CC&AR=2#A2'),\n",
       "  \"Eastern Magistrates\\\\' Court Summons Case\": ('Eastern Magistrate Court Summon Case',\n",
       "   'https://legalref.judiciary.hk/lrs/common/ju/judgment.jsp?L1=ES&L2=S&AR=3#A3'),\n",
       "  \"Kowloon City Magistrates\\\\' Court Charge Case\": ('Kowloon City Magistrate Court Charge Case',\n",
       "   'https://legalref.judiciary.hk/lrs/common/ju/judgment.jsp?L1=KC&L2=CC&AR=4#A4'),\n",
       "  'Kowloon City Magistrates’ Court Summons Case': ('Kowloon City Magistrates’ Court Summon Case',\n",
       "   'https://legalref.judiciary.hk/lrs/common/ju/judgment.jsp?L1=KC&L2=S&AR=5#A5'),\n",
       "  'Labour Tribunal Claim': ('Labour Tribunal Claim',\n",
       "   'https://legalref.judiciary.hk/lrs/common/ju/judgment.jsp?L1=LB&L2=TC&AR=6#A6'),\n",
       "  'Obscene Articles Tribunal Case': ('Obscene Article Tribunal Case',\n",
       "   'https://legalref.judiciary.hk/lrs/common/ju/judgment.jsp?L1=OA&L2=TD&AR=7#A7'),\n",
       "  \"Shatin Magistrates\\\\' Court Charge Case\": ('Shatin Magistrate Court Charge Case',\n",
       "   'https://legalref.judiciary.hk/lrs/common/ju/judgment.jsp?L1=ST&L2=CC&AR=8#A8'),\n",
       "  'Small Claims Tribunal Claim': ('Small Claim Tribunal Claim',\n",
       "   'https://legalref.judiciary.hk/lrs/common/ju/judgment.jsp?L1=SC&L2=TC&AR=9#A9'),\n",
       "  \"Tuen Mun Magistrates\\\\' Court Charge Case\": ('Tuen Mun Magistrate Court Charge Case',\n",
       "   'https://legalref.judiciary.hk/lrs/common/ju/judgment.jsp?L1=TM&L2=CC&AR=10#A10'),\n",
       "  \"West Kowloon Magistrates\\\\' Court Charge Case\": ('West Kowloon Magistrate Court Charge Case',\n",
       "   'https://legalref.judiciary.hk/lrs/common/ju/judgment.jsp?L1=WK&L2=CC&AR=11#A11')}}"
      ]
     },
     "execution_count": 8,
     "metadata": {},
     "output_type": "execute_result"
    }
   ],
   "source": [
    "def parse_sub_courts(courts, parent_courts_set):\n",
    "    \"\"\"Parse sub-courts information.\n",
    "    Args:\n",
    "        courts (dict) : parent_courts -> url\n",
    "    Return:\n",
    "        sub_dict (dict) : parent_courts -> dictionary(sub_courts -> url) \n",
    "    \n",
    "    \"\"\"\n",
    "    sub_dict = {} # initialize\n",
    "\n",
    "    for c, url in courts.items():\n",
    "        time.sleep(1) # request web slowly for benevolence\n",
    "        root = url_to_root(url)\n",
    "        \n",
    "        # get sub courts names\n",
    "        # get raw infomation\n",
    "        info_list = root.find('script', string=re.compile(\"var myMenu\")).text.split(\",\")\n",
    "        # create bs4 object list for strings has tag \"a\" and attr name\n",
    "        now = set([BeautifulSoup(i.strip(\"' \")).text.strip(\" \") for i in info_list if len(re.findall('<a name=', i))!=0])\n",
    "        sub_courts = sorted(list(now - parent_courts_set)) # notice order in alphbets\n",
    "        sub_courts_cleared = [clear_name(s) for s in sub_courts] # clear names\n",
    "        print('subcourts:',len(sub_courts))\n",
    "        \n",
    "        # get sub courts urls\n",
    "        # re-get raw infomation\n",
    "        info_list = root.find('script', string=re.compile(\"var myMenu\")).text.split(\"'\") # notice split by up-comma\n",
    "        # observe sub-courts' urls are longer than parents', so find sub-courts' urls' length\n",
    "        http_min_len = min(set([len(i) for i in info_list if i[:5]=='https']))\n",
    "        # get sub-courts' urls\n",
    "        sub_courts_urls = [i for i in info_list if i[:5]=='https' if len(i)>http_min_len]\n",
    "        print('urls:', len(sub_courts_urls))\n",
    "        # store in dict\n",
    "        subs = {sc.strip(\" \"):(sc_, url) for sc, sc_, url in zip(sub_courts, sub_courts_cleared, sub_courts_urls)}\n",
    "        # assign to parent courts\n",
    "        print('dict length: ',len(subs))\n",
    "        sub_dict[c] = subs\n",
    "    return sub_dict\n",
    "\n",
    "parent_courts_set = set(df_courts['parent_court'])\n",
    "sub_dict = parse_sub_courts(courts, parent_courts_set)\n",
    "sub_dict"
   ]
  },
  {
   "cell_type": "code",
   "execution_count": 9,
   "metadata": {},
   "outputs": [
    {
     "data": {
      "text/html": [
       "<div>\n",
       "<style scoped>\n",
       "    .dataframe tbody tr th:only-of-type {\n",
       "        vertical-align: middle;\n",
       "    }\n",
       "\n",
       "    .dataframe tbody tr th {\n",
       "        vertical-align: top;\n",
       "    }\n",
       "\n",
       "    .dataframe thead th {\n",
       "        text-align: right;\n",
       "    }\n",
       "</style>\n",
       "<table border=\"1\" class=\"dataframe\">\n",
       "  <thead>\n",
       "    <tr style=\"text-align: right;\">\n",
       "      <th></th>\n",
       "      <th>sub_court</th>\n",
       "      <th>sub_court_cleared</th>\n",
       "      <th>sub_court_url</th>\n",
       "      <th>parent_court</th>\n",
       "      <th>parent_court_url</th>\n",
       "    </tr>\n",
       "  </thead>\n",
       "  <tbody>\n",
       "    <tr>\n",
       "      <th>0</th>\n",
       "      <td>Final Appeal (Civil)</td>\n",
       "      <td>Final Appeal (Civil)</td>\n",
       "      <td>https://legalref.judiciary.hk/lrs/common/ju/ju...</td>\n",
       "      <td>Court of Final Appeal</td>\n",
       "      <td>https://legalref.judiciary.hk/lrs/common/ju/ju...</td>\n",
       "    </tr>\n",
       "    <tr>\n",
       "      <th>1</th>\n",
       "      <td>Final Appeal (Criminal)</td>\n",
       "      <td>Final Appeal (Criminal)</td>\n",
       "      <td>https://legalref.judiciary.hk/lrs/common/ju/ju...</td>\n",
       "      <td>Court of Final Appeal</td>\n",
       "      <td>https://legalref.judiciary.hk/lrs/common/ju/ju...</td>\n",
       "    </tr>\n",
       "    <tr>\n",
       "      <th>2</th>\n",
       "      <td>Miscellaneous Proceedings</td>\n",
       "      <td>Miscellaneou Proceeding</td>\n",
       "      <td>https://legalref.judiciary.hk/lrs/common/ju/ju...</td>\n",
       "      <td>Court of Final Appeal</td>\n",
       "      <td>https://legalref.judiciary.hk/lrs/common/ju/ju...</td>\n",
       "    </tr>\n",
       "    <tr>\n",
       "      <th>3</th>\n",
       "      <td>Miscellaneous Proceedings (Civil)</td>\n",
       "      <td>Miscellaneou Proceeding (Civil)</td>\n",
       "      <td>https://legalref.judiciary.hk/lrs/common/ju/ju...</td>\n",
       "      <td>Court of Final Appeal</td>\n",
       "      <td>https://legalref.judiciary.hk/lrs/common/ju/ju...</td>\n",
       "    </tr>\n",
       "    <tr>\n",
       "      <th>4</th>\n",
       "      <td>Miscellaneous Proceedings (Criminal)</td>\n",
       "      <td>Miscellaneou Proceeding (Criminal)</td>\n",
       "      <td>https://legalref.judiciary.hk/lrs/common/ju/ju...</td>\n",
       "      <td>Court of Final Appeal</td>\n",
       "      <td>https://legalref.judiciary.hk/lrs/common/ju/ju...</td>\n",
       "    </tr>\n",
       "  </tbody>\n",
       "</table>\n",
       "</div>"
      ],
      "text/plain": [
       "                              sub_court                   sub_court_cleared  \\\n",
       "0                  Final Appeal (Civil)                Final Appeal (Civil)   \n",
       "1               Final Appeal (Criminal)             Final Appeal (Criminal)   \n",
       "2             Miscellaneous Proceedings             Miscellaneou Proceeding   \n",
       "3     Miscellaneous Proceedings (Civil)     Miscellaneou Proceeding (Civil)   \n",
       "4  Miscellaneous Proceedings (Criminal)  Miscellaneou Proceeding (Criminal)   \n",
       "\n",
       "                                       sub_court_url           parent_court  \\\n",
       "0  https://legalref.judiciary.hk/lrs/common/ju/ju...  Court of Final Appeal   \n",
       "1  https://legalref.judiciary.hk/lrs/common/ju/ju...  Court of Final Appeal   \n",
       "2  https://legalref.judiciary.hk/lrs/common/ju/ju...  Court of Final Appeal   \n",
       "3  https://legalref.judiciary.hk/lrs/common/ju/ju...  Court of Final Appeal   \n",
       "4  https://legalref.judiciary.hk/lrs/common/ju/ju...  Court of Final Appeal   \n",
       "\n",
       "                                    parent_court_url  \n",
       "0  https://legalref.judiciary.hk/lrs/common/ju/ju...  \n",
       "1  https://legalref.judiciary.hk/lrs/common/ju/ju...  \n",
       "2  https://legalref.judiciary.hk/lrs/common/ju/ju...  \n",
       "3  https://legalref.judiciary.hk/lrs/common/ju/ju...  \n",
       "4  https://legalref.judiciary.hk/lrs/common/ju/ju...  "
      ]
     },
     "execution_count": 9,
     "metadata": {},
     "output_type": "execute_result"
    }
   ],
   "source": [
    "def df_for_sub(sub_dict):\n",
    "    return pd.DataFrame([(k,v[0],v[1]) for k,v in sub_dict.items()], columns=['sub_court', 'sub_court_cleared', 'sub_court_url'])\n",
    "\n",
    "dfs = []\n",
    "for p_court, s_dict in sub_dict.items():\n",
    "    sub_df = df_for_sub(s_dict)\n",
    "    sub_df['parent_court'] = p_court\n",
    "    dfs.append(sub_df)\n",
    "    \n",
    "df_all = pd.concat(dfs, axis=0)\n",
    "df_all.index = range(len(df_all))\n",
    "df_all = pd.merge(df_all, df_courts, how='left', on='parent_court')\n",
    "df_all.head()"
   ]
  },
  {
   "cell_type": "code",
   "execution_count": 10,
   "metadata": {},
   "outputs": [
    {
     "data": {
      "text/plain": [
       "0                                  Final Appeal (Civil)\n",
       "1                               Final Appeal (Criminal)\n",
       "2                               Miscellaneou Proceeding\n",
       "3                       Miscellaneou Proceeding (Civil)\n",
       "4                    Miscellaneou Proceeding (Criminal)\n",
       "5                                Application for Review\n",
       "6                            Attorney General Reference\n",
       "7                                          Civil Appeal\n",
       "8                                       Criminal Appeal\n",
       "9                               Miscellaneou Proceeding\n",
       "10                       Reservation of Question of Law\n",
       "11                                     Admiralty Action\n",
       "12                                 Adoption Application\n",
       "13                                Application for Grant\n",
       "14    Application to et aside a Statutory Demand (un...\n",
       "15        Application under the Mental Health Ordinance\n",
       "16                                Bankruptcy Proceeding\n",
       "17                                               Caveat\n",
       "18                                 Citation Application\n",
       "19                                         Civil Action\n",
       "20                                    Commercial Action\n",
       "21                       Companie Winding-up Proceeding\n",
       "22                 Confidential Miscellaneou Proceeding\n",
       "23     Constitutional and Administrative Law Proceeding\n",
       "24              Construction and Arbitration Proceeding\n",
       "25                                        Criminal Case\n",
       "26                                   Estate Duty Appeal\n",
       "27                                 Ex-parte Application\n",
       "28                  High Court Bankruptcy Interim Order\n",
       "29                                Inland Revenue Appeal\n",
       "                            ...                        \n",
       "58                      Building Management Application\n",
       "59                       Building Ordinance Application\n",
       "60                           Demolished Building Appeal\n",
       "61                      Demolished Building Application\n",
       "62                               Government Rent Appeal\n",
       "63                             Housing Ordinance Appeal\n",
       "64                     Land Compulsory Sale Application\n",
       "65                          Land Resumption Application\n",
       "66                                     Landlord  Appeal\n",
       "67                            MTR Ordinance Application\n",
       "68                  Miscellaneou Proceeding Application\n",
       "69                   Miscellaneou Reference Application\n",
       "70                              New Tenancy Application\n",
       "71                        Part I Possession Application\n",
       "72                       Part II Possession Application\n",
       "73                       Part IV Possession Application\n",
       "74                        Part V Possession Application\n",
       "75                        Railway Ordinance Application\n",
       "76                                        Rating Appeal\n",
       "77                          Coroner Court Death Inquest\n",
       "78                 Eastern Magistrate Court Charge Case\n",
       "79                 Eastern Magistrate Court Summon Case\n",
       "80            Kowloon City Magistrate Court Charge Case\n",
       "81          Kowloon City Magistrates’ Court Summon Case\n",
       "82                                Labour Tribunal Claim\n",
       "83                        Obscene Article Tribunal Case\n",
       "84                  Shatin Magistrate Court Charge Case\n",
       "85                           Small Claim Tribunal Claim\n",
       "86                Tuen Mun Magistrate Court Charge Case\n",
       "87            West Kowloon Magistrate Court Charge Case\n",
       "Name: sub_court_cleared, Length: 88, dtype: object"
      ]
     },
     "execution_count": 10,
     "metadata": {},
     "output_type": "execute_result"
    }
   ],
   "source": [
    "df_all.sub_court_cleared"
   ]
  },
  {
   "cell_type": "markdown",
   "metadata": {},
   "source": [
    "## Hiearchy 3: years"
   ]
  },
  {
   "cell_type": "code",
   "execution_count": 11,
   "metadata": {},
   "outputs": [],
   "source": [
    "sub_ = \"West Kowloon Magistrate Court Charge Case\""
   ]
  },
  {
   "cell_type": "code",
   "execution_count": 12,
   "metadata": {},
   "outputs": [
    {
     "data": {
      "text/plain": [
       "['https://legalref.judiciary.hk/lrs/common/ju/judgment.jsp?L1=WK&L2=CC&AR=11#A11']"
      ]
     },
     "execution_count": 12,
     "metadata": {},
     "output_type": "execute_result"
    }
   ],
   "source": [
    "list(df_all[df_all['sub_court_cleared']==sub_]['sub_court_url'])"
   ]
  },
  {
   "cell_type": "code",
   "execution_count": 13,
   "metadata": {},
   "outputs": [
    {
     "name": "stdout",
     "output_type": "stream",
     "text": [
      "200\n"
     ]
    },
    {
     "data": {
      "text/plain": [
       "['2017']"
      ]
     },
     "execution_count": 13,
     "metadata": {},
     "output_type": "execute_result"
    }
   ],
   "source": [
    "def subCourt_get_years(sc_cleared, df_all, all_courts):\n",
    "    url = list(df_all[df_all['sub_court_cleared']==sc_cleared]['sub_court_url'])[0]\n",
    "#     print(url)\n",
    "    time.sleep(1)\n",
    "    root = url_to_root(url)\n",
    "    info_list = root.find('script', string=re.compile(\"var myMenu\")).text.split(\",\")\n",
    "    \n",
    "    now_set = set([BeautifulSoup(i.strip(\"' \")).text.strip(\" \") for i in info_list if len(re.findall('<a name=', i))!=0])\n",
    "    years = now_set - all_courts\n",
    "    return list(years)\n",
    "\n",
    "courts_set = set(df_all['parent_court']) | set(df_all['sub_court'])\n",
    "years = subCourt_get_years(sub_, df_all, courts_set)\n",
    "years"
   ]
  },
  {
   "cell_type": "code",
   "execution_count": 14,
   "metadata": {},
   "outputs": [
    {
     "name": "stdout",
     "output_type": "stream",
     "text": [
      "200\n"
     ]
    },
    {
     "data": {
      "text/plain": [
       "['https://legalref.judiciary.hk/lrs/common/ju/judgment.jsp?EX=T&L1=WK&L2=CC&L3=2017&AR=11_1#A11_1']"
      ]
     },
     "execution_count": 14,
     "metadata": {},
     "output_type": "execute_result"
    }
   ],
   "source": [
    "def subCourt_get_urls(sub_court, df_all, urls_set):\n",
    "    url = list(df_all[df_all['sub_court_cleared']==sub_court]['sub_court_url'])[0]\n",
    "    time.sleep(1)\n",
    "    root = url_to_root(url)\n",
    "    info_list = root.find('script', string=re.compile(\"var myMenu\")).text.split(\",\")\n",
    "    \n",
    "    potential_urls = set([i.strip(\"' \") for i in info_list if i.strip(\"' \")[:5]=='https'])\n",
    "    urls = potential_urls - urls_set\n",
    "    return list(urls)\n",
    "\n",
    "urls_set = set(df_all['sub_court_url']) | set(df_all['parent_court_url'])\n",
    "urls = subCourt_get_urls(sub_, df_all, urls_set)  \n",
    "urls"
   ]
  },
  {
   "cell_type": "code",
   "execution_count": 15,
   "metadata": {},
   "outputs": [],
   "source": [
    "def match_nomals(years, urls, match_dict):\n",
    "    url_pairs = [(re.findall('L3=....', i)[0][-4:], i) for i in urls]\n",
    "    for y in years:\n",
    "        for y_url, url in url_pairs:\n",
    "            if y == y_url:\n",
    "                match_dict[y] = url\n",
    "    return match_dict\n"
   ]
  },
  {
   "cell_type": "code",
   "execution_count": 16,
   "metadata": {},
   "outputs": [
    {
     "data": {
      "text/plain": [
       "{'2017': 'https://legalref.judiciary.hk/lrs/common/ju/judgment.jsp?EX=T&L1=WK&L2=CC&L3=2017&AR=11_1#A11_1'}"
      ]
     },
     "execution_count": 16,
     "metadata": {},
     "output_type": "execute_result"
    }
   ],
   "source": [
    "def match_year_urls(years, urls):\n",
    "    match_dict = {} # initialize\n",
    "    # check if has special('Pre****')\n",
    "    special_ = [years[idx] for idx, y in enumerate(years) if len(re.findall('Pre', y))!=0]\n",
    "#     print(special_)\n",
    "    if len(special_) != 0:\n",
    "        has_special = True\n",
    "        # kick out special ones\n",
    "        special_year = special_[0]\n",
    "        normal_years = [y for y in years if len(re.findall('Pre', y))==0]\n",
    "        normal_urls = [u for idx, u in enumerate(urls) if len(re.findall('L3=....', u))!=0]\n",
    "        special_url = [u for idx, u in enumerate(urls) if len(re.findall('L3=....', u))==0][0]\n",
    "    # normal case\n",
    "    else: \n",
    "        has_special = False\n",
    "        normal_years = years\n",
    "        normal_urls = urls\n",
    "\n",
    "    # match normals\n",
    "    match_dict = match_nomals(normal_years, normal_urls, match_dict)\n",
    "    \n",
    "    # add special case\n",
    "    if has_special:\n",
    "        match_dict[special_year] = special_url\n",
    "    return match_dict     \n",
    "    \n",
    "match_year_urls(years, urls)"
   ]
  },
  {
   "cell_type": "code",
   "execution_count": 17,
   "metadata": {},
   "outputs": [],
   "source": [
    "pd.set_option('max_colwidth',1000)"
   ]
  },
  {
   "cell_type": "code",
   "execution_count": 18,
   "metadata": {},
   "outputs": [
    {
     "name": "stdout",
     "output_type": "stream",
     "text": [
      "200\n",
      "200\n"
     ]
    },
    {
     "data": {
      "text/html": [
       "<div>\n",
       "<style scoped>\n",
       "    .dataframe tbody tr th:only-of-type {\n",
       "        vertical-align: middle;\n",
       "    }\n",
       "\n",
       "    .dataframe tbody tr th {\n",
       "        vertical-align: top;\n",
       "    }\n",
       "\n",
       "    .dataframe thead th {\n",
       "        text-align: right;\n",
       "    }\n",
       "</style>\n",
       "<table border=\"1\" class=\"dataframe\">\n",
       "  <thead>\n",
       "    <tr style=\"text-align: right;\">\n",
       "      <th></th>\n",
       "      <th>year</th>\n",
       "      <th>year_url</th>\n",
       "      <th>sub_court_cleared</th>\n",
       "    </tr>\n",
       "  </thead>\n",
       "  <tbody>\n",
       "    <tr>\n",
       "      <th>0</th>\n",
       "      <td>2017</td>\n",
       "      <td>https://legalref.judiciary.hk/lrs/common/ju/judgment.jsp?EX=T&amp;L1=WK&amp;L2=CC&amp;L3=2017&amp;AR=11_1#A11_1</td>\n",
       "      <td>West Kowloon Magistrate Court Charge Case</td>\n",
       "    </tr>\n",
       "  </tbody>\n",
       "</table>\n",
       "</div>"
      ],
      "text/plain": [
       "   year  \\\n",
       "0  2017   \n",
       "\n",
       "                                                                                          year_url  \\\n",
       "0  https://legalref.judiciary.hk/lrs/common/ju/judgment.jsp?EX=T&L1=WK&L2=CC&L3=2017&AR=11_1#A11_1   \n",
       "\n",
       "                           sub_court_cleared  \n",
       "0  West Kowloon Magistrate Court Charge Case  "
      ]
     },
     "execution_count": 18,
     "metadata": {},
     "output_type": "execute_result"
    }
   ],
   "source": [
    "def get_year_urls(sub_court, df_all, courts_set, urls_set):\n",
    "    # get years\n",
    "    years = subCourt_get_years(sub_court, df_all, courts_set)\n",
    "    # get urls\n",
    "    urls = subCourt_get_urls(sub_court, df_all, urls_set)  \n",
    "    # match them\n",
    "    match_dict = match_year_urls(years, urls)\n",
    "    # convert to DataFrame\n",
    "    data = [(k,v) for k, v in match_dict.items()]\n",
    "    match = pd.DataFrame(data, columns=['year', 'year_url'])\n",
    "    match['sub_court_cleared'] = sub_court\n",
    "    return match\n",
    "\n",
    "courts_set = set(df_all['parent_court']) | set(df_all['sub_court'])\n",
    "urls_set = set(df_all['sub_court_url']) | set(df_all['parent_court_url'])\n",
    "df_test = get_year_urls(sub_, df_all, courts_set, urls_set)\n",
    "df_test"
   ]
  },
  {
   "cell_type": "code",
   "execution_count": 19,
   "metadata": {},
   "outputs": [],
   "source": [
    "from tqdm import tqdm"
   ]
  },
  {
   "cell_type": "code",
   "execution_count": 20,
   "metadata": {},
   "outputs": [
    {
     "name": "stderr",
     "output_type": "stream",
     "text": [
      "\r",
      "  0%|                                                   | 0/88 [00:00<?, ?it/s]"
     ]
    },
    {
     "name": "stdout",
     "output_type": "stream",
     "text": [
      "for sub_court:  Final Appeal (Civil)\n",
      "200\n",
      "200\n"
     ]
    },
    {
     "name": "stderr",
     "output_type": "stream",
     "text": [
      "\r",
      "  1%|▍                                          | 1/88 [00:03<04:48,  3.31s/it]"
     ]
    },
    {
     "name": "stdout",
     "output_type": "stream",
     "text": [
      "for sub_court:  Final Appeal (Criminal)\n",
      "200\n",
      "200\n"
     ]
    },
    {
     "name": "stderr",
     "output_type": "stream",
     "text": [
      "\r",
      "  2%|▉                                          | 2/88 [00:23<12:04,  8.43s/it]"
     ]
    },
    {
     "name": "stdout",
     "output_type": "stream",
     "text": [
      "for sub_court:  Miscellaneou Proceeding\n",
      "200\n",
      "200\n"
     ]
    },
    {
     "name": "stderr",
     "output_type": "stream",
     "text": [
      "\r",
      "  3%|█▍                                         | 3/88 [00:27<10:07,  7.15s/it]"
     ]
    },
    {
     "name": "stdout",
     "output_type": "stream",
     "text": [
      "for sub_court:  Miscellaneou Proceeding (Civil)\n",
      "200\n",
      "200\n"
     ]
    },
    {
     "name": "stderr",
     "output_type": "stream",
     "text": [
      "\r",
      "  5%|█▉                                         | 4/88 [00:37<11:06,  7.94s/it]"
     ]
    },
    {
     "name": "stdout",
     "output_type": "stream",
     "text": [
      "for sub_court:  Miscellaneou Proceeding (Criminal)\n",
      "200\n",
      "200\n"
     ]
    },
    {
     "name": "stderr",
     "output_type": "stream",
     "text": [
      "\r",
      "  6%|██▍                                        | 5/88 [00:52<13:58, 10.10s/it]"
     ]
    },
    {
     "name": "stdout",
     "output_type": "stream",
     "text": [
      "for sub_court:  Application for Review\n",
      "200\n",
      "200\n"
     ]
    },
    {
     "name": "stderr",
     "output_type": "stream",
     "text": [
      "\r",
      "  7%|██▉                                        | 6/88 [00:56<11:16,  8.26s/it]"
     ]
    },
    {
     "name": "stdout",
     "output_type": "stream",
     "text": [
      "for sub_court:  Attorney General Reference\n",
      "200\n",
      "200\n"
     ]
    },
    {
     "name": "stderr",
     "output_type": "stream",
     "text": [
      "\r",
      "  8%|███▍                                       | 7/88 [01:05<11:25,  8.46s/it]"
     ]
    },
    {
     "name": "stdout",
     "output_type": "stream",
     "text": [
      "for sub_court:  Civil Appeal\n",
      "200\n",
      "200\n"
     ]
    },
    {
     "name": "stderr",
     "output_type": "stream",
     "text": [
      "\r",
      "  9%|███▉                                       | 8/88 [01:09<09:26,  7.08s/it]"
     ]
    },
    {
     "name": "stdout",
     "output_type": "stream",
     "text": [
      "for sub_court:  Criminal Appeal\n",
      "200\n",
      "200\n"
     ]
    },
    {
     "name": "stderr",
     "output_type": "stream",
     "text": [
      "\r",
      " 10%|████▍                                      | 9/88 [01:15<08:58,  6.81s/it]"
     ]
    },
    {
     "name": "stdout",
     "output_type": "stream",
     "text": [
      "for sub_court:  Miscellaneou Proceeding\n",
      "200\n",
      "200\n"
     ]
    },
    {
     "name": "stderr",
     "output_type": "stream",
     "text": [
      "\r",
      " 11%|████▊                                     | 10/88 [01:28<11:20,  8.73s/it]"
     ]
    },
    {
     "name": "stdout",
     "output_type": "stream",
     "text": [
      "for sub_court:  Reservation of Question of Law\n",
      "200\n",
      "200\n"
     ]
    },
    {
     "name": "stderr",
     "output_type": "stream",
     "text": [
      "\r",
      " 12%|█████▎                                    | 11/88 [01:38<11:29,  8.96s/it]"
     ]
    },
    {
     "name": "stdout",
     "output_type": "stream",
     "text": [
      "for sub_court:  Admiralty Action\n",
      "200\n",
      "200\n"
     ]
    },
    {
     "name": "stderr",
     "output_type": "stream",
     "text": [
      "\r",
      " 14%|█████▋                                    | 12/88 [01:47<11:21,  8.96s/it]"
     ]
    },
    {
     "name": "stdout",
     "output_type": "stream",
     "text": [
      "for sub_court:  Adoption Application\n",
      "200\n",
      "200\n"
     ]
    },
    {
     "name": "stderr",
     "output_type": "stream",
     "text": [
      "\r",
      " 15%|██████▏                                   | 13/88 [01:51<09:25,  7.54s/it]"
     ]
    },
    {
     "name": "stdout",
     "output_type": "stream",
     "text": [
      "for sub_court:  Application for Grant\n",
      "200\n",
      "200\n"
     ]
    },
    {
     "name": "stderr",
     "output_type": "stream",
     "text": [
      "\r",
      " 16%|██████▋                                   | 14/88 [01:55<07:53,  6.40s/it]"
     ]
    },
    {
     "name": "stdout",
     "output_type": "stream",
     "text": [
      "for sub_court:  Application to et aside a Statutory Demand (under Bankruptcy Ordinance)\n",
      "200\n",
      "200\n"
     ]
    },
    {
     "name": "stderr",
     "output_type": "stream",
     "text": [
      "\r",
      " 17%|███████▏                                  | 15/88 [01:59<06:54,  5.68s/it]"
     ]
    },
    {
     "name": "stdout",
     "output_type": "stream",
     "text": [
      "for sub_court:  Application under the Mental Health Ordinance\n",
      "200\n",
      "200\n"
     ]
    },
    {
     "name": "stderr",
     "output_type": "stream",
     "text": [
      "\r",
      " 18%|███████▋                                  | 16/88 [02:10<08:48,  7.34s/it]"
     ]
    },
    {
     "name": "stdout",
     "output_type": "stream",
     "text": [
      "for sub_court:  Bankruptcy Proceeding\n",
      "200\n",
      "200\n"
     ]
    },
    {
     "name": "stderr",
     "output_type": "stream",
     "text": [
      "\r",
      " 19%|████████                                  | 17/88 [02:28<12:19, 10.41s/it]"
     ]
    },
    {
     "name": "stdout",
     "output_type": "stream",
     "text": [
      "for sub_court:  Caveat\n",
      "200\n",
      "200\n"
     ]
    },
    {
     "name": "stderr",
     "output_type": "stream",
     "text": [
      "\r",
      " 20%|████████▌                                 | 18/88 [02:31<09:47,  8.40s/it]"
     ]
    },
    {
     "name": "stdout",
     "output_type": "stream",
     "text": [
      "for sub_court:  Citation Application\n",
      "200\n",
      "200\n"
     ]
    },
    {
     "name": "stderr",
     "output_type": "stream",
     "text": [
      "\r",
      " 22%|█████████                                 | 19/88 [02:53<14:21, 12.48s/it]"
     ]
    },
    {
     "name": "stdout",
     "output_type": "stream",
     "text": [
      "for sub_court:  Civil Action\n",
      "200\n",
      "200\n"
     ]
    },
    {
     "name": "stderr",
     "output_type": "stream",
     "text": [
      "\r",
      " 23%|█████████▌                                | 20/88 [02:57<11:14,  9.92s/it]"
     ]
    },
    {
     "name": "stdout",
     "output_type": "stream",
     "text": [
      "for sub_court:  Commercial Action\n",
      "200\n",
      "200\n"
     ]
    },
    {
     "name": "stderr",
     "output_type": "stream",
     "text": [
      "\r",
      " 24%|██████████                                | 21/88 [03:01<09:08,  8.18s/it]"
     ]
    },
    {
     "name": "stdout",
     "output_type": "stream",
     "text": [
      "for sub_court:  Companie Winding-up Proceeding\n",
      "200\n",
      "200\n"
     ]
    },
    {
     "name": "stderr",
     "output_type": "stream",
     "text": [
      "\r",
      " 25%|██████████▌                               | 22/88 [03:05<07:31,  6.85s/it]"
     ]
    },
    {
     "name": "stdout",
     "output_type": "stream",
     "text": [
      "for sub_court:  Confidential Miscellaneou Proceeding\n",
      "200\n",
      "200\n"
     ]
    },
    {
     "name": "stderr",
     "output_type": "stream",
     "text": [
      "\r",
      " 26%|██████████▉                               | 23/88 [03:09<06:28,  5.97s/it]"
     ]
    },
    {
     "name": "stdout",
     "output_type": "stream",
     "text": [
      "for sub_court:  Constitutional and Administrative Law Proceeding\n",
      "200\n",
      "200\n"
     ]
    },
    {
     "name": "stderr",
     "output_type": "stream",
     "text": [
      "\r",
      " 27%|███████████▍                              | 24/88 [03:15<06:22,  5.97s/it]"
     ]
    },
    {
     "name": "stdout",
     "output_type": "stream",
     "text": [
      "for sub_court:  Construction and Arbitration Proceeding\n",
      "200\n",
      "200\n"
     ]
    },
    {
     "name": "stderr",
     "output_type": "stream",
     "text": [
      "\r",
      " 28%|███████████▉                              | 25/88 [03:19<05:30,  5.25s/it]"
     ]
    },
    {
     "name": "stdout",
     "output_type": "stream",
     "text": [
      "for sub_court:  Criminal Case\n",
      "200\n",
      "200\n"
     ]
    },
    {
     "name": "stderr",
     "output_type": "stream",
     "text": [
      "\r",
      " 30%|████████████▍                             | 26/88 [03:22<04:53,  4.74s/it]"
     ]
    },
    {
     "name": "stdout",
     "output_type": "stream",
     "text": [
      "for sub_court:  Estate Duty Appeal\n",
      "200\n",
      "200\n"
     ]
    },
    {
     "name": "stderr",
     "output_type": "stream",
     "text": [
      "\r",
      " 31%|████████████▉                             | 27/88 [03:26<04:29,  4.42s/it]"
     ]
    },
    {
     "name": "stdout",
     "output_type": "stream",
     "text": [
      "for sub_court:  Ex-parte Application\n",
      "200\n",
      "200\n"
     ]
    },
    {
     "name": "stderr",
     "output_type": "stream",
     "text": [
      "\r",
      " 32%|█████████████▎                            | 28/88 [03:43<08:12,  8.20s/it]"
     ]
    },
    {
     "name": "stdout",
     "output_type": "stream",
     "text": [
      "for sub_court:  High Court Bankruptcy Interim Order\n",
      "200\n",
      "200\n"
     ]
    },
    {
     "name": "stderr",
     "output_type": "stream",
     "text": [
      "\r",
      " 33%|█████████████▊                            | 29/88 [03:47<06:47,  6.90s/it]"
     ]
    },
    {
     "name": "stdout",
     "output_type": "stream",
     "text": [
      "for sub_court:  Inland Revenue Appeal\n",
      "200\n",
      "200\n"
     ]
    },
    {
     "name": "stderr",
     "output_type": "stream",
     "text": [
      "\r",
      " 34%|██████████████▎                           | 30/88 [03:51<05:56,  6.14s/it]"
     ]
    },
    {
     "name": "stdout",
     "output_type": "stream",
     "text": [
      "for sub_court:  Intended Action\n",
      "200\n",
      "200\n"
     ]
    },
    {
     "name": "stderr",
     "output_type": "stream",
     "text": [
      "\r",
      " 35%|██████████████▊                           | 31/88 [03:55<05:08,  5.42s/it]"
     ]
    },
    {
     "name": "stdout",
     "output_type": "stream",
     "text": [
      "for sub_court:  Labour Tribunal Appeal\n",
      "200\n",
      "200\n"
     ]
    },
    {
     "name": "stderr",
     "output_type": "stream",
     "text": [
      "\r",
      " 36%|███████████████▎                          | 32/88 [03:58<04:30,  4.83s/it]"
     ]
    },
    {
     "name": "stdout",
     "output_type": "stream",
     "text": [
      "for sub_court:  Legal Aid Appeal\n",
      "200\n",
      "200\n"
     ]
    },
    {
     "name": "stderr",
     "output_type": "stream",
     "text": [
      "\r",
      " 38%|███████████████▊                          | 33/88 [04:02<04:07,  4.50s/it]"
     ]
    },
    {
     "name": "stdout",
     "output_type": "stream",
     "text": [
      "for sub_court:  Magistracy Appeal\n",
      "200\n",
      "200\n"
     ]
    },
    {
     "name": "stderr",
     "output_type": "stream",
     "text": [
      "\r",
      " 39%|████████████████▏                         | 34/88 [04:25<08:57,  9.95s/it]"
     ]
    },
    {
     "name": "stdout",
     "output_type": "stream",
     "text": [
      "for sub_court:  Matrimonial Cause\n",
      "200\n",
      "200\n"
     ]
    },
    {
     "name": "stderr",
     "output_type": "stream",
     "text": [
      "\r",
      " 40%|████████████████▋                         | 35/88 [04:29<07:10,  8.12s/it]"
     ]
    },
    {
     "name": "stdout",
     "output_type": "stream",
     "text": [
      "for sub_court:  Minor Employment Claim Appeal\n",
      "200\n",
      "200\n"
     ]
    },
    {
     "name": "stderr",
     "output_type": "stream",
     "text": [
      "\r",
      " 41%|█████████████████▏                        | 36/88 [04:33<05:57,  6.88s/it]"
     ]
    },
    {
     "name": "stdout",
     "output_type": "stream",
     "text": [
      "for sub_court:  Miscellaneou Proceeding\n",
      "200\n",
      "200\n"
     ]
    },
    {
     "name": "stderr",
     "output_type": "stream",
     "text": [
      "\r",
      " 42%|█████████████████▋                        | 37/88 [04:36<05:04,  5.97s/it]"
     ]
    },
    {
     "name": "stdout",
     "output_type": "stream",
     "text": [
      "for sub_court:  Miscellaneou Proceeding (Criminal)\n",
      "200\n",
      "200\n"
     ]
    },
    {
     "name": "stderr",
     "output_type": "stream",
     "text": [
      "\r",
      " 43%|██████████████████▏                       | 38/88 [04:40<04:22,  5.24s/it]"
     ]
    },
    {
     "name": "stdout",
     "output_type": "stream",
     "text": [
      "for sub_court:  Obscene Article Tribunal Appeal\n",
      "200\n",
      "200\n"
     ]
    },
    {
     "name": "stderr",
     "output_type": "stream",
     "text": [
      "\r",
      " 44%|██████████████████▌                       | 39/88 [04:44<03:54,  4.79s/it]"
     ]
    },
    {
     "name": "stdout",
     "output_type": "stream",
     "text": [
      "for sub_court:  Personal Injurie Action\n",
      "200\n",
      "200\n"
     ]
    },
    {
     "name": "stderr",
     "output_type": "stream",
     "text": [
      "\r",
      " 45%|███████████████████                       | 40/88 [04:52<04:43,  5.91s/it]"
     ]
    },
    {
     "name": "stdout",
     "output_type": "stream",
     "text": [
      "for sub_court:  Probate Action\n",
      "200\n",
      "200\n"
     ]
    },
    {
     "name": "stderr",
     "output_type": "stream",
     "text": [
      "\r",
      " 47%|███████████████████▌                      | 41/88 [04:56<04:08,  5.28s/it]"
     ]
    },
    {
     "name": "stdout",
     "output_type": "stream",
     "text": [
      "for sub_court:  Small Claim Tribunal Appeal\n",
      "200\n",
      "200\n"
     ]
    },
    {
     "name": "stderr",
     "output_type": "stream",
     "text": [
      "\r",
      " 48%|████████████████████                      | 42/88 [05:09<05:50,  7.62s/it]"
     ]
    },
    {
     "name": "stdout",
     "output_type": "stream",
     "text": [
      "for sub_court:  Competition Tribunal Action\n",
      "200\n",
      "200\n"
     ]
    },
    {
     "name": "stderr",
     "output_type": "stream",
     "text": [
      "\r",
      " 49%|████████████████████▌                     | 43/88 [05:13<04:47,  6.39s/it]"
     ]
    },
    {
     "name": "stdout",
     "output_type": "stream",
     "text": [
      "for sub_court:  Competition Tribunal Enforcement Action\n",
      "200\n",
      "200\n"
     ]
    },
    {
     "name": "stderr",
     "output_type": "stream",
     "text": [
      "\r",
      " 50%|█████████████████████                     | 44/88 [05:16<04:06,  5.60s/it]"
     ]
    },
    {
     "name": "stdout",
     "output_type": "stream",
     "text": [
      "for sub_court:  Civil Action\n",
      "200\n",
      "200\n"
     ]
    },
    {
     "name": "stderr",
     "output_type": "stream",
     "text": [
      "\r",
      " 51%|█████████████████████▍                    | 45/88 [05:30<05:41,  7.95s/it]"
     ]
    },
    {
     "name": "stdout",
     "output_type": "stream",
     "text": [
      "for sub_court:  Criminal Case\n",
      "200\n",
      "200\n"
     ]
    },
    {
     "name": "stderr",
     "output_type": "stream",
     "text": [
      "\r",
      " 52%|█████████████████████▉                    | 46/88 [05:34<04:45,  6.80s/it]"
     ]
    },
    {
     "name": "stdout",
     "output_type": "stream",
     "text": [
      "for sub_court:  Distraint Case\n",
      "200\n",
      "200\n"
     ]
    },
    {
     "name": "stderr",
     "output_type": "stream",
     "text": [
      "\r",
      " 53%|██████████████████████▍                   | 47/88 [05:38<04:06,  6.01s/it]"
     ]
    },
    {
     "name": "stdout",
     "output_type": "stream",
     "text": [
      "for sub_court:  District Court Tax Claim\n",
      "200\n",
      "200\n"
     ]
    },
    {
     "name": "stderr",
     "output_type": "stream",
     "text": [
      "\r",
      " 55%|██████████████████████▉                   | 48/88 [05:43<03:43,  5.59s/it]"
     ]
    },
    {
     "name": "stdout",
     "output_type": "stream",
     "text": [
      "for sub_court:  Employee Compensation Case\n",
      "200\n",
      "200\n"
     ]
    },
    {
     "name": "stderr",
     "output_type": "stream",
     "text": [
      "\r",
      " 56%|███████████████████████▍                  | 49/88 [05:47<03:19,  5.11s/it]"
     ]
    },
    {
     "name": "stdout",
     "output_type": "stream",
     "text": [
      "for sub_court:  Equal Opportunitie Action\n",
      "200\n",
      "200\n"
     ]
    },
    {
     "name": "stderr",
     "output_type": "stream",
     "text": [
      "\r",
      " 57%|███████████████████████▊                  | 50/88 [05:51<03:08,  4.95s/it]"
     ]
    },
    {
     "name": "stdout",
     "output_type": "stream",
     "text": [
      "for sub_court:  Intended Action\n",
      "200\n",
      "200\n"
     ]
    },
    {
     "name": "stderr",
     "output_type": "stream",
     "text": [
      "\r",
      " 58%|████████████████████████▎                 | 51/88 [05:55<02:54,  4.71s/it]"
     ]
    },
    {
     "name": "stdout",
     "output_type": "stream",
     "text": [
      "for sub_court:  Miscellaneou Proceeding\n",
      "200\n",
      "200\n"
     ]
    },
    {
     "name": "stderr",
     "output_type": "stream",
     "text": [
      "\r",
      " 59%|████████████████████████▊                 | 52/88 [06:00<02:44,  4.56s/it]"
     ]
    },
    {
     "name": "stdout",
     "output_type": "stream",
     "text": [
      "for sub_court:  Occupational Deafne (Compensation) Appeal\n",
      "200\n",
      "200\n"
     ]
    },
    {
     "name": "stderr",
     "output_type": "stream",
     "text": [
      "\r",
      " 60%|█████████████████████████▎                | 53/88 [06:04<02:35,  4.45s/it]"
     ]
    },
    {
     "name": "stdout",
     "output_type": "stream",
     "text": [
      "for sub_court:  Personal Injurie Action\n",
      "200\n",
      "200\n"
     ]
    },
    {
     "name": "stderr",
     "output_type": "stream",
     "text": [
      "\r",
      " 61%|█████████████████████████▊                | 54/88 [06:08<02:25,  4.28s/it]"
     ]
    },
    {
     "name": "stdout",
     "output_type": "stream",
     "text": [
      "for sub_court:  Stamp Duty Appeal\n",
      "200\n",
      "200\n"
     ]
    },
    {
     "name": "stderr",
     "output_type": "stream",
     "text": [
      "\r",
      " 62%|██████████████████████████▎               | 55/88 [06:12<02:18,  4.20s/it]"
     ]
    },
    {
     "name": "stdout",
     "output_type": "stream",
     "text": [
      "for sub_court:  Joint application\n",
      "200\n",
      "200\n"
     ]
    },
    {
     "name": "stderr",
     "output_type": "stream",
     "text": [
      "\r",
      " 64%|██████████████████████████▋               | 56/88 [06:16<02:12,  4.15s/it]"
     ]
    },
    {
     "name": "stdout",
     "output_type": "stream",
     "text": [
      "for sub_court:  Matrimonial Cause\n",
      "200\n",
      "200\n"
     ]
    },
    {
     "name": "stderr",
     "output_type": "stream",
     "text": [
      "\r",
      " 65%|███████████████████████████▏              | 57/88 [06:20<02:08,  4.15s/it]"
     ]
    },
    {
     "name": "stdout",
     "output_type": "stream",
     "text": [
      "for sub_court:  Miscellaneou Proceeding\n",
      "200\n",
      "200\n"
     ]
    },
    {
     "name": "stderr",
     "output_type": "stream",
     "text": [
      "\r",
      " 66%|███████████████████████████▋              | 58/88 [06:24<02:04,  4.16s/it]"
     ]
    },
    {
     "name": "stdout",
     "output_type": "stream",
     "text": [
      "for sub_court:  Building Management Application\n",
      "200\n",
      "200\n"
     ]
    },
    {
     "name": "stderr",
     "output_type": "stream",
     "text": [
      "\r",
      " 67%|████████████████████████████▏             | 59/88 [06:28<02:01,  4.20s/it]"
     ]
    },
    {
     "name": "stdout",
     "output_type": "stream",
     "text": [
      "for sub_court:  Building Ordinance Application\n",
      "200\n",
      "200\n"
     ]
    },
    {
     "name": "stderr",
     "output_type": "stream",
     "text": [
      "\r",
      " 68%|████████████████████████████▋             | 60/88 [06:33<02:00,  4.32s/it]"
     ]
    },
    {
     "name": "stdout",
     "output_type": "stream",
     "text": [
      "for sub_court:  Demolished Building Appeal\n",
      "200\n",
      "200\n"
     ]
    },
    {
     "name": "stderr",
     "output_type": "stream",
     "text": [
      "\r",
      " 69%|█████████████████████████████             | 61/88 [06:47<03:12,  7.14s/it]"
     ]
    },
    {
     "name": "stdout",
     "output_type": "stream",
     "text": [
      "for sub_court:  Demolished Building Application\n",
      "200\n",
      "200\n"
     ]
    },
    {
     "name": "stderr",
     "output_type": "stream",
     "text": [
      "\r",
      " 70%|█████████████████████████████▌            | 62/88 [06:51<02:47,  6.43s/it]"
     ]
    },
    {
     "name": "stdout",
     "output_type": "stream",
     "text": [
      "for sub_court:  Government Rent Appeal\n",
      "200\n",
      "200\n"
     ]
    },
    {
     "name": "stderr",
     "output_type": "stream",
     "text": [
      "\r",
      " 72%|██████████████████████████████            | 63/88 [06:55<02:20,  5.64s/it]"
     ]
    },
    {
     "name": "stdout",
     "output_type": "stream",
     "text": [
      "for sub_court:  Housing Ordinance Appeal\n",
      "200\n",
      "200\n"
     ]
    },
    {
     "name": "stderr",
     "output_type": "stream",
     "text": [
      "\r",
      " 73%|██████████████████████████████▌           | 64/88 [07:00<02:09,  5.41s/it]"
     ]
    },
    {
     "name": "stdout",
     "output_type": "stream",
     "text": [
      "for sub_court:  Land Compulsory Sale Application\n",
      "200\n",
      "200\n"
     ]
    },
    {
     "name": "stderr",
     "output_type": "stream",
     "text": [
      "\r",
      " 74%|███████████████████████████████           | 65/88 [07:04<01:57,  5.10s/it]"
     ]
    },
    {
     "name": "stdout",
     "output_type": "stream",
     "text": [
      "for sub_court:  Land Resumption Application\n",
      "200\n",
      "200\n"
     ]
    },
    {
     "name": "stderr",
     "output_type": "stream",
     "text": [
      "\r",
      " 75%|███████████████████████████████▌          | 66/88 [07:09<01:50,  5.04s/it]"
     ]
    },
    {
     "name": "stdout",
     "output_type": "stream",
     "text": [
      "for sub_court:  Landlord  Appeal\n",
      "200\n",
      "200\n"
     ]
    },
    {
     "name": "stderr",
     "output_type": "stream",
     "text": [
      "\r",
      " 76%|███████████████████████████████▉          | 67/88 [07:25<02:53,  8.28s/it]"
     ]
    },
    {
     "name": "stdout",
     "output_type": "stream",
     "text": [
      "for sub_court:  MTR Ordinance Application\n",
      "200\n",
      "200\n"
     ]
    },
    {
     "name": "stderr",
     "output_type": "stream",
     "text": [
      "\r",
      " 77%|████████████████████████████████▍         | 68/88 [07:31<02:29,  7.46s/it]"
     ]
    },
    {
     "name": "stdout",
     "output_type": "stream",
     "text": [
      "for sub_court:  Miscellaneou Proceeding Application\n",
      "200\n",
      "200\n"
     ]
    },
    {
     "name": "stderr",
     "output_type": "stream",
     "text": [
      "\r",
      " 78%|████████████████████████████████▉         | 69/88 [07:35<02:02,  6.47s/it]"
     ]
    },
    {
     "name": "stdout",
     "output_type": "stream",
     "text": [
      "for sub_court:  Miscellaneou Reference Application\n",
      "200\n",
      "200\n"
     ]
    },
    {
     "name": "stderr",
     "output_type": "stream",
     "text": [
      "\r",
      " 80%|█████████████████████████████████▍        | 70/88 [07:40<01:48,  6.01s/it]"
     ]
    },
    {
     "name": "stdout",
     "output_type": "stream",
     "text": [
      "for sub_court:  New Tenancy Application\n",
      "200\n",
      "200\n"
     ]
    },
    {
     "name": "stderr",
     "output_type": "stream",
     "text": [
      "\r",
      " 81%|█████████████████████████████████▉        | 71/88 [07:49<01:57,  6.89s/it]"
     ]
    },
    {
     "name": "stdout",
     "output_type": "stream",
     "text": [
      "for sub_court:  Part I Possession Application\n",
      "200\n",
      "200\n"
     ]
    },
    {
     "name": "stderr",
     "output_type": "stream",
     "text": [
      "\r",
      " 82%|██████████████████████████████████▎       | 72/88 [07:53<01:38,  6.15s/it]"
     ]
    },
    {
     "name": "stdout",
     "output_type": "stream",
     "text": [
      "for sub_court:  Part II Possession Application\n",
      "200\n",
      "200\n"
     ]
    },
    {
     "name": "stderr",
     "output_type": "stream",
     "text": [
      "\r",
      " 83%|██████████████████████████████████▊       | 73/88 [07:57<01:21,  5.45s/it]"
     ]
    },
    {
     "name": "stdout",
     "output_type": "stream",
     "text": [
      "for sub_court:  Part IV Possession Application\n",
      "200\n",
      "200\n"
     ]
    },
    {
     "name": "stderr",
     "output_type": "stream",
     "text": [
      "\r",
      " 84%|███████████████████████████████████▎      | 74/88 [08:01<01:12,  5.15s/it]"
     ]
    },
    {
     "name": "stdout",
     "output_type": "stream",
     "text": [
      "for sub_court:  Part V Possession Application\n",
      "200\n",
      "200\n"
     ]
    },
    {
     "name": "stderr",
     "output_type": "stream",
     "text": [
      "\r",
      " 85%|███████████████████████████████████▊      | 75/88 [08:05<01:02,  4.78s/it]"
     ]
    },
    {
     "name": "stdout",
     "output_type": "stream",
     "text": [
      "for sub_court:  Railway Ordinance Application\n",
      "200\n",
      "200\n"
     ]
    },
    {
     "name": "stderr",
     "output_type": "stream",
     "text": [
      "\r",
      " 86%|████████████████████████████████████▎     | 76/88 [08:14<01:09,  5.83s/it]"
     ]
    },
    {
     "name": "stdout",
     "output_type": "stream",
     "text": [
      "for sub_court:  Rating Appeal\n",
      "200\n",
      "200\n"
     ]
    },
    {
     "name": "stderr",
     "output_type": "stream",
     "text": [
      "\r",
      " 88%|████████████████████████████████████▊     | 77/88 [08:18<00:59,  5.38s/it]"
     ]
    },
    {
     "name": "stdout",
     "output_type": "stream",
     "text": [
      "for sub_court:  Coroner Court Death Inquest\n",
      "200\n",
      "200\n"
     ]
    },
    {
     "name": "stderr",
     "output_type": "stream",
     "text": [
      "\r",
      " 89%|█████████████████████████████████████▏    | 78/88 [08:22<00:49,  4.99s/it]"
     ]
    },
    {
     "name": "stdout",
     "output_type": "stream",
     "text": [
      "for sub_court:  Eastern Magistrate Court Charge Case\n",
      "200\n",
      "200\n"
     ]
    },
    {
     "name": "stderr",
     "output_type": "stream",
     "text": [
      "\r",
      " 90%|█████████████████████████████████████▋    | 79/88 [08:26<00:41,  4.65s/it]"
     ]
    },
    {
     "name": "stdout",
     "output_type": "stream",
     "text": [
      "for sub_court:  Eastern Magistrate Court Summon Case\n",
      "200\n",
      "200\n"
     ]
    },
    {
     "name": "stderr",
     "output_type": "stream",
     "text": [
      "\r",
      " 91%|██████████████████████████████████████▏   | 80/88 [08:30<00:35,  4.47s/it]"
     ]
    },
    {
     "name": "stdout",
     "output_type": "stream",
     "text": [
      "for sub_court:  Kowloon City Magistrate Court Charge Case\n",
      "200\n",
      "200\n"
     ]
    },
    {
     "name": "stderr",
     "output_type": "stream",
     "text": [
      "\r",
      " 92%|██████████████████████████████████████▋   | 81/88 [08:44<00:52,  7.48s/it]"
     ]
    },
    {
     "name": "stdout",
     "output_type": "stream",
     "text": [
      "for sub_court:  Kowloon City Magistrates’ Court Summon Case\n",
      "200\n",
      "200\n"
     ]
    },
    {
     "name": "stderr",
     "output_type": "stream",
     "text": [
      "\r",
      " 93%|███████████████████████████████████████▏  | 82/88 [09:00<00:59,  9.85s/it]"
     ]
    },
    {
     "name": "stdout",
     "output_type": "stream",
     "text": [
      "for sub_court:  Labour Tribunal Claim\n",
      "200\n",
      "200\n"
     ]
    },
    {
     "name": "stderr",
     "output_type": "stream",
     "text": [
      "\r",
      " 94%|███████████████████████████████████████▌  | 83/88 [09:04<00:40,  8.09s/it]"
     ]
    },
    {
     "name": "stdout",
     "output_type": "stream",
     "text": [
      "for sub_court:  Obscene Article Tribunal Case\n",
      "200\n",
      "200\n"
     ]
    },
    {
     "name": "stderr",
     "output_type": "stream",
     "text": [
      "\r",
      " 95%|████████████████████████████████████████  | 84/88 [09:10<00:29,  7.47s/it]"
     ]
    },
    {
     "name": "stdout",
     "output_type": "stream",
     "text": [
      "for sub_court:  Shatin Magistrate Court Charge Case\n",
      "200\n",
      "200\n"
     ]
    },
    {
     "name": "stderr",
     "output_type": "stream",
     "text": [
      "\r",
      " 97%|████████████████████████████████████████▌ | 85/88 [09:21<00:25,  8.43s/it]"
     ]
    },
    {
     "name": "stdout",
     "output_type": "stream",
     "text": [
      "for sub_court:  Small Claim Tribunal Claim\n",
      "200\n",
      "200\n"
     ]
    },
    {
     "name": "stderr",
     "output_type": "stream",
     "text": [
      "\r",
      " 98%|█████████████████████████████████████████ | 86/88 [09:25<00:14,  7.09s/it]"
     ]
    },
    {
     "name": "stdout",
     "output_type": "stream",
     "text": [
      "for sub_court:  Tuen Mun Magistrate Court Charge Case\n",
      "200\n",
      "200\n"
     ]
    },
    {
     "name": "stderr",
     "output_type": "stream",
     "text": [
      "\r",
      " 99%|█████████████████████████████████████████▌| 87/88 [09:29<00:06,  6.16s/it]"
     ]
    },
    {
     "name": "stdout",
     "output_type": "stream",
     "text": [
      "for sub_court:  West Kowloon Magistrate Court Charge Case\n",
      "200\n",
      "200\n"
     ]
    },
    {
     "name": "stderr",
     "output_type": "stream",
     "text": [
      "100%|██████████████████████████████████████████| 88/88 [09:33<00:00,  5.55s/it]\n"
     ]
    },
    {
     "name": "stdout",
     "output_type": "stream",
     "text": [
      "(490, 3)\n"
     ]
    },
    {
     "data": {
      "text/html": [
       "<div>\n",
       "<style scoped>\n",
       "    .dataframe tbody tr th:only-of-type {\n",
       "        vertical-align: middle;\n",
       "    }\n",
       "\n",
       "    .dataframe tbody tr th {\n",
       "        vertical-align: top;\n",
       "    }\n",
       "\n",
       "    .dataframe thead th {\n",
       "        text-align: right;\n",
       "    }\n",
       "</style>\n",
       "<table border=\"1\" class=\"dataframe\">\n",
       "  <thead>\n",
       "    <tr style=\"text-align: right;\">\n",
       "      <th></th>\n",
       "      <th>year</th>\n",
       "      <th>year_url</th>\n",
       "      <th>sub_court_cleared</th>\n",
       "    </tr>\n",
       "  </thead>\n",
       "  <tbody>\n",
       "    <tr>\n",
       "      <th>0</th>\n",
       "      <td>2015</td>\n",
       "      <td>https://legalref.judiciary.hk/lrs/common/ju/judgment.jsp?EX=&amp;L1=FA&amp;L2=CV&amp;L3=2015&amp;AR=1_4#A1_4</td>\n",
       "      <td>Final Appeal (Civil)</td>\n",
       "    </tr>\n",
       "    <tr>\n",
       "      <th>1</th>\n",
       "      <td>2013</td>\n",
       "      <td>https://legalref.judiciary.hk/lrs/common/ju/judgment.jsp?EX=&amp;L1=FA&amp;L2=CV&amp;L3=2013&amp;AR=1_6#A1_6</td>\n",
       "      <td>Final Appeal (Civil)</td>\n",
       "    </tr>\n",
       "    <tr>\n",
       "      <th>2</th>\n",
       "      <td>2016</td>\n",
       "      <td>https://legalref.judiciary.hk/lrs/common/ju/judgment.jsp?EX=&amp;L1=FA&amp;L2=CV&amp;L3=2016&amp;AR=1_3#A1_3</td>\n",
       "      <td>Final Appeal (Civil)</td>\n",
       "    </tr>\n",
       "    <tr>\n",
       "      <th>3</th>\n",
       "      <td>2018</td>\n",
       "      <td>https://legalref.judiciary.hk/lrs/common/ju/judgment.jsp?EX=&amp;L1=FA&amp;L2=CV&amp;L3=2018&amp;AR=1_1#A1_1</td>\n",
       "      <td>Final Appeal (Civil)</td>\n",
       "    </tr>\n",
       "    <tr>\n",
       "      <th>4</th>\n",
       "      <td>2017</td>\n",
       "      <td>https://legalref.judiciary.hk/lrs/common/ju/judgment.jsp?EX=&amp;L1=FA&amp;L2=CV&amp;L3=2017&amp;AR=1_2#A1_2</td>\n",
       "      <td>Final Appeal (Civil)</td>\n",
       "    </tr>\n",
       "    <tr>\n",
       "      <th>5</th>\n",
       "      <td>2014</td>\n",
       "      <td>https://legalref.judiciary.hk/lrs/common/ju/judgment.jsp?EX=&amp;L1=FA&amp;L2=CV&amp;L3=2014&amp;AR=1_5#A1_5</td>\n",
       "      <td>Final Appeal (Civil)</td>\n",
       "    </tr>\n",
       "    <tr>\n",
       "      <th>6</th>\n",
       "      <td>Pre2013</td>\n",
       "      <td>https://legalref.judiciary.hk/lrs/common/ju/judgment.jsp?EX=T&amp;L1=FA&amp;L2=CV&amp;AR=1#A1</td>\n",
       "      <td>Final Appeal (Civil)</td>\n",
       "    </tr>\n",
       "    <tr>\n",
       "      <th>0</th>\n",
       "      <td>2015</td>\n",
       "      <td>https://legalref.judiciary.hk/lrs/common/ju/judgment.jsp?EX=&amp;L1=FA&amp;L2=CC&amp;L3=2015&amp;AR=2_4#A2_4</td>\n",
       "      <td>Final Appeal (Criminal)</td>\n",
       "    </tr>\n",
       "    <tr>\n",
       "      <th>1</th>\n",
       "      <td>2013</td>\n",
       "      <td>https://legalref.judiciary.hk/lrs/common/ju/judgment.jsp?EX=&amp;L1=FA&amp;L2=CC&amp;L3=2013&amp;AR=2_6#A2_6</td>\n",
       "      <td>Final Appeal (Criminal)</td>\n",
       "    </tr>\n",
       "    <tr>\n",
       "      <th>2</th>\n",
       "      <td>2016</td>\n",
       "      <td>https://legalref.judiciary.hk/lrs/common/ju/judgment.jsp?EX=&amp;L1=FA&amp;L2=CC&amp;L3=2016&amp;AR=2_3#A2_3</td>\n",
       "      <td>Final Appeal (Criminal)</td>\n",
       "    </tr>\n",
       "    <tr>\n",
       "      <th>3</th>\n",
       "      <td>2018</td>\n",
       "      <td>https://legalref.judiciary.hk/lrs/common/ju/judgment.jsp?EX=&amp;L1=FA&amp;L2=CC&amp;L3=2018&amp;AR=2_1#A2_1</td>\n",
       "      <td>Final Appeal (Criminal)</td>\n",
       "    </tr>\n",
       "    <tr>\n",
       "      <th>4</th>\n",
       "      <td>2017</td>\n",
       "      <td>https://legalref.judiciary.hk/lrs/common/ju/judgment.jsp?EX=&amp;L1=FA&amp;L2=CC&amp;L3=2017&amp;AR=2_2#A2_2</td>\n",
       "      <td>Final Appeal (Criminal)</td>\n",
       "    </tr>\n",
       "    <tr>\n",
       "      <th>5</th>\n",
       "      <td>2014</td>\n",
       "      <td>https://legalref.judiciary.hk/lrs/common/ju/judgment.jsp?EX=&amp;L1=FA&amp;L2=CC&amp;L3=2014&amp;AR=2_5#A2_5</td>\n",
       "      <td>Final Appeal (Criminal)</td>\n",
       "    </tr>\n",
       "    <tr>\n",
       "      <th>6</th>\n",
       "      <td>Pre2013</td>\n",
       "      <td>https://legalref.judiciary.hk/lrs/common/ju/judgment.jsp?EX=T&amp;L1=FA&amp;L2=CC&amp;AR=2#A2</td>\n",
       "      <td>Final Appeal (Criminal)</td>\n",
       "    </tr>\n",
       "    <tr>\n",
       "      <th>0</th>\n",
       "      <td>2009</td>\n",
       "      <td>https://legalref.judiciary.hk/lrs/common/ju/judgment.jsp?EX=T&amp;L1=FA&amp;L2=MP&amp;L3=2009&amp;AR=3_4#A3_4</td>\n",
       "      <td>Miscellaneou Proceeding</td>\n",
       "    </tr>\n",
       "    <tr>\n",
       "      <th>1</th>\n",
       "      <td>2004</td>\n",
       "      <td>https://legalref.judiciary.hk/lrs/common/ju/judgment.jsp?EX=T&amp;L1=FA&amp;L2=MP&amp;L3=2004&amp;AR=3_5#A3_5</td>\n",
       "      <td>Miscellaneou Proceeding</td>\n",
       "    </tr>\n",
       "    <tr>\n",
       "      <th>2</th>\n",
       "      <td>2013</td>\n",
       "      <td>https://legalref.judiciary.hk/lrs/common/ju/judgment.jsp?EX=T&amp;L1=FA&amp;L2=MP&amp;L3=2013&amp;AR=3_2#A3_2</td>\n",
       "      <td>Miscellaneou Proceeding</td>\n",
       "    </tr>\n",
       "    <tr>\n",
       "      <th>3</th>\n",
       "      <td>2010</td>\n",
       "      <td>https://legalref.judiciary.hk/lrs/common/ju/judgment.jsp?EX=T&amp;L1=FA&amp;L2=MP&amp;L3=2010&amp;AR=3_3#A3_3</td>\n",
       "      <td>Miscellaneou Proceeding</td>\n",
       "    </tr>\n",
       "    <tr>\n",
       "      <th>4</th>\n",
       "      <td>2003</td>\n",
       "      <td>https://legalref.judiciary.hk/lrs/common/ju/judgment.jsp?EX=T&amp;L1=FA&amp;L2=MP&amp;L3=2003&amp;AR=3_6#A3_6</td>\n",
       "      <td>Miscellaneou Proceeding</td>\n",
       "    </tr>\n",
       "    <tr>\n",
       "      <th>5</th>\n",
       "      <td>2014</td>\n",
       "      <td>https://legalref.judiciary.hk/lrs/common/ju/judgment.jsp?EX=T&amp;L1=FA&amp;L2=MP&amp;L3=2014&amp;AR=3_1#A3_1</td>\n",
       "      <td>Miscellaneou Proceeding</td>\n",
       "    </tr>\n",
       "    <tr>\n",
       "      <th>0</th>\n",
       "      <td>2015</td>\n",
       "      <td>https://legalref.judiciary.hk/lrs/common/ju/judgment.jsp?EX=&amp;L1=FA&amp;L2=MV&amp;L3=2015&amp;AR=4_5#A4_5</td>\n",
       "      <td>Miscellaneou Proceeding (Civil)</td>\n",
       "    </tr>\n",
       "    <tr>\n",
       "      <th>1</th>\n",
       "      <td>2019</td>\n",
       "      <td>https://legalref.judiciary.hk/lrs/common/ju/judgment.jsp?EX=&amp;L1=FA&amp;L2=MV&amp;L3=2019&amp;AR=4_1#A4_1</td>\n",
       "      <td>Miscellaneou Proceeding (Civil)</td>\n",
       "    </tr>\n",
       "    <tr>\n",
       "      <th>2</th>\n",
       "      <td>2016</td>\n",
       "      <td>https://legalref.judiciary.hk/lrs/common/ju/judgment.jsp?EX=&amp;L1=FA&amp;L2=MV&amp;L3=2016&amp;AR=4_4#A4_4</td>\n",
       "      <td>Miscellaneou Proceeding (Civil)</td>\n",
       "    </tr>\n",
       "    <tr>\n",
       "      <th>3</th>\n",
       "      <td>2017</td>\n",
       "      <td>https://legalref.judiciary.hk/lrs/common/ju/judgment.jsp?EX=&amp;L1=FA&amp;L2=MV&amp;L3=2017&amp;AR=4_3#A4_3</td>\n",
       "      <td>Miscellaneou Proceeding (Civil)</td>\n",
       "    </tr>\n",
       "    <tr>\n",
       "      <th>4</th>\n",
       "      <td>2018</td>\n",
       "      <td>https://legalref.judiciary.hk/lrs/common/ju/judgment.jsp?EX=&amp;L1=FA&amp;L2=MV&amp;L3=2018&amp;AR=4_2#A4_2</td>\n",
       "      <td>Miscellaneou Proceeding (Civil)</td>\n",
       "    </tr>\n",
       "    <tr>\n",
       "      <th>5</th>\n",
       "      <td>2014</td>\n",
       "      <td>https://legalref.judiciary.hk/lrs/common/ju/judgment.jsp?EX=&amp;L1=FA&amp;L2=MV&amp;L3=2014&amp;AR=4_6#A4_6</td>\n",
       "      <td>Miscellaneou Proceeding (Civil)</td>\n",
       "    </tr>\n",
       "    <tr>\n",
       "      <th>6</th>\n",
       "      <td>Pre2014</td>\n",
       "      <td>https://legalref.judiciary.hk/lrs/common/ju/judgment.jsp?EX=T&amp;L1=FA&amp;L2=MV&amp;AR=4#A4</td>\n",
       "      <td>Miscellaneou Proceeding (Civil)</td>\n",
       "    </tr>\n",
       "    <tr>\n",
       "      <th>0</th>\n",
       "      <td>2015</td>\n",
       "      <td>https://legalref.judiciary.hk/lrs/common/ju/judgment.jsp?EX=&amp;L1=FA&amp;L2=MC&amp;L3=2015&amp;AR=5_5#A5_5</td>\n",
       "      <td>Miscellaneou Proceeding (Criminal)</td>\n",
       "    </tr>\n",
       "    <tr>\n",
       "      <th>1</th>\n",
       "      <td>2019</td>\n",
       "      <td>https://legalref.judiciary.hk/lrs/common/ju/judgment.jsp?EX=&amp;L1=FA&amp;L2=MC&amp;L3=2019&amp;AR=5_1#A5_1</td>\n",
       "      <td>Miscellaneou Proceeding (Criminal)</td>\n",
       "    </tr>\n",
       "    <tr>\n",
       "      <th>2</th>\n",
       "      <td>2016</td>\n",
       "      <td>https://legalref.judiciary.hk/lrs/common/ju/judgment.jsp?EX=&amp;L1=FA&amp;L2=MC&amp;L3=2016&amp;AR=5_4#A5_4</td>\n",
       "      <td>Miscellaneou Proceeding (Criminal)</td>\n",
       "    </tr>\n",
       "    <tr>\n",
       "      <th>...</th>\n",
       "      <td>...</td>\n",
       "      <td>...</td>\n",
       "      <td>...</td>\n",
       "    </tr>\n",
       "    <tr>\n",
       "      <th>3</th>\n",
       "      <td>2003</td>\n",
       "      <td>https://legalref.judiciary.hk/lrs/common/ju/judgment.jsp?EX=T&amp;L1=LD&amp;L2=RW&amp;L3=2003&amp;AR=18_4#A18_4</td>\n",
       "      <td>Railway Ordinance Application</td>\n",
       "    </tr>\n",
       "    <tr>\n",
       "      <th>4</th>\n",
       "      <td>2005</td>\n",
       "      <td>https://legalref.judiciary.hk/lrs/common/ju/judgment.jsp?EX=T&amp;L1=LD&amp;L2=RW&amp;L3=2005&amp;AR=18_2#A18_2</td>\n",
       "      <td>Railway Ordinance Application</td>\n",
       "    </tr>\n",
       "    <tr>\n",
       "      <th>0</th>\n",
       "      <td>2015</td>\n",
       "      <td>https://legalref.judiciary.hk/lrs/common/ju/judgment.jsp?EX=&amp;L1=LD&amp;L2=RA&amp;L3=2015&amp;AR=19_1#A19_1</td>\n",
       "      <td>Rating Appeal</td>\n",
       "    </tr>\n",
       "    <tr>\n",
       "      <th>1</th>\n",
       "      <td>2009</td>\n",
       "      <td>https://legalref.judiciary.hk/lrs/common/ju/judgment.jsp?EX=&amp;L1=LD&amp;L2=RA&amp;L3=2009&amp;AR=19_3#A19_3</td>\n",
       "      <td>Rating Appeal</td>\n",
       "    </tr>\n",
       "    <tr>\n",
       "      <th>2</th>\n",
       "      <td>2007</td>\n",
       "      <td>https://legalref.judiciary.hk/lrs/common/ju/judgment.jsp?EX=&amp;L1=LD&amp;L2=RA&amp;L3=2007&amp;AR=19_4#A19_4</td>\n",
       "      <td>Rating Appeal</td>\n",
       "    </tr>\n",
       "    <tr>\n",
       "      <th>3</th>\n",
       "      <td>2006</td>\n",
       "      <td>https://legalref.judiciary.hk/lrs/common/ju/judgment.jsp?EX=&amp;L1=LD&amp;L2=RA&amp;L3=2006&amp;AR=19_5#A19_5</td>\n",
       "      <td>Rating Appeal</td>\n",
       "    </tr>\n",
       "    <tr>\n",
       "      <th>4</th>\n",
       "      <td>2005</td>\n",
       "      <td>https://legalref.judiciary.hk/lrs/common/ju/judgment.jsp?EX=&amp;L1=LD&amp;L2=RA&amp;L3=2005&amp;AR=19_6#A19_6</td>\n",
       "      <td>Rating Appeal</td>\n",
       "    </tr>\n",
       "    <tr>\n",
       "      <th>5</th>\n",
       "      <td>2014</td>\n",
       "      <td>https://legalref.judiciary.hk/lrs/common/ju/judgment.jsp?EX=&amp;L1=LD&amp;L2=RA&amp;L3=2014&amp;AR=19_2#A19_2</td>\n",
       "      <td>Rating Appeal</td>\n",
       "    </tr>\n",
       "    <tr>\n",
       "      <th>6</th>\n",
       "      <td>Pre2005</td>\n",
       "      <td>https://legalref.judiciary.hk/lrs/common/ju/judgment.jsp?EX=T&amp;L1=LD&amp;L2=RA&amp;AR=19#A19</td>\n",
       "      <td>Rating Appeal</td>\n",
       "    </tr>\n",
       "    <tr>\n",
       "      <th>0</th>\n",
       "      <td>2013</td>\n",
       "      <td>https://legalref.judiciary.hk/lrs/common/ju/judgment.jsp?EX=T&amp;L1=CC&amp;L2=DI&amp;L3=2013&amp;AR=1_1#A1_1</td>\n",
       "      <td>Coroner Court Death Inquest</td>\n",
       "    </tr>\n",
       "    <tr>\n",
       "      <th>0</th>\n",
       "      <td>2018</td>\n",
       "      <td>https://legalref.judiciary.hk/lrs/common/ju/judgment.jsp?EX=T&amp;L1=ES&amp;L2=CC&amp;L3=2018&amp;AR=2_1#A2_1</td>\n",
       "      <td>Eastern Magistrate Court Charge Case</td>\n",
       "    </tr>\n",
       "    <tr>\n",
       "      <th>1</th>\n",
       "      <td>2015</td>\n",
       "      <td>https://legalref.judiciary.hk/lrs/common/ju/judgment.jsp?EX=T&amp;L1=ES&amp;L2=CC&amp;L3=2015&amp;AR=2_3#A2_3</td>\n",
       "      <td>Eastern Magistrate Court Charge Case</td>\n",
       "    </tr>\n",
       "    <tr>\n",
       "      <th>2</th>\n",
       "      <td>2011</td>\n",
       "      <td>https://legalref.judiciary.hk/lrs/common/ju/judgment.jsp?EX=T&amp;L1=ES&amp;L2=CC&amp;L3=2011&amp;AR=2_4#A2_4</td>\n",
       "      <td>Eastern Magistrate Court Charge Case</td>\n",
       "    </tr>\n",
       "    <tr>\n",
       "      <th>3</th>\n",
       "      <td>2016</td>\n",
       "      <td>https://legalref.judiciary.hk/lrs/common/ju/judgment.jsp?EX=T&amp;L1=ES&amp;L2=CC&amp;L3=2016&amp;AR=2_2#A2_2</td>\n",
       "      <td>Eastern Magistrate Court Charge Case</td>\n",
       "    </tr>\n",
       "    <tr>\n",
       "      <th>0</th>\n",
       "      <td>2013</td>\n",
       "      <td>https://legalref.judiciary.hk/lrs/common/ju/judgment.jsp?EX=T&amp;L1=ES&amp;L2=S&amp;L3=2013&amp;AR=3_2#A3_2</td>\n",
       "      <td>Eastern Magistrate Court Summon Case</td>\n",
       "    </tr>\n",
       "    <tr>\n",
       "      <th>1</th>\n",
       "      <td>2016</td>\n",
       "      <td>https://legalref.judiciary.hk/lrs/common/ju/judgment.jsp?EX=T&amp;L1=ES&amp;L2=S&amp;L3=2016&amp;AR=3_1#A3_1</td>\n",
       "      <td>Eastern Magistrate Court Summon Case</td>\n",
       "    </tr>\n",
       "    <tr>\n",
       "      <th>0</th>\n",
       "      <td>2017</td>\n",
       "      <td>https://legalref.judiciary.hk/lrs/common/ju/judgment.jsp?EX=T&amp;L1=KC&amp;L2=CC&amp;L3=2017&amp;AR=4_2#A4_2</td>\n",
       "      <td>Kowloon City Magistrate Court Charge Case</td>\n",
       "    </tr>\n",
       "    <tr>\n",
       "      <th>1</th>\n",
       "      <td>2018</td>\n",
       "      <td>https://legalref.judiciary.hk/lrs/common/ju/judgment.jsp?EX=T&amp;L1=KC&amp;L2=CC&amp;L3=2018&amp;AR=4_1#A4_1</td>\n",
       "      <td>Kowloon City Magistrate Court Charge Case</td>\n",
       "    </tr>\n",
       "    <tr>\n",
       "      <th>2</th>\n",
       "      <td>2002</td>\n",
       "      <td>https://legalref.judiciary.hk/lrs/common/ju/judgment.jsp?EX=T&amp;L1=KC&amp;L2=CC&amp;L3=2002&amp;AR=4_4#A4_4</td>\n",
       "      <td>Kowloon City Magistrate Court Charge Case</td>\n",
       "    </tr>\n",
       "    <tr>\n",
       "      <th>3</th>\n",
       "      <td>2016</td>\n",
       "      <td>https://legalref.judiciary.hk/lrs/common/ju/judgment.jsp?EX=T&amp;L1=KC&amp;L2=CC&amp;L3=2016&amp;AR=4_3#A4_3</td>\n",
       "      <td>Kowloon City Magistrate Court Charge Case</td>\n",
       "    </tr>\n",
       "    <tr>\n",
       "      <th>0</th>\n",
       "      <td>2013</td>\n",
       "      <td>https://legalref.judiciary.hk/lrs/common/ju/judgment.jsp?EX=T&amp;L1=KC&amp;L2=S&amp;L3=2013&amp;AR=5_1#A5_1</td>\n",
       "      <td>Kowloon City Magistrates’ Court Summon Case</td>\n",
       "    </tr>\n",
       "    <tr>\n",
       "      <th>0</th>\n",
       "      <td>2012</td>\n",
       "      <td>https://legalref.judiciary.hk/lrs/common/ju/judgment.jsp?EX=T&amp;L1=LB&amp;L2=TC&amp;L3=2012&amp;AR=6_1#A6_1</td>\n",
       "      <td>Labour Tribunal Claim</td>\n",
       "    </tr>\n",
       "    <tr>\n",
       "      <th>1</th>\n",
       "      <td>2008</td>\n",
       "      <td>https://legalref.judiciary.hk/lrs/common/ju/judgment.jsp?EX=T&amp;L1=LB&amp;L2=TC&amp;L3=2008&amp;AR=6_2#A6_2</td>\n",
       "      <td>Labour Tribunal Claim</td>\n",
       "    </tr>\n",
       "    <tr>\n",
       "      <th>0</th>\n",
       "      <td>2006</td>\n",
       "      <td>https://legalref.judiciary.hk/lrs/common/ju/judgment.jsp?EX=T&amp;L1=OA&amp;L2=TD&amp;L3=2006&amp;AR=7_1#A7_1</td>\n",
       "      <td>Obscene Article Tribunal Case</td>\n",
       "    </tr>\n",
       "    <tr>\n",
       "      <th>0</th>\n",
       "      <td>2016</td>\n",
       "      <td>https://legalref.judiciary.hk/lrs/common/ju/judgment.jsp?EX=T&amp;L1=ST&amp;L2=CC&amp;L3=2016&amp;AR=8_1#A8_1</td>\n",
       "      <td>Shatin Magistrate Court Charge Case</td>\n",
       "    </tr>\n",
       "    <tr>\n",
       "      <th>0</th>\n",
       "      <td>2012</td>\n",
       "      <td>https://legalref.judiciary.hk/lrs/common/ju/judgment.jsp?EX=T&amp;L1=SC&amp;L2=TC&amp;L3=2012&amp;AR=9_2#A9_2</td>\n",
       "      <td>Small Claim Tribunal Claim</td>\n",
       "    </tr>\n",
       "    <tr>\n",
       "      <th>1</th>\n",
       "      <td>2015</td>\n",
       "      <td>https://legalref.judiciary.hk/lrs/common/ju/judgment.jsp?EX=T&amp;L1=SC&amp;L2=TC&amp;L3=2015&amp;AR=9_1#A9_1</td>\n",
       "      <td>Small Claim Tribunal Claim</td>\n",
       "    </tr>\n",
       "    <tr>\n",
       "      <th>2</th>\n",
       "      <td>2001</td>\n",
       "      <td>https://legalref.judiciary.hk/lrs/common/ju/judgment.jsp?EX=T&amp;L1=SC&amp;L2=TC&amp;L3=2001&amp;AR=9_3#A9_3</td>\n",
       "      <td>Small Claim Tribunal Claim</td>\n",
       "    </tr>\n",
       "    <tr>\n",
       "      <th>0</th>\n",
       "      <td>2005</td>\n",
       "      <td>https://legalref.judiciary.hk/lrs/common/ju/judgment.jsp?EX=T&amp;L1=TM&amp;L2=CC&amp;L3=2005&amp;AR=10_1#A10_1</td>\n",
       "      <td>Tuen Mun Magistrate Court Charge Case</td>\n",
       "    </tr>\n",
       "    <tr>\n",
       "      <th>0</th>\n",
       "      <td>2017</td>\n",
       "      <td>https://legalref.judiciary.hk/lrs/common/ju/judgment.jsp?EX=T&amp;L1=WK&amp;L2=CC&amp;L3=2017&amp;AR=11_1#A11_1</td>\n",
       "      <td>West Kowloon Magistrate Court Charge Case</td>\n",
       "    </tr>\n",
       "  </tbody>\n",
       "</table>\n",
       "<p>490 rows × 3 columns</p>\n",
       "</div>"
      ],
      "text/plain": [
       "       year  \\\n",
       "0      2015   \n",
       "1      2013   \n",
       "2      2016   \n",
       "3      2018   \n",
       "4      2017   \n",
       "5      2014   \n",
       "6   Pre2013   \n",
       "0      2015   \n",
       "1      2013   \n",
       "2      2016   \n",
       "3      2018   \n",
       "4      2017   \n",
       "5      2014   \n",
       "6   Pre2013   \n",
       "0      2009   \n",
       "1      2004   \n",
       "2      2013   \n",
       "3      2010   \n",
       "4      2003   \n",
       "5      2014   \n",
       "0      2015   \n",
       "1      2019   \n",
       "2      2016   \n",
       "3      2017   \n",
       "4      2018   \n",
       "5      2014   \n",
       "6   Pre2014   \n",
       "0      2015   \n",
       "1      2019   \n",
       "2      2016   \n",
       "..      ...   \n",
       "3      2003   \n",
       "4      2005   \n",
       "0      2015   \n",
       "1      2009   \n",
       "2      2007   \n",
       "3      2006   \n",
       "4      2005   \n",
       "5      2014   \n",
       "6   Pre2005   \n",
       "0      2013   \n",
       "0      2018   \n",
       "1      2015   \n",
       "2      2011   \n",
       "3      2016   \n",
       "0      2013   \n",
       "1      2016   \n",
       "0      2017   \n",
       "1      2018   \n",
       "2      2002   \n",
       "3      2016   \n",
       "0      2013   \n",
       "0      2012   \n",
       "1      2008   \n",
       "0      2006   \n",
       "0      2016   \n",
       "0      2012   \n",
       "1      2015   \n",
       "2      2001   \n",
       "0      2005   \n",
       "0      2017   \n",
       "\n",
       "                                                                                           year_url  \\\n",
       "0      https://legalref.judiciary.hk/lrs/common/ju/judgment.jsp?EX=&L1=FA&L2=CV&L3=2015&AR=1_4#A1_4   \n",
       "1      https://legalref.judiciary.hk/lrs/common/ju/judgment.jsp?EX=&L1=FA&L2=CV&L3=2013&AR=1_6#A1_6   \n",
       "2      https://legalref.judiciary.hk/lrs/common/ju/judgment.jsp?EX=&L1=FA&L2=CV&L3=2016&AR=1_3#A1_3   \n",
       "3      https://legalref.judiciary.hk/lrs/common/ju/judgment.jsp?EX=&L1=FA&L2=CV&L3=2018&AR=1_1#A1_1   \n",
       "4      https://legalref.judiciary.hk/lrs/common/ju/judgment.jsp?EX=&L1=FA&L2=CV&L3=2017&AR=1_2#A1_2   \n",
       "5      https://legalref.judiciary.hk/lrs/common/ju/judgment.jsp?EX=&L1=FA&L2=CV&L3=2014&AR=1_5#A1_5   \n",
       "6                 https://legalref.judiciary.hk/lrs/common/ju/judgment.jsp?EX=T&L1=FA&L2=CV&AR=1#A1   \n",
       "0      https://legalref.judiciary.hk/lrs/common/ju/judgment.jsp?EX=&L1=FA&L2=CC&L3=2015&AR=2_4#A2_4   \n",
       "1      https://legalref.judiciary.hk/lrs/common/ju/judgment.jsp?EX=&L1=FA&L2=CC&L3=2013&AR=2_6#A2_6   \n",
       "2      https://legalref.judiciary.hk/lrs/common/ju/judgment.jsp?EX=&L1=FA&L2=CC&L3=2016&AR=2_3#A2_3   \n",
       "3      https://legalref.judiciary.hk/lrs/common/ju/judgment.jsp?EX=&L1=FA&L2=CC&L3=2018&AR=2_1#A2_1   \n",
       "4      https://legalref.judiciary.hk/lrs/common/ju/judgment.jsp?EX=&L1=FA&L2=CC&L3=2017&AR=2_2#A2_2   \n",
       "5      https://legalref.judiciary.hk/lrs/common/ju/judgment.jsp?EX=&L1=FA&L2=CC&L3=2014&AR=2_5#A2_5   \n",
       "6                 https://legalref.judiciary.hk/lrs/common/ju/judgment.jsp?EX=T&L1=FA&L2=CC&AR=2#A2   \n",
       "0     https://legalref.judiciary.hk/lrs/common/ju/judgment.jsp?EX=T&L1=FA&L2=MP&L3=2009&AR=3_4#A3_4   \n",
       "1     https://legalref.judiciary.hk/lrs/common/ju/judgment.jsp?EX=T&L1=FA&L2=MP&L3=2004&AR=3_5#A3_5   \n",
       "2     https://legalref.judiciary.hk/lrs/common/ju/judgment.jsp?EX=T&L1=FA&L2=MP&L3=2013&AR=3_2#A3_2   \n",
       "3     https://legalref.judiciary.hk/lrs/common/ju/judgment.jsp?EX=T&L1=FA&L2=MP&L3=2010&AR=3_3#A3_3   \n",
       "4     https://legalref.judiciary.hk/lrs/common/ju/judgment.jsp?EX=T&L1=FA&L2=MP&L3=2003&AR=3_6#A3_6   \n",
       "5     https://legalref.judiciary.hk/lrs/common/ju/judgment.jsp?EX=T&L1=FA&L2=MP&L3=2014&AR=3_1#A3_1   \n",
       "0      https://legalref.judiciary.hk/lrs/common/ju/judgment.jsp?EX=&L1=FA&L2=MV&L3=2015&AR=4_5#A4_5   \n",
       "1      https://legalref.judiciary.hk/lrs/common/ju/judgment.jsp?EX=&L1=FA&L2=MV&L3=2019&AR=4_1#A4_1   \n",
       "2      https://legalref.judiciary.hk/lrs/common/ju/judgment.jsp?EX=&L1=FA&L2=MV&L3=2016&AR=4_4#A4_4   \n",
       "3      https://legalref.judiciary.hk/lrs/common/ju/judgment.jsp?EX=&L1=FA&L2=MV&L3=2017&AR=4_3#A4_3   \n",
       "4      https://legalref.judiciary.hk/lrs/common/ju/judgment.jsp?EX=&L1=FA&L2=MV&L3=2018&AR=4_2#A4_2   \n",
       "5      https://legalref.judiciary.hk/lrs/common/ju/judgment.jsp?EX=&L1=FA&L2=MV&L3=2014&AR=4_6#A4_6   \n",
       "6                 https://legalref.judiciary.hk/lrs/common/ju/judgment.jsp?EX=T&L1=FA&L2=MV&AR=4#A4   \n",
       "0      https://legalref.judiciary.hk/lrs/common/ju/judgment.jsp?EX=&L1=FA&L2=MC&L3=2015&AR=5_5#A5_5   \n",
       "1      https://legalref.judiciary.hk/lrs/common/ju/judgment.jsp?EX=&L1=FA&L2=MC&L3=2019&AR=5_1#A5_1   \n",
       "2      https://legalref.judiciary.hk/lrs/common/ju/judgment.jsp?EX=&L1=FA&L2=MC&L3=2016&AR=5_4#A5_4   \n",
       "..                                                                                              ...   \n",
       "3   https://legalref.judiciary.hk/lrs/common/ju/judgment.jsp?EX=T&L1=LD&L2=RW&L3=2003&AR=18_4#A18_4   \n",
       "4   https://legalref.judiciary.hk/lrs/common/ju/judgment.jsp?EX=T&L1=LD&L2=RW&L3=2005&AR=18_2#A18_2   \n",
       "0    https://legalref.judiciary.hk/lrs/common/ju/judgment.jsp?EX=&L1=LD&L2=RA&L3=2015&AR=19_1#A19_1   \n",
       "1    https://legalref.judiciary.hk/lrs/common/ju/judgment.jsp?EX=&L1=LD&L2=RA&L3=2009&AR=19_3#A19_3   \n",
       "2    https://legalref.judiciary.hk/lrs/common/ju/judgment.jsp?EX=&L1=LD&L2=RA&L3=2007&AR=19_4#A19_4   \n",
       "3    https://legalref.judiciary.hk/lrs/common/ju/judgment.jsp?EX=&L1=LD&L2=RA&L3=2006&AR=19_5#A19_5   \n",
       "4    https://legalref.judiciary.hk/lrs/common/ju/judgment.jsp?EX=&L1=LD&L2=RA&L3=2005&AR=19_6#A19_6   \n",
       "5    https://legalref.judiciary.hk/lrs/common/ju/judgment.jsp?EX=&L1=LD&L2=RA&L3=2014&AR=19_2#A19_2   \n",
       "6               https://legalref.judiciary.hk/lrs/common/ju/judgment.jsp?EX=T&L1=LD&L2=RA&AR=19#A19   \n",
       "0     https://legalref.judiciary.hk/lrs/common/ju/judgment.jsp?EX=T&L1=CC&L2=DI&L3=2013&AR=1_1#A1_1   \n",
       "0     https://legalref.judiciary.hk/lrs/common/ju/judgment.jsp?EX=T&L1=ES&L2=CC&L3=2018&AR=2_1#A2_1   \n",
       "1     https://legalref.judiciary.hk/lrs/common/ju/judgment.jsp?EX=T&L1=ES&L2=CC&L3=2015&AR=2_3#A2_3   \n",
       "2     https://legalref.judiciary.hk/lrs/common/ju/judgment.jsp?EX=T&L1=ES&L2=CC&L3=2011&AR=2_4#A2_4   \n",
       "3     https://legalref.judiciary.hk/lrs/common/ju/judgment.jsp?EX=T&L1=ES&L2=CC&L3=2016&AR=2_2#A2_2   \n",
       "0      https://legalref.judiciary.hk/lrs/common/ju/judgment.jsp?EX=T&L1=ES&L2=S&L3=2013&AR=3_2#A3_2   \n",
       "1      https://legalref.judiciary.hk/lrs/common/ju/judgment.jsp?EX=T&L1=ES&L2=S&L3=2016&AR=3_1#A3_1   \n",
       "0     https://legalref.judiciary.hk/lrs/common/ju/judgment.jsp?EX=T&L1=KC&L2=CC&L3=2017&AR=4_2#A4_2   \n",
       "1     https://legalref.judiciary.hk/lrs/common/ju/judgment.jsp?EX=T&L1=KC&L2=CC&L3=2018&AR=4_1#A4_1   \n",
       "2     https://legalref.judiciary.hk/lrs/common/ju/judgment.jsp?EX=T&L1=KC&L2=CC&L3=2002&AR=4_4#A4_4   \n",
       "3     https://legalref.judiciary.hk/lrs/common/ju/judgment.jsp?EX=T&L1=KC&L2=CC&L3=2016&AR=4_3#A4_3   \n",
       "0      https://legalref.judiciary.hk/lrs/common/ju/judgment.jsp?EX=T&L1=KC&L2=S&L3=2013&AR=5_1#A5_1   \n",
       "0     https://legalref.judiciary.hk/lrs/common/ju/judgment.jsp?EX=T&L1=LB&L2=TC&L3=2012&AR=6_1#A6_1   \n",
       "1     https://legalref.judiciary.hk/lrs/common/ju/judgment.jsp?EX=T&L1=LB&L2=TC&L3=2008&AR=6_2#A6_2   \n",
       "0     https://legalref.judiciary.hk/lrs/common/ju/judgment.jsp?EX=T&L1=OA&L2=TD&L3=2006&AR=7_1#A7_1   \n",
       "0     https://legalref.judiciary.hk/lrs/common/ju/judgment.jsp?EX=T&L1=ST&L2=CC&L3=2016&AR=8_1#A8_1   \n",
       "0     https://legalref.judiciary.hk/lrs/common/ju/judgment.jsp?EX=T&L1=SC&L2=TC&L3=2012&AR=9_2#A9_2   \n",
       "1     https://legalref.judiciary.hk/lrs/common/ju/judgment.jsp?EX=T&L1=SC&L2=TC&L3=2015&AR=9_1#A9_1   \n",
       "2     https://legalref.judiciary.hk/lrs/common/ju/judgment.jsp?EX=T&L1=SC&L2=TC&L3=2001&AR=9_3#A9_3   \n",
       "0   https://legalref.judiciary.hk/lrs/common/ju/judgment.jsp?EX=T&L1=TM&L2=CC&L3=2005&AR=10_1#A10_1   \n",
       "0   https://legalref.judiciary.hk/lrs/common/ju/judgment.jsp?EX=T&L1=WK&L2=CC&L3=2017&AR=11_1#A11_1   \n",
       "\n",
       "                              sub_court_cleared  \n",
       "0                          Final Appeal (Civil)  \n",
       "1                          Final Appeal (Civil)  \n",
       "2                          Final Appeal (Civil)  \n",
       "3                          Final Appeal (Civil)  \n",
       "4                          Final Appeal (Civil)  \n",
       "5                          Final Appeal (Civil)  \n",
       "6                          Final Appeal (Civil)  \n",
       "0                       Final Appeal (Criminal)  \n",
       "1                       Final Appeal (Criminal)  \n",
       "2                       Final Appeal (Criminal)  \n",
       "3                       Final Appeal (Criminal)  \n",
       "4                       Final Appeal (Criminal)  \n",
       "5                       Final Appeal (Criminal)  \n",
       "6                       Final Appeal (Criminal)  \n",
       "0                       Miscellaneou Proceeding  \n",
       "1                       Miscellaneou Proceeding  \n",
       "2                       Miscellaneou Proceeding  \n",
       "3                       Miscellaneou Proceeding  \n",
       "4                       Miscellaneou Proceeding  \n",
       "5                       Miscellaneou Proceeding  \n",
       "0               Miscellaneou Proceeding (Civil)  \n",
       "1               Miscellaneou Proceeding (Civil)  \n",
       "2               Miscellaneou Proceeding (Civil)  \n",
       "3               Miscellaneou Proceeding (Civil)  \n",
       "4               Miscellaneou Proceeding (Civil)  \n",
       "5               Miscellaneou Proceeding (Civil)  \n",
       "6               Miscellaneou Proceeding (Civil)  \n",
       "0            Miscellaneou Proceeding (Criminal)  \n",
       "1            Miscellaneou Proceeding (Criminal)  \n",
       "2            Miscellaneou Proceeding (Criminal)  \n",
       "..                                          ...  \n",
       "3                 Railway Ordinance Application  \n",
       "4                 Railway Ordinance Application  \n",
       "0                                 Rating Appeal  \n",
       "1                                 Rating Appeal  \n",
       "2                                 Rating Appeal  \n",
       "3                                 Rating Appeal  \n",
       "4                                 Rating Appeal  \n",
       "5                                 Rating Appeal  \n",
       "6                                 Rating Appeal  \n",
       "0                   Coroner Court Death Inquest  \n",
       "0          Eastern Magistrate Court Charge Case  \n",
       "1          Eastern Magistrate Court Charge Case  \n",
       "2          Eastern Magistrate Court Charge Case  \n",
       "3          Eastern Magistrate Court Charge Case  \n",
       "0          Eastern Magistrate Court Summon Case  \n",
       "1          Eastern Magistrate Court Summon Case  \n",
       "0     Kowloon City Magistrate Court Charge Case  \n",
       "1     Kowloon City Magistrate Court Charge Case  \n",
       "2     Kowloon City Magistrate Court Charge Case  \n",
       "3     Kowloon City Magistrate Court Charge Case  \n",
       "0   Kowloon City Magistrates’ Court Summon Case  \n",
       "0                         Labour Tribunal Claim  \n",
       "1                         Labour Tribunal Claim  \n",
       "0                 Obscene Article Tribunal Case  \n",
       "0           Shatin Magistrate Court Charge Case  \n",
       "0                    Small Claim Tribunal Claim  \n",
       "1                    Small Claim Tribunal Claim  \n",
       "2                    Small Claim Tribunal Claim  \n",
       "0         Tuen Mun Magistrate Court Charge Case  \n",
       "0     West Kowloon Magistrate Court Charge Case  \n",
       "\n",
       "[490 rows x 3 columns]"
      ]
     },
     "execution_count": 20,
     "metadata": {},
     "output_type": "execute_result"
    }
   ],
   "source": [
    "dfs = []\n",
    "for sc in tqdm(df_all['sub_court_cleared']):\n",
    "    print('for sub_court: ',sc)\n",
    "    match = get_year_urls(sc, df_all, courts_set, urls_set)\n",
    "    dfs.append(match)\n",
    "    \n",
    "df_years = pd.concat(dfs, axis=0)\n",
    "print(df_years.shape)\n",
    "df_years"
   ]
  },
  {
   "cell_type": "code",
   "execution_count": 21,
   "metadata": {},
   "outputs": [
    {
     "data": {
      "text/html": [
       "<div>\n",
       "<style scoped>\n",
       "    .dataframe tbody tr th:only-of-type {\n",
       "        vertical-align: middle;\n",
       "    }\n",
       "\n",
       "    .dataframe tbody tr th {\n",
       "        vertical-align: top;\n",
       "    }\n",
       "\n",
       "    .dataframe thead th {\n",
       "        text-align: right;\n",
       "    }\n",
       "</style>\n",
       "<table border=\"1\" class=\"dataframe\">\n",
       "  <thead>\n",
       "    <tr style=\"text-align: right;\">\n",
       "      <th></th>\n",
       "      <th>year</th>\n",
       "      <th>year_url</th>\n",
       "      <th>sub_court_cleared</th>\n",
       "    </tr>\n",
       "  </thead>\n",
       "  <tbody>\n",
       "    <tr>\n",
       "      <th>0</th>\n",
       "      <td>2015</td>\n",
       "      <td>https://legalref.judiciary.hk/lrs/common/ju/judgment.jsp?EX=&amp;L1=FA&amp;L2=CV&amp;L3=2015&amp;AR=1_4#A1_4</td>\n",
       "      <td>Final Appeal (Civil)</td>\n",
       "    </tr>\n",
       "    <tr>\n",
       "      <th>1</th>\n",
       "      <td>2013</td>\n",
       "      <td>https://legalref.judiciary.hk/lrs/common/ju/judgment.jsp?EX=&amp;L1=FA&amp;L2=CV&amp;L3=2013&amp;AR=1_6#A1_6</td>\n",
       "      <td>Final Appeal (Civil)</td>\n",
       "    </tr>\n",
       "    <tr>\n",
       "      <th>2</th>\n",
       "      <td>2016</td>\n",
       "      <td>https://legalref.judiciary.hk/lrs/common/ju/judgment.jsp?EX=&amp;L1=FA&amp;L2=CV&amp;L3=2016&amp;AR=1_3#A1_3</td>\n",
       "      <td>Final Appeal (Civil)</td>\n",
       "    </tr>\n",
       "    <tr>\n",
       "      <th>3</th>\n",
       "      <td>2018</td>\n",
       "      <td>https://legalref.judiciary.hk/lrs/common/ju/judgment.jsp?EX=&amp;L1=FA&amp;L2=CV&amp;L3=2018&amp;AR=1_1#A1_1</td>\n",
       "      <td>Final Appeal (Civil)</td>\n",
       "    </tr>\n",
       "    <tr>\n",
       "      <th>4</th>\n",
       "      <td>2017</td>\n",
       "      <td>https://legalref.judiciary.hk/lrs/common/ju/judgment.jsp?EX=&amp;L1=FA&amp;L2=CV&amp;L3=2017&amp;AR=1_2#A1_2</td>\n",
       "      <td>Final Appeal (Civil)</td>\n",
       "    </tr>\n",
       "  </tbody>\n",
       "</table>\n",
       "</div>"
      ],
      "text/plain": [
       "   year  \\\n",
       "0  2015   \n",
       "1  2013   \n",
       "2  2016   \n",
       "3  2018   \n",
       "4  2017   \n",
       "\n",
       "                                                                                       year_url  \\\n",
       "0  https://legalref.judiciary.hk/lrs/common/ju/judgment.jsp?EX=&L1=FA&L2=CV&L3=2015&AR=1_4#A1_4   \n",
       "1  https://legalref.judiciary.hk/lrs/common/ju/judgment.jsp?EX=&L1=FA&L2=CV&L3=2013&AR=1_6#A1_6   \n",
       "2  https://legalref.judiciary.hk/lrs/common/ju/judgment.jsp?EX=&L1=FA&L2=CV&L3=2016&AR=1_3#A1_3   \n",
       "3  https://legalref.judiciary.hk/lrs/common/ju/judgment.jsp?EX=&L1=FA&L2=CV&L3=2018&AR=1_1#A1_1   \n",
       "4  https://legalref.judiciary.hk/lrs/common/ju/judgment.jsp?EX=&L1=FA&L2=CV&L3=2017&AR=1_2#A1_2   \n",
       "\n",
       "      sub_court_cleared  \n",
       "0  Final Appeal (Civil)  \n",
       "1  Final Appeal (Civil)  \n",
       "2  Final Appeal (Civil)  \n",
       "3  Final Appeal (Civil)  \n",
       "4  Final Appeal (Civil)  "
      ]
     },
     "execution_count": 21,
     "metadata": {},
     "output_type": "execute_result"
    }
   ],
   "source": [
    "df_years.index = range(len(df_years))\n",
    "df_years.head()"
   ]
  },
  {
   "cell_type": "code",
   "execution_count": 22,
   "metadata": {},
   "outputs": [
    {
     "data": {
      "text/plain": [
       "year                                                                                                            2017\n",
       "year_url             https://legalref.judiciary.hk/lrs/common/ju/judgment.jsp?EX=T&L1=WK&L2=CC&L3=2017&AR=11_1#A11_1\n",
       "sub_court_cleared                                                          West Kowloon Magistrate Court Charge Case\n",
       "Name: 489, dtype: object"
      ]
     },
     "execution_count": 22,
     "metadata": {},
     "output_type": "execute_result"
    }
   ],
   "source": [
    "df_years.loc[len(df_years)-1]"
   ]
  },
  {
   "cell_type": "code",
   "execution_count": 23,
   "metadata": {},
   "outputs": [],
   "source": [
    "# store data\n",
    "with open('data.pickle', 'wb') as ww:\n",
    "    pickle.dump(df_years, ww)\n"
   ]
  },
  {
   "cell_type": "code",
   "execution_count": 24,
   "metadata": {},
   "outputs": [],
   "source": [
    "f = open('data.pickle', 'rb')\n",
    "df_year = pickle.load(f)"
   ]
  },
  {
   "cell_type": "markdown",
   "metadata": {},
   "source": [
    "## Hiearchy 4: details"
   ]
  },
  {
   "cell_type": "code",
   "execution_count": 122,
   "metadata": {},
   "outputs": [
    {
     "data": {
      "text/plain": [
       "(442, 3)"
      ]
     },
     "execution_count": 122,
     "metadata": {},
     "output_type": "execute_result"
    }
   ],
   "source": [
    "# get df with \"Pre****\"\n",
    "idx = [i[:3]==\"Pre\" for i in list(df_years['year'])]\n",
    "df_special = df_years[idx]\n",
    "\n",
    "# get df without \"Pre****\"\n",
    "idx = [i[:3]!=\"Pre\" for i in list(df_years['year'])]\n",
    "df_regular = df_years[idx]\n",
    "df_regular.shape"
   ]
  },
  {
   "cell_type": "code",
   "execution_count": null,
   "metadata": {},
   "outputs": [
    {
     "name": "stderr",
     "output_type": "stream",
     "text": [
      "\r",
      "  0%|                                                  | 0/442 [00:00<?, ?it/s]"
     ]
    },
    {
     "name": "stdout",
     "output_type": "stream",
     "text": [
      "200\n",
      "this page has entries:  31\n"
     ]
    },
    {
     "name": "stderr",
     "output_type": "stream",
     "text": [
      "\r",
      "  0%|                                          | 1/442 [00:02<16:26,  2.24s/it]"
     ]
    },
    {
     "name": "stdout",
     "output_type": "stream",
     "text": [
      "200\n",
      "this page has entries:  33\n"
     ]
    },
    {
     "name": "stderr",
     "output_type": "stream",
     "text": [
      "\r",
      "  0%|▏                                         | 2/442 [00:04<16:19,  2.23s/it]"
     ]
    },
    {
     "name": "stdout",
     "output_type": "stream",
     "text": [
      "200\n",
      "this page has entries:  15\n"
     ]
    },
    {
     "name": "stderr",
     "output_type": "stream",
     "text": [
      "\r",
      "  1%|▎                                         | 3/442 [00:06<15:27,  2.11s/it]"
     ]
    },
    {
     "name": "stdout",
     "output_type": "stream",
     "text": [
      "200\n",
      "this page has entries:  16\n"
     ]
    },
    {
     "name": "stderr",
     "output_type": "stream",
     "text": [
      "\r",
      "  1%|▍                                         | 4/442 [00:08<14:47,  2.03s/it]"
     ]
    },
    {
     "name": "stdout",
     "output_type": "stream",
     "text": [
      "200\n",
      "this page has entries:  26\n"
     ]
    },
    {
     "name": "stderr",
     "output_type": "stream",
     "text": [
      "\r",
      "  1%|▍                                         | 5/442 [00:10<16:06,  2.21s/it]"
     ]
    },
    {
     "name": "stdout",
     "output_type": "stream",
     "text": [
      "200\n",
      "this page has entries:  17\n"
     ]
    },
    {
     "name": "stderr",
     "output_type": "stream",
     "text": [
      "\r",
      "  1%|▌                                         | 6/442 [00:12<15:29,  2.13s/it]"
     ]
    },
    {
     "name": "stdout",
     "output_type": "stream",
     "text": [
      "200\n",
      "this page has entries:  9\n"
     ]
    },
    {
     "name": "stderr",
     "output_type": "stream",
     "text": [
      "\r",
      "  2%|▋                                         | 7/442 [00:14<15:01,  2.07s/it]"
     ]
    },
    {
     "name": "stdout",
     "output_type": "stream",
     "text": [
      "200\n",
      "this page has entries:  13\n"
     ]
    },
    {
     "name": "stderr",
     "output_type": "stream",
     "text": [
      "\r",
      "  2%|▊                                         | 8/442 [00:16<14:27,  2.00s/it]"
     ]
    },
    {
     "name": "stdout",
     "output_type": "stream",
     "text": [
      "200\n",
      "this page has entries:  21\n"
     ]
    },
    {
     "name": "stderr",
     "output_type": "stream",
     "text": [
      "\r",
      "  2%|▊                                         | 9/442 [00:18<14:22,  1.99s/it]"
     ]
    },
    {
     "name": "stdout",
     "output_type": "stream",
     "text": [
      "200\n",
      "this page has entries:  24\n"
     ]
    },
    {
     "name": "stderr",
     "output_type": "stream",
     "text": [
      "\r",
      "  2%|▉                                      | 10/442 [00:46<1:09:42,  9.68s/it]"
     ]
    },
    {
     "name": "stdout",
     "output_type": "stream",
     "text": [
      "200\n",
      "this page has entries:  14\n"
     ]
    },
    {
     "name": "stderr",
     "output_type": "stream",
     "text": [
      "\r",
      "  2%|█                                        | 11/442 [00:47<52:44,  7.34s/it]"
     ]
    },
    {
     "name": "stdout",
     "output_type": "stream",
     "text": [
      "200\n",
      "this page has entries:  14\n"
     ]
    },
    {
     "name": "stderr",
     "output_type": "stream",
     "text": [
      "\r",
      "  3%|█                                        | 12/442 [00:49<40:31,  5.66s/it]"
     ]
    },
    {
     "name": "stdout",
     "output_type": "stream",
     "text": [
      "200\n",
      "this page has entries:  1\n"
     ]
    },
    {
     "name": "stderr",
     "output_type": "stream",
     "text": [
      "\r",
      "  3%|█▏                                       | 13/442 [00:51<31:45,  4.44s/it]"
     ]
    },
    {
     "name": "stdout",
     "output_type": "stream",
     "text": [
      "200\n",
      "this page has entries:  1\n"
     ]
    },
    {
     "name": "stderr",
     "output_type": "stream",
     "text": [
      "\r",
      "  3%|█▎                                       | 14/442 [00:54<28:53,  4.05s/it]"
     ]
    },
    {
     "name": "stdout",
     "output_type": "stream",
     "text": [
      "200\n",
      "this page has entries:  3\n"
     ]
    },
    {
     "name": "stderr",
     "output_type": "stream",
     "text": [
      "\r",
      "  3%|█▍                                       | 15/442 [00:57<26:35,  3.74s/it]"
     ]
    },
    {
     "name": "stdout",
     "output_type": "stream",
     "text": [
      "200\n",
      "this page has entries:  1\n"
     ]
    },
    {
     "name": "stderr",
     "output_type": "stream",
     "text": [
      "\r",
      "  4%|█▍                                       | 16/442 [00:59<22:08,  3.12s/it]"
     ]
    },
    {
     "name": "stdout",
     "output_type": "stream",
     "text": [
      "200\n",
      "this page has entries:  1\n"
     ]
    },
    {
     "name": "stderr",
     "output_type": "stream",
     "text": [
      "\r",
      "  4%|█▌                                       | 17/442 [01:00<19:21,  2.73s/it]"
     ]
    },
    {
     "name": "stdout",
     "output_type": "stream",
     "text": [
      "200\n",
      "this page has entries:  1\n"
     ]
    },
    {
     "name": "stderr",
     "output_type": "stream",
     "text": [
      "\r",
      "  4%|█▋                                       | 18/442 [01:02<16:55,  2.40s/it]"
     ]
    },
    {
     "name": "stdout",
     "output_type": "stream",
     "text": [
      "200\n",
      "this page has entries:  32\n"
     ]
    },
    {
     "name": "stderr",
     "output_type": "stream",
     "text": [
      "\r",
      "  4%|█▊                                       | 19/442 [01:05<17:30,  2.48s/it]"
     ]
    },
    {
     "name": "stdout",
     "output_type": "stream",
     "text": [
      "200\n",
      "this page has entries:  2\n"
     ]
    },
    {
     "name": "stderr",
     "output_type": "stream",
     "text": [
      "\r",
      "  5%|█▊                                       | 20/442 [01:07<16:49,  2.39s/it]"
     ]
    },
    {
     "name": "stdout",
     "output_type": "stream",
     "text": [
      "200\n",
      "this page has entries:  26\n"
     ]
    },
    {
     "name": "stderr",
     "output_type": "stream",
     "text": [
      "\r",
      "  5%|█▉                                       | 21/442 [01:09<15:54,  2.27s/it]"
     ]
    },
    {
     "name": "stdout",
     "output_type": "stream",
     "text": [
      "200\n",
      "this page has entries:  15\n"
     ]
    },
    {
     "name": "stderr",
     "output_type": "stream",
     "text": [
      "\r",
      "  5%|██                                       | 22/442 [01:11<15:08,  2.16s/it]"
     ]
    },
    {
     "name": "stdout",
     "output_type": "stream",
     "text": [
      "200\n",
      "this page has entries:  14\n"
     ]
    },
    {
     "name": "stderr",
     "output_type": "stream",
     "text": [
      "\r",
      "  5%|██▏                                      | 23/442 [01:13<14:43,  2.11s/it]"
     ]
    },
    {
     "name": "stdout",
     "output_type": "stream",
     "text": [
      "200\n",
      "this page has entries:  36\n"
     ]
    },
    {
     "name": "stderr",
     "output_type": "stream",
     "text": [
      "\r",
      "  5%|██▏                                      | 24/442 [01:15<14:34,  2.09s/it]"
     ]
    },
    {
     "name": "stdout",
     "output_type": "stream",
     "text": [
      "200\n",
      "this page has entries:  23\n"
     ]
    },
    {
     "name": "stderr",
     "output_type": "stream",
     "text": [
      "\r",
      "  6%|██▎                                      | 25/442 [01:17<14:20,  2.06s/it]"
     ]
    },
    {
     "name": "stdout",
     "output_type": "stream",
     "text": [
      "200\n",
      "this page has entries:  3\n"
     ]
    },
    {
     "name": "stderr",
     "output_type": "stream",
     "text": [
      "\r",
      "  6%|██▍                                      | 26/442 [01:19<13:31,  1.95s/it]"
     ]
    },
    {
     "name": "stdout",
     "output_type": "stream",
     "text": [
      "200\n",
      "this page has entries:  22\n"
     ]
    },
    {
     "name": "stderr",
     "output_type": "stream",
     "text": [
      "\r",
      "  6%|██▌                                      | 27/442 [01:20<13:16,  1.92s/it]"
     ]
    },
    {
     "name": "stdout",
     "output_type": "stream",
     "text": [
      "200\n",
      "this page has entries:  50\n"
     ]
    },
    {
     "name": "stderr",
     "output_type": "stream",
     "text": [
      "\r",
      "  6%|██▌                                      | 28/442 [01:23<14:08,  2.05s/it]"
     ]
    },
    {
     "name": "stdout",
     "output_type": "stream",
     "text": [
      "200\n",
      "this page has entries:  25\n"
     ]
    },
    {
     "name": "stderr",
     "output_type": "stream",
     "text": [
      "\r",
      "  7%|██▋                                      | 29/442 [01:34<33:49,  4.91s/it]"
     ]
    },
    {
     "name": "stdout",
     "output_type": "stream",
     "text": [
      "200\n",
      "this page has entries:  24\n"
     ]
    },
    {
     "name": "stderr",
     "output_type": "stream",
     "text": [
      "\r",
      "  7%|██▊                                      | 30/442 [01:36<27:28,  4.00s/it]"
     ]
    },
    {
     "name": "stdout",
     "output_type": "stream",
     "text": [
      "200\n",
      "this page has entries:  1\n"
     ]
    },
    {
     "name": "stderr",
     "output_type": "stream",
     "text": [
      "\r",
      "  7%|██▉                                      | 31/442 [01:38<22:32,  3.29s/it]"
     ]
    },
    {
     "name": "stdout",
     "output_type": "stream",
     "text": [
      "200\n",
      "this page has entries:  4\n"
     ]
    },
    {
     "name": "stderr",
     "output_type": "stream",
     "text": [
      "\r",
      "  7%|██▉                                      | 32/442 [01:41<22:26,  3.28s/it]"
     ]
    },
    {
     "name": "stdout",
     "output_type": "stream",
     "text": [
      "200\n",
      "this page has entries:  8\n"
     ]
    },
    {
     "name": "stderr",
     "output_type": "stream",
     "text": [
      "\r",
      "  7%|███                                      | 33/442 [01:43<19:08,  2.81s/it]"
     ]
    },
    {
     "name": "stdout",
     "output_type": "stream",
     "text": [
      "200\n",
      "this page has entries:  4\n"
     ]
    },
    {
     "name": "stderr",
     "output_type": "stream",
     "text": [
      "\r",
      "  8%|███▏                                     | 34/442 [01:44<16:47,  2.47s/it]"
     ]
    },
    {
     "name": "stdout",
     "output_type": "stream",
     "text": [
      "200\n",
      "this page has entries:  2\n"
     ]
    },
    {
     "name": "stderr",
     "output_type": "stream",
     "text": [
      "\r",
      "  8%|███▏                                     | 35/442 [01:47<16:09,  2.38s/it]"
     ]
    },
    {
     "name": "stdout",
     "output_type": "stream",
     "text": [
      "200\n",
      "this page has entries:  6\n"
     ]
    },
    {
     "name": "stderr",
     "output_type": "stream",
     "text": [
      "\r",
      "  8%|███▎                                     | 36/442 [01:49<15:11,  2.25s/it]"
     ]
    }
   ],
   "source": [
    "def get_detail(df):\n",
    "    dfs = [] # init\n",
    "    for (idx, r) in tqdm(df.iterrows(), total=len(df)):\n",
    "        data_onepage = [] # initialize\n",
    "        url = r['year_url'] \n",
    "        time.sleep(1)\n",
    "        root = url_to_root(url)\n",
    "\n",
    "        info = root.find('script', string=re.compile(\"var myMenu\")).text.split(\",[\")\n",
    "        B_s = [BeautifulSoup(i) for i in info]\n",
    "        for B in B_s:\n",
    "            try:\n",
    "                outcome = B.find('td', valign=\"top\", width=\"5%\").find('img')['src']\n",
    "                name = B.find('a', class_=\"ThemeXPRowAnchor\").text\n",
    "                \n",
    "                url = B.find('a', class_=\"ThemeXPRowAnchor\")['href']\n",
    "                url = url.split(',')[0]\n",
    "                detail_url = url[re.search(\"https\", url).span()[0]:-2]\n",
    "                date = B.find('font',color=\"#006633\").text\n",
    "                persons = B.find('td', valign=\"top\", width=\"55%\").text\n",
    "                data_onepage.append((outcome, name, detail_url, date, persons))\n",
    "            except AttributeError:\n",
    "                continue\n",
    "        \n",
    "        print('this page has entries: ', len(data_onepage))\n",
    "        # build DataFrame\n",
    "        df = pd.DataFrame(data_onepage, columns=['outcome', 'name', 'detail_url', 'date', 'persons'])\n",
    "        dfs.append(df)\n",
    "    df_detail = pd.concat(dfs, axis=0)\n",
    "    return df_detail        \n",
    "        \n",
    "df_detail = get_detail(df_regular)      "
   ]
  },
  {
   "cell_type": "code",
   "execution_count": null,
   "metadata": {},
   "outputs": [],
   "source": []
  },
  {
   "cell_type": "code",
   "execution_count": null,
   "metadata": {},
   "outputs": [],
   "source": []
  },
  {
   "cell_type": "code",
   "execution_count": null,
   "metadata": {},
   "outputs": [],
   "source": []
  },
  {
   "cell_type": "code",
   "execution_count": 187,
   "metadata": {},
   "outputs": [
    {
     "data": {
      "text/plain": [
       "\"\\\\'https://legalref.judiciary.hk/lrs/images/ThemeXP/Cpage.gif\\\\'\""
      ]
     },
     "execution_count": 187,
     "metadata": {},
     "output_type": "execute_result"
    }
   ],
   "source": [
    "B.find('td', valign=\"top\", width=\"5%\").find('img')['src']"
   ]
  },
  {
   "cell_type": "code",
   "execution_count": 188,
   "metadata": {},
   "outputs": [
    {
     "data": {
      "text/plain": [
       "'WKCC3654/2017'"
      ]
     },
     "execution_count": 188,
     "metadata": {},
     "output_type": "execute_result"
    }
   ],
   "source": [
    "B.find('a', class_=\"ThemeXPRowAnchor\").text"
   ]
  },
  {
   "cell_type": "code",
   "execution_count": 189,
   "metadata": {},
   "outputs": [
    {
     "data": {
      "text/plain": [
       "\"javascript:matchpop(\\\\'https://legalref.judiciary.hk/lrs/common/ju/ju_frame.jsp?DIS=121879\\\\',\\\\'matchpage\\\\');\""
      ]
     },
     "execution_count": 189,
     "metadata": {},
     "output_type": "execute_result"
    }
   ],
   "source": [
    "B.find('a', class_=\"ThemeXPRowAnchor\")['href']"
   ]
  },
  {
   "cell_type": "code",
   "execution_count": 192,
   "metadata": {},
   "outputs": [
    {
     "data": {
      "text/plain": [
       "\"javascript:matchpop(\\\\'https://legalref.judiciary.hk/lrs/common/ju/ju_frame.jsp?DIS=121879\\\\',\\\\'matchpage\\\\');\""
      ]
     },
     "execution_count": 192,
     "metadata": {},
     "output_type": "execute_result"
    }
   ],
   "source": [
    "url = B.find('a', class_=\"ThemeXPRowAnchor\")['href']\n",
    "url"
   ]
  },
  {
   "cell_type": "code",
   "execution_count": 191,
   "metadata": {},
   "outputs": [
    {
     "name": "stdout",
     "output_type": "stream",
     "text": [
      "javascript:matchpop(\\'https://legalref.judiciary.hk/lrs/common/ju/ju_frame.jsp?DIS=121879\\',\\'matchpage\\');\n",
      "javascript:matchpop(\\'https://legalref.judiciary.hk/lrs/common/ju/ju_frame.jsp?DIS=121879\\'\n"
     ]
    },
    {
     "data": {
      "text/plain": [
       "'https://legalref.judiciary.hk/lrs/common/ju/ju_frame.jsp?DIS=121879'"
      ]
     },
     "execution_count": 191,
     "metadata": {},
     "output_type": "execute_result"
    }
   ],
   "source": [
    "url = B.find('a', class_=\"ThemeXPRowAnchor\")['href']\n",
    "url = url.split(',')[0]\n",
    "url = url[re.search(\"https\", url).span()[0]:-2]"
   ]
  },
  {
   "cell_type": "code",
   "execution_count": 193,
   "metadata": {},
   "outputs": [
    {
     "data": {
      "text/plain": [
       "'(15/05/2019)'"
      ]
     },
     "execution_count": 193,
     "metadata": {},
     "output_type": "execute_result"
    }
   ],
   "source": [
    "B.find('font',color=\"#006633\").text"
   ]
  },
  {
   "cell_type": "code",
   "execution_count": 194,
   "metadata": {},
   "outputs": [
    {
     "data": {
      "text/plain": [
       "'香港特別行政區 訴 吳文遠及另六人 \\xa0'"
      ]
     },
     "execution_count": 194,
     "metadata": {},
     "output_type": "execute_result"
    }
   ],
   "source": [
    "B.find('td', valign=\"top\", width=\"55%\").text"
   ]
  },
  {
   "cell_type": "code",
   "execution_count": 59,
   "metadata": {},
   "outputs": [
    {
     "data": {
      "text/plain": [
       "<html><body><p>null, '</p><table border=\"\\'0\\'\" bordercolor=\"\\'#CCCCCC\\'\" cellpadding=\"\\'0\\'\" cellspacing=\"\\'0\\'\" width=\"\\'99%\\'\"><tr><td> <table bgcolor=\"#F7F5F0\" border=\"\\'1\\'\" bordercolor=\"\\'#CAB484\\'\" cellpadding=\"\\'2\\'\" cellspacing=\"\\'0\\'\" width=\"\\'100%\\'\"> <tr> <td valign=\"top\" width=\"5%\"><img alt=\"\\'Judgment\" english=\"\" in=\"\" src=\"\\'https://legalref.judiciary.hk/lrs/images/ThemeXP/Epage.gif\\'\"/></td> <td valign=\"top\" width=\"40%\"> <a class=\"ThemeXPRowAnchor\" href=\"javascript:matchpop(\\'https://legalref.judiciary.hk/lrs/common/ju/ju_frame.jsp?DIS=114838\\',\\'matchpage\\');\">FACV1/2018</a><br/>[2018] HKCFA 17<br/><font color=\"#006633\">(30/04/2018)</font><br/><img height=\"1\" src=\"\\'https://legalref.judiciary.hk/lrs/images/spacer.gif\\'\" width=\"142\"/></td> <td valign=\"top\" width=\"55%\">ABN AMRO BANK N.V. AND OTHERS v. QT  Reported in :<font color=\"#8C029B\">(2018) 21 HKCFAR 150</font><br/><img height=\"2\" src=\"\\'https://legalref.judiciary.hk/lrs/images/spacer.gif\\'\" width=\"348\"/></td> </tr></table></td></tr><tr><td><img height=\"2\" src=\"\\'https://legalref.judiciary.hk/lrs/images/spacer.gif\\'\"/></td></tr><tr><td></td></tr></table>',null,null,''</body></html>"
      ]
     },
     "execution_count": 59,
     "metadata": {},
     "output_type": "execute_result"
    }
   ],
   "source": [
    "[BeautifulSoup(i) for i in a][1]"
   ]
  },
  {
   "cell_type": "code",
   "execution_count": null,
   "metadata": {},
   "outputs": [],
   "source": []
  },
  {
   "cell_type": "code",
   "execution_count": 43,
   "metadata": {},
   "outputs": [
    {
     "data": {
      "text/plain": [
       "\"\\\\'matchpage\\\\');>FACV3/2018[2018] HKCFA 41(13/09/2018)\\tCHANG WA SHAN  v.  ESTHER CHAN PUI KWAN（陳佩君）also known as CHAN PUI CHUN（陳佩珍） \\xa0\\t'\""
      ]
     },
     "execution_count": 43,
     "metadata": {},
     "output_type": "execute_result"
    }
   ],
   "source": [
    "B = [BeautifulSoup(i, 'html5lib') for i in a if len(re.findall('matchpage', i))!=0][4]\n",
    "B.text"
   ]
  },
  {
   "cell_type": "code",
   "execution_count": 45,
   "metadata": {},
   "outputs": [
    {
     "data": {
      "text/plain": [
       "\"\\\\'matchpage\\\\');>FACV1/2018</a><BR>[2018] HKCFA 28<BR><font color=#006633>(04/07/2018)</font><BR><img src=\\\\'https://legalref.judiciary.hk/lrs/images/spacer.gif\\\\' height=1 width=142></td>\\t<td  valign=top width=55% >DIRECTOR OF IMMIGRATION v. QT &nbsp;Reported in :<font color=#8C029B>(2018) 21 HKCFAR 324</font><BR><img src=\\\\'https://legalref.judiciary.hk/lrs/images/spacer.gif\\\\' height=2 width=348></td>\\t</tr></table></td></tr><tr><TD><img src=\\\\'https://legalref.judiciary.hk/lrs/images/spacer.gif\\\\' height=2 ></td></tr><tr><TD></TD></tr></table>'\""
      ]
     },
     "execution_count": 45,
     "metadata": {},
     "output_type": "execute_result"
    }
   ],
   "source": [
    "B = [i for i in a if len(re.findall('matchpage', i))!=0][0]\n",
    "B"
   ]
  },
  {
   "cell_type": "code",
   "execution_count": 41,
   "metadata": {},
   "outputs": [
    {
     "data": {
      "text/plain": [
       "\"\\\\'matchpage\\\\');>FACV1/2018[2018] HKCFA 28(04/07/2018)\\tDIRECTOR OF IMMIGRATION v. QT \\xa0Reported in :(2018) 21 HKCFAR 324\\t'\""
      ]
     },
     "execution_count": 41,
     "metadata": {},
     "output_type": "execute_result"
    }
   ],
   "source": [
    "B.text"
   ]
  },
  {
   "cell_type": "code",
   "execution_count": 32,
   "metadata": {},
   "outputs": [
    {
     "data": {
      "text/plain": [
       "<td valign=\"top\" width=\"55%\">DIRECTOR OF IMMIGRATION v. QT  Reported in :<font color=\"#8C029B\">(2018) 21 HKCFAR 324</font><br/><img height=\"2\" src=\"\\'https://legalref.judiciary.hk/lrs/images/spacer.gif\\'\" width=\"348\"/></td>"
      ]
     },
     "execution_count": 32,
     "metadata": {},
     "output_type": "execute_result"
    }
   ],
   "source": [
    "B.find('td')"
   ]
  },
  {
   "cell_type": "code",
   "execution_count": 34,
   "metadata": {},
   "outputs": [
    {
     "data": {
      "text/plain": [
       "\"\\\\'https://legalref.judiciary.hk/lrs/images/spacer.gif\\\\'\""
      ]
     },
     "execution_count": 34,
     "metadata": {},
     "output_type": "execute_result"
    }
   ],
   "source": [
    "B.find('td').find('img')['src']"
   ]
  },
  {
   "cell_type": "code",
   "execution_count": 35,
   "metadata": {},
   "outputs": [
    {
     "ename": "AttributeError",
     "evalue": "'NoneType' object has no attribute 'text'",
     "output_type": "error",
     "traceback": [
      "\u001b[1;31m---------------------------------------------------------------------------\u001b[0m",
      "\u001b[1;31mAttributeError\u001b[0m                            Traceback (most recent call last)",
      "\u001b[1;32m<ipython-input-35-49d07200d797>\u001b[0m in \u001b[0;36m<module>\u001b[1;34m\u001b[0m\n\u001b[1;32m----> 1\u001b[1;33m \u001b[0mB\u001b[0m\u001b[1;33m.\u001b[0m\u001b[0mfind\u001b[0m\u001b[1;33m(\u001b[0m\u001b[1;34m'td'\u001b[0m\u001b[1;33m)\u001b[0m\u001b[1;33m.\u001b[0m\u001b[0mfind\u001b[0m\u001b[1;33m(\u001b[0m\u001b[1;34m'a'\u001b[0m\u001b[1;33m)\u001b[0m\u001b[1;33m.\u001b[0m\u001b[0mtext\u001b[0m\u001b[1;33m\u001b[0m\u001b[1;33m\u001b[0m\u001b[0m\n\u001b[0m",
      "\u001b[1;31mAttributeError\u001b[0m: 'NoneType' object has no attribute 'text'"
     ]
    }
   ],
   "source": [
    "B.find('td').find('a').text"
   ]
  },
  {
   "cell_type": "code",
   "execution_count": 284,
   "metadata": {},
   "outputs": [
    {
     "data": {
      "text/plain": [
       "<font color=\"#006633\">(07/07/2014)</font>"
      ]
     },
     "execution_count": 284,
     "metadata": {},
     "output_type": "execute_result"
    }
   ],
   "source": [
    "B.find('td').find('font')"
   ]
  },
  {
   "cell_type": "code",
   "execution_count": 290,
   "metadata": {},
   "outputs": [
    {
     "data": {
      "text/plain": [
       "'律政司司長 訴 林裕偉  \\xa0Reported in :[2015] 1 HKLRD 393'"
      ]
     },
     "execution_count": 290,
     "metadata": {},
     "output_type": "execute_result"
    }
   ],
   "source": [
    "B.find('td').find('font').find_next('td').text"
   ]
  },
  {
   "cell_type": "code",
   "execution_count": 285,
   "metadata": {},
   "outputs": [
    {
     "data": {
      "text/plain": [
       "<td> <table bgcolor=\"#F7F5F0\" border=\"\\'1\\'\" bordercolor=\"\\'#CAB484\\'\" cellpadding=\"\\'2\\'\" cellspacing=\"\\'0\\'\" width=\"\\'100%\\'\"> <tr> <td valign=\"top\" width=\"5%\"><img alt=\"\\'Judgment\" chinese=\"\" english=\"\" in=\"\" src=\"\\'https://legalref.judiciary.hk/lrs/images/ThemeXP/CTpage.gif\\'\" traditional=\"\" translation=\"\" with=\"\"/></td> <td valign=\"top\" width=\"40%\"> <a class=\"ThemeXPRowAnchor\" href=\"javascript:matchpop(\\'https://legalref.judiciary.hk/lrs/common/ju/ju_frame.jsp?DIS=93798\\',\\'matchpage\\');\">CAAR2/2014</a><br/><font color=\"#006633\">(07/07/2014)</font><br/><img height=\"1\" src=\"\\'https://legalref.judiciary.hk/lrs/images/spacer.gif\\'\" width=\"142\"/></td> <td class=\"\\'chinesefont\\'\" valign=\"top\" width=\"55%\">律政司司長 訴 林裕偉 <img src=\"\\'/lrs/images/ThemeXP/star.gif\\'\"/>  Reported in :<font color=\"#8C029B\">[2015] 1 HKLRD 393</font><br/><img height=\"2\" src=\"\\'https://legalref.judiciary.hk/lrs/images/spacer.gif\\'\" width=\"348\"/></td> </tr></table></td>"
      ]
     },
     "execution_count": 285,
     "metadata": {},
     "output_type": "execute_result"
    }
   ],
   "source": [
    "B.find('td')"
   ]
  }
 ],
 "metadata": {
  "kernelspec": {
   "display_name": "Python 3",
   "language": "python",
   "name": "python3"
  },
  "language_info": {
   "codemirror_mode": {
    "name": "ipython",
    "version": 3
   },
   "file_extension": ".py",
   "mimetype": "text/x-python",
   "name": "python",
   "nbconvert_exporter": "python",
   "pygments_lexer": "ipython3",
   "version": "3.7.1"
  }
 },
 "nbformat": 4,
 "nbformat_minor": 2
}
