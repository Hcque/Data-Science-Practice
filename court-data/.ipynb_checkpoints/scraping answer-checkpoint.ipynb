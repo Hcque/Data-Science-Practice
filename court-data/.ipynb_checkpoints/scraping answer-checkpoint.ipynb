{
 "cells": [
  {
   "cell_type": "code",
   "execution_count": 1,
   "metadata": {},
   "outputs": [],
   "source": [
    "import requests\n",
    "import json\n",
    "import time\n",
    "from bs4 import BeautifulSoup, Comment\n",
    "import IPython.display as display\n",
    "import pickle\n",
    "import pandas as pd\n",
    "pd.set_option('max_colwidth',1000)\n",
    "import re\n",
    "from tqdm import tqdm"
   ]
  },
  {
   "cell_type": "markdown",
   "metadata": {},
   "source": [
    "## Start with original url"
   ]
  },
  {
   "cell_type": "code",
   "execution_count": 32,
   "metadata": {},
   "outputs": [],
   "source": [
    "def url_to_root(url):\n",
    "    headers = {'Accept-Encoding': 'identity',\n",
    "               'User-Agent': 'Mozilla/5.0 (Macintosh; Intel Mac OS X 10_10_3) AppleWebKit/537.36 (KHTML, like Gecko) Chrome/54.0.2840.71 Safari/537.36'\n",
    "                }\n",
    "    response = requests.get(url, headers=headers, timeout=5)\n",
    "#     print(response.status_code)\n",
    "    \n",
    "    root = BeautifulSoup(response.text, 'html5lib')\n",
    "    return root\n",
    "\n",
    "original_url = 'https://legalref.judiciary.hk/lrs/common/ju/judgment.jsp'\n",
    "root = url_to_root(original_url)"
   ]
  },
  {
   "cell_type": "markdown",
   "metadata": {},
   "source": [
    "## Hieachy 1: parent court categories"
   ]
  },
  {
   "cell_type": "code",
   "execution_count": 33,
   "metadata": {},
   "outputs": [
    {
     "data": {
      "text/plain": [
       "{'Court of Final Appeal': 'https://legalref.judiciary.hk/lrs/common/ju/judgment.jsp?L1=FA#H1',\n",
       " 'Court of Appeal of the High Court': 'https://legalref.judiciary.hk/lrs/common/ju/judgment.jsp?L1=CA#H2',\n",
       " 'High Court': 'https://legalref.judiciary.hk/lrs/common/ju/judgment.jsp?L1=HC#H3',\n",
       " 'Competition Tribunal': 'https://legalref.judiciary.hk/lrs/common/ju/judgment.jsp?L1=CT#H4',\n",
       " 'District Court': 'https://legalref.judiciary.hk/lrs/common/ju/judgment.jsp?L1=DC#H5',\n",
       " 'Family Court': 'https://legalref.judiciary.hk/lrs/common/ju/judgment.jsp?L1=FC#H6',\n",
       " 'Lands Tribunal': 'https://legalref.judiciary.hk/lrs/common/ju/judgment.jsp?L1=LD#H7',\n",
       " 'Miscellaneous': 'https://legalref.judiciary.hk/lrs/common/ju/judgment.jsp?L1=OT#H8'}"
      ]
     },
     "execution_count": 33,
     "metadata": {},
     "output_type": "execute_result"
    }
   ],
   "source": [
    "def parse_courts(root):\n",
    "    \"\"\"Parse the info of parent courts.\n",
    "    Args:\n",
    "        root : BeautifulSoup Object\n",
    "    Return:\n",
    "        courts_dict (dict): court -> url\n",
    "    \"\"\"\n",
    "    # get all raw infomation about courts (looks urgly)\n",
    "    info_list = root.find('script', string=re.compile(\"var myMenu\")).text.split(\"'\")\n",
    "    # find the parent courts' name inside 'span' tag\n",
    "    courts_list = [BeautifulSoup(i).find('span').text.strip(\" \") for i in info_list if i[1:5]=='span']\n",
    "    # find corresponding urls of parents courts(order matters here)\n",
    "    courts_urls = [j for j in info_list if j[:5]=='https']\n",
    "    # store to dict\n",
    "    courts_dict = {i:j for i, j in zip(courts_list, courts_urls)}\n",
    "    return courts_dict\n",
    "\n",
    "courts = parse_courts(root)\n",
    "courts"
   ]
  },
  {
   "cell_type": "code",
   "execution_count": 34,
   "metadata": {},
   "outputs": [
    {
     "data": {
      "text/html": [
       "<div>\n",
       "<style scoped>\n",
       "    .dataframe tbody tr th:only-of-type {\n",
       "        vertical-align: middle;\n",
       "    }\n",
       "\n",
       "    .dataframe tbody tr th {\n",
       "        vertical-align: top;\n",
       "    }\n",
       "\n",
       "    .dataframe thead th {\n",
       "        text-align: right;\n",
       "    }\n",
       "</style>\n",
       "<table border=\"1\" class=\"dataframe\">\n",
       "  <thead>\n",
       "    <tr style=\"text-align: right;\">\n",
       "      <th></th>\n",
       "      <th>parent_court</th>\n",
       "      <th>parent_court_url</th>\n",
       "    </tr>\n",
       "  </thead>\n",
       "  <tbody>\n",
       "    <tr>\n",
       "      <th>0</th>\n",
       "      <td>Court of Final Appeal</td>\n",
       "      <td>https://legalref.judiciary.hk/lrs/common/ju/judgment.jsp?L1=FA#H1</td>\n",
       "    </tr>\n",
       "    <tr>\n",
       "      <th>1</th>\n",
       "      <td>Court of Appeal of the High Court</td>\n",
       "      <td>https://legalref.judiciary.hk/lrs/common/ju/judgment.jsp?L1=CA#H2</td>\n",
       "    </tr>\n",
       "    <tr>\n",
       "      <th>2</th>\n",
       "      <td>High Court</td>\n",
       "      <td>https://legalref.judiciary.hk/lrs/common/ju/judgment.jsp?L1=HC#H3</td>\n",
       "    </tr>\n",
       "    <tr>\n",
       "      <th>3</th>\n",
       "      <td>Competition Tribunal</td>\n",
       "      <td>https://legalref.judiciary.hk/lrs/common/ju/judgment.jsp?L1=CT#H4</td>\n",
       "    </tr>\n",
       "    <tr>\n",
       "      <th>4</th>\n",
       "      <td>District Court</td>\n",
       "      <td>https://legalref.judiciary.hk/lrs/common/ju/judgment.jsp?L1=DC#H5</td>\n",
       "    </tr>\n",
       "    <tr>\n",
       "      <th>5</th>\n",
       "      <td>Family Court</td>\n",
       "      <td>https://legalref.judiciary.hk/lrs/common/ju/judgment.jsp?L1=FC#H6</td>\n",
       "    </tr>\n",
       "    <tr>\n",
       "      <th>6</th>\n",
       "      <td>Lands Tribunal</td>\n",
       "      <td>https://legalref.judiciary.hk/lrs/common/ju/judgment.jsp?L1=LD#H7</td>\n",
       "    </tr>\n",
       "    <tr>\n",
       "      <th>7</th>\n",
       "      <td>Miscellaneous</td>\n",
       "      <td>https://legalref.judiciary.hk/lrs/common/ju/judgment.jsp?L1=OT#H8</td>\n",
       "    </tr>\n",
       "  </tbody>\n",
       "</table>\n",
       "</div>"
      ],
      "text/plain": [
       "                        parent_court  \\\n",
       "0              Court of Final Appeal   \n",
       "1  Court of Appeal of the High Court   \n",
       "2                         High Court   \n",
       "3               Competition Tribunal   \n",
       "4                     District Court   \n",
       "5                       Family Court   \n",
       "6                     Lands Tribunal   \n",
       "7                      Miscellaneous   \n",
       "\n",
       "                                                    parent_court_url  \n",
       "0  https://legalref.judiciary.hk/lrs/common/ju/judgment.jsp?L1=FA#H1  \n",
       "1  https://legalref.judiciary.hk/lrs/common/ju/judgment.jsp?L1=CA#H2  \n",
       "2  https://legalref.judiciary.hk/lrs/common/ju/judgment.jsp?L1=HC#H3  \n",
       "3  https://legalref.judiciary.hk/lrs/common/ju/judgment.jsp?L1=CT#H4  \n",
       "4  https://legalref.judiciary.hk/lrs/common/ju/judgment.jsp?L1=DC#H5  \n",
       "5  https://legalref.judiciary.hk/lrs/common/ju/judgment.jsp?L1=FC#H6  \n",
       "6  https://legalref.judiciary.hk/lrs/common/ju/judgment.jsp?L1=LD#H7  \n",
       "7  https://legalref.judiciary.hk/lrs/common/ju/judgment.jsp?L1=OT#H8  "
      ]
     },
     "execution_count": 34,
     "metadata": {},
     "output_type": "execute_result"
    }
   ],
   "source": [
    "df_courts = pd.DataFrame([(k,v) for k,v in courts.items()], columns=['parent_court', 'parent_court_url'])\n",
    "df_courts"
   ]
  },
  {
   "cell_type": "markdown",
   "metadata": {},
   "source": [
    "## Hieachy 2: sub courts"
   ]
  },
  {
   "cell_type": "code",
   "execution_count": 35,
   "metadata": {},
   "outputs": [],
   "source": [
    "# test case\n",
    "url = 'https://legalref.judiciary.hk/lrs/common/ju/judgment.jsp?L1=DC#H5'\n",
    "root = url_to_root(url)\n",
    "        \n",
    "# get raw infomation\n",
    "info_list = root.find('script', string=re.compile(\"var myMenu\")).text.split(\",\")"
   ]
  },
  {
   "cell_type": "code",
   "execution_count": 36,
   "metadata": {},
   "outputs": [
    {
     "data": {
      "text/plain": [
       "{'Competition Tribunal',\n",
       " 'Court of Appeal of the High Court',\n",
       " 'Court of Final Appeal',\n",
       " 'District Court',\n",
       " 'Family Court',\n",
       " 'High Court',\n",
       " 'Lands Tribunal',\n",
       " 'Miscellaneous'}"
      ]
     },
     "execution_count": 36,
     "metadata": {},
     "output_type": "execute_result"
    }
   ],
   "source": [
    "parent_courts_set = set(df_courts['parent_court'])\n",
    "parent_courts_set"
   ]
  },
  {
   "cell_type": "code",
   "execution_count": 37,
   "metadata": {},
   "outputs": [
    {
     "data": {
      "text/plain": [
       "['Civil Action',\n",
       " 'Criminal Case',\n",
       " 'Distraint Case',\n",
       " 'District Court Tax Claim',\n",
       " 'Employee Compensation Case',\n",
       " 'Equal Opportunitie Action',\n",
       " 'Intended Action',\n",
       " 'Miscellaneou Proceeding',\n",
       " 'Occupational Deafne (Compensation) Appeal',\n",
       " 'Personal Injurie Action',\n",
       " 'Stamp Duty Appeal']"
      ]
     },
     "execution_count": 37,
     "metadata": {},
     "output_type": "execute_result"
    }
   ],
   "source": [
    "def clear_name(a):\n",
    "    ans = ' '.join([i.strip(\"\\\\s'\")for i in a.split(\" \")])\n",
    "    return ans\n",
    "\n",
    "parent_courts_set = set(df_courts['parent_court'])\n",
    "now = set([BeautifulSoup(i.strip(\"' \")).text.strip(\" \") for i in info_list if len(re.findall('<a name=', i))!=0])\n",
    "sub_courts = sorted(list(now - parent_courts_set))\n",
    "sub_courts = [clear_name(s) for s in sub_courts]\n",
    "sub_courts"
   ]
  },
  {
   "cell_type": "code",
   "execution_count": 38,
   "metadata": {},
   "outputs": [
    {
     "name": "stdout",
     "output_type": "stream",
     "text": [
      "subcourts: 5\n",
      "urls: 5\n",
      "dict length:  5\n",
      "subcourts: 6\n",
      "urls: 6\n",
      "dict length:  6\n",
      "subcourts: 31\n",
      "urls: 31\n",
      "dict length:  31\n",
      "subcourts: 2\n",
      "urls: 2\n",
      "dict length:  2\n",
      "subcourts: 11\n",
      "urls: 11\n",
      "dict length:  11\n",
      "subcourts: 3\n",
      "urls: 3\n",
      "dict length:  3\n",
      "subcourts: 19\n",
      "urls: 19\n",
      "dict length:  19\n",
      "subcourts: 11\n",
      "urls: 11\n",
      "dict length:  11\n"
     ]
    },
    {
     "data": {
      "text/plain": [
       "{'Court of Final Appeal': {'Final Appeal (Civil)': ('Final Appeal (Civil)',\n",
       "   'https://legalref.judiciary.hk/lrs/common/ju/judgment.jsp?L1=FA&L2=CV&AR=1#A1'),\n",
       "  'Final Appeal (Criminal)': ('Final Appeal (Criminal)',\n",
       "   'https://legalref.judiciary.hk/lrs/common/ju/judgment.jsp?L1=FA&L2=CC&AR=2#A2'),\n",
       "  'Miscellaneous Proceedings': ('Miscellaneou Proceeding',\n",
       "   'https://legalref.judiciary.hk/lrs/common/ju/judgment.jsp?L1=FA&L2=MP&AR=3#A3'),\n",
       "  'Miscellaneous Proceedings (Civil)': ('Miscellaneou Proceeding (Civil)',\n",
       "   'https://legalref.judiciary.hk/lrs/common/ju/judgment.jsp?L1=FA&L2=MV&AR=4#A4'),\n",
       "  'Miscellaneous Proceedings (Criminal)': ('Miscellaneou Proceeding (Criminal)',\n",
       "   'https://legalref.judiciary.hk/lrs/common/ju/judgment.jsp?L1=FA&L2=MC&AR=5#A5')},\n",
       " 'Court of Appeal of the High Court': {'Application for Review': ('Application for Review',\n",
       "   'https://legalref.judiciary.hk/lrs/common/ju/judgment.jsp?L1=CA&L2=AR&AR=1#A1'),\n",
       "  \"Attorney General\\\\'s Reference\": ('Attorney General Reference',\n",
       "   'https://legalref.judiciary.hk/lrs/common/ju/judgment.jsp?L1=CA&L2=AG&AR=2#A2'),\n",
       "  'Civil Appeal': ('Civil Appeal',\n",
       "   'https://legalref.judiciary.hk/lrs/common/ju/judgment.jsp?L1=CA&L2=CV&AR=3#A3'),\n",
       "  'Criminal Appeal': ('Criminal Appeal',\n",
       "   'https://legalref.judiciary.hk/lrs/common/ju/judgment.jsp?L1=CA&L2=CC&AR=4#A4'),\n",
       "  'Miscellaneous Proceedings': ('Miscellaneou Proceeding',\n",
       "   'https://legalref.judiciary.hk/lrs/common/ju/judgment.jsp?L1=CA&L2=MP&AR=5#A5'),\n",
       "  'Reservation of Question of Law': ('Reservation of Question of Law',\n",
       "   'https://legalref.judiciary.hk/lrs/common/ju/judgment.jsp?L1=CA&L2=QL&AR=6#A6')},\n",
       " 'High Court': {'Admiralty Action': ('Admiralty Action',\n",
       "   'https://legalref.judiciary.hk/lrs/common/ju/judgment.jsp?L1=HC&L2=AJ&AR=1#A1'),\n",
       "  'Adoption Application': ('Adoption Application',\n",
       "   'https://legalref.judiciary.hk/lrs/common/ju/judgment.jsp?L1=HC&L2=AD&AR=2#A2'),\n",
       "  'Application for Grant': ('Application for Grant',\n",
       "   'https://legalref.judiciary.hk/lrs/common/ju/judgment.jsp?L1=HC&L2=AG&AR=3#A3'),\n",
       "  'Application to set aside a Statutory Demand (under Bankruptcy Ordinance)': ('Application to et aside a Statutory Demand (under Bankruptcy Ordinance)',\n",
       "   'https://legalref.judiciary.hk/lrs/common/ju/judgment.jsp?L1=HC&L2=SD&AR=4#A4'),\n",
       "  'Applications under the Mental Health Ordinance': ('Application under the Mental Health Ordinance',\n",
       "   'https://legalref.judiciary.hk/lrs/common/ju/judgment.jsp?L1=HC&L2=MH&AR=5#A5'),\n",
       "  'Bankruptcy Proceedings': ('Bankruptcy Proceeding',\n",
       "   'https://legalref.judiciary.hk/lrs/common/ju/judgment.jsp?L1=HC&L2=B&AR=6#A6'),\n",
       "  'Caveat': ('Caveat',\n",
       "   'https://legalref.judiciary.hk/lrs/common/ju/judgment.jsp?L1=HC&L2=CA&AR=7#A7'),\n",
       "  'Citation Application': ('Citation Application',\n",
       "   'https://legalref.judiciary.hk/lrs/common/ju/judgment.jsp?L1=HC&L2=CI&AR=8#A8'),\n",
       "  'Civil Action': ('Civil Action',\n",
       "   'https://legalref.judiciary.hk/lrs/common/ju/judgment.jsp?L1=HC&L2=A&AR=9#A9'),\n",
       "  'Commercial Action': ('Commercial Action',\n",
       "   'https://legalref.judiciary.hk/lrs/common/ju/judgment.jsp?L1=HC&L2=CL&AR=10#A10'),\n",
       "  'Companies Winding-up Proceedings': ('Companie Winding-up Proceeding',\n",
       "   'https://legalref.judiciary.hk/lrs/common/ju/judgment.jsp?L1=HC&L2=CW&AR=11#A11'),\n",
       "  'Confidential Miscellaneous Proceedings': ('Confidential Miscellaneou Proceeding',\n",
       "   'https://legalref.judiciary.hk/lrs/common/ju/judgment.jsp?L1=HC&L2=CM&AR=12#A12'),\n",
       "  'Constitutional and Administrative Law Proceedings': ('Constitutional and Administrative Law Proceeding',\n",
       "   'https://legalref.judiciary.hk/lrs/common/ju/judgment.jsp?L1=HC&L2=AL&AR=13#A13'),\n",
       "  'Construction and Arbitration Proceedings': ('Construction and Arbitration Proceeding',\n",
       "   'https://legalref.judiciary.hk/lrs/common/ju/judgment.jsp?L1=HC&L2=CT&AR=14#A14'),\n",
       "  'Criminal Case': ('Criminal Case',\n",
       "   'https://legalref.judiciary.hk/lrs/common/ju/judgment.jsp?L1=HC&L2=CC&AR=15#A15'),\n",
       "  'Estate Duty Appeal': ('Estate Duty Appeal',\n",
       "   'https://legalref.judiciary.hk/lrs/common/ju/judgment.jsp?L1=HC&L2=ED&AR=16#A16'),\n",
       "  'Ex-parte Application': ('Ex-parte Application',\n",
       "   'https://legalref.judiciary.hk/lrs/common/ju/judgment.jsp?L1=HC&L2=EA&AR=17#A17'),\n",
       "  'High Court Bankruptcy Interim Order': ('High Court Bankruptcy Interim Order',\n",
       "   'https://legalref.judiciary.hk/lrs/common/ju/judgment.jsp?L1=HC&L2=BI&AR=18#A18'),\n",
       "  'Inland Revenue Appeal': ('Inland Revenue Appeal',\n",
       "   'https://legalref.judiciary.hk/lrs/common/ju/judgment.jsp?L1=HC&L2=IA&AR=19#A19'),\n",
       "  'Intended Action': ('Intended Action',\n",
       "   'https://legalref.judiciary.hk/lrs/common/ju/judgment.jsp?L1=HC&L2=ZZ&AR=20#A20'),\n",
       "  'Labour Tribunal Appeal': ('Labour Tribunal Appeal',\n",
       "   'https://legalref.judiciary.hk/lrs/common/ju/judgment.jsp?L1=HC&L2=LA&AR=21#A21'),\n",
       "  'Legal Aid Appeal': ('Legal Aid Appeal',\n",
       "   'https://legalref.judiciary.hk/lrs/common/ju/judgment.jsp?L1=HC&L2=AA&AR=22#A22'),\n",
       "  'Magistracy Appeal': ('Magistracy Appeal',\n",
       "   'https://legalref.judiciary.hk/lrs/common/ju/judgment.jsp?L1=HC&L2=MA&AR=23#A23'),\n",
       "  'Matrimonial Causes': ('Matrimonial Cause',\n",
       "   'https://legalref.judiciary.hk/lrs/common/ju/judgment.jsp?L1=HC&L2=MC&AR=24#A24'),\n",
       "  'Minor Employment Claims Appeal': ('Minor Employment Claim Appeal',\n",
       "   'https://legalref.judiciary.hk/lrs/common/ju/judgment.jsp?L1=HC&L2=ME&AR=25#A25'),\n",
       "  'Miscellaneous Proceedings': ('Miscellaneou Proceeding',\n",
       "   'https://legalref.judiciary.hk/lrs/common/ju/judgment.jsp?L1=HC&L2=MP&AR=26#A26'),\n",
       "  'Miscellaneous Proceedings (Criminal)': ('Miscellaneou Proceeding (Criminal)',\n",
       "   'https://legalref.judiciary.hk/lrs/common/ju/judgment.jsp?L1=HC&L2=CP&AR=27#A27'),\n",
       "  'Obscene Articles Tribunal Appeal': ('Obscene Article Tribunal Appeal',\n",
       "   'https://legalref.judiciary.hk/lrs/common/ju/judgment.jsp?L1=HC&L2=OA&AR=28#A28'),\n",
       "  'Personal Injuries Action': ('Personal Injurie Action',\n",
       "   'https://legalref.judiciary.hk/lrs/common/ju/judgment.jsp?L1=HC&L2=PI&AR=29#A29'),\n",
       "  'Probate Action': ('Probate Action',\n",
       "   'https://legalref.judiciary.hk/lrs/common/ju/judgment.jsp?L1=HC&L2=AP&AR=30#A30'),\n",
       "  'Small Claims Tribunal Appeal': ('Small Claim Tribunal Appeal',\n",
       "   'https://legalref.judiciary.hk/lrs/common/ju/judgment.jsp?L1=HC&L2=SA&AR=31#A31')},\n",
       " 'Competition Tribunal': {'Competition Tribunal Action': ('Competition Tribunal Action',\n",
       "   'https://legalref.judiciary.hk/lrs/common/ju/judgment.jsp?L1=CT&L2=A&AR=1#A1'),\n",
       "  'Competition Tribunal Enforcement Action': ('Competition Tribunal Enforcement Action',\n",
       "   'https://legalref.judiciary.hk/lrs/common/ju/judgment.jsp?L1=CT&L2=EA&AR=2#A2')},\n",
       " 'District Court': {'Civil Action': ('Civil Action',\n",
       "   'https://legalref.judiciary.hk/lrs/common/ju/judgment.jsp?L1=DC&L2=CJ&AR=1#A1'),\n",
       "  'Criminal Case': ('Criminal Case',\n",
       "   'https://legalref.judiciary.hk/lrs/common/ju/judgment.jsp?L1=DC&L2=CC&AR=2#A2'),\n",
       "  'Distraint Case': ('Distraint Case',\n",
       "   'https://legalref.judiciary.hk/lrs/common/ju/judgment.jsp?L1=DC&L2=DT&AR=3#A3'),\n",
       "  'District Court Tax Claim': ('District Court Tax Claim',\n",
       "   'https://legalref.judiciary.hk/lrs/common/ju/judgment.jsp?L1=DC&L2=TC&AR=4#A4'),\n",
       "  \"Employee\\\\'s Compensation Case\": ('Employee Compensation Case',\n",
       "   'https://legalref.judiciary.hk/lrs/common/ju/judgment.jsp?L1=DC&L2=EC&AR=5#A5'),\n",
       "  'Equal Opportunities Action': ('Equal Opportunitie Action',\n",
       "   'https://legalref.judiciary.hk/lrs/common/ju/judgment.jsp?L1=DC&L2=EO&AR=6#A6'),\n",
       "  'Intended Action': ('Intended Action',\n",
       "   'https://legalref.judiciary.hk/lrs/common/ju/judgment.jsp?L1=DC&L2=ZZ&AR=7#A7'),\n",
       "  'Miscellaneous Proceedings': ('Miscellaneou Proceeding',\n",
       "   'https://legalref.judiciary.hk/lrs/common/ju/judgment.jsp?L1=DC&L2=MP&AR=8#A8'),\n",
       "  'Occupational Deafness (Compensation) Appeal': ('Occupational Deafne (Compensation) Appeal',\n",
       "   'https://legalref.judiciary.hk/lrs/common/ju/judgment.jsp?L1=DC&L2=OA&AR=9#A9'),\n",
       "  'Personal Injuries Action': ('Personal Injurie Action',\n",
       "   'https://legalref.judiciary.hk/lrs/common/ju/judgment.jsp?L1=DC&L2=PI&AR=10#A10'),\n",
       "  'Stamp Duty Appeal': ('Stamp Duty Appeal',\n",
       "   'https://legalref.judiciary.hk/lrs/common/ju/judgment.jsp?L1=DC&L2=SA&AR=11#A11')},\n",
       " 'Family Court': {'Joint application': ('Joint application',\n",
       "   'https://legalref.judiciary.hk/lrs/common/ju/judgment.jsp?L1=FC&L2=JA&AR=1#A1'),\n",
       "  'Matrimonial Causes': ('Matrimonial Cause',\n",
       "   'https://legalref.judiciary.hk/lrs/common/ju/judgment.jsp?L1=FC&L2=MC&AR=2#A2'),\n",
       "  'Miscellaneous Proceedings': ('Miscellaneou Proceeding',\n",
       "   'https://legalref.judiciary.hk/lrs/common/ju/judgment.jsp?L1=FC&L2=MP&AR=3#A3')},\n",
       " 'Lands Tribunal': {'Building Management Application': ('Building Management Application',\n",
       "   'https://legalref.judiciary.hk/lrs/common/ju/judgment.jsp?L1=LD&L2=BM&AR=1#A1'),\n",
       "  'Buildings Ordinance Application': ('Building Ordinance Application',\n",
       "   'https://legalref.judiciary.hk/lrs/common/ju/judgment.jsp?L1=LD&L2=BG&AR=2#A2'),\n",
       "  'Demolished Buildings Appeal': ('Demolished Building Appeal',\n",
       "   'https://legalref.judiciary.hk/lrs/common/ju/judgment.jsp?L1=LD&L2=DA&AR=3#A3'),\n",
       "  'Demolished Buildings Application': ('Demolished Building Application',\n",
       "   'https://legalref.judiciary.hk/lrs/common/ju/judgment.jsp?L1=LD&L2=DB&AR=4#A4'),\n",
       "  'Government Rent Appeal': ('Government Rent Appeal',\n",
       "   'https://legalref.judiciary.hk/lrs/common/ju/judgment.jsp?L1=LD&L2=GA&AR=5#A5'),\n",
       "  'Housing Ordinance Appeal': ('Housing Ordinance Appeal',\n",
       "   'https://legalref.judiciary.hk/lrs/common/ju/judgment.jsp?L1=LD&L2=HA&AR=6#A6'),\n",
       "  'Land Compulsory Sale Application': ('Land Compulsory Sale Application',\n",
       "   'https://legalref.judiciary.hk/lrs/common/ju/judgment.jsp?L1=LD&L2=CS&AR=7#A7'),\n",
       "  'Land Resumption Application': ('Land Resumption Application',\n",
       "   'https://legalref.judiciary.hk/lrs/common/ju/judgment.jsp?L1=LD&L2=LR&AR=8#A8'),\n",
       "  'Landlord  Appeal': ('Landlord  Appeal',\n",
       "   'https://legalref.judiciary.hk/lrs/common/ju/judgment.jsp?L1=LD&L2=LA&AR=9#A9'),\n",
       "  'MTR Ordinance Application': ('MTR Ordinance Application',\n",
       "   'https://legalref.judiciary.hk/lrs/common/ju/judgment.jsp?L1=LD&L2=MT&AR=10#A10'),\n",
       "  'Miscellaneous Proceedings Application': ('Miscellaneou Proceeding Application',\n",
       "   'https://legalref.judiciary.hk/lrs/common/ju/judgment.jsp?L1=LD&L2=MP&AR=11#A11'),\n",
       "  'Miscellaneous References Application': ('Miscellaneou Reference Application',\n",
       "   'https://legalref.judiciary.hk/lrs/common/ju/judgment.jsp?L1=LD&L2=MR&AR=12#A12'),\n",
       "  'New Tenancy Application': ('New Tenancy Application',\n",
       "   'https://legalref.judiciary.hk/lrs/common/ju/judgment.jsp?L1=LD&L2=NT&AR=13#A13'),\n",
       "  'Part I Possession Application': ('Part I Possession Application',\n",
       "   'https://legalref.judiciary.hk/lrs/common/ju/judgment.jsp?L1=LD&L2=PA&AR=14#A14'),\n",
       "  'Part II Possession Application': ('Part II Possession Application',\n",
       "   'https://legalref.judiciary.hk/lrs/common/ju/judgment.jsp?L1=LD&L2=PB&AR=15#A15'),\n",
       "  'Part IV Possession Application': ('Part IV Possession Application',\n",
       "   'https://legalref.judiciary.hk/lrs/common/ju/judgment.jsp?L1=LD&L2=PD&AR=16#A16'),\n",
       "  'Part V Possession Application': ('Part V Possession Application',\n",
       "   'https://legalref.judiciary.hk/lrs/common/ju/judgment.jsp?L1=LD&L2=PE&AR=17#A17'),\n",
       "  'Railways Ordinance Application': ('Railway Ordinance Application',\n",
       "   'https://legalref.judiciary.hk/lrs/common/ju/judgment.jsp?L1=LD&L2=RW&AR=18#A18'),\n",
       "  'Rating Appeal': ('Rating Appeal',\n",
       "   'https://legalref.judiciary.hk/lrs/common/ju/judgment.jsp?L1=LD&L2=RA&AR=19#A19')},\n",
       " 'Miscellaneous': {\"Coroner\\\\'s Court Death Inquest\": ('Coroner Court Death Inquest',\n",
       "   'https://legalref.judiciary.hk/lrs/common/ju/judgment.jsp?L1=CC&L2=DI&AR=1#A1'),\n",
       "  \"Eastern Magistrates\\\\' Court Charge Case\": ('Eastern Magistrate Court Charge Case',\n",
       "   'https://legalref.judiciary.hk/lrs/common/ju/judgment.jsp?L1=ES&L2=CC&AR=2#A2'),\n",
       "  \"Eastern Magistrates\\\\' Court Summons Case\": ('Eastern Magistrate Court Summon Case',\n",
       "   'https://legalref.judiciary.hk/lrs/common/ju/judgment.jsp?L1=ES&L2=S&AR=3#A3'),\n",
       "  \"Kowloon City Magistrates\\\\' Court Charge Case\": ('Kowloon City Magistrate Court Charge Case',\n",
       "   'https://legalref.judiciary.hk/lrs/common/ju/judgment.jsp?L1=KC&L2=CC&AR=4#A4'),\n",
       "  'Kowloon City Magistrates’ Court Summons Case': ('Kowloon City Magistrates’ Court Summon Case',\n",
       "   'https://legalref.judiciary.hk/lrs/common/ju/judgment.jsp?L1=KC&L2=S&AR=5#A5'),\n",
       "  'Labour Tribunal Claim': ('Labour Tribunal Claim',\n",
       "   'https://legalref.judiciary.hk/lrs/common/ju/judgment.jsp?L1=LB&L2=TC&AR=6#A6'),\n",
       "  'Obscene Articles Tribunal Case': ('Obscene Article Tribunal Case',\n",
       "   'https://legalref.judiciary.hk/lrs/common/ju/judgment.jsp?L1=OA&L2=TD&AR=7#A7'),\n",
       "  \"Shatin Magistrates\\\\' Court Charge Case\": ('Shatin Magistrate Court Charge Case',\n",
       "   'https://legalref.judiciary.hk/lrs/common/ju/judgment.jsp?L1=ST&L2=CC&AR=8#A8'),\n",
       "  'Small Claims Tribunal Claim': ('Small Claim Tribunal Claim',\n",
       "   'https://legalref.judiciary.hk/lrs/common/ju/judgment.jsp?L1=SC&L2=TC&AR=9#A9'),\n",
       "  \"Tuen Mun Magistrates\\\\' Court Charge Case\": ('Tuen Mun Magistrate Court Charge Case',\n",
       "   'https://legalref.judiciary.hk/lrs/common/ju/judgment.jsp?L1=TM&L2=CC&AR=10#A10'),\n",
       "  \"West Kowloon Magistrates\\\\' Court Charge Case\": ('West Kowloon Magistrate Court Charge Case',\n",
       "   'https://legalref.judiciary.hk/lrs/common/ju/judgment.jsp?L1=WK&L2=CC&AR=11#A11')}}"
      ]
     },
     "execution_count": 38,
     "metadata": {},
     "output_type": "execute_result"
    }
   ],
   "source": [
    "def parse_sub_courts(courts, parent_courts_set):\n",
    "    \"\"\"Parse sub-courts information.\n",
    "    Args:\n",
    "        courts (dict) : parent_courts -> url\n",
    "        parent_courts_set \n",
    "    Return:\n",
    "        sub_dict (dict) : parent_courts -> dictionary(sub_courts -> url) \n",
    "    \n",
    "    \"\"\"\n",
    "    sub_dict = {} # initialize\n",
    "\n",
    "    for c, url in courts.items():\n",
    "        time.sleep(1) # request web slowly for benevolence\n",
    "        root = url_to_root(url)\n",
    "        \n",
    "        # get sub courts names\n",
    "        # get raw infomation\n",
    "        info_list = root.find('script', string=re.compile(\"var myMenu\")).text.split(\",\")\n",
    "        # create bs4 object list for strings has tag \"a\" and attr name\n",
    "        now = set([BeautifulSoup(i.strip(\"' \")).text.strip(\" \") for i in info_list if len(re.findall('<a name=', i))!=0])\n",
    "        sub_courts = sorted(list(now - parent_courts_set)) # notice order in alphbets\n",
    "        sub_courts_cleared = [clear_name(s) for s in sub_courts] # clear names\n",
    "        print('subcourts:',len(sub_courts))\n",
    "        \n",
    "        # get sub courts urls\n",
    "        # re-get raw infomation\n",
    "        info_list = root.find('script', string=re.compile(\"var myMenu\")).text.split(\"'\") # notice split by up-comma\n",
    "        # observe sub-courts' urls are longer than parents', so find sub-courts' urls' length\n",
    "        http_min_len = min(set([len(i) for i in info_list if i[:5]=='https']))\n",
    "        # get sub-courts' urls\n",
    "        sub_courts_urls = [i for i in info_list if i[:5]=='https' if len(i)>http_min_len]\n",
    "        print('urls:', len(sub_courts_urls))\n",
    "        # store in dict\n",
    "        subs = {sc.strip(\" \"):(sc_, url) for sc, sc_, url in zip(sub_courts, sub_courts_cleared, sub_courts_urls)}\n",
    "        # assign to parent courts\n",
    "        print('dict length: ',len(subs))\n",
    "        sub_dict[c] = subs\n",
    "    return sub_dict\n",
    "\n",
    "parent_courts_set = set(df_courts['parent_court'])\n",
    "sub_dict = parse_sub_courts(courts, parent_courts_set)\n",
    "sub_dict"
   ]
  },
  {
   "cell_type": "code",
   "execution_count": 39,
   "metadata": {},
   "outputs": [
    {
     "data": {
      "text/html": [
       "<div>\n",
       "<style scoped>\n",
       "    .dataframe tbody tr th:only-of-type {\n",
       "        vertical-align: middle;\n",
       "    }\n",
       "\n",
       "    .dataframe tbody tr th {\n",
       "        vertical-align: top;\n",
       "    }\n",
       "\n",
       "    .dataframe thead th {\n",
       "        text-align: right;\n",
       "    }\n",
       "</style>\n",
       "<table border=\"1\" class=\"dataframe\">\n",
       "  <thead>\n",
       "    <tr style=\"text-align: right;\">\n",
       "      <th></th>\n",
       "      <th>sub_court</th>\n",
       "      <th>sub_court_cleared</th>\n",
       "      <th>sub_court_url</th>\n",
       "      <th>parent_court</th>\n",
       "      <th>parent_court_url</th>\n",
       "    </tr>\n",
       "  </thead>\n",
       "  <tbody>\n",
       "    <tr>\n",
       "      <th>0</th>\n",
       "      <td>Final Appeal (Civil)</td>\n",
       "      <td>Final Appeal (Civil)</td>\n",
       "      <td>https://legalref.judiciary.hk/lrs/common/ju/judgment.jsp?L1=FA&amp;L2=CV&amp;AR=1#A1</td>\n",
       "      <td>Court of Final Appeal</td>\n",
       "      <td>https://legalref.judiciary.hk/lrs/common/ju/judgment.jsp?L1=FA#H1</td>\n",
       "    </tr>\n",
       "    <tr>\n",
       "      <th>1</th>\n",
       "      <td>Final Appeal (Criminal)</td>\n",
       "      <td>Final Appeal (Criminal)</td>\n",
       "      <td>https://legalref.judiciary.hk/lrs/common/ju/judgment.jsp?L1=FA&amp;L2=CC&amp;AR=2#A2</td>\n",
       "      <td>Court of Final Appeal</td>\n",
       "      <td>https://legalref.judiciary.hk/lrs/common/ju/judgment.jsp?L1=FA#H1</td>\n",
       "    </tr>\n",
       "    <tr>\n",
       "      <th>2</th>\n",
       "      <td>Miscellaneous Proceedings</td>\n",
       "      <td>Miscellaneou Proceeding</td>\n",
       "      <td>https://legalref.judiciary.hk/lrs/common/ju/judgment.jsp?L1=FA&amp;L2=MP&amp;AR=3#A3</td>\n",
       "      <td>Court of Final Appeal</td>\n",
       "      <td>https://legalref.judiciary.hk/lrs/common/ju/judgment.jsp?L1=FA#H1</td>\n",
       "    </tr>\n",
       "    <tr>\n",
       "      <th>3</th>\n",
       "      <td>Miscellaneous Proceedings (Civil)</td>\n",
       "      <td>Miscellaneou Proceeding (Civil)</td>\n",
       "      <td>https://legalref.judiciary.hk/lrs/common/ju/judgment.jsp?L1=FA&amp;L2=MV&amp;AR=4#A4</td>\n",
       "      <td>Court of Final Appeal</td>\n",
       "      <td>https://legalref.judiciary.hk/lrs/common/ju/judgment.jsp?L1=FA#H1</td>\n",
       "    </tr>\n",
       "    <tr>\n",
       "      <th>4</th>\n",
       "      <td>Miscellaneous Proceedings (Criminal)</td>\n",
       "      <td>Miscellaneou Proceeding (Criminal)</td>\n",
       "      <td>https://legalref.judiciary.hk/lrs/common/ju/judgment.jsp?L1=FA&amp;L2=MC&amp;AR=5#A5</td>\n",
       "      <td>Court of Final Appeal</td>\n",
       "      <td>https://legalref.judiciary.hk/lrs/common/ju/judgment.jsp?L1=FA#H1</td>\n",
       "    </tr>\n",
       "  </tbody>\n",
       "</table>\n",
       "</div>"
      ],
      "text/plain": [
       "                              sub_court                   sub_court_cleared  \\\n",
       "0                  Final Appeal (Civil)                Final Appeal (Civil)   \n",
       "1               Final Appeal (Criminal)             Final Appeal (Criminal)   \n",
       "2             Miscellaneous Proceedings             Miscellaneou Proceeding   \n",
       "3     Miscellaneous Proceedings (Civil)     Miscellaneou Proceeding (Civil)   \n",
       "4  Miscellaneous Proceedings (Criminal)  Miscellaneou Proceeding (Criminal)   \n",
       "\n",
       "                                                                  sub_court_url  \\\n",
       "0  https://legalref.judiciary.hk/lrs/common/ju/judgment.jsp?L1=FA&L2=CV&AR=1#A1   \n",
       "1  https://legalref.judiciary.hk/lrs/common/ju/judgment.jsp?L1=FA&L2=CC&AR=2#A2   \n",
       "2  https://legalref.judiciary.hk/lrs/common/ju/judgment.jsp?L1=FA&L2=MP&AR=3#A3   \n",
       "3  https://legalref.judiciary.hk/lrs/common/ju/judgment.jsp?L1=FA&L2=MV&AR=4#A4   \n",
       "4  https://legalref.judiciary.hk/lrs/common/ju/judgment.jsp?L1=FA&L2=MC&AR=5#A5   \n",
       "\n",
       "            parent_court  \\\n",
       "0  Court of Final Appeal   \n",
       "1  Court of Final Appeal   \n",
       "2  Court of Final Appeal   \n",
       "3  Court of Final Appeal   \n",
       "4  Court of Final Appeal   \n",
       "\n",
       "                                                    parent_court_url  \n",
       "0  https://legalref.judiciary.hk/lrs/common/ju/judgment.jsp?L1=FA#H1  \n",
       "1  https://legalref.judiciary.hk/lrs/common/ju/judgment.jsp?L1=FA#H1  \n",
       "2  https://legalref.judiciary.hk/lrs/common/ju/judgment.jsp?L1=FA#H1  \n",
       "3  https://legalref.judiciary.hk/lrs/common/ju/judgment.jsp?L1=FA#H1  \n",
       "4  https://legalref.judiciary.hk/lrs/common/ju/judgment.jsp?L1=FA#H1  "
      ]
     },
     "execution_count": 39,
     "metadata": {},
     "output_type": "execute_result"
    }
   ],
   "source": [
    "def df_for_sub(sub_dict):\n",
    "    return pd.DataFrame([(k,v[0],v[1]) for k,v in sub_dict.items()], columns=['sub_court', 'sub_court_cleared', 'sub_court_url'])\n",
    "\n",
    "dfs = []\n",
    "for p_court, s_dict in sub_dict.items():\n",
    "    sub_df = df_for_sub(s_dict)\n",
    "    sub_df['parent_court'] = p_court\n",
    "    dfs.append(sub_df)\n",
    "    \n",
    "df_all = pd.concat(dfs, axis=0)\n",
    "df_all.index = range(len(df_all))\n",
    "df_all = pd.merge(df_all, df_courts, how='left', on='parent_court')\n",
    "df_all.head()"
   ]
  },
  {
   "cell_type": "code",
   "execution_count": 40,
   "metadata": {},
   "outputs": [
    {
     "data": {
      "text/plain": [
       "0                                                        Final Appeal (Civil)\n",
       "1                                                     Final Appeal (Criminal)\n",
       "2                                                     Miscellaneou Proceeding\n",
       "3                                             Miscellaneou Proceeding (Civil)\n",
       "4                                          Miscellaneou Proceeding (Criminal)\n",
       "5                                                      Application for Review\n",
       "6                                                  Attorney General Reference\n",
       "7                                                                Civil Appeal\n",
       "8                                                             Criminal Appeal\n",
       "9                                                     Miscellaneou Proceeding\n",
       "10                                             Reservation of Question of Law\n",
       "11                                                           Admiralty Action\n",
       "12                                                       Adoption Application\n",
       "13                                                      Application for Grant\n",
       "14    Application to et aside a Statutory Demand (under Bankruptcy Ordinance)\n",
       "15                              Application under the Mental Health Ordinance\n",
       "16                                                      Bankruptcy Proceeding\n",
       "17                                                                     Caveat\n",
       "18                                                       Citation Application\n",
       "19                                                               Civil Action\n",
       "20                                                          Commercial Action\n",
       "21                                             Companie Winding-up Proceeding\n",
       "22                                       Confidential Miscellaneou Proceeding\n",
       "23                           Constitutional and Administrative Law Proceeding\n",
       "24                                    Construction and Arbitration Proceeding\n",
       "25                                                              Criminal Case\n",
       "26                                                         Estate Duty Appeal\n",
       "27                                                       Ex-parte Application\n",
       "28                                        High Court Bankruptcy Interim Order\n",
       "29                                                      Inland Revenue Appeal\n",
       "                                       ...                                   \n",
       "58                                            Building Management Application\n",
       "59                                             Building Ordinance Application\n",
       "60                                                 Demolished Building Appeal\n",
       "61                                            Demolished Building Application\n",
       "62                                                     Government Rent Appeal\n",
       "63                                                   Housing Ordinance Appeal\n",
       "64                                           Land Compulsory Sale Application\n",
       "65                                                Land Resumption Application\n",
       "66                                                           Landlord  Appeal\n",
       "67                                                  MTR Ordinance Application\n",
       "68                                        Miscellaneou Proceeding Application\n",
       "69                                         Miscellaneou Reference Application\n",
       "70                                                    New Tenancy Application\n",
       "71                                              Part I Possession Application\n",
       "72                                             Part II Possession Application\n",
       "73                                             Part IV Possession Application\n",
       "74                                              Part V Possession Application\n",
       "75                                              Railway Ordinance Application\n",
       "76                                                              Rating Appeal\n",
       "77                                                Coroner Court Death Inquest\n",
       "78                                       Eastern Magistrate Court Charge Case\n",
       "79                                       Eastern Magistrate Court Summon Case\n",
       "80                                  Kowloon City Magistrate Court Charge Case\n",
       "81                                Kowloon City Magistrates’ Court Summon Case\n",
       "82                                                      Labour Tribunal Claim\n",
       "83                                              Obscene Article Tribunal Case\n",
       "84                                        Shatin Magistrate Court Charge Case\n",
       "85                                                 Small Claim Tribunal Claim\n",
       "86                                      Tuen Mun Magistrate Court Charge Case\n",
       "87                                  West Kowloon Magistrate Court Charge Case\n",
       "Name: sub_court_cleared, Length: 88, dtype: object"
      ]
     },
     "execution_count": 40,
     "metadata": {},
     "output_type": "execute_result"
    }
   ],
   "source": [
    "df_all.sub_court_cleared"
   ]
  },
  {
   "cell_type": "code",
   "execution_count": 41,
   "metadata": {},
   "outputs": [],
   "source": [
    "with open('df_all.pickle', 'wb') as ww:\n",
    "    pickle.dump(df_all, ww)"
   ]
  },
  {
   "cell_type": "code",
   "execution_count": 6,
   "metadata": {},
   "outputs": [],
   "source": [
    "f = open('df_all.pickle', 'rb')\n",
    "df_all = pickle.load(f)"
   ]
  },
  {
   "cell_type": "markdown",
   "metadata": {},
   "source": [
    "## Hiearchy 3: years"
   ]
  },
  {
   "cell_type": "code",
   "execution_count": 11,
   "metadata": {},
   "outputs": [],
   "source": [
    "# for test case\n",
    "sub_ = \"West Kowloon Magistrate Court Charge Case\""
   ]
  },
  {
   "cell_type": "code",
   "execution_count": 12,
   "metadata": {},
   "outputs": [
    {
     "data": {
      "text/plain": [
       "['https://legalref.judiciary.hk/lrs/common/ju/judgment.jsp?L1=WK&L2=CC&AR=11#A11']"
      ]
     },
     "execution_count": 12,
     "metadata": {},
     "output_type": "execute_result"
    }
   ],
   "source": [
    "list(df_all[df_all['sub_court_cleared']==sub_]['sub_court_url'])"
   ]
  },
  {
   "cell_type": "code",
   "execution_count": 206,
   "metadata": {},
   "outputs": [
    {
     "name": "stderr",
     "output_type": "stream",
     "text": [
      "\r",
      "  0%|                                                   | 0/88 [00:00<?, ?it/s]"
     ]
    },
    {
     "name": "stdout",
     "output_type": "stream",
     "text": [
      "200\n",
      "200\n",
      "['Pre2013', '2015', '2013', '2016', '2018', '2017', '2014']\n"
     ]
    },
    {
     "name": "stderr",
     "output_type": "stream",
     "text": [
      "\r",
      "  1%|▍                                          | 1/88 [00:04<07:01,  4.85s/it]"
     ]
    },
    {
     "name": "stdout",
     "output_type": "stream",
     "text": [
      "200\n",
      "200\n",
      "['Pre2013', '2015', '2013', '2016', '2018', '2017', '2014']\n"
     ]
    },
    {
     "name": "stderr",
     "output_type": "stream",
     "text": [
      "\r",
      "  2%|▉                                          | 2/88 [00:10<07:08,  4.98s/it]"
     ]
    },
    {
     "name": "stdout",
     "output_type": "stream",
     "text": [
      "200\n",
      "200\n",
      "['2009', '2004', '2013', '2010', '2003', '2014']\n"
     ]
    },
    {
     "name": "stderr",
     "output_type": "stream",
     "text": [
      "\r",
      "  3%|█▍                                         | 3/88 [00:14<06:47,  4.79s/it]"
     ]
    },
    {
     "name": "stdout",
     "output_type": "stream",
     "text": [
      "200\n",
      "200\n",
      "['2015', '2019', 'Pre2014', '2016', '2017', '2018', '2014']\n"
     ]
    },
    {
     "name": "stderr",
     "output_type": "stream",
     "text": [
      "\r",
      "  5%|█▉                                         | 4/88 [00:19<06:45,  4.82s/it]"
     ]
    },
    {
     "name": "stdout",
     "output_type": "stream",
     "text": [
      "200\n",
      "200\n",
      "['2015', '2019', 'Pre2014', '2016', '2017', '2018', '2014']\n"
     ]
    },
    {
     "name": "stderr",
     "output_type": "stream",
     "text": [
      "\r",
      "  6%|██▍                                        | 5/88 [00:25<07:00,  5.07s/it]"
     ]
    },
    {
     "name": "stdout",
     "output_type": "stream",
     "text": [
      "200\n",
      "200\n",
      "['Pre2013', '2015', '2013', '2016', '2017', '2018', '2014']\n"
     ]
    },
    {
     "name": "stderr",
     "output_type": "stream",
     "text": [
      "\r",
      "  7%|██▉                                        | 6/88 [00:29<06:48,  4.99s/it]"
     ]
    },
    {
     "name": "stdout",
     "output_type": "stream",
     "text": [
      "200\n",
      "200\n",
      "['1986', '1994']\n"
     ]
    },
    {
     "name": "stderr",
     "output_type": "stream",
     "text": [
      "\r",
      "  8%|███▍                                       | 7/88 [00:33<06:14,  4.63s/it]"
     ]
    },
    {
     "name": "stdout",
     "output_type": "stream",
     "text": [
      "200\n",
      "200\n",
      "['2015', '2019', 'Pre2014', '2016', '2017', '2018', '2014']\n"
     ]
    },
    {
     "name": "stderr",
     "output_type": "stream",
     "text": [
      "\r",
      "  9%|███▉                                       | 8/88 [00:50<11:06,  8.33s/it]"
     ]
    },
    {
     "name": "stdout",
     "output_type": "stream",
     "text": [
      "200\n",
      "200\n",
      "['2015', '2019', 'Pre2014', '2016', '2017', '2018', '2014']\n"
     ]
    },
    {
     "name": "stderr",
     "output_type": "stream",
     "text": [
      "\r",
      " 10%|████▍                                      | 9/88 [00:58<10:40,  8.11s/it]"
     ]
    },
    {
     "name": "stdout",
     "output_type": "stream",
     "text": [
      "200\n",
      "200\n",
      "['2009', '2004', '2013', '2010', '2003', '2014']\n"
     ]
    },
    {
     "name": "stderr",
     "output_type": "stream",
     "text": [
      "\r",
      " 11%|████▊                                     | 10/88 [01:11<12:40,  9.75s/it]"
     ]
    },
    {
     "name": "stdout",
     "output_type": "stream",
     "text": [
      "200\n",
      "200\n",
      "['2018', '1997', '1994']\n"
     ]
    },
    {
     "name": "stderr",
     "output_type": "stream",
     "text": [
      "\r",
      " 12%|█████▎                                    | 11/88 [01:15<10:10,  7.93s/it]"
     ]
    },
    {
     "name": "stdout",
     "output_type": "stream",
     "text": [
      "200\n",
      "200\n",
      "['Pre2013', '2015', '2013', '2016', '2018', '2017', '2014']\n"
     ]
    },
    {
     "name": "stderr",
     "output_type": "stream",
     "text": [
      "\r",
      " 14%|█████▋                                    | 12/88 [01:19<08:27,  6.68s/it]"
     ]
    },
    {
     "name": "stdout",
     "output_type": "stream",
     "text": [
      "200\n",
      "200\n",
      "['1970', '1973', '1985', '1978', '1992', '1971', '1988']\n"
     ]
    },
    {
     "name": "stderr",
     "output_type": "stream",
     "text": [
      "\r",
      " 15%|██████▏                                   | 13/88 [01:23<07:21,  5.89s/it]"
     ]
    },
    {
     "name": "stdout",
     "output_type": "stream",
     "text": [
      "200\n",
      "200\n",
      "['2011', '2015', '2012', '2009', '2010', 'Pre2009', '2014']\n"
     ]
    },
    {
     "name": "stderr",
     "output_type": "stream",
     "text": [
      "\r",
      " 16%|██████▋                                   | 14/88 [01:27<06:35,  5.35s/it]"
     ]
    },
    {
     "name": "stdout",
     "output_type": "stream",
     "text": [
      "200\n",
      "200\n",
      "['2011', '2012', '2013', '2016', '2010', 'Pre2010', '2014']\n"
     ]
    },
    {
     "name": "stderr",
     "output_type": "stream",
     "text": [
      "\r",
      " 17%|███████▏                                  | 15/88 [01:43<10:36,  8.72s/it]"
     ]
    },
    {
     "name": "stdout",
     "output_type": "stream",
     "text": [
      "200\n",
      "200\n",
      "['2008', '2011', '2015', '2012', '2016', '2010', '2014']\n"
     ]
    },
    {
     "name": "stderr",
     "output_type": "stream",
     "text": [
      "\r",
      " 18%|███████▋                                  | 16/88 [01:47<08:39,  7.22s/it]"
     ]
    },
    {
     "name": "stdout",
     "output_type": "stream",
     "text": [
      "200\n",
      "200\n",
      "['Pre2013', '2015', '2013', '2016', '2018', '2017', '2014']\n"
     ]
    },
    {
     "name": "stderr",
     "output_type": "stream",
     "text": [
      "\r",
      " 19%|████████                                  | 17/88 [01:51<07:21,  6.22s/it]"
     ]
    },
    {
     "name": "stdout",
     "output_type": "stream",
     "text": [
      "200\n",
      "200\n",
      "['Pre2012', '2015', '2012', '2013', '2016', '2017', '2014']\n"
     ]
    },
    {
     "name": "stderr",
     "output_type": "stream",
     "text": [
      "\r",
      " 20%|████████▌                                 | 18/88 [01:55<06:23,  5.47s/it]"
     ]
    },
    {
     "name": "stdout",
     "output_type": "stream",
     "text": [
      "200\n",
      "200\n",
      "['2012', '2008']\n"
     ]
    },
    {
     "name": "stderr",
     "output_type": "stream",
     "text": [
      "\r",
      " 22%|█████████                                 | 19/88 [01:58<05:40,  4.94s/it]"
     ]
    },
    {
     "name": "stdout",
     "output_type": "stream",
     "text": [
      "200\n",
      "200\n",
      "['2015', '2019', 'Pre2014', '2016', '2017', '2018', '2014']\n"
     ]
    },
    {
     "name": "stderr",
     "output_type": "stream",
     "text": [
      "\r",
      " 23%|█████████▌                                | 20/88 [02:02<05:11,  4.58s/it]"
     ]
    },
    {
     "name": "stdout",
     "output_type": "stream",
     "text": [
      "200\n",
      "200\n",
      "['Pre2012', '2015', '2012', '2013', '2016', '2017', '2014']\n"
     ]
    },
    {
     "name": "stderr",
     "output_type": "stream",
     "text": [
      "\r",
      " 24%|██████████                                | 21/88 [02:06<04:58,  4.46s/it]"
     ]
    },
    {
     "name": "stdout",
     "output_type": "stream",
     "text": [
      "200\n",
      "200\n",
      "['2015', '2019', 'Pre2014', '2016', '2017', '2018', '2014']\n"
     ]
    },
    {
     "name": "stderr",
     "output_type": "stream",
     "text": [
      "\r",
      " 25%|██████████▌                               | 22/88 [02:14<05:57,  5.42s/it]"
     ]
    },
    {
     "name": "stdout",
     "output_type": "stream",
     "text": [
      "200\n",
      "200\n",
      "['2018', '2009', '2003']\n"
     ]
    },
    {
     "name": "stderr",
     "output_type": "stream",
     "text": [
      "\r",
      " 26%|██████████▉                               | 23/88 [02:36<11:11, 10.33s/it]"
     ]
    },
    {
     "name": "stdout",
     "output_type": "stream",
     "text": [
      "200\n",
      "200\n",
      "['2015', '2019', 'Pre2014', '2016', '2017', '2018', '2014']\n"
     ]
    },
    {
     "name": "stderr",
     "output_type": "stream",
     "text": [
      "\r",
      " 27%|███████████▍                              | 24/88 [02:40<09:01,  8.47s/it]"
     ]
    },
    {
     "name": "stdout",
     "output_type": "stream",
     "text": [
      "200\n",
      "200\n",
      "['Pre2013', '2015', '2013', '2016', '2018', '2017', '2014']\n"
     ]
    },
    {
     "name": "stderr",
     "output_type": "stream",
     "text": [
      "\r",
      " 28%|███████████▉                              | 25/88 [02:48<08:36,  8.20s/it]"
     ]
    },
    {
     "name": "stdout",
     "output_type": "stream",
     "text": [
      "200\n",
      "200\n",
      "['Pre2013', '2015', '2013', '2016', '2018', '2017', '2014']\n"
     ]
    },
    {
     "name": "stderr",
     "output_type": "stream",
     "text": [
      "\r",
      " 30%|████████████▍                             | 26/88 [02:53<07:40,  7.43s/it]"
     ]
    },
    {
     "name": "stdout",
     "output_type": "stream",
     "text": [
      "200\n",
      "200\n",
      "['2011', '1974', '2013', '2007', '2005']\n"
     ]
    },
    {
     "name": "stderr",
     "output_type": "stream",
     "text": [
      "\r",
      " 31%|████████████▉                             | 27/88 [02:57<06:28,  6.36s/it]"
     ]
    },
    {
     "name": "stdout",
     "output_type": "stream",
     "text": [
      "200\n",
      "200\n",
      "['2008', '2009', '2004', '2013', '2010', '2005']\n"
     ]
    },
    {
     "name": "stderr",
     "output_type": "stream",
     "text": [
      "\r",
      " 32%|█████████████▎                            | 28/88 [03:01<05:46,  5.77s/it]"
     ]
    },
    {
     "name": "stdout",
     "output_type": "stream",
     "text": [
      "200\n",
      "200\n",
      "['2002', '2008', '2012', '2009', '2004', '2001', '2003', '2006']\n"
     ]
    },
    {
     "name": "stderr",
     "output_type": "stream",
     "text": [
      "\r",
      " 33%|█████████████▊                            | 29/88 [03:11<06:40,  6.79s/it]"
     ]
    },
    {
     "name": "stdout",
     "output_type": "stream",
     "text": [
      "200\n",
      "200\n",
      "['2015', '2009', '2016', '2018', '2017', '2010', 'Pre2009']\n"
     ]
    },
    {
     "name": "stderr",
     "output_type": "stream",
     "text": [
      "\r",
      " 34%|██████████████▎                           | 30/88 [03:14<05:42,  5.90s/it]"
     ]
    },
    {
     "name": "stdout",
     "output_type": "stream",
     "text": [
      "200\n",
      "200\n",
      "['1986', '2000', '2012', '2015', '2009', '2017']\n"
     ]
    },
    {
     "name": "stderr",
     "output_type": "stream",
     "text": [
      "\r",
      " 35%|██████████████▊                           | 31/88 [03:18<04:55,  5.19s/it]"
     ]
    },
    {
     "name": "stdout",
     "output_type": "stream",
     "text": [
      "200\n",
      "200\n",
      "['2015', '2019', 'Pre2014', '2016', '2017', '2018', '2014']\n"
     ]
    },
    {
     "name": "stderr",
     "output_type": "stream",
     "text": [
      "\r",
      " 36%|███████████████▎                          | 32/88 [03:22<04:25,  4.74s/it]"
     ]
    },
    {
     "name": "stdout",
     "output_type": "stream",
     "text": [
      "200\n",
      "200\n",
      "['2017', '1999', '2013']\n"
     ]
    },
    {
     "name": "stderr",
     "output_type": "stream",
     "text": [
      "\r",
      " 38%|███████████████▊                          | 33/88 [03:30<05:14,  5.72s/it]"
     ]
    },
    {
     "name": "stdout",
     "output_type": "stream",
     "text": [
      "200\n",
      "200\n",
      "['2015', '2019', 'Pre2014', '2016', '2017', '2018', '2014']\n"
     ]
    },
    {
     "name": "stderr",
     "output_type": "stream",
     "text": [
      "\r",
      " 39%|████████████████▏                         | 34/88 [03:36<05:15,  5.84s/it]"
     ]
    },
    {
     "name": "stdout",
     "output_type": "stream",
     "text": [
      "200\n",
      "200\n",
      "['2011', '2012', '2009', '2016', '2018', '2010', 'Pre2009']\n"
     ]
    },
    {
     "name": "stderr",
     "output_type": "stream",
     "text": [
      "\r",
      " 40%|████████████████▋                         | 35/88 [03:40<04:37,  5.24s/it]"
     ]
    },
    {
     "name": "stdout",
     "output_type": "stream",
     "text": [
      "200\n",
      "200\n",
      "['2015', '2019', 'Pre2014', '2016', '2017', '2018', '2014']\n"
     ]
    },
    {
     "name": "stderr",
     "output_type": "stream",
     "text": [
      "\r",
      " 41%|█████████████████▏                        | 36/88 [03:46<04:53,  5.64s/it]"
     ]
    },
    {
     "name": "stdout",
     "output_type": "stream",
     "text": [
      "200\n",
      "200\n",
      "['2009', '2004', '2013', '2010', '2003', '2014']\n"
     ]
    },
    {
     "name": "stderr",
     "output_type": "stream",
     "text": [
      "\r",
      " 42%|█████████████████▋                        | 37/88 [03:56<05:50,  6.87s/it]"
     ]
    },
    {
     "name": "stdout",
     "output_type": "stream",
     "text": [
      "200\n",
      "200\n",
      "['2015', '2019', 'Pre2014', '2016', '2017', '2018', '2014']\n"
     ]
    },
    {
     "name": "stderr",
     "output_type": "stream",
     "text": [
      "\r",
      " 43%|██████████████████▏                       | 38/88 [04:00<04:58,  5.98s/it]"
     ]
    },
    {
     "name": "stdout",
     "output_type": "stream",
     "text": [
      "200\n",
      "200\n",
      "['1997', '1996', '1994', '1993', '1995', '1991']\n"
     ]
    },
    {
     "name": "stderr",
     "output_type": "stream",
     "text": [
      "\r",
      " 44%|██████████████████▌                       | 39/88 [04:04<04:26,  5.43s/it]"
     ]
    },
    {
     "name": "stdout",
     "output_type": "stream",
     "text": [
      "200\n",
      "200\n",
      "['Pre2013', '2015', '2013', '2016', '2018', '2017', '2014']\n"
     ]
    },
    {
     "name": "stderr",
     "output_type": "stream",
     "text": [
      "\r",
      " 45%|███████████████████                       | 40/88 [04:08<04:05,  5.11s/it]"
     ]
    },
    {
     "name": "stdout",
     "output_type": "stream",
     "text": [
      "200\n",
      "200\n",
      "['Pre2013', '2015', '2013', '2016', '2018', '2017', '2014']\n"
     ]
    },
    {
     "name": "stderr",
     "output_type": "stream",
     "text": [
      "\r",
      " 47%|███████████████████▌                      | 41/88 [04:13<03:49,  4.89s/it]"
     ]
    },
    {
     "name": "stdout",
     "output_type": "stream",
     "text": [
      "200\n",
      "200\n",
      "['2015', '2019', 'Pre2014', '2016', '2017', '2018', '2014']\n"
     ]
    },
    {
     "name": "stderr",
     "output_type": "stream",
     "text": [
      "\r",
      " 48%|████████████████████                      | 42/88 [04:22<04:49,  6.29s/it]"
     ]
    },
    {
     "name": "stdout",
     "output_type": "stream",
     "text": [
      "200\n",
      "200\n",
      "['2018']\n"
     ]
    },
    {
     "name": "stderr",
     "output_type": "stream",
     "text": [
      "\r",
      " 49%|████████████████████▌                     | 43/88 [04:30<05:02,  6.71s/it]"
     ]
    },
    {
     "name": "stdout",
     "output_type": "stream",
     "text": [
      "200\n",
      "200\n",
      "['2017']\n"
     ]
    },
    {
     "name": "stderr",
     "output_type": "stream",
     "text": [
      "\r",
      " 50%|█████████████████████                     | 44/88 [04:39<05:27,  7.45s/it]"
     ]
    },
    {
     "name": "stdout",
     "output_type": "stream",
     "text": [
      "200\n",
      "200\n",
      "['2015', '2019', 'Pre2014', '2016', '2017', '2018', '2014']\n"
     ]
    },
    {
     "name": "stderr",
     "output_type": "stream",
     "text": [
      "\r",
      " 51%|█████████████████████▍                    | 45/88 [04:43<04:34,  6.37s/it]"
     ]
    },
    {
     "name": "stdout",
     "output_type": "stream",
     "text": [
      "200\n",
      "200\n",
      "['Pre2013', '2015', '2013', '2016', '2018', '2017', '2014']\n"
     ]
    },
    {
     "name": "stderr",
     "output_type": "stream",
     "text": [
      "\r",
      " 52%|█████████████████████▉                    | 46/88 [04:48<04:15,  6.08s/it]"
     ]
    },
    {
     "name": "stdout",
     "output_type": "stream",
     "text": [
      "200\n",
      "200\n",
      "['2015', '2019', 'Pre2014', '2016', '2017', '2018', '2014']\n"
     ]
    },
    {
     "name": "stderr",
     "output_type": "stream",
     "text": [
      "\r",
      " 53%|██████████████████████▍                   | 47/88 [04:56<04:28,  6.54s/it]"
     ]
    },
    {
     "name": "stdout",
     "output_type": "stream",
     "text": [
      "200\n",
      "200\n",
      "['2011', '2015', '2012', 'Pre2011', '2013', '2016', '2017']\n"
     ]
    },
    {
     "name": "stderr",
     "output_type": "stream",
     "text": [
      "\r",
      " 55%|██████████████████████▉                   | 48/88 [05:06<04:59,  7.48s/it]"
     ]
    },
    {
     "name": "stdout",
     "output_type": "stream",
     "text": [
      "200\n",
      "200\n",
      "['Pre2013', '2015', '2013', '2016', '2018', '2017', '2014']\n"
     ]
    },
    {
     "name": "stderr",
     "output_type": "stream",
     "text": [
      "\r",
      " 56%|███████████████████████▍                  | 49/88 [05:55<12:56, 19.91s/it]"
     ]
    },
    {
     "name": "stdout",
     "output_type": "stream",
     "text": [
      "200\n",
      "200\n",
      "['Pre2013', '2015', '2013', '2016', '2018', '2017', '2014']\n"
     ]
    },
    {
     "name": "stderr",
     "output_type": "stream",
     "text": [
      "\r",
      " 57%|███████████████████████▊                  | 50/88 [06:13<12:22, 19.55s/it]"
     ]
    },
    {
     "name": "stdout",
     "output_type": "stream",
     "text": [
      "200\n",
      "200\n",
      "['1986', '2000', '2012', '2015', '2009', '2017']\n"
     ]
    },
    {
     "name": "stderr",
     "output_type": "stream",
     "text": [
      "\r",
      " 58%|████████████████████████▎                 | 51/88 [06:19<09:31, 15.44s/it]"
     ]
    },
    {
     "name": "stdout",
     "output_type": "stream",
     "text": [
      "200\n",
      "200\n",
      "['2009', '2004', '2013', '2010', '2003', '2014']\n"
     ]
    },
    {
     "name": "stderr",
     "output_type": "stream",
     "text": [
      "\r",
      " 59%|████████████████████████▊                 | 52/88 [06:23<07:16, 12.11s/it]"
     ]
    },
    {
     "name": "stdout",
     "output_type": "stream",
     "text": [
      "200\n",
      "200\n",
      "['2005']\n"
     ]
    },
    {
     "name": "stderr",
     "output_type": "stream",
     "text": [
      "\r",
      " 60%|█████████████████████████▎                | 53/88 [06:27<05:39,  9.69s/it]"
     ]
    },
    {
     "name": "stdout",
     "output_type": "stream",
     "text": [
      "200\n",
      "200\n",
      "['Pre2013', '2015', '2013', '2016', '2018', '2017', '2014']\n"
     ]
    },
    {
     "name": "stderr",
     "output_type": "stream",
     "text": [
      "\r",
      " 61%|█████████████████████████▊                | 54/88 [06:31<04:28,  7.91s/it]"
     ]
    },
    {
     "name": "stdout",
     "output_type": "stream",
     "text": [
      "200\n",
      "200\n",
      "['Pre2012', '2015', '2012', '2016', '2018', '2017', '2014']\n"
     ]
    },
    {
     "name": "stderr",
     "output_type": "stream",
     "text": [
      "\r",
      " 62%|██████████████████████████▎               | 55/88 [06:43<04:58,  9.04s/it]"
     ]
    },
    {
     "name": "stdout",
     "output_type": "stream",
     "text": [
      "200\n",
      "200\n",
      "['Pre2012', '2015', '2012', '2013', '2016', '2017', '2014']\n"
     ]
    },
    {
     "name": "stderr",
     "output_type": "stream",
     "text": [
      "\r",
      " 64%|██████████████████████████▋               | 56/88 [06:47<03:57,  7.43s/it]"
     ]
    },
    {
     "name": "stdout",
     "output_type": "stream",
     "text": [
      "200\n",
      "200\n",
      "['2011', '2012', '2009', '2016', '2018', '2010', 'Pre2009']\n"
     ]
    },
    {
     "name": "stderr",
     "output_type": "stream",
     "text": [
      "\r",
      " 65%|███████████████████████████▏              | 57/88 [06:55<03:55,  7.58s/it]"
     ]
    },
    {
     "name": "stdout",
     "output_type": "stream",
     "text": [
      "200\n",
      "200\n",
      "['2009', '2004', '2013', '2010', '2003', '2014']\n"
     ]
    },
    {
     "name": "stderr",
     "output_type": "stream",
     "text": [
      "\r",
      " 66%|███████████████████████████▋              | 58/88 [07:10<04:58,  9.95s/it]"
     ]
    },
    {
     "name": "stdout",
     "output_type": "stream",
     "text": [
      "200\n",
      "200\n",
      "['Pre2013', '2015', '2013', '2016', '2018', '2017', '2014']\n"
     ]
    },
    {
     "name": "stderr",
     "output_type": "stream",
     "text": [
      "\r",
      " 67%|████████████████████████████▏             | 59/88 [07:17<04:21,  9.01s/it]"
     ]
    },
    {
     "name": "stdout",
     "output_type": "stream",
     "text": [
      "200\n",
      "200\n",
      "['1981', '1982']\n"
     ]
    },
    {
     "name": "stderr",
     "output_type": "stream",
     "text": [
      "\r",
      " 68%|████████████████████████████▋             | 60/88 [07:21<03:29,  7.47s/it]"
     ]
    },
    {
     "name": "stdout",
     "output_type": "stream",
     "text": [
      "200\n",
      "200\n",
      "['1985']\n"
     ]
    },
    {
     "name": "stderr",
     "output_type": "stream",
     "text": [
      "\r",
      " 69%|█████████████████████████████             | 61/88 [07:31<03:42,  8.24s/it]"
     ]
    },
    {
     "name": "stdout",
     "output_type": "stream",
     "text": [
      "200\n",
      "200\n",
      "['1989', '1992']\n"
     ]
    },
    {
     "name": "stderr",
     "output_type": "stream",
     "text": [
      "\r",
      " 70%|█████████████████████████████▌            | 62/88 [07:35<02:59,  6.91s/it]"
     ]
    },
    {
     "name": "stdout",
     "output_type": "stream",
     "text": [
      "200\n",
      "200\n",
      "['2012', '2013', '2007', '2006', '2005', '2014', 'Pre2005']\n"
     ]
    },
    {
     "name": "stderr",
     "output_type": "stream",
     "text": [
      "\r",
      " 72%|██████████████████████████████            | 63/88 [07:39<02:30,  6.02s/it]"
     ]
    },
    {
     "name": "stdout",
     "output_type": "stream",
     "text": [
      "200\n",
      "200\n",
      "['1983', '2002', '2000', '2012', '2004', '2001', '2010', '2003']\n"
     ]
    },
    {
     "name": "stderr",
     "output_type": "stream",
     "text": [
      "\r",
      " 73%|██████████████████████████████▌           | 64/88 [07:51<03:10,  7.95s/it]"
     ]
    },
    {
     "name": "stdout",
     "output_type": "stream",
     "text": [
      "200\n",
      "200\n",
      "['Pre2013', '2015', '2013', '2016', '2018', '2017', '2014']\n"
     ]
    },
    {
     "name": "stderr",
     "output_type": "stream",
     "text": [
      "\r",
      " 74%|███████████████████████████████           | 65/88 [07:55<02:33,  6.66s/it]"
     ]
    },
    {
     "name": "stdout",
     "output_type": "stream",
     "text": [
      "200\n",
      "200\n",
      "['2011', '2015', '2012', 'Pre2011', '2013', '2016', '2014']\n"
     ]
    },
    {
     "name": "stderr",
     "output_type": "stream",
     "text": [
      "\r",
      " 75%|███████████████████████████████▌          | 66/88 [07:58<02:07,  5.78s/it]"
     ]
    },
    {
     "name": "stdout",
     "output_type": "stream",
     "text": [
      "200\n",
      "200\n",
      "['1997', 'Pre1987', '1987', '1995', '1988', '1989', '1991']\n"
     ]
    },
    {
     "name": "stderr",
     "output_type": "stream",
     "text": [
      "\r",
      " 76%|███████████████████████████████▉          | 67/88 [08:07<02:19,  6.64s/it]"
     ]
    },
    {
     "name": "stdout",
     "output_type": "stream",
     "text": [
      "200\n",
      "200\n",
      "['1984', '1983', '1981', '2004', '2001', '1988', '1982']\n"
     ]
    },
    {
     "name": "stderr",
     "output_type": "stream",
     "text": [
      "\r",
      " 77%|████████████████████████████████▍         | 68/88 [08:27<03:31, 10.58s/it]"
     ]
    },
    {
     "name": "stdout",
     "output_type": "stream",
     "text": [
      "200\n",
      "200\n",
      "['2009', '2016', '2018', '2017', '2010', '2003', 'Pre2003']\n"
     ]
    },
    {
     "name": "stderr",
     "output_type": "stream",
     "text": [
      "\r",
      " 78%|████████████████████████████████▉         | 69/88 [08:31<02:42,  8.56s/it]"
     ]
    },
    {
     "name": "stdout",
     "output_type": "stream",
     "text": [
      "200\n",
      "200\n",
      "['2002', '2012', 'Pre2002', '2004', '2003', '2006', '2005']\n"
     ]
    },
    {
     "name": "stderr",
     "output_type": "stream",
     "text": [
      "\r",
      " 80%|█████████████████████████████████▍        | 70/88 [08:36<02:18,  7.70s/it]"
     ]
    },
    {
     "name": "stdout",
     "output_type": "stream",
     "text": [
      "200\n",
      "200\n",
      "['2002', '2000', '1999', 'Pre1999', '2004', '2001', '2003']\n"
     ]
    },
    {
     "name": "stderr",
     "output_type": "stream",
     "text": [
      "\r",
      " 81%|█████████████████████████████████▉        | 71/88 [08:41<01:53,  6.66s/it]"
     ]
    },
    {
     "name": "stdout",
     "output_type": "stream",
     "text": [
      "200\n",
      "200\n",
      "['1986', '1983', '1981', '1985', '1995', '1982']\n"
     ]
    },
    {
     "name": "stderr",
     "output_type": "stream",
     "text": [
      "\r",
      " 82%|██████████████████████████████████▎       | 72/88 [08:52<02:08,  8.05s/it]"
     ]
    },
    {
     "name": "stdout",
     "output_type": "stream",
     "text": [
      "200\n",
      "200\n",
      "['1997', '1998', '2000', '1994', '1995']\n"
     ]
    },
    {
     "name": "stderr",
     "output_type": "stream",
     "text": [
      "\r",
      " 83%|██████████████████████████████████▊       | 73/88 [08:56<01:42,  6.83s/it]"
     ]
    },
    {
     "name": "stdout",
     "output_type": "stream",
     "text": [
      "200\n",
      "200\n",
      "['2015', '2019', 'Pre2014', '2016', '2017', '2018', '2014']\n"
     ]
    },
    {
     "name": "stderr",
     "output_type": "stream",
     "text": [
      "\r",
      " 84%|███████████████████████████████████▎      | 74/88 [08:59<01:22,  5.89s/it]"
     ]
    },
    {
     "name": "stdout",
     "output_type": "stream",
     "text": [
      "200\n",
      "200\n",
      "['2015', '2019', 'Pre2014', '2016', '2017', '2018', '2014']\n"
     ]
    },
    {
     "name": "stderr",
     "output_type": "stream",
     "text": [
      "\r",
      " 85%|███████████████████████████████████▊      | 75/88 [09:05<01:13,  5.68s/it]"
     ]
    },
    {
     "name": "stdout",
     "output_type": "stream",
     "text": [
      "200\n",
      "200\n",
      "['2015', '2004', '2001', '2003', '2005']\n"
     ]
    },
    {
     "name": "stderr",
     "output_type": "stream",
     "text": [
      "\r",
      " 86%|████████████████████████████████████▎     | 76/88 [09:08<01:00,  5.06s/it]"
     ]
    },
    {
     "name": "stdout",
     "output_type": "stream",
     "text": [
      "200\n",
      "200\n",
      "['2015', '2009', '2007', '2006', '2005', '2014', 'Pre2005']\n"
     ]
    },
    {
     "name": "stderr",
     "output_type": "stream",
     "text": [
      "\r",
      " 88%|████████████████████████████████████▊     | 77/88 [09:17<01:06,  6.06s/it]"
     ]
    },
    {
     "name": "stdout",
     "output_type": "stream",
     "text": [
      "200\n",
      "200\n",
      "['2013']\n"
     ]
    },
    {
     "name": "stderr",
     "output_type": "stream",
     "text": [
      "\r",
      " 89%|█████████████████████████████████████▏    | 78/88 [09:21<00:54,  5.44s/it]"
     ]
    },
    {
     "name": "stdout",
     "output_type": "stream",
     "text": [
      "200\n",
      "200\n",
      "['2018', '2015', '2011', '2016']\n"
     ]
    },
    {
     "name": "stderr",
     "output_type": "stream",
     "text": [
      "\r",
      " 90%|█████████████████████████████████████▋    | 79/88 [09:25<00:44,  4.97s/it]"
     ]
    },
    {
     "name": "stdout",
     "output_type": "stream",
     "text": [
      "200\n",
      "200\n",
      "['2013', '2016']\n"
     ]
    },
    {
     "name": "stderr",
     "output_type": "stream",
     "text": [
      "\r",
      " 91%|██████████████████████████████████████▏   | 80/88 [09:29<00:39,  4.92s/it]"
     ]
    },
    {
     "name": "stdout",
     "output_type": "stream",
     "text": [
      "200\n",
      "200\n",
      "['2017', '2018', '2002', '2016']\n"
     ]
    },
    {
     "name": "stderr",
     "output_type": "stream",
     "text": [
      "\r",
      " 92%|██████████████████████████████████████▋   | 81/88 [09:33<00:32,  4.58s/it]"
     ]
    },
    {
     "name": "stdout",
     "output_type": "stream",
     "text": [
      "200\n",
      "200\n",
      "['2013']\n"
     ]
    },
    {
     "name": "stderr",
     "output_type": "stream",
     "text": [
      "\r",
      " 93%|███████████████████████████████████████▏  | 82/88 [09:37<00:25,  4.25s/it]"
     ]
    },
    {
     "name": "stdout",
     "output_type": "stream",
     "text": [
      "200\n",
      "200\n",
      "['2012', '2008']\n"
     ]
    },
    {
     "name": "stderr",
     "output_type": "stream",
     "text": [
      "\r",
      " 94%|███████████████████████████████████████▌  | 83/88 [09:41<00:22,  4.43s/it]"
     ]
    },
    {
     "name": "stdout",
     "output_type": "stream",
     "text": [
      "200\n",
      "200\n",
      "['2006']\n"
     ]
    },
    {
     "name": "stderr",
     "output_type": "stream",
     "text": [
      "\r",
      " 95%|████████████████████████████████████████  | 84/88 [09:45<00:16,  4.22s/it]"
     ]
    },
    {
     "name": "stdout",
     "output_type": "stream",
     "text": [
      "200\n",
      "200\n",
      "['2016']\n"
     ]
    },
    {
     "name": "stderr",
     "output_type": "stream",
     "text": [
      "\r",
      " 97%|████████████████████████████████████████▌ | 85/88 [09:49<00:12,  4.07s/it]"
     ]
    },
    {
     "name": "stdout",
     "output_type": "stream",
     "text": [
      "200\n",
      "200\n",
      "['2012', '2015', '2001']\n"
     ]
    },
    {
     "name": "stderr",
     "output_type": "stream",
     "text": [
      "\r",
      " 98%|█████████████████████████████████████████ | 86/88 [09:53<00:07,  3.96s/it]"
     ]
    },
    {
     "name": "stdout",
     "output_type": "stream",
     "text": [
      "200\n",
      "200\n",
      "['2005']\n"
     ]
    },
    {
     "name": "stderr",
     "output_type": "stream",
     "text": [
      "\r",
      " 99%|█████████████████████████████████████████▌| 87/88 [09:57<00:04,  4.18s/it]"
     ]
    },
    {
     "name": "stdout",
     "output_type": "stream",
     "text": [
      "200\n",
      "200\n",
      "['2017']\n"
     ]
    },
    {
     "name": "stderr",
     "output_type": "stream",
     "text": [
      "100%|██████████████████████████████████████████| 88/88 [10:05<00:00,  5.31s/it]\n"
     ]
    },
    {
     "data": {
      "text/plain": [
       "{'Final Appeal (Civil)': 'https://legalref.judiciary.hk/lrs/common/ju/judgment.jsp?EX=T&L1=FA&L2=CV&AR=1#A1',\n",
       " 'Final Appeal (Criminal)': 'https://legalref.judiciary.hk/lrs/common/ju/judgment.jsp?EX=T&L1=FA&L2=CC&AR=2#A2',\n",
       " 'Miscellaneou Proceeding (Civil)': 'https://legalref.judiciary.hk/lrs/common/ju/judgment.jsp?EX=T&L1=FA&L2=MV&AR=4#A4',\n",
       " 'Miscellaneou Proceeding (Criminal)': 'https://legalref.judiciary.hk/lrs/common/ju/judgment.jsp?EX=T&L1=FA&L2=MC&AR=5#A5',\n",
       " 'Application for Review': 'https://legalref.judiciary.hk/lrs/common/ju/judgment.jsp?EX=T&L1=CA&L2=AR&AR=1#A1',\n",
       " 'Civil Appeal': 'https://legalref.judiciary.hk/lrs/common/ju/judgment.jsp?EX=T&L1=CA&L2=CV&AR=3#A3',\n",
       " 'Criminal Appeal': 'https://legalref.judiciary.hk/lrs/common/ju/judgment.jsp?EX=T&L1=CA&L2=CC&AR=4#A4',\n",
       " 'Admiralty Action': 'https://legalref.judiciary.hk/lrs/common/ju/judgment.jsp?EX=T&L1=HC&L2=AJ&AR=1#A1',\n",
       " 'Application for Grant': 'https://legalref.judiciary.hk/lrs/common/ju/judgment.jsp?EX=T&L1=HC&L2=AG&AR=3#A3',\n",
       " 'Application to et aside a Statutory Demand (under Bankruptcy Ordinance)': 'https://legalref.judiciary.hk/lrs/common/ju/judgment.jsp?EX=T&L1=HC&L2=SD&AR=4#A4',\n",
       " 'Bankruptcy Proceeding': 'https://legalref.judiciary.hk/lrs/common/ju/judgment.jsp?EX=T&L1=HC&L2=B&AR=6#A6',\n",
       " 'Caveat': 'https://legalref.judiciary.hk/lrs/common/ju/judgment.jsp?EX=T&L1=HC&L2=CA&AR=7#A7',\n",
       " 'Civil Action': 'https://legalref.judiciary.hk/lrs/common/ju/judgment.jsp?EX=T&L1=HC&L2=A&AR=9#A9',\n",
       " 'Commercial Action': 'https://legalref.judiciary.hk/lrs/common/ju/judgment.jsp?EX=T&L1=HC&L2=CL&AR=10#A10',\n",
       " 'Companie Winding-up Proceeding': 'https://legalref.judiciary.hk/lrs/common/ju/judgment.jsp?EX=T&L1=HC&L2=CW&AR=11#A11',\n",
       " 'Constitutional and Administrative Law Proceeding': 'https://legalref.judiciary.hk/lrs/common/ju/judgment.jsp?EX=T&L1=HC&L2=AL&AR=13#A13',\n",
       " 'Construction and Arbitration Proceeding': 'https://legalref.judiciary.hk/lrs/common/ju/judgment.jsp?EX=T&L1=HC&L2=CT&AR=14#A14',\n",
       " 'Criminal Case': 'https://legalref.judiciary.hk/lrs/common/ju/judgment.jsp?EX=T&L1=HC&L2=CC&AR=15#A15',\n",
       " 'Inland Revenue Appeal': 'https://legalref.judiciary.hk/lrs/common/ju/judgment.jsp?EX=T&L1=HC&L2=IA&AR=19#A19',\n",
       " 'Labour Tribunal Appeal': 'https://legalref.judiciary.hk/lrs/common/ju/judgment.jsp?EX=T&L1=HC&L2=LA&AR=21#A21',\n",
       " 'Magistracy Appeal': 'https://legalref.judiciary.hk/lrs/common/ju/judgment.jsp?EX=T&L1=HC&L2=MA&AR=23#A23',\n",
       " 'Matrimonial Cause': 'https://legalref.judiciary.hk/lrs/common/ju/judgment.jsp?EX=T&L1=HC&L2=MC&AR=24#A24',\n",
       " 'Minor Employment Claim Appeal': 'https://legalref.judiciary.hk/lrs/common/ju/judgment.jsp?EX=T&L1=HC&L2=ME&AR=25#A25',\n",
       " 'Personal Injurie Action': 'https://legalref.judiciary.hk/lrs/common/ju/judgment.jsp?EX=T&L1=HC&L2=PI&AR=29#A29',\n",
       " 'Probate Action': 'https://legalref.judiciary.hk/lrs/common/ju/judgment.jsp?EX=T&L1=HC&L2=AP&AR=30#A30',\n",
       " 'Small Claim Tribunal Appeal': 'https://legalref.judiciary.hk/lrs/common/ju/judgment.jsp?EX=T&L1=HC&L2=SA&AR=31#A31',\n",
       " 'Distraint Case': 'https://legalref.judiciary.hk/lrs/common/ju/judgment.jsp?EX=T&L1=DC&L2=DT&AR=3#A3',\n",
       " 'District Court Tax Claim': 'https://legalref.judiciary.hk/lrs/common/ju/judgment.jsp?EX=T&L1=DC&L2=TC&AR=4#A4',\n",
       " 'Employee Compensation Case': 'https://legalref.judiciary.hk/lrs/common/ju/judgment.jsp?EX=T&L1=DC&L2=EC&AR=5#A5',\n",
       " 'Equal Opportunitie Action': 'https://legalref.judiciary.hk/lrs/common/ju/judgment.jsp?EX=T&L1=DC&L2=EO&AR=6#A6',\n",
       " 'Stamp Duty Appeal': 'https://legalref.judiciary.hk/lrs/common/ju/judgment.jsp?EX=T&L1=DC&L2=SA&AR=11#A11',\n",
       " 'Joint application': 'https://legalref.judiciary.hk/lrs/common/ju/judgment.jsp?EX=T&L1=FC&L2=JA&AR=1#A1',\n",
       " 'Building Management Application': 'https://legalref.judiciary.hk/lrs/common/ju/judgment.jsp?EX=T&L1=LD&L2=BM&AR=1#A1',\n",
       " 'Government Rent Appeal': 'https://legalref.judiciary.hk/lrs/common/ju/judgment.jsp?EX=T&L1=LD&L2=GA&AR=5#A5',\n",
       " 'Land Compulsory Sale Application': 'https://legalref.judiciary.hk/lrs/common/ju/judgment.jsp?EX=T&L1=LD&L2=CS&AR=7#A7',\n",
       " 'Land Resumption Application': 'https://legalref.judiciary.hk/lrs/common/ju/judgment.jsp?EX=T&L1=LD&L2=LR&AR=8#A8',\n",
       " 'Landlord  Appeal': 'https://legalref.judiciary.hk/lrs/common/ju/judgment.jsp?EX=T&L1=LD&L2=LA&AR=9#A9',\n",
       " 'Miscellaneou Proceeding Application': 'https://legalref.judiciary.hk/lrs/common/ju/judgment.jsp?EX=T&L1=LD&L2=MP&AR=11#A11',\n",
       " 'Miscellaneou Reference Application': 'https://legalref.judiciary.hk/lrs/common/ju/judgment.jsp?EX=T&L1=LD&L2=MR&AR=12#A12',\n",
       " 'New Tenancy Application': 'https://legalref.judiciary.hk/lrs/common/ju/judgment.jsp?EX=T&L1=LD&L2=NT&AR=13#A13',\n",
       " 'Part IV Possession Application': 'https://legalref.judiciary.hk/lrs/common/ju/judgment.jsp?EX=T&L1=LD&L2=PD&AR=16#A16',\n",
       " 'Part V Possession Application': 'https://legalref.judiciary.hk/lrs/common/ju/judgment.jsp?EX=T&L1=LD&L2=PE&AR=17#A17',\n",
       " 'Rating Appeal': 'https://legalref.judiciary.hk/lrs/common/ju/judgment.jsp?EX=T&L1=LD&L2=RA&AR=19#A19'}"
      ]
     },
     "execution_count": 206,
     "metadata": {},
     "output_type": "execute_result"
    }
   ],
   "source": [
    "def check_special(sc_cleared, df_all, courts_set, urls_set):\n",
    "    \"\"\"Check if sub-court has Pre****\"\"\"\n",
    "    years = subCourt_get_years(sc_cleared, df_all, courts_set)\n",
    "    urls = subCourt_get_urls(sc_cleared, df_all, urls_set) \n",
    "    print(years)\n",
    "    special_ = [years[idx] for idx, y in enumerate(years) if len(re.findall('Pre', y))!=0]\n",
    "    if len(special_) != 0:\n",
    "        has_special = True\n",
    "        special_year = special_[0]\n",
    "        special_url = [u for idx, u in enumerate(urls) if len(re.findall('L3=....', u))==0][0]\n",
    "    else: \n",
    "        has_special = False\n",
    "        special_year = None\n",
    "        special_url = None\n",
    "    return has_special, special_year, special_url\n",
    "\n",
    "        \n",
    "courts_set = set(df_all['parent_court']) | set(df_all['sub_court'])\n",
    "urls_set = set(df_all['sub_court_url']) | set(df_all['parent_court_url'])\n",
    "\n",
    "special_courts = {}\n",
    "for sc_ in tqdm(df_all['sub_court_cleared']):\n",
    "    has_special, special_year, special_url = check_special(sc_, df_all, courts_set, urls_set)\n",
    "    if has_special:\n",
    "        special_courts[sc_] = special_url\n",
    "special_courts\n"
   ]
  },
  {
   "cell_type": "code",
   "execution_count": 209,
   "metadata": {},
   "outputs": [
    {
     "name": "stdout",
     "output_type": "stream",
     "text": [
      "200\n"
     ]
    },
    {
     "data": {
      "text/plain": [
       "['2017']"
      ]
     },
     "execution_count": 209,
     "metadata": {},
     "output_type": "execute_result"
    }
   ],
   "source": [
    "def subCourt_get_years(sc_cleared, url, df_all, all_courts):\n",
    "    time.sleep(1)\n",
    "    root = url_to_root(url)\n",
    "    info_list = root.find('script', string=re.compile(\"var myMenu\")).text.split(\",\")\n",
    "    \n",
    "    now_set = set([BeautifulSoup(i.strip(\"' \")).text.strip(\" \") for i in info_list if len(re.findall('<a name=', i))!=0])\n",
    "    years = now_set - all_courts\n",
    "    return list(years)\n",
    "\n",
    "courts_set = set(df_all['parent_court']) | set(df_all['sub_court'])\n",
    "url = list(df_all[df_all['sub_court_cleared']==sub_]['sub_court_url'])[0]\n",
    "years = subCourt_get_years(sub_, url, df_all, courts_set)\n",
    "years"
   ]
  },
  {
   "cell_type": "code",
   "execution_count": 210,
   "metadata": {},
   "outputs": [
    {
     "name": "stdout",
     "output_type": "stream",
     "text": [
      "200\n"
     ]
    },
    {
     "data": {
      "text/plain": [
       "['https://legalref.judiciary.hk/lrs/common/ju/judgment.jsp?EX=T&L1=WK&L2=CC&L3=2017&AR=11_1#A11_1']"
      ]
     },
     "execution_count": 210,
     "metadata": {},
     "output_type": "execute_result"
    }
   ],
   "source": [
    "def subCourt_get_urls(sub_court, url, df_all, urls_set):\n",
    "    \n",
    "    time.sleep(1)\n",
    "    root = url_to_root(url)\n",
    "    info_list = root.find('script', string=re.compile(\"var myMenu\")).text.split(\",\")\n",
    "    \n",
    "    potential_urls = set([i.strip(\"' \") for i in info_list if i.strip(\"' \")[:5]=='https'])\n",
    "    urls = potential_urls - urls_set\n",
    "    return list(urls)\n",
    "\n",
    "urls_set = set(df_all['sub_court_url']) | set(df_all['parent_court_url'])\n",
    "url = list(df_all[df_all['sub_court_cleared']==sub_]['sub_court_url'])[0]\n",
    "urls = subCourt_get_urls(sub_, url, df_all, urls_set)  \n",
    "urls"
   ]
  },
  {
   "cell_type": "code",
   "execution_count": 211,
   "metadata": {},
   "outputs": [
    {
     "data": {
      "text/plain": [
       "{'2017': 'https://legalref.judiciary.hk/lrs/common/ju/judgment.jsp?EX=T&L1=WK&L2=CC&L3=2017&AR=11_1#A11_1'}"
      ]
     },
     "execution_count": 211,
     "metadata": {},
     "output_type": "execute_result"
    }
   ],
   "source": [
    "def match_year_urls(years, urls):\n",
    "    match_dict = {}\n",
    "    url_pairs = [(re.findall('L3=....', i)[0][-4:], i) for i in urls]\n",
    "    for y in years:\n",
    "        for y_url, url in url_pairs:\n",
    "            if y == y_url:\n",
    "                match_dict[y] = url\n",
    "    return match_dict\n",
    "\n",
    "match_year_urls(years, urls)"
   ]
  },
  {
   "cell_type": "code",
   "execution_count": 213,
   "metadata": {},
   "outputs": [
    {
     "name": "stdout",
     "output_type": "stream",
     "text": [
      "200\n",
      "200\n"
     ]
    },
    {
     "data": {
      "text/html": [
       "<div>\n",
       "<style scoped>\n",
       "    .dataframe tbody tr th:only-of-type {\n",
       "        vertical-align: middle;\n",
       "    }\n",
       "\n",
       "    .dataframe tbody tr th {\n",
       "        vertical-align: top;\n",
       "    }\n",
       "\n",
       "    .dataframe thead th {\n",
       "        text-align: right;\n",
       "    }\n",
       "</style>\n",
       "<table border=\"1\" class=\"dataframe\">\n",
       "  <thead>\n",
       "    <tr style=\"text-align: right;\">\n",
       "      <th></th>\n",
       "      <th>year</th>\n",
       "      <th>year_url</th>\n",
       "      <th>sub_court_cleared</th>\n",
       "    </tr>\n",
       "  </thead>\n",
       "  <tbody>\n",
       "    <tr>\n",
       "      <th>0</th>\n",
       "      <td>2017</td>\n",
       "      <td>https://legalref.judiciary.hk/lrs/common/ju/judgment.jsp?EX=T&amp;L1=WK&amp;L2=CC&amp;L3=2017&amp;AR=11_1#A11_1</td>\n",
       "      <td>West Kowloon Magistrate Court Charge Case</td>\n",
       "    </tr>\n",
       "  </tbody>\n",
       "</table>\n",
       "</div>"
      ],
      "text/plain": [
       "   year  \\\n",
       "0  2017   \n",
       "\n",
       "                                                                                          year_url  \\\n",
       "0  https://legalref.judiciary.hk/lrs/common/ju/judgment.jsp?EX=T&L1=WK&L2=CC&L3=2017&AR=11_1#A11_1   \n",
       "\n",
       "                           sub_court_cleared  \n",
       "0  West Kowloon Magistrate Court Charge Case  "
      ]
     },
     "execution_count": 213,
     "metadata": {},
     "output_type": "execute_result"
    }
   ],
   "source": [
    "def get_year_urls(sub_court, url, df_all, courts_set, urls_set):\n",
    "    # get years\n",
    "    years = subCourt_get_years(sub_court, url, df_all, courts_set)\n",
    "    # get urls\n",
    "    urls = subCourt_get_urls(sub_court, url, df_all, urls_set)  \n",
    "    # match them\n",
    "    match_dict = match_year_urls(years, urls)\n",
    "    # convert to DataFrame\n",
    "    data = [(k,v) for k, v in match_dict.items()]\n",
    "    match = pd.DataFrame(data, columns=['year', 'year_url'])\n",
    "    match['sub_court_cleared'] = sub_court\n",
    "    return match\n",
    "\n",
    "# test case 1\n",
    "courts_set = set(df_all['parent_court']) | set(df_all['sub_court'])\n",
    "urls_set = set(df_all['sub_court_url']) | set(df_all['parent_court_url'])\n",
    "url = list(df_all[df_all['sub_court_cleared']==sub_]['sub_court_url'])[0]\n",
    "df_test = get_year_urls(sub_, url, df_all, courts_set, urls_set)\n",
    "df_test"
   ]
  },
  {
   "cell_type": "code",
   "execution_count": 217,
   "metadata": {},
   "outputs": [
    {
     "name": "stdout",
     "output_type": "stream",
     "text": [
      "https://legalref.judiciary.hk/lrs/common/ju/judgment.jsp?EX=T&L1=HC&L2=MA&AR=23#A23\n",
      "200\n",
      "200\n"
     ]
    },
    {
     "data": {
      "text/html": [
       "<div>\n",
       "<style scoped>\n",
       "    .dataframe tbody tr th:only-of-type {\n",
       "        vertical-align: middle;\n",
       "    }\n",
       "\n",
       "    .dataframe tbody tr th {\n",
       "        vertical-align: top;\n",
       "    }\n",
       "\n",
       "    .dataframe thead th {\n",
       "        text-align: right;\n",
       "    }\n",
       "</style>\n",
       "<table border=\"1\" class=\"dataframe\">\n",
       "  <thead>\n",
       "    <tr style=\"text-align: right;\">\n",
       "      <th></th>\n",
       "      <th>year</th>\n",
       "      <th>year_url</th>\n",
       "      <th>sub_court_cleared</th>\n",
       "    </tr>\n",
       "  </thead>\n",
       "  <tbody>\n",
       "    <tr>\n",
       "      <th>0</th>\n",
       "      <td>1986</td>\n",
       "      <td>https://legalref.judiciary.hk/lrs/common/ju/judgment.jsp?EX=T&amp;L1=HC&amp;L2=MA&amp;L3=1986&amp;AR=23_34#A23_34</td>\n",
       "      <td>Magistracy Appeal</td>\n",
       "    </tr>\n",
       "    <tr>\n",
       "      <th>1</th>\n",
       "      <td>1984</td>\n",
       "      <td>https://legalref.judiciary.hk/lrs/common/ju/judgment.jsp?EX=T&amp;L1=HC&amp;L2=MA&amp;L3=1984&amp;AR=23_36#A23_36</td>\n",
       "      <td>Magistracy Appeal</td>\n",
       "    </tr>\n",
       "    <tr>\n",
       "      <th>2</th>\n",
       "      <td>1983</td>\n",
       "      <td>https://legalref.judiciary.hk/lrs/common/ju/judgment.jsp?EX=T&amp;L1=HC&amp;L2=MA&amp;L3=1983&amp;AR=23_37#A23_37</td>\n",
       "      <td>Magistracy Appeal</td>\n",
       "    </tr>\n",
       "    <tr>\n",
       "      <th>3</th>\n",
       "      <td>2011</td>\n",
       "      <td>https://legalref.judiciary.hk/lrs/common/ju/judgment.jsp?EX=T&amp;L1=HC&amp;L2=MA&amp;L3=2011&amp;AR=23_9#A23_9</td>\n",
       "      <td>Magistracy Appeal</td>\n",
       "    </tr>\n",
       "    <tr>\n",
       "      <th>4</th>\n",
       "      <td>2000</td>\n",
       "      <td>https://legalref.judiciary.hk/lrs/common/ju/judgment.jsp?EX=T&amp;L1=HC&amp;L2=MA&amp;L3=2000&amp;AR=23_20#A23_20</td>\n",
       "      <td>Magistracy Appeal</td>\n",
       "    </tr>\n",
       "    <tr>\n",
       "      <th>5</th>\n",
       "      <td>2012</td>\n",
       "      <td>https://legalref.judiciary.hk/lrs/common/ju/judgment.jsp?EX=T&amp;L1=HC&amp;L2=MA&amp;L3=2012&amp;AR=23_8#A23_8</td>\n",
       "      <td>Magistracy Appeal</td>\n",
       "    </tr>\n",
       "    <tr>\n",
       "      <th>6</th>\n",
       "      <td>1998</td>\n",
       "      <td>https://legalref.judiciary.hk/lrs/common/ju/judgment.jsp?EX=T&amp;L1=HC&amp;L2=MA&amp;L3=1998&amp;AR=23_22#A23_22</td>\n",
       "      <td>Magistracy Appeal</td>\n",
       "    </tr>\n",
       "    <tr>\n",
       "      <th>7</th>\n",
       "      <td>1992</td>\n",
       "      <td>https://legalref.judiciary.hk/lrs/common/ju/judgment.jsp?EX=T&amp;L1=HC&amp;L2=MA&amp;L3=1992&amp;AR=23_28#A23_28</td>\n",
       "      <td>Magistracy Appeal</td>\n",
       "    </tr>\n",
       "    <tr>\n",
       "      <th>8</th>\n",
       "      <td>2001</td>\n",
       "      <td>https://legalref.judiciary.hk/lrs/common/ju/judgment.jsp?EX=T&amp;L1=HC&amp;L2=MA&amp;L3=2001&amp;AR=23_19#A23_19</td>\n",
       "      <td>Magistracy Appeal</td>\n",
       "    </tr>\n",
       "    <tr>\n",
       "      <th>9</th>\n",
       "      <td>2007</td>\n",
       "      <td>https://legalref.judiciary.hk/lrs/common/ju/judgment.jsp?EX=T&amp;L1=HC&amp;L2=MA&amp;L3=2007&amp;AR=23_13#A23_13</td>\n",
       "      <td>Magistracy Appeal</td>\n",
       "    </tr>\n",
       "    <tr>\n",
       "      <th>10</th>\n",
       "      <td>1993</td>\n",
       "      <td>https://legalref.judiciary.hk/lrs/common/ju/judgment.jsp?EX=T&amp;L1=HC&amp;L2=MA&amp;L3=1993&amp;AR=23_27#A23_27</td>\n",
       "      <td>Magistracy Appeal</td>\n",
       "    </tr>\n",
       "    <tr>\n",
       "      <th>11</th>\n",
       "      <td>1989</td>\n",
       "      <td>https://legalref.judiciary.hk/lrs/common/ju/judgment.jsp?EX=T&amp;L1=HC&amp;L2=MA&amp;L3=1989&amp;AR=23_31#A23_31</td>\n",
       "      <td>Magistracy Appeal</td>\n",
       "    </tr>\n",
       "    <tr>\n",
       "      <th>12</th>\n",
       "      <td>2006</td>\n",
       "      <td>https://legalref.judiciary.hk/lrs/common/ju/judgment.jsp?EX=T&amp;L1=HC&amp;L2=MA&amp;L3=2006&amp;AR=23_14#A23_14</td>\n",
       "      <td>Magistracy Appeal</td>\n",
       "    </tr>\n",
       "    <tr>\n",
       "      <th>13</th>\n",
       "      <td>2005</td>\n",
       "      <td>https://legalref.judiciary.hk/lrs/common/ju/judgment.jsp?EX=T&amp;L1=HC&amp;L2=MA&amp;L3=2005&amp;AR=23_15#A23_15</td>\n",
       "      <td>Magistracy Appeal</td>\n",
       "    </tr>\n",
       "    <tr>\n",
       "      <th>14</th>\n",
       "      <td>2014</td>\n",
       "      <td>https://legalref.judiciary.hk/lrs/common/ju/judgment.jsp?EX=T&amp;L1=HC&amp;L2=MA&amp;L3=2014&amp;AR=23_6#A23_6</td>\n",
       "      <td>Magistracy Appeal</td>\n",
       "    </tr>\n",
       "    <tr>\n",
       "      <th>15</th>\n",
       "      <td>2008</td>\n",
       "      <td>https://legalref.judiciary.hk/lrs/common/ju/judgment.jsp?EX=T&amp;L1=HC&amp;L2=MA&amp;L3=2008&amp;AR=23_12#A23_12</td>\n",
       "      <td>Magistracy Appeal</td>\n",
       "    </tr>\n",
       "    <tr>\n",
       "      <th>16</th>\n",
       "      <td>2002</td>\n",
       "      <td>https://legalref.judiciary.hk/lrs/common/ju/judgment.jsp?EX=T&amp;L1=HC&amp;L2=MA&amp;L3=2002&amp;AR=23_18#A23_18</td>\n",
       "      <td>Magistracy Appeal</td>\n",
       "    </tr>\n",
       "    <tr>\n",
       "      <th>17</th>\n",
       "      <td>1996</td>\n",
       "      <td>https://legalref.judiciary.hk/lrs/common/ju/judgment.jsp?EX=T&amp;L1=HC&amp;L2=MA&amp;L3=1996&amp;AR=23_24#A23_24</td>\n",
       "      <td>Magistracy Appeal</td>\n",
       "    </tr>\n",
       "    <tr>\n",
       "      <th>18</th>\n",
       "      <td>1994</td>\n",
       "      <td>https://legalref.judiciary.hk/lrs/common/ju/judgment.jsp?EX=T&amp;L1=HC&amp;L2=MA&amp;L3=1994&amp;AR=23_26#A23_26</td>\n",
       "      <td>Magistracy Appeal</td>\n",
       "    </tr>\n",
       "    <tr>\n",
       "      <th>19</th>\n",
       "      <td>2019</td>\n",
       "      <td>https://legalref.judiciary.hk/lrs/common/ju/judgment.jsp?EX=T&amp;L1=HC&amp;L2=MA&amp;L3=2019&amp;AR=23_1#A23_1</td>\n",
       "      <td>Magistracy Appeal</td>\n",
       "    </tr>\n",
       "    <tr>\n",
       "      <th>20</th>\n",
       "      <td>2009</td>\n",
       "      <td>https://legalref.judiciary.hk/lrs/common/ju/judgment.jsp?EX=T&amp;L1=HC&amp;L2=MA&amp;L3=2009&amp;AR=23_11#A23_11</td>\n",
       "      <td>Magistracy Appeal</td>\n",
       "    </tr>\n",
       "    <tr>\n",
       "      <th>21</th>\n",
       "      <td>2013</td>\n",
       "      <td>https://legalref.judiciary.hk/lrs/common/ju/judgment.jsp?EX=T&amp;L1=HC&amp;L2=MA&amp;L3=2013&amp;AR=23_7#A23_7</td>\n",
       "      <td>Magistracy Appeal</td>\n",
       "    </tr>\n",
       "    <tr>\n",
       "      <th>22</th>\n",
       "      <td>2016</td>\n",
       "      <td>https://legalref.judiciary.hk/lrs/common/ju/judgment.jsp?EX=T&amp;L1=HC&amp;L2=MA&amp;L3=2016&amp;AR=23_4#A23_4</td>\n",
       "      <td>Magistracy Appeal</td>\n",
       "    </tr>\n",
       "    <tr>\n",
       "      <th>23</th>\n",
       "      <td>2004</td>\n",
       "      <td>https://legalref.judiciary.hk/lrs/common/ju/judgment.jsp?EX=T&amp;L1=HC&amp;L2=MA&amp;L3=2004&amp;AR=23_16#A23_16</td>\n",
       "      <td>Magistracy Appeal</td>\n",
       "    </tr>\n",
       "    <tr>\n",
       "      <th>24</th>\n",
       "      <td>1987</td>\n",
       "      <td>https://legalref.judiciary.hk/lrs/common/ju/judgment.jsp?EX=T&amp;L1=HC&amp;L2=MA&amp;L3=1987&amp;AR=23_33#A23_33</td>\n",
       "      <td>Magistracy Appeal</td>\n",
       "    </tr>\n",
       "    <tr>\n",
       "      <th>25</th>\n",
       "      <td>1995</td>\n",
       "      <td>https://legalref.judiciary.hk/lrs/common/ju/judgment.jsp?EX=T&amp;L1=HC&amp;L2=MA&amp;L3=1995&amp;AR=23_25#A23_25</td>\n",
       "      <td>Magistracy Appeal</td>\n",
       "    </tr>\n",
       "    <tr>\n",
       "      <th>26</th>\n",
       "      <td>2003</td>\n",
       "      <td>https://legalref.judiciary.hk/lrs/common/ju/judgment.jsp?EX=T&amp;L1=HC&amp;L2=MA&amp;L3=2003&amp;AR=23_17#A23_17</td>\n",
       "      <td>Magistracy Appeal</td>\n",
       "    </tr>\n",
       "    <tr>\n",
       "      <th>27</th>\n",
       "      <td>1988</td>\n",
       "      <td>https://legalref.judiciary.hk/lrs/common/ju/judgment.jsp?EX=T&amp;L1=HC&amp;L2=MA&amp;L3=1988&amp;AR=23_32#A23_32</td>\n",
       "      <td>Magistracy Appeal</td>\n",
       "    </tr>\n",
       "    <tr>\n",
       "      <th>28</th>\n",
       "      <td>1990</td>\n",
       "      <td>https://legalref.judiciary.hk/lrs/common/ju/judgment.jsp?EX=T&amp;L1=HC&amp;L2=MA&amp;L3=1990&amp;AR=23_30#A23_30</td>\n",
       "      <td>Magistracy Appeal</td>\n",
       "    </tr>\n",
       "    <tr>\n",
       "      <th>29</th>\n",
       "      <td>1999</td>\n",
       "      <td>https://legalref.judiciary.hk/lrs/common/ju/judgment.jsp?EX=T&amp;L1=HC&amp;L2=MA&amp;L3=1999&amp;AR=23_21#A23_21</td>\n",
       "      <td>Magistracy Appeal</td>\n",
       "    </tr>\n",
       "    <tr>\n",
       "      <th>30</th>\n",
       "      <td>2018</td>\n",
       "      <td>https://legalref.judiciary.hk/lrs/common/ju/judgment.jsp?EX=T&amp;L1=HC&amp;L2=MA&amp;L3=2018&amp;AR=23_2#A23_2</td>\n",
       "      <td>Magistracy Appeal</td>\n",
       "    </tr>\n",
       "    <tr>\n",
       "      <th>31</th>\n",
       "      <td>2017</td>\n",
       "      <td>https://legalref.judiciary.hk/lrs/common/ju/judgment.jsp?EX=T&amp;L1=HC&amp;L2=MA&amp;L3=2017&amp;AR=23_3#A23_3</td>\n",
       "      <td>Magistracy Appeal</td>\n",
       "    </tr>\n",
       "    <tr>\n",
       "      <th>32</th>\n",
       "      <td>1997</td>\n",
       "      <td>https://legalref.judiciary.hk/lrs/common/ju/judgment.jsp?EX=T&amp;L1=HC&amp;L2=MA&amp;L3=1997&amp;AR=23_23#A23_23</td>\n",
       "      <td>Magistracy Appeal</td>\n",
       "    </tr>\n",
       "    <tr>\n",
       "      <th>33</th>\n",
       "      <td>2015</td>\n",
       "      <td>https://legalref.judiciary.hk/lrs/common/ju/judgment.jsp?EX=T&amp;L1=HC&amp;L2=MA&amp;L3=2015&amp;AR=23_5#A23_5</td>\n",
       "      <td>Magistracy Appeal</td>\n",
       "    </tr>\n",
       "    <tr>\n",
       "      <th>34</th>\n",
       "      <td>1985</td>\n",
       "      <td>https://legalref.judiciary.hk/lrs/common/ju/judgment.jsp?EX=T&amp;L1=HC&amp;L2=MA&amp;L3=1985&amp;AR=23_35#A23_35</td>\n",
       "      <td>Magistracy Appeal</td>\n",
       "    </tr>\n",
       "    <tr>\n",
       "      <th>35</th>\n",
       "      <td>2010</td>\n",
       "      <td>https://legalref.judiciary.hk/lrs/common/ju/judgment.jsp?EX=T&amp;L1=HC&amp;L2=MA&amp;L3=2010&amp;AR=23_10#A23_10</td>\n",
       "      <td>Magistracy Appeal</td>\n",
       "    </tr>\n",
       "    <tr>\n",
       "      <th>36</th>\n",
       "      <td>1991</td>\n",
       "      <td>https://legalref.judiciary.hk/lrs/common/ju/judgment.jsp?EX=T&amp;L1=HC&amp;L2=MA&amp;L3=1991&amp;AR=23_29#A23_29</td>\n",
       "      <td>Magistracy Appeal</td>\n",
       "    </tr>\n",
       "  </tbody>\n",
       "</table>\n",
       "</div>"
      ],
      "text/plain": [
       "    year  \\\n",
       "0   1986   \n",
       "1   1984   \n",
       "2   1983   \n",
       "3   2011   \n",
       "4   2000   \n",
       "5   2012   \n",
       "6   1998   \n",
       "7   1992   \n",
       "8   2001   \n",
       "9   2007   \n",
       "10  1993   \n",
       "11  1989   \n",
       "12  2006   \n",
       "13  2005   \n",
       "14  2014   \n",
       "15  2008   \n",
       "16  2002   \n",
       "17  1996   \n",
       "18  1994   \n",
       "19  2019   \n",
       "20  2009   \n",
       "21  2013   \n",
       "22  2016   \n",
       "23  2004   \n",
       "24  1987   \n",
       "25  1995   \n",
       "26  2003   \n",
       "27  1988   \n",
       "28  1990   \n",
       "29  1999   \n",
       "30  2018   \n",
       "31  2017   \n",
       "32  1997   \n",
       "33  2015   \n",
       "34  1985   \n",
       "35  2010   \n",
       "36  1991   \n",
       "\n",
       "                                                                                             year_url  \\\n",
       "0   https://legalref.judiciary.hk/lrs/common/ju/judgment.jsp?EX=T&L1=HC&L2=MA&L3=1986&AR=23_34#A23_34   \n",
       "1   https://legalref.judiciary.hk/lrs/common/ju/judgment.jsp?EX=T&L1=HC&L2=MA&L3=1984&AR=23_36#A23_36   \n",
       "2   https://legalref.judiciary.hk/lrs/common/ju/judgment.jsp?EX=T&L1=HC&L2=MA&L3=1983&AR=23_37#A23_37   \n",
       "3     https://legalref.judiciary.hk/lrs/common/ju/judgment.jsp?EX=T&L1=HC&L2=MA&L3=2011&AR=23_9#A23_9   \n",
       "4   https://legalref.judiciary.hk/lrs/common/ju/judgment.jsp?EX=T&L1=HC&L2=MA&L3=2000&AR=23_20#A23_20   \n",
       "5     https://legalref.judiciary.hk/lrs/common/ju/judgment.jsp?EX=T&L1=HC&L2=MA&L3=2012&AR=23_8#A23_8   \n",
       "6   https://legalref.judiciary.hk/lrs/common/ju/judgment.jsp?EX=T&L1=HC&L2=MA&L3=1998&AR=23_22#A23_22   \n",
       "7   https://legalref.judiciary.hk/lrs/common/ju/judgment.jsp?EX=T&L1=HC&L2=MA&L3=1992&AR=23_28#A23_28   \n",
       "8   https://legalref.judiciary.hk/lrs/common/ju/judgment.jsp?EX=T&L1=HC&L2=MA&L3=2001&AR=23_19#A23_19   \n",
       "9   https://legalref.judiciary.hk/lrs/common/ju/judgment.jsp?EX=T&L1=HC&L2=MA&L3=2007&AR=23_13#A23_13   \n",
       "10  https://legalref.judiciary.hk/lrs/common/ju/judgment.jsp?EX=T&L1=HC&L2=MA&L3=1993&AR=23_27#A23_27   \n",
       "11  https://legalref.judiciary.hk/lrs/common/ju/judgment.jsp?EX=T&L1=HC&L2=MA&L3=1989&AR=23_31#A23_31   \n",
       "12  https://legalref.judiciary.hk/lrs/common/ju/judgment.jsp?EX=T&L1=HC&L2=MA&L3=2006&AR=23_14#A23_14   \n",
       "13  https://legalref.judiciary.hk/lrs/common/ju/judgment.jsp?EX=T&L1=HC&L2=MA&L3=2005&AR=23_15#A23_15   \n",
       "14    https://legalref.judiciary.hk/lrs/common/ju/judgment.jsp?EX=T&L1=HC&L2=MA&L3=2014&AR=23_6#A23_6   \n",
       "15  https://legalref.judiciary.hk/lrs/common/ju/judgment.jsp?EX=T&L1=HC&L2=MA&L3=2008&AR=23_12#A23_12   \n",
       "16  https://legalref.judiciary.hk/lrs/common/ju/judgment.jsp?EX=T&L1=HC&L2=MA&L3=2002&AR=23_18#A23_18   \n",
       "17  https://legalref.judiciary.hk/lrs/common/ju/judgment.jsp?EX=T&L1=HC&L2=MA&L3=1996&AR=23_24#A23_24   \n",
       "18  https://legalref.judiciary.hk/lrs/common/ju/judgment.jsp?EX=T&L1=HC&L2=MA&L3=1994&AR=23_26#A23_26   \n",
       "19    https://legalref.judiciary.hk/lrs/common/ju/judgment.jsp?EX=T&L1=HC&L2=MA&L3=2019&AR=23_1#A23_1   \n",
       "20  https://legalref.judiciary.hk/lrs/common/ju/judgment.jsp?EX=T&L1=HC&L2=MA&L3=2009&AR=23_11#A23_11   \n",
       "21    https://legalref.judiciary.hk/lrs/common/ju/judgment.jsp?EX=T&L1=HC&L2=MA&L3=2013&AR=23_7#A23_7   \n",
       "22    https://legalref.judiciary.hk/lrs/common/ju/judgment.jsp?EX=T&L1=HC&L2=MA&L3=2016&AR=23_4#A23_4   \n",
       "23  https://legalref.judiciary.hk/lrs/common/ju/judgment.jsp?EX=T&L1=HC&L2=MA&L3=2004&AR=23_16#A23_16   \n",
       "24  https://legalref.judiciary.hk/lrs/common/ju/judgment.jsp?EX=T&L1=HC&L2=MA&L3=1987&AR=23_33#A23_33   \n",
       "25  https://legalref.judiciary.hk/lrs/common/ju/judgment.jsp?EX=T&L1=HC&L2=MA&L3=1995&AR=23_25#A23_25   \n",
       "26  https://legalref.judiciary.hk/lrs/common/ju/judgment.jsp?EX=T&L1=HC&L2=MA&L3=2003&AR=23_17#A23_17   \n",
       "27  https://legalref.judiciary.hk/lrs/common/ju/judgment.jsp?EX=T&L1=HC&L2=MA&L3=1988&AR=23_32#A23_32   \n",
       "28  https://legalref.judiciary.hk/lrs/common/ju/judgment.jsp?EX=T&L1=HC&L2=MA&L3=1990&AR=23_30#A23_30   \n",
       "29  https://legalref.judiciary.hk/lrs/common/ju/judgment.jsp?EX=T&L1=HC&L2=MA&L3=1999&AR=23_21#A23_21   \n",
       "30    https://legalref.judiciary.hk/lrs/common/ju/judgment.jsp?EX=T&L1=HC&L2=MA&L3=2018&AR=23_2#A23_2   \n",
       "31    https://legalref.judiciary.hk/lrs/common/ju/judgment.jsp?EX=T&L1=HC&L2=MA&L3=2017&AR=23_3#A23_3   \n",
       "32  https://legalref.judiciary.hk/lrs/common/ju/judgment.jsp?EX=T&L1=HC&L2=MA&L3=1997&AR=23_23#A23_23   \n",
       "33    https://legalref.judiciary.hk/lrs/common/ju/judgment.jsp?EX=T&L1=HC&L2=MA&L3=2015&AR=23_5#A23_5   \n",
       "34  https://legalref.judiciary.hk/lrs/common/ju/judgment.jsp?EX=T&L1=HC&L2=MA&L3=1985&AR=23_35#A23_35   \n",
       "35  https://legalref.judiciary.hk/lrs/common/ju/judgment.jsp?EX=T&L1=HC&L2=MA&L3=2010&AR=23_10#A23_10   \n",
       "36  https://legalref.judiciary.hk/lrs/common/ju/judgment.jsp?EX=T&L1=HC&L2=MA&L3=1991&AR=23_29#A23_29   \n",
       "\n",
       "    sub_court_cleared  \n",
       "0   Magistracy Appeal  \n",
       "1   Magistracy Appeal  \n",
       "2   Magistracy Appeal  \n",
       "3   Magistracy Appeal  \n",
       "4   Magistracy Appeal  \n",
       "5   Magistracy Appeal  \n",
       "6   Magistracy Appeal  \n",
       "7   Magistracy Appeal  \n",
       "8   Magistracy Appeal  \n",
       "9   Magistracy Appeal  \n",
       "10  Magistracy Appeal  \n",
       "11  Magistracy Appeal  \n",
       "12  Magistracy Appeal  \n",
       "13  Magistracy Appeal  \n",
       "14  Magistracy Appeal  \n",
       "15  Magistracy Appeal  \n",
       "16  Magistracy Appeal  \n",
       "17  Magistracy Appeal  \n",
       "18  Magistracy Appeal  \n",
       "19  Magistracy Appeal  \n",
       "20  Magistracy Appeal  \n",
       "21  Magistracy Appeal  \n",
       "22  Magistracy Appeal  \n",
       "23  Magistracy Appeal  \n",
       "24  Magistracy Appeal  \n",
       "25  Magistracy Appeal  \n",
       "26  Magistracy Appeal  \n",
       "27  Magistracy Appeal  \n",
       "28  Magistracy Appeal  \n",
       "29  Magistracy Appeal  \n",
       "30  Magistracy Appeal  \n",
       "31  Magistracy Appeal  \n",
       "32  Magistracy Appeal  \n",
       "33  Magistracy Appeal  \n",
       "34  Magistracy Appeal  \n",
       "35  Magistracy Appeal  \n",
       "36  Magistracy Appeal  "
      ]
     },
     "execution_count": 217,
     "metadata": {},
     "output_type": "execute_result"
    }
   ],
   "source": [
    "# test case2\n",
    "sub_ = 'Magistracy Appeal'\n",
    "url = special_courts[sub_]\n",
    "print(url)\n",
    "df_test = get_year_urls(sub_, url, df_all, courts_set, urls_set)\n",
    "df_test"
   ]
  },
  {
   "cell_type": "code",
   "execution_count": 218,
   "metadata": {
    "scrolled": true
   },
   "outputs": [
    {
     "name": "stderr",
     "output_type": "stream",
     "text": [
      "\n",
      "  0%|                                                   | 0/88 [00:00<?, ?it/s]"
     ]
    },
    {
     "name": "stdout",
     "output_type": "stream",
     "text": [
      "for sub_court:  Final Appeal (Civil)\n",
      "200\n",
      "200\n"
     ]
    },
    {
     "name": "stderr",
     "output_type": "stream",
     "text": [
      "\n",
      "  1%|▍                                          | 1/88 [00:07<10:35,  7.30s/it]"
     ]
    },
    {
     "name": "stdout",
     "output_type": "stream",
     "text": [
      "for sub_court:  Final Appeal (Criminal)\n",
      "200\n",
      "200\n"
     ]
    },
    {
     "name": "stderr",
     "output_type": "stream",
     "text": [
      "\n",
      "  2%|▉                                          | 2/88 [00:20<13:04,  9.13s/it]"
     ]
    },
    {
     "name": "stdout",
     "output_type": "stream",
     "text": [
      "for sub_court:  Miscellaneou Proceeding\n",
      "200\n",
      "200\n"
     ]
    },
    {
     "name": "stderr",
     "output_type": "stream",
     "text": [
      "\n",
      "  3%|█▍                                         | 3/88 [00:34<14:46, 10.42s/it]"
     ]
    },
    {
     "name": "stdout",
     "output_type": "stream",
     "text": [
      "for sub_court:  Miscellaneou Proceeding (Civil)\n",
      "200\n",
      "200\n"
     ]
    },
    {
     "name": "stderr",
     "output_type": "stream",
     "text": [
      "\n",
      "  5%|█▉                                         | 4/88 [00:39<12:23,  8.85s/it]"
     ]
    },
    {
     "name": "stdout",
     "output_type": "stream",
     "text": [
      "for sub_court:  Miscellaneou Proceeding (Criminal)\n",
      "200\n",
      "200\n"
     ]
    },
    {
     "name": "stderr",
     "output_type": "stream",
     "text": [
      "\n",
      "  6%|██▍                                        | 5/88 [00:44<10:37,  7.68s/it]"
     ]
    },
    {
     "name": "stdout",
     "output_type": "stream",
     "text": [
      "for sub_court:  Application for Review\n",
      "200\n",
      "200\n"
     ]
    },
    {
     "name": "stderr",
     "output_type": "stream",
     "text": [
      "\n",
      "  7%|██▉                                        | 6/88 [00:48<08:58,  6.57s/it]"
     ]
    },
    {
     "name": "stdout",
     "output_type": "stream",
     "text": [
      "for sub_court:  Attorney General Reference\n",
      "200\n",
      "200\n"
     ]
    },
    {
     "name": "stderr",
     "output_type": "stream",
     "text": [
      "\n",
      "  8%|███▍                                       | 7/88 [00:51<07:36,  5.64s/it]"
     ]
    },
    {
     "name": "stdout",
     "output_type": "stream",
     "text": [
      "for sub_court:  Civil Appeal\n",
      "200\n",
      "200\n"
     ]
    },
    {
     "name": "stderr",
     "output_type": "stream",
     "text": [
      "\n",
      "  9%|███▉                                       | 8/88 [01:14<14:30, 10.88s/it]"
     ]
    },
    {
     "name": "stdout",
     "output_type": "stream",
     "text": [
      "for sub_court:  Criminal Appeal\n",
      "200\n",
      "200\n"
     ]
    },
    {
     "name": "stderr",
     "output_type": "stream",
     "text": [
      "\n",
      " 10%|████▍                                      | 9/88 [01:18<11:38,  8.84s/it]"
     ]
    },
    {
     "name": "stdout",
     "output_type": "stream",
     "text": [
      "for sub_court:  Miscellaneou Proceeding\n",
      "200\n",
      "200\n"
     ]
    },
    {
     "name": "stderr",
     "output_type": "stream",
     "text": [
      "\n",
      " 11%|████▊                                     | 10/88 [01:22<09:33,  7.35s/it]"
     ]
    },
    {
     "name": "stdout",
     "output_type": "stream",
     "text": [
      "for sub_court:  Reservation of Question of Law\n",
      "200\n",
      "200\n"
     ]
    },
    {
     "name": "stderr",
     "output_type": "stream",
     "text": [
      "\n",
      " 12%|█████▎                                    | 11/88 [01:27<08:33,  6.66s/it]"
     ]
    },
    {
     "name": "stdout",
     "output_type": "stream",
     "text": [
      "for sub_court:  Admiralty Action\n",
      "200\n",
      "200\n"
     ]
    },
    {
     "name": "stderr",
     "output_type": "stream",
     "text": [
      "\n",
      " 14%|█████▋                                    | 12/88 [01:31<07:20,  5.79s/it]"
     ]
    },
    {
     "name": "stdout",
     "output_type": "stream",
     "text": [
      "for sub_court:  Adoption Application\n",
      "200\n",
      "200\n"
     ]
    },
    {
     "name": "stderr",
     "output_type": "stream",
     "text": [
      "\n",
      " 15%|██████▏                                   | 13/88 [01:35<06:24,  5.12s/it]"
     ]
    },
    {
     "name": "stdout",
     "output_type": "stream",
     "text": [
      "for sub_court:  Application for Grant\n",
      "200\n",
      "200\n"
     ]
    },
    {
     "name": "stderr",
     "output_type": "stream",
     "text": [
      "\n",
      " 16%|██████▋                                   | 14/88 [01:42<06:58,  5.65s/it]"
     ]
    },
    {
     "name": "stdout",
     "output_type": "stream",
     "text": [
      "for sub_court:  Application to et aside a Statutory Demand (under Bankruptcy Ordinance)\n",
      "200\n",
      "200\n"
     ]
    },
    {
     "name": "stderr",
     "output_type": "stream",
     "text": [
      "\n",
      " 17%|███████▏                                  | 15/88 [01:46<06:29,  5.34s/it]"
     ]
    },
    {
     "name": "stdout",
     "output_type": "stream",
     "text": [
      "for sub_court:  Application under the Mental Health Ordinance\n",
      "200\n",
      "200\n"
     ]
    },
    {
     "name": "stderr",
     "output_type": "stream",
     "text": [
      "\n",
      " 18%|███████▋                                  | 16/88 [01:50<05:53,  4.90s/it]"
     ]
    },
    {
     "name": "stdout",
     "output_type": "stream",
     "text": [
      "for sub_court:  Bankruptcy Proceeding\n",
      "200\n",
      "200\n"
     ]
    },
    {
     "name": "stderr",
     "output_type": "stream",
     "text": [
      "\n",
      " 19%|████████                                  | 17/88 [01:55<05:40,  4.80s/it]"
     ]
    },
    {
     "name": "stdout",
     "output_type": "stream",
     "text": [
      "for sub_court:  Caveat\n",
      "200\n",
      "200\n"
     ]
    },
    {
     "name": "stderr",
     "output_type": "stream",
     "text": [
      "\n",
      " 20%|████████▌                                 | 18/88 [02:10<09:14,  7.92s/it]"
     ]
    },
    {
     "name": "stdout",
     "output_type": "stream",
     "text": [
      "for sub_court:  Citation Application\n",
      "200\n",
      "200\n"
     ]
    },
    {
     "name": "stderr",
     "output_type": "stream",
     "text": [
      "\n",
      " 22%|█████████                                 | 19/88 [02:13<07:38,  6.64s/it]"
     ]
    },
    {
     "name": "stdout",
     "output_type": "stream",
     "text": [
      "for sub_court:  Civil Action\n",
      "200\n",
      "200\n"
     ]
    },
    {
     "name": "stderr",
     "output_type": "stream",
     "text": [
      "\n",
      " 23%|█████████▌                                | 20/88 [02:18<06:39,  5.88s/it]"
     ]
    },
    {
     "name": "stdout",
     "output_type": "stream",
     "text": [
      "for sub_court:  Commercial Action\n",
      "200\n",
      "200\n"
     ]
    },
    {
     "name": "stderr",
     "output_type": "stream",
     "text": [
      "\n",
      " 24%|██████████                                | 21/88 [02:25<06:58,  6.25s/it]"
     ]
    },
    {
     "name": "stdout",
     "output_type": "stream",
     "text": [
      "for sub_court:  Companie Winding-up Proceeding\n",
      "200\n",
      "200\n"
     ]
    },
    {
     "name": "stderr",
     "output_type": "stream",
     "text": [
      "\n",
      " 25%|██████████▌                               | 22/88 [02:31<06:49,  6.20s/it]"
     ]
    },
    {
     "name": "stdout",
     "output_type": "stream",
     "text": [
      "for sub_court:  Confidential Miscellaneou Proceeding\n",
      "200\n",
      "200\n"
     ]
    },
    {
     "name": "stderr",
     "output_type": "stream",
     "text": [
      "\n",
      " 26%|██████████▉                               | 23/88 [02:35<05:55,  5.47s/it]"
     ]
    },
    {
     "name": "stdout",
     "output_type": "stream",
     "text": [
      "for sub_court:  Constitutional and Administrative Law Proceeding\n",
      "200\n",
      "200\n"
     ]
    },
    {
     "name": "stderr",
     "output_type": "stream",
     "text": [
      "\n",
      " 27%|███████████▍                              | 24/88 [02:41<06:17,  5.89s/it]"
     ]
    },
    {
     "name": "stdout",
     "output_type": "stream",
     "text": [
      "for sub_court:  Construction and Arbitration Proceeding\n",
      "200\n",
      "200\n"
     ]
    },
    {
     "name": "stderr",
     "output_type": "stream",
     "text": [
      "\n",
      " 28%|███████████▉                              | 25/88 [02:45<05:35,  5.32s/it]"
     ]
    },
    {
     "name": "stdout",
     "output_type": "stream",
     "text": [
      "for sub_court:  Criminal Case\n",
      "200\n",
      "200\n"
     ]
    },
    {
     "name": "stderr",
     "output_type": "stream",
     "text": [
      "\n",
      " 30%|████████████▍                             | 26/88 [03:01<08:37,  8.35s/it]"
     ]
    },
    {
     "name": "stdout",
     "output_type": "stream",
     "text": [
      "for sub_court:  Estate Duty Appeal\n",
      "200\n",
      "200\n"
     ]
    },
    {
     "name": "stderr",
     "output_type": "stream",
     "text": [
      "\n",
      " 31%|████████████▉                             | 27/88 [03:07<07:58,  7.84s/it]"
     ]
    },
    {
     "name": "stdout",
     "output_type": "stream",
     "text": [
      "for sub_court:  Ex-parte Application\n",
      "200\n",
      "200\n"
     ]
    },
    {
     "name": "stderr",
     "output_type": "stream",
     "text": [
      "\n",
      " 32%|█████████████▎                            | 28/88 [03:16<08:11,  8.18s/it]"
     ]
    },
    {
     "name": "stdout",
     "output_type": "stream",
     "text": [
      "for sub_court:  High Court Bankruptcy Interim Order\n",
      "200\n",
      "200\n"
     ]
    },
    {
     "name": "stderr",
     "output_type": "stream",
     "text": [
      "\n",
      " 33%|█████████████▊                            | 29/88 [03:21<06:54,  7.02s/it]"
     ]
    },
    {
     "name": "stdout",
     "output_type": "stream",
     "text": [
      "for sub_court:  Inland Revenue Appeal\n",
      "200\n",
      "200\n"
     ]
    },
    {
     "name": "stderr",
     "output_type": "stream",
     "text": [
      "\n",
      " 34%|██████████████▎                           | 30/88 [03:41<10:29, 10.85s/it]"
     ]
    },
    {
     "name": "stdout",
     "output_type": "stream",
     "text": [
      "for sub_court:  Intended Action\n",
      "200\n",
      "200\n"
     ]
    },
    {
     "name": "stderr",
     "output_type": "stream",
     "text": [
      "\n",
      " 35%|██████████████▊                           | 31/88 [03:44<08:15,  8.69s/it]"
     ]
    },
    {
     "name": "stdout",
     "output_type": "stream",
     "text": [
      "for sub_court:  Labour Tribunal Appeal\n",
      "200\n",
      "200\n"
     ]
    },
    {
     "name": "stderr",
     "output_type": "stream",
     "text": [
      "\n",
      " 36%|███████████████▎                          | 32/88 [03:48<06:45,  7.25s/it]"
     ]
    },
    {
     "name": "stdout",
     "output_type": "stream",
     "text": [
      "for sub_court:  Legal Aid Appeal\n",
      "200\n",
      "200\n"
     ]
    },
    {
     "name": "stderr",
     "output_type": "stream",
     "text": [
      "\n",
      " 38%|███████████████▊                          | 33/88 [03:57<07:00,  7.65s/it]"
     ]
    },
    {
     "name": "stdout",
     "output_type": "stream",
     "text": [
      "for sub_court:  Magistracy Appeal\n",
      "200\n",
      "200\n"
     ]
    },
    {
     "name": "stderr",
     "output_type": "stream",
     "text": [
      "\n",
      " 39%|████████████████▏                         | 34/88 [04:01<06:04,  6.75s/it]"
     ]
    },
    {
     "name": "stdout",
     "output_type": "stream",
     "text": [
      "for sub_court:  Matrimonial Cause\n",
      "200\n",
      "200\n"
     ]
    },
    {
     "name": "stderr",
     "output_type": "stream",
     "text": [
      "\n",
      " 40%|████████████████▋                         | 35/88 [04:05<05:13,  5.92s/it]"
     ]
    },
    {
     "name": "stdout",
     "output_type": "stream",
     "text": [
      "for sub_court:  Minor Employment Claim Appeal\n",
      "200\n",
      "200\n"
     ]
    },
    {
     "name": "stderr",
     "output_type": "stream",
     "text": [
      "\n",
      " 41%|█████████████████▏                        | 36/88 [04:21<07:42,  8.90s/it]"
     ]
    },
    {
     "name": "stdout",
     "output_type": "stream",
     "text": [
      "for sub_court:  Miscellaneou Proceeding\n",
      "200\n",
      "200\n"
     ]
    },
    {
     "name": "stderr",
     "output_type": "stream",
     "text": [
      "\n",
      " 42%|█████████████████▋                        | 37/88 [04:29<07:23,  8.69s/it]"
     ]
    },
    {
     "name": "stdout",
     "output_type": "stream",
     "text": [
      "for sub_court:  Miscellaneou Proceeding (Criminal)\n",
      "200\n",
      "200\n"
     ]
    },
    {
     "name": "stderr",
     "output_type": "stream",
     "text": [
      "\n",
      " 43%|██████████████████▏                       | 38/88 [04:33<06:04,  7.30s/it]"
     ]
    },
    {
     "name": "stdout",
     "output_type": "stream",
     "text": [
      "for sub_court:  Obscene Article Tribunal Appeal\n",
      "200\n",
      "200\n"
     ]
    },
    {
     "name": "stderr",
     "output_type": "stream",
     "text": [
      "\n",
      " 44%|██████████████████▌                       | 39/88 [04:37<05:02,  6.18s/it]"
     ]
    },
    {
     "name": "stdout",
     "output_type": "stream",
     "text": [
      "for sub_court:  Personal Injurie Action\n",
      "200\n",
      "200\n"
     ]
    },
    {
     "name": "stderr",
     "output_type": "stream",
     "text": [
      "\n",
      " 45%|███████████████████                       | 40/88 [04:43<04:47,  5.99s/it]"
     ]
    },
    {
     "name": "stdout",
     "output_type": "stream",
     "text": [
      "for sub_court:  Probate Action\n",
      "200\n",
      "200\n"
     ]
    },
    {
     "name": "stderr",
     "output_type": "stream",
     "text": [
      "\n",
      " 47%|███████████████████▌                      | 41/88 [04:46<04:12,  5.38s/it]"
     ]
    },
    {
     "name": "stdout",
     "output_type": "stream",
     "text": [
      "for sub_court:  Small Claim Tribunal Appeal\n",
      "200\n",
      "200\n"
     ]
    },
    {
     "name": "stderr",
     "output_type": "stream",
     "text": [
      "\n",
      " 48%|████████████████████                      | 42/88 [04:55<04:46,  6.22s/it]"
     ]
    },
    {
     "name": "stdout",
     "output_type": "stream",
     "text": [
      "for sub_court:  Competition Tribunal Action\n",
      "200\n",
      "200\n"
     ]
    },
    {
     "name": "stderr",
     "output_type": "stream",
     "text": [
      "\n",
      " 49%|████████████████████▌                     | 43/88 [04:59<04:12,  5.60s/it]"
     ]
    },
    {
     "name": "stdout",
     "output_type": "stream",
     "text": [
      "for sub_court:  Competition Tribunal Enforcement Action\n",
      "200\n",
      "200\n"
     ]
    },
    {
     "name": "stderr",
     "output_type": "stream",
     "text": [
      "\n",
      " 50%|█████████████████████                     | 44/88 [05:03<03:53,  5.31s/it]"
     ]
    },
    {
     "name": "stdout",
     "output_type": "stream",
     "text": [
      "for sub_court:  Civil Action\n",
      "200\n",
      "200\n"
     ]
    },
    {
     "name": "stderr",
     "output_type": "stream",
     "text": [
      "\n",
      " 51%|█████████████████████▍                    | 45/88 [05:13<04:43,  6.60s/it]"
     ]
    },
    {
     "name": "stdout",
     "output_type": "stream",
     "text": [
      "for sub_court:  Criminal Case\n",
      "200\n",
      "200\n"
     ]
    },
    {
     "name": "stderr",
     "output_type": "stream",
     "text": [
      "\n",
      " 52%|█████████████████████▉                    | 46/88 [05:17<04:04,  5.81s/it]"
     ]
    },
    {
     "name": "stdout",
     "output_type": "stream",
     "text": [
      "for sub_court:  Distraint Case\n",
      "200\n",
      "200\n"
     ]
    },
    {
     "name": "stderr",
     "output_type": "stream",
     "text": [
      "\n",
      " 53%|██████████████████████▍                   | 47/88 [05:26<04:35,  6.73s/it]"
     ]
    },
    {
     "name": "stdout",
     "output_type": "stream",
     "text": [
      "for sub_court:  District Court Tax Claim\n",
      "200\n",
      "200\n"
     ]
    },
    {
     "name": "stderr",
     "output_type": "stream",
     "text": [
      "\n",
      " 55%|██████████████████████▉                   | 48/88 [05:33<04:31,  6.80s/it]"
     ]
    },
    {
     "name": "stdout",
     "output_type": "stream",
     "text": [
      "for sub_court:  Employee Compensation Case\n",
      "200\n",
      "200\n"
     ]
    },
    {
     "name": "stderr",
     "output_type": "stream",
     "text": [
      "\n",
      " 56%|███████████████████████▍                  | 49/88 [05:37<03:50,  5.91s/it]"
     ]
    },
    {
     "name": "stdout",
     "output_type": "stream",
     "text": [
      "for sub_court:  Equal Opportunitie Action\n",
      "200\n",
      "200\n"
     ]
    },
    {
     "name": "stderr",
     "output_type": "stream",
     "text": [
      "\n",
      " 57%|███████████████████████▊                  | 50/88 [05:47<04:34,  7.21s/it]"
     ]
    },
    {
     "name": "stdout",
     "output_type": "stream",
     "text": [
      "for sub_court:  Intended Action\n",
      "200\n",
      "200\n"
     ]
    },
    {
     "name": "stderr",
     "output_type": "stream",
     "text": [
      "\n",
      " 58%|████████████████████████▎                 | 51/88 [05:51<03:53,  6.31s/it]"
     ]
    },
    {
     "name": "stdout",
     "output_type": "stream",
     "text": [
      "for sub_court:  Miscellaneou Proceeding\n",
      "200\n",
      "200\n"
     ]
    },
    {
     "name": "stderr",
     "output_type": "stream",
     "text": [
      "\n",
      " 59%|████████████████████████▊                 | 52/88 [05:55<03:19,  5.54s/it]"
     ]
    },
    {
     "name": "stdout",
     "output_type": "stream",
     "text": [
      "for sub_court:  Occupational Deafne (Compensation) Appeal\n",
      "200\n",
      "200\n"
     ]
    },
    {
     "name": "stderr",
     "output_type": "stream",
     "text": [
      "\n",
      " 60%|█████████████████████████▎                | 53/88 [05:59<02:54,  4.98s/it]"
     ]
    },
    {
     "name": "stdout",
     "output_type": "stream",
     "text": [
      "for sub_court:  Personal Injurie Action\n",
      "200\n",
      "200\n"
     ]
    },
    {
     "name": "stderr",
     "output_type": "stream",
     "text": [
      "\n",
      " 61%|█████████████████████████▊                | 54/88 [06:10<03:56,  6.95s/it]"
     ]
    },
    {
     "name": "stdout",
     "output_type": "stream",
     "text": [
      "for sub_court:  Stamp Duty Appeal\n",
      "200\n",
      "200\n"
     ]
    },
    {
     "name": "stderr",
     "output_type": "stream",
     "text": [
      "\n",
      " 62%|██████████████████████████▎               | 55/88 [06:20<04:18,  7.85s/it]"
     ]
    },
    {
     "name": "stdout",
     "output_type": "stream",
     "text": [
      "for sub_court:  Joint application\n",
      "200\n",
      "200\n"
     ]
    },
    {
     "name": "stderr",
     "output_type": "stream",
     "text": [
      "\n",
      " 64%|██████████████████████████▋               | 56/88 [06:28<04:12,  7.89s/it]"
     ]
    },
    {
     "name": "stdout",
     "output_type": "stream",
     "text": [
      "for sub_court:  Matrimonial Cause\n",
      "200\n",
      "200\n"
     ]
    },
    {
     "name": "stderr",
     "output_type": "stream",
     "text": [
      "\n",
      " 65%|███████████████████████████▏              | 57/88 [06:42<04:58,  9.63s/it]"
     ]
    },
    {
     "name": "stdout",
     "output_type": "stream",
     "text": [
      "for sub_court:  Miscellaneou Proceeding\n",
      "200\n",
      "200\n"
     ]
    },
    {
     "name": "stderr",
     "output_type": "stream",
     "text": [
      "\n",
      " 66%|███████████████████████████▋              | 58/88 [06:48<04:20,  8.69s/it]"
     ]
    },
    {
     "name": "stdout",
     "output_type": "stream",
     "text": [
      "for sub_court:  Building Management Application\n",
      "200\n",
      "200\n"
     ]
    },
    {
     "name": "stderr",
     "output_type": "stream",
     "text": [
      "\n",
      " 67%|████████████████████████████▏             | 59/88 [06:55<03:54,  8.08s/it]"
     ]
    },
    {
     "name": "stdout",
     "output_type": "stream",
     "text": [
      "for sub_court:  Building Ordinance Application\n",
      "200\n",
      "200\n"
     ]
    },
    {
     "name": "stderr",
     "output_type": "stream",
     "text": [
      "\n",
      " 68%|████████████████████████████▋             | 60/88 [07:06<04:11,  8.97s/it]"
     ]
    },
    {
     "name": "stdout",
     "output_type": "stream",
     "text": [
      "for sub_court:  Demolished Building Appeal\n",
      "200\n",
      "200\n"
     ]
    },
    {
     "name": "stderr",
     "output_type": "stream",
     "text": [
      "\n",
      " 69%|█████████████████████████████             | 61/88 [07:22<05:00, 11.11s/it]"
     ]
    },
    {
     "name": "stdout",
     "output_type": "stream",
     "text": [
      "for sub_court:  Demolished Building Application\n",
      "200\n",
      "200\n"
     ]
    },
    {
     "name": "stderr",
     "output_type": "stream",
     "text": [
      "\n",
      " 70%|█████████████████████████████▌            | 62/88 [07:27<04:04,  9.40s/it]"
     ]
    },
    {
     "name": "stdout",
     "output_type": "stream",
     "text": [
      "for sub_court:  Government Rent Appeal\n",
      "200\n",
      "200\n"
     ]
    },
    {
     "name": "stderr",
     "output_type": "stream",
     "text": [
      "\n",
      " 72%|██████████████████████████████            | 63/88 [07:37<03:56,  9.46s/it]"
     ]
    },
    {
     "name": "stdout",
     "output_type": "stream",
     "text": [
      "for sub_court:  Housing Ordinance Appeal\n",
      "200\n",
      "200\n"
     ]
    },
    {
     "name": "stderr",
     "output_type": "stream",
     "text": [
      "\n",
      " 73%|██████████████████████████████▌           | 64/88 [07:46<03:40,  9.19s/it]"
     ]
    },
    {
     "name": "stdout",
     "output_type": "stream",
     "text": [
      "for sub_court:  Land Compulsory Sale Application\n",
      "200\n",
      "200\n"
     ]
    },
    {
     "name": "stderr",
     "output_type": "stream",
     "text": [
      "\n",
      " 74%|███████████████████████████████           | 65/88 [07:50<02:55,  7.64s/it]"
     ]
    },
    {
     "name": "stdout",
     "output_type": "stream",
     "text": [
      "for sub_court:  Land Resumption Application\n",
      "200\n",
      "200\n"
     ]
    },
    {
     "name": "stderr",
     "output_type": "stream",
     "text": [
      "\n",
      " 75%|███████████████████████████████▌          | 66/88 [07:56<02:38,  7.23s/it]"
     ]
    },
    {
     "name": "stdout",
     "output_type": "stream",
     "text": [
      "for sub_court:  Landlord  Appeal\n",
      "200\n",
      "200\n"
     ]
    },
    {
     "name": "stderr",
     "output_type": "stream",
     "text": [
      "\n",
      " 76%|███████████████████████████████▉          | 67/88 [08:00<02:11,  6.25s/it]"
     ]
    },
    {
     "name": "stdout",
     "output_type": "stream",
     "text": [
      "for sub_court:  MTR Ordinance Application\n",
      "200\n",
      "200\n"
     ]
    },
    {
     "name": "stderr",
     "output_type": "stream",
     "text": [
      "\n",
      " 77%|████████████████████████████████▍         | 68/88 [08:04<01:50,  5.52s/it]"
     ]
    },
    {
     "name": "stdout",
     "output_type": "stream",
     "text": [
      "for sub_court:  Miscellaneou Proceeding Application\n",
      "200\n",
      "200\n"
     ]
    },
    {
     "name": "stderr",
     "output_type": "stream",
     "text": [
      "\n",
      " 78%|████████████████████████████████▉         | 69/88 [08:08<01:36,  5.10s/it]"
     ]
    },
    {
     "name": "stdout",
     "output_type": "stream",
     "text": [
      "for sub_court:  Miscellaneou Reference Application\n",
      "200\n",
      "200\n"
     ]
    },
    {
     "name": "stderr",
     "output_type": "stream",
     "text": [
      "\n",
      " 80%|█████████████████████████████████▍        | 70/88 [08:13<01:29,  4.99s/it]"
     ]
    },
    {
     "name": "stdout",
     "output_type": "stream",
     "text": [
      "for sub_court:  New Tenancy Application\n",
      "200\n",
      "200\n"
     ]
    },
    {
     "name": "stderr",
     "output_type": "stream",
     "text": [
      "\n",
      " 81%|█████████████████████████████████▉        | 71/88 [08:17<01:22,  4.88s/it]"
     ]
    },
    {
     "name": "stdout",
     "output_type": "stream",
     "text": [
      "for sub_court:  Part I Possession Application\n",
      "200\n",
      "200\n"
     ]
    },
    {
     "name": "stderr",
     "output_type": "stream",
     "text": [
      "\n",
      " 82%|██████████████████████████████████▎       | 72/88 [08:22<01:16,  4.80s/it]"
     ]
    },
    {
     "name": "stdout",
     "output_type": "stream",
     "text": [
      "for sub_court:  Part II Possession Application\n",
      "200\n",
      "200\n"
     ]
    },
    {
     "name": "stderr",
     "output_type": "stream",
     "text": [
      "\n",
      " 83%|██████████████████████████████████▊       | 73/88 [08:26<01:08,  4.55s/it]"
     ]
    },
    {
     "name": "stdout",
     "output_type": "stream",
     "text": [
      "for sub_court:  Part IV Possession Application\n",
      "200\n",
      "200\n"
     ]
    },
    {
     "name": "stderr",
     "output_type": "stream",
     "text": [
      "\n",
      " 84%|███████████████████████████████████▎      | 74/88 [08:35<01:24,  6.04s/it]"
     ]
    },
    {
     "name": "stdout",
     "output_type": "stream",
     "text": [
      "for sub_court:  Part V Possession Application\n",
      "200\n",
      "200\n"
     ]
    },
    {
     "name": "stderr",
     "output_type": "stream",
     "text": [
      "\n",
      " 85%|███████████████████████████████████▊      | 75/88 [08:39<01:11,  5.50s/it]"
     ]
    },
    {
     "name": "stdout",
     "output_type": "stream",
     "text": [
      "for sub_court:  Railway Ordinance Application\n",
      "200\n",
      "200\n"
     ]
    },
    {
     "name": "stderr",
     "output_type": "stream",
     "text": [
      "\n",
      " 86%|████████████████████████████████████▎     | 76/88 [08:49<01:21,  6.81s/it]"
     ]
    },
    {
     "name": "stdout",
     "output_type": "stream",
     "text": [
      "for sub_court:  Rating Appeal\n",
      "200\n",
      "200\n"
     ]
    },
    {
     "name": "stderr",
     "output_type": "stream",
     "text": [
      "\n",
      " 88%|████████████████████████████████████▊     | 77/88 [08:53<01:05,  5.99s/it]"
     ]
    },
    {
     "name": "stdout",
     "output_type": "stream",
     "text": [
      "for sub_court:  Coroner Court Death Inquest\n",
      "200\n",
      "200\n"
     ]
    },
    {
     "name": "stderr",
     "output_type": "stream",
     "text": [
      "\n",
      " 89%|█████████████████████████████████████▏    | 78/88 [08:59<00:57,  5.74s/it]"
     ]
    },
    {
     "name": "stdout",
     "output_type": "stream",
     "text": [
      "for sub_court:  Eastern Magistrate Court Charge Case\n",
      "200\n",
      "200\n"
     ]
    },
    {
     "name": "stderr",
     "output_type": "stream",
     "text": [
      "\n",
      " 90%|█████████████████████████████████████▋    | 79/88 [09:03<00:49,  5.48s/it]"
     ]
    },
    {
     "name": "stdout",
     "output_type": "stream",
     "text": [
      "for sub_court:  Eastern Magistrate Court Summon Case\n",
      "200\n",
      "200\n"
     ]
    },
    {
     "name": "stderr",
     "output_type": "stream",
     "text": [
      "\n",
      " 91%|██████████████████████████████████████▏   | 80/88 [09:08<00:41,  5.20s/it]"
     ]
    },
    {
     "name": "stdout",
     "output_type": "stream",
     "text": [
      "for sub_court:  Kowloon City Magistrate Court Charge Case\n",
      "200\n",
      "200\n"
     ]
    },
    {
     "name": "stderr",
     "output_type": "stream",
     "text": [
      "\n",
      " 92%|██████████████████████████████████████▋   | 81/88 [09:12<00:34,  4.97s/it]"
     ]
    },
    {
     "name": "stdout",
     "output_type": "stream",
     "text": [
      "for sub_court:  Kowloon City Magistrates’ Court Summon Case\n",
      "200\n",
      "200\n"
     ]
    },
    {
     "name": "stderr",
     "output_type": "stream",
     "text": [
      "\n",
      " 93%|███████████████████████████████████████▏  | 82/88 [09:30<00:53,  8.90s/it]"
     ]
    },
    {
     "name": "stdout",
     "output_type": "stream",
     "text": [
      "for sub_court:  Labour Tribunal Claim\n",
      "200\n",
      "200\n"
     ]
    },
    {
     "name": "stderr",
     "output_type": "stream",
     "text": [
      "\n",
      " 94%|███████████████████████████████████████▌  | 83/88 [09:38<00:41,  8.37s/it]"
     ]
    },
    {
     "name": "stdout",
     "output_type": "stream",
     "text": [
      "for sub_court:  Obscene Article Tribunal Case\n",
      "200\n",
      "200\n"
     ]
    },
    {
     "name": "stderr",
     "output_type": "stream",
     "text": [
      "\n",
      " 95%|████████████████████████████████████████  | 84/88 [09:42<00:28,  7.19s/it]"
     ]
    },
    {
     "name": "stdout",
     "output_type": "stream",
     "text": [
      "for sub_court:  Shatin Magistrate Court Charge Case\n",
      "200\n",
      "200\n"
     ]
    },
    {
     "name": "stderr",
     "output_type": "stream",
     "text": [
      "\n",
      " 97%|████████████████████████████████████████▌ | 85/88 [09:47<00:19,  6.54s/it]"
     ]
    },
    {
     "name": "stdout",
     "output_type": "stream",
     "text": [
      "for sub_court:  Small Claim Tribunal Claim\n",
      "200\n",
      "200\n"
     ]
    },
    {
     "name": "stderr",
     "output_type": "stream",
     "text": [
      "\n",
      " 98%|█████████████████████████████████████████ | 86/88 [09:51<00:11,  5.76s/it]"
     ]
    },
    {
     "name": "stdout",
     "output_type": "stream",
     "text": [
      "for sub_court:  Tuen Mun Magistrate Court Charge Case\n",
      "200\n",
      "200\n"
     ]
    },
    {
     "name": "stderr",
     "output_type": "stream",
     "text": [
      "\n",
      " 99%|█████████████████████████████████████████▌| 87/88 [09:55<00:05,  5.20s/it]"
     ]
    },
    {
     "name": "stdout",
     "output_type": "stream",
     "text": [
      "for sub_court:  West Kowloon Magistrate Court Charge Case\n",
      "200\n",
      "200\n"
     ]
    },
    {
     "name": "stderr",
     "output_type": "stream",
     "text": [
      "\n",
      "100%|██████████████████████████████████████████| 88/88 [09:59<00:00,  4.78s/it]\n"
     ]
    },
    {
     "name": "stdout",
     "output_type": "stream",
     "text": [
      "(1641, 3)\n"
     ]
    },
    {
     "data": {
      "text/html": [
       "<div>\n",
       "<style scoped>\n",
       "    .dataframe tbody tr th:only-of-type {\n",
       "        vertical-align: middle;\n",
       "    }\n",
       "\n",
       "    .dataframe tbody tr th {\n",
       "        vertical-align: top;\n",
       "    }\n",
       "\n",
       "    .dataframe thead th {\n",
       "        text-align: right;\n",
       "    }\n",
       "</style>\n",
       "<table border=\"1\" class=\"dataframe\">\n",
       "  <thead>\n",
       "    <tr style=\"text-align: right;\">\n",
       "      <th></th>\n",
       "      <th>year</th>\n",
       "      <th>year_url</th>\n",
       "      <th>sub_court_cleared</th>\n",
       "    </tr>\n",
       "  </thead>\n",
       "  <tbody>\n",
       "    <tr>\n",
       "      <th>0</th>\n",
       "      <td>2011</td>\n",
       "      <td>https://legalref.judiciary.hk/lrs/common/ju/judgment.jsp?EX=T&amp;L1=FA&amp;L2=CV&amp;L3=2011&amp;AR=1_8#A1_8</td>\n",
       "      <td>Final Appeal (Civil)</td>\n",
       "    </tr>\n",
       "    <tr>\n",
       "      <th>1</th>\n",
       "      <td>1998</td>\n",
       "      <td>https://legalref.judiciary.hk/lrs/common/ju/judgment.jsp?EX=T&amp;L1=FA&amp;L2=CV&amp;L3=1998&amp;AR=1_21#A1_21</td>\n",
       "      <td>Final Appeal (Civil)</td>\n",
       "    </tr>\n",
       "    <tr>\n",
       "      <th>2</th>\n",
       "      <td>2012</td>\n",
       "      <td>https://legalref.judiciary.hk/lrs/common/ju/judgment.jsp?EX=T&amp;L1=FA&amp;L2=CV&amp;L3=2012&amp;AR=1_7#A1_7</td>\n",
       "      <td>Final Appeal (Civil)</td>\n",
       "    </tr>\n",
       "    <tr>\n",
       "      <th>3</th>\n",
       "      <td>2000</td>\n",
       "      <td>https://legalref.judiciary.hk/lrs/common/ju/judgment.jsp?EX=T&amp;L1=FA&amp;L2=CV&amp;L3=2000&amp;AR=1_19#A1_19</td>\n",
       "      <td>Final Appeal (Civil)</td>\n",
       "    </tr>\n",
       "    <tr>\n",
       "      <th>4</th>\n",
       "      <td>2001</td>\n",
       "      <td>https://legalref.judiciary.hk/lrs/common/ju/judgment.jsp?EX=T&amp;L1=FA&amp;L2=CV&amp;L3=2001&amp;AR=1_18#A1_18</td>\n",
       "      <td>Final Appeal (Civil)</td>\n",
       "    </tr>\n",
       "    <tr>\n",
       "      <th>5</th>\n",
       "      <td>2007</td>\n",
       "      <td>https://legalref.judiciary.hk/lrs/common/ju/judgment.jsp?EX=T&amp;L1=FA&amp;L2=CV&amp;L3=2007&amp;AR=1_12#A1_12</td>\n",
       "      <td>Final Appeal (Civil)</td>\n",
       "    </tr>\n",
       "    <tr>\n",
       "      <th>6</th>\n",
       "      <td>2006</td>\n",
       "      <td>https://legalref.judiciary.hk/lrs/common/ju/judgment.jsp?EX=T&amp;L1=FA&amp;L2=CV&amp;L3=2006&amp;AR=1_13#A1_13</td>\n",
       "      <td>Final Appeal (Civil)</td>\n",
       "    </tr>\n",
       "    <tr>\n",
       "      <th>7</th>\n",
       "      <td>2005</td>\n",
       "      <td>https://legalref.judiciary.hk/lrs/common/ju/judgment.jsp?EX=T&amp;L1=FA&amp;L2=CV&amp;L3=2005&amp;AR=1_14#A1_14</td>\n",
       "      <td>Final Appeal (Civil)</td>\n",
       "    </tr>\n",
       "    <tr>\n",
       "      <th>8</th>\n",
       "      <td>2014</td>\n",
       "      <td>https://legalref.judiciary.hk/lrs/common/ju/judgment.jsp?EX=T&amp;L1=FA&amp;L2=CV&amp;L3=2014&amp;AR=1_5#A1_5</td>\n",
       "      <td>Final Appeal (Civil)</td>\n",
       "    </tr>\n",
       "    <tr>\n",
       "      <th>9</th>\n",
       "      <td>2008</td>\n",
       "      <td>https://legalref.judiciary.hk/lrs/common/ju/judgment.jsp?EX=T&amp;L1=FA&amp;L2=CV&amp;L3=2008&amp;AR=1_11#A1_11</td>\n",
       "      <td>Final Appeal (Civil)</td>\n",
       "    </tr>\n",
       "    <tr>\n",
       "      <th>10</th>\n",
       "      <td>2002</td>\n",
       "      <td>https://legalref.judiciary.hk/lrs/common/ju/judgment.jsp?EX=T&amp;L1=FA&amp;L2=CV&amp;L3=2002&amp;AR=1_17#A1_17</td>\n",
       "      <td>Final Appeal (Civil)</td>\n",
       "    </tr>\n",
       "    <tr>\n",
       "      <th>11</th>\n",
       "      <td>2009</td>\n",
       "      <td>https://legalref.judiciary.hk/lrs/common/ju/judgment.jsp?EX=T&amp;L1=FA&amp;L2=CV&amp;L3=2009&amp;AR=1_10#A1_10</td>\n",
       "      <td>Final Appeal (Civil)</td>\n",
       "    </tr>\n",
       "    <tr>\n",
       "      <th>12</th>\n",
       "      <td>2013</td>\n",
       "      <td>https://legalref.judiciary.hk/lrs/common/ju/judgment.jsp?EX=T&amp;L1=FA&amp;L2=CV&amp;L3=2013&amp;AR=1_6#A1_6</td>\n",
       "      <td>Final Appeal (Civil)</td>\n",
       "    </tr>\n",
       "    <tr>\n",
       "      <th>13</th>\n",
       "      <td>2016</td>\n",
       "      <td>https://legalref.judiciary.hk/lrs/common/ju/judgment.jsp?EX=T&amp;L1=FA&amp;L2=CV&amp;L3=2016&amp;AR=1_3#A1_3</td>\n",
       "      <td>Final Appeal (Civil)</td>\n",
       "    </tr>\n",
       "    <tr>\n",
       "      <th>14</th>\n",
       "      <td>2004</td>\n",
       "      <td>https://legalref.judiciary.hk/lrs/common/ju/judgment.jsp?EX=T&amp;L1=FA&amp;L2=CV&amp;L3=2004&amp;AR=1_15#A1_15</td>\n",
       "      <td>Final Appeal (Civil)</td>\n",
       "    </tr>\n",
       "    <tr>\n",
       "      <th>15</th>\n",
       "      <td>2003</td>\n",
       "      <td>https://legalref.judiciary.hk/lrs/common/ju/judgment.jsp?EX=T&amp;L1=FA&amp;L2=CV&amp;L3=2003&amp;AR=1_16#A1_16</td>\n",
       "      <td>Final Appeal (Civil)</td>\n",
       "    </tr>\n",
       "    <tr>\n",
       "      <th>16</th>\n",
       "      <td>1999</td>\n",
       "      <td>https://legalref.judiciary.hk/lrs/common/ju/judgment.jsp?EX=T&amp;L1=FA&amp;L2=CV&amp;L3=1999&amp;AR=1_20#A1_20</td>\n",
       "      <td>Final Appeal (Civil)</td>\n",
       "    </tr>\n",
       "    <tr>\n",
       "      <th>17</th>\n",
       "      <td>2018</td>\n",
       "      <td>https://legalref.judiciary.hk/lrs/common/ju/judgment.jsp?EX=T&amp;L1=FA&amp;L2=CV&amp;L3=2018&amp;AR=1_1#A1_1</td>\n",
       "      <td>Final Appeal (Civil)</td>\n",
       "    </tr>\n",
       "    <tr>\n",
       "      <th>18</th>\n",
       "      <td>2017</td>\n",
       "      <td>https://legalref.judiciary.hk/lrs/common/ju/judgment.jsp?EX=T&amp;L1=FA&amp;L2=CV&amp;L3=2017&amp;AR=1_2#A1_2</td>\n",
       "      <td>Final Appeal (Civil)</td>\n",
       "    </tr>\n",
       "    <tr>\n",
       "      <th>19</th>\n",
       "      <td>1997</td>\n",
       "      <td>https://legalref.judiciary.hk/lrs/common/ju/judgment.jsp?EX=T&amp;L1=FA&amp;L2=CV&amp;L3=1997&amp;AR=1_22#A1_22</td>\n",
       "      <td>Final Appeal (Civil)</td>\n",
       "    </tr>\n",
       "    <tr>\n",
       "      <th>20</th>\n",
       "      <td>2015</td>\n",
       "      <td>https://legalref.judiciary.hk/lrs/common/ju/judgment.jsp?EX=T&amp;L1=FA&amp;L2=CV&amp;L3=2015&amp;AR=1_4#A1_4</td>\n",
       "      <td>Final Appeal (Civil)</td>\n",
       "    </tr>\n",
       "    <tr>\n",
       "      <th>21</th>\n",
       "      <td>2010</td>\n",
       "      <td>https://legalref.judiciary.hk/lrs/common/ju/judgment.jsp?EX=T&amp;L1=FA&amp;L2=CV&amp;L3=2010&amp;AR=1_9#A1_9</td>\n",
       "      <td>Final Appeal (Civil)</td>\n",
       "    </tr>\n",
       "    <tr>\n",
       "      <th>22</th>\n",
       "      <td>2011</td>\n",
       "      <td>https://legalref.judiciary.hk/lrs/common/ju/judgment.jsp?EX=T&amp;L1=FA&amp;L2=CC&amp;L3=2011&amp;AR=2_8#A2_8</td>\n",
       "      <td>Final Appeal (Criminal)</td>\n",
       "    </tr>\n",
       "    <tr>\n",
       "      <th>23</th>\n",
       "      <td>1998</td>\n",
       "      <td>https://legalref.judiciary.hk/lrs/common/ju/judgment.jsp?EX=T&amp;L1=FA&amp;L2=CC&amp;L3=1998&amp;AR=2_21#A2_21</td>\n",
       "      <td>Final Appeal (Criminal)</td>\n",
       "    </tr>\n",
       "    <tr>\n",
       "      <th>24</th>\n",
       "      <td>2012</td>\n",
       "      <td>https://legalref.judiciary.hk/lrs/common/ju/judgment.jsp?EX=T&amp;L1=FA&amp;L2=CC&amp;L3=2012&amp;AR=2_7#A2_7</td>\n",
       "      <td>Final Appeal (Criminal)</td>\n",
       "    </tr>\n",
       "    <tr>\n",
       "      <th>25</th>\n",
       "      <td>2000</td>\n",
       "      <td>https://legalref.judiciary.hk/lrs/common/ju/judgment.jsp?EX=T&amp;L1=FA&amp;L2=CC&amp;L3=2000&amp;AR=2_19#A2_19</td>\n",
       "      <td>Final Appeal (Criminal)</td>\n",
       "    </tr>\n",
       "    <tr>\n",
       "      <th>26</th>\n",
       "      <td>2001</td>\n",
       "      <td>https://legalref.judiciary.hk/lrs/common/ju/judgment.jsp?EX=T&amp;L1=FA&amp;L2=CC&amp;L3=2001&amp;AR=2_18#A2_18</td>\n",
       "      <td>Final Appeal (Criminal)</td>\n",
       "    </tr>\n",
       "    <tr>\n",
       "      <th>27</th>\n",
       "      <td>2007</td>\n",
       "      <td>https://legalref.judiciary.hk/lrs/common/ju/judgment.jsp?EX=T&amp;L1=FA&amp;L2=CC&amp;L3=2007&amp;AR=2_12#A2_12</td>\n",
       "      <td>Final Appeal (Criminal)</td>\n",
       "    </tr>\n",
       "    <tr>\n",
       "      <th>28</th>\n",
       "      <td>2006</td>\n",
       "      <td>https://legalref.judiciary.hk/lrs/common/ju/judgment.jsp?EX=T&amp;L1=FA&amp;L2=CC&amp;L3=2006&amp;AR=2_13#A2_13</td>\n",
       "      <td>Final Appeal (Criminal)</td>\n",
       "    </tr>\n",
       "    <tr>\n",
       "      <th>29</th>\n",
       "      <td>2005</td>\n",
       "      <td>https://legalref.judiciary.hk/lrs/common/ju/judgment.jsp?EX=T&amp;L1=FA&amp;L2=CC&amp;L3=2005&amp;AR=2_14#A2_14</td>\n",
       "      <td>Final Appeal (Criminal)</td>\n",
       "    </tr>\n",
       "    <tr>\n",
       "      <th>...</th>\n",
       "      <td>...</td>\n",
       "      <td>...</td>\n",
       "      <td>...</td>\n",
       "    </tr>\n",
       "    <tr>\n",
       "      <th>1611</th>\n",
       "      <td>2001</td>\n",
       "      <td>https://legalref.judiciary.hk/lrs/common/ju/judgment.jsp?EX=T&amp;L1=LD&amp;L2=RA&amp;L3=2001&amp;AR=19_10#A19_10</td>\n",
       "      <td>Rating Appeal</td>\n",
       "    </tr>\n",
       "    <tr>\n",
       "      <th>1612</th>\n",
       "      <td>2007</td>\n",
       "      <td>https://legalref.judiciary.hk/lrs/common/ju/judgment.jsp?EX=T&amp;L1=LD&amp;L2=RA&amp;L3=2007&amp;AR=19_4#A19_4</td>\n",
       "      <td>Rating Appeal</td>\n",
       "    </tr>\n",
       "    <tr>\n",
       "      <th>1613</th>\n",
       "      <td>2003</td>\n",
       "      <td>https://legalref.judiciary.hk/lrs/common/ju/judgment.jsp?EX=T&amp;L1=LD&amp;L2=RA&amp;L3=2003&amp;AR=19_8#A19_8</td>\n",
       "      <td>Rating Appeal</td>\n",
       "    </tr>\n",
       "    <tr>\n",
       "      <th>1614</th>\n",
       "      <td>1988</td>\n",
       "      <td>https://legalref.judiciary.hk/lrs/common/ju/judgment.jsp?EX=T&amp;L1=LD&amp;L2=RA&amp;L3=1988&amp;AR=19_13#A19_13</td>\n",
       "      <td>Rating Appeal</td>\n",
       "    </tr>\n",
       "    <tr>\n",
       "      <th>1615</th>\n",
       "      <td>2006</td>\n",
       "      <td>https://legalref.judiciary.hk/lrs/common/ju/judgment.jsp?EX=T&amp;L1=LD&amp;L2=RA&amp;L3=2006&amp;AR=19_5#A19_5</td>\n",
       "      <td>Rating Appeal</td>\n",
       "    </tr>\n",
       "    <tr>\n",
       "      <th>1616</th>\n",
       "      <td>2005</td>\n",
       "      <td>https://legalref.judiciary.hk/lrs/common/ju/judgment.jsp?EX=T&amp;L1=LD&amp;L2=RA&amp;L3=2005&amp;AR=19_6#A19_6</td>\n",
       "      <td>Rating Appeal</td>\n",
       "    </tr>\n",
       "    <tr>\n",
       "      <th>1617</th>\n",
       "      <td>2014</td>\n",
       "      <td>https://legalref.judiciary.hk/lrs/common/ju/judgment.jsp?EX=T&amp;L1=LD&amp;L2=RA&amp;L3=2014&amp;AR=19_2#A19_2</td>\n",
       "      <td>Rating Appeal</td>\n",
       "    </tr>\n",
       "    <tr>\n",
       "      <th>1618</th>\n",
       "      <td>1980</td>\n",
       "      <td>https://legalref.judiciary.hk/lrs/common/ju/judgment.jsp?EX=T&amp;L1=LD&amp;L2=RA&amp;L3=1980&amp;AR=19_18#A19_18</td>\n",
       "      <td>Rating Appeal</td>\n",
       "    </tr>\n",
       "    <tr>\n",
       "      <th>1619</th>\n",
       "      <td>1982</td>\n",
       "      <td>https://legalref.judiciary.hk/lrs/common/ju/judgment.jsp?EX=T&amp;L1=LD&amp;L2=RA&amp;L3=1982&amp;AR=19_17#A19_17</td>\n",
       "      <td>Rating Appeal</td>\n",
       "    </tr>\n",
       "    <tr>\n",
       "      <th>1620</th>\n",
       "      <td>2013</td>\n",
       "      <td>https://legalref.judiciary.hk/lrs/common/ju/judgment.jsp?EX=T&amp;L1=CC&amp;L2=DI&amp;L3=2013&amp;AR=1_1#A1_1</td>\n",
       "      <td>Coroner Court Death Inquest</td>\n",
       "    </tr>\n",
       "    <tr>\n",
       "      <th>1621</th>\n",
       "      <td>2018</td>\n",
       "      <td>https://legalref.judiciary.hk/lrs/common/ju/judgment.jsp?EX=T&amp;L1=ES&amp;L2=CC&amp;L3=2018&amp;AR=2_1#A2_1</td>\n",
       "      <td>Eastern Magistrate Court Charge Case</td>\n",
       "    </tr>\n",
       "    <tr>\n",
       "      <th>1622</th>\n",
       "      <td>2015</td>\n",
       "      <td>https://legalref.judiciary.hk/lrs/common/ju/judgment.jsp?EX=T&amp;L1=ES&amp;L2=CC&amp;L3=2015&amp;AR=2_3#A2_3</td>\n",
       "      <td>Eastern Magistrate Court Charge Case</td>\n",
       "    </tr>\n",
       "    <tr>\n",
       "      <th>1623</th>\n",
       "      <td>2011</td>\n",
       "      <td>https://legalref.judiciary.hk/lrs/common/ju/judgment.jsp?EX=T&amp;L1=ES&amp;L2=CC&amp;L3=2011&amp;AR=2_4#A2_4</td>\n",
       "      <td>Eastern Magistrate Court Charge Case</td>\n",
       "    </tr>\n",
       "    <tr>\n",
       "      <th>1624</th>\n",
       "      <td>2016</td>\n",
       "      <td>https://legalref.judiciary.hk/lrs/common/ju/judgment.jsp?EX=T&amp;L1=ES&amp;L2=CC&amp;L3=2016&amp;AR=2_2#A2_2</td>\n",
       "      <td>Eastern Magistrate Court Charge Case</td>\n",
       "    </tr>\n",
       "    <tr>\n",
       "      <th>1625</th>\n",
       "      <td>2013</td>\n",
       "      <td>https://legalref.judiciary.hk/lrs/common/ju/judgment.jsp?EX=T&amp;L1=ES&amp;L2=S&amp;L3=2013&amp;AR=3_2#A3_2</td>\n",
       "      <td>Eastern Magistrate Court Summon Case</td>\n",
       "    </tr>\n",
       "    <tr>\n",
       "      <th>1626</th>\n",
       "      <td>2016</td>\n",
       "      <td>https://legalref.judiciary.hk/lrs/common/ju/judgment.jsp?EX=T&amp;L1=ES&amp;L2=S&amp;L3=2016&amp;AR=3_1#A3_1</td>\n",
       "      <td>Eastern Magistrate Court Summon Case</td>\n",
       "    </tr>\n",
       "    <tr>\n",
       "      <th>1627</th>\n",
       "      <td>2017</td>\n",
       "      <td>https://legalref.judiciary.hk/lrs/common/ju/judgment.jsp?EX=T&amp;L1=KC&amp;L2=CC&amp;L3=2017&amp;AR=4_2#A4_2</td>\n",
       "      <td>Kowloon City Magistrate Court Charge Case</td>\n",
       "    </tr>\n",
       "    <tr>\n",
       "      <th>1628</th>\n",
       "      <td>2018</td>\n",
       "      <td>https://legalref.judiciary.hk/lrs/common/ju/judgment.jsp?EX=T&amp;L1=KC&amp;L2=CC&amp;L3=2018&amp;AR=4_1#A4_1</td>\n",
       "      <td>Kowloon City Magistrate Court Charge Case</td>\n",
       "    </tr>\n",
       "    <tr>\n",
       "      <th>1629</th>\n",
       "      <td>2002</td>\n",
       "      <td>https://legalref.judiciary.hk/lrs/common/ju/judgment.jsp?EX=T&amp;L1=KC&amp;L2=CC&amp;L3=2002&amp;AR=4_4#A4_4</td>\n",
       "      <td>Kowloon City Magistrate Court Charge Case</td>\n",
       "    </tr>\n",
       "    <tr>\n",
       "      <th>1630</th>\n",
       "      <td>2016</td>\n",
       "      <td>https://legalref.judiciary.hk/lrs/common/ju/judgment.jsp?EX=T&amp;L1=KC&amp;L2=CC&amp;L3=2016&amp;AR=4_3#A4_3</td>\n",
       "      <td>Kowloon City Magistrate Court Charge Case</td>\n",
       "    </tr>\n",
       "    <tr>\n",
       "      <th>1631</th>\n",
       "      <td>2013</td>\n",
       "      <td>https://legalref.judiciary.hk/lrs/common/ju/judgment.jsp?EX=T&amp;L1=KC&amp;L2=S&amp;L3=2013&amp;AR=5_1#A5_1</td>\n",
       "      <td>Kowloon City Magistrates’ Court Summon Case</td>\n",
       "    </tr>\n",
       "    <tr>\n",
       "      <th>1632</th>\n",
       "      <td>2012</td>\n",
       "      <td>https://legalref.judiciary.hk/lrs/common/ju/judgment.jsp?EX=T&amp;L1=LB&amp;L2=TC&amp;L3=2012&amp;AR=6_1#A6_1</td>\n",
       "      <td>Labour Tribunal Claim</td>\n",
       "    </tr>\n",
       "    <tr>\n",
       "      <th>1633</th>\n",
       "      <td>2008</td>\n",
       "      <td>https://legalref.judiciary.hk/lrs/common/ju/judgment.jsp?EX=T&amp;L1=LB&amp;L2=TC&amp;L3=2008&amp;AR=6_2#A6_2</td>\n",
       "      <td>Labour Tribunal Claim</td>\n",
       "    </tr>\n",
       "    <tr>\n",
       "      <th>1634</th>\n",
       "      <td>2006</td>\n",
       "      <td>https://legalref.judiciary.hk/lrs/common/ju/judgment.jsp?EX=T&amp;L1=OA&amp;L2=TD&amp;L3=2006&amp;AR=7_1#A7_1</td>\n",
       "      <td>Obscene Article Tribunal Case</td>\n",
       "    </tr>\n",
       "    <tr>\n",
       "      <th>1635</th>\n",
       "      <td>2016</td>\n",
       "      <td>https://legalref.judiciary.hk/lrs/common/ju/judgment.jsp?EX=T&amp;L1=ST&amp;L2=CC&amp;L3=2016&amp;AR=8_1#A8_1</td>\n",
       "      <td>Shatin Magistrate Court Charge Case</td>\n",
       "    </tr>\n",
       "    <tr>\n",
       "      <th>1636</th>\n",
       "      <td>2012</td>\n",
       "      <td>https://legalref.judiciary.hk/lrs/common/ju/judgment.jsp?EX=T&amp;L1=SC&amp;L2=TC&amp;L3=2012&amp;AR=9_2#A9_2</td>\n",
       "      <td>Small Claim Tribunal Claim</td>\n",
       "    </tr>\n",
       "    <tr>\n",
       "      <th>1637</th>\n",
       "      <td>2015</td>\n",
       "      <td>https://legalref.judiciary.hk/lrs/common/ju/judgment.jsp?EX=T&amp;L1=SC&amp;L2=TC&amp;L3=2015&amp;AR=9_1#A9_1</td>\n",
       "      <td>Small Claim Tribunal Claim</td>\n",
       "    </tr>\n",
       "    <tr>\n",
       "      <th>1638</th>\n",
       "      <td>2001</td>\n",
       "      <td>https://legalref.judiciary.hk/lrs/common/ju/judgment.jsp?EX=T&amp;L1=SC&amp;L2=TC&amp;L3=2001&amp;AR=9_3#A9_3</td>\n",
       "      <td>Small Claim Tribunal Claim</td>\n",
       "    </tr>\n",
       "    <tr>\n",
       "      <th>1639</th>\n",
       "      <td>2005</td>\n",
       "      <td>https://legalref.judiciary.hk/lrs/common/ju/judgment.jsp?EX=T&amp;L1=TM&amp;L2=CC&amp;L3=2005&amp;AR=10_1#A10_1</td>\n",
       "      <td>Tuen Mun Magistrate Court Charge Case</td>\n",
       "    </tr>\n",
       "    <tr>\n",
       "      <th>1640</th>\n",
       "      <td>2017</td>\n",
       "      <td>https://legalref.judiciary.hk/lrs/common/ju/judgment.jsp?EX=T&amp;L1=WK&amp;L2=CC&amp;L3=2017&amp;AR=11_1#A11_1</td>\n",
       "      <td>West Kowloon Magistrate Court Charge Case</td>\n",
       "    </tr>\n",
       "  </tbody>\n",
       "</table>\n",
       "<p>1641 rows × 3 columns</p>\n",
       "</div>"
      ],
      "text/plain": [
       "      year  \\\n",
       "0     2011   \n",
       "1     1998   \n",
       "2     2012   \n",
       "3     2000   \n",
       "4     2001   \n",
       "5     2007   \n",
       "6     2006   \n",
       "7     2005   \n",
       "8     2014   \n",
       "9     2008   \n",
       "10    2002   \n",
       "11    2009   \n",
       "12    2013   \n",
       "13    2016   \n",
       "14    2004   \n",
       "15    2003   \n",
       "16    1999   \n",
       "17    2018   \n",
       "18    2017   \n",
       "19    1997   \n",
       "20    2015   \n",
       "21    2010   \n",
       "22    2011   \n",
       "23    1998   \n",
       "24    2012   \n",
       "25    2000   \n",
       "26    2001   \n",
       "27    2007   \n",
       "28    2006   \n",
       "29    2005   \n",
       "...    ...   \n",
       "1611  2001   \n",
       "1612  2007   \n",
       "1613  2003   \n",
       "1614  1988   \n",
       "1615  2006   \n",
       "1616  2005   \n",
       "1617  2014   \n",
       "1618  1980   \n",
       "1619  1982   \n",
       "1620  2013   \n",
       "1621  2018   \n",
       "1622  2015   \n",
       "1623  2011   \n",
       "1624  2016   \n",
       "1625  2013   \n",
       "1626  2016   \n",
       "1627  2017   \n",
       "1628  2018   \n",
       "1629  2002   \n",
       "1630  2016   \n",
       "1631  2013   \n",
       "1632  2012   \n",
       "1633  2008   \n",
       "1634  2006   \n",
       "1635  2016   \n",
       "1636  2012   \n",
       "1637  2015   \n",
       "1638  2001   \n",
       "1639  2005   \n",
       "1640  2017   \n",
       "\n",
       "                                                                                               year_url  \\\n",
       "0         https://legalref.judiciary.hk/lrs/common/ju/judgment.jsp?EX=T&L1=FA&L2=CV&L3=2011&AR=1_8#A1_8   \n",
       "1       https://legalref.judiciary.hk/lrs/common/ju/judgment.jsp?EX=T&L1=FA&L2=CV&L3=1998&AR=1_21#A1_21   \n",
       "2         https://legalref.judiciary.hk/lrs/common/ju/judgment.jsp?EX=T&L1=FA&L2=CV&L3=2012&AR=1_7#A1_7   \n",
       "3       https://legalref.judiciary.hk/lrs/common/ju/judgment.jsp?EX=T&L1=FA&L2=CV&L3=2000&AR=1_19#A1_19   \n",
       "4       https://legalref.judiciary.hk/lrs/common/ju/judgment.jsp?EX=T&L1=FA&L2=CV&L3=2001&AR=1_18#A1_18   \n",
       "5       https://legalref.judiciary.hk/lrs/common/ju/judgment.jsp?EX=T&L1=FA&L2=CV&L3=2007&AR=1_12#A1_12   \n",
       "6       https://legalref.judiciary.hk/lrs/common/ju/judgment.jsp?EX=T&L1=FA&L2=CV&L3=2006&AR=1_13#A1_13   \n",
       "7       https://legalref.judiciary.hk/lrs/common/ju/judgment.jsp?EX=T&L1=FA&L2=CV&L3=2005&AR=1_14#A1_14   \n",
       "8         https://legalref.judiciary.hk/lrs/common/ju/judgment.jsp?EX=T&L1=FA&L2=CV&L3=2014&AR=1_5#A1_5   \n",
       "9       https://legalref.judiciary.hk/lrs/common/ju/judgment.jsp?EX=T&L1=FA&L2=CV&L3=2008&AR=1_11#A1_11   \n",
       "10      https://legalref.judiciary.hk/lrs/common/ju/judgment.jsp?EX=T&L1=FA&L2=CV&L3=2002&AR=1_17#A1_17   \n",
       "11      https://legalref.judiciary.hk/lrs/common/ju/judgment.jsp?EX=T&L1=FA&L2=CV&L3=2009&AR=1_10#A1_10   \n",
       "12        https://legalref.judiciary.hk/lrs/common/ju/judgment.jsp?EX=T&L1=FA&L2=CV&L3=2013&AR=1_6#A1_6   \n",
       "13        https://legalref.judiciary.hk/lrs/common/ju/judgment.jsp?EX=T&L1=FA&L2=CV&L3=2016&AR=1_3#A1_3   \n",
       "14      https://legalref.judiciary.hk/lrs/common/ju/judgment.jsp?EX=T&L1=FA&L2=CV&L3=2004&AR=1_15#A1_15   \n",
       "15      https://legalref.judiciary.hk/lrs/common/ju/judgment.jsp?EX=T&L1=FA&L2=CV&L3=2003&AR=1_16#A1_16   \n",
       "16      https://legalref.judiciary.hk/lrs/common/ju/judgment.jsp?EX=T&L1=FA&L2=CV&L3=1999&AR=1_20#A1_20   \n",
       "17        https://legalref.judiciary.hk/lrs/common/ju/judgment.jsp?EX=T&L1=FA&L2=CV&L3=2018&AR=1_1#A1_1   \n",
       "18        https://legalref.judiciary.hk/lrs/common/ju/judgment.jsp?EX=T&L1=FA&L2=CV&L3=2017&AR=1_2#A1_2   \n",
       "19      https://legalref.judiciary.hk/lrs/common/ju/judgment.jsp?EX=T&L1=FA&L2=CV&L3=1997&AR=1_22#A1_22   \n",
       "20        https://legalref.judiciary.hk/lrs/common/ju/judgment.jsp?EX=T&L1=FA&L2=CV&L3=2015&AR=1_4#A1_4   \n",
       "21        https://legalref.judiciary.hk/lrs/common/ju/judgment.jsp?EX=T&L1=FA&L2=CV&L3=2010&AR=1_9#A1_9   \n",
       "22        https://legalref.judiciary.hk/lrs/common/ju/judgment.jsp?EX=T&L1=FA&L2=CC&L3=2011&AR=2_8#A2_8   \n",
       "23      https://legalref.judiciary.hk/lrs/common/ju/judgment.jsp?EX=T&L1=FA&L2=CC&L3=1998&AR=2_21#A2_21   \n",
       "24        https://legalref.judiciary.hk/lrs/common/ju/judgment.jsp?EX=T&L1=FA&L2=CC&L3=2012&AR=2_7#A2_7   \n",
       "25      https://legalref.judiciary.hk/lrs/common/ju/judgment.jsp?EX=T&L1=FA&L2=CC&L3=2000&AR=2_19#A2_19   \n",
       "26      https://legalref.judiciary.hk/lrs/common/ju/judgment.jsp?EX=T&L1=FA&L2=CC&L3=2001&AR=2_18#A2_18   \n",
       "27      https://legalref.judiciary.hk/lrs/common/ju/judgment.jsp?EX=T&L1=FA&L2=CC&L3=2007&AR=2_12#A2_12   \n",
       "28      https://legalref.judiciary.hk/lrs/common/ju/judgment.jsp?EX=T&L1=FA&L2=CC&L3=2006&AR=2_13#A2_13   \n",
       "29      https://legalref.judiciary.hk/lrs/common/ju/judgment.jsp?EX=T&L1=FA&L2=CC&L3=2005&AR=2_14#A2_14   \n",
       "...                                                                                                 ...   \n",
       "1611  https://legalref.judiciary.hk/lrs/common/ju/judgment.jsp?EX=T&L1=LD&L2=RA&L3=2001&AR=19_10#A19_10   \n",
       "1612    https://legalref.judiciary.hk/lrs/common/ju/judgment.jsp?EX=T&L1=LD&L2=RA&L3=2007&AR=19_4#A19_4   \n",
       "1613    https://legalref.judiciary.hk/lrs/common/ju/judgment.jsp?EX=T&L1=LD&L2=RA&L3=2003&AR=19_8#A19_8   \n",
       "1614  https://legalref.judiciary.hk/lrs/common/ju/judgment.jsp?EX=T&L1=LD&L2=RA&L3=1988&AR=19_13#A19_13   \n",
       "1615    https://legalref.judiciary.hk/lrs/common/ju/judgment.jsp?EX=T&L1=LD&L2=RA&L3=2006&AR=19_5#A19_5   \n",
       "1616    https://legalref.judiciary.hk/lrs/common/ju/judgment.jsp?EX=T&L1=LD&L2=RA&L3=2005&AR=19_6#A19_6   \n",
       "1617    https://legalref.judiciary.hk/lrs/common/ju/judgment.jsp?EX=T&L1=LD&L2=RA&L3=2014&AR=19_2#A19_2   \n",
       "1618  https://legalref.judiciary.hk/lrs/common/ju/judgment.jsp?EX=T&L1=LD&L2=RA&L3=1980&AR=19_18#A19_18   \n",
       "1619  https://legalref.judiciary.hk/lrs/common/ju/judgment.jsp?EX=T&L1=LD&L2=RA&L3=1982&AR=19_17#A19_17   \n",
       "1620      https://legalref.judiciary.hk/lrs/common/ju/judgment.jsp?EX=T&L1=CC&L2=DI&L3=2013&AR=1_1#A1_1   \n",
       "1621      https://legalref.judiciary.hk/lrs/common/ju/judgment.jsp?EX=T&L1=ES&L2=CC&L3=2018&AR=2_1#A2_1   \n",
       "1622      https://legalref.judiciary.hk/lrs/common/ju/judgment.jsp?EX=T&L1=ES&L2=CC&L3=2015&AR=2_3#A2_3   \n",
       "1623      https://legalref.judiciary.hk/lrs/common/ju/judgment.jsp?EX=T&L1=ES&L2=CC&L3=2011&AR=2_4#A2_4   \n",
       "1624      https://legalref.judiciary.hk/lrs/common/ju/judgment.jsp?EX=T&L1=ES&L2=CC&L3=2016&AR=2_2#A2_2   \n",
       "1625       https://legalref.judiciary.hk/lrs/common/ju/judgment.jsp?EX=T&L1=ES&L2=S&L3=2013&AR=3_2#A3_2   \n",
       "1626       https://legalref.judiciary.hk/lrs/common/ju/judgment.jsp?EX=T&L1=ES&L2=S&L3=2016&AR=3_1#A3_1   \n",
       "1627      https://legalref.judiciary.hk/lrs/common/ju/judgment.jsp?EX=T&L1=KC&L2=CC&L3=2017&AR=4_2#A4_2   \n",
       "1628      https://legalref.judiciary.hk/lrs/common/ju/judgment.jsp?EX=T&L1=KC&L2=CC&L3=2018&AR=4_1#A4_1   \n",
       "1629      https://legalref.judiciary.hk/lrs/common/ju/judgment.jsp?EX=T&L1=KC&L2=CC&L3=2002&AR=4_4#A4_4   \n",
       "1630      https://legalref.judiciary.hk/lrs/common/ju/judgment.jsp?EX=T&L1=KC&L2=CC&L3=2016&AR=4_3#A4_3   \n",
       "1631       https://legalref.judiciary.hk/lrs/common/ju/judgment.jsp?EX=T&L1=KC&L2=S&L3=2013&AR=5_1#A5_1   \n",
       "1632      https://legalref.judiciary.hk/lrs/common/ju/judgment.jsp?EX=T&L1=LB&L2=TC&L3=2012&AR=6_1#A6_1   \n",
       "1633      https://legalref.judiciary.hk/lrs/common/ju/judgment.jsp?EX=T&L1=LB&L2=TC&L3=2008&AR=6_2#A6_2   \n",
       "1634      https://legalref.judiciary.hk/lrs/common/ju/judgment.jsp?EX=T&L1=OA&L2=TD&L3=2006&AR=7_1#A7_1   \n",
       "1635      https://legalref.judiciary.hk/lrs/common/ju/judgment.jsp?EX=T&L1=ST&L2=CC&L3=2016&AR=8_1#A8_1   \n",
       "1636      https://legalref.judiciary.hk/lrs/common/ju/judgment.jsp?EX=T&L1=SC&L2=TC&L3=2012&AR=9_2#A9_2   \n",
       "1637      https://legalref.judiciary.hk/lrs/common/ju/judgment.jsp?EX=T&L1=SC&L2=TC&L3=2015&AR=9_1#A9_1   \n",
       "1638      https://legalref.judiciary.hk/lrs/common/ju/judgment.jsp?EX=T&L1=SC&L2=TC&L3=2001&AR=9_3#A9_3   \n",
       "1639    https://legalref.judiciary.hk/lrs/common/ju/judgment.jsp?EX=T&L1=TM&L2=CC&L3=2005&AR=10_1#A10_1   \n",
       "1640    https://legalref.judiciary.hk/lrs/common/ju/judgment.jsp?EX=T&L1=WK&L2=CC&L3=2017&AR=11_1#A11_1   \n",
       "\n",
       "                                sub_court_cleared  \n",
       "0                            Final Appeal (Civil)  \n",
       "1                            Final Appeal (Civil)  \n",
       "2                            Final Appeal (Civil)  \n",
       "3                            Final Appeal (Civil)  \n",
       "4                            Final Appeal (Civil)  \n",
       "5                            Final Appeal (Civil)  \n",
       "6                            Final Appeal (Civil)  \n",
       "7                            Final Appeal (Civil)  \n",
       "8                            Final Appeal (Civil)  \n",
       "9                            Final Appeal (Civil)  \n",
       "10                           Final Appeal (Civil)  \n",
       "11                           Final Appeal (Civil)  \n",
       "12                           Final Appeal (Civil)  \n",
       "13                           Final Appeal (Civil)  \n",
       "14                           Final Appeal (Civil)  \n",
       "15                           Final Appeal (Civil)  \n",
       "16                           Final Appeal (Civil)  \n",
       "17                           Final Appeal (Civil)  \n",
       "18                           Final Appeal (Civil)  \n",
       "19                           Final Appeal (Civil)  \n",
       "20                           Final Appeal (Civil)  \n",
       "21                           Final Appeal (Civil)  \n",
       "22                        Final Appeal (Criminal)  \n",
       "23                        Final Appeal (Criminal)  \n",
       "24                        Final Appeal (Criminal)  \n",
       "25                        Final Appeal (Criminal)  \n",
       "26                        Final Appeal (Criminal)  \n",
       "27                        Final Appeal (Criminal)  \n",
       "28                        Final Appeal (Criminal)  \n",
       "29                        Final Appeal (Criminal)  \n",
       "...                                           ...  \n",
       "1611                                Rating Appeal  \n",
       "1612                                Rating Appeal  \n",
       "1613                                Rating Appeal  \n",
       "1614                                Rating Appeal  \n",
       "1615                                Rating Appeal  \n",
       "1616                                Rating Appeal  \n",
       "1617                                Rating Appeal  \n",
       "1618                                Rating Appeal  \n",
       "1619                                Rating Appeal  \n",
       "1620                  Coroner Court Death Inquest  \n",
       "1621         Eastern Magistrate Court Charge Case  \n",
       "1622         Eastern Magistrate Court Charge Case  \n",
       "1623         Eastern Magistrate Court Charge Case  \n",
       "1624         Eastern Magistrate Court Charge Case  \n",
       "1625         Eastern Magistrate Court Summon Case  \n",
       "1626         Eastern Magistrate Court Summon Case  \n",
       "1627    Kowloon City Magistrate Court Charge Case  \n",
       "1628    Kowloon City Magistrate Court Charge Case  \n",
       "1629    Kowloon City Magistrate Court Charge Case  \n",
       "1630    Kowloon City Magistrate Court Charge Case  \n",
       "1631  Kowloon City Magistrates’ Court Summon Case  \n",
       "1632                        Labour Tribunal Claim  \n",
       "1633                        Labour Tribunal Claim  \n",
       "1634                Obscene Article Tribunal Case  \n",
       "1635          Shatin Magistrate Court Charge Case  \n",
       "1636                   Small Claim Tribunal Claim  \n",
       "1637                   Small Claim Tribunal Claim  \n",
       "1638                   Small Claim Tribunal Claim  \n",
       "1639        Tuen Mun Magistrate Court Charge Case  \n",
       "1640    West Kowloon Magistrate Court Charge Case  \n",
       "\n",
       "[1641 rows x 3 columns]"
      ]
     },
     "execution_count": 218,
     "metadata": {},
     "output_type": "execute_result"
    }
   ],
   "source": [
    "dfs = []\n",
    "for sc in tqdm(df_all['sub_court_cleared']):\n",
    "    print('for sub_court: ',sc)\n",
    "    # check if special sc\n",
    "    if sc in special_courts:\n",
    "        url = special_courts[sc]\n",
    "    else:\n",
    "        url = list(df_all[df_all['sub_court_cleared']==sc]['sub_court_url'])[0]\n",
    "    match = get_year_urls(sc, url, df_all, courts_set, urls_set)\n",
    "    dfs.append(match)\n",
    "    \n",
    "df_years = pd.concat(dfs, axis=0)\n",
    "df_years.index = range(len(df_years))\n",
    "print(df_years.shape)\n",
    "df_years"
   ]
  },
  {
   "cell_type": "code",
   "execution_count": 222,
   "metadata": {},
   "outputs": [
    {
     "data": {
      "text/html": [
       "<div>\n",
       "<style scoped>\n",
       "    .dataframe tbody tr th:only-of-type {\n",
       "        vertical-align: middle;\n",
       "    }\n",
       "\n",
       "    .dataframe tbody tr th {\n",
       "        vertical-align: top;\n",
       "    }\n",
       "\n",
       "    .dataframe thead th {\n",
       "        text-align: right;\n",
       "    }\n",
       "</style>\n",
       "<table border=\"1\" class=\"dataframe\">\n",
       "  <thead>\n",
       "    <tr style=\"text-align: right;\">\n",
       "      <th></th>\n",
       "      <th>year</th>\n",
       "      <th>year_url</th>\n",
       "      <th>sub_court_cleared</th>\n",
       "    </tr>\n",
       "  </thead>\n",
       "  <tbody>\n",
       "    <tr>\n",
       "      <th>0</th>\n",
       "      <td>2011</td>\n",
       "      <td>https://legalref.judiciary.hk/lrs/common/ju/judgment.jsp?EX=T&amp;L1=FA&amp;L2=CV&amp;L3=2011&amp;AR=1_8#A1_8</td>\n",
       "      <td>Final Appeal (Civil)</td>\n",
       "    </tr>\n",
       "    <tr>\n",
       "      <th>1</th>\n",
       "      <td>1998</td>\n",
       "      <td>https://legalref.judiciary.hk/lrs/common/ju/judgment.jsp?EX=T&amp;L1=FA&amp;L2=CV&amp;L3=1998&amp;AR=1_21#A1_21</td>\n",
       "      <td>Final Appeal (Civil)</td>\n",
       "    </tr>\n",
       "    <tr>\n",
       "      <th>2</th>\n",
       "      <td>2012</td>\n",
       "      <td>https://legalref.judiciary.hk/lrs/common/ju/judgment.jsp?EX=T&amp;L1=FA&amp;L2=CV&amp;L3=2012&amp;AR=1_7#A1_7</td>\n",
       "      <td>Final Appeal (Civil)</td>\n",
       "    </tr>\n",
       "    <tr>\n",
       "      <th>3</th>\n",
       "      <td>2000</td>\n",
       "      <td>https://legalref.judiciary.hk/lrs/common/ju/judgment.jsp?EX=T&amp;L1=FA&amp;L2=CV&amp;L3=2000&amp;AR=1_19#A1_19</td>\n",
       "      <td>Final Appeal (Civil)</td>\n",
       "    </tr>\n",
       "    <tr>\n",
       "      <th>4</th>\n",
       "      <td>2001</td>\n",
       "      <td>https://legalref.judiciary.hk/lrs/common/ju/judgment.jsp?EX=T&amp;L1=FA&amp;L2=CV&amp;L3=2001&amp;AR=1_18#A1_18</td>\n",
       "      <td>Final Appeal (Civil)</td>\n",
       "    </tr>\n",
       "  </tbody>\n",
       "</table>\n",
       "</div>"
      ],
      "text/plain": [
       "   year  \\\n",
       "0  2011   \n",
       "1  1998   \n",
       "2  2012   \n",
       "3  2000   \n",
       "4  2001   \n",
       "\n",
       "                                                                                          year_url  \\\n",
       "0    https://legalref.judiciary.hk/lrs/common/ju/judgment.jsp?EX=T&L1=FA&L2=CV&L3=2011&AR=1_8#A1_8   \n",
       "1  https://legalref.judiciary.hk/lrs/common/ju/judgment.jsp?EX=T&L1=FA&L2=CV&L3=1998&AR=1_21#A1_21   \n",
       "2    https://legalref.judiciary.hk/lrs/common/ju/judgment.jsp?EX=T&L1=FA&L2=CV&L3=2012&AR=1_7#A1_7   \n",
       "3  https://legalref.judiciary.hk/lrs/common/ju/judgment.jsp?EX=T&L1=FA&L2=CV&L3=2000&AR=1_19#A1_19   \n",
       "4  https://legalref.judiciary.hk/lrs/common/ju/judgment.jsp?EX=T&L1=FA&L2=CV&L3=2001&AR=1_18#A1_18   \n",
       "\n",
       "      sub_court_cleared  \n",
       "0  Final Appeal (Civil)  \n",
       "1  Final Appeal (Civil)  \n",
       "2  Final Appeal (Civil)  \n",
       "3  Final Appeal (Civil)  \n",
       "4  Final Appeal (Civil)  "
      ]
     },
     "execution_count": 222,
     "metadata": {},
     "output_type": "execute_result"
    }
   ],
   "source": [
    "df_years.head()"
   ]
  },
  {
   "cell_type": "code",
   "execution_count": 220,
   "metadata": {},
   "outputs": [],
   "source": [
    "# store data\n",
    "with open('data.pickle', 'wb') as ww:\n",
    "    pickle.dump(df_years, ww)\n"
   ]
  },
  {
   "cell_type": "code",
   "execution_count": 5,
   "metadata": {},
   "outputs": [],
   "source": [
    "f = open('data.pickle', 'rb')\n",
    "df_years = pickle.load(f)"
   ]
  },
  {
   "cell_type": "markdown",
   "metadata": {},
   "source": [
    "## Hiearchy 4: details"
   ]
  },
  {
   "cell_type": "code",
   "execution_count": 13,
   "metadata": {},
   "outputs": [],
   "source": [
    "def get_onePage(url, r):\n",
    "    data_onepage = [] # initialize\n",
    "    root = url_to_root(url)\n",
    "    info = root.find('script', string=re.compile(\"var myMenu\")).text.split(\",[\")\n",
    "    B_s = [BeautifulSoup(i) for i in info]\n",
    "    for B in B_s:\n",
    "        try:\n",
    "            sub_court_cleared = r['sub_court_cleared']\n",
    "            year = r['year']\n",
    "            outcome = B.find('td', valign=\"top\", width=\"5%\").find('img')['src']\n",
    "            name = B.find('a', class_=\"ThemeXPRowAnchor\").text\n",
    "\n",
    "            url = B.find('a', class_=\"ThemeXPRowAnchor\")['href']\n",
    "            url = url.split(',')[0]\n",
    "            detail_url = url[re.search(\"https\", url).span()[0]:-2]\n",
    "            date = B.find('font',color=\"#006633\").text\n",
    "            persons = B.find('td', valign=\"top\", width=\"55%\").text\n",
    "            data_onepage.append((sub_court_cleared, year, outcome, name, detail_url, date, persons))\n",
    "        except AttributeError:\n",
    "            continue\n",
    "    return data_onepage\n"
   ]
  },
  {
   "cell_type": "code",
   "execution_count": 15,
   "metadata": {},
   "outputs": [],
   "source": [
    "def store_onePage(idx, data_onepage):\n",
    "    with open(str(idx)+'.pickle', 'wb') as ww:\n",
    "        pickle.dump(data_onepage, ww)\n",
    "    return \n"
   ]
  },
  {
   "cell_type": "code",
   "execution_count": 25,
   "metadata": {
    "scrolled": true
   },
   "outputs": [
    {
     "name": "stderr",
     "output_type": "stream",
     "text": [
      "\n",
      "\n",
      "\n",
      "\n",
      "\n",
      "\n",
      "\n",
      "  0%|                                                 | 0/1641 [00:00<?, ?it/s]"
     ]
    },
    {
     "name": "stdout",
     "output_type": "stream",
     "text": [
      "now in row:  101\n"
     ]
    },
    {
     "name": "stderr",
     "output_type": "stream",
     "text": [
      "\n",
      "\n",
      "\n",
      "\n",
      "\n",
      "\n",
      "\n",
      "  6%|██▎                                   | 102/1641 [00:00<00:13, 112.18it/s]"
     ]
    },
    {
     "name": "stdout",
     "output_type": "stream",
     "text": [
      "now in row:  102\n",
      "now in row:  103\n",
      "now in row:  104\n",
      "now in row:  105\n"
     ]
    },
    {
     "name": "stderr",
     "output_type": "stream",
     "text": [
      "\n",
      "\n",
      "\n",
      "\n",
      "\n",
      "\n",
      "\n",
      "  6%|██▌                                    | 106/1641 [00:03<05:54,  4.33it/s]"
     ]
    },
    {
     "name": "stdout",
     "output_type": "stream",
     "text": [
      "now in row:  106\n",
      "now in row:  107\n",
      "now in row:  108\n"
     ]
    },
    {
     "name": "stderr",
     "output_type": "stream",
     "text": [
      "\n",
      "\n",
      "\n",
      "\n",
      "\n",
      "\n",
      "\n",
      "  7%|██▌                                    | 109/1641 [00:06<10:12,  2.50it/s]"
     ]
    },
    {
     "name": "stdout",
     "output_type": "stream",
     "text": [
      "now in row:  109\n",
      "now in row:  110\n"
     ]
    },
    {
     "name": "stderr",
     "output_type": "stream",
     "text": [
      "\n",
      "\n",
      "\n",
      "\n",
      "\n",
      "\n",
      "\n",
      "  7%|██▋                                    | 111/1641 [00:07<12:56,  1.97it/s]"
     ]
    },
    {
     "name": "stdout",
     "output_type": "stream",
     "text": [
      "now in row:  111\n",
      "now in row:  112\n"
     ]
    },
    {
     "name": "stderr",
     "output_type": "stream",
     "text": [
      "\n",
      "\n",
      "\n",
      "\n",
      "\n",
      "\n",
      "\n",
      "  7%|██▋                                    | 113/1641 [00:09<14:32,  1.75it/s]"
     ]
    },
    {
     "name": "stdout",
     "output_type": "stream",
     "text": [
      "now in row:  113\n"
     ]
    },
    {
     "name": "stderr",
     "output_type": "stream",
     "text": [
      "\n",
      "\n",
      "\n",
      "\n",
      "\n",
      "\n",
      "\n",
      "  7%|██▋                                    | 114/1641 [00:10<16:26,  1.55it/s]"
     ]
    },
    {
     "name": "stdout",
     "output_type": "stream",
     "text": [
      "now in row:  114\n"
     ]
    },
    {
     "name": "stderr",
     "output_type": "stream",
     "text": [
      "\n",
      "\n",
      "\n",
      "\n",
      "\n",
      "\n",
      "\n",
      "  7%|██▋                                    | 115/1641 [00:10<16:05,  1.58it/s]"
     ]
    },
    {
     "name": "stdout",
     "output_type": "stream",
     "text": [
      "now in row:  115\n"
     ]
    },
    {
     "name": "stderr",
     "output_type": "stream",
     "text": [
      "\n",
      "\n",
      "\n",
      "\n",
      "\n",
      "\n",
      "\n",
      "  7%|██▊                                    | 116/1641 [00:11<17:09,  1.48it/s]"
     ]
    },
    {
     "name": "stdout",
     "output_type": "stream",
     "text": [
      "now in row:  116\n"
     ]
    },
    {
     "name": "stderr",
     "output_type": "stream",
     "text": [
      "\n",
      "\n",
      "\n",
      "\n",
      "\n",
      "\n",
      "\n",
      "  7%|██▊                                    | 117/1641 [00:12<17:19,  1.47it/s]"
     ]
    },
    {
     "name": "stdout",
     "output_type": "stream",
     "text": [
      "now in row:  117\n"
     ]
    },
    {
     "name": "stderr",
     "output_type": "stream",
     "text": [
      "\n",
      "\n",
      "\n",
      "\n",
      "\n",
      "\n",
      "\n",
      "  7%|██▊                                    | 118/1641 [00:12<18:00,  1.41it/s]"
     ]
    },
    {
     "name": "stdout",
     "output_type": "stream",
     "text": [
      "now in row:  118\n"
     ]
    },
    {
     "name": "stderr",
     "output_type": "stream",
     "text": [
      "\n",
      "\n",
      "\n",
      "\n",
      "\n",
      "\n",
      "\n",
      "  7%|██▊                                    | 119/1641 [00:13<18:10,  1.40it/s]"
     ]
    },
    {
     "name": "stdout",
     "output_type": "stream",
     "text": [
      "now in row:  119\n"
     ]
    },
    {
     "name": "stderr",
     "output_type": "stream",
     "text": [
      "\n",
      "\n",
      "\n",
      "\n",
      "\n",
      "\n",
      "\n",
      "  7%|██▊                                    | 120/1641 [00:14<18:52,  1.34it/s]"
     ]
    },
    {
     "name": "stdout",
     "output_type": "stream",
     "text": [
      "now in row:  120\n"
     ]
    },
    {
     "name": "stderr",
     "output_type": "stream",
     "text": [
      "\n",
      "\n",
      "\n",
      "\n",
      "\n",
      "\n",
      "\n",
      "  7%|██▉                                    | 121/1641 [00:15<17:57,  1.41it/s]"
     ]
    },
    {
     "name": "stdout",
     "output_type": "stream",
     "text": [
      "now in row:  121\n"
     ]
    },
    {
     "name": "stderr",
     "output_type": "stream",
     "text": [
      "\n",
      "\n",
      "\n",
      "\n",
      "\n",
      "\n",
      "\n",
      "  7%|██▉                                    | 122/1641 [00:15<17:59,  1.41it/s]"
     ]
    },
    {
     "name": "stdout",
     "output_type": "stream",
     "text": [
      "now in row:  122\n"
     ]
    },
    {
     "name": "stderr",
     "output_type": "stream",
     "text": [
      "\n",
      "\n",
      "\n",
      "\n",
      "\n",
      "\n",
      "\n",
      "  7%|██▉                                    | 123/1641 [00:16<17:36,  1.44it/s]"
     ]
    },
    {
     "name": "stdout",
     "output_type": "stream",
     "text": [
      "now in row:  123\n"
     ]
    },
    {
     "name": "stderr",
     "output_type": "stream",
     "text": [
      "\n",
      "\n",
      "\n",
      "\n",
      "\n",
      "\n",
      "\n",
      "  8%|██▉                                    | 124/1641 [00:17<18:39,  1.36it/s]"
     ]
    },
    {
     "name": "stdout",
     "output_type": "stream",
     "text": [
      "now in row:  124\n"
     ]
    },
    {
     "name": "stderr",
     "output_type": "stream",
     "text": [
      "\n",
      "\n",
      "\n",
      "\n",
      "\n",
      "\n",
      "\n",
      "  8%|██▉                                    | 125/1641 [00:18<19:32,  1.29it/s]"
     ]
    },
    {
     "name": "stdout",
     "output_type": "stream",
     "text": [
      "now in row:  125\n"
     ]
    },
    {
     "name": "stderr",
     "output_type": "stream",
     "text": [
      "\n",
      "\n",
      "\n",
      "\n",
      "\n",
      "\n",
      "\n",
      "  8%|██▉                                    | 126/1641 [00:18<19:44,  1.28it/s]"
     ]
    },
    {
     "name": "stdout",
     "output_type": "stream",
     "text": [
      "now in row:  126\n"
     ]
    },
    {
     "name": "stderr",
     "output_type": "stream",
     "text": [
      "\n",
      "\n",
      "\n",
      "\n",
      "\n",
      "\n",
      "\n",
      "  8%|███                                    | 127/1641 [00:19<20:20,  1.24it/s]"
     ]
    },
    {
     "name": "stdout",
     "output_type": "stream",
     "text": [
      "now in row:  127\n"
     ]
    },
    {
     "name": "stderr",
     "output_type": "stream",
     "text": [
      "\n",
      "\n",
      "\n",
      "\n",
      "\n",
      "\n",
      "\n",
      "  8%|███                                    | 128/1641 [00:20<18:38,  1.35it/s]"
     ]
    },
    {
     "name": "stdout",
     "output_type": "stream",
     "text": [
      "now in row:  128\n"
     ]
    },
    {
     "name": "stderr",
     "output_type": "stream",
     "text": [
      "\n",
      "\n",
      "\n",
      "\n",
      "\n",
      "\n",
      "\n",
      "  8%|███                                    | 129/1641 [00:21<20:01,  1.26it/s]"
     ]
    },
    {
     "name": "stdout",
     "output_type": "stream",
     "text": [
      "now in row:  129\n"
     ]
    },
    {
     "name": "stderr",
     "output_type": "stream",
     "text": [
      "\n",
      "\n",
      "\n",
      "\n",
      "\n",
      "\n",
      "\n",
      "  8%|███                                    | 130/1641 [00:25<48:02,  1.91s/it]"
     ]
    },
    {
     "name": "stdout",
     "output_type": "stream",
     "text": [
      "now in row:  130\n"
     ]
    },
    {
     "name": "stderr",
     "output_type": "stream",
     "text": [
      "\n",
      "\n",
      "\n",
      "\n",
      "\n",
      "\n",
      "\n",
      "  8%|███                                    | 131/1641 [00:26<39:06,  1.55s/it]"
     ]
    },
    {
     "name": "stdout",
     "output_type": "stream",
     "text": [
      "now in row:  131\n"
     ]
    },
    {
     "name": "stderr",
     "output_type": "stream",
     "text": [
      "\n",
      "\n",
      "\n",
      "\n",
      "\n",
      "\n",
      "\n",
      "  8%|███▏                                   | 132/1641 [00:27<31:49,  1.27s/it]"
     ]
    },
    {
     "name": "stdout",
     "output_type": "stream",
     "text": [
      "now in row:  132\n"
     ]
    },
    {
     "name": "stderr",
     "output_type": "stream",
     "text": [
      "\n",
      "\n",
      "\n",
      "\n",
      "\n",
      "\n",
      "\n",
      "  8%|███▏                                   | 133/1641 [00:28<28:55,  1.15s/it]"
     ]
    },
    {
     "name": "stdout",
     "output_type": "stream",
     "text": [
      "now in row:  133\n"
     ]
    },
    {
     "name": "stderr",
     "output_type": "stream",
     "text": [
      "\n",
      "\n",
      "\n",
      "\n",
      "\n",
      "\n",
      "\n",
      "  8%|███▏                                   | 134/1641 [00:28<26:38,  1.06s/it]"
     ]
    },
    {
     "name": "stdout",
     "output_type": "stream",
     "text": [
      "now in row:  134\n"
     ]
    },
    {
     "name": "stderr",
     "output_type": "stream",
     "text": [
      "\n",
      "\n",
      "\n",
      "\n",
      "\n",
      "\n",
      "\n",
      "  8%|███▏                                   | 135/1641 [00:29<23:59,  1.05it/s]"
     ]
    },
    {
     "name": "stdout",
     "output_type": "stream",
     "text": [
      "now in row:  135\n"
     ]
    },
    {
     "name": "stderr",
     "output_type": "stream",
     "text": [
      "\n",
      "\n",
      "\n",
      "\n",
      "\n",
      "\n",
      "\n",
      "  8%|███▏                                   | 136/1641 [00:30<22:06,  1.13it/s]"
     ]
    },
    {
     "name": "stdout",
     "output_type": "stream",
     "text": [
      "now in row:  136\n"
     ]
    },
    {
     "name": "stderr",
     "output_type": "stream",
     "text": [
      "\n",
      "\n",
      "\n",
      "\n",
      "\n",
      "\n",
      "\n",
      "  8%|███▎                                   | 137/1641 [00:31<21:12,  1.18it/s]"
     ]
    },
    {
     "name": "stdout",
     "output_type": "stream",
     "text": [
      "now in row:  137\n"
     ]
    },
    {
     "name": "stderr",
     "output_type": "stream",
     "text": [
      "\n",
      "\n",
      "\n",
      "\n",
      "\n",
      "\n",
      "\n",
      "  8%|███▎                                   | 138/1641 [00:31<20:17,  1.23it/s]"
     ]
    },
    {
     "name": "stdout",
     "output_type": "stream",
     "text": [
      "now in row:  138\n"
     ]
    },
    {
     "name": "stderr",
     "output_type": "stream",
     "text": [
      "\n",
      "\n",
      "\n",
      "\n",
      "\n",
      "\n",
      "\n",
      "  8%|███▎                                   | 139/1641 [00:32<18:41,  1.34it/s]"
     ]
    },
    {
     "name": "stdout",
     "output_type": "stream",
     "text": [
      "now in row:  139\n"
     ]
    },
    {
     "name": "stderr",
     "output_type": "stream",
     "text": [
      "\n",
      "\n",
      "\n",
      "\n",
      "\n",
      "\n",
      "\n",
      "  9%|███▎                                   | 140/1641 [00:33<19:16,  1.30it/s]"
     ]
    },
    {
     "name": "stdout",
     "output_type": "stream",
     "text": [
      "now in row:  140\n"
     ]
    },
    {
     "name": "stderr",
     "output_type": "stream",
     "text": [
      "\n",
      "\n",
      "\n",
      "\n",
      "\n",
      "\n",
      "\n",
      "  9%|███▎                                   | 141/1641 [00:33<18:55,  1.32it/s]"
     ]
    },
    {
     "name": "stdout",
     "output_type": "stream",
     "text": [
      "now in row:  141\n"
     ]
    },
    {
     "name": "stderr",
     "output_type": "stream",
     "text": [
      "\n",
      "\n",
      "\n",
      "\n",
      "\n",
      "\n",
      "\n",
      "  9%|███▎                                   | 142/1641 [00:34<19:36,  1.27it/s]"
     ]
    },
    {
     "name": "stdout",
     "output_type": "stream",
     "text": [
      "now in row:  142\n"
     ]
    },
    {
     "name": "stderr",
     "output_type": "stream",
     "text": [
      "\n",
      "\n",
      "\n",
      "\n",
      "\n",
      "\n",
      "\n",
      "  9%|███▍                                   | 143/1641 [00:35<19:35,  1.27it/s]"
     ]
    },
    {
     "name": "stdout",
     "output_type": "stream",
     "text": [
      "now in row:  143\n"
     ]
    },
    {
     "name": "stderr",
     "output_type": "stream",
     "text": [
      "\n",
      "\n",
      "\n",
      "\n",
      "\n",
      "\n",
      "\n",
      "  9%|███▍                                   | 144/1641 [00:36<17:49,  1.40it/s]"
     ]
    },
    {
     "name": "stdout",
     "output_type": "stream",
     "text": [
      "now in row:  144\n"
     ]
    },
    {
     "name": "stderr",
     "output_type": "stream",
     "text": [
      "\n",
      "\n",
      "\n",
      "\n",
      "\n",
      "\n",
      "\n",
      "  9%|███▍                                   | 145/1641 [00:36<17:09,  1.45it/s]"
     ]
    },
    {
     "name": "stdout",
     "output_type": "stream",
     "text": [
      "now in row:  145\n"
     ]
    },
    {
     "name": "stderr",
     "output_type": "stream",
     "text": [
      "\n",
      "\n",
      "\n",
      "\n",
      "\n",
      "\n",
      "\n",
      "  9%|███▍                                   | 146/1641 [00:38<21:59,  1.13it/s]"
     ]
    },
    {
     "name": "stdout",
     "output_type": "stream",
     "text": [
      "now in row:  146\n"
     ]
    },
    {
     "name": "stderr",
     "output_type": "stream",
     "text": [
      "\n",
      "\n",
      "\n",
      "\n",
      "\n",
      "\n",
      "\n",
      "  9%|███▍                                   | 147/1641 [00:39<26:35,  1.07s/it]"
     ]
    },
    {
     "name": "stdout",
     "output_type": "stream",
     "text": [
      "now in row:  147\n"
     ]
    },
    {
     "name": "stderr",
     "output_type": "stream",
     "text": [
      "\n",
      "\n",
      "\n",
      "\n",
      "\n",
      "\n",
      "\n",
      "  9%|███▌                                   | 148/1641 [00:40<28:37,  1.15s/it]"
     ]
    },
    {
     "name": "stdout",
     "output_type": "stream",
     "text": [
      "now in row:  148\n"
     ]
    },
    {
     "name": "stderr",
     "output_type": "stream",
     "text": [
      "\n",
      "\n",
      "\n",
      "\n",
      "\n",
      "\n",
      "\n",
      "  9%|███▌                                   | 149/1641 [00:41<25:24,  1.02s/it]"
     ]
    },
    {
     "name": "stdout",
     "output_type": "stream",
     "text": [
      "now in row:  149\n"
     ]
    },
    {
     "name": "stderr",
     "output_type": "stream",
     "text": [
      "\n",
      "\n",
      "\n",
      "\n",
      "\n",
      "\n",
      "\n",
      "  9%|███▌                                   | 150/1641 [00:43<29:15,  1.18s/it]"
     ]
    },
    {
     "name": "stdout",
     "output_type": "stream",
     "text": [
      "now in row:  150\n"
     ]
    },
    {
     "name": "stderr",
     "output_type": "stream",
     "text": [
      "\n",
      "\n",
      "\n",
      "\n",
      "\n",
      "\n",
      "\n",
      "  9%|███▌                                   | 151/1641 [00:46<48:13,  1.94s/it]"
     ]
    },
    {
     "name": "stdout",
     "output_type": "stream",
     "text": [
      "now in row:  151\n"
     ]
    },
    {
     "name": "stderr",
     "output_type": "stream",
     "text": [
      "\n",
      "\n",
      "\n",
      "\n",
      "\n",
      "\n",
      "\n",
      "  9%|███▌                                   | 152/1641 [00:48<47:08,  1.90s/it]"
     ]
    },
    {
     "name": "stdout",
     "output_type": "stream",
     "text": [
      "now in row:  152\n"
     ]
    },
    {
     "name": "stderr",
     "output_type": "stream",
     "text": [
      "\n",
      "\n",
      "\n",
      "\n",
      "\n",
      "\n",
      "\n",
      "  9%|███▋                                   | 153/1641 [00:50<44:35,  1.80s/it]"
     ]
    },
    {
     "name": "stdout",
     "output_type": "stream",
     "text": [
      "now in row:  153\n"
     ]
    },
    {
     "name": "stderr",
     "output_type": "stream",
     "text": [
      "\n",
      "\n",
      "\n",
      "\n",
      "\n",
      "\n",
      "\n",
      "  9%|███▋                                   | 154/1641 [00:51<37:44,  1.52s/it]"
     ]
    },
    {
     "name": "stdout",
     "output_type": "stream",
     "text": [
      "now in row:  154\n"
     ]
    },
    {
     "name": "stderr",
     "output_type": "stream",
     "text": [
      "\n",
      "\n",
      "\n",
      "\n",
      "\n",
      "\n",
      "\n",
      "  9%|███▋                                   | 155/1641 [00:52<37:27,  1.51s/it]"
     ]
    },
    {
     "name": "stdout",
     "output_type": "stream",
     "text": [
      "now in row:  155\n"
     ]
    },
    {
     "name": "stderr",
     "output_type": "stream",
     "text": [
      "\n",
      "\n",
      "\n",
      "\n",
      "\n",
      "\n",
      "\n",
      " 10%|███▋                                   | 156/1641 [00:55<45:21,  1.83s/it]"
     ]
    },
    {
     "name": "stdout",
     "output_type": "stream",
     "text": [
      "now in row:  156\n"
     ]
    },
    {
     "name": "stderr",
     "output_type": "stream",
     "text": [
      "\n",
      "\n",
      "\n",
      "\n",
      "\n",
      "\n",
      "\n",
      " 10%|███▋                                   | 157/1641 [00:56<43:39,  1.76s/it]"
     ]
    },
    {
     "name": "stdout",
     "output_type": "stream",
     "text": [
      "now in row:  157\n"
     ]
    },
    {
     "name": "stderr",
     "output_type": "stream",
     "text": [
      "\n",
      "\n",
      "\n",
      "\n",
      "\n",
      "\n",
      "\n",
      " 10%|███▊                                   | 158/1641 [00:59<47:00,  1.90s/it]"
     ]
    },
    {
     "name": "stdout",
     "output_type": "stream",
     "text": [
      "now in row:  158\n"
     ]
    },
    {
     "name": "stderr",
     "output_type": "stream",
     "text": [
      "\n",
      "\n",
      "\n",
      "\n",
      "\n",
      "\n",
      "\n",
      " 10%|███▌                                 | 159/1641 [01:09<1:50:24,  4.47s/it]"
     ]
    },
    {
     "name": "stdout",
     "output_type": "stream",
     "text": [
      "now in row:  159\n"
     ]
    },
    {
     "name": "stderr",
     "output_type": "stream",
     "text": [
      "\n",
      "\n",
      "\n",
      "\n",
      "\n",
      "\n",
      "\n",
      " 10%|███▌                                 | 160/1641 [01:12<1:36:58,  3.93s/it]"
     ]
    },
    {
     "name": "stdout",
     "output_type": "stream",
     "text": [
      "now in row:  160\n"
     ]
    },
    {
     "name": "stderr",
     "output_type": "stream",
     "text": [
      "\n",
      "\n",
      "\n",
      "\n",
      "\n",
      "\n",
      "\n",
      " 10%|███▋                                 | 161/1641 [01:13<1:20:55,  3.28s/it]"
     ]
    },
    {
     "name": "stdout",
     "output_type": "stream",
     "text": [
      "now in row:  161\n"
     ]
    },
    {
     "name": "stderr",
     "output_type": "stream",
     "text": [
      "\n",
      "\n",
      "\n",
      "\n",
      "\n",
      "\n",
      "\n",
      " 10%|███▋                                 | 162/1641 [01:15<1:09:50,  2.83s/it]"
     ]
    },
    {
     "name": "stdout",
     "output_type": "stream",
     "text": [
      "now in row:  162\n"
     ]
    },
    {
     "name": "stderr",
     "output_type": "stream",
     "text": [
      "\n",
      "\n",
      "\n",
      "\n",
      "\n",
      "\n",
      "\n",
      " 10%|███▋                                 | 163/1641 [01:17<1:03:04,  2.56s/it]"
     ]
    },
    {
     "name": "stdout",
     "output_type": "stream",
     "text": [
      "now in row:  163\n"
     ]
    },
    {
     "name": "stderr",
     "output_type": "stream",
     "text": [
      "\n",
      "\n",
      "\n",
      "\n",
      "\n",
      "\n",
      "\n",
      " 10%|███▉                                   | 164/1641 [01:19<58:00,  2.36s/it]"
     ]
    },
    {
     "name": "stdout",
     "output_type": "stream",
     "text": [
      "now in row:  164\n"
     ]
    },
    {
     "name": "stderr",
     "output_type": "stream",
     "text": [
      "\n",
      "\n",
      "\n",
      "\n",
      "\n",
      "\n",
      "\n",
      " 10%|███▉                                   | 165/1641 [01:21<55:47,  2.27s/it]"
     ]
    },
    {
     "name": "stdout",
     "output_type": "stream",
     "text": [
      "now in row:  165\n"
     ]
    },
    {
     "name": "stderr",
     "output_type": "stream",
     "text": [
      "\n",
      "\n",
      "\n",
      "\n",
      "\n",
      "\n",
      "\n",
      " 10%|███▉                                   | 166/1641 [01:23<52:21,  2.13s/it]"
     ]
    },
    {
     "name": "stdout",
     "output_type": "stream",
     "text": [
      "now in row:  166\n"
     ]
    },
    {
     "name": "stderr",
     "output_type": "stream",
     "text": [
      "\n",
      "\n",
      "\n",
      "\n",
      "\n",
      "\n",
      "\n",
      " 10%|███▉                                   | 167/1641 [01:24<44:30,  1.81s/it]"
     ]
    },
    {
     "name": "stdout",
     "output_type": "stream",
     "text": [
      "now in row:  167\n"
     ]
    },
    {
     "name": "stderr",
     "output_type": "stream",
     "text": [
      "\n",
      "\n",
      "\n",
      "\n",
      "\n",
      "\n",
      "\n",
      " 10%|███▉                                   | 168/1641 [01:25<40:40,  1.66s/it]"
     ]
    },
    {
     "name": "stdout",
     "output_type": "stream",
     "text": [
      "now in row:  168\n"
     ]
    },
    {
     "name": "stderr",
     "output_type": "stream",
     "text": [
      "\n",
      "\n",
      "\n",
      "\n",
      "\n",
      "\n",
      "\n",
      " 10%|████                                   | 169/1641 [01:27<40:51,  1.67s/it]"
     ]
    },
    {
     "name": "stdout",
     "output_type": "stream",
     "text": [
      "now in row:  169\n"
     ]
    },
    {
     "name": "stderr",
     "output_type": "stream",
     "text": [
      "\n",
      "\n",
      "\n",
      "\n",
      "\n",
      "\n",
      "\n",
      " 10%|████                                   | 170/1641 [01:30<50:19,  2.05s/it]"
     ]
    },
    {
     "name": "stdout",
     "output_type": "stream",
     "text": [
      "now in row:  170\n"
     ]
    },
    {
     "name": "stderr",
     "output_type": "stream",
     "text": [
      "\n",
      "\n",
      "\n",
      "\n",
      "\n",
      "\n",
      "\n",
      " 10%|████                                   | 171/1641 [01:32<52:34,  2.15s/it]"
     ]
    },
    {
     "name": "stdout",
     "output_type": "stream",
     "text": [
      "now in row:  171\n"
     ]
    },
    {
     "name": "stderr",
     "output_type": "stream",
     "text": [
      "\n",
      "\n",
      "\n",
      "\n",
      "\n",
      "\n",
      "\n",
      " 10%|████                                   | 172/1641 [01:34<49:10,  2.01s/it]"
     ]
    },
    {
     "name": "stdout",
     "output_type": "stream",
     "text": [
      "now in row:  172\n"
     ]
    },
    {
     "name": "stderr",
     "output_type": "stream",
     "text": [
      "\n",
      "\n",
      "\n",
      "\n",
      "\n",
      "\n",
      "\n",
      " 11%|████                                   | 173/1641 [01:36<47:44,  1.95s/it]"
     ]
    },
    {
     "name": "stdout",
     "output_type": "stream",
     "text": [
      "now in row:  173\n"
     ]
    },
    {
     "name": "stderr",
     "output_type": "stream",
     "text": [
      "\n",
      "\n",
      "\n",
      "\n",
      "\n",
      "\n",
      "\n",
      " 11%|████▏                                  | 174/1641 [01:38<46:20,  1.90s/it]"
     ]
    },
    {
     "name": "stdout",
     "output_type": "stream",
     "text": [
      "now in row:  174\n"
     ]
    },
    {
     "name": "stderr",
     "output_type": "stream",
     "text": [
      "\n",
      "\n",
      "\n",
      "\n",
      "\n",
      "\n",
      "\n",
      " 11%|████▏                                  | 175/1641 [01:39<44:41,  1.83s/it]"
     ]
    },
    {
     "name": "stdout",
     "output_type": "stream",
     "text": [
      "now in row:  175\n"
     ]
    },
    {
     "name": "stderr",
     "output_type": "stream",
     "text": [
      "\n",
      "\n",
      "\n",
      "\n",
      "\n",
      "\n",
      "\n",
      " 11%|████▏                                  | 176/1641 [01:41<44:44,  1.83s/it]"
     ]
    },
    {
     "name": "stdout",
     "output_type": "stream",
     "text": [
      "now in row:  176\n"
     ]
    },
    {
     "name": "stderr",
     "output_type": "stream",
     "text": [
      "\n",
      "\n",
      "\n",
      "\n",
      "\n",
      "\n",
      "\n",
      " 11%|████▏                                  | 177/1641 [01:43<43:41,  1.79s/it]"
     ]
    },
    {
     "name": "stdout",
     "output_type": "stream",
     "text": [
      "now in row:  177\n"
     ]
    },
    {
     "name": "stderr",
     "output_type": "stream",
     "text": [
      "\n",
      "\n",
      "\n",
      "\n",
      "\n",
      "\n",
      "\n",
      " 11%|████▏                                  | 178/1641 [01:44<42:38,  1.75s/it]"
     ]
    },
    {
     "name": "stdout",
     "output_type": "stream",
     "text": [
      "now in row:  178\n"
     ]
    },
    {
     "name": "stderr",
     "output_type": "stream",
     "text": [
      "\n",
      "\n",
      "\n",
      "\n",
      "\n",
      "\n",
      "\n",
      " 11%|████▎                                  | 179/1641 [01:46<38:26,  1.58s/it]"
     ]
    },
    {
     "name": "stdout",
     "output_type": "stream",
     "text": [
      "now in row:  179\n"
     ]
    },
    {
     "name": "stderr",
     "output_type": "stream",
     "text": [
      "\n",
      "\n",
      "\n",
      "\n",
      "\n",
      "\n",
      "\n",
      " 11%|████                                 | 180/1641 [01:53<1:18:23,  3.22s/it]"
     ]
    },
    {
     "name": "stdout",
     "output_type": "stream",
     "text": [
      "now in row:  180\n"
     ]
    },
    {
     "name": "stderr",
     "output_type": "stream",
     "text": [
      "\n",
      "\n",
      "\n",
      "\n",
      "\n",
      "\n",
      "\n",
      " 11%|████                                 | 181/1641 [01:56<1:19:26,  3.26s/it]"
     ]
    },
    {
     "name": "stdout",
     "output_type": "stream",
     "text": [
      "now in row:  181\n"
     ]
    },
    {
     "name": "stderr",
     "output_type": "stream",
     "text": [
      "\n",
      "\n",
      "\n",
      "\n",
      "\n",
      "\n",
      "\n",
      " 11%|████                                 | 182/1641 [01:58<1:09:28,  2.86s/it]"
     ]
    },
    {
     "name": "stdout",
     "output_type": "stream",
     "text": [
      "now in row:  182\n"
     ]
    },
    {
     "name": "stderr",
     "output_type": "stream",
     "text": [
      "\n",
      "\n",
      "\n",
      "\n",
      "\n",
      "\n",
      "\n",
      " 11%|████▎                                  | 183/1641 [01:59<57:02,  2.35s/it]"
     ]
    },
    {
     "name": "stdout",
     "output_type": "stream",
     "text": [
      "now in row:  183\n"
     ]
    },
    {
     "name": "stderr",
     "output_type": "stream",
     "text": [
      "\n",
      "\n",
      "\n",
      "\n",
      "\n",
      "\n",
      "\n",
      " 11%|████▎                                  | 184/1641 [02:01<53:47,  2.21s/it]"
     ]
    },
    {
     "name": "stdout",
     "output_type": "stream",
     "text": [
      "now in row:  184\n"
     ]
    },
    {
     "name": "stderr",
     "output_type": "stream",
     "text": [
      "\n",
      "\n",
      "\n",
      "\n",
      "\n",
      "\n",
      "\n",
      " 11%|████▍                                  | 185/1641 [02:03<51:27,  2.12s/it]"
     ]
    },
    {
     "name": "stdout",
     "output_type": "stream",
     "text": [
      "now in row:  185\n"
     ]
    },
    {
     "name": "stderr",
     "output_type": "stream",
     "text": [
      "\n",
      "\n",
      "\n",
      "\n",
      "\n",
      "\n",
      "\n",
      " 11%|████▍                                  | 186/1641 [02:05<47:55,  1.98s/it]"
     ]
    },
    {
     "name": "stdout",
     "output_type": "stream",
     "text": [
      "now in row:  186\n"
     ]
    },
    {
     "name": "stderr",
     "output_type": "stream",
     "text": [
      "\n",
      "\n",
      "\n",
      "\n",
      "\n",
      "\n",
      "\n",
      " 11%|████▍                                  | 187/1641 [02:06<43:38,  1.80s/it]"
     ]
    },
    {
     "name": "stdout",
     "output_type": "stream",
     "text": [
      "now in row:  187\n"
     ]
    },
    {
     "name": "stderr",
     "output_type": "stream",
     "text": [
      "\n",
      "\n",
      "\n",
      "\n",
      "\n",
      "\n",
      "\n",
      " 11%|████▍                                  | 188/1641 [02:07<39:49,  1.64s/it]"
     ]
    },
    {
     "name": "stdout",
     "output_type": "stream",
     "text": [
      "now in row:  188\n"
     ]
    },
    {
     "name": "stderr",
     "output_type": "stream",
     "text": [
      "\n",
      "\n",
      "\n",
      "\n",
      "\n",
      "\n",
      "\n",
      " 12%|████▍                                  | 189/1641 [02:08<34:46,  1.44s/it]"
     ]
    },
    {
     "name": "stdout",
     "output_type": "stream",
     "text": [
      "now in row:  189\n"
     ]
    },
    {
     "name": "stderr",
     "output_type": "stream",
     "text": [
      "\n",
      "\n",
      "\n",
      "\n",
      "\n",
      "\n",
      "\n",
      " 12%|████▌                                  | 190/1641 [02:11<44:03,  1.82s/it]"
     ]
    },
    {
     "name": "stdout",
     "output_type": "stream",
     "text": [
      "now in row:  190\n"
     ]
    },
    {
     "name": "stderr",
     "output_type": "stream",
     "text": [
      "\n",
      "\n",
      "\n",
      "\n",
      "\n",
      "\n",
      "\n",
      " 12%|████▌                                  | 191/1641 [02:13<43:28,  1.80s/it]"
     ]
    },
    {
     "name": "stdout",
     "output_type": "stream",
     "text": [
      "now in row:  191\n"
     ]
    },
    {
     "name": "stderr",
     "output_type": "stream",
     "text": [
      "\n",
      "\n",
      "\n",
      "\n",
      "\n",
      "\n",
      "\n",
      " 12%|████▌                                  | 192/1641 [02:14<38:49,  1.61s/it]"
     ]
    },
    {
     "name": "stdout",
     "output_type": "stream",
     "text": [
      "now in row:  192\n"
     ]
    },
    {
     "name": "stderr",
     "output_type": "stream",
     "text": [
      "\n",
      "\n",
      "\n",
      "\n",
      "\n",
      "\n",
      "\n",
      " 12%|████▌                                  | 193/1641 [02:15<33:31,  1.39s/it]"
     ]
    },
    {
     "name": "stdout",
     "output_type": "stream",
     "text": [
      "now in row:  193\n"
     ]
    },
    {
     "name": "stderr",
     "output_type": "stream",
     "text": [
      "\n",
      "\n",
      "\n",
      "\n",
      "\n",
      "\n",
      "\n",
      " 12%|████▌                                  | 194/1641 [02:16<35:17,  1.46s/it]"
     ]
    },
    {
     "name": "stdout",
     "output_type": "stream",
     "text": [
      "now in row:  194\n"
     ]
    },
    {
     "name": "stderr",
     "output_type": "stream",
     "text": [
      "\n",
      "\n",
      "\n",
      "\n",
      "\n",
      "\n",
      "\n",
      " 12%|████▋                                  | 195/1641 [02:20<47:56,  1.99s/it]"
     ]
    },
    {
     "name": "stdout",
     "output_type": "stream",
     "text": [
      "now in row:  195\n"
     ]
    },
    {
     "name": "stderr",
     "output_type": "stream",
     "text": [
      "\n",
      "\n",
      "\n",
      "\n",
      "\n",
      "\n",
      "\n",
      " 12%|████▋                                  | 196/1641 [02:21<44:08,  1.83s/it]"
     ]
    },
    {
     "name": "stdout",
     "output_type": "stream",
     "text": [
      "now in row:  196\n"
     ]
    },
    {
     "name": "stderr",
     "output_type": "stream",
     "text": [
      "\n",
      "\n",
      "\n",
      "\n",
      "\n",
      "\n",
      "\n",
      " 12%|████▋                                  | 197/1641 [02:22<39:36,  1.65s/it]"
     ]
    },
    {
     "name": "stdout",
     "output_type": "stream",
     "text": [
      "now in row:  197\n"
     ]
    },
    {
     "name": "stderr",
     "output_type": "stream",
     "text": [
      "\n",
      "\n",
      "\n",
      "\n",
      "\n",
      "\n",
      "\n",
      " 12%|████▋                                  | 198/1641 [02:24<40:09,  1.67s/it]"
     ]
    },
    {
     "name": "stdout",
     "output_type": "stream",
     "text": [
      "now in row:  198\n"
     ]
    },
    {
     "name": "stderr",
     "output_type": "stream",
     "text": [
      "\n",
      "\n",
      "\n",
      "\n",
      "\n",
      "\n",
      "\n",
      " 12%|████▋                                  | 199/1641 [02:25<38:56,  1.62s/it]"
     ]
    },
    {
     "name": "stdout",
     "output_type": "stream",
     "text": [
      "now in row:  199\n"
     ]
    },
    {
     "name": "stderr",
     "output_type": "stream",
     "text": [
      "\n",
      "\n",
      "\n",
      "\n",
      "\n",
      "\n",
      "\n",
      " 12%|████▊                                  | 200/1641 [02:27<38:32,  1.60s/it]"
     ]
    },
    {
     "name": "stdout",
     "output_type": "stream",
     "text": [
      "now in row:  200\n"
     ]
    },
    {
     "name": "stderr",
     "output_type": "stream",
     "text": [
      "\n",
      "\n",
      "\n",
      "\n",
      "\n",
      "\n",
      "\n",
      " 12%|████▊                                  | 201/1641 [02:29<39:37,  1.65s/it]"
     ]
    },
    {
     "name": "stdout",
     "output_type": "stream",
     "text": [
      "now in row:  201\n"
     ]
    },
    {
     "name": "stderr",
     "output_type": "stream",
     "text": [
      "\n",
      "\n",
      "\n",
      "\n",
      "\n",
      "\n",
      "\n",
      " 12%|████▊                                  | 202/1641 [02:32<51:04,  2.13s/it]"
     ]
    },
    {
     "name": "stdout",
     "output_type": "stream",
     "text": [
      "now in row:  202\n"
     ]
    },
    {
     "name": "stderr",
     "output_type": "stream",
     "text": [
      "\n",
      "\n",
      "\n",
      "\n",
      "\n",
      "\n",
      "\n",
      " 12%|████▊                                  | 203/1641 [02:34<46:48,  1.95s/it]"
     ]
    },
    {
     "name": "stdout",
     "output_type": "stream",
     "text": [
      "now in row:  203\n"
     ]
    },
    {
     "name": "stderr",
     "output_type": "stream",
     "text": [
      "\n",
      "\n",
      "\n",
      "\n",
      "\n",
      "\n",
      "\n",
      " 12%|████▊                                  | 204/1641 [02:35<45:19,  1.89s/it]"
     ]
    },
    {
     "name": "stdout",
     "output_type": "stream",
     "text": [
      "now in row:  204\n"
     ]
    },
    {
     "name": "stderr",
     "output_type": "stream",
     "text": [
      "\n",
      "\n",
      "\n",
      "\n",
      "\n",
      "\n",
      "\n",
      " 12%|████▊                                  | 205/1641 [02:36<37:03,  1.55s/it]"
     ]
    },
    {
     "name": "stdout",
     "output_type": "stream",
     "text": [
      "now in row:  205\n"
     ]
    },
    {
     "name": "stderr",
     "output_type": "stream",
     "text": [
      "\n",
      "\n",
      "\n",
      "\n",
      "\n",
      "\n",
      "\n",
      " 13%|████▉                                  | 206/1641 [02:39<47:10,  1.97s/it]"
     ]
    },
    {
     "name": "stdout",
     "output_type": "stream",
     "text": [
      "now in row:  206\n"
     ]
    },
    {
     "name": "stderr",
     "output_type": "stream",
     "text": [
      "\n",
      "\n",
      "\n",
      "\n",
      "\n",
      "\n",
      "\n",
      " 13%|████▉                                  | 207/1641 [02:41<44:49,  1.88s/it]"
     ]
    },
    {
     "name": "stdout",
     "output_type": "stream",
     "text": [
      "now in row:  207\n"
     ]
    },
    {
     "name": "stderr",
     "output_type": "stream",
     "text": [
      "\n",
      "\n",
      "\n",
      "\n",
      "\n",
      "\n",
      "\n",
      " 13%|████▉                                  | 208/1641 [02:42<44:40,  1.87s/it]"
     ]
    },
    {
     "name": "stdout",
     "output_type": "stream",
     "text": [
      "now in row:  208\n"
     ]
    },
    {
     "name": "stderr",
     "output_type": "stream",
     "text": [
      "\n",
      "\n",
      "\n",
      "\n",
      "\n",
      "\n",
      "\n",
      " 13%|████▉                                  | 209/1641 [02:44<44:17,  1.86s/it]"
     ]
    },
    {
     "name": "stdout",
     "output_type": "stream",
     "text": [
      "now in row:  209\n"
     ]
    },
    {
     "name": "stderr",
     "output_type": "stream",
     "text": [
      "\n",
      "\n",
      "\n",
      "\n",
      "\n",
      "\n",
      "\n",
      " 13%|████▋                                | 210/1641 [02:52<1:26:31,  3.63s/it]"
     ]
    },
    {
     "name": "stdout",
     "output_type": "stream",
     "text": [
      "now in row:  210\n"
     ]
    },
    {
     "name": "stderr",
     "output_type": "stream",
     "text": [
      "\n",
      "\n",
      "\n",
      "\n",
      "\n",
      "\n",
      "\n",
      " 13%|████▊                                | 211/1641 [02:53<1:07:12,  2.82s/it]"
     ]
    },
    {
     "name": "stdout",
     "output_type": "stream",
     "text": [
      "now in row:  211\n"
     ]
    },
    {
     "name": "stderr",
     "output_type": "stream",
     "text": [
      "\n",
      "\n",
      "\n",
      "\n",
      "\n",
      "\n",
      "\n",
      " 13%|████▊                                | 212/1641 [02:55<1:00:18,  2.53s/it]"
     ]
    },
    {
     "name": "stdout",
     "output_type": "stream",
     "text": [
      "now in row:  212\n"
     ]
    },
    {
     "name": "stderr",
     "output_type": "stream",
     "text": [
      "\n",
      "\n",
      "\n",
      "\n",
      "\n",
      "\n",
      "\n",
      " 13%|█████                                  | 213/1641 [02:57<54:47,  2.30s/it]"
     ]
    },
    {
     "name": "stdout",
     "output_type": "stream",
     "text": [
      "now in row:  213\n"
     ]
    },
    {
     "name": "stderr",
     "output_type": "stream",
     "text": [
      "\n",
      "\n",
      "\n",
      "\n",
      "\n",
      "\n",
      "\n",
      " 13%|█████                                  | 214/1641 [02:58<51:25,  2.16s/it]"
     ]
    },
    {
     "name": "stdout",
     "output_type": "stream",
     "text": [
      "now in row:  214\n"
     ]
    },
    {
     "name": "stderr",
     "output_type": "stream",
     "text": [
      "\n",
      "\n",
      "\n",
      "\n",
      "\n",
      "\n",
      "\n",
      " 13%|████▊                                | 215/1641 [03:11<2:06:11,  5.31s/it]"
     ]
    },
    {
     "name": "stdout",
     "output_type": "stream",
     "text": [
      "now in row:  215\n"
     ]
    },
    {
     "name": "stderr",
     "output_type": "stream",
     "text": [
      "\n",
      "\n",
      "\n",
      "\n",
      "\n",
      "\n",
      "\n",
      " 13%|████▊                                | 216/1641 [03:13<1:41:17,  4.27s/it]"
     ]
    },
    {
     "name": "stdout",
     "output_type": "stream",
     "text": [
      "now in row:  216\n"
     ]
    },
    {
     "name": "stderr",
     "output_type": "stream",
     "text": [
      "\n",
      "\n",
      "\n",
      "\n",
      "\n",
      "\n",
      "\n",
      " 13%|████▉                                | 217/1641 [03:15<1:24:16,  3.55s/it]"
     ]
    },
    {
     "name": "stdout",
     "output_type": "stream",
     "text": [
      "now in row:  217\n"
     ]
    },
    {
     "name": "stderr",
     "output_type": "stream",
     "text": [
      "\n",
      "\n",
      "\n",
      "\n",
      "\n",
      "\n",
      "\n",
      " 13%|████▉                                | 218/1641 [03:17<1:14:04,  3.12s/it]"
     ]
    },
    {
     "name": "stdout",
     "output_type": "stream",
     "text": [
      "now in row:  218\n"
     ]
    },
    {
     "name": "stderr",
     "output_type": "stream",
     "text": [
      "\n",
      "\n",
      "\n",
      "\n",
      "\n",
      "\n",
      "\n",
      " 13%|████▉                                | 219/1641 [03:19<1:06:04,  2.79s/it]"
     ]
    },
    {
     "name": "stdout",
     "output_type": "stream",
     "text": [
      "now in row:  219\n"
     ]
    },
    {
     "name": "stderr",
     "output_type": "stream",
     "text": [
      "\n",
      "\n",
      "\n",
      "\n",
      "\n",
      "\n",
      "\n",
      " 13%|█████▏                                 | 220/1641 [03:20<51:23,  2.17s/it]"
     ]
    },
    {
     "name": "stdout",
     "output_type": "stream",
     "text": [
      "now in row:  220\n"
     ]
    },
    {
     "name": "stderr",
     "output_type": "stream",
     "text": [
      "\n",
      "\n",
      "\n",
      "\n",
      "\n",
      "\n",
      "\n",
      " 13%|█████▎                                 | 221/1641 [03:22<50:36,  2.14s/it]"
     ]
    },
    {
     "name": "stdout",
     "output_type": "stream",
     "text": [
      "now in row:  221\n"
     ]
    },
    {
     "name": "stderr",
     "output_type": "stream",
     "text": [
      "\n",
      "\n",
      "\n",
      "\n",
      "\n",
      "\n",
      "\n",
      " 14%|█████▎                                 | 222/1641 [03:23<46:47,  1.98s/it]"
     ]
    },
    {
     "name": "stdout",
     "output_type": "stream",
     "text": [
      "now in row:  222\n"
     ]
    },
    {
     "name": "stderr",
     "output_type": "stream",
     "text": [
      "\n",
      "\n",
      "\n",
      "\n",
      "\n",
      "\n",
      "\n",
      " 14%|█████▎                                 | 223/1641 [03:26<54:38,  2.31s/it]"
     ]
    },
    {
     "name": "stdout",
     "output_type": "stream",
     "text": [
      "now in row:  223\n"
     ]
    },
    {
     "name": "stderr",
     "output_type": "stream",
     "text": [
      "\n",
      "\n",
      "\n",
      "\n",
      "\n",
      "\n",
      "\n",
      " 14%|█████▎                                 | 224/1641 [03:28<51:39,  2.19s/it]"
     ]
    },
    {
     "name": "stdout",
     "output_type": "stream",
     "text": [
      "now in row:  224\n"
     ]
    },
    {
     "name": "stderr",
     "output_type": "stream",
     "text": [
      "\n",
      "\n",
      "\n",
      "\n",
      "\n",
      "\n",
      "\n",
      " 14%|█████▎                                 | 225/1641 [03:30<50:32,  2.14s/it]"
     ]
    },
    {
     "name": "stdout",
     "output_type": "stream",
     "text": [
      "now in row:  225\n"
     ]
    },
    {
     "name": "stderr",
     "output_type": "stream",
     "text": [
      "\n",
      "\n",
      "\n",
      "\n",
      "\n",
      "\n",
      "\n",
      " 14%|█████▎                                 | 226/1641 [03:34<58:03,  2.46s/it]"
     ]
    },
    {
     "name": "stdout",
     "output_type": "stream",
     "text": [
      "now in row:  226\n"
     ]
    },
    {
     "name": "stderr",
     "output_type": "stream",
     "text": [
      "\n",
      "\n",
      "\n",
      "\n",
      "\n",
      "\n",
      "\n",
      " 14%|█████▍                                 | 227/1641 [03:35<53:17,  2.26s/it]"
     ]
    },
    {
     "name": "stdout",
     "output_type": "stream",
     "text": [
      "now in row:  227\n"
     ]
    },
    {
     "name": "stderr",
     "output_type": "stream",
     "text": [
      "\n",
      "\n",
      "\n",
      "\n",
      "\n",
      "\n",
      "\n",
      " 14%|█████▏                               | 228/1641 [03:42<1:24:57,  3.61s/it]"
     ]
    },
    {
     "name": "stdout",
     "output_type": "stream",
     "text": [
      "now in row:  228\n"
     ]
    },
    {
     "name": "stderr",
     "output_type": "stream",
     "text": [
      "\n",
      "\n",
      "\n",
      "\n",
      "\n",
      "\n",
      "\n",
      " 14%|█████▏                               | 229/1641 [03:44<1:14:02,  3.15s/it]"
     ]
    },
    {
     "name": "stdout",
     "output_type": "stream",
     "text": [
      "now in row:  229\n"
     ]
    },
    {
     "name": "stderr",
     "output_type": "stream",
     "text": [
      "\n",
      "\n",
      "\n",
      "\n",
      "\n",
      "\n",
      "\n",
      " 14%|█████▏                               | 230/1641 [03:47<1:13:08,  3.11s/it]"
     ]
    },
    {
     "name": "stdout",
     "output_type": "stream",
     "text": [
      "now in row:  230\n"
     ]
    },
    {
     "name": "stderr",
     "output_type": "stream",
     "text": [
      "\n",
      "\n",
      "\n",
      "\n",
      "\n",
      "\n",
      "\n",
      " 14%|█████▏                               | 231/1641 [03:49<1:06:20,  2.82s/it]"
     ]
    },
    {
     "name": "stdout",
     "output_type": "stream",
     "text": [
      "now in row:  231\n"
     ]
    },
    {
     "name": "stderr",
     "output_type": "stream",
     "text": [
      "\n",
      "\n",
      "\n",
      "\n",
      "\n",
      "\n",
      "\n",
      " 14%|█████▏                               | 232/1641 [04:02<2:13:36,  5.69s/it]"
     ]
    },
    {
     "name": "stdout",
     "output_type": "stream",
     "text": [
      "now in row:  232\n"
     ]
    },
    {
     "name": "stderr",
     "output_type": "stream",
     "text": [
      "\n",
      "\n",
      "\n",
      "\n",
      "\n",
      "\n",
      "\n",
      " 14%|█████▎                               | 233/1641 [04:04<1:46:24,  4.53s/it]"
     ]
    },
    {
     "name": "stdout",
     "output_type": "stream",
     "text": [
      "now in row:  233\n"
     ]
    },
    {
     "name": "stderr",
     "output_type": "stream",
     "text": [
      "\n",
      "\n",
      "\n",
      "\n",
      "\n",
      "\n",
      "\n",
      " 14%|█████▎                               | 234/1641 [04:06<1:29:20,  3.81s/it]"
     ]
    },
    {
     "name": "stdout",
     "output_type": "stream",
     "text": [
      "now in row:  234\n"
     ]
    },
    {
     "name": "stderr",
     "output_type": "stream",
     "text": [
      "\n",
      "\n",
      "\n",
      "\n",
      "\n",
      "\n",
      "\n",
      " 14%|█████▎                               | 235/1641 [04:08<1:19:13,  3.38s/it]"
     ]
    },
    {
     "name": "stdout",
     "output_type": "stream",
     "text": [
      "now in row:  235\n"
     ]
    },
    {
     "name": "stderr",
     "output_type": "stream",
     "text": [
      "\n",
      "\n",
      "\n",
      "\n",
      "\n",
      "\n",
      "\n",
      " 14%|█████▎                               | 236/1641 [04:18<2:04:52,  5.33s/it]"
     ]
    },
    {
     "name": "stdout",
     "output_type": "stream",
     "text": [
      "now in row:  236\n"
     ]
    },
    {
     "name": "stderr",
     "output_type": "stream",
     "text": [
      "\n",
      "\n",
      "\n",
      "\n",
      "\n",
      "\n",
      "\n",
      " 14%|█████▎                               | 237/1641 [04:20<1:39:53,  4.27s/it]"
     ]
    },
    {
     "name": "stdout",
     "output_type": "stream",
     "text": [
      "now in row:  237\n"
     ]
    },
    {
     "name": "stderr",
     "output_type": "stream",
     "text": [
      "\n",
      "\n",
      "\n",
      "\n",
      "\n",
      "\n",
      "\n",
      " 15%|█████▎                               | 238/1641 [04:21<1:15:42,  3.24s/it]"
     ]
    },
    {
     "name": "stdout",
     "output_type": "stream",
     "text": [
      "now in row:  238\n"
     ]
    },
    {
     "name": "stderr",
     "output_type": "stream",
     "text": [
      "\n",
      "\n",
      "\n",
      "\n",
      "\n",
      "\n",
      "\n",
      " 15%|█████▍                               | 239/1641 [04:23<1:07:41,  2.90s/it]"
     ]
    },
    {
     "name": "stdout",
     "output_type": "stream",
     "text": [
      "now in row:  239\n"
     ]
    },
    {
     "name": "stderr",
     "output_type": "stream",
     "text": [
      "\n",
      "\n",
      "\n",
      "\n",
      "\n",
      "\n",
      "\n",
      " 15%|█████▋                                 | 240/1641 [04:24<59:27,  2.55s/it]"
     ]
    },
    {
     "name": "stdout",
     "output_type": "stream",
     "text": [
      "now in row:  240\n"
     ]
    },
    {
     "name": "stderr",
     "output_type": "stream",
     "text": [
      "\n",
      "\n",
      "\n",
      "\n",
      "\n",
      "\n",
      "\n",
      " 15%|█████▋                                 | 241/1641 [04:26<52:51,  2.27s/it]"
     ]
    },
    {
     "name": "stdout",
     "output_type": "stream",
     "text": [
      "now in row:  241\n"
     ]
    },
    {
     "name": "stderr",
     "output_type": "stream",
     "text": [
      "\n",
      "\n",
      "\n",
      "\n",
      "\n",
      "\n",
      "\n",
      " 15%|█████▊                                 | 242/1641 [04:28<49:08,  2.11s/it]"
     ]
    },
    {
     "name": "stdout",
     "output_type": "stream",
     "text": [
      "now in row:  242\n"
     ]
    },
    {
     "name": "stderr",
     "output_type": "stream",
     "text": [
      "\n",
      "\n",
      "\n",
      "\n",
      "\n",
      "\n",
      "\n",
      " 15%|█████▊                                 | 243/1641 [04:30<48:33,  2.08s/it]"
     ]
    },
    {
     "name": "stdout",
     "output_type": "stream",
     "text": [
      "now in row:  243\n"
     ]
    },
    {
     "name": "stderr",
     "output_type": "stream",
     "text": [
      "\n",
      "\n",
      "\n",
      "\n",
      "\n",
      "\n",
      "\n",
      " 15%|█████▊                                 | 244/1641 [04:32<45:51,  1.97s/it]"
     ]
    },
    {
     "name": "stdout",
     "output_type": "stream",
     "text": [
      "now in row:  244\n"
     ]
    },
    {
     "name": "stderr",
     "output_type": "stream",
     "text": [
      "\n",
      "\n",
      "\n",
      "\n",
      "\n",
      "\n",
      "\n",
      " 15%|█████▊                                 | 245/1641 [04:34<47:28,  2.04s/it]"
     ]
    },
    {
     "name": "stdout",
     "output_type": "stream",
     "text": [
      "now in row:  245\n"
     ]
    },
    {
     "name": "stderr",
     "output_type": "stream",
     "text": [
      "\n",
      "\n",
      "\n",
      "\n",
      "\n",
      "\n",
      "\n",
      " 15%|█████▊                                 | 246/1641 [04:35<38:51,  1.67s/it]"
     ]
    },
    {
     "name": "stdout",
     "output_type": "stream",
     "text": [
      "now in row:  246\n"
     ]
    },
    {
     "name": "stderr",
     "output_type": "stream",
     "text": [
      "\n",
      "\n",
      "\n",
      "\n",
      "\n",
      "\n",
      "\n",
      " 15%|█████▊                                 | 247/1641 [04:36<40:05,  1.73s/it]"
     ]
    },
    {
     "name": "stdout",
     "output_type": "stream",
     "text": [
      "now in row:  247\n"
     ]
    },
    {
     "name": "stderr",
     "output_type": "stream",
     "text": [
      "\n",
      "\n",
      "\n",
      "\n",
      "\n",
      "\n",
      "\n",
      " 15%|█████▉                                 | 248/1641 [04:38<38:38,  1.66s/it]"
     ]
    },
    {
     "name": "stdout",
     "output_type": "stream",
     "text": [
      "now in row:  248\n"
     ]
    },
    {
     "name": "stderr",
     "output_type": "stream",
     "text": [
      "\n",
      "\n",
      "\n",
      "\n",
      "\n",
      "\n",
      "\n",
      " 15%|█████▉                                 | 249/1641 [04:41<50:04,  2.16s/it]"
     ]
    },
    {
     "name": "stdout",
     "output_type": "stream",
     "text": [
      "now in row:  249\n"
     ]
    },
    {
     "name": "stderr",
     "output_type": "stream",
     "text": [
      "\n",
      "\n",
      "\n",
      "\n",
      "\n",
      "\n",
      "\n",
      " 15%|█████▉                                 | 250/1641 [04:43<48:48,  2.11s/it]"
     ]
    },
    {
     "name": "stdout",
     "output_type": "stream",
     "text": [
      "now in row:  250\n"
     ]
    },
    {
     "name": "stderr",
     "output_type": "stream",
     "text": [
      "\n",
      "\n",
      "\n",
      "\n",
      "\n",
      "\n",
      "\n",
      " 15%|█████▉                                 | 251/1641 [04:45<47:38,  2.06s/it]"
     ]
    },
    {
     "name": "stdout",
     "output_type": "stream",
     "text": [
      "now in row:  251\n"
     ]
    },
    {
     "name": "stderr",
     "output_type": "stream",
     "text": [
      "\n",
      "\n",
      "\n",
      "\n",
      "\n",
      "\n",
      "\n",
      " 15%|█████▉                                 | 252/1641 [04:46<38:25,  1.66s/it]"
     ]
    },
    {
     "name": "stdout",
     "output_type": "stream",
     "text": [
      "now in row:  252\n"
     ]
    },
    {
     "name": "stderr",
     "output_type": "stream",
     "text": [
      "\n",
      "\n",
      "\n",
      "\n",
      "\n",
      "\n",
      "\n",
      " 15%|██████                                 | 253/1641 [04:48<40:02,  1.73s/it]"
     ]
    },
    {
     "name": "stdout",
     "output_type": "stream",
     "text": [
      "now in row:  253\n"
     ]
    },
    {
     "name": "stderr",
     "output_type": "stream",
     "text": [
      "\n",
      "\n",
      "\n",
      "\n",
      "\n",
      "\n",
      "\n",
      " 15%|██████                                 | 254/1641 [04:49<38:32,  1.67s/it]"
     ]
    },
    {
     "name": "stdout",
     "output_type": "stream",
     "text": [
      "now in row:  254\n"
     ]
    },
    {
     "name": "stderr",
     "output_type": "stream",
     "text": [
      "\n",
      "\n",
      "\n",
      "\n",
      "\n",
      "\n",
      "\n",
      " 16%|██████                                 | 255/1641 [04:51<40:10,  1.74s/it]"
     ]
    },
    {
     "name": "stdout",
     "output_type": "stream",
     "text": [
      "now in row:  255\n"
     ]
    },
    {
     "name": "stderr",
     "output_type": "stream",
     "text": [
      "\n",
      "\n",
      "\n",
      "\n",
      "\n",
      "\n",
      "\n",
      " 16%|██████                                 | 256/1641 [04:53<42:23,  1.84s/it]"
     ]
    },
    {
     "name": "stdout",
     "output_type": "stream",
     "text": [
      "now in row:  256\n"
     ]
    },
    {
     "name": "stderr",
     "output_type": "stream",
     "text": [
      "\n",
      "\n",
      "\n",
      "\n",
      "\n",
      "\n",
      "\n",
      " 16%|██████                                 | 257/1641 [04:56<49:31,  2.15s/it]"
     ]
    },
    {
     "name": "stdout",
     "output_type": "stream",
     "text": [
      "now in row:  257\n"
     ]
    },
    {
     "name": "stderr",
     "output_type": "stream",
     "text": [
      "\n",
      "\n",
      "\n",
      "\n",
      "\n",
      "\n",
      "\n",
      " 16%|██████▏                                | 258/1641 [04:58<46:41,  2.03s/it]"
     ]
    },
    {
     "name": "stdout",
     "output_type": "stream",
     "text": [
      "now in row:  258\n"
     ]
    },
    {
     "name": "stderr",
     "output_type": "stream",
     "text": [
      "\n",
      "\n",
      "\n",
      "\n",
      "\n",
      "\n",
      "\n",
      " 16%|██████▏                                | 259/1641 [05:00<45:06,  1.96s/it]"
     ]
    },
    {
     "name": "stdout",
     "output_type": "stream",
     "text": [
      "now in row:  259\n"
     ]
    },
    {
     "name": "stderr",
     "output_type": "stream",
     "text": [
      "\n",
      "\n",
      "\n",
      "\n",
      "\n",
      "\n",
      "\n",
      " 16%|██████▏                                | 260/1641 [05:01<43:08,  1.87s/it]"
     ]
    },
    {
     "name": "stdout",
     "output_type": "stream",
     "text": [
      "now in row:  260\n"
     ]
    },
    {
     "name": "stderr",
     "output_type": "stream",
     "text": [
      "\n",
      "\n",
      "\n",
      "\n",
      "\n",
      "\n",
      "\n",
      " 16%|██████▏                                | 261/1641 [05:04<46:55,  2.04s/it]"
     ]
    },
    {
     "name": "stdout",
     "output_type": "stream",
     "text": [
      "now in row:  261\n"
     ]
    },
    {
     "name": "stderr",
     "output_type": "stream",
     "text": [
      "\n",
      "\n",
      "\n",
      "\n",
      "\n",
      "\n",
      "\n",
      " 16%|██████▏                                | 262/1641 [05:05<38:32,  1.68s/it]"
     ]
    },
    {
     "name": "stdout",
     "output_type": "stream",
     "text": [
      "now in row:  262\n"
     ]
    },
    {
     "name": "stderr",
     "output_type": "stream",
     "text": [
      "\n",
      "\n",
      "\n",
      "\n",
      "\n",
      "\n",
      "\n",
      " 16%|██████▎                                | 263/1641 [05:05<32:47,  1.43s/it]"
     ]
    },
    {
     "name": "stdout",
     "output_type": "stream",
     "text": [
      "now in row:  263\n"
     ]
    },
    {
     "name": "stderr",
     "output_type": "stream",
     "text": [
      "\n",
      "\n",
      "\n",
      "\n",
      "\n",
      "\n",
      "\n",
      " 16%|██████▎                                | 264/1641 [05:06<28:20,  1.23s/it]"
     ]
    },
    {
     "name": "stdout",
     "output_type": "stream",
     "text": [
      "now in row:  264\n"
     ]
    },
    {
     "name": "stderr",
     "output_type": "stream",
     "text": [
      "\n",
      "\n",
      "\n",
      "\n",
      "\n",
      "\n",
      "\n",
      " 16%|██████▎                                | 265/1641 [05:07<27:32,  1.20s/it]"
     ]
    },
    {
     "name": "stdout",
     "output_type": "stream",
     "text": [
      "now in row:  265\n"
     ]
    },
    {
     "name": "stderr",
     "output_type": "stream",
     "text": [
      "\n",
      "\n",
      "\n",
      "\n",
      "\n",
      "\n",
      "\n",
      " 16%|██████▎                                | 266/1641 [05:08<24:49,  1.08s/it]"
     ]
    },
    {
     "name": "stdout",
     "output_type": "stream",
     "text": [
      "now in row:  266\n"
     ]
    },
    {
     "name": "stderr",
     "output_type": "stream",
     "text": [
      "\n",
      "\n",
      "\n",
      "\n",
      "\n",
      "\n",
      "\n",
      " 16%|██████▎                                | 267/1641 [05:09<23:07,  1.01s/it]"
     ]
    },
    {
     "name": "stdout",
     "output_type": "stream",
     "text": [
      "now in row:  267\n"
     ]
    },
    {
     "name": "stderr",
     "output_type": "stream",
     "text": [
      "\n",
      "\n",
      "\n",
      "\n",
      "\n",
      "\n",
      "\n",
      " 16%|██████▎                                | 268/1641 [05:10<21:02,  1.09it/s]"
     ]
    },
    {
     "name": "stdout",
     "output_type": "stream",
     "text": [
      "now in row:  268\n"
     ]
    },
    {
     "name": "stderr",
     "output_type": "stream",
     "text": [
      "\n",
      "\n",
      "\n",
      "\n",
      "\n",
      "\n",
      "\n",
      " 16%|██████▍                                | 269/1641 [05:10<19:38,  1.16it/s]"
     ]
    },
    {
     "name": "stdout",
     "output_type": "stream",
     "text": [
      "now in row:  269\n"
     ]
    },
    {
     "name": "stderr",
     "output_type": "stream",
     "text": [
      "\n",
      "\n",
      "\n",
      "\n",
      "\n",
      "\n",
      "\n",
      " 16%|██████▍                                | 270/1641 [05:11<20:35,  1.11it/s]"
     ]
    },
    {
     "name": "stdout",
     "output_type": "stream",
     "text": [
      "now in row:  270\n"
     ]
    },
    {
     "name": "stderr",
     "output_type": "stream",
     "text": [
      "\n",
      "\n",
      "\n",
      "\n",
      "\n",
      "\n",
      "\n",
      " 17%|██████▍                                | 271/1641 [05:12<21:33,  1.06it/s]"
     ]
    },
    {
     "name": "stdout",
     "output_type": "stream",
     "text": [
      "now in row:  271\n"
     ]
    },
    {
     "name": "stderr",
     "output_type": "stream",
     "text": [
      "\n",
      "\n",
      "\n",
      "\n",
      "\n",
      "\n",
      "\n",
      " 17%|██████▍                                | 272/1641 [05:14<23:05,  1.01s/it]"
     ]
    },
    {
     "name": "stdout",
     "output_type": "stream",
     "text": [
      "now in row:  272\n"
     ]
    },
    {
     "name": "stderr",
     "output_type": "stream",
     "text": [
      "\n",
      "\n",
      "\n",
      "\n",
      "\n",
      "\n",
      "\n",
      " 17%|██████▍                                | 273/1641 [05:15<22:20,  1.02it/s]"
     ]
    },
    {
     "name": "stdout",
     "output_type": "stream",
     "text": [
      "now in row:  273\n"
     ]
    },
    {
     "name": "stderr",
     "output_type": "stream",
     "text": [
      "\n",
      "\n",
      "\n",
      "\n",
      "\n",
      "\n",
      "\n",
      " 17%|██████▌                                | 274/1641 [05:16<23:44,  1.04s/it]"
     ]
    },
    {
     "name": "stdout",
     "output_type": "stream",
     "text": [
      "now in row:  274\n"
     ]
    },
    {
     "name": "stderr",
     "output_type": "stream",
     "text": [
      "\n",
      "\n",
      "\n",
      "\n",
      "\n",
      "\n",
      "\n",
      " 17%|██████▌                                | 275/1641 [05:17<23:44,  1.04s/it]"
     ]
    },
    {
     "name": "stdout",
     "output_type": "stream",
     "text": [
      "now in row:  275\n"
     ]
    },
    {
     "name": "stderr",
     "output_type": "stream",
     "text": [
      "\n",
      "\n",
      "\n",
      "\n",
      "\n",
      "\n",
      "\n",
      " 17%|██████▌                                | 276/1641 [05:18<23:43,  1.04s/it]"
     ]
    },
    {
     "name": "stdout",
     "output_type": "stream",
     "text": [
      "now in row:  276\n"
     ]
    },
    {
     "name": "stderr",
     "output_type": "stream",
     "text": [
      "\n",
      "\n",
      "\n",
      "\n",
      "\n",
      "\n",
      "\n",
      " 17%|██████▌                                | 277/1641 [05:19<23:04,  1.01s/it]"
     ]
    },
    {
     "name": "stdout",
     "output_type": "stream",
     "text": [
      "now in row:  277\n"
     ]
    },
    {
     "name": "stderr",
     "output_type": "stream",
     "text": [
      "\n",
      "\n",
      "\n",
      "\n",
      "\n",
      "\n",
      "\n",
      " 17%|██████▌                                | 278/1641 [05:20<23:28,  1.03s/it]"
     ]
    },
    {
     "name": "stdout",
     "output_type": "stream",
     "text": [
      "now in row:  278\n"
     ]
    },
    {
     "name": "stderr",
     "output_type": "stream",
     "text": [
      "\n",
      "\n",
      "\n",
      "\n",
      "\n",
      "\n",
      "\n",
      " 17%|██████▋                                | 279/1641 [05:21<25:40,  1.13s/it]"
     ]
    },
    {
     "name": "stdout",
     "output_type": "stream",
     "text": [
      "now in row:  279\n"
     ]
    },
    {
     "name": "stderr",
     "output_type": "stream",
     "text": [
      "\n",
      "\n",
      "\n",
      "\n",
      "\n",
      "\n",
      "\n",
      " 17%|██████▋                                | 280/1641 [05:22<25:18,  1.12s/it]"
     ]
    },
    {
     "name": "stdout",
     "output_type": "stream",
     "text": [
      "now in row:  280\n"
     ]
    },
    {
     "name": "stderr",
     "output_type": "stream",
     "text": [
      "\n",
      "\n",
      "\n",
      "\n",
      "\n",
      "\n",
      "\n",
      " 17%|██████▋                                | 281/1641 [05:24<27:21,  1.21s/it]"
     ]
    },
    {
     "name": "stdout",
     "output_type": "stream",
     "text": [
      "now in row:  281\n"
     ]
    },
    {
     "name": "stderr",
     "output_type": "stream",
     "text": [
      "\n",
      "\n",
      "\n",
      "\n",
      "\n",
      "\n",
      "\n",
      " 17%|██████▋                                | 282/1641 [05:25<26:46,  1.18s/it]"
     ]
    },
    {
     "name": "stdout",
     "output_type": "stream",
     "text": [
      "now in row:  282\n"
     ]
    },
    {
     "name": "stderr",
     "output_type": "stream",
     "text": [
      "\n",
      "\n",
      "\n",
      "\n",
      "\n",
      "\n",
      "\n",
      " 17%|██████▋                                | 283/1641 [05:26<24:20,  1.08s/it]"
     ]
    },
    {
     "name": "stdout",
     "output_type": "stream",
     "text": [
      "now in row:  283\n"
     ]
    },
    {
     "name": "stderr",
     "output_type": "stream",
     "text": [
      "\n",
      "\n",
      "\n",
      "\n",
      "\n",
      "\n",
      "\n",
      " 17%|██████▋                                | 284/1641 [05:27<23:08,  1.02s/it]"
     ]
    },
    {
     "name": "stdout",
     "output_type": "stream",
     "text": [
      "now in row:  284\n"
     ]
    },
    {
     "name": "stderr",
     "output_type": "stream",
     "text": [
      "\n",
      "\n",
      "\n",
      "\n",
      "\n",
      "\n",
      "\n",
      " 17%|██████▊                                | 285/1641 [05:28<22:25,  1.01it/s]"
     ]
    },
    {
     "name": "stdout",
     "output_type": "stream",
     "text": [
      "now in row:  285\n"
     ]
    },
    {
     "name": "stderr",
     "output_type": "stream",
     "text": [
      "\n",
      "\n",
      "\n",
      "\n",
      "\n",
      "\n",
      "\n",
      " 17%|██████▊                                | 286/1641 [05:28<22:23,  1.01it/s]"
     ]
    },
    {
     "name": "stdout",
     "output_type": "stream",
     "text": [
      "now in row:  286\n"
     ]
    },
    {
     "name": "stderr",
     "output_type": "stream",
     "text": [
      "\n",
      "\n",
      "\n",
      "\n",
      "\n",
      "\n",
      "\n",
      " 17%|██████▊                                | 287/1641 [05:30<23:09,  1.03s/it]"
     ]
    },
    {
     "name": "stdout",
     "output_type": "stream",
     "text": [
      "now in row:  287\n"
     ]
    },
    {
     "name": "stderr",
     "output_type": "stream",
     "text": [
      "\n",
      "\n",
      "\n",
      "\n",
      "\n",
      "\n",
      "\n",
      " 18%|██████▍                              | 288/1641 [05:36<1:01:01,  2.71s/it]"
     ]
    },
    {
     "name": "stdout",
     "output_type": "stream",
     "text": [
      "now in row:  288\n"
     ]
    },
    {
     "name": "stderr",
     "output_type": "stream",
     "text": [
      "\n",
      "\n",
      "\n",
      "\n",
      "\n",
      "\n",
      "\n",
      " 18%|██████▊                                | 289/1641 [05:37<50:15,  2.23s/it]"
     ]
    },
    {
     "name": "stdout",
     "output_type": "stream",
     "text": [
      "now in row:  289\n"
     ]
    },
    {
     "name": "stderr",
     "output_type": "stream",
     "text": [
      "\n",
      "\n",
      "\n",
      "\n",
      "\n",
      "\n",
      "\n",
      " 18%|██████▉                                | 290/1641 [05:38<42:26,  1.88s/it]"
     ]
    },
    {
     "name": "stdout",
     "output_type": "stream",
     "text": [
      "now in row:  290\n"
     ]
    },
    {
     "name": "stderr",
     "output_type": "stream",
     "text": [
      "\n",
      "\n",
      "\n",
      "\n",
      "\n",
      "\n",
      "\n",
      " 18%|██████▉                                | 291/1641 [05:39<36:05,  1.60s/it]"
     ]
    },
    {
     "name": "stdout",
     "output_type": "stream",
     "text": [
      "now in row:  291\n"
     ]
    },
    {
     "name": "stderr",
     "output_type": "stream",
     "text": [
      "\n",
      "\n",
      "\n",
      "\n",
      "\n",
      "\n",
      "\n",
      " 18%|██████▉                                | 292/1641 [05:40<31:35,  1.40s/it]"
     ]
    },
    {
     "name": "stdout",
     "output_type": "stream",
     "text": [
      "now in row:  292\n"
     ]
    },
    {
     "name": "stderr",
     "output_type": "stream",
     "text": [
      "\n",
      "\n",
      "\n",
      "\n",
      "\n",
      "\n",
      "\n",
      " 18%|██████▉                                | 293/1641 [05:41<29:50,  1.33s/it]"
     ]
    },
    {
     "name": "stdout",
     "output_type": "stream",
     "text": [
      "now in row:  293\n"
     ]
    },
    {
     "name": "stderr",
     "output_type": "stream",
     "text": [
      "\n",
      "\n",
      "\n",
      "\n",
      "\n",
      "\n",
      "\n",
      " 18%|██████▉                                | 294/1641 [05:43<28:27,  1.27s/it]"
     ]
    },
    {
     "name": "stdout",
     "output_type": "stream",
     "text": [
      "now in row:  294\n"
     ]
    },
    {
     "name": "stderr",
     "output_type": "stream",
     "text": [
      "\n",
      "\n",
      "\n",
      "\n",
      "\n",
      "\n",
      "\n",
      " 18%|███████                                | 295/1641 [05:44<27:12,  1.21s/it]"
     ]
    },
    {
     "name": "stdout",
     "output_type": "stream",
     "text": [
      "now in row:  295\n"
     ]
    },
    {
     "name": "stderr",
     "output_type": "stream",
     "text": [
      "\n",
      "\n",
      "\n",
      "\n",
      "\n",
      "\n",
      "\n",
      " 18%|███████                                | 296/1641 [05:45<26:15,  1.17s/it]"
     ]
    },
    {
     "name": "stdout",
     "output_type": "stream",
     "text": [
      "now in row:  296\n"
     ]
    },
    {
     "name": "stderr",
     "output_type": "stream",
     "text": [
      "\n",
      "\n",
      "\n",
      "\n",
      "\n",
      "\n",
      "\n",
      " 18%|███████                                | 297/1641 [05:46<24:06,  1.08s/it]"
     ]
    },
    {
     "name": "stdout",
     "output_type": "stream",
     "text": [
      "now in row:  297\n"
     ]
    },
    {
     "name": "stderr",
     "output_type": "stream",
     "text": [
      "\n",
      "\n",
      "\n",
      "\n",
      "\n",
      "\n",
      "\n",
      " 18%|███████                                | 298/1641 [05:47<24:24,  1.09s/it]"
     ]
    },
    {
     "name": "stdout",
     "output_type": "stream",
     "text": [
      "now in row:  298\n"
     ]
    },
    {
     "name": "stderr",
     "output_type": "stream",
     "text": [
      "\n",
      "\n",
      "\n",
      "\n",
      "\n",
      "\n",
      "\n",
      " 18%|███████                                | 299/1641 [05:48<28:09,  1.26s/it]"
     ]
    },
    {
     "name": "stdout",
     "output_type": "stream",
     "text": [
      "now in row:  299\n"
     ]
    },
    {
     "name": "stderr",
     "output_type": "stream",
     "text": [
      "\n",
      "\n",
      "\n",
      "\n",
      "\n",
      "\n",
      "\n",
      " 18%|██████▊                              | 300/1641 [05:57<1:17:13,  3.46s/it]"
     ]
    },
    {
     "name": "stdout",
     "output_type": "stream",
     "text": [
      "now in row:  300\n"
     ]
    },
    {
     "name": "stderr",
     "output_type": "stream",
     "text": [
      "\n",
      "\n",
      "\n",
      "\n",
      "\n",
      "\n",
      "\n",
      " 18%|██████▊                              | 301/1641 [05:58<1:01:26,  2.75s/it]"
     ]
    },
    {
     "name": "stdout",
     "output_type": "stream",
     "text": [
      "now in row:  301\n"
     ]
    },
    {
     "name": "stderr",
     "output_type": "stream",
     "text": [
      "\n",
      "\n",
      "\n",
      "\n",
      "\n",
      "\n",
      "\n",
      " 18%|███████▏                               | 302/1641 [05:59<49:46,  2.23s/it]"
     ]
    },
    {
     "name": "stdout",
     "output_type": "stream",
     "text": [
      "now in row:  302\n"
     ]
    },
    {
     "name": "stderr",
     "output_type": "stream",
     "text": [
      "\n",
      "\n",
      "\n",
      "\n",
      "\n",
      "\n",
      "\n",
      " 18%|███████▏                               | 303/1641 [06:00<41:05,  1.84s/it]"
     ]
    },
    {
     "name": "stdout",
     "output_type": "stream",
     "text": [
      "now in row:  303\n"
     ]
    },
    {
     "name": "stderr",
     "output_type": "stream",
     "text": [
      "\n",
      "\n",
      "\n",
      "\n",
      "\n",
      "\n",
      "\n",
      " 19%|███████▏                               | 304/1641 [06:01<37:31,  1.68s/it]"
     ]
    },
    {
     "name": "stdout",
     "output_type": "stream",
     "text": [
      "now in row:  304\n"
     ]
    },
    {
     "name": "stderr",
     "output_type": "stream",
     "text": [
      "\n",
      "\n",
      "\n",
      "\n",
      "\n",
      "\n",
      "\n",
      " 19%|███████▏                               | 305/1641 [06:02<31:52,  1.43s/it]"
     ]
    },
    {
     "name": "stdout",
     "output_type": "stream",
     "text": [
      "now in row:  305\n"
     ]
    },
    {
     "name": "stderr",
     "output_type": "stream",
     "text": [
      "\n",
      "\n",
      "\n",
      "\n",
      "\n",
      "\n",
      "\n",
      " 19%|███████▎                               | 306/1641 [06:03<29:35,  1.33s/it]"
     ]
    },
    {
     "name": "stdout",
     "output_type": "stream",
     "text": [
      "now in row:  306\n"
     ]
    },
    {
     "name": "stderr",
     "output_type": "stream",
     "text": [
      "\n",
      "\n",
      "\n",
      "\n",
      "\n",
      "\n",
      "\n",
      " 19%|███████▎                               | 307/1641 [06:04<27:21,  1.23s/it]"
     ]
    },
    {
     "name": "stdout",
     "output_type": "stream",
     "text": [
      "now in row:  307\n"
     ]
    },
    {
     "name": "stderr",
     "output_type": "stream",
     "text": [
      "\n",
      "\n",
      "\n",
      "\n",
      "\n",
      "\n",
      "\n",
      " 19%|███████▎                               | 308/1641 [06:05<25:04,  1.13s/it]"
     ]
    },
    {
     "name": "stdout",
     "output_type": "stream",
     "text": [
      "now in row:  308\n"
     ]
    },
    {
     "name": "stderr",
     "output_type": "stream",
     "text": [
      "\n",
      "\n",
      "\n",
      "\n",
      "\n",
      "\n",
      "\n",
      " 19%|███████▎                               | 309/1641 [06:06<24:38,  1.11s/it]"
     ]
    },
    {
     "name": "stdout",
     "output_type": "stream",
     "text": [
      "now in row:  309\n"
     ]
    },
    {
     "name": "stderr",
     "output_type": "stream",
     "text": [
      "\n",
      "\n",
      "\n",
      "\n",
      "\n",
      "\n",
      "\n",
      " 19%|███████▎                               | 310/1641 [06:07<25:26,  1.15s/it]"
     ]
    },
    {
     "name": "stdout",
     "output_type": "stream",
     "text": [
      "now in row:  310\n"
     ]
    },
    {
     "name": "stderr",
     "output_type": "stream",
     "text": [
      "\n",
      "\n",
      "\n",
      "\n",
      "\n",
      "\n",
      "\n",
      " 19%|███████▍                               | 311/1641 [06:08<22:59,  1.04s/it]"
     ]
    },
    {
     "name": "stdout",
     "output_type": "stream",
     "text": [
      "now in row:  311\n"
     ]
    },
    {
     "name": "stderr",
     "output_type": "stream",
     "text": [
      "\n",
      "\n",
      "\n",
      "\n",
      "\n",
      "\n",
      "\n",
      " 19%|███████▍                               | 312/1641 [06:09<23:20,  1.05s/it]"
     ]
    },
    {
     "name": "stdout",
     "output_type": "stream",
     "text": [
      "now in row:  312\n"
     ]
    },
    {
     "name": "stderr",
     "output_type": "stream",
     "text": [
      "\n",
      "\n",
      "\n",
      "\n",
      "\n",
      "\n",
      "\n",
      " 19%|███████▍                               | 313/1641 [06:11<28:52,  1.30s/it]"
     ]
    },
    {
     "name": "stdout",
     "output_type": "stream",
     "text": [
      "now in row:  313\n"
     ]
    },
    {
     "name": "stderr",
     "output_type": "stream",
     "text": [
      "\n",
      "\n",
      "\n",
      "\n",
      "\n",
      "\n",
      "\n",
      " 19%|███████▍                               | 314/1641 [06:13<29:24,  1.33s/it]"
     ]
    },
    {
     "name": "stdout",
     "output_type": "stream",
     "text": [
      "now in row:  314\n"
     ]
    },
    {
     "name": "stderr",
     "output_type": "stream",
     "text": [
      "\n",
      "\n",
      "\n",
      "\n",
      "\n",
      "\n",
      "\n",
      " 19%|███████▍                               | 315/1641 [06:13<25:51,  1.17s/it]"
     ]
    },
    {
     "name": "stdout",
     "output_type": "stream",
     "text": [
      "now in row:  315\n"
     ]
    },
    {
     "name": "stderr",
     "output_type": "stream",
     "text": [
      "\n",
      "\n",
      "\n",
      "\n",
      "\n",
      "\n",
      "\n",
      " 19%|███████▌                               | 316/1641 [06:14<23:58,  1.09s/it]"
     ]
    },
    {
     "name": "stdout",
     "output_type": "stream",
     "text": [
      "now in row:  316\n"
     ]
    },
    {
     "name": "stderr",
     "output_type": "stream",
     "text": [
      "\n",
      "\n",
      "\n",
      "\n",
      "\n",
      "\n",
      "\n",
      " 19%|███████▌                               | 317/1641 [06:15<22:34,  1.02s/it]"
     ]
    },
    {
     "name": "stdout",
     "output_type": "stream",
     "text": [
      "now in row:  317\n"
     ]
    },
    {
     "name": "stderr",
     "output_type": "stream",
     "text": [
      "\n",
      "\n",
      "\n",
      "\n",
      "\n",
      "\n",
      "\n",
      " 19%|███████▌                               | 318/1641 [06:16<22:36,  1.03s/it]"
     ]
    },
    {
     "name": "stdout",
     "output_type": "stream",
     "text": [
      "now in row:  318\n"
     ]
    },
    {
     "name": "stderr",
     "output_type": "stream",
     "text": [
      "\n",
      "\n",
      "\n",
      "\n",
      "\n",
      "\n",
      "\n",
      " 19%|███████▌                               | 319/1641 [06:17<21:04,  1.05it/s]"
     ]
    },
    {
     "name": "stdout",
     "output_type": "stream",
     "text": [
      "now in row:  319\n"
     ]
    },
    {
     "name": "stderr",
     "output_type": "stream",
     "text": [
      "\n",
      "\n",
      "\n",
      "\n",
      "\n",
      "\n",
      "\n",
      " 20%|███████▌                               | 320/1641 [06:18<19:41,  1.12it/s]"
     ]
    },
    {
     "name": "stdout",
     "output_type": "stream",
     "text": [
      "now in row:  320\n"
     ]
    },
    {
     "name": "stderr",
     "output_type": "stream",
     "text": [
      "\n",
      "\n",
      "\n",
      "\n",
      "\n",
      "\n",
      "\n",
      " 20%|███████▋                               | 321/1641 [06:19<18:56,  1.16it/s]"
     ]
    },
    {
     "name": "stdout",
     "output_type": "stream",
     "text": [
      "now in row:  321\n"
     ]
    },
    {
     "name": "stderr",
     "output_type": "stream",
     "text": [
      "\n",
      "\n",
      "\n",
      "\n",
      "\n",
      "\n",
      "\n",
      " 20%|███████▋                               | 322/1641 [06:20<19:50,  1.11it/s]"
     ]
    },
    {
     "name": "stdout",
     "output_type": "stream",
     "text": [
      "now in row:  322\n"
     ]
    },
    {
     "name": "stderr",
     "output_type": "stream",
     "text": [
      "\n",
      "\n",
      "\n",
      "\n",
      "\n",
      "\n",
      "\n",
      " 20%|███████▋                               | 323/1641 [06:20<19:44,  1.11it/s]"
     ]
    },
    {
     "name": "stdout",
     "output_type": "stream",
     "text": [
      "now in row:  323\n"
     ]
    },
    {
     "name": "stderr",
     "output_type": "stream",
     "text": [
      "\n",
      "\n",
      "\n",
      "\n",
      "\n",
      "\n",
      "\n",
      " 20%|███████▋                               | 324/1641 [06:22<21:05,  1.04it/s]"
     ]
    },
    {
     "name": "stdout",
     "output_type": "stream",
     "text": [
      "now in row:  324\n"
     ]
    },
    {
     "name": "stderr",
     "output_type": "stream",
     "text": [
      "\n",
      "\n",
      "\n",
      "\n",
      "\n",
      "\n",
      "\n",
      " 20%|███████▋                               | 325/1641 [06:22<20:25,  1.07it/s]"
     ]
    },
    {
     "name": "stdout",
     "output_type": "stream",
     "text": [
      "now in row:  325\n"
     ]
    },
    {
     "name": "stderr",
     "output_type": "stream",
     "text": [
      "\n",
      "\n",
      "\n",
      "\n",
      "\n",
      "\n",
      "\n",
      " 20%|███████▋                               | 326/1641 [06:23<19:37,  1.12it/s]"
     ]
    },
    {
     "name": "stdout",
     "output_type": "stream",
     "text": [
      "now in row:  326\n"
     ]
    },
    {
     "name": "stderr",
     "output_type": "stream",
     "text": [
      "\n",
      "\n",
      "\n",
      "\n",
      "\n",
      "\n",
      "\n",
      " 20%|███████▊                               | 327/1641 [06:24<19:06,  1.15it/s]"
     ]
    },
    {
     "name": "stdout",
     "output_type": "stream",
     "text": [
      "now in row:  327\n"
     ]
    },
    {
     "name": "stderr",
     "output_type": "stream",
     "text": [
      "\n",
      "\n",
      "\n",
      "\n",
      "\n",
      "\n",
      "\n",
      " 20%|███████▊                               | 328/1641 [06:25<19:25,  1.13it/s]"
     ]
    },
    {
     "name": "stdout",
     "output_type": "stream",
     "text": [
      "now in row:  328\n"
     ]
    },
    {
     "name": "stderr",
     "output_type": "stream",
     "text": [
      "\n",
      "\n",
      "\n",
      "\n",
      "\n",
      "\n",
      "\n",
      " 20%|███████▊                               | 329/1641 [06:26<19:48,  1.10it/s]"
     ]
    },
    {
     "name": "stdout",
     "output_type": "stream",
     "text": [
      "now in row:  329\n"
     ]
    },
    {
     "name": "stderr",
     "output_type": "stream",
     "text": [
      "\n",
      "\n",
      "\n",
      "\n",
      "\n",
      "\n",
      "\n",
      " 20%|███████▊                               | 330/1641 [06:27<19:22,  1.13it/s]"
     ]
    },
    {
     "name": "stdout",
     "output_type": "stream",
     "text": [
      "now in row:  330\n"
     ]
    },
    {
     "name": "stderr",
     "output_type": "stream",
     "text": [
      "\n",
      "\n",
      "\n",
      "\n",
      "\n",
      "\n",
      "\n",
      " 20%|███████▊                               | 331/1641 [06:28<18:52,  1.16it/s]"
     ]
    },
    {
     "name": "stdout",
     "output_type": "stream",
     "text": [
      "now in row:  331\n"
     ]
    },
    {
     "name": "stderr",
     "output_type": "stream",
     "text": [
      "\n",
      "\n",
      "\n",
      "\n",
      "\n",
      "\n",
      "\n",
      " 20%|███████▉                               | 332/1641 [06:28<18:18,  1.19it/s]"
     ]
    },
    {
     "name": "stdout",
     "output_type": "stream",
     "text": [
      "now in row:  332\n"
     ]
    },
    {
     "name": "stderr",
     "output_type": "stream",
     "text": [
      "\n",
      "\n",
      "\n",
      "\n",
      "\n",
      "\n",
      "\n",
      " 20%|███████▉                               | 333/1641 [06:29<19:19,  1.13it/s]"
     ]
    },
    {
     "name": "stdout",
     "output_type": "stream",
     "text": [
      "now in row:  333\n"
     ]
    },
    {
     "name": "stderr",
     "output_type": "stream",
     "text": [
      "\n",
      "\n",
      "\n",
      "\n",
      "\n",
      "\n",
      "\n",
      " 20%|███████▉                               | 334/1641 [06:30<18:58,  1.15it/s]"
     ]
    },
    {
     "name": "stdout",
     "output_type": "stream",
     "text": [
      "now in row:  334\n"
     ]
    },
    {
     "name": "stderr",
     "output_type": "stream",
     "text": [
      "\n",
      "\n",
      "\n",
      "\n",
      "\n",
      "\n",
      "\n",
      " 20%|███████▉                               | 335/1641 [06:31<19:17,  1.13it/s]"
     ]
    },
    {
     "name": "stdout",
     "output_type": "stream",
     "text": [
      "now in row:  335\n"
     ]
    },
    {
     "name": "stderr",
     "output_type": "stream",
     "text": [
      "\n",
      "\n",
      "\n",
      "\n",
      "\n",
      "\n",
      "\n",
      " 20%|███████▉                               | 336/1641 [06:32<18:53,  1.15it/s]"
     ]
    },
    {
     "name": "stdout",
     "output_type": "stream",
     "text": [
      "now in row:  336\n"
     ]
    },
    {
     "name": "stderr",
     "output_type": "stream",
     "text": [
      "\n",
      "\n",
      "\n",
      "\n",
      "\n",
      "\n",
      "\n",
      " 21%|████████                               | 337/1641 [06:33<19:04,  1.14it/s]"
     ]
    },
    {
     "name": "stdout",
     "output_type": "stream",
     "text": [
      "now in row:  337\n"
     ]
    },
    {
     "name": "stderr",
     "output_type": "stream",
     "text": [
      "\n",
      "\n",
      "\n",
      "\n",
      "\n",
      "\n",
      "\n",
      " 21%|████████                               | 338/1641 [06:34<19:54,  1.09it/s]"
     ]
    },
    {
     "name": "stdout",
     "output_type": "stream",
     "text": [
      "now in row:  338\n"
     ]
    },
    {
     "name": "stderr",
     "output_type": "stream",
     "text": [
      "\n",
      "\n",
      "\n",
      "\n",
      "\n",
      "\n",
      "\n",
      " 21%|████████                               | 339/1641 [06:35<19:17,  1.12it/s]"
     ]
    },
    {
     "name": "stdout",
     "output_type": "stream",
     "text": [
      "now in row:  339\n"
     ]
    },
    {
     "name": "stderr",
     "output_type": "stream",
     "text": [
      "\n",
      "\n",
      "\n",
      "\n",
      "\n",
      "\n",
      "\n",
      " 21%|████████                               | 340/1641 [06:35<18:52,  1.15it/s]"
     ]
    },
    {
     "name": "stdout",
     "output_type": "stream",
     "text": [
      "now in row:  340\n"
     ]
    },
    {
     "name": "stderr",
     "output_type": "stream",
     "text": [
      "\n",
      "\n",
      "\n",
      "\n",
      "\n",
      "\n",
      "\n",
      " 21%|████████                               | 341/1641 [06:36<17:40,  1.23it/s]"
     ]
    },
    {
     "name": "stdout",
     "output_type": "stream",
     "text": [
      "now in row:  341\n"
     ]
    },
    {
     "name": "stderr",
     "output_type": "stream",
     "text": [
      "\n",
      "\n",
      "\n",
      "\n",
      "\n",
      "\n",
      "\n",
      " 21%|████████▏                              | 342/1641 [06:38<27:30,  1.27s/it]"
     ]
    },
    {
     "name": "stdout",
     "output_type": "stream",
     "text": [
      "now in row:  342\n"
     ]
    },
    {
     "name": "stderr",
     "output_type": "stream",
     "text": [
      "\n",
      "\n",
      "\n",
      "\n",
      "\n",
      "\n",
      "\n",
      " 21%|███████▋                             | 343/1641 [06:46<1:07:12,  3.11s/it]"
     ]
    },
    {
     "name": "stdout",
     "output_type": "stream",
     "text": [
      "now in row:  343\n"
     ]
    },
    {
     "name": "stderr",
     "output_type": "stream",
     "text": [
      "\n",
      "\n",
      "\n",
      "\n",
      "\n",
      "\n",
      "\n",
      " 21%|████████▏                              | 344/1641 [06:47<55:27,  2.57s/it]"
     ]
    },
    {
     "name": "stdout",
     "output_type": "stream",
     "text": [
      "now in row:  344\n"
     ]
    },
    {
     "name": "stderr",
     "output_type": "stream",
     "text": [
      "\n",
      "\n",
      "\n",
      "\n",
      "\n",
      "\n",
      "\n",
      " 21%|████████▏                              | 345/1641 [06:48<44:50,  2.08s/it]"
     ]
    },
    {
     "name": "stdout",
     "output_type": "stream",
     "text": [
      "now in row:  345\n"
     ]
    },
    {
     "name": "stderr",
     "output_type": "stream",
     "text": [
      "\n",
      "\n",
      "\n",
      "\n",
      "\n",
      "\n",
      "\n",
      " 21%|████████▏                              | 346/1641 [06:49<36:34,  1.69s/it]"
     ]
    },
    {
     "name": "stdout",
     "output_type": "stream",
     "text": [
      "now in row:  346\n"
     ]
    },
    {
     "name": "stderr",
     "output_type": "stream",
     "text": [
      "\n",
      "\n",
      "\n",
      "\n",
      "\n",
      "\n",
      "\n",
      " 21%|████████▏                              | 347/1641 [06:50<33:19,  1.54s/it]"
     ]
    },
    {
     "name": "stdout",
     "output_type": "stream",
     "text": [
      "now in row:  347\n"
     ]
    },
    {
     "name": "stderr",
     "output_type": "stream",
     "text": [
      "\n",
      "\n",
      "\n",
      "\n",
      "\n",
      "\n",
      "\n",
      " 21%|████████▎                              | 348/1641 [06:51<29:25,  1.37s/it]"
     ]
    },
    {
     "name": "stdout",
     "output_type": "stream",
     "text": [
      "now in row:  348\n"
     ]
    },
    {
     "name": "stderr",
     "output_type": "stream",
     "text": [
      "\n",
      "\n",
      "\n",
      "\n",
      "\n",
      "\n",
      "\n",
      " 21%|████████▎                              | 349/1641 [06:52<27:17,  1.27s/it]"
     ]
    },
    {
     "name": "stdout",
     "output_type": "stream",
     "text": [
      "now in row:  349\n"
     ]
    },
    {
     "name": "stderr",
     "output_type": "stream",
     "text": [
      "\n",
      "\n",
      "\n",
      "\n",
      "\n",
      "\n",
      "\n",
      " 21%|████████▎                              | 350/1641 [06:53<24:45,  1.15s/it]"
     ]
    },
    {
     "name": "stdout",
     "output_type": "stream",
     "text": [
      "now in row:  350\n"
     ]
    },
    {
     "name": "stderr",
     "output_type": "stream",
     "text": [
      "\n",
      "\n",
      "\n",
      "\n",
      "\n",
      "\n",
      "\n",
      " 21%|████████▎                              | 351/1641 [06:54<24:51,  1.16s/it]"
     ]
    },
    {
     "name": "stdout",
     "output_type": "stream",
     "text": [
      "now in row:  351\n"
     ]
    },
    {
     "name": "stderr",
     "output_type": "stream",
     "text": [
      "\n",
      "\n",
      "\n",
      "\n",
      "\n",
      "\n",
      "\n",
      " 21%|████████▎                              | 352/1641 [06:55<23:34,  1.10s/it]"
     ]
    },
    {
     "name": "stdout",
     "output_type": "stream",
     "text": [
      "now in row:  352\n"
     ]
    },
    {
     "name": "stderr",
     "output_type": "stream",
     "text": [
      "\n",
      "\n",
      "\n",
      "\n",
      "\n",
      "\n",
      "\n",
      " 22%|████████▍                              | 353/1641 [06:56<21:21,  1.01it/s]"
     ]
    },
    {
     "name": "stdout",
     "output_type": "stream",
     "text": [
      "now in row:  353\n"
     ]
    },
    {
     "name": "stderr",
     "output_type": "stream",
     "text": [
      "\n",
      "\n",
      "\n",
      "\n",
      "\n",
      "\n",
      "\n",
      " 22%|████████▍                              | 354/1641 [06:57<22:07,  1.03s/it]"
     ]
    },
    {
     "name": "stdout",
     "output_type": "stream",
     "text": [
      "now in row:  354\n"
     ]
    },
    {
     "name": "stderr",
     "output_type": "stream",
     "text": [
      "\n",
      "\n",
      "\n",
      "\n",
      "\n",
      "\n",
      "\n",
      " 22%|████████▍                              | 355/1641 [06:58<21:29,  1.00s/it]"
     ]
    },
    {
     "name": "stdout",
     "output_type": "stream",
     "text": [
      "now in row:  355\n"
     ]
    },
    {
     "name": "stderr",
     "output_type": "stream",
     "text": [
      "\n",
      "\n",
      "\n",
      "\n",
      "\n",
      "\n",
      "\n",
      " 22%|████████▍                              | 356/1641 [06:59<20:02,  1.07it/s]"
     ]
    },
    {
     "name": "stdout",
     "output_type": "stream",
     "text": [
      "now in row:  356\n"
     ]
    },
    {
     "name": "stderr",
     "output_type": "stream",
     "text": [
      "\n",
      "\n",
      "\n",
      "\n",
      "\n",
      "\n",
      "\n",
      " 22%|████████▍                              | 357/1641 [07:00<19:47,  1.08it/s]"
     ]
    },
    {
     "name": "stdout",
     "output_type": "stream",
     "text": [
      "now in row:  357\n"
     ]
    },
    {
     "name": "stderr",
     "output_type": "stream",
     "text": [
      "\n",
      "\n",
      "\n",
      "\n",
      "\n",
      "\n",
      "\n",
      " 22%|████████▌                              | 358/1641 [07:00<19:19,  1.11it/s]"
     ]
    },
    {
     "name": "stdout",
     "output_type": "stream",
     "text": [
      "now in row:  358\n"
     ]
    },
    {
     "name": "stderr",
     "output_type": "stream",
     "text": [
      "\n",
      "\n",
      "\n",
      "\n",
      "\n",
      "\n",
      "\n",
      " 22%|████████▌                              | 359/1641 [07:02<20:41,  1.03it/s]"
     ]
    },
    {
     "name": "stdout",
     "output_type": "stream",
     "text": [
      "now in row:  359\n"
     ]
    },
    {
     "name": "stderr",
     "output_type": "stream",
     "text": [
      "\n",
      "\n",
      "\n",
      "\n",
      "\n",
      "\n",
      "\n",
      " 22%|████████▌                              | 360/1641 [07:02<20:05,  1.06it/s]"
     ]
    },
    {
     "name": "stdout",
     "output_type": "stream",
     "text": [
      "now in row:  360\n"
     ]
    },
    {
     "name": "stderr",
     "output_type": "stream",
     "text": [
      "\n",
      "\n",
      "\n",
      "\n",
      "\n",
      "\n",
      "\n",
      " 22%|████████▌                              | 361/1641 [07:04<21:32,  1.01s/it]"
     ]
    },
    {
     "name": "stdout",
     "output_type": "stream",
     "text": [
      "now in row:  361\n"
     ]
    },
    {
     "name": "stderr",
     "output_type": "stream",
     "text": [
      "\n",
      "\n",
      "\n",
      "\n",
      "\n",
      "\n",
      "\n",
      " 22%|████████▌                              | 362/1641 [07:04<20:17,  1.05it/s]"
     ]
    },
    {
     "name": "stdout",
     "output_type": "stream",
     "text": [
      "now in row:  362\n"
     ]
    },
    {
     "name": "stderr",
     "output_type": "stream",
     "text": [
      "\n",
      "\n",
      "\n",
      "\n",
      "\n",
      "\n",
      "\n",
      " 22%|████████▋                              | 363/1641 [07:05<18:52,  1.13it/s]"
     ]
    },
    {
     "name": "stdout",
     "output_type": "stream",
     "text": [
      "now in row:  363\n"
     ]
    },
    {
     "name": "stderr",
     "output_type": "stream",
     "text": [
      "\n",
      "\n",
      "\n",
      "\n",
      "\n",
      "\n",
      "\n",
      " 22%|████████▋                              | 364/1641 [07:06<19:20,  1.10it/s]"
     ]
    },
    {
     "name": "stdout",
     "output_type": "stream",
     "text": [
      "now in row:  364\n"
     ]
    },
    {
     "name": "stderr",
     "output_type": "stream",
     "text": [
      "\n",
      "\n",
      "\n",
      "\n",
      "\n",
      "\n",
      "\n",
      " 22%|████████▋                              | 365/1641 [07:07<18:56,  1.12it/s]"
     ]
    },
    {
     "name": "stdout",
     "output_type": "stream",
     "text": [
      "now in row:  365\n"
     ]
    },
    {
     "name": "stderr",
     "output_type": "stream",
     "text": [
      "\n",
      "\n",
      "\n",
      "\n",
      "\n",
      "\n",
      "\n",
      " 22%|████████▋                              | 366/1641 [07:08<19:10,  1.11it/s]"
     ]
    },
    {
     "name": "stdout",
     "output_type": "stream",
     "text": [
      "now in row:  366\n"
     ]
    },
    {
     "name": "stderr",
     "output_type": "stream",
     "text": [
      "\n",
      "\n",
      "\n",
      "\n",
      "\n",
      "\n",
      "\n",
      " 22%|████████▋                              | 367/1641 [07:10<26:45,  1.26s/it]"
     ]
    },
    {
     "name": "stdout",
     "output_type": "stream",
     "text": [
      "now in row:  367\n"
     ]
    },
    {
     "name": "stderr",
     "output_type": "stream",
     "text": [
      "\n",
      "\n",
      "\n",
      "\n",
      "\n",
      "\n",
      "\n",
      " 22%|████████▋                              | 368/1641 [07:11<24:26,  1.15s/it]"
     ]
    },
    {
     "name": "stdout",
     "output_type": "stream",
     "text": [
      "now in row:  368\n"
     ]
    },
    {
     "name": "stderr",
     "output_type": "stream",
     "text": [
      "\n",
      "\n",
      "\n",
      "\n",
      "\n",
      "\n",
      "\n",
      " 22%|████████▊                              | 369/1641 [07:12<23:41,  1.12s/it]"
     ]
    },
    {
     "name": "stdout",
     "output_type": "stream",
     "text": [
      "now in row:  369\n"
     ]
    },
    {
     "name": "stderr",
     "output_type": "stream",
     "text": [
      "\n",
      "\n",
      "\n",
      "\n",
      "\n",
      "\n",
      "\n",
      " 23%|████████▊                              | 370/1641 [07:13<23:01,  1.09s/it]"
     ]
    },
    {
     "name": "stdout",
     "output_type": "stream",
     "text": [
      "now in row:  370\n"
     ]
    },
    {
     "name": "stderr",
     "output_type": "stream",
     "text": [
      "\n",
      "\n",
      "\n",
      "\n",
      "\n",
      "\n",
      "\n",
      " 23%|████████▊                              | 371/1641 [07:15<26:29,  1.25s/it]"
     ]
    },
    {
     "name": "stdout",
     "output_type": "stream",
     "text": [
      "now in row:  371\n"
     ]
    },
    {
     "name": "stderr",
     "output_type": "stream",
     "text": [
      "\n",
      "\n",
      "\n",
      "\n",
      "\n",
      "\n",
      "\n",
      " 23%|████████▊                              | 372/1641 [07:16<27:12,  1.29s/it]"
     ]
    },
    {
     "name": "stdout",
     "output_type": "stream",
     "text": [
      "now in row:  372\n"
     ]
    },
    {
     "name": "stderr",
     "output_type": "stream",
     "text": [
      "\n",
      "\n",
      "\n",
      "\n",
      "\n",
      "\n",
      "\n",
      " 23%|████████▊                              | 373/1641 [07:19<36:19,  1.72s/it]"
     ]
    },
    {
     "name": "stdout",
     "output_type": "stream",
     "text": [
      "now in row:  373\n"
     ]
    },
    {
     "name": "stderr",
     "output_type": "stream",
     "text": [
      "\n",
      "\n",
      "\n",
      "\n",
      "\n",
      "\n",
      "\n",
      " 23%|████████▉                              | 374/1641 [07:20<35:27,  1.68s/it]"
     ]
    },
    {
     "name": "stdout",
     "output_type": "stream",
     "text": [
      "now in row:  374\n"
     ]
    },
    {
     "name": "stderr",
     "output_type": "stream",
     "text": [
      "\n",
      "\n",
      "\n",
      "\n",
      "\n",
      "\n",
      "\n",
      " 23%|████████▉                              | 375/1641 [07:21<31:53,  1.51s/it]"
     ]
    },
    {
     "name": "stdout",
     "output_type": "stream",
     "text": [
      "now in row:  375\n"
     ]
    },
    {
     "name": "stderr",
     "output_type": "stream",
     "text": [
      "\n",
      "\n",
      "\n",
      "\n",
      "\n",
      "\n",
      "\n",
      " 23%|████████▉                              | 376/1641 [07:23<33:23,  1.58s/it]"
     ]
    },
    {
     "name": "stdout",
     "output_type": "stream",
     "text": [
      "now in row:  376\n"
     ]
    },
    {
     "name": "stderr",
     "output_type": "stream",
     "text": [
      "\n",
      "\n",
      "\n",
      "\n",
      "\n",
      "\n",
      "\n",
      " 23%|████████▉                              | 377/1641 [07:25<37:58,  1.80s/it]"
     ]
    },
    {
     "name": "stdout",
     "output_type": "stream",
     "text": [
      "now in row:  377\n"
     ]
    },
    {
     "name": "stderr",
     "output_type": "stream",
     "text": [
      "\n",
      "\n",
      "\n",
      "\n",
      "\n",
      "\n",
      "\n",
      " 23%|████████▉                              | 378/1641 [07:28<44:20,  2.11s/it]"
     ]
    },
    {
     "name": "stdout",
     "output_type": "stream",
     "text": [
      "now in row:  378\n"
     ]
    },
    {
     "name": "stderr",
     "output_type": "stream",
     "text": [
      "\n",
      "\n",
      "\n",
      "\n",
      "\n",
      "\n",
      "\n",
      " 23%|█████████                              | 379/1641 [07:30<43:41,  2.08s/it]"
     ]
    },
    {
     "name": "stdout",
     "output_type": "stream",
     "text": [
      "now in row:  379\n"
     ]
    },
    {
     "name": "stderr",
     "output_type": "stream",
     "text": [
      "\n",
      "\n",
      "\n",
      "\n",
      "\n",
      "\n",
      "\n",
      " 23%|█████████                              | 380/1641 [07:32<42:29,  2.02s/it]"
     ]
    },
    {
     "name": "stdout",
     "output_type": "stream",
     "text": [
      "now in row:  380\n"
     ]
    },
    {
     "name": "stderr",
     "output_type": "stream",
     "text": [
      "\n",
      "\n",
      "\n",
      "\n",
      "\n",
      "\n",
      "\n",
      " 23%|█████████                              | 381/1641 [07:34<40:13,  1.92s/it]"
     ]
    },
    {
     "name": "stdout",
     "output_type": "stream",
     "text": [
      "now in row:  381\n"
     ]
    },
    {
     "name": "stderr",
     "output_type": "stream",
     "text": [
      "\n",
      "\n",
      "\n",
      "\n",
      "\n",
      "\n",
      "\n",
      " 23%|█████████                              | 382/1641 [07:35<37:00,  1.76s/it]"
     ]
    },
    {
     "name": "stdout",
     "output_type": "stream",
     "text": [
      "now in row:  382\n"
     ]
    },
    {
     "name": "stderr",
     "output_type": "stream",
     "text": [
      "\n",
      "\n",
      "\n",
      "\n",
      "\n",
      "\n",
      "\n",
      " 23%|█████████                              | 383/1641 [07:36<31:02,  1.48s/it]"
     ]
    },
    {
     "name": "stdout",
     "output_type": "stream",
     "text": [
      "now in row:  383\n"
     ]
    },
    {
     "name": "stderr",
     "output_type": "stream",
     "text": [
      "\n",
      "\n",
      "\n",
      "\n",
      "\n",
      "\n",
      "\n",
      " 23%|█████████▏                             | 384/1641 [07:38<32:08,  1.53s/it]"
     ]
    },
    {
     "name": "stdout",
     "output_type": "stream",
     "text": [
      "now in row:  384\n"
     ]
    },
    {
     "name": "stderr",
     "output_type": "stream",
     "text": [
      "\n",
      "\n",
      "\n",
      "\n",
      "\n",
      "\n",
      "\n",
      " 23%|█████████▏                             | 385/1641 [07:40<37:29,  1.79s/it]"
     ]
    },
    {
     "name": "stdout",
     "output_type": "stream",
     "text": [
      "now in row:  385\n"
     ]
    },
    {
     "name": "stderr",
     "output_type": "stream",
     "text": [
      "\n",
      "\n",
      "\n",
      "\n",
      "\n",
      "\n",
      "\n",
      " 24%|█████████▏                             | 386/1641 [07:42<35:15,  1.69s/it]"
     ]
    },
    {
     "name": "stdout",
     "output_type": "stream",
     "text": [
      "now in row:  386\n"
     ]
    },
    {
     "name": "stderr",
     "output_type": "stream",
     "text": [
      "\n",
      "\n",
      "\n",
      "\n",
      "\n",
      "\n",
      "\n",
      " 24%|█████████▏                             | 387/1641 [07:43<30:58,  1.48s/it]"
     ]
    },
    {
     "name": "stdout",
     "output_type": "stream",
     "text": [
      "now in row:  387\n"
     ]
    },
    {
     "name": "stderr",
     "output_type": "stream",
     "text": [
      "\n",
      "\n",
      "\n",
      "\n",
      "\n",
      "\n",
      "\n",
      " 24%|█████████▏                             | 388/1641 [07:44<32:02,  1.53s/it]"
     ]
    },
    {
     "name": "stdout",
     "output_type": "stream",
     "text": [
      "now in row:  388\n"
     ]
    },
    {
     "name": "stderr",
     "output_type": "stream",
     "text": [
      "\n",
      "\n",
      "\n",
      "\n",
      "\n",
      "\n",
      "\n",
      " 24%|█████████▏                             | 389/1641 [07:46<31:36,  1.51s/it]"
     ]
    },
    {
     "name": "stdout",
     "output_type": "stream",
     "text": [
      "now in row:  389\n"
     ]
    },
    {
     "name": "stderr",
     "output_type": "stream",
     "text": [
      "\n",
      "\n",
      "\n",
      "\n",
      "\n",
      "\n",
      "\n",
      " 24%|█████████▎                             | 390/1641 [07:48<35:01,  1.68s/it]"
     ]
    },
    {
     "name": "stdout",
     "output_type": "stream",
     "text": [
      "now in row:  390\n"
     ]
    },
    {
     "name": "stderr",
     "output_type": "stream",
     "text": [
      "\n",
      "\n",
      "\n",
      "\n",
      "\n",
      "\n",
      "\n",
      " 24%|█████████▎                             | 391/1641 [07:49<33:11,  1.59s/it]"
     ]
    },
    {
     "name": "stdout",
     "output_type": "stream",
     "text": [
      "now in row:  391\n"
     ]
    },
    {
     "name": "stderr",
     "output_type": "stream",
     "text": [
      "\n",
      "\n",
      "\n",
      "\n",
      "\n",
      "\n",
      "\n",
      " 24%|█████████▎                             | 392/1641 [07:50<27:55,  1.34s/it]"
     ]
    },
    {
     "name": "stdout",
     "output_type": "stream",
     "text": [
      "now in row:  392\n"
     ]
    },
    {
     "name": "stderr",
     "output_type": "stream",
     "text": [
      "\n",
      "\n",
      "\n",
      "\n",
      "\n",
      "\n",
      "\n",
      " 24%|█████████▎                             | 393/1641 [07:51<25:21,  1.22s/it]"
     ]
    },
    {
     "name": "stdout",
     "output_type": "stream",
     "text": [
      "now in row:  393\n"
     ]
    },
    {
     "name": "stderr",
     "output_type": "stream",
     "text": [
      "\n",
      "\n",
      "\n",
      "\n",
      "\n",
      "\n",
      "\n",
      " 24%|█████████▎                             | 394/1641 [07:53<29:37,  1.43s/it]"
     ]
    },
    {
     "name": "stdout",
     "output_type": "stream",
     "text": [
      "now in row:  394\n"
     ]
    },
    {
     "name": "stderr",
     "output_type": "stream",
     "text": [
      "\n",
      "\n",
      "\n",
      "\n",
      "\n",
      "\n",
      "\n",
      " 24%|█████████▍                             | 395/1641 [07:54<26:19,  1.27s/it]"
     ]
    },
    {
     "name": "stdout",
     "output_type": "stream",
     "text": [
      "now in row:  395\n"
     ]
    },
    {
     "name": "stderr",
     "output_type": "stream",
     "text": [
      "\n",
      "\n",
      "\n",
      "\n",
      "\n",
      "\n",
      "\n",
      " 24%|█████████▍                             | 396/1641 [07:55<25:12,  1.22s/it]"
     ]
    },
    {
     "name": "stdout",
     "output_type": "stream",
     "text": [
      "now in row:  396\n"
     ]
    },
    {
     "name": "stderr",
     "output_type": "stream",
     "text": [
      "\n",
      "\n",
      "\n",
      "\n",
      "\n",
      "\n",
      "\n",
      " 24%|█████████▍                             | 397/1641 [07:56<27:44,  1.34s/it]"
     ]
    },
    {
     "name": "stdout",
     "output_type": "stream",
     "text": [
      "now in row:  397\n"
     ]
    },
    {
     "name": "stderr",
     "output_type": "stream",
     "text": [
      "\n",
      "\n",
      "\n",
      "\n",
      "\n",
      "\n",
      "\n",
      " 24%|█████████▍                             | 398/1641 [07:58<30:32,  1.47s/it]"
     ]
    },
    {
     "name": "stdout",
     "output_type": "stream",
     "text": [
      "now in row:  398\n"
     ]
    },
    {
     "name": "stderr",
     "output_type": "stream",
     "text": [
      "\n",
      "\n",
      "\n",
      "\n",
      "\n",
      "\n",
      "\n",
      " 24%|█████████▍                             | 399/1641 [08:00<30:11,  1.46s/it]"
     ]
    },
    {
     "name": "stdout",
     "output_type": "stream",
     "text": [
      "now in row:  399\n"
     ]
    },
    {
     "name": "stderr",
     "output_type": "stream",
     "text": [
      "\n",
      "\n",
      "\n",
      "\n",
      "\n",
      "\n",
      "\n",
      " 24%|█████████▌                             | 400/1641 [08:01<31:12,  1.51s/it]"
     ]
    },
    {
     "name": "stdout",
     "output_type": "stream",
     "text": [
      "now in row:  400\n"
     ]
    },
    {
     "name": "stderr",
     "output_type": "stream",
     "text": [
      "\n",
      "\n",
      "\n",
      "\n",
      "\n",
      "\n",
      "\n",
      " 24%|█████████▌                             | 401/1641 [08:02<28:47,  1.39s/it]"
     ]
    },
    {
     "name": "stdout",
     "output_type": "stream",
     "text": [
      "now in row:  401\n"
     ]
    },
    {
     "name": "stderr",
     "output_type": "stream",
     "text": [
      "\n",
      "\n",
      "\n",
      "\n",
      "\n",
      "\n",
      "\n",
      " 24%|█████████▌                             | 402/1641 [08:03<24:58,  1.21s/it]"
     ]
    },
    {
     "name": "stdout",
     "output_type": "stream",
     "text": [
      "now in row:  402\n"
     ]
    },
    {
     "name": "stderr",
     "output_type": "stream",
     "text": [
      "\n",
      "\n",
      "\n",
      "\n",
      "\n",
      "\n",
      "\n",
      " 25%|█████████▌                             | 403/1641 [08:04<22:24,  1.09s/it]"
     ]
    },
    {
     "name": "stdout",
     "output_type": "stream",
     "text": [
      "now in row:  403\n"
     ]
    },
    {
     "name": "stderr",
     "output_type": "stream",
     "text": [
      "\n",
      "\n",
      "\n",
      "\n",
      "\n",
      "\n",
      "\n",
      " 25%|█████████▌                             | 404/1641 [08:05<23:11,  1.13s/it]"
     ]
    },
    {
     "name": "stdout",
     "output_type": "stream",
     "text": [
      "now in row:  404\n"
     ]
    },
    {
     "name": "stderr",
     "output_type": "stream",
     "text": [
      "\n",
      "\n",
      "\n",
      "\n",
      "\n",
      "\n",
      "\n",
      " 25%|█████████▋                             | 405/1641 [08:06<21:49,  1.06s/it]"
     ]
    },
    {
     "name": "stdout",
     "output_type": "stream",
     "text": [
      "now in row:  405\n"
     ]
    },
    {
     "name": "stderr",
     "output_type": "stream",
     "text": [
      "\n",
      "\n",
      "\n",
      "\n",
      "\n",
      "\n",
      "\n",
      " 25%|█████████▋                             | 406/1641 [08:07<23:46,  1.15s/it]"
     ]
    },
    {
     "name": "stdout",
     "output_type": "stream",
     "text": [
      "now in row:  406\n"
     ]
    },
    {
     "name": "stderr",
     "output_type": "stream",
     "text": [
      "\n",
      "\n",
      "\n",
      "\n",
      "\n",
      "\n",
      "\n",
      " 25%|█████████▋                             | 407/1641 [08:09<24:19,  1.18s/it]"
     ]
    },
    {
     "name": "stdout",
     "output_type": "stream",
     "text": [
      "now in row:  407\n"
     ]
    },
    {
     "name": "stderr",
     "output_type": "stream",
     "text": [
      "\n",
      "\n",
      "\n",
      "\n",
      "\n",
      "\n",
      "\n",
      " 25%|█████████▋                             | 408/1641 [08:10<22:57,  1.12s/it]"
     ]
    },
    {
     "name": "stdout",
     "output_type": "stream",
     "text": [
      "now in row:  408\n"
     ]
    },
    {
     "name": "stderr",
     "output_type": "stream",
     "text": [
      "\n",
      "\n",
      "\n",
      "\n",
      "\n",
      "\n",
      "\n",
      " 25%|█████████▋                             | 409/1641 [08:11<26:49,  1.31s/it]"
     ]
    },
    {
     "name": "stdout",
     "output_type": "stream",
     "text": [
      "now in row:  409\n"
     ]
    },
    {
     "name": "stderr",
     "output_type": "stream",
     "text": [
      "\n",
      "\n",
      "\n",
      "\n",
      "\n",
      "\n",
      "\n",
      " 25%|█████████▋                             | 410/1641 [08:13<29:32,  1.44s/it]"
     ]
    },
    {
     "name": "stdout",
     "output_type": "stream",
     "text": [
      "now in row:  410\n"
     ]
    },
    {
     "name": "stderr",
     "output_type": "stream",
     "text": [
      "\n",
      "\n",
      "\n",
      "\n",
      "\n",
      "\n",
      "\n",
      " 25%|█████████▊                             | 411/1641 [08:15<29:58,  1.46s/it]"
     ]
    },
    {
     "name": "stdout",
     "output_type": "stream",
     "text": [
      "now in row:  411\n"
     ]
    },
    {
     "name": "stderr",
     "output_type": "stream",
     "text": [
      "\n",
      "\n",
      "\n",
      "\n",
      "\n",
      "\n",
      "\n",
      " 25%|█████████▊                             | 412/1641 [08:16<28:35,  1.40s/it]"
     ]
    },
    {
     "name": "stdout",
     "output_type": "stream",
     "text": [
      "now in row:  412\n"
     ]
    },
    {
     "name": "stderr",
     "output_type": "stream",
     "text": [
      "\n",
      "\n",
      "\n",
      "\n",
      "\n",
      "\n",
      "\n",
      " 25%|█████████▊                             | 413/1641 [08:17<24:53,  1.22s/it]"
     ]
    },
    {
     "name": "stdout",
     "output_type": "stream",
     "text": [
      "now in row:  413\n"
     ]
    },
    {
     "name": "stderr",
     "output_type": "stream",
     "text": [
      "\n",
      "\n",
      "\n",
      "\n",
      "\n",
      "\n",
      "\n",
      " 25%|█████████▊                             | 414/1641 [08:17<21:48,  1.07s/it]"
     ]
    },
    {
     "name": "stdout",
     "output_type": "stream",
     "text": [
      "now in row:  414\n"
     ]
    },
    {
     "name": "stderr",
     "output_type": "stream",
     "text": [
      "\n",
      "\n",
      "\n",
      "\n",
      "\n",
      "\n",
      "\n",
      " 25%|█████████▊                             | 415/1641 [08:18<20:07,  1.02it/s]"
     ]
    },
    {
     "name": "stdout",
     "output_type": "stream",
     "text": [
      "now in row:  415\n"
     ]
    },
    {
     "name": "stderr",
     "output_type": "stream",
     "text": [
      "\n",
      "\n",
      "\n",
      "\n",
      "\n",
      "\n",
      "\n",
      " 25%|█████████▉                             | 416/1641 [08:19<20:46,  1.02s/it]"
     ]
    },
    {
     "name": "stdout",
     "output_type": "stream",
     "text": [
      "now in row:  416\n"
     ]
    },
    {
     "name": "stderr",
     "output_type": "stream",
     "text": [
      "\n",
      "\n",
      "\n",
      "\n",
      "\n",
      "\n",
      "\n",
      " 25%|█████████▉                             | 417/1641 [08:20<19:41,  1.04it/s]"
     ]
    },
    {
     "name": "stdout",
     "output_type": "stream",
     "text": [
      "now in row:  417\n"
     ]
    },
    {
     "name": "stderr",
     "output_type": "stream",
     "text": [
      "\n",
      "\n",
      "\n",
      "\n",
      "\n",
      "\n",
      "\n",
      " 25%|█████████▉                             | 418/1641 [08:22<24:00,  1.18s/it]"
     ]
    },
    {
     "name": "stdout",
     "output_type": "stream",
     "text": [
      "now in row:  418\n"
     ]
    },
    {
     "name": "stderr",
     "output_type": "stream",
     "text": [
      "\n",
      "\n",
      "\n",
      "\n",
      "\n",
      "\n",
      "\n",
      " 26%|█████████▉                             | 419/1641 [08:23<23:29,  1.15s/it]"
     ]
    },
    {
     "name": "stdout",
     "output_type": "stream",
     "text": [
      "now in row:  419\n"
     ]
    },
    {
     "name": "stderr",
     "output_type": "stream",
     "text": [
      "\n",
      "\n",
      "\n",
      "\n",
      "\n",
      "\n",
      "\n",
      " 26%|█████████▉                             | 420/1641 [08:24<21:19,  1.05s/it]"
     ]
    },
    {
     "name": "stdout",
     "output_type": "stream",
     "text": [
      "now in row:  420\n"
     ]
    },
    {
     "name": "stderr",
     "output_type": "stream",
     "text": [
      "\n",
      "\n",
      "\n",
      "\n",
      "\n",
      "\n",
      "\n",
      " 26%|██████████                             | 421/1641 [08:24<19:45,  1.03it/s]"
     ]
    },
    {
     "name": "stdout",
     "output_type": "stream",
     "text": [
      "now in row:  421\n"
     ]
    },
    {
     "name": "stderr",
     "output_type": "stream",
     "text": [
      "\n",
      "\n",
      "\n",
      "\n",
      "\n",
      "\n",
      "\n",
      " 26%|██████████                             | 422/1641 [08:25<18:24,  1.10it/s]"
     ]
    },
    {
     "name": "stdout",
     "output_type": "stream",
     "text": [
      "now in row:  422\n"
     ]
    },
    {
     "name": "stderr",
     "output_type": "stream",
     "text": [
      "\n",
      "\n",
      "\n",
      "\n",
      "\n",
      "\n",
      "\n",
      " 26%|██████████                             | 423/1641 [08:26<18:44,  1.08it/s]"
     ]
    },
    {
     "name": "stdout",
     "output_type": "stream",
     "text": [
      "now in row:  423\n"
     ]
    },
    {
     "name": "stderr",
     "output_type": "stream",
     "text": [
      "\n",
      "\n",
      "\n",
      "\n",
      "\n",
      "\n",
      "\n",
      " 26%|██████████                             | 424/1641 [08:27<17:39,  1.15it/s]"
     ]
    },
    {
     "name": "stdout",
     "output_type": "stream",
     "text": [
      "now in row:  424\n"
     ]
    },
    {
     "name": "stderr",
     "output_type": "stream",
     "text": [
      "\n",
      "\n",
      "\n",
      "\n",
      "\n",
      "\n",
      "\n",
      " 26%|██████████                             | 425/1641 [08:28<16:53,  1.20it/s]"
     ]
    },
    {
     "name": "stdout",
     "output_type": "stream",
     "text": [
      "now in row:  425\n"
     ]
    },
    {
     "name": "stderr",
     "output_type": "stream",
     "text": [
      "\n",
      "\n",
      "\n",
      "\n",
      "\n",
      "\n",
      "\n",
      " 26%|██████████                             | 426/1641 [08:29<16:53,  1.20it/s]"
     ]
    },
    {
     "name": "stdout",
     "output_type": "stream",
     "text": [
      "now in row:  426\n"
     ]
    },
    {
     "name": "stderr",
     "output_type": "stream",
     "text": [
      "\n",
      "\n",
      "\n",
      "\n",
      "\n",
      "\n",
      "\n",
      " 26%|██████████▏                            | 427/1641 [08:29<17:23,  1.16it/s]"
     ]
    },
    {
     "name": "stdout",
     "output_type": "stream",
     "text": [
      "now in row:  427\n"
     ]
    },
    {
     "name": "stderr",
     "output_type": "stream",
     "text": [
      "\n",
      "\n",
      "\n",
      "\n",
      "\n",
      "\n",
      "\n",
      " 26%|██████████▏                            | 428/1641 [08:30<17:29,  1.16it/s]"
     ]
    },
    {
     "name": "stdout",
     "output_type": "stream",
     "text": [
      "now in row:  428\n"
     ]
    },
    {
     "name": "stderr",
     "output_type": "stream",
     "text": [
      "\n",
      "\n",
      "\n",
      "\n",
      "\n",
      "\n",
      "\n",
      " 26%|██████████▏                            | 429/1641 [08:31<17:03,  1.18it/s]"
     ]
    },
    {
     "name": "stdout",
     "output_type": "stream",
     "text": [
      "now in row:  429\n"
     ]
    },
    {
     "name": "stderr",
     "output_type": "stream",
     "text": [
      "\n",
      "\n",
      "\n",
      "\n",
      "\n",
      "\n",
      "\n",
      " 26%|██████████▏                            | 430/1641 [08:32<16:34,  1.22it/s]"
     ]
    },
    {
     "name": "stdout",
     "output_type": "stream",
     "text": [
      "now in row:  430\n"
     ]
    },
    {
     "name": "stderr",
     "output_type": "stream",
     "text": [
      "\n",
      "\n",
      "\n",
      "\n",
      "\n",
      "\n",
      "\n",
      " 26%|██████████▏                            | 431/1641 [08:34<24:32,  1.22s/it]"
     ]
    },
    {
     "name": "stdout",
     "output_type": "stream",
     "text": [
      "now in row:  431\n"
     ]
    },
    {
     "name": "stderr",
     "output_type": "stream",
     "text": [
      "\n",
      "\n",
      "\n",
      "\n",
      "\n",
      "\n",
      "\n",
      " 26%|██████████▎                            | 432/1641 [08:36<31:29,  1.56s/it]"
     ]
    },
    {
     "name": "stdout",
     "output_type": "stream",
     "text": [
      "now in row:  432\n"
     ]
    },
    {
     "name": "stderr",
     "output_type": "stream",
     "text": [
      "\n",
      "\n",
      "\n",
      "\n",
      "\n",
      "\n",
      "\n",
      " 26%|██████████▎                            | 433/1641 [08:38<32:52,  1.63s/it]"
     ]
    },
    {
     "name": "stdout",
     "output_type": "stream",
     "text": [
      "now in row:  433\n"
     ]
    },
    {
     "name": "stderr",
     "output_type": "stream",
     "text": [
      "\n",
      "\n",
      "\n",
      "\n",
      "\n",
      "\n",
      "\n",
      " 26%|██████████▎                            | 434/1641 [08:39<29:30,  1.47s/it]"
     ]
    },
    {
     "name": "stdout",
     "output_type": "stream",
     "text": [
      "now in row:  434\n"
     ]
    },
    {
     "name": "stderr",
     "output_type": "stream",
     "text": [
      "\n",
      "\n",
      "\n",
      "\n",
      "\n",
      "\n",
      "\n",
      " 27%|██████████▎                            | 435/1641 [08:41<32:45,  1.63s/it]"
     ]
    },
    {
     "name": "stdout",
     "output_type": "stream",
     "text": [
      "now in row:  435\n"
     ]
    },
    {
     "name": "stderr",
     "output_type": "stream",
     "text": [
      "\n",
      "\n",
      "\n",
      "\n",
      "\n",
      "\n",
      "\n",
      " 27%|██████████▎                            | 436/1641 [08:43<34:18,  1.71s/it]"
     ]
    },
    {
     "name": "stdout",
     "output_type": "stream",
     "text": [
      "now in row:  436\n"
     ]
    },
    {
     "name": "stderr",
     "output_type": "stream",
     "text": [
      "\n",
      "\n",
      "\n",
      "\n",
      "\n",
      "\n",
      "\n",
      " 27%|██████████▍                            | 437/1641 [08:45<34:36,  1.72s/it]"
     ]
    },
    {
     "name": "stdout",
     "output_type": "stream",
     "text": [
      "now in row:  437\n"
     ]
    },
    {
     "name": "stderr",
     "output_type": "stream",
     "text": [
      "\n",
      "\n",
      "\n",
      "\n",
      "\n",
      "\n",
      "\n",
      " 27%|██████████▍                            | 438/1641 [08:47<35:00,  1.75s/it]"
     ]
    },
    {
     "name": "stdout",
     "output_type": "stream",
     "text": [
      "now in row:  438\n"
     ]
    },
    {
     "name": "stderr",
     "output_type": "stream",
     "text": [
      "\n",
      "\n",
      "\n",
      "\n",
      "\n",
      "\n",
      "\n",
      " 27%|██████████▍                            | 439/1641 [08:48<33:10,  1.66s/it]"
     ]
    },
    {
     "name": "stdout",
     "output_type": "stream",
     "text": [
      "now in row:  439\n"
     ]
    },
    {
     "name": "stderr",
     "output_type": "stream",
     "text": [
      "\n",
      "\n",
      "\n",
      "\n",
      "\n",
      "\n",
      "\n",
      " 27%|██████████▍                            | 440/1641 [08:50<35:03,  1.75s/it]"
     ]
    },
    {
     "name": "stdout",
     "output_type": "stream",
     "text": [
      "now in row:  440\n"
     ]
    },
    {
     "name": "stderr",
     "output_type": "stream",
     "text": [
      "\n",
      "\n",
      "\n",
      "\n",
      "\n",
      "\n",
      "\n",
      " 27%|█████████▉                           | 441/1641 [09:00<1:24:40,  4.23s/it]"
     ]
    },
    {
     "name": "stdout",
     "output_type": "stream",
     "text": [
      "now in row:  441\n"
     ]
    },
    {
     "name": "stderr",
     "output_type": "stream",
     "text": [
      "\n",
      "\n",
      "\n",
      "\n",
      "\n",
      "\n",
      "\n",
      " 27%|█████████▉                           | 442/1641 [09:02<1:09:18,  3.47s/it]"
     ]
    },
    {
     "name": "stdout",
     "output_type": "stream",
     "text": [
      "now in row:  442\n"
     ]
    },
    {
     "name": "stderr",
     "output_type": "stream",
     "text": [
      "\n",
      "\n",
      "\n",
      "\n",
      "\n",
      "\n",
      "\n",
      " 27%|█████████▉                           | 443/1641 [09:04<1:01:32,  3.08s/it]"
     ]
    },
    {
     "name": "stdout",
     "output_type": "stream",
     "text": [
      "now in row:  443\n"
     ]
    },
    {
     "name": "stderr",
     "output_type": "stream",
     "text": [
      "\n",
      "\n",
      "\n",
      "\n",
      "\n",
      "\n",
      "\n",
      " 27%|██████████▌                            | 444/1641 [09:06<54:44,  2.74s/it]"
     ]
    },
    {
     "name": "stdout",
     "output_type": "stream",
     "text": [
      "now in row:  444\n"
     ]
    },
    {
     "name": "stderr",
     "output_type": "stream",
     "text": [
      "\n",
      "\n",
      "\n",
      "\n",
      "\n",
      "\n",
      "\n",
      " 27%|██████████▌                            | 445/1641 [09:07<44:38,  2.24s/it]"
     ]
    },
    {
     "name": "stdout",
     "output_type": "stream",
     "text": [
      "now in row:  445\n"
     ]
    },
    {
     "name": "stderr",
     "output_type": "stream",
     "text": [
      "\n",
      "\n",
      "\n",
      "\n",
      "\n",
      "\n",
      "\n",
      " 27%|██████████                           | 446/1641 [09:15<1:17:44,  3.90s/it]"
     ]
    },
    {
     "name": "stdout",
     "output_type": "stream",
     "text": [
      "now in row:  446\n"
     ]
    },
    {
     "name": "stderr",
     "output_type": "stream",
     "text": [
      "\n",
      "\n",
      "\n",
      "\n",
      "\n",
      "\n",
      "\n",
      " 27%|██████████                           | 447/1641 [09:17<1:06:11,  3.33s/it]"
     ]
    },
    {
     "name": "stdout",
     "output_type": "stream",
     "text": [
      "now in row:  447\n"
     ]
    },
    {
     "name": "stderr",
     "output_type": "stream",
     "text": [
      "\n",
      "\n",
      "\n",
      "\n",
      "\n",
      "\n",
      "\n",
      " 27%|██████████▋                            | 448/1641 [09:19<57:08,  2.87s/it]"
     ]
    },
    {
     "name": "stdout",
     "output_type": "stream",
     "text": [
      "now in row:  448\n"
     ]
    },
    {
     "name": "stderr",
     "output_type": "stream",
     "text": [
      "\n",
      "\n",
      "\n",
      "\n",
      "\n",
      "\n",
      "\n",
      " 27%|██████████▋                            | 449/1641 [09:20<50:11,  2.53s/it]"
     ]
    },
    {
     "name": "stdout",
     "output_type": "stream",
     "text": [
      "now in row:  449\n"
     ]
    },
    {
     "name": "stderr",
     "output_type": "stream",
     "text": [
      "\n",
      "\n",
      "\n",
      "\n",
      "\n",
      "\n",
      "\n",
      " 27%|██████████▋                            | 450/1641 [09:22<42:56,  2.16s/it]"
     ]
    },
    {
     "name": "stdout",
     "output_type": "stream",
     "text": [
      "now in row:  450\n"
     ]
    },
    {
     "name": "stderr",
     "output_type": "stream",
     "text": [
      "\n",
      "\n",
      "\n",
      "\n",
      "\n",
      "\n",
      "\n",
      " 27%|██████████▋                            | 451/1641 [09:24<40:59,  2.07s/it]"
     ]
    },
    {
     "name": "stdout",
     "output_type": "stream",
     "text": [
      "now in row:  451\n"
     ]
    },
    {
     "name": "stderr",
     "output_type": "stream",
     "text": [
      "\n",
      "\n",
      "\n",
      "\n",
      "\n",
      "\n",
      "\n",
      " 28%|██████████▋                            | 452/1641 [09:25<39:45,  2.01s/it]"
     ]
    },
    {
     "name": "stdout",
     "output_type": "stream",
     "text": [
      "now in row:  452\n"
     ]
    },
    {
     "name": "stderr",
     "output_type": "stream",
     "text": [
      "\n",
      "\n",
      "\n",
      "\n",
      "\n",
      "\n",
      "\n",
      " 28%|██████████▊                            | 453/1641 [09:27<38:35,  1.95s/it]"
     ]
    },
    {
     "name": "stdout",
     "output_type": "stream",
     "text": [
      "now in row:  453\n"
     ]
    },
    {
     "name": "stderr",
     "output_type": "stream",
     "text": [
      "\n",
      "\n",
      "\n",
      "\n",
      "\n",
      "\n",
      "\n",
      " 28%|██████████▊                            | 454/1641 [09:29<39:16,  1.99s/it]"
     ]
    },
    {
     "name": "stdout",
     "output_type": "stream",
     "text": [
      "now in row:  454\n"
     ]
    },
    {
     "name": "stderr",
     "output_type": "stream",
     "text": [
      "\n",
      "\n",
      "\n",
      "\n",
      "\n",
      "\n",
      "\n",
      " 28%|██████████▊                            | 455/1641 [09:31<37:37,  1.90s/it]"
     ]
    },
    {
     "name": "stdout",
     "output_type": "stream",
     "text": [
      "now in row:  455\n"
     ]
    },
    {
     "name": "stderr",
     "output_type": "stream",
     "text": [
      "\n",
      "\n",
      "\n",
      "\n",
      "\n",
      "\n",
      "\n",
      " 28%|██████████▊                            | 456/1641 [09:33<38:09,  1.93s/it]"
     ]
    },
    {
     "name": "stdout",
     "output_type": "stream",
     "text": [
      "now in row:  456\n"
     ]
    },
    {
     "name": "stderr",
     "output_type": "stream",
     "text": [
      "\n",
      "\n",
      "\n",
      "\n",
      "\n",
      "\n",
      "\n",
      " 28%|██████████▊                            | 457/1641 [09:35<37:03,  1.88s/it]"
     ]
    },
    {
     "name": "stdout",
     "output_type": "stream",
     "text": [
      "now in row:  457\n"
     ]
    },
    {
     "name": "stderr",
     "output_type": "stream",
     "text": [
      "\n",
      "\n",
      "\n",
      "\n",
      "\n",
      "\n",
      "\n",
      " 28%|██████████▉                            | 458/1641 [09:36<34:27,  1.75s/it]"
     ]
    },
    {
     "name": "stdout",
     "output_type": "stream",
     "text": [
      "now in row:  458\n"
     ]
    },
    {
     "name": "stderr",
     "output_type": "stream",
     "text": [
      "\n",
      "\n",
      "\n",
      "\n",
      "\n",
      "\n",
      "\n",
      " 28%|██████████▉                            | 459/1641 [09:39<41:03,  2.08s/it]"
     ]
    },
    {
     "name": "stdout",
     "output_type": "stream",
     "text": [
      "now in row:  459\n"
     ]
    },
    {
     "name": "stderr",
     "output_type": "stream",
     "text": [
      "\n",
      "\n",
      "\n",
      "\n",
      "\n",
      "\n",
      "\n",
      " 28%|██████████▉                            | 460/1641 [09:41<39:04,  1.99s/it]"
     ]
    },
    {
     "name": "stdout",
     "output_type": "stream",
     "text": [
      "now in row:  460\n"
     ]
    },
    {
     "name": "stderr",
     "output_type": "stream",
     "text": [
      "\n",
      "\n",
      "\n",
      "\n",
      "\n",
      "\n",
      "\n",
      " 28%|██████████▉                            | 461/1641 [09:43<39:08,  1.99s/it]"
     ]
    },
    {
     "name": "stdout",
     "output_type": "stream",
     "text": [
      "now in row:  461\n"
     ]
    },
    {
     "name": "stderr",
     "output_type": "stream",
     "text": [
      "\n",
      "\n",
      "\n",
      "\n",
      "\n",
      "\n",
      "\n",
      " 28%|██████████▉                            | 462/1641 [09:45<41:14,  2.10s/it]"
     ]
    },
    {
     "name": "stdout",
     "output_type": "stream",
     "text": [
      "now in row:  462\n"
     ]
    },
    {
     "name": "stderr",
     "output_type": "stream",
     "text": [
      "\n",
      "\n",
      "\n",
      "\n",
      "\n",
      "\n",
      "\n",
      " 28%|███████████                            | 463/1641 [09:47<40:56,  2.09s/it]"
     ]
    },
    {
     "name": "stdout",
     "output_type": "stream",
     "text": [
      "now in row:  463\n"
     ]
    },
    {
     "name": "stderr",
     "output_type": "stream",
     "text": [
      "\n",
      "\n",
      "\n",
      "\n",
      "\n",
      "\n",
      "\n",
      " 28%|███████████                            | 464/1641 [09:49<38:57,  1.99s/it]"
     ]
    },
    {
     "name": "stdout",
     "output_type": "stream",
     "text": [
      "now in row:  464\n"
     ]
    },
    {
     "name": "stderr",
     "output_type": "stream",
     "text": [
      "\n",
      "\n",
      "\n",
      "\n",
      "\n",
      "\n",
      "\n",
      " 28%|███████████                            | 465/1641 [09:51<38:39,  1.97s/it]"
     ]
    },
    {
     "name": "stdout",
     "output_type": "stream",
     "text": [
      "now in row:  465\n"
     ]
    },
    {
     "name": "stderr",
     "output_type": "stream",
     "text": [
      "\n",
      "\n",
      "\n",
      "\n",
      "\n",
      "\n",
      "\n",
      " 28%|███████████                            | 466/1641 [09:53<37:53,  1.94s/it]"
     ]
    },
    {
     "name": "stdout",
     "output_type": "stream",
     "text": [
      "now in row:  466\n"
     ]
    },
    {
     "name": "stderr",
     "output_type": "stream",
     "text": [
      "\n",
      "\n",
      "\n",
      "\n",
      "\n",
      "\n",
      "\n",
      " 28%|███████████                            | 467/1641 [09:54<36:00,  1.84s/it]"
     ]
    },
    {
     "name": "stdout",
     "output_type": "stream",
     "text": [
      "now in row:  467\n"
     ]
    },
    {
     "name": "stderr",
     "output_type": "stream",
     "text": [
      "\n",
      "\n",
      "\n",
      "\n",
      "\n",
      "\n",
      "\n",
      " 29%|███████████                            | 468/1641 [09:55<31:02,  1.59s/it]"
     ]
    },
    {
     "name": "stdout",
     "output_type": "stream",
     "text": [
      "now in row:  468\n"
     ]
    },
    {
     "name": "stderr",
     "output_type": "stream",
     "text": [
      "\n",
      "\n",
      "\n",
      "\n",
      "\n",
      "\n",
      "\n",
      " 29%|███████████▏                           | 469/1641 [09:57<31:36,  1.62s/it]"
     ]
    },
    {
     "name": "stdout",
     "output_type": "stream",
     "text": [
      "now in row:  469\n"
     ]
    },
    {
     "name": "stderr",
     "output_type": "stream",
     "text": [
      "\n",
      "\n",
      "\n",
      "\n",
      "\n",
      "\n",
      "\n",
      " 29%|███████████▏                           | 470/1641 [09:59<33:17,  1.71s/it]"
     ]
    },
    {
     "name": "stdout",
     "output_type": "stream",
     "text": [
      "now in row:  470\n"
     ]
    },
    {
     "name": "stderr",
     "output_type": "stream",
     "text": [
      "\n",
      "\n",
      "\n",
      "\n",
      "\n",
      "\n",
      "\n",
      " 29%|███████████▏                           | 471/1641 [10:04<53:55,  2.77s/it]"
     ]
    },
    {
     "name": "stdout",
     "output_type": "stream",
     "text": [
      "now in row:  471\n"
     ]
    },
    {
     "name": "stderr",
     "output_type": "stream",
     "text": [
      "\n",
      "\n",
      "\n",
      "\n",
      "\n",
      "\n",
      "\n",
      " 29%|███████████▏                           | 472/1641 [10:06<49:08,  2.52s/it]"
     ]
    },
    {
     "name": "stdout",
     "output_type": "stream",
     "text": [
      "now in row:  472\n"
     ]
    },
    {
     "name": "stderr",
     "output_type": "stream",
     "text": [
      "\n",
      "\n",
      "\n",
      "\n",
      "\n",
      "\n",
      "\n",
      " 29%|███████████▏                           | 473/1641 [10:08<45:35,  2.34s/it]"
     ]
    },
    {
     "name": "stdout",
     "output_type": "stream",
     "text": [
      "now in row:  473\n"
     ]
    },
    {
     "name": "stderr",
     "output_type": "stream",
     "text": [
      "\n",
      "\n",
      "\n",
      "\n",
      "\n",
      "\n",
      "\n",
      " 29%|███████████▎                           | 474/1641 [10:10<44:47,  2.30s/it]"
     ]
    },
    {
     "name": "stdout",
     "output_type": "stream",
     "text": [
      "now in row:  474\n"
     ]
    },
    {
     "name": "stderr",
     "output_type": "stream",
     "text": [
      "\n",
      "\n",
      "\n",
      "\n",
      "\n",
      "\n",
      "\n",
      " 29%|██████████▋                          | 475/1641 [10:16<1:04:19,  3.31s/it]"
     ]
    },
    {
     "name": "stdout",
     "output_type": "stream",
     "text": [
      "now in row:  475\n"
     ]
    },
    {
     "name": "stderr",
     "output_type": "stream",
     "text": [
      "\n",
      "\n",
      "\n",
      "\n",
      "\n",
      "\n",
      "\n",
      " 29%|███████████▎                           | 476/1641 [10:18<57:20,  2.95s/it]"
     ]
    },
    {
     "name": "stdout",
     "output_type": "stream",
     "text": [
      "now in row:  476\n"
     ]
    },
    {
     "name": "stderr",
     "output_type": "stream",
     "text": [
      "\n",
      "\n",
      "\n",
      "\n",
      "\n",
      "\n",
      "\n",
      " 29%|███████████▎                           | 477/1641 [10:20<51:17,  2.64s/it]"
     ]
    },
    {
     "name": "stdout",
     "output_type": "stream",
     "text": [
      "now in row:  477\n"
     ]
    },
    {
     "name": "stderr",
     "output_type": "stream",
     "text": [
      "\n",
      "\n",
      "\n",
      "\n",
      "\n",
      "\n",
      "\n",
      " 29%|███████████▎                           | 478/1641 [10:21<44:24,  2.29s/it]"
     ]
    },
    {
     "name": "stdout",
     "output_type": "stream",
     "text": [
      "now in row:  478\n"
     ]
    },
    {
     "name": "stderr",
     "output_type": "stream",
     "text": [
      "\n",
      "\n",
      "\n",
      "\n",
      "\n",
      "\n",
      "\n",
      " 29%|███████████▍                           | 479/1641 [10:23<42:12,  2.18s/it]"
     ]
    },
    {
     "name": "stdout",
     "output_type": "stream",
     "text": [
      "now in row:  479\n"
     ]
    },
    {
     "name": "stderr",
     "output_type": "stream",
     "text": [
      "\n",
      "\n",
      "\n",
      "\n",
      "\n",
      "\n",
      "\n",
      " 29%|███████████▍                           | 480/1641 [10:25<40:01,  2.07s/it]"
     ]
    },
    {
     "name": "stdout",
     "output_type": "stream",
     "text": [
      "now in row:  480\n"
     ]
    },
    {
     "name": "stderr",
     "output_type": "stream",
     "text": [
      "\n",
      "\n",
      "\n",
      "\n",
      "\n",
      "\n",
      "\n",
      " 29%|███████████▍                           | 481/1641 [10:26<34:24,  1.78s/it]"
     ]
    },
    {
     "name": "stdout",
     "output_type": "stream",
     "text": [
      "now in row:  481\n"
     ]
    },
    {
     "name": "stderr",
     "output_type": "stream",
     "text": [
      "\n",
      "\n",
      "\n",
      "\n",
      "\n",
      "\n",
      "\n",
      " 29%|███████████▍                           | 482/1641 [10:28<33:18,  1.72s/it]"
     ]
    },
    {
     "name": "stdout",
     "output_type": "stream",
     "text": [
      "now in row:  482\n"
     ]
    },
    {
     "name": "stderr",
     "output_type": "stream",
     "text": [
      "\n",
      "\n",
      "\n",
      "\n",
      "\n",
      "\n",
      "\n",
      " 29%|███████████▍                           | 483/1641 [10:29<28:52,  1.50s/it]"
     ]
    },
    {
     "name": "stdout",
     "output_type": "stream",
     "text": [
      "now in row:  483\n"
     ]
    },
    {
     "name": "stderr",
     "output_type": "stream",
     "text": [
      "\n",
      "\n",
      "\n",
      "\n",
      "\n",
      "\n",
      "\n",
      " 29%|███████████▌                           | 484/1641 [10:31<32:04,  1.66s/it]"
     ]
    },
    {
     "name": "stdout",
     "output_type": "stream",
     "text": [
      "now in row:  484\n"
     ]
    },
    {
     "name": "stderr",
     "output_type": "stream",
     "text": [
      "\n",
      "\n",
      "\n",
      "\n",
      "\n",
      "\n",
      "\n",
      " 30%|███████████▌                           | 485/1641 [10:33<35:07,  1.82s/it]"
     ]
    },
    {
     "name": "stdout",
     "output_type": "stream",
     "text": [
      "now in row:  485\n"
     ]
    },
    {
     "name": "stderr",
     "output_type": "stream",
     "text": [
      "\n",
      "\n",
      "\n",
      "\n",
      "\n",
      "\n",
      "\n",
      " 30%|███████████▌                           | 486/1641 [10:35<35:58,  1.87s/it]"
     ]
    },
    {
     "name": "stdout",
     "output_type": "stream",
     "text": [
      "now in row:  486\n"
     ]
    },
    {
     "name": "stderr",
     "output_type": "stream",
     "text": [
      "\n",
      "\n",
      "\n",
      "\n",
      "\n",
      "\n",
      "\n",
      " 30%|███████████▌                           | 487/1641 [10:36<30:24,  1.58s/it]"
     ]
    },
    {
     "name": "stdout",
     "output_type": "stream",
     "text": [
      "now in row:  487\n"
     ]
    },
    {
     "name": "stderr",
     "output_type": "stream",
     "text": [
      "\n",
      "\n",
      "\n",
      "\n",
      "\n",
      "\n",
      "\n",
      " 30%|███████████▌                           | 488/1641 [10:38<35:34,  1.85s/it]"
     ]
    },
    {
     "name": "stdout",
     "output_type": "stream",
     "text": [
      "now in row:  488\n"
     ]
    },
    {
     "name": "stderr",
     "output_type": "stream",
     "text": [
      "\n",
      "\n",
      "\n",
      "\n",
      "\n",
      "\n",
      "\n",
      " 30%|███████████▌                           | 489/1641 [10:41<37:27,  1.95s/it]"
     ]
    },
    {
     "name": "stdout",
     "output_type": "stream",
     "text": [
      "now in row:  489\n"
     ]
    },
    {
     "name": "stderr",
     "output_type": "stream",
     "text": [
      "\n",
      "\n",
      "\n",
      "\n",
      "\n",
      "\n",
      "\n",
      " 30%|███████████▋                           | 490/1641 [10:43<37:28,  1.95s/it]"
     ]
    },
    {
     "name": "stdout",
     "output_type": "stream",
     "text": [
      "now in row:  490\n"
     ]
    },
    {
     "name": "stderr",
     "output_type": "stream",
     "text": [
      "\n",
      "\n",
      "\n",
      "\n",
      "\n",
      "\n",
      "\n",
      " 30%|███████████                          | 491/1641 [10:50<1:09:01,  3.60s/it]"
     ]
    },
    {
     "name": "stdout",
     "output_type": "stream",
     "text": [
      "now in row:  491\n"
     ]
    },
    {
     "name": "stderr",
     "output_type": "stream",
     "text": [
      "\n",
      "\n",
      "\n",
      "\n",
      "\n",
      "\n",
      "\n",
      " 30%|███████████▋                           | 492/1641 [10:52<57:47,  3.02s/it]"
     ]
    },
    {
     "name": "stdout",
     "output_type": "stream",
     "text": [
      "now in row:  492\n"
     ]
    },
    {
     "name": "stderr",
     "output_type": "stream",
     "text": [
      "\n",
      "\n",
      "\n",
      "\n",
      "\n",
      "\n",
      "\n",
      " 30%|███████████▋                           | 493/1641 [10:53<45:34,  2.38s/it]"
     ]
    },
    {
     "name": "stdout",
     "output_type": "stream",
     "text": [
      "now in row:  493\n"
     ]
    },
    {
     "name": "stderr",
     "output_type": "stream",
     "text": [
      "\n",
      "\n",
      "\n",
      "\n",
      "\n",
      "\n",
      "\n",
      " 30%|███████████▋                           | 494/1641 [10:54<38:52,  2.03s/it]"
     ]
    },
    {
     "name": "stdout",
     "output_type": "stream",
     "text": [
      "now in row:  494\n"
     ]
    },
    {
     "name": "stderr",
     "output_type": "stream",
     "text": [
      "\n",
      "\n",
      "\n",
      "\n",
      "\n",
      "\n",
      "\n",
      " 30%|███████████▊                           | 495/1641 [10:57<42:43,  2.24s/it]"
     ]
    },
    {
     "name": "stdout",
     "output_type": "stream",
     "text": [
      "now in row:  495\n"
     ]
    },
    {
     "name": "stderr",
     "output_type": "stream",
     "text": [
      "\n",
      "\n",
      "\n",
      "\n",
      "\n",
      "\n",
      "\n",
      " 30%|███████████▊                           | 496/1641 [10:58<38:25,  2.01s/it]"
     ]
    },
    {
     "name": "stdout",
     "output_type": "stream",
     "text": [
      "now in row:  496\n"
     ]
    },
    {
     "name": "stderr",
     "output_type": "stream",
     "text": [
      "\n",
      "\n",
      "\n",
      "\n",
      "\n",
      "\n",
      "\n",
      " 30%|███████████▊                           | 497/1641 [11:00<37:33,  1.97s/it]"
     ]
    },
    {
     "name": "stdout",
     "output_type": "stream",
     "text": [
      "now in row:  497\n"
     ]
    },
    {
     "name": "stderr",
     "output_type": "stream",
     "text": [
      "\n",
      "\n",
      "\n",
      "\n",
      "\n",
      "\n",
      "\n",
      " 30%|███████████▊                           | 498/1641 [11:01<32:47,  1.72s/it]"
     ]
    },
    {
     "name": "stdout",
     "output_type": "stream",
     "text": [
      "now in row:  498\n"
     ]
    },
    {
     "name": "stderr",
     "output_type": "stream",
     "text": [
      "\n",
      "\n",
      "\n",
      "\n",
      "\n",
      "\n",
      "\n",
      " 30%|███████████▊                           | 499/1641 [11:02<29:17,  1.54s/it]"
     ]
    },
    {
     "name": "stdout",
     "output_type": "stream",
     "text": [
      "now in row:  499\n"
     ]
    },
    {
     "name": "stderr",
     "output_type": "stream",
     "text": [
      "\n",
      "\n",
      "\n",
      "\n",
      "\n",
      "\n",
      "\n",
      " 30%|███████████▉                           | 500/1641 [11:03<27:53,  1.47s/it]"
     ]
    },
    {
     "name": "stdout",
     "output_type": "stream",
     "text": [
      "now in row:  500\n"
     ]
    }
   ],
   "source": [
    "def get_detail(df, x, y):\n",
    "    for (idx, r) in tqdm(df.iterrows(), total=len(df)):      \n",
    "        if idx >= x:\n",
    "            url = r['year_url'] \n",
    "            print('now in row: ', idx)\n",
    "            data_onepage = get_onePage(url, r)\n",
    "            _ = store_onePage(idx, data_onepage)\n",
    "            if idx >=y:\n",
    "                break\n",
    "    return      \n",
    "        \n",
    "df_detail = get_detail(df_years, 101, 500) # I do that in parallel fashion"
   ]
  },
  {
   "cell_type": "code",
   "execution_count": 26,
   "metadata": {},
   "outputs": [
    {
     "data": {
      "text/plain": [
       "[('Final Appeal (Civil)',\n",
       "  '2011',\n",
       "  \"\\\\'https://legalref.judiciary.hk/lrs/images/ThemeXP/Epage.gif\\\\'\",\n",
       "  'FACV1/2011',\n",
       "  'https://legalref.judiciary.hk/lrs/common/ju/ju_frame.jsp?DIS=79800',\n",
       "  '(06/01/2012)',\n",
       "  'THE CATHOLIC DIOCESE OF HONG KONG ALSO KNOWN AS THE BISHOP OF THE ROMAN CATHOLIC CHURCH IN HONG KONG INCORPORATION  v. SECRETARY FOR JUSTICE \\xa0'),\n",
       " ('Final Appeal (Civil)',\n",
       "  '2011',\n",
       "  \"\\\\'https://legalref.judiciary.hk/lrs/images/ThemeXP/Epage.gif\\\\'\",\n",
       "  'FACV1/2011',\n",
       "  'https://legalref.judiciary.hk/lrs/common/ju/ju_frame.jsp?DIS=78563',\n",
       "  '(13/10/2011)',\n",
       "  'THE CATHOLIC DIOCESE OF HONG KONG ALSO KNOWN AS THE BISHOP OF THE ROMAN CATHOLIC CHURCH IN HONG KONG INCORPORATION v. SECRETARY FOR JUSTICE \\xa0Reported in :(2011) 14 HKCFAR 754'),\n",
       " ('Final Appeal (Civil)',\n",
       "  '2011',\n",
       "  \"\\\\'https://legalref.judiciary.hk/lrs/images/ThemeXP/ETpage.gif\\\\'\",\n",
       "  'FACV2/2011',\n",
       "  'https://legalref.judiciary.hk/lrs/common/ju/ju_frame.jsp?DIS=79162',\n",
       "  '(23/11/2011)',\n",
       "  'WEALTH DUKE LTD AND OTHERS v. BANK OF CHINA (HONG KONG) LTD \\xa0Reported in :(2011) 14 HKCFAR 863'),\n",
       " ('Final Appeal (Civil)',\n",
       "  '2011',\n",
       "  \"\\\\'https://legalref.judiciary.hk/lrs/images/ThemeXP/Epage.gif\\\\'\",\n",
       "  'FACV3/2011',\n",
       "  'https://legalref.judiciary.hk/lrs/common/ju/ju_frame.jsp?DIS=81811',\n",
       "  '(24/05/2012)',\n",
       "  'THE LIQUIDATOR OF WING FAI CONSTRUCTION CO LTD (IN COMPULSORY LIQUIDATION) v. YIP KWONG ROBERT \\xa0Reported in :(2012) 15 HKCFAR 454'),\n",
       " ('Final Appeal (Civil)',\n",
       "  '2011',\n",
       "  \"\\\\'https://legalref.judiciary.hk/lrs/images/ThemeXP/Epage.gif\\\\'\",\n",
       "  'FACV3/2011',\n",
       "  'https://legalref.judiciary.hk/lrs/common/ju/ju_frame.jsp?DIS=79403',\n",
       "  '(08/12/2011)',\n",
       "  'THE LIQUIDATOR OF WING FAI CONSTRUCTION CO LTD  (IN COMPULSORY LIQUIDATION) v. YIP KWONG ROBERT AND OTHERS \\xa0Reported in :[2012] 1 HKLRD 589; (2011) 14 HKCFAR 935'),\n",
       " ('Final Appeal (Civil)',\n",
       "  '2011',\n",
       "  \"\\\\'https://legalref.judiciary.hk/lrs/images/ThemeXP/ETpage.gif\\\\'\",\n",
       "  'FACV4/2011',\n",
       "  'https://legalref.judiciary.hk/lrs/common/ju/ju_frame.jsp?DIS=79286',\n",
       "  '(01/12/2011)',\n",
       "  'CHONG WAI LEE, CHARLES AND ANOTHER v. INSIDER DEALING TRIBUNAL AND ANOTHER \\xa0Reported in :(2011) 14 HKCFAR 875'),\n",
       " ('Final Appeal (Civil)',\n",
       "  '2011',\n",
       "  \"\\\\'https://legalref.judiciary.hk/lrs/images/ThemeXP/Epage.gif\\\\'\",\n",
       "  'FACV5/2011',\n",
       "  'https://legalref.judiciary.hk/lrs/common/ju/ju_frame.jsp?DIS=79404',\n",
       "  '(08/12/2011)',\n",
       "  'SECRETARY FOR JUSTICE v. CHAU KA CHIK TSO AND OTHERS \\xa0Reported in :(2011) 14 HKCFAR 889'),\n",
       " ('Final Appeal (Civil)',\n",
       "  '2011',\n",
       "  \"\\\\'https://legalref.judiciary.hk/lrs/images/ThemeXP/Epage.gif\\\\'\",\n",
       "  'FACV6/2011',\n",
       "  'https://legalref.judiciary.hk/lrs/common/ju/ju_frame.jsp?DIS=82526',\n",
       "  '(06/07/2012)',\n",
       "  'FIRST LASER LTD v. FUJIAN ENTERPRISES (HOLDINGS) CO LTD AND ANOTHER \\xa0Reported in :(2012) 15 HKCFAR 569'),\n",
       " ('Final Appeal (Civil)',\n",
       "  '2011',\n",
       "  \"\\\\'https://legalref.judiciary.hk/lrs/images/ThemeXP/Epage.gif\\\\'\",\n",
       "  'FACV7/2011',\n",
       "  'https://legalref.judiciary.hk/lrs/common/ju/ju_frame.jsp?DIS=82684',\n",
       "  '(18/07/2012)',\n",
       "  'CHAU CHEUK YIU v. POON KIT SANG AND OTHERS \\xa0'),\n",
       " ('Final Appeal (Civil)',\n",
       "  '2011',\n",
       "  \"\\\\'https://legalref.judiciary.hk/lrs/images/ThemeXP/Epage.gif\\\\'\",\n",
       "  'FACV7/2011',\n",
       "  'https://legalref.judiciary.hk/lrs/common/ju/ju_frame.jsp?DIS=81812',\n",
       "  '(24/05/2012)',\n",
       "  'CHAU CHEUK YIU  v. POON KIT SANG AND OTHERS \\xa0Reported in :(2012) 15 HKCFAR 460'),\n",
       " ('Final Appeal (Civil)',\n",
       "  '2011',\n",
       "  \"\\\\'https://legalref.judiciary.hk/lrs/images/ThemeXP/Epage.gif\\\\'\",\n",
       "  'FACV8/2011',\n",
       "  'https://legalref.judiciary.hk/lrs/common/ju/ju_frame.jsp?DIS=80457',\n",
       "  '(23/02/2012)',\n",
       "  'KO HON YUE v. CHIU PIK YUK, the wife and intended adminstratrix of LIU CHING LEUNG, deceased AND OTHERS \\xa0Reported in :(2012) 15 HKCFAR 72'),\n",
       " ('Final Appeal (Civil)',\n",
       "  '2011',\n",
       "  \"\\\\'https://legalref.judiciary.hk/lrs/images/ThemeXP/ETpage.gif\\\\'\",\n",
       "  'FACV9/2011',\n",
       "  'https://legalref.judiciary.hk/lrs/common/ju/ju_frame.jsp?DIS=89647',\n",
       "  '(15/10/2013)',\n",
       "  'CHEUK SHU YIN v. YIP SO WAN AND OTHERS \\xa0'),\n",
       " ('Final Appeal (Civil)',\n",
       "  '2011',\n",
       "  \"\\\\'https://legalref.judiciary.hk/lrs/images/ThemeXP/Epage.gif\\\\'\",\n",
       "  'FACV9/2011',\n",
       "  'https://legalref.judiciary.hk/lrs/common/ju/ju_frame.jsp?DIS=84328',\n",
       "  '(13/11/2012)',\n",
       "  'CHEUK SHU YIN v. YIP SO WAN AND ANOTHER \\xa0Reported in :[2013] 1 HKLRD 656; (2012) 15 HKCFAR 344'),\n",
       " ('Final Appeal (Civil)',\n",
       "  '2011',\n",
       "  \"\\\\'https://legalref.judiciary.hk/lrs/images/ThemeXP/Epage.gif\\\\'\",\n",
       "  'FACV10/2011',\n",
       "  'https://legalref.judiciary.hk/lrs/common/ju/ju_frame.jsp?DIS=81080',\n",
       "  '(02/04/2012)',\n",
       "  'FOK CHUN WA AND ANOTHER v. THE HOSPITAL AUTHORITY AND ANOTHER \\xa0Reported in :(2012) 15 HKCFAR 409'),\n",
       " ('Final Appeal (Civil)',\n",
       "  '2011',\n",
       "  \"\\\\'https://legalref.judiciary.hk/lrs/images/ThemeXP/Epage.gif\\\\'\",\n",
       "  'FACV11/2011',\n",
       "  'https://legalref.judiciary.hk/lrs/common/ju/ju_frame.jsp?DIS=87396',\n",
       "  '(31/05/2013)',\n",
       "  'LING WING FAI BILLY AND OTHERS v. LING SHUI FAI AND OTHERS \\xa0'),\n",
       " ('Final Appeal (Civil)',\n",
       "  '2011',\n",
       "  \"\\\\'https://legalref.judiciary.hk/lrs/images/ThemeXP/Epage.gif\\\\'\",\n",
       "  'FACV11/2011',\n",
       "  'https://legalref.judiciary.hk/lrs/common/ju/ju_frame.jsp?DIS=84338',\n",
       "  '(13/11/2012)',\n",
       "  'LING WING FAI BILLY AND OTHERS v. LING SHUI FAI AND OTHERS \\xa0Reported in :[2013] 1 HKLRD 656; (2012) 15 HKCFAR 344'),\n",
       " ('Final Appeal (Civil)',\n",
       "  '2011',\n",
       "  \"\\\\'https://legalref.judiciary.hk/lrs/images/ThemeXP/Epage.gif\\\\'\",\n",
       "  'FACV12/2011',\n",
       "  'https://legalref.judiciary.hk/lrs/common/ju/ju_frame.jsp?DIS=80456',\n",
       "  '(23/02/2012)',\n",
       "  'NEW WORLD HARBOURVIEW HOTEL CO LTD AND OTHERS v. ACE INSURANCE LTD AND OTHERS \\xa0Reported in :(2012) 15 HKCFAR 120'),\n",
       " ('Final Appeal (Civil)',\n",
       "  '2011',\n",
       "  \"\\\\'https://legalref.judiciary.hk/lrs/images/ThemeXP/Epage.gif\\\\'\",\n",
       "  'FACV13/2011',\n",
       "  'https://legalref.judiciary.hk/lrs/common/ju/ju_frame.jsp?DIS=87196',\n",
       "  '(16/05/2013)',\n",
       "  'CAMPBELL RICHARD BLAKENEY-WILLIAMS AND OTHERS v. CATHAY PACIFIC AIRWAYS LTD AND OTHERS \\xa0Reported in :(2013) 16 HKCFAR 514'),\n",
       " ('Final Appeal (Civil)',\n",
       "  '2011',\n",
       "  \"\\\\'https://legalref.judiciary.hk/lrs/images/ThemeXP/ETpage.gif\\\\'\",\n",
       "  'FACV13/2011',\n",
       "  'https://legalref.judiciary.hk/lrs/common/ju/ju_frame.jsp?DIS=83622',\n",
       "  '(26/09/2012)',\n",
       "  'CAMPBELL RICHARD BLAKENEY-WILLIAMS AND OTHERS v. CATHAY PACIFIC AIRWAYS LTD AND OTHERS \\xa0Reported in :(2012) 15 HKCFAR 261'),\n",
       " ('Final Appeal (Civil)',\n",
       "  '2011',\n",
       "  \"\\\\'https://legalref.judiciary.hk/lrs/images/ThemeXP/Epage.gif\\\\'\",\n",
       "  'FACV14/2011',\n",
       "  'https://legalref.judiciary.hk/lrs/common/ju/ju_frame.jsp?DIS=87202',\n",
       "  '(16/05/2013)',\n",
       "  'CATHAY PACIFIC AIRWAYS LTD AND OTHERS v. CAMPBELL RICHARD BLAKENEY-WILLIAMS AND OTHERS \\xa0Reported in :(2013) 16 HKCFAR 514'),\n",
       " ('Final Appeal (Civil)',\n",
       "  '2011',\n",
       "  \"\\\\'https://legalref.judiciary.hk/lrs/images/ThemeXP/ETpage.gif\\\\'\",\n",
       "  'FACV14/2011',\n",
       "  'https://legalref.judiciary.hk/lrs/common/ju/ju_frame.jsp?DIS=98476',\n",
       "  '(26/09/2012)',\n",
       "  'CATHAY PACIFIC AIRWAYS LTD AND OTHERS v. CAMPBELL RICHARD BLAKENEY-WILLIAMS AND OTHERS \\xa0Reported in :(2012) 15 HKCFAR 261'),\n",
       " ('Final Appeal (Civil)',\n",
       "  '2011',\n",
       "  \"\\\\'https://legalref.judiciary.hk/lrs/images/ThemeXP/Epage.gif\\\\'\",\n",
       "  'FACV15/2011',\n",
       "  'https://legalref.judiciary.hk/lrs/common/ju/ju_frame.jsp?DIS=88108',\n",
       "  '(17/07/2013)',\n",
       "  'UBAMAKA EDWARD WILSON v. DIRECTOR OF IMMIGRATION AND ANOTHER \\xa0'),\n",
       " ('Final Appeal (Civil)',\n",
       "  '2011',\n",
       "  \"\\\\'https://legalref.judiciary.hk/lrs/images/ThemeXP/Epage.gif\\\\'\",\n",
       "  'FACV15/2011',\n",
       "  'https://legalref.judiciary.hk/lrs/common/ju/ju_frame.jsp?DIS=84948',\n",
       "  '(21/12/2012)',\n",
       "  'UBAMAKA EDWARD WILSON v. SECRETARY FOR SECURITY AND ANOTHER \\xa0Reported in :(2012) 15 HKCFAR 743'),\n",
       " ('Final Appeal (Civil)',\n",
       "  '2011',\n",
       "  \"\\\\'https://legalref.judiciary.hk/lrs/images/ThemeXP/Epage.gif\\\\'\",\n",
       "  'FACV16/2011',\n",
       "  'https://legalref.judiciary.hk/lrs/common/ju/ju_frame.jsp?DIS=84949',\n",
       "  '(21/12/2012)',\n",
       "  'LUI FAI YEUNG v. CHUI KIN MAN \\xa0Reported in :(2012) 15 HKCFAR 803'),\n",
       " ('Final Appeal (Civil)',\n",
       "  '2011',\n",
       "  \"\\\\'https://legalref.judiciary.hk/lrs/images/ThemeXP/Epage.gif\\\\'\",\n",
       "  'FACV17/2011',\n",
       "  'https://legalref.judiciary.hk/lrs/common/ju/ju_frame.jsp?DIS=86310',\n",
       "  '(25/03/2013)',\n",
       "  'ASIF ALI v. DIRECTOR OF IMMIGRATION AND ANOTHER \\xa0Reported in :(2013) 16 HKCFAR 91'),\n",
       " ('Final Appeal (Civil)',\n",
       "  '2011',\n",
       "  \"\\\\'https://legalref.judiciary.hk/lrs/images/ThemeXP/Epage.gif\\\\'\",\n",
       "  'FACV18/2011',\n",
       "  'https://legalref.judiciary.hk/lrs/common/ju/ju_frame.jsp?DIS=86311',\n",
       "  '(25/03/2013)',\n",
       "  'C AND OTHERS v. DIRECTOR OF IMMIGRATION AND ANOTHER \\xa0Reported in :(2013) 16 HKCFAR 280'),\n",
       " ('Final Appeal (Civil)',\n",
       "  '2011',\n",
       "  \"\\\\'https://legalref.judiciary.hk/lrs/images/ThemeXP/Epage.gif\\\\'\",\n",
       "  'FACV19/2011',\n",
       "  'https://legalref.judiciary.hk/lrs/common/ju/ju_frame.jsp?DIS=86313',\n",
       "  '(25/03/2013)',\n",
       "  'C AND OTHERS v. DIRECTOR OF IMMIGRATION AND ANOTHER \\xa0Reported in :(2013) 16 HKCFAR 280'),\n",
       " ('Final Appeal (Civil)',\n",
       "  '2011',\n",
       "  \"\\\\'https://legalref.judiciary.hk/lrs/images/ThemeXP/Epage.gif\\\\'\",\n",
       "  'FACV20/2011',\n",
       "  'https://legalref.judiciary.hk/lrs/common/ju/ju_frame.jsp?DIS=86314',\n",
       "  '(25/03/2013)',\n",
       "  'C AND OTHERS v. DIRECTOR OF IMMIGRATION AND ANOTHER \\xa0Reported in :(2013) 16 HKCFAR 280'),\n",
       " ('Final Appeal (Civil)',\n",
       "  '2011',\n",
       "  \"\\\\'https://legalref.judiciary.hk/lrs/images/ThemeXP/Epage.gif\\\\'\",\n",
       "  'FACV21/2011',\n",
       "  'https://legalref.judiciary.hk/lrs/common/ju/ju_frame.jsp?DIS=84950',\n",
       "  '(21/12/2012)',\n",
       "  'BEST ORIGIN LTD v. COMMISSIONER OF RATING AND VALUATION \\xa0Reported in :(2012) 15 HKCFAR 816'),\n",
       " ('Final Appeal (Civil)',\n",
       "  '1998',\n",
       "  \"\\\\'https://legalref.judiciary.hk/lrs/images/ThemeXP/ETpage.gif\\\\'\",\n",
       "  'FACV2/1998',\n",
       "  'https://legalref.judiciary.hk/lrs/common/ju/ju_frame.jsp?DIS=18223',\n",
       "  '(23/07/1998)',\n",
       "  'THANG THIEU QUYEN AND OTHERS v. THE DIRECTOR OF IMMIGRATION AND ANOTHER \\xa0Reported in :(1997-1998) 1 HKCFAR 167; [1998] 2 HKLRD 179'),\n",
       " ('Final Appeal (Civil)',\n",
       "  '1998',\n",
       "  \"\\\\'https://legalref.judiciary.hk/lrs/images/ThemeXP/Epage.gif\\\\'\",\n",
       "  'FACV3/1998',\n",
       "  'https://legalref.judiciary.hk/lrs/common/ju/ju_frame.jsp?DIS=33537',\n",
       "  '(28/09/1998)',\n",
       "  'INTERGULF EXPRESS H.K. LTD. AND ANOTHER v. DELTA ASIA CREDIT LTD. \\xa0Reported in :(1997-1998) 1 HKCFAR 240; [1998] 2 HKLRD 928'),\n",
       " ('Final Appeal (Civil)',\n",
       "  '1998',\n",
       "  \"\\\\'https://legalref.judiciary.hk/lrs/images/ThemeXP/ETpage.gif\\\\'\",\n",
       "  'FACV4/1998',\n",
       "  'https://legalref.judiciary.hk/lrs/common/ju/ju_frame.jsp?DIS=18326',\n",
       "  '(05/11/1998)',\n",
       "  'LEUNG TONG FUK v. CHAN YUK KWAN \\xa0Reported in :[1998] 2 HKLRD 772'),\n",
       " ('Final Appeal (Civil)',\n",
       "  '1998',\n",
       "  \"\\\\'https://legalref.judiciary.hk/lrs/images/ThemeXP/Epage.gif\\\\'\",\n",
       "  'FACV5/1998',\n",
       "  'https://legalref.judiciary.hk/lrs/common/ju/ju_frame.jsp?DIS=19412',\n",
       "  '(29/01/1999)',\n",
       "  'LEUNG SAI LUN ROBERT AND OTHERS v. LEUNG MAY LING AND OTHERS \\xa0Reported in :[1999] 1 HKLRD 649; (1999) 2 HKCFAR 94'),\n",
       " ('Final Appeal (Civil)',\n",
       "  '1998',\n",
       "  \"\\\\'https://legalref.judiciary.hk/lrs/images/ThemeXP/Epage.gif\\\\'\",\n",
       "  'FACV6/1998',\n",
       "  'https://legalref.judiciary.hk/lrs/common/ju/ju_frame.jsp?DIS=18285',\n",
       "  '(28/09/1998)',\n",
       "  'ORIENTAL PRESS GROUP LTD v. APPLE DAILY LTD \\xa0Reported in :(1997-1998) 1 HKCFAR 208; [1998] 2 HKLRD 976'),\n",
       " ('Final Appeal (Civil)',\n",
       "  '1998',\n",
       "  \"\\\\'https://legalref.judiciary.hk/lrs/images/ThemeXP/Epage.gif\\\\'\",\n",
       "  'FACV8/1998',\n",
       "  'https://legalref.judiciary.hk/lrs/common/ju/ju_frame.jsp?DIS=18243',\n",
       "  '(21/01/1999)',\n",
       "  'ARCHER, HAROLD DEAN v. THE HONG KONG CHANNEL LTD. \\xa0'),\n",
       " ('Final Appeal (Civil)',\n",
       "  '1998',\n",
       "  \"\\\\'https://legalref.judiciary.hk/lrs/images/ThemeXP/Epage.gif\\\\'\",\n",
       "  'FACV8/1998',\n",
       "  'https://legalref.judiciary.hk/lrs/common/ju/ju_frame.jsp?DIS=18441',\n",
       "  '(27/11/1998)',\n",
       "  'ARCHER, HAROLD DEAN v. THE HONG KONG CHANNEL LTD \\xa0Reported in :(1997-1998) 1 HKCFAR 298; [1998] 2 HKLRD 968'),\n",
       " ('Final Appeal (Civil)',\n",
       "  '1998',\n",
       "  \"\\\\'https://legalref.judiciary.hk/lrs/images/ThemeXP/Epage.gif\\\\'\",\n",
       "  'FACV9/1998',\n",
       "  'https://legalref.judiciary.hk/lrs/common/ju/ju_frame.jsp?DIS=18357',\n",
       "  '(14/12/1998)',\n",
       "  'SKY HEART LTD. v. LEE HYSAN ESTATE CO. LTD. \\xa0Reported in :[1999] 1 HKLRD 100;(1997-1998) 1 HKCFAR 318'),\n",
       " ('Final Appeal (Civil)',\n",
       "  '1998',\n",
       "  \"\\\\'https://legalref.judiciary.hk/lrs/images/ThemeXP/Epage.gif\\\\'\",\n",
       "  'FACV10/1998',\n",
       "  'https://legalref.judiciary.hk/lrs/common/ju/ju_frame.jsp?DIS=21687',\n",
       "  '(09/02/1999)',\n",
       "  'HEBEI IMPORT & EXPORT CORPORATION v. POLYTEK ENGINEERING CO. LTD. \\xa0Reported in :[1999] 1 HKLRD 665; (1999) 2 HKCFAR 111'),\n",
       " ('Final Appeal (Civil)',\n",
       "  '1998',\n",
       "  \"\\\\'https://legalref.judiciary.hk/lrs/images/ThemeXP/Epage.gif\\\\'\",\n",
       "  'FACV11/1998',\n",
       "  'https://legalref.judiciary.hk/lrs/common/ju/ju_frame.jsp?DIS=33931',\n",
       "  '(21/12/1998)',\n",
       "  'PAUL CHEN AND ANOTHER v. LORD ENERGY LTD. \\xa0Reported in :(1997-1998) 1 HKCFAR 365; [1999] 1 HKLRD 205'),\n",
       " ('Final Appeal (Civil)',\n",
       "  '1998',\n",
       "  \"\\\\'https://legalref.judiciary.hk/lrs/images/ThemeXP/Epage.gif\\\\'\",\n",
       "  'FACV12/1998',\n",
       "  'https://legalref.judiciary.hk/lrs/common/ju/ju_frame.jsp?DIS=21705',\n",
       "  '(01/03/1999)',\n",
       "  'WAH YICK ENTERPRISES CO LTD v. BUILDING AUTHORITY \\xa0Reported in :[1999] 1 HKLRD 840; (1999) 2 HKCFAR 170'),\n",
       " ('Final Appeal (Civil)',\n",
       "  '1998',\n",
       "  \"\\\\'https://legalref.judiciary.hk/lrs/images/ThemeXP/ETpage.gif\\\\'\",\n",
       "  'FACV13/1998',\n",
       "  'https://legalref.judiciary.hk/lrs/common/ju/ju_frame.jsp?DIS=19413',\n",
       "  '(29/01/1999)',\n",
       "  'CHAN KAM NGA v. DIRECTOR OF IMMIGRATION \\xa0Reported in :[1999] 1 HKLRD 304; (1999) 2 HKCFAR 82'),\n",
       " ('Final Appeal (Civil)',\n",
       "  '1998',\n",
       "  \"\\\\'https://legalref.judiciary.hk/lrs/images/ThemeXP/ETpage.gif\\\\'\",\n",
       "  'FACV14/1998',\n",
       "  'https://legalref.judiciary.hk/lrs/common/ju/ju_frame.jsp?DIS=34248',\n",
       "  '(26/02/1999)',\n",
       "  'NG KA LING AND ANOTHER v. THE DIRECTOR OF IMMIGRATION \\xa0Reported in :[1999] 1 HKLRD 577; (1999) 2 HKCFAR 141'),\n",
       " ('Final Appeal (Civil)',\n",
       "  '1998',\n",
       "  \"\\\\'https://legalref.judiciary.hk/lrs/images/ThemeXP/ETpage.gif\\\\'\",\n",
       "  'FACV14/1998',\n",
       "  'https://legalref.judiciary.hk/lrs/common/ju/ju_frame.jsp?DIS=34052',\n",
       "  '(29/01/1999)',\n",
       "  'NG KA LING AND ANOTHER v. THE DIRECTOR OF IMMIGRATION \\xa0Reported in :[1999] 1 HKLRD 315; (1999) 2 HKCFAR 4'),\n",
       " ('Final Appeal (Civil)',\n",
       "  '1998',\n",
       "  \"\\\\'https://legalref.judiciary.hk/lrs/images/ThemeXP/ETpage.gif\\\\'\",\n",
       "  'FACV15/1998',\n",
       "  'https://legalref.judiciary.hk/lrs/common/ju/ju_frame.jsp?DIS=19425',\n",
       "  '(26/02/1999)',\n",
       "  'TSUI KUEN NANG v. THE DIRECTOR OF IMMIGRATION \\xa0Reported in :[1999] 1 HKLRD 577; (1999) 2 HKCFAR 141'),\n",
       " ('Final Appeal (Civil)',\n",
       "  '1998',\n",
       "  \"\\\\'https://legalref.judiciary.hk/lrs/images/ThemeXP/ETpage.gif\\\\'\",\n",
       "  'FACV15/1998',\n",
       "  'https://legalref.judiciary.hk/lrs/common/ju/ju_frame.jsp?DIS=34053',\n",
       "  '(29/01/1999)',\n",
       "  'TSUI KUEN NANG v. THE DIRECTOR OF IMMIGRATION \\xa0Reported in :[1999] 1 HKLRD 315; (1999) 2 HKCFAR 4'),\n",
       " ('Final Appeal (Civil)',\n",
       "  '1998',\n",
       "  \"\\\\'https://legalref.judiciary.hk/lrs/images/ThemeXP/ETpage.gif\\\\'\",\n",
       "  'FACV16/1998',\n",
       "  'https://legalref.judiciary.hk/lrs/common/ju/ju_frame.jsp?DIS=19426',\n",
       "  '(26/02/1999)',\n",
       "  'THE DIRECTOR OF IMMIGRATION v. CHEUNG LAI WAH \\xa0Reported in :[1999] 1 HKLRD 577; (1999) 2 HKCFAR 141'),\n",
       " ('Final Appeal (Civil)',\n",
       "  '1998',\n",
       "  \"\\\\'https://legalref.judiciary.hk/lrs/images/ThemeXP/ETpage.gif\\\\'\",\n",
       "  'FACV16/1998',\n",
       "  'https://legalref.judiciary.hk/lrs/common/ju/ju_frame.jsp?DIS=19414',\n",
       "  '(29/01/1999)',\n",
       "  'THE DIRECTOR OF IMMIGRATION v. CHEUNG LAI WAH \\xa0Reported in :[1999] 1 HKLRD 315; (1999) 2 HKCFAR 4'),\n",
       " ('Final Appeal (Civil)',\n",
       "  '1998',\n",
       "  \"\\\\'https://legalref.judiciary.hk/lrs/images/ThemeXP/Epage.gif\\\\'\",\n",
       "  'FACV18/1998',\n",
       "  'https://legalref.judiciary.hk/lrs/common/ju/ju_frame.jsp?DIS=33932',\n",
       "  '(21/12/1998)',\n",
       "  'JI SHAN INTERNATIONAL INVESTMENT LTD. v. RESOURCES MAIN ENTERPRISES LTD. AND ANOTHER \\xa0Reported in :(1997-1998) 1 HKCFAR 377; [1999] 1 HKLRD 456'),\n",
       " ('Final Appeal (Civil)',\n",
       "  '1998',\n",
       "  \"\\\\'https://legalref.judiciary.hk/lrs/images/ThemeXP/Epage.gif\\\\'\",\n",
       "  'FACV19/1998',\n",
       "  'https://legalref.judiciary.hk/lrs/common/ju/ju_frame.jsp?DIS=18457',\n",
       "  '(21/12/1998)',\n",
       "  'KWAN SIU MAN JOSHUA v. YAACOV OZER \\xa0Reported in :(1997-1998) 1 HKCFAR 343; [1999] 1 HKLRD 216'),\n",
       " ('Final Appeal (Civil)',\n",
       "  '1998',\n",
       "  \"\\\\'https://legalref.judiciary.hk/lrs/images/ThemeXP/Epage.gif\\\\'\",\n",
       "  'FACV20/1998',\n",
       "  'https://legalref.judiciary.hk/lrs/common/ju/ju_frame.jsp?DIS=18286',\n",
       "  '(28/09/1998)',\n",
       "  'THE LAW SOCIETY OF HONG KONG v. ROBERT JAMES BROOK \\xa0Reported in :(1997-1998) 1 HKCFAR 228; [1998] 2 HKLRD 761'),\n",
       " ('Final Appeal (Civil)',\n",
       "  '1998',\n",
       "  \"\\\\'https://legalref.judiciary.hk/lrs/images/ThemeXP/ETpage.gif\\\\'\",\n",
       "  'FACV21/1998',\n",
       "  'https://legalref.judiciary.hk/lrs/common/ju/ju_frame.jsp?DIS=18933',\n",
       "  '(10/12/1999)',\n",
       "  'THE BANK OF EAST ASIA, LTD. v. TSIEN WUI MARBLE FACTORY LTD. AND OTHERS and REMO RIVA AND OTHERS (Third Parties) \\xa0Reported in :(1999) 2 HKCFAR 349; [2000] 1 HKLRD 268'),\n",
       " ('Final Appeal (Civil)',\n",
       "  '1998',\n",
       "  \"\\\\'https://legalref.judiciary.hk/lrs/images/ThemeXP/Epage.gif\\\\'\",\n",
       "  'FACV22/1998',\n",
       "  'https://legalref.judiciary.hk/lrs/common/ju/ju_frame.jsp?DIS=33323',\n",
       "  '(11/06/1999)',\n",
       "  'COMMON LUCK INVESTMENT LTD. v. CHEUNG KAM CHUEN \\xa0Reported in :[1999] 2 HKLRD 417; (1999) 2 HKCFAR 229'),\n",
       " ('Final Appeal (Civil)',\n",
       "  '1998',\n",
       "  \"\\\\'https://legalref.judiciary.hk/lrs/images/ThemeXP/Epage.gif\\\\'\",\n",
       "  'FACV23/1998',\n",
       "  'https://legalref.judiciary.hk/lrs/common/ju/ju_frame.jsp?DIS=21835',\n",
       "  '(16/03/1999)',\n",
       "  'THE INSIDER DEALING TRIBUNAL v. SHEK MEI LING \\xa0Reported in :[1999] 1 HKLRD 879; (1999) 2 HKCFAR 205'),\n",
       " ('Final Appeal (Civil)',\n",
       "  '1998',\n",
       "  \"\\\\'https://legalref.judiciary.hk/lrs/images/ThemeXP/Epage.gif\\\\'\",\n",
       "  'FACV24/1998',\n",
       "  'https://legalref.judiciary.hk/lrs/common/ju/ju_frame.jsp?DIS=20135',\n",
       "  '(11/06/1999)',\n",
       "  'KOON TUNG YING v. LAU CHUP HEI \\xa0'),\n",
       " ('Final Appeal (Civil)',\n",
       "  '1998',\n",
       "  \"\\\\'https://legalref.judiciary.hk/lrs/images/ThemeXP/Epage.gif\\\\'\",\n",
       "  'FACV25/1998',\n",
       "  'https://legalref.judiciary.hk/lrs/common/ju/ju_frame.jsp?DIS=21615',\n",
       "  '(09/03/2000)',\n",
       "  'AKTIESELSKABET DANSK SKIBSFINANSIERING (body corporate) v. ROBERT JOHN FRANCIS BROTHERS \\xa0Reported in :[2000] 1 HKLRD 568;(2000) 3 HKCFAR 70'),\n",
       " ('Final Appeal (Civil)',\n",
       "  '1998',\n",
       "  \"\\\\'https://legalref.judiciary.hk/lrs/images/ThemeXP/Epage.gif\\\\'\",\n",
       "  'FACV25/1998',\n",
       "  'https://legalref.judiciary.hk/lrs/common/ju/ju_frame.jsp?DIS=20720',\n",
       "  '(16/09/1999)',\n",
       "  'AKTIESELSKABET DANSK SKIBFINANSIERING (body corporate) v. ROBERT JOHN FRANCIS BROTHERS \\xa0'),\n",
       " ('Final Appeal (Civil)',\n",
       "  '1998',\n",
       "  \"\\\\'https://legalref.judiciary.hk/lrs/images/ThemeXP/Epage.gif\\\\'\",\n",
       "  'FACV26/1998',\n",
       "  'https://legalref.judiciary.hk/lrs/common/ju/ju_frame.jsp?DIS=21616',\n",
       "  '(09/03/2000)',\n",
       "  'AKTIESELSKABET DANSK SKIBSFINANSIERING (body corporate) v. WHEELOCK MARDEN & COMPANY LIMITED \\xa0Reported in :(2000) 3 HKCFAR 70; [2000] 1 HKLRD 568'),\n",
       " ('Final Appeal (Civil)',\n",
       "  '1998',\n",
       "  \"\\\\'https://legalref.judiciary.hk/lrs/images/ThemeXP/Epage.gif\\\\'\",\n",
       "  'FACV26/1998',\n",
       "  'https://legalref.judiciary.hk/lrs/common/ju/ju_frame.jsp?DIS=20721',\n",
       "  '(16/09/1999)',\n",
       "  'AKTIESELSKABET DANSK SKIBFINANSIERING (body corporate) v. WHEELOCK MARDEN & CO. LTD. \\xa0'),\n",
       " ('Final Appeal (Civil)',\n",
       "  '1998',\n",
       "  \"\\\\'https://legalref.judiciary.hk/lrs/images/ThemeXP/Epage.gif\\\\'\",\n",
       "  'FACV27/1998',\n",
       "  'https://legalref.judiciary.hk/lrs/common/ju/ju_frame.jsp?DIS=21617',\n",
       "  '(09/03/2000)',\n",
       "  'AKTIESELSKABET DANSK SKIBSFINANSIERING (body corporate) v. WHEELOCK MARDEN AND COMPANY LIMITED AND OTHERS \\xa0Reported in :(2000) 3 HKCFAR 70; [2000] 1 HKLRD 568'),\n",
       " ('Final Appeal (Civil)',\n",
       "  '1998',\n",
       "  \"\\\\'https://legalref.judiciary.hk/lrs/images/ThemeXP/Epage.gif\\\\'\",\n",
       "  'FACV27/1998',\n",
       "  'https://legalref.judiciary.hk/lrs/common/ju/ju_frame.jsp?DIS=33776',\n",
       "  '(16/09/1999)',\n",
       "  'AKTIESELSKABET DANSK SKIBFINANSIERING (body corporate) v. WHEELOCK MARDEN & CO. LTD. AND OTHERS \\xa0'),\n",
       " ('Final Appeal (Civil)',\n",
       "  '2012',\n",
       "  \"\\\\'https://legalref.judiciary.hk/lrs/images/ThemeXP/ETpage.gif\\\\'\",\n",
       "  'FACV1/2012',\n",
       "  'https://legalref.judiciary.hk/lrs/common/ju/ju_frame.jsp?DIS=83620',\n",
       "  '(26/09/2012)',\n",
       "  'ORIENTAL DAILY PUBLISHER LTD AND ANOTHER v. MING PAO HOLDINGS LTD AND OTHERS \\xa0Reported in :(2012) 15 HKCFAR 299'),\n",
       " ('Final Appeal (Civil)',\n",
       "  '2012',\n",
       "  \"\\\\'https://legalref.judiciary.hk/lrs/images/ThemeXP/Epage.gif\\\\'\",\n",
       "  'FACV2/2012',\n",
       "  'https://legalref.judiciary.hk/lrs/common/ju/ju_frame.jsp?DIS=81810',\n",
       "  '(24/05/2012)',\n",
       "  'MOK CHARLES PETER v. TAM WAI HO AND ANOTHER \\xa0Reported in :(2012) 15 HKCFAR 489'),\n",
       " ('Final Appeal (Civil)',\n",
       "  '2012',\n",
       "  \"\\\\'https://legalref.judiciary.hk/lrs/images/ThemeXP/Epage.gif\\\\'\",\n",
       "  'FACV3/2012',\n",
       "  'https://legalref.judiciary.hk/lrs/common/ju/ju_frame.jsp?DIS=87081',\n",
       "  '(10/05/2013)',\n",
       "  'SIT WING YI SIBLY v. BERTON INDUSTRIAL LTD \\xa0Reported in :[2013] 5 HKLRD 225; (2013) 16 HKCFAR 104'),\n",
       " ('Final Appeal (Civil)',\n",
       "  '2012',\n",
       "  \"\\\\'https://legalref.judiciary.hk/lrs/images/ThemeXP/Epage.gif\\\\'\",\n",
       "  'FACV4/2012',\n",
       "  'https://legalref.judiciary.hk/lrs/common/ju/ju_frame.jsp?DIS=88072',\n",
       "  '(16/07/2013)',\n",
       "  'W v. THE REGISTRAR OF MARRIAGES \\xa0'),\n",
       " ('Final Appeal (Civil)',\n",
       "  '2012',\n",
       "  \"\\\\'https://legalref.judiciary.hk/lrs/images/ThemeXP/Epage.gif\\\\'\",\n",
       "  'FACV4/2012',\n",
       "  'https://legalref.judiciary.hk/lrs/common/ju/ju_frame.jsp?DIS=87115',\n",
       "  '(13/05/2013)',\n",
       "  'W v. THE REGISTRAR OF MARRIAGES \\xa0Reported in :[2013] 3 HKLRD 90; (2013) 16 HKCFAR 112'),\n",
       " ('Final Appeal (Civil)',\n",
       "  '2012',\n",
       "  \"\\\\'https://legalref.judiciary.hk/lrs/images/ThemeXP/Epage.gif\\\\'\",\n",
       "  'FACV5/2012',\n",
       "  'https://legalref.judiciary.hk/lrs/common/ju/ju_frame.jsp?DIS=88272',\n",
       "  '(26/07/2013)',\n",
       "  'CATHAY PACIFIC AIRWAYS LTD v. KWAN SIU WA BECKY AND OTHERS \\xa0'),\n",
       " ('Final Appeal (Civil)',\n",
       "  '2012',\n",
       "  \"\\\\'https://legalref.judiciary.hk/lrs/images/ThemeXP/Epage.gif\\\\'\",\n",
       "  'FACV5/2012',\n",
       "  'https://legalref.judiciary.hk/lrs/common/ju/ju_frame.jsp?DIS=83621',\n",
       "  '(26/09/2012)',\n",
       "  'CATHAY PACIFIC AIRWAYS LTD v. KWAN SIU WA BECKY AND OTHERS \\xa0Reported in :(2012) 15 HKCFAR 615'),\n",
       " ('Final Appeal (Civil)',\n",
       "  '2012',\n",
       "  \"\\\\'https://legalref.judiciary.hk/lrs/images/ThemeXP/Epage.gif\\\\'\",\n",
       "  'FACV6/2012',\n",
       "  'https://legalref.judiciary.hk/lrs/common/ju/ju_frame.jsp?DIS=88273',\n",
       "  '(26/07/2013)',\n",
       "  'DE MONSA INVESTMENTS LTD v. WHOLE WIN MANAGEMENT FUND LTD \\xa0Reported in :(2013) 16 HKCFAR 419'),\n",
       " ('Final Appeal (Civil)',\n",
       "  '2012',\n",
       "  \"\\\\'https://legalref.judiciary.hk/lrs/images/ThemeXP/Epage.gif\\\\'\",\n",
       "  'FACV7/2012',\n",
       "  'https://legalref.judiciary.hk/lrs/common/ju/ju_frame.jsp?DIS=93313',\n",
       "  '(03/06/2014)',\n",
       "  'CHUNG YUEN YEE v. SAM WOO BORE PILE FOUNDATION LTD AND OTHERS \\xa0'),\n",
       " ('Final Appeal (Civil)',\n",
       "  '2012',\n",
       "  \"\\\\'https://legalref.judiciary.hk/lrs/images/ThemeXP/Epage.gif\\\\'\",\n",
       "  'FACV7/2012',\n",
       "  'https://legalref.judiciary.hk/lrs/common/ju/ju_frame.jsp?DIS=87082',\n",
       "  '(10/05/2013)',\n",
       "  'CHUNG YUEN YEE v. SAM WOO BORE PILE FOUNDATION LTD AND OTHERS \\xa0Reported in :(2013) 16 HKCFAR 315'),\n",
       " ('Final Appeal (Civil)',\n",
       "  '2012',\n",
       "  \"\\\\'https://legalref.judiciary.hk/lrs/images/ThemeXP/Epage.gif\\\\'\",\n",
       "  'FACV8/2012',\n",
       "  'https://legalref.judiciary.hk/lrs/common/ju/ju_frame.jsp?DIS=88274',\n",
       "  '(26/07/2013)',\n",
       "  'MESSRS HLB HODGSON IMPEY CHENG (a firm) AND OTHERS v. THE HONG KONG INSTITUTE OF CERTIFIED PUBLIC ACCOUNTANTS \\xa0Reported in :(2013) 16 HKCFAR 460'),\n",
       " ('Final Appeal (Civil)',\n",
       "  '2012',\n",
       "  \"\\\\'https://legalref.judiciary.hk/lrs/images/ThemeXP/Epage.gif\\\\'\",\n",
       "  'FACV9/2012',\n",
       "  'https://legalref.judiciary.hk/lrs/common/ju/ju_frame.jsp?DIS=89362',\n",
       "  '(30/09/2013)',\n",
       "  'KWOK CHIN WING v. 21 HOLDINGS LTD AND ANOTHER \\xa0Reported in :(2013) 16 HKCFAR 663'),\n",
       " ('Final Appeal (Civil)',\n",
       "  '2012',\n",
       "  \"\\\\'https://legalref.judiciary.hk/lrs/images/ThemeXP/ETpage.gif\\\\'\",\n",
       "  'FACV10/2012',\n",
       "  'https://legalref.judiciary.hk/lrs/common/ju/ju_frame.jsp?DIS=87083',\n",
       "  '(10/05/2013)',\n",
       "  'SECURITIES AND FUTURES COMMISSION v. WILLIAM TOMITA \\xa0Reported in :(2013) 16 HKCFAR 324'),\n",
       " ('Final Appeal (Civil)',\n",
       "  '2012',\n",
       "  \"\\\\'https://legalref.judiciary.hk/lrs/images/ThemeXP/ETpage.gif\\\\'\",\n",
       "  'FACV11/2012',\n",
       "  'https://legalref.judiciary.hk/lrs/common/ju/ju_frame.jsp?DIS=87091',\n",
       "  '(10/05/2013)',\n",
       "  'SECURITIES AND FUTURES COMMISSION v. SUNG KOOK HWANG BILL \\xa0Reported in :(2013) 16 HKCFAR 324'),\n",
       " ('Final Appeal (Civil)',\n",
       "  '2012',\n",
       "  \"\\\\'https://legalref.judiciary.hk/lrs/images/ThemeXP/ETpage.gif\\\\'\",\n",
       "  'FACV12/2012',\n",
       "  'https://legalref.judiciary.hk/lrs/common/ju/ju_frame.jsp?DIS=87092',\n",
       "  '(10/05/2013)',\n",
       "  'SECURITIES AND FUTURES COMMISSION v. RAYMOND PARK \\xa0Reported in :(2013) 16 HKCFAR 324'),\n",
       " ('Final Appeal (Civil)',\n",
       "  '2012',\n",
       "  \"\\\\'https://legalref.judiciary.hk/lrs/images/ThemeXP/ETpage.gif\\\\'\",\n",
       "  'FACV13/2012',\n",
       "  'https://legalref.judiciary.hk/lrs/common/ju/ju_frame.jsp?DIS=87093',\n",
       "  '(10/05/2013)',\n",
       "  'SECURITIES AND FUTURES COMMISSION v. TIGER ASIA MANAGEMENT LLC \\xa0Reported in :(2013) 16 HKCFAR 324'),\n",
       " ('Final Appeal (Civil)',\n",
       "  '2012',\n",
       "  \"\\\\'https://legalref.judiciary.hk/lrs/images/ThemeXP/Epage.gif\\\\'\",\n",
       "  'FACV14/2012',\n",
       "  'https://legalref.judiciary.hk/lrs/common/ju/ju_frame.jsp?DIS=91102',\n",
       "  '(16/01/2014)',\n",
       "  'LIBERTARIAN INVESTMENTS LTD v. THOMAS ALEXEJ HALL \\xa0'),\n",
       " ('Final Appeal (Civil)',\n",
       "  '2012',\n",
       "  \"\\\\'https://legalref.judiciary.hk/lrs/images/ThemeXP/Epage.gif\\\\'\",\n",
       "  'FACV14/2012',\n",
       "  'https://legalref.judiciary.hk/lrs/common/ju/ju_frame.jsp?DIS=91977',\n",
       "  '(11/03/2014)',\n",
       "  'LIBERTARIAN INVESTMENTS LTD v. THOMAS ALEXEJ HALL \\xa0'),\n",
       " ('Final Appeal (Civil)',\n",
       "  '2012',\n",
       "  \"\\\\'https://legalref.judiciary.hk/lrs/images/ThemeXP/Epage.gif\\\\'\",\n",
       "  'FACV14/2012',\n",
       "  'https://legalref.judiciary.hk/lrs/common/ju/ju_frame.jsp?DIS=90003',\n",
       "  '(06/11/2013)',\n",
       "  'LIBERTARIAN INVESTMENTS LTD v. THOMAS ALEXEJ HALL \\xa0Reported in :(2013) 16 HKCFAR 681'),\n",
       " ('Final Appeal (Civil)',\n",
       "  '2012',\n",
       "  \"\\\\'https://legalref.judiciary.hk/lrs/images/ThemeXP/Epage.gif\\\\'\",\n",
       "  'FACV15/2012',\n",
       "  'https://legalref.judiciary.hk/lrs/common/ju/ju_frame.jsp?DIS=87880',\n",
       "  '(04/07/2013)',\n",
       "  'ORIENTAL PRESS GROUP LTD AND ANOTHER v. FEVAWORKS SOLUTIONS LTD \\xa0Reported in :(2013) 16 HKCFAR 366'),\n",
       " ('Final Appeal (Civil)',\n",
       "  '2012',\n",
       "  \"\\\\'https://legalref.judiciary.hk/lrs/images/ThemeXP/Epage.gif\\\\'\",\n",
       "  'FACV16/2012',\n",
       "  'https://legalref.judiciary.hk/lrs/common/ju/ju_frame.jsp?DIS=91189',\n",
       "  '(16/01/2014)',\n",
       "  'THOMAS ALEXEJ HALL v. LIBERTARIAN INVESTMENTS LTD \\xa0'),\n",
       " ('Final Appeal (Civil)',\n",
       "  '2012',\n",
       "  \"\\\\'https://legalref.judiciary.hk/lrs/images/ThemeXP/Epage.gif\\\\'\",\n",
       "  'FACV16/2012',\n",
       "  'https://legalref.judiciary.hk/lrs/common/ju/ju_frame.jsp?DIS=91978',\n",
       "  '(11/03/2014)',\n",
       "  'THOMAS ALEXEJ HALL v. LIBERTARIAN INVESTMENTS LTD \\xa0'),\n",
       " ('Final Appeal (Civil)',\n",
       "  '2012',\n",
       "  \"\\\\'https://legalref.judiciary.hk/lrs/images/ThemeXP/Epage.gif\\\\'\",\n",
       "  'FACV16/2012',\n",
       "  'https://legalref.judiciary.hk/lrs/common/ju/ju_frame.jsp?DIS=90004',\n",
       "  '(06/11/2013)',\n",
       "  'THOMAS ALEXEJ HALL v. LIBERTARIAN INVESTMENTS LTD \\xa0Reported in :(2013) 16 HKCFAR 681'),\n",
       " ('Final Appeal (Civil)',\n",
       "  '2012',\n",
       "  \"\\\\'https://legalref.judiciary.hk/lrs/images/ThemeXP/Epage.gif\\\\'\",\n",
       "  'FACV17/2012',\n",
       "  'https://legalref.judiciary.hk/lrs/common/ju/ju_frame.jsp?DIS=87116',\n",
       "  '(13/05/2013)',\n",
       "  'FULLY PROFIT (ASIA) LTD v.  THE SECRETARY FOR JUSTICE \\xa0Reported in :(2013) 16 HKCFAR 351'),\n",
       " ('Final Appeal (Civil)',\n",
       "  '2012',\n",
       "  \"\\\\'https://legalref.judiciary.hk/lrs/images/ThemeXP/Epage.gif\\\\'\",\n",
       "  'FACV18/2012',\n",
       "  'https://legalref.judiciary.hk/lrs/common/ju/ju_frame.jsp?DIS=85716',\n",
       "  '(15/02/2013)',\n",
       "  'KEWS v. NCHC \\xa0Reported in :[2013] 2 HKLRD 314; (2013) 16 HKCFAR 1'),\n",
       " ('Final Appeal (Civil)',\n",
       "  '2012',\n",
       "  \"\\\\'https://legalref.judiciary.hk/lrs/images/ThemeXP/Epage.gif\\\\'\",\n",
       "  'FACV19/2012',\n",
       "  'https://legalref.judiciary.hk/lrs/common/ju/ju_frame.jsp?DIS=88071',\n",
       "  '(16/07/2013)',\n",
       "  'VALLEJOS EVANGELINE BANAO, ALSO KNOWN AS VALLEJOS EVANGELINE B. v. COMMISSIONER OF REGISTRATION AND ANOTHER \\xa0'),\n",
       " ('Final Appeal (Civil)',\n",
       "  '2012',\n",
       "  \"\\\\'https://legalref.judiciary.hk/lrs/images/ThemeXP/Epage.gif\\\\'\",\n",
       "  'FACV19/2012',\n",
       "  'https://legalref.judiciary.hk/lrs/common/ju/ju_frame.jsp?DIS=86304',\n",
       "  '(25/03/2013)',\n",
       "  'VALLEJOS EVANGELINE BANAO, ALSO KNOWN AS VALLEJOS EVANGELINE B. v. COMMISSIONER OF REGISTRATION AND ANOTHER \\xa0Reported in :[2013] 2 HKLRD 533; (2013) 16 HKCFAR 45'),\n",
       " ('Final Appeal (Civil)',\n",
       "  '2012',\n",
       "  \"\\\\'https://legalref.judiciary.hk/lrs/images/ThemeXP/Epage.gif\\\\'\",\n",
       "  'FACV20/2012',\n",
       "  'https://legalref.judiciary.hk/lrs/common/ju/ju_frame.jsp?DIS=88079',\n",
       "  '(16/07/2013)',\n",
       "  'DOMINGO DANIEL L. v. COMMISSIONER OF REGISTRATION AND ANOTHER \\xa0'),\n",
       " ('Final Appeal (Civil)',\n",
       "  '2012',\n",
       "  \"\\\\'https://legalref.judiciary.hk/lrs/images/ThemeXP/Epage.gif\\\\'\",\n",
       "  'FACV20/2012',\n",
       "  'https://legalref.judiciary.hk/lrs/common/ju/ju_frame.jsp?DIS=86312',\n",
       "  '(25/03/2013)',\n",
       "  'DOMINGO DANIEL L. v. COMMISSIONER OF REGISTRATION AND ANOTHER \\xa0Reported in :[2013] 2 HKLRD 533; (2013) 16 HKCFAR 45'),\n",
       " ('Final Appeal (Civil)',\n",
       "  '2012',\n",
       "  \"\\\\'https://legalref.judiciary.hk/lrs/images/ThemeXP/Epage.gif\\\\'\",\n",
       "  'FACV21/2012',\n",
       "  'https://legalref.judiciary.hk/lrs/common/ju/ju_frame.jsp?DIS=87084',\n",
       "  '(10/05/2013)',\n",
       "  'KOWLOON DEVELOPMENT FINANCE LTD v. PENDEX INDUSTRIES LTD AND OTHERS \\xa0Reported in :(2013) 16 HKCFAR 336'),\n",
       " ('Final Appeal (Civil)',\n",
       "  '2012',\n",
       "  \"\\\\'https://legalref.judiciary.hk/lrs/images/ThemeXP/Epage.gif\\\\'\",\n",
       "  'FACV22/2012',\n",
       "  'https://legalref.judiciary.hk/lrs/common/ju/ju_frame.jsp?DIS=89361',\n",
       "  '(30/09/2013)',\n",
       "  'SINOEARN INTERNATIONAL LIMITED v. HYUNDAI-CCECC JOINT VENTURE (a firm) \\xa0Reported in :(2013) 16 HKCFAR 632'),\n",
       " ('Final Appeal (Civil)',\n",
       "  '2012',\n",
       "  \"\\\\'https://legalref.judiciary.hk/lrs/images/ThemeXP/Epage.gif\\\\'\",\n",
       "  'FACV23/2012',\n",
       "  'https://legalref.judiciary.hk/lrs/common/ju/ju_frame.jsp?DIS=90096',\n",
       "  '(12/11/2013)',\n",
       "  'NICE CHEER INVESTMENT LTD v. COMMISSIONER OF INLAND REVENUE \\xa0Reported in :(2013) 16 HKCFAR 813'),\n",
       " ('Final Appeal (Civil)',\n",
       "  '2012',\n",
       "  \"\\\\'https://legalref.judiciary.hk/lrs/images/ThemeXP/Epage.gif\\\\'\",\n",
       "  'FACV24/2012',\n",
       "  'https://legalref.judiciary.hk/lrs/common/ju/ju_frame.jsp?DIS=88006',\n",
       "  '(11/07/2013)',\n",
       "  'LEUNG CHUN YING v. HO CHUN YAN ALBERT AND ANOTHER \\xa0Reported in :(2013) 16 HKCFAR 735'),\n",
       " ('Final Appeal (Civil)',\n",
       "  '2012',\n",
       "  \"\\\\'https://legalref.judiciary.hk/lrs/images/ThemeXP/Epage.gif\\\\'\",\n",
       "  'FACV25/2012',\n",
       "  'https://legalref.judiciary.hk/lrs/common/ju/ju_frame.jsp?DIS=88007',\n",
       "  '(11/07/2013)',\n",
       "  'LEUNG CHUN YING v. HO CHUN YAN ALBERT AND ANOTHER \\xa0Reported in :(2013) 16 HKCFAR 735'),\n",
       " ('Final Appeal (Civil)',\n",
       "  '2012',\n",
       "  \"\\\\'https://legalref.judiciary.hk/lrs/images/ThemeXP/Epage.gif\\\\'\",\n",
       "  'FACV27/2012',\n",
       "  'https://legalref.judiciary.hk/lrs/common/ju/ju_frame.jsp?DIS=88008',\n",
       "  '(11/07/2013)',\n",
       "  'SECRETARY FOR JUSTICE v. HO CHUN YAN, ALBERT AND OTHERS \\xa0Reported in :(2013) 16 HKCFAR 735'),\n",
       " ('Final Appeal (Civil)',\n",
       "  '2000',\n",
       "  \"\\\\'https://legalref.judiciary.hk/lrs/images/ThemeXP/ETpage.gif\\\\'\",\n",
       "  'FACV1/2000',\n",
       "  'https://legalref.judiciary.hk/lrs/common/ju/ju_frame.jsp?DIS=21753',\n",
       "  '(06/03/2001)',\n",
       "  'COMMISSIONER OF RATING & VALUATION v. AGRILA LTD. AND OTHERS \\xa0Reported in :[2001] 2 HKLRD 36; (2001) 4 HKCFAR 83'),\n",
       " ('Final Appeal (Civil)',\n",
       "  '2000',\n",
       "  \"\\\\'https://legalref.judiciary.hk/lrs/images/ThemeXP/ETpage.gif\\\\'\",\n",
       "  'FACV2/2000',\n",
       "  'https://legalref.judiciary.hk/lrs/common/ju/ju_frame.jsp?DIS=21754',\n",
       "  '(06/03/2001)',\n",
       "  'AGRILA LTD. AND OTHERS v. COMMISSIONER OF RATING & VALUATION \\xa0Reported in :[2001] 2 HKLRD 36; (2001) 4 HKCFAR 83'),\n",
       " ('Final Appeal (Civil)',\n",
       "  '2000',\n",
       "  \"\\\\'https://legalref.judiciary.hk/lrs/images/ThemeXP/Epage.gif\\\\'\",\n",
       "  'FACV3/2000',\n",
       "  'https://legalref.judiciary.hk/lrs/common/ju/ju_frame.jsp?DIS=33994',\n",
       "  '(26/06/2000)',\n",
       "  'THE MEDICAL COUNCIL OF HONG KONG v. DAVID CHOW SIU SHEK \\xa0'),\n",
       " ('Final Appeal (Civil)',\n",
       "  '2000',\n",
       "  \"\\\\'https://legalref.judiciary.hk/lrs/images/ThemeXP/Epage.gif\\\\'\",\n",
       "  'FACV3/2000',\n",
       "  'https://legalref.judiciary.hk/lrs/common/ju/ju_frame.jsp?DIS=21991',\n",
       "  '(01/06/2000)',\n",
       "  'THE MEDICAL COUNCIL OF HONG KONG v. DAVID CHOW SIU SHEK \\xa0Reported in :[2000] 2 HKLRD 674; (2000) 3 HKCFAR 144'),\n",
       " ('Final Appeal (Civil)',\n",
       "  '2000',\n",
       "  \"\\\\'https://legalref.judiciary.hk/lrs/images/ThemeXP/Epage.gif\\\\'\",\n",
       "  'FACV4/2000',\n",
       "  'https://legalref.judiciary.hk/lrs/common/ju/ju_frame.jsp?DIS=33300',\n",
       "  '(02/11/2000)',\n",
       "  'RAIDER LTD. v. SECRETARY FOR JUSTICE \\xa0Reported in :[2000] 3 HKLRD 300; (2000) 3 HKCFAR 309'),\n",
       " ('Final Appeal (Civil)',\n",
       "  '2000',\n",
       "  \"\\\\'https://legalref.judiciary.hk/lrs/images/ThemeXP/Epage.gif\\\\'\",\n",
       "  'FACV5/2000',\n",
       "  'https://legalref.judiciary.hk/lrs/common/ju/ju_frame.jsp?DIS=19773',\n",
       "  '(10/11/2000)',\n",
       "  'CHENG KIN PING AND ANOTHER v. WOO CHO WING JOHN \\xa0Reported in :[2000] 3 HKLRD 743; (2000) 3 HKCFAR 333'),\n",
       " ('Final Appeal (Civil)',\n",
       "  '2000',\n",
       "  \"\\\\'https://legalref.judiciary.hk/lrs/images/ThemeXP/Epage.gif\\\\'\",\n",
       "  'FACV6/2000',\n",
       "  'https://legalref.judiciary.hk/lrs/common/ju/ju_frame.jsp?DIS=20971',\n",
       "  '(28/07/2000)',\n",
       "  'THE TIAN SHENG NO.8 (OWNERS OF THE SHIP) v. OWNERS OF CARGO \\xa0'),\n",
       " ('Final Appeal (Civil)',\n",
       "  '2000',\n",
       "  \"\\\\'https://legalref.judiciary.hk/lrs/images/ThemeXP/Epage.gif\\\\'\",\n",
       "  'FACV6/2000',\n",
       "  'https://legalref.judiciary.hk/lrs/common/ju/ju_frame.jsp?DIS=37367',\n",
       "  '(12/07/2000)',\n",
       "  'THE TIAN SHENG NO.8 (OWNER OF THE SHIP) v. OWNERS OF CARGO \\xa0Reported in :[2000] 3 HKLRD 49; (2000) 3 HKCFAR 187'),\n",
       " ('Final Appeal (Civil)',\n",
       "  '2000',\n",
       "  \"\\\\'https://legalref.judiciary.hk/lrs/images/ThemeXP/Epage.gif\\\\'\",\n",
       "  'FACV7/2000',\n",
       "  'https://legalref.judiciary.hk/lrs/common/ju/ju_frame.jsp?DIS=21406',\n",
       "  '(21/12/2000)',\n",
       "  'NATION GROUP DEVELOPMENT LTD. v. NEW PACIFIC PROPERTIES LTD. \\xa0Reported in :[2001] 1 HKLRD 375; (2000) 3 HKCFAR 427'),\n",
       " ('Final Appeal (Civil)',\n",
       "  '2000',\n",
       "  \"\\\\'https://legalref.judiciary.hk/lrs/images/ThemeXP/ETpage.gif\\\\'\",\n",
       "  'FACV8/2000',\n",
       "  'https://legalref.judiciary.hk/lrs/common/ju/ju_frame.jsp?DIS=33623',\n",
       "  '(22/12/2000)',\n",
       "  'SECRETARY FOR JUSTICE v. TO KAN CHI AND OTHERS \\xa0Reported in :[2000] 3 HKLRD 756; (2000) 3 HKCFAR 481'),\n",
       " ('Final Appeal (Civil)',\n",
       "  '2000',\n",
       "  \"\\\\'https://legalref.judiciary.hk/lrs/images/ThemeXP/Epage.gif\\\\'\",\n",
       "  'FACV8/2000',\n",
       "  'https://legalref.judiciary.hk/lrs/common/ju/ju_frame.jsp?DIS=53524',\n",
       "  '(04/08/2006)',\n",
       "  'SECRETARY FOR JUSTICE v. TO KAN CHI AND OTHERS \\xa0'),\n",
       " ('Final Appeal (Civil)',\n",
       "  '2000',\n",
       "  \"\\\\'https://legalref.judiciary.hk/lrs/images/ThemeXP/Epage.gif\\\\'\",\n",
       "  'FACV8/2000',\n",
       "  'https://legalref.judiciary.hk/lrs/common/ju/ju_frame.jsp?DIS=84382',\n",
       "  '(13/11/2012)',\n",
       "  'TO KAN CHI AND OTHERS v. SECRETARY FOR JUSTICE \\xa0Reported in :(2012) 15 HKCFAR 708'),\n",
       " ('Final Appeal (Civil)',\n",
       "  '2000',\n",
       "  \"\\\\'https://legalref.judiciary.hk/lrs/images/ThemeXP/Epage.gif\\\\'\",\n",
       "  'FACV8/2000',\n",
       "  'https://legalref.judiciary.hk/lrs/common/ju/ju_frame.jsp?DIS=22661',\n",
       "  '(18/07/2000)',\n",
       "  'SECRETARY FOR JUSTICE v. TO KAN CHI AND OTHERS \\xa0Reported in :[2000] 2 HKLRD 499; (2000) 3 HKCFAR 264'),\n",
       " ('Final Appeal (Civil)',\n",
       "  '2000',\n",
       "  \"\\\\'https://legalref.judiciary.hk/lrs/images/ThemeXP/Epage.gif\\\\'\",\n",
       "  'FACV9/2000',\n",
       "  'https://legalref.judiciary.hk/lrs/common/ju/ju_frame.jsp?DIS=19914',\n",
       "  '(08/12/2000)',\n",
       "  'COMMISSIONER OF INLAND REVENUE v. SECAN LTD. AND ANOTHER \\xa0Reported in :[2000] 3 HKLRD 627; (2000) 3 HKCFAR 411'),\n",
       " ('Final Appeal (Civil)',\n",
       "  '2000',\n",
       "  \"\\\\'https://legalref.judiciary.hk/lrs/images/ThemeXP/ETpage.gif\\\\'\",\n",
       "  'FACV11/2000',\n",
       "  'https://legalref.judiciary.hk/lrs/common/ju/ju_frame.jsp?DIS=33624',\n",
       "  '(22/12/2000)',\n",
       "  'SECRETARY FOR JUSTICE OTHERS v. CHAN WAH AND OTHERS \\xa0Reported in :[2000] 3 HKLRD 641; (2000) 3 HKCFAR 459'),\n",
       " ('Final Appeal (Civil)',\n",
       "  '2000',\n",
       "  \"\\\\'https://legalref.judiciary.hk/lrs/images/ThemeXP/Epage.gif\\\\'\",\n",
       "  'FACV11/2000',\n",
       "  'https://legalref.judiciary.hk/lrs/common/ju/ju_frame.jsp?DIS=20230',\n",
       "  '(13/12/2001)',\n",
       "  'SECRETARY FOR JUSTICE AND OTHERS v. CHAN WAH AND OTHERS \\xa0'),\n",
       " ('Final Appeal (Civil)',\n",
       "  '2000',\n",
       "  \"\\\\'https://legalref.judiciary.hk/lrs/images/ThemeXP/Epage.gif\\\\'\",\n",
       "  'FACV11/2000',\n",
       "  'https://legalref.judiciary.hk/lrs/common/ju/ju_frame.jsp?DIS=18950',\n",
       "  '(08/08/2000)',\n",
       "  'SECRETARY FOR JUSTICE AND ANOTHER v. CHAN WAH AND OTHERS \\xa0Reported in :[2000] 2 HKLRD 880; (2000) 3 HKCFAR 293'),\n",
       " ('Final Appeal (Civil)',\n",
       "  '2000',\n",
       "  \"\\\\'https://legalref.judiciary.hk/lrs/images/ThemeXP/Epage.gif\\\\'\",\n",
       "  'FACV12/2000',\n",
       "  'https://legalref.judiciary.hk/lrs/common/ju/ju_frame.jsp?DIS=33714',\n",
       "  '(17/01/2001)',\n",
       "  'ALBERT CHENG AND ANOTHER v. TSE WAI CHUN PAUL \\xa0Reported in :[2001] 1 HKLRD 191; (2001) 4 HKCFAR 26'),\n",
       " ('Final Appeal (Civil)',\n",
       "  '2000',\n",
       "  \"\\\\'https://legalref.judiciary.hk/lrs/images/ThemeXP/ETpage.gif\\\\'\",\n",
       "  'FACV12/2000',\n",
       "  'https://legalref.judiciary.hk/lrs/common/ju/ju_frame.jsp?DIS=21112',\n",
       "  '(13/11/2000)',\n",
       "  'ALBERT CHENG AND ANOTHER v. TSE WAI CHUN PAUL \\xa0Reported in :[2000] 3 HKLRD 418; (2000) 3 HKCFAR 339'),\n",
       " ('Final Appeal (Civil)',\n",
       "  '2000',\n",
       "  \"\\\\'https://legalref.judiciary.hk/lrs/images/ThemeXP/ETpage.gif\\\\'\",\n",
       "  'FACV13/2000',\n",
       "  'https://legalref.judiciary.hk/lrs/common/ju/ju_frame.jsp?DIS=21407',\n",
       "  '(22/12/2000)',\n",
       "  'SECRETARY FOR JUSTICE OTHERS v. CHAN WAH AND OTHERS \\xa0Reported in :[2000] 3 HKLRD 641; (2000) 3 HKCFAR 459'),\n",
       " ('Final Appeal (Civil)',\n",
       "  '2000',\n",
       "  \"\\\\'https://legalref.judiciary.hk/lrs/images/ThemeXP/Epage.gif\\\\'\",\n",
       "  'FACV13/2000',\n",
       "  'https://legalref.judiciary.hk/lrs/common/ju/ju_frame.jsp?DIS=20232',\n",
       "  '(13/12/2001)',\n",
       "  'SECRETARY FOR JUSTICE AND OTHERS v. CHAN WAH AND OTHERS \\xa0'),\n",
       " ('Final Appeal (Civil)',\n",
       "  '2000',\n",
       "  \"\\\\'https://legalref.judiciary.hk/lrs/images/ThemeXP/Epage.gif\\\\'\",\n",
       "  'FACV13/2000',\n",
       "  'https://legalref.judiciary.hk/lrs/common/ju/ju_frame.jsp?DIS=18951',\n",
       "  '(08/08/2000)',\n",
       "  'CHEUNG KAM CHUEN v. CHAN WAH AND OTHERS \\xa0Reported in :[2000] 2 HKLRD 880; (2000) 3 HKCFAR 293'),\n",
       " ('Final Appeal (Civil)',\n",
       "  '2000',\n",
       "  \"\\\\'https://legalref.judiciary.hk/lrs/images/ThemeXP/Epage.gif\\\\'\",\n",
       "  'FACV14/2000',\n",
       "  'https://legalref.judiciary.hk/lrs/common/ju/ju_frame.jsp?DIS=36330',\n",
       "  '(27/02/2001)',\n",
       "  'LEUNG KWAI LIN CINDY v. WU WING KUEN \\xa0Reported in :[2001] 1 HKLRD 212; (2001) 4 HKCFAR 55'),\n",
       " ('Final Appeal (Civil)',\n",
       "  '2000',\n",
       "  \"\\\\'https://legalref.judiciary.hk/lrs/images/ThemeXP/Epage.gif\\\\'\",\n",
       "  'FACV15/2000',\n",
       "  'https://legalref.judiciary.hk/lrs/common/ju/ju_frame.jsp?DIS=21133',\n",
       "  '(22/11/2000)',\n",
       "  'REGAL SUCCESS VENTURE LTD. v. JONLIN LTD. AND ANOTHER \\xa0Reported in :[2000] 3 HKLRD 597; (2000) 3 HKCFAR 364'),\n",
       " ('Final Appeal (Civil)',\n",
       "  '2000',\n",
       "  \"\\\\'https://legalref.judiciary.hk/lrs/images/ThemeXP/Epage.gif\\\\'\",\n",
       "  'FACV16/2000',\n",
       "  'https://legalref.judiciary.hk/lrs/common/ju/ju_frame.jsp?DIS=37348',\n",
       "  '(21/12/2000)',\n",
       "  'GLOBAL TIME INVESTMENTS LTD. v. SUPER KEEN INVESTMENTS LTD. \\xa0Reported in :[2001] 1 HKLRD 387; (2000) 3 HKCFAR 440'),\n",
       " ('Final Appeal (Civil)',\n",
       "  '2000',\n",
       "  \"\\\\'https://legalref.judiciary.hk/lrs/images/ThemeXP/Epage.gif\\\\'\",\n",
       "  'FACV17/2000',\n",
       "  'https://legalref.judiciary.hk/lrs/common/ju/ju_frame.jsp?DIS=21408',\n",
       "  '(21/12/2000)',\n",
       "  'GRAND MILLION DEVELOPMENT LTD. v. GLOBAL TIME INVESTMENTS LTD. \\xa0Reported in :[2001] 1 HKLRD 387; (2000) 3 HKCFAR 440'),\n",
       " ('Final Appeal (Civil)',\n",
       "  '2000',\n",
       "  \"\\\\'https://legalref.judiciary.hk/lrs/images/ThemeXP/Epage.gif\\\\'\",\n",
       "  'FACV18/2000',\n",
       "  'https://legalref.judiciary.hk/lrs/common/ju/ju_frame.jsp?DIS=22522',\n",
       "  '(12/07/2000)',\n",
       "  'TIN TIN YAT PAO (INTERNATIONAL) LTD. (IN LIQUIDATION) v. TIN TIN PUBLICATION DEVELOPMENT LTD. \\xa0Reported in :[2000] 3 HKLRD 111; (2000) 3 HKCFAR 251'),\n",
       " ('Final Appeal (Civil)',\n",
       "  '2000',\n",
       "  \"\\\\'https://legalref.judiciary.hk/lrs/images/ThemeXP/Epage.gif\\\\'\",\n",
       "  'FACV19/2000',\n",
       "  'https://legalref.judiciary.hk/lrs/common/ju/ju_frame.jsp?DIS=20491',\n",
       "  '(16/03/2001)',\n",
       "  'WONG WAN LEUNG AND OTHERS v. SECRETARY FOR TRANSPORT \\xa0'),\n",
       " ('Final Appeal (Civil)',\n",
       "  '2000',\n",
       "  \"\\\\'https://legalref.judiciary.hk/lrs/images/ThemeXP/Epage.gif\\\\'\",\n",
       "  'FACV19/2000',\n",
       "  'https://legalref.judiciary.hk/lrs/common/ju/ju_frame.jsp?DIS=20364',\n",
       "  '(27/02/2001)',\n",
       "  'WONG WAN LEUNG AND OTHERS v. SECRETARY FOR TRANSPORT \\xa0Reported in :[2001] 1 HKLRD 427; (2001) 4 HKCFAR 69'),\n",
       " ('Final Appeal (Civil)',\n",
       "  '2000',\n",
       "  \"\\\\'https://legalref.judiciary.hk/lrs/images/ThemeXP/ETpage.gif\\\\'\",\n",
       "  'FACV20/2000',\n",
       "  'https://legalref.judiciary.hk/lrs/common/ju/ju_frame.jsp?DIS=32922',\n",
       "  '(20/07/2001)',\n",
       "  'TAM NGA YIN AND OTHERS v. THE DIRECTOR OF IMMIGRATION \\xa0Reported in :[2001] 2 HKLRD 644; (2001) 4 HKCFAR 251'),\n",
       " ('Final Appeal (Civil)',\n",
       "  '2000',\n",
       "  \"\\\\'https://legalref.judiciary.hk/lrs/images/ThemeXP/ETpage.gif\\\\'\",\n",
       "  'FACV21/2000',\n",
       "  'https://legalref.judiciary.hk/lrs/common/ju/ju_frame.jsp?DIS=32923',\n",
       "  '(20/07/2001)',\n",
       "  'TAM NGA YIN AND OTHERS v. THE DIRECTOR OF IMMIGRATION \\xa0Reported in :[2001] 2 HKLRD 644; (2001) 4 HKCFAR 251'),\n",
       " ('Final Appeal (Civil)',\n",
       "  '2000',\n",
       "  \"\\\\'https://legalref.judiciary.hk/lrs/images/ThemeXP/ETpage.gif\\\\'\",\n",
       "  'FACV22/2000',\n",
       "  'https://legalref.judiciary.hk/lrs/common/ju/ju_frame.jsp?DIS=20233',\n",
       "  '(21/12/2001)',\n",
       "  'SUEN TOI LEE v. YAU YEE PING \\xa0Reported in :(2001) 4 HKCFAR 474; [2002] 1 HKLRD 197'),\n",
       " ('Final Appeal (Civil)',\n",
       "  '2000',\n",
       "  \"\\\\'https://legalref.judiciary.hk/lrs/images/ThemeXP/Epage.gif\\\\'\",\n",
       "  'FACV23/2000',\n",
       "  'https://legalref.judiciary.hk/lrs/common/ju/ju_frame.jsp?DIS=20365',\n",
       "  '(20/02/2001)',\n",
       "  'LAM PAK CHIU AND ANOTHER v. TSANG MEI YING AND ANOTHER \\xa0Reported in :[2001] 1 HKLRD 193; (2001) 4 HKCFAR 34'),\n",
       " ('Final Appeal (Civil)',\n",
       "  '2000',\n",
       "  \"\\\\'https://legalref.judiciary.hk/lrs/images/ThemeXP/ETpage.gif\\\\'\",\n",
       "  'FACV24/2000',\n",
       "  'https://legalref.judiciary.hk/lrs/common/ju/ju_frame.jsp?DIS=22557',\n",
       "  '(20/07/2001)',\n",
       "  'FATEH MUHAMMAD v. COMMISSIONER OF REGISTRATION \\xa0Reported in :[2001] 2 HKLRD 659; (2001) 4 HKCFAR 278'),\n",
       " ('Final Appeal (Civil)',\n",
       "  '2000',\n",
       "  \"\\\\'https://legalref.judiciary.hk/lrs/images/ThemeXP/ETpage.gif\\\\'\",\n",
       "  'FACV25/2000',\n",
       "  'https://legalref.judiciary.hk/lrs/common/ju/ju_frame.jsp?DIS=33042',\n",
       "  '(05/10/2001)',\n",
       "  'MA BIK YUNG v. KO CHUEN \\xa0Reported in :[2002] 2 HKLRD 1; (2006) 9 HKCFAR 888'),\n",
       " ('Final Appeal (Civil)',\n",
       "  '2000',\n",
       "  \"\\\\'https://legalref.judiciary.hk/lrs/images/ThemeXP/ETpage.gif\\\\'\",\n",
       "  'FACV26/2000',\n",
       "  'https://legalref.judiciary.hk/lrs/common/ju/ju_frame.jsp?DIS=22558',\n",
       "  '(20/07/2001)',\n",
       "  'THE DIRECTOR OF IMMIGRATION v. CHONG FUNG YUEN \\xa0Reported in :[2001] 2 HKLRD 533; (2001) 4 HKCFAR 211'),\n",
       " ('Final Appeal (Civil)',\n",
       "  '2000',\n",
       "  \"\\\\'https://legalref.judiciary.hk/lrs/images/ThemeXP/Epage.gif\\\\'\",\n",
       "  'FACV28/2000',\n",
       "  'https://legalref.judiciary.hk/lrs/common/ju/ju_frame.jsp?DIS=22179',\n",
       "  '(25/04/2002)',\n",
       "  'POLYSET LTD. v. PANHANDAT LTD. \\xa0'),\n",
       " ('Final Appeal (Civil)',\n",
       "  '2000',\n",
       "  \"\\\\'https://legalref.judiciary.hk/lrs/images/ThemeXP/Epage.gif\\\\'\",\n",
       "  'FACV28/2000',\n",
       "  'https://legalref.judiciary.hk/lrs/common/ju/ju_frame.jsp?DIS=21795',\n",
       "  '(25/02/2002)',\n",
       "  'POLYSET LTD. v. PANHANDAT LTD. \\xa0Reported in :[2002] 3 HKLRD 319; (2002) 5 HKCFAR 234'),\n",
       " ('Final Appeal (Civil)',\n",
       "  '2000',\n",
       "  \"\\\\'https://legalref.judiciary.hk/lrs/images/ThemeXP/Epage.gif\\\\'\",\n",
       "  'FACV29/2000',\n",
       "  'https://legalref.judiciary.hk/lrs/common/ju/ju_frame.jsp?DIS=32881',\n",
       "  '(18/06/2001)',\n",
       "  'B + B CONSTRUCTION CO. LTD. v. SUN ALLIANCE AND LONDON INSURANCE plc \\xa0Reported in :[2001] 3 HKLRD 135; (2001) 4 HKCFAR 201'),\n",
       " ('Final Appeal (Civil)',\n",
       "  '2001',\n",
       "  \"\\\\'https://legalref.judiciary.hk/lrs/images/ThemeXP/Epage.gif\\\\'\",\n",
       "  'FACV1/2001',\n",
       "  'https://legalref.judiciary.hk/lrs/common/ju/ju_frame.jsp?DIS=21794',\n",
       "  '(25/02/2002)',\n",
       "  'NG SIU TUNG AND OTHERS v. THE DIRECTOR OF IMMIGRATION \\xa0'),\n",
       " ('Final Appeal (Civil)',\n",
       "  '2001',\n",
       "  \"\\\\'https://legalref.judiciary.hk/lrs/images/ThemeXP/ETpage.gif\\\\'\",\n",
       "  'FACV1/2001',\n",
       "  'https://legalref.judiciary.hk/lrs/common/ju/ju_frame.jsp?DIS=35733',\n",
       "  '(30/07/2002)',\n",
       "  'NG SIU TUNG AND OTHERS v. THE DIRECTOR OF IMMIGRATION \\xa0Reported in :(2002) 5 HKCFAR 499'),\n",
       " ('Final Appeal (Civil)',\n",
       "  '2001',\n",
       "  \"\\\\'https://legalref.judiciary.hk/lrs/images/ThemeXP/Epage.gif\\\\'\",\n",
       "  'FACV1/2001',\n",
       "  'https://legalref.judiciary.hk/lrs/common/ju/ju_frame.jsp?DIS=25822',\n",
       "  '(09/01/2004)',\n",
       "  'NG SIU TUNG AND OTHERS v. THE DIRECTOR OF IMMIGRATION \\xa0Reported in :(2004) 7 HKCFAR 24'),\n",
       " ('Final Appeal (Civil)',\n",
       "  '2001',\n",
       "  \"\\\\'https://legalref.judiciary.hk/lrs/images/ThemeXP/Epage.gif\\\\'\",\n",
       "  'FACV1/2001',\n",
       "  'https://legalref.judiciary.hk/lrs/common/ju/ju_frame.jsp?DIS=23303',\n",
       "  '(26/03/2004)',\n",
       "  'NG SIU TUNG AND OTHERS v. THE DIRECTOR OF IMMIGRATION \\xa0'),\n",
       " ('Final Appeal (Civil)',\n",
       "  '2001',\n",
       "  \"\\\\'https://legalref.judiciary.hk/lrs/images/ThemeXP/Epage.gif\\\\'\",\n",
       "  'FACV1/2001',\n",
       "  'https://legalref.judiciary.hk/lrs/common/ju/ju_frame.jsp?DIS=51146',\n",
       "  '(05/01/2006)',\n",
       "  'NG SIU TUNG AND OTHERS v. THE DIRECTOR OF IMMIGRATION \\xa0Reported in :(2006) 9 HKCFAR 63'),\n",
       " ('Final Appeal (Civil)',\n",
       "  '2001',\n",
       "  \"\\\\'https://legalref.judiciary.hk/lrs/images/ThemeXP/Epage.gif\\\\'\",\n",
       "  'FACV1/2001',\n",
       "  'https://legalref.judiciary.hk/lrs/common/ju/ju_frame.jsp?DIS=51525',\n",
       "  '(13/02/2006)',\n",
       "  'NG SIU TUNG AND OTHERS v. THE DIRECTOR OF IMMIGRATION \\xa0'),\n",
       " ('Final Appeal (Civil)',\n",
       "  '2001',\n",
       "  \"\\\\'https://legalref.judiciary.hk/lrs/images/ThemeXP/ETpage.gif\\\\'\",\n",
       "  'FACV1/2001',\n",
       "  'https://legalref.judiciary.hk/lrs/common/ju/ju_frame.jsp?DIS=55024',\n",
       "  '(13/11/2006)',\n",
       "  'NG SIU TUNG AND OTHERS v. THE DIRECTOR OF IMMIGRATION \\xa0'),\n",
       " ('Final Appeal (Civil)',\n",
       "  '2001',\n",
       "  \"\\\\'https://legalref.judiciary.hk/lrs/images/ThemeXP/Epage.gif\\\\'\",\n",
       "  'FACV1/2001',\n",
       "  'https://legalref.judiciary.hk/lrs/common/ju/ju_frame.jsp?DIS=57873',\n",
       "  '(25/07/2007)',\n",
       "  'NG SIU TUNG AND OTHERS v. THE DIRECTOR OF IMMIGRATION \\xa0'),\n",
       " ('Final Appeal (Civil)',\n",
       "  '2001',\n",
       "  \"\\\\'https://legalref.judiciary.hk/lrs/images/ThemeXP/Epage.gif\\\\'\",\n",
       "  'FACV1/2001',\n",
       "  'https://legalref.judiciary.hk/lrs/common/ju/ju_frame.jsp?DIS=60480',\n",
       "  '(18/03/2008)',\n",
       "  'NG SIU TUNG AND OTHERS v. THE DIRECTOR OF IMMIGRATION \\xa0'),\n",
       " ('Final Appeal (Civil)',\n",
       "  '2001',\n",
       "  \"\\\\'https://legalref.judiciary.hk/lrs/images/ThemeXP/ETpage.gif\\\\'\",\n",
       "  'FACV1/2001',\n",
       "  'https://legalref.judiciary.hk/lrs/common/ju/ju_frame.jsp?DIS=20557',\n",
       "  '(10/01/2002)',\n",
       "  'NG SIU TUNG AND OTHERS v. THE DIRECTOR OF IMMIGRATION \\xa0Reported in :[2002] 1 HKLRD 561; (2002) 5 HKCFAR 1'),\n",
       " ('Final Appeal (Civil)',\n",
       "  '2001',\n",
       "  \"\\\\'https://legalref.judiciary.hk/lrs/images/ThemeXP/ETpage.gif\\\\'\",\n",
       "  'FACV2/2001',\n",
       "  'https://legalref.judiciary.hk/lrs/common/ju/ju_frame.jsp?DIS=20558',\n",
       "  '(10/01/2002)',\n",
       "  'LI SHUK FAN v. THE DIRECTOR OF IMMIGRATION \\xa0Reported in :[2002] 1 HKLRD 561; (2002) 5 HKCFAR 1'),\n",
       " ('Final Appeal (Civil)',\n",
       "  '2001',\n",
       "  \"\\\\'https://legalref.judiciary.hk/lrs/images/ThemeXP/ETpage.gif\\\\'\",\n",
       "  'FACV3/2001',\n",
       "  'https://legalref.judiciary.hk/lrs/common/ju/ju_frame.jsp?DIS=33202',\n",
       "  '(10/01/2002)',\n",
       "  'SIN HOI CHU AND OTHERS v. THE DIRECTOR OF IMMIGRATION \\xa0Reported in :[2002] 1 HKLRD 561; (2002) 5 HKCFAR 1'),\n",
       " ('Final Appeal (Civil)',\n",
       "  '2001',\n",
       "  \"\\\\'https://legalref.judiciary.hk/lrs/images/ThemeXP/Epage.gif\\\\'\",\n",
       "  'FACV4/2001',\n",
       "  'https://legalref.judiciary.hk/lrs/common/ju/ju_frame.jsp?DIS=20117',\n",
       "  '(29/10/2001)',\n",
       "  \"CHAN SIK PAN v. WYLAM\\\\'S SERVICE LTD. & ANOTHER \\xa0\"),\n",
       " ('Final Appeal (Civil)',\n",
       "  '2001',\n",
       "  \"\\\\'https://legalref.judiciary.hk/lrs/images/ThemeXP/Epage.gif\\\\'\",\n",
       "  'FACV4/2001',\n",
       "  'https://legalref.judiciary.hk/lrs/common/ju/ju_frame.jsp?DIS=19816',\n",
       "  '(19/09/2001)',\n",
       "  \"CHAN SIK PAN v. WYLAM\\\\'S SERVICES LTD. AND ANOTHER \\xa0Reported in :[2002] 1 HKLRD 337;  (2001) 4 HKCFAR 308\"),\n",
       " ('Final Appeal (Civil)',\n",
       "  '2001',\n",
       "  \"\\\\'https://legalref.judiciary.hk/lrs/images/ThemeXP/Epage.gif\\\\'\",\n",
       "  'FACV5/2001',\n",
       "  'https://legalref.judiciary.hk/lrs/common/ju/ju_frame.jsp?DIS=20225',\n",
       "  '(29/10/2001)',\n",
       "  'YU CHI KONG v. CHAN SIK PAN & OTHERS \\xa0'),\n",
       " ('Final Appeal (Civil)',\n",
       "  '2001',\n",
       "  \"\\\\'https://legalref.judiciary.hk/lrs/images/ThemeXP/Epage.gif\\\\'\",\n",
       "  'FACV5/2001',\n",
       "  'https://legalref.judiciary.hk/lrs/common/ju/ju_frame.jsp?DIS=19817',\n",
       "  '(19/09/2001)',\n",
       "  'YU CHI KONG v. CHAN SIK PAN AND OTHERS \\xa0Reported in :[2002] 1 HKLRD 337;  (2001) 4 HKCFAR 308'),\n",
       " ('Final Appeal (Civil)',\n",
       "  '2001',\n",
       "  \"\\\\'https://legalref.judiciary.hk/lrs/images/ThemeXP/ETpage.gif\\\\'\",\n",
       "  'FACV6/2001',\n",
       "  'https://legalref.judiciary.hk/lrs/common/ju/ju_frame.jsp?DIS=20226',\n",
       "  '(10/12/2001)',\n",
       "  'THE REGISTRAR OF BIRTHS AND DEATHS v. SYED HAIDER YAHYA HUSSAIN AND ANOTHER \\xa0Reported in :(2001) 4 HKCFAR 429; [2002] 2 HKLRD 205'),\n",
       " ('Final Appeal (Civil)',\n",
       "  '2001',\n",
       "  \"\\\\'https://legalref.judiciary.hk/lrs/images/ThemeXP/Epage.gif\\\\'\",\n",
       "  'FACV7/2001',\n",
       "  'https://legalref.judiciary.hk/lrs/common/ju/ju_frame.jsp?DIS=32378',\n",
       "  '(10/09/2001)',\n",
       "  'WISHING LONG HONG v. WONG KIT CHUN \\xa0Reported in :[2001] 3 HKLRD 100; (2001) 4 HKCFAR 289'),\n",
       " ('Final Appeal (Civil)',\n",
       "  '2001',\n",
       "  \"\\\\'https://legalref.judiciary.hk/lrs/images/ThemeXP/Epage.gif\\\\'\",\n",
       "  'FACV8/2001',\n",
       "  'https://legalref.judiciary.hk/lrs/common/ju/ju_frame.jsp?DIS=22323',\n",
       "  '(27/05/2002)',\n",
       "  'MALCOLM ERNEST GRAY v. DIANE CARY BARBER SERVINO \\xa0'),\n",
       " ('Final Appeal (Civil)',\n",
       "  '2001',\n",
       "  \"\\\\'https://legalref.judiciary.hk/lrs/images/ThemeXP/Epage.gif\\\\'\",\n",
       "  'FACV8/2001',\n",
       "  'https://legalref.judiciary.hk/lrs/common/ju/ju_frame.jsp?DIS=20227',\n",
       "  '(10/12/2001)',\n",
       "  'MALCOLM ERNEST GRAY v. DIANE CARY BARBER SERVINO \\xa0Reported in :[2001] 3 HKLRD 842; (2001) 4 HKCFAR 419'),\n",
       " ('Final Appeal (Civil)',\n",
       "  '2001',\n",
       "  \"\\\\'https://legalref.judiciary.hk/lrs/images/ThemeXP/Epage.gif\\\\'\",\n",
       "  'FACV9/2001',\n",
       "  'https://legalref.judiciary.hk/lrs/common/ju/ju_frame.jsp?DIS=20228',\n",
       "  '(10/12/2001)',\n",
       "  'GREEN PARK PROPERTIES LTD. v. DORKU LTD. \\xa0Reported in :[2001] 3 HKLRD 760; (2001) 4 HKCFAR 448'),\n",
       " ('Final Appeal (Civil)',\n",
       "  '2001',\n",
       "  \"\\\\'https://legalref.judiciary.hk/lrs/images/ThemeXP/Epage.gif\\\\'\",\n",
       "  'FACV10/2001',\n",
       "  'https://legalref.judiciary.hk/lrs/common/ju/ju_frame.jsp?DIS=20689',\n",
       "  '(31/01/2002)',\n",
       "  'KENSLAND REALTY LTD. v. WHALE VIEW INVESTMENT LTD. AND ANOTHER \\xa0'),\n",
       " ('Final Appeal (Civil)',\n",
       "  '2001',\n",
       "  \"\\\\'https://legalref.judiciary.hk/lrs/images/ThemeXP/Epage.gif\\\\'\",\n",
       "  'FACV10/2001',\n",
       "  'https://legalref.judiciary.hk/lrs/common/ju/ju_frame.jsp?DIS=20229',\n",
       "  '(10/12/2001)',\n",
       "  'KENSLAND REALTY LTD. v. WHALE VIEW INVESTMENT LTD. AND ANOTHER \\xa0Reported in :(2001) 4 HKCFAR 381; [2002] 1 HKLRD 87'),\n",
       " ('Final Appeal (Civil)',\n",
       "  '2001',\n",
       "  \"\\\\'https://legalref.judiciary.hk/lrs/images/ThemeXP/ETpage.gif\\\\'\",\n",
       "  'FACV11/2001',\n",
       "  'https://legalref.judiciary.hk/lrs/common/ju/ju_frame.jsp?DIS=20231',\n",
       "  '(03/12/2001)',\n",
       "  'UDL ARGOS ENGINEERING & HEAVY INDUSTRIES CO. LTD. v. LI OI LIN \\xa0Reported in :[2001] 3 HKLRD 634; (2001) 4 HKCFAR 358'),\n",
       " ('Final Appeal (Civil)',\n",
       "  '2001',\n",
       "  \"\\\\'https://legalref.judiciary.hk/lrs/images/ThemeXP/Epage.gif\\\\'\",\n",
       "  'FACV12/2001',\n",
       "  'https://legalref.judiciary.hk/lrs/common/ju/ju_frame.jsp?DIS=21918',\n",
       "  '(14/03/2002)',\n",
       "  'TING KWOK KEUNG v. TAM DICK YUEN t/a TAM DICK YUEN ENGINEERING AND OTHERS \\xa0Reported in :[2002] 3 HKLRD 1; (2002) 5 HKCFAR 336'),\n",
       " ('Final Appeal (Civil)',\n",
       "  '2001',\n",
       "  \"\\\\'https://legalref.judiciary.hk/lrs/images/ThemeXP/Epage.gif\\\\'\",\n",
       "  'FACV13/2001',\n",
       "  'https://legalref.judiciary.hk/lrs/common/ju/ju_frame.jsp?DIS=19084',\n",
       "  '(19/04/2002)',\n",
       "  'THE KA WAH BANK LTD v. BHAGWAN SHANKARDAS MOORJANI \\xa0'),\n",
       " ('Final Appeal (Civil)',\n",
       "  '2001',\n",
       "  \"\\\\'https://legalref.judiciary.hk/lrs/images/ThemeXP/Epage.gif\\\\'\",\n",
       "  'FACV13/2001',\n",
       "  'https://legalref.judiciary.hk/lrs/common/ju/ju_frame.jsp?DIS=19029',\n",
       "  '(08/03/2002)',\n",
       "  'THE KA WAH BANK LTD v. BHAGWAN SHANKARDAS MOORJANI \\xa0Reported in :[2002] 1 HKLRD 719; (2002) 5 HKCFAR 313'),\n",
       " ('Final Appeal (Civil)',\n",
       "  '2001',\n",
       "  \"\\\\'https://legalref.judiciary.hk/lrs/images/ThemeXP/Epage.gif\\\\'\",\n",
       "  'FACV14/2001',\n",
       "  'https://legalref.judiciary.hk/lrs/common/ju/ju_frame.jsp?DIS=20920',\n",
       "  '(04/03/2002)',\n",
       "  'PAUL CHEN AND ANOTHER v. LORD ENERGY LTD. \\xa0Reported in :[2002] 1 HKLRD 495; (2002) 5 HKCFAR 297'),\n",
       " ('Final Appeal (Civil)',\n",
       "  '2001',\n",
       "  \"\\\\'https://legalref.judiciary.hk/lrs/images/ThemeXP/Epage.gif\\\\'\",\n",
       "  'FACV15/2001',\n",
       "  'https://legalref.judiciary.hk/lrs/common/ju/ju_frame.jsp?DIS=22324',\n",
       "  '(07/05/2002)',\n",
       "  'FLYWIN CO. LTD. v. STRONG & ASSOCIATES LTD. \\xa0Reported in :[2002] 2 HKLRD 485; (2002) 5 HKCFAR 356'),\n",
       " ('Final Appeal (Civil)',\n",
       "  '2001',\n",
       "  \"\\\\'https://legalref.judiciary.hk/lrs/images/ThemeXP/Epage.gif\\\\'\",\n",
       "  'FACV16/2001',\n",
       "  'https://legalref.judiciary.hk/lrs/common/ju/ju_frame.jsp?DIS=25407',\n",
       "  '(04/12/2002)',\n",
       "  'BANK OF CHINA (HONG KONG) LTD v. FUNG CHIN KAN AND ANOTHER \\xa0Reported in :[2003] 1 HKLRD 181; (2002) 5 HKCFAR 515'),\n",
       " ('Final Appeal (Civil)',\n",
       "  '2001',\n",
       "  \"\\\\'https://legalref.judiciary.hk/lrs/images/ThemeXP/ETpage.gif\\\\'\",\n",
       "  'FACV17/2001',\n",
       "  'https://legalref.judiciary.hk/lrs/common/ju/ju_frame.jsp?DIS=22741',\n",
       "  '(30/07/2002)',\n",
       "  'GURUNG KESH BAHADUR v. DIRECTOR OF IMMIGRATION \\xa0Reported in :[2002] 2 HKLRD 775; (2002) 5 HKCFAR 480'),\n",
       " ('Final Appeal (Civil)',\n",
       "  '2007',\n",
       "  \"\\\\'https://legalref.judiciary.hk/lrs/images/ThemeXP/Epage.gif\\\\'\",\n",
       "  'FACV1/2007',\n",
       "  'https://legalref.judiciary.hk/lrs/common/ju/ju_frame.jsp?DIS=60673',\n",
       "  '(07/04/2008)',\n",
       "  'NAM TAI ELECTRONICS, INC. v. PRICEWATERHOUSE COOPERS \\xa0'),\n",
       " ('Final Appeal (Civil)',\n",
       "  '2007',\n",
       "  \"\\\\'https://legalref.judiciary.hk/lrs/images/ThemeXP/Epage.gif\\\\'\",\n",
       "  'FACV1/2007',\n",
       "  'https://legalref.judiciary.hk/lrs/common/ju/ju_frame.jsp?DIS=59972',\n",
       "  '(31/01/2005)',\n",
       "  'NAM TAI ELECTRONICS, INC. v. PRICEWATERHOUSE COOPERS \\xa0Reported in :[2008] 1 HKLRD 666; (2008) 11 HKCFAR 62'),\n",
       " ('Final Appeal (Civil)',\n",
       "  '2007',\n",
       "  \"\\\\'https://legalref.judiciary.hk/lrs/images/ThemeXP/Epage.gif\\\\'\",\n",
       "  'FACV2/2007',\n",
       "  'https://legalref.judiciary.hk/lrs/common/ju/ju_frame.jsp?DIS=60403',\n",
       "  '(13/03/2008)',\n",
       "  'COMMISSIONER OF INLAND REVENUE v. TAI HING COTTON MILL (DEVELOPMENT) LTD \\xa0'),\n",
       " ('Final Appeal (Civil)',\n",
       "  '2007',\n",
       "  \"\\\\'https://legalref.judiciary.hk/lrs/images/ThemeXP/Epage.gif\\\\'\",\n",
       "  'FACV2/2007',\n",
       "  'https://legalref.judiciary.hk/lrs/common/ju/ju_frame.jsp?DIS=59347',\n",
       "  '(04/12/2007)',\n",
       "  'COMMISSIONER OF INLAND REVENUE v. TAI HING COTTON MILL (DEVELOPMENT) LTD \\xa0Reported in :[2008] 2 HKLRD 40; (2007) 10 HKCFAR 704'),\n",
       " ('Final Appeal (Civil)',\n",
       "  '2007',\n",
       "  \"\\\\'https://legalref.judiciary.hk/lrs/images/ThemeXP/Epage.gif\\\\'\",\n",
       "  'FACV3/2007',\n",
       "  'https://legalref.judiciary.hk/lrs/common/ju/ju_frame.jsp?DIS=59781',\n",
       "  '(16/01/2008)',\n",
       "  'REAL ESTATE INVESTMENTS (N.T.) LTD v. THE COMMISSIONER OF INLAND REVENUE \\xa0Reported in :(2008) 11 HKCFAR 433'),\n",
       " ('Final Appeal (Civil)',\n",
       "  '2007',\n",
       "  \"\\\\'https://legalref.judiciary.hk/lrs/images/ThemeXP/Epage.gif\\\\'\",\n",
       "  'FACV4/2007',\n",
       "  'https://legalref.judiciary.hk/lrs/common/ju/ju_frame.jsp?DIS=58906',\n",
       "  '(26/10/2007)',\n",
       "  'LEUNG TSANG HUNG AND ANOTHER v. THE INCORPORATED OWNERS OF KWOK WING HOUSE \\xa0Reported in :[2007] 4 HKLRD 654; (2007) 10 HKCFAR 480'),\n",
       " ('Final Appeal (Civil)',\n",
       "  '2007',\n",
       "  \"\\\\'https://legalref.judiciary.hk/lrs/images/ThemeXP/ETpage.gif\\\\'\",\n",
       "  'FACV5/2007',\n",
       "  'https://legalref.judiciary.hk/lrs/common/ju/ju_frame.jsp?DIS=58987',\n",
       "  '(05/11/2007)',\n",
       "  'LAI TAK SHING v. THE SECRETARY FOR HOME AFFAIRS AND ANOTHER \\xa0Reported in :(2007) 10 HKCFAR 655'),\n",
       " ('Final Appeal (Civil)',\n",
       "  '2007',\n",
       "  \"\\\\'https://legalref.judiciary.hk/lrs/images/ThemeXP/Epage.gif\\\\'\",\n",
       "  'FACV8/2007',\n",
       "  'https://legalref.judiciary.hk/lrs/common/ju/ju_frame.jsp?DIS=61102',\n",
       "  '(19/05/2008)',\n",
       "  'COMMISSIONER OF INLAND REVENUE v. HIT FINANCE LTD \\xa0'),\n",
       " ('Final Appeal (Civil)',\n",
       "  '2007',\n",
       "  \"\\\\'https://legalref.judiciary.hk/lrs/images/ThemeXP/Epage.gif\\\\'\",\n",
       "  'FACV8/2007',\n",
       "  'https://legalref.judiciary.hk/lrs/common/ju/ju_frame.jsp?DIS=61543',\n",
       "  '(26/06/2008)',\n",
       "  'COMMISSIONER OF INLAND REVENUE v. HIT FINANCE LTD \\xa0Reported in :[2014] 4 HKLRD 412'),\n",
       " ('Final Appeal (Civil)',\n",
       "  '2007',\n",
       "  \"\\\\'https://legalref.judiciary.hk/lrs/images/ThemeXP/Epage.gif\\\\'\",\n",
       "  'FACV8/2007',\n",
       "  'https://legalref.judiciary.hk/lrs/common/ju/ju_frame.jsp?DIS=59348',\n",
       "  '(04/12/2007)',\n",
       "  'COMMISSIONER OF INLAND REVENUE v. HIT FINANCE LTD \\xa0Reported in :[2008] 2 HKLRD 52; (2007) 10 HKCFAR 717'),\n",
       " ('Final Appeal (Civil)',\n",
       "  '2007',\n",
       "  \"\\\\'https://legalref.judiciary.hk/lrs/images/ThemeXP/Epage.gif\\\\'\",\n",
       "  'FACV9/2007',\n",
       "  'https://legalref.judiciary.hk/lrs/common/ju/ju_frame.jsp?DIS=61104',\n",
       "  '(19/05/2008)',\n",
       "  'COMMISSIONER OF INLAND REVENUE v. HONGKONG INTERNATIONAL TERMINALS  LTD \\xa0'),\n",
       " ('Final Appeal (Civil)',\n",
       "  '2007',\n",
       "  \"\\\\'https://legalref.judiciary.hk/lrs/images/ThemeXP/Epage.gif\\\\'\",\n",
       "  'FACV9/2007',\n",
       "  'https://legalref.judiciary.hk/lrs/common/ju/ju_frame.jsp?DIS=61545',\n",
       "  '(26/06/2008)',\n",
       "  'COMMISSIONER OF INLAND REVENUE v. HONGKONG INTERNATIONAL TERMINALS LTD \\xa0Reported in :[2014] 4 HKLRD 412'),\n",
       " ('Final Appeal (Civil)',\n",
       "  '2007',\n",
       "  \"\\\\'https://legalref.judiciary.hk/lrs/images/ThemeXP/Epage.gif\\\\'\",\n",
       "  'FACV9/2007',\n",
       "  'https://legalref.judiciary.hk/lrs/common/ju/ju_frame.jsp?DIS=59350',\n",
       "  '(04/12/2007)',\n",
       "  'COMMISSIONER OF INLAND REVENUE v. HONGKONG INTERNATIONAL TERMINALS LTD \\xa0Reported in :[2008] 2 HKLRD 52; (2007) 10 HKCFAR 717'),\n",
       " ('Final Appeal (Civil)',\n",
       "  '2007',\n",
       "  \"\\\\'https://legalref.judiciary.hk/lrs/images/ThemeXP/Epage.gif\\\\'\",\n",
       "  'FACV10/2007',\n",
       "  'https://legalref.judiciary.hk/lrs/common/ju/ju_frame.jsp?DIS=59323',\n",
       "  '(30/11/2007)',\n",
       "  'PETER PO FUN CHAN v. WINNIE CW CHEUNG AND ANOTHER \\xa0Reported in :[2008] 1 HKLRD 319; (2007) 10 HKCFAR 676'),\n",
       " ('Final Appeal (Civil)',\n",
       "  '2007',\n",
       "  \"\\\\'https://legalref.judiciary.hk/lrs/images/ThemeXP/ETpage.gif\\\\'\",\n",
       "  'FACV11/2007',\n",
       "  'https://legalref.judiciary.hk/lrs/common/ju/ju_frame.jsp?DIS=60342',\n",
       "  '(07/03/2008)',\n",
       "  'KENSLAND REALTY LTD v. TAI, TANG CHONG \\xa0Reported in :(2008) 11 HKCFAR 237'),\n",
       " ('Final Appeal (Civil)',\n",
       "  '2007',\n",
       "  \"\\\\'https://legalref.judiciary.hk/lrs/images/ThemeXP/Epage.gif\\\\'\",\n",
       "  'FACV12/2007',\n",
       "  'https://legalref.judiciary.hk/lrs/common/ju/ju_frame.jsp?DIS=59973',\n",
       "  '(31/01/2008)',\n",
       "  'MINCHEST LTD v. LAU TSUI KWAI AND OTHERS \\xa0Reported in :(2008) 11 HKCFAR 551'),\n",
       " ('Final Appeal (Civil)',\n",
       "  '2007',\n",
       "  \"\\\\'https://legalref.judiciary.hk/lrs/images/ThemeXP/Epage.gif\\\\'\",\n",
       "  'FACV13/2007',\n",
       "  'https://legalref.judiciary.hk/lrs/common/ju/ju_frame.jsp?DIS=60786',\n",
       "  '(18/04/2008)',\n",
       "  'FONG YAU HEI v. GAMMON CONSTRUCTION LTD AND OTHERS \\xa0Reported in :[2008] 3 HKLRD 604; (2008) 11 HKCFAR 212'),\n",
       " ('Final Appeal (Civil)',\n",
       "  '2007',\n",
       "  \"\\\\'https://legalref.judiciary.hk/lrs/images/ThemeXP/Epage.gif\\\\'\",\n",
       "  'FACV14/2007',\n",
       "  'https://legalref.judiciary.hk/lrs/common/ju/ju_frame.jsp?DIS=59974',\n",
       "  '(31/01/2008)',\n",
       "  'LEE YEE SHING AND ANOTHER v. COMMISSIONER OF INLAND REVENUE \\xa0Reported in :[2008] 3 HKLRD 51; (2008) 11 HKCFAR 6'),\n",
       " ('Final Appeal (Civil)',\n",
       "  '2007',\n",
       "  \"\\\\'https://legalref.judiciary.hk/lrs/images/ThemeXP/Epage.gif\\\\'\",\n",
       "  'FACV15/2007',\n",
       "  'https://legalref.judiciary.hk/lrs/common/ju/ju_frame.jsp?DIS=63241',\n",
       "  '(14/11/2008)',\n",
       "  'WADDINGTON LTD v. CHAN CHUN HOO THOMAS AND OTHERS \\xa0'),\n",
       " ('Final Appeal (Civil)',\n",
       "  '2007',\n",
       "  \"\\\\'https://legalref.judiciary.hk/lrs/images/ThemeXP/Epage.gif\\\\'\",\n",
       "  'FACV15/2007',\n",
       "  'https://legalref.judiciary.hk/lrs/common/ju/ju_frame.jsp?DIS=62499',\n",
       "  '(08/09/2008)',\n",
       "  'WADDINGTON LTD v. CHAN CHUN HOO THOMAS AND OTHERS \\xa0Reported in :(2008) 11 HKCFAR 370'),\n",
       " ('Final Appeal (Civil)',\n",
       "  '2007',\n",
       "  \"\\\\'https://legalref.judiciary.hk/lrs/images/ThemeXP/Epage.gif\\\\'\",\n",
       "  'FACV16/2007',\n",
       "  'https://legalref.judiciary.hk/lrs/common/ju/ju_frame.jsp?DIS=61103',\n",
       "  '(19/05/2008)',\n",
       "  'COMMISSIONER OF INLAND REVENUE v. HIT FINANCE LTD \\xa0'),\n",
       " ('Final Appeal (Civil)',\n",
       "  '2007',\n",
       "  \"\\\\'https://legalref.judiciary.hk/lrs/images/ThemeXP/Epage.gif\\\\'\",\n",
       "  'FACV16/2007',\n",
       "  'https://legalref.judiciary.hk/lrs/common/ju/ju_frame.jsp?DIS=61544',\n",
       "  '(26/06/2008)',\n",
       "  'COMMISSIONER OF INLAND REVENUE v. HIT FINANCE LTD \\xa0Reported in :[2014] 4 HKLRD 412'),\n",
       " ('Final Appeal (Civil)',\n",
       "  '2007',\n",
       "  \"\\\\'https://legalref.judiciary.hk/lrs/images/ThemeXP/Epage.gif\\\\'\",\n",
       "  'FACV16/2007',\n",
       "  'https://legalref.judiciary.hk/lrs/common/ju/ju_frame.jsp?DIS=59349',\n",
       "  '(04/12/2007)',\n",
       "  'COMMISSIONER OF INLAND REVENUE v. HIT FINANCE LTD \\xa0Reported in :[2008] 2 HKLRD 52; (2007) 10 HKCFAR 717'),\n",
       " ('Final Appeal (Civil)',\n",
       "  '2007',\n",
       "  \"\\\\'https://legalref.judiciary.hk/lrs/images/ThemeXP/Epage.gif\\\\'\",\n",
       "  'FACV17/2007',\n",
       "  'https://legalref.judiciary.hk/lrs/common/ju/ju_frame.jsp?DIS=61105',\n",
       "  '(19/05/2008)',\n",
       "  'COMMISSIONER OF INLAND REVENUE v. HONGKONG INTERNATIONAL TERMINALS  LTD \\xa0'),\n",
       " ('Final Appeal (Civil)',\n",
       "  '2007',\n",
       "  \"\\\\'https://legalref.judiciary.hk/lrs/images/ThemeXP/Epage.gif\\\\'\",\n",
       "  'FACV17/2007',\n",
       "  'https://legalref.judiciary.hk/lrs/common/ju/ju_frame.jsp?DIS=61546',\n",
       "  '(26/06/2008)',\n",
       "  'COMMISSIONER OF INLAND REVENUE v. HONGKONG INTERNATIONAL TERMINALS LTD \\xa0Reported in :[2014] 4 HKLRD 412'),\n",
       " ('Final Appeal (Civil)',\n",
       "  '2007',\n",
       "  \"\\\\'https://legalref.judiciary.hk/lrs/images/ThemeXP/Epage.gif\\\\'\",\n",
       "  'FACV17/2007',\n",
       "  'https://legalref.judiciary.hk/lrs/common/ju/ju_frame.jsp?DIS=59351',\n",
       "  '(04/12/2007)',\n",
       "  'COMMISSIONER OF INLAND REVENUE v. HONGKONG INTERNATIONAL TERMINALS LTD \\xa0Reported in :[2008] 2 HKLRD 52; (2007) 10 HKCFAR 717'),\n",
       " ('Final Appeal (Civil)',\n",
       "  '2007',\n",
       "  \"\\\\'https://legalref.judiciary.hk/lrs/images/ThemeXP/Epage.gif\\\\'\",\n",
       "  'FACV18/2007',\n",
       "  'https://legalref.judiciary.hk/lrs/common/ju/ju_frame.jsp?DIS=60787',\n",
       "  '(18/04/2008)',\n",
       "  'GUANGDONG NATIVE PRODUCE CO LTD v. TAM TZE YING t/a SUN YING TRADING CO \\xa0Reported in :(2008) 11 HKCFAR 455'),\n",
       " ('Final Appeal (Civil)',\n",
       "  '2007',\n",
       "  \"\\\\'https://legalref.judiciary.hk/lrs/images/ThemeXP/ETpage.gif\\\\'\",\n",
       "  'FACV19/2007',\n",
       "  'https://legalref.judiciary.hk/lrs/common/ju/ju_frame.jsp?DIS=60481',\n",
       "  '(18/03/2008)',\n",
       "  'KOON WING YEE v. INSIDER DEALING TRIBUNAL AND ANOTHER \\xa0Reported in :[2008] 3 HKLRD 372; (2008) 11 HKCFAR 170'),\n",
       " ('Final Appeal (Civil)',\n",
       "  '2007',\n",
       "  \"\\\\'https://legalref.judiciary.hk/lrs/images/ThemeXP/ETpage.gif\\\\'\",\n",
       "  'FACV20/2007',\n",
       "  'https://legalref.judiciary.hk/lrs/common/ju/ju_frame.jsp?DIS=60494',\n",
       "  '(18/03/2008)',\n",
       "  'CHAN KIN SHING SONNY v. INSIDER DEALING TRIBUNAL AND ANOTHER \\xa0Reported in :[2008] 3 HKLRD 372; (2008) 11 HKCFAR 170'),\n",
       " ('Final Appeal (Civil)',\n",
       "  '2007',\n",
       "  \"\\\\'https://legalref.judiciary.hk/lrs/images/ThemeXP/Epage.gif\\\\'\",\n",
       "  'FACV21/2007',\n",
       "  'https://legalref.judiciary.hk/lrs/common/ju/ju_frame.jsp?DIS=60879',\n",
       "  '(28/04/2008)',\n",
       "  'MARBLE HOLDING LTD v. YATIN DEVELOPMENT LTD \\xa0Reported in :[2008] 4 HKLRD 950; (2008) 11 HKCFAR 222'),\n",
       " ('Final Appeal (Civil)',\n",
       "  '2007',\n",
       "  \"\\\\'https://legalref.judiciary.hk/lrs/images/ThemeXP/ETpage.gif\\\\'\",\n",
       "  'FACV22/2007',\n",
       "  'https://legalref.judiciary.hk/lrs/common/ju/ju_frame.jsp?DIS=61840',\n",
       "  '(25/07/2008)',\n",
       "  'YEUNG CHUNG MING v. COMMISSIONER OF POLICE \\xa0Reported in :(2008) 11 HKCFAR 513'),\n",
       " ('Final Appeal (Civil)',\n",
       "  '2007',\n",
       "  \"\\\\'https://legalref.judiciary.hk/lrs/images/ThemeXP/Epage.gif\\\\'\",\n",
       "  'FACV23/2007',\n",
       "  'https://legalref.judiciary.hk/lrs/common/ju/ju_frame.jsp?DIS=63531',\n",
       "  '(05/12/2008)',\n",
       "  'HEBEI ENTERPRISES LTD AND OTHERS v. LIVASIRI & CO (A FIRM) AND OTHERS \\xa0'),\n",
       " ('Final Appeal (Civil)',\n",
       "  '2007',\n",
       "  \"\\\\'https://legalref.judiciary.hk/lrs/images/ThemeXP/Epage.gif\\\\'\",\n",
       "  'FACV23/2007',\n",
       "  'https://legalref.judiciary.hk/lrs/common/ju/ju_frame.jsp?DIS=61679',\n",
       "  '(15/07/2008)',\n",
       "  'HEBEI ENTERPRISES LTD AND OTHERS v. LIVASIRI & CO (A FIRM) AND OTHERS \\xa0Reported in :[2008] 5 HKLRD 102; (2008) 11 HKCFAR 321'),\n",
       " ('Final Appeal (Civil)',\n",
       "  '2007',\n",
       "  \"\\\\'https://legalref.judiciary.hk/lrs/images/ThemeXP/ETpage.gif\\\\'\",\n",
       "  'FACV24/2007',\n",
       "  'https://legalref.judiciary.hk/lrs/common/ju/ju_frame.jsp?DIS=60404',\n",
       "  '(13/03/2008)',\n",
       "  'A SOLICITOR v. THE LAW SOCIETY OF HONG KONG \\xa0Reported in :[2008] 2 HKLRD 576; (2008) 11 HKCFAR 117'),\n",
       " ('Final Appeal (Civil)',\n",
       "  '2007',\n",
       "  \"\\\\'https://legalref.judiciary.hk/lrs/images/ThemeXP/Epage.gif\\\\'\",\n",
       "  'FACV25/2007',\n",
       "  'https://legalref.judiciary.hk/lrs/common/ju/ju_frame.jsp?DIS=63532',\n",
       "  '(05/12/2008)',\n",
       "  'HEBEI ENTERPRISES LTD AND OTHERS v. LIVASIRI & CO (A FIRM) AND OTHERS \\xa0'),\n",
       " ('Final Appeal (Civil)',\n",
       "  '2007',\n",
       "  \"\\\\'https://legalref.judiciary.hk/lrs/images/ThemeXP/Epage.gif\\\\'\",\n",
       "  'FACV25/2007',\n",
       "  'https://legalref.judiciary.hk/lrs/common/ju/ju_frame.jsp?DIS=61680',\n",
       "  '(15/07/2008)',\n",
       "  'HEBEI ENTERPRISES LTD AND OTHERS v. LIVASIRI & CO (A FIRM) AND OTHERS \\xa0Reported in :[2008] 5 HKLRD 102; (2008) 11 HKCFAR 321'),\n",
       " ('Final Appeal (Civil)',\n",
       "  '2007',\n",
       "  \"\\\\'https://legalref.judiciary.hk/lrs/images/ThemeXP/Epage.gif\\\\'\",\n",
       "  'FACV26/2007',\n",
       "  'https://legalref.judiciary.hk/lrs/common/ju/ju_frame.jsp?DIS=61367',\n",
       "  '(16/06/2008)',\n",
       "  'PAQUITO LIMA BUTON v. RAINBOW JOY SHIPPING LTD INC \\xa0'),\n",
       " ('Final Appeal (Civil)',\n",
       "  '2007',\n",
       "  \"\\\\'https://legalref.judiciary.hk/lrs/images/ThemeXP/Epage.gif\\\\'\",\n",
       "  'FACV26/2007',\n",
       "  'https://legalref.judiciary.hk/lrs/common/ju/ju_frame.jsp?DIS=60880',\n",
       "  '(28/04/2008)',\n",
       "  'PAQUITO LIMA BUTON v. RAINBOW JOY SHIPPING LTD INC \\xa0Reported in :(2008) 11 HKCFAR 464'),\n",
       " ('Final Appeal (Civil)',\n",
       "  '2007',\n",
       "  \"\\\\'https://legalref.judiciary.hk/lrs/images/ThemeXP/Epage.gif\\\\'\",\n",
       "  'FACV27/2007',\n",
       "  'https://legalref.judiciary.hk/lrs/common/ju/ju_frame.jsp?DIS=67552',\n",
       "  '(14/09/2009)',\n",
       "  'DONALD KOO HOI-YAN v. KAO, LEE & YIP (a firm) \\xa0Reported in :(2009) 12 HKCFAR 904'),\n",
       " ('Final Appeal (Civil)',\n",
       "  '2007',\n",
       "  \"\\\\'https://legalref.judiciary.hk/lrs/images/ThemeXP/ETpage.gif\\\\'\",\n",
       "  'FACV27/2007',\n",
       "  'https://legalref.judiciary.hk/lrs/common/ju/ju_frame.jsp?DIS=66356',\n",
       "  '(25/06/2009)',\n",
       "  'KAO, LEE & YIP (a firm) v. DONALD KOO HOI-YAN AND OTHERS \\xa0Reported in :(2009) 12 HKCFAR 830'),\n",
       " ('Final Appeal (Civil)',\n",
       "  '2007',\n",
       "  \"\\\\'https://legalref.judiciary.hk/lrs/images/ThemeXP/Epage.gif\\\\'\",\n",
       "  'FACV28/2007',\n",
       "  'https://legalref.judiciary.hk/lrs/common/ju/ju_frame.jsp?DIS=60881',\n",
       "  '(28/04/2008)',\n",
       "  'CHINA MAP LTD v. THE COMMISSIONER OF INLAND REVEUNE \\xa0Reported in :(2008) 11 HKCFAR 486'),\n",
       " ('Final Appeal (Civil)',\n",
       "  '2007',\n",
       "  \"\\\\'https://legalref.judiciary.hk/lrs/images/ThemeXP/Epage.gif\\\\'\",\n",
       "  'FACV29/2007',\n",
       "  'https://legalref.judiciary.hk/lrs/common/ju/ju_frame.jsp?DIS=60913',\n",
       "  '(28/04/2008)',\n",
       "  'CHINA NAME LTD v. THE COMMISSIONER OF INLAND REVEUNE \\xa0Reported in :(2008) 11 HKCFAR 486'),\n",
       " ('Final Appeal (Civil)',\n",
       "  '2007',\n",
       "  \"\\\\'https://legalref.judiciary.hk/lrs/images/ThemeXP/Epage.gif\\\\'\",\n",
       "  'FACV30/2007',\n",
       "  'https://legalref.judiciary.hk/lrs/common/ju/ju_frame.jsp?DIS=60914',\n",
       "  '(28/04/2008)',\n",
       "  'CHANCE INVESTMENT LTD v. THE COMMISSIONER OF INLAND REVEUNE \\xa0Reported in :(2008) 11 HKCFAR 486'),\n",
       " ('Final Appeal (Civil)',\n",
       "  '2007',\n",
       "  \"\\\\'https://legalref.judiciary.hk/lrs/images/ThemeXP/Epage.gif\\\\'\",\n",
       "  'FACV31/2007',\n",
       "  'https://legalref.judiciary.hk/lrs/common/ju/ju_frame.jsp?DIS=60915',\n",
       "  '(28/04/2008)',\n",
       "  'COMEBRIGHT DEVELOPMENT LTD v. THE COMMISSIONER OF INLAND REVEUNE \\xa0Reported in :(2008) 11 HKCFAR 486'),\n",
       " ('Final Appeal (Civil)',\n",
       "  '2007',\n",
       "  \"\\\\'https://legalref.judiciary.hk/lrs/images/ThemeXP/Epage.gif\\\\'\",\n",
       "  'FACV32/2007',\n",
       "  'https://legalref.judiciary.hk/lrs/common/ju/ju_frame.jsp?DIS=62500',\n",
       "  '(08/09/2008)',\n",
       "  'LUO XING JUAN ANGELA v. THE ESTATE OF HUI SHUI SEE, WILLY, DECEASED AND OTHERS \\xa0'),\n",
       " ('Final Appeal (Civil)',\n",
       "  '2007',\n",
       "  \"\\\\'https://legalref.judiciary.hk/lrs/images/ThemeXP/Epage.gif\\\\'\",\n",
       "  'FACV32/2007',\n",
       "  'https://legalref.judiciary.hk/lrs/common/ju/ju_frame.jsp?DIS=61366',\n",
       "  '(16/06/2008)',\n",
       "  'LUO XING JUAN ANGELA v. THE ESTATE OF HUI SHUI SEE, WILLY DECEASED AND OTHERS \\xa0Reported in :(2009) 12 HKCFAR 1'),\n",
       " ('Final Appeal (Civil)',\n",
       "  '2007',\n",
       "  \"\\\\'https://legalref.judiciary.hk/lrs/images/ThemeXP/Epage.gif\\\\'\",\n",
       "  'FACV33/2007',\n",
       "  'https://legalref.judiciary.hk/lrs/common/ju/ju_frame.jsp?DIS=63056',\n",
       "  '(29/10/2008)',\n",
       "  'KAN KAM CHO AND ANOTHER v. KAN CHIU NAM RAYMOND AND ANOTHER \\xa0Reported in :(2008) 11 HKCFAR 538'),\n",
       " ('Final Appeal (Civil)',\n",
       "  '2007',\n",
       "  \"\\\\'https://legalref.judiciary.hk/lrs/images/ThemeXP/Epage.gif\\\\'\",\n",
       "  'FACV34/2007',\n",
       "  'https://legalref.judiciary.hk/lrs/common/ju/ju_frame.jsp?DIS=65760',\n",
       "  '(14/05/2009)',\n",
       "  'CHEUNG PUI YUEN AND OTHERS v. WORLDCUP INVESTMENTS INC. AND OTHERS \\xa0'),\n",
       " ('Final Appeal (Civil)',\n",
       "  '2007',\n",
       "  \"\\\\'https://legalref.judiciary.hk/lrs/images/ThemeXP/Epage.gif\\\\'\",\n",
       "  'FACV34/2007',\n",
       "  'https://legalref.judiciary.hk/lrs/common/ju/ju_frame.jsp?DIS=63055',\n",
       "  '(29/10/2008)',\n",
       "  'CHEUNG PUI YUEN AND OTHERS v. WORLDCUP INVESTMENTS INC. AND OTHERS \\xa0Reported in :(2009) 12 HKCFAR 31'),\n",
       " ('Final Appeal (Civil)',\n",
       "  '2006',\n",
       "  \"\\\\'https://legalref.judiciary.hk/lrs/images/ThemeXP/Epage.gif\\\\'\",\n",
       "  'FACV1/2006',\n",
       "  'https://legalref.judiciary.hk/lrs/common/ju/ju_frame.jsp?DIS=52514',\n",
       "  '(23/05/2006)',\n",
       "  'CATHAY PACIFIC AIRWAYS LTD v. WONG SAU LAI \\xa0Reported in :[2006] 2 HKLRD 586; (2006) 9 HKCFAR 371'),\n",
       " ('Final Appeal (Civil)',\n",
       "  '2006',\n",
       "  \"\\\\'https://legalref.judiciary.hk/lrs/images/ThemeXP/Epage.gif\\\\'\",\n",
       "  'FACV2/2006',\n",
       "  'https://legalref.judiciary.hk/lrs/common/ju/ju_frame.jsp?DIS=53245',\n",
       "  '(13/07/2006)',\n",
       "  'THE GRANDE PROPERTIES MANAGEMENT LTD v. SUN WAH ORNAMENT MANUFACTORY LTD \\xa0Reported in :[2006] 3 HKLRD 473; (2006) 9 HKCFAR 462'),\n",
       " ('Final Appeal (Civil)',\n",
       "  '2006',\n",
       "  \"\\\\'https://legalref.judiciary.hk/lrs/images/ThemeXP/Epage.gif\\\\'\",\n",
       "  'FACV3/2006',\n",
       "  'https://legalref.judiciary.hk/lrs/common/ju/ju_frame.jsp?DIS=56805',\n",
       "  '(20/04/2007)',\n",
       "  'MARINER INTERNATIONAL HOTELS LTD AND ANOTHER v. ATLAS LTD AND ANOTHER \\xa0Reported in :[2007] 4 HKLRD 194; (2007) 10 HKCFAR 246'),\n",
       " ('Final Appeal (Civil)',\n",
       "  '2006',\n",
       "  \"\\\\'https://legalref.judiciary.hk/lrs/images/ThemeXP/Epage.gif\\\\'\",\n",
       "  'FACV3/2006',\n",
       "  'https://legalref.judiciary.hk/lrs/common/ju/ju_frame.jsp?DIS=62804',\n",
       "  '(09/08/2008)',\n",
       "  'MARINER INTERNATIONAL HOTELS LTD AND ANOTHER v. ATLAS LTD AND ANOTHER \\xa0Reported in :(2008) 11 HKCFAR 563'),\n",
       " ('Final Appeal (Civil)',\n",
       "  '2006',\n",
       "  \"\\\\'https://legalref.judiciary.hk/lrs/images/ThemeXP/Epage.gif\\\\'\",\n",
       "  'FACV3/2006',\n",
       "  'https://legalref.judiciary.hk/lrs/common/ju/ju_frame.jsp?DIS=55945',\n",
       "  '(05/02/2007)',\n",
       "  'MARINER INTERNATIONAL HOTELS LTD AND ANOTHER v. ATLAS LTD AND ANOTHER \\xa0Reported in :[2007] 1 HKLRD 413; (2007) 10 HKCFAR 1'),\n",
       " ('Final Appeal (Civil)',\n",
       "  '2006',\n",
       "  \"\\\\'https://legalref.judiciary.hk/lrs/images/ThemeXP/Epage.gif\\\\'\",\n",
       "  'FACV5/2006',\n",
       "  'https://legalref.judiciary.hk/lrs/common/ju/ju_frame.jsp?DIS=56119',\n",
       "  '(16/02/2007)',\n",
       "  'MAN PING NAM AND ANOTHER v. MAN FONG HANG \\xa0Reported in :[2007] 1 HKLRD 763; (2007) 10 HKCFAR 140'),\n",
       " ('Final Appeal (Civil)',\n",
       "  '2006',\n",
       "  \"\\\\'https://legalref.judiciary.hk/lrs/images/ThemeXP/Epage.gif\\\\'\",\n",
       "  'FACV5/2006',\n",
       "  'https://legalref.judiciary.hk/lrs/common/ju/ju_frame.jsp?DIS=54853',\n",
       "  '(27/10/2006)',\n",
       "  'MAN PING NAM AND ANOTHER v. MAN FONG HANG \\xa0Reported in :[2006] 4 HKLRD 484; (2006) 9 HKCFAR 674'),\n",
       " ('Final Appeal (Civil)',\n",
       "  '2006',\n",
       "  \"\\\\'https://legalref.judiciary.hk/lrs/images/ThemeXP/Epage.gif\\\\'\",\n",
       "  'FACV6/2006',\n",
       "  'https://legalref.judiciary.hk/lrs/common/ju/ju_frame.jsp?DIS=55334',\n",
       "  '(08/12/2006)',\n",
       "  'THE WORLD FOOD FAIR LTD AND ANOTHER v. HONG KONG ISLAND DEVELOPMENT LTD \\xa0Reported in :[2007] 1 HKLRD 498; (2006) 9 HKCFAR 735'),\n",
       " ('Final Appeal (Civil)',\n",
       "  '2006',\n",
       "  \"\\\\'https://legalref.judiciary.hk/lrs/images/ThemeXP/ETpage.gif\\\\'\",\n",
       "  'FACV7/2006',\n",
       "  'https://legalref.judiciary.hk/lrs/common/ju/ju_frame.jsp?DIS=53333',\n",
       "  '(20/07/2006)',\n",
       "  'THE OFFICIAL RECEIVER AND TRUSTEE IN BANKRUPTCY OF CHAN WING HING, a bankrupt v. CHAN WING HING \\xa0Reported in :[2006] 3 HKLRD 687; (2006) 9 HKCFAR 545'),\n",
       " ('Final Appeal (Civil)',\n",
       "  '2006',\n",
       "  \"\\\\'https://legalref.judiciary.hk/lrs/images/ThemeXP/ETpage.gif\\\\'\",\n",
       "  'FACV8/2006',\n",
       "  'https://legalref.judiciary.hk/lrs/common/ju/ju_frame.jsp?DIS=53334',\n",
       "  '(20/07/2006)',\n",
       "  'THE OFFICIAL RECEIVER AND TRUSTEE IN BANKRUPTCY OF LIN HAI SAN, a bankrupt v. LIN HAI SAN \\xa0Reported in :[2006] 3 HKLRD 687; (2006) 9 HKCFAR 545'),\n",
       " ('Final Appeal (Civil)',\n",
       "  '2006',\n",
       "  \"\\\\'https://legalref.judiciary.hk/lrs/images/ThemeXP/Epage.gif\\\\'\",\n",
       "  'FACV9/2006',\n",
       "  'https://legalref.judiciary.hk/lrs/common/ju/ju_frame.jsp?DIS=56272',\n",
       "  '(09/03/2007)',\n",
       "  'SIEGFRIED ADALBERT UNRUH v. HANS-JOERG SEEBERGER AND ANOTHER \\xa0'),\n",
       " ('Final Appeal (Civil)',\n",
       "  '2006',\n",
       "  \"\\\\'https://legalref.judiciary.hk/lrs/images/ThemeXP/ETpage.gif\\\\'\",\n",
       "  'FACV9/2006',\n",
       "  'https://legalref.judiciary.hk/lrs/common/ju/ju_frame.jsp?DIS=56020',\n",
       "  '(09/02/2007)',\n",
       "  'SIEGFRIED ADALBERT UNRUH v. HANS-JOERG SEEBERGER AND ANOTHER \\xa0Reported in :[2007] 2 HKLRD 414; (2007) 10 HKCFAR 31'),\n",
       " ('Final Appeal (Civil)',\n",
       "  '2006',\n",
       "  \"\\\\'https://legalref.judiciary.hk/lrs/images/ThemeXP/Epage.gif\\\\'\",\n",
       "  'FACV10/2006',\n",
       "  'https://legalref.judiciary.hk/lrs/common/ju/ju_frame.jsp?DIS=56273',\n",
       "  '(09/03/2007)',\n",
       "  'SIEGFRIED ADALBERT UNRUH v. HANS-JOERG SEEBERGER AND ANOTHER \\xa0'),\n",
       " ('Final Appeal (Civil)',\n",
       "  '2006',\n",
       "  \"\\\\'https://legalref.judiciary.hk/lrs/images/ThemeXP/ETpage.gif\\\\'\",\n",
       "  'FACV10/2006',\n",
       "  'https://legalref.judiciary.hk/lrs/common/ju/ju_frame.jsp?DIS=56021',\n",
       "  '(09/02/2007)',\n",
       "  'SIEGFRIED ADALBERT UNRUH v. HANS-JOERG SEEBERGER AND ANOTHER \\xa0Reported in :[2007] 2 HKLRD 414; (2007) 10 HKCFAR 31'),\n",
       " ('Final Appeal (Civil)',\n",
       "  '2006',\n",
       "  \"\\\\'https://legalref.judiciary.hk/lrs/images/ThemeXP/Epage.gif\\\\'\",\n",
       "  'FACV11/2006',\n",
       "  'https://legalref.judiciary.hk/lrs/common/ju/ju_frame.jsp?DIS=56531',\n",
       "  '(29/03/2007)',\n",
       "  'KIM ENG SECURITIES (HONG KONG) LTD v. COMMISSIONER OF INLAND REVENUE \\xa0Reported in :[2007] 2 HKLRD 117; (2007) 10 HKCFAR 213'),\n",
       " ('Final Appeal (Civil)',\n",
       "  '2006',\n",
       "  \"\\\\'https://legalref.judiciary.hk/lrs/images/ThemeXP/ETpage.gif\\\\'\",\n",
       "  'FACV12/2006',\n",
       "  'https://legalref.judiciary.hk/lrs/common/ju/ju_frame.jsp?DIS=53214',\n",
       "  '(12/07/2006)',\n",
       "  'KOO SZE YIU AND ANOTHER v. CHIEF EXECUTIVE OF THE HKSAR \\xa0Reported in :[2006] 3 HKLRD 455; (2006) 9 HKCFAR 441'),\n",
       " ('Final Appeal (Civil)',\n",
       "  '2006',\n",
       "  \"\\\\'https://legalref.judiciary.hk/lrs/images/ThemeXP/ETpage.gif\\\\'\",\n",
       "  'FACV13/2006',\n",
       "  'https://legalref.judiciary.hk/lrs/common/ju/ju_frame.jsp?DIS=53215',\n",
       "  '(12/07/2006)',\n",
       "  'KOO SZE YIU AND ANOTHER v. CHIEF EXECUTIVE OF THE HKSAR \\xa0Reported in :[2006] 3 HKLRD 455; (2006) 9 HKCFAR 441'),\n",
       " ('Final Appeal (Civil)',\n",
       "  '2006',\n",
       "  \"\\\\'https://legalref.judiciary.hk/lrs/images/ThemeXP/Epage.gif\\\\'\",\n",
       "  'FACV14/2006',\n",
       "  'https://legalref.judiciary.hk/lrs/common/ju/ju_frame.jsp?DIS=56299',\n",
       "  '(13/03/2007)',\n",
       "  'POON CHAU NAM v. YIM SIU CHEUNG t/a YAT CHEUNG AIRCONDITIONING & ELECTRIC CO \\xa0Reported in :[2007] 1 HKLRD 951; (2007) 10 HKCFAR 156'),\n",
       " ('Final Appeal (Civil)',\n",
       "  '2006',\n",
       "  \"\\\\'https://legalref.judiciary.hk/lrs/images/ThemeXP/Epage.gif\\\\'\",\n",
       "  'FACV15/2006',\n",
       "  'https://legalref.judiciary.hk/lrs/common/ju/ju_frame.jsp?DIS=56532',\n",
       "  '(29/03/2007)',\n",
       "  'ZETA ESTATES LTD v. COMMISSIONER OF INLAND REVENUE \\xa0Reported in :[2007] 2 HKLRD 102; (2007) 10 HKCFAR 196'),\n",
       " ('Final Appeal (Civil)',\n",
       "  '2006',\n",
       "  \"\\\\'https://legalref.judiciary.hk/lrs/images/ThemeXP/Epage.gif\\\\'\",\n",
       "  'FACV16/2006',\n",
       "  'https://legalref.judiciary.hk/lrs/common/ju/ju_frame.jsp?DIS=57232',\n",
       "  '(31/05/2007)',\n",
       "  'THE INCORPORATED OWNERS OF SAN PO KONG MANSION v. SHINE EMPIRE LTD \\xa0Reported in :(2007) 10 HKCFAR 588'),\n",
       " ('Final Appeal (Civil)',\n",
       "  '2006',\n",
       "  \"\\\\'https://legalref.judiciary.hk/lrs/images/ThemeXP/Epage.gif\\\\'\",\n",
       "  'FACV17/2006',\n",
       "  'https://legalref.judiciary.hk/lrs/common/ju/ju_frame.jsp?DIS=55403',\n",
       "  '(15/12/2006)',\n",
       "  'THE JOINT & SEVERAL LIQUIDATORS OF KONG WAH HOLDINGS LTD. v. THE GRANDE HOLDINGS LTD. AND OTHERS \\xa0Reported in :[2007] 1 HKLRD 116; (2006) 9 HKCFAR 766'),\n",
       " ('Final Appeal (Civil)',\n",
       "  '2006',\n",
       "  \"\\\\'https://legalref.judiciary.hk/lrs/images/ThemeXP/Epage.gif\\\\'\",\n",
       "  'FACV18/2006',\n",
       "  'https://legalref.judiciary.hk/lrs/common/ju/ju_frame.jsp?DIS=55405',\n",
       "  '(15/12/2006)',\n",
       "  'THE JOINT & SEVERAL LIQUIDATORS OF AKAI HOLDINGS LTD. v. THE GRANDE HOLDINGS LTD. AND OTHERS \\xa0Reported in :[2007] 1 HKLRD 116; (2006) 9 HKCFAR 766'),\n",
       " ('Final Appeal (Civil)',\n",
       "  '2006',\n",
       "  \"\\\\'https://legalref.judiciary.hk/lrs/images/ThemeXP/Epage.gif\\\\'\",\n",
       "  'FACV19/2006',\n",
       "  'https://legalref.judiciary.hk/lrs/common/ju/ju_frame.jsp?DIS=58711',\n",
       "  '(05/10/2007)',\n",
       "  'ING BARING SECURITIES (HONG KONG) LTD v. THE COMMISSIONER OF INLAND REVENUE \\xa0Reported in :[2008] 1 HKLRD 412; (2007) 10 HKCFAR 417'),\n",
       " ('Final Appeal (Civil)',\n",
       "  '2006',\n",
       "  \"\\\\'https://legalref.judiciary.hk/lrs/images/ThemeXP/Epage.gif\\\\'\",\n",
       "  'FACV20/2006',\n",
       "  'https://legalref.judiciary.hk/lrs/common/ju/ju_frame.jsp?DIS=56559',\n",
       "  '(30/03/2007)',\n",
       "  'MAK KANG HOI v. HO YUK WAH DAVID \\xa0Reported in :(2007) 10 HKCFAR 552'),\n",
       " ('Final Appeal (Civil)',\n",
       "  '2006',\n",
       "  \"\\\\'https://legalref.judiciary.hk/lrs/images/ThemeXP/Epage.gif\\\\'\",\n",
       "  'FACV21/2006',\n",
       "  'https://legalref.judiciary.hk/lrs/common/ju/ju_frame.jsp?DIS=60925',\n",
       "  '(28/04/2008)',\n",
       "  'STRONG OFFER INVESTMENT LTD v. NYEU TING CHUANG \\xa0'),\n",
       " ('Final Appeal (Civil)',\n",
       "  '2006',\n",
       "  \"\\\\'https://legalref.judiciary.hk/lrs/images/ThemeXP/Epage.gif\\\\'\",\n",
       "  'FACV21/2006',\n",
       "  'https://legalref.judiciary.hk/lrs/common/ju/ju_frame.jsp?DIS=63825',\n",
       "  '(06/01/2009)',\n",
       "  'STRONG OFFER INVESTMENT LTD v. NYEU TING CHUANG \\xa0'),\n",
       " ('Final Appeal (Civil)',\n",
       "  '2006',\n",
       "  \"\\\\'https://legalref.judiciary.hk/lrs/images/ThemeXP/Epage.gif\\\\'\",\n",
       "  'FACV21/2006',\n",
       "  'https://legalref.judiciary.hk/lrs/common/ju/ju_frame.jsp?DIS=56558',\n",
       "  '(30/03/2007)',\n",
       "  'STRONG OFFER INVESTMENT LTD (In Liquidation) v. NYEU TING CHUANG \\xa0Reported in :(2007) 10 HKCFAR 529'),\n",
       " ('Final Appeal (Civil)',\n",
       "  '2006',\n",
       "  \"\\\\'https://legalref.judiciary.hk/lrs/images/ThemeXP/Epage.gif\\\\'\",\n",
       "  'FACV22/2006',\n",
       "  'https://legalref.judiciary.hk/lrs/common/ju/ju_frame.jsp?DIS=57074',\n",
       "  '(16/05/2007)',\n",
       "  'WORLD FUEL SERVICES (SINGAPORE) PTE LTD v. FLORENS CONTAINER INC \\xa0Reported in :[2007] 2 HKLRD 507; (2007) 10 HKCFAR 256'),\n",
       " ('Final Appeal (Civil)',\n",
       "  '2006',\n",
       "  \"\\\\'https://legalref.judiciary.hk/lrs/images/ThemeXP/Epage.gif\\\\'\",\n",
       "  'FACV22/2006',\n",
       "  'https://legalref.judiciary.hk/lrs/common/ju/ju_frame.jsp?DIS=56837',\n",
       "  '(24/04/2007)',\n",
       "  'WORLD FUEL SERVICES (SINGAPORE) PTE LTD v. FLORENS CONTAINER INC. \\xa0Reported in :[2007] 2 HKLRD 376; (2007) 10 HKCFAR 252'),\n",
       " ('Final Appeal (Civil)',\n",
       "  '2006',\n",
       "  \"\\\\'https://legalref.judiciary.hk/lrs/images/ThemeXP/Epage.gif\\\\'\",\n",
       "  'FACV23/2006',\n",
       "  'https://legalref.judiciary.hk/lrs/common/ju/ju_frame.jsp?DIS=58907',\n",
       "  '(26/10/2007)',\n",
       "  'JERRY CHEN v. WHIRLPOOL (HONG KONG) LTD \\xa0Reported in :(2007) 10 HKCFAR 619'),\n",
       " ('Final Appeal (Civil)',\n",
       "  '2005',\n",
       "  \"\\\\'https://legalref.judiciary.hk/lrs/images/ThemeXP/Epage.gif\\\\'\",\n",
       "  'FACV1/2005',\n",
       "  'https://legalref.judiciary.hk/lrs/common/ju/ju_frame.jsp?DIS=51145',\n",
       "  '(05/01/2006)',\n",
       "  'HO CHOI WAN v. HONG KONG HOUSING AUTHORITY \\xa0'),\n",
       " ('Final Appeal (Civil)',\n",
       "  '2005',\n",
       "  \"\\\\'https://legalref.judiciary.hk/lrs/images/ThemeXP/ETpage.gif\\\\'\",\n",
       "  'FACV1/2005',\n",
       "  'https://legalref.judiciary.hk/lrs/common/ju/ju_frame.jsp?DIS=47032',\n",
       "  '(21/11/2005)',\n",
       "  'HO CHOI WAN v. HONG KONG HOUSING AUTHORITY \\xa0Reported in :[2005] 4 HKLRD 706; (2005) 8 HKCFAR 628'),\n",
       " ('Final Appeal (Civil)',\n",
       "  '2005',\n",
       "  \"\\\\'https://legalref.judiciary.hk/lrs/images/ThemeXP/Epage.gif\\\\'\",\n",
       "  'FACV2/2005',\n",
       "  'https://legalref.judiciary.hk/lrs/common/ju/ju_frame.jsp?DIS=46811',\n",
       "  '(04/11/2005)',\n",
       "  'THOMAS VINCENT v. SOUTH CHINA MORNING POST PUBLISHERS LTD \\xa0Reported in :[2005] 4 HKLRD 258; (2005) 8 HKCFAR 605'),\n",
       " ('Final Appeal (Civil)',\n",
       "  '2005',\n",
       "  \"\\\\'https://legalref.judiciary.hk/lrs/images/ThemeXP/Epage.gif\\\\'\",\n",
       "  'FACV3/2005',\n",
       "  'https://legalref.judiciary.hk/lrs/common/ju/ju_frame.jsp?DIS=50845',\n",
       "  '(08/12/2005)',\n",
       "  'SINO WOOD INVESTMENT LTD v. WONG KAM YIN \\xa0Reported in :[2006] 1 HKLRD 176; (2005) 8 HKCFAR 715'),\n",
       " ('Final Appeal (Civil)',\n",
       "  '2005',\n",
       "  \"\\\\'https://legalref.judiciary.hk/lrs/images/ThemeXP/Epage.gif\\\\'\",\n",
       "  'FACV4/2005',\n",
       "  'https://legalref.judiciary.hk/lrs/common/ju/ju_frame.jsp?DIS=46770',\n",
       "  '(02/11/2005)',\n",
       "  'CAPITAL WELL LTD v. BOND STAR DEVELOPMENT LTD \\xa0Reported in :[2005] 4 HKLRD 363; (2005) 8 HKCFAR 578'),\n",
       " ('Final Appeal (Civil)',\n",
       "  '2005',\n",
       "  \"\\\\'https://legalref.judiciary.hk/lrs/images/ThemeXP/Epage.gif\\\\'\",\n",
       "  'FACV5/2005',\n",
       "  'https://legalref.judiciary.hk/lrs/common/ju/ju_frame.jsp?DIS=51897',\n",
       "  '(15/03/2006)',\n",
       "  'TRIPOLE TRADING LTD AND OTHERS v. PROSPERFIELD VENTURES LTD \\xa0Reported in :[2006] 2 HKLRD 103; (2006) 9 HKCFAR 172'),\n",
       " ('Final Appeal (Civil)',\n",
       "  '2005',\n",
       "  \"\\\\'https://legalref.judiciary.hk/lrs/images/ThemeXP/Epage.gif\\\\'\",\n",
       "  'FACV5/2005',\n",
       "  'https://legalref.judiciary.hk/lrs/common/ju/ju_frame.jsp?DIS=51147',\n",
       "  '(05/01/2006)',\n",
       "  'TRIPOLE TRADING LTD AND OTHERS v. PROSPERFIELD VENTURES LTD \\xa0Reported in :[2006] 1 HKLRD 200; (2006) 9 HKCFAR 1'),\n",
       " ('Final Appeal (Civil)',\n",
       "  '2005',\n",
       "  \"\\\\'https://legalref.judiciary.hk/lrs/images/ThemeXP/Epage.gif\\\\'\",\n",
       "  'FACV6/2005',\n",
       "  'https://legalref.judiciary.hk/lrs/common/ju/ju_frame.jsp?DIS=51898',\n",
       "  '(15/03/2006)',\n",
       "  'DING PENG AND OTHERS v. PANCO INDUSTRIAL HOLDINGS LTD \\xa0Reported in :[2006] 2 HKLRD 103; (2006) 9 HKCFAR 172'),\n",
       " ('Final Appeal (Civil)',\n",
       "  '2005',\n",
       "  \"\\\\'https://legalref.judiciary.hk/lrs/images/ThemeXP/Epage.gif\\\\'\",\n",
       "  'FACV6/2005',\n",
       "  'https://legalref.judiciary.hk/lrs/common/ju/ju_frame.jsp?DIS=51148',\n",
       "  '(05/01/2006)',\n",
       "  'DING PENG AND OTHERS v. PANCO INDUSTRIAL HOLDINGS LTD \\xa0Reported in :[2006] 1 HKLRD 200; (2006) 9 HKCFAR 1'),\n",
       " ('Final Appeal (Civil)',\n",
       "  '2005',\n",
       "  \"\\\\'https://legalref.judiciary.hk/lrs/images/ThemeXP/Epage.gif\\\\'\",\n",
       "  'FACV7/2005',\n",
       "  'https://legalref.judiciary.hk/lrs/common/ju/ju_frame.jsp?DIS=51149',\n",
       "  '(05/01/2006)',\n",
       "  'CHAN TIN SHI v. LI TIN SUNG AND OTHERS \\xa0Reported in :[2006] 1 HKLRD 185; (2006) 9 HKCFAR 29'),\n",
       " ('Final Appeal (Civil)',\n",
       "  '2005',\n",
       "  \"\\\\'https://legalref.judiciary.hk/lrs/images/ThemeXP/Epage.gif\\\\'\",\n",
       "  'FACV8/2005',\n",
       "  'https://legalref.judiciary.hk/lrs/common/ju/ju_frame.jsp?DIS=52113',\n",
       "  '(06/04/2006)',\n",
       "  'SECRETARY FOR JUSTICE v. MICHAEL REID SCOTT \\xa0Reported in :[2006] 2 HKLRD 515; (2006) 9 HKCFAR 221'),\n",
       " ('Final Appeal (Civil)',\n",
       "  '2005',\n",
       "  \"\\\\'https://legalref.judiciary.hk/lrs/images/ThemeXP/Epage.gif\\\\'\",\n",
       "  'FACV8/2005',\n",
       "  'https://legalref.judiciary.hk/lrs/common/ju/ju_frame.jsp?DIS=52787',\n",
       "  '(12/06/2006)',\n",
       "  'SECRETARY FOR JUSTICE v. MICHAEL REID SCOTT \\xa0'),\n",
       " ('Final Appeal (Civil)',\n",
       "  '2005',\n",
       "  \"\\\\'https://legalref.judiciary.hk/lrs/images/ThemeXP/ETpage.gif\\\\'\",\n",
       "  'FACV8/2005',\n",
       "  'https://legalref.judiciary.hk/lrs/common/ju/ju_frame.jsp?DIS=46108',\n",
       "  '(13/07/2005)',\n",
       "  'SECRETARY FOR JUSTICE v. MICHAEL REID SCOTT \\xa0Reported in :[2005] 3 HKLRD 88; (2005) 8 HKCFAR 304'),\n",
       " ('Final Appeal (Civil)',\n",
       "  '2005',\n",
       "  \"\\\\'https://legalref.judiciary.hk/lrs/images/ThemeXP/Epage.gif\\\\'\",\n",
       "  'FACV9/2005',\n",
       "  'https://legalref.judiciary.hk/lrs/common/ju/ju_frame.jsp?DIS=47049',\n",
       "  '(22/11/2005)',\n",
       "  'WONDERYOUTH INDUSTRIES LTD v. CHINA GREAT WALL FINANCE CO \\xa0Reported in :[2006] 1 HKLRD 335; (2005) 8 HKCFAR 689'),\n",
       " ('Final Appeal (Civil)',\n",
       "  '2005',\n",
       "  \"\\\\'https://legalref.judiciary.hk/lrs/images/ThemeXP/Epage.gif\\\\'\",\n",
       "  'FACV10/2005',\n",
       "  'https://legalref.judiciary.hk/lrs/common/ju/ju_frame.jsp?DIS=46181',\n",
       "  '(29/08/2005)',\n",
       "  'LO SIU LAN v. HONG KONG HOUSING AUTHORITY \\xa0'),\n",
       " ('Final Appeal (Civil)',\n",
       "  '2005',\n",
       "  \"\\\\'https://legalref.judiciary.hk/lrs/images/ThemeXP/Epage.gif\\\\'\",\n",
       "  'FACV10/2005',\n",
       "  'https://legalref.judiciary.hk/lrs/common/ju/ju_frame.jsp?DIS=45794',\n",
       "  '(20/07/2005)',\n",
       "  'LO SIU LAN v. HONG KONG HOUSING AUTHORITY \\xa0Reported in :[2005] 3 HKLRD 257; (2005) 8 HKCFAR 363'),\n",
       " ('Final Appeal (Civil)',\n",
       "  '2005',\n",
       "  \"\\\\'https://legalref.judiciary.hk/lrs/images/ThemeXP/Epage.gif\\\\'\",\n",
       "  'FACV11/2005',\n",
       "  'https://legalref.judiciary.hk/lrs/common/ju/ju_frame.jsp?DIS=51220',\n",
       "  '(12/01/2006)',\n",
       "  'NAM CHUN INVESTMENT CO LTD v. THE DIRECTOR OF LANDS \\xa0'),\n",
       " ('Final Appeal (Civil)',\n",
       "  '2005',\n",
       "  \"\\\\'https://legalref.judiciary.hk/lrs/images/ThemeXP/Epage.gif\\\\'\",\n",
       "  'FACV11/2005',\n",
       "  'https://legalref.judiciary.hk/lrs/common/ju/ju_frame.jsp?DIS=56403',\n",
       "  '(19/03/2007)',\n",
       "  'NAM CHUN INVESTMENT CO LTD v. THE DIRECTOR OF LANDS \\xa0Reported in :(2007) 10 HKCFAR 523'),\n",
       " ('Final Appeal (Civil)',\n",
       "  '2005',\n",
       "  \"\\\\'https://legalref.judiciary.hk/lrs/images/ThemeXP/ETpage.gif\\\\'\",\n",
       "  'FACV11/2005',\n",
       "  'https://legalref.judiciary.hk/lrs/common/ju/ju_frame.jsp?DIS=47034',\n",
       "  '(21/11/2005)',\n",
       "  'NAM CHUN INVESTMENT CO LTD v. THE DIRECTOR OF LANDS \\xa0Reported in :[2005] 4 HKLRD 480; (2005) 8 HKCFAR 668'),\n",
       " ('Final Appeal (Civil)',\n",
       "  '2005',\n",
       "  \"\\\\'https://legalref.judiciary.hk/lrs/images/ThemeXP/Epage.gif\\\\'\",\n",
       "  'FACV12/2005',\n",
       "  'https://legalref.judiciary.hk/lrs/common/ju/ju_frame.jsp?DIS=51150',\n",
       "  '(05/01/2006)',\n",
       "  'MOK YUEN FUN AND ANOTHER v. CHINA OVERSEAS GRAND GAIN PROPERTY DEVELOPMENT LTD \\xa0Reported in :[2006] 1 HKLRD 185; (2006) 9 HKCFAR 29'),\n",
       " ('Final Appeal (Civil)',\n",
       "  '2005',\n",
       "  \"\\\\'https://legalref.judiciary.hk/lrs/images/ThemeXP/Epage.gif\\\\'\",\n",
       "  'FACV13/2005',\n",
       "  'https://legalref.judiciary.hk/lrs/common/ju/ju_frame.jsp?DIS=51151',\n",
       "  '(05/01/2006)',\n",
       "  'CHAN SUK YIN AND ANOTHER v. HARVEST GOOD DEVELOPMENT LTD \\xa0Reported in :[2006] 1 HKLRD 185; (2006) 9 HKCFAR 29'),\n",
       " ('Final Appeal (Civil)',\n",
       "  '2005',\n",
       "  \"\\\\'https://legalref.judiciary.hk/lrs/images/ThemeXP/Epage.gif\\\\'\",\n",
       "  'FACV14/2005',\n",
       "  'https://legalref.judiciary.hk/lrs/common/ju/ju_frame.jsp?DIS=51678',\n",
       "  '(27/02/2006)',\n",
       "  'LKK TRANS LTD v. WONG HOI CHUNG \\xa0Reported in :[2006] 1 HKLRD 980; (2006) 9 HKCFAR 103'),\n",
       " ('Final Appeal (Civil)',\n",
       "  '2005',\n",
       "  \"\\\\'https://legalref.judiciary.hk/lrs/images/ThemeXP/Epage.gif\\\\'\",\n",
       "  'FACV16/2005',\n",
       "  'https://legalref.judiciary.hk/lrs/common/ju/ju_frame.jsp?DIS=51954',\n",
       "  '(20/03/2006)',\n",
       "  'KONG WAI TSANG v. HOSPITAL AUTHORITY \\xa0'),\n",
       " ('Final Appeal (Civil)',\n",
       "  '2005',\n",
       "  \"\\\\'https://legalref.judiciary.hk/lrs/images/ThemeXP/Epage.gif\\\\'\",\n",
       "  'FACV17/2005',\n",
       "  'https://legalref.judiciary.hk/lrs/common/ju/ju_frame.jsp?DIS=51684',\n",
       "  '(28/02/2006)',\n",
       "  'LISBETH ENTERPRISES LTD v. MANDY LUK \\xa0Reported in :[2006] 1 HKLRD 1005; (2006) 9 HKCFAR 131'),\n",
       " ('Final Appeal (Civil)',\n",
       "  '2005',\n",
       "  \"\\\\'https://legalref.judiciary.hk/lrs/images/ThemeXP/Epage.gif\\\\'\",\n",
       "  'FACV18/2005',\n",
       "  'https://legalref.judiciary.hk/lrs/common/ju/ju_frame.jsp?DIS=53196',\n",
       "  '(10/07/2006)',\n",
       "  'NEW WORLD DEVELOPMENT CO LTD AND ANOTHER v. SUN HUNG KAI SECURITIES LTD \\xa0Reported in :[2006] 3 HKLRD 345; (2006) 9 HKCFAR 403'),\n",
       " ('Final Appeal (Civil)',\n",
       "  '2005',\n",
       "  \"\\\\'https://legalref.judiciary.hk/lrs/images/ThemeXP/ETpage.gif\\\\'\",\n",
       "  'FACV19/2005',\n",
       "  'https://legalref.judiciary.hk/lrs/common/ju/ju_frame.jsp?DIS=55298',\n",
       "  '(06/12/2006)',\n",
       "  'THE SECRETARY FOR TRANSPORT v. DELIGHT WORLD LTD \\xa0Reported in :[2007] 1 HKLRD 647; (2006) 9 HKCFAR 720'),\n",
       " ('Final Appeal (Civil)',\n",
       "  '2005',\n",
       "  \"\\\\'https://legalref.judiciary.hk/lrs/images/ThemeXP/Epage.gif\\\\'\",\n",
       "  'FACV20/2005',\n",
       "  'https://legalref.judiciary.hk/lrs/common/ju/ju_frame.jsp?DIS=52114',\n",
       "  '(06/04/2006)',\n",
       "  'FAR EAST DRUG (BVI) CO LTD v. FIRST PACIFIC CO LTD \\xa0Reported in :[2006] 2 HKLRD 157; (2006) 9 HKCFAR 224'),\n",
       " ('Final Appeal (Civil)',\n",
       "  '2005',\n",
       "  \"\\\\'https://legalref.judiciary.hk/lrs/images/ThemeXP/Epage.gif\\\\'\",\n",
       "  'FACV21/2005',\n",
       "  'https://legalref.judiciary.hk/lrs/common/ju/ju_frame.jsp?DIS=51152',\n",
       "  '(05/01/2006)',\n",
       "  'HARVEST GOOD DEVELOPMENT LTD v.  CHAN SUK YIN AND ANOTHER \\xa0Reported in :[2006] 1 HKLRD 185; (2006) 9 HKCFAR 29'),\n",
       " ('Final Appeal (Civil)',\n",
       "  '2005',\n",
       "  \"\\\\'https://legalref.judiciary.hk/lrs/images/ThemeXP/ETpage.gif\\\\'\",\n",
       "  'FACV22/2005',\n",
       "  'https://legalref.judiciary.hk/lrs/common/ju/ju_frame.jsp?DIS=52111',\n",
       "  '(06/04/2006)',\n",
       "  'THE STOCK EXCHANGE OF HONG KONG LTD v. NEW WORLD DEVELOPMENT CO LTD AND OTHERS \\xa0Reported in :[2006] 2 HKLRD 518; (2006) 9 HKCFAR 234'),\n",
       " ('Final Appeal (Civil)',\n",
       "  '2005',\n",
       "  \"\\\\'https://legalref.judiciary.hk/lrs/images/ThemeXP/ETpage.gif\\\\'\",\n",
       "  'FACV23/2005',\n",
       "  'https://legalref.judiciary.hk/lrs/common/ju/ju_frame.jsp?DIS=51977',\n",
       "  '(22/03/2006)',\n",
       "  'A SOLICITOR v. THE LAW SOCIETY OF HONG KONG \\xa0Reported in :[2006] 2 HKLRD 116; (2006) 9 HKCFAR 175'),\n",
       " ('Final Appeal (Civil)',\n",
       "  '2005',\n",
       "  \"\\\\'https://legalref.judiciary.hk/lrs/images/ThemeXP/Epage.gif\\\\'\",\n",
       "  'FACV24/2005',\n",
       "  'https://legalref.judiciary.hk/lrs/common/ju/ju_frame.jsp?DIS=57404',\n",
       "  '(13/06/2007)',\n",
       "  'CHAN WAI SUN AND ANOTHER v. LAW SHIU KAI ANDREW \\xa0Reported in :(2007) 10 HKCFAR 601'),\n",
       " ('Final Appeal (Civil)',\n",
       "  '2005',\n",
       "  \"\\\\'https://legalref.judiciary.hk/lrs/images/ThemeXP/Epage.gif\\\\'\",\n",
       "  'FACV25/2005',\n",
       "  'https://legalref.judiciary.hk/lrs/common/ju/ju_frame.jsp?DIS=53195',\n",
       "  '(10/07/2006)',\n",
       "  'MING SHIU CHUNG AND OTHERS v. MING SHIU SUM AND OTHERS \\xa0'),\n",
       " ('Final Appeal (Civil)',\n",
       "  '2005',\n",
       "  \"\\\\'https://legalref.judiciary.hk/lrs/images/ThemeXP/Epage.gif\\\\'\",\n",
       "  'FACV25/2005',\n",
       "  'https://legalref.judiciary.hk/lrs/common/ju/ju_frame.jsp?DIS=52515',\n",
       "  '(23/05/2006)',\n",
       "  'MING SHIU CHUNG AND OTHERS v. MING SHIU SUM AND OTHERS \\xa0Reported in :[2006] 2 HKLRD 831; (2006) 9 HKCFAR 334'),\n",
       " ('Final Appeal (Civil)',\n",
       "  '2005',\n",
       "  \"\\\\'https://legalref.judiciary.hk/lrs/images/ThemeXP/Epage.gif\\\\'\",\n",
       "  'FACV26/2005',\n",
       "  'https://legalref.judiciary.hk/lrs/common/ju/ju_frame.jsp?DIS=54850',\n",
       "  '(27/10/2006)',\n",
       "  'ACTIVE PROFIT LTD v. NISSHO IWAI HONG KONG CORPORATION LTD AND OTHERS \\xa0Reported in :[2006] 4 HKLRD 467; (2006) 9 HKCFAR 653'),\n",
       " ('Final Appeal (Civil)',\n",
       "  '2005',\n",
       "  \"\\\\'https://legalref.judiciary.hk/lrs/images/ThemeXP/Epage.gif\\\\'\",\n",
       "  'FACV27/2005',\n",
       "  'https://legalref.judiciary.hk/lrs/common/ju/ju_frame.jsp?DIS=55404',\n",
       "  '(15/12/2006)',\n",
       "  'ADVERTASIA STREET FURNITURE LTD v. CHINA OUTDOOR MEDIA INVESTMENT (HONG KONG) CO LTD \\xa0Reported in :(2006) 9 HKCFAR 863'),\n",
       " ('Final Appeal (Civil)',\n",
       "  '2005',\n",
       "  \"\\\\'https://legalref.judiciary.hk/lrs/images/ThemeXP/Epage.gif\\\\'\",\n",
       "  'FACV28/2005',\n",
       "  'https://legalref.judiciary.hk/lrs/common/ju/ju_frame.jsp?DIS=53297',\n",
       "  '(17/07/2006)',\n",
       "  'SHIU WING STEEL LTD v. DIRECTOR OF ENVIRONMENTAL PROTECTION \\xa0Reported in :[2006] 3 HKLRD 487; (2006) 9 HKCFAR 478'),\n",
       " ('Final Appeal (Civil)',\n",
       "  '2005',\n",
       "  \"\\\\'https://legalref.judiciary.hk/lrs/images/ThemeXP/Epage.gif\\\\'\",\n",
       "  'FACV28/2005',\n",
       "  'https://legalref.judiciary.hk/lrs/common/ju/ju_frame.jsp?DIS=52351',\n",
       "  '(03/05/2006)',\n",
       "  'SHIU WING STEEL LTD  v. DIRECTOR OF ENVIRONMENTAL PROTECTION \\xa0Reported in :[2006] 3 HKLRD 33; (2006) 9 HKCFAR 303'),\n",
       " ('Final Appeal (Civil)',\n",
       "  '2005',\n",
       "  \"\\\\'https://legalref.judiciary.hk/lrs/images/ThemeXP/Epage.gif\\\\'\",\n",
       "  'FACV29/2005',\n",
       "  'https://legalref.judiciary.hk/lrs/common/ju/ju_frame.jsp?DIS=53028',\n",
       "  '(30/06/2006)',\n",
       "  'LAM SOON TRADEMARK LTD v. COMMISSIONER OF INLAND REVENUE \\xa0Reported in :[2006] 3 HKLRD 132; (2006) 9 HKCFAR 391'),\n",
       " ('Final Appeal (Civil)',\n",
       "  '2005',\n",
       "  \"\\\\'https://legalref.judiciary.hk/lrs/images/ThemeXP/Epage.gif\\\\'\",\n",
       "  'FACV30/2005',\n",
       "  'https://legalref.judiciary.hk/lrs/common/ju/ju_frame.jsp?DIS=55256',\n",
       "  '(01/12/2006)',\n",
       "  'CHENG HO KEE AND OTHERS v. SECRETARY FOR JUSTICE \\xa0Reported in :[2006] 4 HKLRD 782; (2006) 9 HKCFAR 705'),\n",
       " ('Final Appeal (Civil)',\n",
       "  '2014',\n",
       "  \"\\\\'https://legalref.judiciary.hk/lrs/images/ThemeXP/Epage.gif\\\\'\",\n",
       "  'FACV1/2014',\n",
       "  'https://legalref.judiciary.hk/lrs/common/ju/ju_frame.jsp?DIS=96088',\n",
       "  '(05/12/2014)',\n",
       "  'LEUNG KWOK HUNG v. PRESIDENT OF THE LEGISLATIVE COUNCIL OF THE HONG KONG SPECIAL ADMINISTRATIVE REGION \\xa0Reported in :(2014) 17 HKCFAR 841'),\n",
       " ('Final Appeal (Civil)',\n",
       "  '2014',\n",
       "  \"\\\\'https://legalref.judiciary.hk/lrs/images/ThemeXP/Epage.gif\\\\'\",\n",
       "  'FACV1/2014',\n",
       "  'https://legalref.judiciary.hk/lrs/common/ju/ju_frame.jsp?DIS=95053',\n",
       "  '(29/09/2014)',\n",
       "  'LEUNG KWOK HUNG v. THE PRESIDENT OF THE LEGISLATIVE COUNCIL OF THE HONG KONG SPECIAL ADMINISTRATIVE REGION AND ANOTHER \\xa0Reported in :(2014) 17 HKCFAR 689'),\n",
       " ('Final Appeal (Civil)',\n",
       "  '2014',\n",
       "  \"\\\\'https://legalref.judiciary.hk/lrs/images/ThemeXP/Epage.gif\\\\'\",\n",
       "  'FACV2/2014',\n",
       "  'https://legalref.judiciary.hk/lrs/common/ju/ju_frame.jsp?DIS=94873',\n",
       "  '(18/09/2014)',\n",
       "  'GUTIERREZ JOSEPH JAMES, a minor v. COMMISSIONER OF REGISTRATION AND ANOTHER \\xa0Reported in :(2014) 17 HKCFAR 518'),\n",
       " ('Final Appeal (Civil)',\n",
       "  '2014',\n",
       "  \"\\\\'https://legalref.judiciary.hk/lrs/images/ThemeXP/Epage.gif\\\\'\",\n",
       "  'FACV3/2014',\n",
       "  'https://legalref.judiciary.hk/lrs/common/ju/ju_frame.jsp?DIS=95670',\n",
       "  '(11/11/2014)',\n",
       "  'T v. COMMISSIONER OF POLICE \\xa0'),\n",
       " ('Final Appeal (Civil)',\n",
       "  '2014',\n",
       "  \"\\\\'https://legalref.judiciary.hk/lrs/images/ThemeXP/Epage.gif\\\\'\",\n",
       "  'FACV3/2014',\n",
       "  'https://legalref.judiciary.hk/lrs/common/ju/ju_frame.jsp?DIS=94768',\n",
       "  '(10/09/2014)',\n",
       "  'T v. COMMISSIONER OF POLICE \\xa0Reported in :(2014) 17 HKCFAR 593'),\n",
       " ('Final Appeal (Civil)',\n",
       "  '2014',\n",
       "  \"\\\\'https://legalref.judiciary.hk/lrs/images/ThemeXP/Epage.gif\\\\'\",\n",
       "  'FACV4/2014',\n",
       "  'https://legalref.judiciary.hk/lrs/common/ju/ju_frame.jsp?DIS=96164',\n",
       "  '(10/12/2014)',\n",
       "  'LUCK CONTINENT LTD v. CHENG CHEE TOCK THEODORE AND OTHERS \\xa0Reported in :(2014) 17 HKCFAR 863'),\n",
       " ('Final Appeal (Civil)',\n",
       "  '2014',\n",
       "  \"\\\\'https://legalref.judiciary.hk/lrs/images/ThemeXP/Epage.gif\\\\'\",\n",
       "  'FACV5/2014',\n",
       "  'https://legalref.judiciary.hk/lrs/common/ju/ju_frame.jsp?DIS=95603',\n",
       "  '(06/11/2014)',\n",
       "  'SECRETARY FOR JUSTICE v. FLORENCE TSANG CHIU WING AND OTHERS \\xa0Reported in :(2014) 17 HKCFAR 739'),\n",
       " ('Final Appeal (Civil)',\n",
       "  '2014',\n",
       "  \"\\\\'https://legalref.judiciary.hk/lrs/images/ThemeXP/Epage.gif\\\\'\",\n",
       "  'FACV6/2014',\n",
       "  'https://legalref.judiciary.hk/lrs/common/ju/ju_frame.jsp?DIS=95604',\n",
       "  '(06/11/2014)',\n",
       "  'SECRETARY FOR JUSTICE v. FLORENCE TSANG CHIU WING AND OTHERS \\xa0Reported in :(2014) 17 HKCFAR 739'),\n",
       " ('Final Appeal (Civil)',\n",
       "  '2014',\n",
       "  \"\\\\'https://legalref.judiciary.hk/lrs/images/ThemeXP/Epage.gif\\\\'\",\n",
       "  'FACV7/2014',\n",
       "  'https://legalref.judiciary.hk/lrs/common/ju/ju_frame.jsp?DIS=97481',\n",
       "  '(13/03/2015)',\n",
       "  'CHINA FIELD LIMITED v. BUILDING AUTHORITY \\xa0Reported in :(2015) 18 HKCFAR 317'),\n",
       " ('Final Appeal (Civil)',\n",
       "  '2014',\n",
       "  \"\\\\'https://legalref.judiciary.hk/lrs/images/ThemeXP/Epage.gif\\\\'\",\n",
       "  'FACV8/2014',\n",
       "  'https://legalref.judiciary.hk/lrs/common/ju/ju_frame.jsp?DIS=96962',\n",
       "  '(05/02/2015)',\n",
       "  'SIU KAI MING v. LAU SAI HING \\xa0Reported in :(2015) 18 HKCFAR 38'),\n",
       " ('Final Appeal (Civil)',\n",
       "  '2014',\n",
       "  \"\\\\'https://legalref.judiciary.hk/lrs/images/ThemeXP/Epage.gif\\\\'\",\n",
       "  'FACV9/2014',\n",
       "  'https://legalref.judiciary.hk/lrs/common/ju/ju_frame.jsp?DIS=100060',\n",
       "  '(24/08/2015)',\n",
       "  'CHINACHEM CHARITABLE FOUNDATION LTD v. THE SECRETARY FOR JUSTICE AND OTHERS \\xa0Reported in :(2015) 18 HKCFAR 414'),\n",
       " ('Final Appeal (Civil)',\n",
       "  '2014',\n",
       "  \"\\\\'https://legalref.judiciary.hk/lrs/images/ThemeXP/Epage.gif\\\\'\",\n",
       "  'FACV9/2014',\n",
       "  'https://legalref.judiciary.hk/lrs/common/ju/ju_frame.jsp?DIS=98447',\n",
       "  '(18/05/2015)',\n",
       "  'CHINACHEM CHARITABLE FOUNDATION LTD v. THE SECRETARY FOR JUSTICE & OTHERS \\xa0Reported in :(2015) 18 HKCFAR 169'),\n",
       " ('Final Appeal (Civil)',\n",
       "  '2014',\n",
       "  \"\\\\'https://legalref.judiciary.hk/lrs/images/ThemeXP/Epage.gif\\\\'\",\n",
       "  'FACV10/2014',\n",
       "  'https://legalref.judiciary.hk/lrs/common/ju/ju_frame.jsp?DIS=99307',\n",
       "  '(07/07/2015)',\n",
       "  'MIMI KAR KEE WONG HUNG v. RAYMOND KIN SANG HUNG \\xa0'),\n",
       " ('Final Appeal (Civil)',\n",
       "  '2014',\n",
       "  \"\\\\'https://legalref.judiciary.hk/lrs/images/ThemeXP/Epage.gif\\\\'\",\n",
       "  'FACV10/2014',\n",
       "  'https://legalref.judiciary.hk/lrs/common/ju/ju_frame.jsp?DIS=98449',\n",
       "  '(18/05/2015)',\n",
       "  'RAYMOND KIN SANG HUNG v. MIMI KAR KEE WONG HUNG (also known as MIMI KAR GEE WONG HUNG) \\xa0Reported in :(2015) 18 HKCFAR 210'),\n",
       " ('Final Appeal (Civil)',\n",
       "  '2014',\n",
       "  \"\\\\'https://legalref.judiciary.hk/lrs/images/ThemeXP/Epage.gif\\\\'\",\n",
       "  'FACV11/2014',\n",
       "  'https://legalref.judiciary.hk/lrs/common/ju/ju_frame.jsp?DIS=99317',\n",
       "  '(07/07/2015)',\n",
       "  'MIMI KAR KEE WONG HUNG v. RAYMOND KIN SANG HUNG \\xa0'),\n",
       " ('Final Appeal (Civil)',\n",
       "  '2014',\n",
       "  \"\\\\'https://legalref.judiciary.hk/lrs/images/ThemeXP/Epage.gif\\\\'\",\n",
       "  'FACV11/2014',\n",
       "  'https://legalref.judiciary.hk/lrs/common/ju/ju_frame.jsp?DIS=98450',\n",
       "  '(18/05/2015)',\n",
       "  'MIMI KAR KEE WONG HUNG (also known as MIMI KAR GEE WONG HUNG) v. RAYMOND KIN SANG HUNG \\xa0Reported in :(2015) 18 HKCFAR 210'),\n",
       " ('Final Appeal (Civil)',\n",
       "  '2014',\n",
       "  \"\\\\'https://legalref.judiciary.hk/lrs/images/ThemeXP/Epage.gif\\\\'\",\n",
       "  'FACV12/2014',\n",
       "  'https://legalref.judiciary.hk/lrs/common/ju/ju_frame.jsp?DIS=98448',\n",
       "  '(18/05/2015)',\n",
       "  'DE MONSA INVESTMENTS LTD v. RICHLY BRIGHT INTERNATIONAL LTD, 823 INVESTMENT LTD \\xa0Reported in :(2015) 18 HKCFAR 232'),\n",
       " ('Final Appeal (Civil)',\n",
       "  '2008',\n",
       "  \"\\\\'https://legalref.judiciary.hk/lrs/images/ThemeXP/Epage.gif\\\\'\",\n",
       "  'FACV1/2008',\n",
       "  'https://legalref.judiciary.hk/lrs/common/ju/ju_frame.jsp?DIS=63530',\n",
       "  '(05/12/2008)',\n",
       "  'KUNG MING TAK TONG CO LTD v. PARK SOLID ENTERPRISES LTD AND ANOTHER \\xa0'),\n",
       " ('Final Appeal (Civil)',\n",
       "  '2008',\n",
       "  \"\\\\'https://legalref.judiciary.hk/lrs/images/ThemeXP/Epage.gif\\\\'\",\n",
       "  'FACV1/2008',\n",
       "  'https://legalref.judiciary.hk/lrs/common/ju/ju_frame.jsp?DIS=62498',\n",
       "  '(08/09/2008)',\n",
       "  'KUNG MING TAK TONG CO LTD v. PARK SOLID ENTERPRISES LTD AND ANOTHER \\xa0Reported in :[2008] 5 HKLRD 441; (2008) 11 HKCFAR 403'),\n",
       " ('Final Appeal (Civil)',\n",
       "  '2008',\n",
       "  \"\\\\'https://legalref.judiciary.hk/lrs/images/ThemeXP/Epage.gif\\\\'\",\n",
       "  'FACV3/2008',\n",
       "  'https://legalref.judiciary.hk/lrs/common/ju/ju_frame.jsp?DIS=61266',\n",
       "  '(30/05/2008)',\n",
       "  'KIN YUEN v. THE JOINT & SEVERAL LIQUIDATORS OF KONG WAH HOLDINGS LTD (In Compulsory Liquidation) \\xa0Reported in :(2008) 11 HKCFAR 509'),\n",
       " ('Final Appeal (Civil)',\n",
       "  '2008',\n",
       "  \"\\\\'https://legalref.judiciary.hk/lrs/images/ThemeXP/Epage.gif\\\\'\",\n",
       "  'FACV3/2008',\n",
       "  'https://legalref.judiciary.hk/lrs/common/ju/ju_frame.jsp?DIS=61168',\n",
       "  '(22/05/2008)',\n",
       "  'KIN YUEN  v. THE JOINT & SEVERAL LIQUIDATORS OF KONG WAH HOLDINGS LTD (In Compulsory Liquidation) \\xa0Reported in :(2008) 11 HKCFAR 497'),\n",
       " ('Final Appeal (Civil)',\n",
       "  '2008',\n",
       "  \"\\\\'https://legalref.judiciary.hk/lrs/images/ThemeXP/Epage.gif\\\\'\",\n",
       "  'FACV4/2008',\n",
       "  'https://legalref.judiciary.hk/lrs/common/ju/ju_frame.jsp?DIS=61267',\n",
       "  '(30/05/2008)',\n",
       "  'KIN YUEN v. THE JOINT & SEVERAL LIQUIDATORS OF AKAI HOLDINGS LTD (In Compulsory Liquidation) \\xa0Reported in :(2008) 11 HKCFAR 509'),\n",
       " ('Final Appeal (Civil)',\n",
       "  '2008',\n",
       "  \"\\\\'https://legalref.judiciary.hk/lrs/images/ThemeXP/Epage.gif\\\\'\",\n",
       "  'FACV4/2008',\n",
       "  'https://legalref.judiciary.hk/lrs/common/ju/ju_frame.jsp?DIS=61169',\n",
       "  '(22/05/2008)',\n",
       "  'KIN YUEN v. THE JOINT & SEVERAL LIQUIDATORS OF AKAI HOLDINGS LTD (In Compulsory Liquidation) \\xa0Reported in :(2008) 11 HKCFAR 497'),\n",
       " ('Final Appeal (Civil)',\n",
       "  '2008',\n",
       "  \"\\\\'https://legalref.judiciary.hk/lrs/images/ThemeXP/Epage.gif\\\\'\",\n",
       "  'FACV5/2008',\n",
       "  'https://legalref.judiciary.hk/lrs/common/ju/ju_frame.jsp?DIS=63557',\n",
       "  '(08/12/2008)',\n",
       "  'CHEONG SHING LTD AND ANOTHER v. YU KWAN AND OTHERS \\xa0'),\n",
       " ('Final Appeal (Civil)',\n",
       "  '2008',\n",
       "  \"\\\\'https://legalref.judiciary.hk/lrs/images/ThemeXP/Epage.gif\\\\'\",\n",
       "  'FACV5/2008',\n",
       "  'https://legalref.judiciary.hk/lrs/common/ju/ju_frame.jsp?DIS=63058',\n",
       "  '(29/10/2008)',\n",
       "  'CHEONG SHING LTD AND ANOTHER v. YU KWAN AND OTHERS \\xa0Reported in :(2008) 11 HKCFAR 594'),\n",
       " ('Final Appeal (Civil)',\n",
       "  '2008',\n",
       "  \"\\\\'https://legalref.judiciary.hk/lrs/images/ThemeXP/Epage.gif\\\\'\",\n",
       "  'FACV6/2008',\n",
       "  'https://legalref.judiciary.hk/lrs/common/ju/ju_frame.jsp?DIS=64231',\n",
       "  '(06/02/2009)',\n",
       "  'KARAHA BODAS CO LLC v. PERUSAHAAN PERTAMBANGAN MINYAK DAN GAS BUMI NEGARA \\xa0'),\n",
       " ('Final Appeal (Civil)',\n",
       "  '2008',\n",
       "  \"\\\\'https://legalref.judiciary.hk/lrs/images/ThemeXP/Epage.gif\\\\'\",\n",
       "  'FACV6/2008',\n",
       "  'https://legalref.judiciary.hk/lrs/common/ju/ju_frame.jsp?DIS=63528',\n",
       "  '(05/12/2008)',\n",
       "  'KARAHA BODAS CO LLC v. PERUSAHAAN PERTAMBANGAN MINYAK DAN GAS BUMI NEGARA (otherwise known as PERTAMINA) \\xa0Reported in :(2009) 12 HKCFAR 84'),\n",
       " ('Final Appeal (Civil)',\n",
       "  '2008',\n",
       "  \"\\\\'https://legalref.judiciary.hk/lrs/images/ThemeXP/Epage.gif\\\\'\",\n",
       "  'FACV7/2008',\n",
       "  'https://legalref.judiciary.hk/lrs/common/ju/ju_frame.jsp?DIS=63057',\n",
       "  '(29/10/2008)',\n",
       "  'KAO LEE & YIP (a firm) v. LAU WING AND ANOTHER \\xa0Reported in :(2008) 11 HKCFAR 576'),\n",
       " ('Final Appeal (Civil)',\n",
       "  '2008',\n",
       "  \"\\\\'https://legalref.judiciary.hk/lrs/images/ThemeXP/Epage.gif\\\\'\",\n",
       "  'FACV8/2008',\n",
       "  'https://legalref.judiciary.hk/lrs/common/ju/ju_frame.jsp?DIS=63558',\n",
       "  '(08/12/2008)',\n",
       "  'KONG KAI CHEUNG v. 西安民生集團股份有限公司 AND ANOTHER \\xa0'),\n",
       " ('Final Appeal (Civil)',\n",
       "  '2008',\n",
       "  \"\\\\'https://legalref.judiciary.hk/lrs/images/ThemeXP/Epage.gif\\\\'\",\n",
       "  'FACV8/2008',\n",
       "  'https://legalref.judiciary.hk/lrs/common/ju/ju_frame.jsp?DIS=63059',\n",
       "  '(29/10/2008)',\n",
       "  'KONG KAI CHEUNG v. 西安民生集團股份有限公司 AND ANOTHER \\xa0Reported in :(2008) 11 HKCFAR 594'),\n",
       " ('Final Appeal (Civil)',\n",
       "  '2008',\n",
       "  \"\\\\'https://legalref.judiciary.hk/lrs/images/ThemeXP/ETpage.gif\\\\'\",\n",
       "  'FACV9/2008',\n",
       "  'https://legalref.judiciary.hk/lrs/common/ju/ju_frame.jsp?DIS=65003',\n",
       "  '(26/03/2009)',\n",
       "  'LAM SIU PO v. COMMISSIONER OF POLICE \\xa0Reported in :(2009) 12 HKCFAR 237'),\n",
       " ('Final Appeal (Civil)',\n",
       "  '2008',\n",
       "  \"\\\\'https://legalref.judiciary.hk/lrs/images/ThemeXP/Epage.gif\\\\'\",\n",
       "  'FACV10/2008',\n",
       "  'https://legalref.judiciary.hk/lrs/common/ju/ju_frame.jsp?DIS=67553',\n",
       "  '(14/09/2009)',\n",
       "  'REGENT NATIONAL ENTERPRISES LTD v. GOLDLION PROPERTIES LTD AND OTHERS \\xa0'),\n",
       " ('Final Appeal (Civil)',\n",
       "  '2008',\n",
       "  \"\\\\'https://legalref.judiciary.hk/lrs/images/ThemeXP/Epage.gif\\\\'\",\n",
       "  'FACV10/2008',\n",
       "  'https://legalref.judiciary.hk/lrs/common/ju/ju_frame.jsp?DIS=68167',\n",
       "  '(23/10/2009)',\n",
       "  'GOLDLION PROPERTIES LTD AND OTHERS v. REGENT NATIONAL ENTERPRISES LTD \\xa0'),\n",
       " ('Final Appeal (Civil)',\n",
       "  '2008',\n",
       "  \"\\\\'https://legalref.judiciary.hk/lrs/images/ThemeXP/Epage.gif\\\\'\",\n",
       "  'FACV10/2008',\n",
       "  'https://legalref.judiciary.hk/lrs/common/ju/ju_frame.jsp?DIS=66355',\n",
       "  '(25/06/2009)',\n",
       "  'GOLDLION PROPERTIES LTD AND OTHERS v. REGENT NATIONAL ENTERPRISES LTD \\xa0Reported in :(2009) 12 HKCFAR 512'),\n",
       " ('Final Appeal (Civil)',\n",
       "  '2008',\n",
       "  \"\\\\'https://legalref.judiciary.hk/lrs/images/ThemeXP/Epage.gif\\\\'\",\n",
       "  'FACV11/2008',\n",
       "  'https://legalref.judiciary.hk/lrs/common/ju/ju_frame.jsp?DIS=64578',\n",
       "  '(02/03/2009)',\n",
       "  'FRANK YU YU KAI v. CHAN CHI KEUNG \\xa0Reported in :(2009) 12 HKCFAR 705'),\n",
       " ('Final Appeal (Civil)',\n",
       "  '2008',\n",
       "  \"\\\\'https://legalref.judiciary.hk/lrs/images/ThemeXP/Epage.gif\\\\'\",\n",
       "  'FACV13/2008',\n",
       "  'https://legalref.judiciary.hk/lrs/common/ju/ju_frame.jsp?DIS=65720',\n",
       "  '(12/05/2009)',\n",
       "  'CAREWINS DEVELOPMENT (CHINA) LTD v. BRIGHT FORTUNE SHIPPING LTD \\xa0Reported in :[2009] 3 HKLRD 409; (2009) 12 HKCFAR 185'),\n",
       " ('Final Appeal (Civil)',\n",
       "  '2008',\n",
       "  \"\\\\'https://legalref.judiciary.hk/lrs/images/ThemeXP/Epage.gif\\\\'\",\n",
       "  'FACV14/2008',\n",
       "  'https://legalref.judiciary.hk/lrs/common/ju/ju_frame.jsp?DIS=65723',\n",
       "  '(12/05/2009)',\n",
       "  'CAREWINS DEVELOPMENT (CHINA) LTD v. HECNY SHIPPING LTD \\xa0Reported in :[2009] 3 HKLRD 409; (2009) 12 HKCFAR 185'),\n",
       " ('Final Appeal (Civil)',\n",
       "  '2008',\n",
       "  \"\\\\'https://legalref.judiciary.hk/lrs/images/ThemeXP/ETpage.gif\\\\'\",\n",
       "  'FACV16/2008',\n",
       "  'https://legalref.judiciary.hk/lrs/common/ju/ju_frame.jsp?DIS=73767',\n",
       "  '(12/11/2010)',\n",
       "  'LKW v. DD \\xa0Reported in :(2010) 13 HKCFAR 537'),\n",
       " ('Final Appeal (Civil)',\n",
       "  '2008',\n",
       "  \"\\\\'https://legalref.judiciary.hk/lrs/images/ThemeXP/Epage.gif\\\\'\",\n",
       "  'FACV17/2008',\n",
       "  'https://legalref.judiciary.hk/lrs/common/ju/ju_frame.jsp?DIS=64560',\n",
       "  '(27/02/2009)',\n",
       "  'PECONIC INDUSTRIAL DEVELOPMENT LTD v. LAU KWOK FAI AND OTHERS \\xa0Reported in :[2009] 2 HKLRD 537; (2009) 12 HKCFAR 139'),\n",
       " ('Final Appeal (Civil)',\n",
       "  '2008',\n",
       "  \"\\\\'https://legalref.judiciary.hk/lrs/images/ThemeXP/Epage.gif\\\\'\",\n",
       "  'FACV18/2008',\n",
       "  'https://legalref.judiciary.hk/lrs/common/ju/ju_frame.jsp?DIS=64561',\n",
       "  '(27/02/2009)',\n",
       "  'PECONIC INDUSTRIAL DEVELOPMENT LTD v. LAU KWOK FAI AND OTHERS \\xa0Reported in :[2009] 2 HKLRD 537; (2009) 12 HKCFAR 139'),\n",
       " ('Final Appeal (Civil)',\n",
       "  '2008',\n",
       "  \"\\\\'https://legalref.judiciary.hk/lrs/images/ThemeXP/Epage.gif\\\\'\",\n",
       "  'FACV19/2008',\n",
       "  'https://legalref.judiciary.hk/lrs/common/ju/ju_frame.jsp?DIS=63367',\n",
       "  '(19/11/2008)',\n",
       "  'ANDERSON ASPHALT LTD AND OTHERS v. THE SECRETARY FOR JUSTICE \\xa0'),\n",
       " ('Final Appeal (Civil)',\n",
       "  '2008',\n",
       "  \"\\\\'https://legalref.judiciary.hk/lrs/images/ThemeXP/Epage.gif\\\\'\",\n",
       "  'FACV21/2008',\n",
       "  'https://legalref.judiciary.hk/lrs/common/ju/ju_frame.jsp?DIS=64686',\n",
       "  '(09/03/2009)',\n",
       "  'MING AN INSURANCE CO (HK) LTD v. RITZ-CARLTON LTD (NO. 2) \\xa0Reported in :(2009) 12 HKCFAR 745'),\n",
       " ('Final Appeal (Civil)',\n",
       "  '2008',\n",
       "  \"\\\\'https://legalref.judiciary.hk/lrs/images/ThemeXP/Epage.gif\\\\'\",\n",
       "  'FACV21/2008',\n",
       "  'https://legalref.judiciary.hk/lrs/common/ju/ju_frame.jsp?DIS=63711',\n",
       "  '(19/12/2008)',\n",
       "  'MING AN INSURANCE CO (HK) LTD v. RITZ-CARLTON LTD \\xa0Reported in :(2009) 12 HKCFAR 158'),\n",
       " ('Final Appeal (Civil)',\n",
       "  '2008',\n",
       "  \"\\\\'https://legalref.judiciary.hk/lrs/images/ThemeXP/Epage.gif\\\\'\",\n",
       "  'FACV22/2008',\n",
       "  'https://legalref.judiciary.hk/lrs/common/ju/ju_frame.jsp?DIS=68093',\n",
       "  '(20/10/2009)',\n",
       "  'LEUNG KA LAU AND OTHERS v. THE HOSPITAL AUTHORITY \\xa0Reported in :(2009) 12 HKCFAR 924'),\n",
       " ('Final Appeal (Civil)',\n",
       "  '2008',\n",
       "  \"\\\\'https://legalref.judiciary.hk/lrs/images/ThemeXP/Epage.gif\\\\'\",\n",
       "  'FACV23/2008',\n",
       "  'https://legalref.judiciary.hk/lrs/common/ju/ju_frame.jsp?DIS=68095',\n",
       "  '(20/10/2009)',\n",
       "  'LEUNG KA LAU AND OTHERS v. THE HOSPITAL AUTHORITY \\xa0Reported in :(2009) 12 HKCFAR 924'),\n",
       " ('Final Appeal (Civil)',\n",
       "  '2008',\n",
       "  \"\\\\'https://legalref.judiciary.hk/lrs/images/ThemeXP/Epage.gif\\\\'\",\n",
       "  'FACV24/2008',\n",
       "  'https://legalref.judiciary.hk/lrs/common/ju/ju_frame.jsp?DIS=65721',\n",
       "  '(12/05/2009)',\n",
       "  'ROBERT YIP v. WING FAI CONSTRUCTION CO LTD (IN LIQUIDATION) \\xa0Reported in :(2009) 12 HKCFAR 800'),\n",
       " ('Final Appeal (Civil)',\n",
       "  '2008',\n",
       "  \"\\\\'https://legalref.judiciary.hk/lrs/images/ThemeXP/Epage.gif\\\\'\",\n",
       "  'FACV25/2008',\n",
       "  'https://legalref.judiciary.hk/lrs/common/ju/ju_frame.jsp?DIS=70973',\n",
       "  '(14/05/2010)',\n",
       "  'LAU SUK CHING PEGGY v. MA HING LAM AND OTHERS \\xa0Reported in :[2010] 3 HKLRD 247; (2010) 13 HKCFAR 226'),\n",
       " ('Final Appeal (Civil)',\n",
       "  '2008',\n",
       "  \"\\\\'https://legalref.judiciary.hk/lrs/images/ThemeXP/Epage.gif\\\\'\",\n",
       "  'FACV26/2008',\n",
       "  'https://legalref.judiciary.hk/lrs/common/ju/ju_frame.jsp?DIS=65722',\n",
       "  '(12/05/2009)',\n",
       "  'PING AN SECURITIES LTD v. 中國平安保險(集團)股份有限公司 \\xa0Reported in :(2009) 12 HKCFAR 808'),\n",
       " ('Final Appeal (Civil)',\n",
       "  '2008',\n",
       "  \"\\\\'https://legalref.judiciary.hk/lrs/images/ThemeXP/ETpage.gif\\\\'\",\n",
       "  'FACV27/2008',\n",
       "  'https://legalref.judiciary.hk/lrs/common/ju/ju_frame.jsp?DIS=64317',\n",
       "  '(13/02/2009)',\n",
       "  'PCCW - HKT TELEPHONE LTD AND ANOTHER v. DAVID MATTHEW MCDONALD AITKEN AND ANOTHER \\xa0Reported in :[2009] 2 HKLRD 274; (2009) 12 HKCFAR 114'),\n",
       " ('Final Appeal (Civil)',\n",
       "  '2008',\n",
       "  \"\\\\'https://legalref.judiciary.hk/lrs/images/ThemeXP/ETpage.gif\\\\'\",\n",
       "  'FACV28/2008',\n",
       "  'https://legalref.judiciary.hk/lrs/common/ju/ju_frame.jsp?DIS=64495',\n",
       "  '(24/02/2009)',\n",
       "  'AKAI HOLDINGS LTD (IN COMPULSORY LIQUIDATION) v. ERNST & YOUNG (A HONG KONG FIRM) \\xa0Reported in :(2009) 12 HKCFAR 649'),\n",
       " ('Final Appeal (Civil)',\n",
       "  '2008',\n",
       "  \"\\\\'https://legalref.judiciary.hk/lrs/images/ThemeXP/Epage.gif\\\\'\",\n",
       "  'FACV29/2008',\n",
       "  'https://legalref.judiciary.hk/lrs/common/ju/ju_frame.jsp?DIS=67698',\n",
       "  '(22/09/2009)',\n",
       "  'NGAI LIK ELECTRONICS CO LTD v. THE COMMISSIONER OF INLAND REVENUE \\xa0'),\n",
       " ('Final Appeal (Civil)',\n",
       "  '2008',\n",
       "  \"\\\\'https://legalref.judiciary.hk/lrs/images/ThemeXP/Epage.gif\\\\'\",\n",
       "  'FACV29/2008',\n",
       "  'https://legalref.judiciary.hk/lrs/common/ju/ju_frame.jsp?DIS=66785',\n",
       "  '(24/07/2009)',\n",
       "  'NGAI LIK ELECTRONICS CO LTD v. THE COMMISSIONER OF INLAND REVENUE \\xa0Reported in :[2009] 5 HKLRD 334; (2009) 12 HKCFAR 296'),\n",
       " ('Final Appeal (Civil)',\n",
       "  '2008',\n",
       "  \"\\\\'https://legalref.judiciary.hk/lrs/images/ThemeXP/Epage.gif\\\\'\",\n",
       "  'FACV30/2008',\n",
       "  'https://legalref.judiciary.hk/lrs/common/ju/ju_frame.jsp?DIS=69293',\n",
       "  '(12/01/2010)',\n",
       "  'DAVID JOHN KENNEDY v. KELLY CHENG AND ANOTHER \\xa0'),\n",
       " ('Final Appeal (Civil)',\n",
       "  '2008',\n",
       "  \"\\\\'https://legalref.judiciary.hk/lrs/images/ThemeXP/Epage.gif\\\\'\",\n",
       "  'FACV30/2008',\n",
       "  'https://legalref.judiciary.hk/lrs/common/ju/ju_frame.jsp?DIS=77606',\n",
       "  '(29/07/2011)',\n",
       "  'DAVID JOHN KENNEDY v. KELLY CHENG AND ANOTHER \\xa0Reported in :(2011) 14 HKCFAR 713'),\n",
       " ('Final Appeal (Civil)',\n",
       "  '2008',\n",
       "  \"\\\\'https://legalref.judiciary.hk/lrs/images/ThemeXP/Epage.gif\\\\'\",\n",
       "  'FACV30/2008',\n",
       "  'https://legalref.judiciary.hk/lrs/common/ju/ju_frame.jsp?DIS=83833',\n",
       "  '(12/10/2012)',\n",
       "  'DAVID JOHN KENNEDY v. KELLY CHENG AND ANOTHER \\xa0Reported in :(2012) 15 HKCFAR 657'),\n",
       " ('Final Appeal (Civil)',\n",
       "  '2008',\n",
       "  \"\\\\'https://legalref.judiciary.hk/lrs/images/ThemeXP/Epage.gif\\\\'\",\n",
       "  'FACV30/2008',\n",
       "  'https://legalref.judiciary.hk/lrs/common/ju/ju_frame.jsp?DIS=91593',\n",
       "  '(30/09/2013)',\n",
       "  'DAVID JOHN KENNEDY v. KELLY CHENG AND ANOTHER \\xa0'),\n",
       " ('Final Appeal (Civil)',\n",
       "  '2008',\n",
       "  \"\\\\'https://legalref.judiciary.hk/lrs/images/ThemeXP/ETpage.gif\\\\'\",\n",
       "  'FACV30/2008',\n",
       "  'https://legalref.judiciary.hk/lrs/common/ju/ju_frame.jsp?DIS=68094',\n",
       "  '(20/10/2009)',\n",
       "  'DAVID JOHN KENNEDY v. KELLY CHENG AND ANOTHER \\xa0Reported in :(2009) 12 HKCFAR 601'),\n",
       " ('Final Appeal (Civil)',\n",
       "  '2002',\n",
       "  \"\\\\'https://legalref.judiciary.hk/lrs/images/ThemeXP/Epage.gif\\\\'\",\n",
       "  'FACV1/2002',\n",
       "  'https://legalref.judiciary.hk/lrs/common/ju/ju_frame.jsp?DIS=22740',\n",
       "  '(30/07/2002)',\n",
       "  'COMMON LUCK INVESTMENT LTD. v. DIRECTOR OF LEGAL AID \\xa0Reported in :[2002] 3 HKLRD 81; (2002) 5 HKCFAR 467'),\n",
       " ('Final Appeal (Civil)',\n",
       "  '2002',\n",
       "  \"\\\\'https://legalref.judiciary.hk/lrs/images/ThemeXP/ETpage.gif\\\\'\",\n",
       "  'FACV2/2002',\n",
       "  'https://legalref.judiciary.hk/lrs/common/ju/ju_frame.jsp?DIS=35488',\n",
       "  '(17/01/2003)',\n",
       "  'DIRECTOR OF LANDS v. YIN SHUEN ENTERPRISES LTD. AND ANOTHER \\xa0Reported in :[2003] 2 HKLRD 399; (2003) 6 HKCFAR 1'),\n",
       " ('Final Appeal (Civil)',\n",
       "  '2002',\n",
       "  \"\\\\'https://legalref.judiciary.hk/lrs/images/ThemeXP/ETpage.gif\\\\'\",\n",
       "  'FACV3/2002',\n",
       "  'https://legalref.judiciary.hk/lrs/common/ju/ju_frame.jsp?DIS=35572',\n",
       "  '(17/01/2003)',\n",
       "  'DIRECTOR OF LANDS v. YIN SHUEN ENTERPRISES LTD. AND ANOTHER \\xa0Reported in :[2003] 2 HKLRD 399; (2003) 6 HKCFAR 1'),\n",
       " ('Final Appeal (Civil)',\n",
       "  '2002',\n",
       "  \"\\\\'https://legalref.judiciary.hk/lrs/images/ThemeXP/Epage.gif\\\\'\",\n",
       "  'FACV4/2002',\n",
       "  'https://legalref.judiciary.hk/lrs/common/ju/ju_frame.jsp?DIS=25406',\n",
       "  '(04/12/2002)',\n",
       "  'THE MING AN INSURANCE CO (HK) LTD v. THE RITZ-CARLTON LTD \\xa0Reported in :[2002] 3 HKLRD 844; (2002) 5 HKCFAR 569'),\n",
       " ('Final Appeal (Civil)',\n",
       "  '2002',\n",
       "  \"\\\\'https://legalref.judiciary.hk/lrs/images/ThemeXP/ETpage.gif\\\\'\",\n",
       "  'FACV5/2002',\n",
       "  'https://legalref.judiciary.hk/lrs/common/ju/ju_frame.jsp?DIS=34537',\n",
       "  '(05/03/2003)',\n",
       "  'NEXT MAGAZINE PUBLISHING LTD AND ANOTHER v. MA CHING FAT \\xa0Reported in :[2003] 1 HKLRD 751; (2003) 6 HKCFAR 63'),\n",
       " ('Final Appeal (Civil)',\n",
       "  '2002',\n",
       "  \"\\\\'https://legalref.judiciary.hk/lrs/images/ThemeXP/Epage.gif\\\\'\",\n",
       "  'FACV6/2002',\n",
       "  'https://legalref.judiciary.hk/lrs/common/ju/ju_frame.jsp?DIS=23793',\n",
       "  '(19/12/2002)',\n",
       "  \"CHINA EVERBRIGHT- IHD PACIFIC LTD. v. CH\\\\'NG POH \\xa0Reported in :(2002) 5 HKCFAR 630; [2003] 2 HKLRD 594\"),\n",
       " ('Final Appeal (Civil)',\n",
       "  '2002',\n",
       "  \"\\\\'https://legalref.judiciary.hk/lrs/images/ThemeXP/ETpage.gif\\\\'\",\n",
       "  'FACV7/2002',\n",
       "  'https://legalref.judiciary.hk/lrs/common/ju/ju_frame.jsp?DIS=26022',\n",
       "  '(11/02/2003)',\n",
       "  'PREM SINGH v. DIRECTOR OF IMMIGRATION \\xa0Reported in :(2003) 6 HKCFAR 26; [2003] 1 HKLRD 550'),\n",
       " ('Final Appeal (Civil)',\n",
       "  '2002',\n",
       "  \"\\\\'https://legalref.judiciary.hk/lrs/images/ThemeXP/Epage.gif\\\\'\",\n",
       "  'FACV8/2002',\n",
       "  'https://legalref.judiciary.hk/lrs/common/ju/ju_frame.jsp?DIS=35191',\n",
       "  '(05/12/2002)',\n",
       "  'COMMISSIONER OF CUSTOMS AND EXCISE v. BHAGWAN KANAYALAL CHANDIRAMANI \\xa0Reported in :[2002] 3 HKLRD 825; (2002) 5 HKCFAR 618'),\n",
       " ('Final Appeal (Civil)',\n",
       "  '2002',\n",
       "  \"\\\\'https://legalref.judiciary.hk/lrs/images/ThemeXP/Epage.gif\\\\'\",\n",
       "  'FACV9/2002',\n",
       "  'https://legalref.judiciary.hk/lrs/common/ju/ju_frame.jsp?DIS=40453',\n",
       "  '(15/06/2004)',\n",
       "  'KEEP POINT DEVELOPMENT LTD v. CHAN CHI YIM AND OTHERS \\xa0Reported in :[2005] 1 HKLRD 729; (2004) 7 HKCFAR 246'),\n",
       " ('Final Appeal (Civil)',\n",
       "  '2002',\n",
       "  \"\\\\'https://legalref.judiciary.hk/lrs/images/ThemeXP/Epage.gif\\\\'\",\n",
       "  'FACV9/2002',\n",
       "  'https://legalref.judiciary.hk/lrs/common/ju/ju_frame.jsp?DIS=35195',\n",
       "  '(11/04/2003)',\n",
       "  'KEEP POINT DEVELOPMENT LTD v. CHAN CHI YIM AND OTHERS \\xa0Reported in :[2003] 2 HKLRD 207; (2003) 6 HKCFAR 160'),\n",
       " ('Final Appeal (Civil)',\n",
       "  '2002',\n",
       "  \"\\\\'https://legalref.judiciary.hk/lrs/images/ThemeXP/Epage.gif\\\\'\",\n",
       "  'FACV10/2002',\n",
       "  'https://legalref.judiciary.hk/lrs/common/ju/ju_frame.jsp?DIS=40508',\n",
       "  '(15/06/2004)',\n",
       "  'KEEP POINT DEVELOPMENT LTD v. CHAN CHI YIM AND OTHERS \\xa0Reported in :[2005] 1 HKLRD 729; (2004) 7 HKCFAR 246'),\n",
       " ('Final Appeal (Civil)',\n",
       "  '2002',\n",
       "  \"\\\\'https://legalref.judiciary.hk/lrs/images/ThemeXP/Epage.gif\\\\'\",\n",
       "  'FACV10/2002',\n",
       "  'https://legalref.judiciary.hk/lrs/common/ju/ju_frame.jsp?DIS=37377',\n",
       "  '(11/04/2003)',\n",
       "  'KEEP POINT DEVELOPMENT LTD v. CHAN CHI YIM AND OTHERS \\xa0Reported in :[2003] 2 HKLRD 207; (2003) 6 HKCFAR 160'),\n",
       " ('Final Appeal (Civil)',\n",
       "  '2002',\n",
       "  \"\\\\'https://legalref.judiciary.hk/lrs/images/ThemeXP/Epage.gif\\\\'\",\n",
       "  'FACV11/2002',\n",
       "  'https://legalref.judiciary.hk/lrs/common/ju/ju_frame.jsp?DIS=35192',\n",
       "  '(05/12/2002)',\n",
       "  'MERCK SHARP & DOHME LTD v. THE REGISTRAR OF PATENTS \\xa0Reported in :[2002] 3 HKLRD 812; (2002) 5 HKCFAR 604'),\n",
       " ('Final Appeal (Civil)',\n",
       "  '2002',\n",
       "  \"\\\\'https://legalref.judiciary.hk/lrs/images/ThemeXP/ETpage.gif\\\\'\",\n",
       "  'FACV13/2002',\n",
       "  'https://legalref.judiciary.hk/lrs/common/ju/ju_frame.jsp?DIS=36000',\n",
       "  '(07/07/2003)',\n",
       "  'SWIRE PROPERTIES LTD AND OTHERS v. THE SECRETARY FOR JUSTICE \\xa0Reported in :[2003] 2 HKLRD 986; (2003) 6 HKCFAR 236'),\n",
       " ('Final Appeal (Civil)',\n",
       "  '2002',\n",
       "  \"\\\\'https://legalref.judiciary.hk/lrs/images/ThemeXP/Epage.gif\\\\'\",\n",
       "  'FACV14/2002',\n",
       "  'https://legalref.judiciary.hk/lrs/common/ju/ju_frame.jsp?DIS=24584',\n",
       "  '(05/08/2003)',\n",
       "  'WONG MAN YIN v. RICACORP PROPERTIES LTD AND OTHERS \\xa0Reported in :[2003] 3 HKLRD 75; (2003) 6 HKCFAR 265'),\n",
       " ('Final Appeal (Civil)',\n",
       "  '2002',\n",
       "  \"\\\\'https://legalref.judiciary.hk/lrs/images/ThemeXP/Epage.gif\\\\'\",\n",
       "  'FACV16/2002',\n",
       "  'https://legalref.judiciary.hk/lrs/common/ju/ju_frame.jsp?DIS=35976',\n",
       "  '(27/06/2003)',\n",
       "  'SANFIELD BUILDING CONTRACTORS LTD v. LI KAI CHEONG \\xa0Reported in :[2003] 3 HKLRD 48; (2003) 6 HKCFAR 207'),\n",
       " ('Final Appeal (Civil)',\n",
       "  '2009',\n",
       "  \"\\\\'https://legalref.judiciary.hk/lrs/images/ThemeXP/Epage.gif\\\\'\",\n",
       "  'FACV1/2009',\n",
       "  'https://legalref.judiciary.hk/lrs/common/ju/ju_frame.jsp?DIS=68679',\n",
       "  '(30/11/2009)',\n",
       "  'SHUI ON CREDIT CO LTD v. COMMISSIONER OF INLAND REVENUE \\xa0Reported in :[2010] 1 HKLRD 237; (2009) 12 HKCFAR 392'),\n",
       " ('Final Appeal (Civil)',\n",
       "  '2009',\n",
       "  \"\\\\'https://legalref.judiciary.hk/lrs/images/ThemeXP/Epage.gif\\\\'\",\n",
       "  'FACV2/2009',\n",
       "  'https://legalref.judiciary.hk/lrs/common/ju/ju_frame.jsp?DIS=69167',\n",
       "  '(05/01/2010)',\n",
       "  'CHINA FIELD LTD v. APPEAL TRIBUNAL (BUILDINGS) \\xa0'),\n",
       " ('Final Appeal (Civil)',\n",
       "  '2009',\n",
       "  \"\\\\'https://legalref.judiciary.hk/lrs/images/ThemeXP/Epage.gif\\\\'\",\n",
       "  'FACV2/2009',\n",
       "  'https://legalref.judiciary.hk/lrs/common/ju/ju_frame.jsp?DIS=68220',\n",
       "  '(30/10/2009)',\n",
       "  'CHINA FIELD LTD v. APPEAL TRIBUNAL (BUILDINGS) \\xa0Reported in :[2009] 5 HKLRD 662; (2009) 12 HKCFAR 342'),\n",
       " ('Final Appeal (Civil)',\n",
       "  '2009',\n",
       "  \"\\\\'https://legalref.judiciary.hk/lrs/images/ThemeXP/Epage.gif\\\\'\",\n",
       "  'FACV3/2009',\n",
       "  'https://legalref.judiciary.hk/lrs/common/ju/ju_frame.jsp?DIS=69168',\n",
       "  '(05/01/2010)',\n",
       "  'SUN HONEST DEVELOPMENT LTD v. APPEAL TRIBUNAL (BUILDINGS) \\xa0'),\n",
       " ('Final Appeal (Civil)',\n",
       "  '2009',\n",
       "  \"\\\\'https://legalref.judiciary.hk/lrs/images/ThemeXP/Epage.gif\\\\'\",\n",
       "  'FACV3/2009',\n",
       "  'https://legalref.judiciary.hk/lrs/common/ju/ju_frame.jsp?DIS=68222',\n",
       "  '(30/10/2009)',\n",
       "  'SUN HONEST DEVELOPMENT LTD v. APPEAL TRIBUNAL (BUILDINGS) \\xa0Reported in :[2009] 5 HKLRD 662; (2009) 12 HKCFAR 342'),\n",
       " ('Final Appeal (Civil)',\n",
       "  '2009',\n",
       "  \"\\\\'https://legalref.judiciary.hk/lrs/images/ThemeXP/ETpage.gif\\\\'\",\n",
       "  'FACV4/2009',\n",
       "  'https://legalref.judiciary.hk/lrs/common/ju/ju_frame.jsp?DIS=66784',\n",
       "  '(24/07/2009)',\n",
       "  'LEUNG LAI FONG v. HO SIN YING \\xa0Reported in :(2009) 12 HKCFAR 581'),\n",
       " ('Final Appeal (Civil)',\n",
       "  '2009',\n",
       "  \"\\\\'https://legalref.judiciary.hk/lrs/images/ThemeXP/Epage.gif\\\\'\",\n",
       "  'FACV5/2009',\n",
       "  'https://legalref.judiciary.hk/lrs/common/ju/ju_frame.jsp?DIS=70971',\n",
       "  '(14/05/2010)',\n",
       "  'TRADEPOWER (HOLDINGS) LTD (IN LIQUIDATION) v. TRADEPOWER (HONG KONG) LTD AND OTHERS \\xa0'),\n",
       " ('Final Appeal (Civil)',\n",
       "  '2009',\n",
       "  \"\\\\'https://legalref.judiciary.hk/lrs/images/ThemeXP/Epage.gif\\\\'\",\n",
       "  'FACV5/2009',\n",
       "  'https://legalref.judiciary.hk/lrs/common/ju/ju_frame.jsp?DIS=68680',\n",
       "  '(30/11/2009)',\n",
       "  'TRADEPOWER (HOLDINGS) LTD (IN LIQUIDATION) v. TRADEPOWER (HONG KONG) LTD AND OTHERS \\xa0Reported in :[2010] 1 HKLRD 674; (2009) 12 HKCFAR 417'),\n",
       " ('Final Appeal (Civil)',\n",
       "  '2009',\n",
       "  \"\\\\'https://legalref.judiciary.hk/lrs/images/ThemeXP/Epage.gif\\\\'\",\n",
       "  'FACV8/2009',\n",
       "  'https://legalref.judiciary.hk/lrs/common/ju/ju_frame.jsp?DIS=72570',\n",
       "  '(27/08/2010)',\n",
       "  \"PENNY\\\\'S BAY INVESTMENT CO LTD v. DIRECTOR OF LANDS \\xa0\"),\n",
       " ('Final Appeal (Civil)',\n",
       "  '2009',\n",
       "  \"\\\\'https://legalref.judiciary.hk/lrs/images/ThemeXP/ETpage.gif\\\\'\",\n",
       "  'FACV8/2009',\n",
       "  'https://legalref.judiciary.hk/lrs/common/ju/ju_frame.jsp?DIS=70335',\n",
       "  '(26/03/2010)',\n",
       "  \"PENNY\\\\'S BAY INVESTMENT CO LTD v. DIRECTOR OF LANDS \\xa0Reported in :(2010) 13 HKCFAR 287\"),\n",
       " ('Final Appeal (Civil)',\n",
       "  '2009',\n",
       "  \"\\\\'https://legalref.judiciary.hk/lrs/images/ThemeXP/Epage.gif\\\\'\",\n",
       "  'FACV9/2009',\n",
       "  'https://legalref.judiciary.hk/lrs/common/ju/ju_frame.jsp?DIS=66787',\n",
       "  '(24/07/2009)',\n",
       "  'CHIU HOI PO v. COMMISSIONER OF POLICE \\xa0Reported in :(2009) 12 HKCFAR 597'),\n",
       " ('Final Appeal (Civil)',\n",
       "  '2009',\n",
       "  \"\\\\'https://legalref.judiciary.hk/lrs/images/ThemeXP/ETpage.gif\\\\'\",\n",
       "  'FACV10/2009',\n",
       "  'https://legalref.judiciary.hk/lrs/common/ju/ju_frame.jsp?DIS=68221',\n",
       "  '(30/10/2009)',\n",
       "  'AKAI HOLDINGS LTD (IN COMPULSORY LIQUIDATION) v. ERNST & YOUNG (A HONG KONG FIRM) \\xa0Reported in :[2009] 5 HKLRD 804; (2009) 12 HKCFAR 376'),\n",
       " ('Final Appeal (Civil)',\n",
       "  '2009',\n",
       "  \"\\\\'https://legalref.judiciary.hk/lrs/images/ThemeXP/Epage.gif\\\\'\",\n",
       "  'FACV13/2009',\n",
       "  'https://legalref.judiciary.hk/lrs/common/ju/ju_frame.jsp?DIS=72571',\n",
       "  '(27/08/2010)',\n",
       "  'MEDICAL COUNCIL OF HONG KONG v. HELEN CHAN \\xa0Reported in :(2010) 13 HKCFAR 473'),\n",
       " ('Final Appeal (Civil)',\n",
       "  '2009',\n",
       "  \"\\\\'https://legalref.judiciary.hk/lrs/images/ThemeXP/ETpage.gif\\\\'\",\n",
       "  'FACV13/2009',\n",
       "  'https://legalref.judiciary.hk/lrs/common/ju/ju_frame.jsp?DIS=70972',\n",
       "  '(14/05/2010)',\n",
       "  'MEDICAL COUNCIL OF HONG KONG v. HELEN CHAN \\xa0Reported in :[2010] 3 HKLRD 667; (2010) 13 HKCFAR 248'),\n",
       " ('Final Appeal (Civil)',\n",
       "  '2009',\n",
       "  \"\\\\'https://legalref.judiciary.hk/lrs/images/ThemeXP/Epage.gif\\\\'\",\n",
       "  'FACV14/2009',\n",
       "  'https://legalref.judiciary.hk/lrs/common/ju/ju_frame.jsp?DIS=68644',\n",
       "  '(26/11/2009)',\n",
       "  'ACTIVE BASE LTD v. RODERICK JOHN SUTTON AND OTHERS \\xa0Reported in :(2009) 12 HKCFAR 621'),\n",
       " ('Final Appeal (Civil)',\n",
       "  '2009',\n",
       "  \"\\\\'https://legalref.judiciary.hk/lrs/images/ThemeXP/Epage.gif\\\\'\",\n",
       "  'FACV15/2009',\n",
       "  'https://legalref.judiciary.hk/lrs/common/ju/ju_frame.jsp?DIS=70739',\n",
       "  '(26/04/2010)',\n",
       "  'HONG KONG KAM LAN KOON LTD v. REALRAY INVESTMENTS LTD \\xa0Reported in :[2010] 2 HKLRD 566; (2010) 13 HKCFAR 215'),\n",
       " ('Final Appeal (Civil)',\n",
       "  '2009',\n",
       "  \"\\\\'https://legalref.judiciary.hk/lrs/images/ThemeXP/Epage.gif\\\\'\",\n",
       "  'FACV16/2009',\n",
       "  'https://legalref.judiciary.hk/lrs/common/ju/ju_frame.jsp?DIS=73674',\n",
       "  '(08/11/2010)',\n",
       "  'THANAKHARN KASIKORN THAI CHAMKAT (MAHACHON) also known as KASIKORNBANK PUBLIC CO LTD v. AKAI HOLDINGS LTD (IN LIQUIDATION) \\xa0Reported in :(2010) 13 HKCFAR 479'),\n",
       " ('Final Appeal (Civil)',\n",
       "  '2009',\n",
       "  \"\\\\'https://legalref.judiciary.hk/lrs/images/ThemeXP/Epage.gif\\\\'\",\n",
       "  'FACV16/2009',\n",
       "  'https://legalref.judiciary.hk/lrs/common/ju/ju_frame.jsp?DIS=74887',\n",
       "  '(21/01/2011)',\n",
       "  'THANAKHARN KASIKORN THAI CHAMKAT (MAHACHON) (ALSO KNOWN AS KASIKORNBANK PUBLIC LTD CO) v. AKAI HOLDINGS LTD (IN LIQUIDATION) \\xa0'),\n",
       " ('Final Appeal (Civil)',\n",
       "  '2009',\n",
       "  \"\\\\'https://legalref.judiciary.hk/lrs/images/ThemeXP/Epage.gif\\\\'\",\n",
       "  'FACV16/2009',\n",
       "  'https://legalref.judiciary.hk/lrs/common/ju/ju_frame.jsp?DIS=71523',\n",
       "  '(11/06/2010)',\n",
       "  'THANAKHARN KASIKORN THAI CHAMKAT (MAHACHON) also known as KASIKORNBANK PUBLIC CO LTD v. AKAI HOLDINGS LTD (IN LIQUIDATION) \\xa0Reported in :(2010) 13 HKCFAR 283'),\n",
       " ('Final Appeal (Civil)',\n",
       "  '2009',\n",
       "  \"\\\\'https://legalref.judiciary.hk/lrs/images/ThemeXP/Epage.gif\\\\'\",\n",
       "  'FACV17/2009',\n",
       "  'https://legalref.judiciary.hk/lrs/common/ju/ju_frame.jsp?DIS=75039',\n",
       "  '(01/02/2011)',\n",
       "  'YUNG SHU WU v. VIVIENNE SUNG WU AND OTHERS \\xa0Reported in :(2011) 14 HKCFAR 39'),\n",
       " ('Final Appeal (Civil)',\n",
       "  '2009',\n",
       "  \"\\\\'https://legalref.judiciary.hk/lrs/images/ThemeXP/Epage.gif\\\\'\",\n",
       "  'FACV18/2009',\n",
       "  'https://legalref.judiciary.hk/lrs/common/ju/ju_frame.jsp?DIS=75052',\n",
       "  '(01/02/2011)',\n",
       "  'YUNG SHU WU v. VIVIENNE SUNG WU AND OTHERS \\xa0Reported in :(2011) 14 HKCFAR 39'),\n",
       " ('Final Appeal (Civil)',\n",
       "  '2009',\n",
       "  \"\\\\'https://legalref.judiciary.hk/lrs/images/ThemeXP/Epage.gif\\\\'\",\n",
       "  'FACV19/2009',\n",
       "  'https://legalref.judiciary.hk/lrs/common/ju/ju_frame.jsp?DIS=74889',\n",
       "  '(21/01/2011)',\n",
       "  'LUEN HING FAT COATING & FINISHING FACTORY LTD  v. WAAN CHUEN MING \\xa0Reported in :[2011] 2 HKLRD 223; (2011) 14 HKCFAR 14'),\n",
       " ('Final Appeal (Civil)',\n",
       "  '2009',\n",
       "  \"\\\\'https://legalref.judiciary.hk/lrs/images/ThemeXP/ETpage.gif\\\\'\",\n",
       "  'FACV20/2009',\n",
       "  'https://legalref.judiciary.hk/lrs/common/ju/ju_frame.jsp?DIS=74291',\n",
       "  '(13/12/2010)',\n",
       "  'ML v. YJ \\xa0Reported in :(2010) 13 HKCFAR 794'),\n",
       " ('Final Appeal (Civil)',\n",
       "  '2009',\n",
       "  \"\\\\'https://legalref.judiciary.hk/lrs/images/ThemeXP/ETpage.gif\\\\'\",\n",
       "  'FACV21/2009',\n",
       "  'https://legalref.judiciary.hk/lrs/common/ju/ju_frame.jsp?DIS=73768',\n",
       "  '(12/11/2010)',\n",
       "  'WLK v. TMC \\xa0Reported in :(2010) 13 HKCFAR 618'),\n",
       " ('Final Appeal (Civil)',\n",
       "  '2009',\n",
       "  \"\\\\'https://legalref.judiciary.hk/lrs/images/ThemeXP/Epage.gif\\\\'\",\n",
       "  'FACV22/2009',\n",
       "  'https://legalref.judiciary.hk/lrs/common/ju/ju_frame.jsp?DIS=75040',\n",
       "  '(01/02/2011)',\n",
       "  'FUCHS, WALTER ALFRED HEINZ v. COMMISSIONER OF INLAND REVENUE \\xa0Reported in :(2011) 14 HKCFAR 74'),\n",
       " ('Final Appeal (Civil)',\n",
       "  '2013',\n",
       "  \"\\\\'https://legalref.judiciary.hk/lrs/images/ThemeXP/Epage.gif\\\\'\",\n",
       "  'FACV1/2013',\n",
       "  'https://legalref.judiciary.hk/lrs/common/ju/ju_frame.jsp?DIS=88009',\n",
       "  '(11/07/2013)',\n",
       "  'RE HO CHUN YAN ALBERT \\xa0Reported in :(2013) 16 HKCFAR 735'),\n",
       " ('Final Appeal (Civil)',\n",
       "  '2013',\n",
       "  \"\\\\'https://legalref.judiciary.hk/lrs/images/ThemeXP/Epage.gif\\\\'\",\n",
       "  'FACV2/2013',\n",
       "  'https://legalref.judiciary.hk/lrs/common/ju/ju_frame.jsp?DIS=90670',\n",
       "  '(17/12/2013)',\n",
       "  'KONG YUNMING v. THE DIRECTOR OF SOCIAL WELFARE \\xa0Reported in :(2013) 16 HKCFAR 950'),\n",
       " ('Final Appeal (Civil)',\n",
       "  '2013',\n",
       "  \"\\\\'https://legalref.judiciary.hk/lrs/images/ThemeXP/Epage.gif\\\\'\",\n",
       "  'FACV3/2013',\n",
       "  'https://legalref.judiciary.hk/lrs/common/ju/ju_frame.jsp?DIS=92083',\n",
       "  '(18/03/2014)',\n",
       "  'WISE THINK GLOBAL LTD v. FINANCE WORLDWIDE LTD \\xa0Reported in :(2014) 17 HKCFAR 190'),\n",
       " ('Final Appeal (Civil)',\n",
       "  '2013',\n",
       "  \"\\\\'https://legalref.judiciary.hk/lrs/images/ThemeXP/Epage.gif\\\\'\",\n",
       "  'FACV3/2013',\n",
       "  'https://legalref.judiciary.hk/lrs/common/ju/ju_frame.jsp?DIS=90095',\n",
       "  '(12/11/2013)',\n",
       "  'WISE THINK GLOBAL LTD v. FINANCE WORLDWIDE LTD \\xa0Reported in :(2013) 16 HKCFAR 799'),\n",
       " ('Final Appeal (Civil)',\n",
       "  '2013',\n",
       "  \"\\\\'https://legalref.judiciary.hk/lrs/images/ThemeXP/Epage.gif\\\\'\",\n",
       "  'FACV4/2013',\n",
       "  'https://legalref.judiciary.hk/lrs/common/ju/ju_frame.jsp?DIS=92084',\n",
       "  '(18/03/2014)',\n",
       "  'PONY HK WORLD LTD v. VAND PETRO-CHEMICALS (BVI) CO LTD AND ANOTHER \\xa0'),\n",
       " ('Final Appeal (Civil)',\n",
       "  '2013',\n",
       "  \"\\\\'https://legalref.judiciary.hk/lrs/images/ThemeXP/Epage.gif\\\\'\",\n",
       "  'FACV4/2013',\n",
       "  'https://legalref.judiciary.hk/lrs/common/ju/ju_frame.jsp?DIS=90592',\n",
       "  '(13/12/2013)',\n",
       "  'PONY HK WORLD LTD v. VAND PETRO-CHEMICALS (BVI) CO LTD AND ANOTHER \\xa0Reported in :(2013) 16 HKCFAR 937'),\n",
       " ('Final Appeal (Civil)',\n",
       "  '2013',\n",
       "  \"\\\\'https://legalref.judiciary.hk/lrs/images/ThemeXP/Epage.gif\\\\'\",\n",
       "  'FACV5/2013',\n",
       "  'https://legalref.judiciary.hk/lrs/common/ju/ju_frame.jsp?DIS=97952',\n",
       "  '(15/04/2015)',\n",
       "  'MOULIN GLOBAL EYECARE TRADING LTD (IN LIQUIDATION) (formerly known as MOULIN OPTICAL MANUFACTORY LTD) v. THE COMMISSIONER OF INLAND REVENUE \\xa0'),\n",
       " ('Final Appeal (Civil)',\n",
       "  '2013',\n",
       "  \"\\\\'https://legalref.judiciary.hk/lrs/images/ThemeXP/Epage.gif\\\\'\",\n",
       "  'FACV5/2013',\n",
       "  'https://legalref.judiciary.hk/lrs/common/ju/ju_frame.jsp?DIS=92004',\n",
       "  '(13/03/2014)',\n",
       "  'MOULIN GLOBAL EYECARE TRADING LTD (IN LIQUIDATION) (formerly known as MOULIN OPTICAL MANUFACTORY LTD) v. THE COMMISSIONER OF INLAND REVENUE \\xa0Reported in :(2014) 17 HKCFAR 218'),\n",
       " ('Final Appeal (Civil)',\n",
       "  '2013',\n",
       "  \"\\\\'https://legalref.judiciary.hk/lrs/images/ThemeXP/Epage.gif\\\\'\",\n",
       "  'FACV6/2013',\n",
       "  'https://legalref.judiciary.hk/lrs/common/ju/ju_frame.jsp?DIS=92052',\n",
       "  '(17/03/2014)',\n",
       "  'MGA ENTERTAINMENT INC formerly known as ABC INTERNATIONAL TRADERS INC doing business as MGA ENTERTAINMENT v. TOYS & TRENDS (HONG KONG) LTD  AND OTHERS \\xa0'),\n",
       " ('Final Appeal (Civil)',\n",
       "  '2013',\n",
       "  \"\\\\'https://legalref.judiciary.hk/lrs/images/ThemeXP/Epage.gif\\\\'\",\n",
       "  'FACV6/2013',\n",
       "  'https://legalref.judiciary.hk/lrs/common/ju/ju_frame.jsp?DIS=91373',\n",
       "  '(05/02/2014)',\n",
       "  'MGA ENTERTAINMENT INC formerly known as ABC INTERNATIONAL TRADERS INC doing business as MGA ENTERTAINMENT v. TOYS & TRENDS (HONG KONG) LTD AND OTHERS \\xa0Reported in :(2014) 17 HKCFAR 27'),\n",
       " ('Final Appeal (Civil)',\n",
       "  '2013',\n",
       "  \"\\\\'https://legalref.judiciary.hk/lrs/images/ThemeXP/Epage.gif\\\\'\",\n",
       "  'FACV7/2013',\n",
       "  'https://legalref.judiciary.hk/lrs/common/ju/ju_frame.jsp?DIS=93786',\n",
       "  '(02/07/2014)',\n",
       "  'GA v. DIRECTOR OF IMMIGRATION \\xa0'),\n",
       " ('Final Appeal (Civil)',\n",
       "  '2013',\n",
       "  \"\\\\'https://legalref.judiciary.hk/lrs/images/ThemeXP/Epage.gif\\\\'\",\n",
       "  'FACV7/2013',\n",
       "  'https://legalref.judiciary.hk/lrs/common/ju/ju_frame.jsp?DIS=91534',\n",
       "  '(18/02/2014)',\n",
       "  'GA v. DIRECTOR OF IMMIGRATION \\xa0Reported in :(2014) 17 HKCFAR 60'),\n",
       " ('Final Appeal (Civil)',\n",
       "  '2013',\n",
       "  \"\\\\'https://legalref.judiciary.hk/lrs/images/ThemeXP/Epage.gif\\\\'\",\n",
       "  'FACV8/2013',\n",
       "  'https://legalref.judiciary.hk/lrs/common/ju/ju_frame.jsp?DIS=93790',\n",
       "  '(02/07/2014)',\n",
       "  'PA v. DIRECTOR OF IMMIGRATION \\xa0'),\n",
       " ('Final Appeal (Civil)',\n",
       "  '2013',\n",
       "  \"\\\\'https://legalref.judiciary.hk/lrs/images/ThemeXP/Epage.gif\\\\'\",\n",
       "  'FACV8/2013',\n",
       "  'https://legalref.judiciary.hk/lrs/common/ju/ju_frame.jsp?DIS=91549',\n",
       "  '(18/02/2014)',\n",
       "  'PA v. DIRECTOR OF IMMIGRATION \\xa0Reported in :(2014) 17 HKCFAR 60'),\n",
       " ('Final Appeal (Civil)',\n",
       "  '2013',\n",
       "  \"\\\\'https://legalref.judiciary.hk/lrs/images/ThemeXP/Epage.gif\\\\'\",\n",
       "  'FACV9/2013',\n",
       "  'https://legalref.judiciary.hk/lrs/common/ju/ju_frame.jsp?DIS=93791',\n",
       "  '(02/07/2014)',\n",
       "  'FI v. DIRECTOR OF IMMIGRATION \\xa0'),\n",
       " ('Final Appeal (Civil)',\n",
       "  '2013',\n",
       "  \"\\\\'https://legalref.judiciary.hk/lrs/images/ThemeXP/Epage.gif\\\\'\",\n",
       "  'FACV9/2013',\n",
       "  'https://legalref.judiciary.hk/lrs/common/ju/ju_frame.jsp?DIS=91550',\n",
       "  '(18/02/2014)',\n",
       "  'FI v. DIRECTOR OF IMMIGRATION \\xa0Reported in :(2014) 17 HKCFAR 60'),\n",
       " ('Final Appeal (Civil)',\n",
       "  '2013',\n",
       "  \"\\\\'https://legalref.judiciary.hk/lrs/images/ThemeXP/Epage.gif\\\\'\",\n",
       "  'FACV10/2013',\n",
       "  'https://legalref.judiciary.hk/lrs/common/ju/ju_frame.jsp?DIS=93792',\n",
       "  '(02/07/2014)',\n",
       "  'JA v. DIRECTOR OF IMMIGRATION \\xa0'),\n",
       " ('Final Appeal (Civil)',\n",
       "  '2013',\n",
       "  \"\\\\'https://legalref.judiciary.hk/lrs/images/ThemeXP/Epage.gif\\\\'\",\n",
       "  'FACV10/2013',\n",
       "  'https://legalref.judiciary.hk/lrs/common/ju/ju_frame.jsp?DIS=91551',\n",
       "  '(18/02/2014)',\n",
       "  'JA v. DIRECTOR OF IMMIGRATION \\xa0Reported in :(2014) 17 HKCFAR 60'),\n",
       " ('Final Appeal (Civil)',\n",
       "  '2013',\n",
       "  \"\\\\'https://legalref.judiciary.hk/lrs/images/ThemeXP/Epage.gif\\\\'\",\n",
       "  'FACV11/2013',\n",
       "  'https://legalref.judiciary.hk/lrs/common/ju/ju_frame.jsp?DIS=93168',\n",
       "  '(23/05/2014)',\n",
       "  'Z v. X \\xa0'),\n",
       " ('Final Appeal (Civil)',\n",
       "  '2013',\n",
       "  \"\\\\'https://legalref.judiciary.hk/lrs/images/ThemeXP/Epage.gif\\\\'\",\n",
       "  'FACV13/2013',\n",
       "  'https://legalref.judiciary.hk/lrs/common/ju/ju_frame.jsp?DIS=92012',\n",
       "  '(13/03/2014)',\n",
       "  'HO MAN KONG v. SUPERINTENDENT OF LAI CHI KOK RECEPTION CENTRE AND ANOTHER \\xa0Reported in :(2014) 17 HKCFAR 179'),\n",
       " ('Final Appeal (Civil)',\n",
       "  '2013',\n",
       "  \"\\\\'https://legalref.judiciary.hk/lrs/images/ThemeXP/Epage.gif\\\\'\",\n",
       "  'FACV14/2013',\n",
       "  'https://legalref.judiciary.hk/lrs/common/ju/ju_frame.jsp?DIS=96231',\n",
       "  '(15/12/2014)',\n",
       "  'AVIATION FUEL SUPPLY COMPANY v. COMMISSIONER OF INLAND REVENUE \\xa0Reported in :(2014) 17 HKCFAR 872'),\n",
       " ('Final Appeal (Civil)',\n",
       "  '2013',\n",
       "  \"\\\\'https://legalref.judiciary.hk/lrs/images/ThemeXP/Epage.gif\\\\'\",\n",
       "  'FACV15/2013',\n",
       "  'https://legalref.judiciary.hk/lrs/common/ju/ju_frame.jsp?DIS=92003',\n",
       "  '(13/03/2014)',\n",
       "  'GHULAM RBANI v. SECRETARY FOR JUSTICE for and on behalf of the DIRECTOR OF IMMIGRATION \\xa0Reported in :(2014) 17 HKCFAR 138'),\n",
       " ('Final Appeal (Civil)',\n",
       "  '2013',\n",
       "  \"\\\\'https://legalref.judiciary.hk/lrs/images/ThemeXP/Epage.gif\\\\'\",\n",
       "  'FACV16/2013',\n",
       "  'https://legalref.judiciary.hk/lrs/common/ju/ju_frame.jsp?DIS=96352',\n",
       "  '(23/12/2014)',\n",
       "  'LO SHING KIN v. SY CHIN MONG STEPHEN \\xa0Reported in :(2014) 17 HKCFAR 903'),\n",
       " ('Final Appeal (Civil)',\n",
       "  '2013',\n",
       "  \"\\\\'https://legalref.judiciary.hk/lrs/images/ThemeXP/Epage.gif\\\\'\",\n",
       "  'FACV17/2013',\n",
       "  'https://legalref.judiciary.hk/lrs/common/ju/ju_frame.jsp?DIS=93917',\n",
       "  '(17/07/2014)',\n",
       "  'ASPIAL INVESTMENT LTD AND OTHER v. MAYER CORPORATION DEVELOPMENT INTERNATIONAL LTD \\xa0Reported in :(2014) 17 HKCFAR 401'),\n",
       " ('Final Appeal (Civil)',\n",
       "  '2013',\n",
       "  \"\\\\'https://legalref.judiciary.hk/lrs/images/ThemeXP/Epage.gif\\\\'\",\n",
       "  'FACV18/2013',\n",
       "  'https://legalref.judiciary.hk/lrs/common/ju/ju_frame.jsp?DIS=94769',\n",
       "  '(10/09/2014)',\n",
       "  'HUA TYAN DEVELOPMENT LTD v. ZURICH INSURANCE CO LTD AND ANOTHER \\xa0Reported in :(2014) 17 HKCFAR 493'),\n",
       " ('Final Appeal (Civil)',\n",
       "  '2013',\n",
       "  \"\\\\'https://legalref.judiciary.hk/lrs/images/ThemeXP/Epage.gif\\\\'\",\n",
       "  'FACV19/2013',\n",
       "  'https://legalref.judiciary.hk/lrs/common/ju/ju_frame.jsp?DIS=93169',\n",
       "  '(23/05/2014)',\n",
       "  'Z v. X \\xa0'),\n",
       " ('Final Appeal (Civil)',\n",
       "  '2013',\n",
       "  \"\\\\'https://legalref.judiciary.hk/lrs/images/ThemeXP/Epage.gif\\\\'\",\n",
       "  'FACV20/2013',\n",
       "  'https://legalref.judiciary.hk/lrs/common/ju/ju_frame.jsp?DIS=95902',\n",
       "  '(24/11/2014)',\n",
       "  'KAN LAI KWAN also known as KAN LAI KWAN KAY v. POON LOK TO OTTO formerly known as PUN LOK TO OTTO AND ANOTHER \\xa0'),\n",
       " ('Final Appeal (Civil)',\n",
       "  '2013',\n",
       "  \"\\\\'https://legalref.judiciary.hk/lrs/images/ThemeXP/Epage.gif\\\\'\",\n",
       "  'FACV20/2013',\n",
       "  'https://legalref.judiciary.hk/lrs/common/ju/ju_frame.jsp?DIS=93918',\n",
       "  '(17/07/2014)',\n",
       "  'KAN LAI KWAN also known as KAN LAI KWAN KAY v. POON LOK TO OTTO formerly known as PUN LOK TO OTTO AND ANOTHER \\xa0Reported in :(2014) 17 HKCFAR 414'),\n",
       " ('Final Appeal (Civil)',\n",
       "  '2013',\n",
       "  \"\\\\'https://legalref.judiciary.hk/lrs/images/ThemeXP/Epage.gif\\\\'\",\n",
       "  'FACV21/2013',\n",
       "  'https://legalref.judiciary.hk/lrs/common/ju/ju_frame.jsp?DIS=95903',\n",
       "  '(24/11/2014)',\n",
       "  'POON LOK TO OTTO formerly known as PUN LOK TO OTTO v. KAN LAI KWAN also known as KAN LAI KWAN KAY AND ANOTHER \\xa0'),\n",
       " ('Final Appeal (Civil)',\n",
       "  '2013',\n",
       "  \"\\\\'https://legalref.judiciary.hk/lrs/images/ThemeXP/Epage.gif\\\\'\",\n",
       "  'FACV21/2013',\n",
       "  'https://legalref.judiciary.hk/lrs/common/ju/ju_frame.jsp?DIS=93919',\n",
       "  '(17/07/2014)',\n",
       "  'POON LOK TO OTTO formerly known as PUN LOK TO OTTO v. KAN LAI KWAN also known as KAN LAI KWAN KAY AND ANOTHER \\xa0Reported in :(2014) 17 HKCFAR 414'),\n",
       " ('Final Appeal (Civil)',\n",
       "  '2013',\n",
       "  \"\\\\'https://legalref.judiciary.hk/lrs/images/ThemeXP/Epage.gif\\\\'\",\n",
       "  'FACV22/2013',\n",
       "  'https://legalref.judiciary.hk/lrs/common/ju/ju_frame.jsp?DIS=93420',\n",
       "  '(09/06/2014)',\n",
       "  'SPH v. SA (formerly known as SA) \\xa0Reported in :[2014] 3 HKLRD 497; (2014) 17 HKCFAR 364'),\n",
       " ('Final Appeal (Civil)',\n",
       "  '2013',\n",
       "  \"\\\\'https://legalref.judiciary.hk/lrs/images/ThemeXP/Epage.gif\\\\'\",\n",
       "  'FACV23/2013',\n",
       "  'https://legalref.judiciary.hk/lrs/common/ju/ju_frame.jsp?DIS=97953',\n",
       "  '(15/04/2015)',\n",
       "  'MOULIN GLOBAL EYECARE HOLDINGS LTD (IN LIQUIDATION) (formerly known as MOULIN INTERNATIONAL HOLDINGS LTD) v. OLIVIA LEE SIN MEI \\xa0'),\n",
       " ('Final Appeal (Civil)',\n",
       "  '2013',\n",
       "  \"\\\\'https://legalref.judiciary.hk/lrs/images/ThemeXP/Epage.gif\\\\'\",\n",
       "  'FACV23/2013',\n",
       "  'https://legalref.judiciary.hk/lrs/common/ju/ju_frame.jsp?DIS=93905',\n",
       "  '(17/07/2014)',\n",
       "  'MOULIN GLOBAL EYECARE HOLDINGS LTD (IN LIQUIDATION) (formerly known as MOULIN INTERNATIONAL HOLDINGS LTD) v. OLIVIA LEE SIN MEI \\xa0Reported in :(2014) 17 HKCFAR 466'),\n",
       " ('Final Appeal (Civil)',\n",
       "  '2016',\n",
       "  \"\\\\'https://legalref.judiciary.hk/lrs/images/ThemeXP/Epage.gif\\\\'\",\n",
       "  'FACV1/2016',\n",
       "  'https://legalref.judiciary.hk/lrs/common/ju/ju_frame.jsp?DIS=107619',\n",
       "  '(13/01/2017)',\n",
       "  'COMPANIA SUD AMERICANA DE VAPORES S.A. v. HIN-PRO INTERNATIONAL LOGISTICS LTD \\xa0'),\n",
       " ('Final Appeal (Civil)',\n",
       "  '2016',\n",
       "  \"\\\\'https://legalref.judiciary.hk/lrs/images/ThemeXP/Epage.gif\\\\'\",\n",
       "  'FACV1/2016',\n",
       "  'https://legalref.judiciary.hk/lrs/common/ju/ju_frame.jsp?DIS=106744',\n",
       "  '(14/11/2016)',\n",
       "  'COMPANIA SUD AMERICANA DE VAPORES S.A v. HIN-PRO INTERNATIONAL LOGISTICS LTD \\xa0Reported in :(2016) 19 HKCFAR 586'),\n",
       " ('Final Appeal (Civil)',\n",
       "  '2016',\n",
       "  \"\\\\'https://legalref.judiciary.hk/lrs/images/ThemeXP/Epage.gif\\\\'\",\n",
       "  'FACV2/2016',\n",
       "  'https://legalref.judiciary.hk/lrs/common/ju/ju_frame.jsp?DIS=107278',\n",
       "  '(16/12/2016)',\n",
       "  'ALLEN & OVERY (A FIRM) AND ANOTHER v. BEIJING TONG GANG DA SHENG TRADE CO LTD \\xa0Reported in :(2016) 19 HKCFAR 705'),\n",
       " ('Final Appeal (Civil)',\n",
       "  '2016',\n",
       "  \"\\\\'https://legalref.judiciary.hk/lrs/images/ThemeXP/Epage.gif\\\\'\",\n",
       "  'FACV3/2016',\n",
       "  'https://legalref.judiciary.hk/lrs/common/ju/ju_frame.jsp?DIS=107281',\n",
       "  '(16/12/2016)',\n",
       "  'ALLEN & OVERY (A FIRM) AND ANOTHER v. BEIJING TONG GANG DA SHENG TRADE CO LTD \\xa0Reported in :(2016) 19 HKCFAR 705'),\n",
       " ('Final Appeal (Civil)',\n",
       "  '2016',\n",
       "  \"\\\\'https://legalref.judiciary.hk/lrs/images/ThemeXP/Epage.gif\\\\'\",\n",
       "  'FACV4/2016',\n",
       "  'https://legalref.judiciary.hk/lrs/common/ju/ju_frame.jsp?DIS=107279',\n",
       "  '(16/12/2016)',\n",
       "  'ALLEN & OVERY (A FIRM) AND ANOTHER v. BEIJING TONG GANG DA SHENG TRADE CO LTD \\xa0Reported in :(2016) 19 HKCFAR 705'),\n",
       " ('Final Appeal (Civil)',\n",
       "  '2016',\n",
       "  \"\\\\'https://legalref.judiciary.hk/lrs/images/ThemeXP/Epage.gif\\\\'\",\n",
       "  'FACV5/2016',\n",
       "  'https://legalref.judiciary.hk/lrs/common/ju/ju_frame.jsp?DIS=107280',\n",
       "  '(16/12/2016)',\n",
       "  'ALLEN & OVERY (A FIRM) AND ANOTHER v. BEIJING TONG GANG DA SHENG TRADE CO LTD \\xa0Reported in :(2016) 19 HKCFAR 705'),\n",
       " ('Final Appeal (Civil)',\n",
       "  '2016',\n",
       "  \"\\\\'https://legalref.judiciary.hk/lrs/images/ThemeXP/Epage.gif\\\\'\",\n",
       "  'FACV6/2016',\n",
       "  'https://legalref.judiciary.hk/lrs/common/ju/ju_frame.jsp?DIS=109609',\n",
       "  '(24/05/2017)',\n",
       "  'SIN CHUNG YIN RONALD AND OTHERS v. THE DENTAL COUNCIL OF HONG KONG \\xa0'),\n",
       " ('Final Appeal (Civil)',\n",
       "  '2016',\n",
       "  \"\\\\'https://legalref.judiciary.hk/lrs/images/ThemeXP/Epage.gif\\\\'\",\n",
       "  'FACV6/2016',\n",
       "  'https://legalref.judiciary.hk/lrs/common/ju/ju_frame.jsp?DIS=106602',\n",
       "  '(04/11/2016)',\n",
       "  'SIN CHUNG YIN RONALD AND OTHERS v. THE DENTAL COUNCIL OF HONG KONG \\xa0Reported in :(2016) 19 HKCFAR 528'),\n",
       " ('Final Appeal (Civil)',\n",
       "  '2016',\n",
       "  \"\\\\'https://legalref.judiciary.hk/lrs/images/ThemeXP/Epage.gif\\\\'\",\n",
       "  'FACV7/2016',\n",
       "  'https://legalref.judiciary.hk/lrs/common/ju/ju_frame.jsp?DIS=108659',\n",
       "  '(17/03/2017)',\n",
       "  'COMMISSIONER OF RATING AND VALUATION v. CLP POWER HONG KONG LTD \\xa0Reported in :(2017) 20 HKCFAR 168'),\n",
       " ('Final Appeal (Civil)',\n",
       "  '2016',\n",
       "  \"\\\\'https://legalref.judiciary.hk/lrs/images/ThemeXP/Epage.gif\\\\'\",\n",
       "  'FACV8/2016',\n",
       "  'https://legalref.judiciary.hk/lrs/common/ju/ju_frame.jsp?DIS=108111',\n",
       "  '(16/02/2017)',\n",
       "  'NAM SANG WAI DEVELOPMENT CO LTD AND ANOTHER v. TOWN PLANNING BOARD \\xa0Reported in :(2017) 20 HKCFAR 196'),\n",
       " ('Final Appeal (Civil)',\n",
       "  '2016',\n",
       "  \"\\\\'https://legalref.judiciary.hk/lrs/images/ThemeXP/Epage.gif\\\\'\",\n",
       "  'FACV9/2016',\n",
       "  'https://legalref.judiciary.hk/lrs/common/ju/ju_frame.jsp?DIS=107991',\n",
       "  '(08/02/2017)',\n",
       "  'TANG YING IP AND OTHERS v. TANG YING LOI \\xa0Reported in :(2017) 20 HKCFAR 53'),\n",
       " ('Final Appeal (Civil)',\n",
       "  '2016',\n",
       "  \"\\\\'https://legalref.judiciary.hk/lrs/images/ThemeXP/Epage.gif\\\\'\",\n",
       "  'FACV10/2016',\n",
       "  'https://legalref.judiciary.hk/lrs/common/ju/ju_frame.jsp?DIS=109678',\n",
       "  '(29/05/2017)',\n",
       "  'SAM WOO MARINE WORKS LTD v. THE INCORPORATED OWNERS OF PO HANG BUILDING \\xa0Reported in :(2017) 20 HKCFAR 240'),\n",
       " ('Final Appeal (Civil)',\n",
       "  '2016',\n",
       "  \"\\\\'https://legalref.judiciary.hk/lrs/images/ThemeXP/Epage.gif\\\\'\",\n",
       "  'FACV11/2016',\n",
       "  'https://legalref.judiciary.hk/lrs/common/ju/ju_frame.jsp?DIS=109999',\n",
       "  '(21/06/2017)',\n",
       "  'QMY v. GSS \\xa0Reported in :(2017) 20 HKCFAR 303'),\n",
       " ('Final Appeal (Civil)',\n",
       "  '2016',\n",
       "  \"\\\\'https://legalref.judiciary.hk/lrs/images/ThemeXP/Epage.gif\\\\'\",\n",
       "  'FACV12/2016',\n",
       "  'https://legalref.judiciary.hk/lrs/common/ju/ju_frame.jsp?DIS=110304',\n",
       "  '(11/07/2017)',\n",
       "  'KWOK CHEUK KIN v. SECRETARY FOR CONSTITUTIONAL AND MAINLAND AFFAIRS \\xa0Reported in :(2017) 20 HKCFAR 353'),\n",
       " ('Final Appeal (Civil)',\n",
       "  '2016',\n",
       "  \"\\\\'https://legalref.judiciary.hk/lrs/images/ThemeXP/Epage.gif\\\\'\",\n",
       "  'FACV13/2016',\n",
       "  'https://legalref.judiciary.hk/lrs/common/ju/ju_frame.jsp?DIS=110192',\n",
       "  '(04/07/2017)',\n",
       "  'TAI FAT DEVELOPMENT (HOLDING) CO LTD & OTHERS v. THE INCORPORATED OWNERS OF GOLD KING INDUSTRIAL BUILDING \\xa0Reported in :(2017) 20 HKCFAR 325'),\n",
       " ('Final Appeal (Civil)',\n",
       "  '2004',\n",
       "  \"\\\\'https://legalref.judiciary.hk/lrs/images/ThemeXP/ETpage.gif\\\\'\",\n",
       "  'FACV1/2004',\n",
       "  'https://legalref.judiciary.hk/lrs/common/ju/ju_frame.jsp?DIS=43576',\n",
       "  '(04/11/2004)',\n",
       "  'WU YEE PAK AND ANOTHER v. UN FONG LEUNG AND OTHERS \\xa0Reported in :[2005] 2 HKLRD 169; (2004) 7 HKCFAR 498'),\n",
       " ('Final Appeal (Civil)',\n",
       "  '2004',\n",
       "  \"\\\\'https://legalref.judiciary.hk/lrs/images/ThemeXP/Epage.gif\\\\'\",\n",
       "  'FACV2/2004',\n",
       "  'https://legalref.judiciary.hk/lrs/common/ju/ju_frame.jsp?DIS=43433',\n",
       "  '(18/10/2004)',\n",
       "  'CELESTIAL FINANCE LTD v. YU MAN HON AND OTHERS \\xa0Reported in :[2005] 1 HKLRD 747; (2004) 7 HKCFAR 450'),\n",
       " ('Final Appeal (Civil)',\n",
       "  '2004',\n",
       "  \"\\\\'https://legalref.judiciary.hk/lrs/images/ThemeXP/Cpage.gif\\\\'\",\n",
       "  'FACV4/2004',\n",
       "  'https://legalref.judiciary.hk/lrs/common/ju/ju_frame.jsp?DIS=51532',\n",
       "  '(14/02/2006)',\n",
       "  '余國英 訴 麥紹棠 \\xa0'),\n",
       " ('Final Appeal (Civil)',\n",
       "  '2004',\n",
       "  \"\\\\'https://legalref.judiciary.hk/lrs/images/ThemeXP/Epage.gif\\\\'\",\n",
       "  'FACV4/2004',\n",
       "  'https://legalref.judiciary.hk/lrs/common/ju/ju_frame.jsp?DIS=40452',\n",
       "  '(15/06/2004)',\n",
       "  'MAK SHIU TONG v. YUE KWOK YING AND ANOTHER \\xa0Reported in :[2005] 1 HKLRD 33; (2004) 7 HKCFAR 228'),\n",
       " ('Final Appeal (Civil)',\n",
       "  '2004',\n",
       "  \"\\\\'https://legalref.judiciary.hk/lrs/images/ThemeXP/ETpage.gif\\\\'\",\n",
       "  'FACV5/2004',\n",
       "  'https://legalref.judiciary.hk/lrs/common/ju/ju_frame.jsp?DIS=44211',\n",
       "  '(20/01/2005)',\n",
       "  'NG YAT CHI v. MAX SHARE LTD AND ANOTHER \\xa0Reported in :[2005] 1 HKLRD 473; (2005) 8 HKCFAR 1'),\n",
       " ('Final Appeal (Civil)',\n",
       "  '2004',\n",
       "  \"\\\\'https://legalref.judiciary.hk/lrs/images/ThemeXP/Epage.gif\\\\'\",\n",
       "  'FACV6/2004',\n",
       "  'https://legalref.judiciary.hk/lrs/common/ju/ju_frame.jsp?DIS=44416',\n",
       "  '(18/02/2005)',\n",
       "  'NINA KUNG v. TAN MAN KOU AND ANOTHER \\xa0'),\n",
       " ('Final Appeal (Civil)',\n",
       "  '2004',\n",
       "  \"\\\\'https://legalref.judiciary.hk/lrs/images/ThemeXP/Epage.gif\\\\'\",\n",
       "  'FACV6/2004',\n",
       "  'https://legalref.judiciary.hk/lrs/common/ju/ju_frame.jsp?DIS=43898',\n",
       "  '(13/12/2004)',\n",
       "  'NINA KUNG v. TAN MAN KOU AND ANOTHER \\xa0Reported in :[2004] 3 HKLRD 922; (2004) 7 HKCFAR 546'),\n",
       " ('Final Appeal (Civil)',\n",
       "  '2004',\n",
       "  \"\\\\'https://legalref.judiciary.hk/lrs/images/ThemeXP/Epage.gif\\\\'\",\n",
       "  'FACV9/2004',\n",
       "  'https://legalref.judiciary.hk/lrs/common/ju/ju_frame.jsp?DIS=43945',\n",
       "  '(17/12/2004)',\n",
       "  'LI SAU YING v. BANK OF CHINA (HONG KONG) LTD \\xa0Reported in :[2005] 1 HKLRD 106; (2004) 7 HKCFAR 579'),\n",
       " ('Final Appeal (Civil)',\n",
       "  '2004',\n",
       "  \"\\\\'https://legalref.judiciary.hk/lrs/images/ThemeXP/ETpage.gif\\\\'\",\n",
       "  'FACV11/2004',\n",
       "  'https://legalref.judiciary.hk/lrs/common/ju/ju_frame.jsp?DIS=44853',\n",
       "  '(04/04/2005)',\n",
       "  'NOISE CONTROL AUTHORITY AND ANOTHER v. STEP IN LTD \\xa0Reported in :[2005] 1 HKLRD 702; (2005) 8 HKCFAR 113'),\n",
       " ('Final Appeal (Civil)',\n",
       "  '2004',\n",
       "  \"\\\\'https://legalref.judiciary.hk/lrs/images/ThemeXP/Epage.gif\\\\'\",\n",
       "  'FACV12/2004',\n",
       "  'https://legalref.judiciary.hk/lrs/common/ju/ju_frame.jsp?DIS=53737',\n",
       "  '(16/08/2006)',\n",
       "  'WANG DIN SHIN v. NINA KUNG \\xa0'),\n",
       " ('Final Appeal (Civil)',\n",
       "  '2004',\n",
       "  \"\\\\'https://legalref.judiciary.hk/lrs/images/ThemeXP/Epage.gif\\\\'\",\n",
       "  'FACV12/2004',\n",
       "  'https://legalref.judiciary.hk/lrs/common/ju/ju_frame.jsp?DIS=54795',\n",
       "  '(25/10/2006)',\n",
       "  'NINA KUNG v. WANG DIN SHIN \\xa0Reported in :(2006) 9 HKCFAR 800'),\n",
       " ('Final Appeal (Civil)',\n",
       "  '2004',\n",
       "  \"\\\\'https://legalref.judiciary.hk/lrs/images/ThemeXP/Epage.gif\\\\'\",\n",
       "  'FACV12/2004',\n",
       "  'https://legalref.judiciary.hk/lrs/common/ju/ju_frame.jsp?DIS=46334',\n",
       "  '(16/09/2005)',\n",
       "  'NINA KUNG v. WANG DIN SHIN \\xa0Reported in :(2005) 8 HKCFAR 387'),\n",
       " ('Final Appeal (Civil)',\n",
       "  '2004',\n",
       "  \"\\\\'https://legalref.judiciary.hk/lrs/images/ThemeXP/Epage.gif\\\\'\",\n",
       "  'FACV13/2004',\n",
       "  'https://legalref.judiciary.hk/lrs/common/ju/ju_frame.jsp?DIS=51219',\n",
       "  '(12/01/2006)',\n",
       "  'DRAGON HOUSE INVESTMENT LTD v. THE SECRETARY FOR TRANSPORT \\xa0'),\n",
       " ('Final Appeal (Civil)',\n",
       "  '2004',\n",
       "  \"\\\\'https://legalref.judiciary.hk/lrs/images/ThemeXP/ETpage.gif\\\\'\",\n",
       "  'FACV13/2004',\n",
       "  'https://legalref.judiciary.hk/lrs/common/ju/ju_frame.jsp?DIS=47033',\n",
       "  '(21/11/2005)',\n",
       "  'DRAGON HOUSE INVESTMENT LTD v. THE SECRETARY FOR TRANSPORT \\xa0Reported in :[2005] 4 HKLRD 480; (2005) 8 HKCFAR 668'),\n",
       " ('Final Appeal (Civil)',\n",
       "  '2004',\n",
       "  \"\\\\'https://legalref.judiciary.hk/lrs/images/ThemeXP/ETpage.gif\\\\'\",\n",
       "  'FACV14/2004',\n",
       "  'https://legalref.judiciary.hk/lrs/common/ju/ju_frame.jsp?DIS=45793',\n",
       "  '(20/07/2005)',\n",
       "  'PCCW-HKT TELEPHONE LTD v. THE TELECOMMUNICATIONS AUTHORITY \\xa0Reported in :[2005] 3 HKLRD 235; (2005) 8 HKCFAR 337'),\n",
       " ('Final Appeal (Civil)',\n",
       "  '2004',\n",
       "  \"\\\\'https://legalref.judiciary.hk/lrs/images/ThemeXP/ETpage.gif\\\\'\",\n",
       "  'FACV15/2004',\n",
       "  'https://legalref.judiciary.hk/lrs/common/ju/ju_frame.jsp?DIS=45700',\n",
       "  '(13/07/2005)',\n",
       "  'SECRETARY FOR JUSTICE v. LAU KWOK FAI BERNARD \\xa0Reported in :[2005] 3 HKLRD 88; (2005) 8 HKCFAR 304'),\n",
       " ('Final Appeal (Civil)',\n",
       "  '2004',\n",
       "  \"\\\\'https://legalref.judiciary.hk/lrs/images/ThemeXP/Epage.gif\\\\'\",\n",
       "  'FACV16/2004',\n",
       "  'https://legalref.judiciary.hk/lrs/common/ju/ju_frame.jsp?DIS=52112',\n",
       "  '(06/04/2006)',\n",
       "  'THE GOVERNMENT OF THE HKSAR v. MICHAEL REID SCOTT \\xa0Reported in :[2006] 2 HKLRD 515; (2006) 9 HKCFAR 221'),\n",
       " ('Final Appeal (Civil)',\n",
       "  '2004',\n",
       "  \"\\\\'https://legalref.judiciary.hk/lrs/images/ThemeXP/Epage.gif\\\\'\",\n",
       "  'FACV16/2004',\n",
       "  'https://legalref.judiciary.hk/lrs/common/ju/ju_frame.jsp?DIS=52786',\n",
       "  '(12/06/2006)',\n",
       "  'THE GOVERNMENT OF THE HKSAR v. MICHAEL REID SCOTT \\xa0'),\n",
       " ('Final Appeal (Civil)',\n",
       "  '2004',\n",
       "  \"\\\\'https://legalref.judiciary.hk/lrs/images/ThemeXP/ETpage.gif\\\\'\",\n",
       "  'FACV16/2004',\n",
       "  'https://legalref.judiciary.hk/lrs/common/ju/ju_frame.jsp?DIS=46107',\n",
       "  '(13/07/2005)',\n",
       "  'HKSAR v. MICHAEL REID SCOTT \\xa0Reported in :[2005] 3 HKLRD 88; (2005) 8 HKCFAR 304'),\n",
       " ('Final Appeal (Civil)',\n",
       "  '2004',\n",
       "  \"\\\\'https://legalref.judiciary.hk/lrs/images/ThemeXP/Epage.gif\\\\'\",\n",
       "  'FACV17/2004',\n",
       "  'https://legalref.judiciary.hk/lrs/common/ju/ju_frame.jsp?DIS=44737',\n",
       "  '(18/03/2005)',\n",
       "  'RIVER TRADE TERMINAL CO LTD v. SECRETARY FOR JUSTICE \\xa0Reported in :[2005] 2 HKLRD 326; (2005) 8 HKCFAR 95'),\n",
       " ('Final Appeal (Civil)',\n",
       "  '2004',\n",
       "  \"\\\\'https://legalref.judiciary.hk/lrs/images/ThemeXP/Epage.gif\\\\'\",\n",
       "  'FACV18/2004',\n",
       "  'https://legalref.judiciary.hk/lrs/common/ju/ju_frame.jsp?DIS=46812',\n",
       "  '(04/11/2005)',\n",
       "  'DESMOND YIU CHOWN LEUNG AND OTHERS v. CHOW WAI LAM WILLIAM AND OTHERS \\xa0Reported in :[2005] 4 HKLRD 246; (2005) 8 HKCFAR 592'),\n",
       " ('Final Appeal (Civil)',\n",
       "  '2003',\n",
       "  \"\\\\'https://legalref.judiciary.hk/lrs/images/ThemeXP/Epage.gif\\\\'\",\n",
       "  'FACV1/2003',\n",
       "  'https://legalref.judiciary.hk/lrs/common/ju/ju_frame.jsp?DIS=35995',\n",
       "  '(04/07/2003)',\n",
       "  'SHELL HONG KONG LTD v. YEUNG WAI MAN KIU YIP CO LTD AND ANOTHER \\xa0Reported in :[2003] 3 HKLRD 62; (2003) 6 HKCFAR 222'),\n",
       " ('Final Appeal (Civil)',\n",
       "  '2003',\n",
       "  \"\\\\'https://legalref.judiciary.hk/lrs/images/ThemeXP/Epage.gif\\\\'\",\n",
       "  'FACV2/2003',\n",
       "  'https://legalref.judiciary.hk/lrs/common/ju/ju_frame.jsp?DIS=25823',\n",
       "  '(09/01/2004)',\n",
       "  'JIKAN DEVELOPMENT LTD AND ANOTHER v. THE INCORPORATED OWNERS OF MILLION FORTUNE INDUSTRIAL CENTRE \\xa0'),\n",
       " ('Final Appeal (Civil)',\n",
       "  '2003',\n",
       "  \"\\\\'https://legalref.judiciary.hk/lrs/images/ThemeXP/Epage.gif\\\\'\",\n",
       "  'FACV2/2003',\n",
       "  'https://legalref.judiciary.hk/lrs/common/ju/ju_frame.jsp?DIS=25118',\n",
       "  '(06/11/2003)',\n",
       "  'JIKAN DEVELOPMENT LTD AND ANOTHER v. THE INCORPORATED OWNERS OF MILLION FORTUNE INDUSTRIAL CENTRE \\xa0Reported in :[2004] 1 HKLRD 181; (2003) 6 HKCFAR 446'),\n",
       " ('Final Appeal (Civil)',\n",
       "  '2003',\n",
       "  \"\\\\'https://legalref.judiciary.hk/lrs/images/ThemeXP/Epage.gif\\\\'\",\n",
       "  'FACV3/2003',\n",
       "  'https://legalref.judiciary.hk/lrs/common/ju/ju_frame.jsp?DIS=25824',\n",
       "  '(09/01/2004)',\n",
       "  'JIKAN DEVELOPMENT LTD AND ANOTHER v. THE INCORPORATED OWNERS OF MILLION FORTUNE INDUSTRIAL CENTRE \\xa0'),\n",
       " ('Final Appeal (Civil)',\n",
       "  '2003',\n",
       "  \"\\\\'https://legalref.judiciary.hk/lrs/images/ThemeXP/Epage.gif\\\\'\",\n",
       "  'FACV3/2003',\n",
       "  'https://legalref.judiciary.hk/lrs/common/ju/ju_frame.jsp?DIS=25119',\n",
       "  '(06/11/2003)',\n",
       "  'JIKAN DEVELOPMENT LTD AND ANOTHER v. THE INCORPORATED OWNERS OF MILLION FORTUNE INDUSTRIAL CENTRE \\xa0Reported in :[2004] 1 HKLRD 181; (2003) 6 HKCFAR 446'),\n",
       " ('Final Appeal (Civil)',\n",
       "  '2003',\n",
       "  \"\\\\'https://legalref.judiciary.hk/lrs/images/ThemeXP/Epage.gif\\\\'\",\n",
       "  'FACV4/2003',\n",
       "  'https://legalref.judiciary.hk/lrs/common/ju/ju_frame.jsp?DIS=37409',\n",
       "  '(04/12/2003)',\n",
       "  'THE COLLECTOR OF STAMP REVENUE v. ARROWTOWN ASSETS LTD \\xa0Reported in :[2004] 1 HKLRD 77; (2003) 6 HKCFAR 517'),\n",
       " ('Final Appeal (Civil)',\n",
       "  '2003',\n",
       "  \"\\\\'https://legalref.judiciary.hk/lrs/images/ThemeXP/Epage.gif\\\\'\",\n",
       "  'FACV5/2003',\n",
       "  'https://legalref.judiciary.hk/lrs/common/ju/ju_frame.jsp?DIS=24131',\n",
       "  '(26/11/2003)',\n",
       "  'FINANCIAL SECRETARY v. FELIX WONG \\xa0Reported in :(2003) 6 HKCFAR 476; [2004] 1 HKLRD 303'),\n",
       " ('Final Appeal (Civil)',\n",
       "  '2003',\n",
       "  \"\\\\'https://legalref.judiciary.hk/lrs/images/ThemeXP/Epage.gif\\\\'\",\n",
       "  'FACV6/2003',\n",
       "  'https://legalref.judiciary.hk/lrs/common/ju/ju_frame.jsp?DIS=26425',\n",
       "  '(27/02/2004)',\n",
       "  'EMPEROR FINANCE LTD v. LA BELLE FASHIONS LTD AND ANOTHER \\xa0'),\n",
       " ('Final Appeal (Civil)',\n",
       "  '2003',\n",
       "  \"\\\\'https://legalref.judiciary.hk/lrs/images/ThemeXP/Epage.gif\\\\'\",\n",
       "  'FACV6/2003',\n",
       "  'https://legalref.judiciary.hk/lrs/common/ju/ju_frame.jsp?DIS=25120',\n",
       "  '(06/11/2003)',\n",
       "  'EMPEROR FINANCE LTD v. LA BELLE FASHIONS LTD AND ANOTHER \\xa0Reported in :[2003] 3 HKLRD 995; (2003) 6 HKCFAR 402'),\n",
       " ('Final Appeal (Civil)',\n",
       "  '2003',\n",
       "  \"\\\\'https://legalref.judiciary.hk/lrs/images/ThemeXP/Epage.gif\\\\'\",\n",
       "  'FACV7/2003',\n",
       "  'https://legalref.judiciary.hk/lrs/common/ju/ju_frame.jsp?DIS=24150',\n",
       "  '(10/03/2004)',\n",
       "  'A SOLICITOR v. THE LAW SOCIETY OF HONG KONG AND ANOTHER \\xa0Reported in :[2004] 2 HKLRD 754; (2004) 7 HKCFAR 45'),\n",
       " ('Final Appeal (Civil)',\n",
       "  '2003',\n",
       "  \"\\\\'https://legalref.judiciary.hk/lrs/images/ThemeXP/ETpage.gif\\\\'\",\n",
       "  'FACV7/2003',\n",
       "  'https://legalref.judiciary.hk/lrs/common/ju/ju_frame.jsp?DIS=24514',\n",
       "  '(19/12/2003)',\n",
       "  'A SOLICITOR v. THE LAW SOCIETY OF HONG KONG AND ANOTHER \\xa0Reported in :(2003) 6 HKCFAR 570; [2004] 1 HKLRD 214'),\n",
       " ('Final Appeal (Civil)',\n",
       "  '2003',\n",
       "  \"\\\\'https://legalref.judiciary.hk/lrs/images/ThemeXP/ETpage.gif\\\\'\",\n",
       "  'FACV10/2003',\n",
       "  'https://legalref.judiciary.hk/lrs/common/ju/ju_frame.jsp?DIS=23304',\n",
       "  '(26/03/2004)',\n",
       "  'THE DIRECTOR OF IMMIGRATION v. LAU FONG \\xa0Reported in :(2004) 7 HKCFAR 56; [2004] 2 HKLRD 204'),\n",
       " ('Final Appeal (Civil)',\n",
       "  '2003',\n",
       "  \"\\\\'https://legalref.judiciary.hk/lrs/images/ThemeXP/ETpage.gif\\\\'\",\n",
       "  'FACV11/2003',\n",
       "  'https://legalref.judiciary.hk/lrs/common/ju/ju_frame.jsp?DIS=40509',\n",
       "  '(08/06/2004)',\n",
       "  'HIP HING TIMBER CO LTD v. TANG MAN KIT AND ANOTHER \\xa0Reported in :[2005] 1 HKLRD 572; (2004) 7 HKCFAR 212'),\n",
       " ('Final Appeal (Civil)',\n",
       "  '2003',\n",
       "  \"\\\\'https://legalref.judiciary.hk/lrs/images/ThemeXP/Epage.gif\\\\'\",\n",
       "  'FACV11/2003',\n",
       "  'https://legalref.judiciary.hk/lrs/common/ju/ju_frame.jsp?DIS=40510',\n",
       "  '(25/05/2004)',\n",
       "  'HIP HING TIMBER COMPANY LTD v. TANG MAN KIT and FOO TAK CHING \\xa0'),\n",
       " ('Final Appeal (Civil)',\n",
       "  '2003',\n",
       "  \"\\\\'https://legalref.judiciary.hk/lrs/images/ThemeXP/Epage.gif\\\\'\",\n",
       "  'FACV12/2003',\n",
       "  'https://legalref.judiciary.hk/lrs/common/ju/ju_frame.jsp?DIS=37061',\n",
       "  '(26/03/2004)',\n",
       "  'CHEUNG YAT FUK v. TANG TAK HONG AND OTHERS \\xa0Reported in :[2004] 2 HKLRD 86; (2004) 7 HKCFAR 70'),\n",
       " ('Final Appeal (Civil)',\n",
       "  '2003',\n",
       "  \"\\\\'https://legalref.judiciary.hk/lrs/images/ThemeXP/Epage.gif\\\\'\",\n",
       "  'FACV13/2003',\n",
       "  'https://legalref.judiciary.hk/lrs/common/ju/ju_frame.jsp?DIS=28978',\n",
       "  '(02/04/2004)',\n",
       "  'SHANGHAI TONGJI SCIENCE & TECHNOLOGY INDUSTRIAL CO LTD v. CASIL CLEARING LTD \\xa0Reported in :[2004] 2 HKLRD 548; (2004) 7 HKCFAR 79'),\n",
       " ('Final Appeal (Civil)',\n",
       "  '2003',\n",
       "  \"\\\\'https://legalref.judiciary.hk/lrs/images/ThemeXP/Epage.gif\\\\'\",\n",
       "  'FACV14/2003',\n",
       "  'https://legalref.judiciary.hk/lrs/common/ju/ju_frame.jsp?DIS=28979',\n",
       "  '(02/04/2004)',\n",
       "  'TOWN PLANNING BOARD v. SOCIETY FOR PROTECTION OF THE HARBOUR LTD \\xa0Reported in :(2004) 7 HKCFAR 114; [2004] 2 HKLRD 95'),\n",
       " ('Final Appeal (Civil)',\n",
       "  '2003',\n",
       "  \"\\\\'https://legalref.judiciary.hk/lrs/images/ThemeXP/Epage.gif\\\\'\",\n",
       "  'FACV14/2003',\n",
       "  'https://legalref.judiciary.hk/lrs/common/ju/ju_frame.jsp?DIS=34689',\n",
       "  '(09/01/2004)',\n",
       "  'TOWN PLANNING BOARD v. SOCIETY FOR THE PROTECTION OF THE HARBOUR LTD \\xa0Reported in :(2004) 7 HKCFAR 1; [2004] 1 HKLRD 396'),\n",
       " ('Final Appeal (Civil)',\n",
       "  '2003',\n",
       "  \"\\\\'https://legalref.judiciary.hk/lrs/images/ThemeXP/Epage.gif\\\\'\",\n",
       "  'FACV15/2003',\n",
       "  'https://legalref.judiciary.hk/lrs/common/ju/ju_frame.jsp?DIS=44210',\n",
       "  '(20/01/2005)',\n",
       "  'MA SO SO JOSEPHINE v. CHIN YUK LUN FRANCIS AND ANOTHER \\xa0'),\n",
       " ('Final Appeal (Civil)',\n",
       "  '2003',\n",
       "  \"\\\\'https://legalref.judiciary.hk/lrs/images/ThemeXP/Epage.gif\\\\'\",\n",
       "  'FACV15/2003',\n",
       "  'https://legalref.judiciary.hk/lrs/common/ju/ju_frame.jsp?DIS=43149',\n",
       "  '(16/09/2004)',\n",
       "  'MA SO SO JOSEPHINE v. CHIN YUK LUN FRANCIS \\xa0Reported in :[2004] 3 HKLRD 294; (2004) 7 HKCFAR 300'),\n",
       " ('Final Appeal (Civil)',\n",
       "  '2003',\n",
       "  \"\\\\'https://legalref.judiciary.hk/lrs/images/ThemeXP/ETpage.gif\\\\'\",\n",
       "  'FACV16/2003',\n",
       "  'https://legalref.judiciary.hk/lrs/common/ju/ju_frame.jsp?DIS=40511',\n",
       "  '(08/06/2004)',\n",
       "  'SECRETARY FOR SECURITY v. SAKTHEVEL PRABAKAR \\xa0Reported in :[2005] 1 HKLRD 289; (2004) 7 HKCFAR 187'),\n",
       " ('Final Appeal (Civil)',\n",
       "  '2003',\n",
       "  \"\\\\'https://legalref.judiciary.hk/lrs/images/ThemeXP/ETpage.gif\\\\'\",\n",
       "  'FACV17/2003',\n",
       "  'https://legalref.judiciary.hk/lrs/common/ju/ju_frame.jsp?DIS=43216',\n",
       "  '(23/09/2004)',\n",
       "  'YING HO CO LTD AND OTHERS v. THE SECRETARY FOR JUSTICE \\xa0Reported in :[2005] 1 HKLRD 135; (2004) 7 HKCFAR 333'),\n",
       " ('Final Appeal (Civil)',\n",
       "  '2003',\n",
       "  \"\\\\'https://legalref.judiciary.hk/lrs/images/ThemeXP/ETpage.gif\\\\'\",\n",
       "  'FACV18/2003',\n",
       "  'https://legalref.judiciary.hk/lrs/common/ju/ju_frame.jsp?DIS=27151',\n",
       "  '(30/04/2004)',\n",
       "  'POON HAU KEI v. HSIN CHONG CONSTRUCTION CO LTD AND ANOTHER \\xa0Reported in :[2004] 2 HKLRD 442; (2004) 7 HKCFAR 148'),\n",
       " ('Final Appeal (Civil)',\n",
       "  '2003',\n",
       "  \"\\\\'https://legalref.judiciary.hk/lrs/images/ThemeXP/Epage.gif\\\\'\",\n",
       "  'FACV19/2003',\n",
       "  'https://legalref.judiciary.hk/lrs/common/ju/ju_frame.jsp?DIS=40512',\n",
       "  '(21/05/2004)',\n",
       "  'CHAN CHUN CHUNG AND ANOTHER v. PBM (HONG KONG) LTD \\xa0Reported in :[2005] 1 HKLRD 565; (2004) 7 HKCFAR 178'),\n",
       " ('Final Appeal (Civil)',\n",
       "  '2003',\n",
       "  \"\\\\'https://legalref.judiciary.hk/lrs/images/ThemeXP/Epage.gif\\\\'\",\n",
       "  'FACV20/2003',\n",
       "  'https://legalref.judiciary.hk/lrs/common/ju/ju_frame.jsp?DIS=40513',\n",
       "  '(08/07/2004)',\n",
       "  'KWONG MILE SERVICES LTD v. COMMISSIONER OF INLAND REVENUE \\xa0Reported in :[2004] 3 HKLRD 168; (2004) 7 HKCFAR 275'),\n",
       " ('Final Appeal (Civil)',\n",
       "  '1999',\n",
       "  \"\\\\'https://legalref.judiciary.hk/lrs/images/ThemeXP/ETpage.gif\\\\'\",\n",
       "  'FACV1/1999',\n",
       "  'https://legalref.judiciary.hk/lrs/common/ju/ju_frame.jsp?DIS=22648',\n",
       "  '(04/10/1999)',\n",
       "  'RE YUNG KWAN LEE AND OTHERS \\xa0Reported in :[1999] 3 HKLRD 316; (1999) 2 HKCFAR 245'),\n",
       " ('Final Appeal (Civil)',\n",
       "  '1999',\n",
       "  \"\\\\'https://legalref.judiciary.hk/lrs/images/ThemeXP/ETpage.gif\\\\'\",\n",
       "  'FACV2/1999',\n",
       "  'https://legalref.judiciary.hk/lrs/common/ju/ju_frame.jsp?DIS=32838',\n",
       "  '(27/01/2000)',\n",
       "  'CHEN LI HUNG AND ANOTHER v. TING LEI MIAO AND OTHERS \\xa0Reported in :[2000] 1 HKLRD 252; (2000) 3 HKCFAR 9'),\n",
       " ('Final Appeal (Civil)',\n",
       "  '1999',\n",
       "  \"\\\\'https://legalref.judiciary.hk/lrs/images/ThemeXP/Epage.gif\\\\'\",\n",
       "  'FACV3/1999',\n",
       "  'https://legalref.judiciary.hk/lrs/common/ju/ju_frame.jsp?DIS=33363',\n",
       "  '(03/03/2000)',\n",
       "  'THE COMMISSIONER OF INLAND REVENUE v. EMERSON RADIO CORPORATION \\xa0'),\n",
       " ('Final Appeal (Civil)',\n",
       "  '1999',\n",
       "  \"\\\\'https://legalref.judiciary.hk/lrs/images/ThemeXP/Epage.gif\\\\'\",\n",
       "  'FACV3/1999',\n",
       "  'https://legalref.judiciary.hk/lrs/common/ju/ju_frame.jsp?DIS=34171',\n",
       "  '(14/12/1999)',\n",
       "  'THE COMMISSIONER OF INLAND REVENUE v. EMERSON RADIO CORPORATION \\xa0Reported in :(1999) 2 HKCFAR 501; [2000] 1 HKLRD 238'),\n",
       " ('Final Appeal (Civil)',\n",
       "  '1999',\n",
       "  \"\\\\'https://legalref.judiciary.hk/lrs/images/ThemeXP/Epage.gif\\\\'\",\n",
       "  'FACV4/1999',\n",
       "  'https://legalref.judiciary.hk/lrs/common/ju/ju_frame.jsp?DIS=34169',\n",
       "  '(10/12/1999)',\n",
       "  'TWINKLE STEP INVESTMENT LTD. v. SMART INTERNATIONAL INDUSTRIAL LTD. \\xa0'),\n",
       " ('Final Appeal (Civil)',\n",
       "  '1999',\n",
       "  \"\\\\'https://legalref.judiciary.hk/lrs/images/ThemeXP/Epage.gif\\\\'\",\n",
       "  'FACV4/1999',\n",
       "  'https://legalref.judiciary.hk/lrs/common/ju/ju_frame.jsp?DIS=23043',\n",
       "  '(03/11/1999)',\n",
       "  'TWINKLE STEP INVESTMENT LTD. v. SMART INTERNATIONAL INDUSTRIAL LTD. \\xa0Reported in :(1999) 2 HKCFAR 255; [1999] 3 HKLRD 521'),\n",
       " ('Final Appeal (Civil)',\n",
       "  '1999',\n",
       "  \"\\\\'https://legalref.judiciary.hk/lrs/images/ThemeXP/Epage.gif\\\\'\",\n",
       "  'FACV5/1999',\n",
       "  'https://legalref.judiciary.hk/lrs/common/ju/ju_frame.jsp?DIS=23044',\n",
       "  '(03/11/1999)',\n",
       "  'EASTERN EXPRESS PUBLISHER LTD. AND ANOTHER v. MO MAN CHING AND ANOTHER \\xa0Reported in :(1999) 2 HKCFAR 264; [1999] 3 HKLRD 530'),\n",
       " ('Final Appeal (Civil)',\n",
       "  '1999',\n",
       "  \"\\\\'https://legalref.judiciary.hk/lrs/images/ThemeXP/Epage.gif\\\\'\",\n",
       "  'FACV6/1999',\n",
       "  'https://legalref.judiciary.hk/lrs/common/ju/ju_frame.jsp?DIS=33364',\n",
       "  '(03/03/2000)',\n",
       "  'EMERSON RADIO CORPORATION v. THE COMMISSIONER OF INLAND REVENUE \\xa0'),\n",
       " ('Final Appeal (Civil)',\n",
       "  '1999',\n",
       "  \"\\\\'https://legalref.judiciary.hk/lrs/images/ThemeXP/Epage.gif\\\\'\",\n",
       "  'FACV6/1999',\n",
       "  'https://legalref.judiciary.hk/lrs/common/ju/ju_frame.jsp?DIS=18936',\n",
       "  '(14/12/1999)',\n",
       "  'EMERSON RADIO CORPORATION v. THE COMMISSIONER OF INLAND REVENUE \\xa0Reported in :(1999) 2 HKCFAR 501; [2000] 1 HKLRD 238'),\n",
       " ('Final Appeal (Civil)',\n",
       "  '1999',\n",
       "  \"\\\\'https://legalref.judiciary.hk/lrs/images/ThemeXP/Epage.gif\\\\'\",\n",
       "  'FACV7/1999',\n",
       "  'https://legalref.judiciary.hk/lrs/common/ju/ju_frame.jsp?DIS=21221',\n",
       "  '(02/12/1999)',\n",
       "  'JUMBO KING LTD v. FAITHFUL PROPERTIES LTD AND OTHERS \\xa0Reported in :[1999] 3 HKLRD 757; (1999) 2 HKCFAR 279'),\n",
       " ('Final Appeal (Civil)',\n",
       "  '1999',\n",
       "  \"\\\\'https://legalref.judiciary.hk/lrs/images/ThemeXP/Epage.gif\\\\'\",\n",
       "  'FACV9/1999',\n",
       "  'https://legalref.judiciary.hk/lrs/common/ju/ju_frame.jsp?DIS=20039',\n",
       "  '(03/03/2000)',\n",
       "  'JUMBO GOLD INVESTMENT LTD. v. WARREN YUEN CHEONG LEUNG AND ANOTHER \\xa0Reported in :[2000] 1 HKLRD 763; (2000) 3 HKCFAR 52'),\n",
       " ('Final Appeal (Civil)',\n",
       "  '1999',\n",
       "  \"\\\\'https://legalref.judiciary.hk/lrs/images/ThemeXP/ETpage.gif\\\\'\",\n",
       "  'FACV10/1999',\n",
       "  'https://legalref.judiciary.hk/lrs/common/ju/ju_frame.jsp?DIS=18930',\n",
       "  '(03/12/1999)',\n",
       "  'LAU KONG YUNG AND OTHERS v. THE DIRECTOR OF IMMIGRATION \\xa0Reported in :[1999] 3 HKLRD 778; (1999) 2 HKCFAR 300'),\n",
       " ('Final Appeal (Civil)',\n",
       "  '1999',\n",
       "  \"\\\\'https://legalref.judiciary.hk/lrs/images/ThemeXP/ETpage.gif\\\\'\",\n",
       "  'FACV11/1999',\n",
       "  'https://legalref.judiciary.hk/lrs/common/ju/ju_frame.jsp?DIS=18931',\n",
       "  '(03/12/1999)',\n",
       "  'LAU KONG YUNG AND OTHERS v. THE DIRECTOR OF IMMIGRATION \\xa0Reported in :[1999] 3 HKLRD 778; (1999) 2 HKCFAR 300'),\n",
       " ('Final Appeal (Civil)',\n",
       "  '1999',\n",
       "  \"\\\\'https://legalref.judiciary.hk/lrs/images/ThemeXP/Epage.gif\\\\'\",\n",
       "  'FACV12/1999',\n",
       "  'https://legalref.judiciary.hk/lrs/common/ju/ju_frame.jsp?DIS=20040',\n",
       "  '(03/03/2000)',\n",
       "  'POON HAU KEI v. HSIN CHEONG CONSTRUCTION CO. LTD. AND OTHERS \\xa0'),\n",
       " ('Final Appeal (Civil)',\n",
       "  '1999',\n",
       "  \"\\\\'https://legalref.judiciary.hk/lrs/images/ThemeXP/Epage.gif\\\\'\",\n",
       "  'FACV12/1999',\n",
       "  'https://legalref.judiciary.hk/lrs/common/ju/ju_frame.jsp?DIS=18938',\n",
       "  '(15/12/1999)',\n",
       "  'POON HAU KEI v. HSIN CHEONG CONSTRUCTION CO. LTD. AND ANOTHERS \\xa0'),\n",
       " ('Final Appeal (Civil)',\n",
       "  '1999',\n",
       "  \"\\\\'https://legalref.judiciary.hk/lrs/images/ThemeXP/Epage.gif\\\\'\",\n",
       "  'FACV13/1999',\n",
       "  'https://legalref.judiciary.hk/lrs/common/ju/ju_frame.jsp?DIS=33347',\n",
       "  '(21/02/2000)',\n",
       "  'ROE INVESTMENT LTD. v. PRINCE GOOD LTD. AND ANOTHER \\xa0Reported in :[2000] 2 HKLRD 69; (2000) 3 HKCFAR 38'),\n",
       " ('Final Appeal (Civil)',\n",
       "  '1999',\n",
       "  \"\\\\'https://legalref.judiciary.hk/lrs/images/ThemeXP/Epage.gif\\\\'\",\n",
       "  'FACV14/1999',\n",
       "  'https://legalref.judiciary.hk/lrs/common/ju/ju_frame.jsp?DIS=19893',\n",
       "  '(21/02/2000)',\n",
       "  'ROE INVESTMENT LTD AND ANOTHER v. UNIONIX DEVELOPMENT LTD \\xa0Reported in :[2000] 2 HKLRD 69; (2000) 3 HKCFAR 38'),\n",
       " ('Final Appeal (Civil)',\n",
       "  '1999',\n",
       "  \"\\\\'https://legalref.judiciary.hk/lrs/images/ThemeXP/Epage.gif\\\\'\",\n",
       "  'FACV15/1999',\n",
       "  'https://legalref.judiciary.hk/lrs/common/ju/ju_frame.jsp?DIS=33584',\n",
       "  '(27/03/2000)',\n",
       "  'LAU LEUNG CHAU AND OTHERS v. LAU YUK KUI AND OTHERS \\xa0Reported in :[2000] 1 HKLRD 924; (2000) 3 HKCFAR 98'),\n",
       " ('Final Appeal (Civil)',\n",
       "  '1999',\n",
       "  \"\\\\'https://legalref.judiciary.hk/lrs/images/ThemeXP/Epage.gif\\\\'\",\n",
       "  'FACV16/1999',\n",
       "  'https://legalref.judiciary.hk/lrs/common/ju/ju_frame.jsp?DIS=21848',\n",
       "  '(11/04/2000)',\n",
       "  'MEXON HOLDINGS LTD. v. SILVER BAY INTERNATIONAL LTD. \\xa0Reported in :[2000] 1 HKLRD 935; (2000) 3 HKCFAR 109'),\n",
       " ('Final Appeal (Civil)',\n",
       "  '1999',\n",
       "  \"\\\\'https://legalref.judiciary.hk/lrs/images/ThemeXP/Epage.gif\\\\'\",\n",
       "  'FACV17/1999',\n",
       "  'https://legalref.judiciary.hk/lrs/common/ju/ju_frame.jsp?DIS=34094',\n",
       "  '(12/07/2000)',\n",
       "  'SHIU WING LTD. AND OTHERS v. THE COMMISSIONER OF ESTATE DUTY \\xa0Reported in :[2000] 3 HKLRD 76; (2000) 3 HKCFAR 215'),\n",
       " ('Final Appeal (Civil)',\n",
       "  '1999',\n",
       "  \"\\\\'https://legalref.judiciary.hk/lrs/images/ThemeXP/Epage.gif\\\\'\",\n",
       "  'FACV18/1999',\n",
       "  'https://legalref.judiciary.hk/lrs/common/ju/ju_frame.jsp?DIS=22662',\n",
       "  '(19/07/2000)',\n",
       "  'CHI KIT CO LTD AND ANOTHER v. LUCKY HEALTH INTERNATIONAL ENTERPRISE LTD \\xa0Reported in :[2000] 2 HKLRD 503; (2000) 3 HKCFAR 268'),\n",
       " ('Final Appeal (Civil)',\n",
       "  '1999',\n",
       "  \"\\\\'https://legalref.judiciary.hk/lrs/images/ThemeXP/Epage.gif\\\\'\",\n",
       "  'FACV19/1999',\n",
       "  'https://legalref.judiciary.hk/lrs/common/ju/ju_frame.jsp?DIS=23815',\n",
       "  '(06/01/2003)',\n",
       "  'NEXT MAGAZINE PUBLISHING LTD. AND OTHERS v. ORIENTAL DAILY PUBLISHER LTD. \\xa0'),\n",
       " ('Final Appeal (Civil)',\n",
       "  '1999',\n",
       "  \"\\\\'https://legalref.judiciary.hk/lrs/images/ThemeXP/Epage.gif\\\\'\",\n",
       "  'FACV19/1999',\n",
       "  'https://legalref.judiciary.hk/lrs/common/ju/ju_frame.jsp?DIS=22375',\n",
       "  '(08/06/2000)',\n",
       "  'NEXT MAGAZINE PUBLISHING LIMITED AND OTHERS v. ORIENTAL DAILY PUBLISHER LIMITED \\xa0Reported in :[2000] 2 HKLRD 333; (2000) 3 HKCFAR 160'),\n",
       " ('Final Appeal (Civil)',\n",
       "  '1999',\n",
       "  \"\\\\'https://legalref.judiciary.hk/lrs/images/ThemeXP/Epage.gif\\\\'\",\n",
       "  'FACV20/1999',\n",
       "  'https://legalref.judiciary.hk/lrs/common/ju/ju_frame.jsp?DIS=21990',\n",
       "  '(19/05/2000)',\n",
       "  'RAINFIELD DESIGN & ASSOCIATES LTD. v. SIU CHI MOON \\xa0Reported in :[2000] 2 HKLRD 226; (2000) 3 HKCFAR 134'),\n",
       " ('Final Appeal (Civil)',\n",
       "  '2018',\n",
       "  \"\\\\'https://legalref.judiciary.hk/lrs/images/ThemeXP/Epage.gif\\\\'\",\n",
       "  'FACV1/2018',\n",
       "  'https://legalref.judiciary.hk/lrs/common/ju/ju_frame.jsp?DIS=116049',\n",
       "  '(04/07/2018)',\n",
       "  'DIRECTOR OF IMMIGRATION v. QT \\xa0Reported in :(2018) 21 HKCFAR 324'),\n",
       " ('Final Appeal (Civil)',\n",
       "  '2018',\n",
       "  \"\\\\'https://legalref.judiciary.hk/lrs/images/ThemeXP/Epage.gif\\\\'\",\n",
       "  'FACV1/2018',\n",
       "  'https://legalref.judiciary.hk/lrs/common/ju/ju_frame.jsp?DIS=114838',\n",
       "  '(30/04/2018)',\n",
       "  'ABN AMRO BANK N.V. AND OTHERS v. QT \\xa0Reported in :(2018) 21 HKCFAR 150'),\n",
       " ('Final Appeal (Civil)',\n",
       "  '2018',\n",
       "  \"\\\\'https://legalref.judiciary.hk/lrs/images/ThemeXP/Epage.gif\\\\'\",\n",
       "  'FACV2/2018',\n",
       "  'https://legalref.judiciary.hk/lrs/common/ju/ju_frame.jsp?DIS=117381',\n",
       "  '(13/09/2018)',\n",
       "  'ESTHER CHAN PUI KWAN（陳佩君）also known as CHAN PUI CHUN（陳佩珍）v.  CHANG WA SHAN \\xa0'),\n",
       " ('Final Appeal (Civil)',\n",
       "  '2018',\n",
       "  \"\\\\'https://legalref.judiciary.hk/lrs/images/ThemeXP/Epage.gif\\\\'\",\n",
       "  'FACV2/2018',\n",
       "  'https://legalref.judiciary.hk/lrs/common/ju/ju_frame.jsp?DIS=116170',\n",
       "  '(11/07/2018)',\n",
       "  'ESTHER CHAN PUI KWAN（陳佩君）also known as CHAN PUI CHUN（陳佩珍）v. CHANG WA SHAN \\xa0Reported in :(2018) 21 HKCFAR 370'),\n",
       " ('Final Appeal (Civil)',\n",
       "  '2018',\n",
       "  \"\\\\'https://legalref.judiciary.hk/lrs/images/ThemeXP/Epage.gif\\\\'\",\n",
       "  'FACV3/2018',\n",
       "  'https://legalref.judiciary.hk/lrs/common/ju/ju_frame.jsp?DIS=117382',\n",
       "  '(13/09/2018)',\n",
       "  'CHANG WA SHAN  v.  ESTHER CHAN PUI KWAN（陳佩君）also known as CHAN PUI CHUN（陳佩珍） \\xa0'),\n",
       " ('Final Appeal (Civil)',\n",
       "  '2018',\n",
       "  \"\\\\'https://legalref.judiciary.hk/lrs/images/ThemeXP/Epage.gif\\\\'\",\n",
       "  'FACV3/2018',\n",
       "  'https://legalref.judiciary.hk/lrs/common/ju/ju_frame.jsp?DIS=116175',\n",
       "  '(11/07/2018)',\n",
       "  'CHANG WA SHAN  v.  ESTHER CHAN PUI KWAN（陳佩君）also known as CHAN PUI CHUN（陳佩珍） \\xa0Reported in :(2018) 21 HKCFAR 370'),\n",
       " ('Final Appeal (Civil)',\n",
       "  '2018',\n",
       "  \"\\\\'https://legalref.judiciary.hk/lrs/images/ThemeXP/Epage.gif\\\\'\",\n",
       "  'FACV4/2018',\n",
       "  'https://legalref.judiciary.hk/lrs/common/ju/ju_frame.jsp?DIS=116090',\n",
       "  '(06/07/2018)',\n",
       "  'DESIGNING HONG KONG LTD v. THE TOWN PLANNING BOARD \\xa0'),\n",
       " ('Final Appeal (Civil)',\n",
       "  '2018',\n",
       "  \"\\\\'https://legalref.judiciary.hk/lrs/images/ThemeXP/Epage.gif\\\\'\",\n",
       "  'FACV4/2018',\n",
       "  'https://legalref.judiciary.hk/lrs/common/ju/ju_frame.jsp?DIS=115161',\n",
       "  '(15/05/2018)',\n",
       "  'DESIGNING HONG KONG LTD v. THE TOWN PLANNING BOARD, SECRETARY FOR JUSTICE \\xa0Reported in :(2018) 21 HKCFAR 237'),\n",
       " ('Final Appeal (Civil)',\n",
       "  '2018',\n",
       "  \"\\\\'https://legalref.judiciary.hk/lrs/images/ThemeXP/Epage.gif\\\\'\",\n",
       "  'FACV5/2018',\n",
       "  'https://legalref.judiciary.hk/lrs/common/ju/ju_frame.jsp?DIS=117866',\n",
       "  '(12/10/2018)',\n",
       "  'SECURITIES AND FUTURES COMMISSION v. YIU HOI YING CHARLES AND OTHERS \\xa0Reported in :(2018) 21 HKCFAR 475'),\n",
       " ('Final Appeal (Civil)',\n",
       "  '2018',\n",
       "  \"\\\\'https://legalref.judiciary.hk/lrs/images/ThemeXP/Epage.gif\\\\'\",\n",
       "  'FACV6/2018',\n",
       "  'https://legalref.judiciary.hk/lrs/common/ju/ju_frame.jsp?DIS=117852',\n",
       "  '(11/10/2018)',\n",
       "  'MOODY’S INVESTORS SERVICE HONG KONG LIMITED v. SECURITIES AND FUTURES COMMISSION \\xa0Reported in :(2018) 21 HKCFAR 456'),\n",
       " ('Final Appeal (Civil)',\n",
       "  '2018',\n",
       "  \"\\\\'https://legalref.judiciary.hk/lrs/images/ThemeXP/Epage.gif\\\\'\",\n",
       "  'FACV7/2018',\n",
       "  'https://legalref.judiciary.hk/lrs/common/ju/ju_frame.jsp?DIS=118186',\n",
       "  '(31/10/2018)',\n",
       "  'LEE KWOK WA AND OTHERS v. THE SECURITIES AND FUTURES COMMISSION \\xa0Reported in :(2018) 21 HKCFAR 537'),\n",
       " ('Final Appeal (Civil)',\n",
       "  '2018',\n",
       "  \"\\\\'https://legalref.judiciary.hk/lrs/images/ThemeXP/Epage.gif\\\\'\",\n",
       "  'FACV8/2018',\n",
       "  'https://legalref.judiciary.hk/lrs/common/ju/ju_frame.jsp?DIS=122337',\n",
       "  '(06/06/2019)',\n",
       "  'LEUNG CHUN KWONG v. SECRETARY FOR THE CIVIL SERVICE AND ANOTHER \\xa0'),\n",
       " ('Final Appeal (Civil)',\n",
       "  '2018',\n",
       "  \"\\\\'https://legalref.judiciary.hk/lrs/images/ThemeXP/Epage.gif\\\\'\",\n",
       "  'FACV9/2018',\n",
       "  'https://legalref.judiciary.hk/lrs/common/ju/ju_frame.jsp?DIS=122429',\n",
       "  '(11/06/2019)',\n",
       "  'COMILANG, MILAGROS TECSON AND ANOTHER v. DIRECTOR OF IMMIGRATION \\xa0'),\n",
       " ('Final Appeal (Civil)',\n",
       "  '2018',\n",
       "  \"\\\\'https://legalref.judiciary.hk/lrs/images/ThemeXP/Epage.gif\\\\'\",\n",
       "  'FACV9/2018',\n",
       "  'https://legalref.judiciary.hk/lrs/common/ju/ju_frame.jsp?DIS=121147',\n",
       "  '(04/04/2019)',\n",
       "  'COMILANG, MILAGROS TECSON AND ANOTHER v. DIRECTOR OF IMMIGRATION \\xa0'),\n",
       " ('Final Appeal (Civil)',\n",
       "  '2018',\n",
       "  \"\\\\'https://legalref.judiciary.hk/lrs/images/ThemeXP/Epage.gif\\\\'\",\n",
       "  'FACV10/2018',\n",
       "  'https://legalref.judiciary.hk/lrs/common/ju/ju_frame.jsp?DIS=122430',\n",
       "  '(11/06/2019)',\n",
       "  'LUIS, DESIREE RANTE AND OTHERS v. DIRECTOR OF IMMIGRATION \\xa0'),\n",
       " ('Final Appeal (Civil)',\n",
       "  '2018',\n",
       "  \"\\\\'https://legalref.judiciary.hk/lrs/images/ThemeXP/Epage.gif\\\\'\",\n",
       "  'FACV10/2018',\n",
       "  'https://legalref.judiciary.hk/lrs/common/ju/ju_frame.jsp?DIS=121148',\n",
       "  '(04/04/2019)',\n",
       "  'LUIS, DESIREE RANTE AND OTHERS. v. DIRECTOR OF IMMIGRATION \\xa0'),\n",
       " ('Final Appeal (Civil)',\n",
       "  '2017',\n",
       "  \"\\\\'https://legalref.judiciary.hk/lrs/images/ThemeXP/Epage.gif\\\\'\",\n",
       "  'FACV1/2017',\n",
       "  'https://legalref.judiciary.hk/lrs/common/ju/ju_frame.jsp?DIS=112878',\n",
       "  '(27/12/2017)',\n",
       "  \"PENNY\\\\'S BAY INVESTMENT CO LTD v. DIRECTOR OF LANDS \\xa0\"),\n",
       " ('Final Appeal (Civil)',\n",
       "  '2017',\n",
       "  \"\\\\'https://legalref.judiciary.hk/lrs/images/ThemeXP/Epage.gif\\\\'\",\n",
       "  'FACV1/2017',\n",
       "  'https://legalref.judiciary.hk/lrs/common/ju/ju_frame.jsp?DIS=111705',\n",
       "  '(16/10/2017)',\n",
       "  \"PENNY\\\\'S BAY INVESTMENT CO LTD v. DIRECTOR OF LANDS \\xa0Reported in :(2017) 20 HKCFAR 465\"),\n",
       " ('Final Appeal (Civil)',\n",
       "  '2017',\n",
       "  \"\\\\'https://legalref.judiciary.hk/lrs/images/ThemeXP/Epage.gif\\\\'\",\n",
       "  'FACV2/2017',\n",
       "  'https://legalref.judiciary.hk/lrs/common/ju/ju_frame.jsp?DIS=112879',\n",
       "  '(27/12/2017)',\n",
       "  'DIRECTOR OF LANDS v. PENNY’S BAY INVESTMENT CO LTD \\xa0'),\n",
       " ('Final Appeal (Civil)',\n",
       "  '2017',\n",
       "  \"\\\\'https://legalref.judiciary.hk/lrs/images/ThemeXP/Epage.gif\\\\'\",\n",
       "  'FACV2/2017',\n",
       "  'https://legalref.judiciary.hk/lrs/common/ju/ju_frame.jsp?DIS=111706',\n",
       "  '(16/10/2017)',\n",
       "  \"DIRECTOR OF LANDS v. PENNY\\\\'S BAY INVESTMENT CO LTD \\xa0Reported in :(2017) 20 HKCFAR 465\"),\n",
       " ('Final Appeal (Civil)',\n",
       "  '2017',\n",
       "  \"\\\\'https://legalref.judiciary.hk/lrs/images/ThemeXP/Epage.gif\\\\'\",\n",
       "  'FACV3/2017',\n",
       "  'https://legalref.judiciary.hk/lrs/common/ju/ju_frame.jsp?DIS=112880',\n",
       "  '(27/12/2017)',\n",
       "  'DIRECTOR OF LANDS v. PENNY’S BAY INVESTMENT CO LTD \\xa0'),\n",
       " ('Final Appeal (Civil)',\n",
       "  '2017',\n",
       "  \"\\\\'https://legalref.judiciary.hk/lrs/images/ThemeXP/Epage.gif\\\\'\",\n",
       "  'FACV3/2017',\n",
       "  'https://legalref.judiciary.hk/lrs/common/ju/ju_frame.jsp?DIS=111707',\n",
       "  '(16/10/2017)',\n",
       "  \"DIRECTOR OF LANDS v. PENNY\\\\'S BAY INVESTMENT CO LTD \\xa0Reported in :(2017) 20 HKCFAR 465\"),\n",
       " ('Final Appeal (Civil)',\n",
       "  '2017',\n",
       "  \"\\\\'https://legalref.judiciary.hk/lrs/images/ThemeXP/Epage.gif\\\\'\",\n",
       "  'FACV4/2017',\n",
       "  'https://legalref.judiciary.hk/lrs/common/ju/ju_frame.jsp?DIS=112881',\n",
       "  '(27/12/2017)',\n",
       "  'DIRECTOR OF LANDS v. PENNY’S BAY INVESTMENT CO LTD \\xa0'),\n",
       " ('Final Appeal (Civil)',\n",
       "  '2017',\n",
       "  \"\\\\'https://legalref.judiciary.hk/lrs/images/ThemeXP/Epage.gif\\\\'\",\n",
       "  'FACV4/2017',\n",
       "  'https://legalref.judiciary.hk/lrs/common/ju/ju_frame.jsp?DIS=111708',\n",
       "  '(16/10/2017)',\n",
       "  \"DIRECTOR OF LANDS v. PENNY\\\\'S BAY INVESTMENT CO LTD \\xa0Reported in :(2017) 20 HKCFAR 465\"),\n",
       " ('Final Appeal (Civil)',\n",
       "  '2017',\n",
       "  \"\\\\'https://legalref.judiciary.hk/lrs/images/ThemeXP/Epage.gif\\\\'\",\n",
       "  'FACV5/2017',\n",
       "  'https://legalref.judiciary.hk/lrs/common/ju/ju_frame.jsp?DIS=112882',\n",
       "  '(27/12/2017)',\n",
       "  'DIRECTOR OF LANDS v. PENNY’S BAY INVESTMENT CO LTD \\xa0'),\n",
       " ('Final Appeal (Civil)',\n",
       "  '2017',\n",
       "  \"\\\\'https://legalref.judiciary.hk/lrs/images/ThemeXP/Epage.gif\\\\'\",\n",
       "  'FACV5/2017',\n",
       "  'https://legalref.judiciary.hk/lrs/common/ju/ju_frame.jsp?DIS=111709',\n",
       "  '(16/10/2017)',\n",
       "  \"DIRECTOR OF LANDS v. PENNY\\\\'S BAY INVESTMENT CO LTD \\xa0Reported in :(2017) 20 HKCFAR 465\"),\n",
       " ('Final Appeal (Civil)',\n",
       "  '2017',\n",
       "  \"\\\\'https://legalref.judiciary.hk/lrs/images/ThemeXP/Epage.gif\\\\'\",\n",
       "  'FACV6/2017',\n",
       "  'https://legalref.judiciary.hk/lrs/common/ju/ju_frame.jsp?DIS=112883',\n",
       "  '(27/12/2017)',\n",
       "  'DIRECTOR OF LANDS v. PENNY’S BAY INVESTMENT CO LTD \\xa0'),\n",
       " ('Final Appeal (Civil)',\n",
       "  '2017',\n",
       "  \"\\\\'https://legalref.judiciary.hk/lrs/images/ThemeXP/Epage.gif\\\\'\",\n",
       "  'FACV6/2017',\n",
       "  'https://legalref.judiciary.hk/lrs/common/ju/ju_frame.jsp?DIS=111710',\n",
       "  '(16/10/2017)',\n",
       "  \"DIRECTOR OF LANDS v. PENNY\\\\'S BAY INVESTMENT CO LTD \\xa0Reported in :(2017) 20 HKCFAR 465\"),\n",
       " ('Final Appeal (Civil)',\n",
       "  '2017',\n",
       "  \"\\\\'https://legalref.judiciary.hk/lrs/images/ThemeXP/Epage.gif\\\\'\",\n",
       "  'FACV7/2017',\n",
       "  'https://legalref.judiciary.hk/lrs/common/ju/ju_frame.jsp?DIS=112884',\n",
       "  '(27/12/2017)',\n",
       "  'DIRECTOR OF LANDS v. PENNY’S BAY INVESTMENT CO LTD \\xa0'),\n",
       " ('Final Appeal (Civil)',\n",
       "  '2017',\n",
       "  \"\\\\'https://legalref.judiciary.hk/lrs/images/ThemeXP/Epage.gif\\\\'\",\n",
       "  'FACV7/2017',\n",
       "  'https://legalref.judiciary.hk/lrs/common/ju/ju_frame.jsp?DIS=111711',\n",
       "  '(16/10/2017)',\n",
       "  \"DIRECTOR OF LANDS v. PENNY\\\\'S BAY INVESTMENT CO LTD \\xa0Reported in :(2017) 20 HKCFAR 465\"),\n",
       " ('Final Appeal (Civil)',\n",
       "  '2017',\n",
       "  \"\\\\'https://legalref.judiciary.hk/lrs/images/ThemeXP/Epage.gif\\\\'\",\n",
       "  'FACV8/2017',\n",
       "  'https://legalref.judiciary.hk/lrs/common/ju/ju_frame.jsp?DIS=112885',\n",
       "  '(27/12/2017)',\n",
       "  'DIRECTOR OF LANDS v. PENNY’S BAY INVESTMENT CO LTD \\xa0'),\n",
       " ('Final Appeal (Civil)',\n",
       "  '2017',\n",
       "  \"\\\\'https://legalref.judiciary.hk/lrs/images/ThemeXP/Epage.gif\\\\'\",\n",
       "  'FACV8/2017',\n",
       "  'https://legalref.judiciary.hk/lrs/common/ju/ju_frame.jsp?DIS=111712',\n",
       "  '(16/10/2017)',\n",
       "  \"DIRECTOR OF LANDS v. PENNY\\\\'S BAY INVESTMENT CO LTD \\xa0Reported in :(2017) 20 HKCFAR 465\"),\n",
       " ('Final Appeal (Civil)',\n",
       "  '2017',\n",
       "  \"\\\\'https://legalref.judiciary.hk/lrs/images/ThemeXP/Epage.gif\\\\'\",\n",
       "  'FACV9/2017',\n",
       "  'https://legalref.judiciary.hk/lrs/common/ju/ju_frame.jsp?DIS=112886',\n",
       "  '(27/12/2017)',\n",
       "  'DIRECTOR OF LANDS v. PENNY’S BAY INVESTMENT CO LTD \\xa0'),\n",
       " ('Final Appeal (Civil)',\n",
       "  '2017',\n",
       "  \"\\\\'https://legalref.judiciary.hk/lrs/images/ThemeXP/Epage.gif\\\\'\",\n",
       "  'FACV9/2017',\n",
       "  'https://legalref.judiciary.hk/lrs/common/ju/ju_frame.jsp?DIS=111713',\n",
       "  '(16/10/2017)',\n",
       "  \"DIRECTOR OF LANDS v. PENNY\\\\'S BAY INVESTMENT CO LTD \\xa0Reported in :(2017) 20 HKCFAR 465\"),\n",
       " ('Final Appeal (Civil)',\n",
       "  '2017',\n",
       "  \"\\\\'https://legalref.judiciary.hk/lrs/images/ThemeXP/Epage.gif\\\\'\",\n",
       "  'FACV10/2017',\n",
       "  'https://legalref.judiciary.hk/lrs/common/ju/ju_frame.jsp?DIS=112862',\n",
       "  '(22/12/2017)',\n",
       "  'THE REGISTRAR OF THE HONG KONG INSTITUTE OF CERTIFIED PUBLIC ACCOUNTANTS v. WONG TAK MAN STEPHEN AND ANOTHER \\xa0Reported in :(2017) 20 HKCFAR 556'),\n",
       " ('Final Appeal (Civil)',\n",
       "  '2017',\n",
       "  \"\\\\'https://legalref.judiciary.hk/lrs/images/ThemeXP/Epage.gif\\\\'\",\n",
       "  'FACV11/2017',\n",
       "  'https://legalref.judiciary.hk/lrs/common/ju/ju_frame.jsp?DIS=112877',\n",
       "  '(27/12/2017)',\n",
       "  'PCCW-HKT TELEPHONE LTD AND ANOTHER v. THE SECRETARY FOR COMMERCE AND ECONOMIC DEVELOPMENT AND ANOTHER \\xa0Reported in :(2017) 20 HKCFAR 592'),\n",
       " ('Final Appeal (Civil)',\n",
       "  '2017',\n",
       "  \"\\\\'https://legalref.judiciary.hk/lrs/images/ThemeXP/Epage.gif\\\\'\",\n",
       "  'FACV12/2017',\n",
       "  'https://legalref.judiciary.hk/lrs/common/ju/ju_frame.jsp?DIS=113379',\n",
       "  '(31/01/2018)',\n",
       "  'LO SIU WA v. EMPLOYEES COMPENSATION ASSISTANCE FUND BOARD AND ANOTHER \\xa0Reported in :(2018) 21 HKCFAR 8'),\n",
       " ('Final Appeal (Civil)',\n",
       "  '2017',\n",
       "  \"\\\\'https://legalref.judiciary.hk/lrs/images/ThemeXP/Epage.gif\\\\'\",\n",
       "  'FACV13/2017',\n",
       "  'https://legalref.judiciary.hk/lrs/common/ju/ju_frame.jsp?DIS=115976',\n",
       "  '(03/07/2018)',\n",
       "  'JONATHAN LU AND OTHERS v. PAUL CHAN MO PO AND ANOTHER \\xa0'),\n",
       " ('Final Appeal (Civil)',\n",
       "  '2017',\n",
       "  \"\\\\'https://legalref.judiciary.hk/lrs/images/ThemeXP/Epage.gif\\\\'\",\n",
       "  'FACV13/2017',\n",
       "  'https://legalref.judiciary.hk/lrs/common/ju/ju_frame.jsp?DIS=114512',\n",
       "  '(10/04/2018)',\n",
       "  'JONATHAN LU AND OTHERS v. PAUL CHAN MO-PO AND ANOTHER \\xa0Reported in :(2018) 21 HKCFAR 94'),\n",
       " ('Final Appeal (Civil)',\n",
       "  '2017',\n",
       "  \"\\\\'https://legalref.judiciary.hk/lrs/images/ThemeXP/Epage.gif\\\\'\",\n",
       "  'FACV14/2017',\n",
       "  'https://legalref.judiciary.hk/lrs/common/ju/ju_frame.jsp?DIS=116324',\n",
       "  '(18/07/2018)',\n",
       "  'ASTRO NUSANTARA INTERNATIONAL B.V. AND OTHERS v. PT FIRST MEDIA TBK \\xa0'),\n",
       " ('Final Appeal (Civil)',\n",
       "  '2017',\n",
       "  \"\\\\'https://legalref.judiciary.hk/lrs/images/ThemeXP/Epage.gif\\\\'\",\n",
       "  'FACV14/2017',\n",
       "  'https://legalref.judiciary.hk/lrs/common/ju/ju_frame.jsp?DIS=114529',\n",
       "  '(11/04/2018)',\n",
       "  'ASTRO NUSANTARA INTERNATIONAL B.V. AND OTHERS v. PT FIRST MEDIA TBK \\xa0Reported in :(2018) 21 HKCFAR 118'),\n",
       " ('Final Appeal (Civil)',\n",
       "  '2017',\n",
       "  \"\\\\'https://legalref.judiciary.hk/lrs/images/ThemeXP/Epage.gif\\\\'\",\n",
       "  'FACV15/2017',\n",
       "  'https://legalref.judiciary.hk/lrs/common/ju/ju_frame.jsp?DIS=115053',\n",
       "  '(09/05/2018)',\n",
       "  'BUILDING AUTHORITY v. APPEAL TRIBUNAL (BUILDINGS) AND ANOTHER \\xa0Reported in :(2018) 21 HKCFAR 194'),\n",
       " ('Final Appeal (Civil)',\n",
       "  '1997',\n",
       "  \"\\\\'https://legalref.judiciary.hk/lrs/images/ThemeXP/Epage.gif\\\\'\",\n",
       "  'FACV1/1997',\n",
       "  'https://legalref.judiciary.hk/lrs/common/ju/ju_frame.jsp?DIS=24946',\n",
       "  '(27/10/1997)',\n",
       "  'WONG TAK YUE v. KUNG KWOK WAI DAVID AND ANOTHER \\xa0Reported in :[1997] HKLRD 1262;(1997-1998) 1 HKCFAR 44'),\n",
       " ('Final Appeal (Civil)',\n",
       "  '1997',\n",
       "  \"\\\\'https://legalref.judiciary.hk/lrs/images/ThemeXP/Epage.gif\\\\'\",\n",
       "  'FACV1/1997',\n",
       "  'https://legalref.judiciary.hk/lrs/common/ju/ju_frame.jsp?DIS=30096',\n",
       "  '(13/01/1998)',\n",
       "  'WONG TAK YUE v. KUNG KWOK WAI DAVID AND ANOTHER \\xa0Reported in :[1998] 1 HKLRD 241;(1997-1998) 1 HKCFAR 55'),\n",
       " ('Final Appeal (Civil)',\n",
       "  '1997',\n",
       "  \"\\\\'https://legalref.judiciary.hk/lrs/images/ThemeXP/Epage.gif\\\\'\",\n",
       "  'FACV2/1997',\n",
       "  'https://legalref.judiciary.hk/lrs/common/ju/ju_frame.jsp?DIS=18222',\n",
       "  '(05/03/1998)',\n",
       "  'FU KIN CHI, WILLY v. THE SECRETARY FOR JUSTICE \\xa0Reported in :[1998] 1 HKLRD 271;(1997-1998) 1 HKCFAR 85'),\n",
       " ('Final Appeal (Civil)',\n",
       "  '1997',\n",
       "  \"\\\\'https://legalref.judiciary.hk/lrs/images/ThemeXP/Epage.gif\\\\'\",\n",
       "  'FACV3/1997',\n",
       "  'https://legalref.judiciary.hk/lrs/common/ju/ju_frame.jsp?DIS=18224',\n",
       "  '(18/05/1998)',\n",
       "  'NG YAT CHI v. MAX SHARE LTD AND ANOTHER \\xa0Reported in :[1998] 1 HKLRD 866;(1997-1998) 1 HKCFAR 155'),\n",
       " ('Final Appeal (Civil)',\n",
       "  '1997',\n",
       "  \"\\\\'https://legalref.judiciary.hk/lrs/images/ThemeXP/Epage.gif\\\\'\",\n",
       "  'FACV3/1997',\n",
       "  'https://legalref.judiciary.hk/lrs/common/ju/ju_frame.jsp?DIS=18225',\n",
       "  '(14/01/1998)',\n",
       "  'MAX SHARE LTD AND ANOTHER  v. NG YAT CHI \\xa0Reported in :[1998] 1 HKLRD 237;(1997-1998) 1 HKCFAR 72'),\n",
       " ('Final Appeal (Civil)',\n",
       "  '1997',\n",
       "  \"\\\\'https://legalref.judiciary.hk/lrs/images/ThemeXP/Epage.gif\\\\'\",\n",
       "  'FACV4/1997',\n",
       "  'https://legalref.judiciary.hk/lrs/common/ju/ju_frame.jsp?DIS=18325',\n",
       "  '(05/11/1998)',\n",
       "  'BEWISE MOTORS CO LTD v. HOI KONG CONTAINER SERVICES LTD \\xa0Reported in :(1997-1998) 1 HKCFAR 256; [1998] 2 HKLRD 645'),\n",
       " ('Final Appeal (Civil)',\n",
       "  '2015',\n",
       "  \"\\\\'https://legalref.judiciary.hk/lrs/images/ThemeXP/Epage.gif\\\\'\",\n",
       "  'FACV1/2015',\n",
       "  'https://legalref.judiciary.hk/lrs/common/ju/ju_frame.jsp?DIS=99132',\n",
       "  '(26/06/2015)',\n",
       "  'BIG ISLAND CONSTRUCTION (HK) LTD v. WU YI DEVELOPMENT CO LTD AND ANOTHER \\xa0Reported in :(2015) 18 HKCFAR 364'),\n",
       " ('Final Appeal (Civil)',\n",
       "  '2015',\n",
       "  \"\\\\'https://legalref.judiciary.hk/lrs/images/ThemeXP/Epage.gif\\\\'\",\n",
       "  'FACV2/2015',\n",
       "  'https://legalref.judiciary.hk/lrs/common/ju/ju_frame.jsp?DIS=101882',\n",
       "  '(18/12/2015)',\n",
       "  'LEUNG HON WAI v. DIRECTOR OF ENVIRONMENTAL PROTECTION \\xa0'),\n",
       " ('Final Appeal (Civil)',\n",
       "  '2015',\n",
       "  \"\\\\'https://legalref.judiciary.hk/lrs/images/ThemeXP/Epage.gif\\\\'\",\n",
       "  'FACV3/2015',\n",
       "  'https://legalref.judiciary.hk/lrs/common/ju/ju_frame.jsp?DIS=101198',\n",
       "  '(05/11/2015)',\n",
       "  'TAN CHENG GAY AND OTHERS v. TAN CHOO SUAN AND ANOTHER \\xa0Reported in :(2015) 18 HKCFAR 430'),\n",
       " ('Final Appeal (Civil)',\n",
       "  '2015',\n",
       "  \"\\\\'https://legalref.judiciary.hk/lrs/images/ThemeXP/Epage.gif\\\\'\",\n",
       "  'FACV4/2015',\n",
       "  'https://legalref.judiciary.hk/lrs/common/ju/ju_frame.jsp?DIS=101967',\n",
       "  '(24/12/2015)',\n",
       "  'KAM LEUNG SUI KWAN v. KAM KWAN LAI AND OTHERS \\xa0Reported in :(2015) 18 HKCFAR 631'),\n",
       " ('Final Appeal (Civil)',\n",
       "  '2015',\n",
       "  \"\\\\'https://legalref.judiciary.hk/lrs/images/ThemeXP/Epage.gif\\\\'\",\n",
       "  'FACV4/2015',\n",
       "  'https://legalref.judiciary.hk/lrs/common/ju/ju_frame.jsp?DIS=102501',\n",
       "  '(03/02/2016)',\n",
       "  'KAM LEUNG SUI KWAN v. KAM KWAN LAI AND OTHERS \\xa0'),\n",
       " ('Final Appeal (Civil)',\n",
       "  '2015',\n",
       "  \"\\\\'https://legalref.judiciary.hk/lrs/images/ThemeXP/Epage.gif\\\\'\",\n",
       "  'FACV4/2015',\n",
       "  'https://legalref.judiciary.hk/lrs/common/ju/ju_frame.jsp?DIS=101295',\n",
       "  '(11/11/2015)',\n",
       "  'KAM LEUNG SUI KWAN v. KAM KWAN LAI AND OTHERS \\xa0Reported in :(2015) 18 HKCFAR 501'),\n",
       " ('Final Appeal (Civil)',\n",
       "  '2015',\n",
       "  \"\\\\'https://legalref.judiciary.hk/lrs/images/ThemeXP/Epage.gif\\\\'\",\n",
       "  'FACV5/2015',\n",
       "  'https://legalref.judiciary.hk/lrs/common/ju/ju_frame.jsp?DIS=100375',\n",
       "  '(11/09/2015)',\n",
       "  'CHEUNG KWAI YIN v. MORAL LUCK FINANCE LTD \\xa0'),\n",
       " ('Final Appeal (Civil)',\n",
       "  '2015',\n",
       "  \"\\\\'https://legalref.judiciary.hk/lrs/images/ThemeXP/Epage.gif\\\\'\",\n",
       "  'FACV5/2015',\n",
       "  'https://legalref.judiciary.hk/lrs/common/ju/ju_frame.jsp?DIS=99066',\n",
       "  '(24/06/2015)',\n",
       "  'CHEUNG KWAI YIN v. MORAL LUCK FINANCE LTD \\xa0Reported in :(2015) 18 HKCFAR 343'),\n",
       " ('Final Appeal (Civil)',\n",
       "  '2015',\n",
       "  \"\\\\'https://legalref.judiciary.hk/lrs/images/ThemeXP/Epage.gif\\\\'\",\n",
       "  'FACV6/2015',\n",
       "  'https://legalref.judiciary.hk/lrs/common/ju/ju_frame.jsp?DIS=100376',\n",
       "  '(11/09/2015)',\n",
       "  'CHEUNG KWAI YIN v. MORAL LUCK FINANCE LTD \\xa0'),\n",
       " ('Final Appeal (Civil)',\n",
       "  '2015',\n",
       "  \"\\\\'https://legalref.judiciary.hk/lrs/images/ThemeXP/Epage.gif\\\\'\",\n",
       "  'FACV6/2015',\n",
       "  'https://legalref.judiciary.hk/lrs/common/ju/ju_frame.jsp?DIS=99073',\n",
       "  '(24/06/2015)',\n",
       "  'CHEUNG KWAI YIN v. MORAL LUCK FINANCE LTD \\xa0Reported in :(2015) 18 HKCFAR 343'),\n",
       " ('Final Appeal (Civil)',\n",
       "  '2015',\n",
       "  \"\\\\'https://legalref.judiciary.hk/lrs/images/ThemeXP/Epage.gif\\\\'\",\n",
       "  'FACV7/2015',\n",
       "  'https://legalref.judiciary.hk/lrs/common/ju/ju_frame.jsp?DIS=101883',\n",
       "  '(18/12/2015)',\n",
       "  'CHAU HOI SHUEN, SOLINA HOLLY v. SEEC MEDIA GROUP LTD \\xa0Reported in :(2015) 18 HKCFAR 582'),\n",
       " ('Final Appeal (Civil)',\n",
       "  '2015',\n",
       "  \"\\\\'https://legalref.judiciary.hk/lrs/images/ThemeXP/Epage.gif\\\\'\",\n",
       "  'FACV8/2015',\n",
       "  'https://legalref.judiciary.hk/lrs/common/ju/ju_frame.jsp?DIS=101216',\n",
       "  '(05/11/2015)',\n",
       "  'OFFICIAL RECEIVER v. ZHI CHARLES, formerly known as CHANG HYUN CHI AND ANOTHER \\xa0Reported in :(2015) 18 HKCFAR 467'),\n",
       " ('Final Appeal (Civil)',\n",
       "  '2015',\n",
       "  \"\\\\'https://legalref.judiciary.hk/lrs/images/ThemeXP/Epage.gif\\\\'\",\n",
       "  'FACV9/2015',\n",
       "  'https://legalref.judiciary.hk/lrs/common/ju/ju_frame.jsp?DIS=101217',\n",
       "  '(05/11/2015)',\n",
       "  'SUEN SHU TAI v. TAM FUNG TAI \\xa0Reported in :(2015) 18 HKCFAR 491'),\n",
       " ('Final Appeal (Civil)',\n",
       "  '2015',\n",
       "  \"\\\\'https://legalref.judiciary.hk/lrs/images/ThemeXP/Epage.gif\\\\'\",\n",
       "  'FACV10/2015',\n",
       "  'https://legalref.judiciary.hk/lrs/common/ju/ju_frame.jsp?DIS=102698',\n",
       "  '(18/02/2016)',\n",
       "  'LEUNG WING YI ASTHER v.   KWOK YU WAH \\xa0'),\n",
       " ('Final Appeal (Civil)',\n",
       "  '2015',\n",
       "  \"\\\\'https://legalref.judiciary.hk/lrs/images/ThemeXP/Epage.gif\\\\'\",\n",
       "  'FACV10/2015',\n",
       "  'https://legalref.judiciary.hk/lrs/common/ju/ju_frame.jsp?DIS=101932',\n",
       "  '(22/12/2015)',\n",
       "  'LEUNG WING YI ASTHER v. KWOK YU WAH \\xa0Reported in :(2015) 18 HKCFAR 605'),\n",
       " ('Final Appeal (Civil)',\n",
       "  '2015',\n",
       "  \"\\\\'https://legalref.judiciary.hk/lrs/images/ThemeXP/Epage.gif\\\\'\",\n",
       "  'FACV11/2015',\n",
       "  'https://legalref.judiciary.hk/lrs/common/ju/ju_frame.jsp?DIS=102699',\n",
       "  '(18/02/2016)',\n",
       "  'LEUNG LUN PING v. KWOK YU WAH \\xa0'),\n",
       " ('Final Appeal (Civil)',\n",
       "  '2015',\n",
       "  \"\\\\'https://legalref.judiciary.hk/lrs/images/ThemeXP/Epage.gif\\\\'\",\n",
       "  'FACV11/2015',\n",
       "  'https://legalref.judiciary.hk/lrs/common/ju/ju_frame.jsp?DIS=101944',\n",
       "  '(22/12/2015)',\n",
       "  'LEUNG LUN PING   v.   KWOK YU WAH \\xa0Reported in :(2015) 18 HKCFAR 605'),\n",
       " ('Final Appeal (Civil)',\n",
       "  '2015',\n",
       "  \"\\\\'https://legalref.judiciary.hk/lrs/images/ThemeXP/Epage.gif\\\\'\",\n",
       "  'FACV12/2015',\n",
       "  'https://legalref.judiciary.hk/lrs/common/ju/ju_frame.jsp?DIS=101853',\n",
       "  '(16/12/2015)',\n",
       "  'RYDER INDUSTRIES LTD (FORMERLY SAITEK LTD) v. CHAN SHUI WOO \\xa0Reported in :(2015) 18 HKCFAR 544'),\n",
       " ('Final Appeal (Civil)',\n",
       "  '2015',\n",
       "  \"\\\\'https://legalref.judiciary.hk/lrs/images/ThemeXP/Epage.gif\\\\'\",\n",
       "  'FACV13/2015',\n",
       "  'https://legalref.judiciary.hk/lrs/common/ju/ju_frame.jsp?DIS=101854',\n",
       "  '(16/12/2015)',\n",
       "  'RYDER INDUSTRIES LTD (FORMERLY SAITEK LTD) v. TIMELY ELECTRONICS CO LTD \\xa0Reported in :(2015) 18 HKCFAR 544'),\n",
       " ('Final Appeal (Civil)',\n",
       "  '2015',\n",
       "  \"\\\\'https://legalref.judiciary.hk/lrs/images/ThemeXP/Epage.gif\\\\'\",\n",
       "  'FACV14/2015',\n",
       "  'https://legalref.judiciary.hk/lrs/common/ju/ju_frame.jsp?DIS=104014',\n",
       "  '(17/05/2016)',\n",
       "  'YUNG CHI KEUNG v. PROTECTION OF WAGES ON INSOLVENCY BOARD AND ANOTHER \\xa0Reported in :(2016) 19 HKCFAR 469'),\n",
       " ('Final Appeal (Civil)',\n",
       "  '2015',\n",
       "  \"\\\\'https://legalref.judiciary.hk/lrs/images/ThemeXP/Epage.gif\\\\'\",\n",
       "  'FACV15/2015',\n",
       "  'https://legalref.judiciary.hk/lrs/common/ju/ju_frame.jsp?DIS=102432',\n",
       "  '(29/01/2016)',\n",
       "  'TWG TEA CO PTE LTD AND ANOTHER v. TSIT WING (HONG KONG) CO LTD AND OTHERS \\xa0Reported in :(2016) 19 HKCFAR 20'),\n",
       " ('Final Appeal (Civil)',\n",
       "  '2015',\n",
       "  \"\\\\'https://legalref.judiciary.hk/lrs/images/ThemeXP/Epage.gif\\\\'\",\n",
       "  'FACV15/2015',\n",
       "  'https://legalref.judiciary.hk/lrs/common/ju/ju_frame.jsp?DIS=103276',\n",
       "  '(23/03/2016)',\n",
       "  'TWG TEA COMPANY PTE LTD & ANOTHER v. TSIT WING (HONG KONG) CO LTD & OTHER \\xa0Reported in :(2016) 19 HKCFAR 142'),\n",
       " ('Final Appeal (Civil)',\n",
       "  '2015',\n",
       "  \"\\\\'https://legalref.judiciary.hk/lrs/images/ThemeXP/Epage.gif\\\\'\",\n",
       "  'FACV15/2015',\n",
       "  'https://legalref.judiciary.hk/lrs/common/ju/ju_frame.jsp?DIS=100167',\n",
       "  '(28/08/2015)',\n",
       "  'TWG TEA CO PTE LTD AND ANOTHER v. TSIT WING (HONG KONG) CO LTD AND OTHERS \\xa0'),\n",
       " ('Final Appeal (Civil)',\n",
       "  '2015',\n",
       "  \"\\\\'https://legalref.judiciary.hk/lrs/images/ThemeXP/Epage.gif\\\\'\",\n",
       "  'FACV16/2015',\n",
       "  'https://legalref.judiciary.hk/lrs/common/ju/ju_frame.jsp?DIS=102536',\n",
       "  '(04/02/2016)',\n",
       "  'COMMISSIONER OF INLAND REVENUE v. CHURCH BODY OF THE HONG KONG SHENG KUNG HUI AND ANOTHER \\xa0Reported in :(2016) 19 HKCFAR 54'),\n",
       " ('Final Appeal (Civil)',\n",
       "  '2015',\n",
       "  \"\\\\'https://legalref.judiciary.hk/lrs/images/ThemeXP/Epage.gif\\\\'\",\n",
       "  'FACV17/2015',\n",
       "  'https://legalref.judiciary.hk/lrs/common/ju/ju_frame.jsp?DIS=103397',\n",
       "  '(01/04/2016)',\n",
       "  'CHENG WAI TAO AND OTHERS v. POON KA MAN JASON (Suing on behalf of himself and all other shareholders in Smart Wave Limited except the 1st Appellant) AND ANOTHER \\xa0Reported in :(2016) 19 HKCFAR 144'),\n",
       " ('Final Appeal (Civil)',\n",
       "  '2015',\n",
       "  \"\\\\'https://legalref.judiciary.hk/lrs/images/ThemeXP/Epage.gif\\\\'\",\n",
       "  'FACV18/2015',\n",
       "  'https://legalref.judiciary.hk/lrs/common/ju/ju_frame.jsp?DIS=103383',\n",
       "  '(31/03/2016)',\n",
       "  'GILL GURBUX SINGH v. DAH SING INSURANCE SERVICES LTD \\xa0Reported in :(2016) 19 HKCFAR 454'),\n",
       " ('Final Appeal (Civil)',\n",
       "  '2015',\n",
       "  \"\\\\'https://legalref.judiciary.hk/lrs/images/ThemeXP/Epage.gif\\\\'\",\n",
       "  'FACV19/2015',\n",
       "  'https://legalref.judiciary.hk/lrs/common/ju/ju_frame.jsp?DIS=104067',\n",
       "  '(19/05/2016)',\n",
       "  'THE REAL ESTATE DEVELOPERS ASSOCIATION OF HONG KONG v. BUILDING AUTHORITY \\xa0Reported in :(2016) 19 HKCFAR 243'),\n",
       " ('Final Appeal (Civil)',\n",
       "  '2015',\n",
       "  \"\\\\'https://legalref.judiciary.hk/lrs/images/ThemeXP/Epage.gif\\\\'\",\n",
       "  'FACV21/2015',\n",
       "  'https://legalref.judiciary.hk/lrs/common/ju/ju_frame.jsp?DIS=107211',\n",
       "  '(13/12/2016)',\n",
       "  'HYSAN DEVELOPMENT CO LTD AND OTHERS v. TOWN PLANNING BOARD \\xa0Reported in :(2016) 19 HKCFAR 635'),\n",
       " ('Final Appeal (Civil)',\n",
       "  '2015',\n",
       "  \"\\\\'https://legalref.judiciary.hk/lrs/images/ThemeXP/Epage.gif\\\\'\",\n",
       "  'FACV21/2015',\n",
       "  'https://legalref.judiciary.hk/lrs/common/ju/ju_frame.jsp?DIS=106007',\n",
       "  '(26/09/2016)',\n",
       "  'HYSAN DEVELOPMENT CO LTD AND OTHERS v. TOWN PLANNING BOARD \\xa0Reported in :(2016) 19 HKCFAR 372'),\n",
       " ('Final Appeal (Civil)',\n",
       "  '2015',\n",
       "  \"\\\\'https://legalref.judiciary.hk/lrs/images/ThemeXP/Epage.gif\\\\'\",\n",
       "  'FACV22/2015',\n",
       "  'https://legalref.judiciary.hk/lrs/common/ju/ju_frame.jsp?DIS=107213',\n",
       "  '(13/12/2016)',\n",
       "  'LEIGHTON PROPERTY CO LTD AND ANOTHER v. TOWN PLANNING BOARD \\xa0Reported in :(2016) 19 HKCFAR 635'),\n",
       " ('Final Appeal (Civil)',\n",
       "  '2015',\n",
       "  \"\\\\'https://legalref.judiciary.hk/lrs/images/ThemeXP/Epage.gif\\\\'\",\n",
       "  'FACV22/2015',\n",
       "  'https://legalref.judiciary.hk/lrs/common/ju/ju_frame.jsp?DIS=106008',\n",
       "  '(26/09/2016)',\n",
       "  'LEIGHTON PROPERTY CO LTD AND ANOTHER v. TOWN PLANNING BOARD \\xa0Reported in :(2016) 19 HKCFAR 372'),\n",
       " ('Final Appeal (Civil)',\n",
       "  '2010',\n",
       "  \"\\\\'https://legalref.judiciary.hk/lrs/images/ThemeXP/Epage.gif\\\\'\",\n",
       "  'FACV1/2010',\n",
       "  'https://legalref.judiciary.hk/lrs/common/ju/ju_frame.jsp?DIS=74138',\n",
       "  '(06/12/2010)',\n",
       "  'KAYDEN LTD v. SECURITIES AND FUTURES COMMISSION   \\xa0Reported in :(2010) 13 HKCFAR 696'),\n",
       " ('Final Appeal (Civil)',\n",
       "  '2010',\n",
       "  \"\\\\'https://legalref.judiciary.hk/lrs/images/ThemeXP/Epage.gif\\\\'\",\n",
       "  'FACV2/2010',\n",
       "  'https://legalref.judiciary.hk/lrs/common/ju/ju_frame.jsp?DIS=75480',\n",
       "  '(04/03/2011)',\n",
       "  'YUKIO TAKAHASHI AND ANOTHER v. CHENG ZHEN SHU AND OTHERS \\xa0Reported in :(2011) 14 HKCFAR 558'),\n",
       " ('Final Appeal (Civil)',\n",
       "  '2010',\n",
       "  \"\\\\'https://legalref.judiciary.hk/lrs/images/ThemeXP/Epage.gif\\\\'\",\n",
       "  'FACV3/2010',\n",
       "  'https://legalref.judiciary.hk/lrs/common/ju/ju_frame.jsp?DIS=76780',\n",
       "  '(09/06/2011)',\n",
       "  'TAM SHUK YIN ANNY v.  CHOI KWOK CHAN AND OTHERS \\xa0'),\n",
       " ('Final Appeal (Civil)',\n",
       "  '2010',\n",
       "  \"\\\\'https://legalref.judiciary.hk/lrs/images/ThemeXP/Epage.gif\\\\'\",\n",
       "  'FACV3/2010',\n",
       "  'https://legalref.judiciary.hk/lrs/common/ju/ju_frame.jsp?DIS=74790',\n",
       "  '(13/01/2011)',\n",
       "  'TAM SHUK YIN ANNY v. CHOI KWOK CHAN AND OTHERS \\xa0Reported in :(2011) 14 HKCFAR 1'),\n",
       " ('Final Appeal (Civil)',\n",
       "  '2010',\n",
       "  \"\\\\'https://legalref.judiciary.hk/lrs/images/ThemeXP/Epage.gif\\\\'\",\n",
       "  'FACV4/2010',\n",
       "  'https://legalref.judiciary.hk/lrs/common/ju/ju_frame.jsp?DIS=75481',\n",
       "  '(04/03/2011)',\n",
       "  'LINGRADE DEVELOPMENT LTD v. SECRETARY FOR THE ENVIRONMENT, TRANSPORT AND WORKS \\xa0Reported in :(2011) 14 HKCFAR 439'),\n",
       " ('Final Appeal (Civil)',\n",
       "  '2010',\n",
       "  \"\\\\'https://legalref.judiciary.hk/lrs/images/ThemeXP/Epage.gif\\\\'\",\n",
       "  'FACV5/2010',\n",
       "  'https://legalref.judiciary.hk/lrs/common/ju/ju_frame.jsp?DIS=78113',\n",
       "  '(08/09/2011)',\n",
       "  'DEMOCRATIC REPUBLIC OF THE CONGO AND OTHERS v. FG HEMISPHERE ASSOCIATES LLC \\xa0Reported in :(2011) 14 HKCFAR 395'),\n",
       " ('Final Appeal (Civil)',\n",
       "  '2010',\n",
       "  \"\\\\'https://legalref.judiciary.hk/lrs/images/ThemeXP/Epage.gif\\\\'\",\n",
       "  'FACV5/2010',\n",
       "  'https://legalref.judiciary.hk/lrs/common/ju/ju_frame.jsp?DIS=79778',\n",
       "  '(06/01/2012)',\n",
       "  'DEMOCRATIC REPUBLIC OF THE CONGO AND OTHERS v. FG HEMISPHERE ASSOCIATES LLC \\xa0'),\n",
       " ('Final Appeal (Civil)',\n",
       "  '2010',\n",
       "  \"\\\\'https://legalref.judiciary.hk/lrs/images/ThemeXP/ETpage.gif\\\\'\",\n",
       "  'FACV5/2010',\n",
       "  'https://legalref.judiciary.hk/lrs/common/ju/ju_frame.jsp?DIS=76747',\n",
       "  '(08/06/2011)',\n",
       "  'DEMOCRATIC REPUBLIC OF THE CONGO AND OTHERS v. FG HEMISPHERE ASSOCIATES LLC \\xa0Reported in :(2011) 14 HKCFAR 95'),\n",
       " ('Final Appeal (Civil)',\n",
       "  '2010',\n",
       "  \"\\\\'https://legalref.judiciary.hk/lrs/images/ThemeXP/Epage.gif\\\\'\",\n",
       "  'FACV6/2010',\n",
       "  'https://legalref.judiciary.hk/lrs/common/ju/ju_frame.jsp?DIS=78114',\n",
       "  '(08/09/2011)',\n",
       "  'DEMOCRATIC REPUBLIC OF THE CONGO AND OTHERS v. FG HEMISPHERE ASSOCIATES LLC \\xa0Reported in :(2011) 14 HKCFAR 395'),\n",
       " ('Final Appeal (Civil)',\n",
       "  '2010',\n",
       "  \"\\\\'https://legalref.judiciary.hk/lrs/images/ThemeXP/Epage.gif\\\\'\",\n",
       "  'FACV6/2010',\n",
       "  'https://legalref.judiciary.hk/lrs/common/ju/ju_frame.jsp?DIS=79784',\n",
       "  '(06/01/2012)',\n",
       "  'DEMOCRATIC REPUBLIC OF THE CONGO AND OTHERS v. FG HEMISPHERE ASSOCIATES LLC \\xa0'),\n",
       " ('Final Appeal (Civil)',\n",
       "  '2010',\n",
       "  \"\\\\'https://legalref.judiciary.hk/lrs/images/ThemeXP/ETpage.gif\\\\'\",\n",
       "  'FACV6/2010',\n",
       "  'https://legalref.judiciary.hk/lrs/common/ju/ju_frame.jsp?DIS=76750',\n",
       "  '(08/06/2011)',\n",
       "  'DEMOCRATIC REPUBLIC OF THE CONGO AND OTHERS v. FG HEMISPHERE ASSOCIATES LLC \\xa0Reported in :(2011) 14 HKCFAR 95'),\n",
       " ('Final Appeal (Civil)',\n",
       "  '2010',\n",
       "  \"\\\\'https://legalref.judiciary.hk/lrs/images/ThemeXP/Epage.gif\\\\'\",\n",
       "  'FACV7/2010',\n",
       "  'https://legalref.judiciary.hk/lrs/common/ju/ju_frame.jsp?DIS=78115',\n",
       "  '(08/09/2011)',\n",
       "  'DEMOCRATIC REPUBLIC OF THE CONGO AND OTHERS v. FG HEMISPHERE ASSOCIATES LLC \\xa0Reported in :(2011) 14 HKCFAR 395'),\n",
       " ('Final Appeal (Civil)',\n",
       "  '2010',\n",
       "  \"\\\\'https://legalref.judiciary.hk/lrs/images/ThemeXP/Epage.gif\\\\'\",\n",
       "  'FACV7/2010',\n",
       "  'https://legalref.judiciary.hk/lrs/common/ju/ju_frame.jsp?DIS=79785',\n",
       "  '(06/01/2012)',\n",
       "  'DEMOCRATIC REPUBLIC OF THE CONGO AND OTHERS v. FG HEMISPHERE ASSOCIATES LLC \\xa0'),\n",
       " ('Final Appeal (Civil)',\n",
       "  '2010',\n",
       "  \"\\\\'https://legalref.judiciary.hk/lrs/images/ThemeXP/ETpage.gif\\\\'\",\n",
       "  'FACV7/2010',\n",
       "  'https://legalref.judiciary.hk/lrs/common/ju/ju_frame.jsp?DIS=76751',\n",
       "  '(08/06/2011)',\n",
       "  'DEMOCRATIC REPUBLIC OF THE CONGO AND OTHERS v. FG HEMISPHERE ASSOCIATES LLC \\xa0Reported in :(2011) 14 HKCFAR 95'),\n",
       " ('Final Appeal (Civil)',\n",
       "  '2010',\n",
       "  \"\\\\'https://legalref.judiciary.hk/lrs/images/ThemeXP/Epage.gif\\\\'\",\n",
       "  'FACV8/2010',\n",
       "  'https://legalref.judiciary.hk/lrs/common/ju/ju_frame.jsp?DIS=75355',\n",
       "  '(24/02/2011)',\n",
       "  'MOK CHARLES PETER v. TAM WAI HO AND ANOTHER \\xa0'),\n",
       " ('Final Appeal (Civil)',\n",
       "  '2010',\n",
       "  \"\\\\'https://legalref.judiciary.hk/lrs/images/ThemeXP/Epage.gif\\\\'\",\n",
       "  'FACV8/2010',\n",
       "  'https://legalref.judiciary.hk/lrs/common/ju/ju_frame.jsp?DIS=74259',\n",
       "  '(13/12/2010)',\n",
       "  'MOK CHARLES PETER v. TAM WAI HO AND ANOTHER \\xa0Reported in :(2010) 13 HKCFAR 762'),\n",
       " ('Final Appeal (Civil)',\n",
       "  '2010',\n",
       "  \"\\\\'https://legalref.judiciary.hk/lrs/images/ThemeXP/Epage.gif\\\\'\",\n",
       "  'FACV9/2010',\n",
       "  'https://legalref.judiciary.hk/lrs/common/ju/ju_frame.jsp?DIS=74888',\n",
       "  '(21/01/2011)',\n",
       "  'AKAI HOLDINGS LTD v. THANAKHARN KASIKORN THAI CHAMKAT (MAHACHON) (ALSO KNOWN AS KASIKORNBANK PUBLIC LTD CO) \\xa0'),\n",
       " ('Final Appeal (Civil)',\n",
       "  '2010',\n",
       "  \"\\\\'https://legalref.judiciary.hk/lrs/images/ThemeXP/Epage.gif\\\\'\",\n",
       "  'FACV9/2010',\n",
       "  'https://legalref.judiciary.hk/lrs/common/ju/ju_frame.jsp?DIS=73675',\n",
       "  '(08/11/2010)',\n",
       "  'AKAI HOLDINGS LTD (IN LIQUIDATION) v. THANAKHARN KASIKORN THAI CHAMKAT (MAHACHON) also known as KASIKORNBANK PUBLIC CO LTD \\xa0Reported in :(2010) 13 HKCFAR 479'),\n",
       " ('Final Appeal (Civil)',\n",
       "  '2010',\n",
       "  \"\\\\'https://legalref.judiciary.hk/lrs/images/ThemeXP/Epage.gif\\\\'\",\n",
       "  'FACV11/2010',\n",
       "  'https://legalref.judiciary.hk/lrs/common/ju/ju_frame.jsp?DIS=76592',\n",
       "  '(26/05/2011)',\n",
       "  'TAM MEI KAM v. HSBC INTERNATIONAL TRUSTEE LTD AND OTHERS \\xa0Reported in :(2011) 14 HKCFAR 512'),\n",
       " ('Final Appeal (Civil)',\n",
       "  '2010',\n",
       "  \"\\\\'https://legalref.judiciary.hk/lrs/images/ThemeXP/Epage.gif\\\\'\",\n",
       "  'FACV12/2010',\n",
       "  'https://legalref.judiciary.hk/lrs/common/ju/ju_frame.jsp?DIS=76931',\n",
       "  '(21/06/2011)',\n",
       "  'THE HONGKONG ELECTRIC CO LTD v. COMMISSIONER OF RATING AND VALUATION \\xa0Reported in :(2011) 14 HKCFAR 579'),\n",
       " ('Final Appeal (Civil)',\n",
       "  '2010',\n",
       "  \"\\\\'https://legalref.judiciary.hk/lrs/images/ThemeXP/Epage.gif\\\\'\",\n",
       "  'FACV12/2010',\n",
       "  'https://legalref.judiciary.hk/lrs/common/ju/ju_frame.jsp?DIS=79801',\n",
       "  '(06/01/2012)',\n",
       "  'THE HONGKONG ELECTRIC CO LTD v. COMMISSIONER OF RATING AND VALUATION \\xa0Reported in :(2012) 15 HKCFAR 1'),\n",
       " ('Final Appeal (Civil)',\n",
       "  '2010',\n",
       "  \"\\\\'https://legalref.judiciary.hk/lrs/images/ThemeXP/Epage.gif\\\\'\",\n",
       "  'FACV12/2010',\n",
       "  'https://legalref.judiciary.hk/lrs/common/ju/ju_frame.jsp?DIS=75536',\n",
       "  '(08/03/2011)',\n",
       "  'THE HONGKONG ELECTRIC CO LTD  v. COMMISSIONER OF RATING AND VALUATION \\xa0Reported in :(2011) 14 HKCFAR 450'),\n",
       " ('Final Appeal (Civil)',\n",
       "  '2010',\n",
       "  \"\\\\'https://legalref.judiciary.hk/lrs/images/ThemeXP/ETpage.gif\\\\'\",\n",
       "  'FACV13/2010',\n",
       "  'https://legalref.judiciary.hk/lrs/common/ju/ju_frame.jsp?DIS=76549',\n",
       "  '(24/05/2011)',\n",
       "  'SIN HO YUEN v. FINEWAY PROPERTIES LTD \\xa0Reported in :(2011) 14 HKCFAR 497'),\n",
       " ('Final Appeal (Civil)',\n",
       "  '2010',\n",
       "  \"\\\\'https://legalref.judiciary.hk/lrs/images/ThemeXP/Epage.gif\\\\'\",\n",
       "  'FACV14/2010',\n",
       "  'https://legalref.judiciary.hk/lrs/common/ju/ju_frame.jsp?DIS=76658',\n",
       "  '(31/05/2011)',\n",
       "  'SUN LEGEND INVESTMENTS LTD v. HO YUK WAH DAVID AND OTHERS \\xa0Reported in :(2011) 14 HKCFAR 541'),\n",
       " ('Final Appeal (Civil)',\n",
       "  '2010',\n",
       "  \"\\\\'https://legalref.judiciary.hk/lrs/images/ThemeXP/Epage.gif\\\\'\",\n",
       "  'FACV16/2010',\n",
       "  'https://legalref.judiciary.hk/lrs/common/ju/ju_frame.jsp?DIS=79163',\n",
       "  '(23/11/2011)',\n",
       "  'CHAMPION CONCORD LTD AND ANOTHER v. LAU KOON FOO AND ANOTHER \\xa0Reported in :(2011) 14 HKCFAR 837'),\n",
       " ('Final Appeal (Civil)',\n",
       "  '2010',\n",
       "  \"\\\\'https://legalref.judiciary.hk/lrs/images/ThemeXP/Epage.gif\\\\'\",\n",
       "  'FACV16/2010',\n",
       "  'https://legalref.judiciary.hk/lrs/common/ju/ju_frame.jsp?DIS=76624',\n",
       "  '(27/05/2011)',\n",
       "  'CHAMPION CONCORD LTD AND ANOTHER v. LAU KOON FOO AND ANOTHER \\xa0Reported in :(2011) 14 HKCFAR 534'),\n",
       " ('Final Appeal (Civil)',\n",
       "  '2010',\n",
       "  \"\\\\'https://legalref.judiciary.hk/lrs/images/ThemeXP/Epage.gif\\\\'\",\n",
       "  'FACV17/2010',\n",
       "  'https://legalref.judiciary.hk/lrs/common/ju/ju_frame.jsp?DIS=79164',\n",
       "  '(23/11/2011)',\n",
       "  'LAU KOON FOO v. CHAMPION CONCORD LTD AND ANOTHER \\xa0Reported in :(2011) 14 HKCFAR 837'),\n",
       " ('Final Appeal (Civil)',\n",
       "  '2010',\n",
       "  \"\\\\'https://legalref.judiciary.hk/lrs/images/ThemeXP/Epage.gif\\\\'\",\n",
       "  'FACV17/2010',\n",
       "  'https://legalref.judiciary.hk/lrs/common/ju/ju_frame.jsp?DIS=76625',\n",
       "  '(27/05/2011)',\n",
       "  'LAU KOON FOO v. CHAMPION CONCORD LTD AND ANOTHER \\xa0Reported in :(2011) 14 HKCFAR 534'),\n",
       " ('Final Appeal (Criminal)',\n",
       "  '2011',\n",
       "  \"\\\\'https://legalref.judiciary.hk/lrs/images/ThemeXP/Epage.gif\\\\'\",\n",
       "  'FACC1/2011',\n",
       "  'https://legalref.judiciary.hk/lrs/common/ju/ju_frame.jsp?DIS=78562',\n",
       "  '(13/10/2011)',\n",
       "  'WONG CHI HONG v. HKSAR \\xa0Reported in :(2011) 14 HKCFAR 787'),\n",
       " ('Final Appeal (Criminal)',\n",
       "  '2011',\n",
       "  \"\\\\'https://legalref.judiciary.hk/lrs/images/ThemeXP/Epage.gif\\\\'\",\n",
       "  'FACC2/2011',\n",
       "  'https://legalref.judiciary.hk/lrs/common/ju/ju_frame.jsp?DIS=82525',\n",
       "  '(06/07/2012)',\n",
       "  'WINNIE LO v. HKSAR \\xa0'),\n",
       " ('Final Appeal (Criminal)',\n",
       "  '2011',\n",
       "  \"\\\\'https://legalref.judiciary.hk/lrs/images/ThemeXP/Epage.gif\\\\'\",\n",
       "  'FACC2/2011',\n",
       "  'https://legalref.judiciary.hk/lrs/common/ju/ju_frame.jsp?DIS=80458',\n",
       "  '(23/02/2012)',\n",
       "  'WINNIE LO  v. HKSAR \\xa0Reported in :(2012) 15 HKCFAR 16'),\n",
       " ('Final Appeal (Criminal)',\n",
       "  '2011',\n",
       "  \"\\\\'https://legalref.judiciary.hk/lrs/images/ThemeXP/Epage.gif\\\\'\",\n",
       "  'FACC3/2011',\n",
       "  'https://legalref.judiciary.hk/lrs/common/ju/ju_frame.jsp?DIS=81071',\n",
       "  '(02/04/2012)',\n",
       "  'HKSAR v. WONG LINKAY \\xa0Reported in :[2012] 2 HKLRD 898; (2012) 15 HKCFAR 185'),\n",
       " ('Final Appeal (Criminal)',\n",
       "  '2011',\n",
       "  \"\\\\'https://legalref.judiciary.hk/lrs/images/ThemeXP/Epage.gif\\\\'\",\n",
       "  'FACC4/2011',\n",
       "  'https://legalref.judiciary.hk/lrs/common/ju/ju_frame.jsp?DIS=83266',\n",
       "  '(27/08/2012)',\n",
       "  'FU KOR KUEN PATRICK  AND ANOTHER v. HKSAR \\xa0'),\n",
       " ('Final Appeal (Criminal)',\n",
       "  '2011',\n",
       "  \"\\\\'https://legalref.judiciary.hk/lrs/images/ThemeXP/ETpage.gif\\\\'\",\n",
       "  'FACC4/2011',\n",
       "  'https://legalref.judiciary.hk/lrs/common/ju/ju_frame.jsp?DIS=81809',\n",
       "  '(24/05/2012)',\n",
       "  'FU KOR KUEN PATRICK AND ANOTHER v. HKSAR \\xa0Reported in :(2012) 15 HKCFAR 524'),\n",
       " ('Final Appeal (Criminal)',\n",
       "  '2011',\n",
       "  \"\\\\'https://legalref.judiciary.hk/lrs/images/ThemeXP/Epage.gif\\\\'\",\n",
       "  'FACC5/2011',\n",
       "  'https://legalref.judiciary.hk/lrs/common/ju/ju_frame.jsp?DIS=81676',\n",
       "  '(16/05/2012)',\n",
       "  'LEE TO NEI v. HKSAR \\xa0'),\n",
       " ('Final Appeal (Criminal)',\n",
       "  '2011',\n",
       "  \"\\\\'https://legalref.judiciary.hk/lrs/images/ThemeXP/ETpage.gif\\\\'\",\n",
       "  'FACC5/2011',\n",
       "  'https://legalref.judiciary.hk/lrs/common/ju/ju_frame.jsp?DIS=81045',\n",
       "  '(30/03/2012)',\n",
       "  'LEE TO NEI v. HKSAR \\xa0Reported in :(2012) 15 HKCFAR 162'),\n",
       " ('Final Appeal (Criminal)',\n",
       "  '2011',\n",
       "  \"\\\\'https://legalref.judiciary.hk/lrs/images/ThemeXP/Epage.gif\\\\'\",\n",
       "  'FACC6/2011',\n",
       "  'https://legalref.judiciary.hk/lrs/common/ju/ju_frame.jsp?DIS=81046',\n",
       "  '(30/03/2012)',\n",
       "  'HKSAR v. YAN SUILING \\xa0Reported in :(2012) 15 HKCFAR 146'),\n",
       " ('Final Appeal (Criminal)',\n",
       "  '2011',\n",
       "  \"\\\\'https://legalref.judiciary.hk/lrs/images/ThemeXP/ETpage.gif\\\\'\",\n",
       "  'FACC7/2011',\n",
       "  'https://legalref.judiciary.hk/lrs/common/ju/ju_frame.jsp?DIS=81048',\n",
       "  '(30/03/2012)',\n",
       "  'LAU HOK TUNG AND OTHERS v. HKSAR \\xa0Reported in :(2012) 15 HKCFAR 162'),\n",
       " ('Final Appeal (Criminal)',\n",
       "  '2011',\n",
       "  \"\\\\'https://legalref.judiciary.hk/lrs/images/ThemeXP/Epage.gif\\\\'\",\n",
       "  'FACC8/2011',\n",
       "  'https://legalref.judiciary.hk/lrs/common/ju/ju_frame.jsp?DIS=80455',\n",
       "  '(23/02/2012)',\n",
       "  'HKSAR v. CHAN CHI KEUNG \\xa0Reported in :(2012) 15 HKCFAR 133'),\n",
       " ('Final Appeal (Criminal)',\n",
       "  '2011',\n",
       "  \"\\\\'https://legalref.judiciary.hk/lrs/images/ThemeXP/Epage.gif\\\\'\",\n",
       "  'FACC9/2011',\n",
       "  'https://legalref.judiciary.hk/lrs/common/ju/ju_frame.jsp?DIS=85184',\n",
       "  '(11/01/2013)',\n",
       "  'A v. THE COMMISSIONER OF THE INDEPENDENT COMMISSION AGAINST CORRUPTION \\xa0'),\n",
       " ('Final Appeal (Criminal)',\n",
       "  '2011',\n",
       "  \"\\\\'https://legalref.judiciary.hk/lrs/images/ThemeXP/Epage.gif\\\\'\",\n",
       "  'FACC9/2011',\n",
       "  'https://legalref.judiciary.hk/lrs/common/ju/ju_frame.jsp?DIS=77503',\n",
       "  '(13/11/2012)',\n",
       "  'A v. The Commissioner of the Independent Commission Against Corruption \\xa0Reported in :(2012) 15 HKCFAR 362'),\n",
       " ('Final Appeal (Criminal)',\n",
       "  '2011',\n",
       "  \"\\\\'https://legalref.judiciary.hk/lrs/images/ThemeXP/Epage.gif\\\\'\",\n",
       "  'FACC10/2011',\n",
       "  'https://legalref.judiciary.hk/lrs/common/ju/ju_frame.jsp?DIS=84327',\n",
       "  '(13/11/2012)',\n",
       "  'HKSAR v. WONG YUK MAN AND OTHERS \\xa0Reported in :(2012) 15 HKCFAR 712'),\n",
       " ('Final Appeal (Criminal)',\n",
       "  '2011',\n",
       "  \"\\\\'https://legalref.judiciary.hk/lrs/images/ThemeXP/Epage.gif\\\\'\",\n",
       "  'FACC11/2011',\n",
       "  'https://legalref.judiciary.hk/lrs/common/ju/ju_frame.jsp?DIS=84337',\n",
       "  '(13/11/2012)',\n",
       "  'HKSAR v. WONG YUK MAN AND OTHERS \\xa0Reported in :(2012) 15 HKCFAR 712'),\n",
       " ('Final Appeal (Criminal)',\n",
       "  '2011',\n",
       "  \"\\\\'https://legalref.judiciary.hk/lrs/images/ThemeXP/ETpage.gif\\\\'\",\n",
       "  'FACC12/2011',\n",
       "  'https://legalref.judiciary.hk/lrs/common/ju/ju_frame.jsp?DIS=81677',\n",
       "  '(16/05/2012)',\n",
       "  'HKSAR  v. WONG SUI CHING \\xa0Reported in :(2012) 15 HKCFAR 199'),\n",
       " ('Final Appeal (Criminal)',\n",
       "  '1998',\n",
       "  \"\\\\'https://legalref.judiciary.hk/lrs/images/ThemeXP/Epage.gif\\\\'\",\n",
       "  'FACC1/1998',\n",
       "  'https://legalref.judiciary.hk/lrs/common/ju/ju_frame.jsp?DIS=31176',\n",
       "  '(25/11/1998)',\n",
       "  'ORIENTAL DAILY PUBLISHER LTD v. COMMISSIONER FOR TELEVISION AND ENTERTAINMENT LICENSING AUTHORITY \\xa0Reported in :(1997-1998) 1 HKCFAR 279, [1998] 2 HKLRD 857'),\n",
       " ('Final Appeal (Criminal)',\n",
       "  '1998',\n",
       "  \"\\\\'https://legalref.judiciary.hk/lrs/images/ThemeXP/Epage.gif\\\\'\",\n",
       "  'FACC2/1998',\n",
       "  'https://legalref.judiciary.hk/lrs/common/ju/ju_frame.jsp?DIS=18346',\n",
       "  '(01/12/1998)',\n",
       "  'LIU SUNG WAI v. HKSAR \\xa0Reported in :[1999] 1 HKLRD 89;(1997-1998) 1 HKCFAR 306'),\n",
       " ('Final Appeal (Criminal)',\n",
       "  '1998',\n",
       "  \"\\\\'https://legalref.judiciary.hk/lrs/images/ThemeXP/Epage.gif\\\\'\",\n",
       "  'FACC3/1998',\n",
       "  'https://legalref.judiciary.hk/lrs/common/ju/ju_frame.jsp?DIS=19411',\n",
       "  '(29/01/1999)',\n",
       "  'CHIM HON MAN v. HKSAR \\xa0Reported in :[1999] 1 HKLRD 764;  (1999) 2 HKCFAR 145'),\n",
       " ('Final Appeal (Criminal)',\n",
       "  '1998',\n",
       "  \"\\\\'https://legalref.judiciary.hk/lrs/images/ThemeXP/Epage.gif\\\\'\",\n",
       "  'FACC4/1998',\n",
       "  'https://legalref.judiciary.hk/lrs/common/ju/ju_frame.jsp?DIS=36962',\n",
       "  '(16/03/1999)',\n",
       "  'CHAN CHUEN HO v. HKSAR \\xa0Reported in :[1999] 2 HKLRD 203; (1999) 2 HKCFAR 198'),\n",
       " ('Final Appeal (Criminal)',\n",
       "  '1998',\n",
       "  \"\\\\'https://legalref.judiciary.hk/lrs/images/ThemeXP/Epage.gif\\\\'\",\n",
       "  'FACC5/1998',\n",
       "  'https://legalref.judiciary.hk/lrs/common/ju/ju_frame.jsp?DIS=19707',\n",
       "  '(22/03/1999)',\n",
       "  'UNIGLOBE TELECOM (FAR EAST) LTD. v. HKSAR \\xa0Reported in :[1999] 2 HKLRD 44; (1999) 2 HKCFAR 214'),\n",
       " ('Final Appeal (Criminal)',\n",
       "  '1998',\n",
       "  \"\\\\'https://legalref.judiciary.hk/lrs/images/ThemeXP/ETpage.gif\\\\'\",\n",
       "  'FACC6/1998',\n",
       "  'https://legalref.judiciary.hk/lrs/common/ju/ju_frame.jsp?DIS=21819',\n",
       "  '(11/03/1999)',\n",
       "  'MARK ANTHONY SEABROOK v. HKSAR \\xa0Reported in :[1999] 1 HKLRD 853; (1999) 2 HKCFAR 184'),\n",
       " ('Final Appeal (Criminal)',\n",
       "  '2012',\n",
       "  \"\\\\'https://legalref.judiciary.hk/lrs/images/ThemeXP/Epage.gif\\\\'\",\n",
       "  'FACC1/2012',\n",
       "  'https://legalref.judiciary.hk/lrs/common/ju/ju_frame.jsp?DIS=82502',\n",
       "  '(05/07/2012)',\n",
       "  'HKSAR v. CHAN PAK HOE PABLO \\xa0Reported in :(2012) 15 HKCFAR 244'),\n",
       " ('Final Appeal (Criminal)',\n",
       "  '2012',\n",
       "  \"\\\\'https://legalref.judiciary.hk/lrs/images/ThemeXP/ETpage.gif\\\\'\",\n",
       "  'FACC2/2012',\n",
       "  'https://legalref.judiciary.hk/lrs/common/ju/ju_frame.jsp?DIS=85721',\n",
       "  '(15/02/2013)',\n",
       "  'HKSAR v. MINNEY, JOHN EDWIN \\xa0Reported in :(2013) 16 HKCFAR 26'),\n",
       " ('Final Appeal (Criminal)',\n",
       "  '2012',\n",
       "  \"\\\\'https://legalref.judiciary.hk/lrs/images/ThemeXP/Epage.gif\\\\'\",\n",
       "  'FACC3/2012',\n",
       "  'https://legalref.judiciary.hk/lrs/common/ju/ju_frame.jsp?DIS=83474',\n",
       "  '(14/09/2012)',\n",
       "  'LAI KWOK FAI v. HONG KONG SPECIAL ADMINISTRATIVE REGION \\xa0Reported in :(2012) 15 HKCFAR 450'),\n",
       " ('Final Appeal (Criminal)',\n",
       "  '2012',\n",
       "  \"\\\\'https://legalref.judiciary.hk/lrs/images/ThemeXP/Epage.gif\\\\'\",\n",
       "  'FACC4/2012',\n",
       "  'https://legalref.judiciary.hk/lrs/common/ju/ju_frame.jsp?DIS=89564',\n",
       "  '(11/10/2013)',\n",
       "  'PAUL Y GENERAL CONTRACTORS LTD v. HKSAR \\xa0'),\n",
       " ('Final Appeal (Criminal)',\n",
       "  '2012',\n",
       "  \"\\\\'https://legalref.judiciary.hk/lrs/images/ThemeXP/Epage.gif\\\\'\",\n",
       "  'FACC4/2012',\n",
       "  'https://legalref.judiciary.hk/lrs/common/ju/ju_frame.jsp?DIS=88271',\n",
       "  '(26/07/2013)',\n",
       "  'PAUL Y GENERAL CONTRACTORS LTD v. HKSAR \\xa0Reported in :(2013) 16 HKCFAR 487'),\n",
       " ('Final Appeal (Criminal)',\n",
       "  '2012',\n",
       "  \"\\\\'https://legalref.judiciary.hk/lrs/images/ThemeXP/Epage.gif\\\\'\",\n",
       "  'FACC5/2012',\n",
       "  'https://legalref.judiciary.hk/lrs/common/ju/ju_frame.jsp?DIS=89565',\n",
       "  '(11/10/2013)',\n",
       "  'LUCKY ENGINEERING CO LTD v. HKSAR \\xa0'),\n",
       " ('Final Appeal (Criminal)',\n",
       "  '2012',\n",
       "  \"\\\\'https://legalref.judiciary.hk/lrs/images/ThemeXP/Epage.gif\\\\'\",\n",
       "  'FACC5/2012',\n",
       "  'https://legalref.judiciary.hk/lrs/common/ju/ju_frame.jsp?DIS=88275',\n",
       "  '(26/07/2013)',\n",
       "  'LUCKY ENGINEERING COMPANY LTD v. HKSAR \\xa0Reported in :(2013) 16 HKCFAR 487'),\n",
       " ('Final Appeal (Criminal)',\n",
       "  '2012',\n",
       "  \"\\\\'https://legalref.judiciary.hk/lrs/images/ThemeXP/Epage.gif\\\\'\",\n",
       "  'FACC6/2012',\n",
       "  'https://legalref.judiciary.hk/lrs/common/ju/ju_frame.jsp?DIS=87197',\n",
       "  '(16/05/2013)',\n",
       "  'KULEMESIN YURIY AND ANOTHER v. HKSAR \\xa0'),\n",
       " ('Final Appeal (Criminal)',\n",
       "  '2012',\n",
       "  \"\\\\'https://legalref.judiciary.hk/lrs/images/ThemeXP/Epage.gif\\\\'\",\n",
       "  'FACC6/2012',\n",
       "  'https://legalref.judiciary.hk/lrs/common/ju/ju_frame.jsp?DIS=85795',\n",
       "  '(22/02/2013)',\n",
       "  'KULEMESIN YURIY AND ANOTHER v. HKSAR \\xa0Reported in :(2013) 16 HKCFAR 195'),\n",
       " ('Final Appeal (Criminal)',\n",
       "  '2012',\n",
       "  \"\\\\'https://legalref.judiciary.hk/lrs/images/ThemeXP/Epage.gif\\\\'\",\n",
       "  'FACC7/2012',\n",
       "  'https://legalref.judiciary.hk/lrs/common/ju/ju_frame.jsp?DIS=87203',\n",
       "  '(16/05/2013)',\n",
       "  'KULEMESIN YURIY AND ANOTHER v. HKSAR \\xa0'),\n",
       " ('Final Appeal (Criminal)',\n",
       "  '2012',\n",
       "  \"\\\\'https://legalref.judiciary.hk/lrs/images/ThemeXP/Epage.gif\\\\'\",\n",
       "  'FACC7/2012',\n",
       "  'https://legalref.judiciary.hk/lrs/common/ju/ju_frame.jsp?DIS=85796',\n",
       "  '(22/02/2013)',\n",
       "  'KULEMESIN YURIY AND ANOTHER v. HKSAR \\xa0Reported in :(2013) 16 HKCFAR 195'),\n",
       " ('Final Appeal (Criminal)',\n",
       "  '2012',\n",
       "  \"\\\\'https://legalref.judiciary.hk/lrs/images/ThemeXP/ETpage.gif\\\\'\",\n",
       "  'FACC8/2012',\n",
       "  'https://legalref.judiciary.hk/lrs/common/ju/ju_frame.jsp?DIS=85717',\n",
       "  '(15/02/2013)',\n",
       "  'HKSAR v. CHAN HOI TAT \\xa0Reported in :(2013) 16 HKCFAR 34'),\n",
       " ('Final Appeal (Criminal)',\n",
       "  '2012',\n",
       "  \"\\\\'https://legalref.judiciary.hk/lrs/images/ThemeXP/Epage.gif\\\\'\",\n",
       "  'FACC9/2012',\n",
       "  'https://legalref.judiciary.hk/lrs/common/ju/ju_frame.jsp?DIS=89334',\n",
       "  '(26/09/2013)',\n",
       "  'HKSAR v. HO HUNG KWAN MICHAEL \\xa0Reported in :(2013) 16 HKCFAR 525'),\n",
       " ('Final Appeal (Criminal)',\n",
       "  '2012',\n",
       "  \"\\\\'https://legalref.judiciary.hk/lrs/images/ThemeXP/Epage.gif\\\\'\",\n",
       "  'FACC10/2012',\n",
       "  'https://legalref.judiciary.hk/lrs/common/ju/ju_frame.jsp?DIS=89271',\n",
       "  '(23/09/2013)',\n",
       "  'HKSAR v. WONG CHI WAI \\xa0Reported in :(2013) 16 HKCFAR 539'),\n",
       " ('Final Appeal (Criminal)',\n",
       "  '2012',\n",
       "  \"\\\\'https://legalref.judiciary.hk/lrs/images/ThemeXP/Epage.gif\\\\'\",\n",
       "  'FACC11/2012',\n",
       "  'https://legalref.judiciary.hk/lrs/common/ju/ju_frame.jsp?DIS=89331',\n",
       "  '(26/09/2013)',\n",
       "  'HKSAR v. YEUNG KA HO AND ANOTHER \\xa0Reported in :(2013) 16 HKCFAR 609'),\n",
       " ('Final Appeal (Criminal)',\n",
       "  '2012',\n",
       "  \"\\\\'https://legalref.judiciary.hk/lrs/images/ThemeXP/Epage.gif\\\\'\",\n",
       "  'FACC12/2012',\n",
       "  'https://legalref.judiciary.hk/lrs/common/ju/ju_frame.jsp?DIS=92522',\n",
       "  '(18/03/2014)',\n",
       "  'HKSAR v. CHOW NOK HANG \\xa0'),\n",
       " ('Final Appeal (Criminal)',\n",
       "  '2012',\n",
       "  \"\\\\'https://legalref.judiciary.hk/lrs/images/ThemeXP/Epage.gif\\\\'\",\n",
       "  'FACC12/2012',\n",
       "  'https://legalref.judiciary.hk/lrs/common/ju/ju_frame.jsp?DIS=90177',\n",
       "  '(18/11/2013)',\n",
       "  'HKSAR v. CHOW NOK HANG \\xa0Reported in :(2013) 16 HKCFAR 837'),\n",
       " ('Final Appeal (Criminal)',\n",
       "  '2012',\n",
       "  \"\\\\'https://legalref.judiciary.hk/lrs/images/ThemeXP/Epage.gif\\\\'\",\n",
       "  'FACC13/2012',\n",
       "  'https://legalref.judiciary.hk/lrs/common/ju/ju_frame.jsp?DIS=92527',\n",
       "  '(18/03/2014)',\n",
       "  'HKSAR v. WONG HIN WAI \\xa0'),\n",
       " ('Final Appeal (Criminal)',\n",
       "  '2012',\n",
       "  \"\\\\'https://legalref.judiciary.hk/lrs/images/ThemeXP/Epage.gif\\\\'\",\n",
       "  'FACC13/2012',\n",
       "  'https://legalref.judiciary.hk/lrs/common/ju/ju_frame.jsp?DIS=90181',\n",
       "  '(18/11/2013)',\n",
       "  'HKSAR v. WONG HIN WAI \\xa0Reported in :(2013) 16 HKCFAR 837'),\n",
       " ('Final Appeal (Criminal)',\n",
       "  '2012',\n",
       "  \"\\\\'https://legalref.judiciary.hk/lrs/images/ThemeXP/Epage.gif\\\\'\",\n",
       "  'FACC14/2012',\n",
       "  'https://legalref.judiciary.hk/lrs/common/ju/ju_frame.jsp?DIS=92528',\n",
       "  '(18/03/2014)',\n",
       "  'HKSAR v. CHOW NOK HANG AND ANOTHER \\xa0'),\n",
       " ('Final Appeal (Criminal)',\n",
       "  '2012',\n",
       "  \"\\\\'https://legalref.judiciary.hk/lrs/images/ThemeXP/Epage.gif\\\\'\",\n",
       "  'FACC14/2012',\n",
       "  'https://legalref.judiciary.hk/lrs/common/ju/ju_frame.jsp?DIS=90182',\n",
       "  '(18/11/2013)',\n",
       "  'HKSAR v. CHOW NOK HANG AND ANOTHER \\xa0Reported in :(2013) 16 HKCFAR 837'),\n",
       " ('Final Appeal (Criminal)',\n",
       "  '2000',\n",
       "  \"\\\\'https://legalref.judiciary.hk/lrs/images/ThemeXP/Epage.gif\\\\'\",\n",
       "  'FACC1/2000',\n",
       "  'https://legalref.judiciary.hk/lrs/common/ju/ju_frame.jsp?DIS=19657',\n",
       "  '(03/11/2000)',\n",
       "  'WONG WAI MAN AND OTHERS v. HKSAR \\xa0Reported in :[2000] 3 HKLRD 313; (2000) 3 HKCFAR 322'),\n",
       " ('Final Appeal (Criminal)',\n",
       "  '2000',\n",
       "  \"\\\\'https://legalref.judiciary.hk/lrs/images/ThemeXP/Epage.gif\\\\'\",\n",
       "  'FACC2/2000',\n",
       "  'https://legalref.judiciary.hk/lrs/common/ju/ju_frame.jsp?DIS=21132',\n",
       "  '(23/11/2000)',\n",
       "  'CHING KWOK YIN v. HKSAR \\xa0Reported in :[2001] 1 HKLRD 268; (2000) 3 HKCFAR 387'),\n",
       " ('Final Appeal (Criminal)',\n",
       "  '2000',\n",
       "  \"\\\\'https://legalref.judiciary.hk/lrs/images/ThemeXP/ETpage.gif\\\\'\",\n",
       "  'FACC3/2000',\n",
       "  'https://legalref.judiciary.hk/lrs/common/ju/ju_frame.jsp?DIS=37342',\n",
       "  '(24/11/2000)',\n",
       "  'CHAN PUN CHUNG AND ANOTHER v. HKSAR \\xa0Reported in :[2000] 3 HKLRD 498; (2000) 3 HKCFAR 392'),\n",
       " ('Final Appeal (Criminal)',\n",
       "  '2000',\n",
       "  \"\\\\'https://legalref.judiciary.hk/lrs/images/ThemeXP/Epage.gif\\\\'\",\n",
       "  'FACC4/2000',\n",
       "  'https://legalref.judiciary.hk/lrs/common/ju/ju_frame.jsp?DIS=21405',\n",
       "  '(21/12/2000)',\n",
       "  'WONG PUI SHAM v. HKSAR \\xa0Reported in :(2000) 3 HKCFAR 449; [2001] 1 HKLRD 74'),\n",
       " ('Final Appeal (Criminal)',\n",
       "  '2000',\n",
       "  \"\\\\'https://legalref.judiciary.hk/lrs/images/ThemeXP/Epage.gif\\\\'\",\n",
       "  'FACC5/2000',\n",
       "  'https://legalref.judiciary.hk/lrs/common/ju/ju_frame.jsp?DIS=21751',\n",
       "  '(19/02/2001)',\n",
       "  'CHONG KIM YUNG v. HKSAR \\xa0Reported in :[2001] 2 HKLRD 68; (2001) 4 HKCFAR 116'),\n",
       " ('Final Appeal (Criminal)',\n",
       "  '2000',\n",
       "  \"\\\\'https://legalref.judiciary.hk/lrs/images/ThemeXP/Epage.gif\\\\'\",\n",
       "  'FACC6/2000',\n",
       "  'https://legalref.judiciary.hk/lrs/common/ju/ju_frame.jsp?DIS=20186',\n",
       "  '(08/01/2001)',\n",
       "  'LO CHUN NAM v. HKSAR \\xa0Reported in :[2001] 1 HKLRD 180; (2001) 4 HKCFAR 1'),\n",
       " ('Final Appeal (Criminal)',\n",
       "  '2000',\n",
       "  \"\\\\'https://legalref.judiciary.hk/lrs/images/ThemeXP/Epage.gif\\\\'\",\n",
       "  'FACC7/2000',\n",
       "  'https://legalref.judiciary.hk/lrs/common/ju/ju_frame.jsp?DIS=36211',\n",
       "  '(06/03/2001)',\n",
       "  'HKSAR v. LI LI MUA \\xa0Reported in :[2001] 1 HKLRD 441; (2001) 4 HKCFAR 123'),\n",
       " ('Final Appeal (Criminal)',\n",
       "  '2000',\n",
       "  \"\\\\'https://legalref.judiciary.hk/lrs/images/ThemeXP/Epage.gif\\\\'\",\n",
       "  'FACC8/2000',\n",
       "  'https://legalref.judiciary.hk/lrs/common/ju/ju_frame.jsp?DIS=20794',\n",
       "  '(03/05/2001)',\n",
       "  'HKSAR v. LEE MING TEE AND ANOTHER \\xa0'),\n",
       " ('Final Appeal (Criminal)',\n",
       "  '2000',\n",
       "  \"\\\\'https://legalref.judiciary.hk/lrs/images/ThemeXP/ETpage.gif\\\\'\",\n",
       "  'FACC8/2000',\n",
       "  'https://legalref.judiciary.hk/lrs/common/ju/ju_frame.jsp?DIS=20512',\n",
       "  '(22/03/2001)',\n",
       "  'HKSAR v. LEE MING TEE AND ANOTHER \\xa0Reported in :[2001] 1 HKLRD 599; (2001) 4 HKCFAR 133'),\n",
       " ('Final Appeal (Criminal)',\n",
       "  '2000',\n",
       "  \"\\\\'https://legalref.judiciary.hk/lrs/images/ThemeXP/Epage.gif\\\\'\",\n",
       "  'FACC9/2000',\n",
       "  'https://legalref.judiciary.hk/lrs/common/ju/ju_frame.jsp?DIS=20187',\n",
       "  '(08/01/2001)',\n",
       "  'WONG CHUN CHEONG v. HKSAR \\xa0Reported in :[2000] 3 HKLRD 840; (2001) 4 HKCFAR 12'),\n",
       " ('Final Appeal (Criminal)',\n",
       "  '2001',\n",
       "  \"\\\\'https://legalref.judiciary.hk/lrs/images/ThemeXP/Epage.gif\\\\'\",\n",
       "  'FACC1/2001',\n",
       "  'https://legalref.judiciary.hk/lrs/common/ju/ju_frame.jsp?DIS=20114',\n",
       "  '(29/10/2001)',\n",
       "  'CHIU YU MAN AND OTHERS v. HKSAR \\xa0Reported in :[2001] 3 HKLRD 525; (2001) 4 HKCFAR 331'),\n",
       " ('Final Appeal (Criminal)',\n",
       "  '2001',\n",
       "  \"\\\\'https://legalref.judiciary.hk/lrs/images/ThemeXP/Epage.gif\\\\'\",\n",
       "  'FACC2/2001',\n",
       "  'https://legalref.judiciary.hk/lrs/common/ju/ju_frame.jsp?DIS=20115',\n",
       "  '(29/10/2001)',\n",
       "  'CHIU YU MAN & OTHERS v. HKSAR \\xa0Reported in :[2001] 3 HKLRD 525; (2001) 4 HKCFAR 331'),\n",
       " ('Final Appeal (Criminal)',\n",
       "  '2001',\n",
       "  \"\\\\'https://legalref.judiciary.hk/lrs/images/ThemeXP/Epage.gif\\\\'\",\n",
       "  'FACC3/2001',\n",
       "  'https://legalref.judiciary.hk/lrs/common/ju/ju_frame.jsp?DIS=22041',\n",
       "  '(21/03/2002)',\n",
       "  'EWAN QUAYLE LAUNDER v. HKSAR \\xa0'),\n",
       " ('Final Appeal (Criminal)',\n",
       "  '2001',\n",
       "  \"\\\\'https://legalref.judiciary.hk/lrs/images/ThemeXP/Epage.gif\\\\'\",\n",
       "  'FACC3/2001',\n",
       "  'https://legalref.judiciary.hk/lrs/common/ju/ju_frame.jsp?DIS=20116',\n",
       "  '(13/12/2001)',\n",
       "  'EWAN QUAYLE LAUNDER v. HKSAR \\xa0Reported in :(2001) 4 HKCFAR 457; [2002] 1 HKLRD 150'),\n",
       " ('Final Appeal (Criminal)',\n",
       "  '2001',\n",
       "  \"\\\\'https://legalref.judiciary.hk/lrs/images/ThemeXP/Epage.gif\\\\'\",\n",
       "  'FACC4/2001',\n",
       "  'https://legalref.judiciary.hk/lrs/common/ju/ju_frame.jsp?DIS=37352',\n",
       "  '(22/01/2002)',\n",
       "  'TANG KWOK WAH, DIXON v. HKSAR \\xa0Reported in :[2002] 1 HKLRD 286; (2002) 5 HKCFAR 209'),\n",
       " ('Final Appeal (Criminal)',\n",
       "  '2001',\n",
       "  \"\\\\'https://legalref.judiciary.hk/lrs/images/ThemeXP/ETpage.gif\\\\'\",\n",
       "  'FACC5/2001',\n",
       "  'https://legalref.judiciary.hk/lrs/common/ju/ju_frame.jsp?DIS=35042',\n",
       "  '(14/03/2002)',\n",
       "  'LI DEFAN AND ANOTHER v. HKSAR \\xa0Reported in :[2002] 1 HKLRD 527; (2002) 5 HKCFAR 320'),\n",
       " ('Final Appeal (Criminal)',\n",
       "  '2001',\n",
       "  \"\\\\'https://legalref.judiciary.hk/lrs/images/ThemeXP/ETpage.gif\\\\'\",\n",
       "  'FACC6/2001',\n",
       "  'https://legalref.judiciary.hk/lrs/common/ju/ju_frame.jsp?DIS=35645',\n",
       "  '(16/07/2002)',\n",
       "  'LAU CHEONG AND ANOTHER v. HKSAR \\xa0Reported in :[2002] 2 HKLRD 612; (2002) 5 HKCFAR 415'),\n",
       " ('Final Appeal (Criminal)',\n",
       "  '2007',\n",
       "  \"\\\\'https://legalref.judiciary.hk/lrs/images/ThemeXP/Epage.gif\\\\'\",\n",
       "  'FACC1/2007',\n",
       "  'https://legalref.judiciary.hk/lrs/common/ju/ju_frame.jsp?DIS=57762',\n",
       "  '(17/07/2007)',\n",
       "  'HKSAR v. TSE SO SO \\xa0Reported in :[2007] 3 HKLRD 932; (2007) 10 HKCFAR 368'),\n",
       " ('Final Appeal (Criminal)',\n",
       "  '2007',\n",
       "  \"\\\\'https://legalref.judiciary.hk/lrs/images/ThemeXP/ETpage.gif\\\\'\",\n",
       "  'FACC2/2007',\n",
       "  'https://legalref.judiciary.hk/lrs/common/ju/ju_frame.jsp?DIS=57872',\n",
       "  '(25/07/2007)',\n",
       "  'MO YUK PING v. HKSAR \\xa0Reported in :[2007] 3 HKLRD 750; (2007) 10 HKCFAR 386'),\n",
       " ('Final Appeal (Criminal)',\n",
       "  '2007',\n",
       "  \"\\\\'https://legalref.judiciary.hk/lrs/images/ThemeXP/Epage.gif\\\\'\",\n",
       "  'FACC3/2007',\n",
       "  'https://legalref.judiciary.hk/lrs/common/ju/ju_frame.jsp?DIS=57111',\n",
       "  '(18/05/2007)',\n",
       "  'CHAN NAI MING v. HKSAR \\xa0Reported in :[2007] 2 HKLRD 489; (2007) 10 HKCFAR 273'),\n",
       " ('Final Appeal (Criminal)',\n",
       "  '2007',\n",
       "  \"\\\\'https://legalref.judiciary.hk/lrs/images/ThemeXP/Epage.gif\\\\'\",\n",
       "  'FACC4/2007',\n",
       "  'https://legalref.judiciary.hk/lrs/common/ju/ju_frame.jsp?DIS=59501',\n",
       "  '(14/12/2007)',\n",
       "  'TING JAMES HENRY v. HKSAR \\xa0Reported in :(2007) 10 HKCFAR 730'),\n",
       " ('Final Appeal (Criminal)',\n",
       "  '2007',\n",
       "  \"\\\\'https://legalref.judiciary.hk/lrs/images/ThemeXP/Epage.gif\\\\'\",\n",
       "  'FACC4/2007',\n",
       "  'https://legalref.judiciary.hk/lrs/common/ju/ju_frame.jsp?DIS=63185',\n",
       "  '(04/11/2008)',\n",
       "  'TING JAMES HENRY v. HKSAR \\xa0'),\n",
       " ('Final Appeal (Criminal)',\n",
       "  '2007',\n",
       "  \"\\\\'https://legalref.judiciary.hk/lrs/images/ThemeXP/Epage.gif\\\\'\",\n",
       "  'FACC4/2007',\n",
       "  'https://legalref.judiciary.hk/lrs/common/ju/ju_frame.jsp?DIS=63225',\n",
       "  '(22/09/2008)',\n",
       "  'TING JAMES HENRY v. HKSAR \\xa0'),\n",
       " ('Final Appeal (Criminal)',\n",
       "  '2007',\n",
       "  \"\\\\'https://legalref.judiciary.hk/lrs/images/ThemeXP/Epage.gif\\\\'\",\n",
       "  'FACC4/2007',\n",
       "  'https://legalref.judiciary.hk/lrs/common/ju/ju_frame.jsp?DIS=58986',\n",
       "  '(05/11/2007)',\n",
       "  'TING JAMES HENRY v. HKSAR \\xa0Reported in :[2008] 4 HKLRD 850; (2007) 10 HKCFAR 632'),\n",
       " ('Final Appeal (Criminal)',\n",
       "  '2007',\n",
       "  \"\\\\'https://legalref.judiciary.hk/lrs/images/ThemeXP/ETpage.gif\\\\'\",\n",
       "  'FACC5/2007',\n",
       "  'https://legalref.judiciary.hk/lrs/common/ju/ju_frame.jsp?DIS=59322',\n",
       "  '(30/11/2007)',\n",
       "  'QAMAR SHERAZ  v. HKSAR \\xa0Reported in :(2007) 10 HKCFAR 696'),\n",
       " ('Final Appeal (Criminal)',\n",
       "  '2007',\n",
       "  \"\\\\'https://legalref.judiciary.hk/lrs/images/ThemeXP/ETpage.gif\\\\'\",\n",
       "  'FACC6/2007',\n",
       "  'https://legalref.judiciary.hk/lrs/common/ju/ju_frame.jsp?DIS=60341',\n",
       "  '(07/03/2008)',\n",
       "  'HKSAR v. NG PO ON AND ANOTHER \\xa0Reported in :[2008] 4 HKLRD 176; (2008) 11 HKCFAR 91'),\n",
       " ('Final Appeal (Criminal)',\n",
       "  '2007',\n",
       "  \"\\\\'https://legalref.judiciary.hk/lrs/images/ThemeXP/Epage.gif\\\\'\",\n",
       "  'FACC7/2007',\n",
       "  'https://legalref.judiciary.hk/lrs/common/ju/ju_frame.jsp?DIS=59971',\n",
       "  '(31/01/2008)',\n",
       "  'PUN LUEN PAN v. HONG KONG SPECIAL ADMINISTRATIVE REGION \\xa0Reported in :[2008] 2 HKLRD 404; (2008) 11 HKCFAR 50'),\n",
       " ('Final Appeal (Criminal)',\n",
       "  '2007',\n",
       "  \"\\\\'https://legalref.judiciary.hk/lrs/images/ThemeXP/Epage.gif\\\\'\",\n",
       "  'FACC8/2007',\n",
       "  'https://legalref.judiciary.hk/lrs/common/ju/ju_frame.jsp?DIS=59727',\n",
       "  '(10/01/2008)',\n",
       "  'MOK KIN KAU v. HKSAR \\xa0Reported in :(2008) 11 HKCFAR 1'),\n",
       " ('Final Appeal (Criminal)',\n",
       "  '2007',\n",
       "  \"\\\\'https://legalref.judiciary.hk/lrs/images/ThemeXP/Epage.gif\\\\'\",\n",
       "  'FACC9/2007',\n",
       "  'https://legalref.judiciary.hk/lrs/common/ju/ju_frame.jsp?DIS=63527',\n",
       "  '(05/12/2008)',\n",
       "  'CHAN KA MAN v. HKSAR \\xa0Reported in :(2008) 11 HKCFAR 614'),\n",
       " ('Final Appeal (Criminal)',\n",
       "  '2006',\n",
       "  \"\\\\'https://legalref.judiciary.hk/lrs/images/ThemeXP/ETpage.gif\\\\'\",\n",
       "  'FACC1/2006',\n",
       "  'https://legalref.judiciary.hk/lrs/common/ju/ju_frame.jsp?DIS=53996',\n",
       "  '(31/08/2006)',\n",
       "  'HKSAR v. HUNG CHAN WA AND ANOTHER \\xa0Reported in :[2006] 3 HKLRD 841; (2006) 9 HKCFAR 614'),\n",
       " ('Final Appeal (Criminal)',\n",
       "  '2006',\n",
       "  \"\\\\'https://legalref.judiciary.hk/lrs/images/ThemeXP/Epage.gif\\\\'\",\n",
       "  'FACC2/2006',\n",
       "  'https://legalref.judiciary.hk/lrs/common/ju/ju_frame.jsp?DIS=54851',\n",
       "  '(27/10/2006)',\n",
       "  'TRI-VIEW LTD AND ANOTHER v. HKSAR \\xa0Reported in :[2006] 4 HKLRD 376; (2006) 9 HKCFAR 695'),\n",
       " ('Final Appeal (Criminal)',\n",
       "  '2006',\n",
       "  \"\\\\'https://legalref.judiciary.hk/lrs/images/ThemeXP/Epage.gif\\\\'\",\n",
       "  'FACC3/2006',\n",
       "  'https://legalref.judiciary.hk/lrs/common/ju/ju_frame.jsp?DIS=55255',\n",
       "  '(01/12/2006)',\n",
       "  'YEUNG CHUN PONG AND OTHERS v. SECRETARY FOR JUSTICE \\xa0'),\n",
       " ('Final Appeal (Criminal)',\n",
       "  '2006',\n",
       "  \"\\\\'https://legalref.judiciary.hk/lrs/images/ThemeXP/ETpage.gif\\\\'\",\n",
       "  'FACC3/2006',\n",
       "  'https://legalref.judiciary.hk/lrs/common/ju/ju_frame.jsp?DIS=55023',\n",
       "  '(13/11/2006)',\n",
       "  'YEUNG CHUN PONG AND OTHERS v. SECRETARY FOR JUSTICE \\xa0Reported in :(2006) 9 HKCFAR 836'),\n",
       " ('Final Appeal (Criminal)',\n",
       "  '2006',\n",
       "  \"\\\\'https://legalref.judiciary.hk/lrs/images/ThemeXP/Epage.gif\\\\'\",\n",
       "  'FACC4/2006',\n",
       "  'https://legalref.judiciary.hk/lrs/common/ju/ju_frame.jsp?DIS=56019',\n",
       "  '(09/02/2007)',\n",
       "  'OEI HENGKY WIRYO v. HKSAR \\xa0Reported in :[2007] 1 HKLRD 568; (2007) 10 HKCFAR 98'),\n",
       " ('Final Appeal (Criminal)',\n",
       "  '2006',\n",
       "  \"\\\\'https://legalref.judiciary.hk/lrs/images/ThemeXP/Epage.gif\\\\'\",\n",
       "  'FACC4/2006',\n",
       "  'https://legalref.judiciary.hk/lrs/common/ju/ju_frame.jsp?DIS=52874',\n",
       "  '(15/06/2006)',\n",
       "  'OEI HENGKY WIRYO v. HKSAR \\xa0Reported in :[2006] 4 HKLRD 49; (2006) 9 HKCFAR 389'),\n",
       " ('Final Appeal (Criminal)',\n",
       "  '2006',\n",
       "  \"\\\\'https://legalref.judiciary.hk/lrs/images/ThemeXP/Epage.gif\\\\'\",\n",
       "  'FACC5/2006',\n",
       "  'https://legalref.judiciary.hk/lrs/common/ju/ju_frame.jsp?DIS=54928',\n",
       "  '(06/11/2006)',\n",
       "  'CHAN KAR LEUNG AND OTHERS v. HKSAR \\xa0Reported in :(2006) 9 HKCFAR 827'),\n",
       " ('Final Appeal (Criminal)',\n",
       "  '2006',\n",
       "  \"\\\\'https://legalref.judiciary.hk/lrs/images/ThemeXP/Epage.gif\\\\'\",\n",
       "  'FACC6/2006',\n",
       "  'https://legalref.judiciary.hk/lrs/common/ju/ju_frame.jsp?DIS=54929',\n",
       "  '(06/11/2006)',\n",
       "  'CHAN KAR LEUNG AND OTHERS v. HKSAR \\xa0Reported in :(2006) 9 HKCFAR 827'),\n",
       " ('Final Appeal (Criminal)',\n",
       "  '2006',\n",
       "  \"\\\\'https://legalref.judiciary.hk/lrs/images/ThemeXP/ETpage.gif\\\\'\",\n",
       "  'FACC7/2006',\n",
       "  'https://legalref.judiciary.hk/lrs/common/ju/ju_frame.jsp?DIS=57703',\n",
       "  '(11/07/2007)',\n",
       "  'TONG YIU WAH v. HKSAR \\xa0Reported in :[2007] 3 HKLRD 565; (2007) 10 HKCFAR 324'),\n",
       " ('Final Appeal (Criminal)',\n",
       "  '2006',\n",
       "  \"\\\\'https://legalref.judiciary.hk/lrs/images/ThemeXP/Epage.gif\\\\'\",\n",
       "  'FACC8/2006',\n",
       "  'https://legalref.judiciary.hk/lrs/common/ju/ju_frame.jsp?DIS=57541',\n",
       "  '(25/06/2007)',\n",
       "  'ONG CHUN YING v. HKSAR \\xa0Reported in :(2007) 10 HKCFAR 318'),\n",
       " ('Final Appeal (Criminal)',\n",
       "  '2006',\n",
       "  \"\\\\'https://legalref.judiciary.hk/lrs/images/ThemeXP/Epage.gif\\\\'\",\n",
       "  'FACC9/2006',\n",
       "  'https://legalref.judiciary.hk/lrs/common/ju/ju_frame.jsp?DIS=56477',\n",
       "  '(22/03/2007)',\n",
       "  'Z v. HKSAR \\xa0Reported in :[2007] 1 HKLRD 977; (2007) 10 HKCFAR 183'),\n",
       " ('Final Appeal (Criminal)',\n",
       "  '2006',\n",
       "  \"\\\\'https://legalref.judiciary.hk/lrs/images/ThemeXP/ETpage.gif\\\\'\",\n",
       "  'FACC10/2006',\n",
       "  'https://legalref.judiciary.hk/lrs/common/ju/ju_frame.jsp?DIS=57632',\n",
       "  '(03/07/2007)',\n",
       "  'CHIU WING NAM, DICK v. HKSAR \\xa0Reported in :(2007) 10 HKCFAR 613'),\n",
       " ('Final Appeal (Criminal)',\n",
       "  '2006',\n",
       "  \"\\\\'https://legalref.judiciary.hk/lrs/images/ThemeXP/Epage.gif\\\\'\",\n",
       "  'FACC11/2006',\n",
       "  'https://legalref.judiciary.hk/lrs/common/ju/ju_frame.jsp?DIS=57231',\n",
       "  '(31/05/2007)',\n",
       "  'P v. THE COMMISSIONER OF THE INDEPENDENT COMMISSION AGAINST CORRUPTION \\xa0Reported in :[2008] 1 HKLRD 214; (2007) 10 HKCFAR 293'),\n",
       " ('Final Appeal (Criminal)',\n",
       "  '2006',\n",
       "  \"\\\\'https://legalref.judiciary.hk/lrs/images/ThemeXP/ETpage.gif\\\\'\",\n",
       "  'FACC12/2006',\n",
       "  'https://legalref.judiciary.hk/lrs/common/ju/ju_frame.jsp?DIS=57763',\n",
       "  '(17/07/2007)',\n",
       "  'SECRETARY FOR JUSTICE v. YAU YUK LUNG ZIGO AND ANOTHER \\xa0Reported in :[2007] 3 HKLRD 903; (2007) 10 HKCFAR 335'),\n",
       " ('Final Appeal (Criminal)',\n",
       "  '2005',\n",
       "  \"\\\\'https://legalref.judiciary.hk/lrs/images/ThemeXP/Epage.gif\\\\'\",\n",
       "  'FACC1/2005',\n",
       "  'https://legalref.judiciary.hk/lrs/common/ju/ju_frame.jsp?DIS=46475',\n",
       "  '(03/10/2005)',\n",
       "  'LEUNG KWOK HUNG AND OTHERS v. HKSAR \\xa0'),\n",
       " ('Final Appeal (Criminal)',\n",
       "  '2005',\n",
       "  \"\\\\'https://legalref.judiciary.hk/lrs/images/ThemeXP/ETpage.gif\\\\'\",\n",
       "  'FACC1/2005',\n",
       "  'https://legalref.judiciary.hk/lrs/common/ju/ju_frame.jsp?DIS=45653',\n",
       "  '(08/07/2005)',\n",
       "  'LEUNG KWOK HUNG AND OTHERS v. HKSAR \\xa0Reported in :[2005] 3 HKLRD 164; (2005) 8 HKCFAR 229'),\n",
       " ('Final Appeal (Criminal)',\n",
       "  '2005',\n",
       "  \"\\\\'https://legalref.judiciary.hk/lrs/images/ThemeXP/Epage.gif\\\\'\",\n",
       "  'FACC2/2005',\n",
       "  'https://legalref.judiciary.hk/lrs/common/ju/ju_frame.jsp?DIS=46476',\n",
       "  '(03/10/2005)',\n",
       "  'LEUNG KWOK HUNG AND OTHERS v. HKSAR \\xa0'),\n",
       " ('Final Appeal (Criminal)',\n",
       "  '2005',\n",
       "  \"\\\\'https://legalref.judiciary.hk/lrs/images/ThemeXP/ETpage.gif\\\\'\",\n",
       "  'FACC2/2005',\n",
       "  'https://legalref.judiciary.hk/lrs/common/ju/ju_frame.jsp?DIS=45654',\n",
       "  '(08/07/2005)',\n",
       "  'LEUNG KWOK HUNG AND OTHERS v. HKSAR \\xa0Reported in :[2005] 3 HKLRD 164; (2005) 8 HKCFAR 229'),\n",
       " ('Final Appeal (Criminal)',\n",
       "  '2005',\n",
       "  \"\\\\'https://legalref.judiciary.hk/lrs/images/ThemeXP/Epage.gif\\\\'\",\n",
       "  'FACC3/2005',\n",
       "  'https://legalref.judiciary.hk/lrs/common/ju/ju_frame.jsp?DIS=47119',\n",
       "  '(29/11/2005)',\n",
       "  'LAW CHUNG KI AND ANOTHER v. HKSAR \\xa0Reported in :[2005] 4 HKLRD 499; (2005) 8 HKCFAR 701'),\n",
       " ('Final Appeal (Criminal)',\n",
       "  '2005',\n",
       "  \"\\\\'https://legalref.judiciary.hk/lrs/images/ThemeXP/ETpage.gif\\\\'\",\n",
       "  'FACC4/2005',\n",
       "  'https://legalref.judiciary.hk/lrs/common/ju/ju_frame.jsp?DIS=53995',\n",
       "  '(31/08/2006)',\n",
       "  'HKSAR v. LAM KWONG WAI AND ANOTHER \\xa0Reported in :[2006] 3 HKLRD 808; (2006) 9 HKCFAR 574'),\n",
       " ('Final Appeal (Criminal)',\n",
       "  '2005',\n",
       "  \"\\\\'https://legalref.judiciary.hk/lrs/images/ThemeXP/ETpage.gif\\\\'\",\n",
       "  'FACC5/2005',\n",
       "  'https://legalref.judiciary.hk/lrs/common/ju/ju_frame.jsp?DIS=53304',\n",
       "  '(18/07/2006)',\n",
       "  'SO WAI LUN v. HKSAR \\xa0Reported in :[2006] 3 HKLRD 394; (2006) 9 HKCFAR 530'),\n",
       " ('Final Appeal (Criminal)',\n",
       "  '2005',\n",
       "  \"\\\\'https://legalref.judiciary.hk/lrs/images/ThemeXP/Epage.gif\\\\'\",\n",
       "  'FACC6/2005',\n",
       "  'https://legalref.judiciary.hk/lrs/common/ju/ju_frame.jsp?DIS=47120',\n",
       "  '(29/11/2005)',\n",
       "  'LAW CHUNG KI AND ANOTHER v. HKSAR \\xa0Reported in :[2005] 4 HKLRD 499; (2005) 8 HKCFAR 701'),\n",
       " ('Final Appeal (Criminal)',\n",
       "  '2005',\n",
       "  \"\\\\'https://legalref.judiciary.hk/lrs/images/ThemeXP/Epage.gif\\\\'\",\n",
       "  'FACC7/2005',\n",
       "  'https://legalref.judiciary.hk/lrs/common/ju/ju_frame.jsp?DIS=51868',\n",
       "  '(13/03/2006)',\n",
       "  'YEUNG SIU KEUNG v. HKSAR \\xa0Reported in :[2006] 1 HKLRD 895; (2006) 9 HKCFAR 144'),\n",
       " ('Final Appeal (Criminal)',\n",
       "  '2005',\n",
       "  \"\\\\'https://legalref.judiciary.hk/lrs/images/ThemeXP/Epage.gif\\\\'\",\n",
       "  'FACC8/2005',\n",
       "  'https://legalref.judiciary.hk/lrs/common/ju/ju_frame.jsp?DIS=51682',\n",
       "  '(28/02/2006)',\n",
       "  'JIM FAI v. HKSAR \\xa0Reported in :[2006] 1 HKLRD 968; (2006) 9 HKCFAR 85'),\n",
       " ('Final Appeal (Criminal)',\n",
       "  '2005',\n",
       "  \"\\\\'https://legalref.judiciary.hk/lrs/images/ThemeXP/ETpage.gif\\\\'\",\n",
       "  'FACC9/2005',\n",
       "  'https://legalref.judiciary.hk/lrs/common/ju/ju_frame.jsp?DIS=51683',\n",
       "  '(28/02/2006)',\n",
       "  'LEUNG FEI WAH v. HKSAR \\xa0Reported in :[2006] 1 HKLRD 993; (2006) 9 HKCFAR 118'),\n",
       " ('Final Appeal (Criminal)',\n",
       "  '2005',\n",
       "  \"\\\\'https://legalref.judiciary.hk/lrs/images/ThemeXP/Epage.gif\\\\'\",\n",
       "  'FACC10/2005',\n",
       "  'https://legalref.judiciary.hk/lrs/common/ju/ju_frame.jsp?DIS=52512',\n",
       "  '(23/05/2006)',\n",
       "  'HUI YUI SANG v. HKSAR \\xa0Reported in :[2006] 2 HKLRD 738; (2006) 9 HKCFAR 308'),\n",
       " ('Final Appeal (Criminal)',\n",
       "  '2005',\n",
       "  \"\\\\'https://legalref.judiciary.hk/lrs/images/ThemeXP/Epage.gif\\\\'\",\n",
       "  'FACC11/2005',\n",
       "  'https://legalref.judiciary.hk/lrs/common/ju/ju_frame.jsp?DIS=52002',\n",
       "  '(23/03/2006)',\n",
       "  'HKSAR v. LAM SZE NGA, JOSEPHINE \\xa0Reported in :[2006] 2 HKLRD 244; (2006) 9 HKCFAR 190'),\n",
       " ('Final Appeal (Criminal)',\n",
       "  '2005',\n",
       "  \"\\\\'https://legalref.judiciary.hk/lrs/images/ThemeXP/Epage.gif\\\\'\",\n",
       "  'FACC12/2005',\n",
       "  'https://legalref.judiciary.hk/lrs/common/ju/ju_frame.jsp?DIS=53027',\n",
       "  '(30/06/2006)',\n",
       "  'LAM YUK FAI, STEVE v. HKSAR \\xa0'),\n",
       " ('Final Appeal (Criminal)',\n",
       "  '2005',\n",
       "  \"\\\\'https://legalref.judiciary.hk/lrs/images/ThemeXP/ETpage.gif\\\\'\",\n",
       "  'FACC12/2005',\n",
       "  'https://legalref.judiciary.hk/lrs/common/ju/ju_frame.jsp?DIS=52116',\n",
       "  '(06/04/2006)',\n",
       "  'LAM YUK FAI, STEVE v. HKSAR \\xa0Reported in :[2006] 2 HKLRD 165; (2006) 9 HKCFAR 281'),\n",
       " ('Final Appeal (Criminal)',\n",
       "  '2005',\n",
       "  \"\\\\'https://legalref.judiciary.hk/lrs/images/ThemeXP/Epage.gif\\\\'\",\n",
       "  'FACC13/2005',\n",
       "  'https://legalref.judiciary.hk/lrs/common/ju/ju_frame.jsp?DIS=52630',\n",
       "  '(02/06/2006)',\n",
       "  'WONG SHUN WAH AND ANOTHER v. HKSAR \\xa0'),\n",
       " ('Final Appeal (Criminal)',\n",
       "  '2005',\n",
       "  \"\\\\'https://legalref.judiciary.hk/lrs/images/ThemeXP/Epage.gif\\\\'\",\n",
       "  'FACC13/2005',\n",
       "  'https://legalref.judiciary.hk/lrs/common/ju/ju_frame.jsp?DIS=52513',\n",
       "  '(23/05/2006)',\n",
       "  'WONG SHUN WAH AND ANOTHER v. HKSAR \\xa0Reported in :[2006] 2 HKLRD 748; (2006) 9 HKCFAR 320'),\n",
       " ('Final Appeal (Criminal)',\n",
       "  '2005',\n",
       "  \"\\\\'https://legalref.judiciary.hk/lrs/images/ThemeXP/ETpage.gif\\\\'\",\n",
       "  'FACC14/2005',\n",
       "  'https://legalref.judiciary.hk/lrs/common/ju/ju_frame.jsp?DIS=52115',\n",
       "  '(06/04/2006)',\n",
       "  'TAM KING HON v. HKSAR \\xa0Reported in :[2006] 2 HKLRD 143; (2006) 9 HKCFAR 206'),\n",
       " ('Final Appeal (Criminal)',\n",
       "  '2014',\n",
       "  \"\\\\'https://legalref.judiciary.hk/lrs/images/ThemeXP/Epage.gif\\\\'\",\n",
       "  'FACC1/2014',\n",
       "  'https://legalref.judiciary.hk/lrs/common/ju/ju_frame.jsp?DIS=95623',\n",
       "  '(07/11/2014)',\n",
       "  'HKSAR v. FUGRO GEOTECHNICAL SERVICES LTD \\xa0Reported in :(2014) 17 HKCFAR 755'),\n",
       " ('Final Appeal (Criminal)',\n",
       "  '2014',\n",
       "  \"\\\\'https://legalref.judiciary.hk/lrs/images/ThemeXP/Epage.gif\\\\'\",\n",
       "  'FACC2/2014',\n",
       "  'https://legalref.judiciary.hk/lrs/common/ju/ju_frame.jsp?DIS=93256',\n",
       "  '(28/05/2014)',\n",
       "  'HKSAR v. FEROSH \\xa0Reported in :(2018) 21 HKCFAR 159'),\n",
       " ('Final Appeal (Criminal)',\n",
       "  '2014',\n",
       "  \"\\\\'https://legalref.judiciary.hk/lrs/images/ThemeXP/Epage.gif\\\\'\",\n",
       "  'FACC3/2014',\n",
       "  'https://legalref.judiciary.hk/lrs/common/ju/ju_frame.jsp?DIS=95156',\n",
       "  '(08/10/2014)',\n",
       "  'HKSAR v. PANG HIU SAN \\xa0Reported in :(2014) 17 HKCFAR 545'),\n",
       " ('Final Appeal (Criminal)',\n",
       "  '2014',\n",
       "  \"\\\\'https://legalref.judiciary.hk/lrs/images/ThemeXP/Epage.gif\\\\'\",\n",
       "  'FACC4/2014',\n",
       "  'https://legalref.judiciary.hk/lrs/common/ju/ju_frame.jsp?DIS=96328',\n",
       "  '(22/12/2014)',\n",
       "  'HKSAR v. LEUNG SHING CHI AND OTHERS \\xa0Reported in :(2014) 17 HKCFAR 889'),\n",
       " ('Final Appeal (Criminal)',\n",
       "  '2014',\n",
       "  \"\\\\'https://legalref.judiciary.hk/lrs/images/ThemeXP/Epage.gif\\\\'\",\n",
       "  'FACC5/2014',\n",
       "  'https://legalref.judiciary.hk/lrs/common/ju/ju_frame.jsp?DIS=96945',\n",
       "  '(04/02/2015)',\n",
       "  'HKSAR v. KONG WAI LUN \\xa0Reported in :(2015) 18 HKCFAR 7'),\n",
       " ('Final Appeal (Criminal)',\n",
       "  '2014',\n",
       "  \"\\\\'https://legalref.judiciary.hk/lrs/images/ThemeXP/Epage.gif\\\\'\",\n",
       "  'FACC6/2014',\n",
       "  'https://legalref.judiciary.hk/lrs/common/ju/ju_frame.jsp?DIS=96987',\n",
       "  '(09/02/2015)',\n",
       "  'HKSAR v. LAU SHING CHUNG SIMON \\xa0Reported in :(2015) 18 HKCFAR 50'),\n",
       " ('Final Appeal (Criminal)',\n",
       "  '2014',\n",
       "  \"\\\\'https://legalref.judiciary.hk/lrs/images/ThemeXP/Epage.gif\\\\'\",\n",
       "  'FACC7/2014',\n",
       "  'https://legalref.judiciary.hk/lrs/common/ju/ju_frame.jsp?DIS=103224',\n",
       "  '(21/03/2016)',\n",
       "  'HKSAR v. LEONORA YUNG, THE PERSONAL REPRESENTATIVE OF THE ESTATE OF CHENG CHEE-TOCK THEODORE, DECEASED \\xa0Reported in :(2016) 19 HKCFAR 86'),\n",
       " ('Final Appeal (Criminal)',\n",
       "  '2014',\n",
       "  \"\\\\'https://legalref.judiciary.hk/lrs/images/ThemeXP/Epage.gif\\\\'\",\n",
       "  'FACC7/2014',\n",
       "  'https://legalref.judiciary.hk/lrs/common/ju/ju_frame.jsp?DIS=104596',\n",
       "  '(22/06/2016)',\n",
       "  'HKSAR v. LEONORA YUNG, the personal representative of the estate of CHENG CHEE-TOCK THEODORE, Deceased \\xa0'),\n",
       " ('Final Appeal (Criminal)',\n",
       "  '2014',\n",
       "  \"\\\\'https://legalref.judiciary.hk/lrs/images/ThemeXP/Epage.gif\\\\'\",\n",
       "  'FACC7/2014',\n",
       "  'https://legalref.judiciary.hk/lrs/common/ju/ju_frame.jsp?DIS=99117',\n",
       "  '(25/06/2015)',\n",
       "  'HKSAR v. CHENG CHEE TOCK THEODORE \\xa0Reported in :(2015) 18 HKCFAR 292'),\n",
       " ('Final Appeal (Criminal)',\n",
       "  '2014',\n",
       "  \"\\\\'https://legalref.judiciary.hk/lrs/images/ThemeXP/Epage.gif\\\\'\",\n",
       "  'FACC8/2014',\n",
       "  'https://legalref.judiciary.hk/lrs/common/ju/ju_frame.jsp?DIS=98006',\n",
       "  '(20/04/2015)',\n",
       "  'HKSAR v. WONG TAK KEUNG \\xa0Reported in :(2015) 18 HKCFAR 158'),\n",
       " ('Final Appeal (Criminal)',\n",
       "  '2014',\n",
       "  \"\\\\'https://legalref.judiciary.hk/lrs/images/ThemeXP/Epage.gif\\\\'\",\n",
       "  'FACC8/2014',\n",
       "  'https://legalref.judiciary.hk/lrs/common/ju/ju_frame.jsp?DIS=97125',\n",
       "  '(16/02/2015)',\n",
       "  'HKSAR v. WONG TAK KEUNG \\xa0Reported in :(2015) 18 HKCFAR 62'),\n",
       " ('Final Appeal (Criminal)',\n",
       "  '2014',\n",
       "  \"\\\\'https://legalref.judiciary.hk/lrs/images/ThemeXP/Epage.gif\\\\'\",\n",
       "  'FACC9/2014',\n",
       "  'https://legalref.judiciary.hk/lrs/common/ju/ju_frame.jsp?DIS=96942',\n",
       "  '(04/02/2015)',\n",
       "  'HKSAR v. WONG WAI KWONG DAVID \\xa0Reported in :(2015) 18 HKCFAR 29'),\n",
       " ('Final Appeal (Criminal)',\n",
       "  '2014',\n",
       "  \"\\\\'https://legalref.judiciary.hk/lrs/images/ThemeXP/Epage.gif\\\\'\",\n",
       "  'FACC10/2014',\n",
       "  'https://legalref.judiciary.hk/lrs/common/ju/ju_frame.jsp?DIS=97579',\n",
       "  '(19/03/2015)',\n",
       "  'HKSAR v. GAMMON CONSTRUCTION LTD \\xa0Reported in :(2015) 18 HKCFAR 110'),\n",
       " ('Final Appeal (Criminal)',\n",
       "  '2014',\n",
       "  \"\\\\'https://legalref.judiciary.hk/lrs/images/ThemeXP/Epage.gif\\\\'\",\n",
       "  'FACC11/2014',\n",
       "  'https://legalref.judiciary.hk/lrs/common/ju/ju_frame.jsp?DIS=97598',\n",
       "  '(20/03/2015)',\n",
       "  'PACIFIC SUN ADVISORS LTD AND ANOTHER v. SECURITIES AND FUTURES COMMISSION \\xa0Reported in :(2015) 18 HKCFAR 138'),\n",
       " ('Final Appeal (Criminal)',\n",
       "  '2008',\n",
       "  \"\\\\'https://legalref.judiciary.hk/lrs/images/ThemeXP/Epage.gif\\\\'\",\n",
       "  'FACC1/2008',\n",
       "  'https://legalref.judiciary.hk/lrs/common/ju/ju_frame.jsp?DIS=61841',\n",
       "  '(25/07/2008)',\n",
       "  'HO HOI SHING v. HKSAR \\xa0Reported in :[2008] 5 HKLRD 658; (2008) 11 HKCFAR 354'),\n",
       " ('Final Appeal (Criminal)',\n",
       "  '2008',\n",
       "  \"\\\\'https://legalref.judiciary.hk/lrs/images/ThemeXP/Epage.gif\\\\'\",\n",
       "  'FACC2/2008',\n",
       "  'https://legalref.judiciary.hk/lrs/common/ju/ju_frame.jsp?DIS=63526',\n",
       "  '(05/12/2008)',\n",
       "  'LAM CHI KWONG v. HKSAR \\xa0Reported in :(2008) 11 HKCFAR 623'),\n",
       " ('Final Appeal (Criminal)',\n",
       "  '2008',\n",
       "  \"\\\\'https://legalref.judiciary.hk/lrs/images/ThemeXP/Epage.gif\\\\'\",\n",
       "  'FACC3/2008',\n",
       "  'https://legalref.judiciary.hk/lrs/common/ju/ju_frame.jsp?DIS=65002',\n",
       "  '(26/03/2009)',\n",
       "  'TO SHU FAI v. SECURITIES & FUTURES COMMISSION \\xa0Reported in :(2009) 12 HKCFAR 758'),\n",
       " ('Final Appeal (Criminal)',\n",
       "  '2008',\n",
       "  \"\\\\'https://legalref.judiciary.hk/lrs/images/ThemeXP/Epage.gif\\\\'\",\n",
       "  'FACC4/2008',\n",
       "  'https://legalref.judiciary.hk/lrs/common/ju/ju_frame.jsp?DIS=64685',\n",
       "  '(09/03/2010)',\n",
       "  'CAI ZONG GANG v. HKSAR \\xa0Reported in :(2009) 12 HKCFAR 494'),\n",
       " ('Final Appeal (Criminal)',\n",
       "  '2008',\n",
       "  \"\\\\'https://legalref.judiciary.hk/lrs/images/ThemeXP/Epage.gif\\\\'\",\n",
       "  'FACC5/2008',\n",
       "  'https://legalref.judiciary.hk/lrs/common/ju/ju_frame.jsp?DIS=63525',\n",
       "  '(05/12/2008)',\n",
       "  \"HKSAR v. TIN\\\\'S LABEL FACTORY LTD \\xa0Reported in :(2008) 11 HKCFAR 637\"),\n",
       " ('Final Appeal (Criminal)',\n",
       "  '2008',\n",
       "  \"\\\\'https://legalref.judiciary.hk/lrs/images/ThemeXP/Epage.gif\\\\'\",\n",
       "  'FACC6/2008',\n",
       "  'https://legalref.judiciary.hk/lrs/common/ju/ju_frame.jsp?DIS=65759',\n",
       "  '(14/05/2009)',\n",
       "  'HKSAR v. WONG KWOK WANG, WARREN \\xa0Reported in :[2009] 3 HKLRD 559; (2009) 12 HKCFAR 218'),\n",
       " ('Final Appeal (Criminal)',\n",
       "  '2008',\n",
       "  \"\\\\'https://legalref.judiciary.hk/lrs/images/ThemeXP/Epage.gif\\\\'\",\n",
       "  'FACC7/2008',\n",
       "  'https://legalref.judiciary.hk/lrs/common/ju/ju_frame.jsp?DIS=65001',\n",
       "  '(26/03/2009)',\n",
       "  'CHAN FAT CHU RAYMOND AND ANOTHER v. HKSAR \\xa0Reported in :(2009) 12 HKCFAR 775'),\n",
       " ('Final Appeal (Criminal)',\n",
       "  '2008',\n",
       "  \"\\\\'https://legalref.judiciary.hk/lrs/images/ThemeXP/Epage.gif\\\\'\",\n",
       "  'FACC8/2008',\n",
       "  'https://legalref.judiciary.hk/lrs/common/ju/ju_frame.jsp?DIS=66354',\n",
       "  '(25/06/2009)',\n",
       "  'YEUNG CHUN PONG AND OTHERS v. SECRETARY FOR JUSTICE \\xa0Reported in :(2009) 12 HKCFAR 867'),\n",
       " ('Final Appeal (Criminal)',\n",
       "  '2008',\n",
       "  \"\\\\'https://legalref.judiciary.hk/lrs/images/ThemeXP/Epage.gif\\\\'\",\n",
       "  'FACC9/2008',\n",
       "  'https://legalref.judiciary.hk/lrs/common/ju/ju_frame.jsp?DIS=64764',\n",
       "  '(12/03/2009)',\n",
       "  'CHEUNG CHI KEUNG v. HKSAR \\xa0Reported in :(2009) 12 HKCFAR 502'),\n",
       " ('Final Appeal (Criminal)',\n",
       "  '2008',\n",
       "  \"\\\\'https://legalref.judiciary.hk/lrs/images/ThemeXP/ETpage.gif\\\\'\",\n",
       "  'FACC10/2008',\n",
       "  'https://legalref.judiciary.hk/lrs/common/ju/ju_frame.jsp?DIS=64559',\n",
       "  '(27/02/2009)',\n",
       "  'WONG CHI KING v. HKSAR \\xa0Reported in :(2009) 12 HKCFAR 481'),\n",
       " ('Final Appeal (Criminal)',\n",
       "  '2008',\n",
       "  \"\\\\'https://legalref.judiciary.hk/lrs/images/ThemeXP/Epage.gif\\\\'\",\n",
       "  'FACC11/2008',\n",
       "  'https://legalref.judiciary.hk/lrs/common/ju/ju_frame.jsp?DIS=66675',\n",
       "  '(17/07/2009)',\n",
       "  'HKSAR v. CHEUNG KWUN YIN \\xa0Reported in :(2009) 12 HKCFAR 568'),\n",
       " ('Final Appeal (Criminal)',\n",
       "  '2008',\n",
       "  \"\\\\'https://legalref.judiciary.hk/lrs/images/ThemeXP/ETpage.gif\\\\'\",\n",
       "  'FACC12/2008',\n",
       "  'https://legalref.judiciary.hk/lrs/common/ju/ju_frame.jsp?DIS=66541',\n",
       "  '(08/07/2009)',\n",
       "  'BRIAN ALFRED HALL v. HKSAR \\xa0Reported in :(2009) 12 HKCFAR 562'),\n",
       " ('Final Appeal (Criminal)',\n",
       "  '2002',\n",
       "  \"\\\\'https://legalref.judiciary.hk/lrs/images/ThemeXP/ETpage.gif\\\\'\",\n",
       "  'FACC1/2002',\n",
       "  'https://legalref.judiciary.hk/lrs/common/ju/ju_frame.jsp?DIS=22601',\n",
       "  '(10/07/2002)',\n",
       "  'SHUM KWOK SHER v. HKSAR \\xa0Reported in :[2002] 2 HKLRD 793; (2002) 5 HKCFAR 381'),\n",
       " ('Final Appeal (Criminal)',\n",
       "  '2002',\n",
       "  \"\\\\'https://legalref.judiciary.hk/lrs/images/ThemeXP/ETpage.gif\\\\'\",\n",
       "  'FACC2/2002',\n",
       "  'https://legalref.judiciary.hk/lrs/common/ju/ju_frame.jsp?DIS=25405',\n",
       "  '(04/12/2002)',\n",
       "  'CHAU CHING KAY, NAUTHUM v. HKSAR \\xa0Reported in :[2003] 1 HKLRD 99; (2002) 5 HKCFAR 540'),\n",
       " ('Final Appeal (Criminal)',\n",
       "  '2002',\n",
       "  \"\\\\'https://legalref.judiciary.hk/lrs/images/ThemeXP/Epage.gif\\\\'\",\n",
       "  'FACC3/2002',\n",
       "  'https://legalref.judiciary.hk/lrs/common/ju/ju_frame.jsp?DIS=25414',\n",
       "  '(05/12/2002)',\n",
       "  'HKSAR v. CHU KAM YIU AND OTHERS \\xa0Reported in :[2003] 1 HKLRD 326; (2002) 5 HKCFAR 591'),\n",
       " ('Final Appeal (Criminal)',\n",
       "  '2002',\n",
       "  \"\\\\'https://legalref.judiciary.hk/lrs/images/ThemeXP/Epage.gif\\\\'\",\n",
       "  'FACC4/2002',\n",
       "  'https://legalref.judiciary.hk/lrs/common/ju/ju_frame.jsp?DIS=24803',\n",
       "  '(31/03/2003)',\n",
       "  'TSANG WAI MAN v. HKSAR \\xa0Reported in :[2003] 3 HKLRD 651; (2003) 6 HKCFAR 109'),\n",
       " ('Final Appeal (Criminal)',\n",
       "  '2002',\n",
       "  \"\\\\'https://legalref.judiciary.hk/lrs/images/ThemeXP/Epage.gif\\\\'\",\n",
       "  'FACC5/2002',\n",
       "  'https://legalref.judiciary.hk/lrs/common/ju/ju_frame.jsp?DIS=24892',\n",
       "  '(09/04/2003)',\n",
       "  'HKSAR v. WONG SAU MING \\xa0Reported in :[2003] 2 HKLRD 90; (2003) 6 HKCFAR 135'),\n",
       " ('Final Appeal (Criminal)',\n",
       "  '2002',\n",
       "  \"\\\\'https://legalref.judiciary.hk/lrs/images/ThemeXP/Epage.gif\\\\'\",\n",
       "  'FACC6/2002',\n",
       "  'https://legalref.judiciary.hk/lrs/common/ju/ju_frame.jsp?DIS=24893',\n",
       "  '(09/04/2003)',\n",
       "  'YUEN KWAI CHOI v. HKSAR \\xa0Reported in :[2003] 2 HKLRD 176; (2003) 6 HKCFAR 113'),\n",
       " ('Final Appeal (Criminal)',\n",
       "  '2009',\n",
       "  \"\\\\'https://legalref.judiciary.hk/lrs/images/ThemeXP/ETpage.gif\\\\'\",\n",
       "  'FACC1/2009',\n",
       "  'https://legalref.judiciary.hk/lrs/common/ju/ju_frame.jsp?DIS=66786',\n",
       "  '(24/07/2009)',\n",
       "  'WONG HON SUN v. HKSAR \\xa0Reported in :(2009) 12 HKCFAR 877'),\n",
       " ('Final Appeal (Criminal)',\n",
       "  '2009',\n",
       "  \"\\\\'https://legalref.judiciary.hk/lrs/images/ThemeXP/Epage.gif\\\\'\",\n",
       "  'FACC2/2009',\n",
       "  'https://legalref.judiciary.hk/lrs/common/ju/ju_frame.jsp?DIS=71458',\n",
       "  '(11/06/2010)',\n",
       "  'NANCY ANN KISSEL v. HKSAR \\xa0'),\n",
       " ('Final Appeal (Criminal)',\n",
       "  '2009',\n",
       "  \"\\\\'https://legalref.judiciary.hk/lrs/images/ThemeXP/ETpage.gif\\\\'\",\n",
       "  'FACC2/2009',\n",
       "  'https://legalref.judiciary.hk/lrs/common/ju/ju_frame.jsp?DIS=69728',\n",
       "  '(11/02/2010)',\n",
       "  'NANCY ANN KISSEL v. HKSAR \\xa0Reported in :[2010] 2 HKLRD 435; (2010) 13 HKCFAR 27'),\n",
       " ('Final Appeal (Criminal)',\n",
       "  '2009',\n",
       "  \"\\\\'https://legalref.judiciary.hk/lrs/images/ThemeXP/Epage.gif\\\\'\",\n",
       "  'FACC3/2009',\n",
       "  'https://legalref.judiciary.hk/lrs/common/ju/ju_frame.jsp?DIS=73840',\n",
       "  '(16/11/2010)',\n",
       "  'HKSAR v. KEVIN EGAN \\xa0Reported in :(2010) 13 HKCFAR 689'),\n",
       " ('Final Appeal (Criminal)',\n",
       "  '2009',\n",
       "  \"\\\\'https://legalref.judiciary.hk/lrs/images/ThemeXP/Epage.gif\\\\'\",\n",
       "  'FACC3/2009',\n",
       "  'https://legalref.judiciary.hk/lrs/common/ju/ju_frame.jsp?DIS=71682',\n",
       "  '(28/06/2010)',\n",
       "  'HKSAR v. KEVIN EGAN \\xa0Reported in :(2010) 13 HKCFAR 314'),\n",
       " ('Final Appeal (Criminal)',\n",
       "  '2009',\n",
       "  \"\\\\'https://legalref.judiciary.hk/lrs/images/ThemeXP/Epage.gif\\\\'\",\n",
       "  'FACC4/2009',\n",
       "  'https://legalref.judiciary.hk/lrs/common/ju/ju_frame.jsp?DIS=71692',\n",
       "  '(28/06/2010)',\n",
       "  'MANDY CHUI v. HKSAR \\xa0Reported in :(2010) 13 HKCFAR 314'),\n",
       " ('Final Appeal (Criminal)',\n",
       "  '2009',\n",
       "  \"\\\\'https://legalref.judiciary.hk/lrs/images/ThemeXP/Epage.gif\\\\'\",\n",
       "  'FACC5/2009',\n",
       "  'https://legalref.judiciary.hk/lrs/common/ju/ju_frame.jsp?DIS=73841',\n",
       "  '(16/11/2010)',\n",
       "  'ANDREW LAM v. HKSAR \\xa0Reported in :(2010) 13 HKCFAR 689'),\n",
       " ('Final Appeal (Criminal)',\n",
       "  '2009',\n",
       "  \"\\\\'https://legalref.judiciary.hk/lrs/images/ThemeXP/Epage.gif\\\\'\",\n",
       "  'FACC5/2009',\n",
       "  'https://legalref.judiciary.hk/lrs/common/ju/ju_frame.jsp?DIS=71693',\n",
       "  '(28/06/2010)',\n",
       "  'ANDREW LAM v. HKSAR \\xa0Reported in :(2010) 13 HKCFAR 314'),\n",
       " ('Final Appeal (Criminal)',\n",
       "  '2009',\n",
       "  \"\\\\'https://legalref.judiciary.hk/lrs/images/ThemeXP/ETpage.gif\\\\'\",\n",
       "  'FACC6/2009',\n",
       "  'https://legalref.judiciary.hk/lrs/common/ju/ju_frame.jsp?DIS=69505',\n",
       "  '(28/01/2010)',\n",
       "  'B v. THE COMMISSIONER OF THE INDEPENDENT COMMISSION AGAINST CORRUPTION \\xa0Reported in :(2010) 13 HKCFAR 1'),\n",
       " ('Final Appeal (Criminal)',\n",
       "  '2009',\n",
       "  \"\\\\'https://legalref.judiciary.hk/lrs/images/ThemeXP/Epage.gif\\\\'\",\n",
       "  'FACC7/2009',\n",
       "  'https://legalref.judiciary.hk/lrs/common/ju/ju_frame.jsp?DIS=70334',\n",
       "  '(26/03/2010)',\n",
       "  'HIN LIN YEE AND ANOTHER v. HKSAR \\xa0Reported in :[2010] 2 HKLRD 826; (2010) 13 HKCFAR 142'),\n",
       " ('Final Appeal (Criminal)',\n",
       "  '2009',\n",
       "  \"\\\\'https://legalref.judiciary.hk/lrs/images/ThemeXP/Epage.gif\\\\'\",\n",
       "  'FACC8/2009',\n",
       "  'https://legalref.judiciary.hk/lrs/common/ju/ju_frame.jsp?DIS=70077',\n",
       "  '(10/03/2010)',\n",
       "  'KO MAN CHUN v. HONG KONG SPECIAL ADMINISTRATIVE REGION \\xa0Reported in :(2010) 13 HKCFAR 123'),\n",
       " ('Final Appeal (Criminal)',\n",
       "  '2009',\n",
       "  \"\\\\'https://legalref.judiciary.hk/lrs/images/ThemeXP/Epage.gif\\\\'\",\n",
       "  'FACC9/2009',\n",
       "  'https://legalref.judiciary.hk/lrs/common/ju/ju_frame.jsp?DIS=69727',\n",
       "  '(11/02/2010)',\n",
       "  'MOHAMMAD MAHABOBUR RAHMAN v. HKSAR \\xa0Reported in :(2010) 13 HKCFAR 20'),\n",
       " ('Final Appeal (Criminal)',\n",
       "  '2009',\n",
       "  \"\\\\'https://legalref.judiciary.hk/lrs/images/ThemeXP/Epage.gif\\\\'\",\n",
       "  'FACC10/2009',\n",
       "  'https://legalref.judiciary.hk/lrs/common/ju/ju_frame.jsp?DIS=72395',\n",
       "  '(17/08/2010)',\n",
       "  'HABIB AHMED v. HKSAR \\xa0Reported in :(2010) 13 HKCFAR 449'),\n",
       " ('Final Appeal (Criminal)',\n",
       "  '2009',\n",
       "  \"\\\\'https://legalref.judiciary.hk/lrs/images/ThemeXP/Epage.gif\\\\'\",\n",
       "  'FACC10/2009',\n",
       "  'https://legalref.judiciary.hk/lrs/common/ju/ju_frame.jsp?DIS=71526',\n",
       "  '(15/06/2010)',\n",
       "  'HABIB AHMED v. HKSAR \\xa0Reported in :(2010) 13 HKCFAR 305'),\n",
       " ('Final Appeal (Criminal)',\n",
       "  '2009',\n",
       "  \"\\\\'https://legalref.judiciary.hk/lrs/images/ThemeXP/Epage.gif\\\\'\",\n",
       "  'FACC11/2009',\n",
       "  'https://legalref.judiciary.hk/lrs/common/ju/ju_frame.jsp?DIS=70781',\n",
       "  '(30/04/2010)',\n",
       "  'HKSAR v. HO YAU YIN \\xa0Reported in :(2010) 13 HKCFAR 217'),\n",
       " ('Final Appeal (Criminal)',\n",
       "  '2013',\n",
       "  \"\\\\'https://legalref.judiciary.hk/lrs/images/ThemeXP/Epage.gif\\\\'\",\n",
       "  'FACC1/2013',\n",
       "  'https://legalref.judiciary.hk/lrs/common/ju/ju_frame.jsp?DIS=91247',\n",
       "  '(28/01/2014)',\n",
       "  'HKSAR v. MA KWOK FAI \\xa0Reported in :(2014) 17 HKCFAR 1'),\n",
       " ('Final Appeal (Criminal)',\n",
       "  '2013',\n",
       "  \"\\\\'https://legalref.judiciary.hk/lrs/images/ThemeXP/Epage.gif\\\\'\",\n",
       "  'FACC2/2013',\n",
       "  'https://legalref.judiciary.hk/lrs/common/ju/ju_frame.jsp?DIS=90593',\n",
       "  '(13/12/2013)',\n",
       "  'THE JOCKEY CLUB KAU SAI CHAU PUBLIC GOLF COURSE LTD v. HKSAR \\xa0Reported in :(2013) 16 HKCFAR 908'),\n",
       " ('Final Appeal (Criminal)',\n",
       "  '2013',\n",
       "  \"\\\\'https://legalref.judiciary.hk/lrs/images/ThemeXP/Epage.gif\\\\'\",\n",
       "  'FACC3/2013',\n",
       "  'https://legalref.judiciary.hk/lrs/common/ju/ju_frame.jsp?DIS=93108',\n",
       "  '(20/05/2014)',\n",
       "  'HKSAR v. CHAN YAU HEI \\xa0'),\n",
       " ('Final Appeal (Criminal)',\n",
       "  '2013',\n",
       "  \"\\\\'https://legalref.judiciary.hk/lrs/images/ThemeXP/Epage.gif\\\\'\",\n",
       "  'FACC3/2013',\n",
       "  'https://legalref.judiciary.hk/lrs/common/ju/ju_frame.jsp?DIS=91906',\n",
       "  '(07/03/2014)',\n",
       "  'HKSAR v. CHAN YAU HEI \\xa0Reported in :(2014) 17 HKCFAR 110'),\n",
       " ('Final Appeal (Criminal)',\n",
       "  '2013',\n",
       "  \"\\\\'https://legalref.judiciary.hk/lrs/images/ThemeXP/Epage.gif\\\\'\",\n",
       "  'FACC4/2013',\n",
       "  'https://legalref.judiciary.hk/lrs/common/ju/ju_frame.jsp?DIS=95291',\n",
       "  '(17/10/2014)',\n",
       "  'HKSAR v. LI KWOK CHEUNG GEORGE \\xa0Reported in :(2014) 17 HKCFAR 575'),\n",
       " ('Final Appeal (Criminal)',\n",
       "  '2013',\n",
       "  \"\\\\'https://legalref.judiciary.hk/lrs/images/ThemeXP/Epage.gif\\\\'\",\n",
       "  'FACC4/2013',\n",
       "  'https://legalref.judiciary.hk/lrs/common/ju/ju_frame.jsp?DIS=93360',\n",
       "  '(05/06/2014)',\n",
       "  'HKSAR v. LI KWOK CHEUNG GEORGE \\xa0Reported in :(2014) 17 HKCFAR 319'),\n",
       " ('Final Appeal (Criminal)',\n",
       "  '2013',\n",
       "  \"\\\\'https://legalref.judiciary.hk/lrs/images/ThemeXP/Epage.gif\\\\'\",\n",
       "  'FACC5/2013',\n",
       "  'https://legalref.judiciary.hk/lrs/common/ju/ju_frame.jsp?DIS=95292',\n",
       "  '(17/10/2014)',\n",
       "  'HKSAR v. CHENG KAI MING CHARLES \\xa0Reported in :(2014) 17 HKCFAR 575'),\n",
       " ('Final Appeal (Criminal)',\n",
       "  '2013',\n",
       "  \"\\\\'https://legalref.judiciary.hk/lrs/images/ThemeXP/Epage.gif\\\\'\",\n",
       "  'FACC5/2013',\n",
       "  'https://legalref.judiciary.hk/lrs/common/ju/ju_frame.jsp?DIS=93362',\n",
       "  '(05/06/2014)',\n",
       "  'HKSAR v. CHENG KAI MING CHARLES \\xa0Reported in :(2014) 17 HKCFAR 319'),\n",
       " ('Final Appeal (Criminal)',\n",
       "  '2013',\n",
       "  \"\\\\'https://legalref.judiciary.hk/lrs/images/ThemeXP/Epage.gif\\\\'\",\n",
       "  'FACC6/2013',\n",
       "  'https://legalref.judiciary.hk/lrs/common/ju/ju_frame.jsp?DIS=95293',\n",
       "  '(17/10/2014)',\n",
       "  'HKSAR v. TSANG WAI LUN WAYLAND AND ANOTHER \\xa0Reported in :(2014) 17 HKCFAR 575'),\n",
       " ('Final Appeal (Criminal)',\n",
       "  '2013',\n",
       "  \"\\\\'https://legalref.judiciary.hk/lrs/images/ThemeXP/Epage.gif\\\\'\",\n",
       "  'FACC6/2013',\n",
       "  'https://legalref.judiciary.hk/lrs/common/ju/ju_frame.jsp?DIS=93363',\n",
       "  '(05/06/2014)',\n",
       "  'HKSAR v. TSANG WAI LUN WAYLAND AND ANOTHER \\xa0Reported in :(2014) 17 HKCFAR 319'),\n",
       " ('Final Appeal (Criminal)',\n",
       "  '2013',\n",
       "  \"\\\\'https://legalref.judiciary.hk/lrs/images/ThemeXP/Epage.gif\\\\'\",\n",
       "  'FACC7/2013',\n",
       "  'https://legalref.judiciary.hk/lrs/common/ju/ju_frame.jsp?DIS=93257',\n",
       "  '(28/05/2014)',\n",
       "  'HKSAR v. SHUM WAN FOON \\xa0Reported in :(2014) 17 HKCFAR 303'),\n",
       " ('Final Appeal (Criminal)',\n",
       "  '2013',\n",
       "  \"\\\\'https://legalref.judiciary.hk/lrs/images/ThemeXP/Epage.gif\\\\'\",\n",
       "  'FACC8/2013',\n",
       "  'https://legalref.judiciary.hk/lrs/common/ju/ju_frame.jsp?DIS=96661',\n",
       "  '(16/01/2015)',\n",
       "  'HKSAR v. PANG HUNG FAI \\xa0Reported in :(2015) 18 HKCFAR 1'),\n",
       " ('Final Appeal (Criminal)',\n",
       "  '2013',\n",
       "  \"\\\\'https://legalref.judiciary.hk/lrs/images/ThemeXP/Epage.gif\\\\'\",\n",
       "  'FACC8/2013',\n",
       "  'https://legalref.judiciary.hk/lrs/common/ju/ju_frame.jsp?DIS=95657',\n",
       "  '(10/11/2014)',\n",
       "  'HKSAR v. PANG HUNG FAI \\xa0Reported in :(2014) 17 HKCFAR 778'),\n",
       " ('Final Appeal (Criminal)',\n",
       "  '2016',\n",
       "  \"\\\\'https://legalref.judiciary.hk/lrs/images/ThemeXP/Epage.gif\\\\'\",\n",
       "  'FACC1/2016',\n",
       "  'https://legalref.judiciary.hk/lrs/common/ju/ju_frame.jsp?DIS=104782',\n",
       "  '(05/07/2016)',\n",
       "  'HKSAR v. TSE MAN FEI \\xa0Reported in :(2016) 19 HKCFAR 492'),\n",
       " ('Final Appeal (Criminal)',\n",
       "  '2016',\n",
       "  \"\\\\'https://legalref.judiciary.hk/lrs/images/ThemeXP/Epage.gif\\\\'\",\n",
       "  'FACC2/2016',\n",
       "  'https://legalref.judiciary.hk/lrs/common/ju/ju_frame.jsp?DIS=106068',\n",
       "  '(28/09/2016)',\n",
       "  'HKSAR v. TSE YEE PING \\xa0Reported in :(2016) 19 HKCFAR 427'),\n",
       " ('Final Appeal (Criminal)',\n",
       "  '2016',\n",
       "  \"\\\\'https://legalref.judiciary.hk/lrs/images/ThemeXP/Epage.gif\\\\'\",\n",
       "  'FACC3/2016',\n",
       "  'https://legalref.judiciary.hk/lrs/common/ju/ju_frame.jsp?DIS=106693',\n",
       "  '(09/11/2016)',\n",
       "  'HKSAR v. LI SHUK WOON \\xa0Reported in :(2016) 19 HKCFAR 564'),\n",
       " ('Final Appeal (Criminal)',\n",
       "  '2016',\n",
       "  \"\\\\'https://legalref.judiciary.hk/lrs/images/ThemeXP/Epage.gif\\\\'\",\n",
       "  'FACC4/2016',\n",
       "  'https://legalref.judiciary.hk/lrs/common/ju/ju_frame.jsp?DIS=106705',\n",
       "  '(10/11/2016)',\n",
       "  'HKSAR v. WONG LIN HUNG AND OTHERS \\xa0Reported in :(2016) 19 HKCFAR 578'),\n",
       " ('Final Appeal (Criminal)',\n",
       "  '2016',\n",
       "  \"\\\\'https://legalref.judiciary.hk/lrs/images/ThemeXP/ETpage.gif\\\\'\",\n",
       "  'FACC5/2016',\n",
       "  'https://legalref.judiciary.hk/lrs/common/ju/ju_frame.jsp?DIS=107261',\n",
       "  '(16/12/2016)',\n",
       "  'HKSAR v. CHAN KAM SHING \\xa0Reported in :(2016) 19 HKCFAR 640'),\n",
       " ('Final Appeal (Criminal)',\n",
       "  '2016',\n",
       "  \"\\\\'https://legalref.judiciary.hk/lrs/images/ThemeXP/Epage.gif\\\\'\",\n",
       "  'FACC6/2016',\n",
       "  'https://legalref.judiciary.hk/lrs/common/ju/ju_frame.jsp?DIS=107160',\n",
       "  '(08/12/2016)',\n",
       "  'HKSAR v. LUK KIN PETER JOSEPH \\xa0Reported in :(2016) 19 HKCFAR 619'),\n",
       " ('Final Appeal (Criminal)',\n",
       "  '2016',\n",
       "  \"\\\\'https://legalref.judiciary.hk/lrs/images/ThemeXP/Epage.gif\\\\'\",\n",
       "  'FACC7/2016',\n",
       "  'https://legalref.judiciary.hk/lrs/common/ju/ju_frame.jsp?DIS=107161',\n",
       "  '(08/12/2016)',\n",
       "  'HKSAR v. YU OI KEE \\xa0Reported in :(2016) 19 HKCFAR 619'),\n",
       " ('Final Appeal (Criminal)',\n",
       "  '2016',\n",
       "  \"\\\\'https://legalref.judiciary.hk/lrs/images/ThemeXP/Epage.gif\\\\'\",\n",
       "  'FACC8/2016',\n",
       "  'https://legalref.judiciary.hk/lrs/common/ju/ju_frame.jsp?DIS=107162',\n",
       "  '(08/12/2016)',\n",
       "  'HKSAR v. LUK KIN PETER JOSEP AND ANOTHER \\xa0Reported in :(2016) 19 HKCFAR 619'),\n",
       " ('Final Appeal (Criminal)',\n",
       "  '2016',\n",
       "  \"\\\\'https://legalref.judiciary.hk/lrs/images/ThemeXP/Epage.gif\\\\'\",\n",
       "  'FACC9/2016',\n",
       "  'https://legalref.judiciary.hk/lrs/common/ju/ju_frame.jsp?DIS=107953',\n",
       "  '(07/02/2017)',\n",
       "  'HKSAR v. LIANG YAOQIANG \\xa0Reported in :(2017) 20 HKCFAR 1'),\n",
       " ('Final Appeal (Criminal)',\n",
       "  '2016',\n",
       "  \"\\\\'https://legalref.judiciary.hk/lrs/images/ThemeXP/Epage.gif\\\\'\",\n",
       "  'FACC10/2016',\n",
       "  'https://legalref.judiciary.hk/lrs/common/ju/ju_frame.jsp?DIS=108110',\n",
       "  '(16/02/2017)',\n",
       "  'HKSAR v. ZHOU LIMEI \\xa0Reported in :(2017) 20 HKCFAR 71'),\n",
       " ('Final Appeal (Criminal)',\n",
       "  '2016',\n",
       "  \"\\\\'https://legalref.judiciary.hk/lrs/images/ThemeXP/Epage.gif\\\\'\",\n",
       "  'FACC11/2016',\n",
       "  'https://legalref.judiciary.hk/lrs/common/ju/ju_frame.jsp?DIS=109532',\n",
       "  '(19/05/2017)',\n",
       "  'SECRETARY FOR JUSTICE v. CHAN CHI WAN STEPHEN \\xa0'),\n",
       " ('Final Appeal (Criminal)',\n",
       "  '2016',\n",
       "  \"\\\\'https://legalref.judiciary.hk/lrs/images/ThemeXP/Epage.gif\\\\'\",\n",
       "  'FACC11/2016',\n",
       "  'https://legalref.judiciary.hk/lrs/common/ju/ju_frame.jsp?DIS=108590',\n",
       "  '(14/03/2017)',\n",
       "  'SECRETARY FOR JUSTICE v. CHAN CHI WAN STEPHEN \\xa0Reported in :(2017) 20 HKCFAR 98'),\n",
       " ('Final Appeal (Criminal)',\n",
       "  '2016',\n",
       "  \"\\\\'https://legalref.judiciary.hk/lrs/images/ThemeXP/Epage.gif\\\\'\",\n",
       "  'FACC12/2016',\n",
       "  'https://legalref.judiciary.hk/lrs/common/ju/ju_frame.jsp?DIS=109907',\n",
       "  '(14/06/2017)',\n",
       "  'HKSAR v. HUI RAFAEL JUNIOR also known as HUI SI-YAN RAFAEL \\xa0Reported in :(2017) 20 HKCFAR 264'),\n",
       " ('Final Appeal (Criminal)',\n",
       "  '2016',\n",
       "  \"\\\\'https://legalref.judiciary.hk/lrs/images/ThemeXP/Epage.gif\\\\'\",\n",
       "  'FACC13/2016',\n",
       "  'https://legalref.judiciary.hk/lrs/common/ju/ju_frame.jsp?DIS=109908',\n",
       "  '(14/06/2017)',\n",
       "  'HKSAR v. KWAN FRANCIS HUNG-SANG also known as KWAN FRANCIS \\xa0Reported in :(2017) 20 HKCFAR 264'),\n",
       " ('Final Appeal (Criminal)',\n",
       "  '2016',\n",
       "  \"\\\\'https://legalref.judiciary.hk/lrs/images/ThemeXP/Epage.gif\\\\'\",\n",
       "  'FACC14/2016',\n",
       "  'https://legalref.judiciary.hk/lrs/common/ju/ju_frame.jsp?DIS=109909',\n",
       "  '(14/06/2017)',\n",
       "  'HKSAR v. KWOK PING-KWONG THOMAS \\xa0Reported in :(2017) 20 HKCFAR 264'),\n",
       " ('Final Appeal (Criminal)',\n",
       "  '2016',\n",
       "  \"\\\\'https://legalref.judiciary.hk/lrs/images/ThemeXP/Epage.gif\\\\'\",\n",
       "  'FACC15/2016',\n",
       "  'https://legalref.judiciary.hk/lrs/common/ju/ju_frame.jsp?DIS=109910',\n",
       "  '(14/06/2017)',\n",
       "  'HKSAR v. CHAN KUI-YUEN also known as THOMAS CHAN \\xa0Reported in :(2017) 20 HKCFAR 264'),\n",
       " ('Final Appeal (Criminal)',\n",
       "  '2016',\n",
       "  \"\\\\'https://legalref.judiciary.hk/lrs/images/ThemeXP/Epage.gif\\\\'\",\n",
       "  'FACC16/2016',\n",
       "  'https://legalref.judiciary.hk/lrs/common/ju/ju_frame.jsp?DIS=107260',\n",
       "  '(16/12/2016)',\n",
       "  'HKSAR v. MD EMRAN HOSSAIN \\xa0Reported in :(2016) 19 HKCFAR 679'),\n",
       " ('Final Appeal (Criminal)',\n",
       "  '2016',\n",
       "  \"\\\\'https://legalref.judiciary.hk/lrs/images/ThemeXP/Epage.gif\\\\'\",\n",
       "  'FACC17/2016',\n",
       "  'https://legalref.judiciary.hk/lrs/common/ju/ju_frame.jsp?DIS=108592',\n",
       "  '(14/03/2017)',\n",
       "  'NGUYEN ANH NGA v. HKSAR \\xa0Reported in :(2017) 20 HKCFAR 149'),\n",
       " ('Final Appeal (Criminal)',\n",
       "  '2016',\n",
       "  \"\\\\'https://legalref.judiciary.hk/lrs/images/ThemeXP/Epage.gif\\\\'\",\n",
       "  'FACC18/2016',\n",
       "  'https://legalref.judiciary.hk/lrs/common/ju/ju_frame.jsp?DIS=109533',\n",
       "  '(19/05/2017)',\n",
       "  'SECRETARY FOR JUSTICE v. TSENG PEI KUN \\xa0'),\n",
       " ('Final Appeal (Criminal)',\n",
       "  '2016',\n",
       "  \"\\\\'https://legalref.judiciary.hk/lrs/images/ThemeXP/Epage.gif\\\\'\",\n",
       "  'FACC18/2016',\n",
       "  'https://legalref.judiciary.hk/lrs/common/ju/ju_frame.jsp?DIS=108591',\n",
       "  '(14/03/2017)',\n",
       "  'SECRETARY FOR JUSTICE v. TSENG PEI KUN \\xa0Reported in :(2017) 20 HKCFAR 98'),\n",
       " ('Final Appeal (Criminal)',\n",
       "  '2016',\n",
       "  \"\\\\'https://legalref.judiciary.hk/lrs/images/ThemeXP/Epage.gif\\\\'\",\n",
       "  'FACC19/2016',\n",
       "  'https://legalref.judiciary.hk/lrs/common/ju/ju_frame.jsp?DIS=110300',\n",
       "  '(11/07/2017)',\n",
       "  'HKSAR v. CHUI SHU SHING \\xa0Reported in :(2017) 20 HKCFAR 333'),\n",
       " ('Final Appeal (Criminal)',\n",
       "  '2004',\n",
       "  \"\\\\'https://legalref.judiciary.hk/lrs/images/ThemeXP/Epage.gif\\\\'\",\n",
       "  'FACC1/2004',\n",
       "  'https://legalref.judiciary.hk/lrs/common/ju/ju_frame.jsp?DIS=40450',\n",
       "  '(20/07/2004)',\n",
       "  'YU FAI TAT v. HKSAR \\xa0Reported in :[2004] 2 HKLRD 1078; (2004) 7 HKCFAR 293'),\n",
       " ('Final Appeal (Criminal)',\n",
       "  '2004',\n",
       "  \"\\\\'https://legalref.judiciary.hk/lrs/images/ThemeXP/Epage.gif\\\\'\",\n",
       "  'FACC2/2004',\n",
       "  'https://legalref.judiciary.hk/lrs/common/ju/ju_frame.jsp?DIS=40451',\n",
       "  '(02/07/2004)',\n",
       "  'CHAU LIN SU-E v. HKSAR \\xa0Reported in :[2004] 2 HKLRD 1069; (2004) 7 HKCFAR 265'),\n",
       " ('Final Appeal (Criminal)',\n",
       "  '2004',\n",
       "  \"\\\\'https://legalref.judiciary.hk/lrs/images/ThemeXP/Epage.gif\\\\'\",\n",
       "  'FACC3/2004',\n",
       "  'https://legalref.judiciary.hk/lrs/common/ju/ju_frame.jsp?DIS=24149',\n",
       "  '(10/03/2004)',\n",
       "  'DAVID MORTER v. HKSAR \\xa0Reported in :(2004) 7 HKCFAR 53'),\n",
       " ('Final Appeal (Criminal)',\n",
       "  '2004',\n",
       "  \"\\\\'https://legalref.judiciary.hk/lrs/images/ThemeXP/Epage.gif\\\\'\",\n",
       "  'FACC4/2004',\n",
       "  'https://legalref.judiciary.hk/lrs/common/ju/ju_frame.jsp?DIS=43431',\n",
       "  '(18/10/2004)',\n",
       "  'LAU CHI WAI v. HKSAR \\xa0Reported in :[2004] 3 HKLRD 444; (2004) 7 HKCFAR 460'),\n",
       " ('Final Appeal (Criminal)',\n",
       "  '2004',\n",
       "  \"\\\\'https://legalref.judiciary.hk/lrs/images/ThemeXP/Epage.gif\\\\'\",\n",
       "  'FACC5/2004',\n",
       "  'https://legalref.judiciary.hk/lrs/common/ju/ju_frame.jsp?DIS=43429',\n",
       "  '(18/10/2004)',\n",
       "  'SZE KWAN LUNG AND OTHERS v. HKSAR \\xa0Reported in :[2004] 3 HKLRD 328; (2004) 7 HKCFAR 475'),\n",
       " ('Final Appeal (Criminal)',\n",
       "  '2004',\n",
       "  \"\\\\'https://legalref.judiciary.hk/lrs/images/ThemeXP/Epage.gif\\\\'\",\n",
       "  'FACC6/2004',\n",
       "  'https://legalref.judiciary.hk/lrs/common/ju/ju_frame.jsp?DIS=46128',\n",
       "  '(18/10/2004)',\n",
       "  'SZE KWAN LUNG AND OTHERS v. HKSAR \\xa0Reported in :[2004] 3 HKLRD 328; (2004) 7 HKCFAR 475'),\n",
       " ('Final Appeal (Criminal)',\n",
       "  '2004',\n",
       "  \"\\\\'https://legalref.judiciary.hk/lrs/images/ThemeXP/Epage.gif\\\\'\",\n",
       "  'FACC7/2004',\n",
       "  'https://legalref.judiciary.hk/lrs/common/ju/ju_frame.jsp?DIS=43944',\n",
       "  '(17/12/2004)',\n",
       "  'LEE FUK HING v. HKSAR \\xa0Reported in :[2005] 1 HKLRD 349; (2004) 7 HKCFAR 600'),\n",
       " ('Final Appeal (Criminal)',\n",
       "  '2004',\n",
       "  \"\\\\'https://legalref.judiciary.hk/lrs/images/ThemeXP/ETpage.gif\\\\'\",\n",
       "  'FACC8/2004',\n",
       "  'https://legalref.judiciary.hk/lrs/common/ju/ju_frame.jsp?DIS=43432',\n",
       "  '(18/10/2004)',\n",
       "  'CHAN TIT SHAU v. HKSAR \\xa0Reported in :[2004] 3 HKLRD342; (2004) 7 HKCFAR 492'),\n",
       " ('Final Appeal (Criminal)',\n",
       "  '2004',\n",
       "  \"\\\\'https://legalref.judiciary.hk/lrs/images/ThemeXP/Epage.gif\\\\'\",\n",
       "  'FACC9/2004',\n",
       "  'https://legalref.judiciary.hk/lrs/common/ju/ju_frame.jsp?DIS=43574',\n",
       "  '(04/11/2004)',\n",
       "  'LAU KA YEE MICHAEL v. HKSAR \\xa0Reported in :[2005] 1 HKLRD 757; (2004) 7 HKCFAR 510'),\n",
       " ('Final Appeal (Criminal)',\n",
       "  '2004',\n",
       "  \"\\\\'https://legalref.judiciary.hk/lrs/images/ThemeXP/Epage.gif\\\\'\",\n",
       "  'FACC10/2004',\n",
       "  'https://legalref.judiciary.hk/lrs/common/ju/ju_frame.jsp?DIS=43575',\n",
       "  '(04/11/2004)',\n",
       "  'LEUNG CHI KEUNG v. HKSAR \\xa0Reported in :[2005] 1 HKLRD 425; (2004) 7 HKCFAR 526'),\n",
       " ('Final Appeal (Criminal)',\n",
       "  '2004',\n",
       "  \"\\\\'https://legalref.judiciary.hk/lrs/images/ThemeXP/ETpage.gif\\\\'\",\n",
       "  'FACC11/2004',\n",
       "  'https://legalref.judiciary.hk/lrs/common/ju/ju_frame.jsp?DIS=44670',\n",
       "  '(11/03/2005)',\n",
       "  'CHOU SHIH BIN v. HKSAR \\xa0Reported in :[2005] 1 HKLRD 838; (2005) 8 HKCFAR 70'),\n",
       " ('Final Appeal (Criminal)',\n",
       "  '2004',\n",
       "  \"\\\\'https://legalref.judiciary.hk/lrs/images/ThemeXP/ETpage.gif\\\\'\",\n",
       "  'FACC12/2004',\n",
       "  'https://legalref.judiciary.hk/lrs/common/ju/ju_frame.jsp?DIS=44671',\n",
       "  '(11/03/2005)',\n",
       "  'TSANG WAI PING v. HKSAR \\xa0Reported in :[2005] 1 HKLRD 825; (2005) 8 HKCFAR 80'),\n",
       " ('Final Appeal (Criminal)',\n",
       "  '2004',\n",
       "  \"\\\\'https://legalref.judiciary.hk/lrs/images/ThemeXP/ETpage.gif\\\\'\",\n",
       "  'FACC13/2004',\n",
       "  'https://legalref.judiciary.hk/lrs/common/ju/ju_frame.jsp?DIS=44629',\n",
       "  '(10/03/2005)',\n",
       "  'LIN PING KEUNG v. HKSAR \\xa0Reported in :[2005] 1 HKLRD 654; (2005) 8 HKCFAR 52'),\n",
       " ('Final Appeal (Criminal)',\n",
       "  '2004',\n",
       "  \"\\\\'https://legalref.judiciary.hk/lrs/images/ThemeXP/Epage.gif\\\\'\",\n",
       "  'FACC14/2004',\n",
       "  'https://legalref.judiciary.hk/lrs/common/ju/ju_frame.jsp?DIS=45273',\n",
       "  '(26/05/2005)',\n",
       "  'SIN KAM WAH LAM CHUEN IP AND ANOTHER v. HKSAR \\xa0Reported in :[2005] 2 HKLRD 375; (2005) 8 HKCFAR 192'),\n",
       " ('Final Appeal (Criminal)',\n",
       "  '2004',\n",
       "  \"\\\\'https://legalref.judiciary.hk/lrs/images/ThemeXP/Epage.gif\\\\'\",\n",
       "  'FACC15/2004',\n",
       "  'https://legalref.judiciary.hk/lrs/common/ju/ju_frame.jsp?DIS=45274',\n",
       "  '(26/05/2005)',\n",
       "  'HKSAR v. TAM LAP FAI \\xa0Reported in :[2005] 2 HKLRD 487; (2005) 8 HKCFAR 216'),\n",
       " ('Final Appeal (Criminal)',\n",
       "  '2004',\n",
       "  \"\\\\'https://legalref.judiciary.hk/lrs/images/ThemeXP/ETpage.gif\\\\'\",\n",
       "  'FACC16/2004',\n",
       "  'https://legalref.judiciary.hk/lrs/common/ju/ju_frame.jsp?DIS=44630',\n",
       "  '(10/03/2005)',\n",
       "  'HKSAR v. HAU KIN \\xa0Reported in :[2005] 1 HKLRD 819; (2005) 8 HKCFAR 63'),\n",
       " ('Final Appeal (Criminal)',\n",
       "  '2004',\n",
       "  \"\\\\'https://legalref.judiciary.hk/lrs/images/ThemeXP/ETpage.gif\\\\'\",\n",
       "  'FACC17/2004',\n",
       "  'https://legalref.judiciary.hk/lrs/common/ju/ju_frame.jsp?DIS=45683',\n",
       "  '(10/03/2005)',\n",
       "  'HKSAR v. HAU KIN \\xa0Reported in :[2005] 1 HKLRD 819; (2005) 8 HKCFAR 63'),\n",
       " ('Final Appeal (Criminal)',\n",
       "  '2004',\n",
       "  \"\\\\'https://legalref.judiciary.hk/lrs/images/ThemeXP/ETpage.gif\\\\'\",\n",
       "  'FACC18/2004',\n",
       "  'https://legalref.judiciary.hk/lrs/common/ju/ju_frame.jsp?DIS=45684',\n",
       "  '(10/03/2005)',\n",
       "  'HKSAR v. HAU KIN \\xa0Reported in :[2005] 1 HKLRD 819; (2005) 8 HKCFAR 63'),\n",
       " ('Final Appeal (Criminal)',\n",
       "  '2004',\n",
       "  \"\\\\'https://legalref.judiciary.hk/lrs/images/ThemeXP/ETpage.gif\\\\'\",\n",
       "  'FACC19/2004',\n",
       "  'https://legalref.judiciary.hk/lrs/common/ju/ju_frame.jsp?DIS=45100',\n",
       "  '(05/05/2005)',\n",
       "  'YEUNG MAY WAN AND OTHERS v.  HKSAR \\xa0Reported in :[2005] 2 HKLRD 212; (2005) 8 HKCFAR 137'),\n",
       " ('Final Appeal (Criminal)',\n",
       "  '2003',\n",
       "  \"\\\\'https://legalref.judiciary.hk/lrs/images/ThemeXP/Epage.gif\\\\'\",\n",
       "  'FACC1/2003',\n",
       "  'https://legalref.judiciary.hk/lrs/common/ju/ju_frame.jsp?DIS=24130',\n",
       "  '(25/11/2003)',\n",
       "  'HKSAR v. LEE MING TEE \\xa0'),\n",
       " ('Final Appeal (Criminal)',\n",
       "  '2003',\n",
       "  \"\\\\'https://legalref.judiciary.hk/lrs/images/ThemeXP/ETpage.gif\\\\'\",\n",
       "  'FACC1/2003',\n",
       "  'https://legalref.judiciary.hk/lrs/common/ju/ju_frame.jsp?DIS=26076',\n",
       "  '(22/08/2003)',\n",
       "  'HKSAR v. LEE MING TEE \\xa0Reported in :(2003) 6 HKCFAR 336; [2004] 1 HKLRD 513'),\n",
       " ('Final Appeal (Criminal)',\n",
       "  '2003',\n",
       "  \"\\\\'https://legalref.judiciary.hk/lrs/images/ThemeXP/Epage.gif\\\\'\",\n",
       "  'FACC2/2003',\n",
       "  'https://legalref.judiciary.hk/lrs/common/ju/ju_frame.jsp?DIS=25694',\n",
       "  '(11/06/2003)',\n",
       "  'HKSAR v. ZABED ALI \\xa0Reported in :[2003] 2 HKLRD 849; (2003) 6 HKCFAR 192'),\n",
       " ('Final Appeal (Criminal)',\n",
       "  '2003',\n",
       "  \"\\\\'https://legalref.judiciary.hk/lrs/images/ThemeXP/Epage.gif\\\\'\",\n",
       "  'FACC4/2003',\n",
       "  'https://legalref.judiciary.hk/lrs/common/ju/ju_frame.jsp?DIS=34705',\n",
       "  '(18/02/2004)',\n",
       "  'TSE MUI CHUN v. HKSAR \\xa0'),\n",
       " ('Final Appeal (Criminal)',\n",
       "  '2003',\n",
       "  \"\\\\'https://legalref.judiciary.hk/lrs/images/ThemeXP/ETpage.gif\\\\'\",\n",
       "  'FACC4/2003',\n",
       "  'https://legalref.judiciary.hk/lrs/common/ju/ju_frame.jsp?DIS=24512',\n",
       "  '(19/12/2003)',\n",
       "  'TSE MUI CHUN v. HKSAR \\xa0Reported in :[2004] 1 HKLRD 351; (2003) 6 HKCFAR 601'),\n",
       " ('Final Appeal (Criminal)',\n",
       "  '2003',\n",
       "  \"\\\\'https://legalref.judiciary.hk/lrs/images/ThemeXP/ETpage.gif\\\\'\",\n",
       "  'FACC5/2003',\n",
       "  'https://legalref.judiciary.hk/lrs/common/ju/ju_frame.jsp?DIS=24513',\n",
       "  '(19/12/2003)',\n",
       "  'LAU WAI WO v. HKSAR \\xa0Reported in :[2004] 1 HKLRD 372; (2003) 6 HKCFAR 624'),\n",
       " ('Final Appeal (Criminal)',\n",
       "  '2003',\n",
       "  \"\\\\'https://legalref.judiciary.hk/lrs/images/ThemeXP/Epage.gif\\\\'\",\n",
       "  'FACC6/2003',\n",
       "  'https://legalref.judiciary.hk/lrs/common/ju/ju_frame.jsp?DIS=37406',\n",
       "  '(06/11/2003)',\n",
       "  'LI MAN WAI v. SECRETARY FOR JUSTICE \\xa0Reported in :[2003] 3 HKLRD 1037; (2003) 6 HKCFAR 466'),\n",
       " ('Final Appeal (Criminal)',\n",
       "  '2003',\n",
       "  \"\\\\'https://legalref.judiciary.hk/lrs/images/ThemeXP/ETpage.gif\\\\'\",\n",
       "  'FACC7/2003',\n",
       "  'https://legalref.judiciary.hk/lrs/common/ju/ju_frame.jsp?DIS=27150',\n",
       "  '(30/04/2004)',\n",
       "  'CHONG CHING YUEN v. HKSAR \\xa0Reported in :(2004) 7 HKCFAR 126; [2004] 2 HKLRD 681'),\n",
       " ('Final Appeal (Criminal)',\n",
       "  '1999',\n",
       "  \"\\\\'https://legalref.judiciary.hk/lrs/images/ThemeXP/Epage.gif\\\\'\",\n",
       "  'FACC1/1999',\n",
       "  'https://legalref.judiciary.hk/lrs/common/ju/ju_frame.jsp?DIS=18934',\n",
       "  '(14/12/1999)',\n",
       "  'TONG CUN LIN v. HKSAR \\xa0Reported in :(1999) 2 HKCFAR 531; [2000] 1 HKLRD 113'),\n",
       " ('Final Appeal (Criminal)',\n",
       "  '1999',\n",
       "  \"\\\\'https://legalref.judiciary.hk/lrs/images/ThemeXP/Epage.gif\\\\'\",\n",
       "  'FACC2/1999',\n",
       "  'https://legalref.judiciary.hk/lrs/common/ju/ju_frame.jsp?DIS=33267',\n",
       "  '(09/03/2000)',\n",
       "  'NG SIU CHAU v. HKSAR \\xa0Reported in :[2000] 2 HKLRD 239; (2000) 3 HKCFAR 62'),\n",
       " ('Final Appeal (Criminal)',\n",
       "  '1999',\n",
       "  \"\\\\'https://legalref.judiciary.hk/lrs/images/ThemeXP/Epage.gif\\\\'\",\n",
       "  'FACC3/1999',\n",
       "  'https://legalref.judiciary.hk/lrs/common/ju/ju_frame.jsp?DIS=20037',\n",
       "  '(03/03/2000)',\n",
       "  'SECRETARY FOR JUSTICE v. JERRY LUI KIN HONG \\xa0'),\n",
       " ('Final Appeal (Criminal)',\n",
       "  '1999',\n",
       "  \"\\\\'https://legalref.judiciary.hk/lrs/images/ThemeXP/Epage.gif\\\\'\",\n",
       "  'FACC3/1999',\n",
       "  'https://legalref.judiciary.hk/lrs/common/ju/ju_frame.jsp?DIS=18935',\n",
       "  '(14/12/1999)',\n",
       "  'SECRETARY FOR JUSTICE v. JERRY LUI KIN HONG \\xa0Reported in :(1999) 2 HKCFAR 510; [2000] 1 HKLRD 92'),\n",
       " ('Final Appeal (Criminal)',\n",
       "  '1999',\n",
       "  \"\\\\'https://legalref.judiciary.hk/lrs/images/ThemeXP/ETpage.gif\\\\'\",\n",
       "  'FACC4/1999',\n",
       "  'https://legalref.judiciary.hk/lrs/common/ju/ju_frame.jsp?DIS=18937',\n",
       "  '(15/12/1999)',\n",
       "  'HKSAR v. NG KUNG SIU AND ANOTHER \\xa0Reported in :[1999] 3 HKLRD 907; (1999) 2 HKCFAR 442'),\n",
       " ('Final Appeal (Criminal)',\n",
       "  '1999',\n",
       "  \"\\\\'https://legalref.judiciary.hk/lrs/images/ThemeXP/Epage.gif\\\\'\",\n",
       "  'FACC5/1999',\n",
       "  'https://legalref.judiciary.hk/lrs/common/ju/ju_frame.jsp?DIS=34170',\n",
       "  '(14/12/1999)',\n",
       "  'SO YIU FUNG v. HKSAR \\xa0Reported in :(1999) 2 HKCFAR 539; [2000] 1 HKLRD 179'),\n",
       " ('Final Appeal (Criminal)',\n",
       "  '1999',\n",
       "  \"\\\\'https://legalref.judiciary.hk/lrs/images/ThemeXP/Epage.gif\\\\'\",\n",
       "  'FACC6/1999',\n",
       "  'https://legalref.judiciary.hk/lrs/common/ju/ju_frame.jsp?DIS=34168',\n",
       "  '(10/12/1999)',\n",
       "  'NEW CHUAN KONG INVESTMENT CO. LTD. AND ANOTHER v. SECURITIES AND FUTURES COMMISSION \\xa0Reported in :[1999] 3 HKLRD 897; (1999) 2 HKCFAR 490'),\n",
       " ('Final Appeal (Criminal)',\n",
       "  '1999',\n",
       "  \"\\\\'https://legalref.judiciary.hk/lrs/images/ThemeXP/Epage.gif\\\\'\",\n",
       "  'FACC7/1999',\n",
       "  'https://legalref.judiciary.hk/lrs/common/ju/ju_frame.jsp?DIS=21989',\n",
       "  '(17/05/2000)',\n",
       "  'POON CHAU CHEONG v. SECRETARY FOR JUSTICE \\xa0Reported in :[2000] 2 HKLRD 636; (2000) 3 HKCFAR 121'),\n",
       " ('Final Appeal (Criminal)',\n",
       "  '1999',\n",
       "  \"\\\\'https://legalref.judiciary.hk/lrs/images/ThemeXP/Epage.gif\\\\'\",\n",
       "  'FACC8/1999',\n",
       "  'https://legalref.judiciary.hk/lrs/common/ju/ju_frame.jsp?DIS=33583',\n",
       "  '(27/03/2000)',\n",
       "  'LAM PUI SHAN v. HKSAR \\xa0'),\n",
       " ('Final Appeal (Criminal)',\n",
       "  '1999',\n",
       "  \"\\\\'https://legalref.judiciary.hk/lrs/images/ThemeXP/ETpage.gif\\\\'\",\n",
       "  'FACC9/1999',\n",
       "  'https://legalref.judiciary.hk/lrs/common/ju/ju_frame.jsp?DIS=33993',\n",
       "  '(26/06/2000)',\n",
       "  'SECRETARY FOR JUSTICE v. LAM TAT MING AND ANOTHER \\xa0Reported in :[2000] 2 HKLRD 431; (2000) 3 HKCFAR 168'),\n",
       " ('Final Appeal (Criminal)',\n",
       "  '2018',\n",
       "  \"\\\\'https://legalref.judiciary.hk/lrs/images/ThemeXP/Epage.gif\\\\'\",\n",
       "  'FACC1/2018',\n",
       "  'https://legalref.judiciary.hk/lrs/common/ju/ju_frame.jsp?DIS=115906',\n",
       "  '(27/06/2018)',\n",
       "  'HKSAR v. CHAN KA CHUN \\xa0Reported in :(2018) 21 HKCFAR 284'),\n",
       " ('Final Appeal (Criminal)',\n",
       "  '2018',\n",
       "  \"\\\\'https://legalref.judiciary.hk/lrs/images/ThemeXP/Epage.gif\\\\'\",\n",
       "  'FACC2/2018',\n",
       "  'https://legalref.judiciary.hk/lrs/common/ju/ju_frame.jsp?DIS=116054',\n",
       "  '(04/07/2018)',\n",
       "  'HKSAR v. LEUNG CHUN KIT BRANDON \\xa0Reported in :(2018) 21 HKCFAR 298'),\n",
       " ('Final Appeal (Criminal)',\n",
       "  '2018',\n",
       "  \"\\\\'https://legalref.judiciary.hk/lrs/images/ThemeXP/Epage.gif\\\\'\",\n",
       "  'FACC3/2018',\n",
       "  'https://legalref.judiciary.hk/lrs/common/ju/ju_frame.jsp?DIS=117648',\n",
       "  '(28/09/2018)',\n",
       "  'SECRETARY FOR JUSTICE v. LEUNG HIU YEUNG \\xa0Reported in :(2018) 21 HKCFAR 421'),\n",
       " ('Final Appeal (Criminal)',\n",
       "  '2018',\n",
       "  \"\\\\'https://legalref.judiciary.hk/lrs/images/ThemeXP/Epage.gif\\\\'\",\n",
       "  'FACC4/2018',\n",
       "  'https://legalref.judiciary.hk/lrs/common/ju/ju_frame.jsp?DIS=117661',\n",
       "  '(28/09/2018)',\n",
       "  'SECRETARY FOR JUSTICE v. WONG HO MING \\xa0Reported in :(2018) 21 HKCFAR 421'),\n",
       " ('Final Appeal (Criminal)',\n",
       "  '2018',\n",
       "  \"\\\\'https://legalref.judiciary.hk/lrs/images/ThemeXP/Epage.gif\\\\'\",\n",
       "  'FACC4/2018',\n",
       "  'https://legalref.judiciary.hk/lrs/common/ju/ju_frame.jsp?DIS=114627',\n",
       "  '(16/04/2018)',\n",
       "  'SECRETARY FOR JUSTICE v. WONG HO MING \\xa0'),\n",
       " ('Final Appeal (Criminal)',\n",
       "  '2018',\n",
       "  \"\\\\'https://legalref.judiciary.hk/lrs/images/ThemeXP/Epage.gif\\\\'\",\n",
       "  'FACC5/2018',\n",
       "  'https://legalref.judiciary.hk/lrs/common/ju/ju_frame.jsp?DIS=117650',\n",
       "  '(28/09/2018)',\n",
       "  'SECRETARY FOR JUSTICE v. LEUNG WING LAI \\xa0Reported in :(2018) 21 HKCFAR 421'),\n",
       " ('Final Appeal (Criminal)',\n",
       "  '2018',\n",
       "  \"\\\\'https://legalref.judiciary.hk/lrs/images/ThemeXP/Epage.gif\\\\'\",\n",
       "  'FACC6/2018',\n",
       "  'https://legalref.judiciary.hk/lrs/common/ju/ju_frame.jsp?DIS=117651',\n",
       "  '(28/09/2018)',\n",
       "  'SECRETARY FOR JUSTICE v. CHU WAI CHUNG \\xa0Reported in :(2018) 21 HKCFAR 421'),\n",
       " ('Final Appeal (Criminal)',\n",
       "  '2018',\n",
       "  \"\\\\'https://legalref.judiciary.hk/lrs/images/ThemeXP/Epage.gif\\\\'\",\n",
       "  'FACC7/2018',\n",
       "  'https://legalref.judiciary.hk/lrs/common/ju/ju_frame.jsp?DIS=117652',\n",
       "  '(28/09/2018)',\n",
       "  'SECRETARY FOR JUSTICE v. YIM MAN WA \\xa0Reported in :(2018) 21 HKCFAR 421'),\n",
       " ('Final Appeal (Criminal)',\n",
       "  '2018',\n",
       "  \"\\\\'https://legalref.judiciary.hk/lrs/images/ThemeXP/Epage.gif\\\\'\",\n",
       "  'FACC8/2018',\n",
       "  'https://legalref.judiciary.hk/lrs/common/ju/ju_frame.jsp?DIS=117653',\n",
       "  '(28/09/2018)',\n",
       "  'SECRETARY FOR JUSTICE v. CHAN PAK SHAN \\xa0Reported in :(2018) 21 HKCFAR 421'),\n",
       " ('Final Appeal (Criminal)',\n",
       "  '2018',\n",
       "  \"\\\\'https://legalref.judiciary.hk/lrs/images/ThemeXP/Epage.gif\\\\'\",\n",
       "  'FACC9/2018',\n",
       "  'https://legalref.judiciary.hk/lrs/common/ju/ju_frame.jsp?DIS=117654',\n",
       "  '(28/09/2018)',\n",
       "  'SECRETARY FOR JUSTICE v. LAU KWOK LEUNG \\xa0Reported in :(2018) 21 HKCFAR 421'),\n",
       " ('Final Appeal (Criminal)',\n",
       "  '2018',\n",
       "  \"\\\\'https://legalref.judiciary.hk/lrs/images/ThemeXP/Epage.gif\\\\'\",\n",
       "  'FACC10/2018',\n",
       "  'https://legalref.judiciary.hk/lrs/common/ju/ju_frame.jsp?DIS=117655',\n",
       "  '(28/09/2018)',\n",
       "  'SECRETARY FOR JUSTICE v. LAM LONG YIN \\xa0Reported in :(2018) 21 HKCFAR 421'),\n",
       " ('Final Appeal (Criminal)',\n",
       "  '2018',\n",
       "  \"\\\\'https://legalref.judiciary.hk/lrs/images/ThemeXP/Epage.gif\\\\'\",\n",
       "  'FACC11/2018',\n",
       "  'https://legalref.judiciary.hk/lrs/common/ju/ju_frame.jsp?DIS=117656',\n",
       "  '(28/09/2018)',\n",
       "  'SECRETARY FOR JUSTICE v. CHIU HIN CHUNG \\xa0Reported in :(2018) 21 HKCFAR 421'),\n",
       " ('Final Appeal (Criminal)',\n",
       "  '2018',\n",
       "  \"\\\\'https://legalref.judiciary.hk/lrs/images/ThemeXP/Epage.gif\\\\'\",\n",
       "  'FACC12/2018',\n",
       "  'https://legalref.judiciary.hk/lrs/common/ju/ju_frame.jsp?DIS=117657',\n",
       "  '(28/09/2018)',\n",
       "  'SECRETARY FOR JUSTICE v. KWOK YIU CHEONG \\xa0Reported in :(2018) 21 HKCFAR 421'),\n",
       " ('Final Appeal (Criminal)',\n",
       "  '2018',\n",
       "  \"\\\\'https://legalref.judiciary.hk/lrs/images/ThemeXP/Epage.gif\\\\'\",\n",
       "  'FACC13/2018',\n",
       "  'https://legalref.judiciary.hk/lrs/common/ju/ju_frame.jsp?DIS=117658',\n",
       "  '(28/09/2018)',\n",
       "  'SECRETARY FOR JUSTICE v. WONG KAN YUEN \\xa0Reported in :(2018) 21 HKCFAR 421'),\n",
       " ('Final Appeal (Criminal)',\n",
       "  '2018',\n",
       "  \"\\\\'https://legalref.judiciary.hk/lrs/images/ThemeXP/Epage.gif\\\\'\",\n",
       "  'FACC14/2018',\n",
       "  'https://legalref.judiciary.hk/lrs/common/ju/ju_frame.jsp?DIS=117659',\n",
       "  '(28/09/2018)',\n",
       "  'SECRETARY FOR JUSTICE v.  HO KIT WANG \\xa0Reported in :(2018) 21 HKCFAR 421'),\n",
       " ('Final Appeal (Criminal)',\n",
       "  '2018',\n",
       "  \"\\\\'https://legalref.judiciary.hk/lrs/images/ThemeXP/Epage.gif\\\\'\",\n",
       "  'FACC15/2018',\n",
       "  'https://legalref.judiciary.hk/lrs/common/ju/ju_frame.jsp?DIS=117660',\n",
       "  '(28/09/2018)',\n",
       "  'SECRETARY FOR JUSTICE v. CHOW KOOT YIN, KOLE \\xa0Reported in :(2018) 21 HKCFAR 421'),\n",
       " ('Final Appeal (Criminal)',\n",
       "  '2018',\n",
       "  \"\\\\'https://legalref.judiciary.hk/lrs/images/ThemeXP/Epage.gif\\\\'\",\n",
       "  'FACC16/2018',\n",
       "  'https://legalref.judiciary.hk/lrs/common/ju/ju_frame.jsp?DIS=118318',\n",
       "  '(07/11/2018)',\n",
       "  'HKSAR v. SPECIAL VIEW LTD \\xa0Reported in :(2018) 21 HKCFAR 562'),\n",
       " ('Final Appeal (Criminal)',\n",
       "  '2018',\n",
       "  \"\\\\'https://legalref.judiciary.hk/lrs/images/ThemeXP/Epage.gif\\\\'\",\n",
       "  'FACC18/2018',\n",
       "  'https://legalref.judiciary.hk/lrs/common/ju/ju_frame.jsp?DIS=119206',\n",
       "  '(21/12/2018)',\n",
       "  'HKSAR v. CHAN CHI HO LINCOLN \\xa0Reported in :(2018) 21 HKCFAR 588'),\n",
       " ('Final Appeal (Criminal)',\n",
       "  '2018',\n",
       "  \"\\\\'https://legalref.judiciary.hk/lrs/images/ThemeXP/Epage.gif\\\\'\",\n",
       "  'FACC19/2018',\n",
       "  'https://legalref.judiciary.hk/lrs/common/ju/ju_frame.jsp?DIS=119872',\n",
       "  '(31/01/2019)',\n",
       "  'HKSAR v. SHUM WAI KEE \\xa0Reported in :(2019) 22 HKCFAR 11'),\n",
       " ('Final Appeal (Criminal)',\n",
       "  '2018',\n",
       "  \"\\\\'https://legalref.judiciary.hk/lrs/images/ThemeXP/Epage.gif\\\\'\",\n",
       "  'FACC20/2018',\n",
       "  'https://legalref.judiciary.hk/lrs/common/ju/ju_frame.jsp?DIS=119899',\n",
       "  '(01/02/2019)',\n",
       "  'HKSAR v. CHU TSUN WAI \\xa0Reported in :(2019) 22 HKCFAR 30'),\n",
       " ('Final Appeal (Criminal)',\n",
       "  '2018',\n",
       "  \"\\\\'https://legalref.judiciary.hk/lrs/images/ThemeXP/Epage.gif\\\\'\",\n",
       "  'FACC21/2018',\n",
       "  'https://legalref.judiciary.hk/lrs/common/ju/ju_frame.jsp?DIS=120290',\n",
       "  '(27/02/2019)',\n",
       "  'HKSAR v. TANG CHI HUNG (formerly DENG, ZHIHONG) \\xa0Reported in :(2019) 22 HKCFAR 39'),\n",
       " ('Final Appeal (Criminal)',\n",
       "  '2018',\n",
       "  \"\\\\'https://legalref.judiciary.hk/lrs/images/ThemeXP/Epage.gif\\\\'\",\n",
       "  'FACC22/2018',\n",
       "  'https://legalref.judiciary.hk/lrs/common/ju/ju_frame.jsp?DIS=121150',\n",
       "  '(04/04/2019)',\n",
       "  'SECRETARY FOR JUSTICE v. CHENG KA YEE AND 3 OTHERS \\xa0'),\n",
       " ('Final Appeal (Criminal)',\n",
       "  '2018',\n",
       "  \"\\\\'https://legalref.judiciary.hk/lrs/images/ThemeXP/Epage.gif\\\\'\",\n",
       "  'FACC23/2018',\n",
       "  'https://legalref.judiciary.hk/lrs/common/ju/ju_frame.jsp?DIS=120292',\n",
       "  '(27/02/2019)',\n",
       "  'HKSAR v. CHAN SHUI LUN (陳瑞麟) \\xa0Reported in :(2019) 22 HKCFAR 45'),\n",
       " ('Final Appeal (Criminal)',\n",
       "  '2018',\n",
       "  \"\\\\'https://legalref.judiciary.hk/lrs/images/ThemeXP/Epage.gif\\\\'\",\n",
       "  'FACC24/2018',\n",
       "  'https://legalref.judiciary.hk/lrs/common/ju/ju_frame.jsp?DIS=122409',\n",
       "  '(11/06/2019)',\n",
       "  'HKSAR v. LEW MON HUNG \\xa0'),\n",
       " ('Final Appeal (Criminal)',\n",
       "  '2017',\n",
       "  \"\\\\'https://legalref.judiciary.hk/lrs/images/ThemeXP/Epage.gif\\\\'\",\n",
       "  'FACC1/2017',\n",
       "  'https://legalref.judiciary.hk/lrs/common/ju/ju_frame.jsp?DIS=113313',\n",
       "  '(25/01/2018)',\n",
       "  'HKSAR v. LAM TAN CHING PAUL \\xa0Reported in :(2018) 21 HKCFAR 1'),\n",
       " ('Final Appeal (Criminal)',\n",
       "  '2017',\n",
       "  \"\\\\'https://legalref.judiciary.hk/lrs/images/ThemeXP/Epage.gif\\\\'\",\n",
       "  'FACC2/2017',\n",
       "  'https://legalref.judiciary.hk/lrs/common/ju/ju_frame.jsp?DIS=111577',\n",
       "  '(04/10/2017)',\n",
       "  'HKSAR v. FONG KWOK SHAN CHRISTINE \\xa0Reported in :(2017) 20 HKCFAR 425'),\n",
       " ('Final Appeal (Criminal)',\n",
       "  '2017',\n",
       "  \"\\\\'https://legalref.judiciary.hk/lrs/images/ThemeXP/Epage.gif\\\\'\",\n",
       "  'FACC3/2017',\n",
       "  'https://legalref.judiciary.hk/lrs/common/ju/ju_frame.jsp?DIS=111423',\n",
       "  '(22/09/2017)',\n",
       "  'HKSAR v. TAM HO NAM \\xa0Reported in :(2017) 20 HKCFAR 414'),\n",
       " ('Final Appeal (Criminal)',\n",
       "  '2017',\n",
       "  \"\\\\'https://legalref.judiciary.hk/lrs/images/ThemeXP/Epage.gif\\\\'\",\n",
       "  'FACC4/2017',\n",
       "  'https://legalref.judiciary.hk/lrs/common/ju/ju_frame.jsp?DIS=112861',\n",
       "  '(22/12/2017)',\n",
       "  'HKSAR v. CHEUNG WAI KWONG \\xa0Reported in :(2017) 20 HKCFAR 524'),\n",
       " ('Final Appeal (Criminal)',\n",
       "  '2017',\n",
       "  \"\\\\'https://legalref.judiciary.hk/lrs/images/ThemeXP/Epage.gif\\\\'\",\n",
       "  'FACC5/2017',\n",
       "  'https://legalref.judiciary.hk/lrs/common/ju/ju_frame.jsp?DIS=113393',\n",
       "  '(01/02/2018)',\n",
       "  'HKSAR v. LEUNG HIU YEUNG \\xa0Reported in :(2018) 21 HKCFAR 20'),\n",
       " ('Final Appeal (Criminal)',\n",
       "  '2017',\n",
       "  \"\\\\'https://legalref.judiciary.hk/lrs/images/ThemeXP/Epage.gif\\\\'\",\n",
       "  'FACC6/2017',\n",
       "  'https://legalref.judiciary.hk/lrs/common/ju/ju_frame.jsp?DIS=115108',\n",
       "  '(14/05/2018)',\n",
       "  'HKSAR v. WAN THOMAS \\xa0Reported in :(2018) 21 HKCFAR 214'),\n",
       " ('Final Appeal (Criminal)',\n",
       "  '2017',\n",
       "  \"\\\\'https://legalref.judiciary.hk/lrs/images/ThemeXP/Epage.gif\\\\'\",\n",
       "  'FACC7/2017',\n",
       "  'https://legalref.judiciary.hk/lrs/common/ju/ju_frame.jsp?DIS=115126',\n",
       "  '(14/05/2018)',\n",
       "  'HKSAR v. GUAN QIAOYONG \\xa0Reported in :(2018) 21 HKCFAR 214'),\n",
       " ('Final Appeal (Criminal)',\n",
       "  '2017',\n",
       "  \"\\\\'https://legalref.judiciary.hk/lrs/images/ThemeXP/Epage.gif\\\\'\",\n",
       "  'FACC8/2017',\n",
       "  'https://legalref.judiciary.hk/lrs/common/ju/ju_frame.jsp?DIS=116791',\n",
       "  '(10/08/2018)',\n",
       "  'SECRETARY FOR JUSTICE v. WONG CHI FUNG \\xa0'),\n",
       " ('Final Appeal (Criminal)',\n",
       "  '2017',\n",
       "  \"\\\\'https://legalref.judiciary.hk/lrs/images/ThemeXP/Epage.gif\\\\'\",\n",
       "  'FACC8/2017',\n",
       "  'https://legalref.judiciary.hk/lrs/common/ju/ju_frame.jsp?DIS=113534',\n",
       "  '(06/02/2018)',\n",
       "  'SECRETARY FOR JUSTICE v. WONG CHI FUNG \\xa0Reported in :(2018) 21 HKCFAR 35'),\n",
       " ('Final Appeal (Criminal)',\n",
       "  '2017',\n",
       "  \"\\\\'https://legalref.judiciary.hk/lrs/images/ThemeXP/Epage.gif\\\\'\",\n",
       "  'FACC9/2017',\n",
       "  'https://legalref.judiciary.hk/lrs/common/ju/ju_frame.jsp?DIS=116793',\n",
       "  '(10/08/2018)',\n",
       "  'SECRETARY FOR JUSTICE v. LAW KWUN CHUNG \\xa0'),\n",
       " ('Final Appeal (Criminal)',\n",
       "  '2017',\n",
       "  \"\\\\'https://legalref.judiciary.hk/lrs/images/ThemeXP/Epage.gif\\\\'\",\n",
       "  'FACC9/2017',\n",
       "  'https://legalref.judiciary.hk/lrs/common/ju/ju_frame.jsp?DIS=113535',\n",
       "  '(06/02/2018)',\n",
       "  'SECRETARY FOR JUSTICE v. LAW KWUN CHUNG \\xa0Reported in :(2018) 21 HKCFAR 35'),\n",
       " ('Final Appeal (Criminal)',\n",
       "  '2017',\n",
       "  \"\\\\'https://legalref.judiciary.hk/lrs/images/ThemeXP/Epage.gif\\\\'\",\n",
       "  'FACC10/2017',\n",
       "  'https://legalref.judiciary.hk/lrs/common/ju/ju_frame.jsp?DIS=116794',\n",
       "  '(10/08/2018)',\n",
       "  'SECRETARY FOR JUSTICE v. CHOW YONG KANG ALEX \\xa0'),\n",
       " ('Final Appeal (Criminal)',\n",
       "  '2017',\n",
       "  \"\\\\'https://legalref.judiciary.hk/lrs/images/ThemeXP/Epage.gif\\\\'\",\n",
       "  'FACC10/2017',\n",
       "  'https://legalref.judiciary.hk/lrs/common/ju/ju_frame.jsp?DIS=113536',\n",
       "  '(06/02/2018)',\n",
       "  'SECRETARY FOR JUSTICE v. CHOW YONG KANG ALEX \\xa0Reported in :(2018) 21 HKCFAR 35'),\n",
       " ('Final Appeal (Criminal)',\n",
       "  '2017',\n",
       "  \"\\\\'https://legalref.judiciary.hk/lrs/images/ThemeXP/Epage.gif\\\\'\",\n",
       "  'FACC11/2017',\n",
       "  'https://legalref.judiciary.hk/lrs/common/ju/ju_frame.jsp?DIS=115035',\n",
       "  '(09/05/2018)',\n",
       "  'HKSAR v. CHOI WAI LUN \\xa0Reported in :(2018) 21 HKCFAR 167'),\n",
       " ('Final Appeal (Criminal)',\n",
       "  '1997',\n",
       "  \"\\\\'https://legalref.judiciary.hk/lrs/images/ThemeXP/Epage.gif\\\\'\",\n",
       "  'FACC1/1997',\n",
       "  'https://legalref.judiciary.hk/lrs/common/ju/ju_frame.jsp?DIS=32205',\n",
       "  '(11/03/1998)',\n",
       "  'HKSAR v. TANG SIU MAN \\xa0Reported in :[1998] 1 HKLRD 350;(1997-1998) 1 HKCFAR 107'),\n",
       " ('Final Appeal (Criminal)',\n",
       "  '2015',\n",
       "  \"\\\\'https://legalref.judiciary.hk/lrs/images/ThemeXP/ETpage.gif\\\\'\",\n",
       "  'FACC1/2015',\n",
       "  'https://legalref.judiciary.hk/lrs/common/ju/ju_frame.jsp?DIS=104840',\n",
       "  '(11/07/2016)',\n",
       "  'HKSAR v. SALIM, MAJED \\xa0Reported in :(2016) 19 HKCFAR 279'),\n",
       " ('Final Appeal (Criminal)',\n",
       "  '2015',\n",
       "  \"\\\\'https://legalref.judiciary.hk/lrs/images/ThemeXP/Epage.gif\\\\'\",\n",
       "  'FACC2/2015',\n",
       "  'https://legalref.judiciary.hk/lrs/common/ju/ju_frame.jsp?DIS=102431',\n",
       "  '(29/01/2016)',\n",
       "  'HKSAR v. MAK CHAI KWONG AND ANOTHER \\xa0Reported in :(2016) 19 HKCFAR 1'),\n",
       " ('Final Appeal (Criminal)',\n",
       "  '2015',\n",
       "  \"\\\\'https://legalref.judiciary.hk/lrs/images/ThemeXP/Epage.gif\\\\'\",\n",
       "  'FACC3/2015',\n",
       "  'https://legalref.judiciary.hk/lrs/common/ju/ju_frame.jsp?DIS=101045',\n",
       "  '(26/10/2015)',\n",
       "  'HKSAR v. LAW YAT TING \\xa0Reported in :(2015) 18 HKCFAR 420'),\n",
       " ('Final Appeal (Criminal)',\n",
       "  '2015',\n",
       "  \"\\\\'https://legalref.judiciary.hk/lrs/images/ThemeXP/Epage.gif\\\\'\",\n",
       "  'FACC4/2015',\n",
       "  'https://legalref.judiciary.hk/lrs/common/ju/ju_frame.jsp?DIS=104003',\n",
       "  '(16/05/2016)',\n",
       "  'SECRETARY FOR JUSTICE v. GLOBAL MERCHANT FUNDING LTD \\xa0Reported in :(2016) 19 HKCFAR 192'),\n",
       " ('Final Appeal (Criminal)',\n",
       "  '2015',\n",
       "  \"\\\\'https://legalref.judiciary.hk/lrs/images/ThemeXP/ETpage.gif\\\\'\",\n",
       "  'FACC5/2015',\n",
       "  'https://legalref.judiciary.hk/lrs/common/ju/ju_frame.jsp?DIS=104833',\n",
       "  '(11/07/2016)',\n",
       "  'HKSAR v. YEUNG KA SING, CARSON \\xa0Reported in :(2016) 19 HKCFAR 279'),\n",
       " ('Final Appeal (Criminal)',\n",
       "  '2015',\n",
       "  \"\\\\'https://legalref.judiciary.hk/lrs/images/ThemeXP/ETpage.gif\\\\'\",\n",
       "  'FACC6/2015',\n",
       "  'https://legalref.judiciary.hk/lrs/common/ju/ju_frame.jsp?DIS=104839',\n",
       "  '(11/07/2016)',\n",
       "  'HKSAR v. YEUNG KA SING, CARSON \\xa0Reported in :(2016) 19 HKCFAR 279'),\n",
       " ('Final Appeal (Criminal)',\n",
       "  '2015',\n",
       "  \"\\\\'https://legalref.judiciary.hk/lrs/images/ThemeXP/Epage.gif\\\\'\",\n",
       "  'FACC7/2015',\n",
       "  'https://legalref.judiciary.hk/lrs/common/ju/ju_frame.jsp?DIS=103275',\n",
       "  '(23/03/2016)',\n",
       "  'HKSAR v. HO LOY \\xa0Reported in :(2016) 19 HKCFAR 110'),\n",
       " ('Final Appeal (Criminal)',\n",
       "  '2015',\n",
       "  \"\\\\'https://legalref.judiciary.hk/lrs/images/ThemeXP/Epage.gif\\\\'\",\n",
       "  'FACC8/2015',\n",
       "  'https://legalref.judiciary.hk/lrs/common/ju/ju_frame.jsp?DIS=105975',\n",
       "  '(23/09/2016)',\n",
       "  'HKSAR v. YANG SIGAI \\xa0Reported in :(2016) 19 HKCFAR 359'),\n",
       " ('Final Appeal (Criminal)',\n",
       "  '2015',\n",
       "  \"\\\\'https://legalref.judiciary.hk/lrs/images/ThemeXP/Epage.gif\\\\'\",\n",
       "  'FACC9/2015',\n",
       "  'https://legalref.judiciary.hk/lrs/common/ju/ju_frame.jsp?DIS=104013',\n",
       "  '(17/05/2016)',\n",
       "  'HKSAR v. ATA ASAF \\xa0Reported in :(2016) 19 HKCFAR 225'),\n",
       " ('Final Appeal (Criminal)',\n",
       "  '2010',\n",
       "  \"\\\\'https://legalref.judiciary.hk/lrs/images/ThemeXP/Epage.gif\\\\'\",\n",
       "  'FACC1/2010',\n",
       "  'https://legalref.judiciary.hk/lrs/common/ju/ju_frame.jsp?DIS=74139',\n",
       "  '(06/12/2010)',\n",
       "  'RAYMOND CHEN v. HKSAR \\xa0Reported in :[2011] 2 HKLRD 189; (2010) 13 HKCFAR 728'),\n",
       " ('Final Appeal (Criminal)',\n",
       "  '2010',\n",
       "  \"\\\\'https://legalref.judiciary.hk/lrs/images/ThemeXP/Epage.gif\\\\'\",\n",
       "  'FACC2/2010',\n",
       "  'https://legalref.judiciary.hk/lrs/common/ju/ju_frame.jsp?DIS=75533',\n",
       "  '(09/03/2011)',\n",
       "  'HAU TUNG YING AND ANOTHER v. HKSAR \\xa0Reported in :[2011] 2 HKLRD 782; (2011) 14 HKCFAR 453'),\n",
       " ('Final Appeal (Criminal)',\n",
       "  '2010',\n",
       "  \"\\\\'https://legalref.judiciary.hk/lrs/images/ThemeXP/Epage.gif\\\\'\",\n",
       "  'FACC3/2010',\n",
       "  'https://legalref.judiciary.hk/lrs/common/ju/ju_frame.jsp?DIS=75543',\n",
       "  '(09/03/2011)',\n",
       "  'HAU TUNG YING AND ANOTHER v. HKSAR \\xa0Reported in :[2011] 2 HKLRD 782; (2011) 14 HKCFAR 453'),\n",
       " ('Final Appeal (Criminal)',\n",
       "  '2010',\n",
       "  \"\\\\'https://legalref.judiciary.hk/lrs/images/ThemeXP/Epage.gif\\\\'\",\n",
       "  'FACC4/2010',\n",
       "  'https://legalref.judiciary.hk/lrs/common/ju/ju_frame.jsp?DIS=74290',\n",
       "  '(13/12/2010)',\n",
       "  'HKSAR v. CHAN WAI YIP AND OTHERS \\xa0Reported in :(2010) 13 HKCFAR 842'),\n",
       " ('Final Appeal (Criminal)',\n",
       "  '2010',\n",
       "  \"\\\\'https://legalref.judiciary.hk/lrs/images/ThemeXP/ETpage.gif\\\\'\",\n",
       "  'FACC5/2010',\n",
       "  'https://legalref.judiciary.hk/lrs/common/ju/ju_frame.jsp?DIS=74140',\n",
       "  '(06/12/2010)',\n",
       "  'CHAN TAK MING v. HKSAR \\xa0Reported in :[2011] 1 HKLRD 766; (2010) 13 HKCFAR 745'),\n",
       " ('Final Appeal (Criminal)',\n",
       "  '2010',\n",
       "  \"\\\\'https://legalref.judiciary.hk/lrs/images/ThemeXP/Epage.gif\\\\'\",\n",
       "  'FACC6/2010',\n",
       "  'https://legalref.judiciary.hk/lrs/common/ju/ju_frame.jsp?DIS=79777',\n",
       "  '(06/01/2012)',\n",
       "  'VIVIEN FAN AND OTHERS v. HKSAR \\xa0'),\n",
       " ('Final Appeal (Criminal)',\n",
       "  '2010',\n",
       "  \"\\\\'https://legalref.judiciary.hk/lrs/images/ThemeXP/Epage.gif\\\\'\",\n",
       "  'FACC6/2010',\n",
       "  'https://legalref.judiciary.hk/lrs/common/ju/ju_frame.jsp?DIS=77301',\n",
       "  '(15/07/2011)',\n",
       "  'VIVIEN FAN AND OTHERS v. HKSAR \\xa0Reported in :(2011) 14 HKCFAR 641'),\n",
       " ('Final Appeal (Criminal)',\n",
       "  '2010',\n",
       "  \"\\\\'https://legalref.judiciary.hk/lrs/images/ThemeXP/Epage.gif\\\\'\",\n",
       "  'FACC7/2010',\n",
       "  'https://legalref.judiciary.hk/lrs/common/ju/ju_frame.jsp?DIS=79779',\n",
       "  '(06/01/2012)',\n",
       "  'VIVIEN FAN AND OTHERS v. HKSAR \\xa0'),\n",
       " ('Final Appeal (Criminal)',\n",
       "  '2010',\n",
       "  \"\\\\'https://legalref.judiciary.hk/lrs/images/ThemeXP/Epage.gif\\\\'\",\n",
       "  'FACC7/2010',\n",
       "  'https://legalref.judiciary.hk/lrs/common/ju/ju_frame.jsp?DIS=77306',\n",
       "  '(15/07/2011)',\n",
       "  'VIVIEN FAN AND OTHERS v. HKSAR \\xa0Reported in :(2011) 14 HKCFAR 641'),\n",
       " ('Final Appeal (Criminal)',\n",
       "  '2010',\n",
       "  \"\\\\'https://legalref.judiciary.hk/lrs/images/ThemeXP/Epage.gif\\\\'\",\n",
       "  'FACC8/2010',\n",
       "  'https://legalref.judiciary.hk/lrs/common/ju/ju_frame.jsp?DIS=79780',\n",
       "  '(06/01/2012)',\n",
       "  'HKSAR v. VIVIEN FAN \\xa0'),\n",
       " ('Final Appeal (Criminal)',\n",
       "  '2010',\n",
       "  \"\\\\'https://legalref.judiciary.hk/lrs/images/ThemeXP/Epage.gif\\\\'\",\n",
       "  'FACC8/2010',\n",
       "  'https://legalref.judiciary.hk/lrs/common/ju/ju_frame.jsp?DIS=77307',\n",
       "  '(15/07/2011)',\n",
       "  'HKSAR v. VIVIEN FAN \\xa0Reported in :(2011) 14 HKCFAR 641'),\n",
       " ('Final Appeal (Criminal)',\n",
       "  '2010',\n",
       "  \"\\\\'https://legalref.judiciary.hk/lrs/images/ThemeXP/Epage.gif\\\\'\",\n",
       "  'FACC9/2010',\n",
       "  'https://legalref.judiciary.hk/lrs/common/ju/ju_frame.jsp?DIS=77550',\n",
       "  '(27/07/2011)',\n",
       "  'PETER GERARDUS VAN WEERDENBURG  v. HKSAR \\xa0Reported in :(2011) 14 HKCFAR 680'),\n",
       " ('Final Appeal (Criminal)',\n",
       "  '2010',\n",
       "  \"\\\\'https://legalref.judiciary.hk/lrs/images/ThemeXP/Epage.gif\\\\'\",\n",
       "  'FACC10/2010',\n",
       "  'https://legalref.judiciary.hk/lrs/common/ju/ju_frame.jsp?DIS=79781',\n",
       "  '(06/01/2012)',\n",
       "  'VIVIEN FAN AND OTHERS v. HKSAR \\xa0'),\n",
       " ('Final Appeal (Criminal)',\n",
       "  '2010',\n",
       "  \"\\\\'https://legalref.judiciary.hk/lrs/images/ThemeXP/Epage.gif\\\\'\",\n",
       "  'FACC10/2010',\n",
       "  'https://legalref.judiciary.hk/lrs/common/ju/ju_frame.jsp?DIS=77308',\n",
       "  '(15/07/2011)',\n",
       "  'VIVIEN FAN AND OTHERS v. HKSAR \\xa0Reported in :(2011) 14 HKCFAR 641'),\n",
       " ('Final Appeal (Criminal)',\n",
       "  '2010',\n",
       "  \"\\\\'https://legalref.judiciary.hk/lrs/images/ThemeXP/Epage.gif\\\\'\",\n",
       "  'FACC11/2010',\n",
       "  'https://legalref.judiciary.hk/lrs/common/ju/ju_frame.jsp?DIS=79782',\n",
       "  '(06/01/2012)',\n",
       "  'VIVIEN FAN AND OTHERS v. HKSAR \\xa0'),\n",
       " ('Final Appeal (Criminal)',\n",
       "  '2010',\n",
       "  \"\\\\'https://legalref.judiciary.hk/lrs/images/ThemeXP/Epage.gif\\\\'\",\n",
       "  'FACC11/2010',\n",
       "  'https://legalref.judiciary.hk/lrs/common/ju/ju_frame.jsp?DIS=77309',\n",
       "  '(15/07/2011)',\n",
       "  'VIVIEN FAN AND OTHERS v. HKSAR \\xa0Reported in :(2011) 14 HKCFAR 641'),\n",
       " ('Final Appeal (Criminal)',\n",
       "  '2010',\n",
       "  \"\\\\'https://legalref.judiciary.hk/lrs/images/ThemeXP/Epage.gif\\\\'\",\n",
       "  'FACC12/2010',\n",
       "  'https://legalref.judiciary.hk/lrs/common/ju/ju_frame.jsp?DIS=79783',\n",
       "  '(06/01/2012)',\n",
       "  'VIVIEN FAN AND OTHERS v. HKSAR \\xa0'),\n",
       " ('Final Appeal (Criminal)',\n",
       "  '2010',\n",
       "  \"\\\\'https://legalref.judiciary.hk/lrs/images/ThemeXP/Epage.gif\\\\'\",\n",
       "  'FACC12/2010',\n",
       "  'https://legalref.judiciary.hk/lrs/common/ju/ju_frame.jsp?DIS=77310',\n",
       "  '(15/07/2011)',\n",
       "  'VIVIEN FAN AND OTHERS v. HKSAR \\xa0Reported in :(2011) 14 HKCFAR 641'),\n",
       " ('Final Appeal (Criminal)',\n",
       "  '2010',\n",
       "  \"\\\\'https://legalref.judiciary.hk/lrs/images/ThemeXP/ETpage.gif\\\\'\",\n",
       "  'FACC13/2010',\n",
       "  'https://legalref.judiciary.hk/lrs/common/ju/ju_frame.jsp?DIS=81775',\n",
       "  '(22/05/2012)',\n",
       "  'HKSAR v. MUHAMMAD RIAZ KHAN \\xa0Reported in :(2012) 15 HKCFAR 232'),\n",
       " ('Final Appeal (Criminal)',\n",
       "  '2010',\n",
       "  \"\\\\'https://legalref.judiciary.hk/lrs/images/ThemeXP/ETpage.gif\\\\'\",\n",
       "  'FACC14/2010',\n",
       "  'https://legalref.judiciary.hk/lrs/common/ju/ju_frame.jsp?DIS=75737',\n",
       "  '(22/03/2011)',\n",
       "  'ANTONIUS MARIUS JACOBUS VAN HUIJSTEE v. HKSAR \\xa0Reported in :(2011) 14 HKCFAR 489'),\n",
       " ('Miscellaneou Proceeding',\n",
       "  '2009',\n",
       "  \"\\\\'https://legalref.judiciary.hk/lrs/images/ThemeXP/Epage.gif\\\\'\",\n",
       "  'FAMP2/2009',\n",
       "  'https://legalref.judiciary.hk/lrs/common/ju/ju_frame.jsp?DIS=68971',\n",
       "  '(17/12/2009)',\n",
       "  'PASA DANAVILLE DIZON v. HKSAR \\xa0Reported in :(2009) 12 HKCFAR 960'),\n",
       " ('Miscellaneou Proceeding',\n",
       "  '2004',\n",
       "  \"\\\\'https://legalref.judiciary.hk/lrs/images/ThemeXP/Epage.gif\\\\'\",\n",
       "  'FAMP2/2004',\n",
       "  'https://legalref.judiciary.hk/lrs/common/ju/ju_frame.jsp?DIS=43942',\n",
       "  '(17/12/2004)',\n",
       "  'LO SIU LAN AND ANOTHER v. HONG KONG HOUSING AUTHORITY \\xa0Reported in :[2005] 2 HKLRD 208; (2004) 7 HKCFAR 631'),\n",
       " ('Miscellaneou Proceeding',\n",
       "  '2013',\n",
       "  \"\\\\'https://legalref.judiciary.hk/lrs/images/ThemeXP/Epage.gif\\\\'\",\n",
       "  'FAMP1/2013',\n",
       "  'https://legalref.judiciary.hk/lrs/common/ju/ju_frame.jsp?DIS=88730',\n",
       "  '(22/08/2013)',\n",
       "  'RE NG SHIU FAN \\xa0'),\n",
       " ('Miscellaneou Proceeding',\n",
       "  '2013',\n",
       "  \"\\\\'https://legalref.judiciary.hk/lrs/images/ThemeXP/Epage.gif\\\\'\",\n",
       "  'FAMP2/2013',\n",
       "  'https://legalref.judiciary.hk/lrs/common/ju/ju_frame.jsp?DIS=89585',\n",
       "  '(07/10/2013)',\n",
       "  'ASPIAL INVESTMENT LTD AND ANOTHER  v.  MAYER CORPORATION DEVELOPMENT INTERNATIONAL LTD \\xa0'),\n",
       " ('Miscellaneou Proceeding',\n",
       "  '2013',\n",
       "  \"\\\\'https://legalref.judiciary.hk/lrs/images/ThemeXP/Epage.gif\\\\'\",\n",
       "  'FAMP3/2013',\n",
       "  'https://legalref.judiciary.hk/lrs/common/ju/ju_frame.jsp?DIS=91253',\n",
       "  '(28/01/2014)',\n",
       "  'BRIAN ALFRED HALL v. HKSAR \\xa0Reported in :(2014) 17 HKCFAR 17'),\n",
       " ('Miscellaneou Proceeding',\n",
       "  '2010',\n",
       "  \"\\\\'https://legalref.judiciary.hk/lrs/images/ThemeXP/Epage.gif\\\\'\",\n",
       "  'FAMP2/2010',\n",
       "  'https://legalref.judiciary.hk/lrs/common/ju/ju_frame.jsp?DIS=69708',\n",
       "  '(29/01/2010)',\n",
       "  'DLA PIPER HONG KONG (a firm) v. CHINA PROPERTY DEVELOPMENT (HOLDINGS) LTD AND ANOTHER \\xa0Reported in :[2010] 2 HKLRD 704; (2010) 13 HKCFAR 14'),\n",
       " ('Miscellaneou Proceeding',\n",
       "  '2003',\n",
       "  \"\\\\'https://legalref.judiciary.hk/lrs/images/ThemeXP/Epage.gif\\\\'\",\n",
       "  'FAMP2/2003',\n",
       "  'https://legalref.judiciary.hk/lrs/common/ju/ju_frame.jsp?DIS=26055',\n",
       "  '(11/08/2003)',\n",
       "  'SHANGHAI TONGJI SCIENCE & TECHNOLOGY INDUSTRIAL CO LTD v. CASIL CLEARING LTD \\xa0'),\n",
       " ('Miscellaneou Proceeding',\n",
       "  '2014',\n",
       "  \"\\\\'https://legalref.judiciary.hk/lrs/images/ThemeXP/Epage.gif\\\\'\",\n",
       "  'FAMP1/2014',\n",
       "  'https://legalref.judiciary.hk/lrs/common/ju/ju_frame.jsp?DIS=96059',\n",
       "  '(04/12/2014)',\n",
       "  'BIG ISLAND CONSTRUCTION (HK) LTD v. WU YI CONSTRUCTION CO LTD AND ANOTHER \\xa0Reported in :(2014) 17 HKCFAR 829'),\n",
       " ('Miscellaneou Proceeding (Civil)',\n",
       "  '2011',\n",
       "  \"\\\\'https://legalref.judiciary.hk/lrs/images/ThemeXP/Epage.gif\\\\'\",\n",
       "  'FAMV1/2011',\n",
       "  'https://legalref.judiciary.hk/lrs/common/ju/ju_frame.jsp?DIS=76364',\n",
       "  '(05/05/2011)',\n",
       "  'PEARLDELTA GROUP LTD v. HUGE WINNERS INTERNATIONAL LTD AND OTHERS \\xa0'),\n",
       " ('Miscellaneou Proceeding (Civil)',\n",
       "  '2011',\n",
       "  \"\\\\'https://legalref.judiciary.hk/lrs/images/ThemeXP/Epage.gif\\\\'\",\n",
       "  'FAMV2/2011',\n",
       "  'https://legalref.judiciary.hk/lrs/common/ju/ju_frame.jsp?DIS=76891',\n",
       "  '(16/06/2011)',\n",
       "  'YEN WING CHOI  AND OTHERS v. MATCH POWER INVESTMENT LTD \\xa0'),\n",
       " ('Miscellaneou Proceeding (Civil)',\n",
       "  '2011',\n",
       "  \"\\\\'https://legalref.judiciary.hk/lrs/images/ThemeXP/Epage.gif\\\\'\",\n",
       "  'FAMV3/2011',\n",
       "  'https://legalref.judiciary.hk/lrs/common/ju/ju_frame.jsp?DIS=77029',\n",
       "  '(27/06/2011)',\n",
       "  'ION GLOBAL (BVI) LTD AND OTHERS v. LAM PO CHIU MARK \\xa0'),\n",
       " ('Miscellaneou Proceeding (Civil)',\n",
       "  '2011',\n",
       "  \"\\\\'https://legalref.judiciary.hk/lrs/images/ThemeXP/Epage.gif\\\\'\",\n",
       "  'FAMV4/2011',\n",
       "  'https://legalref.judiciary.hk/lrs/common/ju/ju_frame.jsp?DIS=76394',\n",
       "  '(04/05/2011)',\n",
       "  '厦門新景地集團有限公司 v. ETON PROPERTIES LTD AND OTHERS \\xa0'),\n",
       " ('Miscellaneou Proceeding (Civil)',\n",
       "  '2011',\n",
       "  \"\\\\'https://legalref.judiciary.hk/lrs/images/ThemeXP/Epage.gif\\\\'\",\n",
       "  'FAMV5/2011',\n",
       "  'https://legalref.judiciary.hk/lrs/common/ju/ju_frame.jsp?DIS=76398',\n",
       "  '(04/05/2011)',\n",
       "  '厦門新景地集團有限公司 v. ETON PROPERTIES LTD AND OTHERS \\xa0'),\n",
       " ('Miscellaneou Proceeding (Civil)',\n",
       "  '2011',\n",
       "  \"\\\\'https://legalref.judiciary.hk/lrs/images/ThemeXP/Epage.gif\\\\'\",\n",
       "  'FAMV6/2011',\n",
       "  'https://legalref.judiciary.hk/lrs/common/ju/ju_frame.jsp?DIS=77949',\n",
       "  '(26/08/2011)',\n",
       "  'NEW WORLD HARBOURVIEW HOTEL CO LTD AND OTHERS v. ACE INSURANCE LTD AND OTHERS \\xa0'),\n",
       " ('Miscellaneou Proceeding (Civil)',\n",
       "  '2011',\n",
       "  \"\\\\'https://legalref.judiciary.hk/lrs/images/ThemeXP/Epage.gif\\\\'\",\n",
       "  'FAMV7/2011',\n",
       "  'https://legalref.judiciary.hk/lrs/common/ju/ju_frame.jsp?DIS=76793',\n",
       "  '(07/06/2011)',\n",
       "  'CHAU CHEUK YIU v. POON KIT SANG AND OTHERS \\xa0'),\n",
       " ('Miscellaneou Proceeding (Civil)',\n",
       "  '2011',\n",
       "  \"\\\\'https://legalref.judiciary.hk/lrs/images/ThemeXP/Epage.gif\\\\'\",\n",
       "  'FAMV17/2011',\n",
       "  'https://legalref.judiciary.hk/lrs/common/ju/ju_frame.jsp?DIS=76914',\n",
       "  '(16/06/2011)',\n",
       "  'KO HON YUE v. CHIU PIK YUK AND OTHERS \\xa0'),\n",
       " ('Miscellaneou Proceeding (Civil)',\n",
       "  '2011',\n",
       "  \"\\\\'https://legalref.judiciary.hk/lrs/images/ThemeXP/Epage.gif\\\\'\",\n",
       "  'FAMV19/2011',\n",
       "  'https://legalref.judiciary.hk/lrs/common/ju/ju_frame.jsp?DIS=78856',\n",
       "  '(01/11/2011)',\n",
       "  'WONG WING FONG  v. CAFÉ DE CORAL CENTRAL PROCESSING LTD \\xa0'),\n",
       " ('Miscellaneou Proceeding (Civil)',\n",
       "  '2011',\n",
       "  \"\\\\'https://legalref.judiciary.hk/lrs/images/ThemeXP/Epage.gif\\\\'\",\n",
       "  'FAMV20/2011',\n",
       "  'https://legalref.judiciary.hk/lrs/common/ju/ju_frame.jsp?DIS=78809',\n",
       "  '(28/10/2011)',\n",
       "  'CHINACHEM CHARITABLE FOUNDATION LTD v.CHAN CHUN CHUEN AND ANOTHER \\xa0Reported in :(2011) 14 HKCFAR 798'),\n",
       " ('Miscellaneou Proceeding (Civil)',\n",
       "  '2011',\n",
       "  \"\\\\'https://legalref.judiciary.hk/lrs/images/ThemeXP/Epage.gif\\\\'\",\n",
       "  'FAMV23/2011',\n",
       "  'https://legalref.judiciary.hk/lrs/common/ju/ju_frame.jsp?DIS=77936',\n",
       "  '(24/08/2011)',\n",
       "  'C G LIGHTING LTD v. COMMISSIONER OF INLAND REVENUE \\xa0Reported in :(2011) 14 HKCFAR 750'),\n",
       " ('Miscellaneou Proceeding (Civil)',\n",
       "  '2011',\n",
       "  \"\\\\'https://legalref.judiciary.hk/lrs/images/ThemeXP/Epage.gif\\\\'\",\n",
       "  'FAMV25/2011',\n",
       "  'https://legalref.judiciary.hk/lrs/common/ju/ju_frame.jsp?DIS=79983',\n",
       "  '(16/01/2012)',\n",
       "  'FIRST LASER LTD v. FUJIAN ENTERPRISES (HOLDINGS) CO LTD AND ANOTHER \\xa0'),\n",
       " ('Miscellaneou Proceeding (Civil)',\n",
       "  '2011',\n",
       "  \"\\\\'https://legalref.judiciary.hk/lrs/images/ThemeXP/Epage.gif\\\\'\",\n",
       "  'FAMV34/2011',\n",
       "  'https://legalref.judiciary.hk/lrs/common/ju/ju_frame.jsp?DIS=79386',\n",
       "  '(05/12/2011)',\n",
       "  'CH v. DIRECTOR OF IMMIGRATION \\xa0'),\n",
       " ('Miscellaneou Proceeding (Civil)',\n",
       "  '2011',\n",
       "  \"\\\\'https://legalref.judiciary.hk/lrs/images/ThemeXP/Epage.gif\\\\'\",\n",
       "  'FAMV35/2011',\n",
       "  'https://legalref.judiciary.hk/lrs/common/ju/ju_frame.jsp?DIS=79997',\n",
       "  '(16/01/2012)',\n",
       "  'THE INCORPORATED OWNERS OF GOLD KING INDUSTRIAL BUILDING AND ANOTHER v. CHATHAM INDUSTRIES LTD \\xa0'),\n",
       " ('Miscellaneou Proceeding (Civil)',\n",
       "  '2011',\n",
       "  \"\\\\'https://legalref.judiciary.hk/lrs/images/ThemeXP/Epage.gif\\\\'\",\n",
       "  'FAMV36/2011',\n",
       "  'https://legalref.judiciary.hk/lrs/common/ju/ju_frame.jsp?DIS=81092',\n",
       "  '(30/03/2012)',\n",
       "  'LING WING FAI BILLY AND OTHERS v. LING SHUI FAI AND OTHERS \\xa0'),\n",
       " ('Miscellaneou Proceeding (Civil)',\n",
       "  '2011',\n",
       "  \"\\\\'https://legalref.judiciary.hk/lrs/images/ThemeXP/Epage.gif\\\\'\",\n",
       "  'FAMV37/2011',\n",
       "  'https://legalref.judiciary.hk/lrs/common/ju/ju_frame.jsp?DIS=81030',\n",
       "  '(27/03/2012)',\n",
       "  'NANYANG COMMERCIAL BANK TRUSTEE LTD AND ANOTHER v. JOHN KU, TAM & HO (A FIRM) \\xa0'),\n",
       " ('Miscellaneou Proceeding (Civil)',\n",
       "  '2011',\n",
       "  \"\\\\'https://legalref.judiciary.hk/lrs/images/ThemeXP/Epage.gif\\\\'\",\n",
       "  'FAMV39/2011',\n",
       "  'https://legalref.judiciary.hk/lrs/common/ju/ju_frame.jsp?DIS=80004',\n",
       "  '(18/01/2012)',\n",
       "  'CHAN YU NAM v. THE SECRETARY FOR JUSTICE \\xa0'),\n",
       " ('Miscellaneou Proceeding (Civil)',\n",
       "  '2011',\n",
       "  \"\\\\'https://legalref.judiciary.hk/lrs/images/ThemeXP/Epage.gif\\\\'\",\n",
       "  'FAMV40/2011',\n",
       "  'https://legalref.judiciary.hk/lrs/common/ju/ju_frame.jsp?DIS=80006',\n",
       "  '(18/01/2012)',\n",
       "  'LO HOM CHAU v. THE SECRETARY FOR JUSTICE \\xa0'),\n",
       " ('Miscellaneou Proceeding (Civil)',\n",
       "  '2011',\n",
       "  \"\\\\'https://legalref.judiciary.hk/lrs/images/ThemeXP/Epage.gif\\\\'\",\n",
       "  'FAMV41/2011',\n",
       "  'https://legalref.judiciary.hk/lrs/common/ju/ju_frame.jsp?DIS=79812',\n",
       "  '(06/01/2012)',\n",
       "  'MOK CHARLES PETER v. TAM WAI HO AND ANOTHER \\xa0'),\n",
       " ('Miscellaneou Proceeding (Civil)',\n",
       "  '2011',\n",
       "  \"\\\\'https://legalref.judiciary.hk/lrs/images/ThemeXP/Epage.gif\\\\'\",\n",
       "  'FAMV42/2011',\n",
       "  'https://legalref.judiciary.hk/lrs/common/ju/ju_frame.jsp?DIS=90105',\n",
       "  '(08/11/2013)',\n",
       "  'WANG RUIYUN v. GEM GLOBAL YIELD FUND LTD \\xa0Reported in :(2013) 16 HKCFAR 785'),\n",
       " ('Miscellaneou Proceeding (Civil)',\n",
       "  '2011',\n",
       "  \"\\\\'https://legalref.judiciary.hk/lrs/images/ThemeXP/Epage.gif\\\\'\",\n",
       "  'FAMV42/2011',\n",
       "  'https://legalref.judiciary.hk/lrs/common/ju/ju_frame.jsp?DIS=81051',\n",
       "  '(29/03/2012)',\n",
       "  'WANG RUIYUN v. GEM GLOBAL YIELD FUND LTD \\xa0'),\n",
       " ('Miscellaneou Proceeding (Civil)',\n",
       "  '2011',\n",
       "  \"\\\\'https://legalref.judiciary.hk/lrs/images/ThemeXP/Epage.gif\\\\'\",\n",
       "  'FAMV43/2011',\n",
       "  'https://legalref.judiciary.hk/lrs/common/ju/ju_frame.jsp?DIS=80071',\n",
       "  '(27/01/2012)',\n",
       "  'ARAV v. VP, LJ also known as PJ \\xa0'),\n",
       " ('Miscellaneou Proceeding (Civil)',\n",
       "  '2011',\n",
       "  \"\\\\'https://legalref.judiciary.hk/lrs/images/ThemeXP/Epage.gif\\\\'\",\n",
       "  'FAMV45/2011',\n",
       "  'https://legalref.judiciary.hk/lrs/common/ju/ju_frame.jsp?DIS=80459',\n",
       "  '(23/02/2012)',\n",
       "  'CATHAY PACIFIC AIRWAYS LTD v. KWAN SIU WA BECKY AND OTHERS \\xa0'),\n",
       " ('Miscellaneou Proceeding (Civil)',\n",
       "  '1998',\n",
       "  \"\\\\'https://legalref.judiciary.hk/lrs/images/ThemeXP/ETpage.gif\\\\'\",\n",
       "  'FAMV1/1998',\n",
       "  'https://legalref.judiciary.hk/lrs/common/ju/ju_frame.jsp?DIS=15960',\n",
       "  '(20/02/1998)',\n",
       "  'WAI HUNG STATIONERY CO AND OTHERS v. DEPARTMENT OF JUSTICE AND OTHERS \\xa0Reported in :[1998] 1 HKLRD 445'),\n",
       " ('Miscellaneou Proceeding (Civil)',\n",
       "  '1998',\n",
       "  \"\\\\'https://legalref.judiciary.hk/lrs/images/ThemeXP/Epage.gif\\\\'\",\n",
       "  'FAMV4/1998',\n",
       "  'https://legalref.judiciary.hk/lrs/common/ju/ju_frame.jsp?DIS=15961',\n",
       "  '(31/03/1998)',\n",
       "  'ASSOCIATION OF EXPATRIATE CIVIL SERVANTS OF HONG KONG v. SECRETARY FOR THE CIVIL SERVICE AND ANOTHER \\xa0Reported in :[1998] 1 HKLRD 701'),\n",
       " ('Miscellaneou Proceeding (Civil)',\n",
       "  '1998',\n",
       "  \"\\\\'https://legalref.judiciary.hk/lrs/images/ThemeXP/ETpage.gif\\\\'\",\n",
       "  'FAMV5/1998',\n",
       "  'https://legalref.judiciary.hk/lrs/common/ju/ju_frame.jsp?DIS=15962',\n",
       "  '(30/03/1998)',\n",
       "  'CHENG CHEN SING v. ARNBERGER, KIM, BUXBAUM & CHOY \\xa0Reported in :[1998] 1 HKLRD 540'),\n",
       " ('Miscellaneou Proceeding (Civil)',\n",
       "  '1998',\n",
       "  \"\\\\'https://legalref.judiciary.hk/lrs/images/ThemeXP/Epage.gif\\\\'\",\n",
       "  'FAMV7/1998',\n",
       "  'https://legalref.judiciary.hk/lrs/common/ju/ju_frame.jsp?DIS=31949',\n",
       "  '(21/05/1998)',\n",
       "  'ARCHER, HAROLD DEAN v. THE HONG KONG CHANNEL LTD \\xa0Reported in :[1998] 1 HKLRD 829'),\n",
       " ('Miscellaneou Proceeding (Civil)',\n",
       "  '1998',\n",
       "  \"\\\\'https://legalref.judiciary.hk/lrs/images/ThemeXP/ETpage.gif\\\\'\",\n",
       "  'FAMV9/1998',\n",
       "  'https://legalref.judiciary.hk/lrs/common/ju/ju_frame.jsp?DIS=31950',\n",
       "  '(08/06/1998)',\n",
       "  'FOK SIU WING v. INDEPENDENT COMMISSION AGAINST CORRUPTION \\xa0'),\n",
       " ('Miscellaneou Proceeding (Civil)',\n",
       "  '1998',\n",
       "  \"\\\\'https://legalref.judiciary.hk/lrs/images/ThemeXP/Epage.gif\\\\'\",\n",
       "  'FAMV10/1998',\n",
       "  'https://legalref.judiciary.hk/lrs/common/ju/ju_frame.jsp?DIS=15963',\n",
       "  '(30/07/1998)',\n",
       "  'KUAN TAO SHENG v. THE HONG KONG AND SHANGHAI BANKING CORPORATION LTD \\xa0Reported in :[1998] 2 HKLRD 582'),\n",
       " ('Miscellaneou Proceeding (Civil)',\n",
       "  '1998',\n",
       "  \"\\\\'https://legalref.judiciary.hk/lrs/images/ThemeXP/Epage.gif\\\\'\",\n",
       "  'FAMV11/1998',\n",
       "  'https://legalref.judiciary.hk/lrs/common/ju/ju_frame.jsp?DIS=15964',\n",
       "  '(07/07/1998)',\n",
       "  'TO KAN CHI AND OTHERS v. PUI MAN YAU AND OTHERS \\xa0Reported in :[1998] 2 HKLRD 104'),\n",
       " ('Miscellaneou Proceeding (Civil)',\n",
       "  '1998',\n",
       "  \"\\\\'https://legalref.judiciary.hk/lrs/images/ThemeXP/Epage.gif\\\\'\",\n",
       "  'FAMV13/1998',\n",
       "  'https://legalref.judiciary.hk/lrs/common/ju/ju_frame.jsp?DIS=33539',\n",
       "  '(01/09/1998)',\n",
       "  'CHENG LAI KWAN v. NAN FUNG TEXTILES LTD \\xa0Reported in :[1999] 1 HKLRD 469;(1997-1998) 1 HKCFAR 204'),\n",
       " ('Miscellaneou Proceeding (Civil)',\n",
       "  '1998',\n",
       "  \"\\\\'https://legalref.judiciary.hk/lrs/images/ThemeXP/Epage.gif\\\\'\",\n",
       "  'FAMV14/1998',\n",
       "  'https://legalref.judiciary.hk/lrs/common/ju/ju_frame.jsp?DIS=33634',\n",
       "  '(21/10/1998)',\n",
       "  'NOMURA INTERNATIONAL (HONG KONG) LTD AND OTHERS v. SECURITIES AND FUTURES COMMISSION \\xa0Reported in :[1999] 1 HKLRD 607;(1997-1998) 1 HKCFAR 250'),\n",
       " ('Miscellaneou Proceeding (Civil)',\n",
       "  '1998',\n",
       "  \"\\\\'https://legalref.judiciary.hk/lrs/images/ThemeXP/Epage.gif\\\\'\",\n",
       "  'FAMV17/1998',\n",
       "  'https://legalref.judiciary.hk/lrs/common/ju/ju_frame.jsp?DIS=18359',\n",
       "  '(11/12/1998)',\n",
       "  'LAM MING CHAU v. NG MO FUNG \\xa0'),\n",
       " ('Miscellaneou Proceeding (Civil)',\n",
       "  '1998',\n",
       "  \"\\\\'https://legalref.judiciary.hk/lrs/images/ThemeXP/Epage.gif\\\\'\",\n",
       "  'FAMV18/1998',\n",
       "  'https://legalref.judiciary.hk/lrs/common/ju/ju_frame.jsp?DIS=18442',\n",
       "  '(23/11/1998)',\n",
       "  'LI TAK MING v. SECRETARY FOR JUSTICE \\xa0'),\n",
       " ('Miscellaneou Proceeding (Civil)',\n",
       "  '1998',\n",
       "  \"\\\\'https://legalref.judiciary.hk/lrs/images/ThemeXP/Epage.gif\\\\'\",\n",
       "  'FAMV19/1998',\n",
       "  'https://legalref.judiciary.hk/lrs/common/ju/ju_frame.jsp?DIS=33852',\n",
       "  '(11/12/1998)',\n",
       "  'LIN ZHEN MAN t/a YAT CHONG ELECTRIC CO. v. SOO YUN WAH \\xa0'),\n",
       " ('Miscellaneou Proceeding (Civil)',\n",
       "  '1998',\n",
       "  \"\\\\'https://legalref.judiciary.hk/lrs/images/ThemeXP/Epage.gif\\\\'\",\n",
       "  'FAMV20/1998',\n",
       "  'https://legalref.judiciary.hk/lrs/common/ju/ju_frame.jsp?DIS=33853',\n",
       "  '(11/12/1998)',\n",
       "  'MUI PO CHU v. MOI OAK WAH \\xa0'),\n",
       " ('Miscellaneou Proceeding (Civil)',\n",
       "  '1998',\n",
       "  \"\\\\'https://legalref.judiciary.hk/lrs/images/ThemeXP/Epage.gif\\\\'\",\n",
       "  'FAMV21/1998',\n",
       "  'https://legalref.judiciary.hk/lrs/common/ju/ju_frame.jsp?DIS=18455',\n",
       "  '(21/12/1998)',\n",
       "  'CHAN SIU LUN v. HUI CHO YEE AND ANOTHER \\xa0'),\n",
       " ('Miscellaneou Proceeding (Civil)',\n",
       "  '1998',\n",
       "  \"\\\\'https://legalref.judiciary.hk/lrs/images/ThemeXP/Epage.gif\\\\'\",\n",
       "  'FAMV22/1998',\n",
       "  'https://legalref.judiciary.hk/lrs/common/ju/ju_frame.jsp?DIS=18245',\n",
       "  '(20/01/1999)',\n",
       "  'LO HON SING v. HUI PAK TAI AND ANOTHER \\xa0'),\n",
       " ('Miscellaneou Proceeding (Civil)',\n",
       "  '1998',\n",
       "  \"\\\\'https://legalref.judiciary.hk/lrs/images/ThemeXP/ETpage.gif\\\\'\",\n",
       "  'FAMV23/1998',\n",
       "  'https://legalref.judiciary.hk/lrs/common/ju/ju_frame.jsp?DIS=21706',\n",
       "  '(25/02/1999)',\n",
       "  'CHAN KAM CHUEN v. TSUEN WAN ADVENTIST HOSPITAL AND ANOTHER \\xa0'),\n",
       " ('Miscellaneou Proceeding (Civil)',\n",
       "  '2012',\n",
       "  \"\\\\'https://legalref.judiciary.hk/lrs/images/ThemeXP/Epage.gif\\\\'\",\n",
       "  'FAMV1/2012',\n",
       "  'https://legalref.judiciary.hk/lrs/common/ju/ju_frame.jsp?DIS=81029',\n",
       "  '(28/03/2012)',\n",
       "  'CHUNG YUEN YEE v. SAM WOO BORE PILE FOUNDATION LTD AND OTHERS \\xa0'),\n",
       " ('Miscellaneou Proceeding (Civil)',\n",
       "  '2012',\n",
       "  \"\\\\'https://legalref.judiciary.hk/lrs/images/ThemeXP/Epage.gif\\\\'\",\n",
       "  'FAMV4/2012',\n",
       "  'https://legalref.judiciary.hk/lrs/common/ju/ju_frame.jsp?DIS=81813',\n",
       "  '(24/05/2012)',\n",
       "  'BANK OF CHINA (HONG KONG) LTD v. TWIN PROFIT LTD AND OTHERS \\xa0Reported in :(2012) 15 HKCFAR 560'),\n",
       " ('Miscellaneou Proceeding (Civil)',\n",
       "  '2012',\n",
       "  \"\\\\'https://legalref.judiciary.hk/lrs/images/ThemeXP/Epage.gif\\\\'\",\n",
       "  'FAMV10/2012',\n",
       "  'https://legalref.judiciary.hk/lrs/common/ju/ju_frame.jsp?DIS=81973',\n",
       "  '(01/06/2012)',\n",
       "  'KEWS v. NCHC \\xa0'),\n",
       " ('Miscellaneou Proceeding (Civil)',\n",
       "  '2012',\n",
       "  \"\\\\'https://legalref.judiciary.hk/lrs/images/ThemeXP/Epage.gif\\\\'\",\n",
       "  'FAMV18/2012',\n",
       "  'https://legalref.judiciary.hk/lrs/common/ju/ju_frame.jsp?DIS=85755',\n",
       "  '(21/02/2013)',\n",
       "  'PACIFIC CHINA HOLDINGS LTD (IN LIQUIDIATION) v. GRAND PACIFIC HOLDINGS LTD \\xa0'),\n",
       " ('Miscellaneou Proceeding (Civil)',\n",
       "  '2012',\n",
       "  \"\\\\'https://legalref.judiciary.hk/lrs/images/ThemeXP/Epage.gif\\\\'\",\n",
       "  'FAMV20/2012',\n",
       "  'https://legalref.judiciary.hk/lrs/common/ju/ju_frame.jsp?DIS=85911',\n",
       "  '(28/02/2013)',\n",
       "  'TAM PO KEI v. TAM BO KIN AND OTHERS \\xa0'),\n",
       " ('Miscellaneou Proceeding (Civil)',\n",
       "  '2012',\n",
       "  \"\\\\'https://legalref.judiciary.hk/lrs/images/ThemeXP/Epage.gif\\\\'\",\n",
       "  'FAMV21/2012',\n",
       "  'https://legalref.judiciary.hk/lrs/common/ju/ju_frame.jsp?DIS=85162',\n",
       "  '(10/01/2013)',\n",
       "  'RE HO CHUN YAN, ALBERT \\xa0'),\n",
       " ('Miscellaneou Proceeding (Civil)',\n",
       "  '2012',\n",
       "  \"\\\\'https://legalref.judiciary.hk/lrs/images/ThemeXP/Epage.gif\\\\'\",\n",
       "  'FAMV21/2012',\n",
       "  'https://legalref.judiciary.hk/lrs/common/ju/ju_frame.jsp?DIS=84326',\n",
       "  '(13/11/2012)',\n",
       "  'RE HO CHUN YAN, ALBERT \\xa0Reported in :(2012) 15 HKCFAR 686'),\n",
       " ('Miscellaneou Proceeding (Civil)',\n",
       "  '2012',\n",
       "  \"\\\\'https://legalref.judiciary.hk/lrs/images/ThemeXP/Epage.gif\\\\'\",\n",
       "  'FAMV22/2012',\n",
       "  'https://legalref.judiciary.hk/lrs/common/ju/ju_frame.jsp?DIS=85178',\n",
       "  '(10/01/2013)',\n",
       "  'RE LEUNG KWOK HUNG \\xa0'),\n",
       " ('Miscellaneou Proceeding (Civil)',\n",
       "  '2012',\n",
       "  \"\\\\'https://legalref.judiciary.hk/lrs/images/ThemeXP/Epage.gif\\\\'\",\n",
       "  'FAMV22/2012',\n",
       "  'https://legalref.judiciary.hk/lrs/common/ju/ju_frame.jsp?DIS=84329',\n",
       "  '(13/11/2012)',\n",
       "  'RE LEUNG KWOK HUNG \\xa0Reported in :(2012) 15 HKCFAR 686'),\n",
       " ('Miscellaneou Proceeding (Civil)',\n",
       "  '2012',\n",
       "  \"\\\\'https://legalref.judiciary.hk/lrs/images/ThemeXP/Epage.gif\\\\'\",\n",
       "  'FAMV23/2012',\n",
       "  'https://legalref.judiciary.hk/lrs/common/ju/ju_frame.jsp?DIS=84546',\n",
       "  '(27/11/2012)',\n",
       "  'CHAN CHUN CHUEN v. THE COMMISSIONER OF INLAND REVENUE \\xa0'),\n",
       " ('Miscellaneou Proceeding (Civil)',\n",
       "  '2012',\n",
       "  \"\\\\'https://legalref.judiciary.hk/lrs/images/ThemeXP/Epage.gif\\\\'\",\n",
       "  'FAMV24/2012',\n",
       "  'https://legalref.judiciary.hk/lrs/common/ju/ju_frame.jsp?DIS=85163',\n",
       "  '(10/01/2013)',\n",
       "  'SECRETARY FOR JUSTICE v. HO CHUN YAN, ALBERT AND OTHERS \\xa0'),\n",
       " ('Miscellaneou Proceeding (Civil)',\n",
       "  '2012',\n",
       "  \"\\\\'https://legalref.judiciary.hk/lrs/images/ThemeXP/Epage.gif\\\\'\",\n",
       "  'FAMV24/2012',\n",
       "  'https://legalref.judiciary.hk/lrs/common/ju/ju_frame.jsp?DIS=84330',\n",
       "  '(13/11/2012)',\n",
       "  'SECRETARY FOR JUSTICE v. HO CHUN YAN, ALBERT AND OTHERS \\xa0Reported in :(2012) 15 HKCFAR 686'),\n",
       " ('Miscellaneou Proceeding (Civil)',\n",
       "  '2012',\n",
       "  \"\\\\'https://legalref.judiciary.hk/lrs/images/ThemeXP/Epage.gif\\\\'\",\n",
       "  'FAMV25/2012',\n",
       "  'https://legalref.judiciary.hk/lrs/common/ju/ju_frame.jsp?DIS=85164',\n",
       "  '(10/01/2013)',\n",
       "  'HO CHUN YAN, ALBERT v. LEUNG CHUN YING AND ANOTHER \\xa0'),\n",
       " ('Miscellaneou Proceeding (Civil)',\n",
       "  '2012',\n",
       "  \"\\\\'https://legalref.judiciary.hk/lrs/images/ThemeXP/Epage.gif\\\\'\",\n",
       "  'FAMV25/2012',\n",
       "  'https://legalref.judiciary.hk/lrs/common/ju/ju_frame.jsp?DIS=84331',\n",
       "  '(13/11/2012)',\n",
       "  'HO CHUN YAN, ALBERT v. LEUNG CHUN YING AND ANOTHER \\xa0Reported in :(2012) 15 HKCFAR 686'),\n",
       " ('Miscellaneou Proceeding (Civil)',\n",
       "  '2012',\n",
       "  \"\\\\'https://legalref.judiciary.hk/lrs/images/ThemeXP/Epage.gif\\\\'\",\n",
       "  'FAMV26/2012',\n",
       "  'https://legalref.judiciary.hk/lrs/common/ju/ju_frame.jsp?DIS=85165',\n",
       "  '(10/01/2013)',\n",
       "  'LEUNG CHUN YING v. HO CHUN YAN, ALBERT AND ANOTHER \\xa0'),\n",
       " ('Miscellaneou Proceeding (Civil)',\n",
       "  '2012',\n",
       "  \"\\\\'https://legalref.judiciary.hk/lrs/images/ThemeXP/Epage.gif\\\\'\",\n",
       "  'FAMV26/2012',\n",
       "  'https://legalref.judiciary.hk/lrs/common/ju/ju_frame.jsp?DIS=84332',\n",
       "  '(13/11/2012)',\n",
       "  'LEUNG CHUN YING v. HO CHUN YAN, ALBERT AND ANOTHER \\xa0Reported in :(2012) 15 HKCFAR 686'),\n",
       " ('Miscellaneou Proceeding (Civil)',\n",
       "  '2012',\n",
       "  \"\\\\'https://legalref.judiciary.hk/lrs/images/ThemeXP/Epage.gif\\\\'\",\n",
       "  'FAMV32/2012',\n",
       "  'https://legalref.judiciary.hk/lrs/common/ju/ju_frame.jsp?DIS=85166',\n",
       "  '(10/01/2013)',\n",
       "  'HO CHUN YAN, ALBERT v. LEUNG CHUN YING AND ANOTHER \\xa0'),\n",
       " ('Miscellaneou Proceeding (Civil)',\n",
       "  '2012',\n",
       "  \"\\\\'https://legalref.judiciary.hk/lrs/images/ThemeXP/Epage.gif\\\\'\",\n",
       "  'FAMV32/2012',\n",
       "  'https://legalref.judiciary.hk/lrs/common/ju/ju_frame.jsp?DIS=84333',\n",
       "  '(13/11/2012)',\n",
       "  'HO CHUN YAN, ALBERT v. LEUNG CHUN YING AND ANOTHER \\xa0Reported in :(2012) 15 HKCFAR 686'),\n",
       " ('Miscellaneou Proceeding (Civil)',\n",
       "  '2012',\n",
       "  \"\\\\'https://legalref.judiciary.hk/lrs/images/ThemeXP/Epage.gif\\\\'\",\n",
       "  'FAMV33/2012',\n",
       "  'https://legalref.judiciary.hk/lrs/common/ju/ju_frame.jsp?DIS=85167',\n",
       "  '(10/01/2013)',\n",
       "  'HO CHUN YAN, ALBERT v. LEUNG CHUN YING AND ANOTHER \\xa0'),\n",
       " ('Miscellaneou Proceeding (Civil)',\n",
       "  '2012',\n",
       "  \"\\\\'https://legalref.judiciary.hk/lrs/images/ThemeXP/Epage.gif\\\\'\",\n",
       "  'FAMV33/2012',\n",
       "  'https://legalref.judiciary.hk/lrs/common/ju/ju_frame.jsp?DIS=84334',\n",
       "  '(13/11/2012)',\n",
       "  'HO CHUN YAN, ALBERT v. LEUNG CHUN YING AND ANOTHER \\xa0Reported in :(2012) 15 HKCFAR 686'),\n",
       " ('Miscellaneou Proceeding (Civil)',\n",
       "  '2012',\n",
       "  \"\\\\'https://legalref.judiciary.hk/lrs/images/ThemeXP/Epage.gif\\\\'\",\n",
       "  'FAMV34/2012',\n",
       "  'https://legalref.judiciary.hk/lrs/common/ju/ju_frame.jsp?DIS=85168',\n",
       "  '(10/01/2013)',\n",
       "  'LEUNG CHUN YING v. HO CHUN YAN, ALBERT AND ANOTHER \\xa0'),\n",
       " ('Miscellaneou Proceeding (Civil)',\n",
       "  '2012',\n",
       "  \"\\\\'https://legalref.judiciary.hk/lrs/images/ThemeXP/Epage.gif\\\\'\",\n",
       "  'FAMV34/2012',\n",
       "  'https://legalref.judiciary.hk/lrs/common/ju/ju_frame.jsp?DIS=84335',\n",
       "  '(13/11/2012)',\n",
       "  'LEUNG CHUN YING v. HO CHUN YAN, ALBERT AND ANOTHER \\xa0Reported in :(2012) 15 HKCFAR 686'),\n",
       " ('Miscellaneou Proceeding (Civil)',\n",
       "  '2012',\n",
       "  \"\\\\'https://legalref.judiciary.hk/lrs/images/ThemeXP/Epage.gif\\\\'\",\n",
       "  'FAMV35/2012',\n",
       "  'https://legalref.judiciary.hk/lrs/common/ju/ju_frame.jsp?DIS=84915',\n",
       "  '(18/12/2012)',\n",
       "  'WNWG v. PBF \\xa0'),\n",
       " ('Miscellaneou Proceeding (Civil)',\n",
       "  '2012',\n",
       "  \"\\\\'https://legalref.judiciary.hk/lrs/images/ThemeXP/Epage.gif\\\\'\",\n",
       "  'FAMV36/2012',\n",
       "  'https://legalref.judiciary.hk/lrs/common/ju/ju_frame.jsp?DIS=84793',\n",
       "  '(11/12/2012)',\n",
       "  'DAIMLER AG (formerly MERCEDES-BENZ AG) v. LEIDUCK, HERBERT HEINZ HORST AND ANOTHER \\xa0'),\n",
       " ('Miscellaneou Proceeding (Civil)',\n",
       "  '2012',\n",
       "  \"\\\\'https://legalref.judiciary.hk/lrs/images/ThemeXP/Epage.gif\\\\'\",\n",
       "  'FAMV37/2012',\n",
       "  'https://legalref.judiciary.hk/lrs/common/ju/ju_frame.jsp?DIS=88162',\n",
       "  '(17/07/2013)',\n",
       "  'CHEUNG CHI PO v. KE JUN XIANG \\xa0'),\n",
       " ('Miscellaneou Proceeding (Civil)',\n",
       "  '2000',\n",
       "  \"\\\\'https://legalref.judiciary.hk/lrs/images/ThemeXP/Epage.gif\\\\'\",\n",
       "  'FAMV1/2000',\n",
       "  'https://legalref.judiciary.hk/lrs/common/ju/ju_frame.jsp?DIS=33492',\n",
       "  '(17/03/2000)',\n",
       "  'SUN WAI CHUN v. FAIRVIEW PARK PROPERTY MANAGEMENT LTD. \\xa0'),\n",
       " ('Miscellaneou Proceeding (Civil)',\n",
       "  '2000',\n",
       "  \"\\\\'https://legalref.judiciary.hk/lrs/images/ThemeXP/Epage.gif\\\\'\",\n",
       "  'FAMV2/2000',\n",
       "  'https://legalref.judiciary.hk/lrs/common/ju/ju_frame.jsp?DIS=36948',\n",
       "  '(28/01/2000)',\n",
       "  'APPLE DAILY LTD. v. THE COMMISSIONER OF THE INDEPENDENT COMMISSION AGAINST CORRUPTION \\xa0Reported in :[2000] 1 HKLRD 682; (2000) 3 HKCFAR 26'),\n",
       " ('Miscellaneou Proceeding (Civil)',\n",
       "  '2000',\n",
       "  \"\\\\'https://legalref.judiciary.hk/lrs/images/ThemeXP/Epage.gif\\\\'\",\n",
       "  'FAMV3/2000',\n",
       "  'https://legalref.judiciary.hk/lrs/common/ju/ju_frame.jsp?DIS=21865',\n",
       "  '(17/03/2000)',\n",
       "  \"CHENG YIN FONG v. SIU ON COURT OWNER\\\\'S CORPORATION c/o CHESTERTON PETTY PROPERTY MANAGEMENT LTD. \\xa0\"),\n",
       " ('Miscellaneou Proceeding (Civil)',\n",
       "  '2000',\n",
       "  \"\\\\'https://legalref.judiciary.hk/lrs/images/ThemeXP/Epage.gif\\\\'\",\n",
       "  'FAMV4/2000',\n",
       "  'https://legalref.judiciary.hk/lrs/common/ju/ju_frame.jsp?DIS=20170',\n",
       "  '(24/03/2000)',\n",
       "  'HONG KONG HOUSING SOCIETY v. TANG KAR HUNG \\xa0'),\n",
       " ('Miscellaneou Proceeding (Civil)',\n",
       "  '2000',\n",
       "  \"\\\\'https://legalref.judiciary.hk/lrs/images/ThemeXP/ETpage.gif\\\\'\",\n",
       "  'FAMV8/2000',\n",
       "  'https://legalref.judiciary.hk/lrs/common/ju/ju_frame.jsp?DIS=22252',\n",
       "  '(05/05/2000)',\n",
       "  'LAM CHI KIT v. CHEUNG KAM YIN \\xa0'),\n",
       " ('Miscellaneou Proceeding (Civil)',\n",
       "  '2000',\n",
       "  \"\\\\'https://legalref.judiciary.hk/lrs/images/ThemeXP/Epage.gif\\\\'\",\n",
       "  'FAMV9/2000',\n",
       "  'https://legalref.judiciary.hk/lrs/common/ju/ju_frame.jsp?DIS=34079',\n",
       "  '(27/06/2000)',\n",
       "  'WONG TAK WOON v. SECRETARY FOR PLANNING, ENVIRONMENT AND LANDS \\xa0'),\n",
       " ('Miscellaneou Proceeding (Civil)',\n",
       "  '2000',\n",
       "  \"\\\\'https://legalref.judiciary.hk/lrs/images/ThemeXP/Epage.gif\\\\'\",\n",
       "  'FAMV10/2000',\n",
       "  'https://legalref.judiciary.hk/lrs/common/ju/ju_frame.jsp?DIS=33686',\n",
       "  '(17/04/2000)',\n",
       "  'CHONG BING KEUNG, PETER v. THE GOVERNMENT OF THE UNITED STATES OF AMERICA AND ANOTHER \\xa0'),\n",
       " ('Miscellaneou Proceeding (Civil)',\n",
       "  '2000',\n",
       "  \"\\\\'https://legalref.judiciary.hk/lrs/images/ThemeXP/ETpage.gif\\\\'\",\n",
       "  'FAMV11/2000',\n",
       "  'https://legalref.judiciary.hk/lrs/common/ju/ju_frame.jsp?DIS=20848',\n",
       "  '(27/06/2000)',\n",
       "  'CHAN HO YIN v. THE HOSPITAL AUTHORITY AND OTHERS \\xa0'),\n",
       " ('Miscellaneou Proceeding (Civil)',\n",
       "  '2000',\n",
       "  \"\\\\'https://legalref.judiciary.hk/lrs/images/ThemeXP/Epage.gif\\\\'\",\n",
       "  'FAMV12/2000',\n",
       "  'https://legalref.judiciary.hk/lrs/common/ju/ju_frame.jsp?DIS=20608',\n",
       "  '(18/05/2000)',\n",
       "  'TSUI WAI CHAU v. EDMUND CHEUNG & CO. (A FIRM) AND ANOTHER \\xa0'),\n",
       " ('Miscellaneou Proceeding (Civil)',\n",
       "  '2000',\n",
       "  \"\\\\'https://legalref.judiciary.hk/lrs/images/ThemeXP/ETpage.gif\\\\'\",\n",
       "  'FAMV13/2000',\n",
       "  'https://legalref.judiciary.hk/lrs/common/ju/ju_frame.jsp?DIS=20849',\n",
       "  '(22/06/2000)',\n",
       "  'WONG KAM CHEUNG v. HKSAR \\xa0'),\n",
       " ('Miscellaneou Proceeding (Civil)',\n",
       "  '2000',\n",
       "  \"\\\\'https://legalref.judiciary.hk/lrs/images/ThemeXP/Epage.gif\\\\'\",\n",
       "  'FAMV14/2000',\n",
       "  'https://legalref.judiciary.hk/lrs/common/ju/ju_frame.jsp?DIS=20850',\n",
       "  '(30/06/2000)',\n",
       "  'WONG CHEUNG SUM v. CHU KONG HIGHWAY ENGINEERING CO. LTD. \\xa0'),\n",
       " ('Miscellaneou Proceeding (Civil)',\n",
       "  '2000',\n",
       "  \"\\\\'https://legalref.judiciary.hk/lrs/images/ThemeXP/Epage.gif\\\\'\",\n",
       "  'FAMV15/2000',\n",
       "  'https://legalref.judiciary.hk/lrs/common/ju/ju_frame.jsp?DIS=34080',\n",
       "  '(30/06/2000)',\n",
       "  'LAM LIN TIM, PATRICK v. LAU MEN KIN, JOHNSON \\xa0'),\n",
       " ('Miscellaneou Proceeding (Civil)',\n",
       "  '2000',\n",
       "  \"\\\\'https://legalref.judiciary.hk/lrs/images/ThemeXP/Epage.gif\\\\'\",\n",
       "  'FAMV16/2000',\n",
       "  'https://legalref.judiciary.hk/lrs/common/ju/ju_frame.jsp?DIS=34188',\n",
       "  '(07/07/2000)',\n",
       "  'HO KAM YUEN v. TUNG CHEE HWA \\xa0'),\n",
       " ('Miscellaneou Proceeding (Civil)',\n",
       "  '2000',\n",
       "  \"\\\\'https://legalref.judiciary.hk/lrs/images/ThemeXP/Epage.gif\\\\'\",\n",
       "  'FAMV18/2000',\n",
       "  'https://legalref.judiciary.hk/lrs/common/ju/ju_frame.jsp?DIS=20751',\n",
       "  '(23/06/2000)',\n",
       "  'MUI PO CHU v. MOI OAK WAH \\xa0'),\n",
       " ('Miscellaneou Proceeding (Civil)',\n",
       "  '2000',\n",
       "  \"\\\\'https://legalref.judiciary.hk/lrs/images/ThemeXP/Epage.gif\\\\'\",\n",
       "  'FAMV19/2000',\n",
       "  'https://legalref.judiciary.hk/lrs/common/ju/ju_frame.jsp?DIS=33503',\n",
       "  '(22/11/2000)',\n",
       "  'FRANCIS CHEUNG AND ANOTHER v. INSIDER DEALING TRIBUNAL \\xa0Reported in :[2001] 1 HKLRD 68; (2000) 3 HKCFAR 380'),\n",
       " ('Miscellaneou Proceeding (Civil)',\n",
       "  '2000',\n",
       "  \"\\\\'https://legalref.judiciary.hk/lrs/images/ThemeXP/Epage.gif\\\\'\",\n",
       "  'FAMV20/2000',\n",
       "  'https://legalref.judiciary.hk/lrs/common/ju/ju_frame.jsp?DIS=34202',\n",
       "  '(25/07/2000)',\n",
       "  'A SOLICITOR v. LAW SOCIETY OF HONG KONG \\xa0'),\n",
       " ('Miscellaneou Proceeding (Civil)',\n",
       "  '2000',\n",
       "  \"\\\\'https://legalref.judiciary.hk/lrs/images/ThemeXP/Epage.gif\\\\'\",\n",
       "  'FAMV21/2000',\n",
       "  'https://legalref.judiciary.hk/lrs/common/ju/ju_frame.jsp?DIS=20972',\n",
       "  '(25/07/2000)',\n",
       "  'SHIH MEI CHIN v. JOHNSON STOKES & MASTERS \\xa0'),\n",
       " ('Miscellaneou Proceeding (Civil)',\n",
       "  '2000',\n",
       "  \"\\\\'https://legalref.judiciary.hk/lrs/images/ThemeXP/Epage.gif\\\\'\",\n",
       "  'FAMV22/2000',\n",
       "  'https://legalref.judiciary.hk/lrs/common/ju/ju_frame.jsp?DIS=18966',\n",
       "  '(04/09/2000)',\n",
       "  'TONG WAI TAK AND ANOTHER v. THE INCORPORATED OWNERS OF TAK CHEONG BUILDING (BATTERY STREET) \\xa0'),\n",
       " ('Miscellaneou Proceeding (Civil)',\n",
       "  '2000',\n",
       "  \"\\\\'https://legalref.judiciary.hk/lrs/images/ThemeXP/Epage.gif\\\\'\",\n",
       "  'FAMV25/2000',\n",
       "  'https://legalref.judiciary.hk/lrs/common/ju/ju_frame.jsp?DIS=18967',\n",
       "  '(07/09/2000)',\n",
       "  'PAUL KI PING KI AND ANOTHER v. ORIENTAL DAILY PUBLISHER LTD. AND OTHERS \\xa0'),\n",
       " ('Miscellaneou Proceeding (Civil)',\n",
       "  '2000',\n",
       "  \"\\\\'https://legalref.judiciary.hk/lrs/images/ThemeXP/Epage.gif\\\\'\",\n",
       "  'FAMV26/2000',\n",
       "  'https://legalref.judiciary.hk/lrs/common/ju/ju_frame.jsp?DIS=21515',\n",
       "  '(22/12/2000)',\n",
       "  'B + B CONSTRUCTION LTD. v. SUN ALLIANCE AND LONDON INSURANCE plc. \\xa0Reported in :(2000) 3 HKCFAR 503; [2001] 1 HKLRD 1'),\n",
       " ('Miscellaneou Proceeding (Civil)',\n",
       "  '2000',\n",
       "  \"\\\\'https://legalref.judiciary.hk/lrs/images/ThemeXP/Epage.gif\\\\'\",\n",
       "  'FAMV27/2000',\n",
       "  'https://legalref.judiciary.hk/lrs/common/ju/ju_frame.jsp?DIS=19628',\n",
       "  '(20/10/2000)',\n",
       "  'Michelle Chen Shaw v. Kyle Arnole Shaw Jr. \\xa0'),\n",
       " ('Miscellaneou Proceeding (Civil)',\n",
       "  '2000',\n",
       "  \"\\\\'https://legalref.judiciary.hk/lrs/images/ThemeXP/Cpage.gif\\\\'\",\n",
       "  'FAMV28/2000',\n",
       "  'https://legalref.judiciary.hk/lrs/common/ju/ju_frame.jsp?DIS=27527',\n",
       "  '(20/10/2000)',\n",
       "  '鄭燕芳 訴 區域市政總署（區域市政局） \\xa0'),\n",
       " ('Miscellaneou Proceeding (Civil)',\n",
       "  '2000',\n",
       "  \"\\\\'https://legalref.judiciary.hk/lrs/images/ThemeXP/Epage.gif\\\\'\",\n",
       "  'FAMV29/2000',\n",
       "  'https://legalref.judiciary.hk/lrs/common/ju/ju_frame.jsp?DIS=21377',\n",
       "  '(08/12/2000)',\n",
       "  'Lee Pui Kuen v. Asia Television Ltd. \\xa0'),\n",
       " ('Miscellaneou Proceeding (Civil)',\n",
       "  '2000',\n",
       "  \"\\\\'https://legalref.judiciary.hk/lrs/images/ThemeXP/Epage.gif\\\\'\",\n",
       "  'FAMV30/2000',\n",
       "  'https://legalref.judiciary.hk/lrs/common/ju/ju_frame.jsp?DIS=21516',\n",
       "  '(19/12/2000)',\n",
       "  'HO KWOK WAH v. GROUP BROTHERS LTD. AND ANOTHER \\xa0'),\n",
       " ('Miscellaneou Proceeding (Civil)',\n",
       "  '2000',\n",
       "  \"\\\\'https://legalref.judiciary.hk/lrs/images/ThemeXP/ETpage.gif\\\\'\",\n",
       "  'FAMV31/2000',\n",
       "  'https://legalref.judiciary.hk/lrs/common/ju/ju_frame.jsp?DIS=19787',\n",
       "  '(17/11/2000)',\n",
       "  'SHIH MEI CHIN v. THE LAW SOCIETY OF HONG KONG \\xa0'),\n",
       " ('Miscellaneou Proceeding (Civil)',\n",
       "  '2000',\n",
       "  \"\\\\'https://legalref.judiciary.hk/lrs/images/ThemeXP/Epage.gif\\\\'\",\n",
       "  'FAMV32/2000',\n",
       "  'https://legalref.judiciary.hk/lrs/common/ju/ju_frame.jsp?DIS=21378',\n",
       "  '(08/12/2000)',\n",
       "  'DR PAUL KI PING KI v. NEXT MAGAZINE PUBLISHING LTD. AND OTHERS \\xa0'),\n",
       " ('Miscellaneou Proceeding (Civil)',\n",
       "  '2000',\n",
       "  \"\\\\'https://legalref.judiciary.hk/lrs/images/ThemeXP/Epage.gif\\\\'\",\n",
       "  'FAMV33/2000',\n",
       "  'https://legalref.judiciary.hk/lrs/common/ju/ju_frame.jsp?DIS=33715',\n",
       "  '(08/01/2001)',\n",
       "  'CHAU CHIU YEE v. CHEUNG LUNG AND ANOTHER \\xa0'),\n",
       " ('Miscellaneou Proceeding (Civil)',\n",
       "  '2000',\n",
       "  \"\\\\'https://legalref.judiciary.hk/lrs/images/ThemeXP/Cpage.gif\\\\'\",\n",
       "  'FAMV35/2000',\n",
       "  'https://legalref.judiciary.hk/lrs/common/ju/ju_frame.jsp?DIS=27529',\n",
       "  '(08/01/2001)',\n",
       "  '方忠和 訴 蔡彪 \\xa0'),\n",
       " ('Miscellaneou Proceeding (Civil)',\n",
       "  '2001',\n",
       "  \"\\\\'https://legalref.judiciary.hk/lrs/images/ThemeXP/Cpage.gif\\\\'\",\n",
       "  'FAMV1/2001',\n",
       "  'https://legalref.judiciary.hk/lrs/common/ju/ju_frame.jsp?DIS=21463',\n",
       "  '(16/02/2001)',\n",
       "  '黃港明 訴 香港上海匯豐銀行有限公司 \\xa0'),\n",
       " ('Miscellaneou Proceeding (Civil)',\n",
       "  '2001',\n",
       "  \"\\\\'https://legalref.judiciary.hk/lrs/images/ThemeXP/Cpage.gif\\\\'\",\n",
       "  'FAMV2/2001',\n",
       "  'https://legalref.judiciary.hk/lrs/common/ju/ju_frame.jsp?DIS=21464',\n",
       "  '(16/02/2001)',\n",
       "  '蘇覺 訴 房屋委員會 \\xa0'),\n",
       " ('Miscellaneou Proceeding (Civil)',\n",
       "  '2001',\n",
       "  \"\\\\'https://legalref.judiciary.hk/lrs/images/ThemeXP/Epage.gif\\\\'\",\n",
       "  'FAMV3/2001',\n",
       "  'https://legalref.judiciary.hk/lrs/common/ju/ju_frame.jsp?DIS=21882',\n",
       "  '(28/03/2001)',\n",
       "  'TSE JEEKEEN v. \"H.K. ALLIANCE IN SUPPORT OF PATRIOTIC DEMOCRATIC MOVEMENT OF CHINA\" & ITS CHAIRMAN MR. SZETO WAH AND OTHERS \\xa0'),\n",
       " ('Miscellaneou Proceeding (Civil)',\n",
       "  '2001',\n",
       "  \"\\\\'https://legalref.judiciary.hk/lrs/images/ThemeXP/Epage.gif\\\\'\",\n",
       "  'FAMV4/2001',\n",
       "  'https://legalref.judiciary.hk/lrs/common/ju/ju_frame.jsp?DIS=94544',\n",
       "  '(09/03/2001)',\n",
       "  'H v. H \\xa0'),\n",
       " ...]"
      ]
     },
     "execution_count": 26,
     "metadata": {},
     "output_type": "execute_result"
    }
   ],
   "source": [
    "def collect_data(length):\n",
    "    data_ = []\n",
    "    for i in range(length):\n",
    "        f = open(str(i)+'.pickle', 'rb')\n",
    "        one = pickle.load(f)\n",
    "        data_.extend(one)\n",
    "    return data_\n",
    "\n",
    "length = len(df_years)\n",
    "data_ = collect_data(length)\n",
    "data_"
   ]
  },
  {
   "cell_type": "code",
   "execution_count": 27,
   "metadata": {},
   "outputs": [
    {
     "name": "stdout",
     "output_type": "stream",
     "text": [
      "(28967, 7)\n"
     ]
    },
    {
     "data": {
      "text/html": [
       "<div>\n",
       "<style scoped>\n",
       "    .dataframe tbody tr th:only-of-type {\n",
       "        vertical-align: middle;\n",
       "    }\n",
       "\n",
       "    .dataframe tbody tr th {\n",
       "        vertical-align: top;\n",
       "    }\n",
       "\n",
       "    .dataframe thead th {\n",
       "        text-align: right;\n",
       "    }\n",
       "</style>\n",
       "<table border=\"1\" class=\"dataframe\">\n",
       "  <thead>\n",
       "    <tr style=\"text-align: right;\">\n",
       "      <th></th>\n",
       "      <th>sub_court_cleared</th>\n",
       "      <th>year</th>\n",
       "      <th>outcome</th>\n",
       "      <th>name</th>\n",
       "      <th>detail_url</th>\n",
       "      <th>date</th>\n",
       "      <th>persons</th>\n",
       "    </tr>\n",
       "  </thead>\n",
       "  <tbody>\n",
       "    <tr>\n",
       "      <th>0</th>\n",
       "      <td>Final Appeal (Civil)</td>\n",
       "      <td>2011</td>\n",
       "      <td>\\'https://legalref.judiciary.hk/lrs/images/ThemeXP/Epage.gif\\'</td>\n",
       "      <td>FACV1/2011</td>\n",
       "      <td>https://legalref.judiciary.hk/lrs/common/ju/ju_frame.jsp?DIS=79800</td>\n",
       "      <td>(06/01/2012)</td>\n",
       "      <td>THE CATHOLIC DIOCESE OF HONG KONG ALSO KNOWN AS THE BISHOP OF THE ROMAN CATHOLIC CHURCH IN HONG KONG INCORPORATION  v. SECRETARY FOR JUSTICE</td>\n",
       "    </tr>\n",
       "    <tr>\n",
       "      <th>1</th>\n",
       "      <td>Final Appeal (Civil)</td>\n",
       "      <td>2011</td>\n",
       "      <td>\\'https://legalref.judiciary.hk/lrs/images/ThemeXP/Epage.gif\\'</td>\n",
       "      <td>FACV1/2011</td>\n",
       "      <td>https://legalref.judiciary.hk/lrs/common/ju/ju_frame.jsp?DIS=78563</td>\n",
       "      <td>(13/10/2011)</td>\n",
       "      <td>THE CATHOLIC DIOCESE OF HONG KONG ALSO KNOWN AS THE BISHOP OF THE ROMAN CATHOLIC CHURCH IN HONG KONG INCORPORATION v. SECRETARY FOR JUSTICE  Reported in :(2011) 14 HKCFAR 754</td>\n",
       "    </tr>\n",
       "    <tr>\n",
       "      <th>2</th>\n",
       "      <td>Final Appeal (Civil)</td>\n",
       "      <td>2011</td>\n",
       "      <td>\\'https://legalref.judiciary.hk/lrs/images/ThemeXP/ETpage.gif\\'</td>\n",
       "      <td>FACV2/2011</td>\n",
       "      <td>https://legalref.judiciary.hk/lrs/common/ju/ju_frame.jsp?DIS=79162</td>\n",
       "      <td>(23/11/2011)</td>\n",
       "      <td>WEALTH DUKE LTD AND OTHERS v. BANK OF CHINA (HONG KONG) LTD  Reported in :(2011) 14 HKCFAR 863</td>\n",
       "    </tr>\n",
       "  </tbody>\n",
       "</table>\n",
       "</div>"
      ],
      "text/plain": [
       "      sub_court_cleared  year  \\\n",
       "0  Final Appeal (Civil)  2011   \n",
       "1  Final Appeal (Civil)  2011   \n",
       "2  Final Appeal (Civil)  2011   \n",
       "\n",
       "                                                           outcome  \\\n",
       "0   \\'https://legalref.judiciary.hk/lrs/images/ThemeXP/Epage.gif\\'   \n",
       "1   \\'https://legalref.judiciary.hk/lrs/images/ThemeXP/Epage.gif\\'   \n",
       "2  \\'https://legalref.judiciary.hk/lrs/images/ThemeXP/ETpage.gif\\'   \n",
       "\n",
       "         name  \\\n",
       "0  FACV1/2011   \n",
       "1  FACV1/2011   \n",
       "2  FACV2/2011   \n",
       "\n",
       "                                                           detail_url  \\\n",
       "0  https://legalref.judiciary.hk/lrs/common/ju/ju_frame.jsp?DIS=79800   \n",
       "1  https://legalref.judiciary.hk/lrs/common/ju/ju_frame.jsp?DIS=78563   \n",
       "2  https://legalref.judiciary.hk/lrs/common/ju/ju_frame.jsp?DIS=79162   \n",
       "\n",
       "           date  \\\n",
       "0  (06/01/2012)   \n",
       "1  (13/10/2011)   \n",
       "2  (23/11/2011)   \n",
       "\n",
       "                                                                                                                                                                          persons  \n",
       "0                                  THE CATHOLIC DIOCESE OF HONG KONG ALSO KNOWN AS THE BISHOP OF THE ROMAN CATHOLIC CHURCH IN HONG KONG INCORPORATION  v. SECRETARY FOR JUSTICE    \n",
       "1  THE CATHOLIC DIOCESE OF HONG KONG ALSO KNOWN AS THE BISHOP OF THE ROMAN CATHOLIC CHURCH IN HONG KONG INCORPORATION v. SECRETARY FOR JUSTICE  Reported in :(2011) 14 HKCFAR 754  \n",
       "2                                                                                  WEALTH DUKE LTD AND OTHERS v. BANK OF CHINA (HONG KONG) LTD  Reported in :(2011) 14 HKCFAR 863  "
      ]
     },
     "execution_count": 27,
     "metadata": {},
     "output_type": "execute_result"
    }
   ],
   "source": [
    "def get_dataframe(data_):\n",
    "    df = pd.DataFrame(data_, columns=['sub_court_cleared', 'year', 'outcome', \\\n",
    "                                      'name', 'detail_url', 'date', 'persons'])\n",
    "    return df\n",
    "df_details = get_dataframe(data_)\n",
    "print(df_details.shape)\n",
    "df_details.head(3)"
   ]
  },
  {
   "cell_type": "code",
   "execution_count": 43,
   "metadata": {},
   "outputs": [],
   "source": [
    "with open('details.pickle', 'wb') as ww:\n",
    "    pickle.dump(df_details, ww)"
   ]
  },
  {
   "cell_type": "code",
   "execution_count": 7,
   "metadata": {},
   "outputs": [],
   "source": [
    "f = open('details.pickle', 'rb')\n",
    "df_details = pickle.load(f)"
   ]
  },
  {
   "cell_type": "markdown",
   "metadata": {},
   "source": [
    "## combine all"
   ]
  },
  {
   "cell_type": "code",
   "execution_count": 8,
   "metadata": {},
   "outputs": [
    {
     "data": {
      "text/plain": [
       "year                 object\n",
       "year_url             object\n",
       "sub_court_cleared    object\n",
       "dtype: object"
      ]
     },
     "execution_count": 8,
     "metadata": {},
     "output_type": "execute_result"
    }
   ],
   "source": [
    "df_years.dtypes"
   ]
  },
  {
   "cell_type": "code",
   "execution_count": 9,
   "metadata": {},
   "outputs": [
    {
     "data": {
      "text/plain": [
       "sub_court            object\n",
       "sub_court_cleared    object\n",
       "sub_court_url        object\n",
       "parent_court         object\n",
       "parent_court_url     object\n",
       "dtype: object"
      ]
     },
     "execution_count": 9,
     "metadata": {},
     "output_type": "execute_result"
    }
   ],
   "source": [
    "df_all.dtypes"
   ]
  },
  {
   "cell_type": "code",
   "execution_count": 10,
   "metadata": {},
   "outputs": [
    {
     "data": {
      "text/plain": [
       "sub_court_cleared    object\n",
       "year                 object\n",
       "outcome              object\n",
       "name                 object\n",
       "detail_url           object\n",
       "date                 object\n",
       "persons              object\n",
       "dtype: object"
      ]
     },
     "execution_count": 10,
     "metadata": {},
     "output_type": "execute_result"
    }
   ],
   "source": [
    "df_details.dtypes"
   ]
  },
  {
   "cell_type": "code",
   "execution_count": 11,
   "metadata": {},
   "outputs": [
    {
     "data": {
      "text/plain": [
       "(28967, 7)"
      ]
     },
     "execution_count": 11,
     "metadata": {},
     "output_type": "execute_result"
    }
   ],
   "source": [
    "df_details.shape"
   ]
  },
  {
   "cell_type": "code",
   "execution_count": 12,
   "metadata": {},
   "outputs": [
    {
     "data": {
      "text/plain": [
       "(38481, 8)"
      ]
     },
     "execution_count": 12,
     "metadata": {},
     "output_type": "execute_result"
    }
   ],
   "source": [
    "df2 = pd.merge(df_details, df_years, how='left', on=['sub_court_cleared', 'year'])\n",
    "df2.shape"
   ]
  },
  {
   "cell_type": "code",
   "execution_count": 17,
   "metadata": {},
   "outputs": [],
   "source": [
    "df3 = df2.drop_duplicates()"
   ]
  },
  {
   "cell_type": "code",
   "execution_count": 18,
   "metadata": {},
   "outputs": [
    {
     "data": {
      "text/plain": [
       "(24258, 8)"
      ]
     },
     "execution_count": 18,
     "metadata": {},
     "output_type": "execute_result"
    }
   ],
   "source": [
    "df3.shape"
   ]
  },
  {
   "cell_type": "code",
   "execution_count": 13,
   "metadata": {},
   "outputs": [
    {
     "name": "stdout",
     "output_type": "stream",
     "text": [
      "(88, 5)\n",
      "(88, 5)\n"
     ]
    }
   ],
   "source": [
    "def dupli(df2):\n",
    "    print(df2.shape)\n",
    "    df3 = df2.drop_duplicates()\n",
    "    print(df3.shape)\n",
    "    return \n",
    "dupli(df_all)"
   ]
  },
  {
   "cell_type": "code",
   "execution_count": 14,
   "metadata": {},
   "outputs": [
    {
     "name": "stdout",
     "output_type": "stream",
     "text": [
      "(1641, 3)\n",
      "(1412, 3)\n"
     ]
    }
   ],
   "source": [
    "dupli(df_years)"
   ]
  },
  {
   "cell_type": "code",
   "execution_count": 15,
   "metadata": {},
   "outputs": [
    {
     "name": "stdout",
     "output_type": "stream",
     "text": [
      "(28967, 7)\n",
      "(24258, 7)\n"
     ]
    }
   ],
   "source": [
    "dupli(df_details)"
   ]
  },
  {
   "cell_type": "code",
   "execution_count": 19,
   "metadata": {},
   "outputs": [
    {
     "data": {
      "text/plain": [
       "(28967, 12)"
      ]
     },
     "execution_count": 19,
     "metadata": {},
     "output_type": "execute_result"
    }
   ],
   "source": [
    "df_fin = pd.merge(df3, df_all, how='left', on=['sub_court_cleared'])\n",
    "df_fin.shape"
   ]
  },
  {
   "cell_type": "code",
   "execution_count": 20,
   "metadata": {},
   "outputs": [
    {
     "name": "stdout",
     "output_type": "stream",
     "text": [
      "(28967, 12)\n"
     ]
    },
    {
     "data": {
      "text/plain": [
       "(28967, 12)"
      ]
     },
     "execution_count": 20,
     "metadata": {},
     "output_type": "execute_result"
    }
   ],
   "source": [
    "print(df_fin.shape)\n",
    "df5 = df_fin.drop_duplicates()\n",
    "df5.shape"
   ]
  },
  {
   "cell_type": "code",
   "execution_count": 24,
   "metadata": {},
   "outputs": [
    {
     "data": {
      "text/html": [
       "<div>\n",
       "<style scoped>\n",
       "    .dataframe tbody tr th:only-of-type {\n",
       "        vertical-align: middle;\n",
       "    }\n",
       "\n",
       "    .dataframe tbody tr th {\n",
       "        vertical-align: top;\n",
       "    }\n",
       "\n",
       "    .dataframe thead th {\n",
       "        text-align: right;\n",
       "    }\n",
       "</style>\n",
       "<table border=\"1\" class=\"dataframe\">\n",
       "  <thead>\n",
       "    <tr style=\"text-align: right;\">\n",
       "      <th></th>\n",
       "      <th>sub_court_cleared</th>\n",
       "      <th>year</th>\n",
       "      <th>outcome</th>\n",
       "      <th>name</th>\n",
       "      <th>detail_url</th>\n",
       "      <th>date</th>\n",
       "      <th>persons</th>\n",
       "      <th>year_url</th>\n",
       "      <th>sub_court</th>\n",
       "      <th>sub_court_url</th>\n",
       "      <th>parent_court</th>\n",
       "      <th>parent_court_url</th>\n",
       "    </tr>\n",
       "  </thead>\n",
       "  <tbody>\n",
       "    <tr>\n",
       "      <th>0</th>\n",
       "      <td>Final Appeal (Civil)</td>\n",
       "      <td>2011</td>\n",
       "      <td>\\'https://legalref.judiciary.hk/lrs/images/ThemeXP/Epage.gif\\'</td>\n",
       "      <td>FACV1/2011</td>\n",
       "      <td>https://legalref.judiciary.hk/lrs/common/ju/ju_frame.jsp?DIS=79800</td>\n",
       "      <td>(06/01/2012)</td>\n",
       "      <td>THE CATHOLIC DIOCESE OF HONG KONG ALSO KNOWN AS THE BISHOP OF THE ROMAN CATHOLIC CHURCH IN HONG KONG INCORPORATION  v. SECRETARY FOR JUSTICE</td>\n",
       "      <td>https://legalref.judiciary.hk/lrs/common/ju/judgment.jsp?EX=T&amp;L1=FA&amp;L2=CV&amp;L3=2011&amp;AR=1_8#A1_8</td>\n",
       "      <td>Final Appeal (Civil)</td>\n",
       "      <td>https://legalref.judiciary.hk/lrs/common/ju/judgment.jsp?L1=FA&amp;L2=CV&amp;AR=1#A1</td>\n",
       "      <td>Court of Final Appeal</td>\n",
       "      <td>https://legalref.judiciary.hk/lrs/common/ju/judgment.jsp?L1=FA#H1</td>\n",
       "    </tr>\n",
       "  </tbody>\n",
       "</table>\n",
       "</div>"
      ],
      "text/plain": [
       "      sub_court_cleared  year  \\\n",
       "0  Final Appeal (Civil)  2011   \n",
       "\n",
       "                                                          outcome        name  \\\n",
       "0  \\'https://legalref.judiciary.hk/lrs/images/ThemeXP/Epage.gif\\'  FACV1/2011   \n",
       "\n",
       "                                                           detail_url  \\\n",
       "0  https://legalref.judiciary.hk/lrs/common/ju/ju_frame.jsp?DIS=79800   \n",
       "\n",
       "           date  \\\n",
       "0  (06/01/2012)   \n",
       "\n",
       "                                                                                                                                          persons  \\\n",
       "0  THE CATHOLIC DIOCESE OF HONG KONG ALSO KNOWN AS THE BISHOP OF THE ROMAN CATHOLIC CHURCH IN HONG KONG INCORPORATION  v. SECRETARY FOR JUSTICE     \n",
       "\n",
       "                                                                                        year_url  \\\n",
       "0  https://legalref.judiciary.hk/lrs/common/ju/judgment.jsp?EX=T&L1=FA&L2=CV&L3=2011&AR=1_8#A1_8   \n",
       "\n",
       "              sub_court  \\\n",
       "0  Final Appeal (Civil)   \n",
       "\n",
       "                                                                  sub_court_url  \\\n",
       "0  https://legalref.judiciary.hk/lrs/common/ju/judgment.jsp?L1=FA&L2=CV&AR=1#A1   \n",
       "\n",
       "            parent_court  \\\n",
       "0  Court of Final Appeal   \n",
       "\n",
       "                                                    parent_court_url  \n",
       "0  https://legalref.judiciary.hk/lrs/common/ju/judgment.jsp?L1=FA#H1  "
      ]
     },
     "execution_count": 24,
     "metadata": {},
     "output_type": "execute_result"
    }
   ],
   "source": [
    "df5.head(1)"
   ]
  },
  {
   "cell_type": "code",
   "execution_count": 22,
   "metadata": {},
   "outputs": [],
   "source": [
    "with open('fin.pickle', 'wb') as ww:\n",
    "    pickle.dump(df5, ww)"
   ]
  },
  {
   "cell_type": "code",
   "execution_count": null,
   "metadata": {},
   "outputs": [],
   "source": [
    "f = open('fin.pickle', 'rb')\n",
    "df = pickle.load(f)\n",
    "df.shape"
   ]
  },
  {
   "cell_type": "code",
   "execution_count": 23,
   "metadata": {},
   "outputs": [],
   "source": [
    "df5.to_csv('final.csv', index=False, encoding='utf-8')\n"
   ]
  },
  {
   "cell_type": "markdown",
   "metadata": {},
   "source": [
    "#### Comments： 主要思路是re+bs4，对每一层提取url，并注意对应上主体。"
   ]
  },
  {
   "cell_type": "markdown",
   "metadata": {},
   "source": [
    "#### Comments: 1）时间不太够，我NER没有学，但愿意学习。2）不知道测试要求到什么结果， 我也可以进一步清理（转换类型， 提取判决书）我想应该很快。"
   ]
  },
  {
   "cell_type": "markdown",
   "metadata": {},
   "source": [
    "#### 多谢评阅。"
   ]
  },
  {
   "cell_type": "code",
   "execution_count": null,
   "metadata": {},
   "outputs": [],
   "source": []
  }
 ],
 "metadata": {
  "kernelspec": {
   "display_name": "Python 3",
   "language": "python",
   "name": "python3"
  },
  "language_info": {
   "codemirror_mode": {
    "name": "ipython",
    "version": 3
   },
   "file_extension": ".py",
   "mimetype": "text/x-python",
   "name": "python",
   "nbconvert_exporter": "python",
   "pygments_lexer": "ipython3",
   "version": "3.7.1"
  }
 },
 "nbformat": 4,
 "nbformat_minor": 2
}
