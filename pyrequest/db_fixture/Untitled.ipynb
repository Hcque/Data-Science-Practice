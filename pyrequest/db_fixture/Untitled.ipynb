{
 "cells": [
  {
   "cell_type": "code",
   "execution_count": 2,
   "metadata": {},
   "outputs": [],
   "source": [
    "import sqlite3\n"
   ]
  },
  {
   "cell_type": "code",
   "execution_count": 3,
   "metadata": {},
   "outputs": [],
   "source": [
    "class DB:\n",
    "    def __init__(self):\n",
    "        self.conn = sqlite3.connect('db.sqlite3')\n",
    "        \n",
    "\n",
    "    def clear(self, table_name):\n",
    "        real_sql = 'delete from ' + table_name + ';'\n",
    "        with self.conn.cursor() as cursor:\n",
    "            cursor.execute(real_sql)\n",
    "        self.conn.commit()\n",
    "\n",
    "    def insert(self, table_name, table_data):\n",
    "        for key in table_data:\n",
    "            table_data[key] = \"'\" + str(table_data[key]) + \"'\"\n",
    "        key = \",\".join(table_data.keys())\n",
    "        value = \",\".join(table_data.values())\n",
    "        real_sql = \"INSERT INTO \" + table_name + \" (\" + key + \") VALUES (\" + value + \") \"\n",
    "        # print(real_sql)\n",
    "\n",
    "        with self.conn.cursor() as cursor:\n",
    "            cursor.execute(real_sql)\n",
    "        self.conn.commit()\n",
    "        \n",
    "    def close(self):\n",
    "        self.conn.close()\n"
   ]
  },
  {
   "cell_type": "code",
   "execution_count": 4,
   "metadata": {},
   "outputs": [],
   "source": [
    "import sys, time\n",
    "# 定义过去时间\n",
    "past_time = time.strftime(\"%Y-%m-%d %H:%M:%S\",time.localtime(time.time()-100000))\n",
    "\n",
    "# 定义将来时间\n",
    "future_time = time.strftime(\"%Y-%m-%d %H:%M:%S\",time.localtime(time.time()+10000))"
   ]
  },
  {
   "cell_type": "code",
   "execution_count": 5,
   "metadata": {},
   "outputs": [],
   "source": [
    "datas = [\n",
    "        {'id':10,'name':'红米Pro发布会','`limit`':2000,'status':1,'address':'北京会展中心','start_time':future_time},\n",
    "        {'id':20,'name':'可参加人数为0','`limit`':0,'status':1,'address':'北京会展中心','start_time':future_time},\n",
    "        {'id':30,'name':'当前状态为0关闭','`limit`':2000,'status':0,'address':'北京会展中心','start_time':future_time},\n",
    "        {'id':40,'name':'发布会已结束','`limit`':2000,'status':1,'address':'北京会展中心','start_time':past_time},\n",
    "        {'id':50,'name':'小米5发布会','`limit`':2000,'status':1,'address':'北京国家会议中心','start_time':future_time},\n",
    "    ]"
   ]
  },
  {
   "cell_type": "code",
   "execution_count": 8,
   "metadata": {},
   "outputs": [
    {
     "data": {
      "text/plain": [
       "\"insert into sign_event values (10,'红米Pro发布会',2000,1,'北京会展中心','2020-07-23 23:19:18','2020-07-23 23:19:18')\""
      ]
     },
     "execution_count": 8,
     "metadata": {},
     "output_type": "execute_result"
    }
   ],
   "source": [
    "get_sql(datas[0])"
   ]
  },
  {
   "cell_type": "code",
   "execution_count": 10,
   "metadata": {},
   "outputs": [
    {
     "ename": "OperationalError",
     "evalue": "database is locked",
     "output_type": "error",
     "traceback": [
      "\u001b[1;31m---------------------------------------------------------------------------\u001b[0m",
      "\u001b[1;31mOperationalError\u001b[0m                          Traceback (most recent call last)",
      "\u001b[1;32m<ipython-input-10-68f74288bae7>\u001b[0m in \u001b[0;36m<module>\u001b[1;34m\u001b[0m\n\u001b[0;32m     13\u001b[0m \u001b[1;31m#     sql = get_sql(line)\u001b[0m\u001b[1;33m\u001b[0m\u001b[1;33m\u001b[0m\u001b[1;33m\u001b[0m\u001b[0m\n\u001b[0;32m     14\u001b[0m     \u001b[0msql\u001b[0m \u001b[1;33m=\u001b[0m \u001b[1;34m\"insert into sign_event values (110,'红米Pro发布会',2000,1,'北京会展中心','2020-07-23 23:19:18','2020-07-23 23:19:18')\"\u001b[0m\u001b[1;33m\u001b[0m\u001b[1;33m\u001b[0m\u001b[0m\n\u001b[1;32m---> 15\u001b[1;33m     \u001b[0mcursor\u001b[0m\u001b[1;33m.\u001b[0m\u001b[0mexecute\u001b[0m\u001b[1;33m(\u001b[0m\u001b[0msql\u001b[0m\u001b[1;33m)\u001b[0m\u001b[1;33m\u001b[0m\u001b[1;33m\u001b[0m\u001b[0m\n\u001b[0m\u001b[0;32m     16\u001b[0m \u001b[0mconn\u001b[0m\u001b[1;33m.\u001b[0m\u001b[0mcommit\u001b[0m\u001b[1;33m(\u001b[0m\u001b[1;33m)\u001b[0m\u001b[1;33m\u001b[0m\u001b[1;33m\u001b[0m\u001b[0m\n\u001b[0;32m     17\u001b[0m \u001b[1;33m\u001b[0m\u001b[0m\n",
      "\u001b[1;31mOperationalError\u001b[0m: database is locked"
     ]
    }
   ],
   "source": [
    "def get_sql(one_data):\n",
    "    L = [str(i) for i in one_data.values()]\n",
    "    L = L + [L[-1]]\n",
    "    for i in [1,4,5, 6]:\n",
    "        L[i] = \"'\" + L[i] + \"'\"\n",
    "    L = ','.join(L)\n",
    "    sql = 'insert into sign_event values (' + L + ')'\n",
    "    return sql\n",
    "\n",
    "conn = sqlite3.connect('db.sqlite3')\n",
    "cursor = conn.cursor()\n",
    "for line in datas:\n",
    "#     sql = get_sql(line)\n",
    "    sql = \"insert into sign_event values (110,'红米Pro发布会',2000,1,'北京会展中心','2020-07-23 23:19:18','2020-07-23 23:19:18')\"\n",
    "    cursor.execute(sql)\n",
    "conn.commit()\n",
    "    "
   ]
  },
  {
   "cell_type": "code",
   "execution_count": 12,
   "metadata": {},
   "outputs": [],
   "source": [
    "conn.close()"
   ]
  },
  {
   "cell_type": "markdown",
   "metadata": {},
   "source": [
    "## end"
   ]
  }
 ],
 "metadata": {
  "kernelspec": {
   "display_name": "Python 3",
   "language": "python",
   "name": "python3"
  },
  "language_info": {
   "codemirror_mode": {
    "name": "ipython",
    "version": 3
   },
   "file_extension": ".py",
   "mimetype": "text/x-python",
   "name": "python",
   "nbconvert_exporter": "python",
   "pygments_lexer": "ipython3",
   "version": "3.7.1"
  }
 },
 "nbformat": 4,
 "nbformat_minor": 2
}
