{
 "cells": [
  {
   "cell_type": "code",
   "execution_count": 18,
   "metadata": {},
   "outputs": [],
   "source": [
    "import sqlite3\n"
   ]
  },
  {
   "cell_type": "code",
   "execution_count": 19,
   "metadata": {},
   "outputs": [],
   "source": [
    "class DB:\n",
    "    def __init__(self):\n",
    "        self.conn = sqlite3.connect('db.sqlite3')\n",
    "        \n",
    "\n",
    "    def clear(self, table_name):\n",
    "        real_sql = 'delete from ' + table_name + ';'\n",
    "        with self.conn.cursor() as cursor:\n",
    "            cursor.execute(real_sql)\n",
    "        self.conn.commit()\n",
    "\n",
    "    def insert(self, table_name, table_data):\n",
    "        for key in table_data:\n",
    "            table_data[key] = \"'\" + str(table_data[key]) + \"'\"\n",
    "        key = \",\".join(table_data.keys())\n",
    "        value = \",\".join(table_data.values())\n",
    "        real_sql = \"INSERT INTO \" + table_name + \" (\" + key + \") VALUES (\" + value + \") \"\n",
    "        # print(real_sql)\n",
    "\n",
    "        with self.conn.cursor() as cursor:\n",
    "            cursor.execute(real_sql)\n",
    "        self.conn.commit()\n",
    "        \n",
    "    def close(self):\n",
    "        self.conn.close()\n"
   ]
  },
  {
   "cell_type": "code",
   "execution_count": 20,
   "metadata": {},
   "outputs": [],
   "source": [
    "import sys, time\n",
    "# 定义过去时间\n",
    "past_time = time.strftime(\"%Y-%m-%d %H:%M:%S\",time.localtime(time.time()-100000))\n",
    "\n",
    "# 定义将来时间\n",
    "future_time = time.strftime(\"%Y-%m-%d %H:%M:%S\",time.localtime(time.time()+10000))"
   ]
  },
  {
   "cell_type": "code",
   "execution_count": 37,
   "metadata": {},
   "outputs": [],
   "source": [
    "datas = [\n",
    "        {'id':1,'name':'红米Pro发布会','`limit`':2000,'status':1,'address':'北京会展中心','start_time':future_time},\n",
    "        {'id':2,'name':'可参加人数为0','`limit`':0,'status':1,'address':'北京会展中心','start_time':future_time},\n",
    "        {'id':3,'name':'当前状态为0关闭','`limit`':2000,'status':0,'address':'北京会展中心','start_time':future_time},\n",
    "        {'id':4,'name':'发布会已结束','`limit`':2000,'status':1,'address':'北京会展中心','start_time':past_time},\n",
    "        {'id':5,'name':'小米5发布会','`limit`':2000,'status':1,'address':'北京国家会议中心','start_time':future_time},\n",
    "    ]"
   ]
  },
  {
   "cell_type": "code",
   "execution_count": null,
   "metadata": {},
   "outputs": [],
   "source": []
  },
  {
   "cell_type": "code",
   "execution_count": null,
   "metadata": {},
   "outputs": [],
   "source": []
  },
  {
   "cell_type": "code",
   "execution_count": null,
   "metadata": {},
   "outputs": [],
   "source": []
  },
  {
   "cell_type": "code",
   "execution_count": null,
   "metadata": {},
   "outputs": [],
   "source": []
  },
  {
   "cell_type": "code",
   "execution_count": 62,
   "metadata": {},
   "outputs": [],
   "source": [
    "L = [str(i) for i in datas[-1].values()]\n",
    "L = L + [L[-1]]\n"
   ]
  },
  {
   "cell_type": "code",
   "execution_count": 63,
   "metadata": {},
   "outputs": [
    {
     "data": {
      "text/plain": [
       "['5',\n",
       " \"'小米5发布会'\",\n",
       " '2000',\n",
       " '1',\n",
       " \"'北京国家会议中心'\",\n",
       " \"'2020-07-23 19:56:38'\",\n",
       " \"'2020-07-23 19:56:38'\"]"
      ]
     },
     "execution_count": 63,
     "metadata": {},
     "output_type": "execute_result"
    }
   ],
   "source": [
    "\n",
    "for i in [1,4,5, 6]:\n",
    "    L[i] = \"'\" + L[i] + \"'\"\n",
    "L"
   ]
  },
  {
   "cell_type": "code",
   "execution_count": 64,
   "metadata": {},
   "outputs": [
    {
     "data": {
      "text/plain": [
       "\"5,'小米5发布会',2000,1,'北京国家会议中心','2020-07-23 19:56:38','2020-07-23 19:56:38'\""
      ]
     },
     "execution_count": 64,
     "metadata": {},
     "output_type": "execute_result"
    }
   ],
   "source": [
    "L = ','.join(L)\n",
    "L"
   ]
  },
  {
   "cell_type": "code",
   "execution_count": 65,
   "metadata": {},
   "outputs": [
    {
     "data": {
      "text/plain": [
       "\"insert into sign_event values (5,'小米5发布会',2000,1,'北京国家会议中心','2020-07-23 19:56:38','2020-07-23 19:56:38')\""
      ]
     },
     "execution_count": 65,
     "metadata": {},
     "output_type": "execute_result"
    }
   ],
   "source": [
    "\n",
    "sql = 'insert into sign_event values (' + L + ')'\n",
    "sql"
   ]
  },
  {
   "cell_type": "code",
   "execution_count": null,
   "metadata": {},
   "outputs": [],
   "source": [
    "\n"
   ]
  },
  {
   "cell_type": "code",
   "execution_count": null,
   "metadata": {},
   "outputs": [],
   "source": []
  },
  {
   "cell_type": "code",
   "execution_count": null,
   "metadata": {},
   "outputs": [],
   "source": []
  },
  {
   "cell_type": "code",
   "execution_count": null,
   "metadata": {},
   "outputs": [],
   "source": []
  },
  {
   "cell_type": "code",
   "execution_count": null,
   "metadata": {},
   "outputs": [],
   "source": []
  },
  {
   "cell_type": "code",
   "execution_count": null,
   "metadata": {},
   "outputs": [],
   "source": []
  },
  {
   "cell_type": "code",
   "execution_count": null,
   "metadata": {},
   "outputs": [],
   "source": [
    "table_data = datas[table_name]\n",
    "# print(table_data)\n",
    "c = conn.cursor()\n",
    "for key in table_data:\n",
    "    table_data[key] = \"'\" + str(table_data[key]) + \"'\"\n",
    "    key = \",\".join(table_data.keys())\n",
    "    value = \",\".join(table_data.values())\n",
    "    real_sql = \"INSERT INTO \" + table_name + \" (\" + key + \") VALUES (\" + value + \") \"\n",
    "# print(real_sql)"
   ]
  },
  {
   "cell_type": "code",
   "execution_count": 66,
   "metadata": {},
   "outputs": [],
   "source": [
    "table_name = 'sign_event'\n",
    "conn = sqlite3.connect('db.sqlite3')\n",
    "\n",
    "real_sql = \"INSERT INTO sign_event VALUES (2, 'a', 2000, 1, 'aa', '2016-08-20 00:25:42', '2020-07-20 09:37:21');\"\n",
    "cursor = conn.cursor()\n",
    "cursor.execute(sql)\n",
    "conn.commit()"
   ]
  },
  {
   "cell_type": "code",
   "execution_count": null,
   "metadata": {},
   "outputs": [],
   "source": []
  },
  {
   "cell_type": "code",
   "execution_count": null,
   "metadata": {},
   "outputs": [],
   "source": []
  }
 ],
 "metadata": {
  "kernelspec": {
   "display_name": "Python 3",
   "language": "python",
   "name": "python3"
  },
  "language_info": {
   "codemirror_mode": {
    "name": "ipython",
    "version": 3
   },
   "file_extension": ".py",
   "mimetype": "text/x-python",
   "name": "python",
   "nbconvert_exporter": "python",
   "pygments_lexer": "ipython3",
   "version": "3.7.1"
  }
 },
 "nbformat": 4,
 "nbformat_minor": 2
}
