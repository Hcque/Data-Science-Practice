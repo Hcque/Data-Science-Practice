{
 "cells": [
  {
   "cell_type": "code",
   "execution_count": 59,
   "metadata": {
    "ExecuteTime": {
     "end_time": "2019-08-23T06:59:19.905465Z",
     "start_time": "2019-08-23T06:59:19.883139Z"
    }
   },
   "outputs": [],
   "source": [
    "import warnings\n",
    "warnings.filterwarnings(\"ignore\")\n",
    "import joblib\n",
    "\n",
    "import numpy as np\n",
    "from datetime import datetime\n",
    "\n",
    "from matplotlib import pyplot as plt\n",
    "import json\n",
    "import copy\n",
    "from xgboost import XGBClassifier\n",
    "from lightgbm import LGBMClassifier, plot_importance, plot_tree\n",
    "import pandas as pd\n",
    "from sklearn import metrics\n",
    "from sklearn2pmml import PMMLPipeline\n",
    "from sklearn2pmml.decoration import CategoricalDomain, ContinuousDomain\n",
    "from sklearn2pmml import sklearn2pmml\n",
    "from sklearn.model_selection import train_test_split\n",
    "from sklearn_pandas import DataFrameMapper\n",
    "from sklearn.preprocessing import OneHotEncoder, Imputer, LabelEncoder, StandardScaler\n",
    "from sklearn.preprocessing import LabelBinarizer, FunctionTransformer, MaxAbsScaler\n",
    "from sklearn.preprocessing import MinMaxScaler, RobustScaler, StandardScaler\n",
    "from sklearn.decomposition import PCA\n",
    "from sklearn.model_selection import RandomizedSearchCV, GridSearchCV\n",
    "from sklearn import model_selection\n",
    "from sklearn2pmml.preprocessing import FeatureBinarizer\n",
    "from sklearn2pmml import sklearn2pmml\n",
    "from work.marvin.binary_classification_evaluation import binaryClassEvaluationPlots as evl\n",
    "from work.marvin.binary_classifier_models import modelfit, modelDiagnose\n",
    "from work.marvin.binary_classifier_models import bestLightgbmModelProducer\n",
    "\n",
    "import numpy as np\n",
    "import pandas as pd\n",
    "%matplotlib inline\n",
    "import matplotlib.pyplot as plt\n",
    "import seaborn as sns\n",
    "import json\n",
    "from tqdm import tqdm\n",
    "import pickle "
   ]
  },
  {
   "cell_type": "markdown",
   "metadata": {},
   "source": [
    "# read data"
   ]
  },
  {
   "cell_type": "code",
   "execution_count": 60,
   "metadata": {
    "ExecuteTime": {
     "end_time": "2019-08-23T06:59:25.365998Z",
     "start_time": "2019-08-23T06:59:20.962775Z"
    }
   },
   "outputs": [],
   "source": [
    "# read file\n",
    "with open('train.pkl', 'rb') as f:\n",
    "    train = pickle.load(f)\n",
    "with open('test.pkl', 'rb') as f:\n",
    "    test = pickle.load(f)"
   ]
  },
  {
   "cell_type": "code",
   "execution_count": 61,
   "metadata": {
    "ExecuteTime": {
     "end_time": "2019-08-23T06:59:25.431476Z",
     "start_time": "2019-08-23T06:59:25.367664Z"
    }
   },
   "outputs": [
    {
     "data": {
      "text/html": [
       "<div>\n",
       "<style scoped>\n",
       "    .dataframe tbody tr th:only-of-type {\n",
       "        vertical-align: middle;\n",
       "    }\n",
       "\n",
       "    .dataframe tbody tr th {\n",
       "        vertical-align: top;\n",
       "    }\n",
       "\n",
       "    .dataframe thead th {\n",
       "        text-align: right;\n",
       "    }\n",
       "</style>\n",
       "<table border=\"1\" class=\"dataframe\">\n",
       "  <thead>\n",
       "    <tr style=\"text-align: right;\">\n",
       "      <th></th>\n",
       "      <th>label</th>\n",
       "      <th>new_client</th>\n",
       "      <th>order_time</th>\n",
       "      <th>overdue</th>\n",
       "      <th>petime</th>\n",
       "      <th>pid</th>\n",
       "      <th>pname</th>\n",
       "      <th>pstime</th>\n",
       "      <th>sid</th>\n",
       "      <th>user_id</th>\n",
       "    </tr>\n",
       "  </thead>\n",
       "  <tbody>\n",
       "    <tr>\n",
       "      <th>0</th>\n",
       "      <td>0.0</td>\n",
       "      <td>0.0</td>\n",
       "      <td>1.509352e+12</td>\n",
       "      <td>0.0</td>\n",
       "      <td>1.508170e+12</td>\n",
       "      <td>1508169825083X3005</td>\n",
       "      <td>loan_index</td>\n",
       "      <td>1.508170e+12</td>\n",
       "      <td>1508169825895</td>\n",
       "      <td>56f889ee11df4a72955147cb2f29a638</td>\n",
       "    </tr>\n",
       "  </tbody>\n",
       "</table>\n",
       "</div>"
      ],
      "text/plain": [
       "   label  new_client    order_time  overdue        petime                 pid  \\\n",
       "0    0.0         0.0  1.509352e+12      0.0  1.508170e+12  1508169825083X3005   \n",
       "\n",
       "        pname        pstime            sid                           user_id  \n",
       "0  loan_index  1.508170e+12  1508169825895  56f889ee11df4a72955147cb2f29a638  "
      ]
     },
     "execution_count": 61,
     "metadata": {},
     "output_type": "execute_result"
    }
   ],
   "source": [
    "# deal with time error\n",
    "train['order_time'] = train['order_time'] + 1000*60*60*8\n",
    "train.head(1)"
   ]
  },
  {
   "cell_type": "code",
   "execution_count": 62,
   "metadata": {
    "ExecuteTime": {
     "end_time": "2019-08-23T06:59:25.578935Z",
     "start_time": "2019-08-23T06:59:25.433000Z"
    }
   },
   "outputs": [],
   "source": [
    "# get duration\n",
    "# duration time(second) for each action\n",
    "train['duration'] = (train['petime'] - train['pstime'])/1000\n",
    "\n",
    "# get order_time-pstime\n",
    "train['order_action_gap'] = (train['order_time'] - train['pstime'])/1000"
   ]
  },
  {
   "cell_type": "code",
   "execution_count": 63,
   "metadata": {
    "ExecuteTime": {
     "end_time": "2019-08-23T06:59:42.564893Z",
     "start_time": "2019-08-23T06:59:25.580693Z"
    }
   },
   "outputs": [],
   "source": [
    "# prepare data format\n",
    "\n",
    "from datetime import datetime\n",
    "def convert_to_date(train):\n",
    "    # convert time to timestamp\n",
    "    train['pstime'] = (train['pstime']//1000).apply(lambda x: datetime.fromtimestamp(x))\n",
    "    train['petime'] = (train['petime']//1000).apply(lambda x: datetime.fromtimestamp(x))\n",
    "    train['order_time'] = (train['order_time']/1000).apply(lambda x: datetime.fromtimestamp(x))\n",
    "    return train\n",
    "\n",
    "train = convert_to_date(train)"
   ]
  },
  {
   "cell_type": "code",
   "execution_count": 64,
   "metadata": {
    "ExecuteTime": {
     "end_time": "2019-08-23T06:59:42.604585Z",
     "start_time": "2019-08-23T06:59:42.566722Z"
    }
   },
   "outputs": [
    {
     "data": {
      "text/plain": [
       "3581"
      ]
     },
     "execution_count": 64,
     "metadata": {},
     "output_type": "execute_result"
    }
   ],
   "source": [
    "# data check\n",
    "np.sum(~(train['pstime'] <= train['petime']))"
   ]
  },
  {
   "cell_type": "code",
   "execution_count": 65,
   "metadata": {
    "ExecuteTime": {
     "end_time": "2019-08-23T06:59:46.100405Z",
     "start_time": "2019-08-23T06:59:42.605776Z"
    }
   },
   "outputs": [
    {
     "name": "stdout",
     "output_type": "stream",
     "text": [
      "(8530978, 12)\n"
     ]
    },
    {
     "data": {
      "text/plain": [
       "(7914754, 12)"
      ]
     },
     "execution_count": 65,
     "metadata": {},
     "output_type": "execute_result"
    }
   ],
   "source": [
    "# kick out error: pstime > petime\n",
    "train = train[train['pstime'] <= train['petime']]\n",
    "\n",
    "# kick out pstime > order_time\n",
    "# kick out petime > order_time\n",
    "print(train.shape)\n",
    "idx = (train['pstime'] <= train['order_time']) & (train['petime'] <= train['order_time'])\n",
    "train = train[idx]\n",
    "train.shape"
   ]
  },
  {
   "cell_type": "code",
   "execution_count": 66,
   "metadata": {
    "ExecuteTime": {
     "end_time": "2019-08-23T06:59:46.103190Z",
     "start_time": "2019-08-23T06:59:46.101587Z"
    }
   },
   "outputs": [],
   "source": [
    "# train = train.loc[:30]\n",
    "# train"
   ]
  },
  {
   "cell_type": "code",
   "execution_count": 67,
   "metadata": {
    "ExecuteTime": {
     "end_time": "2019-08-23T06:59:50.172123Z",
     "start_time": "2019-08-23T06:59:46.104934Z"
    },
    "scrolled": true
   },
   "outputs": [],
   "source": [
    "# get small sample for debug\n",
    "\n",
    "gb = train.groupby(['user_id', 'order_time'])\n",
    "data = []\n",
    "\n",
    "cnt = 0\n",
    "for name, group in gb:\n",
    "#     print(cnt)\n",
    "    group = group.sort_values(['pstime'])\n",
    "    group.index = range(len(group))\n",
    "    data.append((name, group))\n",
    "    cnt = cnt + 1\n",
    "    if cnt > 20:\n",
    "        break\n",
    "        "
   ]
  },
  {
   "cell_type": "markdown",
   "metadata": {},
   "source": [
    "# feature engeering"
   ]
  },
  {
   "cell_type": "code",
   "execution_count": 68,
   "metadata": {
    "ExecuteTime": {
     "end_time": "2019-08-23T06:59:50.175784Z",
     "start_time": "2019-08-23T06:59:50.173970Z"
    }
   },
   "outputs": [],
   "source": [
    "# # agenda\n",
    "# for each group:\n",
    "#     # get windowed(15days, 1 month) data\n",
    "    \n",
    "#     # do statistical features\n",
    "#     1.get statistics features for duration,\n",
    "#     2.get statistics features for duration of different pages,\n",
    "#     # statistic features include:\n",
    "#         1.count, sum, mean,  \n",
    "#         2.trends: std, absolute change, absoluate energy, fit coefs\n",
    "#         3.rate:占比(还没做)"
   ]
  },
  {
   "cell_type": "markdown",
   "metadata": {},
   "source": [
    "### get windowed data"
   ]
  },
  {
   "cell_type": "code",
   "execution_count": 69,
   "metadata": {
    "ExecuteTime": {
     "end_time": "2019-08-23T06:59:50.281463Z",
     "start_time": "2019-08-23T06:59:50.176801Z"
    }
   },
   "outputs": [],
   "source": [
    "def window_data(group, ts, size=30):   \n",
    "    # get windowed ts\n",
    "    idx = ((group['order_time']-group['pstime']).apply(lambda x: x.days<size)) & \\\n",
    "    ((group['order_time']-group['petime']).apply(lambda x: x.days<size))\n",
    "    ts_wind = ts[idx]\n",
    "    return ts_wind\n",
    "\n",
    "# [window_data(data[i][1], data[i][1].duration) for i in range(len(data))]\n",
    "# window_data(data[1][1], data[1][1].duration)"
   ]
  },
  {
   "cell_type": "code",
   "execution_count": 70,
   "metadata": {
    "ExecuteTime": {
     "end_time": "2019-08-23T06:59:59.107383Z",
     "start_time": "2019-08-23T06:59:50.284369Z"
    }
   },
   "outputs": [
    {
     "data": {
      "text/plain": [
       "array(['bind_debit_card', 'biometric_auth', 'biometric_auto',\n",
       "       'contacts_info', 'id_verify', 'loan_index', 'loan_submission',\n",
       "       'login', 'operator', 'personal_info', 'register'], dtype=object)"
      ]
     },
     "execution_count": 70,
     "metadata": {},
     "output_type": "execute_result"
    }
   ],
   "source": [
    "# page names\n",
    "page_types = np.unique(train['pname'])\n",
    "page_types"
   ]
  },
  {
   "cell_type": "code",
   "execution_count": 71,
   "metadata": {
    "ExecuteTime": {
     "end_time": "2019-08-23T06:59:59.113793Z",
     "start_time": "2019-08-23T06:59:59.108619Z"
    }
   },
   "outputs": [
    {
     "data": {
      "text/plain": [
       "0     12.451\n",
       "17    12.272\n",
       "Name: duration, dtype: float64"
      ]
     },
     "execution_count": 71,
     "metadata": {},
     "output_type": "execute_result"
    }
   ],
   "source": [
    "def get_page_data(group, ts, page_name):\n",
    "    idx = group['pname']==page_name\n",
    "    ans = ts[idx]\n",
    "    return ans\n",
    "# for p in page_types:\n",
    "#     print([get_page_data(data[i][1], data[i][1].duration, p) for i in range(len(data))])\n",
    "#     print('\\n')\n",
    "get_page_data(data[1][1], data[1][1].duration,  'login')"
   ]
  },
  {
   "cell_type": "markdown",
   "metadata": {},
   "source": [
    "### get features"
   ]
  },
  {
   "cell_type": "code",
   "execution_count": 72,
   "metadata": {
    "ExecuteTime": {
     "end_time": "2019-08-23T06:59:59.207124Z",
     "start_time": "2019-08-23T06:59:59.114898Z"
    }
   },
   "outputs": [],
   "source": [
    "ts = data[1][1].duration\n",
    "# ts"
   ]
  },
  {
   "cell_type": "code",
   "execution_count": 73,
   "metadata": {
    "ExecuteTime": {
     "end_time": "2019-08-23T06:59:59.280440Z",
     "start_time": "2019-08-23T06:59:59.210025Z"
    }
   },
   "outputs": [
    {
     "data": {
      "text/plain": [
       "[24, 525.965, 21.915208333333336, 0.392, 369.141, 3.2485, 9.469999999999999]"
      ]
     },
     "execution_count": 73,
     "metadata": {},
     "output_type": "execute_result"
    }
   ],
   "source": [
    "def basic_feats(ts):\n",
    "    # special case\n",
    "    if len(ts)==0:\n",
    "        return [np.nan for i in range(7)]\n",
    "    # normal case\n",
    "    count_ = len(ts)\n",
    "    sum_ = np.sum(ts)\n",
    "    mean_ = np.mean(ts)\n",
    "    min_ = np.min(ts)\n",
    "    max_ = np.max(ts)\n",
    "    q25 = np.quantile(ts, 0.25)\n",
    "    q75 = np.quantile(ts, 0.75)\n",
    "    return [count_, sum_, mean_, min_, max_, q25, q75]\n",
    "\n",
    "# ts = [1,2,3,4,5]\n",
    "basic_feats(ts)"
   ]
  },
  {
   "cell_type": "code",
   "execution_count": 74,
   "metadata": {
    "ExecuteTime": {
     "end_time": "2019-08-23T06:59:59.303289Z",
     "start_time": "2019-08-23T06:59:59.283281Z"
    }
   },
   "outputs": [
    {
     "data": {
      "text/plain": [
       "[72.59390040204204, -10.251999999999999, 138003.61756500002]"
      ]
     },
     "execution_count": 74,
     "metadata": {},
     "output_type": "execute_result"
    }
   ],
   "source": [
    "def trends_feature(ts):\n",
    "    # special case\n",
    "    if len(ts) == 0:\n",
    "        return [np.nan,np.nan,np.nan]\n",
    "    # normal case\n",
    "    std_ = np.std(ts)\n",
    "    abs_change = np.sum(np.diff(ts))\n",
    "    abs_energy = np.sum([i*i for i in ts])\n",
    "    return [std_, abs_change, abs_energy]\n",
    "\n",
    "trends_feature(ts)"
   ]
  },
  {
   "cell_type": "code",
   "execution_count": 75,
   "metadata": {
    "ExecuteTime": {
     "end_time": "2019-08-23T06:59:59.337775Z",
     "start_time": "2019-08-23T06:59:59.306255Z"
    }
   },
   "outputs": [
    {
     "data": {
      "text/plain": [
       "[13.894424242424208, 1.233966783216788]"
      ]
     },
     "execution_count": 75,
     "metadata": {},
     "output_type": "execute_result"
    }
   ],
   "source": [
    "# trend advance eatures\n",
    "def trends_adv_feats(x, chunk_size=2):\n",
    "    # too short for agg\n",
    "    if len(x) < chunk_size:\n",
    "        return [np.nan,np.nan]\n",
    "    \n",
    "    # do aggregation\n",
    "    aggs = []\n",
    "    for i in range(len(x)-chunk_size):\n",
    "        dat = x[i*chunk_size:(i+1)*chunk_size]\n",
    "        if len(dat) != 0:\n",
    "            aggs.append(np.mean(dat))\n",
    "\n",
    "    n = len(aggs)\n",
    "    # special case, singular matrix\n",
    "    if  n==0:\n",
    "        return [np.nan,np.nan]\n",
    "    if n==1:\n",
    "        return [np.nan,np.nan]\n",
    "    \n",
    "    # nonsepcial case\n",
    "    aggs = np.array(aggs).reshape(-1,1)\n",
    "    A = np.linspace(1, n, n).reshape(-1,1)\n",
    "    A = np.hstack([np.ones(n).reshape(-1,1),A])\n",
    "\n",
    "    # solve equations\n",
    "    solu = (np.linalg.inv(A.T@A))@ (A.T@aggs)\n",
    "    intercept = solu[0,0]\n",
    "    slope = solu[1,0]\n",
    "    return [intercept, slope]\n",
    "\n",
    "\n",
    "# x = [1,2,3,4,5]\n",
    "trends_adv_feats(ts)"
   ]
  },
  {
   "cell_type": "code",
   "execution_count": 76,
   "metadata": {
    "ExecuteTime": {
     "end_time": "2019-08-23T06:59:59.361102Z",
     "start_time": "2019-08-23T06:59:59.340366Z"
    }
   },
   "outputs": [],
   "source": [
    "def _get_feats(ts):\n",
    "    # basic features\n",
    "    bas_feats = basic_feats(ts)\n",
    "    \n",
    "    # trend features\n",
    "    tre_feats = trends_feature(ts)\n",
    "    treadv_feats_2 = trends_adv_feats(ts,2)\n",
    "    treadv_feats_5 = trends_adv_feats(ts,5)\n",
    "    \n",
    "    features = bas_feats + tre_feats + treadv_feats_2 + treadv_feats_5\n",
    "    return features\n"
   ]
  },
  {
   "cell_type": "code",
   "execution_count": 77,
   "metadata": {
    "ExecuteTime": {
     "end_time": "2019-08-23T06:59:59.385167Z",
     "start_time": "2019-08-23T06:59:59.364264Z"
    }
   },
   "outputs": [],
   "source": [
    "def get_feature(group, col, size=15):\n",
    "    # get features for each group\n",
    "    feature = []\n",
    "    \n",
    "    ts = group[col]\n",
    "    # get windowed ts\n",
    "    ts = window_data(group, ts, size)\n",
    "    feature.extend(_get_feats(ts))\n",
    "    \n",
    "    # split ts by page_name and extract features in the same way\n",
    "    for page_name in page_types:\n",
    "        sub_ts = get_page_data(group, ts, page_name)\n",
    "        \n",
    "        add_feats = _get_feats(sub_ts)\n",
    "#         print(page_name, sub_ts, add_feats)\n",
    "        feature.extend(add_feats)\n",
    "    return feature    \n",
    "\n",
    "# feats = get_feature(data[1][1], 'duration')\n",
    "# feats"
   ]
  },
  {
   "cell_type": "code",
   "execution_count": 78,
   "metadata": {
    "ExecuteTime": {
     "end_time": "2019-08-23T06:59:59.422797Z",
     "start_time": "2019-08-23T06:59:59.388206Z"
    }
   },
   "outputs": [
    {
     "data": {
      "text/plain": [
       "['duration.fifteen_days.count',\n",
       " 'duration.fifteen_days.sum',\n",
       " 'duration.fifteen_days.mean',\n",
       " 'duration.fifteen_days.min',\n",
       " 'duration.fifteen_days.max',\n",
       " 'duration.fifteen_days.q25',\n",
       " 'duration.fifteen_days.q75',\n",
       " 'duration.fifteen_days.std',\n",
       " 'duration.fifteen_days.abs_change',\n",
       " 'duration.fifteen_days.abs_energy',\n",
       " 'duration.fifteen_days.intercept_2',\n",
       " 'duration.fifteen_days.slope_2',\n",
       " 'duration.fifteen_days.intercept_5',\n",
       " 'duration.fifteen_days.slope_5',\n",
       " 'duration.fifteen_days.bind_debit_card.count',\n",
       " 'duration.fifteen_days.bind_debit_card.sum',\n",
       " 'duration.fifteen_days.bind_debit_card.mean',\n",
       " 'duration.fifteen_days.bind_debit_card.min',\n",
       " 'duration.fifteen_days.bind_debit_card.max',\n",
       " 'duration.fifteen_days.bind_debit_card.q25',\n",
       " 'duration.fifteen_days.bind_debit_card.q75',\n",
       " 'duration.fifteen_days.bind_debit_card.std',\n",
       " 'duration.fifteen_days.bind_debit_card.abs_change',\n",
       " 'duration.fifteen_days.bind_debit_card.abs_energy',\n",
       " 'duration.fifteen_days.bind_debit_card.intercept_2',\n",
       " 'duration.fifteen_days.bind_debit_card.slope_2',\n",
       " 'duration.fifteen_days.bind_debit_card.intercept_5',\n",
       " 'duration.fifteen_days.bind_debit_card.slope_5',\n",
       " 'duration.fifteen_days.biometric_auth.count',\n",
       " 'duration.fifteen_days.biometric_auth.sum',\n",
       " 'duration.fifteen_days.biometric_auth.mean',\n",
       " 'duration.fifteen_days.biometric_auth.min',\n",
       " 'duration.fifteen_days.biometric_auth.max',\n",
       " 'duration.fifteen_days.biometric_auth.q25',\n",
       " 'duration.fifteen_days.biometric_auth.q75',\n",
       " 'duration.fifteen_days.biometric_auth.std',\n",
       " 'duration.fifteen_days.biometric_auth.abs_change',\n",
       " 'duration.fifteen_days.biometric_auth.abs_energy',\n",
       " 'duration.fifteen_days.biometric_auth.intercept_2',\n",
       " 'duration.fifteen_days.biometric_auth.slope_2',\n",
       " 'duration.fifteen_days.biometric_auth.intercept_5',\n",
       " 'duration.fifteen_days.biometric_auth.slope_5',\n",
       " 'duration.fifteen_days.biometric_auto.count',\n",
       " 'duration.fifteen_days.biometric_auto.sum',\n",
       " 'duration.fifteen_days.biometric_auto.mean',\n",
       " 'duration.fifteen_days.biometric_auto.min',\n",
       " 'duration.fifteen_days.biometric_auto.max',\n",
       " 'duration.fifteen_days.biometric_auto.q25',\n",
       " 'duration.fifteen_days.biometric_auto.q75',\n",
       " 'duration.fifteen_days.biometric_auto.std',\n",
       " 'duration.fifteen_days.biometric_auto.abs_change',\n",
       " 'duration.fifteen_days.biometric_auto.abs_energy',\n",
       " 'duration.fifteen_days.biometric_auto.intercept_2',\n",
       " 'duration.fifteen_days.biometric_auto.slope_2',\n",
       " 'duration.fifteen_days.biometric_auto.intercept_5',\n",
       " 'duration.fifteen_days.biometric_auto.slope_5',\n",
       " 'duration.fifteen_days.contacts_info.count',\n",
       " 'duration.fifteen_days.contacts_info.sum',\n",
       " 'duration.fifteen_days.contacts_info.mean',\n",
       " 'duration.fifteen_days.contacts_info.min',\n",
       " 'duration.fifteen_days.contacts_info.max',\n",
       " 'duration.fifteen_days.contacts_info.q25',\n",
       " 'duration.fifteen_days.contacts_info.q75',\n",
       " 'duration.fifteen_days.contacts_info.std',\n",
       " 'duration.fifteen_days.contacts_info.abs_change',\n",
       " 'duration.fifteen_days.contacts_info.abs_energy',\n",
       " 'duration.fifteen_days.contacts_info.intercept_2',\n",
       " 'duration.fifteen_days.contacts_info.slope_2',\n",
       " 'duration.fifteen_days.contacts_info.intercept_5',\n",
       " 'duration.fifteen_days.contacts_info.slope_5',\n",
       " 'duration.fifteen_days.id_verify.count',\n",
       " 'duration.fifteen_days.id_verify.sum',\n",
       " 'duration.fifteen_days.id_verify.mean',\n",
       " 'duration.fifteen_days.id_verify.min',\n",
       " 'duration.fifteen_days.id_verify.max',\n",
       " 'duration.fifteen_days.id_verify.q25',\n",
       " 'duration.fifteen_days.id_verify.q75',\n",
       " 'duration.fifteen_days.id_verify.std',\n",
       " 'duration.fifteen_days.id_verify.abs_change',\n",
       " 'duration.fifteen_days.id_verify.abs_energy',\n",
       " 'duration.fifteen_days.id_verify.intercept_2',\n",
       " 'duration.fifteen_days.id_verify.slope_2',\n",
       " 'duration.fifteen_days.id_verify.intercept_5',\n",
       " 'duration.fifteen_days.id_verify.slope_5',\n",
       " 'duration.fifteen_days.loan_index.count',\n",
       " 'duration.fifteen_days.loan_index.sum',\n",
       " 'duration.fifteen_days.loan_index.mean',\n",
       " 'duration.fifteen_days.loan_index.min',\n",
       " 'duration.fifteen_days.loan_index.max',\n",
       " 'duration.fifteen_days.loan_index.q25',\n",
       " 'duration.fifteen_days.loan_index.q75',\n",
       " 'duration.fifteen_days.loan_index.std',\n",
       " 'duration.fifteen_days.loan_index.abs_change',\n",
       " 'duration.fifteen_days.loan_index.abs_energy',\n",
       " 'duration.fifteen_days.loan_index.intercept_2',\n",
       " 'duration.fifteen_days.loan_index.slope_2',\n",
       " 'duration.fifteen_days.loan_index.intercept_5',\n",
       " 'duration.fifteen_days.loan_index.slope_5',\n",
       " 'duration.fifteen_days.loan_submission.count',\n",
       " 'duration.fifteen_days.loan_submission.sum',\n",
       " 'duration.fifteen_days.loan_submission.mean',\n",
       " 'duration.fifteen_days.loan_submission.min',\n",
       " 'duration.fifteen_days.loan_submission.max',\n",
       " 'duration.fifteen_days.loan_submission.q25',\n",
       " 'duration.fifteen_days.loan_submission.q75',\n",
       " 'duration.fifteen_days.loan_submission.std',\n",
       " 'duration.fifteen_days.loan_submission.abs_change',\n",
       " 'duration.fifteen_days.loan_submission.abs_energy',\n",
       " 'duration.fifteen_days.loan_submission.intercept_2',\n",
       " 'duration.fifteen_days.loan_submission.slope_2',\n",
       " 'duration.fifteen_days.loan_submission.intercept_5',\n",
       " 'duration.fifteen_days.loan_submission.slope_5',\n",
       " 'duration.fifteen_days.login.count',\n",
       " 'duration.fifteen_days.login.sum',\n",
       " 'duration.fifteen_days.login.mean',\n",
       " 'duration.fifteen_days.login.min',\n",
       " 'duration.fifteen_days.login.max',\n",
       " 'duration.fifteen_days.login.q25',\n",
       " 'duration.fifteen_days.login.q75',\n",
       " 'duration.fifteen_days.login.std',\n",
       " 'duration.fifteen_days.login.abs_change',\n",
       " 'duration.fifteen_days.login.abs_energy',\n",
       " 'duration.fifteen_days.login.intercept_2',\n",
       " 'duration.fifteen_days.login.slope_2',\n",
       " 'duration.fifteen_days.login.intercept_5',\n",
       " 'duration.fifteen_days.login.slope_5',\n",
       " 'duration.fifteen_days.operator.count',\n",
       " 'duration.fifteen_days.operator.sum',\n",
       " 'duration.fifteen_days.operator.mean',\n",
       " 'duration.fifteen_days.operator.min',\n",
       " 'duration.fifteen_days.operator.max',\n",
       " 'duration.fifteen_days.operator.q25',\n",
       " 'duration.fifteen_days.operator.q75',\n",
       " 'duration.fifteen_days.operator.std',\n",
       " 'duration.fifteen_days.operator.abs_change',\n",
       " 'duration.fifteen_days.operator.abs_energy',\n",
       " 'duration.fifteen_days.operator.intercept_2',\n",
       " 'duration.fifteen_days.operator.slope_2',\n",
       " 'duration.fifteen_days.operator.intercept_5',\n",
       " 'duration.fifteen_days.operator.slope_5',\n",
       " 'duration.fifteen_days.personal_info.count',\n",
       " 'duration.fifteen_days.personal_info.sum',\n",
       " 'duration.fifteen_days.personal_info.mean',\n",
       " 'duration.fifteen_days.personal_info.min',\n",
       " 'duration.fifteen_days.personal_info.max',\n",
       " 'duration.fifteen_days.personal_info.q25',\n",
       " 'duration.fifteen_days.personal_info.q75',\n",
       " 'duration.fifteen_days.personal_info.std',\n",
       " 'duration.fifteen_days.personal_info.abs_change',\n",
       " 'duration.fifteen_days.personal_info.abs_energy',\n",
       " 'duration.fifteen_days.personal_info.intercept_2',\n",
       " 'duration.fifteen_days.personal_info.slope_2',\n",
       " 'duration.fifteen_days.personal_info.intercept_5',\n",
       " 'duration.fifteen_days.personal_info.slope_5',\n",
       " 'duration.fifteen_days.register.count',\n",
       " 'duration.fifteen_days.register.sum',\n",
       " 'duration.fifteen_days.register.mean',\n",
       " 'duration.fifteen_days.register.min',\n",
       " 'duration.fifteen_days.register.max',\n",
       " 'duration.fifteen_days.register.q25',\n",
       " 'duration.fifteen_days.register.q75',\n",
       " 'duration.fifteen_days.register.std',\n",
       " 'duration.fifteen_days.register.abs_change',\n",
       " 'duration.fifteen_days.register.abs_energy',\n",
       " 'duration.fifteen_days.register.intercept_2',\n",
       " 'duration.fifteen_days.register.slope_2',\n",
       " 'duration.fifteen_days.register.intercept_5',\n",
       " 'duration.fifteen_days.register.slope_5',\n",
       " 'duration.thirty_days.count',\n",
       " 'duration.thirty_days.sum',\n",
       " 'duration.thirty_days.mean',\n",
       " 'duration.thirty_days.min',\n",
       " 'duration.thirty_days.max',\n",
       " 'duration.thirty_days.q25',\n",
       " 'duration.thirty_days.q75',\n",
       " 'duration.thirty_days.std',\n",
       " 'duration.thirty_days.abs_change',\n",
       " 'duration.thirty_days.abs_energy',\n",
       " 'duration.thirty_days.intercept_2',\n",
       " 'duration.thirty_days.slope_2',\n",
       " 'duration.thirty_days.intercept_5',\n",
       " 'duration.thirty_days.slope_5',\n",
       " 'duration.thirty_days.bind_debit_card.count',\n",
       " 'duration.thirty_days.bind_debit_card.sum',\n",
       " 'duration.thirty_days.bind_debit_card.mean',\n",
       " 'duration.thirty_days.bind_debit_card.min',\n",
       " 'duration.thirty_days.bind_debit_card.max',\n",
       " 'duration.thirty_days.bind_debit_card.q25',\n",
       " 'duration.thirty_days.bind_debit_card.q75',\n",
       " 'duration.thirty_days.bind_debit_card.std',\n",
       " 'duration.thirty_days.bind_debit_card.abs_change',\n",
       " 'duration.thirty_days.bind_debit_card.abs_energy',\n",
       " 'duration.thirty_days.bind_debit_card.intercept_2',\n",
       " 'duration.thirty_days.bind_debit_card.slope_2',\n",
       " 'duration.thirty_days.bind_debit_card.intercept_5',\n",
       " 'duration.thirty_days.bind_debit_card.slope_5',\n",
       " 'duration.thirty_days.biometric_auth.count',\n",
       " 'duration.thirty_days.biometric_auth.sum',\n",
       " 'duration.thirty_days.biometric_auth.mean',\n",
       " 'duration.thirty_days.biometric_auth.min',\n",
       " 'duration.thirty_days.biometric_auth.max',\n",
       " 'duration.thirty_days.biometric_auth.q25',\n",
       " 'duration.thirty_days.biometric_auth.q75',\n",
       " 'duration.thirty_days.biometric_auth.std',\n",
       " 'duration.thirty_days.biometric_auth.abs_change',\n",
       " 'duration.thirty_days.biometric_auth.abs_energy',\n",
       " 'duration.thirty_days.biometric_auth.intercept_2',\n",
       " 'duration.thirty_days.biometric_auth.slope_2',\n",
       " 'duration.thirty_days.biometric_auth.intercept_5',\n",
       " 'duration.thirty_days.biometric_auth.slope_5',\n",
       " 'duration.thirty_days.biometric_auto.count',\n",
       " 'duration.thirty_days.biometric_auto.sum',\n",
       " 'duration.thirty_days.biometric_auto.mean',\n",
       " 'duration.thirty_days.biometric_auto.min',\n",
       " 'duration.thirty_days.biometric_auto.max',\n",
       " 'duration.thirty_days.biometric_auto.q25',\n",
       " 'duration.thirty_days.biometric_auto.q75',\n",
       " 'duration.thirty_days.biometric_auto.std',\n",
       " 'duration.thirty_days.biometric_auto.abs_change',\n",
       " 'duration.thirty_days.biometric_auto.abs_energy',\n",
       " 'duration.thirty_days.biometric_auto.intercept_2',\n",
       " 'duration.thirty_days.biometric_auto.slope_2',\n",
       " 'duration.thirty_days.biometric_auto.intercept_5',\n",
       " 'duration.thirty_days.biometric_auto.slope_5',\n",
       " 'duration.thirty_days.contacts_info.count',\n",
       " 'duration.thirty_days.contacts_info.sum',\n",
       " 'duration.thirty_days.contacts_info.mean',\n",
       " 'duration.thirty_days.contacts_info.min',\n",
       " 'duration.thirty_days.contacts_info.max',\n",
       " 'duration.thirty_days.contacts_info.q25',\n",
       " 'duration.thirty_days.contacts_info.q75',\n",
       " 'duration.thirty_days.contacts_info.std',\n",
       " 'duration.thirty_days.contacts_info.abs_change',\n",
       " 'duration.thirty_days.contacts_info.abs_energy',\n",
       " 'duration.thirty_days.contacts_info.intercept_2',\n",
       " 'duration.thirty_days.contacts_info.slope_2',\n",
       " 'duration.thirty_days.contacts_info.intercept_5',\n",
       " 'duration.thirty_days.contacts_info.slope_5',\n",
       " 'duration.thirty_days.id_verify.count',\n",
       " 'duration.thirty_days.id_verify.sum',\n",
       " 'duration.thirty_days.id_verify.mean',\n",
       " 'duration.thirty_days.id_verify.min',\n",
       " 'duration.thirty_days.id_verify.max',\n",
       " 'duration.thirty_days.id_verify.q25',\n",
       " 'duration.thirty_days.id_verify.q75',\n",
       " 'duration.thirty_days.id_verify.std',\n",
       " 'duration.thirty_days.id_verify.abs_change',\n",
       " 'duration.thirty_days.id_verify.abs_energy',\n",
       " 'duration.thirty_days.id_verify.intercept_2',\n",
       " 'duration.thirty_days.id_verify.slope_2',\n",
       " 'duration.thirty_days.id_verify.intercept_5',\n",
       " 'duration.thirty_days.id_verify.slope_5',\n",
       " 'duration.thirty_days.loan_index.count',\n",
       " 'duration.thirty_days.loan_index.sum',\n",
       " 'duration.thirty_days.loan_index.mean',\n",
       " 'duration.thirty_days.loan_index.min',\n",
       " 'duration.thirty_days.loan_index.max',\n",
       " 'duration.thirty_days.loan_index.q25',\n",
       " 'duration.thirty_days.loan_index.q75',\n",
       " 'duration.thirty_days.loan_index.std',\n",
       " 'duration.thirty_days.loan_index.abs_change',\n",
       " 'duration.thirty_days.loan_index.abs_energy',\n",
       " 'duration.thirty_days.loan_index.intercept_2',\n",
       " 'duration.thirty_days.loan_index.slope_2',\n",
       " 'duration.thirty_days.loan_index.intercept_5',\n",
       " 'duration.thirty_days.loan_index.slope_5',\n",
       " 'duration.thirty_days.loan_submission.count',\n",
       " 'duration.thirty_days.loan_submission.sum',\n",
       " 'duration.thirty_days.loan_submission.mean',\n",
       " 'duration.thirty_days.loan_submission.min',\n",
       " 'duration.thirty_days.loan_submission.max',\n",
       " 'duration.thirty_days.loan_submission.q25',\n",
       " 'duration.thirty_days.loan_submission.q75',\n",
       " 'duration.thirty_days.loan_submission.std',\n",
       " 'duration.thirty_days.loan_submission.abs_change',\n",
       " 'duration.thirty_days.loan_submission.abs_energy',\n",
       " 'duration.thirty_days.loan_submission.intercept_2',\n",
       " 'duration.thirty_days.loan_submission.slope_2',\n",
       " 'duration.thirty_days.loan_submission.intercept_5',\n",
       " 'duration.thirty_days.loan_submission.slope_5',\n",
       " 'duration.thirty_days.login.count',\n",
       " 'duration.thirty_days.login.sum',\n",
       " 'duration.thirty_days.login.mean',\n",
       " 'duration.thirty_days.login.min',\n",
       " 'duration.thirty_days.login.max',\n",
       " 'duration.thirty_days.login.q25',\n",
       " 'duration.thirty_days.login.q75',\n",
       " 'duration.thirty_days.login.std',\n",
       " 'duration.thirty_days.login.abs_change',\n",
       " 'duration.thirty_days.login.abs_energy',\n",
       " 'duration.thirty_days.login.intercept_2',\n",
       " 'duration.thirty_days.login.slope_2',\n",
       " 'duration.thirty_days.login.intercept_5',\n",
       " 'duration.thirty_days.login.slope_5',\n",
       " 'duration.thirty_days.operator.count',\n",
       " 'duration.thirty_days.operator.sum',\n",
       " 'duration.thirty_days.operator.mean',\n",
       " 'duration.thirty_days.operator.min',\n",
       " 'duration.thirty_days.operator.max',\n",
       " 'duration.thirty_days.operator.q25',\n",
       " 'duration.thirty_days.operator.q75',\n",
       " 'duration.thirty_days.operator.std',\n",
       " 'duration.thirty_days.operator.abs_change',\n",
       " 'duration.thirty_days.operator.abs_energy',\n",
       " 'duration.thirty_days.operator.intercept_2',\n",
       " 'duration.thirty_days.operator.slope_2',\n",
       " 'duration.thirty_days.operator.intercept_5',\n",
       " 'duration.thirty_days.operator.slope_5',\n",
       " 'duration.thirty_days.personal_info.count',\n",
       " 'duration.thirty_days.personal_info.sum',\n",
       " 'duration.thirty_days.personal_info.mean',\n",
       " 'duration.thirty_days.personal_info.min',\n",
       " 'duration.thirty_days.personal_info.max',\n",
       " 'duration.thirty_days.personal_info.q25',\n",
       " 'duration.thirty_days.personal_info.q75',\n",
       " 'duration.thirty_days.personal_info.std',\n",
       " 'duration.thirty_days.personal_info.abs_change',\n",
       " 'duration.thirty_days.personal_info.abs_energy',\n",
       " 'duration.thirty_days.personal_info.intercept_2',\n",
       " 'duration.thirty_days.personal_info.slope_2',\n",
       " 'duration.thirty_days.personal_info.intercept_5',\n",
       " 'duration.thirty_days.personal_info.slope_5',\n",
       " 'duration.thirty_days.register.count',\n",
       " 'duration.thirty_days.register.sum',\n",
       " 'duration.thirty_days.register.mean',\n",
       " 'duration.thirty_days.register.min',\n",
       " 'duration.thirty_days.register.max',\n",
       " 'duration.thirty_days.register.q25',\n",
       " 'duration.thirty_days.register.q75',\n",
       " 'duration.thirty_days.register.std',\n",
       " 'duration.thirty_days.register.abs_change',\n",
       " 'duration.thirty_days.register.abs_energy',\n",
       " 'duration.thirty_days.register.intercept_2',\n",
       " 'duration.thirty_days.register.slope_2',\n",
       " 'duration.thirty_days.register.intercept_5',\n",
       " 'duration.thirty_days.register.slope_5']"
      ]
     },
     "execution_count": 78,
     "metadata": {},
     "output_type": "execute_result"
    }
   ],
   "source": [
    "# construct names\n",
    "def combine_names(ts_name):\n",
    "    # get colnames for each stat_item\n",
    "    def get_feature_names(window_size):\n",
    "        names = []\n",
    "        basic_names = ['count', 'sum', 'mean', 'min', 'max','q25', 'q75',\n",
    "                       'std','abs_change', 'abs_energy', 'intercept_2', 'slope_2', 'intercept_5', 'slope_5']\n",
    "        names.extend(basic_names)\n",
    "\n",
    "        # names for each page\n",
    "        for p in page_types:\n",
    "            nam_ = [p+'.'+i for i in basic_names]\n",
    "            names.extend(nam_)\n",
    "        names = [window_size+'.'+i for i in names]\n",
    "        return names\n",
    "    \n",
    "    col_names = get_feature_names('fifteen_days') + get_feature_names('thirty_days')\n",
    "    return [ts_name+'.'+i for i in col_names]\n",
    "\n",
    "col_names = combine_names('duration') #+ combine_names('order_action_gap')\n",
    "col_names"
   ]
  },
  {
   "cell_type": "code",
   "execution_count": 79,
   "metadata": {
    "ExecuteTime": {
     "end_time": "2019-08-23T06:59:59.446729Z",
     "start_time": "2019-08-23T06:59:59.425022Z"
    }
   },
   "outputs": [],
   "source": [
    "import pickle\n",
    "with open('data/col_names_f.pickle', 'wb') as f:\n",
    "    pickle.dump(col_names, f)"
   ]
  },
  {
   "cell_type": "code",
   "execution_count": 80,
   "metadata": {
    "ExecuteTime": {
     "end_time": "2019-08-23T06:59:59.471463Z",
     "start_time": "2019-08-23T06:59:59.451046Z"
    }
   },
   "outputs": [],
   "source": [
    "# save data\n",
    "def save_data(fname1, fname2,all_feature, key):\n",
    "    with open(fname1, 'wb') as f:\n",
    "        pickle.dump(all_feature, f)\n",
    "    with open(fname2, 'wb') as f:\n",
    "        pickle.dump(key, f)\n",
    "    return"
   ]
  },
  {
   "cell_type": "code",
   "execution_count": 1,
   "metadata": {
    "ExecuteTime": {
     "start_time": "2019-08-23T07:00:06.819Z"
    },
    "scrolled": true
   },
   "outputs": [],
   "source": [
    "from tqdm import tqdm\n",
    "def get_all_features(gb, num_obs=10000):\n",
    "    all_feature = []\n",
    "    key = []\n",
    "    cnt = 0\n",
    "    for name, group in gb:\n",
    "        print(cnt)\n",
    "        # group dataframe\n",
    "        group = group.sort_values(['pstime'])\n",
    "        group.index = range(len(group))\n",
    "        \n",
    "        # feature extraction based on duration\n",
    "        feat_duration_15day = get_feature(group, 'duration',size=15) \n",
    "        feat_duration_30day = get_feature(group, 'duration',size=30) \n",
    "#         # feature extraction based on order_time-pstime\n",
    "#         feat_gap_15day = get_feature(group, 'order_action_gap',size=15) \n",
    "#         feat_gap_30day = get_feature(group, 'order_action_gap',size=30) \n",
    "        \n",
    "        # combine all features\n",
    "        all_feature.append(feat_duration_15day+feat_duration_30day)\n",
    "#                           +feat_gap_15day+feat_gap_30day)\n",
    "        key.append(list(name))\n",
    "        cnt += 1\n",
    "#         if cnt > num_obs:\n",
    "#             break\n",
    "#         if cnt == 10000:\n",
    "#             # save data\n",
    "#             save_data('data/all_feature_1.pickle', 'data/key_1.pickle', all_feature, key)\n",
    "        if cnt == 30000:\n",
    "            # save data\n",
    "            save_data('data/all_feature_3.pickle', 'data/key_3.pickle', all_feature, key)\n",
    "        if cnt == 70000:\n",
    "            # save data\n",
    "            save_data('data/all_feature_7.pickle', 'data/key_7.pickle', all_feature, key)\n",
    "        if cnt == 100000:\n",
    "            # save data\n",
    "            save_data('data/all_feature_10.pickle', 'data/key_10.pickle', all_feature, key)\n",
    "        \n",
    "    return all_feature, key\n",
    "\n",
    "\n",
    "gb = train.groupby(['user_id', 'order_time']) # make group object\n",
    "all_feature, key = get_all_features(gb)\n"
   ]
  },
  {
   "cell_type": "code",
   "execution_count": null,
   "metadata": {
    "ExecuteTime": {
     "end_time": "2019-08-23T04:48:44.848250Z",
     "start_time": "2019-08-23T03:51:33.303Z"
    }
   },
   "outputs": [],
   "source": [
    "# save data\n",
    "import pickle\n",
    "with open('data/all_feature_f.pickle', 'wb') as f:\n",
    "    pickle.dump(all_feature, f)\n",
    "\n",
    "with open('data/key_f.pickle', 'wb') as f:\n",
    "    pickle.dump(key, f)"
   ]
  },
  {
   "cell_type": "code",
   "execution_count": 35,
   "metadata": {
    "ExecuteTime": {
     "end_time": "2019-08-23T00:30:34.256181Z",
     "start_time": "2019-08-23T00:30:27.746788Z"
    }
   },
   "outputs": [],
   "source": [
    "# import pickle\n",
    "# with open('data/all_feature.pickle', 'wb') as f:\n",
    "#     pickle.dump(all_feature, f)\n",
    "\n",
    "# with open('data/key.pickle', 'wb') as f:\n",
    "#     pickle.dump(key, f)"
   ]
  },
  {
   "cell_type": "code",
   "execution_count": 34,
   "metadata": {
    "ExecuteTime": {
     "end_time": "2019-08-22T09:32:59.716615Z",
     "start_time": "2019-08-22T09:32:58.657459Z"
    }
   },
   "outputs": [],
   "source": [
    "import pickle\n",
    "with open('data/all_feature.pickle', 'rb') as f:\n",
    "    all_feature = pickle.load(f)\n",
    "\n",
    "with open('data/key.pickle', 'rb') as f:\n",
    "    key = pickle.load(f)"
   ]
  },
  {
   "cell_type": "code",
   "execution_count": 36,
   "metadata": {
    "ExecuteTime": {
     "end_time": "2019-08-23T00:36:24.063780Z",
     "start_time": "2019-08-23T00:36:24.057958Z"
    }
   },
   "outputs": [
    {
     "data": {
      "text/plain": [
       "240"
      ]
     },
     "execution_count": 36,
     "metadata": {},
     "output_type": "execute_result"
    }
   ],
   "source": [
    "len(col_names)"
   ]
  },
  {
   "cell_type": "code",
   "execution_count": 37,
   "metadata": {
    "ExecuteTime": {
     "end_time": "2019-08-23T00:36:26.977110Z",
     "start_time": "2019-08-23T00:36:25.858941Z"
    }
   },
   "outputs": [
    {
     "name": "stdout",
     "output_type": "stream",
     "text": [
      "(20001, 240)\n"
     ]
    },
    {
     "data": {
      "text/html": [
       "<div>\n",
       "<style scoped>\n",
       "    .dataframe tbody tr th:only-of-type {\n",
       "        vertical-align: middle;\n",
       "    }\n",
       "\n",
       "    .dataframe tbody tr th {\n",
       "        vertical-align: top;\n",
       "    }\n",
       "\n",
       "    .dataframe thead th {\n",
       "        text-align: right;\n",
       "    }\n",
       "</style>\n",
       "<table border=\"1\" class=\"dataframe\">\n",
       "  <thead>\n",
       "    <tr style=\"text-align: right;\">\n",
       "      <th></th>\n",
       "      <th>fifteen_days.count</th>\n",
       "      <th>fifteen_days.sum</th>\n",
       "      <th>fifteen_days.mean</th>\n",
       "      <th>fifteen_days.std</th>\n",
       "      <th>fifteen_days.abs_change</th>\n",
       "      <th>fifteen_days.abs_energy</th>\n",
       "      <th>fifteen_days.intercept_2</th>\n",
       "      <th>fifteen_days.slope_2</th>\n",
       "      <th>fifteen_days.intercept_5</th>\n",
       "      <th>fifteen_days.slope_5</th>\n",
       "      <th>...</th>\n",
       "      <th>thirty_days.register.count</th>\n",
       "      <th>thirty_days.register.sum</th>\n",
       "      <th>thirty_days.register.mean</th>\n",
       "      <th>thirty_days.register.std</th>\n",
       "      <th>thirty_days.register.abs_change</th>\n",
       "      <th>thirty_days.register.abs_energy</th>\n",
       "      <th>thirty_days.register.intercept_2</th>\n",
       "      <th>thirty_days.register.slope_2</th>\n",
       "      <th>thirty_days.register.intercept_5</th>\n",
       "      <th>thirty_days.register.slope_5</th>\n",
       "    </tr>\n",
       "  </thead>\n",
       "  <tbody>\n",
       "    <tr>\n",
       "      <th>0</th>\n",
       "      <td>13.0</td>\n",
       "      <td>246.287</td>\n",
       "      <td>18.945154</td>\n",
       "      <td>17.060375</td>\n",
       "      <td>-7.651</td>\n",
       "      <td>8449.678349</td>\n",
       "      <td>18.832000</td>\n",
       "      <td>-0.217179</td>\n",
       "      <td>25.881378</td>\n",
       "      <td>-4.237233</td>\n",
       "      <td>...</td>\n",
       "      <td>NaN</td>\n",
       "      <td>NaN</td>\n",
       "      <td>NaN</td>\n",
       "      <td>NaN</td>\n",
       "      <td>NaN</td>\n",
       "      <td>NaN</td>\n",
       "      <td>NaN</td>\n",
       "      <td>NaN</td>\n",
       "      <td>NaN</td>\n",
       "      <td>NaN</td>\n",
       "    </tr>\n",
       "    <tr>\n",
       "      <th>1</th>\n",
       "      <td>24.0</td>\n",
       "      <td>525.965</td>\n",
       "      <td>21.915208</td>\n",
       "      <td>72.593900</td>\n",
       "      <td>-10.252</td>\n",
       "      <td>138003.617565</td>\n",
       "      <td>13.894424</td>\n",
       "      <td>1.233967</td>\n",
       "      <td>25.862340</td>\n",
       "      <td>-1.576980</td>\n",
       "      <td>...</td>\n",
       "      <td>NaN</td>\n",
       "      <td>NaN</td>\n",
       "      <td>NaN</td>\n",
       "      <td>NaN</td>\n",
       "      <td>NaN</td>\n",
       "      <td>NaN</td>\n",
       "      <td>NaN</td>\n",
       "      <td>NaN</td>\n",
       "      <td>NaN</td>\n",
       "      <td>NaN</td>\n",
       "    </tr>\n",
       "    <tr>\n",
       "      <th>2</th>\n",
       "      <td>16.0</td>\n",
       "      <td>177.417</td>\n",
       "      <td>11.088562</td>\n",
       "      <td>16.481292</td>\n",
       "      <td>-8.024</td>\n",
       "      <td>6313.427515</td>\n",
       "      <td>-1.270125</td>\n",
       "      <td>2.746375</td>\n",
       "      <td>6.891100</td>\n",
       "      <td>1.131740</td>\n",
       "      <td>...</td>\n",
       "      <td>NaN</td>\n",
       "      <td>NaN</td>\n",
       "      <td>NaN</td>\n",
       "      <td>NaN</td>\n",
       "      <td>NaN</td>\n",
       "      <td>NaN</td>\n",
       "      <td>NaN</td>\n",
       "      <td>NaN</td>\n",
       "      <td>NaN</td>\n",
       "      <td>NaN</td>\n",
       "    </tr>\n",
       "    <tr>\n",
       "      <th>3</th>\n",
       "      <td>27.0</td>\n",
       "      <td>239.599</td>\n",
       "      <td>8.874037</td>\n",
       "      <td>16.433417</td>\n",
       "      <td>-11.429</td>\n",
       "      <td>9417.754563</td>\n",
       "      <td>13.279868</td>\n",
       "      <td>-0.627597</td>\n",
       "      <td>10.812153</td>\n",
       "      <td>-0.386563</td>\n",
       "      <td>...</td>\n",
       "      <td>NaN</td>\n",
       "      <td>NaN</td>\n",
       "      <td>NaN</td>\n",
       "      <td>NaN</td>\n",
       "      <td>NaN</td>\n",
       "      <td>NaN</td>\n",
       "      <td>NaN</td>\n",
       "      <td>NaN</td>\n",
       "      <td>NaN</td>\n",
       "      <td>NaN</td>\n",
       "    </tr>\n",
       "    <tr>\n",
       "      <th>4</th>\n",
       "      <td>49.0</td>\n",
       "      <td>435.897</td>\n",
       "      <td>8.895857</td>\n",
       "      <td>6.221126</td>\n",
       "      <td>-14.188</td>\n",
       "      <td>5774.095345</td>\n",
       "      <td>7.979400</td>\n",
       "      <td>0.066908</td>\n",
       "      <td>8.224390</td>\n",
       "      <td>0.103577</td>\n",
       "      <td>...</td>\n",
       "      <td>NaN</td>\n",
       "      <td>NaN</td>\n",
       "      <td>NaN</td>\n",
       "      <td>NaN</td>\n",
       "      <td>NaN</td>\n",
       "      <td>NaN</td>\n",
       "      <td>NaN</td>\n",
       "      <td>NaN</td>\n",
       "      <td>NaN</td>\n",
       "      <td>NaN</td>\n",
       "    </tr>\n",
       "  </tbody>\n",
       "</table>\n",
       "<p>5 rows × 240 columns</p>\n",
       "</div>"
      ],
      "text/plain": [
       "   fifteen_days.count  fifteen_days.sum  fifteen_days.mean  fifteen_days.std  \\\n",
       "0                13.0           246.287          18.945154         17.060375   \n",
       "1                24.0           525.965          21.915208         72.593900   \n",
       "2                16.0           177.417          11.088562         16.481292   \n",
       "3                27.0           239.599           8.874037         16.433417   \n",
       "4                49.0           435.897           8.895857          6.221126   \n",
       "\n",
       "   fifteen_days.abs_change  fifteen_days.abs_energy  fifteen_days.intercept_2  \\\n",
       "0                   -7.651              8449.678349                 18.832000   \n",
       "1                  -10.252            138003.617565                 13.894424   \n",
       "2                   -8.024              6313.427515                 -1.270125   \n",
       "3                  -11.429              9417.754563                 13.279868   \n",
       "4                  -14.188              5774.095345                  7.979400   \n",
       "\n",
       "   fifteen_days.slope_2  fifteen_days.intercept_5  fifteen_days.slope_5  ...  \\\n",
       "0             -0.217179                 25.881378             -4.237233  ...   \n",
       "1              1.233967                 25.862340             -1.576980  ...   \n",
       "2              2.746375                  6.891100              1.131740  ...   \n",
       "3             -0.627597                 10.812153             -0.386563  ...   \n",
       "4              0.066908                  8.224390              0.103577  ...   \n",
       "\n",
       "   thirty_days.register.count  thirty_days.register.sum  \\\n",
       "0                         NaN                       NaN   \n",
       "1                         NaN                       NaN   \n",
       "2                         NaN                       NaN   \n",
       "3                         NaN                       NaN   \n",
       "4                         NaN                       NaN   \n",
       "\n",
       "   thirty_days.register.mean  thirty_days.register.std  \\\n",
       "0                        NaN                       NaN   \n",
       "1                        NaN                       NaN   \n",
       "2                        NaN                       NaN   \n",
       "3                        NaN                       NaN   \n",
       "4                        NaN                       NaN   \n",
       "\n",
       "   thirty_days.register.abs_change  thirty_days.register.abs_energy  \\\n",
       "0                              NaN                              NaN   \n",
       "1                              NaN                              NaN   \n",
       "2                              NaN                              NaN   \n",
       "3                              NaN                              NaN   \n",
       "4                              NaN                              NaN   \n",
       "\n",
       "   thirty_days.register.intercept_2  thirty_days.register.slope_2  \\\n",
       "0                               NaN                           NaN   \n",
       "1                               NaN                           NaN   \n",
       "2                               NaN                           NaN   \n",
       "3                               NaN                           NaN   \n",
       "4                               NaN                           NaN   \n",
       "\n",
       "   thirty_days.register.intercept_5  thirty_days.register.slope_5  \n",
       "0                               NaN                           NaN  \n",
       "1                               NaN                           NaN  \n",
       "2                               NaN                           NaN  \n",
       "3                               NaN                           NaN  \n",
       "4                               NaN                           NaN  \n",
       "\n",
       "[5 rows x 240 columns]"
      ]
     },
     "execution_count": 37,
     "metadata": {},
     "output_type": "execute_result"
    }
   ],
   "source": [
    "df = pd.DataFrame(all_feature, columns=col_names)\n",
    "print(df.shape)\n",
    "df.head()"
   ]
  },
  {
   "cell_type": "code",
   "execution_count": 38,
   "metadata": {
    "ExecuteTime": {
     "end_time": "2019-08-23T00:36:27.773778Z",
     "start_time": "2019-08-23T00:36:27.744412Z"
    }
   },
   "outputs": [
    {
     "name": "stdout",
     "output_type": "stream",
     "text": [
      "(20001, 2)\n"
     ]
    },
    {
     "data": {
      "text/html": [
       "<div>\n",
       "<style scoped>\n",
       "    .dataframe tbody tr th:only-of-type {\n",
       "        vertical-align: middle;\n",
       "    }\n",
       "\n",
       "    .dataframe tbody tr th {\n",
       "        vertical-align: top;\n",
       "    }\n",
       "\n",
       "    .dataframe thead th {\n",
       "        text-align: right;\n",
       "    }\n",
       "</style>\n",
       "<table border=\"1\" class=\"dataframe\">\n",
       "  <thead>\n",
       "    <tr style=\"text-align: right;\">\n",
       "      <th></th>\n",
       "      <th>user_id</th>\n",
       "      <th>order_time</th>\n",
       "    </tr>\n",
       "  </thead>\n",
       "  <tbody>\n",
       "    <tr>\n",
       "      <th>0</th>\n",
       "      <td>00003b4ceb224e1b977c242bbf767ea0</td>\n",
       "      <td>2017-10-25 15:59:00</td>\n",
       "    </tr>\n",
       "    <tr>\n",
       "      <th>1</th>\n",
       "      <td>00008a736dcc4d099436cda07d41bdc4</td>\n",
       "      <td>2017-10-08 20:18:00</td>\n",
       "    </tr>\n",
       "    <tr>\n",
       "      <th>2</th>\n",
       "      <td>00008a736dcc4d099436cda07d41bdc4</td>\n",
       "      <td>2017-10-22 02:03:00</td>\n",
       "    </tr>\n",
       "    <tr>\n",
       "      <th>3</th>\n",
       "      <td>0000c645196245c489a9bd3a0cf4a92a</td>\n",
       "      <td>2017-10-15 21:15:00</td>\n",
       "    </tr>\n",
       "    <tr>\n",
       "      <th>4</th>\n",
       "      <td>0000fa4f719e4f5f940823c12978116c</td>\n",
       "      <td>2017-10-19 23:44:00</td>\n",
       "    </tr>\n",
       "  </tbody>\n",
       "</table>\n",
       "</div>"
      ],
      "text/plain": [
       "                            user_id          order_time\n",
       "0  00003b4ceb224e1b977c242bbf767ea0 2017-10-25 15:59:00\n",
       "1  00008a736dcc4d099436cda07d41bdc4 2017-10-08 20:18:00\n",
       "2  00008a736dcc4d099436cda07d41bdc4 2017-10-22 02:03:00\n",
       "3  0000c645196245c489a9bd3a0cf4a92a 2017-10-15 21:15:00\n",
       "4  0000fa4f719e4f5f940823c12978116c 2017-10-19 23:44:00"
      ]
     },
     "execution_count": 38,
     "metadata": {},
     "output_type": "execute_result"
    }
   ],
   "source": [
    "keys = pd.DataFrame(key, columns=['user_id', 'order_time'])\n",
    "print(keys.shape)\n",
    "keys.head()"
   ]
  },
  {
   "cell_type": "code",
   "execution_count": 39,
   "metadata": {
    "ExecuteTime": {
     "end_time": "2019-08-23T00:36:29.676622Z",
     "start_time": "2019-08-23T00:36:28.993386Z"
    }
   },
   "outputs": [
    {
     "name": "stdout",
     "output_type": "stream",
     "text": [
      "fifteen_days.count    0.0\n",
      "dtype: float64\n",
      "fifteen_days.sum    0.0\n",
      "dtype: float64\n",
      "fifteen_days.mean    0.0\n",
      "dtype: float64\n",
      "fifteen_days.std    0.0059\n",
      "dtype: float64\n",
      "fifteen_days.abs_change    0.0059\n",
      "dtype: float64\n",
      "fifteen_days.abs_energy    0.0\n",
      "dtype: float64\n",
      "fifteen_days.intercept_2    0.0\n",
      "dtype: float64\n",
      "fifteen_days.slope_2    0.0\n",
      "dtype: float64\n",
      "fifteen_days.intercept_5    0.0\n",
      "dtype: float64\n",
      "fifteen_days.slope_5    0.0\n",
      "dtype: float64\n",
      "fifteen_days.bind_debit_card.count    0.0\n",
      "dtype: float64\n",
      "fifteen_days.bind_debit_card.sum    0.0\n",
      "dtype: float64\n",
      "fifteen_days.bind_debit_card.mean    0.0\n",
      "dtype: float64\n",
      "fifteen_days.bind_debit_card.std    0.032798\n",
      "dtype: float64\n",
      "fifteen_days.bind_debit_card.abs_change    0.032798\n",
      "dtype: float64\n",
      "fifteen_days.bind_debit_card.abs_energy    0.0\n",
      "dtype: float64\n",
      "fifteen_days.bind_debit_card.intercept_2    0.0\n",
      "dtype: float64\n",
      "fifteen_days.bind_debit_card.slope_2    0.0\n",
      "dtype: float64\n",
      "fifteen_days.bind_debit_card.intercept_5    0.0\n",
      "dtype: float64\n",
      "fifteen_days.bind_debit_card.slope_5    0.0\n",
      "dtype: float64\n",
      "fifteen_days.biometric_auth.count    0.0\n",
      "dtype: float64\n",
      "fifteen_days.biometric_auth.sum    0.0\n",
      "dtype: float64\n",
      "fifteen_days.biometric_auth.mean    0.0\n",
      "dtype: float64\n",
      "fifteen_days.biometric_auth.std    0.006\n",
      "dtype: float64\n",
      "fifteen_days.biometric_auth.abs_change    0.006\n",
      "dtype: float64\n",
      "fifteen_days.biometric_auth.abs_energy    0.0\n",
      "dtype: float64\n",
      "fifteen_days.biometric_auth.intercept_2    0.0\n",
      "dtype: float64\n",
      "fifteen_days.biometric_auth.slope_2    0.0\n",
      "dtype: float64\n",
      "fifteen_days.biometric_auth.intercept_5    0.0\n",
      "dtype: float64\n",
      "fifteen_days.biometric_auth.slope_5    0.0\n",
      "dtype: float64\n",
      "fifteen_days.biometric_auto.count    0.0\n",
      "dtype: float64\n",
      "fifteen_days.biometric_auto.sum    0.0\n",
      "dtype: float64\n",
      "fifteen_days.biometric_auto.mean    0.0\n",
      "dtype: float64\n",
      "fifteen_days.biometric_auto.std    0.39938\n",
      "dtype: float64\n",
      "fifteen_days.biometric_auto.abs_change    0.39938\n",
      "dtype: float64\n",
      "fifteen_days.biometric_auto.abs_energy    0.0\n",
      "dtype: float64\n",
      "fifteen_days.biometric_auto.intercept_2    0.0\n",
      "dtype: float64\n",
      "fifteen_days.biometric_auto.slope_2    0.0\n",
      "dtype: float64\n",
      "fifteen_days.biometric_auto.intercept_5    0.0\n",
      "dtype: float64\n",
      "fifteen_days.biometric_auto.slope_5    0.0\n",
      "dtype: float64\n",
      "fifteen_days.contacts_info.count    0.0\n",
      "dtype: float64\n",
      "fifteen_days.contacts_info.sum    0.0\n",
      "dtype: float64\n",
      "fifteen_days.contacts_info.mean    0.0\n",
      "dtype: float64\n",
      "fifteen_days.contacts_info.std    0.0018\n",
      "dtype: float64\n",
      "fifteen_days.contacts_info.abs_change    0.0018\n",
      "dtype: float64\n",
      "fifteen_days.contacts_info.abs_energy    0.0\n",
      "dtype: float64\n",
      "fifteen_days.contacts_info.intercept_2    0.0\n",
      "dtype: float64\n",
      "fifteen_days.contacts_info.slope_2    0.0\n",
      "dtype: float64\n",
      "fifteen_days.contacts_info.intercept_5    0.0\n",
      "dtype: float64\n",
      "fifteen_days.contacts_info.slope_5    0.0\n",
      "dtype: float64\n",
      "fifteen_days.id_verify.count    0.0\n",
      "dtype: float64\n",
      "fifteen_days.id_verify.sum    0.0\n",
      "dtype: float64\n",
      "fifteen_days.id_verify.mean    0.0\n",
      "dtype: float64\n",
      "fifteen_days.id_verify.std    0.00755\n",
      "dtype: float64\n",
      "fifteen_days.id_verify.abs_change    0.0077\n",
      "dtype: float64\n",
      "fifteen_days.id_verify.abs_energy    0.0\n",
      "dtype: float64\n",
      "fifteen_days.id_verify.intercept_2    0.0\n",
      "dtype: float64\n",
      "fifteen_days.id_verify.slope_2    0.0\n",
      "dtype: float64\n",
      "fifteen_days.id_verify.intercept_5    0.0\n",
      "dtype: float64\n",
      "fifteen_days.id_verify.slope_5    0.0\n",
      "dtype: float64\n",
      "fifteen_days.loan_index.count    0.0\n",
      "dtype: float64\n",
      "fifteen_days.loan_index.sum    0.0\n",
      "dtype: float64\n",
      "fifteen_days.loan_index.mean    0.0\n",
      "dtype: float64\n",
      "fifteen_days.loan_index.std    0.016899\n",
      "dtype: float64\n",
      "fifteen_days.loan_index.abs_change    0.016949\n",
      "dtype: float64\n",
      "fifteen_days.loan_index.abs_energy    0.0\n",
      "dtype: float64\n",
      "fifteen_days.loan_index.intercept_2    0.0\n",
      "dtype: float64\n",
      "fifteen_days.loan_index.slope_2    0.0\n",
      "dtype: float64\n",
      "fifteen_days.loan_index.intercept_5    0.0\n",
      "dtype: float64\n",
      "fifteen_days.loan_index.slope_5    0.0\n",
      "dtype: float64\n",
      "fifteen_days.loan_submission.count    0.0\n",
      "dtype: float64\n",
      "fifteen_days.loan_submission.sum    0.0\n",
      "dtype: float64\n",
      "fifteen_days.loan_submission.mean    0.0\n",
      "dtype: float64\n",
      "fifteen_days.loan_submission.std    0.304735\n",
      "dtype: float64\n",
      "fifteen_days.loan_submission.abs_change    0.304735\n",
      "dtype: float64\n",
      "fifteen_days.loan_submission.abs_energy    0.0\n",
      "dtype: float64\n",
      "fifteen_days.loan_submission.intercept_2    0.0\n",
      "dtype: float64\n",
      "fifteen_days.loan_submission.slope_2    0.0\n",
      "dtype: float64\n",
      "fifteen_days.loan_submission.intercept_5    0.0\n",
      "dtype: float64\n",
      "fifteen_days.loan_submission.slope_5    0.0\n",
      "dtype: float64\n",
      "fifteen_days.login.count    0.0\n",
      "dtype: float64\n",
      "fifteen_days.login.sum    0.0\n",
      "dtype: float64\n",
      "fifteen_days.login.mean    0.0\n",
      "dtype: float64\n",
      "fifteen_days.login.std    0.494775\n",
      "dtype: float64\n",
      "fifteen_days.login.abs_change    0.494775\n",
      "dtype: float64\n",
      "fifteen_days.login.abs_energy    0.0\n",
      "dtype: float64\n",
      "fifteen_days.login.intercept_2    0.0\n",
      "dtype: float64\n",
      "fifteen_days.login.slope_2    0.0\n",
      "dtype: float64\n",
      "fifteen_days.login.intercept_5    0.0\n",
      "dtype: float64\n",
      "fifteen_days.login.slope_5    0.0\n",
      "dtype: float64\n",
      "fifteen_days.operator.count    0.0\n",
      "dtype: float64\n",
      "fifteen_days.operator.sum    0.0\n",
      "dtype: float64\n",
      "fifteen_days.operator.mean    0.0\n",
      "dtype: float64\n",
      "fifteen_days.operator.std    0.307635\n",
      "dtype: float64\n",
      "fifteen_days.operator.abs_change    0.307635\n",
      "dtype: float64\n",
      "fifteen_days.operator.abs_energy    0.0\n",
      "dtype: float64\n",
      "fifteen_days.operator.intercept_2    0.0\n",
      "dtype: float64\n",
      "fifteen_days.operator.slope_2    0.0\n",
      "dtype: float64\n",
      "fifteen_days.operator.intercept_5    0.0\n",
      "dtype: float64\n",
      "fifteen_days.operator.slope_5    0.0\n",
      "dtype: float64\n",
      "fifteen_days.personal_info.count    0.0\n",
      "dtype: float64\n",
      "fifteen_days.personal_info.sum    0.0\n",
      "dtype: float64\n",
      "fifteen_days.personal_info.mean    0.0\n",
      "dtype: float64\n",
      "fifteen_days.personal_info.std    0.0036\n",
      "dtype: float64\n",
      "fifteen_days.personal_info.abs_change    0.00365\n",
      "dtype: float64\n",
      "fifteen_days.personal_info.abs_energy    0.0\n",
      "dtype: float64\n",
      "fifteen_days.personal_info.intercept_2    0.0\n",
      "dtype: float64\n",
      "fifteen_days.personal_info.slope_2    0.00005\n",
      "dtype: float64\n",
      "fifteen_days.personal_info.intercept_5    0.0\n",
      "dtype: float64\n",
      "fifteen_days.personal_info.slope_5    0.0\n",
      "dtype: float64\n",
      "fifteen_days.register.count    0.0\n",
      "dtype: float64\n",
      "fifteen_days.register.sum    0.0\n",
      "dtype: float64\n",
      "fifteen_days.register.mean    0.0\n",
      "dtype: float64\n",
      "fifteen_days.register.std    0.121544\n",
      "dtype: float64\n",
      "fifteen_days.register.abs_change    0.121594\n",
      "dtype: float64\n",
      "fifteen_days.register.abs_energy    0.0\n",
      "dtype: float64\n",
      "fifteen_days.register.intercept_2    0.0\n",
      "dtype: float64\n",
      "fifteen_days.register.slope_2    0.0\n",
      "dtype: float64\n",
      "fifteen_days.register.intercept_5    0.0\n",
      "dtype: float64\n",
      "fifteen_days.register.slope_5    0.0\n",
      "dtype: float64\n",
      "thirty_days.count    0.0\n",
      "dtype: float64\n",
      "thirty_days.sum    0.0\n",
      "dtype: float64\n",
      "thirty_days.mean    0.0\n",
      "dtype: float64\n",
      "thirty_days.std    0.00195\n",
      "dtype: float64\n",
      "thirty_days.abs_change    0.002\n",
      "dtype: float64\n",
      "thirty_days.abs_energy    0.0\n",
      "dtype: float64\n",
      "thirty_days.intercept_2    0.0\n",
      "dtype: float64\n",
      "thirty_days.slope_2    0.0\n",
      "dtype: float64\n",
      "thirty_days.intercept_5    0.0\n",
      "dtype: float64\n",
      "thirty_days.slope_5    0.0\n",
      "dtype: float64\n",
      "thirty_days.bind_debit_card.count    0.0\n",
      "dtype: float64\n",
      "thirty_days.bind_debit_card.sum    0.0\n",
      "dtype: float64\n",
      "thirty_days.bind_debit_card.mean    0.0\n",
      "dtype: float64\n",
      "thirty_days.bind_debit_card.std    0.035698\n",
      "dtype: float64\n",
      "thirty_days.bind_debit_card.abs_change    0.035698\n",
      "dtype: float64\n",
      "thirty_days.bind_debit_card.abs_energy    0.0\n",
      "dtype: float64\n",
      "thirty_days.bind_debit_card.intercept_2    0.0\n",
      "dtype: float64\n",
      "thirty_days.bind_debit_card.slope_2    0.0\n",
      "dtype: float64\n",
      "thirty_days.bind_debit_card.intercept_5    0.0\n",
      "dtype: float64\n",
      "thirty_days.bind_debit_card.slope_5    0.0\n",
      "dtype: float64\n",
      "thirty_days.biometric_auth.count    0.0\n",
      "dtype: float64\n",
      "thirty_days.biometric_auth.sum    0.0\n",
      "dtype: float64\n",
      "thirty_days.biometric_auth.mean    0.0\n",
      "dtype: float64\n",
      "thirty_days.biometric_auth.std    0.009\n",
      "dtype: float64\n",
      "thirty_days.biometric_auth.abs_change    0.009\n",
      "dtype: float64\n",
      "thirty_days.biometric_auth.abs_energy    0.0\n",
      "dtype: float64\n",
      "thirty_days.biometric_auth.intercept_2    0.0\n",
      "dtype: float64\n",
      "thirty_days.biometric_auth.slope_2    0.0\n",
      "dtype: float64\n",
      "thirty_days.biometric_auth.intercept_5    0.0\n",
      "dtype: float64\n",
      "thirty_days.biometric_auth.slope_5    0.0\n",
      "dtype: float64\n",
      "thirty_days.biometric_auto.count    0.0\n",
      "dtype: float64\n",
      "thirty_days.biometric_auto.sum    0.0\n",
      "dtype: float64\n",
      "thirty_days.biometric_auto.mean    0.0\n",
      "dtype: float64\n",
      "thirty_days.biometric_auto.std    0.553222\n",
      "dtype: float64\n",
      "thirty_days.biometric_auto.abs_change    0.553222\n",
      "dtype: float64\n",
      "thirty_days.biometric_auto.abs_energy    0.0\n",
      "dtype: float64\n",
      "thirty_days.biometric_auto.intercept_2    0.0\n",
      "dtype: float64\n",
      "thirty_days.biometric_auto.slope_2    0.0\n",
      "dtype: float64\n",
      "thirty_days.biometric_auto.intercept_5    0.0\n",
      "dtype: float64\n",
      "thirty_days.biometric_auto.slope_5    0.0\n",
      "dtype: float64\n",
      "thirty_days.contacts_info.count    0.0\n",
      "dtype: float64\n",
      "thirty_days.contacts_info.sum    0.0\n",
      "dtype: float64\n",
      "thirty_days.contacts_info.mean    0.0\n",
      "dtype: float64\n",
      "thirty_days.contacts_info.std    0.00305\n",
      "dtype: float64\n",
      "thirty_days.contacts_info.abs_change    0.00305\n",
      "dtype: float64\n",
      "thirty_days.contacts_info.abs_energy    0.0\n",
      "dtype: float64\n",
      "thirty_days.contacts_info.intercept_2    0.0\n",
      "dtype: float64\n",
      "thirty_days.contacts_info.slope_2    0.0\n",
      "dtype: float64\n",
      "thirty_days.contacts_info.intercept_5    0.0\n",
      "dtype: float64\n",
      "thirty_days.contacts_info.slope_5    0.0\n",
      "dtype: float64\n",
      "thirty_days.id_verify.count    0.0\n",
      "dtype: float64\n",
      "thirty_days.id_verify.sum    0.0\n",
      "dtype: float64\n",
      "thirty_days.id_verify.mean    0.0\n",
      "dtype: float64\n",
      "thirty_days.id_verify.std    0.010849\n",
      "dtype: float64\n",
      "thirty_days.id_verify.abs_change    0.010949\n",
      "dtype: float64\n",
      "thirty_days.id_verify.abs_energy    0.0\n",
      "dtype: float64\n",
      "thirty_days.id_verify.intercept_2    0.0\n",
      "dtype: float64\n",
      "thirty_days.id_verify.slope_2    0.0\n",
      "dtype: float64\n",
      "thirty_days.id_verify.intercept_5    0.0\n",
      "dtype: float64\n",
      "thirty_days.id_verify.slope_5    0.0\n",
      "dtype: float64\n",
      "thirty_days.loan_index.count    0.0\n",
      "dtype: float64\n",
      "thirty_days.loan_index.sum    0.0\n",
      "dtype: float64\n",
      "thirty_days.loan_index.mean    0.0\n",
      "dtype: float64\n",
      "thirty_days.loan_index.std    0.00795\n",
      "dtype: float64\n",
      "thirty_days.loan_index.abs_change    0.008\n",
      "dtype: float64\n",
      "thirty_days.loan_index.abs_energy    0.0\n",
      "dtype: float64\n",
      "thirty_days.loan_index.intercept_2    0.0\n",
      "dtype: float64\n",
      "thirty_days.loan_index.slope_2    0.0\n",
      "dtype: float64\n",
      "thirty_days.loan_index.intercept_5    0.0\n",
      "dtype: float64\n",
      "thirty_days.loan_index.slope_5    0.0\n",
      "dtype: float64\n",
      "thirty_days.loan_submission.count    0.0\n",
      "dtype: float64\n",
      "thirty_days.loan_submission.sum    0.0\n",
      "dtype: float64\n",
      "thirty_days.loan_submission.mean    0.0\n",
      "dtype: float64\n",
      "thirty_days.loan_submission.std    0.224889\n",
      "dtype: float64\n",
      "thirty_days.loan_submission.abs_change    0.224889\n",
      "dtype: float64\n",
      "thirty_days.loan_submission.abs_energy    0.0\n",
      "dtype: float64\n",
      "thirty_days.loan_submission.intercept_2    0.0\n",
      "dtype: float64\n",
      "thirty_days.loan_submission.slope_2    0.0\n",
      "dtype: float64\n",
      "thirty_days.loan_submission.intercept_5    0.0\n",
      "dtype: float64\n",
      "thirty_days.loan_submission.slope_5    0.0\n",
      "dtype: float64\n",
      "thirty_days.login.count    0.0\n",
      "dtype: float64\n",
      "thirty_days.login.sum    0.0\n",
      "dtype: float64\n",
      "thirty_days.login.mean    0.0\n",
      "dtype: float64\n",
      "thirty_days.login.std    0.569222\n",
      "dtype: float64\n",
      "thirty_days.login.abs_change    0.569222\n",
      "dtype: float64\n",
      "thirty_days.login.abs_energy    0.0\n",
      "dtype: float64\n",
      "thirty_days.login.intercept_2    0.0\n",
      "dtype: float64\n",
      "thirty_days.login.slope_2    0.0\n",
      "dtype: float64\n",
      "thirty_days.login.intercept_5    0.0\n",
      "dtype: float64\n",
      "thirty_days.login.slope_5    0.0\n",
      "dtype: float64\n",
      "thirty_days.operator.count    0.0\n",
      "dtype: float64\n",
      "thirty_days.operator.sum    0.0\n",
      "dtype: float64\n",
      "thirty_days.operator.mean    0.0\n",
      "dtype: float64\n",
      "thirty_days.operator.std    0.39993\n",
      "dtype: float64\n",
      "thirty_days.operator.abs_change    0.39993\n",
      "dtype: float64\n",
      "thirty_days.operator.abs_energy    0.0\n",
      "dtype: float64\n",
      "thirty_days.operator.intercept_2    0.0\n",
      "dtype: float64\n",
      "thirty_days.operator.slope_2    0.0\n",
      "dtype: float64\n",
      "thirty_days.operator.intercept_5    0.0\n",
      "dtype: float64\n",
      "thirty_days.operator.slope_5    0.0\n",
      "dtype: float64\n",
      "thirty_days.personal_info.count    0.0\n",
      "dtype: float64\n",
      "thirty_days.personal_info.sum    0.0\n",
      "dtype: float64\n",
      "thirty_days.personal_info.mean    0.0\n",
      "dtype: float64\n",
      "thirty_days.personal_info.std    0.0054\n",
      "dtype: float64\n"
     ]
    },
    {
     "name": "stdout",
     "output_type": "stream",
     "text": [
      "thirty_days.personal_info.abs_change    0.00545\n",
      "dtype: float64\n",
      "thirty_days.personal_info.abs_energy    0.0\n",
      "dtype: float64\n",
      "thirty_days.personal_info.intercept_2    0.0\n",
      "dtype: float64\n",
      "thirty_days.personal_info.slope_2    0.0001\n",
      "dtype: float64\n",
      "thirty_days.personal_info.intercept_5    0.0\n",
      "dtype: float64\n",
      "thirty_days.personal_info.slope_5    0.0\n",
      "dtype: float64\n",
      "thirty_days.register.count    0.0\n",
      "dtype: float64\n",
      "thirty_days.register.sum    0.0\n",
      "dtype: float64\n",
      "thirty_days.register.mean    0.0\n",
      "dtype: float64\n",
      "thirty_days.register.std    0.170741\n",
      "dtype: float64\n",
      "thirty_days.register.abs_change    0.170791\n",
      "dtype: float64\n",
      "thirty_days.register.abs_energy    0.0\n",
      "dtype: float64\n",
      "thirty_days.register.intercept_2    0.0\n",
      "dtype: float64\n",
      "thirty_days.register.slope_2    0.0\n",
      "dtype: float64\n",
      "thirty_days.register.intercept_5    0.0\n",
      "dtype: float64\n",
      "thirty_days.register.slope_5    0.0\n",
      "dtype: float64\n"
     ]
    }
   ],
   "source": [
    "\n",
    "for c in df.columns:\n",
    "    zero_ratio = np.sum(df[[c]]==0)/len(df)\n",
    "    print(zero_ratio)"
   ]
  },
  {
   "cell_type": "code",
   "execution_count": 40,
   "metadata": {
    "ExecuteTime": {
     "end_time": "2019-08-23T00:36:30.455540Z",
     "start_time": "2019-08-23T00:36:30.319806Z"
    }
   },
   "outputs": [
    {
     "data": {
      "text/plain": [
       "(array([36.,  2.,  4.,  0.,  0., 14., 32.,  8.,  6.,  6.,  2., 32.,  0.,\n",
       "         0.,  2.,  2.,  0.,  0.,  4.,  0., 12., 10.,  6., 12., 50.]),\n",
       " array([4.99975001e-05, 4.00479976e-02, 8.00459977e-02, 1.20043998e-01,\n",
       "        1.60041998e-01, 2.00039998e-01, 2.40037998e-01, 2.80035998e-01,\n",
       "        3.20033998e-01, 3.60031998e-01, 4.00029999e-01, 4.40027999e-01,\n",
       "        4.80025999e-01, 5.20023999e-01, 5.60021999e-01, 6.00019999e-01,\n",
       "        6.40017999e-01, 6.80015999e-01, 7.20013999e-01, 7.60011999e-01,\n",
       "        8.00010000e-01, 8.40008000e-01, 8.80006000e-01, 9.20004000e-01,\n",
       "        9.60002000e-01, 1.00000000e+00]),\n",
       " <a list of 25 Patch objects>)"
      ]
     },
     "execution_count": 40,
     "metadata": {},
     "output_type": "execute_result"
    },
    {
     "data": {
      "image/png": "[encoded data removed]",
      "text/plain": [
       "<Figure size 432x288 with 1 Axes>"
      ]
     },
     "metadata": {
      "needs_background": "light"
     },
     "output_type": "display_data"
    }
   ],
   "source": [
    "cov = df.isnull().sum(axis=0)/len(df)\n",
    "plt.hist(cov, bins=25)"
   ]
  },
  {
   "cell_type": "code",
   "execution_count": 41,
   "metadata": {
    "ExecuteTime": {
     "end_time": "2019-08-23T00:36:39.217862Z",
     "start_time": "2019-08-23T00:36:38.708944Z"
    }
   },
   "outputs": [
    {
     "data": {
      "text/plain": [
       "0         0.0\n",
       "1         0.0\n",
       "2         0.0\n",
       "3         0.0\n",
       "4         0.0\n",
       "         ... \n",
       "199732    0.0\n",
       "199733    0.0\n",
       "199734    1.0\n",
       "199735    0.0\n",
       "199736    0.0\n",
       "Name: label, Length: 199737, dtype: float64"
      ]
     },
     "execution_count": 41,
     "metadata": {},
     "output_type": "execute_result"
    }
   ],
   "source": [
    "label = gb['label'].head(1)\n",
    "label.index = range(len(label))\n",
    "label"
   ]
  },
  {
   "cell_type": "markdown",
   "metadata": {},
   "source": [
    "# model\n"
   ]
  },
  {
   "cell_type": "code",
   "execution_count": 42,
   "metadata": {
    "ExecuteTime": {
     "end_time": "2019-08-23T00:36:42.751193Z",
     "start_time": "2019-08-23T00:36:42.737842Z"
    }
   },
   "outputs": [],
   "source": [
    "import warnings\n",
    "warnings.filterwarnings(\"ignore\")\n",
    "import joblib\n",
    "\n",
    "import numpy as np\n",
    "from datetime import datetime\n",
    "\n",
    "from matplotlib import pyplot as plt\n",
    "import json\n",
    "import copy\n",
    "from xgboost import XGBClassifier\n",
    "from lightgbm import LGBMClassifier, plot_importance, plot_tree\n",
    "import pandas as pd\n",
    "from sklearn import metrics\n",
    "from sklearn2pmml import PMMLPipeline\n",
    "from sklearn2pmml.decoration import CategoricalDomain, ContinuousDomain\n",
    "from sklearn2pmml import sklearn2pmml\n",
    "from sklearn.model_selection import train_test_split\n",
    "from sklearn_pandas import DataFrameMapper\n",
    "from sklearn.preprocessing import OneHotEncoder, Imputer, LabelEncoder, StandardScaler\n",
    "from sklearn.preprocessing import LabelBinarizer, FunctionTransformer, MaxAbsScaler\n",
    "from sklearn.preprocessing import MinMaxScaler, RobustScaler, StandardScaler\n",
    "from sklearn.decomposition import PCA\n",
    "from sklearn.model_selection import RandomizedSearchCV, GridSearchCV\n",
    "from sklearn import model_selection\n",
    "from sklearn2pmml.preprocessing import FeatureBinarizer\n",
    "from sklearn2pmml import sklearn2pmml\n",
    "from work.marvin.binary_classification_evaluation import binaryClassEvaluationPlots as evl\n",
    "from work.marvin.binary_classifier_models import modelfit, modelDiagnose\n",
    "from work.marvin.binary_classifier_models import bestLightgbmModelProducer"
   ]
  },
  {
   "cell_type": "code",
   "execution_count": 56,
   "metadata": {
    "ExecuteTime": {
     "end_time": "2019-08-23T02:21:44.977196Z",
     "start_time": "2019-08-23T02:21:44.971328Z"
    }
   },
   "outputs": [],
   "source": [
    "with open('data/label.pickle', 'wb') as f:\n",
    "    pickle.dump(y, f)"
   ]
  },
  {
   "cell_type": "code",
   "execution_count": 43,
   "metadata": {
    "ExecuteTime": {
     "end_time": "2019-08-23T00:36:45.350191Z",
     "start_time": "2019-08-23T00:36:45.317197Z"
    }
   },
   "outputs": [
    {
     "data": {
      "text/html": [
       "<div>\n",
       "<style scoped>\n",
       "    .dataframe tbody tr th:only-of-type {\n",
       "        vertical-align: middle;\n",
       "    }\n",
       "\n",
       "    .dataframe tbody tr th {\n",
       "        vertical-align: top;\n",
       "    }\n",
       "\n",
       "    .dataframe thead th {\n",
       "        text-align: right;\n",
       "    }\n",
       "</style>\n",
       "<table border=\"1\" class=\"dataframe\">\n",
       "  <thead>\n",
       "    <tr style=\"text-align: right;\">\n",
       "      <th></th>\n",
       "      <th>fifteen_days.count</th>\n",
       "      <th>fifteen_days.sum</th>\n",
       "      <th>fifteen_days.mean</th>\n",
       "      <th>fifteen_days.std</th>\n",
       "      <th>fifteen_days.abs_change</th>\n",
       "      <th>fifteen_days.abs_energy</th>\n",
       "      <th>fifteen_days.intercept_2</th>\n",
       "      <th>fifteen_days.slope_2</th>\n",
       "      <th>fifteen_days.intercept_5</th>\n",
       "      <th>fifteen_days.slope_5</th>\n",
       "      <th>...</th>\n",
       "      <th>thirty_days.register.sum</th>\n",
       "      <th>thirty_days.register.mean</th>\n",
       "      <th>thirty_days.register.std</th>\n",
       "      <th>thirty_days.register.abs_change</th>\n",
       "      <th>thirty_days.register.abs_energy</th>\n",
       "      <th>thirty_days.register.intercept_2</th>\n",
       "      <th>thirty_days.register.slope_2</th>\n",
       "      <th>thirty_days.register.intercept_5</th>\n",
       "      <th>thirty_days.register.slope_5</th>\n",
       "      <th>label</th>\n",
       "    </tr>\n",
       "  </thead>\n",
       "  <tbody>\n",
       "    <tr>\n",
       "      <th>0</th>\n",
       "      <td>13.0</td>\n",
       "      <td>246.287</td>\n",
       "      <td>18.945154</td>\n",
       "      <td>17.060375</td>\n",
       "      <td>-7.651</td>\n",
       "      <td>8449.678349</td>\n",
       "      <td>18.832000</td>\n",
       "      <td>-0.217179</td>\n",
       "      <td>25.881378</td>\n",
       "      <td>-4.237233</td>\n",
       "      <td>...</td>\n",
       "      <td>NaN</td>\n",
       "      <td>NaN</td>\n",
       "      <td>NaN</td>\n",
       "      <td>NaN</td>\n",
       "      <td>NaN</td>\n",
       "      <td>NaN</td>\n",
       "      <td>NaN</td>\n",
       "      <td>NaN</td>\n",
       "      <td>NaN</td>\n",
       "      <td>0.0</td>\n",
       "    </tr>\n",
       "    <tr>\n",
       "      <th>1</th>\n",
       "      <td>24.0</td>\n",
       "      <td>525.965</td>\n",
       "      <td>21.915208</td>\n",
       "      <td>72.593900</td>\n",
       "      <td>-10.252</td>\n",
       "      <td>138003.617565</td>\n",
       "      <td>13.894424</td>\n",
       "      <td>1.233967</td>\n",
       "      <td>25.862340</td>\n",
       "      <td>-1.576980</td>\n",
       "      <td>...</td>\n",
       "      <td>NaN</td>\n",
       "      <td>NaN</td>\n",
       "      <td>NaN</td>\n",
       "      <td>NaN</td>\n",
       "      <td>NaN</td>\n",
       "      <td>NaN</td>\n",
       "      <td>NaN</td>\n",
       "      <td>NaN</td>\n",
       "      <td>NaN</td>\n",
       "      <td>0.0</td>\n",
       "    </tr>\n",
       "  </tbody>\n",
       "</table>\n",
       "<p>2 rows × 241 columns</p>\n",
       "</div>"
      ],
      "text/plain": [
       "   fifteen_days.count  fifteen_days.sum  fifteen_days.mean  fifteen_days.std  \\\n",
       "0                13.0           246.287          18.945154         17.060375   \n",
       "1                24.0           525.965          21.915208         72.593900   \n",
       "\n",
       "   fifteen_days.abs_change  fifteen_days.abs_energy  fifteen_days.intercept_2  \\\n",
       "0                   -7.651              8449.678349                 18.832000   \n",
       "1                  -10.252            138003.617565                 13.894424   \n",
       "\n",
       "   fifteen_days.slope_2  fifteen_days.intercept_5  fifteen_days.slope_5  ...  \\\n",
       "0             -0.217179                 25.881378             -4.237233  ...   \n",
       "1              1.233967                 25.862340             -1.576980  ...   \n",
       "\n",
       "   thirty_days.register.sum  thirty_days.register.mean  \\\n",
       "0                       NaN                        NaN   \n",
       "1                       NaN                        NaN   \n",
       "\n",
       "   thirty_days.register.std  thirty_days.register.abs_change  \\\n",
       "0                       NaN                              NaN   \n",
       "1                       NaN                              NaN   \n",
       "\n",
       "   thirty_days.register.abs_energy  thirty_days.register.intercept_2  \\\n",
       "0                              NaN                               NaN   \n",
       "1                              NaN                               NaN   \n",
       "\n",
       "   thirty_days.register.slope_2  thirty_days.register.intercept_5  \\\n",
       "0                           NaN                               NaN   \n",
       "1                           NaN                               NaN   \n",
       "\n",
       "   thirty_days.register.slope_5  label  \n",
       "0                           NaN    0.0  \n",
       "1                           NaN    0.0  \n",
       "\n",
       "[2 rows x 241 columns]"
      ]
     },
     "execution_count": 43,
     "metadata": {},
     "output_type": "execute_result"
    }
   ],
   "source": [
    "X = df\n",
    "y = label.loc[:len(X)-1]\n",
    "train = pd.concat([X,y], axis=1)\n",
    "train.head(2)"
   ]
  },
  {
   "cell_type": "code",
   "execution_count": 44,
   "metadata": {
    "ExecuteTime": {
     "end_time": "2019-08-23T00:36:51.379605Z",
     "start_time": "2019-08-23T00:36:51.373973Z"
    }
   },
   "outputs": [
    {
     "data": {
      "text/plain": [
       "(20001, 241)"
      ]
     },
     "execution_count": 44,
     "metadata": {},
     "output_type": "execute_result"
    }
   ],
   "source": [
    "train.shape"
   ]
  },
  {
   "cell_type": "code",
   "execution_count": 44,
   "metadata": {
    "ExecuteTime": {
     "end_time": "2019-08-22T09:33:20.169309Z",
     "start_time": "2019-08-22T09:33:19.845075Z"
    }
   },
   "outputs": [
    {
     "data": {
      "text/plain": [
       "((15000, 241), (5001, 241))"
      ]
     },
     "execution_count": 44,
     "metadata": {},
     "output_type": "execute_result"
    }
   ],
   "source": [
    "train, test = train_test_split(train, test_size=0.25, random_state=0)\n",
    "train.shape, test.shape"
   ]
  },
  {
   "cell_type": "code",
   "execution_count": 66,
   "metadata": {
    "ExecuteTime": {
     "end_time": "2019-08-22T10:01:24.586974Z",
     "start_time": "2019-08-22T10:01:24.560650Z"
    }
   },
   "outputs": [],
   "source": [
    "# train = train.fillna(0)"
   ]
  },
  {
   "cell_type": "code",
   "execution_count": 67,
   "metadata": {
    "ExecuteTime": {
     "end_time": "2019-08-22T10:01:26.305493Z",
     "start_time": "2019-08-22T10:01:25.581364Z"
    }
   },
   "outputs": [],
   "source": [
    "continuousDomain = []\n",
    "categoricalDomain = []\n",
    "target = 'label'\n",
    "\n",
    "for columns in train.columns:\n",
    "    if columns != 'label':\n",
    "        if train[columns].dtypes != object:\n",
    "            continuousDomain.append(columns)\n",
    "        else:\n",
    "            categoricalDomain.append(columns)\n",
    "            \n",
    "\n",
    "dfm_LabelEncoder = DataFrameMapper([(continuousDomain, [ContinuousDomain(invalid_value_treatment='as_missing',\n",
    "                                                                             missing_value_treatment='as_is'),Imputer()],\n",
    "                                         {'union_cols': False})]\n",
    "                                       +[(c,[CategoricalDomain(invalid_value_treatment='as_missing',\n",
    "                                                               missing_value_treatment='as_mean',\n",
    "                                                               missing_value_replacement = 'CreditX-NA'),\n",
    "                                             LabelEncoder()])\n",
    "                                         for c in categoricalDomain],\n",
    "                                       df_out=True)\n",
    "\n",
    "ans_LB = dfm_LabelEncoder.fit_transform(train.drop(columns=[target]), np.array(train[target]))\n",
    "\n"
   ]
  },
  {
   "cell_type": "code",
   "execution_count": 68,
   "metadata": {
    "ExecuteTime": {
     "end_time": "2019-08-22T10:01:27.304296Z",
     "start_time": "2019-08-22T10:01:27.298845Z"
    }
   },
   "outputs": [
    {
     "data": {
      "text/plain": [
       "[]"
      ]
     },
     "execution_count": 68,
     "metadata": {},
     "output_type": "execute_result"
    }
   ],
   "source": [
    "categoricalDomain"
   ]
  },
  {
   "cell_type": "code",
   "execution_count": 69,
   "metadata": {
    "ExecuteTime": {
     "end_time": "2019-08-22T10:01:28.044672Z",
     "start_time": "2019-08-22T10:01:28.039088Z"
    }
   },
   "outputs": [],
   "source": [
    "lgbm_best_skopt = LGBMClassifier(boosting_type='gbdt', \n",
    "                                 class_weight=None,\n",
    "                                 colsample_bytree=0.6, \n",
    "                                 importance_type='split',\n",
    "                                 is_unbalance=True, \n",
    "                                 learning_rate=0.1, \n",
    "                                 max_bin=15,\n",
    "                                 max_depth=3, \n",
    "                                 min_child_samples=500, \n",
    "                                 min_child_weight=0.001,\n",
    "                                 min_split_gain=0.03, \n",
    "                                 n_estimators=600, \n",
    "                                 n_jobs=12,\n",
    "                                 num_leaves=42, \n",
    "                                 objective='binary', \n",
    "                                 random_state=27, \n",
    "                                 reg_alpha=0,\n",
    "                                 reg_lambda=0, \n",
    "                                 scale_pos_weight=1, \n",
    "                                 silent=False, \n",
    "                                 subsample=0.7,\n",
    "                                 subsample_for_bin=200000, \n",
    "                                 subsample_freq=2)"
   ]
  },
  {
   "cell_type": "code",
   "execution_count": 70,
   "metadata": {
    "ExecuteTime": {
     "end_time": "2019-08-22T10:01:31.128980Z",
     "start_time": "2019-08-22T10:01:28.827811Z"
    }
   },
   "outputs": [
    {
     "data": {
      "text/plain": [
       "PMMLPipeline(steps=[('dfm', DataFrameMapper(default=False, df_out=True,\n",
       "        features=[(['fifteen_days.count', 'fifteen_days.sum', 'fifteen_days.mean', 'fifteen_days.std', 'fifteen_days.abs_change', 'fifteen_days.abs_energy', 'fifteen_days.intercept_2', 'fifteen_days.slope_2', 'fifteen_days.intercept_5', 'fifteen_days.slope_5', 'fifteen_days.bind_debit_card.count', 'fifteen_...puter(axis=0, copy=True, missing_values='NaN', strategy='mean', verbose=0)], {'union_cols': False})],\n",
       "        input_df=False, sparse=False)),\n",
       "       ('lightGBM', LGBMClassifier(boosting_type='gbdt', class_weight=None, colsample_bytree=0.6,\n",
       "        importance_type='split', is_unbalance=True, learning_rate=0.1,\n",
       "        max_bin=15, max_depth=3, min_child_samples=500,\n",
       "        min_child_weight=0.001, min_split_gain=0.03, n_estimators=600,\n",
       "        n_jobs=12, num_leaves=42, objective='binary', random_state=27,\n",
       "        reg_alpha=0, reg_lambda=0, scale_pos_weight=1, silent=False,\n",
       "        subsample=0.7, subsample_for_bin=200000, subsample_freq=2))])"
      ]
     },
     "execution_count": 70,
     "metadata": {},
     "output_type": "execute_result"
    }
   ],
   "source": [
    "lgb_pipeline = PMMLPipeline([('dfm', dfm_LabelEncoder),('lightGBM', lgbm_best_skopt)])\n",
    "lgb_pipeline.fit(train[train.columns.difference([target])], train[target])"
   ]
  },
  {
   "cell_type": "code",
   "execution_count": 71,
   "metadata": {
    "ExecuteTime": {
     "end_time": "2019-08-22T10:01:37.711748Z",
     "start_time": "2019-08-22T10:01:31.908225Z"
    }
   },
   "outputs": [
    {
     "name": "stdout",
     "output_type": "stream",
     "text": [
      "\n",
      "Model Report\n",
      "AUC Score (Train): 0.910142\n",
      "CV Score : Mean - 0.5351683 | Std - 0.0117474 | Min - 0.5233 | Max - 0.5511702\n"
     ]
    },
    {
     "data": {
      "image/png": "[encoded data removed]",
      "text/plain": [
       "<Figure size 1000x800 with 1 Axes>"
      ]
     },
     "metadata": {
      "needs_background": "light"
     },
     "output_type": "display_data"
    }
   ],
   "source": [
    "pipeline ,train_, predprob, auc, cv_score = modelfit.pipeline_fit(lgb_pipeline,train,target,cv=3)"
   ]
  },
  {
   "cell_type": "code",
   "execution_count": 72,
   "metadata": {
    "ExecuteTime": {
     "end_time": "2019-08-22T10:01:37.724831Z",
     "start_time": "2019-08-22T10:01:37.713943Z"
    }
   },
   "outputs": [
    {
     "data": {
      "text/html": [
       "<div>\n",
       "<style scoped>\n",
       "    .dataframe tbody tr th:only-of-type {\n",
       "        vertical-align: middle;\n",
       "    }\n",
       "\n",
       "    .dataframe tbody tr th {\n",
       "        vertical-align: top;\n",
       "    }\n",
       "\n",
       "    .dataframe thead th {\n",
       "        text-align: right;\n",
       "    }\n",
       "</style>\n",
       "<table border=\"1\" class=\"dataframe\">\n",
       "  <thead>\n",
       "    <tr style=\"text-align: right;\">\n",
       "      <th></th>\n",
       "      <th>ftr_importance</th>\n",
       "    </tr>\n",
       "  </thead>\n",
       "  <tbody>\n",
       "    <tr>\n",
       "      <th>thirty_days.loan_index.abs_change</th>\n",
       "      <td>0.017662</td>\n",
       "    </tr>\n",
       "    <tr>\n",
       "      <th>thirty_days.loan_index.mean</th>\n",
       "      <td>0.016177</td>\n",
       "    </tr>\n",
       "    <tr>\n",
       "      <th>thirty_days.contacts_info.abs_change</th>\n",
       "      <td>0.015260</td>\n",
       "    </tr>\n",
       "    <tr>\n",
       "      <th>thirty_days.abs_change</th>\n",
       "      <td>0.014941</td>\n",
       "    </tr>\n",
       "    <tr>\n",
       "      <th>thirty_days.operator.mean</th>\n",
       "      <td>0.014051</td>\n",
       "    </tr>\n",
       "    <tr>\n",
       "      <th>fifteen_days.intercept_2</th>\n",
       "      <td>0.013027</td>\n",
       "    </tr>\n",
       "    <tr>\n",
       "      <th>thirty_days.mean</th>\n",
       "      <td>0.012901</td>\n",
       "    </tr>\n",
       "    <tr>\n",
       "      <th>thirty_days.operator.std</th>\n",
       "      <td>0.012467</td>\n",
       "    </tr>\n",
       "    <tr>\n",
       "      <th>fifteen_days.loan_index.mean</th>\n",
       "      <td>0.012287</td>\n",
       "    </tr>\n",
       "    <tr>\n",
       "      <th>thirty_days.loan_index.slope_5</th>\n",
       "      <td>0.012156</td>\n",
       "    </tr>\n",
       "  </tbody>\n",
       "</table>\n",
       "</div>"
      ],
      "text/plain": [
       "                                      ftr_importance\n",
       "thirty_days.loan_index.abs_change           0.017662\n",
       "thirty_days.loan_index.mean                 0.016177\n",
       "thirty_days.contacts_info.abs_change        0.015260\n",
       "thirty_days.abs_change                      0.014941\n",
       "thirty_days.operator.mean                   0.014051\n",
       "fifteen_days.intercept_2                    0.013027\n",
       "thirty_days.mean                            0.012901\n",
       "thirty_days.operator.std                    0.012467\n",
       "fifteen_days.loan_index.mean                0.012287\n",
       "thirty_days.loan_index.slope_5              0.012156"
      ]
     },
     "execution_count": 72,
     "metadata": {},
     "output_type": "execute_result"
    }
   ],
   "source": [
    "pipeline.feature_importances_.T.head(10)"
   ]
  },
  {
   "cell_type": "code",
   "execution_count": 73,
   "metadata": {
    "ExecuteTime": {
     "end_time": "2019-08-22T10:01:38.314319Z",
     "start_time": "2019-08-22T10:01:37.728673Z"
    }
   },
   "outputs": [
    {
     "name": "stdout",
     "output_type": "stream",
     "text": [
      "0.4974840462729049\n"
     ]
    },
    {
     "data": {
      "text/plain": [
       "(0.035112392168803686, 0.33, 0.06, 0.24)"
      ]
     },
     "execution_count": 73,
     "metadata": {},
     "output_type": "execute_result"
    },
    {
     "data": {
      "image/png": "[encoded data removed]",
      "text/plain": [
       "<Figure size 432x288 with 1 Axes>"
      ]
     },
     "metadata": {
      "needs_background": "light"
     },
     "output_type": "display_data"
    }
   ],
   "source": [
    "pipeline, test_, predprob = modelfit.pipelinePredict(lgb_pipeline, test, target)\n",
    "auc = metrics.roc_auc_score(y_score=predprob['predprob'], y_true = predprob['ytrue'])\n",
    "print(auc)\n",
    "evl.ks_curve(Y_true = predprob['ytrue'], Y_predprob = predprob['predprob'],fig_path=None)"
   ]
  },
  {
   "cell_type": "code",
   "execution_count": 74,
   "metadata": {
    "ExecuteTime": {
     "end_time": "2019-08-22T10:01:39.252817Z",
     "start_time": "2019-08-22T10:01:38.315912Z"
    }
   },
   "outputs": [
    {
     "name": "stdout",
     "output_type": "stream",
     "text": [
      "0.9101415023437429\n"
     ]
    },
    {
     "data": {
      "text/plain": [
       "(0.6726717988510442, 0.51, 0.25, 0.86)"
      ]
     },
     "execution_count": 74,
     "metadata": {},
     "output_type": "execute_result"
    },
    {
     "data": {
      "image/png": "[encoded data removed]",
      "text/plain": [
       "<Figure size 432x288 with 1 Axes>"
      ]
     },
     "metadata": {
      "needs_background": "light"
     },
     "output_type": "display_data"
    }
   ],
   "source": [
    "pipeline, train_, predprob = modelfit.pipelinePredict(lgb_pipeline, train, target)\n",
    "auc = metrics.roc_auc_score(y_score=predprob['predprob'], y_true = predprob['ytrue'])\n",
    "print(auc)\n",
    "evl.ks_curve(Y_true = predprob['ytrue'], Y_predprob = predprob['predprob'],fig_path=None)"
   ]
  },
  {
   "cell_type": "code",
   "execution_count": null,
   "metadata": {},
   "outputs": [],
   "source": []
  },
  {
   "cell_type": "markdown",
   "metadata": {},
   "source": [
    "# LR baseline"
   ]
  },
  {
   "cell_type": "code",
   "execution_count": 45,
   "metadata": {
    "ExecuteTime": {
     "end_time": "2019-08-23T00:37:30.469883Z",
     "start_time": "2019-08-23T00:37:29.807407Z"
    }
   },
   "outputs": [
    {
     "name": "stdout",
     "output_type": "stream",
     "text": [
      "fifteen_days.count                    112\n",
      "fifteen_days.sum                      112\n",
      "fifteen_days.mean                     112\n",
      "fifteen_days.std                      112\n",
      "fifteen_days.abs_change               112\n",
      "                                    ...  \n",
      "thirty_days.register.abs_energy     16584\n",
      "thirty_days.register.intercept_2    20001\n",
      "thirty_days.register.slope_2        20001\n",
      "thirty_days.register.intercept_5    20001\n",
      "thirty_days.register.slope_5        20001\n",
      "Length: 240, dtype: int64\n"
     ]
    }
   ],
   "source": [
    "X = df\n",
    "y = label.loc[:len(X)-1]\n",
    "\n",
    "# Nans\n",
    "print(X.isnull().sum(axis=0))\n",
    "X = X.fillna(0)\n",
    "\n",
    "# scaler\n",
    "from sklearn.preprocessing import StandardScaler\n",
    "scaler = StandardScaler()\n",
    "\n",
    "my_features = X\n",
    "for c in my_features.columns:\n",
    "    my_features[[c]] = scaler.fit_transform(my_features[[c]])\n",
    "    "
   ]
  },
  {
   "cell_type": "code",
   "execution_count": 46,
   "metadata": {
    "ExecuteTime": {
     "end_time": "2019-08-23T00:37:31.172883Z",
     "start_time": "2019-08-23T00:37:31.134554Z"
    }
   },
   "outputs": [
    {
     "data": {
      "text/plain": [
       "((15000, 240), (5001, 240))"
      ]
     },
     "execution_count": 46,
     "metadata": {},
     "output_type": "execute_result"
    }
   ],
   "source": [
    "# split\n",
    "import sklearn\n",
    "from sklearn.model_selection import train_test_split\n",
    "\n",
    "X_train, X_test, y_train, y_test = train_test_split(X, y, test_size=0.25, random_state=29)\n",
    "X_train.shape, X_test.shape"
   ]
  },
  {
   "cell_type": "code",
   "execution_count": 47,
   "metadata": {
    "ExecuteTime": {
     "end_time": "2019-08-23T00:37:33.014278Z",
     "start_time": "2019-08-23T00:37:33.008464Z"
    }
   },
   "outputs": [
    {
     "data": {
      "text/plain": [
       "20001"
      ]
     },
     "execution_count": 47,
     "metadata": {},
     "output_type": "execute_result"
    }
   ],
   "source": [
    "len(keys)"
   ]
  },
  {
   "cell_type": "code",
   "execution_count": 48,
   "metadata": {
    "ExecuteTime": {
     "end_time": "2019-08-23T00:37:42.490674Z",
     "start_time": "2019-08-23T00:37:35.552126Z"
    }
   },
   "outputs": [
    {
     "name": "stdout",
     "output_type": "stream",
     "text": [
      "train score: 0.922467 | test score: 0.914817\n"
     ]
    }
   ],
   "source": [
    "from sklearn.linear_model import LogisticRegression\n",
    "mod = LogisticRegression()\n",
    "mod.fit(X_train, y_train)\n",
    "tr_sc = mod.score(X_train, y_train)\n",
    "te_sc = mod.score(X_test, y_test)\n",
    "print('train score: %f | test score: %f' %(tr_sc,te_sc))\n",
    "\n",
    "y_pred = mod.predict_proba(X_test)[:,1]\n"
   ]
  },
  {
   "cell_type": "code",
   "execution_count": 49,
   "metadata": {
    "ExecuteTime": {
     "end_time": "2019-08-23T00:37:42.765701Z",
     "start_time": "2019-08-23T00:37:42.493250Z"
    }
   },
   "outputs": [
    {
     "data": {
      "text/plain": [
       "(0.04257659205718256, 0.07, 0.09, 0.7)"
      ]
     },
     "execution_count": 49,
     "metadata": {},
     "output_type": "execute_result"
    },
    {
     "data": {
      "image/png": "[encoded data removed]",
      "text/plain": [
       "<Figure size 432x288 with 1 Axes>"
      ]
     },
     "metadata": {
      "needs_background": "light"
     },
     "output_type": "display_data"
    }
   ],
   "source": [
    "evl.ks_curve(y_test, y_pred, fig_path=None)"
   ]
  },
  {
   "cell_type": "code",
   "execution_count": null,
   "metadata": {},
   "outputs": [],
   "source": []
  },
  {
   "cell_type": "code",
   "execution_count": null,
   "metadata": {},
   "outputs": [],
   "source": []
  }
 ],
 "metadata": {
  "kernelspec": {
   "display_name": "Python 3",
   "language": "python",
   "name": "python3"
  },
  "language_info": {
   "codemirror_mode": {
    "name": "ipython",
    "version": 3
   },
   "file_extension": ".py",
   "mimetype": "text/x-python",
   "name": "python",
   "nbconvert_exporter": "python",
   "pygments_lexer": "ipython3",
   "version": "3.7.1"
  },
  "toc": {
   "base_numbering": 1,
   "nav_menu": {},
   "number_sections": true,
   "sideBar": true,
   "skip_h1_title": false,
   "title_cell": "Table of Contents",
   "title_sidebar": "Contents",
   "toc_cell": false,
   "toc_position": {},
   "toc_section_display": true,
   "toc_window_display": false
  }
 },
 "nbformat": 4,
 "nbformat_minor": 2
}
