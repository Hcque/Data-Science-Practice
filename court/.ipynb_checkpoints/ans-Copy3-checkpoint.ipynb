{
 "cells": [
  {
   "cell_type": "code",
   "execution_count": 1,
   "metadata": {},
   "outputs": [],
   "source": [
    "import requests\n",
    "import json\n",
    "import time\n",
    "from bs4 import BeautifulSoup, Comment\n",
    "import IPython.display as display\n",
    "import pickle\n",
    "import pandas as pd\n",
    "pd.set_option('max_colwidth',1000)\n",
    "import re\n",
    "from tqdm import tqdm"
   ]
  },
  {
   "cell_type": "markdown",
   "metadata": {},
   "source": [
    "## Start with original url"
   ]
  },
  {
   "cell_type": "code",
   "execution_count": null,
   "metadata": {},
   "outputs": [],
   "source": [
    "  'Mozilla/5.0 (Windows NT 10.0; WOW64) AppleWebKit/537.36 (KHTML, like Gecko) Chrome/54.0.2840.99 Safari/537.36',\n",
    "                 'Mozilla/5.0 (Windows NT 10.0; Win64; x64) AppleWebKit/537.36 (KHTML, like Gecko) Chrome/54.0.2840.99 Safari/537.36',\n",
    "                 'Mozilla/5.0 (Macintosh; Intel Mac OS X 10_12_1) AppleWebKit/602.2.14 (KHTML, like Gecko) Version/10.0.1 Safari/602.2.14',\n",
    "                 'Mozilla/5.0 (Windows NT 10.0; WOW64) AppleWebKit/537.36 (KHTML, like Gecko) Chrome/54.0.2840.71 Safari/537.36',\n",
    "                 'Mozilla/5.0 (Macintosh; Intel Mac OS X 10_12_1) AppleWebKit/537.36 (KHTML, like Gecko) Chrome/54.0.2840.98 Safari/537.36',\n",
    "                 'Mozilla/5.0 (Macintosh; Intel Mac OS X 10_11_6) AppleWebKit/537.36 (KHTML, like Gecko) Chrome/54.0.2840.98 Safari/537.36',\n",
    "                 'Mozilla/5.0 (Windows NT 6.1; WOW64) AppleWebKit/537.36 (KHTML, like Gecko) Chrome/54.0.2840.71 Safari/537.36',\n",
    "                 'Mozilla/5.0 (Windows NT 6.1; Win64; x64) AppleWebKit/537.36 (KHTML, like Gecko) Chrome/54.0.2840.99 Safari/537.36',\n",
    "                 'Mozilla/5.0 (Windows NT 10.0; WOW"
   ]
  },
  {
   "cell_type": "code",
   "execution_count": 2,
   "metadata": {},
   "outputs": [],
   "source": [
    "def url_to_root(url):\n",
    "    headers = {'Accept-Encoding': 'identity',\n",
    "               'User-Agent': \n",
    "'Mozilla/5.0 (Windows NT 10.0; WOW64) AppleWebKit/537.36 (KHTML, like Gecko) Chrome/54.0.2840.99 Safari/537.36'\n",
    "                }\n",
    "    response = requests.get(url, headers=headers, timeout=5)\n",
    "#     print(response.status_code)\n",
    "    \n",
    "    root = BeautifulSoup(response.text, 'html5lib')\n",
    "    return root\n",
    "\n",
    "original_url = 'https://legalref.judiciary.hk/lrs/common/ju/judgment.jsp'\n",
    "root = url_to_root(original_url)"
   ]
  },
  {
   "cell_type": "markdown",
   "metadata": {},
   "source": [
    "## Hieachy 1: parent court categories"
   ]
  },
  {
   "cell_type": "code",
   "execution_count": 3,
   "metadata": {},
   "outputs": [
    {
     "data": {
      "text/plain": [
       "{'Court of Final Appeal': 'https://legalref.judiciary.hk/lrs/common/ju/judgment.jsp?L1=FA#H1',\n",
       " 'Court of Appeal of the High Court': 'https://legalref.judiciary.hk/lrs/common/ju/judgment.jsp?L1=CA#H2',\n",
       " 'High Court': 'https://legalref.judiciary.hk/lrs/common/ju/judgment.jsp?L1=HC#H3',\n",
       " 'Competition Tribunal': 'https://legalref.judiciary.hk/lrs/common/ju/judgment.jsp?L1=CT#H4',\n",
       " 'District Court': 'https://legalref.judiciary.hk/lrs/common/ju/judgment.jsp?L1=DC#H5',\n",
       " 'Family Court': 'https://legalref.judiciary.hk/lrs/common/ju/judgment.jsp?L1=FC#H6',\n",
       " 'Lands Tribunal': 'https://legalref.judiciary.hk/lrs/common/ju/judgment.jsp?L1=LD#H7',\n",
       " 'Miscellaneous': 'https://legalref.judiciary.hk/lrs/common/ju/judgment.jsp?L1=OT#H8'}"
      ]
     },
     "execution_count": 3,
     "metadata": {},
     "output_type": "execute_result"
    }
   ],
   "source": [
    "def parse_courts(root):\n",
    "    \"\"\"Parse the info of parent courts.\n",
    "    Args:\n",
    "        root : BeautifulSoup Object\n",
    "    Return:\n",
    "        courts_dict (dict): court -> url\n",
    "    \"\"\"\n",
    "    # get all raw infomation about courts (looks urgly)\n",
    "    info_list = root.find('script', string=re.compile(\"var myMenu\")).text.split(\"'\")\n",
    "    # find the parent courts' name inside 'span' tag\n",
    "    courts_list = [BeautifulSoup(i).find('span').text.strip(\" \") for i in info_list if i[1:5]=='span']\n",
    "    # find corresponding urls of parents courts(order matters here)\n",
    "    courts_urls = [j for j in info_list if j[:5]=='https']\n",
    "    # store to dict\n",
    "    courts_dict = {i:j for i, j in zip(courts_list, courts_urls)}\n",
    "    return courts_dict\n",
    "\n",
    "courts = parse_courts(root)\n",
    "courts"
   ]
  },
  {
   "cell_type": "code",
   "execution_count": 4,
   "metadata": {},
   "outputs": [
    {
     "data": {
      "text/html": [
       "<div>\n",
       "<style scoped>\n",
       "    .dataframe tbody tr th:only-of-type {\n",
       "        vertical-align: middle;\n",
       "    }\n",
       "\n",
       "    .dataframe tbody tr th {\n",
       "        vertical-align: top;\n",
       "    }\n",
       "\n",
       "    .dataframe thead th {\n",
       "        text-align: right;\n",
       "    }\n",
       "</style>\n",
       "<table border=\"1\" class=\"dataframe\">\n",
       "  <thead>\n",
       "    <tr style=\"text-align: right;\">\n",
       "      <th></th>\n",
       "      <th>parent_court</th>\n",
       "      <th>parent_court_url</th>\n",
       "    </tr>\n",
       "  </thead>\n",
       "  <tbody>\n",
       "    <tr>\n",
       "      <th>0</th>\n",
       "      <td>Court of Final Appeal</td>\n",
       "      <td>https://legalref.judiciary.hk/lrs/common/ju/ju...</td>\n",
       "    </tr>\n",
       "    <tr>\n",
       "      <th>1</th>\n",
       "      <td>Court of Appeal of the High Court</td>\n",
       "      <td>https://legalref.judiciary.hk/lrs/common/ju/ju...</td>\n",
       "    </tr>\n",
       "    <tr>\n",
       "      <th>2</th>\n",
       "      <td>High Court</td>\n",
       "      <td>https://legalref.judiciary.hk/lrs/common/ju/ju...</td>\n",
       "    </tr>\n",
       "    <tr>\n",
       "      <th>3</th>\n",
       "      <td>Competition Tribunal</td>\n",
       "      <td>https://legalref.judiciary.hk/lrs/common/ju/ju...</td>\n",
       "    </tr>\n",
       "    <tr>\n",
       "      <th>4</th>\n",
       "      <td>District Court</td>\n",
       "      <td>https://legalref.judiciary.hk/lrs/common/ju/ju...</td>\n",
       "    </tr>\n",
       "    <tr>\n",
       "      <th>5</th>\n",
       "      <td>Family Court</td>\n",
       "      <td>https://legalref.judiciary.hk/lrs/common/ju/ju...</td>\n",
       "    </tr>\n",
       "    <tr>\n",
       "      <th>6</th>\n",
       "      <td>Lands Tribunal</td>\n",
       "      <td>https://legalref.judiciary.hk/lrs/common/ju/ju...</td>\n",
       "    </tr>\n",
       "    <tr>\n",
       "      <th>7</th>\n",
       "      <td>Miscellaneous</td>\n",
       "      <td>https://legalref.judiciary.hk/lrs/common/ju/ju...</td>\n",
       "    </tr>\n",
       "  </tbody>\n",
       "</table>\n",
       "</div>"
      ],
      "text/plain": [
       "                        parent_court  \\\n",
       "0              Court of Final Appeal   \n",
       "1  Court of Appeal of the High Court   \n",
       "2                         High Court   \n",
       "3               Competition Tribunal   \n",
       "4                     District Court   \n",
       "5                       Family Court   \n",
       "6                     Lands Tribunal   \n",
       "7                      Miscellaneous   \n",
       "\n",
       "                                    parent_court_url  \n",
       "0  https://legalref.judiciary.hk/lrs/common/ju/ju...  \n",
       "1  https://legalref.judiciary.hk/lrs/common/ju/ju...  \n",
       "2  https://legalref.judiciary.hk/lrs/common/ju/ju...  \n",
       "3  https://legalref.judiciary.hk/lrs/common/ju/ju...  \n",
       "4  https://legalref.judiciary.hk/lrs/common/ju/ju...  \n",
       "5  https://legalref.judiciary.hk/lrs/common/ju/ju...  \n",
       "6  https://legalref.judiciary.hk/lrs/common/ju/ju...  \n",
       "7  https://legalref.judiciary.hk/lrs/common/ju/ju...  "
      ]
     },
     "execution_count": 4,
     "metadata": {},
     "output_type": "execute_result"
    }
   ],
   "source": [
    "df_courts = pd.DataFrame([(k,v) for k,v in courts.items()], columns=['parent_court', 'parent_court_url'])\n",
    "df_courts"
   ]
  },
  {
   "cell_type": "markdown",
   "metadata": {},
   "source": [
    "## Hieachy 2: sub courts"
   ]
  },
  {
   "cell_type": "code",
   "execution_count": 5,
   "metadata": {},
   "outputs": [
    {
     "name": "stdout",
     "output_type": "stream",
     "text": [
      "200\n"
     ]
    }
   ],
   "source": [
    "# test case\n",
    "url = 'https://legalref.judiciary.hk/lrs/common/ju/judgment.jsp?L1=DC#H5'\n",
    "root = url_to_root(url)\n",
    "        \n",
    "# get raw infomation\n",
    "info_list = root.find('script', string=re.compile(\"var myMenu\")).text.split(\",\")"
   ]
  },
  {
   "cell_type": "code",
   "execution_count": 6,
   "metadata": {},
   "outputs": [
    {
     "data": {
      "text/plain": [
       "{'Competition Tribunal',\n",
       " 'Court of Appeal of the High Court',\n",
       " 'Court of Final Appeal',\n",
       " 'District Court',\n",
       " 'Family Court',\n",
       " 'High Court',\n",
       " 'Lands Tribunal',\n",
       " 'Miscellaneous'}"
      ]
     },
     "execution_count": 6,
     "metadata": {},
     "output_type": "execute_result"
    }
   ],
   "source": [
    "parent_courts_set = set(df_courts['parent_court'])\n",
    "parent_courts_set"
   ]
  },
  {
   "cell_type": "code",
   "execution_count": 7,
   "metadata": {},
   "outputs": [
    {
     "data": {
      "text/plain": [
       "['Civil Action',\n",
       " 'Criminal Case',\n",
       " 'Distraint Case',\n",
       " 'District Court Tax Claim',\n",
       " 'Employee Compensation Case',\n",
       " 'Equal Opportunitie Action',\n",
       " 'Intended Action',\n",
       " 'Miscellaneou Proceeding',\n",
       " 'Occupational Deafne (Compensation) Appeal',\n",
       " 'Personal Injurie Action',\n",
       " 'Stamp Duty Appeal']"
      ]
     },
     "execution_count": 7,
     "metadata": {},
     "output_type": "execute_result"
    }
   ],
   "source": [
    "def clear_name(a):\n",
    "    ans = ' '.join([i.strip(\"\\\\s'\")for i in a.split(\" \")])\n",
    "    return ans\n",
    "\n",
    "parent_courts_set = set(df_courts['parent_court'])\n",
    "now = set([BeautifulSoup(i.strip(\"' \")).text.strip(\" \") for i in info_list if len(re.findall('<a name=', i))!=0])\n",
    "sub_courts = sorted(list(now - parent_courts_set))\n",
    "sub_courts = [clear_name(s) for s in sub_courts]\n",
    "sub_courts"
   ]
  },
  {
   "cell_type": "code",
   "execution_count": 8,
   "metadata": {},
   "outputs": [
    {
     "name": "stdout",
     "output_type": "stream",
     "text": [
      "200\n",
      "subcourts: 5\n",
      "urls: 5\n",
      "dict length:  5\n",
      "200\n",
      "subcourts: 6\n",
      "urls: 6\n",
      "dict length:  6\n",
      "200\n",
      "subcourts: 31\n",
      "urls: 31\n",
      "dict length:  31\n",
      "200\n",
      "subcourts: 2\n",
      "urls: 2\n",
      "dict length:  2\n",
      "200\n",
      "subcourts: 11\n",
      "urls: 11\n",
      "dict length:  11\n",
      "200\n",
      "subcourts: 3\n",
      "urls: 3\n",
      "dict length:  3\n",
      "200\n",
      "subcourts: 19\n",
      "urls: 19\n",
      "dict length:  19\n",
      "200\n",
      "subcourts: 11\n",
      "urls: 11\n",
      "dict length:  11\n"
     ]
    },
    {
     "data": {
      "text/plain": [
       "{'Court of Final Appeal': {'Final Appeal (Civil)': ('Final Appeal (Civil)',\n",
       "   'https://legalref.judiciary.hk/lrs/common/ju/judgment.jsp?L1=FA&L2=CV&AR=1#A1'),\n",
       "  'Final Appeal (Criminal)': ('Final Appeal (Criminal)',\n",
       "   'https://legalref.judiciary.hk/lrs/common/ju/judgment.jsp?L1=FA&L2=CC&AR=2#A2'),\n",
       "  'Miscellaneous Proceedings': ('Miscellaneou Proceeding',\n",
       "   'https://legalref.judiciary.hk/lrs/common/ju/judgment.jsp?L1=FA&L2=MP&AR=3#A3'),\n",
       "  'Miscellaneous Proceedings (Civil)': ('Miscellaneou Proceeding (Civil)',\n",
       "   'https://legalref.judiciary.hk/lrs/common/ju/judgment.jsp?L1=FA&L2=MV&AR=4#A4'),\n",
       "  'Miscellaneous Proceedings (Criminal)': ('Miscellaneou Proceeding (Criminal)',\n",
       "   'https://legalref.judiciary.hk/lrs/common/ju/judgment.jsp?L1=FA&L2=MC&AR=5#A5')},\n",
       " 'Court of Appeal of the High Court': {'Application for Review': ('Application for Review',\n",
       "   'https://legalref.judiciary.hk/lrs/common/ju/judgment.jsp?L1=CA&L2=AR&AR=1#A1'),\n",
       "  \"Attorney General\\\\'s Reference\": ('Attorney General Reference',\n",
       "   'https://legalref.judiciary.hk/lrs/common/ju/judgment.jsp?L1=CA&L2=AG&AR=2#A2'),\n",
       "  'Civil Appeal': ('Civil Appeal',\n",
       "   'https://legalref.judiciary.hk/lrs/common/ju/judgment.jsp?L1=CA&L2=CV&AR=3#A3'),\n",
       "  'Criminal Appeal': ('Criminal Appeal',\n",
       "   'https://legalref.judiciary.hk/lrs/common/ju/judgment.jsp?L1=CA&L2=CC&AR=4#A4'),\n",
       "  'Miscellaneous Proceedings': ('Miscellaneou Proceeding',\n",
       "   'https://legalref.judiciary.hk/lrs/common/ju/judgment.jsp?L1=CA&L2=MP&AR=5#A5'),\n",
       "  'Reservation of Question of Law': ('Reservation of Question of Law',\n",
       "   'https://legalref.judiciary.hk/lrs/common/ju/judgment.jsp?L1=CA&L2=QL&AR=6#A6')},\n",
       " 'High Court': {'Admiralty Action': ('Admiralty Action',\n",
       "   'https://legalref.judiciary.hk/lrs/common/ju/judgment.jsp?L1=HC&L2=AJ&AR=1#A1'),\n",
       "  'Adoption Application': ('Adoption Application',\n",
       "   'https://legalref.judiciary.hk/lrs/common/ju/judgment.jsp?L1=HC&L2=AD&AR=2#A2'),\n",
       "  'Application for Grant': ('Application for Grant',\n",
       "   'https://legalref.judiciary.hk/lrs/common/ju/judgment.jsp?L1=HC&L2=AG&AR=3#A3'),\n",
       "  'Application to set aside a Statutory Demand (under Bankruptcy Ordinance)': ('Application to et aside a Statutory Demand (under Bankruptcy Ordinance)',\n",
       "   'https://legalref.judiciary.hk/lrs/common/ju/judgment.jsp?L1=HC&L2=SD&AR=4#A4'),\n",
       "  'Applications under the Mental Health Ordinance': ('Application under the Mental Health Ordinance',\n",
       "   'https://legalref.judiciary.hk/lrs/common/ju/judgment.jsp?L1=HC&L2=MH&AR=5#A5'),\n",
       "  'Bankruptcy Proceedings': ('Bankruptcy Proceeding',\n",
       "   'https://legalref.judiciary.hk/lrs/common/ju/judgment.jsp?L1=HC&L2=B&AR=6#A6'),\n",
       "  'Caveat': ('Caveat',\n",
       "   'https://legalref.judiciary.hk/lrs/common/ju/judgment.jsp?L1=HC&L2=CA&AR=7#A7'),\n",
       "  'Citation Application': ('Citation Application',\n",
       "   'https://legalref.judiciary.hk/lrs/common/ju/judgment.jsp?L1=HC&L2=CI&AR=8#A8'),\n",
       "  'Civil Action': ('Civil Action',\n",
       "   'https://legalref.judiciary.hk/lrs/common/ju/judgment.jsp?L1=HC&L2=A&AR=9#A9'),\n",
       "  'Commercial Action': ('Commercial Action',\n",
       "   'https://legalref.judiciary.hk/lrs/common/ju/judgment.jsp?L1=HC&L2=CL&AR=10#A10'),\n",
       "  'Companies Winding-up Proceedings': ('Companie Winding-up Proceeding',\n",
       "   'https://legalref.judiciary.hk/lrs/common/ju/judgment.jsp?L1=HC&L2=CW&AR=11#A11'),\n",
       "  'Confidential Miscellaneous Proceedings': ('Confidential Miscellaneou Proceeding',\n",
       "   'https://legalref.judiciary.hk/lrs/common/ju/judgment.jsp?L1=HC&L2=CM&AR=12#A12'),\n",
       "  'Constitutional and Administrative Law Proceedings': ('Constitutional and Administrative Law Proceeding',\n",
       "   'https://legalref.judiciary.hk/lrs/common/ju/judgment.jsp?L1=HC&L2=AL&AR=13#A13'),\n",
       "  'Construction and Arbitration Proceedings': ('Construction and Arbitration Proceeding',\n",
       "   'https://legalref.judiciary.hk/lrs/common/ju/judgment.jsp?L1=HC&L2=CT&AR=14#A14'),\n",
       "  'Criminal Case': ('Criminal Case',\n",
       "   'https://legalref.judiciary.hk/lrs/common/ju/judgment.jsp?L1=HC&L2=CC&AR=15#A15'),\n",
       "  'Estate Duty Appeal': ('Estate Duty Appeal',\n",
       "   'https://legalref.judiciary.hk/lrs/common/ju/judgment.jsp?L1=HC&L2=ED&AR=16#A16'),\n",
       "  'Ex-parte Application': ('Ex-parte Application',\n",
       "   'https://legalref.judiciary.hk/lrs/common/ju/judgment.jsp?L1=HC&L2=EA&AR=17#A17'),\n",
       "  'High Court Bankruptcy Interim Order': ('High Court Bankruptcy Interim Order',\n",
       "   'https://legalref.judiciary.hk/lrs/common/ju/judgment.jsp?L1=HC&L2=BI&AR=18#A18'),\n",
       "  'Inland Revenue Appeal': ('Inland Revenue Appeal',\n",
       "   'https://legalref.judiciary.hk/lrs/common/ju/judgment.jsp?L1=HC&L2=IA&AR=19#A19'),\n",
       "  'Intended Action': ('Intended Action',\n",
       "   'https://legalref.judiciary.hk/lrs/common/ju/judgment.jsp?L1=HC&L2=ZZ&AR=20#A20'),\n",
       "  'Labour Tribunal Appeal': ('Labour Tribunal Appeal',\n",
       "   'https://legalref.judiciary.hk/lrs/common/ju/judgment.jsp?L1=HC&L2=LA&AR=21#A21'),\n",
       "  'Legal Aid Appeal': ('Legal Aid Appeal',\n",
       "   'https://legalref.judiciary.hk/lrs/common/ju/judgment.jsp?L1=HC&L2=AA&AR=22#A22'),\n",
       "  'Magistracy Appeal': ('Magistracy Appeal',\n",
       "   'https://legalref.judiciary.hk/lrs/common/ju/judgment.jsp?L1=HC&L2=MA&AR=23#A23'),\n",
       "  'Matrimonial Causes': ('Matrimonial Cause',\n",
       "   'https://legalref.judiciary.hk/lrs/common/ju/judgment.jsp?L1=HC&L2=MC&AR=24#A24'),\n",
       "  'Minor Employment Claims Appeal': ('Minor Employment Claim Appeal',\n",
       "   'https://legalref.judiciary.hk/lrs/common/ju/judgment.jsp?L1=HC&L2=ME&AR=25#A25'),\n",
       "  'Miscellaneous Proceedings': ('Miscellaneou Proceeding',\n",
       "   'https://legalref.judiciary.hk/lrs/common/ju/judgment.jsp?L1=HC&L2=MP&AR=26#A26'),\n",
       "  'Miscellaneous Proceedings (Criminal)': ('Miscellaneou Proceeding (Criminal)',\n",
       "   'https://legalref.judiciary.hk/lrs/common/ju/judgment.jsp?L1=HC&L2=CP&AR=27#A27'),\n",
       "  'Obscene Articles Tribunal Appeal': ('Obscene Article Tribunal Appeal',\n",
       "   'https://legalref.judiciary.hk/lrs/common/ju/judgment.jsp?L1=HC&L2=OA&AR=28#A28'),\n",
       "  'Personal Injuries Action': ('Personal Injurie Action',\n",
       "   'https://legalref.judiciary.hk/lrs/common/ju/judgment.jsp?L1=HC&L2=PI&AR=29#A29'),\n",
       "  'Probate Action': ('Probate Action',\n",
       "   'https://legalref.judiciary.hk/lrs/common/ju/judgment.jsp?L1=HC&L2=AP&AR=30#A30'),\n",
       "  'Small Claims Tribunal Appeal': ('Small Claim Tribunal Appeal',\n",
       "   'https://legalref.judiciary.hk/lrs/common/ju/judgment.jsp?L1=HC&L2=SA&AR=31#A31')},\n",
       " 'Competition Tribunal': {'Competition Tribunal Action': ('Competition Tribunal Action',\n",
       "   'https://legalref.judiciary.hk/lrs/common/ju/judgment.jsp?L1=CT&L2=A&AR=1#A1'),\n",
       "  'Competition Tribunal Enforcement Action': ('Competition Tribunal Enforcement Action',\n",
       "   'https://legalref.judiciary.hk/lrs/common/ju/judgment.jsp?L1=CT&L2=EA&AR=2#A2')},\n",
       " 'District Court': {'Civil Action': ('Civil Action',\n",
       "   'https://legalref.judiciary.hk/lrs/common/ju/judgment.jsp?L1=DC&L2=CJ&AR=1#A1'),\n",
       "  'Criminal Case': ('Criminal Case',\n",
       "   'https://legalref.judiciary.hk/lrs/common/ju/judgment.jsp?L1=DC&L2=CC&AR=2#A2'),\n",
       "  'Distraint Case': ('Distraint Case',\n",
       "   'https://legalref.judiciary.hk/lrs/common/ju/judgment.jsp?L1=DC&L2=DT&AR=3#A3'),\n",
       "  'District Court Tax Claim': ('District Court Tax Claim',\n",
       "   'https://legalref.judiciary.hk/lrs/common/ju/judgment.jsp?L1=DC&L2=TC&AR=4#A4'),\n",
       "  \"Employee\\\\'s Compensation Case\": ('Employee Compensation Case',\n",
       "   'https://legalref.judiciary.hk/lrs/common/ju/judgment.jsp?L1=DC&L2=EC&AR=5#A5'),\n",
       "  'Equal Opportunities Action': ('Equal Opportunitie Action',\n",
       "   'https://legalref.judiciary.hk/lrs/common/ju/judgment.jsp?L1=DC&L2=EO&AR=6#A6'),\n",
       "  'Intended Action': ('Intended Action',\n",
       "   'https://legalref.judiciary.hk/lrs/common/ju/judgment.jsp?L1=DC&L2=ZZ&AR=7#A7'),\n",
       "  'Miscellaneous Proceedings': ('Miscellaneou Proceeding',\n",
       "   'https://legalref.judiciary.hk/lrs/common/ju/judgment.jsp?L1=DC&L2=MP&AR=8#A8'),\n",
       "  'Occupational Deafness (Compensation) Appeal': ('Occupational Deafne (Compensation) Appeal',\n",
       "   'https://legalref.judiciary.hk/lrs/common/ju/judgment.jsp?L1=DC&L2=OA&AR=9#A9'),\n",
       "  'Personal Injuries Action': ('Personal Injurie Action',\n",
       "   'https://legalref.judiciary.hk/lrs/common/ju/judgment.jsp?L1=DC&L2=PI&AR=10#A10'),\n",
       "  'Stamp Duty Appeal': ('Stamp Duty Appeal',\n",
       "   'https://legalref.judiciary.hk/lrs/common/ju/judgment.jsp?L1=DC&L2=SA&AR=11#A11')},\n",
       " 'Family Court': {'Joint application': ('Joint application',\n",
       "   'https://legalref.judiciary.hk/lrs/common/ju/judgment.jsp?L1=FC&L2=JA&AR=1#A1'),\n",
       "  'Matrimonial Causes': ('Matrimonial Cause',\n",
       "   'https://legalref.judiciary.hk/lrs/common/ju/judgment.jsp?L1=FC&L2=MC&AR=2#A2'),\n",
       "  'Miscellaneous Proceedings': ('Miscellaneou Proceeding',\n",
       "   'https://legalref.judiciary.hk/lrs/common/ju/judgment.jsp?L1=FC&L2=MP&AR=3#A3')},\n",
       " 'Lands Tribunal': {'Building Management Application': ('Building Management Application',\n",
       "   'https://legalref.judiciary.hk/lrs/common/ju/judgment.jsp?L1=LD&L2=BM&AR=1#A1'),\n",
       "  'Buildings Ordinance Application': ('Building Ordinance Application',\n",
       "   'https://legalref.judiciary.hk/lrs/common/ju/judgment.jsp?L1=LD&L2=BG&AR=2#A2'),\n",
       "  'Demolished Buildings Appeal': ('Demolished Building Appeal',\n",
       "   'https://legalref.judiciary.hk/lrs/common/ju/judgment.jsp?L1=LD&L2=DA&AR=3#A3'),\n",
       "  'Demolished Buildings Application': ('Demolished Building Application',\n",
       "   'https://legalref.judiciary.hk/lrs/common/ju/judgment.jsp?L1=LD&L2=DB&AR=4#A4'),\n",
       "  'Government Rent Appeal': ('Government Rent Appeal',\n",
       "   'https://legalref.judiciary.hk/lrs/common/ju/judgment.jsp?L1=LD&L2=GA&AR=5#A5'),\n",
       "  'Housing Ordinance Appeal': ('Housing Ordinance Appeal',\n",
       "   'https://legalref.judiciary.hk/lrs/common/ju/judgment.jsp?L1=LD&L2=HA&AR=6#A6'),\n",
       "  'Land Compulsory Sale Application': ('Land Compulsory Sale Application',\n",
       "   'https://legalref.judiciary.hk/lrs/common/ju/judgment.jsp?L1=LD&L2=CS&AR=7#A7'),\n",
       "  'Land Resumption Application': ('Land Resumption Application',\n",
       "   'https://legalref.judiciary.hk/lrs/common/ju/judgment.jsp?L1=LD&L2=LR&AR=8#A8'),\n",
       "  'Landlord  Appeal': ('Landlord  Appeal',\n",
       "   'https://legalref.judiciary.hk/lrs/common/ju/judgment.jsp?L1=LD&L2=LA&AR=9#A9'),\n",
       "  'MTR Ordinance Application': ('MTR Ordinance Application',\n",
       "   'https://legalref.judiciary.hk/lrs/common/ju/judgment.jsp?L1=LD&L2=MT&AR=10#A10'),\n",
       "  'Miscellaneous Proceedings Application': ('Miscellaneou Proceeding Application',\n",
       "   'https://legalref.judiciary.hk/lrs/common/ju/judgment.jsp?L1=LD&L2=MP&AR=11#A11'),\n",
       "  'Miscellaneous References Application': ('Miscellaneou Reference Application',\n",
       "   'https://legalref.judiciary.hk/lrs/common/ju/judgment.jsp?L1=LD&L2=MR&AR=12#A12'),\n",
       "  'New Tenancy Application': ('New Tenancy Application',\n",
       "   'https://legalref.judiciary.hk/lrs/common/ju/judgment.jsp?L1=LD&L2=NT&AR=13#A13'),\n",
       "  'Part I Possession Application': ('Part I Possession Application',\n",
       "   'https://legalref.judiciary.hk/lrs/common/ju/judgment.jsp?L1=LD&L2=PA&AR=14#A14'),\n",
       "  'Part II Possession Application': ('Part II Possession Application',\n",
       "   'https://legalref.judiciary.hk/lrs/common/ju/judgment.jsp?L1=LD&L2=PB&AR=15#A15'),\n",
       "  'Part IV Possession Application': ('Part IV Possession Application',\n",
       "   'https://legalref.judiciary.hk/lrs/common/ju/judgment.jsp?L1=LD&L2=PD&AR=16#A16'),\n",
       "  'Part V Possession Application': ('Part V Possession Application',\n",
       "   'https://legalref.judiciary.hk/lrs/common/ju/judgment.jsp?L1=LD&L2=PE&AR=17#A17'),\n",
       "  'Railways Ordinance Application': ('Railway Ordinance Application',\n",
       "   'https://legalref.judiciary.hk/lrs/common/ju/judgment.jsp?L1=LD&L2=RW&AR=18#A18'),\n",
       "  'Rating Appeal': ('Rating Appeal',\n",
       "   'https://legalref.judiciary.hk/lrs/common/ju/judgment.jsp?L1=LD&L2=RA&AR=19#A19')},\n",
       " 'Miscellaneous': {\"Coroner\\\\'s Court Death Inquest\": ('Coroner Court Death Inquest',\n",
       "   'https://legalref.judiciary.hk/lrs/common/ju/judgment.jsp?L1=CC&L2=DI&AR=1#A1'),\n",
       "  \"Eastern Magistrates\\\\' Court Charge Case\": ('Eastern Magistrate Court Charge Case',\n",
       "   'https://legalref.judiciary.hk/lrs/common/ju/judgment.jsp?L1=ES&L2=CC&AR=2#A2'),\n",
       "  \"Eastern Magistrates\\\\' Court Summons Case\": ('Eastern Magistrate Court Summon Case',\n",
       "   'https://legalref.judiciary.hk/lrs/common/ju/judgment.jsp?L1=ES&L2=S&AR=3#A3'),\n",
       "  \"Kowloon City Magistrates\\\\' Court Charge Case\": ('Kowloon City Magistrate Court Charge Case',\n",
       "   'https://legalref.judiciary.hk/lrs/common/ju/judgment.jsp?L1=KC&L2=CC&AR=4#A4'),\n",
       "  'Kowloon City Magistrates’ Court Summons Case': ('Kowloon City Magistrates’ Court Summon Case',\n",
       "   'https://legalref.judiciary.hk/lrs/common/ju/judgment.jsp?L1=KC&L2=S&AR=5#A5'),\n",
       "  'Labour Tribunal Claim': ('Labour Tribunal Claim',\n",
       "   'https://legalref.judiciary.hk/lrs/common/ju/judgment.jsp?L1=LB&L2=TC&AR=6#A6'),\n",
       "  'Obscene Articles Tribunal Case': ('Obscene Article Tribunal Case',\n",
       "   'https://legalref.judiciary.hk/lrs/common/ju/judgment.jsp?L1=OA&L2=TD&AR=7#A7'),\n",
       "  \"Shatin Magistrates\\\\' Court Charge Case\": ('Shatin Magistrate Court Charge Case',\n",
       "   'https://legalref.judiciary.hk/lrs/common/ju/judgment.jsp?L1=ST&L2=CC&AR=8#A8'),\n",
       "  'Small Claims Tribunal Claim': ('Small Claim Tribunal Claim',\n",
       "   'https://legalref.judiciary.hk/lrs/common/ju/judgment.jsp?L1=SC&L2=TC&AR=9#A9'),\n",
       "  \"Tuen Mun Magistrates\\\\' Court Charge Case\": ('Tuen Mun Magistrate Court Charge Case',\n",
       "   'https://legalref.judiciary.hk/lrs/common/ju/judgment.jsp?L1=TM&L2=CC&AR=10#A10'),\n",
       "  \"West Kowloon Magistrates\\\\' Court Charge Case\": ('West Kowloon Magistrate Court Charge Case',\n",
       "   'https://legalref.judiciary.hk/lrs/common/ju/judgment.jsp?L1=WK&L2=CC&AR=11#A11')}}"
      ]
     },
     "execution_count": 8,
     "metadata": {},
     "output_type": "execute_result"
    }
   ],
   "source": [
    "def parse_sub_courts(courts, parent_courts_set):\n",
    "    \"\"\"Parse sub-courts information.\n",
    "    Args:\n",
    "        courts (dict) : parent_courts -> url\n",
    "        parent_courts_set \n",
    "    Return:\n",
    "        sub_dict (dict) : parent_courts -> dictionary(sub_courts -> url) \n",
    "    \n",
    "    \"\"\"\n",
    "    sub_dict = {} # initialize\n",
    "\n",
    "    for c, url in courts.items():\n",
    "        time.sleep(1) # request web slowly for benevolence\n",
    "        root = url_to_root(url)\n",
    "        \n",
    "        # get sub courts names\n",
    "        # get raw infomation\n",
    "        info_list = root.find('script', string=re.compile(\"var myMenu\")).text.split(\",\")\n",
    "        # create bs4 object list for strings has tag \"a\" and attr name\n",
    "        now = set([BeautifulSoup(i.strip(\"' \")).text.strip(\" \") for i in info_list if len(re.findall('<a name=', i))!=0])\n",
    "        sub_courts = sorted(list(now - parent_courts_set)) # notice order in alphbets\n",
    "        sub_courts_cleared = [clear_name(s) for s in sub_courts] # clear names\n",
    "        print('subcourts:',len(sub_courts))\n",
    "        \n",
    "        # get sub courts urls\n",
    "        # re-get raw infomation\n",
    "        info_list = root.find('script', string=re.compile(\"var myMenu\")).text.split(\"'\") # notice split by up-comma\n",
    "        # observe sub-courts' urls are longer than parents', so find sub-courts' urls' length\n",
    "        http_min_len = min(set([len(i) for i in info_list if i[:5]=='https']))\n",
    "        # get sub-courts' urls\n",
    "        sub_courts_urls = [i for i in info_list if i[:5]=='https' if len(i)>http_min_len]\n",
    "        print('urls:', len(sub_courts_urls))\n",
    "        # store in dict\n",
    "        subs = {sc.strip(\" \"):(sc_, url) for sc, sc_, url in zip(sub_courts, sub_courts_cleared, sub_courts_urls)}\n",
    "        # assign to parent courts\n",
    "        print('dict length: ',len(subs))\n",
    "        sub_dict[c] = subs\n",
    "    return sub_dict\n",
    "\n",
    "parent_courts_set = set(df_courts['parent_court'])\n",
    "sub_dict = parse_sub_courts(courts, parent_courts_set)\n",
    "sub_dict"
   ]
  },
  {
   "cell_type": "code",
   "execution_count": 9,
   "metadata": {},
   "outputs": [
    {
     "data": {
      "text/html": [
       "<div>\n",
       "<style scoped>\n",
       "    .dataframe tbody tr th:only-of-type {\n",
       "        vertical-align: middle;\n",
       "    }\n",
       "\n",
       "    .dataframe tbody tr th {\n",
       "        vertical-align: top;\n",
       "    }\n",
       "\n",
       "    .dataframe thead th {\n",
       "        text-align: right;\n",
       "    }\n",
       "</style>\n",
       "<table border=\"1\" class=\"dataframe\">\n",
       "  <thead>\n",
       "    <tr style=\"text-align: right;\">\n",
       "      <th></th>\n",
       "      <th>sub_court</th>\n",
       "      <th>sub_court_cleared</th>\n",
       "      <th>sub_court_url</th>\n",
       "      <th>parent_court</th>\n",
       "      <th>parent_court_url</th>\n",
       "    </tr>\n",
       "  </thead>\n",
       "  <tbody>\n",
       "    <tr>\n",
       "      <th>0</th>\n",
       "      <td>Final Appeal (Civil)</td>\n",
       "      <td>Final Appeal (Civil)</td>\n",
       "      <td>https://legalref.judiciary.hk/lrs/common/ju/ju...</td>\n",
       "      <td>Court of Final Appeal</td>\n",
       "      <td>https://legalref.judiciary.hk/lrs/common/ju/ju...</td>\n",
       "    </tr>\n",
       "    <tr>\n",
       "      <th>1</th>\n",
       "      <td>Final Appeal (Criminal)</td>\n",
       "      <td>Final Appeal (Criminal)</td>\n",
       "      <td>https://legalref.judiciary.hk/lrs/common/ju/ju...</td>\n",
       "      <td>Court of Final Appeal</td>\n",
       "      <td>https://legalref.judiciary.hk/lrs/common/ju/ju...</td>\n",
       "    </tr>\n",
       "    <tr>\n",
       "      <th>2</th>\n",
       "      <td>Miscellaneous Proceedings</td>\n",
       "      <td>Miscellaneou Proceeding</td>\n",
       "      <td>https://legalref.judiciary.hk/lrs/common/ju/ju...</td>\n",
       "      <td>Court of Final Appeal</td>\n",
       "      <td>https://legalref.judiciary.hk/lrs/common/ju/ju...</td>\n",
       "    </tr>\n",
       "    <tr>\n",
       "      <th>3</th>\n",
       "      <td>Miscellaneous Proceedings (Civil)</td>\n",
       "      <td>Miscellaneou Proceeding (Civil)</td>\n",
       "      <td>https://legalref.judiciary.hk/lrs/common/ju/ju...</td>\n",
       "      <td>Court of Final Appeal</td>\n",
       "      <td>https://legalref.judiciary.hk/lrs/common/ju/ju...</td>\n",
       "    </tr>\n",
       "    <tr>\n",
       "      <th>4</th>\n",
       "      <td>Miscellaneous Proceedings (Criminal)</td>\n",
       "      <td>Miscellaneou Proceeding (Criminal)</td>\n",
       "      <td>https://legalref.judiciary.hk/lrs/common/ju/ju...</td>\n",
       "      <td>Court of Final Appeal</td>\n",
       "      <td>https://legalref.judiciary.hk/lrs/common/ju/ju...</td>\n",
       "    </tr>\n",
       "  </tbody>\n",
       "</table>\n",
       "</div>"
      ],
      "text/plain": [
       "                              sub_court                   sub_court_cleared  \\\n",
       "0                  Final Appeal (Civil)                Final Appeal (Civil)   \n",
       "1               Final Appeal (Criminal)             Final Appeal (Criminal)   \n",
       "2             Miscellaneous Proceedings             Miscellaneou Proceeding   \n",
       "3     Miscellaneous Proceedings (Civil)     Miscellaneou Proceeding (Civil)   \n",
       "4  Miscellaneous Proceedings (Criminal)  Miscellaneou Proceeding (Criminal)   \n",
       "\n",
       "                                       sub_court_url           parent_court  \\\n",
       "0  https://legalref.judiciary.hk/lrs/common/ju/ju...  Court of Final Appeal   \n",
       "1  https://legalref.judiciary.hk/lrs/common/ju/ju...  Court of Final Appeal   \n",
       "2  https://legalref.judiciary.hk/lrs/common/ju/ju...  Court of Final Appeal   \n",
       "3  https://legalref.judiciary.hk/lrs/common/ju/ju...  Court of Final Appeal   \n",
       "4  https://legalref.judiciary.hk/lrs/common/ju/ju...  Court of Final Appeal   \n",
       "\n",
       "                                    parent_court_url  \n",
       "0  https://legalref.judiciary.hk/lrs/common/ju/ju...  \n",
       "1  https://legalref.judiciary.hk/lrs/common/ju/ju...  \n",
       "2  https://legalref.judiciary.hk/lrs/common/ju/ju...  \n",
       "3  https://legalref.judiciary.hk/lrs/common/ju/ju...  \n",
       "4  https://legalref.judiciary.hk/lrs/common/ju/ju...  "
      ]
     },
     "execution_count": 9,
     "metadata": {},
     "output_type": "execute_result"
    }
   ],
   "source": [
    "def df_for_sub(sub_dict):\n",
    "    return pd.DataFrame([(k,v[0],v[1]) for k,v in sub_dict.items()], columns=['sub_court', 'sub_court_cleared', 'sub_court_url'])\n",
    "\n",
    "dfs = []\n",
    "for p_court, s_dict in sub_dict.items():\n",
    "    sub_df = df_for_sub(s_dict)\n",
    "    sub_df['parent_court'] = p_court\n",
    "    dfs.append(sub_df)\n",
    "    \n",
    "df_all = pd.concat(dfs, axis=0)\n",
    "df_all.index = range(len(df_all))\n",
    "df_all = pd.merge(df_all, df_courts, how='left', on='parent_court')\n",
    "df_all.head()"
   ]
  },
  {
   "cell_type": "code",
   "execution_count": 10,
   "metadata": {},
   "outputs": [
    {
     "data": {
      "text/plain": [
       "0                                  Final Appeal (Civil)\n",
       "1                               Final Appeal (Criminal)\n",
       "2                               Miscellaneou Proceeding\n",
       "3                       Miscellaneou Proceeding (Civil)\n",
       "4                    Miscellaneou Proceeding (Criminal)\n",
       "5                                Application for Review\n",
       "6                            Attorney General Reference\n",
       "7                                          Civil Appeal\n",
       "8                                       Criminal Appeal\n",
       "9                               Miscellaneou Proceeding\n",
       "10                       Reservation of Question of Law\n",
       "11                                     Admiralty Action\n",
       "12                                 Adoption Application\n",
       "13                                Application for Grant\n",
       "14    Application to et aside a Statutory Demand (un...\n",
       "15        Application under the Mental Health Ordinance\n",
       "16                                Bankruptcy Proceeding\n",
       "17                                               Caveat\n",
       "18                                 Citation Application\n",
       "19                                         Civil Action\n",
       "20                                    Commercial Action\n",
       "21                       Companie Winding-up Proceeding\n",
       "22                 Confidential Miscellaneou Proceeding\n",
       "23     Constitutional and Administrative Law Proceeding\n",
       "24              Construction and Arbitration Proceeding\n",
       "25                                        Criminal Case\n",
       "26                                   Estate Duty Appeal\n",
       "27                                 Ex-parte Application\n",
       "28                  High Court Bankruptcy Interim Order\n",
       "29                                Inland Revenue Appeal\n",
       "                            ...                        \n",
       "58                      Building Management Application\n",
       "59                       Building Ordinance Application\n",
       "60                           Demolished Building Appeal\n",
       "61                      Demolished Building Application\n",
       "62                               Government Rent Appeal\n",
       "63                             Housing Ordinance Appeal\n",
       "64                     Land Compulsory Sale Application\n",
       "65                          Land Resumption Application\n",
       "66                                     Landlord  Appeal\n",
       "67                            MTR Ordinance Application\n",
       "68                  Miscellaneou Proceeding Application\n",
       "69                   Miscellaneou Reference Application\n",
       "70                              New Tenancy Application\n",
       "71                        Part I Possession Application\n",
       "72                       Part II Possession Application\n",
       "73                       Part IV Possession Application\n",
       "74                        Part V Possession Application\n",
       "75                        Railway Ordinance Application\n",
       "76                                        Rating Appeal\n",
       "77                          Coroner Court Death Inquest\n",
       "78                 Eastern Magistrate Court Charge Case\n",
       "79                 Eastern Magistrate Court Summon Case\n",
       "80            Kowloon City Magistrate Court Charge Case\n",
       "81          Kowloon City Magistrates’ Court Summon Case\n",
       "82                                Labour Tribunal Claim\n",
       "83                        Obscene Article Tribunal Case\n",
       "84                  Shatin Magistrate Court Charge Case\n",
       "85                           Small Claim Tribunal Claim\n",
       "86                Tuen Mun Magistrate Court Charge Case\n",
       "87            West Kowloon Magistrate Court Charge Case\n",
       "Name: sub_court_cleared, Length: 88, dtype: object"
      ]
     },
     "execution_count": 10,
     "metadata": {},
     "output_type": "execute_result"
    }
   ],
   "source": [
    "df_all.sub_court_cleared"
   ]
  },
  {
   "cell_type": "markdown",
   "metadata": {},
   "source": [
    "## Hiearchy 3: years"
   ]
  },
  {
   "cell_type": "code",
   "execution_count": 11,
   "metadata": {},
   "outputs": [],
   "source": [
    "# for test case\n",
    "sub_ = \"West Kowloon Magistrate Court Charge Case\""
   ]
  },
  {
   "cell_type": "code",
   "execution_count": 12,
   "metadata": {},
   "outputs": [
    {
     "data": {
      "text/plain": [
       "['https://legalref.judiciary.hk/lrs/common/ju/judgment.jsp?L1=WK&L2=CC&AR=11#A11']"
      ]
     },
     "execution_count": 12,
     "metadata": {},
     "output_type": "execute_result"
    }
   ],
   "source": [
    "list(df_all[df_all['sub_court_cleared']==sub_]['sub_court_url'])"
   ]
  },
  {
   "cell_type": "code",
   "execution_count": 206,
   "metadata": {},
   "outputs": [
    {
     "name": "stderr",
     "output_type": "stream",
     "text": [
      "\r",
      "  0%|                                                   | 0/88 [00:00<?, ?it/s]"
     ]
    },
    {
     "name": "stdout",
     "output_type": "stream",
     "text": [
      "200\n",
      "200\n",
      "['Pre2013', '2015', '2013', '2016', '2018', '2017', '2014']\n"
     ]
    },
    {
     "name": "stderr",
     "output_type": "stream",
     "text": [
      "\r",
      "  1%|▍                                          | 1/88 [00:04<07:01,  4.85s/it]"
     ]
    },
    {
     "name": "stdout",
     "output_type": "stream",
     "text": [
      "200\n",
      "200\n",
      "['Pre2013', '2015', '2013', '2016', '2018', '2017', '2014']\n"
     ]
    },
    {
     "name": "stderr",
     "output_type": "stream",
     "text": [
      "\r",
      "  2%|▉                                          | 2/88 [00:10<07:08,  4.98s/it]"
     ]
    },
    {
     "name": "stdout",
     "output_type": "stream",
     "text": [
      "200\n",
      "200\n",
      "['2009', '2004', '2013', '2010', '2003', '2014']\n"
     ]
    },
    {
     "name": "stderr",
     "output_type": "stream",
     "text": [
      "\r",
      "  3%|█▍                                         | 3/88 [00:14<06:47,  4.79s/it]"
     ]
    },
    {
     "name": "stdout",
     "output_type": "stream",
     "text": [
      "200\n",
      "200\n",
      "['2015', '2019', 'Pre2014', '2016', '2017', '2018', '2014']\n"
     ]
    },
    {
     "name": "stderr",
     "output_type": "stream",
     "text": [
      "\r",
      "  5%|█▉                                         | 4/88 [00:19<06:45,  4.82s/it]"
     ]
    },
    {
     "name": "stdout",
     "output_type": "stream",
     "text": [
      "200\n",
      "200\n",
      "['2015', '2019', 'Pre2014', '2016', '2017', '2018', '2014']\n"
     ]
    },
    {
     "name": "stderr",
     "output_type": "stream",
     "text": [
      "\r",
      "  6%|██▍                                        | 5/88 [00:25<07:00,  5.07s/it]"
     ]
    },
    {
     "name": "stdout",
     "output_type": "stream",
     "text": [
      "200\n",
      "200\n",
      "['Pre2013', '2015', '2013', '2016', '2017', '2018', '2014']\n"
     ]
    },
    {
     "name": "stderr",
     "output_type": "stream",
     "text": [
      "\r",
      "  7%|██▉                                        | 6/88 [00:29<06:48,  4.99s/it]"
     ]
    },
    {
     "name": "stdout",
     "output_type": "stream",
     "text": [
      "200\n",
      "200\n",
      "['1986', '1994']\n"
     ]
    },
    {
     "name": "stderr",
     "output_type": "stream",
     "text": [
      "\r",
      "  8%|███▍                                       | 7/88 [00:33<06:14,  4.63s/it]"
     ]
    },
    {
     "name": "stdout",
     "output_type": "stream",
     "text": [
      "200\n",
      "200\n",
      "['2015', '2019', 'Pre2014', '2016', '2017', '2018', '2014']\n"
     ]
    },
    {
     "name": "stderr",
     "output_type": "stream",
     "text": [
      "\r",
      "  9%|███▉                                       | 8/88 [00:50<11:06,  8.33s/it]"
     ]
    },
    {
     "name": "stdout",
     "output_type": "stream",
     "text": [
      "200\n",
      "200\n",
      "['2015', '2019', 'Pre2014', '2016', '2017', '2018', '2014']\n"
     ]
    },
    {
     "name": "stderr",
     "output_type": "stream",
     "text": [
      "\r",
      " 10%|████▍                                      | 9/88 [00:58<10:40,  8.11s/it]"
     ]
    },
    {
     "name": "stdout",
     "output_type": "stream",
     "text": [
      "200\n",
      "200\n",
      "['2009', '2004', '2013', '2010', '2003', '2014']\n"
     ]
    },
    {
     "name": "stderr",
     "output_type": "stream",
     "text": [
      "\r",
      " 11%|████▊                                     | 10/88 [01:11<12:40,  9.75s/it]"
     ]
    },
    {
     "name": "stdout",
     "output_type": "stream",
     "text": [
      "200\n",
      "200\n",
      "['2018', '1997', '1994']\n"
     ]
    },
    {
     "name": "stderr",
     "output_type": "stream",
     "text": [
      "\r",
      " 12%|█████▎                                    | 11/88 [01:15<10:10,  7.93s/it]"
     ]
    },
    {
     "name": "stdout",
     "output_type": "stream",
     "text": [
      "200\n",
      "200\n",
      "['Pre2013', '2015', '2013', '2016', '2018', '2017', '2014']\n"
     ]
    },
    {
     "name": "stderr",
     "output_type": "stream",
     "text": [
      "\r",
      " 14%|█████▋                                    | 12/88 [01:19<08:27,  6.68s/it]"
     ]
    },
    {
     "name": "stdout",
     "output_type": "stream",
     "text": [
      "200\n",
      "200\n",
      "['1970', '1973', '1985', '1978', '1992', '1971', '1988']\n"
     ]
    },
    {
     "name": "stderr",
     "output_type": "stream",
     "text": [
      "\r",
      " 15%|██████▏                                   | 13/88 [01:23<07:21,  5.89s/it]"
     ]
    },
    {
     "name": "stdout",
     "output_type": "stream",
     "text": [
      "200\n",
      "200\n",
      "['2011', '2015', '2012', '2009', '2010', 'Pre2009', '2014']\n"
     ]
    },
    {
     "name": "stderr",
     "output_type": "stream",
     "text": [
      "\r",
      " 16%|██████▋                                   | 14/88 [01:27<06:35,  5.35s/it]"
     ]
    },
    {
     "name": "stdout",
     "output_type": "stream",
     "text": [
      "200\n",
      "200\n",
      "['2011', '2012', '2013', '2016', '2010', 'Pre2010', '2014']\n"
     ]
    },
    {
     "name": "stderr",
     "output_type": "stream",
     "text": [
      "\r",
      " 17%|███████▏                                  | 15/88 [01:43<10:36,  8.72s/it]"
     ]
    },
    {
     "name": "stdout",
     "output_type": "stream",
     "text": [
      "200\n",
      "200\n",
      "['2008', '2011', '2015', '2012', '2016', '2010', '2014']\n"
     ]
    },
    {
     "name": "stderr",
     "output_type": "stream",
     "text": [
      "\r",
      " 18%|███████▋                                  | 16/88 [01:47<08:39,  7.22s/it]"
     ]
    },
    {
     "name": "stdout",
     "output_type": "stream",
     "text": [
      "200\n",
      "200\n",
      "['Pre2013', '2015', '2013', '2016', '2018', '2017', '2014']\n"
     ]
    },
    {
     "name": "stderr",
     "output_type": "stream",
     "text": [
      "\r",
      " 19%|████████                                  | 17/88 [01:51<07:21,  6.22s/it]"
     ]
    },
    {
     "name": "stdout",
     "output_type": "stream",
     "text": [
      "200\n",
      "200\n",
      "['Pre2012', '2015', '2012', '2013', '2016', '2017', '2014']\n"
     ]
    },
    {
     "name": "stderr",
     "output_type": "stream",
     "text": [
      "\r",
      " 20%|████████▌                                 | 18/88 [01:55<06:23,  5.47s/it]"
     ]
    },
    {
     "name": "stdout",
     "output_type": "stream",
     "text": [
      "200\n",
      "200\n",
      "['2012', '2008']\n"
     ]
    },
    {
     "name": "stderr",
     "output_type": "stream",
     "text": [
      "\r",
      " 22%|█████████                                 | 19/88 [01:58<05:40,  4.94s/it]"
     ]
    },
    {
     "name": "stdout",
     "output_type": "stream",
     "text": [
      "200\n",
      "200\n",
      "['2015', '2019', 'Pre2014', '2016', '2017', '2018', '2014']\n"
     ]
    },
    {
     "name": "stderr",
     "output_type": "stream",
     "text": [
      "\r",
      " 23%|█████████▌                                | 20/88 [02:02<05:11,  4.58s/it]"
     ]
    },
    {
     "name": "stdout",
     "output_type": "stream",
     "text": [
      "200\n",
      "200\n",
      "['Pre2012', '2015', '2012', '2013', '2016', '2017', '2014']\n"
     ]
    },
    {
     "name": "stderr",
     "output_type": "stream",
     "text": [
      "\r",
      " 24%|██████████                                | 21/88 [02:06<04:58,  4.46s/it]"
     ]
    },
    {
     "name": "stdout",
     "output_type": "stream",
     "text": [
      "200\n",
      "200\n",
      "['2015', '2019', 'Pre2014', '2016', '2017', '2018', '2014']\n"
     ]
    },
    {
     "name": "stderr",
     "output_type": "stream",
     "text": [
      "\r",
      " 25%|██████████▌                               | 22/88 [02:14<05:57,  5.42s/it]"
     ]
    },
    {
     "name": "stdout",
     "output_type": "stream",
     "text": [
      "200\n",
      "200\n",
      "['2018', '2009', '2003']\n"
     ]
    },
    {
     "name": "stderr",
     "output_type": "stream",
     "text": [
      "\r",
      " 26%|██████████▉                               | 23/88 [02:36<11:11, 10.33s/it]"
     ]
    },
    {
     "name": "stdout",
     "output_type": "stream",
     "text": [
      "200\n",
      "200\n",
      "['2015', '2019', 'Pre2014', '2016', '2017', '2018', '2014']\n"
     ]
    },
    {
     "name": "stderr",
     "output_type": "stream",
     "text": [
      "\r",
      " 27%|███████████▍                              | 24/88 [02:40<09:01,  8.47s/it]"
     ]
    },
    {
     "name": "stdout",
     "output_type": "stream",
     "text": [
      "200\n",
      "200\n",
      "['Pre2013', '2015', '2013', '2016', '2018', '2017', '2014']\n"
     ]
    },
    {
     "name": "stderr",
     "output_type": "stream",
     "text": [
      "\r",
      " 28%|███████████▉                              | 25/88 [02:48<08:36,  8.20s/it]"
     ]
    },
    {
     "name": "stdout",
     "output_type": "stream",
     "text": [
      "200\n",
      "200\n",
      "['Pre2013', '2015', '2013', '2016', '2018', '2017', '2014']\n"
     ]
    },
    {
     "name": "stderr",
     "output_type": "stream",
     "text": [
      "\r",
      " 30%|████████████▍                             | 26/88 [02:53<07:40,  7.43s/it]"
     ]
    },
    {
     "name": "stdout",
     "output_type": "stream",
     "text": [
      "200\n",
      "200\n",
      "['2011', '1974', '2013', '2007', '2005']\n"
     ]
    },
    {
     "name": "stderr",
     "output_type": "stream",
     "text": [
      "\r",
      " 31%|████████████▉                             | 27/88 [02:57<06:28,  6.36s/it]"
     ]
    },
    {
     "name": "stdout",
     "output_type": "stream",
     "text": [
      "200\n",
      "200\n",
      "['2008', '2009', '2004', '2013', '2010', '2005']\n"
     ]
    },
    {
     "name": "stderr",
     "output_type": "stream",
     "text": [
      "\r",
      " 32%|█████████████▎                            | 28/88 [03:01<05:46,  5.77s/it]"
     ]
    },
    {
     "name": "stdout",
     "output_type": "stream",
     "text": [
      "200\n",
      "200\n",
      "['2002', '2008', '2012', '2009', '2004', '2001', '2003', '2006']\n"
     ]
    },
    {
     "name": "stderr",
     "output_type": "stream",
     "text": [
      "\r",
      " 33%|█████████████▊                            | 29/88 [03:11<06:40,  6.79s/it]"
     ]
    },
    {
     "name": "stdout",
     "output_type": "stream",
     "text": [
      "200\n",
      "200\n",
      "['2015', '2009', '2016', '2018', '2017', '2010', 'Pre2009']\n"
     ]
    },
    {
     "name": "stderr",
     "output_type": "stream",
     "text": [
      "\r",
      " 34%|██████████████▎                           | 30/88 [03:14<05:42,  5.90s/it]"
     ]
    },
    {
     "name": "stdout",
     "output_type": "stream",
     "text": [
      "200\n",
      "200\n",
      "['1986', '2000', '2012', '2015', '2009', '2017']\n"
     ]
    },
    {
     "name": "stderr",
     "output_type": "stream",
     "text": [
      "\r",
      " 35%|██████████████▊                           | 31/88 [03:18<04:55,  5.19s/it]"
     ]
    },
    {
     "name": "stdout",
     "output_type": "stream",
     "text": [
      "200\n",
      "200\n",
      "['2015', '2019', 'Pre2014', '2016', '2017', '2018', '2014']\n"
     ]
    },
    {
     "name": "stderr",
     "output_type": "stream",
     "text": [
      "\r",
      " 36%|███████████████▎                          | 32/88 [03:22<04:25,  4.74s/it]"
     ]
    },
    {
     "name": "stdout",
     "output_type": "stream",
     "text": [
      "200\n",
      "200\n",
      "['2017', '1999', '2013']\n"
     ]
    },
    {
     "name": "stderr",
     "output_type": "stream",
     "text": [
      "\r",
      " 38%|███████████████▊                          | 33/88 [03:30<05:14,  5.72s/it]"
     ]
    },
    {
     "name": "stdout",
     "output_type": "stream",
     "text": [
      "200\n",
      "200\n",
      "['2015', '2019', 'Pre2014', '2016', '2017', '2018', '2014']\n"
     ]
    },
    {
     "name": "stderr",
     "output_type": "stream",
     "text": [
      "\r",
      " 39%|████████████████▏                         | 34/88 [03:36<05:15,  5.84s/it]"
     ]
    },
    {
     "name": "stdout",
     "output_type": "stream",
     "text": [
      "200\n",
      "200\n",
      "['2011', '2012', '2009', '2016', '2018', '2010', 'Pre2009']\n"
     ]
    },
    {
     "name": "stderr",
     "output_type": "stream",
     "text": [
      "\r",
      " 40%|████████████████▋                         | 35/88 [03:40<04:37,  5.24s/it]"
     ]
    },
    {
     "name": "stdout",
     "output_type": "stream",
     "text": [
      "200\n",
      "200\n",
      "['2015', '2019', 'Pre2014', '2016', '2017', '2018', '2014']\n"
     ]
    },
    {
     "name": "stderr",
     "output_type": "stream",
     "text": [
      "\r",
      " 41%|█████████████████▏                        | 36/88 [03:46<04:53,  5.64s/it]"
     ]
    },
    {
     "name": "stdout",
     "output_type": "stream",
     "text": [
      "200\n",
      "200\n",
      "['2009', '2004', '2013', '2010', '2003', '2014']\n"
     ]
    },
    {
     "name": "stderr",
     "output_type": "stream",
     "text": [
      "\r",
      " 42%|█████████████████▋                        | 37/88 [03:56<05:50,  6.87s/it]"
     ]
    },
    {
     "name": "stdout",
     "output_type": "stream",
     "text": [
      "200\n",
      "200\n",
      "['2015', '2019', 'Pre2014', '2016', '2017', '2018', '2014']\n"
     ]
    },
    {
     "name": "stderr",
     "output_type": "stream",
     "text": [
      "\r",
      " 43%|██████████████████▏                       | 38/88 [04:00<04:58,  5.98s/it]"
     ]
    },
    {
     "name": "stdout",
     "output_type": "stream",
     "text": [
      "200\n",
      "200\n",
      "['1997', '1996', '1994', '1993', '1995', '1991']\n"
     ]
    },
    {
     "name": "stderr",
     "output_type": "stream",
     "text": [
      "\r",
      " 44%|██████████████████▌                       | 39/88 [04:04<04:26,  5.43s/it]"
     ]
    },
    {
     "name": "stdout",
     "output_type": "stream",
     "text": [
      "200\n",
      "200\n",
      "['Pre2013', '2015', '2013', '2016', '2018', '2017', '2014']\n"
     ]
    },
    {
     "name": "stderr",
     "output_type": "stream",
     "text": [
      "\r",
      " 45%|███████████████████                       | 40/88 [04:08<04:05,  5.11s/it]"
     ]
    },
    {
     "name": "stdout",
     "output_type": "stream",
     "text": [
      "200\n",
      "200\n",
      "['Pre2013', '2015', '2013', '2016', '2018', '2017', '2014']\n"
     ]
    },
    {
     "name": "stderr",
     "output_type": "stream",
     "text": [
      "\r",
      " 47%|███████████████████▌                      | 41/88 [04:13<03:49,  4.89s/it]"
     ]
    },
    {
     "name": "stdout",
     "output_type": "stream",
     "text": [
      "200\n",
      "200\n",
      "['2015', '2019', 'Pre2014', '2016', '2017', '2018', '2014']\n"
     ]
    },
    {
     "name": "stderr",
     "output_type": "stream",
     "text": [
      "\r",
      " 48%|████████████████████                      | 42/88 [04:22<04:49,  6.29s/it]"
     ]
    },
    {
     "name": "stdout",
     "output_type": "stream",
     "text": [
      "200\n",
      "200\n",
      "['2018']\n"
     ]
    },
    {
     "name": "stderr",
     "output_type": "stream",
     "text": [
      "\r",
      " 49%|████████████████████▌                     | 43/88 [04:30<05:02,  6.71s/it]"
     ]
    },
    {
     "name": "stdout",
     "output_type": "stream",
     "text": [
      "200\n",
      "200\n",
      "['2017']\n"
     ]
    },
    {
     "name": "stderr",
     "output_type": "stream",
     "text": [
      "\r",
      " 50%|█████████████████████                     | 44/88 [04:39<05:27,  7.45s/it]"
     ]
    },
    {
     "name": "stdout",
     "output_type": "stream",
     "text": [
      "200\n",
      "200\n",
      "['2015', '2019', 'Pre2014', '2016', '2017', '2018', '2014']\n"
     ]
    },
    {
     "name": "stderr",
     "output_type": "stream",
     "text": [
      "\r",
      " 51%|█████████████████████▍                    | 45/88 [04:43<04:34,  6.37s/it]"
     ]
    },
    {
     "name": "stdout",
     "output_type": "stream",
     "text": [
      "200\n",
      "200\n",
      "['Pre2013', '2015', '2013', '2016', '2018', '2017', '2014']\n"
     ]
    },
    {
     "name": "stderr",
     "output_type": "stream",
     "text": [
      "\r",
      " 52%|█████████████████████▉                    | 46/88 [04:48<04:15,  6.08s/it]"
     ]
    },
    {
     "name": "stdout",
     "output_type": "stream",
     "text": [
      "200\n",
      "200\n",
      "['2015', '2019', 'Pre2014', '2016', '2017', '2018', '2014']\n"
     ]
    },
    {
     "name": "stderr",
     "output_type": "stream",
     "text": [
      "\r",
      " 53%|██████████████████████▍                   | 47/88 [04:56<04:28,  6.54s/it]"
     ]
    },
    {
     "name": "stdout",
     "output_type": "stream",
     "text": [
      "200\n",
      "200\n",
      "['2011', '2015', '2012', 'Pre2011', '2013', '2016', '2017']\n"
     ]
    },
    {
     "name": "stderr",
     "output_type": "stream",
     "text": [
      "\r",
      " 55%|██████████████████████▉                   | 48/88 [05:06<04:59,  7.48s/it]"
     ]
    },
    {
     "name": "stdout",
     "output_type": "stream",
     "text": [
      "200\n",
      "200\n",
      "['Pre2013', '2015', '2013', '2016', '2018', '2017', '2014']\n"
     ]
    },
    {
     "name": "stderr",
     "output_type": "stream",
     "text": [
      "\r",
      " 56%|███████████████████████▍                  | 49/88 [05:55<12:56, 19.91s/it]"
     ]
    },
    {
     "name": "stdout",
     "output_type": "stream",
     "text": [
      "200\n",
      "200\n",
      "['Pre2013', '2015', '2013', '2016', '2018', '2017', '2014']\n"
     ]
    },
    {
     "name": "stderr",
     "output_type": "stream",
     "text": [
      "\r",
      " 57%|███████████████████████▊                  | 50/88 [06:13<12:22, 19.55s/it]"
     ]
    },
    {
     "name": "stdout",
     "output_type": "stream",
     "text": [
      "200\n",
      "200\n",
      "['1986', '2000', '2012', '2015', '2009', '2017']\n"
     ]
    },
    {
     "name": "stderr",
     "output_type": "stream",
     "text": [
      "\r",
      " 58%|████████████████████████▎                 | 51/88 [06:19<09:31, 15.44s/it]"
     ]
    },
    {
     "name": "stdout",
     "output_type": "stream",
     "text": [
      "200\n",
      "200\n",
      "['2009', '2004', '2013', '2010', '2003', '2014']\n"
     ]
    },
    {
     "name": "stderr",
     "output_type": "stream",
     "text": [
      "\r",
      " 59%|████████████████████████▊                 | 52/88 [06:23<07:16, 12.11s/it]"
     ]
    },
    {
     "name": "stdout",
     "output_type": "stream",
     "text": [
      "200\n",
      "200\n",
      "['2005']\n"
     ]
    },
    {
     "name": "stderr",
     "output_type": "stream",
     "text": [
      "\r",
      " 60%|█████████████████████████▎                | 53/88 [06:27<05:39,  9.69s/it]"
     ]
    },
    {
     "name": "stdout",
     "output_type": "stream",
     "text": [
      "200\n",
      "200\n",
      "['Pre2013', '2015', '2013', '2016', '2018', '2017', '2014']\n"
     ]
    },
    {
     "name": "stderr",
     "output_type": "stream",
     "text": [
      "\r",
      " 61%|█████████████████████████▊                | 54/88 [06:31<04:28,  7.91s/it]"
     ]
    },
    {
     "name": "stdout",
     "output_type": "stream",
     "text": [
      "200\n",
      "200\n",
      "['Pre2012', '2015', '2012', '2016', '2018', '2017', '2014']\n"
     ]
    },
    {
     "name": "stderr",
     "output_type": "stream",
     "text": [
      "\r",
      " 62%|██████████████████████████▎               | 55/88 [06:43<04:58,  9.04s/it]"
     ]
    },
    {
     "name": "stdout",
     "output_type": "stream",
     "text": [
      "200\n",
      "200\n",
      "['Pre2012', '2015', '2012', '2013', '2016', '2017', '2014']\n"
     ]
    },
    {
     "name": "stderr",
     "output_type": "stream",
     "text": [
      "\r",
      " 64%|██████████████████████████▋               | 56/88 [06:47<03:57,  7.43s/it]"
     ]
    },
    {
     "name": "stdout",
     "output_type": "stream",
     "text": [
      "200\n",
      "200\n",
      "['2011', '2012', '2009', '2016', '2018', '2010', 'Pre2009']\n"
     ]
    },
    {
     "name": "stderr",
     "output_type": "stream",
     "text": [
      "\r",
      " 65%|███████████████████████████▏              | 57/88 [06:55<03:55,  7.58s/it]"
     ]
    },
    {
     "name": "stdout",
     "output_type": "stream",
     "text": [
      "200\n",
      "200\n",
      "['2009', '2004', '2013', '2010', '2003', '2014']\n"
     ]
    },
    {
     "name": "stderr",
     "output_type": "stream",
     "text": [
      "\r",
      " 66%|███████████████████████████▋              | 58/88 [07:10<04:58,  9.95s/it]"
     ]
    },
    {
     "name": "stdout",
     "output_type": "stream",
     "text": [
      "200\n",
      "200\n",
      "['Pre2013', '2015', '2013', '2016', '2018', '2017', '2014']\n"
     ]
    },
    {
     "name": "stderr",
     "output_type": "stream",
     "text": [
      "\r",
      " 67%|████████████████████████████▏             | 59/88 [07:17<04:21,  9.01s/it]"
     ]
    },
    {
     "name": "stdout",
     "output_type": "stream",
     "text": [
      "200\n",
      "200\n",
      "['1981', '1982']\n"
     ]
    },
    {
     "name": "stderr",
     "output_type": "stream",
     "text": [
      "\r",
      " 68%|████████████████████████████▋             | 60/88 [07:21<03:29,  7.47s/it]"
     ]
    },
    {
     "name": "stdout",
     "output_type": "stream",
     "text": [
      "200\n",
      "200\n",
      "['1985']\n"
     ]
    },
    {
     "name": "stderr",
     "output_type": "stream",
     "text": [
      "\r",
      " 69%|█████████████████████████████             | 61/88 [07:31<03:42,  8.24s/it]"
     ]
    },
    {
     "name": "stdout",
     "output_type": "stream",
     "text": [
      "200\n",
      "200\n",
      "['1989', '1992']\n"
     ]
    },
    {
     "name": "stderr",
     "output_type": "stream",
     "text": [
      "\r",
      " 70%|█████████████████████████████▌            | 62/88 [07:35<02:59,  6.91s/it]"
     ]
    },
    {
     "name": "stdout",
     "output_type": "stream",
     "text": [
      "200\n",
      "200\n",
      "['2012', '2013', '2007', '2006', '2005', '2014', 'Pre2005']\n"
     ]
    },
    {
     "name": "stderr",
     "output_type": "stream",
     "text": [
      "\r",
      " 72%|██████████████████████████████            | 63/88 [07:39<02:30,  6.02s/it]"
     ]
    },
    {
     "name": "stdout",
     "output_type": "stream",
     "text": [
      "200\n",
      "200\n",
      "['1983', '2002', '2000', '2012', '2004', '2001', '2010', '2003']\n"
     ]
    },
    {
     "name": "stderr",
     "output_type": "stream",
     "text": [
      "\r",
      " 73%|██████████████████████████████▌           | 64/88 [07:51<03:10,  7.95s/it]"
     ]
    },
    {
     "name": "stdout",
     "output_type": "stream",
     "text": [
      "200\n",
      "200\n",
      "['Pre2013', '2015', '2013', '2016', '2018', '2017', '2014']\n"
     ]
    },
    {
     "name": "stderr",
     "output_type": "stream",
     "text": [
      "\r",
      " 74%|███████████████████████████████           | 65/88 [07:55<02:33,  6.66s/it]"
     ]
    },
    {
     "name": "stdout",
     "output_type": "stream",
     "text": [
      "200\n",
      "200\n",
      "['2011', '2015', '2012', 'Pre2011', '2013', '2016', '2014']\n"
     ]
    },
    {
     "name": "stderr",
     "output_type": "stream",
     "text": [
      "\r",
      " 75%|███████████████████████████████▌          | 66/88 [07:58<02:07,  5.78s/it]"
     ]
    },
    {
     "name": "stdout",
     "output_type": "stream",
     "text": [
      "200\n",
      "200\n",
      "['1997', 'Pre1987', '1987', '1995', '1988', '1989', '1991']\n"
     ]
    },
    {
     "name": "stderr",
     "output_type": "stream",
     "text": [
      "\r",
      " 76%|███████████████████████████████▉          | 67/88 [08:07<02:19,  6.64s/it]"
     ]
    },
    {
     "name": "stdout",
     "output_type": "stream",
     "text": [
      "200\n",
      "200\n",
      "['1984', '1983', '1981', '2004', '2001', '1988', '1982']\n"
     ]
    },
    {
     "name": "stderr",
     "output_type": "stream",
     "text": [
      "\r",
      " 77%|████████████████████████████████▍         | 68/88 [08:27<03:31, 10.58s/it]"
     ]
    },
    {
     "name": "stdout",
     "output_type": "stream",
     "text": [
      "200\n",
      "200\n",
      "['2009', '2016', '2018', '2017', '2010', '2003', 'Pre2003']\n"
     ]
    },
    {
     "name": "stderr",
     "output_type": "stream",
     "text": [
      "\r",
      " 78%|████████████████████████████████▉         | 69/88 [08:31<02:42,  8.56s/it]"
     ]
    },
    {
     "name": "stdout",
     "output_type": "stream",
     "text": [
      "200\n",
      "200\n",
      "['2002', '2012', 'Pre2002', '2004', '2003', '2006', '2005']\n"
     ]
    },
    {
     "name": "stderr",
     "output_type": "stream",
     "text": [
      "\r",
      " 80%|█████████████████████████████████▍        | 70/88 [08:36<02:18,  7.70s/it]"
     ]
    },
    {
     "name": "stdout",
     "output_type": "stream",
     "text": [
      "200\n",
      "200\n",
      "['2002', '2000', '1999', 'Pre1999', '2004', '2001', '2003']\n"
     ]
    },
    {
     "name": "stderr",
     "output_type": "stream",
     "text": [
      "\r",
      " 81%|█████████████████████████████████▉        | 71/88 [08:41<01:53,  6.66s/it]"
     ]
    },
    {
     "name": "stdout",
     "output_type": "stream",
     "text": [
      "200\n",
      "200\n",
      "['1986', '1983', '1981', '1985', '1995', '1982']\n"
     ]
    },
    {
     "name": "stderr",
     "output_type": "stream",
     "text": [
      "\r",
      " 82%|██████████████████████████████████▎       | 72/88 [08:52<02:08,  8.05s/it]"
     ]
    },
    {
     "name": "stdout",
     "output_type": "stream",
     "text": [
      "200\n",
      "200\n",
      "['1997', '1998', '2000', '1994', '1995']\n"
     ]
    },
    {
     "name": "stderr",
     "output_type": "stream",
     "text": [
      "\r",
      " 83%|██████████████████████████████████▊       | 73/88 [08:56<01:42,  6.83s/it]"
     ]
    },
    {
     "name": "stdout",
     "output_type": "stream",
     "text": [
      "200\n",
      "200\n",
      "['2015', '2019', 'Pre2014', '2016', '2017', '2018', '2014']\n"
     ]
    },
    {
     "name": "stderr",
     "output_type": "stream",
     "text": [
      "\r",
      " 84%|███████████████████████████████████▎      | 74/88 [08:59<01:22,  5.89s/it]"
     ]
    },
    {
     "name": "stdout",
     "output_type": "stream",
     "text": [
      "200\n",
      "200\n",
      "['2015', '2019', 'Pre2014', '2016', '2017', '2018', '2014']\n"
     ]
    },
    {
     "name": "stderr",
     "output_type": "stream",
     "text": [
      "\r",
      " 85%|███████████████████████████████████▊      | 75/88 [09:05<01:13,  5.68s/it]"
     ]
    },
    {
     "name": "stdout",
     "output_type": "stream",
     "text": [
      "200\n",
      "200\n",
      "['2015', '2004', '2001', '2003', '2005']\n"
     ]
    },
    {
     "name": "stderr",
     "output_type": "stream",
     "text": [
      "\r",
      " 86%|████████████████████████████████████▎     | 76/88 [09:08<01:00,  5.06s/it]"
     ]
    },
    {
     "name": "stdout",
     "output_type": "stream",
     "text": [
      "200\n",
      "200\n",
      "['2015', '2009', '2007', '2006', '2005', '2014', 'Pre2005']\n"
     ]
    },
    {
     "name": "stderr",
     "output_type": "stream",
     "text": [
      "\r",
      " 88%|████████████████████████████████████▊     | 77/88 [09:17<01:06,  6.06s/it]"
     ]
    },
    {
     "name": "stdout",
     "output_type": "stream",
     "text": [
      "200\n",
      "200\n",
      "['2013']\n"
     ]
    },
    {
     "name": "stderr",
     "output_type": "stream",
     "text": [
      "\r",
      " 89%|█████████████████████████████████████▏    | 78/88 [09:21<00:54,  5.44s/it]"
     ]
    },
    {
     "name": "stdout",
     "output_type": "stream",
     "text": [
      "200\n",
      "200\n",
      "['2018', '2015', '2011', '2016']\n"
     ]
    },
    {
     "name": "stderr",
     "output_type": "stream",
     "text": [
      "\r",
      " 90%|█████████████████████████████████████▋    | 79/88 [09:25<00:44,  4.97s/it]"
     ]
    },
    {
     "name": "stdout",
     "output_type": "stream",
     "text": [
      "200\n",
      "200\n",
      "['2013', '2016']\n"
     ]
    },
    {
     "name": "stderr",
     "output_type": "stream",
     "text": [
      "\r",
      " 91%|██████████████████████████████████████▏   | 80/88 [09:29<00:39,  4.92s/it]"
     ]
    },
    {
     "name": "stdout",
     "output_type": "stream",
     "text": [
      "200\n",
      "200\n",
      "['2017', '2018', '2002', '2016']\n"
     ]
    },
    {
     "name": "stderr",
     "output_type": "stream",
     "text": [
      "\r",
      " 92%|██████████████████████████████████████▋   | 81/88 [09:33<00:32,  4.58s/it]"
     ]
    },
    {
     "name": "stdout",
     "output_type": "stream",
     "text": [
      "200\n",
      "200\n",
      "['2013']\n"
     ]
    },
    {
     "name": "stderr",
     "output_type": "stream",
     "text": [
      "\r",
      " 93%|███████████████████████████████████████▏  | 82/88 [09:37<00:25,  4.25s/it]"
     ]
    },
    {
     "name": "stdout",
     "output_type": "stream",
     "text": [
      "200\n",
      "200\n",
      "['2012', '2008']\n"
     ]
    },
    {
     "name": "stderr",
     "output_type": "stream",
     "text": [
      "\r",
      " 94%|███████████████████████████████████████▌  | 83/88 [09:41<00:22,  4.43s/it]"
     ]
    },
    {
     "name": "stdout",
     "output_type": "stream",
     "text": [
      "200\n",
      "200\n",
      "['2006']\n"
     ]
    },
    {
     "name": "stderr",
     "output_type": "stream",
     "text": [
      "\r",
      " 95%|████████████████████████████████████████  | 84/88 [09:45<00:16,  4.22s/it]"
     ]
    },
    {
     "name": "stdout",
     "output_type": "stream",
     "text": [
      "200\n",
      "200\n",
      "['2016']\n"
     ]
    },
    {
     "name": "stderr",
     "output_type": "stream",
     "text": [
      "\r",
      " 97%|████████████████████████████████████████▌ | 85/88 [09:49<00:12,  4.07s/it]"
     ]
    },
    {
     "name": "stdout",
     "output_type": "stream",
     "text": [
      "200\n",
      "200\n",
      "['2012', '2015', '2001']\n"
     ]
    },
    {
     "name": "stderr",
     "output_type": "stream",
     "text": [
      "\r",
      " 98%|█████████████████████████████████████████ | 86/88 [09:53<00:07,  3.96s/it]"
     ]
    },
    {
     "name": "stdout",
     "output_type": "stream",
     "text": [
      "200\n",
      "200\n",
      "['2005']\n"
     ]
    },
    {
     "name": "stderr",
     "output_type": "stream",
     "text": [
      "\r",
      " 99%|█████████████████████████████████████████▌| 87/88 [09:57<00:04,  4.18s/it]"
     ]
    },
    {
     "name": "stdout",
     "output_type": "stream",
     "text": [
      "200\n",
      "200\n",
      "['2017']\n"
     ]
    },
    {
     "name": "stderr",
     "output_type": "stream",
     "text": [
      "100%|██████████████████████████████████████████| 88/88 [10:05<00:00,  5.31s/it]\n"
     ]
    },
    {
     "data": {
      "text/plain": [
       "{'Final Appeal (Civil)': 'https://legalref.judiciary.hk/lrs/common/ju/judgment.jsp?EX=T&L1=FA&L2=CV&AR=1#A1',\n",
       " 'Final Appeal (Criminal)': 'https://legalref.judiciary.hk/lrs/common/ju/judgment.jsp?EX=T&L1=FA&L2=CC&AR=2#A2',\n",
       " 'Miscellaneou Proceeding (Civil)': 'https://legalref.judiciary.hk/lrs/common/ju/judgment.jsp?EX=T&L1=FA&L2=MV&AR=4#A4',\n",
       " 'Miscellaneou Proceeding (Criminal)': 'https://legalref.judiciary.hk/lrs/common/ju/judgment.jsp?EX=T&L1=FA&L2=MC&AR=5#A5',\n",
       " 'Application for Review': 'https://legalref.judiciary.hk/lrs/common/ju/judgment.jsp?EX=T&L1=CA&L2=AR&AR=1#A1',\n",
       " 'Civil Appeal': 'https://legalref.judiciary.hk/lrs/common/ju/judgment.jsp?EX=T&L1=CA&L2=CV&AR=3#A3',\n",
       " 'Criminal Appeal': 'https://legalref.judiciary.hk/lrs/common/ju/judgment.jsp?EX=T&L1=CA&L2=CC&AR=4#A4',\n",
       " 'Admiralty Action': 'https://legalref.judiciary.hk/lrs/common/ju/judgment.jsp?EX=T&L1=HC&L2=AJ&AR=1#A1',\n",
       " 'Application for Grant': 'https://legalref.judiciary.hk/lrs/common/ju/judgment.jsp?EX=T&L1=HC&L2=AG&AR=3#A3',\n",
       " 'Application to et aside a Statutory Demand (under Bankruptcy Ordinance)': 'https://legalref.judiciary.hk/lrs/common/ju/judgment.jsp?EX=T&L1=HC&L2=SD&AR=4#A4',\n",
       " 'Bankruptcy Proceeding': 'https://legalref.judiciary.hk/lrs/common/ju/judgment.jsp?EX=T&L1=HC&L2=B&AR=6#A6',\n",
       " 'Caveat': 'https://legalref.judiciary.hk/lrs/common/ju/judgment.jsp?EX=T&L1=HC&L2=CA&AR=7#A7',\n",
       " 'Civil Action': 'https://legalref.judiciary.hk/lrs/common/ju/judgment.jsp?EX=T&L1=HC&L2=A&AR=9#A9',\n",
       " 'Commercial Action': 'https://legalref.judiciary.hk/lrs/common/ju/judgment.jsp?EX=T&L1=HC&L2=CL&AR=10#A10',\n",
       " 'Companie Winding-up Proceeding': 'https://legalref.judiciary.hk/lrs/common/ju/judgment.jsp?EX=T&L1=HC&L2=CW&AR=11#A11',\n",
       " 'Constitutional and Administrative Law Proceeding': 'https://legalref.judiciary.hk/lrs/common/ju/judgment.jsp?EX=T&L1=HC&L2=AL&AR=13#A13',\n",
       " 'Construction and Arbitration Proceeding': 'https://legalref.judiciary.hk/lrs/common/ju/judgment.jsp?EX=T&L1=HC&L2=CT&AR=14#A14',\n",
       " 'Criminal Case': 'https://legalref.judiciary.hk/lrs/common/ju/judgment.jsp?EX=T&L1=HC&L2=CC&AR=15#A15',\n",
       " 'Inland Revenue Appeal': 'https://legalref.judiciary.hk/lrs/common/ju/judgment.jsp?EX=T&L1=HC&L2=IA&AR=19#A19',\n",
       " 'Labour Tribunal Appeal': 'https://legalref.judiciary.hk/lrs/common/ju/judgment.jsp?EX=T&L1=HC&L2=LA&AR=21#A21',\n",
       " 'Magistracy Appeal': 'https://legalref.judiciary.hk/lrs/common/ju/judgment.jsp?EX=T&L1=HC&L2=MA&AR=23#A23',\n",
       " 'Matrimonial Cause': 'https://legalref.judiciary.hk/lrs/common/ju/judgment.jsp?EX=T&L1=HC&L2=MC&AR=24#A24',\n",
       " 'Minor Employment Claim Appeal': 'https://legalref.judiciary.hk/lrs/common/ju/judgment.jsp?EX=T&L1=HC&L2=ME&AR=25#A25',\n",
       " 'Personal Injurie Action': 'https://legalref.judiciary.hk/lrs/common/ju/judgment.jsp?EX=T&L1=HC&L2=PI&AR=29#A29',\n",
       " 'Probate Action': 'https://legalref.judiciary.hk/lrs/common/ju/judgment.jsp?EX=T&L1=HC&L2=AP&AR=30#A30',\n",
       " 'Small Claim Tribunal Appeal': 'https://legalref.judiciary.hk/lrs/common/ju/judgment.jsp?EX=T&L1=HC&L2=SA&AR=31#A31',\n",
       " 'Distraint Case': 'https://legalref.judiciary.hk/lrs/common/ju/judgment.jsp?EX=T&L1=DC&L2=DT&AR=3#A3',\n",
       " 'District Court Tax Claim': 'https://legalref.judiciary.hk/lrs/common/ju/judgment.jsp?EX=T&L1=DC&L2=TC&AR=4#A4',\n",
       " 'Employee Compensation Case': 'https://legalref.judiciary.hk/lrs/common/ju/judgment.jsp?EX=T&L1=DC&L2=EC&AR=5#A5',\n",
       " 'Equal Opportunitie Action': 'https://legalref.judiciary.hk/lrs/common/ju/judgment.jsp?EX=T&L1=DC&L2=EO&AR=6#A6',\n",
       " 'Stamp Duty Appeal': 'https://legalref.judiciary.hk/lrs/common/ju/judgment.jsp?EX=T&L1=DC&L2=SA&AR=11#A11',\n",
       " 'Joint application': 'https://legalref.judiciary.hk/lrs/common/ju/judgment.jsp?EX=T&L1=FC&L2=JA&AR=1#A1',\n",
       " 'Building Management Application': 'https://legalref.judiciary.hk/lrs/common/ju/judgment.jsp?EX=T&L1=LD&L2=BM&AR=1#A1',\n",
       " 'Government Rent Appeal': 'https://legalref.judiciary.hk/lrs/common/ju/judgment.jsp?EX=T&L1=LD&L2=GA&AR=5#A5',\n",
       " 'Land Compulsory Sale Application': 'https://legalref.judiciary.hk/lrs/common/ju/judgment.jsp?EX=T&L1=LD&L2=CS&AR=7#A7',\n",
       " 'Land Resumption Application': 'https://legalref.judiciary.hk/lrs/common/ju/judgment.jsp?EX=T&L1=LD&L2=LR&AR=8#A8',\n",
       " 'Landlord  Appeal': 'https://legalref.judiciary.hk/lrs/common/ju/judgment.jsp?EX=T&L1=LD&L2=LA&AR=9#A9',\n",
       " 'Miscellaneou Proceeding Application': 'https://legalref.judiciary.hk/lrs/common/ju/judgment.jsp?EX=T&L1=LD&L2=MP&AR=11#A11',\n",
       " 'Miscellaneou Reference Application': 'https://legalref.judiciary.hk/lrs/common/ju/judgment.jsp?EX=T&L1=LD&L2=MR&AR=12#A12',\n",
       " 'New Tenancy Application': 'https://legalref.judiciary.hk/lrs/common/ju/judgment.jsp?EX=T&L1=LD&L2=NT&AR=13#A13',\n",
       " 'Part IV Possession Application': 'https://legalref.judiciary.hk/lrs/common/ju/judgment.jsp?EX=T&L1=LD&L2=PD&AR=16#A16',\n",
       " 'Part V Possession Application': 'https://legalref.judiciary.hk/lrs/common/ju/judgment.jsp?EX=T&L1=LD&L2=PE&AR=17#A17',\n",
       " 'Rating Appeal': 'https://legalref.judiciary.hk/lrs/common/ju/judgment.jsp?EX=T&L1=LD&L2=RA&AR=19#A19'}"
      ]
     },
     "execution_count": 206,
     "metadata": {},
     "output_type": "execute_result"
    }
   ],
   "source": [
    "def check_special(sc_cleared, df_all, courts_set, urls_set):\n",
    "    \"\"\"Check if sub-court has Pre****\"\"\"\n",
    "    years = subCourt_get_years(sc_cleared, df_all, courts_set)\n",
    "    urls = subCourt_get_urls(sc_cleared, df_all, urls_set) \n",
    "    print(years)\n",
    "    special_ = [years[idx] for idx, y in enumerate(years) if len(re.findall('Pre', y))!=0]\n",
    "    if len(special_) != 0:\n",
    "        has_special = True\n",
    "        special_year = special_[0]\n",
    "        special_url = [u for idx, u in enumerate(urls) if len(re.findall('L3=....', u))==0][0]\n",
    "    else: \n",
    "        has_special = False\n",
    "        special_year = None\n",
    "        special_url = None\n",
    "    return has_special, special_year, special_url\n",
    "\n",
    "        \n",
    "courts_set = set(df_all['parent_court']) | set(df_all['sub_court'])\n",
    "urls_set = set(df_all['sub_court_url']) | set(df_all['parent_court_url'])\n",
    "\n",
    "special_courts = {}\n",
    "for sc_ in tqdm(df_all['sub_court_cleared']):\n",
    "    has_special, special_year, special_url = check_special(sc_, df_all, courts_set, urls_set)\n",
    "    if has_special:\n",
    "        special_courts[sc_] = special_url\n",
    "special_courts\n"
   ]
  },
  {
   "cell_type": "code",
   "execution_count": 209,
   "metadata": {},
   "outputs": [
    {
     "name": "stdout",
     "output_type": "stream",
     "text": [
      "200\n"
     ]
    },
    {
     "data": {
      "text/plain": [
       "['2017']"
      ]
     },
     "execution_count": 209,
     "metadata": {},
     "output_type": "execute_result"
    }
   ],
   "source": [
    "def subCourt_get_years(sc_cleared, url, df_all, all_courts):\n",
    "    time.sleep(1)\n",
    "    root = url_to_root(url)\n",
    "    info_list = root.find('script', string=re.compile(\"var myMenu\")).text.split(\",\")\n",
    "    \n",
    "    now_set = set([BeautifulSoup(i.strip(\"' \")).text.strip(\" \") for i in info_list if len(re.findall('<a name=', i))!=0])\n",
    "    years = now_set - all_courts\n",
    "    return list(years)\n",
    "\n",
    "courts_set = set(df_all['parent_court']) | set(df_all['sub_court'])\n",
    "url = list(df_all[df_all['sub_court_cleared']==sub_]['sub_court_url'])[0]\n",
    "years = subCourt_get_years(sub_, url, df_all, courts_set)\n",
    "years"
   ]
  },
  {
   "cell_type": "code",
   "execution_count": 210,
   "metadata": {},
   "outputs": [
    {
     "name": "stdout",
     "output_type": "stream",
     "text": [
      "200\n"
     ]
    },
    {
     "data": {
      "text/plain": [
       "['https://legalref.judiciary.hk/lrs/common/ju/judgment.jsp?EX=T&L1=WK&L2=CC&L3=2017&AR=11_1#A11_1']"
      ]
     },
     "execution_count": 210,
     "metadata": {},
     "output_type": "execute_result"
    }
   ],
   "source": [
    "def subCourt_get_urls(sub_court, url, df_all, urls_set):\n",
    "    \n",
    "    time.sleep(1)\n",
    "    root = url_to_root(url)\n",
    "    info_list = root.find('script', string=re.compile(\"var myMenu\")).text.split(\",\")\n",
    "    \n",
    "    potential_urls = set([i.strip(\"' \") for i in info_list if i.strip(\"' \")[:5]=='https'])\n",
    "    urls = potential_urls - urls_set\n",
    "    return list(urls)\n",
    "\n",
    "urls_set = set(df_all['sub_court_url']) | set(df_all['parent_court_url'])\n",
    "url = list(df_all[df_all['sub_court_cleared']==sub_]['sub_court_url'])[0]\n",
    "urls = subCourt_get_urls(sub_, url, df_all, urls_set)  \n",
    "urls"
   ]
  },
  {
   "cell_type": "code",
   "execution_count": 211,
   "metadata": {},
   "outputs": [
    {
     "data": {
      "text/plain": [
       "{'2017': 'https://legalref.judiciary.hk/lrs/common/ju/judgment.jsp?EX=T&L1=WK&L2=CC&L3=2017&AR=11_1#A11_1'}"
      ]
     },
     "execution_count": 211,
     "metadata": {},
     "output_type": "execute_result"
    }
   ],
   "source": [
    "def match_year_urls(years, urls):\n",
    "    match_dict = {}\n",
    "    url_pairs = [(re.findall('L3=....', i)[0][-4:], i) for i in urls]\n",
    "    for y in years:\n",
    "        for y_url, url in url_pairs:\n",
    "            if y == y_url:\n",
    "                match_dict[y] = url\n",
    "    return match_dict\n",
    "\n",
    "match_year_urls(years, urls)"
   ]
  },
  {
   "cell_type": "code",
   "execution_count": 213,
   "metadata": {},
   "outputs": [
    {
     "name": "stdout",
     "output_type": "stream",
     "text": [
      "200\n",
      "200\n"
     ]
    },
    {
     "data": {
      "text/html": [
       "<div>\n",
       "<style scoped>\n",
       "    .dataframe tbody tr th:only-of-type {\n",
       "        vertical-align: middle;\n",
       "    }\n",
       "\n",
       "    .dataframe tbody tr th {\n",
       "        vertical-align: top;\n",
       "    }\n",
       "\n",
       "    .dataframe thead th {\n",
       "        text-align: right;\n",
       "    }\n",
       "</style>\n",
       "<table border=\"1\" class=\"dataframe\">\n",
       "  <thead>\n",
       "    <tr style=\"text-align: right;\">\n",
       "      <th></th>\n",
       "      <th>year</th>\n",
       "      <th>year_url</th>\n",
       "      <th>sub_court_cleared</th>\n",
       "    </tr>\n",
       "  </thead>\n",
       "  <tbody>\n",
       "    <tr>\n",
       "      <th>0</th>\n",
       "      <td>2017</td>\n",
       "      <td>https://legalref.judiciary.hk/lrs/common/ju/judgment.jsp?EX=T&amp;L1=WK&amp;L2=CC&amp;L3=2017&amp;AR=11_1#A11_1</td>\n",
       "      <td>West Kowloon Magistrate Court Charge Case</td>\n",
       "    </tr>\n",
       "  </tbody>\n",
       "</table>\n",
       "</div>"
      ],
      "text/plain": [
       "   year  \\\n",
       "0  2017   \n",
       "\n",
       "                                                                                          year_url  \\\n",
       "0  https://legalref.judiciary.hk/lrs/common/ju/judgment.jsp?EX=T&L1=WK&L2=CC&L3=2017&AR=11_1#A11_1   \n",
       "\n",
       "                           sub_court_cleared  \n",
       "0  West Kowloon Magistrate Court Charge Case  "
      ]
     },
     "execution_count": 213,
     "metadata": {},
     "output_type": "execute_result"
    }
   ],
   "source": [
    "def get_year_urls(sub_court, url, df_all, courts_set, urls_set):\n",
    "    # get years\n",
    "    years = subCourt_get_years(sub_court, url, df_all, courts_set)\n",
    "    # get urls\n",
    "    urls = subCourt_get_urls(sub_court, url, df_all, urls_set)  \n",
    "    # match them\n",
    "    match_dict = match_year_urls(years, urls)\n",
    "    # convert to DataFrame\n",
    "    data = [(k,v) for k, v in match_dict.items()]\n",
    "    match = pd.DataFrame(data, columns=['year', 'year_url'])\n",
    "    match['sub_court_cleared'] = sub_court\n",
    "    return match\n",
    "\n",
    "# test case 1\n",
    "courts_set = set(df_all['parent_court']) | set(df_all['sub_court'])\n",
    "urls_set = set(df_all['sub_court_url']) | set(df_all['parent_court_url'])\n",
    "url = list(df_all[df_all['sub_court_cleared']==sub_]['sub_court_url'])[0]\n",
    "df_test = get_year_urls(sub_, url, df_all, courts_set, urls_set)\n",
    "df_test"
   ]
  },
  {
   "cell_type": "code",
   "execution_count": 217,
   "metadata": {},
   "outputs": [
    {
     "name": "stdout",
     "output_type": "stream",
     "text": [
      "https://legalref.judiciary.hk/lrs/common/ju/judgment.jsp?EX=T&L1=HC&L2=MA&AR=23#A23\n",
      "200\n",
      "200\n"
     ]
    },
    {
     "data": {
      "text/html": [
       "<div>\n",
       "<style scoped>\n",
       "    .dataframe tbody tr th:only-of-type {\n",
       "        vertical-align: middle;\n",
       "    }\n",
       "\n",
       "    .dataframe tbody tr th {\n",
       "        vertical-align: top;\n",
       "    }\n",
       "\n",
       "    .dataframe thead th {\n",
       "        text-align: right;\n",
       "    }\n",
       "</style>\n",
       "<table border=\"1\" class=\"dataframe\">\n",
       "  <thead>\n",
       "    <tr style=\"text-align: right;\">\n",
       "      <th></th>\n",
       "      <th>year</th>\n",
       "      <th>year_url</th>\n",
       "      <th>sub_court_cleared</th>\n",
       "    </tr>\n",
       "  </thead>\n",
       "  <tbody>\n",
       "    <tr>\n",
       "      <th>0</th>\n",
       "      <td>1986</td>\n",
       "      <td>https://legalref.judiciary.hk/lrs/common/ju/judgment.jsp?EX=T&amp;L1=HC&amp;L2=MA&amp;L3=1986&amp;AR=23_34#A23_34</td>\n",
       "      <td>Magistracy Appeal</td>\n",
       "    </tr>\n",
       "    <tr>\n",
       "      <th>1</th>\n",
       "      <td>1984</td>\n",
       "      <td>https://legalref.judiciary.hk/lrs/common/ju/judgment.jsp?EX=T&amp;L1=HC&amp;L2=MA&amp;L3=1984&amp;AR=23_36#A23_36</td>\n",
       "      <td>Magistracy Appeal</td>\n",
       "    </tr>\n",
       "    <tr>\n",
       "      <th>2</th>\n",
       "      <td>1983</td>\n",
       "      <td>https://legalref.judiciary.hk/lrs/common/ju/judgment.jsp?EX=T&amp;L1=HC&amp;L2=MA&amp;L3=1983&amp;AR=23_37#A23_37</td>\n",
       "      <td>Magistracy Appeal</td>\n",
       "    </tr>\n",
       "    <tr>\n",
       "      <th>3</th>\n",
       "      <td>2011</td>\n",
       "      <td>https://legalref.judiciary.hk/lrs/common/ju/judgment.jsp?EX=T&amp;L1=HC&amp;L2=MA&amp;L3=2011&amp;AR=23_9#A23_9</td>\n",
       "      <td>Magistracy Appeal</td>\n",
       "    </tr>\n",
       "    <tr>\n",
       "      <th>4</th>\n",
       "      <td>2000</td>\n",
       "      <td>https://legalref.judiciary.hk/lrs/common/ju/judgment.jsp?EX=T&amp;L1=HC&amp;L2=MA&amp;L3=2000&amp;AR=23_20#A23_20</td>\n",
       "      <td>Magistracy Appeal</td>\n",
       "    </tr>\n",
       "    <tr>\n",
       "      <th>5</th>\n",
       "      <td>2012</td>\n",
       "      <td>https://legalref.judiciary.hk/lrs/common/ju/judgment.jsp?EX=T&amp;L1=HC&amp;L2=MA&amp;L3=2012&amp;AR=23_8#A23_8</td>\n",
       "      <td>Magistracy Appeal</td>\n",
       "    </tr>\n",
       "    <tr>\n",
       "      <th>6</th>\n",
       "      <td>1998</td>\n",
       "      <td>https://legalref.judiciary.hk/lrs/common/ju/judgment.jsp?EX=T&amp;L1=HC&amp;L2=MA&amp;L3=1998&amp;AR=23_22#A23_22</td>\n",
       "      <td>Magistracy Appeal</td>\n",
       "    </tr>\n",
       "    <tr>\n",
       "      <th>7</th>\n",
       "      <td>1992</td>\n",
       "      <td>https://legalref.judiciary.hk/lrs/common/ju/judgment.jsp?EX=T&amp;L1=HC&amp;L2=MA&amp;L3=1992&amp;AR=23_28#A23_28</td>\n",
       "      <td>Magistracy Appeal</td>\n",
       "    </tr>\n",
       "    <tr>\n",
       "      <th>8</th>\n",
       "      <td>2001</td>\n",
       "      <td>https://legalref.judiciary.hk/lrs/common/ju/judgment.jsp?EX=T&amp;L1=HC&amp;L2=MA&amp;L3=2001&amp;AR=23_19#A23_19</td>\n",
       "      <td>Magistracy Appeal</td>\n",
       "    </tr>\n",
       "    <tr>\n",
       "      <th>9</th>\n",
       "      <td>2007</td>\n",
       "      <td>https://legalref.judiciary.hk/lrs/common/ju/judgment.jsp?EX=T&amp;L1=HC&amp;L2=MA&amp;L3=2007&amp;AR=23_13#A23_13</td>\n",
       "      <td>Magistracy Appeal</td>\n",
       "    </tr>\n",
       "    <tr>\n",
       "      <th>10</th>\n",
       "      <td>1993</td>\n",
       "      <td>https://legalref.judiciary.hk/lrs/common/ju/judgment.jsp?EX=T&amp;L1=HC&amp;L2=MA&amp;L3=1993&amp;AR=23_27#A23_27</td>\n",
       "      <td>Magistracy Appeal</td>\n",
       "    </tr>\n",
       "    <tr>\n",
       "      <th>11</th>\n",
       "      <td>1989</td>\n",
       "      <td>https://legalref.judiciary.hk/lrs/common/ju/judgment.jsp?EX=T&amp;L1=HC&amp;L2=MA&amp;L3=1989&amp;AR=23_31#A23_31</td>\n",
       "      <td>Magistracy Appeal</td>\n",
       "    </tr>\n",
       "    <tr>\n",
       "      <th>12</th>\n",
       "      <td>2006</td>\n",
       "      <td>https://legalref.judiciary.hk/lrs/common/ju/judgment.jsp?EX=T&amp;L1=HC&amp;L2=MA&amp;L3=2006&amp;AR=23_14#A23_14</td>\n",
       "      <td>Magistracy Appeal</td>\n",
       "    </tr>\n",
       "    <tr>\n",
       "      <th>13</th>\n",
       "      <td>2005</td>\n",
       "      <td>https://legalref.judiciary.hk/lrs/common/ju/judgment.jsp?EX=T&amp;L1=HC&amp;L2=MA&amp;L3=2005&amp;AR=23_15#A23_15</td>\n",
       "      <td>Magistracy Appeal</td>\n",
       "    </tr>\n",
       "    <tr>\n",
       "      <th>14</th>\n",
       "      <td>2014</td>\n",
       "      <td>https://legalref.judiciary.hk/lrs/common/ju/judgment.jsp?EX=T&amp;L1=HC&amp;L2=MA&amp;L3=2014&amp;AR=23_6#A23_6</td>\n",
       "      <td>Magistracy Appeal</td>\n",
       "    </tr>\n",
       "    <tr>\n",
       "      <th>15</th>\n",
       "      <td>2008</td>\n",
       "      <td>https://legalref.judiciary.hk/lrs/common/ju/judgment.jsp?EX=T&amp;L1=HC&amp;L2=MA&amp;L3=2008&amp;AR=23_12#A23_12</td>\n",
       "      <td>Magistracy Appeal</td>\n",
       "    </tr>\n",
       "    <tr>\n",
       "      <th>16</th>\n",
       "      <td>2002</td>\n",
       "      <td>https://legalref.judiciary.hk/lrs/common/ju/judgment.jsp?EX=T&amp;L1=HC&amp;L2=MA&amp;L3=2002&amp;AR=23_18#A23_18</td>\n",
       "      <td>Magistracy Appeal</td>\n",
       "    </tr>\n",
       "    <tr>\n",
       "      <th>17</th>\n",
       "      <td>1996</td>\n",
       "      <td>https://legalref.judiciary.hk/lrs/common/ju/judgment.jsp?EX=T&amp;L1=HC&amp;L2=MA&amp;L3=1996&amp;AR=23_24#A23_24</td>\n",
       "      <td>Magistracy Appeal</td>\n",
       "    </tr>\n",
       "    <tr>\n",
       "      <th>18</th>\n",
       "      <td>1994</td>\n",
       "      <td>https://legalref.judiciary.hk/lrs/common/ju/judgment.jsp?EX=T&amp;L1=HC&amp;L2=MA&amp;L3=1994&amp;AR=23_26#A23_26</td>\n",
       "      <td>Magistracy Appeal</td>\n",
       "    </tr>\n",
       "    <tr>\n",
       "      <th>19</th>\n",
       "      <td>2019</td>\n",
       "      <td>https://legalref.judiciary.hk/lrs/common/ju/judgment.jsp?EX=T&amp;L1=HC&amp;L2=MA&amp;L3=2019&amp;AR=23_1#A23_1</td>\n",
       "      <td>Magistracy Appeal</td>\n",
       "    </tr>\n",
       "    <tr>\n",
       "      <th>20</th>\n",
       "      <td>2009</td>\n",
       "      <td>https://legalref.judiciary.hk/lrs/common/ju/judgment.jsp?EX=T&amp;L1=HC&amp;L2=MA&amp;L3=2009&amp;AR=23_11#A23_11</td>\n",
       "      <td>Magistracy Appeal</td>\n",
       "    </tr>\n",
       "    <tr>\n",
       "      <th>21</th>\n",
       "      <td>2013</td>\n",
       "      <td>https://legalref.judiciary.hk/lrs/common/ju/judgment.jsp?EX=T&amp;L1=HC&amp;L2=MA&amp;L3=2013&amp;AR=23_7#A23_7</td>\n",
       "      <td>Magistracy Appeal</td>\n",
       "    </tr>\n",
       "    <tr>\n",
       "      <th>22</th>\n",
       "      <td>2016</td>\n",
       "      <td>https://legalref.judiciary.hk/lrs/common/ju/judgment.jsp?EX=T&amp;L1=HC&amp;L2=MA&amp;L3=2016&amp;AR=23_4#A23_4</td>\n",
       "      <td>Magistracy Appeal</td>\n",
       "    </tr>\n",
       "    <tr>\n",
       "      <th>23</th>\n",
       "      <td>2004</td>\n",
       "      <td>https://legalref.judiciary.hk/lrs/common/ju/judgment.jsp?EX=T&amp;L1=HC&amp;L2=MA&amp;L3=2004&amp;AR=23_16#A23_16</td>\n",
       "      <td>Magistracy Appeal</td>\n",
       "    </tr>\n",
       "    <tr>\n",
       "      <th>24</th>\n",
       "      <td>1987</td>\n",
       "      <td>https://legalref.judiciary.hk/lrs/common/ju/judgment.jsp?EX=T&amp;L1=HC&amp;L2=MA&amp;L3=1987&amp;AR=23_33#A23_33</td>\n",
       "      <td>Magistracy Appeal</td>\n",
       "    </tr>\n",
       "    <tr>\n",
       "      <th>25</th>\n",
       "      <td>1995</td>\n",
       "      <td>https://legalref.judiciary.hk/lrs/common/ju/judgment.jsp?EX=T&amp;L1=HC&amp;L2=MA&amp;L3=1995&amp;AR=23_25#A23_25</td>\n",
       "      <td>Magistracy Appeal</td>\n",
       "    </tr>\n",
       "    <tr>\n",
       "      <th>26</th>\n",
       "      <td>2003</td>\n",
       "      <td>https://legalref.judiciary.hk/lrs/common/ju/judgment.jsp?EX=T&amp;L1=HC&amp;L2=MA&amp;L3=2003&amp;AR=23_17#A23_17</td>\n",
       "      <td>Magistracy Appeal</td>\n",
       "    </tr>\n",
       "    <tr>\n",
       "      <th>27</th>\n",
       "      <td>1988</td>\n",
       "      <td>https://legalref.judiciary.hk/lrs/common/ju/judgment.jsp?EX=T&amp;L1=HC&amp;L2=MA&amp;L3=1988&amp;AR=23_32#A23_32</td>\n",
       "      <td>Magistracy Appeal</td>\n",
       "    </tr>\n",
       "    <tr>\n",
       "      <th>28</th>\n",
       "      <td>1990</td>\n",
       "      <td>https://legalref.judiciary.hk/lrs/common/ju/judgment.jsp?EX=T&amp;L1=HC&amp;L2=MA&amp;L3=1990&amp;AR=23_30#A23_30</td>\n",
       "      <td>Magistracy Appeal</td>\n",
       "    </tr>\n",
       "    <tr>\n",
       "      <th>29</th>\n",
       "      <td>1999</td>\n",
       "      <td>https://legalref.judiciary.hk/lrs/common/ju/judgment.jsp?EX=T&amp;L1=HC&amp;L2=MA&amp;L3=1999&amp;AR=23_21#A23_21</td>\n",
       "      <td>Magistracy Appeal</td>\n",
       "    </tr>\n",
       "    <tr>\n",
       "      <th>30</th>\n",
       "      <td>2018</td>\n",
       "      <td>https://legalref.judiciary.hk/lrs/common/ju/judgment.jsp?EX=T&amp;L1=HC&amp;L2=MA&amp;L3=2018&amp;AR=23_2#A23_2</td>\n",
       "      <td>Magistracy Appeal</td>\n",
       "    </tr>\n",
       "    <tr>\n",
       "      <th>31</th>\n",
       "      <td>2017</td>\n",
       "      <td>https://legalref.judiciary.hk/lrs/common/ju/judgment.jsp?EX=T&amp;L1=HC&amp;L2=MA&amp;L3=2017&amp;AR=23_3#A23_3</td>\n",
       "      <td>Magistracy Appeal</td>\n",
       "    </tr>\n",
       "    <tr>\n",
       "      <th>32</th>\n",
       "      <td>1997</td>\n",
       "      <td>https://legalref.judiciary.hk/lrs/common/ju/judgment.jsp?EX=T&amp;L1=HC&amp;L2=MA&amp;L3=1997&amp;AR=23_23#A23_23</td>\n",
       "      <td>Magistracy Appeal</td>\n",
       "    </tr>\n",
       "    <tr>\n",
       "      <th>33</th>\n",
       "      <td>2015</td>\n",
       "      <td>https://legalref.judiciary.hk/lrs/common/ju/judgment.jsp?EX=T&amp;L1=HC&amp;L2=MA&amp;L3=2015&amp;AR=23_5#A23_5</td>\n",
       "      <td>Magistracy Appeal</td>\n",
       "    </tr>\n",
       "    <tr>\n",
       "      <th>34</th>\n",
       "      <td>1985</td>\n",
       "      <td>https://legalref.judiciary.hk/lrs/common/ju/judgment.jsp?EX=T&amp;L1=HC&amp;L2=MA&amp;L3=1985&amp;AR=23_35#A23_35</td>\n",
       "      <td>Magistracy Appeal</td>\n",
       "    </tr>\n",
       "    <tr>\n",
       "      <th>35</th>\n",
       "      <td>2010</td>\n",
       "      <td>https://legalref.judiciary.hk/lrs/common/ju/judgment.jsp?EX=T&amp;L1=HC&amp;L2=MA&amp;L3=2010&amp;AR=23_10#A23_10</td>\n",
       "      <td>Magistracy Appeal</td>\n",
       "    </tr>\n",
       "    <tr>\n",
       "      <th>36</th>\n",
       "      <td>1991</td>\n",
       "      <td>https://legalref.judiciary.hk/lrs/common/ju/judgment.jsp?EX=T&amp;L1=HC&amp;L2=MA&amp;L3=1991&amp;AR=23_29#A23_29</td>\n",
       "      <td>Magistracy Appeal</td>\n",
       "    </tr>\n",
       "  </tbody>\n",
       "</table>\n",
       "</div>"
      ],
      "text/plain": [
       "    year  \\\n",
       "0   1986   \n",
       "1   1984   \n",
       "2   1983   \n",
       "3   2011   \n",
       "4   2000   \n",
       "5   2012   \n",
       "6   1998   \n",
       "7   1992   \n",
       "8   2001   \n",
       "9   2007   \n",
       "10  1993   \n",
       "11  1989   \n",
       "12  2006   \n",
       "13  2005   \n",
       "14  2014   \n",
       "15  2008   \n",
       "16  2002   \n",
       "17  1996   \n",
       "18  1994   \n",
       "19  2019   \n",
       "20  2009   \n",
       "21  2013   \n",
       "22  2016   \n",
       "23  2004   \n",
       "24  1987   \n",
       "25  1995   \n",
       "26  2003   \n",
       "27  1988   \n",
       "28  1990   \n",
       "29  1999   \n",
       "30  2018   \n",
       "31  2017   \n",
       "32  1997   \n",
       "33  2015   \n",
       "34  1985   \n",
       "35  2010   \n",
       "36  1991   \n",
       "\n",
       "                                                                                             year_url  \\\n",
       "0   https://legalref.judiciary.hk/lrs/common/ju/judgment.jsp?EX=T&L1=HC&L2=MA&L3=1986&AR=23_34#A23_34   \n",
       "1   https://legalref.judiciary.hk/lrs/common/ju/judgment.jsp?EX=T&L1=HC&L2=MA&L3=1984&AR=23_36#A23_36   \n",
       "2   https://legalref.judiciary.hk/lrs/common/ju/judgment.jsp?EX=T&L1=HC&L2=MA&L3=1983&AR=23_37#A23_37   \n",
       "3     https://legalref.judiciary.hk/lrs/common/ju/judgment.jsp?EX=T&L1=HC&L2=MA&L3=2011&AR=23_9#A23_9   \n",
       "4   https://legalref.judiciary.hk/lrs/common/ju/judgment.jsp?EX=T&L1=HC&L2=MA&L3=2000&AR=23_20#A23_20   \n",
       "5     https://legalref.judiciary.hk/lrs/common/ju/judgment.jsp?EX=T&L1=HC&L2=MA&L3=2012&AR=23_8#A23_8   \n",
       "6   https://legalref.judiciary.hk/lrs/common/ju/judgment.jsp?EX=T&L1=HC&L2=MA&L3=1998&AR=23_22#A23_22   \n",
       "7   https://legalref.judiciary.hk/lrs/common/ju/judgment.jsp?EX=T&L1=HC&L2=MA&L3=1992&AR=23_28#A23_28   \n",
       "8   https://legalref.judiciary.hk/lrs/common/ju/judgment.jsp?EX=T&L1=HC&L2=MA&L3=2001&AR=23_19#A23_19   \n",
       "9   https://legalref.judiciary.hk/lrs/common/ju/judgment.jsp?EX=T&L1=HC&L2=MA&L3=2007&AR=23_13#A23_13   \n",
       "10  https://legalref.judiciary.hk/lrs/common/ju/judgment.jsp?EX=T&L1=HC&L2=MA&L3=1993&AR=23_27#A23_27   \n",
       "11  https://legalref.judiciary.hk/lrs/common/ju/judgment.jsp?EX=T&L1=HC&L2=MA&L3=1989&AR=23_31#A23_31   \n",
       "12  https://legalref.judiciary.hk/lrs/common/ju/judgment.jsp?EX=T&L1=HC&L2=MA&L3=2006&AR=23_14#A23_14   \n",
       "13  https://legalref.judiciary.hk/lrs/common/ju/judgment.jsp?EX=T&L1=HC&L2=MA&L3=2005&AR=23_15#A23_15   \n",
       "14    https://legalref.judiciary.hk/lrs/common/ju/judgment.jsp?EX=T&L1=HC&L2=MA&L3=2014&AR=23_6#A23_6   \n",
       "15  https://legalref.judiciary.hk/lrs/common/ju/judgment.jsp?EX=T&L1=HC&L2=MA&L3=2008&AR=23_12#A23_12   \n",
       "16  https://legalref.judiciary.hk/lrs/common/ju/judgment.jsp?EX=T&L1=HC&L2=MA&L3=2002&AR=23_18#A23_18   \n",
       "17  https://legalref.judiciary.hk/lrs/common/ju/judgment.jsp?EX=T&L1=HC&L2=MA&L3=1996&AR=23_24#A23_24   \n",
       "18  https://legalref.judiciary.hk/lrs/common/ju/judgment.jsp?EX=T&L1=HC&L2=MA&L3=1994&AR=23_26#A23_26   \n",
       "19    https://legalref.judiciary.hk/lrs/common/ju/judgment.jsp?EX=T&L1=HC&L2=MA&L3=2019&AR=23_1#A23_1   \n",
       "20  https://legalref.judiciary.hk/lrs/common/ju/judgment.jsp?EX=T&L1=HC&L2=MA&L3=2009&AR=23_11#A23_11   \n",
       "21    https://legalref.judiciary.hk/lrs/common/ju/judgment.jsp?EX=T&L1=HC&L2=MA&L3=2013&AR=23_7#A23_7   \n",
       "22    https://legalref.judiciary.hk/lrs/common/ju/judgment.jsp?EX=T&L1=HC&L2=MA&L3=2016&AR=23_4#A23_4   \n",
       "23  https://legalref.judiciary.hk/lrs/common/ju/judgment.jsp?EX=T&L1=HC&L2=MA&L3=2004&AR=23_16#A23_16   \n",
       "24  https://legalref.judiciary.hk/lrs/common/ju/judgment.jsp?EX=T&L1=HC&L2=MA&L3=1987&AR=23_33#A23_33   \n",
       "25  https://legalref.judiciary.hk/lrs/common/ju/judgment.jsp?EX=T&L1=HC&L2=MA&L3=1995&AR=23_25#A23_25   \n",
       "26  https://legalref.judiciary.hk/lrs/common/ju/judgment.jsp?EX=T&L1=HC&L2=MA&L3=2003&AR=23_17#A23_17   \n",
       "27  https://legalref.judiciary.hk/lrs/common/ju/judgment.jsp?EX=T&L1=HC&L2=MA&L3=1988&AR=23_32#A23_32   \n",
       "28  https://legalref.judiciary.hk/lrs/common/ju/judgment.jsp?EX=T&L1=HC&L2=MA&L3=1990&AR=23_30#A23_30   \n",
       "29  https://legalref.judiciary.hk/lrs/common/ju/judgment.jsp?EX=T&L1=HC&L2=MA&L3=1999&AR=23_21#A23_21   \n",
       "30    https://legalref.judiciary.hk/lrs/common/ju/judgment.jsp?EX=T&L1=HC&L2=MA&L3=2018&AR=23_2#A23_2   \n",
       "31    https://legalref.judiciary.hk/lrs/common/ju/judgment.jsp?EX=T&L1=HC&L2=MA&L3=2017&AR=23_3#A23_3   \n",
       "32  https://legalref.judiciary.hk/lrs/common/ju/judgment.jsp?EX=T&L1=HC&L2=MA&L3=1997&AR=23_23#A23_23   \n",
       "33    https://legalref.judiciary.hk/lrs/common/ju/judgment.jsp?EX=T&L1=HC&L2=MA&L3=2015&AR=23_5#A23_5   \n",
       "34  https://legalref.judiciary.hk/lrs/common/ju/judgment.jsp?EX=T&L1=HC&L2=MA&L3=1985&AR=23_35#A23_35   \n",
       "35  https://legalref.judiciary.hk/lrs/common/ju/judgment.jsp?EX=T&L1=HC&L2=MA&L3=2010&AR=23_10#A23_10   \n",
       "36  https://legalref.judiciary.hk/lrs/common/ju/judgment.jsp?EX=T&L1=HC&L2=MA&L3=1991&AR=23_29#A23_29   \n",
       "\n",
       "    sub_court_cleared  \n",
       "0   Magistracy Appeal  \n",
       "1   Magistracy Appeal  \n",
       "2   Magistracy Appeal  \n",
       "3   Magistracy Appeal  \n",
       "4   Magistracy Appeal  \n",
       "5   Magistracy Appeal  \n",
       "6   Magistracy Appeal  \n",
       "7   Magistracy Appeal  \n",
       "8   Magistracy Appeal  \n",
       "9   Magistracy Appeal  \n",
       "10  Magistracy Appeal  \n",
       "11  Magistracy Appeal  \n",
       "12  Magistracy Appeal  \n",
       "13  Magistracy Appeal  \n",
       "14  Magistracy Appeal  \n",
       "15  Magistracy Appeal  \n",
       "16  Magistracy Appeal  \n",
       "17  Magistracy Appeal  \n",
       "18  Magistracy Appeal  \n",
       "19  Magistracy Appeal  \n",
       "20  Magistracy Appeal  \n",
       "21  Magistracy Appeal  \n",
       "22  Magistracy Appeal  \n",
       "23  Magistracy Appeal  \n",
       "24  Magistracy Appeal  \n",
       "25  Magistracy Appeal  \n",
       "26  Magistracy Appeal  \n",
       "27  Magistracy Appeal  \n",
       "28  Magistracy Appeal  \n",
       "29  Magistracy Appeal  \n",
       "30  Magistracy Appeal  \n",
       "31  Magistracy Appeal  \n",
       "32  Magistracy Appeal  \n",
       "33  Magistracy Appeal  \n",
       "34  Magistracy Appeal  \n",
       "35  Magistracy Appeal  \n",
       "36  Magistracy Appeal  "
      ]
     },
     "execution_count": 217,
     "metadata": {},
     "output_type": "execute_result"
    }
   ],
   "source": [
    "# test case2\n",
    "sub_ = 'Magistracy Appeal'\n",
    "url = special_courts[sub_]\n",
    "print(url)\n",
    "df_test = get_year_urls(sub_, url, df_all, courts_set, urls_set)\n",
    "df_test"
   ]
  },
  {
   "cell_type": "code",
   "execution_count": 218,
   "metadata": {
    "scrolled": true
   },
   "outputs": [
    {
     "name": "stderr",
     "output_type": "stream",
     "text": [
      "\n",
      "  0%|                                                   | 0/88 [00:00<?, ?it/s]"
     ]
    },
    {
     "name": "stdout",
     "output_type": "stream",
     "text": [
      "for sub_court:  Final Appeal (Civil)\n",
      "200\n",
      "200\n"
     ]
    },
    {
     "name": "stderr",
     "output_type": "stream",
     "text": [
      "\n",
      "  1%|▍                                          | 1/88 [00:07<10:35,  7.30s/it]"
     ]
    },
    {
     "name": "stdout",
     "output_type": "stream",
     "text": [
      "for sub_court:  Final Appeal (Criminal)\n",
      "200\n",
      "200\n"
     ]
    },
    {
     "name": "stderr",
     "output_type": "stream",
     "text": [
      "\n",
      "  2%|▉                                          | 2/88 [00:20<13:04,  9.13s/it]"
     ]
    },
    {
     "name": "stdout",
     "output_type": "stream",
     "text": [
      "for sub_court:  Miscellaneou Proceeding\n",
      "200\n",
      "200\n"
     ]
    },
    {
     "name": "stderr",
     "output_type": "stream",
     "text": [
      "\n",
      "  3%|█▍                                         | 3/88 [00:34<14:46, 10.42s/it]"
     ]
    },
    {
     "name": "stdout",
     "output_type": "stream",
     "text": [
      "for sub_court:  Miscellaneou Proceeding (Civil)\n",
      "200\n",
      "200\n"
     ]
    },
    {
     "name": "stderr",
     "output_type": "stream",
     "text": [
      "\n",
      "  5%|█▉                                         | 4/88 [00:39<12:23,  8.85s/it]"
     ]
    },
    {
     "name": "stdout",
     "output_type": "stream",
     "text": [
      "for sub_court:  Miscellaneou Proceeding (Criminal)\n",
      "200\n",
      "200\n"
     ]
    },
    {
     "name": "stderr",
     "output_type": "stream",
     "text": [
      "\n",
      "  6%|██▍                                        | 5/88 [00:44<10:37,  7.68s/it]"
     ]
    },
    {
     "name": "stdout",
     "output_type": "stream",
     "text": [
      "for sub_court:  Application for Review\n",
      "200\n",
      "200\n"
     ]
    },
    {
     "name": "stderr",
     "output_type": "stream",
     "text": [
      "\n",
      "  7%|██▉                                        | 6/88 [00:48<08:58,  6.57s/it]"
     ]
    },
    {
     "name": "stdout",
     "output_type": "stream",
     "text": [
      "for sub_court:  Attorney General Reference\n",
      "200\n",
      "200\n"
     ]
    },
    {
     "name": "stderr",
     "output_type": "stream",
     "text": [
      "\n",
      "  8%|███▍                                       | 7/88 [00:51<07:36,  5.64s/it]"
     ]
    },
    {
     "name": "stdout",
     "output_type": "stream",
     "text": [
      "for sub_court:  Civil Appeal\n",
      "200\n",
      "200\n"
     ]
    },
    {
     "name": "stderr",
     "output_type": "stream",
     "text": [
      "\n",
      "  9%|███▉                                       | 8/88 [01:14<14:30, 10.88s/it]"
     ]
    },
    {
     "name": "stdout",
     "output_type": "stream",
     "text": [
      "for sub_court:  Criminal Appeal\n",
      "200\n",
      "200\n"
     ]
    },
    {
     "name": "stderr",
     "output_type": "stream",
     "text": [
      "\n",
      " 10%|████▍                                      | 9/88 [01:18<11:38,  8.84s/it]"
     ]
    },
    {
     "name": "stdout",
     "output_type": "stream",
     "text": [
      "for sub_court:  Miscellaneou Proceeding\n",
      "200\n",
      "200\n"
     ]
    },
    {
     "name": "stderr",
     "output_type": "stream",
     "text": [
      "\n",
      " 11%|████▊                                     | 10/88 [01:22<09:33,  7.35s/it]"
     ]
    },
    {
     "name": "stdout",
     "output_type": "stream",
     "text": [
      "for sub_court:  Reservation of Question of Law\n",
      "200\n",
      "200\n"
     ]
    },
    {
     "name": "stderr",
     "output_type": "stream",
     "text": [
      "\n",
      " 12%|█████▎                                    | 11/88 [01:27<08:33,  6.66s/it]"
     ]
    },
    {
     "name": "stdout",
     "output_type": "stream",
     "text": [
      "for sub_court:  Admiralty Action\n",
      "200\n",
      "200\n"
     ]
    },
    {
     "name": "stderr",
     "output_type": "stream",
     "text": [
      "\n",
      " 14%|█████▋                                    | 12/88 [01:31<07:20,  5.79s/it]"
     ]
    },
    {
     "name": "stdout",
     "output_type": "stream",
     "text": [
      "for sub_court:  Adoption Application\n",
      "200\n",
      "200\n"
     ]
    },
    {
     "name": "stderr",
     "output_type": "stream",
     "text": [
      "\n",
      " 15%|██████▏                                   | 13/88 [01:35<06:24,  5.12s/it]"
     ]
    },
    {
     "name": "stdout",
     "output_type": "stream",
     "text": [
      "for sub_court:  Application for Grant\n",
      "200\n",
      "200\n"
     ]
    },
    {
     "name": "stderr",
     "output_type": "stream",
     "text": [
      "\n",
      " 16%|██████▋                                   | 14/88 [01:42<06:58,  5.65s/it]"
     ]
    },
    {
     "name": "stdout",
     "output_type": "stream",
     "text": [
      "for sub_court:  Application to et aside a Statutory Demand (under Bankruptcy Ordinance)\n",
      "200\n",
      "200\n"
     ]
    },
    {
     "name": "stderr",
     "output_type": "stream",
     "text": [
      "\n",
      " 17%|███████▏                                  | 15/88 [01:46<06:29,  5.34s/it]"
     ]
    },
    {
     "name": "stdout",
     "output_type": "stream",
     "text": [
      "for sub_court:  Application under the Mental Health Ordinance\n",
      "200\n",
      "200\n"
     ]
    },
    {
     "name": "stderr",
     "output_type": "stream",
     "text": [
      "\n",
      " 18%|███████▋                                  | 16/88 [01:50<05:53,  4.90s/it]"
     ]
    },
    {
     "name": "stdout",
     "output_type": "stream",
     "text": [
      "for sub_court:  Bankruptcy Proceeding\n",
      "200\n",
      "200\n"
     ]
    },
    {
     "name": "stderr",
     "output_type": "stream",
     "text": [
      "\n",
      " 19%|████████                                  | 17/88 [01:55<05:40,  4.80s/it]"
     ]
    },
    {
     "name": "stdout",
     "output_type": "stream",
     "text": [
      "for sub_court:  Caveat\n",
      "200\n",
      "200\n"
     ]
    },
    {
     "name": "stderr",
     "output_type": "stream",
     "text": [
      "\n",
      " 20%|████████▌                                 | 18/88 [02:10<09:14,  7.92s/it]"
     ]
    },
    {
     "name": "stdout",
     "output_type": "stream",
     "text": [
      "for sub_court:  Citation Application\n",
      "200\n",
      "200\n"
     ]
    },
    {
     "name": "stderr",
     "output_type": "stream",
     "text": [
      "\n",
      " 22%|█████████                                 | 19/88 [02:13<07:38,  6.64s/it]"
     ]
    },
    {
     "name": "stdout",
     "output_type": "stream",
     "text": [
      "for sub_court:  Civil Action\n",
      "200\n",
      "200\n"
     ]
    },
    {
     "name": "stderr",
     "output_type": "stream",
     "text": [
      "\n",
      " 23%|█████████▌                                | 20/88 [02:18<06:39,  5.88s/it]"
     ]
    },
    {
     "name": "stdout",
     "output_type": "stream",
     "text": [
      "for sub_court:  Commercial Action\n",
      "200\n",
      "200\n"
     ]
    },
    {
     "name": "stderr",
     "output_type": "stream",
     "text": [
      "\n",
      " 24%|██████████                                | 21/88 [02:25<06:58,  6.25s/it]"
     ]
    },
    {
     "name": "stdout",
     "output_type": "stream",
     "text": [
      "for sub_court:  Companie Winding-up Proceeding\n",
      "200\n",
      "200\n"
     ]
    },
    {
     "name": "stderr",
     "output_type": "stream",
     "text": [
      "\n",
      " 25%|██████████▌                               | 22/88 [02:31<06:49,  6.20s/it]"
     ]
    },
    {
     "name": "stdout",
     "output_type": "stream",
     "text": [
      "for sub_court:  Confidential Miscellaneou Proceeding\n",
      "200\n",
      "200\n"
     ]
    },
    {
     "name": "stderr",
     "output_type": "stream",
     "text": [
      "\n",
      " 26%|██████████▉                               | 23/88 [02:35<05:55,  5.47s/it]"
     ]
    },
    {
     "name": "stdout",
     "output_type": "stream",
     "text": [
      "for sub_court:  Constitutional and Administrative Law Proceeding\n",
      "200\n",
      "200\n"
     ]
    },
    {
     "name": "stderr",
     "output_type": "stream",
     "text": [
      "\n",
      " 27%|███████████▍                              | 24/88 [02:41<06:17,  5.89s/it]"
     ]
    },
    {
     "name": "stdout",
     "output_type": "stream",
     "text": [
      "for sub_court:  Construction and Arbitration Proceeding\n",
      "200\n",
      "200\n"
     ]
    },
    {
     "name": "stderr",
     "output_type": "stream",
     "text": [
      "\n",
      " 28%|███████████▉                              | 25/88 [02:45<05:35,  5.32s/it]"
     ]
    },
    {
     "name": "stdout",
     "output_type": "stream",
     "text": [
      "for sub_court:  Criminal Case\n",
      "200\n",
      "200\n"
     ]
    },
    {
     "name": "stderr",
     "output_type": "stream",
     "text": [
      "\n",
      " 30%|████████████▍                             | 26/88 [03:01<08:37,  8.35s/it]"
     ]
    },
    {
     "name": "stdout",
     "output_type": "stream",
     "text": [
      "for sub_court:  Estate Duty Appeal\n",
      "200\n",
      "200\n"
     ]
    },
    {
     "name": "stderr",
     "output_type": "stream",
     "text": [
      "\n",
      " 31%|████████████▉                             | 27/88 [03:07<07:58,  7.84s/it]"
     ]
    },
    {
     "name": "stdout",
     "output_type": "stream",
     "text": [
      "for sub_court:  Ex-parte Application\n",
      "200\n",
      "200\n"
     ]
    },
    {
     "name": "stderr",
     "output_type": "stream",
     "text": [
      "\n",
      " 32%|█████████████▎                            | 28/88 [03:16<08:11,  8.18s/it]"
     ]
    },
    {
     "name": "stdout",
     "output_type": "stream",
     "text": [
      "for sub_court:  High Court Bankruptcy Interim Order\n",
      "200\n",
      "200\n"
     ]
    },
    {
     "name": "stderr",
     "output_type": "stream",
     "text": [
      "\n",
      " 33%|█████████████▊                            | 29/88 [03:21<06:54,  7.02s/it]"
     ]
    },
    {
     "name": "stdout",
     "output_type": "stream",
     "text": [
      "for sub_court:  Inland Revenue Appeal\n",
      "200\n",
      "200\n"
     ]
    },
    {
     "name": "stderr",
     "output_type": "stream",
     "text": [
      "\n",
      " 34%|██████████████▎                           | 30/88 [03:41<10:29, 10.85s/it]"
     ]
    },
    {
     "name": "stdout",
     "output_type": "stream",
     "text": [
      "for sub_court:  Intended Action\n",
      "200\n",
      "200\n"
     ]
    },
    {
     "name": "stderr",
     "output_type": "stream",
     "text": [
      "\n",
      " 35%|██████████████▊                           | 31/88 [03:44<08:15,  8.69s/it]"
     ]
    },
    {
     "name": "stdout",
     "output_type": "stream",
     "text": [
      "for sub_court:  Labour Tribunal Appeal\n",
      "200\n",
      "200\n"
     ]
    },
    {
     "name": "stderr",
     "output_type": "stream",
     "text": [
      "\n",
      " 36%|███████████████▎                          | 32/88 [03:48<06:45,  7.25s/it]"
     ]
    },
    {
     "name": "stdout",
     "output_type": "stream",
     "text": [
      "for sub_court:  Legal Aid Appeal\n",
      "200\n",
      "200\n"
     ]
    },
    {
     "name": "stderr",
     "output_type": "stream",
     "text": [
      "\n",
      " 38%|███████████████▊                          | 33/88 [03:57<07:00,  7.65s/it]"
     ]
    },
    {
     "name": "stdout",
     "output_type": "stream",
     "text": [
      "for sub_court:  Magistracy Appeal\n",
      "200\n",
      "200\n"
     ]
    },
    {
     "name": "stderr",
     "output_type": "stream",
     "text": [
      "\n",
      " 39%|████████████████▏                         | 34/88 [04:01<06:04,  6.75s/it]"
     ]
    },
    {
     "name": "stdout",
     "output_type": "stream",
     "text": [
      "for sub_court:  Matrimonial Cause\n",
      "200\n",
      "200\n"
     ]
    },
    {
     "name": "stderr",
     "output_type": "stream",
     "text": [
      "\n",
      " 40%|████████████████▋                         | 35/88 [04:05<05:13,  5.92s/it]"
     ]
    },
    {
     "name": "stdout",
     "output_type": "stream",
     "text": [
      "for sub_court:  Minor Employment Claim Appeal\n",
      "200\n",
      "200\n"
     ]
    },
    {
     "name": "stderr",
     "output_type": "stream",
     "text": [
      "\n",
      " 41%|█████████████████▏                        | 36/88 [04:21<07:42,  8.90s/it]"
     ]
    },
    {
     "name": "stdout",
     "output_type": "stream",
     "text": [
      "for sub_court:  Miscellaneou Proceeding\n",
      "200\n",
      "200\n"
     ]
    },
    {
     "name": "stderr",
     "output_type": "stream",
     "text": [
      "\n",
      " 42%|█████████████████▋                        | 37/88 [04:29<07:23,  8.69s/it]"
     ]
    },
    {
     "name": "stdout",
     "output_type": "stream",
     "text": [
      "for sub_court:  Miscellaneou Proceeding (Criminal)\n",
      "200\n",
      "200\n"
     ]
    },
    {
     "name": "stderr",
     "output_type": "stream",
     "text": [
      "\n",
      " 43%|██████████████████▏                       | 38/88 [04:33<06:04,  7.30s/it]"
     ]
    },
    {
     "name": "stdout",
     "output_type": "stream",
     "text": [
      "for sub_court:  Obscene Article Tribunal Appeal\n",
      "200\n",
      "200\n"
     ]
    },
    {
     "name": "stderr",
     "output_type": "stream",
     "text": [
      "\n",
      " 44%|██████████████████▌                       | 39/88 [04:37<05:02,  6.18s/it]"
     ]
    },
    {
     "name": "stdout",
     "output_type": "stream",
     "text": [
      "for sub_court:  Personal Injurie Action\n",
      "200\n",
      "200\n"
     ]
    },
    {
     "name": "stderr",
     "output_type": "stream",
     "text": [
      "\n",
      " 45%|███████████████████                       | 40/88 [04:43<04:47,  5.99s/it]"
     ]
    },
    {
     "name": "stdout",
     "output_type": "stream",
     "text": [
      "for sub_court:  Probate Action\n",
      "200\n",
      "200\n"
     ]
    },
    {
     "name": "stderr",
     "output_type": "stream",
     "text": [
      "\n",
      " 47%|███████████████████▌                      | 41/88 [04:46<04:12,  5.38s/it]"
     ]
    },
    {
     "name": "stdout",
     "output_type": "stream",
     "text": [
      "for sub_court:  Small Claim Tribunal Appeal\n",
      "200\n",
      "200\n"
     ]
    },
    {
     "name": "stderr",
     "output_type": "stream",
     "text": [
      "\n",
      " 48%|████████████████████                      | 42/88 [04:55<04:46,  6.22s/it]"
     ]
    },
    {
     "name": "stdout",
     "output_type": "stream",
     "text": [
      "for sub_court:  Competition Tribunal Action\n",
      "200\n",
      "200\n"
     ]
    },
    {
     "name": "stderr",
     "output_type": "stream",
     "text": [
      "\n",
      " 49%|████████████████████▌                     | 43/88 [04:59<04:12,  5.60s/it]"
     ]
    },
    {
     "name": "stdout",
     "output_type": "stream",
     "text": [
      "for sub_court:  Competition Tribunal Enforcement Action\n",
      "200\n",
      "200\n"
     ]
    },
    {
     "name": "stderr",
     "output_type": "stream",
     "text": [
      "\n",
      " 50%|█████████████████████                     | 44/88 [05:03<03:53,  5.31s/it]"
     ]
    },
    {
     "name": "stdout",
     "output_type": "stream",
     "text": [
      "for sub_court:  Civil Action\n",
      "200\n",
      "200\n"
     ]
    },
    {
     "name": "stderr",
     "output_type": "stream",
     "text": [
      "\n",
      " 51%|█████████████████████▍                    | 45/88 [05:13<04:43,  6.60s/it]"
     ]
    },
    {
     "name": "stdout",
     "output_type": "stream",
     "text": [
      "for sub_court:  Criminal Case\n",
      "200\n",
      "200\n"
     ]
    },
    {
     "name": "stderr",
     "output_type": "stream",
     "text": [
      "\n",
      " 52%|█████████████████████▉                    | 46/88 [05:17<04:04,  5.81s/it]"
     ]
    },
    {
     "name": "stdout",
     "output_type": "stream",
     "text": [
      "for sub_court:  Distraint Case\n",
      "200\n",
      "200\n"
     ]
    },
    {
     "name": "stderr",
     "output_type": "stream",
     "text": [
      "\n",
      " 53%|██████████████████████▍                   | 47/88 [05:26<04:35,  6.73s/it]"
     ]
    },
    {
     "name": "stdout",
     "output_type": "stream",
     "text": [
      "for sub_court:  District Court Tax Claim\n",
      "200\n",
      "200\n"
     ]
    },
    {
     "name": "stderr",
     "output_type": "stream",
     "text": [
      "\n",
      " 55%|██████████████████████▉                   | 48/88 [05:33<04:31,  6.80s/it]"
     ]
    },
    {
     "name": "stdout",
     "output_type": "stream",
     "text": [
      "for sub_court:  Employee Compensation Case\n",
      "200\n",
      "200\n"
     ]
    },
    {
     "name": "stderr",
     "output_type": "stream",
     "text": [
      "\n",
      " 56%|███████████████████████▍                  | 49/88 [05:37<03:50,  5.91s/it]"
     ]
    },
    {
     "name": "stdout",
     "output_type": "stream",
     "text": [
      "for sub_court:  Equal Opportunitie Action\n",
      "200\n",
      "200\n"
     ]
    },
    {
     "name": "stderr",
     "output_type": "stream",
     "text": [
      "\n",
      " 57%|███████████████████████▊                  | 50/88 [05:47<04:34,  7.21s/it]"
     ]
    },
    {
     "name": "stdout",
     "output_type": "stream",
     "text": [
      "for sub_court:  Intended Action\n",
      "200\n",
      "200\n"
     ]
    },
    {
     "name": "stderr",
     "output_type": "stream",
     "text": [
      "\n",
      " 58%|████████████████████████▎                 | 51/88 [05:51<03:53,  6.31s/it]"
     ]
    },
    {
     "name": "stdout",
     "output_type": "stream",
     "text": [
      "for sub_court:  Miscellaneou Proceeding\n",
      "200\n",
      "200\n"
     ]
    },
    {
     "name": "stderr",
     "output_type": "stream",
     "text": [
      "\n",
      " 59%|████████████████████████▊                 | 52/88 [05:55<03:19,  5.54s/it]"
     ]
    },
    {
     "name": "stdout",
     "output_type": "stream",
     "text": [
      "for sub_court:  Occupational Deafne (Compensation) Appeal\n",
      "200\n",
      "200\n"
     ]
    },
    {
     "name": "stderr",
     "output_type": "stream",
     "text": [
      "\n",
      " 60%|█████████████████████████▎                | 53/88 [05:59<02:54,  4.98s/it]"
     ]
    },
    {
     "name": "stdout",
     "output_type": "stream",
     "text": [
      "for sub_court:  Personal Injurie Action\n",
      "200\n",
      "200\n"
     ]
    },
    {
     "name": "stderr",
     "output_type": "stream",
     "text": [
      "\n",
      " 61%|█████████████████████████▊                | 54/88 [06:10<03:56,  6.95s/it]"
     ]
    },
    {
     "name": "stdout",
     "output_type": "stream",
     "text": [
      "for sub_court:  Stamp Duty Appeal\n",
      "200\n",
      "200\n"
     ]
    },
    {
     "name": "stderr",
     "output_type": "stream",
     "text": [
      "\n",
      " 62%|██████████████████████████▎               | 55/88 [06:20<04:18,  7.85s/it]"
     ]
    },
    {
     "name": "stdout",
     "output_type": "stream",
     "text": [
      "for sub_court:  Joint application\n",
      "200\n",
      "200\n"
     ]
    },
    {
     "name": "stderr",
     "output_type": "stream",
     "text": [
      "\n",
      " 64%|██████████████████████████▋               | 56/88 [06:28<04:12,  7.89s/it]"
     ]
    },
    {
     "name": "stdout",
     "output_type": "stream",
     "text": [
      "for sub_court:  Matrimonial Cause\n",
      "200\n",
      "200\n"
     ]
    },
    {
     "name": "stderr",
     "output_type": "stream",
     "text": [
      "\n",
      " 65%|███████████████████████████▏              | 57/88 [06:42<04:58,  9.63s/it]"
     ]
    },
    {
     "name": "stdout",
     "output_type": "stream",
     "text": [
      "for sub_court:  Miscellaneou Proceeding\n",
      "200\n",
      "200\n"
     ]
    },
    {
     "name": "stderr",
     "output_type": "stream",
     "text": [
      "\n",
      " 66%|███████████████████████████▋              | 58/88 [06:48<04:20,  8.69s/it]"
     ]
    },
    {
     "name": "stdout",
     "output_type": "stream",
     "text": [
      "for sub_court:  Building Management Application\n",
      "200\n",
      "200\n"
     ]
    },
    {
     "name": "stderr",
     "output_type": "stream",
     "text": [
      "\n",
      " 67%|████████████████████████████▏             | 59/88 [06:55<03:54,  8.08s/it]"
     ]
    },
    {
     "name": "stdout",
     "output_type": "stream",
     "text": [
      "for sub_court:  Building Ordinance Application\n",
      "200\n",
      "200\n"
     ]
    },
    {
     "name": "stderr",
     "output_type": "stream",
     "text": [
      "\n",
      " 68%|████████████████████████████▋             | 60/88 [07:06<04:11,  8.97s/it]"
     ]
    },
    {
     "name": "stdout",
     "output_type": "stream",
     "text": [
      "for sub_court:  Demolished Building Appeal\n",
      "200\n",
      "200\n"
     ]
    },
    {
     "name": "stderr",
     "output_type": "stream",
     "text": [
      "\n",
      " 69%|█████████████████████████████             | 61/88 [07:22<05:00, 11.11s/it]"
     ]
    },
    {
     "name": "stdout",
     "output_type": "stream",
     "text": [
      "for sub_court:  Demolished Building Application\n",
      "200\n",
      "200\n"
     ]
    },
    {
     "name": "stderr",
     "output_type": "stream",
     "text": [
      "\n",
      " 70%|█████████████████████████████▌            | 62/88 [07:27<04:04,  9.40s/it]"
     ]
    },
    {
     "name": "stdout",
     "output_type": "stream",
     "text": [
      "for sub_court:  Government Rent Appeal\n",
      "200\n",
      "200\n"
     ]
    },
    {
     "name": "stderr",
     "output_type": "stream",
     "text": [
      "\n",
      " 72%|██████████████████████████████            | 63/88 [07:37<03:56,  9.46s/it]"
     ]
    },
    {
     "name": "stdout",
     "output_type": "stream",
     "text": [
      "for sub_court:  Housing Ordinance Appeal\n",
      "200\n",
      "200\n"
     ]
    },
    {
     "name": "stderr",
     "output_type": "stream",
     "text": [
      "\n",
      " 73%|██████████████████████████████▌           | 64/88 [07:46<03:40,  9.19s/it]"
     ]
    },
    {
     "name": "stdout",
     "output_type": "stream",
     "text": [
      "for sub_court:  Land Compulsory Sale Application\n",
      "200\n",
      "200\n"
     ]
    },
    {
     "name": "stderr",
     "output_type": "stream",
     "text": [
      "\n",
      " 74%|███████████████████████████████           | 65/88 [07:50<02:55,  7.64s/it]"
     ]
    },
    {
     "name": "stdout",
     "output_type": "stream",
     "text": [
      "for sub_court:  Land Resumption Application\n",
      "200\n",
      "200\n"
     ]
    },
    {
     "name": "stderr",
     "output_type": "stream",
     "text": [
      "\n",
      " 75%|███████████████████████████████▌          | 66/88 [07:56<02:38,  7.23s/it]"
     ]
    },
    {
     "name": "stdout",
     "output_type": "stream",
     "text": [
      "for sub_court:  Landlord  Appeal\n",
      "200\n",
      "200\n"
     ]
    },
    {
     "name": "stderr",
     "output_type": "stream",
     "text": [
      "\n",
      " 76%|███████████████████████████████▉          | 67/88 [08:00<02:11,  6.25s/it]"
     ]
    },
    {
     "name": "stdout",
     "output_type": "stream",
     "text": [
      "for sub_court:  MTR Ordinance Application\n",
      "200\n",
      "200\n"
     ]
    },
    {
     "name": "stderr",
     "output_type": "stream",
     "text": [
      "\n",
      " 77%|████████████████████████████████▍         | 68/88 [08:04<01:50,  5.52s/it]"
     ]
    },
    {
     "name": "stdout",
     "output_type": "stream",
     "text": [
      "for sub_court:  Miscellaneou Proceeding Application\n",
      "200\n",
      "200\n"
     ]
    },
    {
     "name": "stderr",
     "output_type": "stream",
     "text": [
      "\n",
      " 78%|████████████████████████████████▉         | 69/88 [08:08<01:36,  5.10s/it]"
     ]
    },
    {
     "name": "stdout",
     "output_type": "stream",
     "text": [
      "for sub_court:  Miscellaneou Reference Application\n",
      "200\n",
      "200\n"
     ]
    },
    {
     "name": "stderr",
     "output_type": "stream",
     "text": [
      "\n",
      " 80%|█████████████████████████████████▍        | 70/88 [08:13<01:29,  4.99s/it]"
     ]
    },
    {
     "name": "stdout",
     "output_type": "stream",
     "text": [
      "for sub_court:  New Tenancy Application\n",
      "200\n",
      "200\n"
     ]
    },
    {
     "name": "stderr",
     "output_type": "stream",
     "text": [
      "\n",
      " 81%|█████████████████████████████████▉        | 71/88 [08:17<01:22,  4.88s/it]"
     ]
    },
    {
     "name": "stdout",
     "output_type": "stream",
     "text": [
      "for sub_court:  Part I Possession Application\n",
      "200\n",
      "200\n"
     ]
    },
    {
     "name": "stderr",
     "output_type": "stream",
     "text": [
      "\n",
      " 82%|██████████████████████████████████▎       | 72/88 [08:22<01:16,  4.80s/it]"
     ]
    },
    {
     "name": "stdout",
     "output_type": "stream",
     "text": [
      "for sub_court:  Part II Possession Application\n",
      "200\n",
      "200\n"
     ]
    },
    {
     "name": "stderr",
     "output_type": "stream",
     "text": [
      "\n",
      " 83%|██████████████████████████████████▊       | 73/88 [08:26<01:08,  4.55s/it]"
     ]
    },
    {
     "name": "stdout",
     "output_type": "stream",
     "text": [
      "for sub_court:  Part IV Possession Application\n",
      "200\n",
      "200\n"
     ]
    },
    {
     "name": "stderr",
     "output_type": "stream",
     "text": [
      "\n",
      " 84%|███████████████████████████████████▎      | 74/88 [08:35<01:24,  6.04s/it]"
     ]
    },
    {
     "name": "stdout",
     "output_type": "stream",
     "text": [
      "for sub_court:  Part V Possession Application\n",
      "200\n",
      "200\n"
     ]
    },
    {
     "name": "stderr",
     "output_type": "stream",
     "text": [
      "\n",
      " 85%|███████████████████████████████████▊      | 75/88 [08:39<01:11,  5.50s/it]"
     ]
    },
    {
     "name": "stdout",
     "output_type": "stream",
     "text": [
      "for sub_court:  Railway Ordinance Application\n",
      "200\n",
      "200\n"
     ]
    },
    {
     "name": "stderr",
     "output_type": "stream",
     "text": [
      "\n",
      " 86%|████████████████████████████████████▎     | 76/88 [08:49<01:21,  6.81s/it]"
     ]
    },
    {
     "name": "stdout",
     "output_type": "stream",
     "text": [
      "for sub_court:  Rating Appeal\n",
      "200\n",
      "200\n"
     ]
    },
    {
     "name": "stderr",
     "output_type": "stream",
     "text": [
      "\n",
      " 88%|████████████████████████████████████▊     | 77/88 [08:53<01:05,  5.99s/it]"
     ]
    },
    {
     "name": "stdout",
     "output_type": "stream",
     "text": [
      "for sub_court:  Coroner Court Death Inquest\n",
      "200\n",
      "200\n"
     ]
    },
    {
     "name": "stderr",
     "output_type": "stream",
     "text": [
      "\n",
      " 89%|█████████████████████████████████████▏    | 78/88 [08:59<00:57,  5.74s/it]"
     ]
    },
    {
     "name": "stdout",
     "output_type": "stream",
     "text": [
      "for sub_court:  Eastern Magistrate Court Charge Case\n",
      "200\n",
      "200\n"
     ]
    },
    {
     "name": "stderr",
     "output_type": "stream",
     "text": [
      "\n",
      " 90%|█████████████████████████████████████▋    | 79/88 [09:03<00:49,  5.48s/it]"
     ]
    },
    {
     "name": "stdout",
     "output_type": "stream",
     "text": [
      "for sub_court:  Eastern Magistrate Court Summon Case\n",
      "200\n",
      "200\n"
     ]
    },
    {
     "name": "stderr",
     "output_type": "stream",
     "text": [
      "\n",
      " 91%|██████████████████████████████████████▏   | 80/88 [09:08<00:41,  5.20s/it]"
     ]
    },
    {
     "name": "stdout",
     "output_type": "stream",
     "text": [
      "for sub_court:  Kowloon City Magistrate Court Charge Case\n",
      "200\n",
      "200\n"
     ]
    },
    {
     "name": "stderr",
     "output_type": "stream",
     "text": [
      "\n",
      " 92%|██████████████████████████████████████▋   | 81/88 [09:12<00:34,  4.97s/it]"
     ]
    },
    {
     "name": "stdout",
     "output_type": "stream",
     "text": [
      "for sub_court:  Kowloon City Magistrates’ Court Summon Case\n",
      "200\n",
      "200\n"
     ]
    },
    {
     "name": "stderr",
     "output_type": "stream",
     "text": [
      "\n",
      " 93%|███████████████████████████████████████▏  | 82/88 [09:30<00:53,  8.90s/it]"
     ]
    },
    {
     "name": "stdout",
     "output_type": "stream",
     "text": [
      "for sub_court:  Labour Tribunal Claim\n",
      "200\n",
      "200\n"
     ]
    },
    {
     "name": "stderr",
     "output_type": "stream",
     "text": [
      "\n",
      " 94%|███████████████████████████████████████▌  | 83/88 [09:38<00:41,  8.37s/it]"
     ]
    },
    {
     "name": "stdout",
     "output_type": "stream",
     "text": [
      "for sub_court:  Obscene Article Tribunal Case\n",
      "200\n",
      "200\n"
     ]
    },
    {
     "name": "stderr",
     "output_type": "stream",
     "text": [
      "\n",
      " 95%|████████████████████████████████████████  | 84/88 [09:42<00:28,  7.19s/it]"
     ]
    },
    {
     "name": "stdout",
     "output_type": "stream",
     "text": [
      "for sub_court:  Shatin Magistrate Court Charge Case\n",
      "200\n",
      "200\n"
     ]
    },
    {
     "name": "stderr",
     "output_type": "stream",
     "text": [
      "\n",
      " 97%|████████████████████████████████████████▌ | 85/88 [09:47<00:19,  6.54s/it]"
     ]
    },
    {
     "name": "stdout",
     "output_type": "stream",
     "text": [
      "for sub_court:  Small Claim Tribunal Claim\n",
      "200\n",
      "200\n"
     ]
    },
    {
     "name": "stderr",
     "output_type": "stream",
     "text": [
      "\n",
      " 98%|█████████████████████████████████████████ | 86/88 [09:51<00:11,  5.76s/it]"
     ]
    },
    {
     "name": "stdout",
     "output_type": "stream",
     "text": [
      "for sub_court:  Tuen Mun Magistrate Court Charge Case\n",
      "200\n",
      "200\n"
     ]
    },
    {
     "name": "stderr",
     "output_type": "stream",
     "text": [
      "\n",
      " 99%|█████████████████████████████████████████▌| 87/88 [09:55<00:05,  5.20s/it]"
     ]
    },
    {
     "name": "stdout",
     "output_type": "stream",
     "text": [
      "for sub_court:  West Kowloon Magistrate Court Charge Case\n",
      "200\n",
      "200\n"
     ]
    },
    {
     "name": "stderr",
     "output_type": "stream",
     "text": [
      "\n",
      "100%|██████████████████████████████████████████| 88/88 [09:59<00:00,  4.78s/it]\n"
     ]
    },
    {
     "name": "stdout",
     "output_type": "stream",
     "text": [
      "(1641, 3)\n"
     ]
    },
    {
     "data": {
      "text/html": [
       "<div>\n",
       "<style scoped>\n",
       "    .dataframe tbody tr th:only-of-type {\n",
       "        vertical-align: middle;\n",
       "    }\n",
       "\n",
       "    .dataframe tbody tr th {\n",
       "        vertical-align: top;\n",
       "    }\n",
       "\n",
       "    .dataframe thead th {\n",
       "        text-align: right;\n",
       "    }\n",
       "</style>\n",
       "<table border=\"1\" class=\"dataframe\">\n",
       "  <thead>\n",
       "    <tr style=\"text-align: right;\">\n",
       "      <th></th>\n",
       "      <th>year</th>\n",
       "      <th>year_url</th>\n",
       "      <th>sub_court_cleared</th>\n",
       "    </tr>\n",
       "  </thead>\n",
       "  <tbody>\n",
       "    <tr>\n",
       "      <th>0</th>\n",
       "      <td>2011</td>\n",
       "      <td>https://legalref.judiciary.hk/lrs/common/ju/judgment.jsp?EX=T&amp;L1=FA&amp;L2=CV&amp;L3=2011&amp;AR=1_8#A1_8</td>\n",
       "      <td>Final Appeal (Civil)</td>\n",
       "    </tr>\n",
       "    <tr>\n",
       "      <th>1</th>\n",
       "      <td>1998</td>\n",
       "      <td>https://legalref.judiciary.hk/lrs/common/ju/judgment.jsp?EX=T&amp;L1=FA&amp;L2=CV&amp;L3=1998&amp;AR=1_21#A1_21</td>\n",
       "      <td>Final Appeal (Civil)</td>\n",
       "    </tr>\n",
       "    <tr>\n",
       "      <th>2</th>\n",
       "      <td>2012</td>\n",
       "      <td>https://legalref.judiciary.hk/lrs/common/ju/judgment.jsp?EX=T&amp;L1=FA&amp;L2=CV&amp;L3=2012&amp;AR=1_7#A1_7</td>\n",
       "      <td>Final Appeal (Civil)</td>\n",
       "    </tr>\n",
       "    <tr>\n",
       "      <th>3</th>\n",
       "      <td>2000</td>\n",
       "      <td>https://legalref.judiciary.hk/lrs/common/ju/judgment.jsp?EX=T&amp;L1=FA&amp;L2=CV&amp;L3=2000&amp;AR=1_19#A1_19</td>\n",
       "      <td>Final Appeal (Civil)</td>\n",
       "    </tr>\n",
       "    <tr>\n",
       "      <th>4</th>\n",
       "      <td>2001</td>\n",
       "      <td>https://legalref.judiciary.hk/lrs/common/ju/judgment.jsp?EX=T&amp;L1=FA&amp;L2=CV&amp;L3=2001&amp;AR=1_18#A1_18</td>\n",
       "      <td>Final Appeal (Civil)</td>\n",
       "    </tr>\n",
       "    <tr>\n",
       "      <th>5</th>\n",
       "      <td>2007</td>\n",
       "      <td>https://legalref.judiciary.hk/lrs/common/ju/judgment.jsp?EX=T&amp;L1=FA&amp;L2=CV&amp;L3=2007&amp;AR=1_12#A1_12</td>\n",
       "      <td>Final Appeal (Civil)</td>\n",
       "    </tr>\n",
       "    <tr>\n",
       "      <th>6</th>\n",
       "      <td>2006</td>\n",
       "      <td>https://legalref.judiciary.hk/lrs/common/ju/judgment.jsp?EX=T&amp;L1=FA&amp;L2=CV&amp;L3=2006&amp;AR=1_13#A1_13</td>\n",
       "      <td>Final Appeal (Civil)</td>\n",
       "    </tr>\n",
       "    <tr>\n",
       "      <th>7</th>\n",
       "      <td>2005</td>\n",
       "      <td>https://legalref.judiciary.hk/lrs/common/ju/judgment.jsp?EX=T&amp;L1=FA&amp;L2=CV&amp;L3=2005&amp;AR=1_14#A1_14</td>\n",
       "      <td>Final Appeal (Civil)</td>\n",
       "    </tr>\n",
       "    <tr>\n",
       "      <th>8</th>\n",
       "      <td>2014</td>\n",
       "      <td>https://legalref.judiciary.hk/lrs/common/ju/judgment.jsp?EX=T&amp;L1=FA&amp;L2=CV&amp;L3=2014&amp;AR=1_5#A1_5</td>\n",
       "      <td>Final Appeal (Civil)</td>\n",
       "    </tr>\n",
       "    <tr>\n",
       "      <th>9</th>\n",
       "      <td>2008</td>\n",
       "      <td>https://legalref.judiciary.hk/lrs/common/ju/judgment.jsp?EX=T&amp;L1=FA&amp;L2=CV&amp;L3=2008&amp;AR=1_11#A1_11</td>\n",
       "      <td>Final Appeal (Civil)</td>\n",
       "    </tr>\n",
       "    <tr>\n",
       "      <th>10</th>\n",
       "      <td>2002</td>\n",
       "      <td>https://legalref.judiciary.hk/lrs/common/ju/judgment.jsp?EX=T&amp;L1=FA&amp;L2=CV&amp;L3=2002&amp;AR=1_17#A1_17</td>\n",
       "      <td>Final Appeal (Civil)</td>\n",
       "    </tr>\n",
       "    <tr>\n",
       "      <th>11</th>\n",
       "      <td>2009</td>\n",
       "      <td>https://legalref.judiciary.hk/lrs/common/ju/judgment.jsp?EX=T&amp;L1=FA&amp;L2=CV&amp;L3=2009&amp;AR=1_10#A1_10</td>\n",
       "      <td>Final Appeal (Civil)</td>\n",
       "    </tr>\n",
       "    <tr>\n",
       "      <th>12</th>\n",
       "      <td>2013</td>\n",
       "      <td>https://legalref.judiciary.hk/lrs/common/ju/judgment.jsp?EX=T&amp;L1=FA&amp;L2=CV&amp;L3=2013&amp;AR=1_6#A1_6</td>\n",
       "      <td>Final Appeal (Civil)</td>\n",
       "    </tr>\n",
       "    <tr>\n",
       "      <th>13</th>\n",
       "      <td>2016</td>\n",
       "      <td>https://legalref.judiciary.hk/lrs/common/ju/judgment.jsp?EX=T&amp;L1=FA&amp;L2=CV&amp;L3=2016&amp;AR=1_3#A1_3</td>\n",
       "      <td>Final Appeal (Civil)</td>\n",
       "    </tr>\n",
       "    <tr>\n",
       "      <th>14</th>\n",
       "      <td>2004</td>\n",
       "      <td>https://legalref.judiciary.hk/lrs/common/ju/judgment.jsp?EX=T&amp;L1=FA&amp;L2=CV&amp;L3=2004&amp;AR=1_15#A1_15</td>\n",
       "      <td>Final Appeal (Civil)</td>\n",
       "    </tr>\n",
       "    <tr>\n",
       "      <th>15</th>\n",
       "      <td>2003</td>\n",
       "      <td>https://legalref.judiciary.hk/lrs/common/ju/judgment.jsp?EX=T&amp;L1=FA&amp;L2=CV&amp;L3=2003&amp;AR=1_16#A1_16</td>\n",
       "      <td>Final Appeal (Civil)</td>\n",
       "    </tr>\n",
       "    <tr>\n",
       "      <th>16</th>\n",
       "      <td>1999</td>\n",
       "      <td>https://legalref.judiciary.hk/lrs/common/ju/judgment.jsp?EX=T&amp;L1=FA&amp;L2=CV&amp;L3=1999&amp;AR=1_20#A1_20</td>\n",
       "      <td>Final Appeal (Civil)</td>\n",
       "    </tr>\n",
       "    <tr>\n",
       "      <th>17</th>\n",
       "      <td>2018</td>\n",
       "      <td>https://legalref.judiciary.hk/lrs/common/ju/judgment.jsp?EX=T&amp;L1=FA&amp;L2=CV&amp;L3=2018&amp;AR=1_1#A1_1</td>\n",
       "      <td>Final Appeal (Civil)</td>\n",
       "    </tr>\n",
       "    <tr>\n",
       "      <th>18</th>\n",
       "      <td>2017</td>\n",
       "      <td>https://legalref.judiciary.hk/lrs/common/ju/judgment.jsp?EX=T&amp;L1=FA&amp;L2=CV&amp;L3=2017&amp;AR=1_2#A1_2</td>\n",
       "      <td>Final Appeal (Civil)</td>\n",
       "    </tr>\n",
       "    <tr>\n",
       "      <th>19</th>\n",
       "      <td>1997</td>\n",
       "      <td>https://legalref.judiciary.hk/lrs/common/ju/judgment.jsp?EX=T&amp;L1=FA&amp;L2=CV&amp;L3=1997&amp;AR=1_22#A1_22</td>\n",
       "      <td>Final Appeal (Civil)</td>\n",
       "    </tr>\n",
       "    <tr>\n",
       "      <th>20</th>\n",
       "      <td>2015</td>\n",
       "      <td>https://legalref.judiciary.hk/lrs/common/ju/judgment.jsp?EX=T&amp;L1=FA&amp;L2=CV&amp;L3=2015&amp;AR=1_4#A1_4</td>\n",
       "      <td>Final Appeal (Civil)</td>\n",
       "    </tr>\n",
       "    <tr>\n",
       "      <th>21</th>\n",
       "      <td>2010</td>\n",
       "      <td>https://legalref.judiciary.hk/lrs/common/ju/judgment.jsp?EX=T&amp;L1=FA&amp;L2=CV&amp;L3=2010&amp;AR=1_9#A1_9</td>\n",
       "      <td>Final Appeal (Civil)</td>\n",
       "    </tr>\n",
       "    <tr>\n",
       "      <th>22</th>\n",
       "      <td>2011</td>\n",
       "      <td>https://legalref.judiciary.hk/lrs/common/ju/judgment.jsp?EX=T&amp;L1=FA&amp;L2=CC&amp;L3=2011&amp;AR=2_8#A2_8</td>\n",
       "      <td>Final Appeal (Criminal)</td>\n",
       "    </tr>\n",
       "    <tr>\n",
       "      <th>23</th>\n",
       "      <td>1998</td>\n",
       "      <td>https://legalref.judiciary.hk/lrs/common/ju/judgment.jsp?EX=T&amp;L1=FA&amp;L2=CC&amp;L3=1998&amp;AR=2_21#A2_21</td>\n",
       "      <td>Final Appeal (Criminal)</td>\n",
       "    </tr>\n",
       "    <tr>\n",
       "      <th>24</th>\n",
       "      <td>2012</td>\n",
       "      <td>https://legalref.judiciary.hk/lrs/common/ju/judgment.jsp?EX=T&amp;L1=FA&amp;L2=CC&amp;L3=2012&amp;AR=2_7#A2_7</td>\n",
       "      <td>Final Appeal (Criminal)</td>\n",
       "    </tr>\n",
       "    <tr>\n",
       "      <th>25</th>\n",
       "      <td>2000</td>\n",
       "      <td>https://legalref.judiciary.hk/lrs/common/ju/judgment.jsp?EX=T&amp;L1=FA&amp;L2=CC&amp;L3=2000&amp;AR=2_19#A2_19</td>\n",
       "      <td>Final Appeal (Criminal)</td>\n",
       "    </tr>\n",
       "    <tr>\n",
       "      <th>26</th>\n",
       "      <td>2001</td>\n",
       "      <td>https://legalref.judiciary.hk/lrs/common/ju/judgment.jsp?EX=T&amp;L1=FA&amp;L2=CC&amp;L3=2001&amp;AR=2_18#A2_18</td>\n",
       "      <td>Final Appeal (Criminal)</td>\n",
       "    </tr>\n",
       "    <tr>\n",
       "      <th>27</th>\n",
       "      <td>2007</td>\n",
       "      <td>https://legalref.judiciary.hk/lrs/common/ju/judgment.jsp?EX=T&amp;L1=FA&amp;L2=CC&amp;L3=2007&amp;AR=2_12#A2_12</td>\n",
       "      <td>Final Appeal (Criminal)</td>\n",
       "    </tr>\n",
       "    <tr>\n",
       "      <th>28</th>\n",
       "      <td>2006</td>\n",
       "      <td>https://legalref.judiciary.hk/lrs/common/ju/judgment.jsp?EX=T&amp;L1=FA&amp;L2=CC&amp;L3=2006&amp;AR=2_13#A2_13</td>\n",
       "      <td>Final Appeal (Criminal)</td>\n",
       "    </tr>\n",
       "    <tr>\n",
       "      <th>29</th>\n",
       "      <td>2005</td>\n",
       "      <td>https://legalref.judiciary.hk/lrs/common/ju/judgment.jsp?EX=T&amp;L1=FA&amp;L2=CC&amp;L3=2005&amp;AR=2_14#A2_14</td>\n",
       "      <td>Final Appeal (Criminal)</td>\n",
       "    </tr>\n",
       "    <tr>\n",
       "      <th>...</th>\n",
       "      <td>...</td>\n",
       "      <td>...</td>\n",
       "      <td>...</td>\n",
       "    </tr>\n",
       "    <tr>\n",
       "      <th>1611</th>\n",
       "      <td>2001</td>\n",
       "      <td>https://legalref.judiciary.hk/lrs/common/ju/judgment.jsp?EX=T&amp;L1=LD&amp;L2=RA&amp;L3=2001&amp;AR=19_10#A19_10</td>\n",
       "      <td>Rating Appeal</td>\n",
       "    </tr>\n",
       "    <tr>\n",
       "      <th>1612</th>\n",
       "      <td>2007</td>\n",
       "      <td>https://legalref.judiciary.hk/lrs/common/ju/judgment.jsp?EX=T&amp;L1=LD&amp;L2=RA&amp;L3=2007&amp;AR=19_4#A19_4</td>\n",
       "      <td>Rating Appeal</td>\n",
       "    </tr>\n",
       "    <tr>\n",
       "      <th>1613</th>\n",
       "      <td>2003</td>\n",
       "      <td>https://legalref.judiciary.hk/lrs/common/ju/judgment.jsp?EX=T&amp;L1=LD&amp;L2=RA&amp;L3=2003&amp;AR=19_8#A19_8</td>\n",
       "      <td>Rating Appeal</td>\n",
       "    </tr>\n",
       "    <tr>\n",
       "      <th>1614</th>\n",
       "      <td>1988</td>\n",
       "      <td>https://legalref.judiciary.hk/lrs/common/ju/judgment.jsp?EX=T&amp;L1=LD&amp;L2=RA&amp;L3=1988&amp;AR=19_13#A19_13</td>\n",
       "      <td>Rating Appeal</td>\n",
       "    </tr>\n",
       "    <tr>\n",
       "      <th>1615</th>\n",
       "      <td>2006</td>\n",
       "      <td>https://legalref.judiciary.hk/lrs/common/ju/judgment.jsp?EX=T&amp;L1=LD&amp;L2=RA&amp;L3=2006&amp;AR=19_5#A19_5</td>\n",
       "      <td>Rating Appeal</td>\n",
       "    </tr>\n",
       "    <tr>\n",
       "      <th>1616</th>\n",
       "      <td>2005</td>\n",
       "      <td>https://legalref.judiciary.hk/lrs/common/ju/judgment.jsp?EX=T&amp;L1=LD&amp;L2=RA&amp;L3=2005&amp;AR=19_6#A19_6</td>\n",
       "      <td>Rating Appeal</td>\n",
       "    </tr>\n",
       "    <tr>\n",
       "      <th>1617</th>\n",
       "      <td>2014</td>\n",
       "      <td>https://legalref.judiciary.hk/lrs/common/ju/judgment.jsp?EX=T&amp;L1=LD&amp;L2=RA&amp;L3=2014&amp;AR=19_2#A19_2</td>\n",
       "      <td>Rating Appeal</td>\n",
       "    </tr>\n",
       "    <tr>\n",
       "      <th>1618</th>\n",
       "      <td>1980</td>\n",
       "      <td>https://legalref.judiciary.hk/lrs/common/ju/judgment.jsp?EX=T&amp;L1=LD&amp;L2=RA&amp;L3=1980&amp;AR=19_18#A19_18</td>\n",
       "      <td>Rating Appeal</td>\n",
       "    </tr>\n",
       "    <tr>\n",
       "      <th>1619</th>\n",
       "      <td>1982</td>\n",
       "      <td>https://legalref.judiciary.hk/lrs/common/ju/judgment.jsp?EX=T&amp;L1=LD&amp;L2=RA&amp;L3=1982&amp;AR=19_17#A19_17</td>\n",
       "      <td>Rating Appeal</td>\n",
       "    </tr>\n",
       "    <tr>\n",
       "      <th>1620</th>\n",
       "      <td>2013</td>\n",
       "      <td>https://legalref.judiciary.hk/lrs/common/ju/judgment.jsp?EX=T&amp;L1=CC&amp;L2=DI&amp;L3=2013&amp;AR=1_1#A1_1</td>\n",
       "      <td>Coroner Court Death Inquest</td>\n",
       "    </tr>\n",
       "    <tr>\n",
       "      <th>1621</th>\n",
       "      <td>2018</td>\n",
       "      <td>https://legalref.judiciary.hk/lrs/common/ju/judgment.jsp?EX=T&amp;L1=ES&amp;L2=CC&amp;L3=2018&amp;AR=2_1#A2_1</td>\n",
       "      <td>Eastern Magistrate Court Charge Case</td>\n",
       "    </tr>\n",
       "    <tr>\n",
       "      <th>1622</th>\n",
       "      <td>2015</td>\n",
       "      <td>https://legalref.judiciary.hk/lrs/common/ju/judgment.jsp?EX=T&amp;L1=ES&amp;L2=CC&amp;L3=2015&amp;AR=2_3#A2_3</td>\n",
       "      <td>Eastern Magistrate Court Charge Case</td>\n",
       "    </tr>\n",
       "    <tr>\n",
       "      <th>1623</th>\n",
       "      <td>2011</td>\n",
       "      <td>https://legalref.judiciary.hk/lrs/common/ju/judgment.jsp?EX=T&amp;L1=ES&amp;L2=CC&amp;L3=2011&amp;AR=2_4#A2_4</td>\n",
       "      <td>Eastern Magistrate Court Charge Case</td>\n",
       "    </tr>\n",
       "    <tr>\n",
       "      <th>1624</th>\n",
       "      <td>2016</td>\n",
       "      <td>https://legalref.judiciary.hk/lrs/common/ju/judgment.jsp?EX=T&amp;L1=ES&amp;L2=CC&amp;L3=2016&amp;AR=2_2#A2_2</td>\n",
       "      <td>Eastern Magistrate Court Charge Case</td>\n",
       "    </tr>\n",
       "    <tr>\n",
       "      <th>1625</th>\n",
       "      <td>2013</td>\n",
       "      <td>https://legalref.judiciary.hk/lrs/common/ju/judgment.jsp?EX=T&amp;L1=ES&amp;L2=S&amp;L3=2013&amp;AR=3_2#A3_2</td>\n",
       "      <td>Eastern Magistrate Court Summon Case</td>\n",
       "    </tr>\n",
       "    <tr>\n",
       "      <th>1626</th>\n",
       "      <td>2016</td>\n",
       "      <td>https://legalref.judiciary.hk/lrs/common/ju/judgment.jsp?EX=T&amp;L1=ES&amp;L2=S&amp;L3=2016&amp;AR=3_1#A3_1</td>\n",
       "      <td>Eastern Magistrate Court Summon Case</td>\n",
       "    </tr>\n",
       "    <tr>\n",
       "      <th>1627</th>\n",
       "      <td>2017</td>\n",
       "      <td>https://legalref.judiciary.hk/lrs/common/ju/judgment.jsp?EX=T&amp;L1=KC&amp;L2=CC&amp;L3=2017&amp;AR=4_2#A4_2</td>\n",
       "      <td>Kowloon City Magistrate Court Charge Case</td>\n",
       "    </tr>\n",
       "    <tr>\n",
       "      <th>1628</th>\n",
       "      <td>2018</td>\n",
       "      <td>https://legalref.judiciary.hk/lrs/common/ju/judgment.jsp?EX=T&amp;L1=KC&amp;L2=CC&amp;L3=2018&amp;AR=4_1#A4_1</td>\n",
       "      <td>Kowloon City Magistrate Court Charge Case</td>\n",
       "    </tr>\n",
       "    <tr>\n",
       "      <th>1629</th>\n",
       "      <td>2002</td>\n",
       "      <td>https://legalref.judiciary.hk/lrs/common/ju/judgment.jsp?EX=T&amp;L1=KC&amp;L2=CC&amp;L3=2002&amp;AR=4_4#A4_4</td>\n",
       "      <td>Kowloon City Magistrate Court Charge Case</td>\n",
       "    </tr>\n",
       "    <tr>\n",
       "      <th>1630</th>\n",
       "      <td>2016</td>\n",
       "      <td>https://legalref.judiciary.hk/lrs/common/ju/judgment.jsp?EX=T&amp;L1=KC&amp;L2=CC&amp;L3=2016&amp;AR=4_3#A4_3</td>\n",
       "      <td>Kowloon City Magistrate Court Charge Case</td>\n",
       "    </tr>\n",
       "    <tr>\n",
       "      <th>1631</th>\n",
       "      <td>2013</td>\n",
       "      <td>https://legalref.judiciary.hk/lrs/common/ju/judgment.jsp?EX=T&amp;L1=KC&amp;L2=S&amp;L3=2013&amp;AR=5_1#A5_1</td>\n",
       "      <td>Kowloon City Magistrates’ Court Summon Case</td>\n",
       "    </tr>\n",
       "    <tr>\n",
       "      <th>1632</th>\n",
       "      <td>2012</td>\n",
       "      <td>https://legalref.judiciary.hk/lrs/common/ju/judgment.jsp?EX=T&amp;L1=LB&amp;L2=TC&amp;L3=2012&amp;AR=6_1#A6_1</td>\n",
       "      <td>Labour Tribunal Claim</td>\n",
       "    </tr>\n",
       "    <tr>\n",
       "      <th>1633</th>\n",
       "      <td>2008</td>\n",
       "      <td>https://legalref.judiciary.hk/lrs/common/ju/judgment.jsp?EX=T&amp;L1=LB&amp;L2=TC&amp;L3=2008&amp;AR=6_2#A6_2</td>\n",
       "      <td>Labour Tribunal Claim</td>\n",
       "    </tr>\n",
       "    <tr>\n",
       "      <th>1634</th>\n",
       "      <td>2006</td>\n",
       "      <td>https://legalref.judiciary.hk/lrs/common/ju/judgment.jsp?EX=T&amp;L1=OA&amp;L2=TD&amp;L3=2006&amp;AR=7_1#A7_1</td>\n",
       "      <td>Obscene Article Tribunal Case</td>\n",
       "    </tr>\n",
       "    <tr>\n",
       "      <th>1635</th>\n",
       "      <td>2016</td>\n",
       "      <td>https://legalref.judiciary.hk/lrs/common/ju/judgment.jsp?EX=T&amp;L1=ST&amp;L2=CC&amp;L3=2016&amp;AR=8_1#A8_1</td>\n",
       "      <td>Shatin Magistrate Court Charge Case</td>\n",
       "    </tr>\n",
       "    <tr>\n",
       "      <th>1636</th>\n",
       "      <td>2012</td>\n",
       "      <td>https://legalref.judiciary.hk/lrs/common/ju/judgment.jsp?EX=T&amp;L1=SC&amp;L2=TC&amp;L3=2012&amp;AR=9_2#A9_2</td>\n",
       "      <td>Small Claim Tribunal Claim</td>\n",
       "    </tr>\n",
       "    <tr>\n",
       "      <th>1637</th>\n",
       "      <td>2015</td>\n",
       "      <td>https://legalref.judiciary.hk/lrs/common/ju/judgment.jsp?EX=T&amp;L1=SC&amp;L2=TC&amp;L3=2015&amp;AR=9_1#A9_1</td>\n",
       "      <td>Small Claim Tribunal Claim</td>\n",
       "    </tr>\n",
       "    <tr>\n",
       "      <th>1638</th>\n",
       "      <td>2001</td>\n",
       "      <td>https://legalref.judiciary.hk/lrs/common/ju/judgment.jsp?EX=T&amp;L1=SC&amp;L2=TC&amp;L3=2001&amp;AR=9_3#A9_3</td>\n",
       "      <td>Small Claim Tribunal Claim</td>\n",
       "    </tr>\n",
       "    <tr>\n",
       "      <th>1639</th>\n",
       "      <td>2005</td>\n",
       "      <td>https://legalref.judiciary.hk/lrs/common/ju/judgment.jsp?EX=T&amp;L1=TM&amp;L2=CC&amp;L3=2005&amp;AR=10_1#A10_1</td>\n",
       "      <td>Tuen Mun Magistrate Court Charge Case</td>\n",
       "    </tr>\n",
       "    <tr>\n",
       "      <th>1640</th>\n",
       "      <td>2017</td>\n",
       "      <td>https://legalref.judiciary.hk/lrs/common/ju/judgment.jsp?EX=T&amp;L1=WK&amp;L2=CC&amp;L3=2017&amp;AR=11_1#A11_1</td>\n",
       "      <td>West Kowloon Magistrate Court Charge Case</td>\n",
       "    </tr>\n",
       "  </tbody>\n",
       "</table>\n",
       "<p>1641 rows × 3 columns</p>\n",
       "</div>"
      ],
      "text/plain": [
       "      year  \\\n",
       "0     2011   \n",
       "1     1998   \n",
       "2     2012   \n",
       "3     2000   \n",
       "4     2001   \n",
       "5     2007   \n",
       "6     2006   \n",
       "7     2005   \n",
       "8     2014   \n",
       "9     2008   \n",
       "10    2002   \n",
       "11    2009   \n",
       "12    2013   \n",
       "13    2016   \n",
       "14    2004   \n",
       "15    2003   \n",
       "16    1999   \n",
       "17    2018   \n",
       "18    2017   \n",
       "19    1997   \n",
       "20    2015   \n",
       "21    2010   \n",
       "22    2011   \n",
       "23    1998   \n",
       "24    2012   \n",
       "25    2000   \n",
       "26    2001   \n",
       "27    2007   \n",
       "28    2006   \n",
       "29    2005   \n",
       "...    ...   \n",
       "1611  2001   \n",
       "1612  2007   \n",
       "1613  2003   \n",
       "1614  1988   \n",
       "1615  2006   \n",
       "1616  2005   \n",
       "1617  2014   \n",
       "1618  1980   \n",
       "1619  1982   \n",
       "1620  2013   \n",
       "1621  2018   \n",
       "1622  2015   \n",
       "1623  2011   \n",
       "1624  2016   \n",
       "1625  2013   \n",
       "1626  2016   \n",
       "1627  2017   \n",
       "1628  2018   \n",
       "1629  2002   \n",
       "1630  2016   \n",
       "1631  2013   \n",
       "1632  2012   \n",
       "1633  2008   \n",
       "1634  2006   \n",
       "1635  2016   \n",
       "1636  2012   \n",
       "1637  2015   \n",
       "1638  2001   \n",
       "1639  2005   \n",
       "1640  2017   \n",
       "\n",
       "                                                                                               year_url  \\\n",
       "0         https://legalref.judiciary.hk/lrs/common/ju/judgment.jsp?EX=T&L1=FA&L2=CV&L3=2011&AR=1_8#A1_8   \n",
       "1       https://legalref.judiciary.hk/lrs/common/ju/judgment.jsp?EX=T&L1=FA&L2=CV&L3=1998&AR=1_21#A1_21   \n",
       "2         https://legalref.judiciary.hk/lrs/common/ju/judgment.jsp?EX=T&L1=FA&L2=CV&L3=2012&AR=1_7#A1_7   \n",
       "3       https://legalref.judiciary.hk/lrs/common/ju/judgment.jsp?EX=T&L1=FA&L2=CV&L3=2000&AR=1_19#A1_19   \n",
       "4       https://legalref.judiciary.hk/lrs/common/ju/judgment.jsp?EX=T&L1=FA&L2=CV&L3=2001&AR=1_18#A1_18   \n",
       "5       https://legalref.judiciary.hk/lrs/common/ju/judgment.jsp?EX=T&L1=FA&L2=CV&L3=2007&AR=1_12#A1_12   \n",
       "6       https://legalref.judiciary.hk/lrs/common/ju/judgment.jsp?EX=T&L1=FA&L2=CV&L3=2006&AR=1_13#A1_13   \n",
       "7       https://legalref.judiciary.hk/lrs/common/ju/judgment.jsp?EX=T&L1=FA&L2=CV&L3=2005&AR=1_14#A1_14   \n",
       "8         https://legalref.judiciary.hk/lrs/common/ju/judgment.jsp?EX=T&L1=FA&L2=CV&L3=2014&AR=1_5#A1_5   \n",
       "9       https://legalref.judiciary.hk/lrs/common/ju/judgment.jsp?EX=T&L1=FA&L2=CV&L3=2008&AR=1_11#A1_11   \n",
       "10      https://legalref.judiciary.hk/lrs/common/ju/judgment.jsp?EX=T&L1=FA&L2=CV&L3=2002&AR=1_17#A1_17   \n",
       "11      https://legalref.judiciary.hk/lrs/common/ju/judgment.jsp?EX=T&L1=FA&L2=CV&L3=2009&AR=1_10#A1_10   \n",
       "12        https://legalref.judiciary.hk/lrs/common/ju/judgment.jsp?EX=T&L1=FA&L2=CV&L3=2013&AR=1_6#A1_6   \n",
       "13        https://legalref.judiciary.hk/lrs/common/ju/judgment.jsp?EX=T&L1=FA&L2=CV&L3=2016&AR=1_3#A1_3   \n",
       "14      https://legalref.judiciary.hk/lrs/common/ju/judgment.jsp?EX=T&L1=FA&L2=CV&L3=2004&AR=1_15#A1_15   \n",
       "15      https://legalref.judiciary.hk/lrs/common/ju/judgment.jsp?EX=T&L1=FA&L2=CV&L3=2003&AR=1_16#A1_16   \n",
       "16      https://legalref.judiciary.hk/lrs/common/ju/judgment.jsp?EX=T&L1=FA&L2=CV&L3=1999&AR=1_20#A1_20   \n",
       "17        https://legalref.judiciary.hk/lrs/common/ju/judgment.jsp?EX=T&L1=FA&L2=CV&L3=2018&AR=1_1#A1_1   \n",
       "18        https://legalref.judiciary.hk/lrs/common/ju/judgment.jsp?EX=T&L1=FA&L2=CV&L3=2017&AR=1_2#A1_2   \n",
       "19      https://legalref.judiciary.hk/lrs/common/ju/judgment.jsp?EX=T&L1=FA&L2=CV&L3=1997&AR=1_22#A1_22   \n",
       "20        https://legalref.judiciary.hk/lrs/common/ju/judgment.jsp?EX=T&L1=FA&L2=CV&L3=2015&AR=1_4#A1_4   \n",
       "21        https://legalref.judiciary.hk/lrs/common/ju/judgment.jsp?EX=T&L1=FA&L2=CV&L3=2010&AR=1_9#A1_9   \n",
       "22        https://legalref.judiciary.hk/lrs/common/ju/judgment.jsp?EX=T&L1=FA&L2=CC&L3=2011&AR=2_8#A2_8   \n",
       "23      https://legalref.judiciary.hk/lrs/common/ju/judgment.jsp?EX=T&L1=FA&L2=CC&L3=1998&AR=2_21#A2_21   \n",
       "24        https://legalref.judiciary.hk/lrs/common/ju/judgment.jsp?EX=T&L1=FA&L2=CC&L3=2012&AR=2_7#A2_7   \n",
       "25      https://legalref.judiciary.hk/lrs/common/ju/judgment.jsp?EX=T&L1=FA&L2=CC&L3=2000&AR=2_19#A2_19   \n",
       "26      https://legalref.judiciary.hk/lrs/common/ju/judgment.jsp?EX=T&L1=FA&L2=CC&L3=2001&AR=2_18#A2_18   \n",
       "27      https://legalref.judiciary.hk/lrs/common/ju/judgment.jsp?EX=T&L1=FA&L2=CC&L3=2007&AR=2_12#A2_12   \n",
       "28      https://legalref.judiciary.hk/lrs/common/ju/judgment.jsp?EX=T&L1=FA&L2=CC&L3=2006&AR=2_13#A2_13   \n",
       "29      https://legalref.judiciary.hk/lrs/common/ju/judgment.jsp?EX=T&L1=FA&L2=CC&L3=2005&AR=2_14#A2_14   \n",
       "...                                                                                                 ...   \n",
       "1611  https://legalref.judiciary.hk/lrs/common/ju/judgment.jsp?EX=T&L1=LD&L2=RA&L3=2001&AR=19_10#A19_10   \n",
       "1612    https://legalref.judiciary.hk/lrs/common/ju/judgment.jsp?EX=T&L1=LD&L2=RA&L3=2007&AR=19_4#A19_4   \n",
       "1613    https://legalref.judiciary.hk/lrs/common/ju/judgment.jsp?EX=T&L1=LD&L2=RA&L3=2003&AR=19_8#A19_8   \n",
       "1614  https://legalref.judiciary.hk/lrs/common/ju/judgment.jsp?EX=T&L1=LD&L2=RA&L3=1988&AR=19_13#A19_13   \n",
       "1615    https://legalref.judiciary.hk/lrs/common/ju/judgment.jsp?EX=T&L1=LD&L2=RA&L3=2006&AR=19_5#A19_5   \n",
       "1616    https://legalref.judiciary.hk/lrs/common/ju/judgment.jsp?EX=T&L1=LD&L2=RA&L3=2005&AR=19_6#A19_6   \n",
       "1617    https://legalref.judiciary.hk/lrs/common/ju/judgment.jsp?EX=T&L1=LD&L2=RA&L3=2014&AR=19_2#A19_2   \n",
       "1618  https://legalref.judiciary.hk/lrs/common/ju/judgment.jsp?EX=T&L1=LD&L2=RA&L3=1980&AR=19_18#A19_18   \n",
       "1619  https://legalref.judiciary.hk/lrs/common/ju/judgment.jsp?EX=T&L1=LD&L2=RA&L3=1982&AR=19_17#A19_17   \n",
       "1620      https://legalref.judiciary.hk/lrs/common/ju/judgment.jsp?EX=T&L1=CC&L2=DI&L3=2013&AR=1_1#A1_1   \n",
       "1621      https://legalref.judiciary.hk/lrs/common/ju/judgment.jsp?EX=T&L1=ES&L2=CC&L3=2018&AR=2_1#A2_1   \n",
       "1622      https://legalref.judiciary.hk/lrs/common/ju/judgment.jsp?EX=T&L1=ES&L2=CC&L3=2015&AR=2_3#A2_3   \n",
       "1623      https://legalref.judiciary.hk/lrs/common/ju/judgment.jsp?EX=T&L1=ES&L2=CC&L3=2011&AR=2_4#A2_4   \n",
       "1624      https://legalref.judiciary.hk/lrs/common/ju/judgment.jsp?EX=T&L1=ES&L2=CC&L3=2016&AR=2_2#A2_2   \n",
       "1625       https://legalref.judiciary.hk/lrs/common/ju/judgment.jsp?EX=T&L1=ES&L2=S&L3=2013&AR=3_2#A3_2   \n",
       "1626       https://legalref.judiciary.hk/lrs/common/ju/judgment.jsp?EX=T&L1=ES&L2=S&L3=2016&AR=3_1#A3_1   \n",
       "1627      https://legalref.judiciary.hk/lrs/common/ju/judgment.jsp?EX=T&L1=KC&L2=CC&L3=2017&AR=4_2#A4_2   \n",
       "1628      https://legalref.judiciary.hk/lrs/common/ju/judgment.jsp?EX=T&L1=KC&L2=CC&L3=2018&AR=4_1#A4_1   \n",
       "1629      https://legalref.judiciary.hk/lrs/common/ju/judgment.jsp?EX=T&L1=KC&L2=CC&L3=2002&AR=4_4#A4_4   \n",
       "1630      https://legalref.judiciary.hk/lrs/common/ju/judgment.jsp?EX=T&L1=KC&L2=CC&L3=2016&AR=4_3#A4_3   \n",
       "1631       https://legalref.judiciary.hk/lrs/common/ju/judgment.jsp?EX=T&L1=KC&L2=S&L3=2013&AR=5_1#A5_1   \n",
       "1632      https://legalref.judiciary.hk/lrs/common/ju/judgment.jsp?EX=T&L1=LB&L2=TC&L3=2012&AR=6_1#A6_1   \n",
       "1633      https://legalref.judiciary.hk/lrs/common/ju/judgment.jsp?EX=T&L1=LB&L2=TC&L3=2008&AR=6_2#A6_2   \n",
       "1634      https://legalref.judiciary.hk/lrs/common/ju/judgment.jsp?EX=T&L1=OA&L2=TD&L3=2006&AR=7_1#A7_1   \n",
       "1635      https://legalref.judiciary.hk/lrs/common/ju/judgment.jsp?EX=T&L1=ST&L2=CC&L3=2016&AR=8_1#A8_1   \n",
       "1636      https://legalref.judiciary.hk/lrs/common/ju/judgment.jsp?EX=T&L1=SC&L2=TC&L3=2012&AR=9_2#A9_2   \n",
       "1637      https://legalref.judiciary.hk/lrs/common/ju/judgment.jsp?EX=T&L1=SC&L2=TC&L3=2015&AR=9_1#A9_1   \n",
       "1638      https://legalref.judiciary.hk/lrs/common/ju/judgment.jsp?EX=T&L1=SC&L2=TC&L3=2001&AR=9_3#A9_3   \n",
       "1639    https://legalref.judiciary.hk/lrs/common/ju/judgment.jsp?EX=T&L1=TM&L2=CC&L3=2005&AR=10_1#A10_1   \n",
       "1640    https://legalref.judiciary.hk/lrs/common/ju/judgment.jsp?EX=T&L1=WK&L2=CC&L3=2017&AR=11_1#A11_1   \n",
       "\n",
       "                                sub_court_cleared  \n",
       "0                            Final Appeal (Civil)  \n",
       "1                            Final Appeal (Civil)  \n",
       "2                            Final Appeal (Civil)  \n",
       "3                            Final Appeal (Civil)  \n",
       "4                            Final Appeal (Civil)  \n",
       "5                            Final Appeal (Civil)  \n",
       "6                            Final Appeal (Civil)  \n",
       "7                            Final Appeal (Civil)  \n",
       "8                            Final Appeal (Civil)  \n",
       "9                            Final Appeal (Civil)  \n",
       "10                           Final Appeal (Civil)  \n",
       "11                           Final Appeal (Civil)  \n",
       "12                           Final Appeal (Civil)  \n",
       "13                           Final Appeal (Civil)  \n",
       "14                           Final Appeal (Civil)  \n",
       "15                           Final Appeal (Civil)  \n",
       "16                           Final Appeal (Civil)  \n",
       "17                           Final Appeal (Civil)  \n",
       "18                           Final Appeal (Civil)  \n",
       "19                           Final Appeal (Civil)  \n",
       "20                           Final Appeal (Civil)  \n",
       "21                           Final Appeal (Civil)  \n",
       "22                        Final Appeal (Criminal)  \n",
       "23                        Final Appeal (Criminal)  \n",
       "24                        Final Appeal (Criminal)  \n",
       "25                        Final Appeal (Criminal)  \n",
       "26                        Final Appeal (Criminal)  \n",
       "27                        Final Appeal (Criminal)  \n",
       "28                        Final Appeal (Criminal)  \n",
       "29                        Final Appeal (Criminal)  \n",
       "...                                           ...  \n",
       "1611                                Rating Appeal  \n",
       "1612                                Rating Appeal  \n",
       "1613                                Rating Appeal  \n",
       "1614                                Rating Appeal  \n",
       "1615                                Rating Appeal  \n",
       "1616                                Rating Appeal  \n",
       "1617                                Rating Appeal  \n",
       "1618                                Rating Appeal  \n",
       "1619                                Rating Appeal  \n",
       "1620                  Coroner Court Death Inquest  \n",
       "1621         Eastern Magistrate Court Charge Case  \n",
       "1622         Eastern Magistrate Court Charge Case  \n",
       "1623         Eastern Magistrate Court Charge Case  \n",
       "1624         Eastern Magistrate Court Charge Case  \n",
       "1625         Eastern Magistrate Court Summon Case  \n",
       "1626         Eastern Magistrate Court Summon Case  \n",
       "1627    Kowloon City Magistrate Court Charge Case  \n",
       "1628    Kowloon City Magistrate Court Charge Case  \n",
       "1629    Kowloon City Magistrate Court Charge Case  \n",
       "1630    Kowloon City Magistrate Court Charge Case  \n",
       "1631  Kowloon City Magistrates’ Court Summon Case  \n",
       "1632                        Labour Tribunal Claim  \n",
       "1633                        Labour Tribunal Claim  \n",
       "1634                Obscene Article Tribunal Case  \n",
       "1635          Shatin Magistrate Court Charge Case  \n",
       "1636                   Small Claim Tribunal Claim  \n",
       "1637                   Small Claim Tribunal Claim  \n",
       "1638                   Small Claim Tribunal Claim  \n",
       "1639        Tuen Mun Magistrate Court Charge Case  \n",
       "1640    West Kowloon Magistrate Court Charge Case  \n",
       "\n",
       "[1641 rows x 3 columns]"
      ]
     },
     "execution_count": 218,
     "metadata": {},
     "output_type": "execute_result"
    }
   ],
   "source": [
    "dfs = []\n",
    "for sc in tqdm(df_all['sub_court_cleared']):\n",
    "    print('for sub_court: ',sc)\n",
    "    # check if special sc\n",
    "    if sc in special_courts:\n",
    "        url = special_courts[sc]\n",
    "    else:\n",
    "        url = list(df_all[df_all['sub_court_cleared']==sc]['sub_court_url'])[0]\n",
    "    match = get_year_urls(sc, url, df_all, courts_set, urls_set)\n",
    "    dfs.append(match)\n",
    "    \n",
    "df_years = pd.concat(dfs, axis=0)\n",
    "df_years.index = range(len(df_years))\n",
    "print(df_years.shape)\n",
    "df_years"
   ]
  },
  {
   "cell_type": "code",
   "execution_count": 222,
   "metadata": {},
   "outputs": [
    {
     "data": {
      "text/html": [
       "<div>\n",
       "<style scoped>\n",
       "    .dataframe tbody tr th:only-of-type {\n",
       "        vertical-align: middle;\n",
       "    }\n",
       "\n",
       "    .dataframe tbody tr th {\n",
       "        vertical-align: top;\n",
       "    }\n",
       "\n",
       "    .dataframe thead th {\n",
       "        text-align: right;\n",
       "    }\n",
       "</style>\n",
       "<table border=\"1\" class=\"dataframe\">\n",
       "  <thead>\n",
       "    <tr style=\"text-align: right;\">\n",
       "      <th></th>\n",
       "      <th>year</th>\n",
       "      <th>year_url</th>\n",
       "      <th>sub_court_cleared</th>\n",
       "    </tr>\n",
       "  </thead>\n",
       "  <tbody>\n",
       "    <tr>\n",
       "      <th>0</th>\n",
       "      <td>2011</td>\n",
       "      <td>https://legalref.judiciary.hk/lrs/common/ju/judgment.jsp?EX=T&amp;L1=FA&amp;L2=CV&amp;L3=2011&amp;AR=1_8#A1_8</td>\n",
       "      <td>Final Appeal (Civil)</td>\n",
       "    </tr>\n",
       "    <tr>\n",
       "      <th>1</th>\n",
       "      <td>1998</td>\n",
       "      <td>https://legalref.judiciary.hk/lrs/common/ju/judgment.jsp?EX=T&amp;L1=FA&amp;L2=CV&amp;L3=1998&amp;AR=1_21#A1_21</td>\n",
       "      <td>Final Appeal (Civil)</td>\n",
       "    </tr>\n",
       "    <tr>\n",
       "      <th>2</th>\n",
       "      <td>2012</td>\n",
       "      <td>https://legalref.judiciary.hk/lrs/common/ju/judgment.jsp?EX=T&amp;L1=FA&amp;L2=CV&amp;L3=2012&amp;AR=1_7#A1_7</td>\n",
       "      <td>Final Appeal (Civil)</td>\n",
       "    </tr>\n",
       "    <tr>\n",
       "      <th>3</th>\n",
       "      <td>2000</td>\n",
       "      <td>https://legalref.judiciary.hk/lrs/common/ju/judgment.jsp?EX=T&amp;L1=FA&amp;L2=CV&amp;L3=2000&amp;AR=1_19#A1_19</td>\n",
       "      <td>Final Appeal (Civil)</td>\n",
       "    </tr>\n",
       "    <tr>\n",
       "      <th>4</th>\n",
       "      <td>2001</td>\n",
       "      <td>https://legalref.judiciary.hk/lrs/common/ju/judgment.jsp?EX=T&amp;L1=FA&amp;L2=CV&amp;L3=2001&amp;AR=1_18#A1_18</td>\n",
       "      <td>Final Appeal (Civil)</td>\n",
       "    </tr>\n",
       "  </tbody>\n",
       "</table>\n",
       "</div>"
      ],
      "text/plain": [
       "   year  \\\n",
       "0  2011   \n",
       "1  1998   \n",
       "2  2012   \n",
       "3  2000   \n",
       "4  2001   \n",
       "\n",
       "                                                                                          year_url  \\\n",
       "0    https://legalref.judiciary.hk/lrs/common/ju/judgment.jsp?EX=T&L1=FA&L2=CV&L3=2011&AR=1_8#A1_8   \n",
       "1  https://legalref.judiciary.hk/lrs/common/ju/judgment.jsp?EX=T&L1=FA&L2=CV&L3=1998&AR=1_21#A1_21   \n",
       "2    https://legalref.judiciary.hk/lrs/common/ju/judgment.jsp?EX=T&L1=FA&L2=CV&L3=2012&AR=1_7#A1_7   \n",
       "3  https://legalref.judiciary.hk/lrs/common/ju/judgment.jsp?EX=T&L1=FA&L2=CV&L3=2000&AR=1_19#A1_19   \n",
       "4  https://legalref.judiciary.hk/lrs/common/ju/judgment.jsp?EX=T&L1=FA&L2=CV&L3=2001&AR=1_18#A1_18   \n",
       "\n",
       "      sub_court_cleared  \n",
       "0  Final Appeal (Civil)  \n",
       "1  Final Appeal (Civil)  \n",
       "2  Final Appeal (Civil)  \n",
       "3  Final Appeal (Civil)  \n",
       "4  Final Appeal (Civil)  "
      ]
     },
     "execution_count": 222,
     "metadata": {},
     "output_type": "execute_result"
    }
   ],
   "source": [
    "df_years.head()"
   ]
  },
  {
   "cell_type": "code",
   "execution_count": 220,
   "metadata": {},
   "outputs": [],
   "source": [
    "# store data\n",
    "with open('data.pickle', 'wb') as ww:\n",
    "    pickle.dump(df_years, ww)\n"
   ]
  },
  {
   "cell_type": "code",
   "execution_count": 5,
   "metadata": {},
   "outputs": [],
   "source": [
    "f = open('data.pickle', 'rb')\n",
    "df_years = pickle.load(f)"
   ]
  },
  {
   "cell_type": "markdown",
   "metadata": {},
   "source": [
    "## Hiearchy 4: details"
   ]
  },
  {
   "cell_type": "code",
   "execution_count": 3,
   "metadata": {},
   "outputs": [],
   "source": [
    "def get_onePage(url, r):\n",
    "    data_onepage = [] # initialize\n",
    "    root = url_to_root(url)\n",
    "    info = root.find('script', string=re.compile(\"var myMenu\")).text.split(\",[\")\n",
    "    B_s = [BeautifulSoup(i) for i in info]\n",
    "    for B in B_s:\n",
    "        try:\n",
    "            sub_court_cleared = r['sub_court_cleared']\n",
    "            year = r['year']\n",
    "            outcome = B.find('td', valign=\"top\", width=\"5%\").find('img')['src']\n",
    "            name = B.find('a', class_=\"ThemeXPRowAnchor\").text\n",
    "\n",
    "            url = B.find('a', class_=\"ThemeXPRowAnchor\")['href']\n",
    "            url = url.split(',')[0]\n",
    "            detail_url = url[re.search(\"https\", url).span()[0]:-2]\n",
    "            date = B.find('font',color=\"#006633\").text\n",
    "            persons = B.find('td', valign=\"top\", width=\"55%\").text\n",
    "            data_onepage.append((sub_court_cleared, year, outcome, name, detail_url, date, persons))\n",
    "        except AttributeError:\n",
    "            continue\n",
    "    return data_onepage\n"
   ]
  },
  {
   "cell_type": "code",
   "execution_count": 4,
   "metadata": {},
   "outputs": [],
   "source": [
    "def store_onePage(idx, data_onepage):\n",
    "    with open(str(idx)+'.pickle', 'wb') as ww:\n",
    "        pickle.dump(data_onepage, ww)\n",
    "    return \n"
   ]
  },
  {
   "cell_type": "code",
   "execution_count": 7,
   "metadata": {},
   "outputs": [
    {
     "data": {
      "text/plain": [
       "1641"
      ]
     },
     "execution_count": 7,
     "metadata": {},
     "output_type": "execute_result"
    }
   ],
   "source": [
    "\n",
    "len(df_years)"
   ]
  },
  {
   "cell_type": "code",
   "execution_count": 8,
   "metadata": {
    "scrolled": true
   },
   "outputs": [
    {
     "name": "stderr",
     "output_type": "stream",
     "text": [
      "\r",
      "  0%|                                                 | 0/1641 [00:00<?, ?it/s]"
     ]
    },
    {
     "name": "stdout",
     "output_type": "stream",
     "text": [
      "now in row:  1001\n"
     ]
    },
    {
     "name": "stderr",
     "output_type": "stream",
     "text": [
      "\r",
      " 61%|██████████████████████▌              | 1002/1641 [00:01<00:00, 743.74it/s]"
     ]
    },
    {
     "name": "stdout",
     "output_type": "stream",
     "text": [
      "now in row:  1002\n",
      "now in row:  1003\n",
      "now in row:  1004\n",
      "now in row:  1005\n",
      "now in row:  1006\n",
      "now in row:  1007\n",
      "now in row:  1008\n",
      "now in row:  1009\n",
      "now in row:  1010\n",
      "now in row:  1011\n",
      "now in row:  1012\n",
      "now in row:  1013\n",
      "now in row:  1014\n",
      "now in row:  1015\n",
      "now in row:  1016\n"
     ]
    },
    {
     "name": "stderr",
     "output_type": "stream",
     "text": [
      " 62%|███████████████████████▌              | 1017/1641 [00:20<04:00,  2.59it/s]"
     ]
    },
    {
     "name": "stdout",
     "output_type": "stream",
     "text": [
      "now in row:  1017\n"
     ]
    },
    {
     "name": "stderr",
     "output_type": "stream",
     "text": [
      "\r",
      " 62%|███████████████████████▌              | 1018/1641 [00:21<05:14,  1.98it/s]"
     ]
    },
    {
     "name": "stdout",
     "output_type": "stream",
     "text": [
      "now in row:  1018\n"
     ]
    },
    {
     "name": "stderr",
     "output_type": "stream",
     "text": [
      "\r",
      " 62%|███████████████████████▌              | 1019/1641 [00:23<09:58,  1.04it/s]"
     ]
    },
    {
     "name": "stdout",
     "output_type": "stream",
     "text": [
      "now in row:  1019\n"
     ]
    },
    {
     "name": "stderr",
     "output_type": "stream",
     "text": [
      "\r",
      " 62%|███████████████████████▌              | 1020/1641 [00:24<09:38,  1.07it/s]"
     ]
    },
    {
     "name": "stdout",
     "output_type": "stream",
     "text": [
      "now in row:  1020\n"
     ]
    },
    {
     "name": "stderr",
     "output_type": "stream",
     "text": [
      "\r",
      " 62%|███████████████████████▋              | 1021/1641 [00:25<09:38,  1.07it/s]"
     ]
    },
    {
     "name": "stdout",
     "output_type": "stream",
     "text": [
      "now in row:  1021\n"
     ]
    },
    {
     "name": "stderr",
     "output_type": "stream",
     "text": [
      "\r",
      " 62%|███████████████████████▋              | 1022/1641 [00:26<10:45,  1.04s/it]"
     ]
    },
    {
     "name": "stdout",
     "output_type": "stream",
     "text": [
      "now in row:  1022\n"
     ]
    },
    {
     "name": "stderr",
     "output_type": "stream",
     "text": [
      "\r",
      " 62%|███████████████████████▋              | 1023/1641 [00:28<12:40,  1.23s/it]"
     ]
    },
    {
     "name": "stdout",
     "output_type": "stream",
     "text": [
      "now in row:  1023\n"
     ]
    },
    {
     "name": "stderr",
     "output_type": "stream",
     "text": [
      "\r",
      " 62%|███████████████████████▋              | 1024/1641 [00:29<12:17,  1.19s/it]"
     ]
    },
    {
     "name": "stdout",
     "output_type": "stream",
     "text": [
      "now in row:  1024\n"
     ]
    },
    {
     "name": "stderr",
     "output_type": "stream",
     "text": [
      "\r",
      " 62%|███████████████████████▋              | 1025/1641 [00:30<13:06,  1.28s/it]"
     ]
    },
    {
     "name": "stdout",
     "output_type": "stream",
     "text": [
      "now in row:  1025\n"
     ]
    },
    {
     "name": "stderr",
     "output_type": "stream",
     "text": [
      "\r",
      " 63%|███████████████████████▊              | 1026/1641 [00:31<11:41,  1.14s/it]"
     ]
    },
    {
     "name": "stdout",
     "output_type": "stream",
     "text": [
      "now in row:  1026\n"
     ]
    },
    {
     "name": "stderr",
     "output_type": "stream",
     "text": [
      "\r",
      " 63%|███████████████████████▊              | 1027/1641 [00:39<31:19,  3.06s/it]"
     ]
    },
    {
     "name": "stdout",
     "output_type": "stream",
     "text": [
      "now in row:  1027\n"
     ]
    },
    {
     "name": "stderr",
     "output_type": "stream",
     "text": [
      "\r",
      " 63%|███████████████████████▊              | 1028/1641 [00:40<27:06,  2.65s/it]"
     ]
    },
    {
     "name": "stdout",
     "output_type": "stream",
     "text": [
      "now in row:  1028\n"
     ]
    },
    {
     "name": "stderr",
     "output_type": "stream",
     "text": [
      "\r",
      " 63%|███████████████████████▊              | 1029/1641 [00:42<22:32,  2.21s/it]"
     ]
    },
    {
     "name": "stdout",
     "output_type": "stream",
     "text": [
      "now in row:  1029\n"
     ]
    },
    {
     "name": "stderr",
     "output_type": "stream",
     "text": [
      "\r",
      " 63%|███████████████████████▊              | 1030/1641 [00:42<18:16,  1.79s/it]"
     ]
    },
    {
     "name": "stdout",
     "output_type": "stream",
     "text": [
      "now in row:  1030\n"
     ]
    },
    {
     "name": "stderr",
     "output_type": "stream",
     "text": [
      "\r",
      " 63%|███████████████████████▊              | 1031/1641 [00:43<15:14,  1.50s/it]"
     ]
    },
    {
     "name": "stdout",
     "output_type": "stream",
     "text": [
      "now in row:  1031\n"
     ]
    },
    {
     "name": "stderr",
     "output_type": "stream",
     "text": [
      "\r",
      " 63%|███████████████████████▉              | 1032/1641 [00:44<13:12,  1.30s/it]"
     ]
    },
    {
     "name": "stdout",
     "output_type": "stream",
     "text": [
      "now in row:  1032\n"
     ]
    },
    {
     "name": "stderr",
     "output_type": "stream",
     "text": [
      "\r",
      " 63%|███████████████████████▉              | 1033/1641 [00:45<13:32,  1.34s/it]"
     ]
    },
    {
     "name": "stdout",
     "output_type": "stream",
     "text": [
      "now in row:  1033\n"
     ]
    },
    {
     "name": "stderr",
     "output_type": "stream",
     "text": [
      "\r",
      " 63%|███████████████████████▉              | 1034/1641 [00:47<14:30,  1.43s/it]"
     ]
    },
    {
     "name": "stdout",
     "output_type": "stream",
     "text": [
      "now in row:  1034\n"
     ]
    },
    {
     "name": "stderr",
     "output_type": "stream",
     "text": [
      "\r",
      " 63%|███████████████████████▉              | 1035/1641 [00:50<19:24,  1.92s/it]"
     ]
    },
    {
     "name": "stdout",
     "output_type": "stream",
     "text": [
      "now in row:  1035\n"
     ]
    },
    {
     "name": "stderr",
     "output_type": "stream",
     "text": [
      "\r",
      " 63%|███████████████████████▉              | 1036/1641 [00:51<16:31,  1.64s/it]"
     ]
    },
    {
     "name": "stdout",
     "output_type": "stream",
     "text": [
      "now in row:  1036\n"
     ]
    },
    {
     "name": "stderr",
     "output_type": "stream",
     "text": [
      "\r",
      " 63%|████████████████████████              | 1037/1641 [00:52<14:20,  1.42s/it]"
     ]
    },
    {
     "name": "stdout",
     "output_type": "stream",
     "text": [
      "now in row:  1037\n"
     ]
    },
    {
     "name": "stderr",
     "output_type": "stream",
     "text": [
      "\r",
      " 63%|████████████████████████              | 1038/1641 [00:54<15:57,  1.59s/it]"
     ]
    },
    {
     "name": "stdout",
     "output_type": "stream",
     "text": [
      "now in row:  1038\n"
     ]
    },
    {
     "name": "stderr",
     "output_type": "stream",
     "text": [
      "\r",
      " 63%|████████████████████████              | 1039/1641 [00:55<14:26,  1.44s/it]"
     ]
    },
    {
     "name": "stdout",
     "output_type": "stream",
     "text": [
      "now in row:  1039\n"
     ]
    },
    {
     "name": "stderr",
     "output_type": "stream",
     "text": [
      "\r",
      " 63%|████████████████████████              | 1040/1641 [00:56<12:30,  1.25s/it]"
     ]
    },
    {
     "name": "stdout",
     "output_type": "stream",
     "text": [
      "now in row:  1040\n"
     ]
    },
    {
     "name": "stderr",
     "output_type": "stream",
     "text": [
      "\r",
      " 63%|████████████████████████              | 1041/1641 [00:57<12:44,  1.27s/it]"
     ]
    },
    {
     "name": "stdout",
     "output_type": "stream",
     "text": [
      "now in row:  1041\n"
     ]
    },
    {
     "name": "stderr",
     "output_type": "stream",
     "text": [
      "\r",
      " 63%|████████████████████████▏             | 1042/1641 [00:59<13:49,  1.38s/it]"
     ]
    },
    {
     "name": "stdout",
     "output_type": "stream",
     "text": [
      "now in row:  1042\n"
     ]
    },
    {
     "name": "stderr",
     "output_type": "stream",
     "text": [
      "\r",
      " 64%|████████████████████████▏             | 1043/1641 [01:00<12:40,  1.27s/it]"
     ]
    },
    {
     "name": "stdout",
     "output_type": "stream",
     "text": [
      "now in row:  1043\n"
     ]
    },
    {
     "name": "stderr",
     "output_type": "stream",
     "text": [
      "\r",
      " 64%|████████████████████████▏             | 1044/1641 [01:01<11:30,  1.16s/it]"
     ]
    },
    {
     "name": "stdout",
     "output_type": "stream",
     "text": [
      "now in row:  1044\n"
     ]
    },
    {
     "name": "stderr",
     "output_type": "stream",
     "text": [
      "\r",
      " 64%|████████████████████████▏             | 1045/1641 [01:02<10:32,  1.06s/it]"
     ]
    },
    {
     "name": "stdout",
     "output_type": "stream",
     "text": [
      "now in row:  1045\n"
     ]
    },
    {
     "name": "stderr",
     "output_type": "stream",
     "text": [
      "\r",
      " 64%|████████████████████████▏             | 1046/1641 [01:02<09:55,  1.00s/it]"
     ]
    },
    {
     "name": "stdout",
     "output_type": "stream",
     "text": [
      "now in row:  1046\n"
     ]
    },
    {
     "name": "stderr",
     "output_type": "stream",
     "text": [
      "\r",
      " 64%|████████████████████████▏             | 1047/1641 [01:04<12:22,  1.25s/it]"
     ]
    },
    {
     "name": "stdout",
     "output_type": "stream",
     "text": [
      "now in row:  1047\n"
     ]
    },
    {
     "name": "stderr",
     "output_type": "stream",
     "text": [
      "\r",
      " 64%|████████████████████████▎             | 1048/1641 [01:06<14:28,  1.46s/it]"
     ]
    },
    {
     "name": "stdout",
     "output_type": "stream",
     "text": [
      "now in row:  1048\n"
     ]
    },
    {
     "name": "stderr",
     "output_type": "stream",
     "text": [
      "\r",
      " 64%|████████████████████████▎             | 1049/1641 [01:09<16:53,  1.71s/it]"
     ]
    },
    {
     "name": "stdout",
     "output_type": "stream",
     "text": [
      "now in row:  1049\n"
     ]
    },
    {
     "name": "stderr",
     "output_type": "stream",
     "text": [
      "\r",
      " 64%|████████████████████████▎             | 1050/1641 [01:09<14:24,  1.46s/it]"
     ]
    },
    {
     "name": "stdout",
     "output_type": "stream",
     "text": [
      "now in row:  1050\n"
     ]
    },
    {
     "name": "stderr",
     "output_type": "stream",
     "text": [
      "\r",
      " 64%|████████████████████████▎             | 1051/1641 [01:14<22:13,  2.26s/it]"
     ]
    },
    {
     "name": "stdout",
     "output_type": "stream",
     "text": [
      "now in row:  1051\n"
     ]
    },
    {
     "name": "stderr",
     "output_type": "stream",
     "text": [
      "\r",
      " 64%|████████████████████████▎             | 1052/1641 [01:16<22:15,  2.27s/it]"
     ]
    },
    {
     "name": "stdout",
     "output_type": "stream",
     "text": [
      "now in row:  1052\n"
     ]
    },
    {
     "name": "stderr",
     "output_type": "stream",
     "text": [
      "\r",
      " 64%|████████████████████████▍             | 1053/1641 [01:18<20:33,  2.10s/it]"
     ]
    },
    {
     "name": "stdout",
     "output_type": "stream",
     "text": [
      "now in row:  1053\n"
     ]
    },
    {
     "name": "stderr",
     "output_type": "stream",
     "text": [
      "\r",
      " 64%|████████████████████████▍             | 1054/1641 [01:19<19:41,  2.01s/it]"
     ]
    },
    {
     "name": "stdout",
     "output_type": "stream",
     "text": [
      "now in row:  1054\n"
     ]
    },
    {
     "name": "stderr",
     "output_type": "stream",
     "text": [
      "\r",
      " 64%|████████████████████████▍             | 1055/1641 [01:22<22:04,  2.26s/it]"
     ]
    },
    {
     "name": "stdout",
     "output_type": "stream",
     "text": [
      "now in row:  1055\n"
     ]
    },
    {
     "name": "stderr",
     "output_type": "stream",
     "text": [
      "\r",
      " 64%|████████████████████████▍             | 1056/1641 [01:24<20:43,  2.13s/it]"
     ]
    },
    {
     "name": "stdout",
     "output_type": "stream",
     "text": [
      "now in row:  1056\n"
     ]
    },
    {
     "name": "stderr",
     "output_type": "stream",
     "text": [
      "\r",
      " 64%|████████████████████████▍             | 1057/1641 [01:26<20:13,  2.08s/it]"
     ]
    },
    {
     "name": "stdout",
     "output_type": "stream",
     "text": [
      "now in row:  1057\n"
     ]
    },
    {
     "name": "stderr",
     "output_type": "stream",
     "text": [
      "\r",
      " 64%|████████████████████████▍             | 1058/1641 [01:28<19:30,  2.01s/it]"
     ]
    },
    {
     "name": "stdout",
     "output_type": "stream",
     "text": [
      "now in row:  1058\n"
     ]
    },
    {
     "name": "stderr",
     "output_type": "stream",
     "text": [
      "\r",
      " 65%|████████████████████████▌             | 1059/1641 [01:30<19:12,  1.98s/it]"
     ]
    },
    {
     "name": "stdout",
     "output_type": "stream",
     "text": [
      "now in row:  1059\n"
     ]
    },
    {
     "name": "stderr",
     "output_type": "stream",
     "text": [
      "\r",
      " 65%|████████████████████████▌             | 1060/1641 [01:35<29:34,  3.05s/it]"
     ]
    },
    {
     "name": "stdout",
     "output_type": "stream",
     "text": [
      "now in row:  1060\n"
     ]
    },
    {
     "name": "stderr",
     "output_type": "stream",
     "text": [
      "\r",
      " 65%|████████████████████████▌             | 1061/1641 [01:36<23:59,  2.48s/it]"
     ]
    },
    {
     "name": "stdout",
     "output_type": "stream",
     "text": [
      "now in row:  1061\n"
     ]
    },
    {
     "name": "stderr",
     "output_type": "stream",
     "text": [
      "\r",
      " 65%|████████████████████████▌             | 1062/1641 [01:39<23:35,  2.44s/it]"
     ]
    },
    {
     "name": "stdout",
     "output_type": "stream",
     "text": [
      "now in row:  1062\n"
     ]
    },
    {
     "name": "stderr",
     "output_type": "stream",
     "text": [
      "\r",
      " 65%|████████████████████████▌             | 1063/1641 [01:41<21:39,  2.25s/it]"
     ]
    },
    {
     "name": "stdout",
     "output_type": "stream",
     "text": [
      "now in row:  1063\n"
     ]
    },
    {
     "name": "stderr",
     "output_type": "stream",
     "text": [
      "\r",
      " 65%|████████████████████████▋             | 1064/1641 [01:42<20:38,  2.15s/it]"
     ]
    },
    {
     "name": "stdout",
     "output_type": "stream",
     "text": [
      "now in row:  1064\n"
     ]
    },
    {
     "name": "stderr",
     "output_type": "stream",
     "text": [
      "\r",
      " 65%|████████████████████████▋             | 1065/1641 [01:45<20:16,  2.11s/it]"
     ]
    },
    {
     "name": "stdout",
     "output_type": "stream",
     "text": [
      "now in row:  1065\n"
     ]
    },
    {
     "name": "stderr",
     "output_type": "stream",
     "text": [
      "\r",
      " 65%|████████████████████████▋             | 1066/1641 [01:47<20:24,  2.13s/it]"
     ]
    },
    {
     "name": "stdout",
     "output_type": "stream",
     "text": [
      "now in row:  1066\n"
     ]
    },
    {
     "name": "stderr",
     "output_type": "stream",
     "text": [
      "\r",
      " 65%|████████████████████████▋             | 1067/1641 [01:50<24:24,  2.55s/it]"
     ]
    },
    {
     "name": "stdout",
     "output_type": "stream",
     "text": [
      "now in row:  1067\n"
     ]
    },
    {
     "name": "stderr",
     "output_type": "stream",
     "text": [
      "\r",
      " 65%|████████████████████████▋             | 1068/1641 [01:53<24:15,  2.54s/it]"
     ]
    },
    {
     "name": "stdout",
     "output_type": "stream",
     "text": [
      "now in row:  1068\n"
     ]
    },
    {
     "name": "stderr",
     "output_type": "stream",
     "text": [
      "\r",
      " 65%|████████████████████████▊             | 1069/1641 [01:55<22:18,  2.34s/it]"
     ]
    },
    {
     "name": "stdout",
     "output_type": "stream",
     "text": [
      "now in row:  1069\n"
     ]
    },
    {
     "name": "stderr",
     "output_type": "stream",
     "text": [
      "\r",
      " 65%|████████████████████████▊             | 1070/1641 [01:56<20:53,  2.20s/it]"
     ]
    },
    {
     "name": "stdout",
     "output_type": "stream",
     "text": [
      "now in row:  1070\n"
     ]
    },
    {
     "name": "stderr",
     "output_type": "stream",
     "text": [
      "\r",
      " 65%|████████████████████████▊             | 1071/1641 [01:58<20:00,  2.11s/it]"
     ]
    },
    {
     "name": "stdout",
     "output_type": "stream",
     "text": [
      "now in row:  1071\n"
     ]
    },
    {
     "name": "stderr",
     "output_type": "stream",
     "text": [
      "\r",
      " 65%|████████████████████████▊             | 1072/1641 [02:00<19:18,  2.04s/it]"
     ]
    },
    {
     "name": "stdout",
     "output_type": "stream",
     "text": [
      "now in row:  1072\n"
     ]
    },
    {
     "name": "stderr",
     "output_type": "stream",
     "text": [
      "\r",
      " 65%|████████████████████████▊             | 1073/1641 [02:02<19:51,  2.10s/it]"
     ]
    },
    {
     "name": "stdout",
     "output_type": "stream",
     "text": [
      "now in row:  1073\n"
     ]
    },
    {
     "name": "stderr",
     "output_type": "stream",
     "text": [
      "\r",
      " 65%|████████████████████████▊             | 1074/1641 [02:05<20:14,  2.14s/it]"
     ]
    },
    {
     "name": "stdout",
     "output_type": "stream",
     "text": [
      "now in row:  1074\n"
     ]
    },
    {
     "name": "stderr",
     "output_type": "stream",
     "text": [
      "\r",
      " 66%|████████████████████████▉             | 1075/1641 [02:07<19:25,  2.06s/it]"
     ]
    },
    {
     "name": "stdout",
     "output_type": "stream",
     "text": [
      "now in row:  1075\n"
     ]
    },
    {
     "name": "stderr",
     "output_type": "stream",
     "text": [
      "\r",
      " 66%|████████████████████████▉             | 1076/1641 [02:09<19:19,  2.05s/it]"
     ]
    },
    {
     "name": "stdout",
     "output_type": "stream",
     "text": [
      "now in row:  1076\n"
     ]
    },
    {
     "name": "stderr",
     "output_type": "stream",
     "text": [
      "\r",
      " 66%|████████████████████████▉             | 1077/1641 [02:11<19:17,  2.05s/it]"
     ]
    },
    {
     "name": "stdout",
     "output_type": "stream",
     "text": [
      "now in row:  1077\n"
     ]
    },
    {
     "name": "stderr",
     "output_type": "stream",
     "text": [
      "\r",
      " 66%|████████████████████████▉             | 1078/1641 [02:13<20:05,  2.14s/it]"
     ]
    },
    {
     "name": "stdout",
     "output_type": "stream",
     "text": [
      "now in row:  1078\n"
     ]
    },
    {
     "name": "stderr",
     "output_type": "stream",
     "text": [
      "\r",
      " 66%|████████████████████████▉             | 1079/1641 [02:16<21:18,  2.27s/it]"
     ]
    },
    {
     "name": "stdout",
     "output_type": "stream",
     "text": [
      "now in row:  1079\n"
     ]
    },
    {
     "name": "stderr",
     "output_type": "stream",
     "text": [
      "\r",
      " 66%|█████████████████████████             | 1080/1641 [02:18<20:12,  2.16s/it]"
     ]
    },
    {
     "name": "stdout",
     "output_type": "stream",
     "text": [
      "now in row:  1080\n"
     ]
    },
    {
     "name": "stderr",
     "output_type": "stream",
     "text": [
      "\r",
      " 66%|█████████████████████████             | 1081/1641 [02:20<20:03,  2.15s/it]"
     ]
    },
    {
     "name": "stdout",
     "output_type": "stream",
     "text": [
      "now in row:  1081\n"
     ]
    },
    {
     "name": "stderr",
     "output_type": "stream",
     "text": [
      "\r",
      " 66%|█████████████████████████             | 1082/1641 [02:21<18:46,  2.02s/it]"
     ]
    },
    {
     "name": "stdout",
     "output_type": "stream",
     "text": [
      "now in row:  1082\n"
     ]
    },
    {
     "name": "stderr",
     "output_type": "stream",
     "text": [
      "\r",
      " 66%|█████████████████████████             | 1083/1641 [02:23<18:18,  1.97s/it]"
     ]
    },
    {
     "name": "stdout",
     "output_type": "stream",
     "text": [
      "now in row:  1083\n"
     ]
    },
    {
     "name": "stderr",
     "output_type": "stream",
     "text": [
      "\r",
      " 66%|█████████████████████████             | 1084/1641 [02:24<16:22,  1.76s/it]"
     ]
    },
    {
     "name": "stdout",
     "output_type": "stream",
     "text": [
      "now in row:  1084\n"
     ]
    },
    {
     "name": "stderr",
     "output_type": "stream",
     "text": [
      "\r",
      " 66%|█████████████████████████             | 1085/1641 [02:26<16:18,  1.76s/it]"
     ]
    },
    {
     "name": "stdout",
     "output_type": "stream",
     "text": [
      "now in row:  1085\n"
     ]
    },
    {
     "name": "stderr",
     "output_type": "stream",
     "text": [
      "\r",
      " 66%|█████████████████████████▏            | 1086/1641 [02:28<16:24,  1.77s/it]"
     ]
    },
    {
     "name": "stdout",
     "output_type": "stream",
     "text": [
      "now in row:  1086\n"
     ]
    },
    {
     "name": "stderr",
     "output_type": "stream",
     "text": [
      "\r",
      " 66%|█████████████████████████▏            | 1087/1641 [02:29<13:48,  1.50s/it]"
     ]
    },
    {
     "name": "stdout",
     "output_type": "stream",
     "text": [
      "now in row:  1087\n"
     ]
    },
    {
     "name": "stderr",
     "output_type": "stream",
     "text": [
      "\r",
      " 66%|█████████████████████████▏            | 1088/1641 [02:31<14:52,  1.61s/it]"
     ]
    },
    {
     "name": "stdout",
     "output_type": "stream",
     "text": [
      "now in row:  1088\n"
     ]
    },
    {
     "name": "stderr",
     "output_type": "stream",
     "text": [
      "\r",
      " 66%|█████████████████████████▏            | 1089/1641 [02:33<15:31,  1.69s/it]"
     ]
    },
    {
     "name": "stdout",
     "output_type": "stream",
     "text": [
      "now in row:  1089\n"
     ]
    },
    {
     "name": "stderr",
     "output_type": "stream",
     "text": [
      "\r",
      " 66%|█████████████████████████▏            | 1090/1641 [02:35<16:21,  1.78s/it]"
     ]
    },
    {
     "name": "stdout",
     "output_type": "stream",
     "text": [
      "now in row:  1090\n"
     ]
    },
    {
     "name": "stderr",
     "output_type": "stream",
     "text": [
      "\r",
      " 66%|█████████████████████████▎            | 1091/1641 [02:46<42:23,  4.62s/it]"
     ]
    },
    {
     "name": "stdout",
     "output_type": "stream",
     "text": [
      "now in row:  1091\n"
     ]
    },
    {
     "name": "stderr",
     "output_type": "stream",
     "text": [
      "\r",
      " 67%|█████████████████████████▎            | 1092/1641 [02:48<35:32,  3.88s/it]"
     ]
    },
    {
     "name": "stdout",
     "output_type": "stream",
     "text": [
      "now in row:  1092\n"
     ]
    },
    {
     "name": "stderr",
     "output_type": "stream",
     "text": [
      "\r",
      " 67%|█████████████████████████▎            | 1093/1641 [02:50<31:00,  3.39s/it]"
     ]
    },
    {
     "name": "stdout",
     "output_type": "stream",
     "text": [
      "now in row:  1093\n"
     ]
    },
    {
     "name": "stderr",
     "output_type": "stream",
     "text": [
      "\r",
      " 67%|█████████████████████████▎            | 1094/1641 [02:54<30:50,  3.38s/it]"
     ]
    },
    {
     "name": "stdout",
     "output_type": "stream",
     "text": [
      "now in row:  1094\n"
     ]
    },
    {
     "name": "stderr",
     "output_type": "stream",
     "text": [
      "\r",
      " 67%|█████████████████████████▎            | 1095/1641 [02:57<30:28,  3.35s/it]"
     ]
    },
    {
     "name": "stdout",
     "output_type": "stream",
     "text": [
      "now in row:  1095\n"
     ]
    },
    {
     "name": "stderr",
     "output_type": "stream",
     "text": [
      "\r",
      " 67%|█████████████████████████▍            | 1096/1641 [02:59<26:10,  2.88s/it]"
     ]
    },
    {
     "name": "stdout",
     "output_type": "stream",
     "text": [
      "now in row:  1096\n"
     ]
    },
    {
     "name": "stderr",
     "output_type": "stream",
     "text": [
      "\r",
      " 67%|█████████████████████████▍            | 1097/1641 [03:00<20:58,  2.31s/it]"
     ]
    },
    {
     "name": "stdout",
     "output_type": "stream",
     "text": [
      "now in row:  1097\n"
     ]
    },
    {
     "name": "stderr",
     "output_type": "stream",
     "text": [
      "\r",
      " 67%|█████████████████████████▍            | 1098/1641 [03:01<19:12,  2.12s/it]"
     ]
    },
    {
     "name": "stdout",
     "output_type": "stream",
     "text": [
      "now in row:  1098\n"
     ]
    },
    {
     "name": "stderr",
     "output_type": "stream",
     "text": [
      "\r",
      " 67%|█████████████████████████▍            | 1099/1641 [03:02<16:08,  1.79s/it]"
     ]
    },
    {
     "name": "stdout",
     "output_type": "stream",
     "text": [
      "now in row:  1099\n"
     ]
    },
    {
     "name": "stderr",
     "output_type": "stream",
     "text": [
      "\r",
      " 67%|█████████████████████████▍            | 1100/1641 [03:04<16:40,  1.85s/it]"
     ]
    },
    {
     "name": "stdout",
     "output_type": "stream",
     "text": [
      "now in row:  1100\n"
     ]
    },
    {
     "name": "stderr",
     "output_type": "stream",
     "text": [
      "\r",
      " 67%|█████████████████████████▍            | 1101/1641 [03:06<16:36,  1.85s/it]"
     ]
    },
    {
     "name": "stdout",
     "output_type": "stream",
     "text": [
      "now in row:  1101\n"
     ]
    },
    {
     "name": "stderr",
     "output_type": "stream",
     "text": [
      "\r",
      " 67%|█████████████████████████▌            | 1102/1641 [03:09<19:16,  2.15s/it]"
     ]
    },
    {
     "name": "stdout",
     "output_type": "stream",
     "text": [
      "now in row:  1102\n"
     ]
    },
    {
     "name": "stderr",
     "output_type": "stream",
     "text": [
      "\r",
      " 67%|█████████████████████████▌            | 1103/1641 [03:10<15:49,  1.77s/it]"
     ]
    },
    {
     "name": "stdout",
     "output_type": "stream",
     "text": [
      "now in row:  1103\n"
     ]
    },
    {
     "name": "stderr",
     "output_type": "stream",
     "text": [
      "\r",
      " 67%|█████████████████████████▌            | 1104/1641 [03:12<16:11,  1.81s/it]"
     ]
    },
    {
     "name": "stdout",
     "output_type": "stream",
     "text": [
      "now in row:  1104\n"
     ]
    },
    {
     "name": "stderr",
     "output_type": "stream",
     "text": [
      "\r",
      " 67%|█████████████████████████▌            | 1105/1641 [03:14<16:22,  1.83s/it]"
     ]
    },
    {
     "name": "stdout",
     "output_type": "stream",
     "text": [
      "now in row:  1105\n"
     ]
    },
    {
     "name": "stderr",
     "output_type": "stream",
     "text": [
      "\r",
      " 67%|█████████████████████████▌            | 1106/1641 [03:16<16:16,  1.83s/it]"
     ]
    },
    {
     "name": "stdout",
     "output_type": "stream",
     "text": [
      "now in row:  1106\n"
     ]
    },
    {
     "name": "stderr",
     "output_type": "stream",
     "text": [
      "\r",
      " 67%|█████████████████████████▋            | 1107/1641 [03:17<16:07,  1.81s/it]"
     ]
    },
    {
     "name": "stdout",
     "output_type": "stream",
     "text": [
      "now in row:  1107\n"
     ]
    },
    {
     "name": "stderr",
     "output_type": "stream",
     "text": [
      "\r",
      " 68%|█████████████████████████▋            | 1108/1641 [03:19<16:08,  1.82s/it]"
     ]
    },
    {
     "name": "stdout",
     "output_type": "stream",
     "text": [
      "now in row:  1108\n"
     ]
    },
    {
     "name": "stderr",
     "output_type": "stream",
     "text": [
      "\r",
      " 68%|█████████████████████████▋            | 1109/1641 [03:20<13:34,  1.53s/it]"
     ]
    },
    {
     "name": "stdout",
     "output_type": "stream",
     "text": [
      "now in row:  1109\n"
     ]
    },
    {
     "name": "stderr",
     "output_type": "stream",
     "text": [
      "\r",
      " 68%|█████████████████████████▋            | 1110/1641 [03:21<12:07,  1.37s/it]"
     ]
    },
    {
     "name": "stdout",
     "output_type": "stream",
     "text": [
      "now in row:  1110\n"
     ]
    },
    {
     "name": "stderr",
     "output_type": "stream",
     "text": [
      "\r",
      " 68%|█████████████████████████▋            | 1111/1641 [03:22<10:41,  1.21s/it]"
     ]
    },
    {
     "name": "stdout",
     "output_type": "stream",
     "text": [
      "now in row:  1111\n"
     ]
    },
    {
     "name": "stderr",
     "output_type": "stream",
     "text": [
      "\r",
      " 68%|█████████████████████████▊            | 1112/1641 [03:23<09:41,  1.10s/it]"
     ]
    },
    {
     "name": "stdout",
     "output_type": "stream",
     "text": [
      "now in row:  1112\n"
     ]
    },
    {
     "name": "stderr",
     "output_type": "stream",
     "text": [
      "\r",
      " 68%|█████████████████████████▊            | 1113/1641 [03:25<13:25,  1.53s/it]"
     ]
    },
    {
     "name": "stdout",
     "output_type": "stream",
     "text": [
      "now in row:  1113\n"
     ]
    },
    {
     "name": "stderr",
     "output_type": "stream",
     "text": [
      "\r",
      " 68%|█████████████████████████▊            | 1114/1641 [03:32<26:08,  2.98s/it]"
     ]
    },
    {
     "name": "stdout",
     "output_type": "stream",
     "text": [
      "now in row:  1114\n"
     ]
    },
    {
     "name": "stderr",
     "output_type": "stream",
     "text": [
      "\r",
      " 68%|█████████████████████████▊            | 1115/1641 [03:33<20:44,  2.37s/it]"
     ]
    },
    {
     "name": "stdout",
     "output_type": "stream",
     "text": [
      "now in row:  1115\n"
     ]
    },
    {
     "name": "stderr",
     "output_type": "stream",
     "text": [
      "\r",
      " 68%|█████████████████████████▊            | 1116/1641 [03:34<17:18,  1.98s/it]"
     ]
    },
    {
     "name": "stdout",
     "output_type": "stream",
     "text": [
      "now in row:  1116\n"
     ]
    },
    {
     "name": "stderr",
     "output_type": "stream",
     "text": [
      "\r",
      " 68%|█████████████████████████▊            | 1117/1641 [03:40<28:58,  3.32s/it]"
     ]
    },
    {
     "name": "stdout",
     "output_type": "stream",
     "text": [
      "now in row:  1117\n"
     ]
    },
    {
     "name": "stderr",
     "output_type": "stream",
     "text": [
      "\r",
      " 68%|█████████████████████████▉            | 1118/1641 [03:42<24:09,  2.77s/it]"
     ]
    },
    {
     "name": "stdout",
     "output_type": "stream",
     "text": [
      "now in row:  1118\n"
     ]
    },
    {
     "name": "stderr",
     "output_type": "stream",
     "text": [
      "\r",
      " 68%|█████████████████████████▉            | 1119/1641 [03:42<19:01,  2.19s/it]"
     ]
    },
    {
     "name": "stdout",
     "output_type": "stream",
     "text": [
      "now in row:  1119\n"
     ]
    },
    {
     "name": "stderr",
     "output_type": "stream",
     "text": [
      "\r",
      " 68%|█████████████████████████▉            | 1120/1641 [03:44<17:33,  2.02s/it]"
     ]
    },
    {
     "name": "stdout",
     "output_type": "stream",
     "text": [
      "now in row:  1120\n"
     ]
    },
    {
     "name": "stderr",
     "output_type": "stream",
     "text": [
      "\r",
      " 68%|█████████████████████████▉            | 1121/1641 [03:45<14:31,  1.68s/it]"
     ]
    },
    {
     "name": "stdout",
     "output_type": "stream",
     "text": [
      "now in row:  1121\n"
     ]
    },
    {
     "name": "stderr",
     "output_type": "stream",
     "text": [
      "\r",
      " 68%|█████████████████████████▉            | 1122/1641 [03:46<13:13,  1.53s/it]"
     ]
    },
    {
     "name": "stdout",
     "output_type": "stream",
     "text": [
      "now in row:  1122\n"
     ]
    },
    {
     "name": "stderr",
     "output_type": "stream",
     "text": [
      "\r",
      " 68%|██████████████████████████            | 1123/1641 [03:47<11:28,  1.33s/it]"
     ]
    },
    {
     "name": "stdout",
     "output_type": "stream",
     "text": [
      "now in row:  1123\n"
     ]
    },
    {
     "name": "stderr",
     "output_type": "stream",
     "text": [
      "\r",
      " 68%|██████████████████████████            | 1124/1641 [03:48<10:27,  1.21s/it]"
     ]
    },
    {
     "name": "stdout",
     "output_type": "stream",
     "text": [
      "now in row:  1124\n"
     ]
    },
    {
     "name": "stderr",
     "output_type": "stream",
     "text": [
      "\r",
      " 69%|██████████████████████████            | 1125/1641 [03:49<09:47,  1.14s/it]"
     ]
    },
    {
     "name": "stdout",
     "output_type": "stream",
     "text": [
      "now in row:  1125\n"
     ]
    },
    {
     "name": "stderr",
     "output_type": "stream",
     "text": [
      "\r",
      " 69%|██████████████████████████            | 1126/1641 [03:51<11:17,  1.32s/it]"
     ]
    },
    {
     "name": "stdout",
     "output_type": "stream",
     "text": [
      "now in row:  1126\n"
     ]
    },
    {
     "name": "stderr",
     "output_type": "stream",
     "text": [
      "\r",
      " 69%|██████████████████████████            | 1127/1641 [03:52<10:30,  1.23s/it]"
     ]
    },
    {
     "name": "stdout",
     "output_type": "stream",
     "text": [
      "now in row:  1127\n"
     ]
    },
    {
     "name": "stderr",
     "output_type": "stream",
     "text": [
      "\r",
      " 69%|██████████████████████████            | 1128/1641 [03:56<17:34,  2.06s/it]"
     ]
    },
    {
     "name": "stdout",
     "output_type": "stream",
     "text": [
      "now in row:  1128\n"
     ]
    },
    {
     "name": "stderr",
     "output_type": "stream",
     "text": [
      "\r",
      " 69%|██████████████████████████▏           | 1129/1641 [03:57<15:43,  1.84s/it]"
     ]
    },
    {
     "name": "stdout",
     "output_type": "stream",
     "text": [
      "now in row:  1129\n"
     ]
    },
    {
     "name": "stderr",
     "output_type": "stream",
     "text": [
      "\r",
      " 69%|██████████████████████████▏           | 1130/1641 [03:58<13:27,  1.58s/it]"
     ]
    },
    {
     "name": "stdout",
     "output_type": "stream",
     "text": [
      "now in row:  1130\n"
     ]
    },
    {
     "name": "stderr",
     "output_type": "stream",
     "text": [
      "\r",
      " 69%|██████████████████████████▏           | 1131/1641 [04:00<13:56,  1.64s/it]"
     ]
    },
    {
     "name": "stdout",
     "output_type": "stream",
     "text": [
      "now in row:  1131\n"
     ]
    },
    {
     "name": "stderr",
     "output_type": "stream",
     "text": [
      "\r",
      " 69%|██████████████████████████▏           | 1132/1641 [04:01<12:20,  1.45s/it]"
     ]
    },
    {
     "name": "stdout",
     "output_type": "stream",
     "text": [
      "now in row:  1132\n"
     ]
    },
    {
     "name": "stderr",
     "output_type": "stream",
     "text": [
      "\r",
      " 69%|██████████████████████████▏           | 1133/1641 [04:02<10:46,  1.27s/it]"
     ]
    },
    {
     "name": "stdout",
     "output_type": "stream",
     "text": [
      "now in row:  1133\n"
     ]
    },
    {
     "name": "stderr",
     "output_type": "stream",
     "text": [
      "\r",
      " 69%|██████████████████████████▎           | 1134/1641 [04:04<14:18,  1.69s/it]"
     ]
    },
    {
     "name": "stdout",
     "output_type": "stream",
     "text": [
      "now in row:  1134\n"
     ]
    },
    {
     "name": "stderr",
     "output_type": "stream",
     "text": [
      "\r",
      " 69%|██████████████████████████▎           | 1135/1641 [04:05<12:08,  1.44s/it]"
     ]
    },
    {
     "name": "stdout",
     "output_type": "stream",
     "text": [
      "now in row:  1135\n"
     ]
    },
    {
     "name": "stderr",
     "output_type": "stream",
     "text": [
      "\r",
      " 69%|██████████████████████████▎           | 1136/1641 [04:06<10:36,  1.26s/it]"
     ]
    },
    {
     "name": "stdout",
     "output_type": "stream",
     "text": [
      "now in row:  1136\n"
     ]
    },
    {
     "name": "stderr",
     "output_type": "stream",
     "text": [
      "\r",
      " 69%|██████████████████████████▎           | 1137/1641 [04:07<09:37,  1.15s/it]"
     ]
    },
    {
     "name": "stdout",
     "output_type": "stream",
     "text": [
      "now in row:  1137\n"
     ]
    },
    {
     "name": "stderr",
     "output_type": "stream",
     "text": [
      "\r",
      " 69%|██████████████████████████▎           | 1138/1641 [04:08<09:52,  1.18s/it]"
     ]
    },
    {
     "name": "stdout",
     "output_type": "stream",
     "text": [
      "now in row:  1138\n"
     ]
    },
    {
     "name": "stderr",
     "output_type": "stream",
     "text": [
      "\r",
      " 69%|██████████████████████████▍           | 1139/1641 [04:13<18:12,  2.18s/it]"
     ]
    },
    {
     "name": "stdout",
     "output_type": "stream",
     "text": [
      "now in row:  1139\n"
     ]
    },
    {
     "name": "stderr",
     "output_type": "stream",
     "text": [
      "\r",
      " 69%|██████████████████████████▍           | 1140/1641 [04:13<14:57,  1.79s/it]"
     ]
    },
    {
     "name": "stdout",
     "output_type": "stream",
     "text": [
      "now in row:  1140\n"
     ]
    },
    {
     "name": "stderr",
     "output_type": "stream",
     "text": [
      "\r",
      " 70%|██████████████████████████▍           | 1141/1641 [04:14<12:39,  1.52s/it]"
     ]
    },
    {
     "name": "stdout",
     "output_type": "stream",
     "text": [
      "now in row:  1141\n"
     ]
    },
    {
     "name": "stderr",
     "output_type": "stream",
     "text": [
      "\r",
      " 70%|██████████████████████████▍           | 1142/1641 [04:15<11:44,  1.41s/it]"
     ]
    },
    {
     "name": "stdout",
     "output_type": "stream",
     "text": [
      "now in row:  1142\n"
     ]
    },
    {
     "name": "stderr",
     "output_type": "stream",
     "text": [
      "\r",
      " 70%|██████████████████████████▍           | 1143/1641 [04:17<11:41,  1.41s/it]"
     ]
    },
    {
     "name": "stdout",
     "output_type": "stream",
     "text": [
      "now in row:  1143\n"
     ]
    },
    {
     "name": "stderr",
     "output_type": "stream",
     "text": [
      "\r",
      " 70%|██████████████████████████▍           | 1144/1641 [04:18<10:23,  1.25s/it]"
     ]
    },
    {
     "name": "stdout",
     "output_type": "stream",
     "text": [
      "now in row:  1144\n"
     ]
    },
    {
     "name": "stderr",
     "output_type": "stream",
     "text": [
      "\r",
      " 70%|██████████████████████████▌           | 1145/1641 [04:19<09:37,  1.16s/it]"
     ]
    },
    {
     "name": "stdout",
     "output_type": "stream",
     "text": [
      "now in row:  1145\n"
     ]
    },
    {
     "name": "stderr",
     "output_type": "stream",
     "text": [
      "\r",
      " 70%|██████████████████████████▌           | 1146/1641 [04:24<19:52,  2.41s/it]"
     ]
    },
    {
     "name": "stdout",
     "output_type": "stream",
     "text": [
      "now in row:  1146\n"
     ]
    },
    {
     "name": "stderr",
     "output_type": "stream",
     "text": [
      "\r",
      " 70%|██████████████████████████▌           | 1147/1641 [04:25<16:08,  1.96s/it]"
     ]
    },
    {
     "name": "stdout",
     "output_type": "stream",
     "text": [
      "now in row:  1147\n"
     ]
    },
    {
     "name": "stderr",
     "output_type": "stream",
     "text": [
      "\r",
      " 70%|██████████████████████████▌           | 1148/1641 [04:26<13:08,  1.60s/it]"
     ]
    },
    {
     "name": "stdout",
     "output_type": "stream",
     "text": [
      "now in row:  1148\n"
     ]
    },
    {
     "name": "stderr",
     "output_type": "stream",
     "text": [
      "\r",
      " 70%|██████████████████████████▌           | 1149/1641 [04:26<11:06,  1.36s/it]"
     ]
    },
    {
     "name": "stdout",
     "output_type": "stream",
     "text": [
      "now in row:  1149\n"
     ]
    },
    {
     "name": "stderr",
     "output_type": "stream",
     "text": [
      "\r",
      " 70%|██████████████████████████▋           | 1150/1641 [04:27<09:39,  1.18s/it]"
     ]
    },
    {
     "name": "stdout",
     "output_type": "stream",
     "text": [
      "now in row:  1150\n"
     ]
    },
    {
     "name": "stderr",
     "output_type": "stream",
     "text": [
      "\r",
      " 70%|██████████████████████████▋           | 1151/1641 [04:28<08:50,  1.08s/it]"
     ]
    },
    {
     "name": "stdout",
     "output_type": "stream",
     "text": [
      "now in row:  1151\n"
     ]
    },
    {
     "name": "stderr",
     "output_type": "stream",
     "text": [
      "\r",
      " 70%|██████████████████████████▋           | 1152/1641 [04:29<08:14,  1.01s/it]"
     ]
    },
    {
     "name": "stdout",
     "output_type": "stream",
     "text": [
      "now in row:  1152\n"
     ]
    },
    {
     "name": "stderr",
     "output_type": "stream",
     "text": [
      "\r",
      " 70%|██████████████████████████▋           | 1153/1641 [04:30<07:44,  1.05it/s]"
     ]
    },
    {
     "name": "stdout",
     "output_type": "stream",
     "text": [
      "now in row:  1153\n"
     ]
    },
    {
     "name": "stderr",
     "output_type": "stream",
     "text": [
      "\r",
      " 70%|██████████████████████████▋           | 1154/1641 [04:31<07:20,  1.11it/s]"
     ]
    },
    {
     "name": "stdout",
     "output_type": "stream",
     "text": [
      "now in row:  1154\n"
     ]
    },
    {
     "name": "stderr",
     "output_type": "stream",
     "text": [
      "\r",
      " 70%|██████████████████████████▋           | 1155/1641 [04:31<07:12,  1.12it/s]"
     ]
    },
    {
     "name": "stdout",
     "output_type": "stream",
     "text": [
      "now in row:  1155\n"
     ]
    },
    {
     "name": "stderr",
     "output_type": "stream",
     "text": [
      "\r",
      " 70%|██████████████████████████▊           | 1156/1641 [04:32<07:28,  1.08it/s]"
     ]
    },
    {
     "name": "stdout",
     "output_type": "stream",
     "text": [
      "now in row:  1156\n"
     ]
    },
    {
     "name": "stderr",
     "output_type": "stream",
     "text": [
      "\r",
      " 71%|██████████████████████████▊           | 1157/1641 [04:33<07:28,  1.08it/s]"
     ]
    },
    {
     "name": "stdout",
     "output_type": "stream",
     "text": [
      "now in row:  1157\n"
     ]
    },
    {
     "name": "stderr",
     "output_type": "stream",
     "text": [
      "\r",
      " 71%|██████████████████████████▊           | 1158/1641 [04:34<07:06,  1.13it/s]"
     ]
    },
    {
     "name": "stdout",
     "output_type": "stream",
     "text": [
      "now in row:  1158\n"
     ]
    },
    {
     "name": "stderr",
     "output_type": "stream",
     "text": [
      "\r",
      " 71%|██████████████████████████▊           | 1159/1641 [04:37<10:48,  1.34s/it]"
     ]
    },
    {
     "name": "stdout",
     "output_type": "stream",
     "text": [
      "now in row:  1159\n"
     ]
    },
    {
     "name": "stderr",
     "output_type": "stream",
     "text": [
      "\r",
      " 71%|██████████████████████████▊           | 1160/1641 [04:37<09:36,  1.20s/it]"
     ]
    },
    {
     "name": "stdout",
     "output_type": "stream",
     "text": [
      "now in row:  1160\n"
     ]
    },
    {
     "name": "stderr",
     "output_type": "stream",
     "text": [
      "\r",
      " 71%|██████████████████████████▉           | 1161/1641 [04:39<10:41,  1.34s/it]"
     ]
    },
    {
     "name": "stdout",
     "output_type": "stream",
     "text": [
      "now in row:  1161\n"
     ]
    },
    {
     "name": "stderr",
     "output_type": "stream",
     "text": [
      "\r",
      " 71%|██████████████████████████▉           | 1162/1641 [04:40<09:13,  1.16s/it]"
     ]
    },
    {
     "name": "stdout",
     "output_type": "stream",
     "text": [
      "now in row:  1162\n"
     ]
    },
    {
     "name": "stderr",
     "output_type": "stream",
     "text": [
      "\r",
      " 71%|██████████████████████████▉           | 1163/1641 [04:41<08:38,  1.09s/it]"
     ]
    },
    {
     "name": "stdout",
     "output_type": "stream",
     "text": [
      "now in row:  1163\n"
     ]
    },
    {
     "name": "stderr",
     "output_type": "stream",
     "text": [
      "\r",
      " 71%|██████████████████████████▉           | 1164/1641 [04:42<09:29,  1.19s/it]"
     ]
    },
    {
     "name": "stdout",
     "output_type": "stream",
     "text": [
      "now in row:  1164\n"
     ]
    },
    {
     "name": "stderr",
     "output_type": "stream",
     "text": [
      "\r",
      " 71%|██████████████████████████▉           | 1165/1641 [04:43<09:38,  1.22s/it]"
     ]
    },
    {
     "name": "stdout",
     "output_type": "stream",
     "text": [
      "now in row:  1165\n"
     ]
    },
    {
     "name": "stderr",
     "output_type": "stream",
     "text": [
      "\r",
      " 71%|███████████████████████████           | 1166/1641 [04:45<09:26,  1.19s/it]"
     ]
    },
    {
     "name": "stdout",
     "output_type": "stream",
     "text": [
      "now in row:  1166\n"
     ]
    },
    {
     "name": "stderr",
     "output_type": "stream",
     "text": [
      "\r",
      " 71%|███████████████████████████           | 1167/1641 [04:46<09:13,  1.17s/it]"
     ]
    },
    {
     "name": "stdout",
     "output_type": "stream",
     "text": [
      "now in row:  1167\n"
     ]
    },
    {
     "name": "stderr",
     "output_type": "stream",
     "text": [
      "\r",
      " 71%|███████████████████████████           | 1168/1641 [04:47<08:33,  1.09s/it]"
     ]
    },
    {
     "name": "stdout",
     "output_type": "stream",
     "text": [
      "now in row:  1168\n"
     ]
    },
    {
     "name": "stderr",
     "output_type": "stream",
     "text": [
      "\r",
      " 71%|███████████████████████████           | 1169/1641 [04:49<10:59,  1.40s/it]"
     ]
    },
    {
     "name": "stdout",
     "output_type": "stream",
     "text": [
      "now in row:  1169\n"
     ]
    },
    {
     "name": "stderr",
     "output_type": "stream",
     "text": [
      "\r",
      " 71%|███████████████████████████           | 1170/1641 [04:49<09:24,  1.20s/it]"
     ]
    },
    {
     "name": "stdout",
     "output_type": "stream",
     "text": [
      "now in row:  1170\n"
     ]
    },
    {
     "name": "stderr",
     "output_type": "stream",
     "text": [
      "\r",
      " 71%|███████████████████████████           | 1171/1641 [04:50<08:37,  1.10s/it]"
     ]
    },
    {
     "name": "stdout",
     "output_type": "stream",
     "text": [
      "now in row:  1171\n"
     ]
    },
    {
     "name": "stderr",
     "output_type": "stream",
     "text": [
      "\r",
      " 71%|███████████████████████████▏          | 1172/1641 [04:51<08:22,  1.07s/it]"
     ]
    },
    {
     "name": "stdout",
     "output_type": "stream",
     "text": [
      "now in row:  1172\n"
     ]
    },
    {
     "name": "stderr",
     "output_type": "stream",
     "text": [
      "\r",
      " 71%|███████████████████████████▏          | 1173/1641 [04:52<07:52,  1.01s/it]"
     ]
    },
    {
     "name": "stdout",
     "output_type": "stream",
     "text": [
      "now in row:  1173\n"
     ]
    },
    {
     "name": "stderr",
     "output_type": "stream",
     "text": [
      "\r",
      " 72%|███████████████████████████▏          | 1174/1641 [04:53<07:30,  1.04it/s]"
     ]
    },
    {
     "name": "stdout",
     "output_type": "stream",
     "text": [
      "now in row:  1174\n"
     ]
    },
    {
     "name": "stderr",
     "output_type": "stream",
     "text": [
      "\r",
      " 72%|███████████████████████████▏          | 1175/1641 [04:58<17:25,  2.24s/it]"
     ]
    },
    {
     "name": "stdout",
     "output_type": "stream",
     "text": [
      "now in row:  1175\n"
     ]
    },
    {
     "name": "stderr",
     "output_type": "stream",
     "text": [
      "\r",
      " 72%|███████████████████████████▏          | 1176/1641 [04:59<14:01,  1.81s/it]"
     ]
    },
    {
     "name": "stdout",
     "output_type": "stream",
     "text": [
      "now in row:  1176\n"
     ]
    },
    {
     "name": "stderr",
     "output_type": "stream",
     "text": [
      "\r",
      " 72%|███████████████████████████▎          | 1177/1641 [05:00<11:36,  1.50s/it]"
     ]
    },
    {
     "name": "stdout",
     "output_type": "stream",
     "text": [
      "now in row:  1177\n"
     ]
    },
    {
     "name": "stderr",
     "output_type": "stream",
     "text": [
      "\r",
      " 72%|███████████████████████████▎          | 1178/1641 [05:01<10:02,  1.30s/it]"
     ]
    },
    {
     "name": "stdout",
     "output_type": "stream",
     "text": [
      "now in row:  1178\n"
     ]
    },
    {
     "name": "stderr",
     "output_type": "stream",
     "text": [
      "\r",
      " 72%|███████████████████████████▎          | 1179/1641 [05:04<14:20,  1.86s/it]"
     ]
    },
    {
     "name": "stdout",
     "output_type": "stream",
     "text": [
      "now in row:  1179\n"
     ]
    },
    {
     "name": "stderr",
     "output_type": "stream",
     "text": [
      "\r",
      " 72%|███████████████████████████▎          | 1180/1641 [05:05<12:04,  1.57s/it]"
     ]
    },
    {
     "name": "stdout",
     "output_type": "stream",
     "text": [
      "now in row:  1180\n"
     ]
    },
    {
     "name": "stderr",
     "output_type": "stream",
     "text": [
      "\r",
      " 72%|███████████████████████████▎          | 1181/1641 [05:06<11:51,  1.55s/it]"
     ]
    },
    {
     "name": "stdout",
     "output_type": "stream",
     "text": [
      "now in row:  1181\n"
     ]
    },
    {
     "name": "stderr",
     "output_type": "stream",
     "text": [
      "\r",
      " 72%|███████████████████████████▎          | 1182/1641 [05:07<10:23,  1.36s/it]"
     ]
    },
    {
     "name": "stdout",
     "output_type": "stream",
     "text": [
      "now in row:  1182\n"
     ]
    },
    {
     "name": "stderr",
     "output_type": "stream",
     "text": [
      "\r",
      " 72%|███████████████████████████▍          | 1183/1641 [05:08<09:16,  1.22s/it]"
     ]
    },
    {
     "name": "stdout",
     "output_type": "stream",
     "text": [
      "now in row:  1183\n"
     ]
    },
    {
     "name": "stderr",
     "output_type": "stream",
     "text": [
      "\r",
      " 72%|███████████████████████████▍          | 1184/1641 [05:09<08:08,  1.07s/it]"
     ]
    },
    {
     "name": "stdout",
     "output_type": "stream",
     "text": [
      "now in row:  1184\n"
     ]
    },
    {
     "name": "stderr",
     "output_type": "stream",
     "text": [
      "\r",
      " 72%|███████████████████████████▍          | 1185/1641 [05:13<15:03,  1.98s/it]"
     ]
    },
    {
     "name": "stdout",
     "output_type": "stream",
     "text": [
      "now in row:  1185\n"
     ]
    },
    {
     "name": "stderr",
     "output_type": "stream",
     "text": [
      "\r",
      " 72%|███████████████████████████▍          | 1186/1641 [05:14<12:32,  1.65s/it]"
     ]
    },
    {
     "name": "stdout",
     "output_type": "stream",
     "text": [
      "now in row:  1186\n"
     ]
    },
    {
     "name": "stderr",
     "output_type": "stream",
     "text": [
      "\r",
      " 72%|███████████████████████████▍          | 1187/1641 [05:17<15:06,  2.00s/it]"
     ]
    },
    {
     "name": "stdout",
     "output_type": "stream",
     "text": [
      "now in row:  1187\n"
     ]
    },
    {
     "name": "stderr",
     "output_type": "stream",
     "text": [
      "\r",
      " 72%|███████████████████████████▌          | 1188/1641 [05:18<14:51,  1.97s/it]"
     ]
    },
    {
     "name": "stdout",
     "output_type": "stream",
     "text": [
      "now in row:  1188\n"
     ]
    },
    {
     "name": "stderr",
     "output_type": "stream",
     "text": [
      "\r",
      " 72%|███████████████████████████▌          | 1189/1641 [05:20<14:24,  1.91s/it]"
     ]
    },
    {
     "name": "stdout",
     "output_type": "stream",
     "text": [
      "now in row:  1189\n"
     ]
    },
    {
     "name": "stderr",
     "output_type": "stream",
     "text": [
      "\r",
      " 73%|███████████████████████████▌          | 1190/1641 [05:22<14:07,  1.88s/it]"
     ]
    },
    {
     "name": "stdout",
     "output_type": "stream",
     "text": [
      "now in row:  1190\n"
     ]
    },
    {
     "name": "stderr",
     "output_type": "stream",
     "text": [
      "\r",
      " 73%|███████████████████████████▌          | 1191/1641 [05:23<12:09,  1.62s/it]"
     ]
    },
    {
     "name": "stdout",
     "output_type": "stream",
     "text": [
      "now in row:  1191\n"
     ]
    },
    {
     "name": "stderr",
     "output_type": "stream",
     "text": [
      "\r",
      " 73%|███████████████████████████▌          | 1192/1641 [05:24<10:41,  1.43s/it]"
     ]
    },
    {
     "name": "stdout",
     "output_type": "stream",
     "text": [
      "now in row:  1192\n"
     ]
    },
    {
     "name": "stderr",
     "output_type": "stream",
     "text": [
      "\r",
      " 73%|███████████████████████████▋          | 1193/1641 [05:25<09:13,  1.24s/it]"
     ]
    },
    {
     "name": "stdout",
     "output_type": "stream",
     "text": [
      "now in row:  1193\n"
     ]
    },
    {
     "name": "stderr",
     "output_type": "stream",
     "text": [
      "\r",
      " 73%|███████████████████████████▋          | 1194/1641 [05:27<11:31,  1.55s/it]"
     ]
    },
    {
     "name": "stdout",
     "output_type": "stream",
     "text": [
      "now in row:  1194\n"
     ]
    },
    {
     "name": "stderr",
     "output_type": "stream",
     "text": [
      "\r",
      " 73%|███████████████████████████▋          | 1195/1641 [05:29<12:39,  1.70s/it]"
     ]
    },
    {
     "name": "stdout",
     "output_type": "stream",
     "text": [
      "now in row:  1195\n"
     ]
    },
    {
     "name": "stderr",
     "output_type": "stream",
     "text": [
      "\r",
      " 73%|███████████████████████████▋          | 1196/1641 [05:30<10:34,  1.43s/it]"
     ]
    },
    {
     "name": "stdout",
     "output_type": "stream",
     "text": [
      "now in row:  1196\n"
     ]
    },
    {
     "name": "stderr",
     "output_type": "stream",
     "text": [
      "\r",
      " 73%|███████████████████████████▋          | 1197/1641 [05:32<10:59,  1.49s/it]"
     ]
    },
    {
     "name": "stdout",
     "output_type": "stream",
     "text": [
      "now in row:  1197\n"
     ]
    },
    {
     "name": "stderr",
     "output_type": "stream",
     "text": [
      "\r",
      " 73%|███████████████████████████▋          | 1198/1641 [05:34<12:08,  1.64s/it]"
     ]
    },
    {
     "name": "stdout",
     "output_type": "stream",
     "text": [
      "now in row:  1198\n"
     ]
    },
    {
     "name": "stderr",
     "output_type": "stream",
     "text": [
      "\r",
      " 73%|███████████████████████████▊          | 1199/1641 [05:35<12:16,  1.67s/it]"
     ]
    },
    {
     "name": "stdout",
     "output_type": "stream",
     "text": [
      "now in row:  1199\n"
     ]
    },
    {
     "name": "stderr",
     "output_type": "stream",
     "text": [
      "\r",
      " 73%|███████████████████████████▊          | 1200/1641 [05:36<10:11,  1.39s/it]"
     ]
    },
    {
     "name": "stdout",
     "output_type": "stream",
     "text": [
      "now in row:  1200\n"
     ]
    },
    {
     "name": "stderr",
     "output_type": "stream",
     "text": [
      "\r",
      " 73%|███████████████████████████▊          | 1201/1641 [05:38<10:46,  1.47s/it]"
     ]
    },
    {
     "name": "stdout",
     "output_type": "stream",
     "text": [
      "now in row:  1201\n"
     ]
    },
    {
     "name": "stderr",
     "output_type": "stream",
     "text": [
      "\r",
      " 73%|███████████████████████████▊          | 1202/1641 [05:40<11:31,  1.58s/it]"
     ]
    },
    {
     "name": "stdout",
     "output_type": "stream",
     "text": [
      "now in row:  1202\n"
     ]
    },
    {
     "name": "stderr",
     "output_type": "stream",
     "text": [
      "\r",
      " 73%|███████████████████████████▊          | 1203/1641 [05:40<09:59,  1.37s/it]"
     ]
    },
    {
     "name": "stdout",
     "output_type": "stream",
     "text": [
      "now in row:  1203\n"
     ]
    },
    {
     "name": "stderr",
     "output_type": "stream",
     "text": [
      "\r",
      " 73%|███████████████████████████▉          | 1204/1641 [05:41<08:46,  1.21s/it]"
     ]
    },
    {
     "name": "stdout",
     "output_type": "stream",
     "text": [
      "now in row:  1204\n"
     ]
    },
    {
     "name": "stderr",
     "output_type": "stream",
     "text": [
      "\r",
      " 73%|███████████████████████████▉          | 1205/1641 [05:42<08:02,  1.11s/it]"
     ]
    },
    {
     "name": "stdout",
     "output_type": "stream",
     "text": [
      "now in row:  1205\n"
     ]
    },
    {
     "name": "stderr",
     "output_type": "stream",
     "text": [
      "\r",
      " 73%|███████████████████████████▉          | 1206/1641 [05:43<07:21,  1.02s/it]"
     ]
    },
    {
     "name": "stdout",
     "output_type": "stream",
     "text": [
      "now in row:  1206\n"
     ]
    },
    {
     "name": "stderr",
     "output_type": "stream",
     "text": [
      "\r",
      " 74%|███████████████████████████▉          | 1207/1641 [05:45<09:14,  1.28s/it]"
     ]
    },
    {
     "name": "stdout",
     "output_type": "stream",
     "text": [
      "now in row:  1207\n"
     ]
    },
    {
     "name": "stderr",
     "output_type": "stream",
     "text": [
      "\r",
      " 74%|███████████████████████████▉          | 1208/1641 [05:47<10:16,  1.42s/it]"
     ]
    },
    {
     "name": "stdout",
     "output_type": "stream",
     "text": [
      "now in row:  1208\n"
     ]
    },
    {
     "name": "stderr",
     "output_type": "stream",
     "text": [
      "\r",
      " 74%|███████████████████████████▉          | 1209/1641 [05:49<12:53,  1.79s/it]"
     ]
    },
    {
     "name": "stdout",
     "output_type": "stream",
     "text": [
      "now in row:  1209\n"
     ]
    },
    {
     "name": "stderr",
     "output_type": "stream",
     "text": [
      "\r",
      " 74%|████████████████████████████          | 1210/1641 [05:51<12:56,  1.80s/it]"
     ]
    },
    {
     "name": "stdout",
     "output_type": "stream",
     "text": [
      "now in row:  1210\n"
     ]
    },
    {
     "name": "stderr",
     "output_type": "stream",
     "text": [
      "\r",
      " 74%|████████████████████████████          | 1211/1641 [05:53<12:17,  1.72s/it]"
     ]
    },
    {
     "name": "stdout",
     "output_type": "stream",
     "text": [
      "now in row:  1211\n"
     ]
    },
    {
     "name": "stderr",
     "output_type": "stream",
     "text": [
      "\r",
      " 74%|████████████████████████████          | 1212/1641 [05:53<10:21,  1.45s/it]"
     ]
    },
    {
     "name": "stdout",
     "output_type": "stream",
     "text": [
      "now in row:  1212\n"
     ]
    },
    {
     "name": "stderr",
     "output_type": "stream",
     "text": [
      "\r",
      " 74%|████████████████████████████          | 1213/1641 [05:56<13:49,  1.94s/it]"
     ]
    },
    {
     "name": "stdout",
     "output_type": "stream",
     "text": [
      "now in row:  1213\n"
     ]
    },
    {
     "name": "stderr",
     "output_type": "stream",
     "text": [
      "\r",
      " 74%|████████████████████████████          | 1214/1641 [05:57<11:38,  1.64s/it]"
     ]
    },
    {
     "name": "stdout",
     "output_type": "stream",
     "text": [
      "now in row:  1214\n"
     ]
    },
    {
     "name": "stderr",
     "output_type": "stream",
     "text": [
      "\r",
      " 74%|████████████████████████████▏         | 1215/1641 [05:58<09:54,  1.40s/it]"
     ]
    },
    {
     "name": "stdout",
     "output_type": "stream",
     "text": [
      "now in row:  1215\n"
     ]
    },
    {
     "name": "stderr",
     "output_type": "stream",
     "text": [
      "\r",
      " 74%|████████████████████████████▏         | 1216/1641 [05:59<09:01,  1.27s/it]"
     ]
    },
    {
     "name": "stdout",
     "output_type": "stream",
     "text": [
      "now in row:  1216\n"
     ]
    },
    {
     "name": "stderr",
     "output_type": "stream",
     "text": [
      "\r",
      " 74%|████████████████████████████▏         | 1217/1641 [06:00<08:06,  1.15s/it]"
     ]
    },
    {
     "name": "stdout",
     "output_type": "stream",
     "text": [
      "now in row:  1217\n"
     ]
    },
    {
     "name": "stderr",
     "output_type": "stream",
     "text": [
      "\r",
      " 74%|████████████████████████████▏         | 1218/1641 [06:01<07:17,  1.03s/it]"
     ]
    },
    {
     "name": "stdout",
     "output_type": "stream",
     "text": [
      "now in row:  1218\n"
     ]
    },
    {
     "name": "stderr",
     "output_type": "stream",
     "text": [
      "\r",
      " 74%|████████████████████████████▏         | 1219/1641 [06:02<08:10,  1.16s/it]"
     ]
    },
    {
     "name": "stdout",
     "output_type": "stream",
     "text": [
      "now in row:  1219\n"
     ]
    },
    {
     "name": "stderr",
     "output_type": "stream",
     "text": [
      "\r",
      " 74%|████████████████████████████▎         | 1220/1641 [06:03<07:48,  1.11s/it]"
     ]
    },
    {
     "name": "stdout",
     "output_type": "stream",
     "text": [
      "now in row:  1220\n"
     ]
    },
    {
     "name": "stderr",
     "output_type": "stream",
     "text": [
      "\r",
      " 74%|████████████████████████████▎         | 1221/1641 [06:06<11:03,  1.58s/it]"
     ]
    },
    {
     "name": "stdout",
     "output_type": "stream",
     "text": [
      "now in row:  1221\n"
     ]
    },
    {
     "name": "stderr",
     "output_type": "stream",
     "text": [
      "\r",
      " 74%|████████████████████████████▎         | 1222/1641 [06:07<09:25,  1.35s/it]"
     ]
    },
    {
     "name": "stdout",
     "output_type": "stream",
     "text": [
      "now in row:  1222\n"
     ]
    },
    {
     "name": "stderr",
     "output_type": "stream",
     "text": [
      "\r",
      " 75%|████████████████████████████▎         | 1223/1641 [06:08<08:16,  1.19s/it]"
     ]
    },
    {
     "name": "stdout",
     "output_type": "stream",
     "text": [
      "now in row:  1223\n"
     ]
    },
    {
     "name": "stderr",
     "output_type": "stream",
     "text": [
      "\r",
      " 75%|████████████████████████████▎         | 1224/1641 [06:09<08:12,  1.18s/it]"
     ]
    },
    {
     "name": "stdout",
     "output_type": "stream",
     "text": [
      "now in row:  1224\n"
     ]
    },
    {
     "name": "stderr",
     "output_type": "stream",
     "text": [
      "\r",
      " 75%|████████████████████████████▎         | 1225/1641 [06:10<07:44,  1.12s/it]"
     ]
    },
    {
     "name": "stdout",
     "output_type": "stream",
     "text": [
      "now in row:  1225\n"
     ]
    },
    {
     "name": "stderr",
     "output_type": "stream",
     "text": [
      "\r",
      " 75%|████████████████████████████▍         | 1226/1641 [06:11<08:51,  1.28s/it]"
     ]
    },
    {
     "name": "stdout",
     "output_type": "stream",
     "text": [
      "now in row:  1226\n"
     ]
    },
    {
     "name": "stderr",
     "output_type": "stream",
     "text": [
      "\r",
      " 75%|████████████████████████████▍         | 1227/1641 [06:12<08:10,  1.18s/it]"
     ]
    },
    {
     "name": "stdout",
     "output_type": "stream",
     "text": [
      "now in row:  1227\n"
     ]
    },
    {
     "name": "stderr",
     "output_type": "stream",
     "text": [
      "\r",
      " 75%|████████████████████████████▍         | 1228/1641 [06:13<07:28,  1.09s/it]"
     ]
    },
    {
     "name": "stdout",
     "output_type": "stream",
     "text": [
      "now in row:  1228\n"
     ]
    },
    {
     "name": "stderr",
     "output_type": "stream",
     "text": [
      "\r",
      " 75%|████████████████████████████▍         | 1229/1641 [06:14<07:02,  1.03s/it]"
     ]
    },
    {
     "name": "stdout",
     "output_type": "stream",
     "text": [
      "now in row:  1229\n"
     ]
    },
    {
     "name": "stderr",
     "output_type": "stream",
     "text": [
      "\r",
      " 75%|████████████████████████████▍         | 1230/1641 [06:16<08:33,  1.25s/it]"
     ]
    },
    {
     "name": "stdout",
     "output_type": "stream",
     "text": [
      "now in row:  1230\n"
     ]
    },
    {
     "name": "stderr",
     "output_type": "stream",
     "text": [
      "\r",
      " 75%|████████████████████████████▌         | 1231/1641 [06:17<07:37,  1.12s/it]"
     ]
    },
    {
     "name": "stdout",
     "output_type": "stream",
     "text": [
      "now in row:  1231\n"
     ]
    },
    {
     "name": "stderr",
     "output_type": "stream",
     "text": [
      "\r",
      " 75%|████████████████████████████▌         | 1232/1641 [06:18<07:01,  1.03s/it]"
     ]
    },
    {
     "name": "stdout",
     "output_type": "stream",
     "text": [
      "now in row:  1232\n"
     ]
    },
    {
     "name": "stderr",
     "output_type": "stream",
     "text": [
      "\r",
      " 75%|████████████████████████████▌         | 1233/1641 [06:18<06:38,  1.02it/s]"
     ]
    },
    {
     "name": "stdout",
     "output_type": "stream",
     "text": [
      "now in row:  1233\n"
     ]
    },
    {
     "name": "stderr",
     "output_type": "stream",
     "text": [
      "\r",
      " 75%|████████████████████████████▌         | 1234/1641 [06:21<09:48,  1.45s/it]"
     ]
    },
    {
     "name": "stdout",
     "output_type": "stream",
     "text": [
      "now in row:  1234\n"
     ]
    },
    {
     "name": "stderr",
     "output_type": "stream",
     "text": [
      "\r",
      " 75%|████████████████████████████▌         | 1235/1641 [06:22<08:15,  1.22s/it]"
     ]
    },
    {
     "name": "stdout",
     "output_type": "stream",
     "text": [
      "now in row:  1235\n"
     ]
    },
    {
     "name": "stderr",
     "output_type": "stream",
     "text": [
      "\r",
      " 75%|████████████████████████████▌         | 1236/1641 [06:22<07:23,  1.09s/it]"
     ]
    },
    {
     "name": "stdout",
     "output_type": "stream",
     "text": [
      "now in row:  1236\n"
     ]
    },
    {
     "name": "stderr",
     "output_type": "stream",
     "text": [
      "\r",
      " 75%|████████████████████████████▋         | 1237/1641 [06:23<06:37,  1.02it/s]"
     ]
    },
    {
     "name": "stdout",
     "output_type": "stream",
     "text": [
      "now in row:  1237\n"
     ]
    },
    {
     "name": "stderr",
     "output_type": "stream",
     "text": [
      "\r",
      " 75%|████████████████████████████▋         | 1238/1641 [06:24<06:06,  1.10it/s]"
     ]
    },
    {
     "name": "stdout",
     "output_type": "stream",
     "text": [
      "now in row:  1238\n"
     ]
    },
    {
     "name": "stderr",
     "output_type": "stream",
     "text": [
      "\r",
      " 76%|████████████████████████████▋         | 1239/1641 [06:25<05:45,  1.16it/s]"
     ]
    },
    {
     "name": "stdout",
     "output_type": "stream",
     "text": [
      "now in row:  1239\n"
     ]
    },
    {
     "name": "stderr",
     "output_type": "stream",
     "text": [
      "\r",
      " 76%|████████████████████████████▋         | 1240/1641 [06:25<05:25,  1.23it/s]"
     ]
    },
    {
     "name": "stdout",
     "output_type": "stream",
     "text": [
      "now in row:  1240\n"
     ]
    },
    {
     "name": "stderr",
     "output_type": "stream",
     "text": [
      "\r",
      " 76%|████████████████████████████▋         | 1241/1641 [06:26<05:40,  1.18it/s]"
     ]
    },
    {
     "name": "stdout",
     "output_type": "stream",
     "text": [
      "now in row:  1241\n"
     ]
    },
    {
     "name": "stderr",
     "output_type": "stream",
     "text": [
      "\r",
      " 76%|████████████████████████████▊         | 1242/1641 [06:28<06:26,  1.03it/s]"
     ]
    },
    {
     "name": "stdout",
     "output_type": "stream",
     "text": [
      "now in row:  1242\n"
     ]
    },
    {
     "name": "stderr",
     "output_type": "stream",
     "text": [
      "\r",
      " 76%|████████████████████████████▊         | 1243/1641 [06:28<06:11,  1.07it/s]"
     ]
    },
    {
     "name": "stdout",
     "output_type": "stream",
     "text": [
      "now in row:  1243\n"
     ]
    },
    {
     "name": "stderr",
     "output_type": "stream",
     "text": [
      "\r",
      " 76%|████████████████████████████▊         | 1244/1641 [06:29<05:57,  1.11it/s]"
     ]
    },
    {
     "name": "stdout",
     "output_type": "stream",
     "text": [
      "now in row:  1244\n"
     ]
    },
    {
     "name": "stderr",
     "output_type": "stream",
     "text": [
      "\r",
      " 76%|████████████████████████████▊         | 1245/1641 [06:30<06:08,  1.07it/s]"
     ]
    },
    {
     "name": "stdout",
     "output_type": "stream",
     "text": [
      "now in row:  1245\n"
     ]
    },
    {
     "name": "stderr",
     "output_type": "stream",
     "text": [
      "\r",
      " 76%|████████████████████████████▊         | 1246/1641 [06:31<05:51,  1.12it/s]"
     ]
    },
    {
     "name": "stdout",
     "output_type": "stream",
     "text": [
      "now in row:  1246\n"
     ]
    },
    {
     "name": "stderr",
     "output_type": "stream",
     "text": [
      "\r",
      " 76%|████████████████████████████▉         | 1247/1641 [06:32<05:53,  1.11it/s]"
     ]
    },
    {
     "name": "stdout",
     "output_type": "stream",
     "text": [
      "now in row:  1247\n"
     ]
    },
    {
     "name": "stderr",
     "output_type": "stream",
     "text": [
      "\r",
      " 76%|████████████████████████████▉         | 1248/1641 [06:33<06:23,  1.02it/s]"
     ]
    },
    {
     "name": "stdout",
     "output_type": "stream",
     "text": [
      "now in row:  1248\n"
     ]
    },
    {
     "name": "stderr",
     "output_type": "stream",
     "text": [
      "\r",
      " 76%|████████████████████████████▉         | 1249/1641 [06:34<06:16,  1.04it/s]"
     ]
    },
    {
     "name": "stdout",
     "output_type": "stream",
     "text": [
      "now in row:  1249\n"
     ]
    },
    {
     "name": "stderr",
     "output_type": "stream",
     "text": [
      "\r",
      " 76%|████████████████████████████▉         | 1250/1641 [06:35<06:21,  1.03it/s]"
     ]
    },
    {
     "name": "stdout",
     "output_type": "stream",
     "text": [
      "now in row:  1250\n"
     ]
    },
    {
     "name": "stderr",
     "output_type": "stream",
     "text": [
      "\r",
      " 76%|████████████████████████████▉         | 1251/1641 [06:36<06:13,  1.04it/s]"
     ]
    },
    {
     "name": "stdout",
     "output_type": "stream",
     "text": [
      "now in row:  1251\n"
     ]
    },
    {
     "name": "stderr",
     "output_type": "stream",
     "text": [
      "\r",
      " 76%|████████████████████████████▉         | 1252/1641 [06:37<06:38,  1.02s/it]"
     ]
    },
    {
     "name": "stdout",
     "output_type": "stream",
     "text": [
      "now in row:  1252\n"
     ]
    },
    {
     "name": "stderr",
     "output_type": "stream",
     "text": [
      "\r",
      " 76%|█████████████████████████████         | 1253/1641 [06:38<06:16,  1.03it/s]"
     ]
    },
    {
     "name": "stdout",
     "output_type": "stream",
     "text": [
      "now in row:  1253\n"
     ]
    },
    {
     "name": "stderr",
     "output_type": "stream",
     "text": [
      "\r",
      " 76%|█████████████████████████████         | 1254/1641 [06:39<06:19,  1.02it/s]"
     ]
    },
    {
     "name": "stdout",
     "output_type": "stream",
     "text": [
      "now in row:  1254\n"
     ]
    },
    {
     "name": "stderr",
     "output_type": "stream",
     "text": [
      "\r",
      " 76%|█████████████████████████████         | 1255/1641 [06:40<07:01,  1.09s/it]"
     ]
    },
    {
     "name": "stdout",
     "output_type": "stream",
     "text": [
      "now in row:  1255\n"
     ]
    },
    {
     "name": "stderr",
     "output_type": "stream",
     "text": [
      "\r",
      " 77%|█████████████████████████████         | 1256/1641 [06:41<06:26,  1.00s/it]"
     ]
    },
    {
     "name": "stdout",
     "output_type": "stream",
     "text": [
      "now in row:  1256\n"
     ]
    },
    {
     "name": "stderr",
     "output_type": "stream",
     "text": [
      "\r",
      " 77%|█████████████████████████████         | 1257/1641 [06:42<06:04,  1.05it/s]"
     ]
    },
    {
     "name": "stdout",
     "output_type": "stream",
     "text": [
      "now in row:  1257\n"
     ]
    },
    {
     "name": "stderr",
     "output_type": "stream",
     "text": [
      "\r",
      " 77%|█████████████████████████████▏        | 1258/1641 [06:44<08:53,  1.39s/it]"
     ]
    },
    {
     "name": "stdout",
     "output_type": "stream",
     "text": [
      "now in row:  1258\n"
     ]
    },
    {
     "name": "stderr",
     "output_type": "stream",
     "text": [
      "\r",
      " 77%|█████████████████████████████▏        | 1259/1641 [06:46<08:32,  1.34s/it]"
     ]
    },
    {
     "name": "stdout",
     "output_type": "stream",
     "text": [
      "now in row:  1259\n"
     ]
    },
    {
     "name": "stderr",
     "output_type": "stream",
     "text": [
      "\r",
      " 77%|█████████████████████████████▏        | 1260/1641 [06:46<07:40,  1.21s/it]"
     ]
    },
    {
     "name": "stdout",
     "output_type": "stream",
     "text": [
      "now in row:  1260\n"
     ]
    },
    {
     "name": "stderr",
     "output_type": "stream",
     "text": [
      "\r",
      " 77%|█████████████████████████████▏        | 1261/1641 [06:47<06:53,  1.09s/it]"
     ]
    },
    {
     "name": "stdout",
     "output_type": "stream",
     "text": [
      "now in row:  1261\n"
     ]
    },
    {
     "name": "stderr",
     "output_type": "stream",
     "text": [
      "\r",
      " 77%|█████████████████████████████▏        | 1262/1641 [06:48<06:07,  1.03it/s]"
     ]
    },
    {
     "name": "stdout",
     "output_type": "stream",
     "text": [
      "now in row:  1262\n"
     ]
    },
    {
     "name": "stderr",
     "output_type": "stream",
     "text": [
      "\r",
      " 77%|█████████████████████████████▏        | 1263/1641 [06:49<05:41,  1.11it/s]"
     ]
    },
    {
     "name": "stdout",
     "output_type": "stream",
     "text": [
      "now in row:  1263\n"
     ]
    },
    {
     "name": "stderr",
     "output_type": "stream",
     "text": [
      "\r",
      " 77%|█████████████████████████████▎        | 1264/1641 [06:50<05:32,  1.13it/s]"
     ]
    },
    {
     "name": "stdout",
     "output_type": "stream",
     "text": [
      "now in row:  1264\n"
     ]
    },
    {
     "name": "stderr",
     "output_type": "stream",
     "text": [
      "\r",
      " 77%|█████████████████████████████▎        | 1265/1641 [06:50<05:13,  1.20it/s]"
     ]
    },
    {
     "name": "stdout",
     "output_type": "stream",
     "text": [
      "now in row:  1265\n"
     ]
    },
    {
     "name": "stderr",
     "output_type": "stream",
     "text": [
      "\r",
      " 77%|█████████████████████████████▎        | 1266/1641 [06:51<04:57,  1.26it/s]"
     ]
    },
    {
     "name": "stdout",
     "output_type": "stream",
     "text": [
      "now in row:  1266\n"
     ]
    },
    {
     "name": "stderr",
     "output_type": "stream",
     "text": [
      "\r",
      " 77%|█████████████████████████████▎        | 1267/1641 [06:52<04:49,  1.29it/s]"
     ]
    },
    {
     "name": "stdout",
     "output_type": "stream",
     "text": [
      "now in row:  1267\n"
     ]
    },
    {
     "name": "stderr",
     "output_type": "stream",
     "text": [
      "\r",
      " 77%|█████████████████████████████▎        | 1268/1641 [06:54<07:09,  1.15s/it]"
     ]
    },
    {
     "name": "stdout",
     "output_type": "stream",
     "text": [
      "now in row:  1268\n"
     ]
    },
    {
     "name": "stderr",
     "output_type": "stream",
     "text": [
      "\r",
      " 77%|█████████████████████████████▍        | 1269/1641 [06:56<08:37,  1.39s/it]"
     ]
    },
    {
     "name": "stdout",
     "output_type": "stream",
     "text": [
      "now in row:  1269\n"
     ]
    },
    {
     "name": "stderr",
     "output_type": "stream",
     "text": [
      "\r",
      " 77%|█████████████████████████████▍        | 1270/1641 [07:08<28:00,  4.53s/it]"
     ]
    },
    {
     "name": "stdout",
     "output_type": "stream",
     "text": [
      "now in row:  1270\n"
     ]
    },
    {
     "name": "stderr",
     "output_type": "stream",
     "text": [
      "\r",
      " 77%|█████████████████████████████▍        | 1271/1641 [07:08<21:11,  3.44s/it]"
     ]
    },
    {
     "name": "stdout",
     "output_type": "stream",
     "text": [
      "now in row:  1271\n"
     ]
    },
    {
     "name": "stderr",
     "output_type": "stream",
     "text": [
      "\r",
      " 78%|█████████████████████████████▍        | 1272/1641 [07:12<20:58,  3.41s/it]"
     ]
    },
    {
     "name": "stdout",
     "output_type": "stream",
     "text": [
      "now in row:  1272\n"
     ]
    },
    {
     "name": "stderr",
     "output_type": "stream",
     "text": [
      "\r",
      " 78%|█████████████████████████████▍        | 1273/1641 [07:14<18:36,  3.04s/it]"
     ]
    },
    {
     "name": "stdout",
     "output_type": "stream",
     "text": [
      "now in row:  1273\n"
     ]
    },
    {
     "name": "stderr",
     "output_type": "stream",
     "text": [
      "\r",
      " 78%|█████████████████████████████▌        | 1274/1641 [07:16<16:19,  2.67s/it]"
     ]
    },
    {
     "name": "stdout",
     "output_type": "stream",
     "text": [
      "now in row:  1274\n"
     ]
    },
    {
     "name": "stderr",
     "output_type": "stream",
     "text": [
      "\r",
      " 78%|█████████████████████████████▌        | 1275/1641 [07:17<14:21,  2.35s/it]"
     ]
    },
    {
     "name": "stdout",
     "output_type": "stream",
     "text": [
      "now in row:  1275\n"
     ]
    },
    {
     "name": "stderr",
     "output_type": "stream",
     "text": [
      "\r",
      " 78%|█████████████████████████████▌        | 1276/1641 [07:19<13:57,  2.29s/it]"
     ]
    },
    {
     "name": "stdout",
     "output_type": "stream",
     "text": [
      "now in row:  1276\n"
     ]
    },
    {
     "name": "stderr",
     "output_type": "stream",
     "text": [
      "\r",
      " 78%|█████████████████████████████▌        | 1277/1641 [07:21<13:12,  2.18s/it]"
     ]
    },
    {
     "name": "stdout",
     "output_type": "stream",
     "text": [
      "now in row:  1277\n"
     ]
    },
    {
     "name": "stderr",
     "output_type": "stream",
     "text": [
      "\r",
      " 78%|█████████████████████████████▌        | 1278/1641 [07:22<10:41,  1.77s/it]"
     ]
    },
    {
     "name": "stdout",
     "output_type": "stream",
     "text": [
      "now in row:  1278\n"
     ]
    },
    {
     "name": "stderr",
     "output_type": "stream",
     "text": [
      "\r",
      " 78%|█████████████████████████████▌        | 1279/1641 [07:23<09:07,  1.51s/it]"
     ]
    },
    {
     "name": "stdout",
     "output_type": "stream",
     "text": [
      "now in row:  1279\n"
     ]
    },
    {
     "name": "stderr",
     "output_type": "stream",
     "text": [
      "\r",
      " 78%|█████████████████████████████▋        | 1280/1641 [07:25<10:19,  1.72s/it]"
     ]
    },
    {
     "name": "stdout",
     "output_type": "stream",
     "text": [
      "now in row:  1280\n"
     ]
    },
    {
     "name": "stderr",
     "output_type": "stream",
     "text": [
      "\r",
      " 78%|█████████████████████████████▋        | 1281/1641 [07:27<10:18,  1.72s/it]"
     ]
    },
    {
     "name": "stdout",
     "output_type": "stream",
     "text": [
      "now in row:  1281\n"
     ]
    },
    {
     "name": "stderr",
     "output_type": "stream",
     "text": [
      "\r",
      " 78%|█████████████████████████████▋        | 1282/1641 [07:29<10:35,  1.77s/it]"
     ]
    },
    {
     "name": "stdout",
     "output_type": "stream",
     "text": [
      "now in row:  1282\n"
     ]
    },
    {
     "name": "stderr",
     "output_type": "stream",
     "text": [
      "\r",
      " 78%|█████████████████████████████▋        | 1283/1641 [07:30<08:54,  1.49s/it]"
     ]
    },
    {
     "name": "stdout",
     "output_type": "stream",
     "text": [
      "now in row:  1283\n"
     ]
    },
    {
     "name": "stderr",
     "output_type": "stream",
     "text": [
      "\r",
      " 78%|█████████████████████████████▋        | 1284/1641 [07:31<08:20,  1.40s/it]"
     ]
    },
    {
     "name": "stdout",
     "output_type": "stream",
     "text": [
      "now in row:  1284\n"
     ]
    },
    {
     "name": "stderr",
     "output_type": "stream",
     "text": [
      "\r",
      " 78%|█████████████████████████████▊        | 1285/1641 [07:33<09:31,  1.60s/it]"
     ]
    },
    {
     "name": "stdout",
     "output_type": "stream",
     "text": [
      "now in row:  1285\n"
     ]
    },
    {
     "name": "stderr",
     "output_type": "stream",
     "text": [
      "\r",
      " 78%|█████████████████████████████▊        | 1286/1641 [07:35<10:18,  1.74s/it]"
     ]
    },
    {
     "name": "stdout",
     "output_type": "stream",
     "text": [
      "now in row:  1286\n"
     ]
    },
    {
     "name": "stderr",
     "output_type": "stream",
     "text": [
      "\r",
      " 78%|█████████████████████████████▊        | 1287/1641 [07:37<10:03,  1.71s/it]"
     ]
    },
    {
     "name": "stdout",
     "output_type": "stream",
     "text": [
      "now in row:  1287\n"
     ]
    },
    {
     "name": "stderr",
     "output_type": "stream",
     "text": [
      "\r",
      " 78%|█████████████████████████████▊        | 1288/1641 [07:39<10:27,  1.78s/it]"
     ]
    },
    {
     "name": "stdout",
     "output_type": "stream",
     "text": [
      "now in row:  1288\n"
     ]
    },
    {
     "name": "stderr",
     "output_type": "stream",
     "text": [
      "\r",
      " 79%|█████████████████████████████▊        | 1289/1641 [07:41<10:39,  1.82s/it]"
     ]
    },
    {
     "name": "stdout",
     "output_type": "stream",
     "text": [
      "now in row:  1289\n"
     ]
    },
    {
     "name": "stderr",
     "output_type": "stream",
     "text": [
      "\r",
      " 79%|█████████████████████████████▊        | 1290/1641 [07:42<10:17,  1.76s/it]"
     ]
    },
    {
     "name": "stdout",
     "output_type": "stream",
     "text": [
      "now in row:  1290\n"
     ]
    },
    {
     "name": "stderr",
     "output_type": "stream",
     "text": [
      "\r",
      " 79%|█████████████████████████████▉        | 1291/1641 [07:46<14:19,  2.46s/it]"
     ]
    },
    {
     "name": "stdout",
     "output_type": "stream",
     "text": [
      "now in row:  1291\n"
     ]
    },
    {
     "name": "stderr",
     "output_type": "stream",
     "text": [
      "\r",
      " 79%|█████████████████████████████▉        | 1292/1641 [07:47<11:27,  1.97s/it]"
     ]
    },
    {
     "name": "stdout",
     "output_type": "stream",
     "text": [
      "now in row:  1292\n"
     ]
    },
    {
     "name": "stderr",
     "output_type": "stream",
     "text": [
      "\r",
      " 79%|█████████████████████████████▉        | 1293/1641 [07:49<10:55,  1.88s/it]"
     ]
    },
    {
     "name": "stdout",
     "output_type": "stream",
     "text": [
      "now in row:  1293\n"
     ]
    },
    {
     "name": "stderr",
     "output_type": "stream",
     "text": [
      "\r",
      " 79%|█████████████████████████████▉        | 1294/1641 [07:50<10:21,  1.79s/it]"
     ]
    },
    {
     "name": "stdout",
     "output_type": "stream",
     "text": [
      "now in row:  1294\n"
     ]
    },
    {
     "name": "stderr",
     "output_type": "stream",
     "text": [
      "\r",
      " 79%|█████████████████████████████▉        | 1295/1641 [07:51<08:49,  1.53s/it]"
     ]
    },
    {
     "name": "stdout",
     "output_type": "stream",
     "text": [
      "now in row:  1295\n"
     ]
    },
    {
     "name": "stderr",
     "output_type": "stream",
     "text": [
      "\r",
      " 79%|██████████████████████████████        | 1296/1641 [07:59<18:52,  3.28s/it]"
     ]
    },
    {
     "name": "stdout",
     "output_type": "stream",
     "text": [
      "now in row:  1296\n"
     ]
    },
    {
     "name": "stderr",
     "output_type": "stream",
     "text": [
      "\r",
      " 79%|██████████████████████████████        | 1297/1641 [08:01<16:51,  2.94s/it]"
     ]
    },
    {
     "name": "stdout",
     "output_type": "stream",
     "text": [
      "now in row:  1297\n"
     ]
    },
    {
     "name": "stderr",
     "output_type": "stream",
     "text": [
      "\r",
      " 79%|██████████████████████████████        | 1298/1641 [08:04<17:58,  3.14s/it]"
     ]
    },
    {
     "name": "stdout",
     "output_type": "stream",
     "text": [
      "now in row:  1298\n"
     ]
    },
    {
     "name": "stderr",
     "output_type": "stream",
     "text": [
      "\r",
      " 79%|██████████████████████████████        | 1299/1641 [08:05<14:12,  2.49s/it]"
     ]
    },
    {
     "name": "stdout",
     "output_type": "stream",
     "text": [
      "now in row:  1299\n"
     ]
    },
    {
     "name": "stderr",
     "output_type": "stream",
     "text": [
      "\r",
      " 79%|██████████████████████████████        | 1300/1641 [08:07<13:27,  2.37s/it]"
     ]
    },
    {
     "name": "stdout",
     "output_type": "stream",
     "text": [
      "now in row:  1300\n"
     ]
    },
    {
     "name": "stderr",
     "output_type": "stream",
     "text": [
      "\r",
      " 79%|██████████████████████████████▏       | 1301/1641 [08:09<12:15,  2.16s/it]"
     ]
    },
    {
     "name": "stdout",
     "output_type": "stream",
     "text": [
      "now in row:  1301\n"
     ]
    },
    {
     "name": "stderr",
     "output_type": "stream",
     "text": [
      "\r",
      " 79%|██████████████████████████████▏       | 1302/1641 [08:10<09:55,  1.76s/it]"
     ]
    },
    {
     "name": "stdout",
     "output_type": "stream",
     "text": [
      "now in row:  1302\n"
     ]
    },
    {
     "name": "stderr",
     "output_type": "stream",
     "text": [
      "\r",
      " 79%|██████████████████████████████▏       | 1303/1641 [08:11<08:19,  1.48s/it]"
     ]
    },
    {
     "name": "stdout",
     "output_type": "stream",
     "text": [
      "now in row:  1303\n"
     ]
    },
    {
     "name": "stderr",
     "output_type": "stream",
     "text": [
      "\r",
      " 79%|██████████████████████████████▏       | 1304/1641 [08:12<07:24,  1.32s/it]"
     ]
    },
    {
     "name": "stdout",
     "output_type": "stream",
     "text": [
      "now in row:  1304\n"
     ]
    },
    {
     "name": "stderr",
     "output_type": "stream",
     "text": [
      "\r",
      " 80%|██████████████████████████████▏       | 1305/1641 [08:13<06:26,  1.15s/it]"
     ]
    },
    {
     "name": "stdout",
     "output_type": "stream",
     "text": [
      "now in row:  1305\n"
     ]
    },
    {
     "name": "stderr",
     "output_type": "stream",
     "text": [
      "\r",
      " 80%|██████████████████████████████▏       | 1306/1641 [08:16<10:45,  1.93s/it]"
     ]
    },
    {
     "name": "stdout",
     "output_type": "stream",
     "text": [
      "now in row:  1306\n"
     ]
    },
    {
     "name": "stderr",
     "output_type": "stream",
     "text": [
      "\r",
      " 80%|██████████████████████████████▎       | 1307/1641 [08:17<08:44,  1.57s/it]"
     ]
    },
    {
     "name": "stdout",
     "output_type": "stream",
     "text": [
      "now in row:  1307\n"
     ]
    },
    {
     "name": "stderr",
     "output_type": "stream",
     "text": [
      "\r",
      " 80%|██████████████████████████████▎       | 1308/1641 [08:18<07:39,  1.38s/it]"
     ]
    },
    {
     "name": "stdout",
     "output_type": "stream",
     "text": [
      "now in row:  1308\n"
     ]
    },
    {
     "name": "stderr",
     "output_type": "stream",
     "text": [
      "\r",
      " 80%|██████████████████████████████▎       | 1309/1641 [08:23<13:36,  2.46s/it]"
     ]
    },
    {
     "name": "stdout",
     "output_type": "stream",
     "text": [
      "now in row:  1309\n"
     ]
    },
    {
     "name": "stderr",
     "output_type": "stream",
     "text": [
      "\r",
      " 80%|██████████████████████████████▎       | 1310/1641 [08:24<10:36,  1.92s/it]"
     ]
    },
    {
     "name": "stdout",
     "output_type": "stream",
     "text": [
      "now in row:  1310\n"
     ]
    },
    {
     "name": "stderr",
     "output_type": "stream",
     "text": [
      "\r",
      " 80%|██████████████████████████████▎       | 1311/1641 [08:28<13:55,  2.53s/it]"
     ]
    },
    {
     "name": "stdout",
     "output_type": "stream",
     "text": [
      "now in row:  1311\n"
     ]
    },
    {
     "name": "stderr",
     "output_type": "stream",
     "text": [
      "\r",
      " 80%|██████████████████████████████▍       | 1312/1641 [08:28<10:55,  1.99s/it]"
     ]
    },
    {
     "name": "stdout",
     "output_type": "stream",
     "text": [
      "now in row:  1312\n"
     ]
    },
    {
     "name": "stderr",
     "output_type": "stream",
     "text": [
      "\r",
      " 80%|██████████████████████████████▍       | 1313/1641 [08:29<08:55,  1.63s/it]"
     ]
    },
    {
     "name": "stdout",
     "output_type": "stream",
     "text": [
      "now in row:  1313\n"
     ]
    },
    {
     "name": "stderr",
     "output_type": "stream",
     "text": [
      "\r",
      " 80%|██████████████████████████████▍       | 1314/1641 [08:30<07:23,  1.36s/it]"
     ]
    },
    {
     "name": "stdout",
     "output_type": "stream",
     "text": [
      "now in row:  1314\n"
     ]
    },
    {
     "name": "stderr",
     "output_type": "stream",
     "text": [
      "\r",
      " 80%|██████████████████████████████▍       | 1315/1641 [08:30<06:19,  1.17s/it]"
     ]
    },
    {
     "name": "stdout",
     "output_type": "stream",
     "text": [
      "now in row:  1315\n"
     ]
    },
    {
     "name": "stderr",
     "output_type": "stream",
     "text": [
      "\r",
      " 80%|██████████████████████████████▍       | 1316/1641 [08:31<05:39,  1.05s/it]"
     ]
    },
    {
     "name": "stdout",
     "output_type": "stream",
     "text": [
      "now in row:  1316\n"
     ]
    },
    {
     "name": "stderr",
     "output_type": "stream",
     "text": [
      "\r",
      " 80%|██████████████████████████████▍       | 1317/1641 [08:32<05:32,  1.03s/it]"
     ]
    },
    {
     "name": "stdout",
     "output_type": "stream",
     "text": [
      "now in row:  1317\n"
     ]
    },
    {
     "name": "stderr",
     "output_type": "stream",
     "text": [
      "\r",
      " 80%|██████████████████████████████▌       | 1318/1641 [08:33<04:58,  1.08it/s]"
     ]
    },
    {
     "name": "stdout",
     "output_type": "stream",
     "text": [
      "now in row:  1318\n"
     ]
    },
    {
     "name": "stderr",
     "output_type": "stream",
     "text": [
      "\r",
      " 80%|██████████████████████████████▌       | 1319/1641 [08:34<04:34,  1.17it/s]"
     ]
    },
    {
     "name": "stdout",
     "output_type": "stream",
     "text": [
      "now in row:  1319\n"
     ]
    },
    {
     "name": "stderr",
     "output_type": "stream",
     "text": [
      "\r",
      " 80%|██████████████████████████████▌       | 1320/1641 [08:34<04:30,  1.19it/s]"
     ]
    },
    {
     "name": "stdout",
     "output_type": "stream",
     "text": [
      "now in row:  1320\n"
     ]
    },
    {
     "name": "stderr",
     "output_type": "stream",
     "text": [
      "\r",
      " 80%|██████████████████████████████▌       | 1321/1641 [08:36<05:57,  1.12s/it]"
     ]
    },
    {
     "name": "stdout",
     "output_type": "stream",
     "text": [
      "now in row:  1321\n"
     ]
    },
    {
     "name": "stderr",
     "output_type": "stream",
     "text": [
      "\r",
      " 81%|██████████████████████████████▌       | 1322/1641 [08:37<05:36,  1.05s/it]"
     ]
    },
    {
     "name": "stdout",
     "output_type": "stream",
     "text": [
      "now in row:  1322\n"
     ]
    },
    {
     "name": "stderr",
     "output_type": "stream",
     "text": [
      "\r",
      " 81%|██████████████████████████████▋       | 1323/1641 [08:38<05:01,  1.05it/s]"
     ]
    },
    {
     "name": "stdout",
     "output_type": "stream",
     "text": [
      "now in row:  1323\n"
     ]
    },
    {
     "name": "stderr",
     "output_type": "stream",
     "text": [
      "\r",
      " 81%|██████████████████████████████▋       | 1324/1641 [08:38<04:34,  1.16it/s]"
     ]
    },
    {
     "name": "stdout",
     "output_type": "stream",
     "text": [
      "now in row:  1324\n"
     ]
    },
    {
     "name": "stderr",
     "output_type": "stream",
     "text": [
      "\r",
      " 81%|██████████████████████████████▋       | 1325/1641 [08:39<04:29,  1.17it/s]"
     ]
    },
    {
     "name": "stdout",
     "output_type": "stream",
     "text": [
      "now in row:  1325\n"
     ]
    },
    {
     "name": "stderr",
     "output_type": "stream",
     "text": [
      "\r",
      " 81%|██████████████████████████████▋       | 1326/1641 [08:40<04:40,  1.12it/s]"
     ]
    },
    {
     "name": "stdout",
     "output_type": "stream",
     "text": [
      "now in row:  1326\n"
     ]
    },
    {
     "name": "stderr",
     "output_type": "stream",
     "text": [
      "\r",
      " 81%|██████████████████████████████▋       | 1327/1641 [08:41<04:46,  1.09it/s]"
     ]
    },
    {
     "name": "stdout",
     "output_type": "stream",
     "text": [
      "now in row:  1327\n"
     ]
    },
    {
     "name": "stderr",
     "output_type": "stream",
     "text": [
      "\r",
      " 81%|██████████████████████████████▊       | 1328/1641 [08:42<04:34,  1.14it/s]"
     ]
    },
    {
     "name": "stdout",
     "output_type": "stream",
     "text": [
      "now in row:  1328\n"
     ]
    },
    {
     "name": "stderr",
     "output_type": "stream",
     "text": [
      "\r",
      " 81%|██████████████████████████████▊       | 1329/1641 [08:43<04:30,  1.15it/s]"
     ]
    },
    {
     "name": "stdout",
     "output_type": "stream",
     "text": [
      "now in row:  1329\n"
     ]
    },
    {
     "name": "stderr",
     "output_type": "stream",
     "text": [
      "\r",
      " 81%|██████████████████████████████▊       | 1330/1641 [08:44<04:14,  1.22it/s]"
     ]
    },
    {
     "name": "stdout",
     "output_type": "stream",
     "text": [
      "now in row:  1330\n"
     ]
    },
    {
     "name": "stderr",
     "output_type": "stream",
     "text": [
      "\r",
      " 81%|██████████████████████████████▊       | 1331/1641 [08:46<06:46,  1.31s/it]"
     ]
    },
    {
     "name": "stdout",
     "output_type": "stream",
     "text": [
      "now in row:  1331\n"
     ]
    },
    {
     "name": "stderr",
     "output_type": "stream",
     "text": [
      "\r",
      " 81%|██████████████████████████████▊       | 1332/1641 [08:47<05:51,  1.14s/it]"
     ]
    },
    {
     "name": "stdout",
     "output_type": "stream",
     "text": [
      "now in row:  1332\n"
     ]
    },
    {
     "name": "stderr",
     "output_type": "stream",
     "text": [
      "\r",
      " 81%|██████████████████████████████▊       | 1333/1641 [08:48<05:28,  1.07s/it]"
     ]
    },
    {
     "name": "stdout",
     "output_type": "stream",
     "text": [
      "now in row:  1333\n"
     ]
    },
    {
     "name": "stderr",
     "output_type": "stream",
     "text": [
      "\r",
      " 81%|██████████████████████████████▉       | 1334/1641 [08:48<05:01,  1.02it/s]"
     ]
    },
    {
     "name": "stdout",
     "output_type": "stream",
     "text": [
      "now in row:  1334\n"
     ]
    },
    {
     "name": "stderr",
     "output_type": "stream",
     "text": [
      "\r",
      " 81%|██████████████████████████████▉       | 1335/1641 [08:49<04:43,  1.08it/s]"
     ]
    },
    {
     "name": "stdout",
     "output_type": "stream",
     "text": [
      "now in row:  1335\n"
     ]
    },
    {
     "name": "stderr",
     "output_type": "stream",
     "text": [
      "\r",
      " 81%|██████████████████████████████▉       | 1336/1641 [08:50<04:59,  1.02it/s]"
     ]
    },
    {
     "name": "stdout",
     "output_type": "stream",
     "text": [
      "now in row:  1336\n"
     ]
    },
    {
     "name": "stderr",
     "output_type": "stream",
     "text": [
      "\r",
      " 81%|██████████████████████████████▉       | 1337/1641 [08:51<05:05,  1.00s/it]"
     ]
    },
    {
     "name": "stdout",
     "output_type": "stream",
     "text": [
      "now in row:  1337\n"
     ]
    },
    {
     "name": "stderr",
     "output_type": "stream",
     "text": [
      "\r",
      " 82%|██████████████████████████████▉       | 1338/1641 [08:52<04:58,  1.02it/s]"
     ]
    },
    {
     "name": "stdout",
     "output_type": "stream",
     "text": [
      "now in row:  1338\n"
     ]
    },
    {
     "name": "stderr",
     "output_type": "stream",
     "text": [
      "\r",
      " 82%|███████████████████████████████       | 1339/1641 [08:53<04:48,  1.05it/s]"
     ]
    },
    {
     "name": "stdout",
     "output_type": "stream",
     "text": [
      "now in row:  1339\n"
     ]
    },
    {
     "name": "stderr",
     "output_type": "stream",
     "text": [
      "\r",
      " 82%|███████████████████████████████       | 1340/1641 [08:54<05:12,  1.04s/it]"
     ]
    },
    {
     "name": "stdout",
     "output_type": "stream",
     "text": [
      "now in row:  1340\n"
     ]
    },
    {
     "name": "stderr",
     "output_type": "stream",
     "text": [
      "\r",
      " 82%|███████████████████████████████       | 1341/1641 [08:55<05:00,  1.00s/it]"
     ]
    },
    {
     "name": "stdout",
     "output_type": "stream",
     "text": [
      "now in row:  1341\n"
     ]
    },
    {
     "name": "stderr",
     "output_type": "stream",
     "text": [
      "\r",
      " 82%|███████████████████████████████       | 1342/1641 [08:57<05:19,  1.07s/it]"
     ]
    },
    {
     "name": "stdout",
     "output_type": "stream",
     "text": [
      "now in row:  1342\n"
     ]
    },
    {
     "name": "stderr",
     "output_type": "stream",
     "text": [
      "\r",
      " 82%|███████████████████████████████       | 1343/1641 [08:57<05:00,  1.01s/it]"
     ]
    },
    {
     "name": "stdout",
     "output_type": "stream",
     "text": [
      "now in row:  1343\n"
     ]
    },
    {
     "name": "stderr",
     "output_type": "stream",
     "text": [
      "\r",
      " 82%|███████████████████████████████       | 1344/1641 [08:58<04:46,  1.03it/s]"
     ]
    },
    {
     "name": "stdout",
     "output_type": "stream",
     "text": [
      "now in row:  1344\n"
     ]
    },
    {
     "name": "stderr",
     "output_type": "stream",
     "text": [
      "\r",
      " 82%|███████████████████████████████▏      | 1345/1641 [08:59<04:30,  1.10it/s]"
     ]
    },
    {
     "name": "stdout",
     "output_type": "stream",
     "text": [
      "now in row:  1345\n"
     ]
    },
    {
     "name": "stderr",
     "output_type": "stream",
     "text": [
      "\r",
      " 82%|███████████████████████████████▏      | 1346/1641 [09:00<04:57,  1.01s/it]"
     ]
    },
    {
     "name": "stdout",
     "output_type": "stream",
     "text": [
      "now in row:  1346\n"
     ]
    },
    {
     "name": "stderr",
     "output_type": "stream",
     "text": [
      "\r",
      " 82%|███████████████████████████████▏      | 1347/1641 [09:03<06:42,  1.37s/it]"
     ]
    },
    {
     "name": "stdout",
     "output_type": "stream",
     "text": [
      "now in row:  1347\n"
     ]
    },
    {
     "name": "stderr",
     "output_type": "stream",
     "text": [
      "\r",
      " 82%|███████████████████████████████▏      | 1348/1641 [09:03<05:53,  1.21s/it]"
     ]
    },
    {
     "name": "stdout",
     "output_type": "stream",
     "text": [
      "now in row:  1348\n"
     ]
    },
    {
     "name": "stderr",
     "output_type": "stream",
     "text": [
      "\r",
      " 82%|███████████████████████████████▏      | 1349/1641 [09:05<05:51,  1.20s/it]"
     ]
    },
    {
     "name": "stdout",
     "output_type": "stream",
     "text": [
      "now in row:  1349\n"
     ]
    },
    {
     "name": "stderr",
     "output_type": "stream",
     "text": [
      "\r",
      " 82%|███████████████████████████████▎      | 1350/1641 [09:06<05:28,  1.13s/it]"
     ]
    },
    {
     "name": "stdout",
     "output_type": "stream",
     "text": [
      "now in row:  1350\n"
     ]
    },
    {
     "name": "stderr",
     "output_type": "stream",
     "text": [
      "\r",
      " 82%|███████████████████████████████▎      | 1351/1641 [09:06<05:02,  1.04s/it]"
     ]
    },
    {
     "name": "stdout",
     "output_type": "stream",
     "text": [
      "now in row:  1351\n"
     ]
    },
    {
     "name": "stderr",
     "output_type": "stream",
     "text": [
      "\r",
      " 82%|███████████████████████████████▎      | 1352/1641 [09:07<04:45,  1.01it/s]"
     ]
    },
    {
     "name": "stdout",
     "output_type": "stream",
     "text": [
      "now in row:  1352\n"
     ]
    },
    {
     "name": "stderr",
     "output_type": "stream",
     "text": [
      "\r",
      " 82%|███████████████████████████████▎      | 1353/1641 [09:08<04:32,  1.06it/s]"
     ]
    },
    {
     "name": "stdout",
     "output_type": "stream",
     "text": [
      "now in row:  1353\n"
     ]
    },
    {
     "name": "stderr",
     "output_type": "stream",
     "text": [
      "\r",
      " 83%|███████████████████████████████▎      | 1354/1641 [09:09<04:32,  1.05it/s]"
     ]
    },
    {
     "name": "stdout",
     "output_type": "stream",
     "text": [
      "now in row:  1354\n"
     ]
    },
    {
     "name": "stderr",
     "output_type": "stream",
     "text": [
      "\r",
      " 83%|███████████████████████████████▍      | 1355/1641 [09:10<04:15,  1.12it/s]"
     ]
    },
    {
     "name": "stdout",
     "output_type": "stream",
     "text": [
      "now in row:  1355\n"
     ]
    },
    {
     "name": "stderr",
     "output_type": "stream",
     "text": [
      "\r",
      " 83%|███████████████████████████████▍      | 1356/1641 [09:11<04:11,  1.13it/s]"
     ]
    },
    {
     "name": "stdout",
     "output_type": "stream",
     "text": [
      "now in row:  1356\n"
     ]
    },
    {
     "name": "stderr",
     "output_type": "stream",
     "text": [
      "\r",
      " 83%|███████████████████████████████▍      | 1357/1641 [09:12<04:07,  1.15it/s]"
     ]
    },
    {
     "name": "stdout",
     "output_type": "stream",
     "text": [
      "now in row:  1357\n"
     ]
    },
    {
     "name": "stderr",
     "output_type": "stream",
     "text": [
      "\r",
      " 83%|███████████████████████████████▍      | 1358/1641 [09:13<04:19,  1.09it/s]"
     ]
    },
    {
     "name": "stdout",
     "output_type": "stream",
     "text": [
      "now in row:  1358\n"
     ]
    },
    {
     "name": "stderr",
     "output_type": "stream",
     "text": [
      "\r",
      " 83%|███████████████████████████████▍      | 1359/1641 [09:13<04:12,  1.12it/s]"
     ]
    },
    {
     "name": "stdout",
     "output_type": "stream",
     "text": [
      "now in row:  1359\n"
     ]
    },
    {
     "name": "stderr",
     "output_type": "stream",
     "text": [
      "\r",
      " 83%|███████████████████████████████▍      | 1360/1641 [09:15<04:31,  1.04it/s]"
     ]
    },
    {
     "name": "stdout",
     "output_type": "stream",
     "text": [
      "now in row:  1360\n"
     ]
    },
    {
     "name": "stderr",
     "output_type": "stream",
     "text": [
      "\r",
      " 83%|███████████████████████████████▌      | 1361/1641 [09:16<05:49,  1.25s/it]"
     ]
    },
    {
     "name": "stdout",
     "output_type": "stream",
     "text": [
      "now in row:  1361\n"
     ]
    },
    {
     "name": "stderr",
     "output_type": "stream",
     "text": [
      "\r",
      " 83%|███████████████████████████████▌      | 1362/1641 [09:22<11:21,  2.44s/it]"
     ]
    },
    {
     "name": "stdout",
     "output_type": "stream",
     "text": [
      "now in row:  1362\n"
     ]
    },
    {
     "name": "stderr",
     "output_type": "stream",
     "text": [
      "\r",
      " 83%|███████████████████████████████▌      | 1363/1641 [09:26<13:21,  2.88s/it]"
     ]
    },
    {
     "name": "stdout",
     "output_type": "stream",
     "text": [
      "now in row:  1363\n"
     ]
    },
    {
     "name": "stderr",
     "output_type": "stream",
     "text": [
      "\r",
      " 83%|███████████████████████████████▌      | 1364/1641 [09:26<10:26,  2.26s/it]"
     ]
    },
    {
     "name": "stdout",
     "output_type": "stream",
     "text": [
      "now in row:  1364\n"
     ]
    },
    {
     "name": "stderr",
     "output_type": "stream",
     "text": [
      "\r",
      " 83%|███████████████████████████████▌      | 1365/1641 [09:27<08:39,  1.88s/it]"
     ]
    },
    {
     "name": "stdout",
     "output_type": "stream",
     "text": [
      "now in row:  1365\n"
     ]
    },
    {
     "name": "stderr",
     "output_type": "stream",
     "text": [
      "\r",
      " 83%|███████████████████████████████▋      | 1366/1641 [09:29<08:41,  1.90s/it]"
     ]
    },
    {
     "name": "stdout",
     "output_type": "stream",
     "text": [
      "now in row:  1366\n"
     ]
    },
    {
     "name": "stderr",
     "output_type": "stream",
     "text": [
      "\r",
      " 83%|███████████████████████████████▋      | 1367/1641 [09:30<07:21,  1.61s/it]"
     ]
    },
    {
     "name": "stdout",
     "output_type": "stream",
     "text": [
      "now in row:  1367\n"
     ]
    },
    {
     "name": "stderr",
     "output_type": "stream",
     "text": [
      "\r",
      " 83%|███████████████████████████████▋      | 1368/1641 [09:31<06:35,  1.45s/it]"
     ]
    },
    {
     "name": "stdout",
     "output_type": "stream",
     "text": [
      "now in row:  1368\n"
     ]
    },
    {
     "name": "stderr",
     "output_type": "stream",
     "text": [
      "\r",
      " 83%|███████████████████████████████▋      | 1369/1641 [09:32<05:46,  1.27s/it]"
     ]
    },
    {
     "name": "stdout",
     "output_type": "stream",
     "text": [
      "now in row:  1369\n"
     ]
    },
    {
     "name": "stderr",
     "output_type": "stream",
     "text": [
      "\r",
      " 83%|███████████████████████████████▋      | 1370/1641 [09:33<05:20,  1.18s/it]"
     ]
    },
    {
     "name": "stdout",
     "output_type": "stream",
     "text": [
      "now in row:  1370\n"
     ]
    },
    {
     "name": "stderr",
     "output_type": "stream",
     "text": [
      "\r",
      " 84%|███████████████████████████████▋      | 1371/1641 [09:34<05:14,  1.16s/it]"
     ]
    },
    {
     "name": "stdout",
     "output_type": "stream",
     "text": [
      "now in row:  1371\n"
     ]
    },
    {
     "name": "stderr",
     "output_type": "stream",
     "text": [
      "\r",
      " 84%|███████████████████████████████▊      | 1372/1641 [09:38<08:27,  1.89s/it]"
     ]
    },
    {
     "name": "stdout",
     "output_type": "stream",
     "text": [
      "now in row:  1372\n"
     ]
    },
    {
     "name": "stderr",
     "output_type": "stream",
     "text": [
      "\r",
      " 84%|███████████████████████████████▊      | 1373/1641 [09:39<07:13,  1.62s/it]"
     ]
    },
    {
     "name": "stdout",
     "output_type": "stream",
     "text": [
      "now in row:  1373\n"
     ]
    },
    {
     "name": "stderr",
     "output_type": "stream",
     "text": [
      "\r",
      " 84%|███████████████████████████████▊      | 1374/1641 [09:40<06:20,  1.43s/it]"
     ]
    },
    {
     "name": "stdout",
     "output_type": "stream",
     "text": [
      "now in row:  1374\n"
     ]
    },
    {
     "name": "stderr",
     "output_type": "stream",
     "text": [
      "\r",
      " 84%|███████████████████████████████▊      | 1375/1641 [09:41<05:28,  1.23s/it]"
     ]
    },
    {
     "name": "stdout",
     "output_type": "stream",
     "text": [
      "now in row:  1375\n"
     ]
    },
    {
     "name": "stderr",
     "output_type": "stream",
     "text": [
      "\r",
      " 84%|███████████████████████████████▊      | 1376/1641 [09:42<04:58,  1.13s/it]"
     ]
    },
    {
     "name": "stdout",
     "output_type": "stream",
     "text": [
      "now in row:  1376\n"
     ]
    },
    {
     "name": "stderr",
     "output_type": "stream",
     "text": [
      "\r",
      " 84%|███████████████████████████████▉      | 1377/1641 [09:43<05:34,  1.27s/it]"
     ]
    },
    {
     "name": "stdout",
     "output_type": "stream",
     "text": [
      "now in row:  1377\n"
     ]
    },
    {
     "name": "stderr",
     "output_type": "stream",
     "text": [
      "\r",
      " 84%|███████████████████████████████▉      | 1378/1641 [09:44<05:01,  1.15s/it]"
     ]
    },
    {
     "name": "stdout",
     "output_type": "stream",
     "text": [
      "now in row:  1378\n"
     ]
    },
    {
     "name": "stderr",
     "output_type": "stream",
     "text": [
      "\r",
      " 84%|███████████████████████████████▉      | 1379/1641 [09:45<04:29,  1.03s/it]"
     ]
    },
    {
     "name": "stdout",
     "output_type": "stream",
     "text": [
      "now in row:  1379\n"
     ]
    },
    {
     "name": "stderr",
     "output_type": "stream",
     "text": [
      "\r",
      " 84%|███████████████████████████████▉      | 1380/1641 [09:45<04:08,  1.05it/s]"
     ]
    },
    {
     "name": "stdout",
     "output_type": "stream",
     "text": [
      "now in row:  1380\n"
     ]
    },
    {
     "name": "stderr",
     "output_type": "stream",
     "text": [
      "\r",
      " 84%|███████████████████████████████▉      | 1381/1641 [09:46<03:51,  1.12it/s]"
     ]
    },
    {
     "name": "stdout",
     "output_type": "stream",
     "text": [
      "now in row:  1381\n"
     ]
    },
    {
     "name": "stderr",
     "output_type": "stream",
     "text": [
      "\r",
      " 84%|████████████████████████████████      | 1382/1641 [09:47<03:38,  1.19it/s]"
     ]
    },
    {
     "name": "stdout",
     "output_type": "stream",
     "text": [
      "now in row:  1382\n"
     ]
    },
    {
     "name": "stderr",
     "output_type": "stream",
     "text": [
      "\r",
      " 84%|████████████████████████████████      | 1383/1641 [09:48<03:43,  1.16it/s]"
     ]
    },
    {
     "name": "stdout",
     "output_type": "stream",
     "text": [
      "now in row:  1383\n"
     ]
    },
    {
     "name": "stderr",
     "output_type": "stream",
     "text": [
      "\r",
      " 84%|████████████████████████████████      | 1384/1641 [09:49<03:32,  1.21it/s]"
     ]
    },
    {
     "name": "stdout",
     "output_type": "stream",
     "text": [
      "now in row:  1384\n"
     ]
    },
    {
     "name": "stderr",
     "output_type": "stream",
     "text": [
      "\r",
      " 84%|████████████████████████████████      | 1385/1641 [09:50<04:39,  1.09s/it]"
     ]
    },
    {
     "name": "stdout",
     "output_type": "stream",
     "text": [
      "now in row:  1385\n"
     ]
    },
    {
     "name": "stderr",
     "output_type": "stream",
     "text": [
      "\r",
      " 84%|████████████████████████████████      | 1386/1641 [09:52<04:52,  1.15s/it]"
     ]
    },
    {
     "name": "stdout",
     "output_type": "stream",
     "text": [
      "now in row:  1386\n"
     ]
    },
    {
     "name": "stderr",
     "output_type": "stream",
     "text": [
      "\r",
      " 85%|████████████████████████████████      | 1387/1641 [09:53<05:36,  1.33s/it]"
     ]
    },
    {
     "name": "stdout",
     "output_type": "stream",
     "text": [
      "now in row:  1387\n"
     ]
    },
    {
     "name": "stderr",
     "output_type": "stream",
     "text": [
      "\r",
      " 85%|████████████████████████████████▏     | 1388/1641 [09:55<06:03,  1.44s/it]"
     ]
    },
    {
     "name": "stdout",
     "output_type": "stream",
     "text": [
      "now in row:  1388\n"
     ]
    },
    {
     "name": "stderr",
     "output_type": "stream",
     "text": [
      "\r",
      " 85%|████████████████████████████████▏     | 1389/1641 [09:58<07:44,  1.84s/it]"
     ]
    },
    {
     "name": "stdout",
     "output_type": "stream",
     "text": [
      "now in row:  1389\n"
     ]
    },
    {
     "name": "stderr",
     "output_type": "stream",
     "text": [
      "\r",
      " 85%|████████████████████████████████▏     | 1390/1641 [10:02<10:22,  2.48s/it]"
     ]
    },
    {
     "name": "stdout",
     "output_type": "stream",
     "text": [
      "now in row:  1390\n"
     ]
    },
    {
     "name": "stderr",
     "output_type": "stream",
     "text": [
      "\r",
      " 85%|████████████████████████████████▏     | 1391/1641 [10:03<08:51,  2.12s/it]"
     ]
    },
    {
     "name": "stdout",
     "output_type": "stream",
     "text": [
      "now in row:  1391\n"
     ]
    },
    {
     "name": "stderr",
     "output_type": "stream",
     "text": [
      "\r",
      " 85%|████████████████████████████████▏     | 1392/1641 [10:05<08:25,  2.03s/it]"
     ]
    },
    {
     "name": "stdout",
     "output_type": "stream",
     "text": [
      "now in row:  1392\n"
     ]
    },
    {
     "name": "stderr",
     "output_type": "stream",
     "text": [
      "\r",
      " 85%|████████████████████████████████▎     | 1393/1641 [10:07<08:04,  1.95s/it]"
     ]
    },
    {
     "name": "stdout",
     "output_type": "stream",
     "text": [
      "now in row:  1393\n"
     ]
    },
    {
     "name": "stderr",
     "output_type": "stream",
     "text": [
      "\r",
      " 85%|████████████████████████████████▎     | 1394/1641 [10:08<07:38,  1.85s/it]"
     ]
    },
    {
     "name": "stdout",
     "output_type": "stream",
     "text": [
      "now in row:  1394\n"
     ]
    },
    {
     "name": "stderr",
     "output_type": "stream",
     "text": [
      "\r",
      " 85%|████████████████████████████████▎     | 1395/1641 [10:10<07:31,  1.84s/it]"
     ]
    },
    {
     "name": "stdout",
     "output_type": "stream",
     "text": [
      "now in row:  1395\n"
     ]
    },
    {
     "name": "stderr",
     "output_type": "stream",
     "text": [
      "\r",
      " 85%|████████████████████████████████▎     | 1396/1641 [10:11<06:30,  1.59s/it]"
     ]
    },
    {
     "name": "stdout",
     "output_type": "stream",
     "text": [
      "now in row:  1396\n"
     ]
    },
    {
     "name": "stderr",
     "output_type": "stream",
     "text": [
      "\r",
      " 85%|████████████████████████████████▎     | 1397/1641 [10:13<06:22,  1.57s/it]"
     ]
    },
    {
     "name": "stdout",
     "output_type": "stream",
     "text": [
      "now in row:  1397\n"
     ]
    },
    {
     "name": "stderr",
     "output_type": "stream",
     "text": [
      "\r",
      " 85%|████████████████████████████████▎     | 1398/1641 [10:22<16:04,  3.97s/it]"
     ]
    },
    {
     "name": "stdout",
     "output_type": "stream",
     "text": [
      "now in row:  1398\n"
     ]
    },
    {
     "name": "stderr",
     "output_type": "stream",
     "text": [
      "\r",
      " 85%|████████████████████████████████▍     | 1399/1641 [10:25<14:30,  3.60s/it]"
     ]
    },
    {
     "name": "stdout",
     "output_type": "stream",
     "text": [
      "now in row:  1399\n"
     ]
    },
    {
     "name": "stderr",
     "output_type": "stream",
     "text": [
      "\r",
      " 85%|████████████████████████████████▍     | 1400/1641 [10:27<12:22,  3.08s/it]"
     ]
    },
    {
     "name": "stdout",
     "output_type": "stream",
     "text": [
      "now in row:  1400\n"
     ]
    },
    {
     "name": "stderr",
     "output_type": "stream",
     "text": [
      "\r",
      " 85%|████████████████████████████████▍     | 1401/1641 [10:28<10:09,  2.54s/it]"
     ]
    },
    {
     "name": "stdout",
     "output_type": "stream",
     "text": [
      "now in row:  1401\n"
     ]
    },
    {
     "name": "stderr",
     "output_type": "stream",
     "text": [
      "\r",
      " 85%|████████████████████████████████▍     | 1402/1641 [10:30<09:08,  2.29s/it]"
     ]
    },
    {
     "name": "stdout",
     "output_type": "stream",
     "text": [
      "now in row:  1402\n"
     ]
    },
    {
     "name": "stderr",
     "output_type": "stream",
     "text": [
      "\r",
      " 85%|████████████████████████████████▍     | 1403/1641 [10:33<10:00,  2.52s/it]"
     ]
    },
    {
     "name": "stdout",
     "output_type": "stream",
     "text": [
      "now in row:  1403\n"
     ]
    },
    {
     "name": "stderr",
     "output_type": "stream",
     "text": [
      "\r",
      " 86%|████████████████████████████████▌     | 1404/1641 [10:34<08:02,  2.04s/it]"
     ]
    },
    {
     "name": "stdout",
     "output_type": "stream",
     "text": [
      "now in row:  1404\n"
     ]
    },
    {
     "name": "stderr",
     "output_type": "stream",
     "text": [
      "\r",
      " 86%|████████████████████████████████▌     | 1405/1641 [10:35<06:52,  1.75s/it]"
     ]
    },
    {
     "name": "stdout",
     "output_type": "stream",
     "text": [
      "now in row:  1405\n"
     ]
    },
    {
     "name": "stderr",
     "output_type": "stream",
     "text": [
      "\r",
      " 86%|████████████████████████████████▌     | 1406/1641 [10:36<05:52,  1.50s/it]"
     ]
    },
    {
     "name": "stdout",
     "output_type": "stream",
     "text": [
      "now in row:  1406\n"
     ]
    },
    {
     "name": "stderr",
     "output_type": "stream",
     "text": [
      "\r",
      " 86%|████████████████████████████████▌     | 1407/1641 [10:38<06:19,  1.62s/it]"
     ]
    },
    {
     "name": "stdout",
     "output_type": "stream",
     "text": [
      "now in row:  1407\n"
     ]
    },
    {
     "name": "stderr",
     "output_type": "stream",
     "text": [
      "\r",
      " 86%|████████████████████████████████▌     | 1408/1641 [10:39<06:03,  1.56s/it]"
     ]
    },
    {
     "name": "stdout",
     "output_type": "stream",
     "text": [
      "now in row:  1408\n"
     ]
    },
    {
     "name": "stderr",
     "output_type": "stream",
     "text": [
      "\r",
      " 86%|████████████████████████████████▋     | 1409/1641 [10:40<05:01,  1.30s/it]"
     ]
    },
    {
     "name": "stdout",
     "output_type": "stream",
     "text": [
      "now in row:  1409\n"
     ]
    },
    {
     "name": "stderr",
     "output_type": "stream",
     "text": [
      "\r",
      " 86%|████████████████████████████████▋     | 1410/1641 [10:41<05:01,  1.30s/it]"
     ]
    },
    {
     "name": "stdout",
     "output_type": "stream",
     "text": [
      "now in row:  1410\n"
     ]
    },
    {
     "name": "stderr",
     "output_type": "stream",
     "text": [
      "\r",
      " 86%|████████████████████████████████▋     | 1411/1641 [10:42<04:21,  1.14s/it]"
     ]
    },
    {
     "name": "stdout",
     "output_type": "stream",
     "text": [
      "now in row:  1411\n"
     ]
    },
    {
     "name": "stderr",
     "output_type": "stream",
     "text": [
      "\r",
      " 86%|████████████████████████████████▋     | 1412/1641 [10:43<03:51,  1.01s/it]"
     ]
    },
    {
     "name": "stdout",
     "output_type": "stream",
     "text": [
      "now in row:  1412\n"
     ]
    },
    {
     "name": "stderr",
     "output_type": "stream",
     "text": [
      "\r",
      " 86%|████████████████████████████████▋     | 1413/1641 [10:43<03:32,  1.07it/s]"
     ]
    },
    {
     "name": "stdout",
     "output_type": "stream",
     "text": [
      "now in row:  1413\n"
     ]
    },
    {
     "name": "stderr",
     "output_type": "stream",
     "text": [
      "\r",
      " 86%|████████████████████████████████▋     | 1414/1641 [10:44<03:48,  1.00s/it]"
     ]
    },
    {
     "name": "stdout",
     "output_type": "stream",
     "text": [
      "now in row:  1414\n"
     ]
    },
    {
     "name": "stderr",
     "output_type": "stream",
     "text": [
      "\r",
      " 86%|████████████████████████████████▊     | 1415/1641 [10:47<04:57,  1.32s/it]"
     ]
    },
    {
     "name": "stdout",
     "output_type": "stream",
     "text": [
      "now in row:  1415\n"
     ]
    },
    {
     "name": "stderr",
     "output_type": "stream",
     "text": [
      "\r",
      " 86%|████████████████████████████████▊     | 1416/1641 [10:51<08:50,  2.36s/it]"
     ]
    },
    {
     "name": "stdout",
     "output_type": "stream",
     "text": [
      "now in row:  1416\n"
     ]
    },
    {
     "name": "stderr",
     "output_type": "stream",
     "text": [
      "\r",
      " 86%|████████████████████████████████▊     | 1417/1641 [10:52<07:03,  1.89s/it]"
     ]
    },
    {
     "name": "stdout",
     "output_type": "stream",
     "text": [
      "now in row:  1417\n"
     ]
    },
    {
     "name": "stderr",
     "output_type": "stream",
     "text": [
      "\r",
      " 86%|████████████████████████████████▊     | 1418/1641 [10:53<05:50,  1.57s/it]"
     ]
    },
    {
     "name": "stdout",
     "output_type": "stream",
     "text": [
      "now in row:  1418\n"
     ]
    },
    {
     "name": "stderr",
     "output_type": "stream",
     "text": [
      "\r",
      " 86%|████████████████████████████████▊     | 1419/1641 [10:54<05:14,  1.42s/it]"
     ]
    },
    {
     "name": "stdout",
     "output_type": "stream",
     "text": [
      "now in row:  1419\n"
     ]
    },
    {
     "name": "stderr",
     "output_type": "stream",
     "text": [
      "\r",
      " 87%|████████████████████████████████▉     | 1420/1641 [10:55<04:35,  1.24s/it]"
     ]
    },
    {
     "name": "stdout",
     "output_type": "stream",
     "text": [
      "now in row:  1420\n"
     ]
    },
    {
     "name": "stderr",
     "output_type": "stream",
     "text": [
      "\r",
      " 87%|████████████████████████████████▉     | 1421/1641 [10:56<04:04,  1.11s/it]"
     ]
    },
    {
     "name": "stdout",
     "output_type": "stream",
     "text": [
      "now in row:  1421\n"
     ]
    },
    {
     "name": "stderr",
     "output_type": "stream",
     "text": [
      "\r",
      " 87%|████████████████████████████████▉     | 1422/1641 [10:58<05:39,  1.55s/it]"
     ]
    },
    {
     "name": "stdout",
     "output_type": "stream",
     "text": [
      "now in row:  1422\n"
     ]
    },
    {
     "name": "stderr",
     "output_type": "stream",
     "text": [
      "\r",
      " 87%|████████████████████████████████▉     | 1423/1641 [10:59<04:57,  1.37s/it]"
     ]
    },
    {
     "name": "stdout",
     "output_type": "stream",
     "text": [
      "now in row:  1423\n"
     ]
    },
    {
     "name": "stderr",
     "output_type": "stream",
     "text": [
      "\r",
      " 87%|████████████████████████████████▉     | 1424/1641 [11:03<07:43,  2.13s/it]"
     ]
    },
    {
     "name": "stdout",
     "output_type": "stream",
     "text": [
      "now in row:  1424\n"
     ]
    },
    {
     "name": "stderr",
     "output_type": "stream",
     "text": [
      "\r",
      " 87%|████████████████████████████████▉     | 1425/1641 [11:04<06:47,  1.89s/it]"
     ]
    },
    {
     "name": "stdout",
     "output_type": "stream",
     "text": [
      "now in row:  1425\n"
     ]
    },
    {
     "name": "stderr",
     "output_type": "stream",
     "text": [
      "\r",
      " 87%|█████████████████████████████████     | 1426/1641 [11:06<06:01,  1.68s/it]"
     ]
    },
    {
     "name": "stdout",
     "output_type": "stream",
     "text": [
      "now in row:  1426\n"
     ]
    },
    {
     "name": "stderr",
     "output_type": "stream",
     "text": [
      "\r",
      " 87%|█████████████████████████████████     | 1427/1641 [11:07<05:33,  1.56s/it]"
     ]
    },
    {
     "name": "stdout",
     "output_type": "stream",
     "text": [
      "now in row:  1427\n"
     ]
    },
    {
     "name": "stderr",
     "output_type": "stream",
     "text": [
      "\r",
      " 87%|█████████████████████████████████     | 1428/1641 [11:08<04:51,  1.37s/it]"
     ]
    },
    {
     "name": "stdout",
     "output_type": "stream",
     "text": [
      "now in row:  1428\n"
     ]
    },
    {
     "name": "stderr",
     "output_type": "stream",
     "text": [
      "\r",
      " 87%|█████████████████████████████████     | 1429/1641 [11:09<04:16,  1.21s/it]"
     ]
    },
    {
     "name": "stdout",
     "output_type": "stream",
     "text": [
      "now in row:  1429\n"
     ]
    },
    {
     "name": "stderr",
     "output_type": "stream",
     "text": [
      "\r",
      " 87%|█████████████████████████████████     | 1430/1641 [11:09<03:52,  1.10s/it]"
     ]
    },
    {
     "name": "stdout",
     "output_type": "stream",
     "text": [
      "now in row:  1430\n"
     ]
    },
    {
     "name": "stderr",
     "output_type": "stream",
     "text": [
      "\r",
      " 87%|█████████████████████████████████▏    | 1431/1641 [11:12<05:38,  1.61s/it]"
     ]
    },
    {
     "name": "stdout",
     "output_type": "stream",
     "text": [
      "now in row:  1431\n"
     ]
    },
    {
     "name": "stderr",
     "output_type": "stream",
     "text": [
      "\r",
      " 87%|█████████████████████████████████▏    | 1432/1641 [11:13<04:50,  1.39s/it]"
     ]
    },
    {
     "name": "stdout",
     "output_type": "stream",
     "text": [
      "now in row:  1432\n"
     ]
    },
    {
     "name": "stderr",
     "output_type": "stream",
     "text": [
      "\r",
      " 87%|█████████████████████████████████▏    | 1433/1641 [11:14<04:15,  1.23s/it]"
     ]
    },
    {
     "name": "stdout",
     "output_type": "stream",
     "text": [
      "now in row:  1433\n"
     ]
    },
    {
     "name": "stderr",
     "output_type": "stream",
     "text": [
      "\r",
      " 87%|█████████████████████████████████▏    | 1434/1641 [11:15<03:49,  1.11s/it]"
     ]
    },
    {
     "name": "stdout",
     "output_type": "stream",
     "text": [
      "now in row:  1434\n"
     ]
    },
    {
     "name": "stderr",
     "output_type": "stream",
     "text": [
      "\r",
      " 87%|█████████████████████████████████▏    | 1435/1641 [11:16<03:32,  1.03s/it]"
     ]
    },
    {
     "name": "stdout",
     "output_type": "stream",
     "text": [
      "now in row:  1435\n"
     ]
    },
    {
     "name": "stderr",
     "output_type": "stream",
     "text": [
      "\r",
      " 88%|█████████████████████████████████▎    | 1436/1641 [11:17<03:45,  1.10s/it]"
     ]
    },
    {
     "name": "stdout",
     "output_type": "stream",
     "text": [
      "now in row:  1436\n"
     ]
    },
    {
     "name": "stderr",
     "output_type": "stream",
     "text": [
      "\r",
      " 88%|█████████████████████████████████▎    | 1437/1641 [11:18<03:57,  1.16s/it]"
     ]
    },
    {
     "name": "stdout",
     "output_type": "stream",
     "text": [
      "now in row:  1437\n"
     ]
    },
    {
     "name": "stderr",
     "output_type": "stream",
     "text": [
      "\r",
      " 88%|█████████████████████████████████▎    | 1438/1641 [11:20<04:15,  1.26s/it]"
     ]
    },
    {
     "name": "stdout",
     "output_type": "stream",
     "text": [
      "now in row:  1438\n"
     ]
    },
    {
     "name": "stderr",
     "output_type": "stream",
     "text": [
      "\r",
      " 88%|█████████████████████████████████▎    | 1439/1641 [11:21<03:50,  1.14s/it]"
     ]
    },
    {
     "name": "stdout",
     "output_type": "stream",
     "text": [
      "now in row:  1439\n"
     ]
    },
    {
     "name": "stderr",
     "output_type": "stream",
     "text": [
      "\r",
      " 88%|█████████████████████████████████▎    | 1440/1641 [11:21<03:34,  1.07s/it]"
     ]
    },
    {
     "name": "stdout",
     "output_type": "stream",
     "text": [
      "now in row:  1440\n"
     ]
    },
    {
     "name": "stderr",
     "output_type": "stream",
     "text": [
      "\r",
      " 88%|█████████████████████████████████▎    | 1441/1641 [11:23<03:31,  1.06s/it]"
     ]
    },
    {
     "name": "stdout",
     "output_type": "stream",
     "text": [
      "now in row:  1441\n"
     ]
    },
    {
     "name": "stderr",
     "output_type": "stream",
     "text": [
      "\r",
      " 88%|█████████████████████████████████▍    | 1442/1641 [11:24<03:32,  1.07s/it]"
     ]
    },
    {
     "name": "stdout",
     "output_type": "stream",
     "text": [
      "now in row:  1442\n"
     ]
    },
    {
     "name": "stderr",
     "output_type": "stream",
     "text": [
      "\r",
      " 88%|█████████████████████████████████▍    | 1443/1641 [11:24<03:19,  1.01s/it]"
     ]
    },
    {
     "name": "stdout",
     "output_type": "stream",
     "text": [
      "now in row:  1443\n"
     ]
    },
    {
     "name": "stderr",
     "output_type": "stream",
     "text": [
      "\r",
      " 88%|█████████████████████████████████▍    | 1444/1641 [11:30<07:59,  2.44s/it]"
     ]
    },
    {
     "name": "stdout",
     "output_type": "stream",
     "text": [
      "now in row:  1444\n"
     ]
    },
    {
     "name": "stderr",
     "output_type": "stream",
     "text": [
      "\r",
      " 88%|█████████████████████████████████▍    | 1445/1641 [11:31<06:18,  1.93s/it]"
     ]
    },
    {
     "name": "stdout",
     "output_type": "stream",
     "text": [
      "now in row:  1445\n"
     ]
    },
    {
     "name": "stderr",
     "output_type": "stream",
     "text": [
      "\r",
      " 88%|█████████████████████████████████▍    | 1446/1641 [11:32<05:15,  1.62s/it]"
     ]
    },
    {
     "name": "stdout",
     "output_type": "stream",
     "text": [
      "now in row:  1446\n"
     ]
    },
    {
     "name": "stderr",
     "output_type": "stream",
     "text": [
      "\r",
      " 88%|█████████████████████████████████▌    | 1447/1641 [11:33<04:31,  1.40s/it]"
     ]
    },
    {
     "name": "stdout",
     "output_type": "stream",
     "text": [
      "now in row:  1447\n"
     ]
    },
    {
     "name": "stderr",
     "output_type": "stream",
     "text": [
      "\r",
      " 88%|█████████████████████████████████▌    | 1448/1641 [11:34<04:04,  1.26s/it]"
     ]
    },
    {
     "name": "stdout",
     "output_type": "stream",
     "text": [
      "now in row:  1448\n"
     ]
    },
    {
     "name": "stderr",
     "output_type": "stream",
     "text": [
      "\r",
      " 88%|█████████████████████████████████▌    | 1449/1641 [11:35<03:35,  1.12s/it]"
     ]
    },
    {
     "name": "stdout",
     "output_type": "stream",
     "text": [
      "now in row:  1449\n"
     ]
    },
    {
     "name": "stderr",
     "output_type": "stream",
     "text": [
      "\r",
      " 88%|█████████████████████████████████▌    | 1450/1641 [11:35<03:26,  1.08s/it]"
     ]
    },
    {
     "name": "stdout",
     "output_type": "stream",
     "text": [
      "now in row:  1450\n"
     ]
    },
    {
     "name": "stderr",
     "output_type": "stream",
     "text": [
      "\r",
      " 88%|█████████████████████████████████▌    | 1451/1641 [11:36<03:14,  1.02s/it]"
     ]
    },
    {
     "name": "stdout",
     "output_type": "stream",
     "text": [
      "now in row:  1451\n"
     ]
    },
    {
     "name": "stderr",
     "output_type": "stream",
     "text": [
      "\r",
      " 88%|█████████████████████████████████▌    | 1452/1641 [11:38<03:53,  1.24s/it]"
     ]
    },
    {
     "name": "stdout",
     "output_type": "stream",
     "text": [
      "now in row:  1452\n"
     ]
    },
    {
     "name": "stderr",
     "output_type": "stream",
     "text": [
      "\r",
      " 89%|█████████████████████████████████▋    | 1453/1641 [11:39<03:31,  1.12s/it]"
     ]
    },
    {
     "name": "stdout",
     "output_type": "stream",
     "text": [
      "now in row:  1453\n"
     ]
    },
    {
     "name": "stderr",
     "output_type": "stream",
     "text": [
      "\r",
      " 89%|█████████████████████████████████▋    | 1454/1641 [11:41<04:12,  1.35s/it]"
     ]
    },
    {
     "name": "stdout",
     "output_type": "stream",
     "text": [
      "now in row:  1454\n"
     ]
    },
    {
     "name": "stderr",
     "output_type": "stream",
     "text": [
      "\r",
      " 89%|█████████████████████████████████▋    | 1455/1641 [11:42<03:40,  1.19s/it]"
     ]
    },
    {
     "name": "stdout",
     "output_type": "stream",
     "text": [
      "now in row:  1455\n"
     ]
    },
    {
     "name": "stderr",
     "output_type": "stream",
     "text": [
      "\r",
      " 89%|█████████████████████████████████▋    | 1456/1641 [11:43<03:24,  1.11s/it]"
     ]
    },
    {
     "name": "stdout",
     "output_type": "stream",
     "text": [
      "now in row:  1456\n"
     ]
    },
    {
     "name": "stderr",
     "output_type": "stream",
     "text": [
      "\r",
      " 89%|█████████████████████████████████▋    | 1457/1641 [11:43<03:10,  1.04s/it]"
     ]
    },
    {
     "name": "stdout",
     "output_type": "stream",
     "text": [
      "now in row:  1457\n"
     ]
    },
    {
     "name": "stderr",
     "output_type": "stream",
     "text": [
      "\r",
      " 89%|█████████████████████████████████▊    | 1458/1641 [11:44<02:56,  1.04it/s]"
     ]
    },
    {
     "name": "stdout",
     "output_type": "stream",
     "text": [
      "now in row:  1458\n"
     ]
    },
    {
     "name": "stderr",
     "output_type": "stream",
     "text": [
      "\r",
      " 89%|█████████████████████████████████▊    | 1459/1641 [11:45<02:44,  1.11it/s]"
     ]
    },
    {
     "name": "stdout",
     "output_type": "stream",
     "text": [
      "now in row:  1459\n"
     ]
    },
    {
     "name": "stderr",
     "output_type": "stream",
     "text": [
      "\r",
      " 89%|█████████████████████████████████▊    | 1460/1641 [11:46<02:54,  1.04it/s]"
     ]
    },
    {
     "name": "stdout",
     "output_type": "stream",
     "text": [
      "now in row:  1460\n"
     ]
    },
    {
     "name": "stderr",
     "output_type": "stream",
     "text": [
      "\r",
      " 89%|█████████████████████████████████▊    | 1461/1641 [11:47<02:51,  1.05it/s]"
     ]
    },
    {
     "name": "stdout",
     "output_type": "stream",
     "text": [
      "now in row:  1461\n"
     ]
    },
    {
     "name": "stderr",
     "output_type": "stream",
     "text": [
      "\r",
      " 89%|█████████████████████████████████▊    | 1462/1641 [11:48<02:43,  1.09it/s]"
     ]
    },
    {
     "name": "stdout",
     "output_type": "stream",
     "text": [
      "now in row:  1462\n"
     ]
    },
    {
     "name": "stderr",
     "output_type": "stream",
     "text": [
      "\r",
      " 89%|█████████████████████████████████▉    | 1463/1641 [11:56<08:54,  3.01s/it]"
     ]
    },
    {
     "name": "stdout",
     "output_type": "stream",
     "text": [
      "now in row:  1463\n"
     ]
    },
    {
     "name": "stderr",
     "output_type": "stream",
     "text": [
      "\r",
      " 89%|█████████████████████████████████▉    | 1464/1641 [11:58<08:21,  2.83s/it]"
     ]
    },
    {
     "name": "stdout",
     "output_type": "stream",
     "text": [
      "now in row:  1464\n"
     ]
    },
    {
     "name": "stderr",
     "output_type": "stream",
     "text": [
      "\r",
      " 89%|█████████████████████████████████▉    | 1465/1641 [11:59<06:35,  2.25s/it]"
     ]
    },
    {
     "name": "stdout",
     "output_type": "stream",
     "text": [
      "now in row:  1465\n"
     ]
    },
    {
     "name": "stderr",
     "output_type": "stream",
     "text": [
      "\r",
      " 89%|█████████████████████████████████▉    | 1466/1641 [12:00<05:24,  1.85s/it]"
     ]
    },
    {
     "name": "stdout",
     "output_type": "stream",
     "text": [
      "now in row:  1466\n"
     ]
    },
    {
     "name": "stderr",
     "output_type": "stream",
     "text": [
      "\r",
      " 89%|█████████████████████████████████▉    | 1467/1641 [12:01<04:33,  1.57s/it]"
     ]
    },
    {
     "name": "stdout",
     "output_type": "stream",
     "text": [
      "now in row:  1467\n"
     ]
    },
    {
     "name": "stderr",
     "output_type": "stream",
     "text": [
      "\r",
      " 89%|█████████████████████████████████▉    | 1468/1641 [12:02<03:49,  1.33s/it]"
     ]
    },
    {
     "name": "stdout",
     "output_type": "stream",
     "text": [
      "now in row:  1468\n"
     ]
    },
    {
     "name": "stderr",
     "output_type": "stream",
     "text": [
      "\r",
      " 90%|██████████████████████████████████    | 1469/1641 [12:03<03:43,  1.30s/it]"
     ]
    },
    {
     "name": "stdout",
     "output_type": "stream",
     "text": [
      "now in row:  1469\n"
     ]
    },
    {
     "name": "stderr",
     "output_type": "stream",
     "text": [
      "\r",
      " 90%|██████████████████████████████████    | 1470/1641 [12:04<03:31,  1.24s/it]"
     ]
    },
    {
     "name": "stdout",
     "output_type": "stream",
     "text": [
      "now in row:  1470\n"
     ]
    },
    {
     "name": "stderr",
     "output_type": "stream",
     "text": [
      "\r",
      " 90%|██████████████████████████████████    | 1471/1641 [12:05<03:25,  1.21s/it]"
     ]
    },
    {
     "name": "stdout",
     "output_type": "stream",
     "text": [
      "now in row:  1471\n"
     ]
    },
    {
     "name": "stderr",
     "output_type": "stream",
     "text": [
      "\r",
      " 90%|██████████████████████████████████    | 1472/1641 [12:07<03:38,  1.29s/it]"
     ]
    },
    {
     "name": "stdout",
     "output_type": "stream",
     "text": [
      "now in row:  1472\n"
     ]
    },
    {
     "name": "stderr",
     "output_type": "stream",
     "text": [
      "\r",
      " 90%|██████████████████████████████████    | 1473/1641 [12:09<04:17,  1.53s/it]"
     ]
    },
    {
     "name": "stdout",
     "output_type": "stream",
     "text": [
      "now in row:  1473\n"
     ]
    },
    {
     "name": "stderr",
     "output_type": "stream",
     "text": [
      "\r",
      " 90%|██████████████████████████████████▏   | 1474/1641 [12:10<03:56,  1.41s/it]"
     ]
    },
    {
     "name": "stdout",
     "output_type": "stream",
     "text": [
      "now in row:  1474\n"
     ]
    },
    {
     "name": "stderr",
     "output_type": "stream",
     "text": [
      "\r",
      " 90%|██████████████████████████████████▏   | 1475/1641 [12:11<03:36,  1.31s/it]"
     ]
    },
    {
     "name": "stdout",
     "output_type": "stream",
     "text": [
      "now in row:  1475\n"
     ]
    },
    {
     "name": "stderr",
     "output_type": "stream",
     "text": [
      "\r",
      " 90%|██████████████████████████████████▏   | 1476/1641 [12:12<03:04,  1.12s/it]"
     ]
    },
    {
     "name": "stdout",
     "output_type": "stream",
     "text": [
      "now in row:  1476\n"
     ]
    },
    {
     "name": "stderr",
     "output_type": "stream",
     "text": [
      "\r",
      " 90%|██████████████████████████████████▏   | 1477/1641 [12:12<02:47,  1.02s/it]"
     ]
    },
    {
     "name": "stdout",
     "output_type": "stream",
     "text": [
      "now in row:  1477\n"
     ]
    },
    {
     "name": "stderr",
     "output_type": "stream",
     "text": [
      "\r",
      " 90%|██████████████████████████████████▏   | 1478/1641 [12:13<02:36,  1.04it/s]"
     ]
    },
    {
     "name": "stdout",
     "output_type": "stream",
     "text": [
      "now in row:  1478\n"
     ]
    },
    {
     "name": "stderr",
     "output_type": "stream",
     "text": [
      "\r",
      " 90%|██████████████████████████████████▏   | 1479/1641 [12:14<02:28,  1.09it/s]"
     ]
    },
    {
     "name": "stdout",
     "output_type": "stream",
     "text": [
      "now in row:  1479\n"
     ]
    },
    {
     "name": "stderr",
     "output_type": "stream",
     "text": [
      "\r",
      " 90%|██████████████████████████████████▎   | 1480/1641 [12:15<02:39,  1.01it/s]"
     ]
    },
    {
     "name": "stdout",
     "output_type": "stream",
     "text": [
      "now in row:  1480\n"
     ]
    },
    {
     "name": "stderr",
     "output_type": "stream",
     "text": [
      "\r",
      " 90%|██████████████████████████████████▎   | 1481/1641 [12:17<02:56,  1.10s/it]"
     ]
    },
    {
     "name": "stdout",
     "output_type": "stream",
     "text": [
      "now in row:  1481\n"
     ]
    },
    {
     "name": "stderr",
     "output_type": "stream",
     "text": [
      "\r",
      " 90%|██████████████████████████████████▎   | 1482/1641 [12:17<02:35,  1.02it/s]"
     ]
    },
    {
     "name": "stdout",
     "output_type": "stream",
     "text": [
      "now in row:  1482\n"
     ]
    },
    {
     "name": "stderr",
     "output_type": "stream",
     "text": [
      "\r",
      " 90%|██████████████████████████████████▎   | 1483/1641 [12:18<02:21,  1.11it/s]"
     ]
    },
    {
     "name": "stdout",
     "output_type": "stream",
     "text": [
      "now in row:  1483\n"
     ]
    },
    {
     "name": "stderr",
     "output_type": "stream",
     "text": [
      "\r",
      " 90%|██████████████████████████████████▎   | 1484/1641 [12:19<02:23,  1.10it/s]"
     ]
    },
    {
     "name": "stdout",
     "output_type": "stream",
     "text": [
      "now in row:  1484\n"
     ]
    },
    {
     "name": "stderr",
     "output_type": "stream",
     "text": [
      "\r",
      " 90%|██████████████████████████████████▍   | 1485/1641 [12:20<02:17,  1.14it/s]"
     ]
    },
    {
     "name": "stdout",
     "output_type": "stream",
     "text": [
      "now in row:  1485\n"
     ]
    },
    {
     "name": "stderr",
     "output_type": "stream",
     "text": [
      "\r",
      " 91%|██████████████████████████████████▍   | 1486/1641 [12:21<02:14,  1.15it/s]"
     ]
    },
    {
     "name": "stdout",
     "output_type": "stream",
     "text": [
      "now in row:  1486\n"
     ]
    },
    {
     "name": "stderr",
     "output_type": "stream",
     "text": [
      "\r",
      " 91%|██████████████████████████████████▍   | 1487/1641 [12:26<05:49,  2.27s/it]"
     ]
    },
    {
     "name": "stdout",
     "output_type": "stream",
     "text": [
      "now in row:  1487\n"
     ]
    },
    {
     "name": "stderr",
     "output_type": "stream",
     "text": [
      "\r",
      " 91%|██████████████████████████████████▍   | 1488/1641 [12:27<04:55,  1.93s/it]"
     ]
    },
    {
     "name": "stdout",
     "output_type": "stream",
     "text": [
      "now in row:  1488\n"
     ]
    },
    {
     "name": "stderr",
     "output_type": "stream",
     "text": [
      "\r",
      " 91%|██████████████████████████████████▍   | 1489/1641 [12:28<04:07,  1.63s/it]"
     ]
    },
    {
     "name": "stdout",
     "output_type": "stream",
     "text": [
      "now in row:  1489\n"
     ]
    },
    {
     "name": "stderr",
     "output_type": "stream",
     "text": [
      "\r",
      " 91%|██████████████████████████████████▌   | 1490/1641 [12:30<03:56,  1.57s/it]"
     ]
    },
    {
     "name": "stdout",
     "output_type": "stream",
     "text": [
      "now in row:  1490\n"
     ]
    },
    {
     "name": "stderr",
     "output_type": "stream",
     "text": [
      "\r",
      " 91%|██████████████████████████████████▌   | 1491/1641 [12:31<03:35,  1.44s/it]"
     ]
    },
    {
     "name": "stdout",
     "output_type": "stream",
     "text": [
      "now in row:  1491\n"
     ]
    },
    {
     "name": "stderr",
     "output_type": "stream",
     "text": [
      "\r",
      " 91%|██████████████████████████████████▌   | 1492/1641 [12:31<03:02,  1.22s/it]"
     ]
    },
    {
     "name": "stdout",
     "output_type": "stream",
     "text": [
      "now in row:  1492\n"
     ]
    },
    {
     "name": "stderr",
     "output_type": "stream",
     "text": [
      "\r",
      " 91%|██████████████████████████████████▌   | 1493/1641 [12:32<02:42,  1.10s/it]"
     ]
    },
    {
     "name": "stdout",
     "output_type": "stream",
     "text": [
      "now in row:  1493\n"
     ]
    },
    {
     "name": "stderr",
     "output_type": "stream",
     "text": [
      "\r",
      " 91%|██████████████████████████████████▌   | 1494/1641 [12:33<02:24,  1.02it/s]"
     ]
    },
    {
     "name": "stdout",
     "output_type": "stream",
     "text": [
      "now in row:  1494\n"
     ]
    },
    {
     "name": "stderr",
     "output_type": "stream",
     "text": [
      "\r",
      " 91%|██████████████████████████████████▌   | 1495/1641 [12:34<02:13,  1.09it/s]"
     ]
    },
    {
     "name": "stdout",
     "output_type": "stream",
     "text": [
      "now in row:  1495\n"
     ]
    },
    {
     "name": "stderr",
     "output_type": "stream",
     "text": [
      "\r",
      " 91%|██████████████████████████████████▋   | 1496/1641 [12:34<02:06,  1.14it/s]"
     ]
    },
    {
     "name": "stdout",
     "output_type": "stream",
     "text": [
      "now in row:  1496\n"
     ]
    },
    {
     "name": "stderr",
     "output_type": "stream",
     "text": [
      "\r",
      " 91%|██████████████████████████████████▋   | 1497/1641 [12:35<02:04,  1.16it/s]"
     ]
    },
    {
     "name": "stdout",
     "output_type": "stream",
     "text": [
      "now in row:  1497\n"
     ]
    },
    {
     "name": "stderr",
     "output_type": "stream",
     "text": [
      "\r",
      " 91%|██████████████████████████████████▋   | 1498/1641 [12:37<02:21,  1.01it/s]"
     ]
    },
    {
     "name": "stdout",
     "output_type": "stream",
     "text": [
      "now in row:  1498\n"
     ]
    },
    {
     "name": "stderr",
     "output_type": "stream",
     "text": [
      "\r",
      " 91%|██████████████████████████████████▋   | 1499/1641 [12:37<02:13,  1.06it/s]"
     ]
    },
    {
     "name": "stdout",
     "output_type": "stream",
     "text": [
      "now in row:  1499\n"
     ]
    },
    {
     "name": "stderr",
     "output_type": "stream",
     "text": [
      "\r",
      " 91%|██████████████████████████████████▋   | 1500/1641 [12:38<02:08,  1.10it/s]"
     ]
    },
    {
     "name": "stdout",
     "output_type": "stream",
     "text": [
      "now in row:  1500\n"
     ]
    },
    {
     "name": "stderr",
     "output_type": "stream",
     "text": [
      "\r",
      " 91%|██████████████████████████████████▊   | 1501/1641 [12:39<02:01,  1.16it/s]"
     ]
    },
    {
     "name": "stdout",
     "output_type": "stream",
     "text": [
      "now in row:  1501\n"
     ]
    },
    {
     "name": "stderr",
     "output_type": "stream",
     "text": [
      "\r",
      " 92%|██████████████████████████████████▊   | 1502/1641 [12:40<01:56,  1.19it/s]"
     ]
    },
    {
     "name": "stdout",
     "output_type": "stream",
     "text": [
      "now in row:  1502\n"
     ]
    },
    {
     "name": "stderr",
     "output_type": "stream",
     "text": [
      "\r",
      " 92%|██████████████████████████████████▊   | 1503/1641 [12:41<01:51,  1.23it/s]"
     ]
    },
    {
     "name": "stdout",
     "output_type": "stream",
     "text": [
      "now in row:  1503\n"
     ]
    },
    {
     "name": "stderr",
     "output_type": "stream",
     "text": [
      "\r",
      " 92%|██████████████████████████████████▊   | 1504/1641 [12:41<01:53,  1.20it/s]"
     ]
    },
    {
     "name": "stdout",
     "output_type": "stream",
     "text": [
      "now in row:  1504\n"
     ]
    },
    {
     "name": "stderr",
     "output_type": "stream",
     "text": [
      "\r",
      " 92%|██████████████████████████████████▊   | 1505/1641 [12:42<01:49,  1.24it/s]"
     ]
    },
    {
     "name": "stdout",
     "output_type": "stream",
     "text": [
      "now in row:  1505\n"
     ]
    },
    {
     "name": "stderr",
     "output_type": "stream",
     "text": [
      "\r",
      " 92%|██████████████████████████████████▊   | 1506/1641 [12:43<01:42,  1.32it/s]"
     ]
    },
    {
     "name": "stdout",
     "output_type": "stream",
     "text": [
      "now in row:  1506\n"
     ]
    },
    {
     "name": "stderr",
     "output_type": "stream",
     "text": [
      "\r",
      " 92%|██████████████████████████████████▉   | 1507/1641 [12:44<01:42,  1.31it/s]"
     ]
    },
    {
     "name": "stdout",
     "output_type": "stream",
     "text": [
      "now in row:  1507\n"
     ]
    },
    {
     "name": "stderr",
     "output_type": "stream",
     "text": [
      "\r",
      " 92%|██████████████████████████████████▉   | 1508/1641 [12:44<01:43,  1.29it/s]"
     ]
    },
    {
     "name": "stdout",
     "output_type": "stream",
     "text": [
      "now in row:  1508\n"
     ]
    },
    {
     "name": "stderr",
     "output_type": "stream",
     "text": [
      "\r",
      " 92%|██████████████████████████████████▉   | 1509/1641 [12:46<01:58,  1.12it/s]"
     ]
    },
    {
     "name": "stdout",
     "output_type": "stream",
     "text": [
      "now in row:  1509\n"
     ]
    },
    {
     "name": "stderr",
     "output_type": "stream",
     "text": [
      "\r",
      " 92%|██████████████████████████████████▉   | 1510/1641 [12:46<01:56,  1.13it/s]"
     ]
    },
    {
     "name": "stdout",
     "output_type": "stream",
     "text": [
      "now in row:  1510\n"
     ]
    },
    {
     "name": "stderr",
     "output_type": "stream",
     "text": [
      "\r",
      " 92%|██████████████████████████████████▉   | 1511/1641 [12:48<02:10,  1.00s/it]"
     ]
    },
    {
     "name": "stdout",
     "output_type": "stream",
     "text": [
      "now in row:  1511\n"
     ]
    },
    {
     "name": "stderr",
     "output_type": "stream",
     "text": [
      "\r",
      " 92%|███████████████████████████████████   | 1512/1641 [12:49<02:14,  1.04s/it]"
     ]
    },
    {
     "name": "stdout",
     "output_type": "stream",
     "text": [
      "now in row:  1512\n"
     ]
    },
    {
     "name": "stderr",
     "output_type": "stream",
     "text": [
      "\r",
      " 92%|███████████████████████████████████   | 1513/1641 [12:50<02:03,  1.04it/s]"
     ]
    },
    {
     "name": "stdout",
     "output_type": "stream",
     "text": [
      "now in row:  1513\n"
     ]
    },
    {
     "name": "stderr",
     "output_type": "stream",
     "text": [
      "\r",
      " 92%|███████████████████████████████████   | 1514/1641 [12:50<01:54,  1.11it/s]"
     ]
    },
    {
     "name": "stdout",
     "output_type": "stream",
     "text": [
      "now in row:  1514\n"
     ]
    },
    {
     "name": "stderr",
     "output_type": "stream",
     "text": [
      "\r",
      " 92%|███████████████████████████████████   | 1515/1641 [12:52<02:04,  1.01it/s]"
     ]
    },
    {
     "name": "stdout",
     "output_type": "stream",
     "text": [
      "now in row:  1515\n"
     ]
    },
    {
     "name": "stderr",
     "output_type": "stream",
     "text": [
      "\r",
      " 92%|███████████████████████████████████   | 1516/1641 [12:59<06:21,  3.05s/it]"
     ]
    },
    {
     "name": "stdout",
     "output_type": "stream",
     "text": [
      "now in row:  1516\n"
     ]
    },
    {
     "name": "stderr",
     "output_type": "stream",
     "text": [
      "\r",
      " 92%|███████████████████████████████████▏  | 1517/1641 [13:03<06:28,  3.13s/it]"
     ]
    },
    {
     "name": "stdout",
     "output_type": "stream",
     "text": [
      "now in row:  1517\n"
     ]
    },
    {
     "name": "stderr",
     "output_type": "stream",
     "text": [
      "\r",
      " 93%|███████████████████████████████████▏  | 1518/1641 [13:04<05:02,  2.46s/it]"
     ]
    },
    {
     "name": "stdout",
     "output_type": "stream",
     "text": [
      "now in row:  1518\n"
     ]
    },
    {
     "name": "stderr",
     "output_type": "stream",
     "text": [
      "\r",
      " 93%|███████████████████████████████████▏  | 1519/1641 [13:05<04:02,  1.99s/it]"
     ]
    },
    {
     "name": "stdout",
     "output_type": "stream",
     "text": [
      "now in row:  1519\n"
     ]
    },
    {
     "name": "stderr",
     "output_type": "stream",
     "text": [
      "\r",
      " 93%|███████████████████████████████████▏  | 1520/1641 [13:06<03:23,  1.68s/it]"
     ]
    },
    {
     "name": "stdout",
     "output_type": "stream",
     "text": [
      "now in row:  1520\n"
     ]
    },
    {
     "name": "stderr",
     "output_type": "stream",
     "text": [
      "\r",
      " 93%|███████████████████████████████████▏  | 1521/1641 [13:06<02:56,  1.47s/it]"
     ]
    },
    {
     "name": "stdout",
     "output_type": "stream",
     "text": [
      "now in row:  1521\n"
     ]
    },
    {
     "name": "stderr",
     "output_type": "stream",
     "text": [
      "\r",
      " 93%|███████████████████████████████████▏  | 1522/1641 [13:07<02:36,  1.31s/it]"
     ]
    },
    {
     "name": "stdout",
     "output_type": "stream",
     "text": [
      "now in row:  1522\n"
     ]
    },
    {
     "name": "stderr",
     "output_type": "stream",
     "text": [
      "\r",
      " 93%|███████████████████████████████████▎  | 1523/1641 [13:08<02:16,  1.15s/it]"
     ]
    },
    {
     "name": "stdout",
     "output_type": "stream",
     "text": [
      "now in row:  1523\n"
     ]
    },
    {
     "name": "stderr",
     "output_type": "stream",
     "text": [
      "\r",
      " 93%|███████████████████████████████████▎  | 1524/1641 [13:09<02:04,  1.07s/it]"
     ]
    },
    {
     "name": "stdout",
     "output_type": "stream",
     "text": [
      "now in row:  1524\n"
     ]
    },
    {
     "name": "stderr",
     "output_type": "stream",
     "text": [
      "\r",
      " 93%|███████████████████████████████████▎  | 1525/1641 [13:10<01:52,  1.03it/s]"
     ]
    },
    {
     "name": "stdout",
     "output_type": "stream",
     "text": [
      "now in row:  1525\n"
     ]
    },
    {
     "name": "stderr",
     "output_type": "stream",
     "text": [
      "\r",
      " 93%|███████████████████████████████████▎  | 1526/1641 [13:11<02:00,  1.05s/it]"
     ]
    },
    {
     "name": "stdout",
     "output_type": "stream",
     "text": [
      "now in row:  1526\n"
     ]
    },
    {
     "name": "stderr",
     "output_type": "stream",
     "text": [
      "\r",
      " 93%|███████████████████████████████████▎  | 1527/1641 [13:12<02:06,  1.11s/it]"
     ]
    },
    {
     "name": "stdout",
     "output_type": "stream",
     "text": [
      "now in row:  1527\n"
     ]
    },
    {
     "name": "stderr",
     "output_type": "stream",
     "text": [
      "\r",
      " 93%|███████████████████████████████████▍  | 1528/1641 [13:14<02:08,  1.14s/it]"
     ]
    },
    {
     "name": "stdout",
     "output_type": "stream",
     "text": [
      "now in row:  1528\n"
     ]
    },
    {
     "name": "stderr",
     "output_type": "stream",
     "text": [
      "\r",
      " 93%|███████████████████████████████████▍  | 1529/1641 [13:14<01:52,  1.01s/it]"
     ]
    },
    {
     "name": "stdout",
     "output_type": "stream",
     "text": [
      "now in row:  1529\n"
     ]
    },
    {
     "name": "stderr",
     "output_type": "stream",
     "text": [
      "\r",
      " 93%|███████████████████████████████████▍  | 1530/1641 [13:15<01:48,  1.02it/s]"
     ]
    },
    {
     "name": "stdout",
     "output_type": "stream",
     "text": [
      "now in row:  1530\n"
     ]
    },
    {
     "name": "stderr",
     "output_type": "stream",
     "text": [
      "\r",
      " 93%|███████████████████████████████████▍  | 1531/1641 [13:17<02:11,  1.19s/it]"
     ]
    },
    {
     "name": "stdout",
     "output_type": "stream",
     "text": [
      "now in row:  1531\n"
     ]
    },
    {
     "name": "stderr",
     "output_type": "stream",
     "text": [
      "\r",
      " 93%|███████████████████████████████████▍  | 1532/1641 [13:18<02:15,  1.25s/it]"
     ]
    },
    {
     "name": "stdout",
     "output_type": "stream",
     "text": [
      "now in row:  1532\n"
     ]
    },
    {
     "name": "stderr",
     "output_type": "stream",
     "text": [
      "\r",
      " 93%|███████████████████████████████████▍  | 1533/1641 [13:19<02:01,  1.12s/it]"
     ]
    },
    {
     "name": "stdout",
     "output_type": "stream",
     "text": [
      "now in row:  1533\n"
     ]
    },
    {
     "name": "stderr",
     "output_type": "stream",
     "text": [
      "\r",
      " 93%|███████████████████████████████████▌  | 1534/1641 [13:22<02:45,  1.55s/it]"
     ]
    },
    {
     "name": "stdout",
     "output_type": "stream",
     "text": [
      "now in row:  1534\n"
     ]
    },
    {
     "name": "stderr",
     "output_type": "stream",
     "text": [
      "\r",
      " 94%|███████████████████████████████████▌  | 1535/1641 [13:23<02:50,  1.61s/it]"
     ]
    },
    {
     "name": "stdout",
     "output_type": "stream",
     "text": [
      "now in row:  1535\n"
     ]
    },
    {
     "name": "stderr",
     "output_type": "stream",
     "text": [
      "\r",
      " 94%|███████████████████████████████████▌  | 1536/1641 [13:24<02:22,  1.36s/it]"
     ]
    },
    {
     "name": "stdout",
     "output_type": "stream",
     "text": [
      "now in row:  1536\n"
     ]
    },
    {
     "name": "stderr",
     "output_type": "stream",
     "text": [
      "\r",
      " 94%|███████████████████████████████████▌  | 1537/1641 [13:25<02:19,  1.34s/it]"
     ]
    },
    {
     "name": "stdout",
     "output_type": "stream",
     "text": [
      "now in row:  1537\n"
     ]
    },
    {
     "name": "stderr",
     "output_type": "stream",
     "text": [
      "\r",
      " 94%|███████████████████████████████████▌  | 1538/1641 [13:26<02:01,  1.18s/it]"
     ]
    },
    {
     "name": "stdout",
     "output_type": "stream",
     "text": [
      "now in row:  1538\n"
     ]
    },
    {
     "name": "stderr",
     "output_type": "stream",
     "text": [
      "\r",
      " 94%|███████████████████████████████████▋  | 1539/1641 [13:27<01:46,  1.04s/it]"
     ]
    },
    {
     "name": "stdout",
     "output_type": "stream",
     "text": [
      "now in row:  1539\n"
     ]
    },
    {
     "name": "stderr",
     "output_type": "stream",
     "text": [
      "\r",
      " 94%|███████████████████████████████████▋  | 1540/1641 [13:28<01:34,  1.07it/s]"
     ]
    },
    {
     "name": "stdout",
     "output_type": "stream",
     "text": [
      "now in row:  1540\n"
     ]
    },
    {
     "name": "stderr",
     "output_type": "stream",
     "text": [
      "\r",
      " 94%|███████████████████████████████████▋  | 1541/1641 [13:35<04:41,  2.81s/it]"
     ]
    },
    {
     "name": "stdout",
     "output_type": "stream",
     "text": [
      "now in row:  1541\n"
     ]
    },
    {
     "name": "stderr",
     "output_type": "stream",
     "text": [
      "\r",
      " 94%|███████████████████████████████████▋  | 1542/1641 [13:36<03:36,  2.19s/it]"
     ]
    },
    {
     "name": "stdout",
     "output_type": "stream",
     "text": [
      "now in row:  1542\n"
     ]
    },
    {
     "name": "stderr",
     "output_type": "stream",
     "text": [
      "\r",
      " 94%|███████████████████████████████████▋  | 1543/1641 [13:36<02:53,  1.77s/it]"
     ]
    },
    {
     "name": "stdout",
     "output_type": "stream",
     "text": [
      "now in row:  1543\n"
     ]
    },
    {
     "name": "stderr",
     "output_type": "stream",
     "text": [
      "\r",
      " 94%|███████████████████████████████████▊  | 1544/1641 [13:40<04:00,  2.48s/it]"
     ]
    },
    {
     "name": "stdout",
     "output_type": "stream",
     "text": [
      "now in row:  1544\n"
     ]
    },
    {
     "name": "stderr",
     "output_type": "stream",
     "text": [
      "\r",
      " 94%|███████████████████████████████████▊  | 1545/1641 [13:41<03:08,  1.97s/it]"
     ]
    },
    {
     "name": "stdout",
     "output_type": "stream",
     "text": [
      "now in row:  1545\n"
     ]
    },
    {
     "name": "stderr",
     "output_type": "stream",
     "text": [
      "\r",
      " 94%|███████████████████████████████████▊  | 1546/1641 [13:42<02:32,  1.61s/it]"
     ]
    },
    {
     "name": "stdout",
     "output_type": "stream",
     "text": [
      "now in row:  1546\n"
     ]
    },
    {
     "name": "stderr",
     "output_type": "stream",
     "text": [
      "\r",
      " 94%|███████████████████████████████████▊  | 1547/1641 [13:45<03:07,  2.00s/it]"
     ]
    },
    {
     "name": "stdout",
     "output_type": "stream",
     "text": [
      "now in row:  1547\n"
     ]
    },
    {
     "name": "stderr",
     "output_type": "stream",
     "text": [
      "\r",
      " 94%|███████████████████████████████████▊  | 1548/1641 [13:46<02:31,  1.63s/it]"
     ]
    },
    {
     "name": "stdout",
     "output_type": "stream",
     "text": [
      "now in row:  1548\n"
     ]
    },
    {
     "name": "stderr",
     "output_type": "stream",
     "text": [
      "\r",
      " 94%|███████████████████████████████████▊  | 1549/1641 [13:47<02:09,  1.41s/it]"
     ]
    },
    {
     "name": "stdout",
     "output_type": "stream",
     "text": [
      "now in row:  1549\n"
     ]
    },
    {
     "name": "stderr",
     "output_type": "stream",
     "text": [
      "\r",
      " 94%|███████████████████████████████████▉  | 1550/1641 [13:47<01:52,  1.23s/it]"
     ]
    },
    {
     "name": "stdout",
     "output_type": "stream",
     "text": [
      "now in row:  1550\n"
     ]
    },
    {
     "name": "stderr",
     "output_type": "stream",
     "text": [
      "\r",
      " 95%|███████████████████████████████████▉  | 1551/1641 [13:48<01:44,  1.16s/it]"
     ]
    },
    {
     "name": "stdout",
     "output_type": "stream",
     "text": [
      "now in row:  1551\n"
     ]
    },
    {
     "name": "stderr",
     "output_type": "stream",
     "text": [
      "\r",
      " 95%|███████████████████████████████████▉  | 1552/1641 [13:49<01:34,  1.06s/it]"
     ]
    },
    {
     "name": "stdout",
     "output_type": "stream",
     "text": [
      "now in row:  1552\n"
     ]
    },
    {
     "name": "stderr",
     "output_type": "stream",
     "text": [
      "\r",
      " 95%|███████████████████████████████████▉  | 1553/1641 [13:51<01:42,  1.17s/it]"
     ]
    },
    {
     "name": "stdout",
     "output_type": "stream",
     "text": [
      "now in row:  1553\n"
     ]
    },
    {
     "name": "stderr",
     "output_type": "stream",
     "text": [
      "\r",
      " 95%|███████████████████████████████████▉  | 1554/1641 [13:52<01:55,  1.33s/it]"
     ]
    },
    {
     "name": "stdout",
     "output_type": "stream",
     "text": [
      "now in row:  1554\n"
     ]
    },
    {
     "name": "stderr",
     "output_type": "stream",
     "text": [
      "\r",
      " 95%|████████████████████████████████████  | 1555/1641 [13:54<01:50,  1.29s/it]"
     ]
    },
    {
     "name": "stdout",
     "output_type": "stream",
     "text": [
      "now in row:  1555\n"
     ]
    },
    {
     "name": "stderr",
     "output_type": "stream",
     "text": [
      "\r",
      " 95%|████████████████████████████████████  | 1556/1641 [13:54<01:38,  1.16s/it]"
     ]
    },
    {
     "name": "stdout",
     "output_type": "stream",
     "text": [
      "now in row:  1556\n"
     ]
    },
    {
     "name": "stderr",
     "output_type": "stream",
     "text": [
      "\r",
      " 95%|████████████████████████████████████  | 1557/1641 [13:59<02:52,  2.05s/it]"
     ]
    },
    {
     "name": "stdout",
     "output_type": "stream",
     "text": [
      "now in row:  1557\n"
     ]
    },
    {
     "name": "stderr",
     "output_type": "stream",
     "text": [
      "\r",
      " 95%|████████████████████████████████████  | 1558/1641 [14:00<02:36,  1.89s/it]"
     ]
    },
    {
     "name": "stdout",
     "output_type": "stream",
     "text": [
      "now in row:  1558\n"
     ]
    },
    {
     "name": "stderr",
     "output_type": "stream",
     "text": [
      "\r",
      " 95%|████████████████████████████████████  | 1559/1641 [14:01<02:20,  1.72s/it]"
     ]
    },
    {
     "name": "stdout",
     "output_type": "stream",
     "text": [
      "now in row:  1559\n"
     ]
    },
    {
     "name": "stderr",
     "output_type": "stream",
     "text": [
      "\r",
      " 95%|████████████████████████████████████  | 1560/1641 [14:02<01:59,  1.47s/it]"
     ]
    },
    {
     "name": "stdout",
     "output_type": "stream",
     "text": [
      "now in row:  1560\n"
     ]
    },
    {
     "name": "stderr",
     "output_type": "stream",
     "text": [
      "\r",
      " 95%|████████████████████████████████████▏ | 1561/1641 [14:03<01:51,  1.40s/it]"
     ]
    },
    {
     "name": "stdout",
     "output_type": "stream",
     "text": [
      "now in row:  1561\n"
     ]
    },
    {
     "name": "stderr",
     "output_type": "stream",
     "text": [
      "\r",
      " 95%|████████████████████████████████████▏ | 1562/1641 [14:04<01:37,  1.23s/it]"
     ]
    },
    {
     "name": "stdout",
     "output_type": "stream",
     "text": [
      "now in row:  1562\n"
     ]
    },
    {
     "name": "stderr",
     "output_type": "stream",
     "text": [
      "\r",
      " 95%|████████████████████████████████████▏ | 1563/1641 [14:05<01:25,  1.10s/it]"
     ]
    },
    {
     "name": "stdout",
     "output_type": "stream",
     "text": [
      "now in row:  1563\n"
     ]
    },
    {
     "name": "stderr",
     "output_type": "stream",
     "text": [
      "\r",
      " 95%|████████████████████████████████████▏ | 1564/1641 [14:06<01:28,  1.15s/it]"
     ]
    },
    {
     "name": "stdout",
     "output_type": "stream",
     "text": [
      "now in row:  1564\n"
     ]
    },
    {
     "name": "stderr",
     "output_type": "stream",
     "text": [
      "\r",
      " 95%|████████████████████████████████████▏ | 1565/1641 [14:08<01:35,  1.26s/it]"
     ]
    },
    {
     "name": "stdout",
     "output_type": "stream",
     "text": [
      "now in row:  1565\n"
     ]
    },
    {
     "name": "stderr",
     "output_type": "stream",
     "text": [
      "\r",
      " 95%|████████████████████████████████████▎ | 1566/1641 [14:09<01:37,  1.31s/it]"
     ]
    },
    {
     "name": "stdout",
     "output_type": "stream",
     "text": [
      "now in row:  1566\n"
     ]
    },
    {
     "name": "stderr",
     "output_type": "stream",
     "text": [
      "\r",
      " 95%|████████████████████████████████████▎ | 1567/1641 [14:10<01:27,  1.18s/it]"
     ]
    },
    {
     "name": "stdout",
     "output_type": "stream",
     "text": [
      "now in row:  1567\n"
     ]
    },
    {
     "name": "stderr",
     "output_type": "stream",
     "text": [
      "\r",
      " 96%|████████████████████████████████████▎ | 1568/1641 [14:11<01:17,  1.06s/it]"
     ]
    },
    {
     "name": "stdout",
     "output_type": "stream",
     "text": [
      "now in row:  1568\n"
     ]
    },
    {
     "name": "stderr",
     "output_type": "stream",
     "text": [
      "\r",
      " 96%|████████████████████████████████████▎ | 1569/1641 [14:12<01:18,  1.10s/it]"
     ]
    },
    {
     "name": "stdout",
     "output_type": "stream",
     "text": [
      "now in row:  1569\n"
     ]
    },
    {
     "name": "stderr",
     "output_type": "stream",
     "text": [
      "\r",
      " 96%|████████████████████████████████████▎ | 1570/1641 [14:13<01:13,  1.04s/it]"
     ]
    },
    {
     "name": "stdout",
     "output_type": "stream",
     "text": [
      "now in row:  1570\n"
     ]
    },
    {
     "name": "stderr",
     "output_type": "stream",
     "text": [
      "\r",
      " 96%|████████████████████████████████████▍ | 1571/1641 [14:14<01:12,  1.04s/it]"
     ]
    },
    {
     "name": "stdout",
     "output_type": "stream",
     "text": [
      "now in row:  1571\n"
     ]
    },
    {
     "name": "stderr",
     "output_type": "stream",
     "text": [
      "\r",
      " 96%|████████████████████████████████████▍ | 1572/1641 [14:15<01:14,  1.08s/it]"
     ]
    },
    {
     "name": "stdout",
     "output_type": "stream",
     "text": [
      "now in row:  1572\n"
     ]
    },
    {
     "name": "stderr",
     "output_type": "stream",
     "text": [
      "\r",
      " 96%|████████████████████████████████████▍ | 1573/1641 [14:16<01:10,  1.04s/it]"
     ]
    },
    {
     "name": "stdout",
     "output_type": "stream",
     "text": [
      "now in row:  1573\n"
     ]
    },
    {
     "name": "stderr",
     "output_type": "stream",
     "text": [
      "\r",
      " 96%|████████████████████████████████████▍ | 1574/1641 [14:18<01:33,  1.40s/it]"
     ]
    },
    {
     "name": "stdout",
     "output_type": "stream",
     "text": [
      "now in row:  1574\n"
     ]
    },
    {
     "name": "stderr",
     "output_type": "stream",
     "text": [
      "\r",
      " 96%|████████████████████████████████████▍ | 1575/1641 [14:19<01:20,  1.21s/it]"
     ]
    },
    {
     "name": "stdout",
     "output_type": "stream",
     "text": [
      "now in row:  1575\n"
     ]
    },
    {
     "name": "stderr",
     "output_type": "stream",
     "text": [
      "\r",
      " 96%|████████████████████████████████████▍ | 1576/1641 [14:20<01:09,  1.07s/it]"
     ]
    },
    {
     "name": "stdout",
     "output_type": "stream",
     "text": [
      "now in row:  1576\n"
     ]
    },
    {
     "name": "stderr",
     "output_type": "stream",
     "text": [
      "\r",
      " 96%|████████████████████████████████████▌ | 1577/1641 [14:21<01:01,  1.04it/s]"
     ]
    },
    {
     "name": "stdout",
     "output_type": "stream",
     "text": [
      "now in row:  1577\n"
     ]
    },
    {
     "name": "stderr",
     "output_type": "stream",
     "text": [
      "\r",
      " 96%|████████████████████████████████████▌ | 1578/1641 [14:22<01:01,  1.03it/s]"
     ]
    },
    {
     "name": "stdout",
     "output_type": "stream",
     "text": [
      "now in row:  1578\n"
     ]
    },
    {
     "name": "stderr",
     "output_type": "stream",
     "text": [
      "\r",
      " 96%|████████████████████████████████████▌ | 1579/1641 [14:23<00:58,  1.06it/s]"
     ]
    },
    {
     "name": "stdout",
     "output_type": "stream",
     "text": [
      "now in row:  1579\n"
     ]
    },
    {
     "name": "stderr",
     "output_type": "stream",
     "text": [
      "\r",
      " 96%|████████████████████████████████████▌ | 1580/1641 [14:25<01:30,  1.48s/it]"
     ]
    },
    {
     "name": "stdout",
     "output_type": "stream",
     "text": [
      "now in row:  1580\n"
     ]
    },
    {
     "name": "stderr",
     "output_type": "stream",
     "text": [
      "\r",
      " 96%|████████████████████████████████████▌ | 1581/1641 [14:26<01:18,  1.30s/it]"
     ]
    },
    {
     "name": "stdout",
     "output_type": "stream",
     "text": [
      "now in row:  1581\n"
     ]
    },
    {
     "name": "stderr",
     "output_type": "stream",
     "text": [
      "\r",
      " 96%|████████████████████████████████████▋ | 1582/1641 [14:27<01:06,  1.13s/it]"
     ]
    },
    {
     "name": "stdout",
     "output_type": "stream",
     "text": [
      "now in row:  1582\n"
     ]
    },
    {
     "name": "stderr",
     "output_type": "stream",
     "text": [
      "\r",
      " 96%|████████████████████████████████████▋ | 1583/1641 [14:28<00:58,  1.00s/it]"
     ]
    },
    {
     "name": "stdout",
     "output_type": "stream",
     "text": [
      "now in row:  1583\n"
     ]
    },
    {
     "name": "stderr",
     "output_type": "stream",
     "text": [
      "\r",
      " 97%|████████████████████████████████████▋ | 1584/1641 [14:28<00:52,  1.08it/s]"
     ]
    },
    {
     "name": "stdout",
     "output_type": "stream",
     "text": [
      "now in row:  1584\n"
     ]
    },
    {
     "name": "stderr",
     "output_type": "stream",
     "text": [
      "\r",
      " 97%|████████████████████████████████████▋ | 1585/1641 [14:29<00:53,  1.04it/s]"
     ]
    },
    {
     "name": "stdout",
     "output_type": "stream",
     "text": [
      "now in row:  1585\n"
     ]
    },
    {
     "name": "stderr",
     "output_type": "stream",
     "text": [
      "\r",
      " 97%|████████████████████████████████████▋ | 1586/1641 [14:32<01:13,  1.34s/it]"
     ]
    },
    {
     "name": "stdout",
     "output_type": "stream",
     "text": [
      "now in row:  1586\n"
     ]
    },
    {
     "name": "stderr",
     "output_type": "stream",
     "text": [
      "\r",
      " 97%|████████████████████████████████████▋ | 1587/1641 [14:33<01:20,  1.49s/it]"
     ]
    },
    {
     "name": "stdout",
     "output_type": "stream",
     "text": [
      "now in row:  1587\n"
     ]
    },
    {
     "name": "stderr",
     "output_type": "stream",
     "text": [
      "\r",
      " 97%|████████████████████████████████████▊ | 1588/1641 [14:34<01:08,  1.30s/it]"
     ]
    },
    {
     "name": "stdout",
     "output_type": "stream",
     "text": [
      "now in row:  1588\n"
     ]
    },
    {
     "name": "stderr",
     "output_type": "stream",
     "text": [
      "\r",
      " 97%|████████████████████████████████████▊ | 1589/1641 [14:35<01:01,  1.19s/it]"
     ]
    },
    {
     "name": "stdout",
     "output_type": "stream",
     "text": [
      "now in row:  1589\n"
     ]
    },
    {
     "name": "stderr",
     "output_type": "stream",
     "text": [
      "\r",
      " 97%|████████████████████████████████████▊ | 1590/1641 [14:36<00:55,  1.09s/it]"
     ]
    },
    {
     "name": "stdout",
     "output_type": "stream",
     "text": [
      "now in row:  1590\n"
     ]
    },
    {
     "name": "stderr",
     "output_type": "stream",
     "text": [
      "\r",
      " 97%|████████████████████████████████████▊ | 1591/1641 [14:39<01:26,  1.73s/it]"
     ]
    },
    {
     "name": "stdout",
     "output_type": "stream",
     "text": [
      "now in row:  1591\n"
     ]
    },
    {
     "name": "stderr",
     "output_type": "stream",
     "text": [
      "\r",
      " 97%|████████████████████████████████████▊ | 1592/1641 [14:41<01:22,  1.69s/it]"
     ]
    },
    {
     "name": "stdout",
     "output_type": "stream",
     "text": [
      "now in row:  1592\n"
     ]
    },
    {
     "name": "stderr",
     "output_type": "stream",
     "text": [
      "\r",
      " 97%|████████████████████████████████████▉ | 1593/1641 [14:42<01:09,  1.44s/it]"
     ]
    },
    {
     "name": "stdout",
     "output_type": "stream",
     "text": [
      "now in row:  1593\n"
     ]
    },
    {
     "name": "stderr",
     "output_type": "stream",
     "text": [
      "\r",
      " 97%|████████████████████████████████████▉ | 1594/1641 [14:43<01:02,  1.34s/it]"
     ]
    },
    {
     "name": "stdout",
     "output_type": "stream",
     "text": [
      "now in row:  1594\n"
     ]
    },
    {
     "name": "stderr",
     "output_type": "stream",
     "text": [
      "\r",
      " 97%|████████████████████████████████████▉ | 1595/1641 [14:44<00:55,  1.20s/it]"
     ]
    },
    {
     "name": "stdout",
     "output_type": "stream",
     "text": [
      "now in row:  1595\n"
     ]
    },
    {
     "name": "stderr",
     "output_type": "stream",
     "text": [
      "\r",
      " 97%|████████████████████████████████████▉ | 1596/1641 [14:45<00:54,  1.21s/it]"
     ]
    },
    {
     "name": "stdout",
     "output_type": "stream",
     "text": [
      "now in row:  1596\n"
     ]
    },
    {
     "name": "stderr",
     "output_type": "stream",
     "text": [
      "\r",
      " 97%|████████████████████████████████████▉ | 1597/1641 [14:46<00:48,  1.11s/it]"
     ]
    },
    {
     "name": "stdout",
     "output_type": "stream",
     "text": [
      "now in row:  1597\n"
     ]
    },
    {
     "name": "stderr",
     "output_type": "stream",
     "text": [
      "\r",
      " 97%|█████████████████████████████████████ | 1598/1641 [14:47<00:43,  1.01s/it]"
     ]
    },
    {
     "name": "stdout",
     "output_type": "stream",
     "text": [
      "now in row:  1598\n"
     ]
    },
    {
     "name": "stderr",
     "output_type": "stream",
     "text": [
      "\r",
      " 97%|█████████████████████████████████████ | 1599/1641 [14:47<00:39,  1.06it/s]"
     ]
    },
    {
     "name": "stdout",
     "output_type": "stream",
     "text": [
      "now in row:  1599\n"
     ]
    },
    {
     "name": "stderr",
     "output_type": "stream",
     "text": [
      "\r",
      " 98%|█████████████████████████████████████ | 1600/1641 [14:51<01:06,  1.62s/it]"
     ]
    },
    {
     "name": "stdout",
     "output_type": "stream",
     "text": [
      "now in row:  1600\n"
     ]
    },
    {
     "name": "stderr",
     "output_type": "stream",
     "text": [
      "\r",
      " 98%|█████████████████████████████████████ | 1601/1641 [14:51<00:54,  1.37s/it]"
     ]
    },
    {
     "name": "stdout",
     "output_type": "stream",
     "text": [
      "now in row:  1601\n"
     ]
    },
    {
     "name": "stderr",
     "output_type": "stream",
     "text": [
      "\r",
      " 98%|█████████████████████████████████████ | 1602/1641 [14:52<00:46,  1.19s/it]"
     ]
    },
    {
     "name": "stdout",
     "output_type": "stream",
     "text": [
      "now in row:  1602\n"
     ]
    },
    {
     "name": "stderr",
     "output_type": "stream",
     "text": [
      "\r",
      " 98%|█████████████████████████████████████ | 1603/1641 [14:56<01:15,  1.97s/it]"
     ]
    },
    {
     "name": "stdout",
     "output_type": "stream",
     "text": [
      "now in row:  1603\n"
     ]
    },
    {
     "name": "stderr",
     "output_type": "stream",
     "text": [
      "\r",
      " 98%|█████████████████████████████████████▏| 1604/1641 [14:57<01:01,  1.65s/it]"
     ]
    },
    {
     "name": "stdout",
     "output_type": "stream",
     "text": [
      "now in row:  1604\n"
     ]
    },
    {
     "name": "stderr",
     "output_type": "stream",
     "text": [
      "\r",
      " 98%|█████████████████████████████████████▏| 1605/1641 [14:59<01:00,  1.67s/it]"
     ]
    },
    {
     "name": "stdout",
     "output_type": "stream",
     "text": [
      "now in row:  1605\n"
     ]
    },
    {
     "name": "stderr",
     "output_type": "stream",
     "text": [
      "\r",
      " 98%|█████████████████████████████████████▏| 1606/1641 [15:00<00:50,  1.43s/it]"
     ]
    },
    {
     "name": "stdout",
     "output_type": "stream",
     "text": [
      "now in row:  1606\n"
     ]
    },
    {
     "name": "stderr",
     "output_type": "stream",
     "text": [
      "\r",
      " 98%|█████████████████████████████████████▏| 1607/1641 [15:02<00:58,  1.73s/it]"
     ]
    },
    {
     "name": "stdout",
     "output_type": "stream",
     "text": [
      "now in row:  1607\n"
     ]
    },
    {
     "name": "stderr",
     "output_type": "stream",
     "text": [
      "\r",
      " 98%|█████████████████████████████████████▏| 1608/1641 [15:04<01:01,  1.86s/it]"
     ]
    },
    {
     "name": "stdout",
     "output_type": "stream",
     "text": [
      "now in row:  1608\n"
     ]
    },
    {
     "name": "stderr",
     "output_type": "stream",
     "text": [
      "\r",
      " 98%|█████████████████████████████████████▎| 1609/1641 [15:05<00:51,  1.61s/it]"
     ]
    },
    {
     "name": "stdout",
     "output_type": "stream",
     "text": [
      "now in row:  1609\n"
     ]
    },
    {
     "name": "stderr",
     "output_type": "stream",
     "text": [
      "\r",
      " 98%|█████████████████████████████████████▎| 1610/1641 [15:06<00:43,  1.40s/it]"
     ]
    },
    {
     "name": "stdout",
     "output_type": "stream",
     "text": [
      "now in row:  1610\n"
     ]
    },
    {
     "name": "stderr",
     "output_type": "stream",
     "text": [
      "\r",
      " 98%|█████████████████████████████████████▎| 1611/1641 [15:08<00:44,  1.48s/it]"
     ]
    },
    {
     "name": "stdout",
     "output_type": "stream",
     "text": [
      "now in row:  1611\n"
     ]
    },
    {
     "name": "stderr",
     "output_type": "stream",
     "text": [
      "\r",
      " 98%|█████████████████████████████████████▎| 1612/1641 [15:09<00:37,  1.31s/it]"
     ]
    },
    {
     "name": "stdout",
     "output_type": "stream",
     "text": [
      "now in row:  1612\n"
     ]
    },
    {
     "name": "stderr",
     "output_type": "stream",
     "text": [
      "\r",
      " 98%|█████████████████████████████████████▎| 1613/1641 [15:09<00:32,  1.15s/it]"
     ]
    },
    {
     "name": "stdout",
     "output_type": "stream",
     "text": [
      "now in row:  1613\n"
     ]
    },
    {
     "name": "stderr",
     "output_type": "stream",
     "text": [
      "\r",
      " 98%|█████████████████████████████████████▎| 1614/1641 [15:10<00:28,  1.04s/it]"
     ]
    },
    {
     "name": "stdout",
     "output_type": "stream",
     "text": [
      "now in row:  1614\n"
     ]
    },
    {
     "name": "stderr",
     "output_type": "stream",
     "text": [
      "\r",
      " 98%|█████████████████████████████████████▍| 1615/1641 [15:11<00:24,  1.06it/s]"
     ]
    },
    {
     "name": "stdout",
     "output_type": "stream",
     "text": [
      "now in row:  1615\n"
     ]
    },
    {
     "name": "stderr",
     "output_type": "stream",
     "text": [
      "\r",
      " 98%|█████████████████████████████████████▍| 1616/1641 [15:12<00:25,  1.01s/it]"
     ]
    },
    {
     "name": "stdout",
     "output_type": "stream",
     "text": [
      "now in row:  1616\n"
     ]
    },
    {
     "name": "stderr",
     "output_type": "stream",
     "text": [
      "\r",
      " 99%|█████████████████████████████████████▍| 1617/1641 [15:13<00:23,  1.03it/s]"
     ]
    },
    {
     "name": "stdout",
     "output_type": "stream",
     "text": [
      "now in row:  1617\n"
     ]
    },
    {
     "name": "stderr",
     "output_type": "stream",
     "text": [
      "\r",
      " 99%|█████████████████████████████████████▍| 1618/1641 [15:14<00:21,  1.06it/s]"
     ]
    },
    {
     "name": "stdout",
     "output_type": "stream",
     "text": [
      "now in row:  1618\n"
     ]
    },
    {
     "name": "stderr",
     "output_type": "stream",
     "text": [
      "\r",
      " 99%|█████████████████████████████████████▍| 1619/1641 [15:15<00:24,  1.11s/it]"
     ]
    },
    {
     "name": "stdout",
     "output_type": "stream",
     "text": [
      "now in row:  1619\n"
     ]
    },
    {
     "name": "stderr",
     "output_type": "stream",
     "text": [
      "\r",
      " 99%|█████████████████████████████████████▌| 1620/1641 [15:16<00:21,  1.01s/it]"
     ]
    },
    {
     "name": "stdout",
     "output_type": "stream",
     "text": [
      "now in row:  1620\n"
     ]
    },
    {
     "name": "stderr",
     "output_type": "stream",
     "text": [
      "\r",
      " 99%|█████████████████████████████████████▌| 1621/1641 [15:17<00:19,  1.03it/s]"
     ]
    },
    {
     "name": "stdout",
     "output_type": "stream",
     "text": [
      "now in row:  1621\n"
     ]
    },
    {
     "name": "stderr",
     "output_type": "stream",
     "text": [
      "\r",
      " 99%|█████████████████████████████████████▌| 1622/1641 [15:18<00:19,  1.02s/it]"
     ]
    },
    {
     "name": "stdout",
     "output_type": "stream",
     "text": [
      "now in row:  1622\n"
     ]
    },
    {
     "name": "stderr",
     "output_type": "stream",
     "text": [
      "\r",
      " 99%|█████████████████████████████████████▌| 1623/1641 [15:20<00:23,  1.31s/it]"
     ]
    },
    {
     "name": "stdout",
     "output_type": "stream",
     "text": [
      "now in row:  1623\n"
     ]
    },
    {
     "name": "stderr",
     "output_type": "stream",
     "text": [
      "\r",
      " 99%|█████████████████████████████████████▌| 1624/1641 [15:21<00:20,  1.23s/it]"
     ]
    },
    {
     "name": "stdout",
     "output_type": "stream",
     "text": [
      "now in row:  1624\n"
     ]
    },
    {
     "name": "stderr",
     "output_type": "stream",
     "text": [
      "\r",
      " 99%|█████████████████████████████████████▋| 1625/1641 [15:22<00:17,  1.10s/it]"
     ]
    },
    {
     "name": "stdout",
     "output_type": "stream",
     "text": [
      "now in row:  1625\n"
     ]
    },
    {
     "name": "stderr",
     "output_type": "stream",
     "text": [
      "\r",
      " 99%|█████████████████████████████████████▋| 1626/1641 [15:23<00:15,  1.03s/it]"
     ]
    },
    {
     "name": "stdout",
     "output_type": "stream",
     "text": [
      "now in row:  1626\n"
     ]
    },
    {
     "name": "stderr",
     "output_type": "stream",
     "text": [
      "\r",
      " 99%|█████████████████████████████████████▋| 1627/1641 [15:24<00:13,  1.06it/s]"
     ]
    },
    {
     "name": "stdout",
     "output_type": "stream",
     "text": [
      "now in row:  1627\n"
     ]
    },
    {
     "name": "stderr",
     "output_type": "stream",
     "text": [
      "\r",
      " 99%|█████████████████████████████████████▋| 1628/1641 [15:25<00:13,  1.03s/it]"
     ]
    },
    {
     "name": "stdout",
     "output_type": "stream",
     "text": [
      "now in row:  1628\n"
     ]
    },
    {
     "name": "stderr",
     "output_type": "stream",
     "text": [
      "\r",
      " 99%|█████████████████████████████████████▋| 1629/1641 [15:25<00:11,  1.07it/s]"
     ]
    },
    {
     "name": "stdout",
     "output_type": "stream",
     "text": [
      "now in row:  1629\n"
     ]
    },
    {
     "name": "stderr",
     "output_type": "stream",
     "text": [
      "\r",
      " 99%|█████████████████████████████████████▋| 1630/1641 [15:26<00:09,  1.16it/s]"
     ]
    },
    {
     "name": "stdout",
     "output_type": "stream",
     "text": [
      "now in row:  1630\n"
     ]
    },
    {
     "name": "stderr",
     "output_type": "stream",
     "text": [
      "\r",
      " 99%|█████████████████████████████████████▊| 1631/1641 [15:27<00:08,  1.19it/s]"
     ]
    },
    {
     "name": "stdout",
     "output_type": "stream",
     "text": [
      "now in row:  1631\n"
     ]
    },
    {
     "name": "stderr",
     "output_type": "stream",
     "text": [
      "\r",
      " 99%|█████████████████████████████████████▊| 1632/1641 [15:28<00:07,  1.19it/s]"
     ]
    },
    {
     "name": "stdout",
     "output_type": "stream",
     "text": [
      "now in row:  1632\n"
     ]
    },
    {
     "name": "stderr",
     "output_type": "stream",
     "text": [
      "\r",
      "100%|█████████████████████████████████████▊| 1633/1641 [15:33<00:16,  2.05s/it]"
     ]
    },
    {
     "name": "stdout",
     "output_type": "stream",
     "text": [
      "now in row:  1633\n"
     ]
    },
    {
     "name": "stderr",
     "output_type": "stream",
     "text": [
      "\r",
      "100%|█████████████████████████████████████▊| 1634/1641 [15:36<00:16,  2.36s/it]"
     ]
    },
    {
     "name": "stdout",
     "output_type": "stream",
     "text": [
      "now in row:  1634\n"
     ]
    },
    {
     "name": "stderr",
     "output_type": "stream",
     "text": [
      "\r",
      "100%|█████████████████████████████████████▊| 1635/1641 [15:37<00:11,  1.93s/it]"
     ]
    },
    {
     "name": "stdout",
     "output_type": "stream",
     "text": [
      "now in row:  1635\n"
     ]
    },
    {
     "name": "stderr",
     "output_type": "stream",
     "text": [
      "\r",
      "100%|█████████████████████████████████████▉| 1636/1641 [15:37<00:07,  1.58s/it]"
     ]
    },
    {
     "name": "stdout",
     "output_type": "stream",
     "text": [
      "now in row:  1636\n"
     ]
    },
    {
     "name": "stderr",
     "output_type": "stream",
     "text": [
      "\r",
      "100%|█████████████████████████████████████▉| 1637/1641 [15:38<00:05,  1.39s/it]"
     ]
    },
    {
     "name": "stdout",
     "output_type": "stream",
     "text": [
      "now in row:  1637\n"
     ]
    },
    {
     "name": "stderr",
     "output_type": "stream",
     "text": [
      "\r",
      "100%|█████████████████████████████████████▉| 1638/1641 [15:39<00:03,  1.20s/it]"
     ]
    },
    {
     "name": "stdout",
     "output_type": "stream",
     "text": [
      "now in row:  1638\n"
     ]
    },
    {
     "name": "stderr",
     "output_type": "stream",
     "text": [
      "\r",
      "100%|█████████████████████████████████████▉| 1639/1641 [15:40<00:02,  1.06s/it]"
     ]
    },
    {
     "name": "stdout",
     "output_type": "stream",
     "text": [
      "now in row:  1639\n"
     ]
    },
    {
     "name": "stderr",
     "output_type": "stream",
     "text": [
      "\r",
      "100%|█████████████████████████████████████▉| 1640/1641 [15:41<00:00,  1.03it/s]"
     ]
    },
    {
     "name": "stdout",
     "output_type": "stream",
     "text": [
      "now in row:  1640\n"
     ]
    },
    {
     "name": "stderr",
     "output_type": "stream",
     "text": [
      "100%|██████████████████████████████████████| 1641/1641 [15:41<00:00,  1.08it/s]\n"
     ]
    }
   ],
   "source": [
    "def get_detail(df, x, y):\n",
    "    for (idx, r) in tqdm(df.iterrows(), total=len(df)):      \n",
    "        if idx >= x:\n",
    "            url = r['year_url'] \n",
    "            print('now in row: ', idx)\n",
    "            data_onepage = get_onePage(url, r)\n",
    "            _ = store_onePage(idx, data_onepage)\n",
    "            if idx >=y:\n",
    "                break\n",
    "    return      \n",
    "        \n",
    "df_detail = get_detail(df_years, 1001, 1641)      "
   ]
  },
  {
   "cell_type": "code",
   "execution_count": 21,
   "metadata": {},
   "outputs": [
    {
     "data": {
      "text/plain": [
       "[('Final Appeal (Civil)',\n",
       "  '2011',\n",
       "  \"\\\\'https://legalref.judiciary.hk/lrs/images/ThemeXP/Epage.gif\\\\'\",\n",
       "  'FACV1/2011',\n",
       "  'https://legalref.judiciary.hk/lrs/common/ju/ju_frame.jsp?DIS=79800',\n",
       "  '(06/01/2012)',\n",
       "  'THE CATHOLIC DIOCESE OF HONG KONG ALSO KNOWN AS THE BISHOP OF THE ROMAN CATHOLIC CHURCH IN HONG KONG INCORPORATION  v. SECRETARY FOR JUSTICE \\xa0'),\n",
       " ('Final Appeal (Civil)',\n",
       "  '2011',\n",
       "  \"\\\\'https://legalref.judiciary.hk/lrs/images/ThemeXP/Epage.gif\\\\'\",\n",
       "  'FACV1/2011',\n",
       "  'https://legalref.judiciary.hk/lrs/common/ju/ju_frame.jsp?DIS=78563',\n",
       "  '(13/10/2011)',\n",
       "  'THE CATHOLIC DIOCESE OF HONG KONG ALSO KNOWN AS THE BISHOP OF THE ROMAN CATHOLIC CHURCH IN HONG KONG INCORPORATION v. SECRETARY FOR JUSTICE \\xa0Reported in :(2011) 14 HKCFAR 754'),\n",
       " ('Final Appeal (Civil)',\n",
       "  '2011',\n",
       "  \"\\\\'https://legalref.judiciary.hk/lrs/images/ThemeXP/ETpage.gif\\\\'\",\n",
       "  'FACV2/2011',\n",
       "  'https://legalref.judiciary.hk/lrs/common/ju/ju_frame.jsp?DIS=79162',\n",
       "  '(23/11/2011)',\n",
       "  'WEALTH DUKE LTD AND OTHERS v. BANK OF CHINA (HONG KONG) LTD \\xa0Reported in :(2011) 14 HKCFAR 863'),\n",
       " ('Final Appeal (Civil)',\n",
       "  '2011',\n",
       "  \"\\\\'https://legalref.judiciary.hk/lrs/images/ThemeXP/Epage.gif\\\\'\",\n",
       "  'FACV3/2011',\n",
       "  'https://legalref.judiciary.hk/lrs/common/ju/ju_frame.jsp?DIS=81811',\n",
       "  '(24/05/2012)',\n",
       "  'THE LIQUIDATOR OF WING FAI CONSTRUCTION CO LTD (IN COMPULSORY LIQUIDATION) v. YIP KWONG ROBERT \\xa0Reported in :(2012) 15 HKCFAR 454'),\n",
       " ('Final Appeal (Civil)',\n",
       "  '2011',\n",
       "  \"\\\\'https://legalref.judiciary.hk/lrs/images/ThemeXP/Epage.gif\\\\'\",\n",
       "  'FACV3/2011',\n",
       "  'https://legalref.judiciary.hk/lrs/common/ju/ju_frame.jsp?DIS=79403',\n",
       "  '(08/12/2011)',\n",
       "  'THE LIQUIDATOR OF WING FAI CONSTRUCTION CO LTD  (IN COMPULSORY LIQUIDATION) v. YIP KWONG ROBERT AND OTHERS \\xa0Reported in :[2012] 1 HKLRD 589; (2011) 14 HKCFAR 935'),\n",
       " ('Final Appeal (Civil)',\n",
       "  '2011',\n",
       "  \"\\\\'https://legalref.judiciary.hk/lrs/images/ThemeXP/ETpage.gif\\\\'\",\n",
       "  'FACV4/2011',\n",
       "  'https://legalref.judiciary.hk/lrs/common/ju/ju_frame.jsp?DIS=79286',\n",
       "  '(01/12/2011)',\n",
       "  'CHONG WAI LEE, CHARLES AND ANOTHER v. INSIDER DEALING TRIBUNAL AND ANOTHER \\xa0Reported in :(2011) 14 HKCFAR 875'),\n",
       " ('Final Appeal (Civil)',\n",
       "  '2011',\n",
       "  \"\\\\'https://legalref.judiciary.hk/lrs/images/ThemeXP/Epage.gif\\\\'\",\n",
       "  'FACV5/2011',\n",
       "  'https://legalref.judiciary.hk/lrs/common/ju/ju_frame.jsp?DIS=79404',\n",
       "  '(08/12/2011)',\n",
       "  'SECRETARY FOR JUSTICE v. CHAU KA CHIK TSO AND OTHERS \\xa0Reported in :(2011) 14 HKCFAR 889'),\n",
       " ('Final Appeal (Civil)',\n",
       "  '2011',\n",
       "  \"\\\\'https://legalref.judiciary.hk/lrs/images/ThemeXP/Epage.gif\\\\'\",\n",
       "  'FACV6/2011',\n",
       "  'https://legalref.judiciary.hk/lrs/common/ju/ju_frame.jsp?DIS=82526',\n",
       "  '(06/07/2012)',\n",
       "  'FIRST LASER LTD v. FUJIAN ENTERPRISES (HOLDINGS) CO LTD AND ANOTHER \\xa0Reported in :(2012) 15 HKCFAR 569'),\n",
       " ('Final Appeal (Civil)',\n",
       "  '2011',\n",
       "  \"\\\\'https://legalref.judiciary.hk/lrs/images/ThemeXP/Epage.gif\\\\'\",\n",
       "  'FACV7/2011',\n",
       "  'https://legalref.judiciary.hk/lrs/common/ju/ju_frame.jsp?DIS=82684',\n",
       "  '(18/07/2012)',\n",
       "  'CHAU CHEUK YIU v. POON KIT SANG AND OTHERS \\xa0'),\n",
       " ('Final Appeal (Civil)',\n",
       "  '2011',\n",
       "  \"\\\\'https://legalref.judiciary.hk/lrs/images/ThemeXP/Epage.gif\\\\'\",\n",
       "  'FACV7/2011',\n",
       "  'https://legalref.judiciary.hk/lrs/common/ju/ju_frame.jsp?DIS=81812',\n",
       "  '(24/05/2012)',\n",
       "  'CHAU CHEUK YIU  v. POON KIT SANG AND OTHERS \\xa0Reported in :(2012) 15 HKCFAR 460'),\n",
       " ('Final Appeal (Civil)',\n",
       "  '2011',\n",
       "  \"\\\\'https://legalref.judiciary.hk/lrs/images/ThemeXP/Epage.gif\\\\'\",\n",
       "  'FACV8/2011',\n",
       "  'https://legalref.judiciary.hk/lrs/common/ju/ju_frame.jsp?DIS=80457',\n",
       "  '(23/02/2012)',\n",
       "  'KO HON YUE v. CHIU PIK YUK, the wife and intended adminstratrix of LIU CHING LEUNG, deceased AND OTHERS \\xa0Reported in :(2012) 15 HKCFAR 72'),\n",
       " ('Final Appeal (Civil)',\n",
       "  '2011',\n",
       "  \"\\\\'https://legalref.judiciary.hk/lrs/images/ThemeXP/ETpage.gif\\\\'\",\n",
       "  'FACV9/2011',\n",
       "  'https://legalref.judiciary.hk/lrs/common/ju/ju_frame.jsp?DIS=89647',\n",
       "  '(15/10/2013)',\n",
       "  'CHEUK SHU YIN v. YIP SO WAN AND OTHERS \\xa0'),\n",
       " ('Final Appeal (Civil)',\n",
       "  '2011',\n",
       "  \"\\\\'https://legalref.judiciary.hk/lrs/images/ThemeXP/Epage.gif\\\\'\",\n",
       "  'FACV9/2011',\n",
       "  'https://legalref.judiciary.hk/lrs/common/ju/ju_frame.jsp?DIS=84328',\n",
       "  '(13/11/2012)',\n",
       "  'CHEUK SHU YIN v. YIP SO WAN AND ANOTHER \\xa0Reported in :[2013] 1 HKLRD 656; (2012) 15 HKCFAR 344'),\n",
       " ('Final Appeal (Civil)',\n",
       "  '2011',\n",
       "  \"\\\\'https://legalref.judiciary.hk/lrs/images/ThemeXP/Epage.gif\\\\'\",\n",
       "  'FACV10/2011',\n",
       "  'https://legalref.judiciary.hk/lrs/common/ju/ju_frame.jsp?DIS=81080',\n",
       "  '(02/04/2012)',\n",
       "  'FOK CHUN WA AND ANOTHER v. THE HOSPITAL AUTHORITY AND ANOTHER \\xa0Reported in :(2012) 15 HKCFAR 409'),\n",
       " ('Final Appeal (Civil)',\n",
       "  '2011',\n",
       "  \"\\\\'https://legalref.judiciary.hk/lrs/images/ThemeXP/Epage.gif\\\\'\",\n",
       "  'FACV11/2011',\n",
       "  'https://legalref.judiciary.hk/lrs/common/ju/ju_frame.jsp?DIS=87396',\n",
       "  '(31/05/2013)',\n",
       "  'LING WING FAI BILLY AND OTHERS v. LING SHUI FAI AND OTHERS \\xa0'),\n",
       " ('Final Appeal (Civil)',\n",
       "  '2011',\n",
       "  \"\\\\'https://legalref.judiciary.hk/lrs/images/ThemeXP/Epage.gif\\\\'\",\n",
       "  'FACV11/2011',\n",
       "  'https://legalref.judiciary.hk/lrs/common/ju/ju_frame.jsp?DIS=84338',\n",
       "  '(13/11/2012)',\n",
       "  'LING WING FAI BILLY AND OTHERS v. LING SHUI FAI AND OTHERS \\xa0Reported in :[2013] 1 HKLRD 656; (2012) 15 HKCFAR 344'),\n",
       " ('Final Appeal (Civil)',\n",
       "  '2011',\n",
       "  \"\\\\'https://legalref.judiciary.hk/lrs/images/ThemeXP/Epage.gif\\\\'\",\n",
       "  'FACV12/2011',\n",
       "  'https://legalref.judiciary.hk/lrs/common/ju/ju_frame.jsp?DIS=80456',\n",
       "  '(23/02/2012)',\n",
       "  'NEW WORLD HARBOURVIEW HOTEL CO LTD AND OTHERS v. ACE INSURANCE LTD AND OTHERS \\xa0Reported in :(2012) 15 HKCFAR 120'),\n",
       " ('Final Appeal (Civil)',\n",
       "  '2011',\n",
       "  \"\\\\'https://legalref.judiciary.hk/lrs/images/ThemeXP/Epage.gif\\\\'\",\n",
       "  'FACV13/2011',\n",
       "  'https://legalref.judiciary.hk/lrs/common/ju/ju_frame.jsp?DIS=87196',\n",
       "  '(16/05/2013)',\n",
       "  'CAMPBELL RICHARD BLAKENEY-WILLIAMS AND OTHERS v. CATHAY PACIFIC AIRWAYS LTD AND OTHERS \\xa0Reported in :(2013) 16 HKCFAR 514'),\n",
       " ('Final Appeal (Civil)',\n",
       "  '2011',\n",
       "  \"\\\\'https://legalref.judiciary.hk/lrs/images/ThemeXP/ETpage.gif\\\\'\",\n",
       "  'FACV13/2011',\n",
       "  'https://legalref.judiciary.hk/lrs/common/ju/ju_frame.jsp?DIS=83622',\n",
       "  '(26/09/2012)',\n",
       "  'CAMPBELL RICHARD BLAKENEY-WILLIAMS AND OTHERS v. CATHAY PACIFIC AIRWAYS LTD AND OTHERS \\xa0Reported in :(2012) 15 HKCFAR 261'),\n",
       " ('Final Appeal (Civil)',\n",
       "  '2011',\n",
       "  \"\\\\'https://legalref.judiciary.hk/lrs/images/ThemeXP/Epage.gif\\\\'\",\n",
       "  'FACV14/2011',\n",
       "  'https://legalref.judiciary.hk/lrs/common/ju/ju_frame.jsp?DIS=87202',\n",
       "  '(16/05/2013)',\n",
       "  'CATHAY PACIFIC AIRWAYS LTD AND OTHERS v. CAMPBELL RICHARD BLAKENEY-WILLIAMS AND OTHERS \\xa0Reported in :(2013) 16 HKCFAR 514'),\n",
       " ('Final Appeal (Civil)',\n",
       "  '2011',\n",
       "  \"\\\\'https://legalref.judiciary.hk/lrs/images/ThemeXP/ETpage.gif\\\\'\",\n",
       "  'FACV14/2011',\n",
       "  'https://legalref.judiciary.hk/lrs/common/ju/ju_frame.jsp?DIS=98476',\n",
       "  '(26/09/2012)',\n",
       "  'CATHAY PACIFIC AIRWAYS LTD AND OTHERS v. CAMPBELL RICHARD BLAKENEY-WILLIAMS AND OTHERS \\xa0Reported in :(2012) 15 HKCFAR 261'),\n",
       " ('Final Appeal (Civil)',\n",
       "  '2011',\n",
       "  \"\\\\'https://legalref.judiciary.hk/lrs/images/ThemeXP/Epage.gif\\\\'\",\n",
       "  'FACV15/2011',\n",
       "  'https://legalref.judiciary.hk/lrs/common/ju/ju_frame.jsp?DIS=88108',\n",
       "  '(17/07/2013)',\n",
       "  'UBAMAKA EDWARD WILSON v. DIRECTOR OF IMMIGRATION AND ANOTHER \\xa0'),\n",
       " ('Final Appeal (Civil)',\n",
       "  '2011',\n",
       "  \"\\\\'https://legalref.judiciary.hk/lrs/images/ThemeXP/Epage.gif\\\\'\",\n",
       "  'FACV15/2011',\n",
       "  'https://legalref.judiciary.hk/lrs/common/ju/ju_frame.jsp?DIS=84948',\n",
       "  '(21/12/2012)',\n",
       "  'UBAMAKA EDWARD WILSON v. SECRETARY FOR SECURITY AND ANOTHER \\xa0Reported in :(2012) 15 HKCFAR 743'),\n",
       " ('Final Appeal (Civil)',\n",
       "  '2011',\n",
       "  \"\\\\'https://legalref.judiciary.hk/lrs/images/ThemeXP/Epage.gif\\\\'\",\n",
       "  'FACV16/2011',\n",
       "  'https://legalref.judiciary.hk/lrs/common/ju/ju_frame.jsp?DIS=84949',\n",
       "  '(21/12/2012)',\n",
       "  'LUI FAI YEUNG v. CHUI KIN MAN \\xa0Reported in :(2012) 15 HKCFAR 803'),\n",
       " ('Final Appeal (Civil)',\n",
       "  '2011',\n",
       "  \"\\\\'https://legalref.judiciary.hk/lrs/images/ThemeXP/Epage.gif\\\\'\",\n",
       "  'FACV17/2011',\n",
       "  'https://legalref.judiciary.hk/lrs/common/ju/ju_frame.jsp?DIS=86310',\n",
       "  '(25/03/2013)',\n",
       "  'ASIF ALI v. DIRECTOR OF IMMIGRATION AND ANOTHER \\xa0Reported in :(2013) 16 HKCFAR 91'),\n",
       " ('Final Appeal (Civil)',\n",
       "  '2011',\n",
       "  \"\\\\'https://legalref.judiciary.hk/lrs/images/ThemeXP/Epage.gif\\\\'\",\n",
       "  'FACV18/2011',\n",
       "  'https://legalref.judiciary.hk/lrs/common/ju/ju_frame.jsp?DIS=86311',\n",
       "  '(25/03/2013)',\n",
       "  'C AND OTHERS v. DIRECTOR OF IMMIGRATION AND ANOTHER \\xa0Reported in :(2013) 16 HKCFAR 280'),\n",
       " ('Final Appeal (Civil)',\n",
       "  '2011',\n",
       "  \"\\\\'https://legalref.judiciary.hk/lrs/images/ThemeXP/Epage.gif\\\\'\",\n",
       "  'FACV19/2011',\n",
       "  'https://legalref.judiciary.hk/lrs/common/ju/ju_frame.jsp?DIS=86313',\n",
       "  '(25/03/2013)',\n",
       "  'C AND OTHERS v. DIRECTOR OF IMMIGRATION AND ANOTHER \\xa0Reported in :(2013) 16 HKCFAR 280'),\n",
       " ('Final Appeal (Civil)',\n",
       "  '2011',\n",
       "  \"\\\\'https://legalref.judiciary.hk/lrs/images/ThemeXP/Epage.gif\\\\'\",\n",
       "  'FACV20/2011',\n",
       "  'https://legalref.judiciary.hk/lrs/common/ju/ju_frame.jsp?DIS=86314',\n",
       "  '(25/03/2013)',\n",
       "  'C AND OTHERS v. DIRECTOR OF IMMIGRATION AND ANOTHER \\xa0Reported in :(2013) 16 HKCFAR 280'),\n",
       " ('Final Appeal (Civil)',\n",
       "  '2011',\n",
       "  \"\\\\'https://legalref.judiciary.hk/lrs/images/ThemeXP/Epage.gif\\\\'\",\n",
       "  'FACV21/2011',\n",
       "  'https://legalref.judiciary.hk/lrs/common/ju/ju_frame.jsp?DIS=84950',\n",
       "  '(21/12/2012)',\n",
       "  'BEST ORIGIN LTD v. COMMISSIONER OF RATING AND VALUATION \\xa0Reported in :(2012) 15 HKCFAR 816'),\n",
       " ('Final Appeal (Civil)',\n",
       "  '1998',\n",
       "  \"\\\\'https://legalref.judiciary.hk/lrs/images/ThemeXP/ETpage.gif\\\\'\",\n",
       "  'FACV2/1998',\n",
       "  'https://legalref.judiciary.hk/lrs/common/ju/ju_frame.jsp?DIS=18223',\n",
       "  '(23/07/1998)',\n",
       "  'THANG THIEU QUYEN AND OTHERS v. THE DIRECTOR OF IMMIGRATION AND ANOTHER \\xa0Reported in :(1997-1998) 1 HKCFAR 167; [1998] 2 HKLRD 179'),\n",
       " ('Final Appeal (Civil)',\n",
       "  '1998',\n",
       "  \"\\\\'https://legalref.judiciary.hk/lrs/images/ThemeXP/Epage.gif\\\\'\",\n",
       "  'FACV3/1998',\n",
       "  'https://legalref.judiciary.hk/lrs/common/ju/ju_frame.jsp?DIS=33537',\n",
       "  '(28/09/1998)',\n",
       "  'INTERGULF EXPRESS H.K. LTD. AND ANOTHER v. DELTA ASIA CREDIT LTD. \\xa0Reported in :(1997-1998) 1 HKCFAR 240; [1998] 2 HKLRD 928'),\n",
       " ('Final Appeal (Civil)',\n",
       "  '1998',\n",
       "  \"\\\\'https://legalref.judiciary.hk/lrs/images/ThemeXP/ETpage.gif\\\\'\",\n",
       "  'FACV4/1998',\n",
       "  'https://legalref.judiciary.hk/lrs/common/ju/ju_frame.jsp?DIS=18326',\n",
       "  '(05/11/1998)',\n",
       "  'LEUNG TONG FUK v. CHAN YUK KWAN \\xa0Reported in :[1998] 2 HKLRD 772'),\n",
       " ('Final Appeal (Civil)',\n",
       "  '1998',\n",
       "  \"\\\\'https://legalref.judiciary.hk/lrs/images/ThemeXP/Epage.gif\\\\'\",\n",
       "  'FACV5/1998',\n",
       "  'https://legalref.judiciary.hk/lrs/common/ju/ju_frame.jsp?DIS=19412',\n",
       "  '(29/01/1999)',\n",
       "  'LEUNG SAI LUN ROBERT AND OTHERS v. LEUNG MAY LING AND OTHERS \\xa0Reported in :[1999] 1 HKLRD 649; (1999) 2 HKCFAR 94'),\n",
       " ('Final Appeal (Civil)',\n",
       "  '1998',\n",
       "  \"\\\\'https://legalref.judiciary.hk/lrs/images/ThemeXP/Epage.gif\\\\'\",\n",
       "  'FACV6/1998',\n",
       "  'https://legalref.judiciary.hk/lrs/common/ju/ju_frame.jsp?DIS=18285',\n",
       "  '(28/09/1998)',\n",
       "  'ORIENTAL PRESS GROUP LTD v. APPLE DAILY LTD \\xa0Reported in :(1997-1998) 1 HKCFAR 208; [1998] 2 HKLRD 976'),\n",
       " ('Final Appeal (Civil)',\n",
       "  '1998',\n",
       "  \"\\\\'https://legalref.judiciary.hk/lrs/images/ThemeXP/Epage.gif\\\\'\",\n",
       "  'FACV8/1998',\n",
       "  'https://legalref.judiciary.hk/lrs/common/ju/ju_frame.jsp?DIS=18243',\n",
       "  '(21/01/1999)',\n",
       "  'ARCHER, HAROLD DEAN v. THE HONG KONG CHANNEL LTD. \\xa0'),\n",
       " ('Final Appeal (Civil)',\n",
       "  '1998',\n",
       "  \"\\\\'https://legalref.judiciary.hk/lrs/images/ThemeXP/Epage.gif\\\\'\",\n",
       "  'FACV8/1998',\n",
       "  'https://legalref.judiciary.hk/lrs/common/ju/ju_frame.jsp?DIS=18441',\n",
       "  '(27/11/1998)',\n",
       "  'ARCHER, HAROLD DEAN v. THE HONG KONG CHANNEL LTD \\xa0Reported in :(1997-1998) 1 HKCFAR 298; [1998] 2 HKLRD 968'),\n",
       " ('Final Appeal (Civil)',\n",
       "  '1998',\n",
       "  \"\\\\'https://legalref.judiciary.hk/lrs/images/ThemeXP/Epage.gif\\\\'\",\n",
       "  'FACV9/1998',\n",
       "  'https://legalref.judiciary.hk/lrs/common/ju/ju_frame.jsp?DIS=18357',\n",
       "  '(14/12/1998)',\n",
       "  'SKY HEART LTD. v. LEE HYSAN ESTATE CO. LTD. \\xa0Reported in :[1999] 1 HKLRD 100;(1997-1998) 1 HKCFAR 318'),\n",
       " ('Final Appeal (Civil)',\n",
       "  '1998',\n",
       "  \"\\\\'https://legalref.judiciary.hk/lrs/images/ThemeXP/Epage.gif\\\\'\",\n",
       "  'FACV10/1998',\n",
       "  'https://legalref.judiciary.hk/lrs/common/ju/ju_frame.jsp?DIS=21687',\n",
       "  '(09/02/1999)',\n",
       "  'HEBEI IMPORT & EXPORT CORPORATION v. POLYTEK ENGINEERING CO. LTD. \\xa0Reported in :[1999] 1 HKLRD 665; (1999) 2 HKCFAR 111'),\n",
       " ('Final Appeal (Civil)',\n",
       "  '1998',\n",
       "  \"\\\\'https://legalref.judiciary.hk/lrs/images/ThemeXP/Epage.gif\\\\'\",\n",
       "  'FACV11/1998',\n",
       "  'https://legalref.judiciary.hk/lrs/common/ju/ju_frame.jsp?DIS=33931',\n",
       "  '(21/12/1998)',\n",
       "  'PAUL CHEN AND ANOTHER v. LORD ENERGY LTD. \\xa0Reported in :(1997-1998) 1 HKCFAR 365; [1999] 1 HKLRD 205'),\n",
       " ('Final Appeal (Civil)',\n",
       "  '1998',\n",
       "  \"\\\\'https://legalref.judiciary.hk/lrs/images/ThemeXP/Epage.gif\\\\'\",\n",
       "  'FACV12/1998',\n",
       "  'https://legalref.judiciary.hk/lrs/common/ju/ju_frame.jsp?DIS=21705',\n",
       "  '(01/03/1999)',\n",
       "  'WAH YICK ENTERPRISES CO LTD v. BUILDING AUTHORITY \\xa0Reported in :[1999] 1 HKLRD 840; (1999) 2 HKCFAR 170'),\n",
       " ('Final Appeal (Civil)',\n",
       "  '1998',\n",
       "  \"\\\\'https://legalref.judiciary.hk/lrs/images/ThemeXP/ETpage.gif\\\\'\",\n",
       "  'FACV13/1998',\n",
       "  'https://legalref.judiciary.hk/lrs/common/ju/ju_frame.jsp?DIS=19413',\n",
       "  '(29/01/1999)',\n",
       "  'CHAN KAM NGA v. DIRECTOR OF IMMIGRATION \\xa0Reported in :[1999] 1 HKLRD 304; (1999) 2 HKCFAR 82'),\n",
       " ('Final Appeal (Civil)',\n",
       "  '1998',\n",
       "  \"\\\\'https://legalref.judiciary.hk/lrs/images/ThemeXP/ETpage.gif\\\\'\",\n",
       "  'FACV14/1998',\n",
       "  'https://legalref.judiciary.hk/lrs/common/ju/ju_frame.jsp?DIS=34248',\n",
       "  '(26/02/1999)',\n",
       "  'NG KA LING AND ANOTHER v. THE DIRECTOR OF IMMIGRATION \\xa0Reported in :[1999] 1 HKLRD 577; (1999) 2 HKCFAR 141'),\n",
       " ('Final Appeal (Civil)',\n",
       "  '1998',\n",
       "  \"\\\\'https://legalref.judiciary.hk/lrs/images/ThemeXP/ETpage.gif\\\\'\",\n",
       "  'FACV14/1998',\n",
       "  'https://legalref.judiciary.hk/lrs/common/ju/ju_frame.jsp?DIS=34052',\n",
       "  '(29/01/1999)',\n",
       "  'NG KA LING AND ANOTHER v. THE DIRECTOR OF IMMIGRATION \\xa0Reported in :[1999] 1 HKLRD 315; (1999) 2 HKCFAR 4'),\n",
       " ('Final Appeal (Civil)',\n",
       "  '1998',\n",
       "  \"\\\\'https://legalref.judiciary.hk/lrs/images/ThemeXP/ETpage.gif\\\\'\",\n",
       "  'FACV15/1998',\n",
       "  'https://legalref.judiciary.hk/lrs/common/ju/ju_frame.jsp?DIS=19425',\n",
       "  '(26/02/1999)',\n",
       "  'TSUI KUEN NANG v. THE DIRECTOR OF IMMIGRATION \\xa0Reported in :[1999] 1 HKLRD 577; (1999) 2 HKCFAR 141'),\n",
       " ('Final Appeal (Civil)',\n",
       "  '1998',\n",
       "  \"\\\\'https://legalref.judiciary.hk/lrs/images/ThemeXP/ETpage.gif\\\\'\",\n",
       "  'FACV15/1998',\n",
       "  'https://legalref.judiciary.hk/lrs/common/ju/ju_frame.jsp?DIS=34053',\n",
       "  '(29/01/1999)',\n",
       "  'TSUI KUEN NANG v. THE DIRECTOR OF IMMIGRATION \\xa0Reported in :[1999] 1 HKLRD 315; (1999) 2 HKCFAR 4'),\n",
       " ('Final Appeal (Civil)',\n",
       "  '1998',\n",
       "  \"\\\\'https://legalref.judiciary.hk/lrs/images/ThemeXP/ETpage.gif\\\\'\",\n",
       "  'FACV16/1998',\n",
       "  'https://legalref.judiciary.hk/lrs/common/ju/ju_frame.jsp?DIS=19426',\n",
       "  '(26/02/1999)',\n",
       "  'THE DIRECTOR OF IMMIGRATION v. CHEUNG LAI WAH \\xa0Reported in :[1999] 1 HKLRD 577; (1999) 2 HKCFAR 141'),\n",
       " ('Final Appeal (Civil)',\n",
       "  '1998',\n",
       "  \"\\\\'https://legalref.judiciary.hk/lrs/images/ThemeXP/ETpage.gif\\\\'\",\n",
       "  'FACV16/1998',\n",
       "  'https://legalref.judiciary.hk/lrs/common/ju/ju_frame.jsp?DIS=19414',\n",
       "  '(29/01/1999)',\n",
       "  'THE DIRECTOR OF IMMIGRATION v. CHEUNG LAI WAH \\xa0Reported in :[1999] 1 HKLRD 315; (1999) 2 HKCFAR 4'),\n",
       " ('Final Appeal (Civil)',\n",
       "  '1998',\n",
       "  \"\\\\'https://legalref.judiciary.hk/lrs/images/ThemeXP/Epage.gif\\\\'\",\n",
       "  'FACV18/1998',\n",
       "  'https://legalref.judiciary.hk/lrs/common/ju/ju_frame.jsp?DIS=33932',\n",
       "  '(21/12/1998)',\n",
       "  'JI SHAN INTERNATIONAL INVESTMENT LTD. v. RESOURCES MAIN ENTERPRISES LTD. AND ANOTHER \\xa0Reported in :(1997-1998) 1 HKCFAR 377; [1999] 1 HKLRD 456'),\n",
       " ('Final Appeal (Civil)',\n",
       "  '1998',\n",
       "  \"\\\\'https://legalref.judiciary.hk/lrs/images/ThemeXP/Epage.gif\\\\'\",\n",
       "  'FACV19/1998',\n",
       "  'https://legalref.judiciary.hk/lrs/common/ju/ju_frame.jsp?DIS=18457',\n",
       "  '(21/12/1998)',\n",
       "  'KWAN SIU MAN JOSHUA v. YAACOV OZER \\xa0Reported in :(1997-1998) 1 HKCFAR 343; [1999] 1 HKLRD 216'),\n",
       " ('Final Appeal (Civil)',\n",
       "  '1998',\n",
       "  \"\\\\'https://legalref.judiciary.hk/lrs/images/ThemeXP/Epage.gif\\\\'\",\n",
       "  'FACV20/1998',\n",
       "  'https://legalref.judiciary.hk/lrs/common/ju/ju_frame.jsp?DIS=18286',\n",
       "  '(28/09/1998)',\n",
       "  'THE LAW SOCIETY OF HONG KONG v. ROBERT JAMES BROOK \\xa0Reported in :(1997-1998) 1 HKCFAR 228; [1998] 2 HKLRD 761'),\n",
       " ('Final Appeal (Civil)',\n",
       "  '1998',\n",
       "  \"\\\\'https://legalref.judiciary.hk/lrs/images/ThemeXP/ETpage.gif\\\\'\",\n",
       "  'FACV21/1998',\n",
       "  'https://legalref.judiciary.hk/lrs/common/ju/ju_frame.jsp?DIS=18933',\n",
       "  '(10/12/1999)',\n",
       "  'THE BANK OF EAST ASIA, LTD. v. TSIEN WUI MARBLE FACTORY LTD. AND OTHERS and REMO RIVA AND OTHERS (Third Parties) \\xa0Reported in :(1999) 2 HKCFAR 349; [2000] 1 HKLRD 268'),\n",
       " ('Final Appeal (Civil)',\n",
       "  '1998',\n",
       "  \"\\\\'https://legalref.judiciary.hk/lrs/images/ThemeXP/Epage.gif\\\\'\",\n",
       "  'FACV22/1998',\n",
       "  'https://legalref.judiciary.hk/lrs/common/ju/ju_frame.jsp?DIS=33323',\n",
       "  '(11/06/1999)',\n",
       "  'COMMON LUCK INVESTMENT LTD. v. CHEUNG KAM CHUEN \\xa0Reported in :[1999] 2 HKLRD 417; (1999) 2 HKCFAR 229'),\n",
       " ('Final Appeal (Civil)',\n",
       "  '1998',\n",
       "  \"\\\\'https://legalref.judiciary.hk/lrs/images/ThemeXP/Epage.gif\\\\'\",\n",
       "  'FACV23/1998',\n",
       "  'https://legalref.judiciary.hk/lrs/common/ju/ju_frame.jsp?DIS=21835',\n",
       "  '(16/03/1999)',\n",
       "  'THE INSIDER DEALING TRIBUNAL v. SHEK MEI LING \\xa0Reported in :[1999] 1 HKLRD 879; (1999) 2 HKCFAR 205'),\n",
       " ('Final Appeal (Civil)',\n",
       "  '1998',\n",
       "  \"\\\\'https://legalref.judiciary.hk/lrs/images/ThemeXP/Epage.gif\\\\'\",\n",
       "  'FACV24/1998',\n",
       "  'https://legalref.judiciary.hk/lrs/common/ju/ju_frame.jsp?DIS=20135',\n",
       "  '(11/06/1999)',\n",
       "  'KOON TUNG YING v. LAU CHUP HEI \\xa0'),\n",
       " ('Final Appeal (Civil)',\n",
       "  '1998',\n",
       "  \"\\\\'https://legalref.judiciary.hk/lrs/images/ThemeXP/Epage.gif\\\\'\",\n",
       "  'FACV25/1998',\n",
       "  'https://legalref.judiciary.hk/lrs/common/ju/ju_frame.jsp?DIS=21615',\n",
       "  '(09/03/2000)',\n",
       "  'AKTIESELSKABET DANSK SKIBSFINANSIERING (body corporate) v. ROBERT JOHN FRANCIS BROTHERS \\xa0Reported in :[2000] 1 HKLRD 568;(2000) 3 HKCFAR 70'),\n",
       " ('Final Appeal (Civil)',\n",
       "  '1998',\n",
       "  \"\\\\'https://legalref.judiciary.hk/lrs/images/ThemeXP/Epage.gif\\\\'\",\n",
       "  'FACV25/1998',\n",
       "  'https://legalref.judiciary.hk/lrs/common/ju/ju_frame.jsp?DIS=20720',\n",
       "  '(16/09/1999)',\n",
       "  'AKTIESELSKABET DANSK SKIBFINANSIERING (body corporate) v. ROBERT JOHN FRANCIS BROTHERS \\xa0'),\n",
       " ('Final Appeal (Civil)',\n",
       "  '1998',\n",
       "  \"\\\\'https://legalref.judiciary.hk/lrs/images/ThemeXP/Epage.gif\\\\'\",\n",
       "  'FACV26/1998',\n",
       "  'https://legalref.judiciary.hk/lrs/common/ju/ju_frame.jsp?DIS=21616',\n",
       "  '(09/03/2000)',\n",
       "  'AKTIESELSKABET DANSK SKIBSFINANSIERING (body corporate) v. WHEELOCK MARDEN & COMPANY LIMITED \\xa0Reported in :(2000) 3 HKCFAR 70; [2000] 1 HKLRD 568'),\n",
       " ('Final Appeal (Civil)',\n",
       "  '1998',\n",
       "  \"\\\\'https://legalref.judiciary.hk/lrs/images/ThemeXP/Epage.gif\\\\'\",\n",
       "  'FACV26/1998',\n",
       "  'https://legalref.judiciary.hk/lrs/common/ju/ju_frame.jsp?DIS=20721',\n",
       "  '(16/09/1999)',\n",
       "  'AKTIESELSKABET DANSK SKIBFINANSIERING (body corporate) v. WHEELOCK MARDEN & CO. LTD. \\xa0'),\n",
       " ('Final Appeal (Civil)',\n",
       "  '1998',\n",
       "  \"\\\\'https://legalref.judiciary.hk/lrs/images/ThemeXP/Epage.gif\\\\'\",\n",
       "  'FACV27/1998',\n",
       "  'https://legalref.judiciary.hk/lrs/common/ju/ju_frame.jsp?DIS=21617',\n",
       "  '(09/03/2000)',\n",
       "  'AKTIESELSKABET DANSK SKIBSFINANSIERING (body corporate) v. WHEELOCK MARDEN AND COMPANY LIMITED AND OTHERS \\xa0Reported in :(2000) 3 HKCFAR 70; [2000] 1 HKLRD 568'),\n",
       " ('Final Appeal (Civil)',\n",
       "  '1998',\n",
       "  \"\\\\'https://legalref.judiciary.hk/lrs/images/ThemeXP/Epage.gif\\\\'\",\n",
       "  'FACV27/1998',\n",
       "  'https://legalref.judiciary.hk/lrs/common/ju/ju_frame.jsp?DIS=33776',\n",
       "  '(16/09/1999)',\n",
       "  'AKTIESELSKABET DANSK SKIBFINANSIERING (body corporate) v. WHEELOCK MARDEN & CO. LTD. AND OTHERS \\xa0'),\n",
       " ('Final Appeal (Civil)',\n",
       "  '2012',\n",
       "  \"\\\\'https://legalref.judiciary.hk/lrs/images/ThemeXP/ETpage.gif\\\\'\",\n",
       "  'FACV1/2012',\n",
       "  'https://legalref.judiciary.hk/lrs/common/ju/ju_frame.jsp?DIS=83620',\n",
       "  '(26/09/2012)',\n",
       "  'ORIENTAL DAILY PUBLISHER LTD AND ANOTHER v. MING PAO HOLDINGS LTD AND OTHERS \\xa0Reported in :(2012) 15 HKCFAR 299'),\n",
       " ('Final Appeal (Civil)',\n",
       "  '2012',\n",
       "  \"\\\\'https://legalref.judiciary.hk/lrs/images/ThemeXP/Epage.gif\\\\'\",\n",
       "  'FACV2/2012',\n",
       "  'https://legalref.judiciary.hk/lrs/common/ju/ju_frame.jsp?DIS=81810',\n",
       "  '(24/05/2012)',\n",
       "  'MOK CHARLES PETER v. TAM WAI HO AND ANOTHER \\xa0Reported in :(2012) 15 HKCFAR 489'),\n",
       " ('Final Appeal (Civil)',\n",
       "  '2012',\n",
       "  \"\\\\'https://legalref.judiciary.hk/lrs/images/ThemeXP/Epage.gif\\\\'\",\n",
       "  'FACV3/2012',\n",
       "  'https://legalref.judiciary.hk/lrs/common/ju/ju_frame.jsp?DIS=87081',\n",
       "  '(10/05/2013)',\n",
       "  'SIT WING YI SIBLY v. BERTON INDUSTRIAL LTD \\xa0Reported in :[2013] 5 HKLRD 225; (2013) 16 HKCFAR 104'),\n",
       " ('Final Appeal (Civil)',\n",
       "  '2012',\n",
       "  \"\\\\'https://legalref.judiciary.hk/lrs/images/ThemeXP/Epage.gif\\\\'\",\n",
       "  'FACV4/2012',\n",
       "  'https://legalref.judiciary.hk/lrs/common/ju/ju_frame.jsp?DIS=88072',\n",
       "  '(16/07/2013)',\n",
       "  'W v. THE REGISTRAR OF MARRIAGES \\xa0'),\n",
       " ('Final Appeal (Civil)',\n",
       "  '2012',\n",
       "  \"\\\\'https://legalref.judiciary.hk/lrs/images/ThemeXP/Epage.gif\\\\'\",\n",
       "  'FACV4/2012',\n",
       "  'https://legalref.judiciary.hk/lrs/common/ju/ju_frame.jsp?DIS=87115',\n",
       "  '(13/05/2013)',\n",
       "  'W v. THE REGISTRAR OF MARRIAGES \\xa0Reported in :[2013] 3 HKLRD 90; (2013) 16 HKCFAR 112'),\n",
       " ('Final Appeal (Civil)',\n",
       "  '2012',\n",
       "  \"\\\\'https://legalref.judiciary.hk/lrs/images/ThemeXP/Epage.gif\\\\'\",\n",
       "  'FACV5/2012',\n",
       "  'https://legalref.judiciary.hk/lrs/common/ju/ju_frame.jsp?DIS=88272',\n",
       "  '(26/07/2013)',\n",
       "  'CATHAY PACIFIC AIRWAYS LTD v. KWAN SIU WA BECKY AND OTHERS \\xa0'),\n",
       " ('Final Appeal (Civil)',\n",
       "  '2012',\n",
       "  \"\\\\'https://legalref.judiciary.hk/lrs/images/ThemeXP/Epage.gif\\\\'\",\n",
       "  'FACV5/2012',\n",
       "  'https://legalref.judiciary.hk/lrs/common/ju/ju_frame.jsp?DIS=83621',\n",
       "  '(26/09/2012)',\n",
       "  'CATHAY PACIFIC AIRWAYS LTD v. KWAN SIU WA BECKY AND OTHERS \\xa0Reported in :(2012) 15 HKCFAR 615'),\n",
       " ('Final Appeal (Civil)',\n",
       "  '2012',\n",
       "  \"\\\\'https://legalref.judiciary.hk/lrs/images/ThemeXP/Epage.gif\\\\'\",\n",
       "  'FACV6/2012',\n",
       "  'https://legalref.judiciary.hk/lrs/common/ju/ju_frame.jsp?DIS=88273',\n",
       "  '(26/07/2013)',\n",
       "  'DE MONSA INVESTMENTS LTD v. WHOLE WIN MANAGEMENT FUND LTD \\xa0Reported in :(2013) 16 HKCFAR 419'),\n",
       " ('Final Appeal (Civil)',\n",
       "  '2012',\n",
       "  \"\\\\'https://legalref.judiciary.hk/lrs/images/ThemeXP/Epage.gif\\\\'\",\n",
       "  'FACV7/2012',\n",
       "  'https://legalref.judiciary.hk/lrs/common/ju/ju_frame.jsp?DIS=93313',\n",
       "  '(03/06/2014)',\n",
       "  'CHUNG YUEN YEE v. SAM WOO BORE PILE FOUNDATION LTD AND OTHERS \\xa0'),\n",
       " ('Final Appeal (Civil)',\n",
       "  '2012',\n",
       "  \"\\\\'https://legalref.judiciary.hk/lrs/images/ThemeXP/Epage.gif\\\\'\",\n",
       "  'FACV7/2012',\n",
       "  'https://legalref.judiciary.hk/lrs/common/ju/ju_frame.jsp?DIS=87082',\n",
       "  '(10/05/2013)',\n",
       "  'CHUNG YUEN YEE v. SAM WOO BORE PILE FOUNDATION LTD AND OTHERS \\xa0Reported in :(2013) 16 HKCFAR 315'),\n",
       " ('Final Appeal (Civil)',\n",
       "  '2012',\n",
       "  \"\\\\'https://legalref.judiciary.hk/lrs/images/ThemeXP/Epage.gif\\\\'\",\n",
       "  'FACV8/2012',\n",
       "  'https://legalref.judiciary.hk/lrs/common/ju/ju_frame.jsp?DIS=88274',\n",
       "  '(26/07/2013)',\n",
       "  'MESSRS HLB HODGSON IMPEY CHENG (a firm) AND OTHERS v. THE HONG KONG INSTITUTE OF CERTIFIED PUBLIC ACCOUNTANTS \\xa0Reported in :(2013) 16 HKCFAR 460'),\n",
       " ('Final Appeal (Civil)',\n",
       "  '2012',\n",
       "  \"\\\\'https://legalref.judiciary.hk/lrs/images/ThemeXP/Epage.gif\\\\'\",\n",
       "  'FACV9/2012',\n",
       "  'https://legalref.judiciary.hk/lrs/common/ju/ju_frame.jsp?DIS=89362',\n",
       "  '(30/09/2013)',\n",
       "  'KWOK CHIN WING v. 21 HOLDINGS LTD AND ANOTHER \\xa0Reported in :(2013) 16 HKCFAR 663'),\n",
       " ('Final Appeal (Civil)',\n",
       "  '2012',\n",
       "  \"\\\\'https://legalref.judiciary.hk/lrs/images/ThemeXP/ETpage.gif\\\\'\",\n",
       "  'FACV10/2012',\n",
       "  'https://legalref.judiciary.hk/lrs/common/ju/ju_frame.jsp?DIS=87083',\n",
       "  '(10/05/2013)',\n",
       "  'SECURITIES AND FUTURES COMMISSION v. WILLIAM TOMITA \\xa0Reported in :(2013) 16 HKCFAR 324'),\n",
       " ('Final Appeal (Civil)',\n",
       "  '2012',\n",
       "  \"\\\\'https://legalref.judiciary.hk/lrs/images/ThemeXP/ETpage.gif\\\\'\",\n",
       "  'FACV11/2012',\n",
       "  'https://legalref.judiciary.hk/lrs/common/ju/ju_frame.jsp?DIS=87091',\n",
       "  '(10/05/2013)',\n",
       "  'SECURITIES AND FUTURES COMMISSION v. SUNG KOOK HWANG BILL \\xa0Reported in :(2013) 16 HKCFAR 324'),\n",
       " ('Final Appeal (Civil)',\n",
       "  '2012',\n",
       "  \"\\\\'https://legalref.judiciary.hk/lrs/images/ThemeXP/ETpage.gif\\\\'\",\n",
       "  'FACV12/2012',\n",
       "  'https://legalref.judiciary.hk/lrs/common/ju/ju_frame.jsp?DIS=87092',\n",
       "  '(10/05/2013)',\n",
       "  'SECURITIES AND FUTURES COMMISSION v. RAYMOND PARK \\xa0Reported in :(2013) 16 HKCFAR 324'),\n",
       " ('Final Appeal (Civil)',\n",
       "  '2012',\n",
       "  \"\\\\'https://legalref.judiciary.hk/lrs/images/ThemeXP/ETpage.gif\\\\'\",\n",
       "  'FACV13/2012',\n",
       "  'https://legalref.judiciary.hk/lrs/common/ju/ju_frame.jsp?DIS=87093',\n",
       "  '(10/05/2013)',\n",
       "  'SECURITIES AND FUTURES COMMISSION v. TIGER ASIA MANAGEMENT LLC \\xa0Reported in :(2013) 16 HKCFAR 324'),\n",
       " ('Final Appeal (Civil)',\n",
       "  '2012',\n",
       "  \"\\\\'https://legalref.judiciary.hk/lrs/images/ThemeXP/Epage.gif\\\\'\",\n",
       "  'FACV14/2012',\n",
       "  'https://legalref.judiciary.hk/lrs/common/ju/ju_frame.jsp?DIS=91102',\n",
       "  '(16/01/2014)',\n",
       "  'LIBERTARIAN INVESTMENTS LTD v. THOMAS ALEXEJ HALL \\xa0'),\n",
       " ('Final Appeal (Civil)',\n",
       "  '2012',\n",
       "  \"\\\\'https://legalref.judiciary.hk/lrs/images/ThemeXP/Epage.gif\\\\'\",\n",
       "  'FACV14/2012',\n",
       "  'https://legalref.judiciary.hk/lrs/common/ju/ju_frame.jsp?DIS=91977',\n",
       "  '(11/03/2014)',\n",
       "  'LIBERTARIAN INVESTMENTS LTD v. THOMAS ALEXEJ HALL \\xa0'),\n",
       " ('Final Appeal (Civil)',\n",
       "  '2012',\n",
       "  \"\\\\'https://legalref.judiciary.hk/lrs/images/ThemeXP/Epage.gif\\\\'\",\n",
       "  'FACV14/2012',\n",
       "  'https://legalref.judiciary.hk/lrs/common/ju/ju_frame.jsp?DIS=90003',\n",
       "  '(06/11/2013)',\n",
       "  'LIBERTARIAN INVESTMENTS LTD v. THOMAS ALEXEJ HALL \\xa0Reported in :(2013) 16 HKCFAR 681'),\n",
       " ('Final Appeal (Civil)',\n",
       "  '2012',\n",
       "  \"\\\\'https://legalref.judiciary.hk/lrs/images/ThemeXP/Epage.gif\\\\'\",\n",
       "  'FACV15/2012',\n",
       "  'https://legalref.judiciary.hk/lrs/common/ju/ju_frame.jsp?DIS=87880',\n",
       "  '(04/07/2013)',\n",
       "  'ORIENTAL PRESS GROUP LTD AND ANOTHER v. FEVAWORKS SOLUTIONS LTD \\xa0Reported in :(2013) 16 HKCFAR 366'),\n",
       " ('Final Appeal (Civil)',\n",
       "  '2012',\n",
       "  \"\\\\'https://legalref.judiciary.hk/lrs/images/ThemeXP/Epage.gif\\\\'\",\n",
       "  'FACV16/2012',\n",
       "  'https://legalref.judiciary.hk/lrs/common/ju/ju_frame.jsp?DIS=91189',\n",
       "  '(16/01/2014)',\n",
       "  'THOMAS ALEXEJ HALL v. LIBERTARIAN INVESTMENTS LTD \\xa0'),\n",
       " ('Final Appeal (Civil)',\n",
       "  '2012',\n",
       "  \"\\\\'https://legalref.judiciary.hk/lrs/images/ThemeXP/Epage.gif\\\\'\",\n",
       "  'FACV16/2012',\n",
       "  'https://legalref.judiciary.hk/lrs/common/ju/ju_frame.jsp?DIS=91978',\n",
       "  '(11/03/2014)',\n",
       "  'THOMAS ALEXEJ HALL v. LIBERTARIAN INVESTMENTS LTD \\xa0'),\n",
       " ('Final Appeal (Civil)',\n",
       "  '2012',\n",
       "  \"\\\\'https://legalref.judiciary.hk/lrs/images/ThemeXP/Epage.gif\\\\'\",\n",
       "  'FACV16/2012',\n",
       "  'https://legalref.judiciary.hk/lrs/common/ju/ju_frame.jsp?DIS=90004',\n",
       "  '(06/11/2013)',\n",
       "  'THOMAS ALEXEJ HALL v. LIBERTARIAN INVESTMENTS LTD \\xa0Reported in :(2013) 16 HKCFAR 681'),\n",
       " ('Final Appeal (Civil)',\n",
       "  '2012',\n",
       "  \"\\\\'https://legalref.judiciary.hk/lrs/images/ThemeXP/Epage.gif\\\\'\",\n",
       "  'FACV17/2012',\n",
       "  'https://legalref.judiciary.hk/lrs/common/ju/ju_frame.jsp?DIS=87116',\n",
       "  '(13/05/2013)',\n",
       "  'FULLY PROFIT (ASIA) LTD v.  THE SECRETARY FOR JUSTICE \\xa0Reported in :(2013) 16 HKCFAR 351'),\n",
       " ('Final Appeal (Civil)',\n",
       "  '2012',\n",
       "  \"\\\\'https://legalref.judiciary.hk/lrs/images/ThemeXP/Epage.gif\\\\'\",\n",
       "  'FACV18/2012',\n",
       "  'https://legalref.judiciary.hk/lrs/common/ju/ju_frame.jsp?DIS=85716',\n",
       "  '(15/02/2013)',\n",
       "  'KEWS v. NCHC \\xa0Reported in :[2013] 2 HKLRD 314; (2013) 16 HKCFAR 1'),\n",
       " ('Final Appeal (Civil)',\n",
       "  '2012',\n",
       "  \"\\\\'https://legalref.judiciary.hk/lrs/images/ThemeXP/Epage.gif\\\\'\",\n",
       "  'FACV19/2012',\n",
       "  'https://legalref.judiciary.hk/lrs/common/ju/ju_frame.jsp?DIS=88071',\n",
       "  '(16/07/2013)',\n",
       "  'VALLEJOS EVANGELINE BANAO, ALSO KNOWN AS VALLEJOS EVANGELINE B. v. COMMISSIONER OF REGISTRATION AND ANOTHER \\xa0'),\n",
       " ('Final Appeal (Civil)',\n",
       "  '2012',\n",
       "  \"\\\\'https://legalref.judiciary.hk/lrs/images/ThemeXP/Epage.gif\\\\'\",\n",
       "  'FACV19/2012',\n",
       "  'https://legalref.judiciary.hk/lrs/common/ju/ju_frame.jsp?DIS=86304',\n",
       "  '(25/03/2013)',\n",
       "  'VALLEJOS EVANGELINE BANAO, ALSO KNOWN AS VALLEJOS EVANGELINE B. v. COMMISSIONER OF REGISTRATION AND ANOTHER \\xa0Reported in :[2013] 2 HKLRD 533; (2013) 16 HKCFAR 45'),\n",
       " ('Final Appeal (Civil)',\n",
       "  '2012',\n",
       "  \"\\\\'https://legalref.judiciary.hk/lrs/images/ThemeXP/Epage.gif\\\\'\",\n",
       "  'FACV20/2012',\n",
       "  'https://legalref.judiciary.hk/lrs/common/ju/ju_frame.jsp?DIS=88079',\n",
       "  '(16/07/2013)',\n",
       "  'DOMINGO DANIEL L. v. COMMISSIONER OF REGISTRATION AND ANOTHER \\xa0'),\n",
       " ('Final Appeal (Civil)',\n",
       "  '2012',\n",
       "  \"\\\\'https://legalref.judiciary.hk/lrs/images/ThemeXP/Epage.gif\\\\'\",\n",
       "  'FACV20/2012',\n",
       "  'https://legalref.judiciary.hk/lrs/common/ju/ju_frame.jsp?DIS=86312',\n",
       "  '(25/03/2013)',\n",
       "  'DOMINGO DANIEL L. v. COMMISSIONER OF REGISTRATION AND ANOTHER \\xa0Reported in :[2013] 2 HKLRD 533; (2013) 16 HKCFAR 45'),\n",
       " ('Final Appeal (Civil)',\n",
       "  '2012',\n",
       "  \"\\\\'https://legalref.judiciary.hk/lrs/images/ThemeXP/Epage.gif\\\\'\",\n",
       "  'FACV21/2012',\n",
       "  'https://legalref.judiciary.hk/lrs/common/ju/ju_frame.jsp?DIS=87084',\n",
       "  '(10/05/2013)',\n",
       "  'KOWLOON DEVELOPMENT FINANCE LTD v. PENDEX INDUSTRIES LTD AND OTHERS \\xa0Reported in :(2013) 16 HKCFAR 336'),\n",
       " ('Final Appeal (Civil)',\n",
       "  '2012',\n",
       "  \"\\\\'https://legalref.judiciary.hk/lrs/images/ThemeXP/Epage.gif\\\\'\",\n",
       "  'FACV22/2012',\n",
       "  'https://legalref.judiciary.hk/lrs/common/ju/ju_frame.jsp?DIS=89361',\n",
       "  '(30/09/2013)',\n",
       "  'SINOEARN INTERNATIONAL LIMITED v. HYUNDAI-CCECC JOINT VENTURE (a firm) \\xa0Reported in :(2013) 16 HKCFAR 632'),\n",
       " ('Final Appeal (Civil)',\n",
       "  '2012',\n",
       "  \"\\\\'https://legalref.judiciary.hk/lrs/images/ThemeXP/Epage.gif\\\\'\",\n",
       "  'FACV23/2012',\n",
       "  'https://legalref.judiciary.hk/lrs/common/ju/ju_frame.jsp?DIS=90096',\n",
       "  '(12/11/2013)',\n",
       "  'NICE CHEER INVESTMENT LTD v. COMMISSIONER OF INLAND REVENUE \\xa0Reported in :(2013) 16 HKCFAR 813'),\n",
       " ('Final Appeal (Civil)',\n",
       "  '2012',\n",
       "  \"\\\\'https://legalref.judiciary.hk/lrs/images/ThemeXP/Epage.gif\\\\'\",\n",
       "  'FACV24/2012',\n",
       "  'https://legalref.judiciary.hk/lrs/common/ju/ju_frame.jsp?DIS=88006',\n",
       "  '(11/07/2013)',\n",
       "  'LEUNG CHUN YING v. HO CHUN YAN ALBERT AND ANOTHER \\xa0Reported in :(2013) 16 HKCFAR 735'),\n",
       " ('Final Appeal (Civil)',\n",
       "  '2012',\n",
       "  \"\\\\'https://legalref.judiciary.hk/lrs/images/ThemeXP/Epage.gif\\\\'\",\n",
       "  'FACV25/2012',\n",
       "  'https://legalref.judiciary.hk/lrs/common/ju/ju_frame.jsp?DIS=88007',\n",
       "  '(11/07/2013)',\n",
       "  'LEUNG CHUN YING v. HO CHUN YAN ALBERT AND ANOTHER \\xa0Reported in :(2013) 16 HKCFAR 735'),\n",
       " ('Final Appeal (Civil)',\n",
       "  '2012',\n",
       "  \"\\\\'https://legalref.judiciary.hk/lrs/images/ThemeXP/Epage.gif\\\\'\",\n",
       "  'FACV27/2012',\n",
       "  'https://legalref.judiciary.hk/lrs/common/ju/ju_frame.jsp?DIS=88008',\n",
       "  '(11/07/2013)',\n",
       "  'SECRETARY FOR JUSTICE v. HO CHUN YAN, ALBERT AND OTHERS \\xa0Reported in :(2013) 16 HKCFAR 735'),\n",
       " ('Final Appeal (Civil)',\n",
       "  '2000',\n",
       "  \"\\\\'https://legalref.judiciary.hk/lrs/images/ThemeXP/ETpage.gif\\\\'\",\n",
       "  'FACV1/2000',\n",
       "  'https://legalref.judiciary.hk/lrs/common/ju/ju_frame.jsp?DIS=21753',\n",
       "  '(06/03/2001)',\n",
       "  'COMMISSIONER OF RATING & VALUATION v. AGRILA LTD. AND OTHERS \\xa0Reported in :[2001] 2 HKLRD 36; (2001) 4 HKCFAR 83'),\n",
       " ('Final Appeal (Civil)',\n",
       "  '2000',\n",
       "  \"\\\\'https://legalref.judiciary.hk/lrs/images/ThemeXP/ETpage.gif\\\\'\",\n",
       "  'FACV2/2000',\n",
       "  'https://legalref.judiciary.hk/lrs/common/ju/ju_frame.jsp?DIS=21754',\n",
       "  '(06/03/2001)',\n",
       "  'AGRILA LTD. AND OTHERS v. COMMISSIONER OF RATING & VALUATION \\xa0Reported in :[2001] 2 HKLRD 36; (2001) 4 HKCFAR 83'),\n",
       " ('Final Appeal (Civil)',\n",
       "  '2000',\n",
       "  \"\\\\'https://legalref.judiciary.hk/lrs/images/ThemeXP/Epage.gif\\\\'\",\n",
       "  'FACV3/2000',\n",
       "  'https://legalref.judiciary.hk/lrs/common/ju/ju_frame.jsp?DIS=33994',\n",
       "  '(26/06/2000)',\n",
       "  'THE MEDICAL COUNCIL OF HONG KONG v. DAVID CHOW SIU SHEK \\xa0'),\n",
       " ('Final Appeal (Civil)',\n",
       "  '2000',\n",
       "  \"\\\\'https://legalref.judiciary.hk/lrs/images/ThemeXP/Epage.gif\\\\'\",\n",
       "  'FACV3/2000',\n",
       "  'https://legalref.judiciary.hk/lrs/common/ju/ju_frame.jsp?DIS=21991',\n",
       "  '(01/06/2000)',\n",
       "  'THE MEDICAL COUNCIL OF HONG KONG v. DAVID CHOW SIU SHEK \\xa0Reported in :[2000] 2 HKLRD 674; (2000) 3 HKCFAR 144'),\n",
       " ('Final Appeal (Civil)',\n",
       "  '2000',\n",
       "  \"\\\\'https://legalref.judiciary.hk/lrs/images/ThemeXP/Epage.gif\\\\'\",\n",
       "  'FACV4/2000',\n",
       "  'https://legalref.judiciary.hk/lrs/common/ju/ju_frame.jsp?DIS=33300',\n",
       "  '(02/11/2000)',\n",
       "  'RAIDER LTD. v. SECRETARY FOR JUSTICE \\xa0Reported in :[2000] 3 HKLRD 300; (2000) 3 HKCFAR 309'),\n",
       " ('Final Appeal (Civil)',\n",
       "  '2000',\n",
       "  \"\\\\'https://legalref.judiciary.hk/lrs/images/ThemeXP/Epage.gif\\\\'\",\n",
       "  'FACV5/2000',\n",
       "  'https://legalref.judiciary.hk/lrs/common/ju/ju_frame.jsp?DIS=19773',\n",
       "  '(10/11/2000)',\n",
       "  'CHENG KIN PING AND ANOTHER v. WOO CHO WING JOHN \\xa0Reported in :[2000] 3 HKLRD 743; (2000) 3 HKCFAR 333'),\n",
       " ('Final Appeal (Civil)',\n",
       "  '2000',\n",
       "  \"\\\\'https://legalref.judiciary.hk/lrs/images/ThemeXP/Epage.gif\\\\'\",\n",
       "  'FACV6/2000',\n",
       "  'https://legalref.judiciary.hk/lrs/common/ju/ju_frame.jsp?DIS=20971',\n",
       "  '(28/07/2000)',\n",
       "  'THE TIAN SHENG NO.8 (OWNERS OF THE SHIP) v. OWNERS OF CARGO \\xa0'),\n",
       " ('Final Appeal (Civil)',\n",
       "  '2000',\n",
       "  \"\\\\'https://legalref.judiciary.hk/lrs/images/ThemeXP/Epage.gif\\\\'\",\n",
       "  'FACV6/2000',\n",
       "  'https://legalref.judiciary.hk/lrs/common/ju/ju_frame.jsp?DIS=37367',\n",
       "  '(12/07/2000)',\n",
       "  'THE TIAN SHENG NO.8 (OWNER OF THE SHIP) v. OWNERS OF CARGO \\xa0Reported in :[2000] 3 HKLRD 49; (2000) 3 HKCFAR 187'),\n",
       " ('Final Appeal (Civil)',\n",
       "  '2000',\n",
       "  \"\\\\'https://legalref.judiciary.hk/lrs/images/ThemeXP/Epage.gif\\\\'\",\n",
       "  'FACV7/2000',\n",
       "  'https://legalref.judiciary.hk/lrs/common/ju/ju_frame.jsp?DIS=21406',\n",
       "  '(21/12/2000)',\n",
       "  'NATION GROUP DEVELOPMENT LTD. v. NEW PACIFIC PROPERTIES LTD. \\xa0Reported in :[2001] 1 HKLRD 375; (2000) 3 HKCFAR 427'),\n",
       " ('Final Appeal (Civil)',\n",
       "  '2000',\n",
       "  \"\\\\'https://legalref.judiciary.hk/lrs/images/ThemeXP/ETpage.gif\\\\'\",\n",
       "  'FACV8/2000',\n",
       "  'https://legalref.judiciary.hk/lrs/common/ju/ju_frame.jsp?DIS=33623',\n",
       "  '(22/12/2000)',\n",
       "  'SECRETARY FOR JUSTICE v. TO KAN CHI AND OTHERS \\xa0Reported in :[2000] 3 HKLRD 756; (2000) 3 HKCFAR 481'),\n",
       " ('Final Appeal (Civil)',\n",
       "  '2000',\n",
       "  \"\\\\'https://legalref.judiciary.hk/lrs/images/ThemeXP/Epage.gif\\\\'\",\n",
       "  'FACV8/2000',\n",
       "  'https://legalref.judiciary.hk/lrs/common/ju/ju_frame.jsp?DIS=53524',\n",
       "  '(04/08/2006)',\n",
       "  'SECRETARY FOR JUSTICE v. TO KAN CHI AND OTHERS \\xa0'),\n",
       " ('Final Appeal (Civil)',\n",
       "  '2000',\n",
       "  \"\\\\'https://legalref.judiciary.hk/lrs/images/ThemeXP/Epage.gif\\\\'\",\n",
       "  'FACV8/2000',\n",
       "  'https://legalref.judiciary.hk/lrs/common/ju/ju_frame.jsp?DIS=84382',\n",
       "  '(13/11/2012)',\n",
       "  'TO KAN CHI AND OTHERS v. SECRETARY FOR JUSTICE \\xa0Reported in :(2012) 15 HKCFAR 708'),\n",
       " ('Final Appeal (Civil)',\n",
       "  '2000',\n",
       "  \"\\\\'https://legalref.judiciary.hk/lrs/images/ThemeXP/Epage.gif\\\\'\",\n",
       "  'FACV8/2000',\n",
       "  'https://legalref.judiciary.hk/lrs/common/ju/ju_frame.jsp?DIS=22661',\n",
       "  '(18/07/2000)',\n",
       "  'SECRETARY FOR JUSTICE v. TO KAN CHI AND OTHERS \\xa0Reported in :[2000] 2 HKLRD 499; (2000) 3 HKCFAR 264'),\n",
       " ('Final Appeal (Civil)',\n",
       "  '2000',\n",
       "  \"\\\\'https://legalref.judiciary.hk/lrs/images/ThemeXP/Epage.gif\\\\'\",\n",
       "  'FACV9/2000',\n",
       "  'https://legalref.judiciary.hk/lrs/common/ju/ju_frame.jsp?DIS=19914',\n",
       "  '(08/12/2000)',\n",
       "  'COMMISSIONER OF INLAND REVENUE v. SECAN LTD. AND ANOTHER \\xa0Reported in :[2000] 3 HKLRD 627; (2000) 3 HKCFAR 411'),\n",
       " ('Final Appeal (Civil)',\n",
       "  '2000',\n",
       "  \"\\\\'https://legalref.judiciary.hk/lrs/images/ThemeXP/ETpage.gif\\\\'\",\n",
       "  'FACV11/2000',\n",
       "  'https://legalref.judiciary.hk/lrs/common/ju/ju_frame.jsp?DIS=33624',\n",
       "  '(22/12/2000)',\n",
       "  'SECRETARY FOR JUSTICE OTHERS v. CHAN WAH AND OTHERS \\xa0Reported in :[2000] 3 HKLRD 641; (2000) 3 HKCFAR 459'),\n",
       " ('Final Appeal (Civil)',\n",
       "  '2000',\n",
       "  \"\\\\'https://legalref.judiciary.hk/lrs/images/ThemeXP/Epage.gif\\\\'\",\n",
       "  'FACV11/2000',\n",
       "  'https://legalref.judiciary.hk/lrs/common/ju/ju_frame.jsp?DIS=20230',\n",
       "  '(13/12/2001)',\n",
       "  'SECRETARY FOR JUSTICE AND OTHERS v. CHAN WAH AND OTHERS \\xa0'),\n",
       " ('Final Appeal (Civil)',\n",
       "  '2000',\n",
       "  \"\\\\'https://legalref.judiciary.hk/lrs/images/ThemeXP/Epage.gif\\\\'\",\n",
       "  'FACV11/2000',\n",
       "  'https://legalref.judiciary.hk/lrs/common/ju/ju_frame.jsp?DIS=18950',\n",
       "  '(08/08/2000)',\n",
       "  'SECRETARY FOR JUSTICE AND ANOTHER v. CHAN WAH AND OTHERS \\xa0Reported in :[2000] 2 HKLRD 880; (2000) 3 HKCFAR 293'),\n",
       " ('Final Appeal (Civil)',\n",
       "  '2000',\n",
       "  \"\\\\'https://legalref.judiciary.hk/lrs/images/ThemeXP/Epage.gif\\\\'\",\n",
       "  'FACV12/2000',\n",
       "  'https://legalref.judiciary.hk/lrs/common/ju/ju_frame.jsp?DIS=33714',\n",
       "  '(17/01/2001)',\n",
       "  'ALBERT CHENG AND ANOTHER v. TSE WAI CHUN PAUL \\xa0Reported in :[2001] 1 HKLRD 191; (2001) 4 HKCFAR 26'),\n",
       " ('Final Appeal (Civil)',\n",
       "  '2000',\n",
       "  \"\\\\'https://legalref.judiciary.hk/lrs/images/ThemeXP/ETpage.gif\\\\'\",\n",
       "  'FACV12/2000',\n",
       "  'https://legalref.judiciary.hk/lrs/common/ju/ju_frame.jsp?DIS=21112',\n",
       "  '(13/11/2000)',\n",
       "  'ALBERT CHENG AND ANOTHER v. TSE WAI CHUN PAUL \\xa0Reported in :[2000] 3 HKLRD 418; (2000) 3 HKCFAR 339'),\n",
       " ('Final Appeal (Civil)',\n",
       "  '2000',\n",
       "  \"\\\\'https://legalref.judiciary.hk/lrs/images/ThemeXP/ETpage.gif\\\\'\",\n",
       "  'FACV13/2000',\n",
       "  'https://legalref.judiciary.hk/lrs/common/ju/ju_frame.jsp?DIS=21407',\n",
       "  '(22/12/2000)',\n",
       "  'SECRETARY FOR JUSTICE OTHERS v. CHAN WAH AND OTHERS \\xa0Reported in :[2000] 3 HKLRD 641; (2000) 3 HKCFAR 459'),\n",
       " ('Final Appeal (Civil)',\n",
       "  '2000',\n",
       "  \"\\\\'https://legalref.judiciary.hk/lrs/images/ThemeXP/Epage.gif\\\\'\",\n",
       "  'FACV13/2000',\n",
       "  'https://legalref.judiciary.hk/lrs/common/ju/ju_frame.jsp?DIS=20232',\n",
       "  '(13/12/2001)',\n",
       "  'SECRETARY FOR JUSTICE AND OTHERS v. CHAN WAH AND OTHERS \\xa0'),\n",
       " ('Final Appeal (Civil)',\n",
       "  '2000',\n",
       "  \"\\\\'https://legalref.judiciary.hk/lrs/images/ThemeXP/Epage.gif\\\\'\",\n",
       "  'FACV13/2000',\n",
       "  'https://legalref.judiciary.hk/lrs/common/ju/ju_frame.jsp?DIS=18951',\n",
       "  '(08/08/2000)',\n",
       "  'CHEUNG KAM CHUEN v. CHAN WAH AND OTHERS \\xa0Reported in :[2000] 2 HKLRD 880; (2000) 3 HKCFAR 293'),\n",
       " ('Final Appeal (Civil)',\n",
       "  '2000',\n",
       "  \"\\\\'https://legalref.judiciary.hk/lrs/images/ThemeXP/Epage.gif\\\\'\",\n",
       "  'FACV14/2000',\n",
       "  'https://legalref.judiciary.hk/lrs/common/ju/ju_frame.jsp?DIS=36330',\n",
       "  '(27/02/2001)',\n",
       "  'LEUNG KWAI LIN CINDY v. WU WING KUEN \\xa0Reported in :[2001] 1 HKLRD 212; (2001) 4 HKCFAR 55'),\n",
       " ('Final Appeal (Civil)',\n",
       "  '2000',\n",
       "  \"\\\\'https://legalref.judiciary.hk/lrs/images/ThemeXP/Epage.gif\\\\'\",\n",
       "  'FACV15/2000',\n",
       "  'https://legalref.judiciary.hk/lrs/common/ju/ju_frame.jsp?DIS=21133',\n",
       "  '(22/11/2000)',\n",
       "  'REGAL SUCCESS VENTURE LTD. v. JONLIN LTD. AND ANOTHER \\xa0Reported in :[2000] 3 HKLRD 597; (2000) 3 HKCFAR 364'),\n",
       " ('Final Appeal (Civil)',\n",
       "  '2000',\n",
       "  \"\\\\'https://legalref.judiciary.hk/lrs/images/ThemeXP/Epage.gif\\\\'\",\n",
       "  'FACV16/2000',\n",
       "  'https://legalref.judiciary.hk/lrs/common/ju/ju_frame.jsp?DIS=37348',\n",
       "  '(21/12/2000)',\n",
       "  'GLOBAL TIME INVESTMENTS LTD. v. SUPER KEEN INVESTMENTS LTD. \\xa0Reported in :[2001] 1 HKLRD 387; (2000) 3 HKCFAR 440'),\n",
       " ('Final Appeal (Civil)',\n",
       "  '2000',\n",
       "  \"\\\\'https://legalref.judiciary.hk/lrs/images/ThemeXP/Epage.gif\\\\'\",\n",
       "  'FACV17/2000',\n",
       "  'https://legalref.judiciary.hk/lrs/common/ju/ju_frame.jsp?DIS=21408',\n",
       "  '(21/12/2000)',\n",
       "  'GRAND MILLION DEVELOPMENT LTD. v. GLOBAL TIME INVESTMENTS LTD. \\xa0Reported in :[2001] 1 HKLRD 387; (2000) 3 HKCFAR 440'),\n",
       " ('Final Appeal (Civil)',\n",
       "  '2000',\n",
       "  \"\\\\'https://legalref.judiciary.hk/lrs/images/ThemeXP/Epage.gif\\\\'\",\n",
       "  'FACV18/2000',\n",
       "  'https://legalref.judiciary.hk/lrs/common/ju/ju_frame.jsp?DIS=22522',\n",
       "  '(12/07/2000)',\n",
       "  'TIN TIN YAT PAO (INTERNATIONAL) LTD. (IN LIQUIDATION) v. TIN TIN PUBLICATION DEVELOPMENT LTD. \\xa0Reported in :[2000] 3 HKLRD 111; (2000) 3 HKCFAR 251'),\n",
       " ('Final Appeal (Civil)',\n",
       "  '2000',\n",
       "  \"\\\\'https://legalref.judiciary.hk/lrs/images/ThemeXP/Epage.gif\\\\'\",\n",
       "  'FACV19/2000',\n",
       "  'https://legalref.judiciary.hk/lrs/common/ju/ju_frame.jsp?DIS=20491',\n",
       "  '(16/03/2001)',\n",
       "  'WONG WAN LEUNG AND OTHERS v. SECRETARY FOR TRANSPORT \\xa0'),\n",
       " ('Final Appeal (Civil)',\n",
       "  '2000',\n",
       "  \"\\\\'https://legalref.judiciary.hk/lrs/images/ThemeXP/Epage.gif\\\\'\",\n",
       "  'FACV19/2000',\n",
       "  'https://legalref.judiciary.hk/lrs/common/ju/ju_frame.jsp?DIS=20364',\n",
       "  '(27/02/2001)',\n",
       "  'WONG WAN LEUNG AND OTHERS v. SECRETARY FOR TRANSPORT \\xa0Reported in :[2001] 1 HKLRD 427; (2001) 4 HKCFAR 69'),\n",
       " ('Final Appeal (Civil)',\n",
       "  '2000',\n",
       "  \"\\\\'https://legalref.judiciary.hk/lrs/images/ThemeXP/ETpage.gif\\\\'\",\n",
       "  'FACV20/2000',\n",
       "  'https://legalref.judiciary.hk/lrs/common/ju/ju_frame.jsp?DIS=32922',\n",
       "  '(20/07/2001)',\n",
       "  'TAM NGA YIN AND OTHERS v. THE DIRECTOR OF IMMIGRATION \\xa0Reported in :[2001] 2 HKLRD 644; (2001) 4 HKCFAR 251'),\n",
       " ('Final Appeal (Civil)',\n",
       "  '2000',\n",
       "  \"\\\\'https://legalref.judiciary.hk/lrs/images/ThemeXP/ETpage.gif\\\\'\",\n",
       "  'FACV21/2000',\n",
       "  'https://legalref.judiciary.hk/lrs/common/ju/ju_frame.jsp?DIS=32923',\n",
       "  '(20/07/2001)',\n",
       "  'TAM NGA YIN AND OTHERS v. THE DIRECTOR OF IMMIGRATION \\xa0Reported in :[2001] 2 HKLRD 644; (2001) 4 HKCFAR 251'),\n",
       " ('Final Appeal (Civil)',\n",
       "  '2000',\n",
       "  \"\\\\'https://legalref.judiciary.hk/lrs/images/ThemeXP/ETpage.gif\\\\'\",\n",
       "  'FACV22/2000',\n",
       "  'https://legalref.judiciary.hk/lrs/common/ju/ju_frame.jsp?DIS=20233',\n",
       "  '(21/12/2001)',\n",
       "  'SUEN TOI LEE v. YAU YEE PING \\xa0Reported in :(2001) 4 HKCFAR 474; [2002] 1 HKLRD 197'),\n",
       " ('Final Appeal (Civil)',\n",
       "  '2000',\n",
       "  \"\\\\'https://legalref.judiciary.hk/lrs/images/ThemeXP/Epage.gif\\\\'\",\n",
       "  'FACV23/2000',\n",
       "  'https://legalref.judiciary.hk/lrs/common/ju/ju_frame.jsp?DIS=20365',\n",
       "  '(20/02/2001)',\n",
       "  'LAM PAK CHIU AND ANOTHER v. TSANG MEI YING AND ANOTHER \\xa0Reported in :[2001] 1 HKLRD 193; (2001) 4 HKCFAR 34'),\n",
       " ('Final Appeal (Civil)',\n",
       "  '2000',\n",
       "  \"\\\\'https://legalref.judiciary.hk/lrs/images/ThemeXP/ETpage.gif\\\\'\",\n",
       "  'FACV24/2000',\n",
       "  'https://legalref.judiciary.hk/lrs/common/ju/ju_frame.jsp?DIS=22557',\n",
       "  '(20/07/2001)',\n",
       "  'FATEH MUHAMMAD v. COMMISSIONER OF REGISTRATION \\xa0Reported in :[2001] 2 HKLRD 659; (2001) 4 HKCFAR 278'),\n",
       " ('Final Appeal (Civil)',\n",
       "  '2000',\n",
       "  \"\\\\'https://legalref.judiciary.hk/lrs/images/ThemeXP/ETpage.gif\\\\'\",\n",
       "  'FACV25/2000',\n",
       "  'https://legalref.judiciary.hk/lrs/common/ju/ju_frame.jsp?DIS=33042',\n",
       "  '(05/10/2001)',\n",
       "  'MA BIK YUNG v. KO CHUEN \\xa0Reported in :[2002] 2 HKLRD 1; (2006) 9 HKCFAR 888'),\n",
       " ('Final Appeal (Civil)',\n",
       "  '2000',\n",
       "  \"\\\\'https://legalref.judiciary.hk/lrs/images/ThemeXP/ETpage.gif\\\\'\",\n",
       "  'FACV26/2000',\n",
       "  'https://legalref.judiciary.hk/lrs/common/ju/ju_frame.jsp?DIS=22558',\n",
       "  '(20/07/2001)',\n",
       "  'THE DIRECTOR OF IMMIGRATION v. CHONG FUNG YUEN \\xa0Reported in :[2001] 2 HKLRD 533; (2001) 4 HKCFAR 211'),\n",
       " ('Final Appeal (Civil)',\n",
       "  '2000',\n",
       "  \"\\\\'https://legalref.judiciary.hk/lrs/images/ThemeXP/Epage.gif\\\\'\",\n",
       "  'FACV28/2000',\n",
       "  'https://legalref.judiciary.hk/lrs/common/ju/ju_frame.jsp?DIS=22179',\n",
       "  '(25/04/2002)',\n",
       "  'POLYSET LTD. v. PANHANDAT LTD. \\xa0'),\n",
       " ('Final Appeal (Civil)',\n",
       "  '2000',\n",
       "  \"\\\\'https://legalref.judiciary.hk/lrs/images/ThemeXP/Epage.gif\\\\'\",\n",
       "  'FACV28/2000',\n",
       "  'https://legalref.judiciary.hk/lrs/common/ju/ju_frame.jsp?DIS=21795',\n",
       "  '(25/02/2002)',\n",
       "  'POLYSET LTD. v. PANHANDAT LTD. \\xa0Reported in :[2002] 3 HKLRD 319; (2002) 5 HKCFAR 234'),\n",
       " ('Final Appeal (Civil)',\n",
       "  '2000',\n",
       "  \"\\\\'https://legalref.judiciary.hk/lrs/images/ThemeXP/Epage.gif\\\\'\",\n",
       "  'FACV29/2000',\n",
       "  'https://legalref.judiciary.hk/lrs/common/ju/ju_frame.jsp?DIS=32881',\n",
       "  '(18/06/2001)',\n",
       "  'B + B CONSTRUCTION CO. LTD. v. SUN ALLIANCE AND LONDON INSURANCE plc \\xa0Reported in :[2001] 3 HKLRD 135; (2001) 4 HKCFAR 201'),\n",
       " ('Final Appeal (Civil)',\n",
       "  '2001',\n",
       "  \"\\\\'https://legalref.judiciary.hk/lrs/images/ThemeXP/Epage.gif\\\\'\",\n",
       "  'FACV1/2001',\n",
       "  'https://legalref.judiciary.hk/lrs/common/ju/ju_frame.jsp?DIS=21794',\n",
       "  '(25/02/2002)',\n",
       "  'NG SIU TUNG AND OTHERS v. THE DIRECTOR OF IMMIGRATION \\xa0'),\n",
       " ('Final Appeal (Civil)',\n",
       "  '2001',\n",
       "  \"\\\\'https://legalref.judiciary.hk/lrs/images/ThemeXP/ETpage.gif\\\\'\",\n",
       "  'FACV1/2001',\n",
       "  'https://legalref.judiciary.hk/lrs/common/ju/ju_frame.jsp?DIS=35733',\n",
       "  '(30/07/2002)',\n",
       "  'NG SIU TUNG AND OTHERS v. THE DIRECTOR OF IMMIGRATION \\xa0Reported in :(2002) 5 HKCFAR 499'),\n",
       " ('Final Appeal (Civil)',\n",
       "  '2001',\n",
       "  \"\\\\'https://legalref.judiciary.hk/lrs/images/ThemeXP/Epage.gif\\\\'\",\n",
       "  'FACV1/2001',\n",
       "  'https://legalref.judiciary.hk/lrs/common/ju/ju_frame.jsp?DIS=25822',\n",
       "  '(09/01/2004)',\n",
       "  'NG SIU TUNG AND OTHERS v. THE DIRECTOR OF IMMIGRATION \\xa0Reported in :(2004) 7 HKCFAR 24'),\n",
       " ('Final Appeal (Civil)',\n",
       "  '2001',\n",
       "  \"\\\\'https://legalref.judiciary.hk/lrs/images/ThemeXP/Epage.gif\\\\'\",\n",
       "  'FACV1/2001',\n",
       "  'https://legalref.judiciary.hk/lrs/common/ju/ju_frame.jsp?DIS=23303',\n",
       "  '(26/03/2004)',\n",
       "  'NG SIU TUNG AND OTHERS v. THE DIRECTOR OF IMMIGRATION \\xa0'),\n",
       " ('Final Appeal (Civil)',\n",
       "  '2001',\n",
       "  \"\\\\'https://legalref.judiciary.hk/lrs/images/ThemeXP/Epage.gif\\\\'\",\n",
       "  'FACV1/2001',\n",
       "  'https://legalref.judiciary.hk/lrs/common/ju/ju_frame.jsp?DIS=51146',\n",
       "  '(05/01/2006)',\n",
       "  'NG SIU TUNG AND OTHERS v. THE DIRECTOR OF IMMIGRATION \\xa0Reported in :(2006) 9 HKCFAR 63'),\n",
       " ('Final Appeal (Civil)',\n",
       "  '2001',\n",
       "  \"\\\\'https://legalref.judiciary.hk/lrs/images/ThemeXP/Epage.gif\\\\'\",\n",
       "  'FACV1/2001',\n",
       "  'https://legalref.judiciary.hk/lrs/common/ju/ju_frame.jsp?DIS=51525',\n",
       "  '(13/02/2006)',\n",
       "  'NG SIU TUNG AND OTHERS v. THE DIRECTOR OF IMMIGRATION \\xa0'),\n",
       " ('Final Appeal (Civil)',\n",
       "  '2001',\n",
       "  \"\\\\'https://legalref.judiciary.hk/lrs/images/ThemeXP/ETpage.gif\\\\'\",\n",
       "  'FACV1/2001',\n",
       "  'https://legalref.judiciary.hk/lrs/common/ju/ju_frame.jsp?DIS=55024',\n",
       "  '(13/11/2006)',\n",
       "  'NG SIU TUNG AND OTHERS v. THE DIRECTOR OF IMMIGRATION \\xa0'),\n",
       " ('Final Appeal (Civil)',\n",
       "  '2001',\n",
       "  \"\\\\'https://legalref.judiciary.hk/lrs/images/ThemeXP/Epage.gif\\\\'\",\n",
       "  'FACV1/2001',\n",
       "  'https://legalref.judiciary.hk/lrs/common/ju/ju_frame.jsp?DIS=57873',\n",
       "  '(25/07/2007)',\n",
       "  'NG SIU TUNG AND OTHERS v. THE DIRECTOR OF IMMIGRATION \\xa0'),\n",
       " ('Final Appeal (Civil)',\n",
       "  '2001',\n",
       "  \"\\\\'https://legalref.judiciary.hk/lrs/images/ThemeXP/Epage.gif\\\\'\",\n",
       "  'FACV1/2001',\n",
       "  'https://legalref.judiciary.hk/lrs/common/ju/ju_frame.jsp?DIS=60480',\n",
       "  '(18/03/2008)',\n",
       "  'NG SIU TUNG AND OTHERS v. THE DIRECTOR OF IMMIGRATION \\xa0'),\n",
       " ('Final Appeal (Civil)',\n",
       "  '2001',\n",
       "  \"\\\\'https://legalref.judiciary.hk/lrs/images/ThemeXP/ETpage.gif\\\\'\",\n",
       "  'FACV1/2001',\n",
       "  'https://legalref.judiciary.hk/lrs/common/ju/ju_frame.jsp?DIS=20557',\n",
       "  '(10/01/2002)',\n",
       "  'NG SIU TUNG AND OTHERS v. THE DIRECTOR OF IMMIGRATION \\xa0Reported in :[2002] 1 HKLRD 561; (2002) 5 HKCFAR 1'),\n",
       " ('Final Appeal (Civil)',\n",
       "  '2001',\n",
       "  \"\\\\'https://legalref.judiciary.hk/lrs/images/ThemeXP/ETpage.gif\\\\'\",\n",
       "  'FACV2/2001',\n",
       "  'https://legalref.judiciary.hk/lrs/common/ju/ju_frame.jsp?DIS=20558',\n",
       "  '(10/01/2002)',\n",
       "  'LI SHUK FAN v. THE DIRECTOR OF IMMIGRATION \\xa0Reported in :[2002] 1 HKLRD 561; (2002) 5 HKCFAR 1'),\n",
       " ('Final Appeal (Civil)',\n",
       "  '2001',\n",
       "  \"\\\\'https://legalref.judiciary.hk/lrs/images/ThemeXP/ETpage.gif\\\\'\",\n",
       "  'FACV3/2001',\n",
       "  'https://legalref.judiciary.hk/lrs/common/ju/ju_frame.jsp?DIS=33202',\n",
       "  '(10/01/2002)',\n",
       "  'SIN HOI CHU AND OTHERS v. THE DIRECTOR OF IMMIGRATION \\xa0Reported in :[2002] 1 HKLRD 561; (2002) 5 HKCFAR 1'),\n",
       " ('Final Appeal (Civil)',\n",
       "  '2001',\n",
       "  \"\\\\'https://legalref.judiciary.hk/lrs/images/ThemeXP/Epage.gif\\\\'\",\n",
       "  'FACV4/2001',\n",
       "  'https://legalref.judiciary.hk/lrs/common/ju/ju_frame.jsp?DIS=20117',\n",
       "  '(29/10/2001)',\n",
       "  \"CHAN SIK PAN v. WYLAM\\\\'S SERVICE LTD. & ANOTHER \\xa0\"),\n",
       " ('Final Appeal (Civil)',\n",
       "  '2001',\n",
       "  \"\\\\'https://legalref.judiciary.hk/lrs/images/ThemeXP/Epage.gif\\\\'\",\n",
       "  'FACV4/2001',\n",
       "  'https://legalref.judiciary.hk/lrs/common/ju/ju_frame.jsp?DIS=19816',\n",
       "  '(19/09/2001)',\n",
       "  \"CHAN SIK PAN v. WYLAM\\\\'S SERVICES LTD. AND ANOTHER \\xa0Reported in :[2002] 1 HKLRD 337;  (2001) 4 HKCFAR 308\"),\n",
       " ('Final Appeal (Civil)',\n",
       "  '2001',\n",
       "  \"\\\\'https://legalref.judiciary.hk/lrs/images/ThemeXP/Epage.gif\\\\'\",\n",
       "  'FACV5/2001',\n",
       "  'https://legalref.judiciary.hk/lrs/common/ju/ju_frame.jsp?DIS=20225',\n",
       "  '(29/10/2001)',\n",
       "  'YU CHI KONG v. CHAN SIK PAN & OTHERS \\xa0'),\n",
       " ('Final Appeal (Civil)',\n",
       "  '2001',\n",
       "  \"\\\\'https://legalref.judiciary.hk/lrs/images/ThemeXP/Epage.gif\\\\'\",\n",
       "  'FACV5/2001',\n",
       "  'https://legalref.judiciary.hk/lrs/common/ju/ju_frame.jsp?DIS=19817',\n",
       "  '(19/09/2001)',\n",
       "  'YU CHI KONG v. CHAN SIK PAN AND OTHERS \\xa0Reported in :[2002] 1 HKLRD 337;  (2001) 4 HKCFAR 308'),\n",
       " ('Final Appeal (Civil)',\n",
       "  '2001',\n",
       "  \"\\\\'https://legalref.judiciary.hk/lrs/images/ThemeXP/ETpage.gif\\\\'\",\n",
       "  'FACV6/2001',\n",
       "  'https://legalref.judiciary.hk/lrs/common/ju/ju_frame.jsp?DIS=20226',\n",
       "  '(10/12/2001)',\n",
       "  'THE REGISTRAR OF BIRTHS AND DEATHS v. SYED HAIDER YAHYA HUSSAIN AND ANOTHER \\xa0Reported in :(2001) 4 HKCFAR 429; [2002] 2 HKLRD 205'),\n",
       " ('Final Appeal (Civil)',\n",
       "  '2001',\n",
       "  \"\\\\'https://legalref.judiciary.hk/lrs/images/ThemeXP/Epage.gif\\\\'\",\n",
       "  'FACV7/2001',\n",
       "  'https://legalref.judiciary.hk/lrs/common/ju/ju_frame.jsp?DIS=32378',\n",
       "  '(10/09/2001)',\n",
       "  'WISHING LONG HONG v. WONG KIT CHUN \\xa0Reported in :[2001] 3 HKLRD 100; (2001) 4 HKCFAR 289'),\n",
       " ('Final Appeal (Civil)',\n",
       "  '2001',\n",
       "  \"\\\\'https://legalref.judiciary.hk/lrs/images/ThemeXP/Epage.gif\\\\'\",\n",
       "  'FACV8/2001',\n",
       "  'https://legalref.judiciary.hk/lrs/common/ju/ju_frame.jsp?DIS=22323',\n",
       "  '(27/05/2002)',\n",
       "  'MALCOLM ERNEST GRAY v. DIANE CARY BARBER SERVINO \\xa0'),\n",
       " ('Final Appeal (Civil)',\n",
       "  '2001',\n",
       "  \"\\\\'https://legalref.judiciary.hk/lrs/images/ThemeXP/Epage.gif\\\\'\",\n",
       "  'FACV8/2001',\n",
       "  'https://legalref.judiciary.hk/lrs/common/ju/ju_frame.jsp?DIS=20227',\n",
       "  '(10/12/2001)',\n",
       "  'MALCOLM ERNEST GRAY v. DIANE CARY BARBER SERVINO \\xa0Reported in :[2001] 3 HKLRD 842; (2001) 4 HKCFAR 419'),\n",
       " ('Final Appeal (Civil)',\n",
       "  '2001',\n",
       "  \"\\\\'https://legalref.judiciary.hk/lrs/images/ThemeXP/Epage.gif\\\\'\",\n",
       "  'FACV9/2001',\n",
       "  'https://legalref.judiciary.hk/lrs/common/ju/ju_frame.jsp?DIS=20228',\n",
       "  '(10/12/2001)',\n",
       "  'GREEN PARK PROPERTIES LTD. v. DORKU LTD. \\xa0Reported in :[2001] 3 HKLRD 760; (2001) 4 HKCFAR 448'),\n",
       " ('Final Appeal (Civil)',\n",
       "  '2001',\n",
       "  \"\\\\'https://legalref.judiciary.hk/lrs/images/ThemeXP/Epage.gif\\\\'\",\n",
       "  'FACV10/2001',\n",
       "  'https://legalref.judiciary.hk/lrs/common/ju/ju_frame.jsp?DIS=20689',\n",
       "  '(31/01/2002)',\n",
       "  'KENSLAND REALTY LTD. v. WHALE VIEW INVESTMENT LTD. AND ANOTHER \\xa0'),\n",
       " ('Final Appeal (Civil)',\n",
       "  '2001',\n",
       "  \"\\\\'https://legalref.judiciary.hk/lrs/images/ThemeXP/Epage.gif\\\\'\",\n",
       "  'FACV10/2001',\n",
       "  'https://legalref.judiciary.hk/lrs/common/ju/ju_frame.jsp?DIS=20229',\n",
       "  '(10/12/2001)',\n",
       "  'KENSLAND REALTY LTD. v. WHALE VIEW INVESTMENT LTD. AND ANOTHER \\xa0Reported in :(2001) 4 HKCFAR 381; [2002] 1 HKLRD 87'),\n",
       " ('Final Appeal (Civil)',\n",
       "  '2001',\n",
       "  \"\\\\'https://legalref.judiciary.hk/lrs/images/ThemeXP/ETpage.gif\\\\'\",\n",
       "  'FACV11/2001',\n",
       "  'https://legalref.judiciary.hk/lrs/common/ju/ju_frame.jsp?DIS=20231',\n",
       "  '(03/12/2001)',\n",
       "  'UDL ARGOS ENGINEERING & HEAVY INDUSTRIES CO. LTD. v. LI OI LIN \\xa0Reported in :[2001] 3 HKLRD 634; (2001) 4 HKCFAR 358'),\n",
       " ('Final Appeal (Civil)',\n",
       "  '2001',\n",
       "  \"\\\\'https://legalref.judiciary.hk/lrs/images/ThemeXP/Epage.gif\\\\'\",\n",
       "  'FACV12/2001',\n",
       "  'https://legalref.judiciary.hk/lrs/common/ju/ju_frame.jsp?DIS=21918',\n",
       "  '(14/03/2002)',\n",
       "  'TING KWOK KEUNG v. TAM DICK YUEN t/a TAM DICK YUEN ENGINEERING AND OTHERS \\xa0Reported in :[2002] 3 HKLRD 1; (2002) 5 HKCFAR 336'),\n",
       " ('Final Appeal (Civil)',\n",
       "  '2001',\n",
       "  \"\\\\'https://legalref.judiciary.hk/lrs/images/ThemeXP/Epage.gif\\\\'\",\n",
       "  'FACV13/2001',\n",
       "  'https://legalref.judiciary.hk/lrs/common/ju/ju_frame.jsp?DIS=19084',\n",
       "  '(19/04/2002)',\n",
       "  'THE KA WAH BANK LTD v. BHAGWAN SHANKARDAS MOORJANI \\xa0'),\n",
       " ('Final Appeal (Civil)',\n",
       "  '2001',\n",
       "  \"\\\\'https://legalref.judiciary.hk/lrs/images/ThemeXP/Epage.gif\\\\'\",\n",
       "  'FACV13/2001',\n",
       "  'https://legalref.judiciary.hk/lrs/common/ju/ju_frame.jsp?DIS=19029',\n",
       "  '(08/03/2002)',\n",
       "  'THE KA WAH BANK LTD v. BHAGWAN SHANKARDAS MOORJANI \\xa0Reported in :[2002] 1 HKLRD 719; (2002) 5 HKCFAR 313'),\n",
       " ('Final Appeal (Civil)',\n",
       "  '2001',\n",
       "  \"\\\\'https://legalref.judiciary.hk/lrs/images/ThemeXP/Epage.gif\\\\'\",\n",
       "  'FACV14/2001',\n",
       "  'https://legalref.judiciary.hk/lrs/common/ju/ju_frame.jsp?DIS=20920',\n",
       "  '(04/03/2002)',\n",
       "  'PAUL CHEN AND ANOTHER v. LORD ENERGY LTD. \\xa0Reported in :[2002] 1 HKLRD 495; (2002) 5 HKCFAR 297'),\n",
       " ('Final Appeal (Civil)',\n",
       "  '2001',\n",
       "  \"\\\\'https://legalref.judiciary.hk/lrs/images/ThemeXP/Epage.gif\\\\'\",\n",
       "  'FACV15/2001',\n",
       "  'https://legalref.judiciary.hk/lrs/common/ju/ju_frame.jsp?DIS=22324',\n",
       "  '(07/05/2002)',\n",
       "  'FLYWIN CO. LTD. v. STRONG & ASSOCIATES LTD. \\xa0Reported in :[2002] 2 HKLRD 485; (2002) 5 HKCFAR 356'),\n",
       " ('Final Appeal (Civil)',\n",
       "  '2001',\n",
       "  \"\\\\'https://legalref.judiciary.hk/lrs/images/ThemeXP/Epage.gif\\\\'\",\n",
       "  'FACV16/2001',\n",
       "  'https://legalref.judiciary.hk/lrs/common/ju/ju_frame.jsp?DIS=25407',\n",
       "  '(04/12/2002)',\n",
       "  'BANK OF CHINA (HONG KONG) LTD v. FUNG CHIN KAN AND ANOTHER \\xa0Reported in :[2003] 1 HKLRD 181; (2002) 5 HKCFAR 515'),\n",
       " ('Final Appeal (Civil)',\n",
       "  '2001',\n",
       "  \"\\\\'https://legalref.judiciary.hk/lrs/images/ThemeXP/ETpage.gif\\\\'\",\n",
       "  'FACV17/2001',\n",
       "  'https://legalref.judiciary.hk/lrs/common/ju/ju_frame.jsp?DIS=22741',\n",
       "  '(30/07/2002)',\n",
       "  'GURUNG KESH BAHADUR v. DIRECTOR OF IMMIGRATION \\xa0Reported in :[2002] 2 HKLRD 775; (2002) 5 HKCFAR 480'),\n",
       " ('Final Appeal (Civil)',\n",
       "  '2007',\n",
       "  \"\\\\'https://legalref.judiciary.hk/lrs/images/ThemeXP/Epage.gif\\\\'\",\n",
       "  'FACV1/2007',\n",
       "  'https://legalref.judiciary.hk/lrs/common/ju/ju_frame.jsp?DIS=60673',\n",
       "  '(07/04/2008)',\n",
       "  'NAM TAI ELECTRONICS, INC. v. PRICEWATERHOUSE COOPERS \\xa0'),\n",
       " ('Final Appeal (Civil)',\n",
       "  '2007',\n",
       "  \"\\\\'https://legalref.judiciary.hk/lrs/images/ThemeXP/Epage.gif\\\\'\",\n",
       "  'FACV1/2007',\n",
       "  'https://legalref.judiciary.hk/lrs/common/ju/ju_frame.jsp?DIS=59972',\n",
       "  '(31/01/2005)',\n",
       "  'NAM TAI ELECTRONICS, INC. v. PRICEWATERHOUSE COOPERS \\xa0Reported in :[2008] 1 HKLRD 666; (2008) 11 HKCFAR 62'),\n",
       " ('Final Appeal (Civil)',\n",
       "  '2007',\n",
       "  \"\\\\'https://legalref.judiciary.hk/lrs/images/ThemeXP/Epage.gif\\\\'\",\n",
       "  'FACV2/2007',\n",
       "  'https://legalref.judiciary.hk/lrs/common/ju/ju_frame.jsp?DIS=60403',\n",
       "  '(13/03/2008)',\n",
       "  'COMMISSIONER OF INLAND REVENUE v. TAI HING COTTON MILL (DEVELOPMENT) LTD \\xa0'),\n",
       " ('Final Appeal (Civil)',\n",
       "  '2007',\n",
       "  \"\\\\'https://legalref.judiciary.hk/lrs/images/ThemeXP/Epage.gif\\\\'\",\n",
       "  'FACV2/2007',\n",
       "  'https://legalref.judiciary.hk/lrs/common/ju/ju_frame.jsp?DIS=59347',\n",
       "  '(04/12/2007)',\n",
       "  'COMMISSIONER OF INLAND REVENUE v. TAI HING COTTON MILL (DEVELOPMENT) LTD \\xa0Reported in :[2008] 2 HKLRD 40; (2007) 10 HKCFAR 704'),\n",
       " ('Final Appeal (Civil)',\n",
       "  '2007',\n",
       "  \"\\\\'https://legalref.judiciary.hk/lrs/images/ThemeXP/Epage.gif\\\\'\",\n",
       "  'FACV3/2007',\n",
       "  'https://legalref.judiciary.hk/lrs/common/ju/ju_frame.jsp?DIS=59781',\n",
       "  '(16/01/2008)',\n",
       "  'REAL ESTATE INVESTMENTS (N.T.) LTD v. THE COMMISSIONER OF INLAND REVENUE \\xa0Reported in :(2008) 11 HKCFAR 433'),\n",
       " ('Final Appeal (Civil)',\n",
       "  '2007',\n",
       "  \"\\\\'https://legalref.judiciary.hk/lrs/images/ThemeXP/Epage.gif\\\\'\",\n",
       "  'FACV4/2007',\n",
       "  'https://legalref.judiciary.hk/lrs/common/ju/ju_frame.jsp?DIS=58906',\n",
       "  '(26/10/2007)',\n",
       "  'LEUNG TSANG HUNG AND ANOTHER v. THE INCORPORATED OWNERS OF KWOK WING HOUSE \\xa0Reported in :[2007] 4 HKLRD 654; (2007) 10 HKCFAR 480'),\n",
       " ('Final Appeal (Civil)',\n",
       "  '2007',\n",
       "  \"\\\\'https://legalref.judiciary.hk/lrs/images/ThemeXP/ETpage.gif\\\\'\",\n",
       "  'FACV5/2007',\n",
       "  'https://legalref.judiciary.hk/lrs/common/ju/ju_frame.jsp?DIS=58987',\n",
       "  '(05/11/2007)',\n",
       "  'LAI TAK SHING v. THE SECRETARY FOR HOME AFFAIRS AND ANOTHER \\xa0Reported in :(2007) 10 HKCFAR 655'),\n",
       " ('Final Appeal (Civil)',\n",
       "  '2007',\n",
       "  \"\\\\'https://legalref.judiciary.hk/lrs/images/ThemeXP/Epage.gif\\\\'\",\n",
       "  'FACV8/2007',\n",
       "  'https://legalref.judiciary.hk/lrs/common/ju/ju_frame.jsp?DIS=61102',\n",
       "  '(19/05/2008)',\n",
       "  'COMMISSIONER OF INLAND REVENUE v. HIT FINANCE LTD \\xa0'),\n",
       " ('Final Appeal (Civil)',\n",
       "  '2007',\n",
       "  \"\\\\'https://legalref.judiciary.hk/lrs/images/ThemeXP/Epage.gif\\\\'\",\n",
       "  'FACV8/2007',\n",
       "  'https://legalref.judiciary.hk/lrs/common/ju/ju_frame.jsp?DIS=61543',\n",
       "  '(26/06/2008)',\n",
       "  'COMMISSIONER OF INLAND REVENUE v. HIT FINANCE LTD \\xa0Reported in :[2014] 4 HKLRD 412'),\n",
       " ('Final Appeal (Civil)',\n",
       "  '2007',\n",
       "  \"\\\\'https://legalref.judiciary.hk/lrs/images/ThemeXP/Epage.gif\\\\'\",\n",
       "  'FACV8/2007',\n",
       "  'https://legalref.judiciary.hk/lrs/common/ju/ju_frame.jsp?DIS=59348',\n",
       "  '(04/12/2007)',\n",
       "  'COMMISSIONER OF INLAND REVENUE v. HIT FINANCE LTD \\xa0Reported in :[2008] 2 HKLRD 52; (2007) 10 HKCFAR 717'),\n",
       " ('Final Appeal (Civil)',\n",
       "  '2007',\n",
       "  \"\\\\'https://legalref.judiciary.hk/lrs/images/ThemeXP/Epage.gif\\\\'\",\n",
       "  'FACV9/2007',\n",
       "  'https://legalref.judiciary.hk/lrs/common/ju/ju_frame.jsp?DIS=61104',\n",
       "  '(19/05/2008)',\n",
       "  'COMMISSIONER OF INLAND REVENUE v. HONGKONG INTERNATIONAL TERMINALS  LTD \\xa0'),\n",
       " ('Final Appeal (Civil)',\n",
       "  '2007',\n",
       "  \"\\\\'https://legalref.judiciary.hk/lrs/images/ThemeXP/Epage.gif\\\\'\",\n",
       "  'FACV9/2007',\n",
       "  'https://legalref.judiciary.hk/lrs/common/ju/ju_frame.jsp?DIS=61545',\n",
       "  '(26/06/2008)',\n",
       "  'COMMISSIONER OF INLAND REVENUE v. HONGKONG INTERNATIONAL TERMINALS LTD \\xa0Reported in :[2014] 4 HKLRD 412'),\n",
       " ('Final Appeal (Civil)',\n",
       "  '2007',\n",
       "  \"\\\\'https://legalref.judiciary.hk/lrs/images/ThemeXP/Epage.gif\\\\'\",\n",
       "  'FACV9/2007',\n",
       "  'https://legalref.judiciary.hk/lrs/common/ju/ju_frame.jsp?DIS=59350',\n",
       "  '(04/12/2007)',\n",
       "  'COMMISSIONER OF INLAND REVENUE v. HONGKONG INTERNATIONAL TERMINALS LTD \\xa0Reported in :[2008] 2 HKLRD 52; (2007) 10 HKCFAR 717'),\n",
       " ('Final Appeal (Civil)',\n",
       "  '2007',\n",
       "  \"\\\\'https://legalref.judiciary.hk/lrs/images/ThemeXP/Epage.gif\\\\'\",\n",
       "  'FACV10/2007',\n",
       "  'https://legalref.judiciary.hk/lrs/common/ju/ju_frame.jsp?DIS=59323',\n",
       "  '(30/11/2007)',\n",
       "  'PETER PO FUN CHAN v. WINNIE CW CHEUNG AND ANOTHER \\xa0Reported in :[2008] 1 HKLRD 319; (2007) 10 HKCFAR 676'),\n",
       " ('Final Appeal (Civil)',\n",
       "  '2007',\n",
       "  \"\\\\'https://legalref.judiciary.hk/lrs/images/ThemeXP/ETpage.gif\\\\'\",\n",
       "  'FACV11/2007',\n",
       "  'https://legalref.judiciary.hk/lrs/common/ju/ju_frame.jsp?DIS=60342',\n",
       "  '(07/03/2008)',\n",
       "  'KENSLAND REALTY LTD v. TAI, TANG CHONG \\xa0Reported in :(2008) 11 HKCFAR 237'),\n",
       " ('Final Appeal (Civil)',\n",
       "  '2007',\n",
       "  \"\\\\'https://legalref.judiciary.hk/lrs/images/ThemeXP/Epage.gif\\\\'\",\n",
       "  'FACV12/2007',\n",
       "  'https://legalref.judiciary.hk/lrs/common/ju/ju_frame.jsp?DIS=59973',\n",
       "  '(31/01/2008)',\n",
       "  'MINCHEST LTD v. LAU TSUI KWAI AND OTHERS \\xa0Reported in :(2008) 11 HKCFAR 551'),\n",
       " ('Final Appeal (Civil)',\n",
       "  '2007',\n",
       "  \"\\\\'https://legalref.judiciary.hk/lrs/images/ThemeXP/Epage.gif\\\\'\",\n",
       "  'FACV13/2007',\n",
       "  'https://legalref.judiciary.hk/lrs/common/ju/ju_frame.jsp?DIS=60786',\n",
       "  '(18/04/2008)',\n",
       "  'FONG YAU HEI v. GAMMON CONSTRUCTION LTD AND OTHERS \\xa0Reported in :[2008] 3 HKLRD 604; (2008) 11 HKCFAR 212'),\n",
       " ('Final Appeal (Civil)',\n",
       "  '2007',\n",
       "  \"\\\\'https://legalref.judiciary.hk/lrs/images/ThemeXP/Epage.gif\\\\'\",\n",
       "  'FACV14/2007',\n",
       "  'https://legalref.judiciary.hk/lrs/common/ju/ju_frame.jsp?DIS=59974',\n",
       "  '(31/01/2008)',\n",
       "  'LEE YEE SHING AND ANOTHER v. COMMISSIONER OF INLAND REVENUE \\xa0Reported in :[2008] 3 HKLRD 51; (2008) 11 HKCFAR 6'),\n",
       " ('Final Appeal (Civil)',\n",
       "  '2007',\n",
       "  \"\\\\'https://legalref.judiciary.hk/lrs/images/ThemeXP/Epage.gif\\\\'\",\n",
       "  'FACV15/2007',\n",
       "  'https://legalref.judiciary.hk/lrs/common/ju/ju_frame.jsp?DIS=63241',\n",
       "  '(14/11/2008)',\n",
       "  'WADDINGTON LTD v. CHAN CHUN HOO THOMAS AND OTHERS \\xa0'),\n",
       " ('Final Appeal (Civil)',\n",
       "  '2007',\n",
       "  \"\\\\'https://legalref.judiciary.hk/lrs/images/ThemeXP/Epage.gif\\\\'\",\n",
       "  'FACV15/2007',\n",
       "  'https://legalref.judiciary.hk/lrs/common/ju/ju_frame.jsp?DIS=62499',\n",
       "  '(08/09/2008)',\n",
       "  'WADDINGTON LTD v. CHAN CHUN HOO THOMAS AND OTHERS \\xa0Reported in :(2008) 11 HKCFAR 370'),\n",
       " ('Final Appeal (Civil)',\n",
       "  '2007',\n",
       "  \"\\\\'https://legalref.judiciary.hk/lrs/images/ThemeXP/Epage.gif\\\\'\",\n",
       "  'FACV16/2007',\n",
       "  'https://legalref.judiciary.hk/lrs/common/ju/ju_frame.jsp?DIS=61103',\n",
       "  '(19/05/2008)',\n",
       "  'COMMISSIONER OF INLAND REVENUE v. HIT FINANCE LTD \\xa0'),\n",
       " ('Final Appeal (Civil)',\n",
       "  '2007',\n",
       "  \"\\\\'https://legalref.judiciary.hk/lrs/images/ThemeXP/Epage.gif\\\\'\",\n",
       "  'FACV16/2007',\n",
       "  'https://legalref.judiciary.hk/lrs/common/ju/ju_frame.jsp?DIS=61544',\n",
       "  '(26/06/2008)',\n",
       "  'COMMISSIONER OF INLAND REVENUE v. HIT FINANCE LTD \\xa0Reported in :[2014] 4 HKLRD 412'),\n",
       " ('Final Appeal (Civil)',\n",
       "  '2007',\n",
       "  \"\\\\'https://legalref.judiciary.hk/lrs/images/ThemeXP/Epage.gif\\\\'\",\n",
       "  'FACV16/2007',\n",
       "  'https://legalref.judiciary.hk/lrs/common/ju/ju_frame.jsp?DIS=59349',\n",
       "  '(04/12/2007)',\n",
       "  'COMMISSIONER OF INLAND REVENUE v. HIT FINANCE LTD \\xa0Reported in :[2008] 2 HKLRD 52; (2007) 10 HKCFAR 717'),\n",
       " ('Final Appeal (Civil)',\n",
       "  '2007',\n",
       "  \"\\\\'https://legalref.judiciary.hk/lrs/images/ThemeXP/Epage.gif\\\\'\",\n",
       "  'FACV17/2007',\n",
       "  'https://legalref.judiciary.hk/lrs/common/ju/ju_frame.jsp?DIS=61105',\n",
       "  '(19/05/2008)',\n",
       "  'COMMISSIONER OF INLAND REVENUE v. HONGKONG INTERNATIONAL TERMINALS  LTD \\xa0'),\n",
       " ('Final Appeal (Civil)',\n",
       "  '2007',\n",
       "  \"\\\\'https://legalref.judiciary.hk/lrs/images/ThemeXP/Epage.gif\\\\'\",\n",
       "  'FACV17/2007',\n",
       "  'https://legalref.judiciary.hk/lrs/common/ju/ju_frame.jsp?DIS=61546',\n",
       "  '(26/06/2008)',\n",
       "  'COMMISSIONER OF INLAND REVENUE v. HONGKONG INTERNATIONAL TERMINALS LTD \\xa0Reported in :[2014] 4 HKLRD 412'),\n",
       " ('Final Appeal (Civil)',\n",
       "  '2007',\n",
       "  \"\\\\'https://legalref.judiciary.hk/lrs/images/ThemeXP/Epage.gif\\\\'\",\n",
       "  'FACV17/2007',\n",
       "  'https://legalref.judiciary.hk/lrs/common/ju/ju_frame.jsp?DIS=59351',\n",
       "  '(04/12/2007)',\n",
       "  'COMMISSIONER OF INLAND REVENUE v. HONGKONG INTERNATIONAL TERMINALS LTD \\xa0Reported in :[2008] 2 HKLRD 52; (2007) 10 HKCFAR 717'),\n",
       " ('Final Appeal (Civil)',\n",
       "  '2007',\n",
       "  \"\\\\'https://legalref.judiciary.hk/lrs/images/ThemeXP/Epage.gif\\\\'\",\n",
       "  'FACV18/2007',\n",
       "  'https://legalref.judiciary.hk/lrs/common/ju/ju_frame.jsp?DIS=60787',\n",
       "  '(18/04/2008)',\n",
       "  'GUANGDONG NATIVE PRODUCE CO LTD v. TAM TZE YING t/a SUN YING TRADING CO \\xa0Reported in :(2008) 11 HKCFAR 455'),\n",
       " ('Final Appeal (Civil)',\n",
       "  '2007',\n",
       "  \"\\\\'https://legalref.judiciary.hk/lrs/images/ThemeXP/ETpage.gif\\\\'\",\n",
       "  'FACV19/2007',\n",
       "  'https://legalref.judiciary.hk/lrs/common/ju/ju_frame.jsp?DIS=60481',\n",
       "  '(18/03/2008)',\n",
       "  'KOON WING YEE v. INSIDER DEALING TRIBUNAL AND ANOTHER \\xa0Reported in :[2008] 3 HKLRD 372; (2008) 11 HKCFAR 170'),\n",
       " ('Final Appeal (Civil)',\n",
       "  '2007',\n",
       "  \"\\\\'https://legalref.judiciary.hk/lrs/images/ThemeXP/ETpage.gif\\\\'\",\n",
       "  'FACV20/2007',\n",
       "  'https://legalref.judiciary.hk/lrs/common/ju/ju_frame.jsp?DIS=60494',\n",
       "  '(18/03/2008)',\n",
       "  'CHAN KIN SHING SONNY v. INSIDER DEALING TRIBUNAL AND ANOTHER \\xa0Reported in :[2008] 3 HKLRD 372; (2008) 11 HKCFAR 170'),\n",
       " ('Final Appeal (Civil)',\n",
       "  '2007',\n",
       "  \"\\\\'https://legalref.judiciary.hk/lrs/images/ThemeXP/Epage.gif\\\\'\",\n",
       "  'FACV21/2007',\n",
       "  'https://legalref.judiciary.hk/lrs/common/ju/ju_frame.jsp?DIS=60879',\n",
       "  '(28/04/2008)',\n",
       "  'MARBLE HOLDING LTD v. YATIN DEVELOPMENT LTD \\xa0Reported in :[2008] 4 HKLRD 950; (2008) 11 HKCFAR 222'),\n",
       " ('Final Appeal (Civil)',\n",
       "  '2007',\n",
       "  \"\\\\'https://legalref.judiciary.hk/lrs/images/ThemeXP/ETpage.gif\\\\'\",\n",
       "  'FACV22/2007',\n",
       "  'https://legalref.judiciary.hk/lrs/common/ju/ju_frame.jsp?DIS=61840',\n",
       "  '(25/07/2008)',\n",
       "  'YEUNG CHUNG MING v. COMMISSIONER OF POLICE \\xa0Reported in :(2008) 11 HKCFAR 513'),\n",
       " ('Final Appeal (Civil)',\n",
       "  '2007',\n",
       "  \"\\\\'https://legalref.judiciary.hk/lrs/images/ThemeXP/Epage.gif\\\\'\",\n",
       "  'FACV23/2007',\n",
       "  'https://legalref.judiciary.hk/lrs/common/ju/ju_frame.jsp?DIS=63531',\n",
       "  '(05/12/2008)',\n",
       "  'HEBEI ENTERPRISES LTD AND OTHERS v. LIVASIRI & CO (A FIRM) AND OTHERS \\xa0'),\n",
       " ('Final Appeal (Civil)',\n",
       "  '2007',\n",
       "  \"\\\\'https://legalref.judiciary.hk/lrs/images/ThemeXP/Epage.gif\\\\'\",\n",
       "  'FACV23/2007',\n",
       "  'https://legalref.judiciary.hk/lrs/common/ju/ju_frame.jsp?DIS=61679',\n",
       "  '(15/07/2008)',\n",
       "  'HEBEI ENTERPRISES LTD AND OTHERS v. LIVASIRI & CO (A FIRM) AND OTHERS \\xa0Reported in :[2008] 5 HKLRD 102; (2008) 11 HKCFAR 321'),\n",
       " ('Final Appeal (Civil)',\n",
       "  '2007',\n",
       "  \"\\\\'https://legalref.judiciary.hk/lrs/images/ThemeXP/ETpage.gif\\\\'\",\n",
       "  'FACV24/2007',\n",
       "  'https://legalref.judiciary.hk/lrs/common/ju/ju_frame.jsp?DIS=60404',\n",
       "  '(13/03/2008)',\n",
       "  'A SOLICITOR v. THE LAW SOCIETY OF HONG KONG \\xa0Reported in :[2008] 2 HKLRD 576; (2008) 11 HKCFAR 117'),\n",
       " ('Final Appeal (Civil)',\n",
       "  '2007',\n",
       "  \"\\\\'https://legalref.judiciary.hk/lrs/images/ThemeXP/Epage.gif\\\\'\",\n",
       "  'FACV25/2007',\n",
       "  'https://legalref.judiciary.hk/lrs/common/ju/ju_frame.jsp?DIS=63532',\n",
       "  '(05/12/2008)',\n",
       "  'HEBEI ENTERPRISES LTD AND OTHERS v. LIVASIRI & CO (A FIRM) AND OTHERS \\xa0'),\n",
       " ('Final Appeal (Civil)',\n",
       "  '2007',\n",
       "  \"\\\\'https://legalref.judiciary.hk/lrs/images/ThemeXP/Epage.gif\\\\'\",\n",
       "  'FACV25/2007',\n",
       "  'https://legalref.judiciary.hk/lrs/common/ju/ju_frame.jsp?DIS=61680',\n",
       "  '(15/07/2008)',\n",
       "  'HEBEI ENTERPRISES LTD AND OTHERS v. LIVASIRI & CO (A FIRM) AND OTHERS \\xa0Reported in :[2008] 5 HKLRD 102; (2008) 11 HKCFAR 321'),\n",
       " ('Final Appeal (Civil)',\n",
       "  '2007',\n",
       "  \"\\\\'https://legalref.judiciary.hk/lrs/images/ThemeXP/Epage.gif\\\\'\",\n",
       "  'FACV26/2007',\n",
       "  'https://legalref.judiciary.hk/lrs/common/ju/ju_frame.jsp?DIS=61367',\n",
       "  '(16/06/2008)',\n",
       "  'PAQUITO LIMA BUTON v. RAINBOW JOY SHIPPING LTD INC \\xa0'),\n",
       " ('Final Appeal (Civil)',\n",
       "  '2007',\n",
       "  \"\\\\'https://legalref.judiciary.hk/lrs/images/ThemeXP/Epage.gif\\\\'\",\n",
       "  'FACV26/2007',\n",
       "  'https://legalref.judiciary.hk/lrs/common/ju/ju_frame.jsp?DIS=60880',\n",
       "  '(28/04/2008)',\n",
       "  'PAQUITO LIMA BUTON v. RAINBOW JOY SHIPPING LTD INC \\xa0Reported in :(2008) 11 HKCFAR 464'),\n",
       " ('Final Appeal (Civil)',\n",
       "  '2007',\n",
       "  \"\\\\'https://legalref.judiciary.hk/lrs/images/ThemeXP/Epage.gif\\\\'\",\n",
       "  'FACV27/2007',\n",
       "  'https://legalref.judiciary.hk/lrs/common/ju/ju_frame.jsp?DIS=67552',\n",
       "  '(14/09/2009)',\n",
       "  'DONALD KOO HOI-YAN v. KAO, LEE & YIP (a firm) \\xa0Reported in :(2009) 12 HKCFAR 904'),\n",
       " ('Final Appeal (Civil)',\n",
       "  '2007',\n",
       "  \"\\\\'https://legalref.judiciary.hk/lrs/images/ThemeXP/ETpage.gif\\\\'\",\n",
       "  'FACV27/2007',\n",
       "  'https://legalref.judiciary.hk/lrs/common/ju/ju_frame.jsp?DIS=66356',\n",
       "  '(25/06/2009)',\n",
       "  'KAO, LEE & YIP (a firm) v. DONALD KOO HOI-YAN AND OTHERS \\xa0Reported in :(2009) 12 HKCFAR 830'),\n",
       " ('Final Appeal (Civil)',\n",
       "  '2007',\n",
       "  \"\\\\'https://legalref.judiciary.hk/lrs/images/ThemeXP/Epage.gif\\\\'\",\n",
       "  'FACV28/2007',\n",
       "  'https://legalref.judiciary.hk/lrs/common/ju/ju_frame.jsp?DIS=60881',\n",
       "  '(28/04/2008)',\n",
       "  'CHINA MAP LTD v. THE COMMISSIONER OF INLAND REVEUNE \\xa0Reported in :(2008) 11 HKCFAR 486'),\n",
       " ('Final Appeal (Civil)',\n",
       "  '2007',\n",
       "  \"\\\\'https://legalref.judiciary.hk/lrs/images/ThemeXP/Epage.gif\\\\'\",\n",
       "  'FACV29/2007',\n",
       "  'https://legalref.judiciary.hk/lrs/common/ju/ju_frame.jsp?DIS=60913',\n",
       "  '(28/04/2008)',\n",
       "  'CHINA NAME LTD v. THE COMMISSIONER OF INLAND REVEUNE \\xa0Reported in :(2008) 11 HKCFAR 486'),\n",
       " ('Final Appeal (Civil)',\n",
       "  '2007',\n",
       "  \"\\\\'https://legalref.judiciary.hk/lrs/images/ThemeXP/Epage.gif\\\\'\",\n",
       "  'FACV30/2007',\n",
       "  'https://legalref.judiciary.hk/lrs/common/ju/ju_frame.jsp?DIS=60914',\n",
       "  '(28/04/2008)',\n",
       "  'CHANCE INVESTMENT LTD v. THE COMMISSIONER OF INLAND REVEUNE \\xa0Reported in :(2008) 11 HKCFAR 486'),\n",
       " ('Final Appeal (Civil)',\n",
       "  '2007',\n",
       "  \"\\\\'https://legalref.judiciary.hk/lrs/images/ThemeXP/Epage.gif\\\\'\",\n",
       "  'FACV31/2007',\n",
       "  'https://legalref.judiciary.hk/lrs/common/ju/ju_frame.jsp?DIS=60915',\n",
       "  '(28/04/2008)',\n",
       "  'COMEBRIGHT DEVELOPMENT LTD v. THE COMMISSIONER OF INLAND REVEUNE \\xa0Reported in :(2008) 11 HKCFAR 486'),\n",
       " ('Final Appeal (Civil)',\n",
       "  '2007',\n",
       "  \"\\\\'https://legalref.judiciary.hk/lrs/images/ThemeXP/Epage.gif\\\\'\",\n",
       "  'FACV32/2007',\n",
       "  'https://legalref.judiciary.hk/lrs/common/ju/ju_frame.jsp?DIS=62500',\n",
       "  '(08/09/2008)',\n",
       "  'LUO XING JUAN ANGELA v. THE ESTATE OF HUI SHUI SEE, WILLY, DECEASED AND OTHERS \\xa0'),\n",
       " ('Final Appeal (Civil)',\n",
       "  '2007',\n",
       "  \"\\\\'https://legalref.judiciary.hk/lrs/images/ThemeXP/Epage.gif\\\\'\",\n",
       "  'FACV32/2007',\n",
       "  'https://legalref.judiciary.hk/lrs/common/ju/ju_frame.jsp?DIS=61366',\n",
       "  '(16/06/2008)',\n",
       "  'LUO XING JUAN ANGELA v. THE ESTATE OF HUI SHUI SEE, WILLY DECEASED AND OTHERS \\xa0Reported in :(2009) 12 HKCFAR 1'),\n",
       " ('Final Appeal (Civil)',\n",
       "  '2007',\n",
       "  \"\\\\'https://legalref.judiciary.hk/lrs/images/ThemeXP/Epage.gif\\\\'\",\n",
       "  'FACV33/2007',\n",
       "  'https://legalref.judiciary.hk/lrs/common/ju/ju_frame.jsp?DIS=63056',\n",
       "  '(29/10/2008)',\n",
       "  'KAN KAM CHO AND ANOTHER v. KAN CHIU NAM RAYMOND AND ANOTHER \\xa0Reported in :(2008) 11 HKCFAR 538'),\n",
       " ('Final Appeal (Civil)',\n",
       "  '2007',\n",
       "  \"\\\\'https://legalref.judiciary.hk/lrs/images/ThemeXP/Epage.gif\\\\'\",\n",
       "  'FACV34/2007',\n",
       "  'https://legalref.judiciary.hk/lrs/common/ju/ju_frame.jsp?DIS=65760',\n",
       "  '(14/05/2009)',\n",
       "  'CHEUNG PUI YUEN AND OTHERS v. WORLDCUP INVESTMENTS INC. AND OTHERS \\xa0'),\n",
       " ('Final Appeal (Civil)',\n",
       "  '2007',\n",
       "  \"\\\\'https://legalref.judiciary.hk/lrs/images/ThemeXP/Epage.gif\\\\'\",\n",
       "  'FACV34/2007',\n",
       "  'https://legalref.judiciary.hk/lrs/common/ju/ju_frame.jsp?DIS=63055',\n",
       "  '(29/10/2008)',\n",
       "  'CHEUNG PUI YUEN AND OTHERS v. WORLDCUP INVESTMENTS INC. AND OTHERS \\xa0Reported in :(2009) 12 HKCFAR 31'),\n",
       " ('Final Appeal (Civil)',\n",
       "  '2006',\n",
       "  \"\\\\'https://legalref.judiciary.hk/lrs/images/ThemeXP/Epage.gif\\\\'\",\n",
       "  'FACV1/2006',\n",
       "  'https://legalref.judiciary.hk/lrs/common/ju/ju_frame.jsp?DIS=52514',\n",
       "  '(23/05/2006)',\n",
       "  'CATHAY PACIFIC AIRWAYS LTD v. WONG SAU LAI \\xa0Reported in :[2006] 2 HKLRD 586; (2006) 9 HKCFAR 371'),\n",
       " ('Final Appeal (Civil)',\n",
       "  '2006',\n",
       "  \"\\\\'https://legalref.judiciary.hk/lrs/images/ThemeXP/Epage.gif\\\\'\",\n",
       "  'FACV2/2006',\n",
       "  'https://legalref.judiciary.hk/lrs/common/ju/ju_frame.jsp?DIS=53245',\n",
       "  '(13/07/2006)',\n",
       "  'THE GRANDE PROPERTIES MANAGEMENT LTD v. SUN WAH ORNAMENT MANUFACTORY LTD \\xa0Reported in :[2006] 3 HKLRD 473; (2006) 9 HKCFAR 462'),\n",
       " ('Final Appeal (Civil)',\n",
       "  '2006',\n",
       "  \"\\\\'https://legalref.judiciary.hk/lrs/images/ThemeXP/Epage.gif\\\\'\",\n",
       "  'FACV3/2006',\n",
       "  'https://legalref.judiciary.hk/lrs/common/ju/ju_frame.jsp?DIS=56805',\n",
       "  '(20/04/2007)',\n",
       "  'MARINER INTERNATIONAL HOTELS LTD AND ANOTHER v. ATLAS LTD AND ANOTHER \\xa0Reported in :[2007] 4 HKLRD 194; (2007) 10 HKCFAR 246'),\n",
       " ('Final Appeal (Civil)',\n",
       "  '2006',\n",
       "  \"\\\\'https://legalref.judiciary.hk/lrs/images/ThemeXP/Epage.gif\\\\'\",\n",
       "  'FACV3/2006',\n",
       "  'https://legalref.judiciary.hk/lrs/common/ju/ju_frame.jsp?DIS=62804',\n",
       "  '(09/08/2008)',\n",
       "  'MARINER INTERNATIONAL HOTELS LTD AND ANOTHER v. ATLAS LTD AND ANOTHER \\xa0Reported in :(2008) 11 HKCFAR 563'),\n",
       " ('Final Appeal (Civil)',\n",
       "  '2006',\n",
       "  \"\\\\'https://legalref.judiciary.hk/lrs/images/ThemeXP/Epage.gif\\\\'\",\n",
       "  'FACV3/2006',\n",
       "  'https://legalref.judiciary.hk/lrs/common/ju/ju_frame.jsp?DIS=55945',\n",
       "  '(05/02/2007)',\n",
       "  'MARINER INTERNATIONAL HOTELS LTD AND ANOTHER v. ATLAS LTD AND ANOTHER \\xa0Reported in :[2007] 1 HKLRD 413; (2007) 10 HKCFAR 1'),\n",
       " ('Final Appeal (Civil)',\n",
       "  '2006',\n",
       "  \"\\\\'https://legalref.judiciary.hk/lrs/images/ThemeXP/Epage.gif\\\\'\",\n",
       "  'FACV5/2006',\n",
       "  'https://legalref.judiciary.hk/lrs/common/ju/ju_frame.jsp?DIS=56119',\n",
       "  '(16/02/2007)',\n",
       "  'MAN PING NAM AND ANOTHER v. MAN FONG HANG \\xa0Reported in :[2007] 1 HKLRD 763; (2007) 10 HKCFAR 140'),\n",
       " ('Final Appeal (Civil)',\n",
       "  '2006',\n",
       "  \"\\\\'https://legalref.judiciary.hk/lrs/images/ThemeXP/Epage.gif\\\\'\",\n",
       "  'FACV5/2006',\n",
       "  'https://legalref.judiciary.hk/lrs/common/ju/ju_frame.jsp?DIS=54853',\n",
       "  '(27/10/2006)',\n",
       "  'MAN PING NAM AND ANOTHER v. MAN FONG HANG \\xa0Reported in :[2006] 4 HKLRD 484; (2006) 9 HKCFAR 674'),\n",
       " ('Final Appeal (Civil)',\n",
       "  '2006',\n",
       "  \"\\\\'https://legalref.judiciary.hk/lrs/images/ThemeXP/Epage.gif\\\\'\",\n",
       "  'FACV6/2006',\n",
       "  'https://legalref.judiciary.hk/lrs/common/ju/ju_frame.jsp?DIS=55334',\n",
       "  '(08/12/2006)',\n",
       "  'THE WORLD FOOD FAIR LTD AND ANOTHER v. HONG KONG ISLAND DEVELOPMENT LTD \\xa0Reported in :[2007] 1 HKLRD 498; (2006) 9 HKCFAR 735'),\n",
       " ('Final Appeal (Civil)',\n",
       "  '2006',\n",
       "  \"\\\\'https://legalref.judiciary.hk/lrs/images/ThemeXP/ETpage.gif\\\\'\",\n",
       "  'FACV7/2006',\n",
       "  'https://legalref.judiciary.hk/lrs/common/ju/ju_frame.jsp?DIS=53333',\n",
       "  '(20/07/2006)',\n",
       "  'THE OFFICIAL RECEIVER AND TRUSTEE IN BANKRUPTCY OF CHAN WING HING, a bankrupt v. CHAN WING HING \\xa0Reported in :[2006] 3 HKLRD 687; (2006) 9 HKCFAR 545'),\n",
       " ('Final Appeal (Civil)',\n",
       "  '2006',\n",
       "  \"\\\\'https://legalref.judiciary.hk/lrs/images/ThemeXP/ETpage.gif\\\\'\",\n",
       "  'FACV8/2006',\n",
       "  'https://legalref.judiciary.hk/lrs/common/ju/ju_frame.jsp?DIS=53334',\n",
       "  '(20/07/2006)',\n",
       "  'THE OFFICIAL RECEIVER AND TRUSTEE IN BANKRUPTCY OF LIN HAI SAN, a bankrupt v. LIN HAI SAN \\xa0Reported in :[2006] 3 HKLRD 687; (2006) 9 HKCFAR 545'),\n",
       " ('Final Appeal (Civil)',\n",
       "  '2006',\n",
       "  \"\\\\'https://legalref.judiciary.hk/lrs/images/ThemeXP/Epage.gif\\\\'\",\n",
       "  'FACV9/2006',\n",
       "  'https://legalref.judiciary.hk/lrs/common/ju/ju_frame.jsp?DIS=56272',\n",
       "  '(09/03/2007)',\n",
       "  'SIEGFRIED ADALBERT UNRUH v. HANS-JOERG SEEBERGER AND ANOTHER \\xa0'),\n",
       " ('Final Appeal (Civil)',\n",
       "  '2006',\n",
       "  \"\\\\'https://legalref.judiciary.hk/lrs/images/ThemeXP/ETpage.gif\\\\'\",\n",
       "  'FACV9/2006',\n",
       "  'https://legalref.judiciary.hk/lrs/common/ju/ju_frame.jsp?DIS=56020',\n",
       "  '(09/02/2007)',\n",
       "  'SIEGFRIED ADALBERT UNRUH v. HANS-JOERG SEEBERGER AND ANOTHER \\xa0Reported in :[2007] 2 HKLRD 414; (2007) 10 HKCFAR 31'),\n",
       " ('Final Appeal (Civil)',\n",
       "  '2006',\n",
       "  \"\\\\'https://legalref.judiciary.hk/lrs/images/ThemeXP/Epage.gif\\\\'\",\n",
       "  'FACV10/2006',\n",
       "  'https://legalref.judiciary.hk/lrs/common/ju/ju_frame.jsp?DIS=56273',\n",
       "  '(09/03/2007)',\n",
       "  'SIEGFRIED ADALBERT UNRUH v. HANS-JOERG SEEBERGER AND ANOTHER \\xa0'),\n",
       " ('Final Appeal (Civil)',\n",
       "  '2006',\n",
       "  \"\\\\'https://legalref.judiciary.hk/lrs/images/ThemeXP/ETpage.gif\\\\'\",\n",
       "  'FACV10/2006',\n",
       "  'https://legalref.judiciary.hk/lrs/common/ju/ju_frame.jsp?DIS=56021',\n",
       "  '(09/02/2007)',\n",
       "  'SIEGFRIED ADALBERT UNRUH v. HANS-JOERG SEEBERGER AND ANOTHER \\xa0Reported in :[2007] 2 HKLRD 414; (2007) 10 HKCFAR 31'),\n",
       " ('Final Appeal (Civil)',\n",
       "  '2006',\n",
       "  \"\\\\'https://legalref.judiciary.hk/lrs/images/ThemeXP/Epage.gif\\\\'\",\n",
       "  'FACV11/2006',\n",
       "  'https://legalref.judiciary.hk/lrs/common/ju/ju_frame.jsp?DIS=56531',\n",
       "  '(29/03/2007)',\n",
       "  'KIM ENG SECURITIES (HONG KONG) LTD v. COMMISSIONER OF INLAND REVENUE \\xa0Reported in :[2007] 2 HKLRD 117; (2007) 10 HKCFAR 213'),\n",
       " ('Final Appeal (Civil)',\n",
       "  '2006',\n",
       "  \"\\\\'https://legalref.judiciary.hk/lrs/images/ThemeXP/ETpage.gif\\\\'\",\n",
       "  'FACV12/2006',\n",
       "  'https://legalref.judiciary.hk/lrs/common/ju/ju_frame.jsp?DIS=53214',\n",
       "  '(12/07/2006)',\n",
       "  'KOO SZE YIU AND ANOTHER v. CHIEF EXECUTIVE OF THE HKSAR \\xa0Reported in :[2006] 3 HKLRD 455; (2006) 9 HKCFAR 441'),\n",
       " ('Final Appeal (Civil)',\n",
       "  '2006',\n",
       "  \"\\\\'https://legalref.judiciary.hk/lrs/images/ThemeXP/ETpage.gif\\\\'\",\n",
       "  'FACV13/2006',\n",
       "  'https://legalref.judiciary.hk/lrs/common/ju/ju_frame.jsp?DIS=53215',\n",
       "  '(12/07/2006)',\n",
       "  'KOO SZE YIU AND ANOTHER v. CHIEF EXECUTIVE OF THE HKSAR \\xa0Reported in :[2006] 3 HKLRD 455; (2006) 9 HKCFAR 441'),\n",
       " ('Final Appeal (Civil)',\n",
       "  '2006',\n",
       "  \"\\\\'https://legalref.judiciary.hk/lrs/images/ThemeXP/Epage.gif\\\\'\",\n",
       "  'FACV14/2006',\n",
       "  'https://legalref.judiciary.hk/lrs/common/ju/ju_frame.jsp?DIS=56299',\n",
       "  '(13/03/2007)',\n",
       "  'POON CHAU NAM v. YIM SIU CHEUNG t/a YAT CHEUNG AIRCONDITIONING & ELECTRIC CO \\xa0Reported in :[2007] 1 HKLRD 951; (2007) 10 HKCFAR 156'),\n",
       " ('Final Appeal (Civil)',\n",
       "  '2006',\n",
       "  \"\\\\'https://legalref.judiciary.hk/lrs/images/ThemeXP/Epage.gif\\\\'\",\n",
       "  'FACV15/2006',\n",
       "  'https://legalref.judiciary.hk/lrs/common/ju/ju_frame.jsp?DIS=56532',\n",
       "  '(29/03/2007)',\n",
       "  'ZETA ESTATES LTD v. COMMISSIONER OF INLAND REVENUE \\xa0Reported in :[2007] 2 HKLRD 102; (2007) 10 HKCFAR 196'),\n",
       " ('Final Appeal (Civil)',\n",
       "  '2006',\n",
       "  \"\\\\'https://legalref.judiciary.hk/lrs/images/ThemeXP/Epage.gif\\\\'\",\n",
       "  'FACV16/2006',\n",
       "  'https://legalref.judiciary.hk/lrs/common/ju/ju_frame.jsp?DIS=57232',\n",
       "  '(31/05/2007)',\n",
       "  'THE INCORPORATED OWNERS OF SAN PO KONG MANSION v. SHINE EMPIRE LTD \\xa0Reported in :(2007) 10 HKCFAR 588'),\n",
       " ('Final Appeal (Civil)',\n",
       "  '2006',\n",
       "  \"\\\\'https://legalref.judiciary.hk/lrs/images/ThemeXP/Epage.gif\\\\'\",\n",
       "  'FACV17/2006',\n",
       "  'https://legalref.judiciary.hk/lrs/common/ju/ju_frame.jsp?DIS=55403',\n",
       "  '(15/12/2006)',\n",
       "  'THE JOINT & SEVERAL LIQUIDATORS OF KONG WAH HOLDINGS LTD. v. THE GRANDE HOLDINGS LTD. AND OTHERS \\xa0Reported in :[2007] 1 HKLRD 116; (2006) 9 HKCFAR 766'),\n",
       " ('Final Appeal (Civil)',\n",
       "  '2006',\n",
       "  \"\\\\'https://legalref.judiciary.hk/lrs/images/ThemeXP/Epage.gif\\\\'\",\n",
       "  'FACV18/2006',\n",
       "  'https://legalref.judiciary.hk/lrs/common/ju/ju_frame.jsp?DIS=55405',\n",
       "  '(15/12/2006)',\n",
       "  'THE JOINT & SEVERAL LIQUIDATORS OF AKAI HOLDINGS LTD. v. THE GRANDE HOLDINGS LTD. AND OTHERS \\xa0Reported in :[2007] 1 HKLRD 116; (2006) 9 HKCFAR 766'),\n",
       " ('Final Appeal (Civil)',\n",
       "  '2006',\n",
       "  \"\\\\'https://legalref.judiciary.hk/lrs/images/ThemeXP/Epage.gif\\\\'\",\n",
       "  'FACV19/2006',\n",
       "  'https://legalref.judiciary.hk/lrs/common/ju/ju_frame.jsp?DIS=58711',\n",
       "  '(05/10/2007)',\n",
       "  'ING BARING SECURITIES (HONG KONG) LTD v. THE COMMISSIONER OF INLAND REVENUE \\xa0Reported in :[2008] 1 HKLRD 412; (2007) 10 HKCFAR 417'),\n",
       " ('Final Appeal (Civil)',\n",
       "  '2006',\n",
       "  \"\\\\'https://legalref.judiciary.hk/lrs/images/ThemeXP/Epage.gif\\\\'\",\n",
       "  'FACV20/2006',\n",
       "  'https://legalref.judiciary.hk/lrs/common/ju/ju_frame.jsp?DIS=56559',\n",
       "  '(30/03/2007)',\n",
       "  'MAK KANG HOI v. HO YUK WAH DAVID \\xa0Reported in :(2007) 10 HKCFAR 552'),\n",
       " ('Final Appeal (Civil)',\n",
       "  '2006',\n",
       "  \"\\\\'https://legalref.judiciary.hk/lrs/images/ThemeXP/Epage.gif\\\\'\",\n",
       "  'FACV21/2006',\n",
       "  'https://legalref.judiciary.hk/lrs/common/ju/ju_frame.jsp?DIS=60925',\n",
       "  '(28/04/2008)',\n",
       "  'STRONG OFFER INVESTMENT LTD v. NYEU TING CHUANG \\xa0'),\n",
       " ('Final Appeal (Civil)',\n",
       "  '2006',\n",
       "  \"\\\\'https://legalref.judiciary.hk/lrs/images/ThemeXP/Epage.gif\\\\'\",\n",
       "  'FACV21/2006',\n",
       "  'https://legalref.judiciary.hk/lrs/common/ju/ju_frame.jsp?DIS=63825',\n",
       "  '(06/01/2009)',\n",
       "  'STRONG OFFER INVESTMENT LTD v. NYEU TING CHUANG \\xa0'),\n",
       " ('Final Appeal (Civil)',\n",
       "  '2006',\n",
       "  \"\\\\'https://legalref.judiciary.hk/lrs/images/ThemeXP/Epage.gif\\\\'\",\n",
       "  'FACV21/2006',\n",
       "  'https://legalref.judiciary.hk/lrs/common/ju/ju_frame.jsp?DIS=56558',\n",
       "  '(30/03/2007)',\n",
       "  'STRONG OFFER INVESTMENT LTD (In Liquidation) v. NYEU TING CHUANG \\xa0Reported in :(2007) 10 HKCFAR 529'),\n",
       " ('Final Appeal (Civil)',\n",
       "  '2006',\n",
       "  \"\\\\'https://legalref.judiciary.hk/lrs/images/ThemeXP/Epage.gif\\\\'\",\n",
       "  'FACV22/2006',\n",
       "  'https://legalref.judiciary.hk/lrs/common/ju/ju_frame.jsp?DIS=57074',\n",
       "  '(16/05/2007)',\n",
       "  'WORLD FUEL SERVICES (SINGAPORE) PTE LTD v. FLORENS CONTAINER INC \\xa0Reported in :[2007] 2 HKLRD 507; (2007) 10 HKCFAR 256'),\n",
       " ('Final Appeal (Civil)',\n",
       "  '2006',\n",
       "  \"\\\\'https://legalref.judiciary.hk/lrs/images/ThemeXP/Epage.gif\\\\'\",\n",
       "  'FACV22/2006',\n",
       "  'https://legalref.judiciary.hk/lrs/common/ju/ju_frame.jsp?DIS=56837',\n",
       "  '(24/04/2007)',\n",
       "  'WORLD FUEL SERVICES (SINGAPORE) PTE LTD v. FLORENS CONTAINER INC. \\xa0Reported in :[2007] 2 HKLRD 376; (2007) 10 HKCFAR 252'),\n",
       " ('Final Appeal (Civil)',\n",
       "  '2006',\n",
       "  \"\\\\'https://legalref.judiciary.hk/lrs/images/ThemeXP/Epage.gif\\\\'\",\n",
       "  'FACV23/2006',\n",
       "  'https://legalref.judiciary.hk/lrs/common/ju/ju_frame.jsp?DIS=58907',\n",
       "  '(26/10/2007)',\n",
       "  'JERRY CHEN v. WHIRLPOOL (HONG KONG) LTD \\xa0Reported in :(2007) 10 HKCFAR 619'),\n",
       " ('Final Appeal (Civil)',\n",
       "  '2005',\n",
       "  \"\\\\'https://legalref.judiciary.hk/lrs/images/ThemeXP/Epage.gif\\\\'\",\n",
       "  'FACV1/2005',\n",
       "  'https://legalref.judiciary.hk/lrs/common/ju/ju_frame.jsp?DIS=51145',\n",
       "  '(05/01/2006)',\n",
       "  'HO CHOI WAN v. HONG KONG HOUSING AUTHORITY \\xa0'),\n",
       " ('Final Appeal (Civil)',\n",
       "  '2005',\n",
       "  \"\\\\'https://legalref.judiciary.hk/lrs/images/ThemeXP/ETpage.gif\\\\'\",\n",
       "  'FACV1/2005',\n",
       "  'https://legalref.judiciary.hk/lrs/common/ju/ju_frame.jsp?DIS=47032',\n",
       "  '(21/11/2005)',\n",
       "  'HO CHOI WAN v. HONG KONG HOUSING AUTHORITY \\xa0Reported in :[2005] 4 HKLRD 706; (2005) 8 HKCFAR 628'),\n",
       " ('Final Appeal (Civil)',\n",
       "  '2005',\n",
       "  \"\\\\'https://legalref.judiciary.hk/lrs/images/ThemeXP/Epage.gif\\\\'\",\n",
       "  'FACV2/2005',\n",
       "  'https://legalref.judiciary.hk/lrs/common/ju/ju_frame.jsp?DIS=46811',\n",
       "  '(04/11/2005)',\n",
       "  'THOMAS VINCENT v. SOUTH CHINA MORNING POST PUBLISHERS LTD \\xa0Reported in :[2005] 4 HKLRD 258; (2005) 8 HKCFAR 605'),\n",
       " ('Final Appeal (Civil)',\n",
       "  '2005',\n",
       "  \"\\\\'https://legalref.judiciary.hk/lrs/images/ThemeXP/Epage.gif\\\\'\",\n",
       "  'FACV3/2005',\n",
       "  'https://legalref.judiciary.hk/lrs/common/ju/ju_frame.jsp?DIS=50845',\n",
       "  '(08/12/2005)',\n",
       "  'SINO WOOD INVESTMENT LTD v. WONG KAM YIN \\xa0Reported in :[2006] 1 HKLRD 176; (2005) 8 HKCFAR 715'),\n",
       " ('Final Appeal (Civil)',\n",
       "  '2005',\n",
       "  \"\\\\'https://legalref.judiciary.hk/lrs/images/ThemeXP/Epage.gif\\\\'\",\n",
       "  'FACV4/2005',\n",
       "  'https://legalref.judiciary.hk/lrs/common/ju/ju_frame.jsp?DIS=46770',\n",
       "  '(02/11/2005)',\n",
       "  'CAPITAL WELL LTD v. BOND STAR DEVELOPMENT LTD \\xa0Reported in :[2005] 4 HKLRD 363; (2005) 8 HKCFAR 578'),\n",
       " ('Final Appeal (Civil)',\n",
       "  '2005',\n",
       "  \"\\\\'https://legalref.judiciary.hk/lrs/images/ThemeXP/Epage.gif\\\\'\",\n",
       "  'FACV5/2005',\n",
       "  'https://legalref.judiciary.hk/lrs/common/ju/ju_frame.jsp?DIS=51897',\n",
       "  '(15/03/2006)',\n",
       "  'TRIPOLE TRADING LTD AND OTHERS v. PROSPERFIELD VENTURES LTD \\xa0Reported in :[2006] 2 HKLRD 103; (2006) 9 HKCFAR 172'),\n",
       " ('Final Appeal (Civil)',\n",
       "  '2005',\n",
       "  \"\\\\'https://legalref.judiciary.hk/lrs/images/ThemeXP/Epage.gif\\\\'\",\n",
       "  'FACV5/2005',\n",
       "  'https://legalref.judiciary.hk/lrs/common/ju/ju_frame.jsp?DIS=51147',\n",
       "  '(05/01/2006)',\n",
       "  'TRIPOLE TRADING LTD AND OTHERS v. PROSPERFIELD VENTURES LTD \\xa0Reported in :[2006] 1 HKLRD 200; (2006) 9 HKCFAR 1'),\n",
       " ('Final Appeal (Civil)',\n",
       "  '2005',\n",
       "  \"\\\\'https://legalref.judiciary.hk/lrs/images/ThemeXP/Epage.gif\\\\'\",\n",
       "  'FACV6/2005',\n",
       "  'https://legalref.judiciary.hk/lrs/common/ju/ju_frame.jsp?DIS=51898',\n",
       "  '(15/03/2006)',\n",
       "  'DING PENG AND OTHERS v. PANCO INDUSTRIAL HOLDINGS LTD \\xa0Reported in :[2006] 2 HKLRD 103; (2006) 9 HKCFAR 172'),\n",
       " ('Final Appeal (Civil)',\n",
       "  '2005',\n",
       "  \"\\\\'https://legalref.judiciary.hk/lrs/images/ThemeXP/Epage.gif\\\\'\",\n",
       "  'FACV6/2005',\n",
       "  'https://legalref.judiciary.hk/lrs/common/ju/ju_frame.jsp?DIS=51148',\n",
       "  '(05/01/2006)',\n",
       "  'DING PENG AND OTHERS v. PANCO INDUSTRIAL HOLDINGS LTD \\xa0Reported in :[2006] 1 HKLRD 200; (2006) 9 HKCFAR 1'),\n",
       " ('Final Appeal (Civil)',\n",
       "  '2005',\n",
       "  \"\\\\'https://legalref.judiciary.hk/lrs/images/ThemeXP/Epage.gif\\\\'\",\n",
       "  'FACV7/2005',\n",
       "  'https://legalref.judiciary.hk/lrs/common/ju/ju_frame.jsp?DIS=51149',\n",
       "  '(05/01/2006)',\n",
       "  'CHAN TIN SHI v. LI TIN SUNG AND OTHERS \\xa0Reported in :[2006] 1 HKLRD 185; (2006) 9 HKCFAR 29'),\n",
       " ('Final Appeal (Civil)',\n",
       "  '2005',\n",
       "  \"\\\\'https://legalref.judiciary.hk/lrs/images/ThemeXP/Epage.gif\\\\'\",\n",
       "  'FACV8/2005',\n",
       "  'https://legalref.judiciary.hk/lrs/common/ju/ju_frame.jsp?DIS=52113',\n",
       "  '(06/04/2006)',\n",
       "  'SECRETARY FOR JUSTICE v. MICHAEL REID SCOTT \\xa0Reported in :[2006] 2 HKLRD 515; (2006) 9 HKCFAR 221'),\n",
       " ('Final Appeal (Civil)',\n",
       "  '2005',\n",
       "  \"\\\\'https://legalref.judiciary.hk/lrs/images/ThemeXP/Epage.gif\\\\'\",\n",
       "  'FACV8/2005',\n",
       "  'https://legalref.judiciary.hk/lrs/common/ju/ju_frame.jsp?DIS=52787',\n",
       "  '(12/06/2006)',\n",
       "  'SECRETARY FOR JUSTICE v. MICHAEL REID SCOTT \\xa0'),\n",
       " ('Final Appeal (Civil)',\n",
       "  '2005',\n",
       "  \"\\\\'https://legalref.judiciary.hk/lrs/images/ThemeXP/ETpage.gif\\\\'\",\n",
       "  'FACV8/2005',\n",
       "  'https://legalref.judiciary.hk/lrs/common/ju/ju_frame.jsp?DIS=46108',\n",
       "  '(13/07/2005)',\n",
       "  'SECRETARY FOR JUSTICE v. MICHAEL REID SCOTT \\xa0Reported in :[2005] 3 HKLRD 88; (2005) 8 HKCFAR 304'),\n",
       " ('Final Appeal (Civil)',\n",
       "  '2005',\n",
       "  \"\\\\'https://legalref.judiciary.hk/lrs/images/ThemeXP/Epage.gif\\\\'\",\n",
       "  'FACV9/2005',\n",
       "  'https://legalref.judiciary.hk/lrs/common/ju/ju_frame.jsp?DIS=47049',\n",
       "  '(22/11/2005)',\n",
       "  'WONDERYOUTH INDUSTRIES LTD v. CHINA GREAT WALL FINANCE CO \\xa0Reported in :[2006] 1 HKLRD 335; (2005) 8 HKCFAR 689'),\n",
       " ('Final Appeal (Civil)',\n",
       "  '2005',\n",
       "  \"\\\\'https://legalref.judiciary.hk/lrs/images/ThemeXP/Epage.gif\\\\'\",\n",
       "  'FACV10/2005',\n",
       "  'https://legalref.judiciary.hk/lrs/common/ju/ju_frame.jsp?DIS=46181',\n",
       "  '(29/08/2005)',\n",
       "  'LO SIU LAN v. HONG KONG HOUSING AUTHORITY \\xa0'),\n",
       " ('Final Appeal (Civil)',\n",
       "  '2005',\n",
       "  \"\\\\'https://legalref.judiciary.hk/lrs/images/ThemeXP/Epage.gif\\\\'\",\n",
       "  'FACV10/2005',\n",
       "  'https://legalref.judiciary.hk/lrs/common/ju/ju_frame.jsp?DIS=45794',\n",
       "  '(20/07/2005)',\n",
       "  'LO SIU LAN v. HONG KONG HOUSING AUTHORITY \\xa0Reported in :[2005] 3 HKLRD 257; (2005) 8 HKCFAR 363'),\n",
       " ('Final Appeal (Civil)',\n",
       "  '2005',\n",
       "  \"\\\\'https://legalref.judiciary.hk/lrs/images/ThemeXP/Epage.gif\\\\'\",\n",
       "  'FACV11/2005',\n",
       "  'https://legalref.judiciary.hk/lrs/common/ju/ju_frame.jsp?DIS=51220',\n",
       "  '(12/01/2006)',\n",
       "  'NAM CHUN INVESTMENT CO LTD v. THE DIRECTOR OF LANDS \\xa0'),\n",
       " ('Final Appeal (Civil)',\n",
       "  '2005',\n",
       "  \"\\\\'https://legalref.judiciary.hk/lrs/images/ThemeXP/Epage.gif\\\\'\",\n",
       "  'FACV11/2005',\n",
       "  'https://legalref.judiciary.hk/lrs/common/ju/ju_frame.jsp?DIS=56403',\n",
       "  '(19/03/2007)',\n",
       "  'NAM CHUN INVESTMENT CO LTD v. THE DIRECTOR OF LANDS \\xa0Reported in :(2007) 10 HKCFAR 523'),\n",
       " ('Final Appeal (Civil)',\n",
       "  '2005',\n",
       "  \"\\\\'https://legalref.judiciary.hk/lrs/images/ThemeXP/ETpage.gif\\\\'\",\n",
       "  'FACV11/2005',\n",
       "  'https://legalref.judiciary.hk/lrs/common/ju/ju_frame.jsp?DIS=47034',\n",
       "  '(21/11/2005)',\n",
       "  'NAM CHUN INVESTMENT CO LTD v. THE DIRECTOR OF LANDS \\xa0Reported in :[2005] 4 HKLRD 480; (2005) 8 HKCFAR 668'),\n",
       " ('Final Appeal (Civil)',\n",
       "  '2005',\n",
       "  \"\\\\'https://legalref.judiciary.hk/lrs/images/ThemeXP/Epage.gif\\\\'\",\n",
       "  'FACV12/2005',\n",
       "  'https://legalref.judiciary.hk/lrs/common/ju/ju_frame.jsp?DIS=51150',\n",
       "  '(05/01/2006)',\n",
       "  'MOK YUEN FUN AND ANOTHER v. CHINA OVERSEAS GRAND GAIN PROPERTY DEVELOPMENT LTD \\xa0Reported in :[2006] 1 HKLRD 185; (2006) 9 HKCFAR 29'),\n",
       " ('Final Appeal (Civil)',\n",
       "  '2005',\n",
       "  \"\\\\'https://legalref.judiciary.hk/lrs/images/ThemeXP/Epage.gif\\\\'\",\n",
       "  'FACV13/2005',\n",
       "  'https://legalref.judiciary.hk/lrs/common/ju/ju_frame.jsp?DIS=51151',\n",
       "  '(05/01/2006)',\n",
       "  'CHAN SUK YIN AND ANOTHER v. HARVEST GOOD DEVELOPMENT LTD \\xa0Reported in :[2006] 1 HKLRD 185; (2006) 9 HKCFAR 29'),\n",
       " ('Final Appeal (Civil)',\n",
       "  '2005',\n",
       "  \"\\\\'https://legalref.judiciary.hk/lrs/images/ThemeXP/Epage.gif\\\\'\",\n",
       "  'FACV14/2005',\n",
       "  'https://legalref.judiciary.hk/lrs/common/ju/ju_frame.jsp?DIS=51678',\n",
       "  '(27/02/2006)',\n",
       "  'LKK TRANS LTD v. WONG HOI CHUNG \\xa0Reported in :[2006] 1 HKLRD 980; (2006) 9 HKCFAR 103'),\n",
       " ('Final Appeal (Civil)',\n",
       "  '2005',\n",
       "  \"\\\\'https://legalref.judiciary.hk/lrs/images/ThemeXP/Epage.gif\\\\'\",\n",
       "  'FACV16/2005',\n",
       "  'https://legalref.judiciary.hk/lrs/common/ju/ju_frame.jsp?DIS=51954',\n",
       "  '(20/03/2006)',\n",
       "  'KONG WAI TSANG v. HOSPITAL AUTHORITY \\xa0'),\n",
       " ('Final Appeal (Civil)',\n",
       "  '2005',\n",
       "  \"\\\\'https://legalref.judiciary.hk/lrs/images/ThemeXP/Epage.gif\\\\'\",\n",
       "  'FACV17/2005',\n",
       "  'https://legalref.judiciary.hk/lrs/common/ju/ju_frame.jsp?DIS=51684',\n",
       "  '(28/02/2006)',\n",
       "  'LISBETH ENTERPRISES LTD v. MANDY LUK \\xa0Reported in :[2006] 1 HKLRD 1005; (2006) 9 HKCFAR 131'),\n",
       " ('Final Appeal (Civil)',\n",
       "  '2005',\n",
       "  \"\\\\'https://legalref.judiciary.hk/lrs/images/ThemeXP/Epage.gif\\\\'\",\n",
       "  'FACV18/2005',\n",
       "  'https://legalref.judiciary.hk/lrs/common/ju/ju_frame.jsp?DIS=53196',\n",
       "  '(10/07/2006)',\n",
       "  'NEW WORLD DEVELOPMENT CO LTD AND ANOTHER v. SUN HUNG KAI SECURITIES LTD \\xa0Reported in :[2006] 3 HKLRD 345; (2006) 9 HKCFAR 403'),\n",
       " ('Final Appeal (Civil)',\n",
       "  '2005',\n",
       "  \"\\\\'https://legalref.judiciary.hk/lrs/images/ThemeXP/ETpage.gif\\\\'\",\n",
       "  'FACV19/2005',\n",
       "  'https://legalref.judiciary.hk/lrs/common/ju/ju_frame.jsp?DIS=55298',\n",
       "  '(06/12/2006)',\n",
       "  'THE SECRETARY FOR TRANSPORT v. DELIGHT WORLD LTD \\xa0Reported in :[2007] 1 HKLRD 647; (2006) 9 HKCFAR 720'),\n",
       " ('Final Appeal (Civil)',\n",
       "  '2005',\n",
       "  \"\\\\'https://legalref.judiciary.hk/lrs/images/ThemeXP/Epage.gif\\\\'\",\n",
       "  'FACV20/2005',\n",
       "  'https://legalref.judiciary.hk/lrs/common/ju/ju_frame.jsp?DIS=52114',\n",
       "  '(06/04/2006)',\n",
       "  'FAR EAST DRUG (BVI) CO LTD v. FIRST PACIFIC CO LTD \\xa0Reported in :[2006] 2 HKLRD 157; (2006) 9 HKCFAR 224'),\n",
       " ('Final Appeal (Civil)',\n",
       "  '2005',\n",
       "  \"\\\\'https://legalref.judiciary.hk/lrs/images/ThemeXP/Epage.gif\\\\'\",\n",
       "  'FACV21/2005',\n",
       "  'https://legalref.judiciary.hk/lrs/common/ju/ju_frame.jsp?DIS=51152',\n",
       "  '(05/01/2006)',\n",
       "  'HARVEST GOOD DEVELOPMENT LTD v.  CHAN SUK YIN AND ANOTHER \\xa0Reported in :[2006] 1 HKLRD 185; (2006) 9 HKCFAR 29'),\n",
       " ('Final Appeal (Civil)',\n",
       "  '2005',\n",
       "  \"\\\\'https://legalref.judiciary.hk/lrs/images/ThemeXP/ETpage.gif\\\\'\",\n",
       "  'FACV22/2005',\n",
       "  'https://legalref.judiciary.hk/lrs/common/ju/ju_frame.jsp?DIS=52111',\n",
       "  '(06/04/2006)',\n",
       "  'THE STOCK EXCHANGE OF HONG KONG LTD v. NEW WORLD DEVELOPMENT CO LTD AND OTHERS \\xa0Reported in :[2006] 2 HKLRD 518; (2006) 9 HKCFAR 234'),\n",
       " ('Final Appeal (Civil)',\n",
       "  '2005',\n",
       "  \"\\\\'https://legalref.judiciary.hk/lrs/images/ThemeXP/ETpage.gif\\\\'\",\n",
       "  'FACV23/2005',\n",
       "  'https://legalref.judiciary.hk/lrs/common/ju/ju_frame.jsp?DIS=51977',\n",
       "  '(22/03/2006)',\n",
       "  'A SOLICITOR v. THE LAW SOCIETY OF HONG KONG \\xa0Reported in :[2006] 2 HKLRD 116; (2006) 9 HKCFAR 175'),\n",
       " ('Final Appeal (Civil)',\n",
       "  '2005',\n",
       "  \"\\\\'https://legalref.judiciary.hk/lrs/images/ThemeXP/Epage.gif\\\\'\",\n",
       "  'FACV24/2005',\n",
       "  'https://legalref.judiciary.hk/lrs/common/ju/ju_frame.jsp?DIS=57404',\n",
       "  '(13/06/2007)',\n",
       "  'CHAN WAI SUN AND ANOTHER v. LAW SHIU KAI ANDREW \\xa0Reported in :(2007) 10 HKCFAR 601'),\n",
       " ('Final Appeal (Civil)',\n",
       "  '2005',\n",
       "  \"\\\\'https://legalref.judiciary.hk/lrs/images/ThemeXP/Epage.gif\\\\'\",\n",
       "  'FACV25/2005',\n",
       "  'https://legalref.judiciary.hk/lrs/common/ju/ju_frame.jsp?DIS=53195',\n",
       "  '(10/07/2006)',\n",
       "  'MING SHIU CHUNG AND OTHERS v. MING SHIU SUM AND OTHERS \\xa0'),\n",
       " ('Final Appeal (Civil)',\n",
       "  '2005',\n",
       "  \"\\\\'https://legalref.judiciary.hk/lrs/images/ThemeXP/Epage.gif\\\\'\",\n",
       "  'FACV25/2005',\n",
       "  'https://legalref.judiciary.hk/lrs/common/ju/ju_frame.jsp?DIS=52515',\n",
       "  '(23/05/2006)',\n",
       "  'MING SHIU CHUNG AND OTHERS v. MING SHIU SUM AND OTHERS \\xa0Reported in :[2006] 2 HKLRD 831; (2006) 9 HKCFAR 334'),\n",
       " ('Final Appeal (Civil)',\n",
       "  '2005',\n",
       "  \"\\\\'https://legalref.judiciary.hk/lrs/images/ThemeXP/Epage.gif\\\\'\",\n",
       "  'FACV26/2005',\n",
       "  'https://legalref.judiciary.hk/lrs/common/ju/ju_frame.jsp?DIS=54850',\n",
       "  '(27/10/2006)',\n",
       "  'ACTIVE PROFIT LTD v. NISSHO IWAI HONG KONG CORPORATION LTD AND OTHERS \\xa0Reported in :[2006] 4 HKLRD 467; (2006) 9 HKCFAR 653'),\n",
       " ('Final Appeal (Civil)',\n",
       "  '2005',\n",
       "  \"\\\\'https://legalref.judiciary.hk/lrs/images/ThemeXP/Epage.gif\\\\'\",\n",
       "  'FACV27/2005',\n",
       "  'https://legalref.judiciary.hk/lrs/common/ju/ju_frame.jsp?DIS=55404',\n",
       "  '(15/12/2006)',\n",
       "  'ADVERTASIA STREET FURNITURE LTD v. CHINA OUTDOOR MEDIA INVESTMENT (HONG KONG) CO LTD \\xa0Reported in :(2006) 9 HKCFAR 863'),\n",
       " ('Final Appeal (Civil)',\n",
       "  '2005',\n",
       "  \"\\\\'https://legalref.judiciary.hk/lrs/images/ThemeXP/Epage.gif\\\\'\",\n",
       "  'FACV28/2005',\n",
       "  'https://legalref.judiciary.hk/lrs/common/ju/ju_frame.jsp?DIS=53297',\n",
       "  '(17/07/2006)',\n",
       "  'SHIU WING STEEL LTD v. DIRECTOR OF ENVIRONMENTAL PROTECTION \\xa0Reported in :[2006] 3 HKLRD 487; (2006) 9 HKCFAR 478'),\n",
       " ('Final Appeal (Civil)',\n",
       "  '2005',\n",
       "  \"\\\\'https://legalref.judiciary.hk/lrs/images/ThemeXP/Epage.gif\\\\'\",\n",
       "  'FACV28/2005',\n",
       "  'https://legalref.judiciary.hk/lrs/common/ju/ju_frame.jsp?DIS=52351',\n",
       "  '(03/05/2006)',\n",
       "  'SHIU WING STEEL LTD  v. DIRECTOR OF ENVIRONMENTAL PROTECTION \\xa0Reported in :[2006] 3 HKLRD 33; (2006) 9 HKCFAR 303'),\n",
       " ('Final Appeal (Civil)',\n",
       "  '2005',\n",
       "  \"\\\\'https://legalref.judiciary.hk/lrs/images/ThemeXP/Epage.gif\\\\'\",\n",
       "  'FACV29/2005',\n",
       "  'https://legalref.judiciary.hk/lrs/common/ju/ju_frame.jsp?DIS=53028',\n",
       "  '(30/06/2006)',\n",
       "  'LAM SOON TRADEMARK LTD v. COMMISSIONER OF INLAND REVENUE \\xa0Reported in :[2006] 3 HKLRD 132; (2006) 9 HKCFAR 391'),\n",
       " ('Final Appeal (Civil)',\n",
       "  '2005',\n",
       "  \"\\\\'https://legalref.judiciary.hk/lrs/images/ThemeXP/Epage.gif\\\\'\",\n",
       "  'FACV30/2005',\n",
       "  'https://legalref.judiciary.hk/lrs/common/ju/ju_frame.jsp?DIS=55256',\n",
       "  '(01/12/2006)',\n",
       "  'CHENG HO KEE AND OTHERS v. SECRETARY FOR JUSTICE \\xa0Reported in :[2006] 4 HKLRD 782; (2006) 9 HKCFAR 705'),\n",
       " ('Final Appeal (Civil)',\n",
       "  '2014',\n",
       "  \"\\\\'https://legalref.judiciary.hk/lrs/images/ThemeXP/Epage.gif\\\\'\",\n",
       "  'FACV1/2014',\n",
       "  'https://legalref.judiciary.hk/lrs/common/ju/ju_frame.jsp?DIS=96088',\n",
       "  '(05/12/2014)',\n",
       "  'LEUNG KWOK HUNG v. PRESIDENT OF THE LEGISLATIVE COUNCIL OF THE HONG KONG SPECIAL ADMINISTRATIVE REGION \\xa0Reported in :(2014) 17 HKCFAR 841'),\n",
       " ('Final Appeal (Civil)',\n",
       "  '2014',\n",
       "  \"\\\\'https://legalref.judiciary.hk/lrs/images/ThemeXP/Epage.gif\\\\'\",\n",
       "  'FACV1/2014',\n",
       "  'https://legalref.judiciary.hk/lrs/common/ju/ju_frame.jsp?DIS=95053',\n",
       "  '(29/09/2014)',\n",
       "  'LEUNG KWOK HUNG v. THE PRESIDENT OF THE LEGISLATIVE COUNCIL OF THE HONG KONG SPECIAL ADMINISTRATIVE REGION AND ANOTHER \\xa0Reported in :(2014) 17 HKCFAR 689'),\n",
       " ('Final Appeal (Civil)',\n",
       "  '2014',\n",
       "  \"\\\\'https://legalref.judiciary.hk/lrs/images/ThemeXP/Epage.gif\\\\'\",\n",
       "  'FACV2/2014',\n",
       "  'https://legalref.judiciary.hk/lrs/common/ju/ju_frame.jsp?DIS=94873',\n",
       "  '(18/09/2014)',\n",
       "  'GUTIERREZ JOSEPH JAMES, a minor v. COMMISSIONER OF REGISTRATION AND ANOTHER \\xa0Reported in :(2014) 17 HKCFAR 518'),\n",
       " ('Final Appeal (Civil)',\n",
       "  '2014',\n",
       "  \"\\\\'https://legalref.judiciary.hk/lrs/images/ThemeXP/Epage.gif\\\\'\",\n",
       "  'FACV3/2014',\n",
       "  'https://legalref.judiciary.hk/lrs/common/ju/ju_frame.jsp?DIS=95670',\n",
       "  '(11/11/2014)',\n",
       "  'T v. COMMISSIONER OF POLICE \\xa0'),\n",
       " ('Final Appeal (Civil)',\n",
       "  '2014',\n",
       "  \"\\\\'https://legalref.judiciary.hk/lrs/images/ThemeXP/Epage.gif\\\\'\",\n",
       "  'FACV3/2014',\n",
       "  'https://legalref.judiciary.hk/lrs/common/ju/ju_frame.jsp?DIS=94768',\n",
       "  '(10/09/2014)',\n",
       "  'T v. COMMISSIONER OF POLICE \\xa0Reported in :(2014) 17 HKCFAR 593'),\n",
       " ('Final Appeal (Civil)',\n",
       "  '2014',\n",
       "  \"\\\\'https://legalref.judiciary.hk/lrs/images/ThemeXP/Epage.gif\\\\'\",\n",
       "  'FACV4/2014',\n",
       "  'https://legalref.judiciary.hk/lrs/common/ju/ju_frame.jsp?DIS=96164',\n",
       "  '(10/12/2014)',\n",
       "  'LUCK CONTINENT LTD v. CHENG CHEE TOCK THEODORE AND OTHERS \\xa0Reported in :(2014) 17 HKCFAR 863'),\n",
       " ('Final Appeal (Civil)',\n",
       "  '2014',\n",
       "  \"\\\\'https://legalref.judiciary.hk/lrs/images/ThemeXP/Epage.gif\\\\'\",\n",
       "  'FACV5/2014',\n",
       "  'https://legalref.judiciary.hk/lrs/common/ju/ju_frame.jsp?DIS=95603',\n",
       "  '(06/11/2014)',\n",
       "  'SECRETARY FOR JUSTICE v. FLORENCE TSANG CHIU WING AND OTHERS \\xa0Reported in :(2014) 17 HKCFAR 739'),\n",
       " ('Final Appeal (Civil)',\n",
       "  '2014',\n",
       "  \"\\\\'https://legalref.judiciary.hk/lrs/images/ThemeXP/Epage.gif\\\\'\",\n",
       "  'FACV6/2014',\n",
       "  'https://legalref.judiciary.hk/lrs/common/ju/ju_frame.jsp?DIS=95604',\n",
       "  '(06/11/2014)',\n",
       "  'SECRETARY FOR JUSTICE v. FLORENCE TSANG CHIU WING AND OTHERS \\xa0Reported in :(2014) 17 HKCFAR 739'),\n",
       " ('Final Appeal (Civil)',\n",
       "  '2014',\n",
       "  \"\\\\'https://legalref.judiciary.hk/lrs/images/ThemeXP/Epage.gif\\\\'\",\n",
       "  'FACV7/2014',\n",
       "  'https://legalref.judiciary.hk/lrs/common/ju/ju_frame.jsp?DIS=97481',\n",
       "  '(13/03/2015)',\n",
       "  'CHINA FIELD LIMITED v. BUILDING AUTHORITY \\xa0Reported in :(2015) 18 HKCFAR 317'),\n",
       " ('Final Appeal (Civil)',\n",
       "  '2014',\n",
       "  \"\\\\'https://legalref.judiciary.hk/lrs/images/ThemeXP/Epage.gif\\\\'\",\n",
       "  'FACV8/2014',\n",
       "  'https://legalref.judiciary.hk/lrs/common/ju/ju_frame.jsp?DIS=96962',\n",
       "  '(05/02/2015)',\n",
       "  'SIU KAI MING v. LAU SAI HING \\xa0Reported in :(2015) 18 HKCFAR 38'),\n",
       " ('Final Appeal (Civil)',\n",
       "  '2014',\n",
       "  \"\\\\'https://legalref.judiciary.hk/lrs/images/ThemeXP/Epage.gif\\\\'\",\n",
       "  'FACV9/2014',\n",
       "  'https://legalref.judiciary.hk/lrs/common/ju/ju_frame.jsp?DIS=100060',\n",
       "  '(24/08/2015)',\n",
       "  'CHINACHEM CHARITABLE FOUNDATION LTD v. THE SECRETARY FOR JUSTICE AND OTHERS \\xa0Reported in :(2015) 18 HKCFAR 414'),\n",
       " ('Final Appeal (Civil)',\n",
       "  '2014',\n",
       "  \"\\\\'https://legalref.judiciary.hk/lrs/images/ThemeXP/Epage.gif\\\\'\",\n",
       "  'FACV9/2014',\n",
       "  'https://legalref.judiciary.hk/lrs/common/ju/ju_frame.jsp?DIS=98447',\n",
       "  '(18/05/2015)',\n",
       "  'CHINACHEM CHARITABLE FOUNDATION LTD v. THE SECRETARY FOR JUSTICE & OTHERS \\xa0Reported in :(2015) 18 HKCFAR 169'),\n",
       " ('Final Appeal (Civil)',\n",
       "  '2014',\n",
       "  \"\\\\'https://legalref.judiciary.hk/lrs/images/ThemeXP/Epage.gif\\\\'\",\n",
       "  'FACV10/2014',\n",
       "  'https://legalref.judiciary.hk/lrs/common/ju/ju_frame.jsp?DIS=99307',\n",
       "  '(07/07/2015)',\n",
       "  'MIMI KAR KEE WONG HUNG v. RAYMOND KIN SANG HUNG \\xa0'),\n",
       " ('Final Appeal (Civil)',\n",
       "  '2014',\n",
       "  \"\\\\'https://legalref.judiciary.hk/lrs/images/ThemeXP/Epage.gif\\\\'\",\n",
       "  'FACV10/2014',\n",
       "  'https://legalref.judiciary.hk/lrs/common/ju/ju_frame.jsp?DIS=98449',\n",
       "  '(18/05/2015)',\n",
       "  'RAYMOND KIN SANG HUNG v. MIMI KAR KEE WONG HUNG (also known as MIMI KAR GEE WONG HUNG) \\xa0Reported in :(2015) 18 HKCFAR 210'),\n",
       " ('Final Appeal (Civil)',\n",
       "  '2014',\n",
       "  \"\\\\'https://legalref.judiciary.hk/lrs/images/ThemeXP/Epage.gif\\\\'\",\n",
       "  'FACV11/2014',\n",
       "  'https://legalref.judiciary.hk/lrs/common/ju/ju_frame.jsp?DIS=99317',\n",
       "  '(07/07/2015)',\n",
       "  'MIMI KAR KEE WONG HUNG v. RAYMOND KIN SANG HUNG \\xa0'),\n",
       " ('Final Appeal (Civil)',\n",
       "  '2014',\n",
       "  \"\\\\'https://legalref.judiciary.hk/lrs/images/ThemeXP/Epage.gif\\\\'\",\n",
       "  'FACV11/2014',\n",
       "  'https://legalref.judiciary.hk/lrs/common/ju/ju_frame.jsp?DIS=98450',\n",
       "  '(18/05/2015)',\n",
       "  'MIMI KAR KEE WONG HUNG (also known as MIMI KAR GEE WONG HUNG) v. RAYMOND KIN SANG HUNG \\xa0Reported in :(2015) 18 HKCFAR 210'),\n",
       " ('Final Appeal (Civil)',\n",
       "  '2014',\n",
       "  \"\\\\'https://legalref.judiciary.hk/lrs/images/ThemeXP/Epage.gif\\\\'\",\n",
       "  'FACV12/2014',\n",
       "  'https://legalref.judiciary.hk/lrs/common/ju/ju_frame.jsp?DIS=98448',\n",
       "  '(18/05/2015)',\n",
       "  'DE MONSA INVESTMENTS LTD v. RICHLY BRIGHT INTERNATIONAL LTD, 823 INVESTMENT LTD \\xa0Reported in :(2015) 18 HKCFAR 232'),\n",
       " ('Final Appeal (Civil)',\n",
       "  '2008',\n",
       "  \"\\\\'https://legalref.judiciary.hk/lrs/images/ThemeXP/Epage.gif\\\\'\",\n",
       "  'FACV1/2008',\n",
       "  'https://legalref.judiciary.hk/lrs/common/ju/ju_frame.jsp?DIS=63530',\n",
       "  '(05/12/2008)',\n",
       "  'KUNG MING TAK TONG CO LTD v. PARK SOLID ENTERPRISES LTD AND ANOTHER \\xa0'),\n",
       " ('Final Appeal (Civil)',\n",
       "  '2008',\n",
       "  \"\\\\'https://legalref.judiciary.hk/lrs/images/ThemeXP/Epage.gif\\\\'\",\n",
       "  'FACV1/2008',\n",
       "  'https://legalref.judiciary.hk/lrs/common/ju/ju_frame.jsp?DIS=62498',\n",
       "  '(08/09/2008)',\n",
       "  'KUNG MING TAK TONG CO LTD v. PARK SOLID ENTERPRISES LTD AND ANOTHER \\xa0Reported in :[2008] 5 HKLRD 441; (2008) 11 HKCFAR 403'),\n",
       " ('Final Appeal (Civil)',\n",
       "  '2008',\n",
       "  \"\\\\'https://legalref.judiciary.hk/lrs/images/ThemeXP/Epage.gif\\\\'\",\n",
       "  'FACV3/2008',\n",
       "  'https://legalref.judiciary.hk/lrs/common/ju/ju_frame.jsp?DIS=61266',\n",
       "  '(30/05/2008)',\n",
       "  'KIN YUEN v. THE JOINT & SEVERAL LIQUIDATORS OF KONG WAH HOLDINGS LTD (In Compulsory Liquidation) \\xa0Reported in :(2008) 11 HKCFAR 509'),\n",
       " ('Final Appeal (Civil)',\n",
       "  '2008',\n",
       "  \"\\\\'https://legalref.judiciary.hk/lrs/images/ThemeXP/Epage.gif\\\\'\",\n",
       "  'FACV3/2008',\n",
       "  'https://legalref.judiciary.hk/lrs/common/ju/ju_frame.jsp?DIS=61168',\n",
       "  '(22/05/2008)',\n",
       "  'KIN YUEN  v. THE JOINT & SEVERAL LIQUIDATORS OF KONG WAH HOLDINGS LTD (In Compulsory Liquidation) \\xa0Reported in :(2008) 11 HKCFAR 497'),\n",
       " ('Final Appeal (Civil)',\n",
       "  '2008',\n",
       "  \"\\\\'https://legalref.judiciary.hk/lrs/images/ThemeXP/Epage.gif\\\\'\",\n",
       "  'FACV4/2008',\n",
       "  'https://legalref.judiciary.hk/lrs/common/ju/ju_frame.jsp?DIS=61267',\n",
       "  '(30/05/2008)',\n",
       "  'KIN YUEN v. THE JOINT & SEVERAL LIQUIDATORS OF AKAI HOLDINGS LTD (In Compulsory Liquidation) \\xa0Reported in :(2008) 11 HKCFAR 509'),\n",
       " ('Final Appeal (Civil)',\n",
       "  '2008',\n",
       "  \"\\\\'https://legalref.judiciary.hk/lrs/images/ThemeXP/Epage.gif\\\\'\",\n",
       "  'FACV4/2008',\n",
       "  'https://legalref.judiciary.hk/lrs/common/ju/ju_frame.jsp?DIS=61169',\n",
       "  '(22/05/2008)',\n",
       "  'KIN YUEN v. THE JOINT & SEVERAL LIQUIDATORS OF AKAI HOLDINGS LTD (In Compulsory Liquidation) \\xa0Reported in :(2008) 11 HKCFAR 497'),\n",
       " ('Final Appeal (Civil)',\n",
       "  '2008',\n",
       "  \"\\\\'https://legalref.judiciary.hk/lrs/images/ThemeXP/Epage.gif\\\\'\",\n",
       "  'FACV5/2008',\n",
       "  'https://legalref.judiciary.hk/lrs/common/ju/ju_frame.jsp?DIS=63557',\n",
       "  '(08/12/2008)',\n",
       "  'CHEONG SHING LTD AND ANOTHER v. YU KWAN AND OTHERS \\xa0'),\n",
       " ('Final Appeal (Civil)',\n",
       "  '2008',\n",
       "  \"\\\\'https://legalref.judiciary.hk/lrs/images/ThemeXP/Epage.gif\\\\'\",\n",
       "  'FACV5/2008',\n",
       "  'https://legalref.judiciary.hk/lrs/common/ju/ju_frame.jsp?DIS=63058',\n",
       "  '(29/10/2008)',\n",
       "  'CHEONG SHING LTD AND ANOTHER v. YU KWAN AND OTHERS \\xa0Reported in :(2008) 11 HKCFAR 594'),\n",
       " ('Final Appeal (Civil)',\n",
       "  '2008',\n",
       "  \"\\\\'https://legalref.judiciary.hk/lrs/images/ThemeXP/Epage.gif\\\\'\",\n",
       "  'FACV6/2008',\n",
       "  'https://legalref.judiciary.hk/lrs/common/ju/ju_frame.jsp?DIS=64231',\n",
       "  '(06/02/2009)',\n",
       "  'KARAHA BODAS CO LLC v. PERUSAHAAN PERTAMBANGAN MINYAK DAN GAS BUMI NEGARA \\xa0'),\n",
       " ('Final Appeal (Civil)',\n",
       "  '2008',\n",
       "  \"\\\\'https://legalref.judiciary.hk/lrs/images/ThemeXP/Epage.gif\\\\'\",\n",
       "  'FACV6/2008',\n",
       "  'https://legalref.judiciary.hk/lrs/common/ju/ju_frame.jsp?DIS=63528',\n",
       "  '(05/12/2008)',\n",
       "  'KARAHA BODAS CO LLC v. PERUSAHAAN PERTAMBANGAN MINYAK DAN GAS BUMI NEGARA (otherwise known as PERTAMINA) \\xa0Reported in :(2009) 12 HKCFAR 84'),\n",
       " ('Final Appeal (Civil)',\n",
       "  '2008',\n",
       "  \"\\\\'https://legalref.judiciary.hk/lrs/images/ThemeXP/Epage.gif\\\\'\",\n",
       "  'FACV7/2008',\n",
       "  'https://legalref.judiciary.hk/lrs/common/ju/ju_frame.jsp?DIS=63057',\n",
       "  '(29/10/2008)',\n",
       "  'KAO LEE & YIP (a firm) v. LAU WING AND ANOTHER \\xa0Reported in :(2008) 11 HKCFAR 576'),\n",
       " ('Final Appeal (Civil)',\n",
       "  '2008',\n",
       "  \"\\\\'https://legalref.judiciary.hk/lrs/images/ThemeXP/Epage.gif\\\\'\",\n",
       "  'FACV8/2008',\n",
       "  'https://legalref.judiciary.hk/lrs/common/ju/ju_frame.jsp?DIS=63558',\n",
       "  '(08/12/2008)',\n",
       "  'KONG KAI CHEUNG v. 西安民生集團股份有限公司 AND ANOTHER \\xa0'),\n",
       " ('Final Appeal (Civil)',\n",
       "  '2008',\n",
       "  \"\\\\'https://legalref.judiciary.hk/lrs/images/ThemeXP/Epage.gif\\\\'\",\n",
       "  'FACV8/2008',\n",
       "  'https://legalref.judiciary.hk/lrs/common/ju/ju_frame.jsp?DIS=63059',\n",
       "  '(29/10/2008)',\n",
       "  'KONG KAI CHEUNG v. 西安民生集團股份有限公司 AND ANOTHER \\xa0Reported in :(2008) 11 HKCFAR 594'),\n",
       " ('Final Appeal (Civil)',\n",
       "  '2008',\n",
       "  \"\\\\'https://legalref.judiciary.hk/lrs/images/ThemeXP/ETpage.gif\\\\'\",\n",
       "  'FACV9/2008',\n",
       "  'https://legalref.judiciary.hk/lrs/common/ju/ju_frame.jsp?DIS=65003',\n",
       "  '(26/03/2009)',\n",
       "  'LAM SIU PO v. COMMISSIONER OF POLICE \\xa0Reported in :(2009) 12 HKCFAR 237'),\n",
       " ('Final Appeal (Civil)',\n",
       "  '2008',\n",
       "  \"\\\\'https://legalref.judiciary.hk/lrs/images/ThemeXP/Epage.gif\\\\'\",\n",
       "  'FACV10/2008',\n",
       "  'https://legalref.judiciary.hk/lrs/common/ju/ju_frame.jsp?DIS=67553',\n",
       "  '(14/09/2009)',\n",
       "  'REGENT NATIONAL ENTERPRISES LTD v. GOLDLION PROPERTIES LTD AND OTHERS \\xa0'),\n",
       " ('Final Appeal (Civil)',\n",
       "  '2008',\n",
       "  \"\\\\'https://legalref.judiciary.hk/lrs/images/ThemeXP/Epage.gif\\\\'\",\n",
       "  'FACV10/2008',\n",
       "  'https://legalref.judiciary.hk/lrs/common/ju/ju_frame.jsp?DIS=68167',\n",
       "  '(23/10/2009)',\n",
       "  'GOLDLION PROPERTIES LTD AND OTHERS v. REGENT NATIONAL ENTERPRISES LTD \\xa0'),\n",
       " ('Final Appeal (Civil)',\n",
       "  '2008',\n",
       "  \"\\\\'https://legalref.judiciary.hk/lrs/images/ThemeXP/Epage.gif\\\\'\",\n",
       "  'FACV10/2008',\n",
       "  'https://legalref.judiciary.hk/lrs/common/ju/ju_frame.jsp?DIS=66355',\n",
       "  '(25/06/2009)',\n",
       "  'GOLDLION PROPERTIES LTD AND OTHERS v. REGENT NATIONAL ENTERPRISES LTD \\xa0Reported in :(2009) 12 HKCFAR 512'),\n",
       " ('Final Appeal (Civil)',\n",
       "  '2008',\n",
       "  \"\\\\'https://legalref.judiciary.hk/lrs/images/ThemeXP/Epage.gif\\\\'\",\n",
       "  'FACV11/2008',\n",
       "  'https://legalref.judiciary.hk/lrs/common/ju/ju_frame.jsp?DIS=64578',\n",
       "  '(02/03/2009)',\n",
       "  'FRANK YU YU KAI v. CHAN CHI KEUNG \\xa0Reported in :(2009) 12 HKCFAR 705'),\n",
       " ('Final Appeal (Civil)',\n",
       "  '2008',\n",
       "  \"\\\\'https://legalref.judiciary.hk/lrs/images/ThemeXP/Epage.gif\\\\'\",\n",
       "  'FACV13/2008',\n",
       "  'https://legalref.judiciary.hk/lrs/common/ju/ju_frame.jsp?DIS=65720',\n",
       "  '(12/05/2009)',\n",
       "  'CAREWINS DEVELOPMENT (CHINA) LTD v. BRIGHT FORTUNE SHIPPING LTD \\xa0Reported in :[2009] 3 HKLRD 409; (2009) 12 HKCFAR 185'),\n",
       " ('Final Appeal (Civil)',\n",
       "  '2008',\n",
       "  \"\\\\'https://legalref.judiciary.hk/lrs/images/ThemeXP/Epage.gif\\\\'\",\n",
       "  'FACV14/2008',\n",
       "  'https://legalref.judiciary.hk/lrs/common/ju/ju_frame.jsp?DIS=65723',\n",
       "  '(12/05/2009)',\n",
       "  'CAREWINS DEVELOPMENT (CHINA) LTD v. HECNY SHIPPING LTD \\xa0Reported in :[2009] 3 HKLRD 409; (2009) 12 HKCFAR 185'),\n",
       " ('Final Appeal (Civil)',\n",
       "  '2008',\n",
       "  \"\\\\'https://legalref.judiciary.hk/lrs/images/ThemeXP/ETpage.gif\\\\'\",\n",
       "  'FACV16/2008',\n",
       "  'https://legalref.judiciary.hk/lrs/common/ju/ju_frame.jsp?DIS=73767',\n",
       "  '(12/11/2010)',\n",
       "  'LKW v. DD \\xa0Reported in :(2010) 13 HKCFAR 537'),\n",
       " ('Final Appeal (Civil)',\n",
       "  '2008',\n",
       "  \"\\\\'https://legalref.judiciary.hk/lrs/images/ThemeXP/Epage.gif\\\\'\",\n",
       "  'FACV17/2008',\n",
       "  'https://legalref.judiciary.hk/lrs/common/ju/ju_frame.jsp?DIS=64560',\n",
       "  '(27/02/2009)',\n",
       "  'PECONIC INDUSTRIAL DEVELOPMENT LTD v. LAU KWOK FAI AND OTHERS \\xa0Reported in :[2009] 2 HKLRD 537; (2009) 12 HKCFAR 139'),\n",
       " ('Final Appeal (Civil)',\n",
       "  '2008',\n",
       "  \"\\\\'https://legalref.judiciary.hk/lrs/images/ThemeXP/Epage.gif\\\\'\",\n",
       "  'FACV18/2008',\n",
       "  'https://legalref.judiciary.hk/lrs/common/ju/ju_frame.jsp?DIS=64561',\n",
       "  '(27/02/2009)',\n",
       "  'PECONIC INDUSTRIAL DEVELOPMENT LTD v. LAU KWOK FAI AND OTHERS \\xa0Reported in :[2009] 2 HKLRD 537; (2009) 12 HKCFAR 139'),\n",
       " ('Final Appeal (Civil)',\n",
       "  '2008',\n",
       "  \"\\\\'https://legalref.judiciary.hk/lrs/images/ThemeXP/Epage.gif\\\\'\",\n",
       "  'FACV19/2008',\n",
       "  'https://legalref.judiciary.hk/lrs/common/ju/ju_frame.jsp?DIS=63367',\n",
       "  '(19/11/2008)',\n",
       "  'ANDERSON ASPHALT LTD AND OTHERS v. THE SECRETARY FOR JUSTICE \\xa0'),\n",
       " ('Final Appeal (Civil)',\n",
       "  '2008',\n",
       "  \"\\\\'https://legalref.judiciary.hk/lrs/images/ThemeXP/Epage.gif\\\\'\",\n",
       "  'FACV21/2008',\n",
       "  'https://legalref.judiciary.hk/lrs/common/ju/ju_frame.jsp?DIS=64686',\n",
       "  '(09/03/2009)',\n",
       "  'MING AN INSURANCE CO (HK) LTD v. RITZ-CARLTON LTD (NO. 2) \\xa0Reported in :(2009) 12 HKCFAR 745'),\n",
       " ('Final Appeal (Civil)',\n",
       "  '2008',\n",
       "  \"\\\\'https://legalref.judiciary.hk/lrs/images/ThemeXP/Epage.gif\\\\'\",\n",
       "  'FACV21/2008',\n",
       "  'https://legalref.judiciary.hk/lrs/common/ju/ju_frame.jsp?DIS=63711',\n",
       "  '(19/12/2008)',\n",
       "  'MING AN INSURANCE CO (HK) LTD v. RITZ-CARLTON LTD \\xa0Reported in :(2009) 12 HKCFAR 158'),\n",
       " ('Final Appeal (Civil)',\n",
       "  '2008',\n",
       "  \"\\\\'https://legalref.judiciary.hk/lrs/images/ThemeXP/Epage.gif\\\\'\",\n",
       "  'FACV22/2008',\n",
       "  'https://legalref.judiciary.hk/lrs/common/ju/ju_frame.jsp?DIS=68093',\n",
       "  '(20/10/2009)',\n",
       "  'LEUNG KA LAU AND OTHERS v. THE HOSPITAL AUTHORITY \\xa0Reported in :(2009) 12 HKCFAR 924'),\n",
       " ('Final Appeal (Civil)',\n",
       "  '2008',\n",
       "  \"\\\\'https://legalref.judiciary.hk/lrs/images/ThemeXP/Epage.gif\\\\'\",\n",
       "  'FACV23/2008',\n",
       "  'https://legalref.judiciary.hk/lrs/common/ju/ju_frame.jsp?DIS=68095',\n",
       "  '(20/10/2009)',\n",
       "  'LEUNG KA LAU AND OTHERS v. THE HOSPITAL AUTHORITY \\xa0Reported in :(2009) 12 HKCFAR 924'),\n",
       " ('Final Appeal (Civil)',\n",
       "  '2008',\n",
       "  \"\\\\'https://legalref.judiciary.hk/lrs/images/ThemeXP/Epage.gif\\\\'\",\n",
       "  'FACV24/2008',\n",
       "  'https://legalref.judiciary.hk/lrs/common/ju/ju_frame.jsp?DIS=65721',\n",
       "  '(12/05/2009)',\n",
       "  'ROBERT YIP v. WING FAI CONSTRUCTION CO LTD (IN LIQUIDATION) \\xa0Reported in :(2009) 12 HKCFAR 800'),\n",
       " ('Final Appeal (Civil)',\n",
       "  '2008',\n",
       "  \"\\\\'https://legalref.judiciary.hk/lrs/images/ThemeXP/Epage.gif\\\\'\",\n",
       "  'FACV25/2008',\n",
       "  'https://legalref.judiciary.hk/lrs/common/ju/ju_frame.jsp?DIS=70973',\n",
       "  '(14/05/2010)',\n",
       "  'LAU SUK CHING PEGGY v. MA HING LAM AND OTHERS \\xa0Reported in :[2010] 3 HKLRD 247; (2010) 13 HKCFAR 226'),\n",
       " ('Final Appeal (Civil)',\n",
       "  '2008',\n",
       "  \"\\\\'https://legalref.judiciary.hk/lrs/images/ThemeXP/Epage.gif\\\\'\",\n",
       "  'FACV26/2008',\n",
       "  'https://legalref.judiciary.hk/lrs/common/ju/ju_frame.jsp?DIS=65722',\n",
       "  '(12/05/2009)',\n",
       "  'PING AN SECURITIES LTD v. 中國平安保險(集團)股份有限公司 \\xa0Reported in :(2009) 12 HKCFAR 808'),\n",
       " ('Final Appeal (Civil)',\n",
       "  '2008',\n",
       "  \"\\\\'https://legalref.judiciary.hk/lrs/images/ThemeXP/ETpage.gif\\\\'\",\n",
       "  'FACV27/2008',\n",
       "  'https://legalref.judiciary.hk/lrs/common/ju/ju_frame.jsp?DIS=64317',\n",
       "  '(13/02/2009)',\n",
       "  'PCCW - HKT TELEPHONE LTD AND ANOTHER v. DAVID MATTHEW MCDONALD AITKEN AND ANOTHER \\xa0Reported in :[2009] 2 HKLRD 274; (2009) 12 HKCFAR 114'),\n",
       " ('Final Appeal (Civil)',\n",
       "  '2008',\n",
       "  \"\\\\'https://legalref.judiciary.hk/lrs/images/ThemeXP/ETpage.gif\\\\'\",\n",
       "  'FACV28/2008',\n",
       "  'https://legalref.judiciary.hk/lrs/common/ju/ju_frame.jsp?DIS=64495',\n",
       "  '(24/02/2009)',\n",
       "  'AKAI HOLDINGS LTD (IN COMPULSORY LIQUIDATION) v. ERNST & YOUNG (A HONG KONG FIRM) \\xa0Reported in :(2009) 12 HKCFAR 649'),\n",
       " ('Final Appeal (Civil)',\n",
       "  '2008',\n",
       "  \"\\\\'https://legalref.judiciary.hk/lrs/images/ThemeXP/Epage.gif\\\\'\",\n",
       "  'FACV29/2008',\n",
       "  'https://legalref.judiciary.hk/lrs/common/ju/ju_frame.jsp?DIS=67698',\n",
       "  '(22/09/2009)',\n",
       "  'NGAI LIK ELECTRONICS CO LTD v. THE COMMISSIONER OF INLAND REVENUE \\xa0'),\n",
       " ('Final Appeal (Civil)',\n",
       "  '2008',\n",
       "  \"\\\\'https://legalref.judiciary.hk/lrs/images/ThemeXP/Epage.gif\\\\'\",\n",
       "  'FACV29/2008',\n",
       "  'https://legalref.judiciary.hk/lrs/common/ju/ju_frame.jsp?DIS=66785',\n",
       "  '(24/07/2009)',\n",
       "  'NGAI LIK ELECTRONICS CO LTD v. THE COMMISSIONER OF INLAND REVENUE \\xa0Reported in :[2009] 5 HKLRD 334; (2009) 12 HKCFAR 296'),\n",
       " ('Final Appeal (Civil)',\n",
       "  '2008',\n",
       "  \"\\\\'https://legalref.judiciary.hk/lrs/images/ThemeXP/Epage.gif\\\\'\",\n",
       "  'FACV30/2008',\n",
       "  'https://legalref.judiciary.hk/lrs/common/ju/ju_frame.jsp?DIS=69293',\n",
       "  '(12/01/2010)',\n",
       "  'DAVID JOHN KENNEDY v. KELLY CHENG AND ANOTHER \\xa0'),\n",
       " ('Final Appeal (Civil)',\n",
       "  '2008',\n",
       "  \"\\\\'https://legalref.judiciary.hk/lrs/images/ThemeXP/Epage.gif\\\\'\",\n",
       "  'FACV30/2008',\n",
       "  'https://legalref.judiciary.hk/lrs/common/ju/ju_frame.jsp?DIS=77606',\n",
       "  '(29/07/2011)',\n",
       "  'DAVID JOHN KENNEDY v. KELLY CHENG AND ANOTHER \\xa0Reported in :(2011) 14 HKCFAR 713'),\n",
       " ('Final Appeal (Civil)',\n",
       "  '2008',\n",
       "  \"\\\\'https://legalref.judiciary.hk/lrs/images/ThemeXP/Epage.gif\\\\'\",\n",
       "  'FACV30/2008',\n",
       "  'https://legalref.judiciary.hk/lrs/common/ju/ju_frame.jsp?DIS=83833',\n",
       "  '(12/10/2012)',\n",
       "  'DAVID JOHN KENNEDY v. KELLY CHENG AND ANOTHER \\xa0Reported in :(2012) 15 HKCFAR 657'),\n",
       " ('Final Appeal (Civil)',\n",
       "  '2008',\n",
       "  \"\\\\'https://legalref.judiciary.hk/lrs/images/ThemeXP/Epage.gif\\\\'\",\n",
       "  'FACV30/2008',\n",
       "  'https://legalref.judiciary.hk/lrs/common/ju/ju_frame.jsp?DIS=91593',\n",
       "  '(30/09/2013)',\n",
       "  'DAVID JOHN KENNEDY v. KELLY CHENG AND ANOTHER \\xa0'),\n",
       " ('Final Appeal (Civil)',\n",
       "  '2008',\n",
       "  \"\\\\'https://legalref.judiciary.hk/lrs/images/ThemeXP/ETpage.gif\\\\'\",\n",
       "  'FACV30/2008',\n",
       "  'https://legalref.judiciary.hk/lrs/common/ju/ju_frame.jsp?DIS=68094',\n",
       "  '(20/10/2009)',\n",
       "  'DAVID JOHN KENNEDY v. KELLY CHENG AND ANOTHER \\xa0Reported in :(2009) 12 HKCFAR 601'),\n",
       " ('Final Appeal (Civil)',\n",
       "  '2002',\n",
       "  \"\\\\'https://legalref.judiciary.hk/lrs/images/ThemeXP/Epage.gif\\\\'\",\n",
       "  'FACV1/2002',\n",
       "  'https://legalref.judiciary.hk/lrs/common/ju/ju_frame.jsp?DIS=22740',\n",
       "  '(30/07/2002)',\n",
       "  'COMMON LUCK INVESTMENT LTD. v. DIRECTOR OF LEGAL AID \\xa0Reported in :[2002] 3 HKLRD 81; (2002) 5 HKCFAR 467'),\n",
       " ('Final Appeal (Civil)',\n",
       "  '2002',\n",
       "  \"\\\\'https://legalref.judiciary.hk/lrs/images/ThemeXP/ETpage.gif\\\\'\",\n",
       "  'FACV2/2002',\n",
       "  'https://legalref.judiciary.hk/lrs/common/ju/ju_frame.jsp?DIS=35488',\n",
       "  '(17/01/2003)',\n",
       "  'DIRECTOR OF LANDS v. YIN SHUEN ENTERPRISES LTD. AND ANOTHER \\xa0Reported in :[2003] 2 HKLRD 399; (2003) 6 HKCFAR 1'),\n",
       " ('Final Appeal (Civil)',\n",
       "  '2002',\n",
       "  \"\\\\'https://legalref.judiciary.hk/lrs/images/ThemeXP/ETpage.gif\\\\'\",\n",
       "  'FACV3/2002',\n",
       "  'https://legalref.judiciary.hk/lrs/common/ju/ju_frame.jsp?DIS=35572',\n",
       "  '(17/01/2003)',\n",
       "  'DIRECTOR OF LANDS v. YIN SHUEN ENTERPRISES LTD. AND ANOTHER \\xa0Reported in :[2003] 2 HKLRD 399; (2003) 6 HKCFAR 1'),\n",
       " ('Final Appeal (Civil)',\n",
       "  '2002',\n",
       "  \"\\\\'https://legalref.judiciary.hk/lrs/images/ThemeXP/Epage.gif\\\\'\",\n",
       "  'FACV4/2002',\n",
       "  'https://legalref.judiciary.hk/lrs/common/ju/ju_frame.jsp?DIS=25406',\n",
       "  '(04/12/2002)',\n",
       "  'THE MING AN INSURANCE CO (HK) LTD v. THE RITZ-CARLTON LTD \\xa0Reported in :[2002] 3 HKLRD 844; (2002) 5 HKCFAR 569'),\n",
       " ('Final Appeal (Civil)',\n",
       "  '2002',\n",
       "  \"\\\\'https://legalref.judiciary.hk/lrs/images/ThemeXP/ETpage.gif\\\\'\",\n",
       "  'FACV5/2002',\n",
       "  'https://legalref.judiciary.hk/lrs/common/ju/ju_frame.jsp?DIS=34537',\n",
       "  '(05/03/2003)',\n",
       "  'NEXT MAGAZINE PUBLISHING LTD AND ANOTHER v. MA CHING FAT \\xa0Reported in :[2003] 1 HKLRD 751; (2003) 6 HKCFAR 63'),\n",
       " ('Final Appeal (Civil)',\n",
       "  '2002',\n",
       "  \"\\\\'https://legalref.judiciary.hk/lrs/images/ThemeXP/Epage.gif\\\\'\",\n",
       "  'FACV6/2002',\n",
       "  'https://legalref.judiciary.hk/lrs/common/ju/ju_frame.jsp?DIS=23793',\n",
       "  '(19/12/2002)',\n",
       "  \"CHINA EVERBRIGHT- IHD PACIFIC LTD. v. CH\\\\'NG POH \\xa0Reported in :(2002) 5 HKCFAR 630; [2003] 2 HKLRD 594\"),\n",
       " ('Final Appeal (Civil)',\n",
       "  '2002',\n",
       "  \"\\\\'https://legalref.judiciary.hk/lrs/images/ThemeXP/ETpage.gif\\\\'\",\n",
       "  'FACV7/2002',\n",
       "  'https://legalref.judiciary.hk/lrs/common/ju/ju_frame.jsp?DIS=26022',\n",
       "  '(11/02/2003)',\n",
       "  'PREM SINGH v. DIRECTOR OF IMMIGRATION \\xa0Reported in :(2003) 6 HKCFAR 26; [2003] 1 HKLRD 550'),\n",
       " ('Final Appeal (Civil)',\n",
       "  '2002',\n",
       "  \"\\\\'https://legalref.judiciary.hk/lrs/images/ThemeXP/Epage.gif\\\\'\",\n",
       "  'FACV8/2002',\n",
       "  'https://legalref.judiciary.hk/lrs/common/ju/ju_frame.jsp?DIS=35191',\n",
       "  '(05/12/2002)',\n",
       "  'COMMISSIONER OF CUSTOMS AND EXCISE v. BHAGWAN KANAYALAL CHANDIRAMANI \\xa0Reported in :[2002] 3 HKLRD 825; (2002) 5 HKCFAR 618'),\n",
       " ('Final Appeal (Civil)',\n",
       "  '2002',\n",
       "  \"\\\\'https://legalref.judiciary.hk/lrs/images/ThemeXP/Epage.gif\\\\'\",\n",
       "  'FACV9/2002',\n",
       "  'https://legalref.judiciary.hk/lrs/common/ju/ju_frame.jsp?DIS=40453',\n",
       "  '(15/06/2004)',\n",
       "  'KEEP POINT DEVELOPMENT LTD v. CHAN CHI YIM AND OTHERS \\xa0Reported in :[2005] 1 HKLRD 729; (2004) 7 HKCFAR 246'),\n",
       " ('Final Appeal (Civil)',\n",
       "  '2002',\n",
       "  \"\\\\'https://legalref.judiciary.hk/lrs/images/ThemeXP/Epage.gif\\\\'\",\n",
       "  'FACV9/2002',\n",
       "  'https://legalref.judiciary.hk/lrs/common/ju/ju_frame.jsp?DIS=35195',\n",
       "  '(11/04/2003)',\n",
       "  'KEEP POINT DEVELOPMENT LTD v. CHAN CHI YIM AND OTHERS \\xa0Reported in :[2003] 2 HKLRD 207; (2003) 6 HKCFAR 160'),\n",
       " ('Final Appeal (Civil)',\n",
       "  '2002',\n",
       "  \"\\\\'https://legalref.judiciary.hk/lrs/images/ThemeXP/Epage.gif\\\\'\",\n",
       "  'FACV10/2002',\n",
       "  'https://legalref.judiciary.hk/lrs/common/ju/ju_frame.jsp?DIS=40508',\n",
       "  '(15/06/2004)',\n",
       "  'KEEP POINT DEVELOPMENT LTD v. CHAN CHI YIM AND OTHERS \\xa0Reported in :[2005] 1 HKLRD 729; (2004) 7 HKCFAR 246'),\n",
       " ('Final Appeal (Civil)',\n",
       "  '2002',\n",
       "  \"\\\\'https://legalref.judiciary.hk/lrs/images/ThemeXP/Epage.gif\\\\'\",\n",
       "  'FACV10/2002',\n",
       "  'https://legalref.judiciary.hk/lrs/common/ju/ju_frame.jsp?DIS=37377',\n",
       "  '(11/04/2003)',\n",
       "  'KEEP POINT DEVELOPMENT LTD v. CHAN CHI YIM AND OTHERS \\xa0Reported in :[2003] 2 HKLRD 207; (2003) 6 HKCFAR 160'),\n",
       " ('Final Appeal (Civil)',\n",
       "  '2002',\n",
       "  \"\\\\'https://legalref.judiciary.hk/lrs/images/ThemeXP/Epage.gif\\\\'\",\n",
       "  'FACV11/2002',\n",
       "  'https://legalref.judiciary.hk/lrs/common/ju/ju_frame.jsp?DIS=35192',\n",
       "  '(05/12/2002)',\n",
       "  'MERCK SHARP & DOHME LTD v. THE REGISTRAR OF PATENTS \\xa0Reported in :[2002] 3 HKLRD 812; (2002) 5 HKCFAR 604'),\n",
       " ('Final Appeal (Civil)',\n",
       "  '2002',\n",
       "  \"\\\\'https://legalref.judiciary.hk/lrs/images/ThemeXP/ETpage.gif\\\\'\",\n",
       "  'FACV13/2002',\n",
       "  'https://legalref.judiciary.hk/lrs/common/ju/ju_frame.jsp?DIS=36000',\n",
       "  '(07/07/2003)',\n",
       "  'SWIRE PROPERTIES LTD AND OTHERS v. THE SECRETARY FOR JUSTICE \\xa0Reported in :[2003] 2 HKLRD 986; (2003) 6 HKCFAR 236'),\n",
       " ('Final Appeal (Civil)',\n",
       "  '2002',\n",
       "  \"\\\\'https://legalref.judiciary.hk/lrs/images/ThemeXP/Epage.gif\\\\'\",\n",
       "  'FACV14/2002',\n",
       "  'https://legalref.judiciary.hk/lrs/common/ju/ju_frame.jsp?DIS=24584',\n",
       "  '(05/08/2003)',\n",
       "  'WONG MAN YIN v. RICACORP PROPERTIES LTD AND OTHERS \\xa0Reported in :[2003] 3 HKLRD 75; (2003) 6 HKCFAR 265'),\n",
       " ('Final Appeal (Civil)',\n",
       "  '2002',\n",
       "  \"\\\\'https://legalref.judiciary.hk/lrs/images/ThemeXP/Epage.gif\\\\'\",\n",
       "  'FACV16/2002',\n",
       "  'https://legalref.judiciary.hk/lrs/common/ju/ju_frame.jsp?DIS=35976',\n",
       "  '(27/06/2003)',\n",
       "  'SANFIELD BUILDING CONTRACTORS LTD v. LI KAI CHEONG \\xa0Reported in :[2003] 3 HKLRD 48; (2003) 6 HKCFAR 207')]"
      ]
     },
     "execution_count": 21,
     "metadata": {},
     "output_type": "execute_result"
    }
   ],
   "source": [
    "def collect_data(length):\n",
    "    data_ = []\n",
    "    for i in range(length):\n",
    "        f = open(str(i)+'.pickle', 'rb')\n",
    "        one = pickle.load(f)\n",
    "        data_.extend(one)\n",
    "    return data_\n",
    "\n",
    "length = 11\n",
    "data_ = collect_data(length)\n",
    "data_"
   ]
  },
  {
   "cell_type": "code",
   "execution_count": 22,
   "metadata": {},
   "outputs": [
    {
     "name": "stdout",
     "output_type": "stream",
     "text": [
      "(356, 7)\n"
     ]
    },
    {
     "data": {
      "text/html": [
       "<div>\n",
       "<style scoped>\n",
       "    .dataframe tbody tr th:only-of-type {\n",
       "        vertical-align: middle;\n",
       "    }\n",
       "\n",
       "    .dataframe tbody tr th {\n",
       "        vertical-align: top;\n",
       "    }\n",
       "\n",
       "    .dataframe thead th {\n",
       "        text-align: right;\n",
       "    }\n",
       "</style>\n",
       "<table border=\"1\" class=\"dataframe\">\n",
       "  <thead>\n",
       "    <tr style=\"text-align: right;\">\n",
       "      <th></th>\n",
       "      <th>sub_court_cleared</th>\n",
       "      <th>year</th>\n",
       "      <th>outcome</th>\n",
       "      <th>name</th>\n",
       "      <th>detail_url</th>\n",
       "      <th>date</th>\n",
       "      <th>persons</th>\n",
       "    </tr>\n",
       "  </thead>\n",
       "  <tbody>\n",
       "    <tr>\n",
       "      <th>0</th>\n",
       "      <td>Final Appeal (Civil)</td>\n",
       "      <td>2011</td>\n",
       "      <td>\\'https://legalref.judiciary.hk/lrs/images/ThemeXP/Epage.gif\\'</td>\n",
       "      <td>FACV1/2011</td>\n",
       "      <td>https://legalref.judiciary.hk/lrs/common/ju/ju_frame.jsp?DIS=79800</td>\n",
       "      <td>(06/01/2012)</td>\n",
       "      <td>THE CATHOLIC DIOCESE OF HONG KONG ALSO KNOWN AS THE BISHOP OF THE ROMAN CATHOLIC CHURCH IN HONG KONG INCORPORATION  v. SECRETARY FOR JUSTICE</td>\n",
       "    </tr>\n",
       "    <tr>\n",
       "      <th>1</th>\n",
       "      <td>Final Appeal (Civil)</td>\n",
       "      <td>2011</td>\n",
       "      <td>\\'https://legalref.judiciary.hk/lrs/images/ThemeXP/Epage.gif\\'</td>\n",
       "      <td>FACV1/2011</td>\n",
       "      <td>https://legalref.judiciary.hk/lrs/common/ju/ju_frame.jsp?DIS=78563</td>\n",
       "      <td>(13/10/2011)</td>\n",
       "      <td>THE CATHOLIC DIOCESE OF HONG KONG ALSO KNOWN AS THE BISHOP OF THE ROMAN CATHOLIC CHURCH IN HONG KONG INCORPORATION v. SECRETARY FOR JUSTICE  Reported in :(2011) 14 HKCFAR 754</td>\n",
       "    </tr>\n",
       "    <tr>\n",
       "      <th>2</th>\n",
       "      <td>Final Appeal (Civil)</td>\n",
       "      <td>2011</td>\n",
       "      <td>\\'https://legalref.judiciary.hk/lrs/images/ThemeXP/ETpage.gif\\'</td>\n",
       "      <td>FACV2/2011</td>\n",
       "      <td>https://legalref.judiciary.hk/lrs/common/ju/ju_frame.jsp?DIS=79162</td>\n",
       "      <td>(23/11/2011)</td>\n",
       "      <td>WEALTH DUKE LTD AND OTHERS v. BANK OF CHINA (HONG KONG) LTD  Reported in :(2011) 14 HKCFAR 863</td>\n",
       "    </tr>\n",
       "  </tbody>\n",
       "</table>\n",
       "</div>"
      ],
      "text/plain": [
       "      sub_court_cleared  year  \\\n",
       "0  Final Appeal (Civil)  2011   \n",
       "1  Final Appeal (Civil)  2011   \n",
       "2  Final Appeal (Civil)  2011   \n",
       "\n",
       "                                                           outcome  \\\n",
       "0   \\'https://legalref.judiciary.hk/lrs/images/ThemeXP/Epage.gif\\'   \n",
       "1   \\'https://legalref.judiciary.hk/lrs/images/ThemeXP/Epage.gif\\'   \n",
       "2  \\'https://legalref.judiciary.hk/lrs/images/ThemeXP/ETpage.gif\\'   \n",
       "\n",
       "         name  \\\n",
       "0  FACV1/2011   \n",
       "1  FACV1/2011   \n",
       "2  FACV2/2011   \n",
       "\n",
       "                                                           detail_url  \\\n",
       "0  https://legalref.judiciary.hk/lrs/common/ju/ju_frame.jsp?DIS=79800   \n",
       "1  https://legalref.judiciary.hk/lrs/common/ju/ju_frame.jsp?DIS=78563   \n",
       "2  https://legalref.judiciary.hk/lrs/common/ju/ju_frame.jsp?DIS=79162   \n",
       "\n",
       "           date  \\\n",
       "0  (06/01/2012)   \n",
       "1  (13/10/2011)   \n",
       "2  (23/11/2011)   \n",
       "\n",
       "                                                                                                                                                                          persons  \n",
       "0                                  THE CATHOLIC DIOCESE OF HONG KONG ALSO KNOWN AS THE BISHOP OF THE ROMAN CATHOLIC CHURCH IN HONG KONG INCORPORATION  v. SECRETARY FOR JUSTICE    \n",
       "1  THE CATHOLIC DIOCESE OF HONG KONG ALSO KNOWN AS THE BISHOP OF THE ROMAN CATHOLIC CHURCH IN HONG KONG INCORPORATION v. SECRETARY FOR JUSTICE  Reported in :(2011) 14 HKCFAR 754  \n",
       "2                                                                                  WEALTH DUKE LTD AND OTHERS v. BANK OF CHINA (HONG KONG) LTD  Reported in :(2011) 14 HKCFAR 863  "
      ]
     },
     "execution_count": 22,
     "metadata": {},
     "output_type": "execute_result"
    }
   ],
   "source": [
    "def get_dataframe(data_):\n",
    "    df = pd.DataFrame(data_, columns=['sub_court_cleared', 'year', 'outcome', \\\n",
    "                                      'name', 'detail_url', 'date', 'persons'])\n",
    "    return df\n",
    "df_details = get_dataframe(data_)\n",
    "print(df_details.shape)\n",
    "df_details.head(3)"
   ]
  },
  {
   "cell_type": "code",
   "execution_count": null,
   "metadata": {},
   "outputs": [],
   "source": [
    "with open('detail.pickle', 'wb') as ww:\n",
    "    pickle.dump(df_detail, ww)"
   ]
  }
 ],
 "metadata": {
  "kernelspec": {
   "display_name": "Python 3",
   "language": "python",
   "name": "python3"
  },
  "language_info": {
   "codemirror_mode": {
    "name": "ipython",
    "version": 3
   },
   "file_extension": ".py",
   "mimetype": "text/x-python",
   "name": "python",
   "nbconvert_exporter": "python",
   "pygments_lexer": "ipython3",
   "version": "3.7.1"
  }
 },
 "nbformat": 4,
 "nbformat_minor": 2
}
